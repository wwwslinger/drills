{
 "cells": [
  {
   "cell_type": "markdown",
   "metadata": {},
   "source": [
    "# Validating regression models for prediction\n",
    "Statistical tests are useful for making sure a model is a good fit to the test data, and that all the features are useful to the model. However, to make sure a model has good predictive validity for new data, it is necessary to assess the performance of the model on new datasets.\n",
    "\n",
    "The procedure is the same as what you learned in the Naive Bayes lesson – the holdout method and cross-validation method are both available. You've already had experience writing code to run these kinds of validation models for Naive Bayes: now you can try it again with linear regression. In this case, your goal is to achieve a model with a consistent R2 and only statistically significant parameters across multiple samples.\n",
    "\n",
    "We'll use the property crime model you've been working on with, based on the FBI:UCR data. Since your model formulation to date has used the entire New York State 2013 dataset, you'll need to validate it using some of the other crime datasets available at the FBI:UCR website. Options include other states crime rates in 2013 or crime rates in New York State in other years or a combination of these.\n",
    "\n",
    "# Iterate\n",
    "Based on the results of your validation test, create a revised model, and then test both old and new models on a new holdout or set of folds.\n",
    "\n",
    "Include your model(s) and a brief writeup of the reasoning behind the validation method you chose and the changes you made to submit and review with your mentor."
   ]
  },
  {
   "cell_type": "markdown",
   "metadata": {},
   "source": [
    "# Load and clean data"
   ]
  },
  {
   "cell_type": "code",
   "execution_count": 113,
   "metadata": {},
   "outputs": [],
   "source": [
    "import pandas as pd\n",
    "import seaborn as sns\n",
    "from matplotlib import pyplot as plt\n",
    "import numpy as np\n",
    "import statsmodels.formula.api as smf\n",
    "from statsmodels.sandbox.regression.predstd import wls_prediction_std\n",
    "\n",
    "%matplotlib inline\n",
    "sns.set_style('white')"
   ]
  },
  {
   "cell_type": "code",
   "execution_count": 114,
   "metadata": {
    "scrolled": false
   },
   "outputs": [],
   "source": [
    "from clean import clean\n",
    "\n",
    "c2013_df = clean(pd.read_csv(\"NYC_2013_crime.csv\"))\n",
    "# 2014 data has an extra column \"Unnamed: 13\" full of NaNs; we'll drop it.\n",
    "c2014_df = clean(pd.read_csv(\"NYC_2014_crime.csv\").drop(\"Unnamed: 13\", axis=1))"
   ]
  },
  {
   "cell_type": "markdown",
   "metadata": {},
   "source": [
    "To confirm that the datasets are similar, I'll print out the percentage change in the statistics for each colummn."
   ]
  },
  {
   "cell_type": "code",
   "execution_count": 115,
   "metadata": {},
   "outputs": [
    {
     "name": "stdout",
     "output_type": "stream",
     "text": [
      "       Population  violent_crime    Murder   Robbery  agg_assault  prop_crime  \\\n",
      "count   -0.058140      -0.058140 -0.058140 -0.058140    -0.058140   -0.058140   \n",
      "mean     0.068316       0.061423  0.071381  0.081682     0.088971    0.150452   \n",
      "std      0.013047       0.032663  0.092162  0.041533     0.050897    0.077943   \n",
      "min      0.849810            NaN       NaN       NaN          NaN         NaN   \n",
      "25%      0.123607       0.500000       NaN       NaN     1.000000    0.365385   \n",
      "50%      0.093161       0.166667       NaN  0.000000     0.250000    0.327354   \n",
      "75%      0.149335       0.190476       NaN  0.200000     0.150943    0.209858   \n",
      "max     -0.004867       0.023490  0.047619 -0.015000     0.040230    0.110922   \n",
      "\n",
      "       Burglary   Larceny  mv_theft     Arson  \n",
      "count -0.058140 -0.058140 -0.058140 -0.058140  \n",
      "mean   0.201633  0.141396  0.101632 -0.681107  \n",
      "std    0.179848  0.049689  0.065357 -0.070309  \n",
      "min         NaN       NaN       NaN       NaN  \n",
      "25%    0.333333  0.354839       NaN       NaN  \n",
      "50%    0.294118  0.368984  0.000000       NaN  \n",
      "75%    0.240000  0.227768  0.142857      -inf  \n",
      "max    0.211679  0.072592  0.073604  0.000000  \n"
     ]
    }
   ],
   "source": [
    "print( (c2013_df.describe() - c2014_df.describe()) / c2013_df.describe() )"
   ]
  },
  {
   "cell_type": "markdown",
   "metadata": {},
   "source": [
    "Looking at the percentage changes in the means of the columns above, we can see that all of these changes look small and feasible exxcept for the 68% drop in arson.  Given the likelihood that this represents a difference in reporting, we'll drop the arson column.  Otherwise, the data all looks similar, so we'll go ahead and combine the two years for a larger dataset."
   ]
  },
  {
   "cell_type": "code",
   "execution_count": 83,
   "metadata": {
    "scrolled": false
   },
   "outputs": [
    {
     "data": {
      "text/html": [
       "<div>\n",
       "<style scoped>\n",
       "    .dataframe tbody tr th:only-of-type {\n",
       "        vertical-align: middle;\n",
       "    }\n",
       "\n",
       "    .dataframe tbody tr th {\n",
       "        vertical-align: top;\n",
       "    }\n",
       "\n",
       "    .dataframe thead th {\n",
       "        text-align: right;\n",
       "    }\n",
       "</style>\n",
       "<table border=\"1\" class=\"dataframe\">\n",
       "  <thead>\n",
       "    <tr style=\"text-align: right;\">\n",
       "      <th></th>\n",
       "      <th>City</th>\n",
       "      <th>Population</th>\n",
       "      <th>violent_crime</th>\n",
       "      <th>Murder</th>\n",
       "      <th>Robbery</th>\n",
       "      <th>agg_assault</th>\n",
       "      <th>prop_crime</th>\n",
       "      <th>Burglary</th>\n",
       "      <th>Larceny</th>\n",
       "      <th>mv_theft</th>\n",
       "      <th>Year</th>\n",
       "    </tr>\n",
       "  </thead>\n",
       "  <tbody>\n",
       "    <tr>\n",
       "      <th>0</th>\n",
       "      <td>Adams Village</td>\n",
       "      <td>1861</td>\n",
       "      <td>0</td>\n",
       "      <td>0</td>\n",
       "      <td>0</td>\n",
       "      <td>0</td>\n",
       "      <td>12</td>\n",
       "      <td>2</td>\n",
       "      <td>10</td>\n",
       "      <td>0</td>\n",
       "      <td>2013</td>\n",
       "    </tr>\n",
       "    <tr>\n",
       "      <th>0</th>\n",
       "      <td>Adams Village</td>\n",
       "      <td>1851</td>\n",
       "      <td>0</td>\n",
       "      <td>0</td>\n",
       "      <td>0</td>\n",
       "      <td>0</td>\n",
       "      <td>11</td>\n",
       "      <td>1</td>\n",
       "      <td>10</td>\n",
       "      <td>0</td>\n",
       "      <td>2014</td>\n",
       "    </tr>\n",
       "    <tr>\n",
       "      <th>1</th>\n",
       "      <td>Addison Town and Village</td>\n",
       "      <td>2568</td>\n",
       "      <td>2</td>\n",
       "      <td>0</td>\n",
       "      <td>1</td>\n",
       "      <td>1</td>\n",
       "      <td>49</td>\n",
       "      <td>1</td>\n",
       "      <td>47</td>\n",
       "      <td>1</td>\n",
       "      <td>2014</td>\n",
       "    </tr>\n",
       "    <tr>\n",
       "      <th>1</th>\n",
       "      <td>Addison Town and Village</td>\n",
       "      <td>2577</td>\n",
       "      <td>3</td>\n",
       "      <td>0</td>\n",
       "      <td>0</td>\n",
       "      <td>3</td>\n",
       "      <td>24</td>\n",
       "      <td>3</td>\n",
       "      <td>20</td>\n",
       "      <td>1</td>\n",
       "      <td>2013</td>\n",
       "    </tr>\n",
       "    <tr>\n",
       "      <th>2</th>\n",
       "      <td>Afton Village4</td>\n",
       "      <td>820</td>\n",
       "      <td>0</td>\n",
       "      <td>0</td>\n",
       "      <td>0</td>\n",
       "      <td>0</td>\n",
       "      <td>1</td>\n",
       "      <td>0</td>\n",
       "      <td>1</td>\n",
       "      <td>0</td>\n",
       "      <td>2014</td>\n",
       "    </tr>\n",
       "  </tbody>\n",
       "</table>\n",
       "</div>"
      ],
      "text/plain": [
       "                       City  Population  violent_crime  Murder  Robbery  \\\n",
       "0             Adams Village        1861              0       0        0   \n",
       "0             Adams Village        1851              0       0        0   \n",
       "1  Addison Town and Village        2568              2       0        1   \n",
       "1  Addison Town and Village        2577              3       0        0   \n",
       "2            Afton Village4         820              0       0        0   \n",
       "\n",
       "   agg_assault  prop_crime  Burglary  Larceny  mv_theft  Year  \n",
       "0            0          12         2       10         0  2013  \n",
       "0            0          11         1       10         0  2014  \n",
       "1            1          49         1       47         1  2014  \n",
       "1            3          24         3       20         1  2013  \n",
       "2            0           1         0        1         0  2014  "
      ]
     },
     "execution_count": 83,
     "metadata": {},
     "output_type": "execute_result"
    }
   ],
   "source": [
    "c2013_df[\"Year\"] = 2013\n",
    "c2014_df[\"Year\"] = 2014\n",
    "crime_df = c2013_df.append(c2014_df)\n",
    "crime_df.drop(\"Arson\", axis=1, inplace=True)\n",
    "crime_df.sort_values(\"City\").head()"
   ]
  },
  {
   "cell_type": "markdown",
   "metadata": {},
   "source": [
    "# Running the model"
   ]
  },
  {
   "cell_type": "markdown",
   "metadata": {},
   "source": [
    "In my previous model, I predicted violent crime rates from the population and the specific nonviolent crime statistics of burglary, larceny, and motor vehicle theft.  The model yielded an r-score of just over .8, and relied primarily on motor vehicle theft and secondarily on burglary to generate this prediction.\n",
    "\n",
    "To begin here, I'll run the model as it was."
   ]
  },
  {
   "cell_type": "code",
   "execution_count": 127,
   "metadata": {},
   "outputs": [],
   "source": [
    "# randomly select 30% of rows as CV set\n",
    "from sklearn.model_selection import train_test_split\n",
    "y = crime_df[\"violent_crime\"]\n",
    "X_train, X_cv, y_train, y_cv = train_test_split(crime_df[[\"Population\",\"Burglary\",\"Larceny\",\"mv_theft\"]], y, test_size=0.3)"
   ]
  },
  {
   "cell_type": "code",
   "execution_count": 129,
   "metadata": {},
   "outputs": [
    {
     "name": "stdout",
     "output_type": "stream",
     "text": [
      "0.8668017641453997\n",
      "[-1.48583086e-04  4.06881365e-01 -5.61832796e-03  2.01515689e+00]\n"
     ]
    }
   ],
   "source": [
    "# run the model repeatedly to generate typical outcome regardless of random data division (because dataset is small)\n",
    "def regtest(crime_df):\n",
    "    # randomly select 30% of rows as CV\n",
    "    y = crime_df[\"violent_crime\"]\n",
    "    X_train, X_cv, y_train, y_cv = train_test_split(crime_df[[\"Population\",\"Burglary\",\"Larceny\",\"mv_theft\"]], y, test_size=0.3)\n",
    "    X_train.head()\n",
    "\n",
    "    from sklearn import linear_model\n",
    "    rModel = linear_model.LinearRegression()\n",
    "    rModel.fit(X_train, y_train)\n",
    "    return rModel.coef_, rModel.score(X_cv, y_cv)\n",
    "\n",
    "rcoefs = []\n",
    "rscores = []\n",
    "for i in range(200):\n",
    "    coef, score = regtest(crime_df)\n",
    "    rscores.append(score)\n",
    "    rcoefs.append(coef)\n",
    "print(sum(rscores)/len(rscores))\n",
    "print(sum(rcoefs)/len(rcoefs))"
   ]
  },
  {
   "cell_type": "markdown",
   "metadata": {},
   "source": [
    "This R-squared value already represents a roughly .5 improvement on the previous outcomes, simply because I have twice the data to work with.\n",
    "\n",
    "We can also eliminate population and get basically the same R-value:"
   ]
  },
  {
   "cell_type": "code",
   "execution_count": 130,
   "metadata": {},
   "outputs": [
    {
     "name": "stdout",
     "output_type": "stream",
     "text": [
      "0.8648139938255555\n",
      "[ 0.40011015 -0.009714    1.98745989]\n"
     ]
    }
   ],
   "source": [
    "# run the model repeatedly to generate typical outcome regardless of random data division (because dataset is small)\n",
    "def regtest(crime_df):\n",
    "    # randomly select 30% of rows as CV\n",
    "    y = crime_df[\"violent_crime\"]\n",
    "    X_train, X_cv, y_train, y_cv = train_test_split(crime_df[[\"Burglary\",\"Larceny\",\"mv_theft\"]], y, test_size=0.3)\n",
    "    X_train.head()\n",
    "\n",
    "    from sklearn import linear_model\n",
    "    rModel = linear_model.LinearRegression()\n",
    "    rModel.fit(X_train, y_train)\n",
    "    return rModel.coef_, rModel.score(X_cv, y_cv)\n",
    "\n",
    "rcoefs = []\n",
    "rscores = []\n",
    "for i in range(200):\n",
    "    coef, score = regtest(crime_df)\n",
    "    rscores.append(score)\n",
    "    rcoefs.append(coef)\n",
    "print(sum(rscores)/len(rscores))\n",
    "print(sum(rcoefs)/len(rcoefs))"
   ]
  },
  {
   "cell_type": "markdown",
   "metadata": {},
   "source": [
    "Now let's try testing this model with an F-test and the features with individual t-tests. "
   ]
  },
  {
   "cell_type": "code",
   "execution_count": null,
   "metadata": {},
   "outputs": [],
   "source": [
    "import statsmodels.formula.api as smf\n",
    "from statsmodels.sandbox.regression.predstd import wls_prediction_std\n",
    "\n"
   ]
  },
  {
   "cell_type": "code",
   "execution_count": 107,
   "metadata": {},
   "outputs": [
    {
     "name": "stdout",
     "output_type": "stream",
     "text": [
      "[ 443.01389889 3195.58656698  866.84309624 2996.40436816]\n",
      "[1.20903013e-070 1.38706327e-217 1.08230379e-110 1.22123047e-211]\n",
      "**********\n",
      "[ 29.01086101 274.87736369  63.95856581 212.9793068 ]\n",
      "[2.05453426e-132 9.31429253e-314 4.21428771e-193 3.22957546e-292]\n"
     ]
    }
   ],
   "source": [
    "from sklearn.feature_selection import f_regression, f_classif\n",
    "for arr in f_regression(X_train, y_train):\n",
    "    print(arr)\n",
    "print(\"**********\")\n",
    "for arr in f_classif(X_train, y_train):\n",
    "    print(arr)\n",
    "# Why are these two different???\n",
    "\n",
    "# http://scikit-learn.org/stable/modules/generated/sklearn.feature_selection.f_classif.html\n",
    "# http://scikit-learn.org/stable/modules/generated/sklearn.feature_selection.f_regression.html#sklearn.feature_selection.f_regression"
   ]
  },
  {
   "cell_type": "code",
   "execution_count": 109,
   "metadata": {},
   "outputs": [
    {
     "name": "stderr",
     "output_type": "stream",
     "text": [
      "/usr/local/lib/python3.6/site-packages/statsmodels/compat/pandas.py:56: FutureWarning: The pandas.core.datetools module is deprecated and will be removed in a future version. Please use the pandas.tseries module instead.\n",
      "  from pandas.core import datetools\n"
     ]
    },
    {
     "name": "stdout",
     "output_type": "stream",
     "text": [
      "                            OLS Regression Results                            \n",
      "==============================================================================\n",
      "Dep. Variable:          violent_crime   R-squared:                       0.902\n",
      "Model:                            OLS   Adj. R-squared:                  0.901\n",
      "Method:                 Least Squares   F-statistic:                     1618.\n",
      "Date:                Mon, 14 May 2018   Prob (F-statistic):               0.00\n",
      "Time:                        17:14:54   Log-Likelihood:                -3470.2\n",
      "No. Observations:                 708   AIC:                             6950.\n",
      "Df Residuals:                     703   BIC:                             6973.\n",
      "Df Model:                           4                                         \n",
      "Covariance Type:            nonrobust                                         \n",
      "==============================================================================\n",
      "                 coef    std err          t      P>|t|      [0.025      0.975]\n",
      "------------------------------------------------------------------------------\n",
      "Intercept     -2.2202      1.589     -1.397      0.163      -5.341       0.900\n",
      "Population    -0.0001      0.000     -0.897      0.370      -0.000       0.000\n",
      "Burglary       0.3874      0.037     10.594      0.000       0.316       0.459\n",
      "Larceny       -0.0024      0.009     -0.267      0.789      -0.020       0.015\n",
      "mv_theft       1.9946      0.131     15.267      0.000       1.738       2.251\n",
      "==============================================================================\n",
      "Omnibus:                      590.760   Durbin-Watson:                   2.003\n",
      "Prob(Omnibus):                  0.000   Jarque-Bera (JB):            39252.215\n",
      "Skew:                           3.241   Prob(JB):                         0.00\n",
      "Kurtosis:                      38.897   Cond. No.                     3.00e+04\n",
      "==============================================================================\n",
      "\n",
      "Warnings:\n",
      "[1] Standard Errors assume that the covariance matrix of the errors is correctly specified.\n",
      "[2] The condition number is large,  3e+04. This might indicate that there are\n",
      "strong multicollinearity or other numerical problems.\n"
     ]
    }
   ],
   "source": [
    "import statsmodels.api as sm\n",
    "import statsmodels.formula.api as smf\n",
    "formula = 'violent_crime ~ Population + Burglary + Larceny + mv_theft'\n",
    "results = smf.ols(formula, data=crime_df).fit()\n",
    "print(results.summary())"
   ]
  },
  {
   "cell_type": "code",
   "execution_count": 112,
   "metadata": {},
   "outputs": [
    {
     "name": "stdout",
     "output_type": "stream",
     "text": [
      "                            OLS Regression Results                            \n",
      "==============================================================================\n",
      "Dep. Variable:          violent_crime   R-squared:                       0.760\n",
      "Model:                            OLS   Adj. R-squared:                  0.758\n",
      "Method:                 Least Squares   F-statistic:                     555.4\n",
      "Date:                Mon, 14 May 2018   Prob (F-statistic):          6.53e-216\n",
      "Time:                        17:40:36   Log-Likelihood:                -3788.0\n",
      "No. Observations:                 708   AIC:                             7586.\n",
      "Df Residuals:                     703   BIC:                             7609.\n",
      "Df Model:                           4                                         \n",
      "Covariance Type:            nonrobust                                         \n",
      "==============================================================================\n",
      "                 coef    std err          t      P>|t|      [0.025      0.975]\n",
      "------------------------------------------------------------------------------\n",
      "Intercept    -26.6824      4.017     -6.642      0.000     -34.570     -18.795\n",
      "pop2          -0.3098      0.070     -4.442      0.000      -0.447      -0.173\n",
      "burg2         17.9789      1.226     14.666      0.000      15.572      20.386\n",
      "larceny2      -4.5544      0.621     -7.329      0.000      -5.774      -3.334\n",
      "mv2           27.2458      1.921     14.184      0.000      23.474      31.017\n",
      "==============================================================================\n",
      "Omnibus:                      409.173   Durbin-Watson:                   1.993\n",
      "Prob(Omnibus):                  0.000   Jarque-Bera (JB):             9335.854\n",
      "Skew:                           2.122   Prob(JB):                         0.00\n",
      "Kurtosis:                      20.276   Cond. No.                         251.\n",
      "==============================================================================\n",
      "\n",
      "Warnings:\n",
      "[1] Standard Errors assume that the covariance matrix of the errors is correctly specified.\n"
     ]
    }
   ],
   "source": [
    "crime_df[\"pop2\"] = crime_df[\"Population\"]**.5\n",
    "crime_df[\"burg2\"] = crime_df[\"Burglary\"]**.5\n",
    "crime_df[\"larceny2\"] = crime_df[\"Larceny\"]**.5\n",
    "crime_df[\"mv2\"] = crime_df[\"mv_theft\"]**.5\n",
    "\n",
    "formula = 'violent_crime ~ pop2 + burg2 + larceny2 + mv2'\n",
    "results2 = smf.ols(formula, data=crime_df).fit()\n",
    "print(results2.summary())"
   ]
  },
  {
   "cell_type": "code",
   "execution_count": 131,
   "metadata": {},
   "outputs": [
    {
     "name": "stdout",
     "output_type": "stream",
     "text": [
      "                            OLS Regression Results                            \n",
      "==============================================================================\n",
      "Dep. Variable:          violent_crime   R-squared:                       0.902\n",
      "Model:                            OLS   Adj. R-squared:                  0.901\n",
      "Method:                 Least Squares   F-statistic:                     1618.\n",
      "Date:                Tue, 15 May 2018   Prob (F-statistic):               0.00\n",
      "Time:                        10:33:35   Log-Likelihood:                -3470.2\n",
      "No. Observations:                 708   AIC:                             6950.\n",
      "Df Residuals:                     703   BIC:                             6973.\n",
      "Df Model:                           4                                         \n",
      "Covariance Type:            nonrobust                                         \n",
      "==============================================================================\n",
      "                 coef    std err          t      P>|t|      [0.025      0.975]\n",
      "------------------------------------------------------------------------------\n",
      "Intercept     -2.2202      1.589     -1.397      0.163      -5.341       0.900\n",
      "Population    -0.0001      0.000     -0.897      0.370      -0.000       0.000\n",
      "Burglary       0.3874      0.037     10.594      0.000       0.316       0.459\n",
      "Larceny       -0.0024      0.009     -0.267      0.789      -0.020       0.015\n",
      "mv_theft       1.9946      0.131     15.267      0.000       1.738       2.251\n",
      "==============================================================================\n",
      "Omnibus:                      590.760   Durbin-Watson:                   2.003\n",
      "Prob(Omnibus):                  0.000   Jarque-Bera (JB):            39252.215\n",
      "Skew:                           3.241   Prob(JB):                         0.00\n",
      "Kurtosis:                      38.897   Cond. No.                     3.00e+04\n",
      "==============================================================================\n",
      "\n",
      "Warnings:\n",
      "[1] Standard Errors assume that the covariance matrix of the errors is correctly specified.\n",
      "[2] The condition number is large,  3e+04. This might indicate that there are\n",
      "strong multicollinearity or other numerical problems.\n"
     ]
    }
   ],
   "source": [
    "formula = 'violent_crime ~ Population + Burglary + Larceny + mv_theft'\n",
    "results3 = smf.ols(formula, data=crime_df).fit()\n",
    "print(results3.summary())"
   ]
  },
  {
   "cell_type": "code",
   "execution_count": null,
   "metadata": {},
   "outputs": [],
   "source": [
    "'''\n",
    "What I'm doing now:\n",
    "1) copy over my Predicting Violent Crime model from 4.4\n",
    "2) translate it into stats-models\n",
    "3) evaluate it with f-score and p-vals.  Consider checking resid counts / homoscedacity/ collinearity too (4.2)\n",
    "4) tweak as necessary\n",
    "'''"
   ]
  }
 ],
 "metadata": {
  "kernelspec": {
   "display_name": "Python 3",
   "language": "python",
   "name": "python3"
  },
  "language_info": {
   "codemirror_mode": {
    "name": "ipython",
    "version": 3
   },
   "file_extension": ".py",
   "mimetype": "text/x-python",
   "name": "python",
   "nbconvert_exporter": "python",
   "pygments_lexer": "ipython3",
   "version": "3.6.4"
  }
 },
 "nbformat": 4,
 "nbformat_minor": 2
}
