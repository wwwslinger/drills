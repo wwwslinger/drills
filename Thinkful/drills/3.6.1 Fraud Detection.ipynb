{
 "cells": [
  {
   "cell_type": "code",
   "execution_count": 1,
   "metadata": {},
   "outputs": [],
   "source": [
    "import pandas as pd\n",
    "import numpy as np\n",
    "import scipy as sp\n",
    "import matplotlib.pyplot as plt\n",
    "import seaborn as sns\n",
    "import random\n",
    "random.seed(11)\n",
    "sns.set()\n",
    "%matplotlib inline"
   ]
  },
  {
   "cell_type": "markdown",
   "metadata": {},
   "source": [
    "# Introduction\n",
    "In this notebook, I'll be be using a database of credit card transactions to build an accurate predictor of whether a transaction is fraudulent.  The dataset, downloaded from Kaggle, is described in detail below.\n",
    "\n",
    "Thinkful's instructions: \"Using this credit card fraud dataset develop an algorithm to predict fraud. Prioritize correctly finding fraud rather than correctly labeling non-fraudulent transactions.\"  In light of this, my best metric will be the F1-score, since it doesn't take the number of true negatives into account (whereas an evenly balanced metric like the Matthews Coefficient does).\n",
    "\n",
    "\n",
    "# About the data\n",
    "\n",
    "From Kaggle:\n",
    "\n",
    "\"The dataset contains transactions made by credit cards in September 2013 by european cardholders. This dataset presents transactions that occurred in two days, where we have 492 frauds out of 284,807 transactions. The dataset is highly unbalanced, the positive class (frauds) account for 0.172% of all transactions.\n",
    "\n",
    "\"It contains only numerical input variables which are the result of a PCA transformation. Unfortunately, due to confidentiality issues, we cannot provide the original features and more background information about the data. Features V1, V2, ... V28 are the principal components obtained with PCA, the only features which have not been transformed with PCA are 'Time' and 'Amount'. Feature 'Time' contains the seconds elapsed between each transaction and the first transaction in the dataset. The feature 'Amount' is the transaction Amount, this feature can be used for example-dependant cost-senstive learning. Feature 'Class' is the response variable and it takes value 1 in case of fraud and 0 otherwise.\"\n",
    "\n",
    "It's particularly noteworthy that the dataset does not include an identity feature (so that pattern analysis could be personalized to each user).  The source does not specify whether this was included in the raw data (before PCA) or whether a version of PCA was used that could include a categorical variable of that nature.\n",
    "\n",
    "# Methods\n",
    "\n",
    "To begin with, I'll try a few general classifiers out of the box: logistic regression, random forest, and gradient boost.  Then I'll try adding the results of a couple anomaly detection algorithms as features.  Finally, I'll take the most promising model and optimize it over the complete dataset (including the anomaly flags.)\n",
    "\n",
    "Because the data is already a aset of Principal Components (except for Amount and Time), there's no real opportunity for feature engineering, so my experimentations here will all be algorithmic."
   ]
  },
  {
   "cell_type": "markdown",
   "metadata": {},
   "source": [
    "# Load and examine"
   ]
  },
  {
   "cell_type": "code",
   "execution_count": 2,
   "metadata": {
    "scrolled": true
   },
   "outputs": [],
   "source": [
    "credit_df = pd.read_csv(\"practice/creditcard.csv\")"
   ]
  },
  {
   "cell_type": "code",
   "execution_count": 3,
   "metadata": {
    "scrolled": true
   },
   "outputs": [
    {
     "name": "stdout",
     "output_type": "stream",
     "text": [
      "(284807, 31)\n"
     ]
    },
    {
     "data": {
      "text/html": [
       "<div>\n",
       "<style scoped>\n",
       "    .dataframe tbody tr th:only-of-type {\n",
       "        vertical-align: middle;\n",
       "    }\n",
       "\n",
       "    .dataframe tbody tr th {\n",
       "        vertical-align: top;\n",
       "    }\n",
       "\n",
       "    .dataframe thead th {\n",
       "        text-align: right;\n",
       "    }\n",
       "</style>\n",
       "<table border=\"1\" class=\"dataframe\">\n",
       "  <thead>\n",
       "    <tr style=\"text-align: right;\">\n",
       "      <th></th>\n",
       "      <th>Time</th>\n",
       "      <th>V1</th>\n",
       "      <th>V2</th>\n",
       "      <th>V3</th>\n",
       "      <th>V4</th>\n",
       "      <th>V5</th>\n",
       "      <th>V6</th>\n",
       "      <th>V7</th>\n",
       "      <th>V8</th>\n",
       "      <th>V9</th>\n",
       "      <th>...</th>\n",
       "      <th>V21</th>\n",
       "      <th>V22</th>\n",
       "      <th>V23</th>\n",
       "      <th>V24</th>\n",
       "      <th>V25</th>\n",
       "      <th>V26</th>\n",
       "      <th>V27</th>\n",
       "      <th>V28</th>\n",
       "      <th>Amount</th>\n",
       "      <th>Class</th>\n",
       "    </tr>\n",
       "  </thead>\n",
       "  <tbody>\n",
       "    <tr>\n",
       "      <th>0</th>\n",
       "      <td>0.0</td>\n",
       "      <td>-1.359807</td>\n",
       "      <td>-0.072781</td>\n",
       "      <td>2.536347</td>\n",
       "      <td>1.378155</td>\n",
       "      <td>-0.338321</td>\n",
       "      <td>0.462388</td>\n",
       "      <td>0.239599</td>\n",
       "      <td>0.098698</td>\n",
       "      <td>0.363787</td>\n",
       "      <td>...</td>\n",
       "      <td>-0.018307</td>\n",
       "      <td>0.277838</td>\n",
       "      <td>-0.110474</td>\n",
       "      <td>0.066928</td>\n",
       "      <td>0.128539</td>\n",
       "      <td>-0.189115</td>\n",
       "      <td>0.133558</td>\n",
       "      <td>-0.021053</td>\n",
       "      <td>149.62</td>\n",
       "      <td>0</td>\n",
       "    </tr>\n",
       "    <tr>\n",
       "      <th>1</th>\n",
       "      <td>0.0</td>\n",
       "      <td>1.191857</td>\n",
       "      <td>0.266151</td>\n",
       "      <td>0.166480</td>\n",
       "      <td>0.448154</td>\n",
       "      <td>0.060018</td>\n",
       "      <td>-0.082361</td>\n",
       "      <td>-0.078803</td>\n",
       "      <td>0.085102</td>\n",
       "      <td>-0.255425</td>\n",
       "      <td>...</td>\n",
       "      <td>-0.225775</td>\n",
       "      <td>-0.638672</td>\n",
       "      <td>0.101288</td>\n",
       "      <td>-0.339846</td>\n",
       "      <td>0.167170</td>\n",
       "      <td>0.125895</td>\n",
       "      <td>-0.008983</td>\n",
       "      <td>0.014724</td>\n",
       "      <td>2.69</td>\n",
       "      <td>0</td>\n",
       "    </tr>\n",
       "    <tr>\n",
       "      <th>2</th>\n",
       "      <td>1.0</td>\n",
       "      <td>-1.358354</td>\n",
       "      <td>-1.340163</td>\n",
       "      <td>1.773209</td>\n",
       "      <td>0.379780</td>\n",
       "      <td>-0.503198</td>\n",
       "      <td>1.800499</td>\n",
       "      <td>0.791461</td>\n",
       "      <td>0.247676</td>\n",
       "      <td>-1.514654</td>\n",
       "      <td>...</td>\n",
       "      <td>0.247998</td>\n",
       "      <td>0.771679</td>\n",
       "      <td>0.909412</td>\n",
       "      <td>-0.689281</td>\n",
       "      <td>-0.327642</td>\n",
       "      <td>-0.139097</td>\n",
       "      <td>-0.055353</td>\n",
       "      <td>-0.059752</td>\n",
       "      <td>378.66</td>\n",
       "      <td>0</td>\n",
       "    </tr>\n",
       "    <tr>\n",
       "      <th>3</th>\n",
       "      <td>1.0</td>\n",
       "      <td>-0.966272</td>\n",
       "      <td>-0.185226</td>\n",
       "      <td>1.792993</td>\n",
       "      <td>-0.863291</td>\n",
       "      <td>-0.010309</td>\n",
       "      <td>1.247203</td>\n",
       "      <td>0.237609</td>\n",
       "      <td>0.377436</td>\n",
       "      <td>-1.387024</td>\n",
       "      <td>...</td>\n",
       "      <td>-0.108300</td>\n",
       "      <td>0.005274</td>\n",
       "      <td>-0.190321</td>\n",
       "      <td>-1.175575</td>\n",
       "      <td>0.647376</td>\n",
       "      <td>-0.221929</td>\n",
       "      <td>0.062723</td>\n",
       "      <td>0.061458</td>\n",
       "      <td>123.50</td>\n",
       "      <td>0</td>\n",
       "    </tr>\n",
       "    <tr>\n",
       "      <th>4</th>\n",
       "      <td>2.0</td>\n",
       "      <td>-1.158233</td>\n",
       "      <td>0.877737</td>\n",
       "      <td>1.548718</td>\n",
       "      <td>0.403034</td>\n",
       "      <td>-0.407193</td>\n",
       "      <td>0.095921</td>\n",
       "      <td>0.592941</td>\n",
       "      <td>-0.270533</td>\n",
       "      <td>0.817739</td>\n",
       "      <td>...</td>\n",
       "      <td>-0.009431</td>\n",
       "      <td>0.798278</td>\n",
       "      <td>-0.137458</td>\n",
       "      <td>0.141267</td>\n",
       "      <td>-0.206010</td>\n",
       "      <td>0.502292</td>\n",
       "      <td>0.219422</td>\n",
       "      <td>0.215153</td>\n",
       "      <td>69.99</td>\n",
       "      <td>0</td>\n",
       "    </tr>\n",
       "  </tbody>\n",
       "</table>\n",
       "<p>5 rows × 31 columns</p>\n",
       "</div>"
      ],
      "text/plain": [
       "   Time        V1        V2        V3        V4        V5        V6        V7  \\\n",
       "0   0.0 -1.359807 -0.072781  2.536347  1.378155 -0.338321  0.462388  0.239599   \n",
       "1   0.0  1.191857  0.266151  0.166480  0.448154  0.060018 -0.082361 -0.078803   \n",
       "2   1.0 -1.358354 -1.340163  1.773209  0.379780 -0.503198  1.800499  0.791461   \n",
       "3   1.0 -0.966272 -0.185226  1.792993 -0.863291 -0.010309  1.247203  0.237609   \n",
       "4   2.0 -1.158233  0.877737  1.548718  0.403034 -0.407193  0.095921  0.592941   \n",
       "\n",
       "         V8        V9  ...         V21       V22       V23       V24  \\\n",
       "0  0.098698  0.363787  ...   -0.018307  0.277838 -0.110474  0.066928   \n",
       "1  0.085102 -0.255425  ...   -0.225775 -0.638672  0.101288 -0.339846   \n",
       "2  0.247676 -1.514654  ...    0.247998  0.771679  0.909412 -0.689281   \n",
       "3  0.377436 -1.387024  ...   -0.108300  0.005274 -0.190321 -1.175575   \n",
       "4 -0.270533  0.817739  ...   -0.009431  0.798278 -0.137458  0.141267   \n",
       "\n",
       "        V25       V26       V27       V28  Amount  Class  \n",
       "0  0.128539 -0.189115  0.133558 -0.021053  149.62      0  \n",
       "1  0.167170  0.125895 -0.008983  0.014724    2.69      0  \n",
       "2 -0.327642 -0.139097 -0.055353 -0.059752  378.66      0  \n",
       "3  0.647376 -0.221929  0.062723  0.061458  123.50      0  \n",
       "4 -0.206010  0.502292  0.219422  0.215153   69.99      0  \n",
       "\n",
       "[5 rows x 31 columns]"
      ]
     },
     "execution_count": 3,
     "metadata": {},
     "output_type": "execute_result"
    }
   ],
   "source": [
    "print(credit_df.shape)\n",
    "credit_df.head()"
   ]
  },
  {
   "cell_type": "code",
   "execution_count": 4,
   "metadata": {},
   "outputs": [
    {
     "data": {
      "text/plain": [
       "0"
      ]
     },
     "execution_count": 4,
     "metadata": {},
     "output_type": "execute_result"
    }
   ],
   "source": [
    "credit_df.isnull().sum().sum()"
   ]
  },
  {
   "cell_type": "code",
   "execution_count": 47,
   "metadata": {
    "scrolled": false
   },
   "outputs": [
    {
     "name": "stdout",
     "output_type": "stream",
     "text": [
      "Mean transaction amount (Euros):  88.35\n",
      "Median transaction amount (Euros):  22.0\n"
     ]
    },
    {
     "data": {
      "image/png": "[encoded data removed]",
      "text/plain": [
       "<matplotlib.figure.Figure at 0x12050d470>"
      ]
     },
     "metadata": {},
     "output_type": "display_data"
    }
   ],
   "source": [
    "print(\"Mean transaction amount (Euros): \", round(credit_df.Amount.mean(), 2))\n",
    "print(\"Median transaction amount (Euros): \", credit_df.Amount.median())\n",
    "x = [amt for amt in credit_df.Amount if amt < 400]\n",
    "sns.distplot(x, bins=20, kde=False)\n",
    "plt.show()"
   ]
  },
  {
   "cell_type": "code",
   "execution_count": 6,
   "metadata": {},
   "outputs": [],
   "source": [
    "from sklearn.model_selection import train_test_split\n",
    "X = credit_df.drop('Class', axis=1)\n",
    "y = credit_df['Class']\n",
    "X_train, X_test, y_train, y_test = train_test_split(X, y, test_size=0.25)"
   ]
  },
  {
   "cell_type": "markdown",
   "metadata": {},
   "source": [
    "# Initial model trials\n",
    "\n",
    "## Model 1: logistic regression"
   ]
  },
  {
   "cell_type": "code",
   "execution_count": 7,
   "metadata": {},
   "outputs": [
    {
     "name": "stdout",
     "output_type": "stream",
     "text": [
      "Train score:  0.656\n",
      "Test score:  0.709\n",
      "False negatives:  40\n",
      "False positives:  28\n"
     ]
    }
   ],
   "source": [
    "from sklearn.linear_model import LogisticRegression\n",
    "from sklearn.metrics import f1_score\n",
    "\n",
    "lreg = LogisticRegression(penalty='l2')\n",
    "lreg.fit(X_train, y_train)\n",
    "train_pred = lreg.predict(X_train)\n",
    "test_pred = lreg.predict(X_test)\n",
    "\n",
    "false_neg = sum((y_test - test_pred) == 1)\n",
    "false_pos = sum((y_test - test_pred) == -1)\n",
    "print(\"Train score: \", round(f1_score(y_train, train_pred), 3))\n",
    "print(\"Test score: \", round(f1_score(y_test, test_pred),3))\n",
    "print(\"False negatives: \", false_neg)\n",
    "print('False positives: ', false_pos)"
   ]
  },
  {
   "cell_type": "markdown",
   "metadata": {},
   "source": [
    "## Model 2: Random Forest"
   ]
  },
  {
   "cell_type": "code",
   "execution_count": 8,
   "metadata": {},
   "outputs": [
    {
     "name": "stdout",
     "output_type": "stream",
     "text": [
      "Train score:  0.992\n",
      "Test score:  0.856\n",
      "False negatives:  25\n",
      "False positives:  8\n",
      "Elapsed time (s):  39.06005573272705\n"
     ]
    }
   ],
   "source": [
    "from sklearn.ensemble import RandomForestClassifier\n",
    "from time import time\n",
    "start = time()\n",
    "\n",
    "rfc = RandomForestClassifier(n_estimators=20)\n",
    "rfc.fit(X_train, y_train)\n",
    "train_pred = rfc.predict(X_train)\n",
    "test_pred = rfc.predict(X_test)\n",
    "\n",
    "false_neg = sum((y_test - test_pred) == 1)\n",
    "false_pos = sum((y_test - test_pred) == -1)\n",
    "print(\"Train score: \", round(f1_score(y_train, train_pred), 3))\n",
    "print(\"Test score: \", round(f1_score(y_test, test_pred),3))\n",
    "print(\"False negatives: \", false_neg)\n",
    "print('False positives: ', false_pos)\n",
    "print('Elapsed time (s): ', time()-start)"
   ]
  },
  {
   "cell_type": "markdown",
   "metadata": {},
   "source": [
    "## Model 3: Gradient Boosted Tree"
   ]
  },
  {
   "cell_type": "code",
   "execution_count": 48,
   "metadata": {
    "scrolled": false
   },
   "outputs": [
    {
     "name": "stdout",
     "output_type": "stream",
     "text": [
      "Train score:  0.649\n",
      "Test score:  0.648\n",
      "False negatives:  55\n",
      "False positives:  19\n",
      "Elapsed time (s):  155.08902025222778\n"
     ]
    }
   ],
   "source": [
    "from sklearn.ensemble import GradientBoostingClassifier\n",
    "start = time()\n",
    "\n",
    "gbc = GradientBoostingClassifier()\n",
    "gbc.fit(X_train, y_train)\n",
    "train_pred = gbc.predict(X_train)\n",
    "test_pred = gbc.predict(X_test)\n",
    "\n",
    "false_pos = sum((y_test - test_pred) == -1)\n",
    "false_neg = sum((y_test - test_pred) == 1)\n",
    "print(\"Train score: \", round(f1_score(y_train, train_pred), 3))\n",
    "print(\"Test score: \", round(f1_score(y_test, test_pred),3))\n",
    "print(\"False negatives: \", false_neg)\n",
    "print('False positives: ', false_pos)\n",
    "print('Elapsed time (s): ', time()-start)"
   ]
  },
  {
   "cell_type": "markdown",
   "metadata": {},
   "source": [
    "## Model 4: Isolation Forest"
   ]
  },
  {
   "cell_type": "code",
   "execution_count": 10,
   "metadata": {
    "scrolled": false
   },
   "outputs": [
    {
     "name": "stdout",
     "output_type": "stream",
     "text": [
      "Train score:  0.255\n",
      "Test score:  0.311\n",
      "False negatives:  67\n",
      "False positives:  181\n",
      "Elapsed time (s):  23.06566023826599\n"
     ]
    }
   ],
   "source": [
    "from sklearn.ensemble import IsolationForest\n",
    "start = time()\n",
    "fraud_ratio = y_train.sum()/len(y_train)\n",
    "iso = IsolationForest(contamination=fraud_ratio*2) # multiplied by 2 to make this more inclusive (catching false negs)\n",
    "iso.fit(X_train, y_train)\n",
    "train_pred = iso.predict(X_train)\n",
    "test_pred = iso.predict(X_test)\n",
    "\n",
    "# convert +1/-1 output to 0/1:\n",
    "train_pred = (1-train_pred)/2\n",
    "test_pred = (1-test_pred)/2\n",
    "\n",
    "false_pos = sum((y_test - test_pred) == -1)\n",
    "false_neg = sum((y_test - test_pred) == 1)\n",
    "print(\"Train score: \", round(f1_score(y_train, train_pred), 3))\n",
    "print(\"Test score: \", round(f1_score(y_test, test_pred),3))\n",
    "print(\"False negatives: \", false_neg)\n",
    "print('False positives: ', false_pos)\n",
    "print('Elapsed time (s): ', time()-start)"
   ]
  },
  {
   "cell_type": "markdown",
   "metadata": {},
   "source": [
    "Note: I tried running a hyperparameter sweep on this in hopes that the parameters were the problem.  Oddly, it won't run.  (Error reports included after the Conclusion near bottom of notebook.)  Manual tweaking turned up some small increases, but even dramatic decreases didn't seem to make any difference for the amount of help provided to Random Forest.\n",
    "\n",
    "The goal of Isolation Forest in this context is not to itself attain high accuracy, but to add a useful feature (the anomaly flag) to our dataset.  Now let's try Random Forest again with this anomaly flag included and see how it affects our results."
   ]
  },
  {
   "cell_type": "code",
   "execution_count": 11,
   "metadata": {},
   "outputs": [],
   "source": [
    "# make version of X_train and X_test with anomaly flag included\n",
    "X_train_a = X_train.copy()\n",
    "X_train_a['isonomaly'] = pd.Series(train_pred).values\n",
    "X_test_a = X_test.copy()\n",
    "X_test_a['isonomaly'] = pd.Series(test_pred).values"
   ]
  },
  {
   "cell_type": "code",
   "execution_count": 12,
   "metadata": {
    "scrolled": true
   },
   "outputs": [
    {
     "name": "stdout",
     "output_type": "stream",
     "text": [
      "Train score:  0.986\n",
      "Test score:  0.874\n",
      "False negatives:  22\n",
      "False positives:  7\n",
      "Elapsed time (s):  37.21060299873352\n"
     ]
    }
   ],
   "source": [
    "start = time()\n",
    "rfc = RandomForestClassifier(n_estimators=20)\n",
    "rfc.fit(X_train_a, y_train)\n",
    "train_pred = rfc.predict(X_train_a)\n",
    "test_pred = rfc.predict(X_test_a)\n",
    "\n",
    "false_neg = sum((y_test - test_pred) == 1)\n",
    "false_pos = sum((y_test - test_pred) == -1)\n",
    "print(\"Train score: \", round(f1_score(y_train, train_pred), 3))\n",
    "print(\"Test score: \", round(f1_score(y_test, test_pred),3))\n",
    "print(\"False negatives: \", false_neg)\n",
    "print('False positives: ', false_pos)\n",
    "print('Elapsed time (s): ', time()-start)"
   ]
  },
  {
   "cell_type": "markdown",
   "metadata": {},
   "source": [
    "It looks like our score shows only a small improvement with the addition of the Isolation Forest data.  (Our original accuracy for the out-of-box random forest was 0.856.)  Let's try one more anomaly detection algorithm: the Local Outlier Factor."
   ]
  },
  {
   "cell_type": "markdown",
   "metadata": {},
   "source": [
    "## Model 5: Local Outlier Factor"
   ]
  },
  {
   "cell_type": "code",
   "execution_count": 13,
   "metadata": {},
   "outputs": [
    {
     "name": "stdout",
     "output_type": "stream",
     "text": [
      "Score:  0.051\n",
      "Elapsed time (s):  205.15208101272583\n"
     ]
    }
   ],
   "source": [
    "from sklearn.neighbors import LocalOutlierFactor\n",
    "start = time()\n",
    "lof = LocalOutlierFactor(contamination=fraud_ratio)\n",
    "pred = lof.fit_predict(X)\n",
    "\n",
    "# convert +1/-1 output to 1/0:\n",
    "pred = (1-pred)/2\n",
    "\n",
    "print(\"Score: \", round(f1_score(y, pred), 3))\n",
    "print('Elapsed time (s): ', time()-start)"
   ]
  },
  {
   "cell_type": "code",
   "execution_count": 14,
   "metadata": {
    "scrolled": true
   },
   "outputs": [
    {
     "name": "stdout",
     "output_type": "stream",
     "text": [
      "Xcore:  0.051\n",
      "False negatives:  467\n",
      "False positives:  467\n"
     ]
    }
   ],
   "source": [
    "false_neg = sum((y - pred) == 1)\n",
    "false_pos = sum((y - pred) == -1)\n",
    "print(\"Score: \", round(f1_score(y, pred), 3))\n",
    "print(\"False negatives: \", false_neg)\n",
    "print('False positives: ', false_pos)"
   ]
  },
  {
   "cell_type": "code",
   "execution_count": 15,
   "metadata": {},
   "outputs": [],
   "source": [
    "X2 = X.copy()\n",
    "X2['LOFlier'] = pd.Series(pred).values\n",
    "X_traino, X_testo, y_traino, y_testo = train_test_split(X2, y, test_size = 0.25) # the 'o' is for outlier"
   ]
  },
  {
   "cell_type": "code",
   "execution_count": 16,
   "metadata": {},
   "outputs": [
    {
     "name": "stdout",
     "output_type": "stream",
     "text": [
      "Train score:  0.984\n",
      "Test score:  0.837\n",
      "False negatives:  123\n",
      "False positives:  105\n",
      "Elapsed time (s):  36.075578689575195\n"
     ]
    }
   ],
   "source": [
    "start = time()\n",
    "rfc = RandomForestClassifier(n_estimators=20)\n",
    "rfc.fit(X_traino, y_traino)\n",
    "train_pred = rfc.predict(X_traino)\n",
    "test_pred = rfc.predict(X_testo)\n",
    "\n",
    "false_neg = sum((y_test - test_pred) == 1)\n",
    "false_pos = sum((y_test - test_pred) == -1)\n",
    "print(\"Train score: \", round(f1_score(y_traino, train_pred), 3))\n",
    "print(\"Test score: \", round(f1_score(y_testo, test_pred),3))\n",
    "print(\"False negatives: \", false_neg)\n",
    "print('False positives: ', false_pos)\n",
    "print('Elapsed time (s): ', time()-start)"
   ]
  },
  {
   "cell_type": "markdown",
   "metadata": {},
   "source": [
    "This actually scored lower than our out-of-box version, but it's a new split - unfortunately, it's impossible to run the LOF algorithm post-split.  And this score is within the range that results from different splits; the out-of-box RF score has varied from 0.825 to 0.856 with different splits.  So all that's clear is that the LOF flag addition helps very little if it helps at all."
   ]
  },
  {
   "cell_type": "markdown",
   "metadata": {},
   "source": [
    "# Model choice conclusions\n",
    "\n",
    "Random Forest performed well here.  Boosted Tree didn't perform well on this split, but it performed just as well as Random Forest on one previous split (0.20 better, which is strange). While the anomaly detection / outlier detection algorithms didn't directly capture the frauds very accurately (f1-scores of 0.26 and 0.05), they did contribute (ableit very slightly) to the accuracy of our other models when used as features.\n",
    "\n",
    "Moving forward, I'll try optimizing both Random Forest and Boosted Tree, and I'll include both our anomaly flags in the dataset."
   ]
  },
  {
   "cell_type": "markdown",
   "metadata": {},
   "source": [
    "# Optimizations\n",
    "\n",
    "Because Local Outlier Factor needs to be run on the entire dataset pre-split, we'll take the LOF splits above and use those as our regular training data.  This means we'll also need to rerun Isolation Forest to re-generate the isonomaly feature."
   ]
  },
  {
   "cell_type": "code",
   "execution_count": 17,
   "metadata": {
    "scrolled": true
   },
   "outputs": [
    {
     "name": "stdout",
     "output_type": "stream",
     "text": [
      "Train score:  0.031\n",
      "Test score:  0.029\n",
      "False negatives:  109\n",
      "False positives:  7192\n",
      "Elapsed time (s):  23.41415309906006\n"
     ]
    }
   ],
   "source": [
    "start = time()\n",
    "fraud_ratio = y_traino.sum()/len(y_traino)\n",
    "iso = IsolationForest(n_estimators=100)\n",
    "iso.fit(X_traino.drop('LOFlier', axis=1), y_traino)\n",
    "train_pred = iso.predict(X_traino.drop('LOFlier', axis=1))\n",
    "test_pred = iso.predict(X_testo.drop('LOFlier', axis=1))\n",
    "\n",
    "# convert +1/-1 output to 0/1:\n",
    "train_pred = (1-train_pred)/2\n",
    "test_pred = (1-test_pred)/2\n",
    "\n",
    "false_pos = sum((y_test - test_pred) == -1)\n",
    "false_neg = sum((y_test - test_pred) == 1)\n",
    "print(\"Train score: \", round(f1_score(y_traino, train_pred), 3))\n",
    "print(\"Test score: \", round(f1_score(y_testo, test_pred),3))\n",
    "print(\"False negatives: \", false_neg)\n",
    "print('False positives: ', false_pos)\n",
    "print('Elapsed time (s): ', time()-start)"
   ]
  },
  {
   "cell_type": "markdown",
   "metadata": {},
   "source": [
    "## Random Forest\n",
    "\n",
    "First, let's run a hyperparameter sweep and see what we get."
   ]
  },
  {
   "cell_type": "code",
   "execution_count": 18,
   "metadata": {},
   "outputs": [],
   "source": [
    "# report utility function from http://scikit-learn.org/stable/auto_examples/model_selection/plot_randomized_search.html\n",
    "def report(results, n_top=3):\n",
    "    for i in range(1, n_top + 1):\n",
    "        candidates = np.flatnonzero(results['rank_test_score'] == i)\n",
    "        for candidate in candidates:\n",
    "            print(\"Model with rank: {0}\".format(i))\n",
    "            print(\"Mean validation score: {0:.3f} (std: {1:.3f})\".format(\n",
    "                  results['mean_test_score'][candidate],\n",
    "                  results['std_test_score'][candidate]))\n",
    "            print(\"Parameters: {0}\".format(results['params'][candidate]))\n",
    "            print(\"\")"
   ]
  },
  {
   "cell_type": "code",
   "execution_count": 55,
   "metadata": {},
   "outputs": [
    {
     "name": "stdout",
     "output_type": "stream",
     "text": [
      "Elapsed seconds:  4084.3675079345703\n",
      "Model with rank: 1\n",
      "Mean validation score: 0.873 (std: 0.026)\n",
      "Parameters: {'random_state': 11, 'n_estimators': 30, 'min_samples_split': 20, 'max_features': 20, 'max_depth': 8, 'criterion': 'entropy', 'bootstrap': False}\n",
      "\n",
      "Model with rank: 2\n",
      "Mean validation score: 0.871 (std: 0.020)\n",
      "Parameters: {'random_state': 11, 'n_estimators': 20, 'min_samples_split': 10, 'max_features': 6, 'max_depth': 20, 'criterion': 'entropy', 'bootstrap': False}\n",
      "\n",
      "Model with rank: 3\n",
      "Mean validation score: 0.865 (std: 0.025)\n",
      "Parameters: {'random_state': 11, 'n_estimators': 30, 'min_samples_split': 2, 'max_features': 9, 'max_depth': 20, 'criterion': 'gini', 'bootstrap': False}\n",
      "\n"
     ]
    }
   ],
   "source": [
    "from sklearn.model_selection import RandomizedSearchCV\n",
    "\n",
    "rfc_2 = RandomForestClassifier()\n",
    "\n",
    "param_dist = {\"n_estimators\":[20, 30],\n",
    "              \"random_state\":[11],\n",
    "              \"max_depth\": [4,8,20],\n",
    "              \"max_features\": [6,9,12,20],\n",
    "              \"min_samples_split\": [2,10,20],\n",
    "              \"bootstrap\": [True, False],\n",
    "              \"criterion\": [\"gini\", \"entropy\"]\n",
    "}\n",
    "\n",
    "random_search = RandomizedSearchCV(rfc_2, param_distributions=param_dist, n_iter=20, cv=4, scoring='f1')\n",
    "start = time()\n",
    "random_search.fit(X_traino, y_traino)\n",
    "\n",
    "print(\"Elapsed seconds: \", time()-start)\n",
    "report(random_search.cv_results_, n_top=3)"
   ]
  },
  {
   "cell_type": "markdown",
   "metadata": {},
   "source": [
    "It looks like we have several equally good scores that are all somewhat overfit.  Let's take these general parameters and look at our test score, false negatives, and false positives."
   ]
  },
  {
   "cell_type": "code",
   "execution_count": 57,
   "metadata": {
    "scrolled": true
   },
   "outputs": [
    {
     "name": "stdout",
     "output_type": "stream",
     "text": [
      "Train score:  0.925\n",
      "Test score:  0.829\n",
      "False negatives:  25\n",
      "False positives:  15\n",
      "Elapsed time (s):  206.94753098487854\n"
     ]
    }
   ],
   "source": [
    "start = time()\n",
    "\n",
    "params = {'random_state': 11, 'n_estimators': 30, 'min_samples_split': 20, 'max_features': 20, 'max_depth': 8, 'criterion': 'entropy', 'bootstrap': False}\n",
    "\n",
    "rfc_opt = RandomForestClassifier(**params)\n",
    "rfc_opt.fit(X_traino, y_traino)\n",
    "train_pred = rfc_opt.predict(X_traino)\n",
    "test_pred = rfc_opt.predict(X_testo)\n",
    "\n",
    "false_pos = sum((y_testo - test_pred) == -1)\n",
    "false_neg = sum((y_testo - test_pred) == 1)\n",
    "print(\"Train score: \", round(f1_score(y_traino, train_pred), 3))\n",
    "print(\"Test score: \", round(f1_score(y_testo, test_pred),3))\n",
    "print(\"False negatives: \", false_neg)\n",
    "print('False positives: ', false_pos)\n",
    "print('Elapsed time (s): ', time()-start)"
   ]
  },
  {
   "cell_type": "markdown",
   "metadata": {},
   "source": [
    "The good news here is that our f1-score is pretty solid at 0.88.  The bad news is that we still have 22 false negatives (out of 129 actual negatives), which means we're misidentifying 17% of fraudulent transactions.  Given the cost of failing to identify fraudulent transactions, identifying 83% of frauds probably isn't good enough.\n",
    "\n",
    "We may be able to improve on this by changing our algorithm.  By adjusting the class weights of the random tree, we can heavily prioritize correctly identifying positive cases (the minority case) over negative cases.  Let's try over-weighting fraud identification by increasing powers of 10 and see what happens to our false negatives and our f1-scores."
   ]
  },
  {
   "cell_type": "code",
   "execution_count": 21,
   "metadata": {
    "scrolled": true
   },
   "outputs": [
    {
     "name": "stdout",
     "output_type": "stream",
     "text": [
      "Elapsed time (s):  404.0913248062134\n"
     ]
    }
   ],
   "source": [
    "start = time()\n",
    "scores = []\n",
    "false_neg_counts = []\n",
    "false_pos_counts = []\n",
    "balance_exps = [0, 2, 4, 6, 8, 10, 12]\n",
    "for balance_exp in balance_exps:\n",
    "    params = {'random_state': 11, \n",
    "              'n_estimators': 20, \n",
    "              'min_samples_split': 20, \n",
    "              'max_features': 20, \n",
    "              'max_depth': 8, \n",
    "              'criterion': 'entropy', \n",
    "              'bootstrap': False,\n",
    "              'class_weight': {0:1, 1:10**balance_exp}\n",
    "             }\n",
    "\n",
    "    rfc = RandomForestClassifier(**params)\n",
    "    rfc.fit(X_traino, y_traino)\n",
    "    train_pred = rfc.predict(X_traino)\n",
    "    test_pred = rfc.predict(X_testo)\n",
    "\n",
    "    false_neg_counts.append( sum((y_testo - test_pred) == 1) )\n",
    "    false_pos_counts.append( sum((y_testo - test_pred) == -1) )\n",
    "    scores.append( round(f1_score(y_traino, train_pred), 3) )\n",
    "\n",
    "print('Elapsed time (s): ', time()-start)"
   ]
  },
  {
   "cell_type": "code",
   "execution_count": 22,
   "metadata": {
    "scrolled": true
   },
   "outputs": [
    {
     "data": {
      "image/png": "[encoded data removed]",
      "text/plain": [
       "<matplotlib.figure.Figure at 0x10e938860>"
      ]
     },
     "metadata": {},
     "output_type": "display_data"
    }
   ],
   "source": [
    "plt.figure(figsize=(8,6))\n",
    "plt.plot(balance_exps, false_neg_counts, label='false negatives')\n",
    "plt.plot(balance_exps, false_pos_counts, label='false positives')\n",
    "plt.plot(balance_exps, [s*10 for s in scores], label='f1-scores * 10')\n",
    "plt.title(\"class_weight exponent vs model metrics\")\n",
    "plt.xlabel('log of weight imbalance')\n",
    "plt.ylabel('performance metrics')\n",
    "plt.legend()\n",
    "plt.ylim(0,40)\n",
    "plt.show()"
   ]
  },
  {
   "cell_type": "markdown",
   "metadata": {},
   "source": [
    "It looks like the tradeoff in accuracy is way too steep here: our f1-score drops below 0.5 before we see any significant reduction in false negatives.\n",
    "\n",
    "For now, then, our best try is 83% fraud detection with an f1-score of 89%.  Let's table that for now and try optimizing our gradient boosted tree model."
   ]
  },
  {
   "cell_type": "markdown",
   "metadata": {},
   "source": [
    "# Optimizing Gradient Boosted Tree\n",
    "\n",
    "We'll start by optimizing all parameters except the computation-intensive n_estimators and learning_rate, then hold the others constant while we tweak those two."
   ]
  },
  {
   "cell_type": "code",
   "execution_count": 49,
   "metadata": {
    "scrolled": false
   },
   "outputs": [
    {
     "name": "stdout",
     "output_type": "stream",
     "text": [
      "Elapsed seconds:  800.3299012184143\n",
      "Model with rank: 1\n",
      "Mean validation score: 0.804 (std: 0.036)\n",
      "Parameters: {'subsample': 0.6, 'random_state': 11, 'n_estimators': 50, 'max_features': 6, 'max_depth': 6, 'loss': 'exponential', 'learning_rate': 0.1}\n",
      "\n",
      "Model with rank: 2\n",
      "Mean validation score: 0.801 (std: 0.028)\n",
      "Parameters: {'subsample': 0.6, 'random_state': 11, 'n_estimators': 50, 'max_features': 6, 'max_depth': 4, 'loss': 'exponential', 'learning_rate': 0.1}\n",
      "\n",
      "Model with rank: 3\n",
      "Mean validation score: 0.796 (std: 0.030)\n",
      "Parameters: {'subsample': 1, 'random_state': 11, 'n_estimators': 50, 'max_features': 4, 'max_depth': 6, 'loss': 'exponential', 'learning_rate': 0.1}\n",
      "\n"
     ]
    }
   ],
   "source": [
    "from sklearn.model_selection import RandomizedSearchCV\n",
    "from time import time\n",
    "\n",
    "gbc_2 = GradientBoostingClassifier()\n",
    "\n",
    "param_dist = {\n",
    "    'loss': ['deviance','exponential'],\n",
    "    'n_estimators': [50], # we'll change this next time\n",
    "    'learning_rate': [0.1], # ditto\n",
    "    'max_depth': [2,4,6,8],\n",
    "    'max_features': [2,4,6,8],\n",
    "    'subsample': [0.1, 0.3, 0.6, 1],\n",
    "    'random_state': [11]\n",
    "}\n",
    "\n",
    "random_search = RandomizedSearchCV(gbc_2, param_distributions=param_dist, n_iter=25, scoring='f1', cv=4)\n",
    "start = time()\n",
    "random_search.fit(X_traino, y_traino)\n",
    "\n",
    "print(\"Elapsed seconds: \", time()-start)\n",
    "report(random_search.cv_results_, n_top=3)"
   ]
  },
  {
   "cell_type": "markdown",
   "metadata": {},
   "source": [
    "Note: I ran the above search with the default cv=3, which is why the scores are a little lower.  It doesn't change the ranking, which is what we're concerned about here, so I'm using the results as they are."
   ]
  },
  {
   "cell_type": "code",
   "execution_count": 53,
   "metadata": {
    "scrolled": true
   },
   "outputs": [
    {
     "name": "stdout",
     "output_type": "stream",
     "text": [
      "Elapsed seconds:  1937.0215361118317\n",
      "Model with rank: 1\n",
      "Mean validation score: 0.872 (std: 0.023)\n",
      "Parameters: {'subsample': 0.6, 'random_state': 11, 'n_estimators': 130, 'max_features': 6, 'max_depth': 6, 'loss': 'exponential', 'learning_rate': 0.18000000000000005}\n",
      "\n",
      "Model with rank: 2\n",
      "Mean validation score: 0.872 (std: 0.027)\n",
      "Parameters: {'subsample': 0.6, 'random_state': 11, 'n_estimators': 110, 'max_features': 6, 'max_depth': 6, 'loss': 'exponential', 'learning_rate': 0.18000000000000005}\n",
      "\n",
      "Model with rank: 3\n",
      "Mean validation score: 0.867 (std: 0.023)\n",
      "Parameters: {'subsample': 0.6, 'random_state': 11, 'n_estimators': 130, 'max_features': 6, 'max_depth': 6, 'loss': 'exponential', 'learning_rate': 0.16000000000000003}\n",
      "\n"
     ]
    }
   ],
   "source": [
    "from sklearn.model_selection import RandomizedSearchCV\n",
    "from time import time\n",
    "param_dist = {\n",
    "    'loss': ['exponential'],\n",
    "    'n_estimators': range(50, 200, 10),\n",
    "    'learning_rate': np.arange(0.05, 0.2, 0.01),\n",
    "    'max_depth': [6],\n",
    "    'max_features': [6],\n",
    "    'subsample': [0.6],\n",
    "    'random_state': [11]\n",
    "}\n",
    "\n",
    "random_search = RandomizedSearchCV(gbc_2, param_distributions=param_dist, n_iter=10, scoring='f1', cv=4)\n",
    "start = time()\n",
    "random_search.fit(X_traino, y_traino)\n",
    "\n",
    "print(\"Elapsed seconds: \", time()-start)\n",
    "report(random_search.cv_results_, n_top=3)"
   ]
  },
  {
   "cell_type": "code",
   "execution_count": 54,
   "metadata": {
    "scrolled": true
   },
   "outputs": [
    {
     "name": "stdout",
     "output_type": "stream",
     "text": [
      "Train score:  0.971\n",
      "Test score:  0.85\n",
      "False negatives:  26\n",
      "False positives:  8\n",
      "Elapsed time (s):  99.17459917068481\n"
     ]
    }
   ],
   "source": [
    "start = time()\n",
    "params = {'random_state': 11, 'subsample': 0.6, 'n_estimators': 130, 'max_features': 6, 'max_depth': 6, 'loss': 'exponential', 'learning_rate': 0.18}\n",
    "\n",
    "gbc_3 = GradientBoostingClassifier(**params)\n",
    "gbc_3.fit(X_traino, y_traino)\n",
    "train_pred = gbc_3.predict(X_traino)\n",
    "test_pred = gbc_3.predict(X_testo)\n",
    "\n",
    "false_pos = sum((y_testo - test_pred) == -1)\n",
    "false_neg = sum((y_testo - test_pred) == 1)\n",
    "print(\"Train score: \", round(f1_score(y_traino, train_pred), 3))\n",
    "print(\"Test score: \", round(f1_score(y_testo, test_pred),3))\n",
    "print(\"False negatives: \", false_neg)\n",
    "print('False positives: ', false_pos)\n",
    "print('Elapsed time (s): ', time()-start)"
   ]
  },
  {
   "cell_type": "markdown",
   "metadata": {},
   "source": [
    "We can see that gradient boosted tree will yield basically the same results as random forest.  For now, we'll use gradient boosted tree as our top performer moving forward.  But they're basically identical."
   ]
  },
  {
   "cell_type": "markdown",
   "metadata": {},
   "source": [
    "## Final boosted tree test\n",
    "\n",
    "Our best model on our test set has been our gradient boosted tree.  Let's make sure this replicates across different random splits of our data (i.e., make sure it's not overfit to our test set)."
   ]
  },
  {
   "cell_type": "code",
   "execution_count": 26,
   "metadata": {
    "scrolled": false
   },
   "outputs": [
    {
     "name": "stdout",
     "output_type": "stream",
     "text": [
      "False negatives mean:  26.75\n",
      "False negatives variance:  18.188\n",
      "False positives mean:  4.25\n",
      "Mean f1-score: 0.861\n",
      "Elapsed time (s):  92.85223007202148\n"
     ]
    }
   ],
   "source": [
    "start = time()\n",
    "\n",
    "false_neg_counts = []\n",
    "false_pos_counts = []\n",
    "scores = []\n",
    "\n",
    "for i in range(4):\n",
    "    random.seed(a=i)\n",
    "    X_train2, X_test2, y_train2, y_test2 = train_test_split(X, y, test_size=0.25)\n",
    "\n",
    "    start = time()\n",
    "    params = {'random_state': i, 'n_estimators': 100, 'max_features': 6, 'max_depth': 6, 'loss': 'exponential', 'learning_rate': 0.2}\n",
    "\n",
    "    gbc_4 = GradientBoostingClassifier(**params)\n",
    "    gbc_4.fit(X_train2, y_train2)\n",
    "    train_pred = gbc_4.predict(X_train2)\n",
    "    test_pred = gbc_4.predict(X_test2)\n",
    "    \n",
    "    false_pos = sum((y_test2 - test_pred) == -1)\n",
    "    false_negs = sum((y_test2 - test_pred) == 1)\n",
    "    score = round(f1_score(y_test2, test_pred),3)\n",
    "    \n",
    "    false_pos_counts.append(false_pos)\n",
    "    false_neg_counts.append(false_negs)\n",
    "    scores.append(score)\n",
    "    \n",
    "print(\"False negatives mean: \", round(np.mean(false_neg_counts),3) )\n",
    "print(\"False negatives variance: \", round(np.var(false_neg_counts),3) )\n",
    "print(\"False positives mean: \", round(np.mean(false_pos_counts),3) )\n",
    "print(\"Mean f1-score:\", round(np.mean(scores), 3) )\n",
    "print('Elapsed time (s): ', time()-start)\n",
    "random.seed(11)"
   ]
  },
  {
   "cell_type": "code",
   "execution_count": 27,
   "metadata": {},
   "outputs": [
    {
     "data": {
      "text/plain": [
       "[23, 31, 22, 31]"
      ]
     },
     "execution_count": 27,
     "metadata": {},
     "output_type": "execute_result"
    }
   ],
   "source": [
    "false_neg_counts"
   ]
  },
  {
   "cell_type": "markdown",
   "metadata": {},
   "source": [
    "# Conclusions\n",
    "\n",
    "In light of these results, my recommendation would probably be for the bank in this case to adopt a hybrid model.\n",
    "\n",
    "The primary model would be the gradient boosted tree above, which catches about 83% of fraudulent transactions with an a miniscule rate of false positives (f1-score = 0.86).  Transactions flagged by this fraud detector should be denied.\n",
    "\n",
    "The secondary should be a model that flags nearly all of the fraudulent transactions at the cost of also incorrectly flagging many non-fraudulent transactions.  We might, for instance, use our heavily weighted random forest model, which flagged 94% of fraudulent transactions, at the cost of having 98% of its flags be false flags.  For transactions flagged only by the seondary model, the transaction should only be denied if it is above a certain amount (e.g., 2,000 USD) above which the risk of a fraudulent transaction is unacceptable, or if it is the third or more consecutive secondary-flagged transaction (which would only occur in approximately 0.1 percent of all transactions).\n",
    "\n",
    "Together, these models will catch 83% of fraudulent transactions, and halt an additional 11% of fraudulent transactions if they are large transactions.  This means that only 6% of large fraudulent transactions, and between 6% and 17% of all fraudulent transactions, would go unflagged.  All told, this represent a very high reduction of risk."
   ]
  },
  {
   "cell_type": "markdown",
   "metadata": {},
   "source": [
    "# Questions\n",
    "\n",
    "<ol>\n",
    "    <li>It strikes me that this is a case where I probably should have divided my dataset three ways into a training set, cv set, and test set, rather than a simple train_test split.  I compensated for this by testing against several new random splits at the end, which is almost (but not totally) as good.  Should I have done a three-way split here?  Should I usually do a three-way split?</li>\n",
    "    <li>Are there better ways than weight adjustments (which tanked the f1-score) to prioritize eliminating false positives?  (I get the impression that thresholding is not ideal.  And according to this paper, weighting and subsampling perform almost identically: http://statistics.berkeley.edu/sites/default/files/tech-reports/666.pdf)</li>\n",
    "    <li>Any ideas on debugging the hyperperparameter sweep of Isolation Forest (below) so that it runs?</li>\n",
    "</ol>\n",
    "    "
   ]
  },
  {
   "cell_type": "markdown",
   "metadata": {},
   "source": [
    "# Isolation Forest hyperparameter sweep failure\n",
    "\n",
    "Because this is a really interesting and much-touted model, I decided to run a hyperparameter sweep to see if other parameter settings could yield at least a not-egregiously-bad score.  This resulted in a pretty baffling bug:"
   ]
  },
  {
   "cell_type": "code",
   "execution_count": 28,
   "metadata": {
    "scrolled": true
   },
   "outputs": [
    {
     "ename": "ValueError",
     "evalue": "Target is multiclass but average='binary'. Please choose another average setting.",
     "output_type": "error",
     "traceback": [
      "\u001b[0;31m---------------------------------------------------------------------------\u001b[0m",
      "\u001b[0;31mValueError\u001b[0m                                Traceback (most recent call last)",
      "\u001b[0;32m<ipython-input-28-0d9cf5ab7407>\u001b[0m in \u001b[0;36m<module>\u001b[0;34m()\u001b[0m\n\u001b[1;32m     12\u001b[0m \u001b[0mrandom_search\u001b[0m \u001b[0;34m=\u001b[0m \u001b[0mRandomizedSearchCV\u001b[0m\u001b[0;34m(\u001b[0m\u001b[0miso_2\u001b[0m\u001b[0;34m,\u001b[0m \u001b[0mparam_distributions\u001b[0m\u001b[0;34m=\u001b[0m\u001b[0mparam_dist\u001b[0m\u001b[0;34m,\u001b[0m \u001b[0mn_iter\u001b[0m\u001b[0;34m=\u001b[0m\u001b[0;36m30\u001b[0m\u001b[0;34m,\u001b[0m \u001b[0mscoring\u001b[0m\u001b[0;34m=\u001b[0m\u001b[0;34m'f1'\u001b[0m\u001b[0;34m)\u001b[0m\u001b[0;34m\u001b[0m\u001b[0m\n\u001b[1;32m     13\u001b[0m \u001b[0mstart\u001b[0m \u001b[0;34m=\u001b[0m \u001b[0mtime\u001b[0m\u001b[0;34m(\u001b[0m\u001b[0;34m)\u001b[0m\u001b[0;34m\u001b[0m\u001b[0m\n\u001b[0;32m---> 14\u001b[0;31m \u001b[0mrandom_search\u001b[0m\u001b[0;34m.\u001b[0m\u001b[0mfit\u001b[0m\u001b[0;34m(\u001b[0m\u001b[0mX_train\u001b[0m\u001b[0;34m,\u001b[0m \u001b[0my_train\u001b[0m\u001b[0;34m)\u001b[0m\u001b[0;34m\u001b[0m\u001b[0m\n\u001b[0m\u001b[1;32m     15\u001b[0m \u001b[0;34m\u001b[0m\u001b[0m\n\u001b[1;32m     16\u001b[0m \u001b[0mprint\u001b[0m\u001b[0;34m(\u001b[0m\u001b[0;34m\"Elapsed seconds: \"\u001b[0m\u001b[0;34m,\u001b[0m \u001b[0mtime\u001b[0m\u001b[0;34m(\u001b[0m\u001b[0;34m)\u001b[0m\u001b[0;34m-\u001b[0m\u001b[0mstart\u001b[0m\u001b[0;34m)\u001b[0m\u001b[0;34m\u001b[0m\u001b[0m\n",
      "\u001b[0;32m/usr/local/lib/python3.6/site-packages/sklearn/model_selection/_search.py\u001b[0m in \u001b[0;36mfit\u001b[0;34m(self, X, y, groups, **fit_params)\u001b[0m\n\u001b[1;32m    637\u001b[0m                                   error_score=self.error_score)\n\u001b[1;32m    638\u001b[0m           for parameters, (train, test) in product(candidate_params,\n\u001b[0;32m--> 639\u001b[0;31m                                                    cv.split(X, y, groups)))\n\u001b[0m\u001b[1;32m    640\u001b[0m \u001b[0;34m\u001b[0m\u001b[0m\n\u001b[1;32m    641\u001b[0m         \u001b[0;31m# if one choose to see train score, \"out\" will contain train score info\u001b[0m\u001b[0;34m\u001b[0m\u001b[0;34m\u001b[0m\u001b[0m\n",
      "\u001b[0;32m/usr/local/lib/python3.6/site-packages/sklearn/externals/joblib/parallel.py\u001b[0m in \u001b[0;36m__call__\u001b[0;34m(self, iterable)\u001b[0m\n\u001b[1;32m    777\u001b[0m             \u001b[0;31m# was dispatched. In particular this covers the edge\u001b[0m\u001b[0;34m\u001b[0m\u001b[0;34m\u001b[0m\u001b[0m\n\u001b[1;32m    778\u001b[0m             \u001b[0;31m# case of Parallel used with an exhausted iterator.\u001b[0m\u001b[0;34m\u001b[0m\u001b[0;34m\u001b[0m\u001b[0m\n\u001b[0;32m--> 779\u001b[0;31m             \u001b[0;32mwhile\u001b[0m \u001b[0mself\u001b[0m\u001b[0;34m.\u001b[0m\u001b[0mdispatch_one_batch\u001b[0m\u001b[0;34m(\u001b[0m\u001b[0miterator\u001b[0m\u001b[0;34m)\u001b[0m\u001b[0;34m:\u001b[0m\u001b[0;34m\u001b[0m\u001b[0m\n\u001b[0m\u001b[1;32m    780\u001b[0m                 \u001b[0mself\u001b[0m\u001b[0;34m.\u001b[0m\u001b[0m_iterating\u001b[0m \u001b[0;34m=\u001b[0m \u001b[0;32mTrue\u001b[0m\u001b[0;34m\u001b[0m\u001b[0m\n\u001b[1;32m    781\u001b[0m             \u001b[0;32melse\u001b[0m\u001b[0;34m:\u001b[0m\u001b[0;34m\u001b[0m\u001b[0m\n",
      "\u001b[0;32m/usr/local/lib/python3.6/site-packages/sklearn/externals/joblib/parallel.py\u001b[0m in \u001b[0;36mdispatch_one_batch\u001b[0;34m(self, iterator)\u001b[0m\n\u001b[1;32m    623\u001b[0m                 \u001b[0;32mreturn\u001b[0m \u001b[0;32mFalse\u001b[0m\u001b[0;34m\u001b[0m\u001b[0m\n\u001b[1;32m    624\u001b[0m             \u001b[0;32melse\u001b[0m\u001b[0;34m:\u001b[0m\u001b[0;34m\u001b[0m\u001b[0m\n\u001b[0;32m--> 625\u001b[0;31m                 \u001b[0mself\u001b[0m\u001b[0;34m.\u001b[0m\u001b[0m_dispatch\u001b[0m\u001b[0;34m(\u001b[0m\u001b[0mtasks\u001b[0m\u001b[0;34m)\u001b[0m\u001b[0;34m\u001b[0m\u001b[0m\n\u001b[0m\u001b[1;32m    626\u001b[0m                 \u001b[0;32mreturn\u001b[0m \u001b[0;32mTrue\u001b[0m\u001b[0;34m\u001b[0m\u001b[0m\n\u001b[1;32m    627\u001b[0m \u001b[0;34m\u001b[0m\u001b[0m\n",
      "\u001b[0;32m/usr/local/lib/python3.6/site-packages/sklearn/externals/joblib/parallel.py\u001b[0m in \u001b[0;36m_dispatch\u001b[0;34m(self, batch)\u001b[0m\n\u001b[1;32m    586\u001b[0m         \u001b[0mdispatch_timestamp\u001b[0m \u001b[0;34m=\u001b[0m \u001b[0mtime\u001b[0m\u001b[0;34m.\u001b[0m\u001b[0mtime\u001b[0m\u001b[0;34m(\u001b[0m\u001b[0;34m)\u001b[0m\u001b[0;34m\u001b[0m\u001b[0m\n\u001b[1;32m    587\u001b[0m         \u001b[0mcb\u001b[0m \u001b[0;34m=\u001b[0m \u001b[0mBatchCompletionCallBack\u001b[0m\u001b[0;34m(\u001b[0m\u001b[0mdispatch_timestamp\u001b[0m\u001b[0;34m,\u001b[0m \u001b[0mlen\u001b[0m\u001b[0;34m(\u001b[0m\u001b[0mbatch\u001b[0m\u001b[0;34m)\u001b[0m\u001b[0;34m,\u001b[0m \u001b[0mself\u001b[0m\u001b[0;34m)\u001b[0m\u001b[0;34m\u001b[0m\u001b[0m\n\u001b[0;32m--> 588\u001b[0;31m         \u001b[0mjob\u001b[0m \u001b[0;34m=\u001b[0m \u001b[0mself\u001b[0m\u001b[0;34m.\u001b[0m\u001b[0m_backend\u001b[0m\u001b[0;34m.\u001b[0m\u001b[0mapply_async\u001b[0m\u001b[0;34m(\u001b[0m\u001b[0mbatch\u001b[0m\u001b[0;34m,\u001b[0m \u001b[0mcallback\u001b[0m\u001b[0;34m=\u001b[0m\u001b[0mcb\u001b[0m\u001b[0;34m)\u001b[0m\u001b[0;34m\u001b[0m\u001b[0m\n\u001b[0m\u001b[1;32m    589\u001b[0m         \u001b[0mself\u001b[0m\u001b[0;34m.\u001b[0m\u001b[0m_jobs\u001b[0m\u001b[0;34m.\u001b[0m\u001b[0mappend\u001b[0m\u001b[0;34m(\u001b[0m\u001b[0mjob\u001b[0m\u001b[0;34m)\u001b[0m\u001b[0;34m\u001b[0m\u001b[0m\n\u001b[1;32m    590\u001b[0m \u001b[0;34m\u001b[0m\u001b[0m\n",
      "\u001b[0;32m/usr/local/lib/python3.6/site-packages/sklearn/externals/joblib/_parallel_backends.py\u001b[0m in \u001b[0;36mapply_async\u001b[0;34m(self, func, callback)\u001b[0m\n\u001b[1;32m    109\u001b[0m     \u001b[0;32mdef\u001b[0m \u001b[0mapply_async\u001b[0m\u001b[0;34m(\u001b[0m\u001b[0mself\u001b[0m\u001b[0;34m,\u001b[0m \u001b[0mfunc\u001b[0m\u001b[0;34m,\u001b[0m \u001b[0mcallback\u001b[0m\u001b[0;34m=\u001b[0m\u001b[0;32mNone\u001b[0m\u001b[0;34m)\u001b[0m\u001b[0;34m:\u001b[0m\u001b[0;34m\u001b[0m\u001b[0m\n\u001b[1;32m    110\u001b[0m         \u001b[0;34m\"\"\"Schedule a func to be run\"\"\"\u001b[0m\u001b[0;34m\u001b[0m\u001b[0m\n\u001b[0;32m--> 111\u001b[0;31m         \u001b[0mresult\u001b[0m \u001b[0;34m=\u001b[0m \u001b[0mImmediateResult\u001b[0m\u001b[0;34m(\u001b[0m\u001b[0mfunc\u001b[0m\u001b[0;34m)\u001b[0m\u001b[0;34m\u001b[0m\u001b[0m\n\u001b[0m\u001b[1;32m    112\u001b[0m         \u001b[0;32mif\u001b[0m \u001b[0mcallback\u001b[0m\u001b[0;34m:\u001b[0m\u001b[0;34m\u001b[0m\u001b[0m\n\u001b[1;32m    113\u001b[0m             \u001b[0mcallback\u001b[0m\u001b[0;34m(\u001b[0m\u001b[0mresult\u001b[0m\u001b[0;34m)\u001b[0m\u001b[0;34m\u001b[0m\u001b[0m\n",
      "\u001b[0;32m/usr/local/lib/python3.6/site-packages/sklearn/externals/joblib/_parallel_backends.py\u001b[0m in \u001b[0;36m__init__\u001b[0;34m(self, batch)\u001b[0m\n\u001b[1;32m    330\u001b[0m         \u001b[0;31m# Don't delay the application, to avoid keeping the input\u001b[0m\u001b[0;34m\u001b[0m\u001b[0;34m\u001b[0m\u001b[0m\n\u001b[1;32m    331\u001b[0m         \u001b[0;31m# arguments in memory\u001b[0m\u001b[0;34m\u001b[0m\u001b[0;34m\u001b[0m\u001b[0m\n\u001b[0;32m--> 332\u001b[0;31m         \u001b[0mself\u001b[0m\u001b[0;34m.\u001b[0m\u001b[0mresults\u001b[0m \u001b[0;34m=\u001b[0m \u001b[0mbatch\u001b[0m\u001b[0;34m(\u001b[0m\u001b[0;34m)\u001b[0m\u001b[0;34m\u001b[0m\u001b[0m\n\u001b[0m\u001b[1;32m    333\u001b[0m \u001b[0;34m\u001b[0m\u001b[0m\n\u001b[1;32m    334\u001b[0m     \u001b[0;32mdef\u001b[0m \u001b[0mget\u001b[0m\u001b[0;34m(\u001b[0m\u001b[0mself\u001b[0m\u001b[0;34m)\u001b[0m\u001b[0;34m:\u001b[0m\u001b[0;34m\u001b[0m\u001b[0m\n",
      "\u001b[0;32m/usr/local/lib/python3.6/site-packages/sklearn/externals/joblib/parallel.py\u001b[0m in \u001b[0;36m__call__\u001b[0;34m(self)\u001b[0m\n\u001b[1;32m    129\u001b[0m \u001b[0;34m\u001b[0m\u001b[0m\n\u001b[1;32m    130\u001b[0m     \u001b[0;32mdef\u001b[0m \u001b[0m__call__\u001b[0m\u001b[0;34m(\u001b[0m\u001b[0mself\u001b[0m\u001b[0;34m)\u001b[0m\u001b[0;34m:\u001b[0m\u001b[0;34m\u001b[0m\u001b[0m\n\u001b[0;32m--> 131\u001b[0;31m         \u001b[0;32mreturn\u001b[0m \u001b[0;34m[\u001b[0m\u001b[0mfunc\u001b[0m\u001b[0;34m(\u001b[0m\u001b[0;34m*\u001b[0m\u001b[0margs\u001b[0m\u001b[0;34m,\u001b[0m \u001b[0;34m**\u001b[0m\u001b[0mkwargs\u001b[0m\u001b[0;34m)\u001b[0m \u001b[0;32mfor\u001b[0m \u001b[0mfunc\u001b[0m\u001b[0;34m,\u001b[0m \u001b[0margs\u001b[0m\u001b[0;34m,\u001b[0m \u001b[0mkwargs\u001b[0m \u001b[0;32min\u001b[0m \u001b[0mself\u001b[0m\u001b[0;34m.\u001b[0m\u001b[0mitems\u001b[0m\u001b[0;34m]\u001b[0m\u001b[0;34m\u001b[0m\u001b[0m\n\u001b[0m\u001b[1;32m    132\u001b[0m \u001b[0;34m\u001b[0m\u001b[0m\n\u001b[1;32m    133\u001b[0m     \u001b[0;32mdef\u001b[0m \u001b[0m__len__\u001b[0m\u001b[0;34m(\u001b[0m\u001b[0mself\u001b[0m\u001b[0;34m)\u001b[0m\u001b[0;34m:\u001b[0m\u001b[0;34m\u001b[0m\u001b[0m\n",
      "\u001b[0;32m/usr/local/lib/python3.6/site-packages/sklearn/externals/joblib/parallel.py\u001b[0m in \u001b[0;36m<listcomp>\u001b[0;34m(.0)\u001b[0m\n\u001b[1;32m    129\u001b[0m \u001b[0;34m\u001b[0m\u001b[0m\n\u001b[1;32m    130\u001b[0m     \u001b[0;32mdef\u001b[0m \u001b[0m__call__\u001b[0m\u001b[0;34m(\u001b[0m\u001b[0mself\u001b[0m\u001b[0;34m)\u001b[0m\u001b[0;34m:\u001b[0m\u001b[0;34m\u001b[0m\u001b[0m\n\u001b[0;32m--> 131\u001b[0;31m         \u001b[0;32mreturn\u001b[0m \u001b[0;34m[\u001b[0m\u001b[0mfunc\u001b[0m\u001b[0;34m(\u001b[0m\u001b[0;34m*\u001b[0m\u001b[0margs\u001b[0m\u001b[0;34m,\u001b[0m \u001b[0;34m**\u001b[0m\u001b[0mkwargs\u001b[0m\u001b[0;34m)\u001b[0m \u001b[0;32mfor\u001b[0m \u001b[0mfunc\u001b[0m\u001b[0;34m,\u001b[0m \u001b[0margs\u001b[0m\u001b[0;34m,\u001b[0m \u001b[0mkwargs\u001b[0m \u001b[0;32min\u001b[0m \u001b[0mself\u001b[0m\u001b[0;34m.\u001b[0m\u001b[0mitems\u001b[0m\u001b[0;34m]\u001b[0m\u001b[0;34m\u001b[0m\u001b[0m\n\u001b[0m\u001b[1;32m    132\u001b[0m \u001b[0;34m\u001b[0m\u001b[0m\n\u001b[1;32m    133\u001b[0m     \u001b[0;32mdef\u001b[0m \u001b[0m__len__\u001b[0m\u001b[0;34m(\u001b[0m\u001b[0mself\u001b[0m\u001b[0;34m)\u001b[0m\u001b[0;34m:\u001b[0m\u001b[0;34m\u001b[0m\u001b[0m\n",
      "\u001b[0;32m/usr/local/lib/python3.6/site-packages/sklearn/model_selection/_validation.py\u001b[0m in \u001b[0;36m_fit_and_score\u001b[0;34m(estimator, X, y, scorer, train, test, verbose, parameters, fit_params, return_train_score, return_parameters, return_n_test_samples, return_times, error_score)\u001b[0m\n\u001b[1;32m    486\u001b[0m         \u001b[0mfit_time\u001b[0m \u001b[0;34m=\u001b[0m \u001b[0mtime\u001b[0m\u001b[0;34m.\u001b[0m\u001b[0mtime\u001b[0m\u001b[0;34m(\u001b[0m\u001b[0;34m)\u001b[0m \u001b[0;34m-\u001b[0m \u001b[0mstart_time\u001b[0m\u001b[0;34m\u001b[0m\u001b[0m\n\u001b[1;32m    487\u001b[0m         \u001b[0;31m# _score will return dict if is_multimetric is True\u001b[0m\u001b[0;34m\u001b[0m\u001b[0;34m\u001b[0m\u001b[0m\n\u001b[0;32m--> 488\u001b[0;31m         \u001b[0mtest_scores\u001b[0m \u001b[0;34m=\u001b[0m \u001b[0m_score\u001b[0m\u001b[0;34m(\u001b[0m\u001b[0mestimator\u001b[0m\u001b[0;34m,\u001b[0m \u001b[0mX_test\u001b[0m\u001b[0;34m,\u001b[0m \u001b[0my_test\u001b[0m\u001b[0;34m,\u001b[0m \u001b[0mscorer\u001b[0m\u001b[0;34m,\u001b[0m \u001b[0mis_multimetric\u001b[0m\u001b[0;34m)\u001b[0m\u001b[0;34m\u001b[0m\u001b[0m\n\u001b[0m\u001b[1;32m    489\u001b[0m         \u001b[0mscore_time\u001b[0m \u001b[0;34m=\u001b[0m \u001b[0mtime\u001b[0m\u001b[0;34m.\u001b[0m\u001b[0mtime\u001b[0m\u001b[0;34m(\u001b[0m\u001b[0;34m)\u001b[0m \u001b[0;34m-\u001b[0m \u001b[0mstart_time\u001b[0m \u001b[0;34m-\u001b[0m \u001b[0mfit_time\u001b[0m\u001b[0;34m\u001b[0m\u001b[0m\n\u001b[1;32m    490\u001b[0m         \u001b[0;32mif\u001b[0m \u001b[0mreturn_train_score\u001b[0m\u001b[0;34m:\u001b[0m\u001b[0;34m\u001b[0m\u001b[0m\n",
      "\u001b[0;32m/usr/local/lib/python3.6/site-packages/sklearn/model_selection/_validation.py\u001b[0m in \u001b[0;36m_score\u001b[0;34m(estimator, X_test, y_test, scorer, is_multimetric)\u001b[0m\n\u001b[1;32m    521\u001b[0m     \"\"\"\n\u001b[1;32m    522\u001b[0m     \u001b[0;32mif\u001b[0m \u001b[0mis_multimetric\u001b[0m\u001b[0;34m:\u001b[0m\u001b[0;34m\u001b[0m\u001b[0m\n\u001b[0;32m--> 523\u001b[0;31m         \u001b[0;32mreturn\u001b[0m \u001b[0m_multimetric_score\u001b[0m\u001b[0;34m(\u001b[0m\u001b[0mestimator\u001b[0m\u001b[0;34m,\u001b[0m \u001b[0mX_test\u001b[0m\u001b[0;34m,\u001b[0m \u001b[0my_test\u001b[0m\u001b[0;34m,\u001b[0m \u001b[0mscorer\u001b[0m\u001b[0;34m)\u001b[0m\u001b[0;34m\u001b[0m\u001b[0m\n\u001b[0m\u001b[1;32m    524\u001b[0m     \u001b[0;32melse\u001b[0m\u001b[0;34m:\u001b[0m\u001b[0;34m\u001b[0m\u001b[0m\n\u001b[1;32m    525\u001b[0m         \u001b[0;32mif\u001b[0m \u001b[0my_test\u001b[0m \u001b[0;32mis\u001b[0m \u001b[0;32mNone\u001b[0m\u001b[0;34m:\u001b[0m\u001b[0;34m\u001b[0m\u001b[0m\n",
      "\u001b[0;32m/usr/local/lib/python3.6/site-packages/sklearn/model_selection/_validation.py\u001b[0m in \u001b[0;36m_multimetric_score\u001b[0;34m(estimator, X_test, y_test, scorers)\u001b[0m\n\u001b[1;32m    551\u001b[0m             \u001b[0mscore\u001b[0m \u001b[0;34m=\u001b[0m \u001b[0mscorer\u001b[0m\u001b[0;34m(\u001b[0m\u001b[0mestimator\u001b[0m\u001b[0;34m,\u001b[0m \u001b[0mX_test\u001b[0m\u001b[0;34m)\u001b[0m\u001b[0;34m\u001b[0m\u001b[0m\n\u001b[1;32m    552\u001b[0m         \u001b[0;32melse\u001b[0m\u001b[0;34m:\u001b[0m\u001b[0;34m\u001b[0m\u001b[0m\n\u001b[0;32m--> 553\u001b[0;31m             \u001b[0mscore\u001b[0m \u001b[0;34m=\u001b[0m \u001b[0mscorer\u001b[0m\u001b[0;34m(\u001b[0m\u001b[0mestimator\u001b[0m\u001b[0;34m,\u001b[0m \u001b[0mX_test\u001b[0m\u001b[0;34m,\u001b[0m \u001b[0my_test\u001b[0m\u001b[0;34m)\u001b[0m\u001b[0;34m\u001b[0m\u001b[0m\n\u001b[0m\u001b[1;32m    554\u001b[0m \u001b[0;34m\u001b[0m\u001b[0m\n\u001b[1;32m    555\u001b[0m         \u001b[0;32mif\u001b[0m \u001b[0mhasattr\u001b[0m\u001b[0;34m(\u001b[0m\u001b[0mscore\u001b[0m\u001b[0;34m,\u001b[0m \u001b[0;34m'item'\u001b[0m\u001b[0;34m)\u001b[0m\u001b[0;34m:\u001b[0m\u001b[0;34m\u001b[0m\u001b[0m\n",
      "\u001b[0;32m/usr/local/lib/python3.6/site-packages/sklearn/metrics/scorer.py\u001b[0m in \u001b[0;36m__call__\u001b[0;34m(self, estimator, X, y_true, sample_weight)\u001b[0m\n\u001b[1;32m    106\u001b[0m         \u001b[0;32melse\u001b[0m\u001b[0;34m:\u001b[0m\u001b[0;34m\u001b[0m\u001b[0m\n\u001b[1;32m    107\u001b[0m             return self._sign * self._score_func(y_true, y_pred,\n\u001b[0;32m--> 108\u001b[0;31m                                                  **self._kwargs)\n\u001b[0m\u001b[1;32m    109\u001b[0m \u001b[0;34m\u001b[0m\u001b[0m\n\u001b[1;32m    110\u001b[0m \u001b[0;34m\u001b[0m\u001b[0m\n",
      "\u001b[0;32m/usr/local/lib/python3.6/site-packages/sklearn/metrics/classification.py\u001b[0m in \u001b[0;36mf1_score\u001b[0;34m(y_true, y_pred, labels, pos_label, average, sample_weight)\u001b[0m\n\u001b[1;32m    712\u001b[0m     return fbeta_score(y_true, y_pred, 1, labels=labels,\n\u001b[1;32m    713\u001b[0m                        \u001b[0mpos_label\u001b[0m\u001b[0;34m=\u001b[0m\u001b[0mpos_label\u001b[0m\u001b[0;34m,\u001b[0m \u001b[0maverage\u001b[0m\u001b[0;34m=\u001b[0m\u001b[0maverage\u001b[0m\u001b[0;34m,\u001b[0m\u001b[0;34m\u001b[0m\u001b[0m\n\u001b[0;32m--> 714\u001b[0;31m                        sample_weight=sample_weight)\n\u001b[0m\u001b[1;32m    715\u001b[0m \u001b[0;34m\u001b[0m\u001b[0m\n\u001b[1;32m    716\u001b[0m \u001b[0;34m\u001b[0m\u001b[0m\n",
      "\u001b[0;32m/usr/local/lib/python3.6/site-packages/sklearn/metrics/classification.py\u001b[0m in \u001b[0;36mfbeta_score\u001b[0;34m(y_true, y_pred, beta, labels, pos_label, average, sample_weight)\u001b[0m\n\u001b[1;32m    826\u001b[0m                                                  \u001b[0maverage\u001b[0m\u001b[0;34m=\u001b[0m\u001b[0maverage\u001b[0m\u001b[0;34m,\u001b[0m\u001b[0;34m\u001b[0m\u001b[0m\n\u001b[1;32m    827\u001b[0m                                                  \u001b[0mwarn_for\u001b[0m\u001b[0;34m=\u001b[0m\u001b[0;34m(\u001b[0m\u001b[0;34m'f-score'\u001b[0m\u001b[0;34m,\u001b[0m\u001b[0;34m)\u001b[0m\u001b[0;34m,\u001b[0m\u001b[0;34m\u001b[0m\u001b[0m\n\u001b[0;32m--> 828\u001b[0;31m                                                  sample_weight=sample_weight)\n\u001b[0m\u001b[1;32m    829\u001b[0m     \u001b[0;32mreturn\u001b[0m \u001b[0mf\u001b[0m\u001b[0;34m\u001b[0m\u001b[0m\n\u001b[1;32m    830\u001b[0m \u001b[0;34m\u001b[0m\u001b[0m\n",
      "\u001b[0;32m/usr/local/lib/python3.6/site-packages/sklearn/metrics/classification.py\u001b[0m in \u001b[0;36mprecision_recall_fscore_support\u001b[0;34m(y_true, y_pred, beta, labels, pos_label, average, warn_for, sample_weight)\u001b[0m\n\u001b[1;32m   1038\u001b[0m         \u001b[0;32melse\u001b[0m\u001b[0;34m:\u001b[0m\u001b[0;34m\u001b[0m\u001b[0m\n\u001b[1;32m   1039\u001b[0m             raise ValueError(\"Target is %s but average='binary'. Please \"\n\u001b[0;32m-> 1040\u001b[0;31m                              \"choose another average setting.\" % y_type)\n\u001b[0m\u001b[1;32m   1041\u001b[0m     \u001b[0;32melif\u001b[0m \u001b[0mpos_label\u001b[0m \u001b[0;32mnot\u001b[0m \u001b[0;32min\u001b[0m \u001b[0;34m(\u001b[0m\u001b[0;32mNone\u001b[0m\u001b[0;34m,\u001b[0m \u001b[0;36m1\u001b[0m\u001b[0;34m)\u001b[0m\u001b[0;34m:\u001b[0m\u001b[0;34m\u001b[0m\u001b[0m\n\u001b[1;32m   1042\u001b[0m         warnings.warn(\"Note that pos_label (set to %r) is ignored when \"\n",
      "\u001b[0;31mValueError\u001b[0m: Target is multiclass but average='binary'. Please choose another average setting."
     ]
    }
   ],
   "source": [
    "from sklearn.model_selection import RandomizedSearchCV\n",
    "\n",
    "iso_2 = IsolationForest()\n",
    "\n",
    "param_dist = {\"n_estimators\":range(20,2000), \n",
    "              \"max_samples\":range(100,2000), \n",
    "              \"max_features\":range(1,20), \n",
    "              \"contamination\":[fraud_ratio], \n",
    "              \"bootstrap\":[False, True]\n",
    "}\n",
    "\n",
    "random_search = RandomizedSearchCV(iso_2, param_distributions=param_dist, n_iter=30, scoring='f1')\n",
    "start = time()\n",
    "random_search.fit(X_train, y_train)\n",
    "\n",
    "print(\"Elapsed seconds: \", time()-start)\n",
    "report(random_search.cv_results_, n_top=4)"
   ]
  },
  {
   "cell_type": "markdown",
   "metadata": {},
   "source": [
    "This error is pretty baffling given that both the predictions and y_train are verifiably binary:"
   ]
  },
  {
   "cell_type": "code",
   "execution_count": null,
   "metadata": {
    "scrolled": true
   },
   "outputs": [],
   "source": [
    "tp = pd.Series(test_pred)\n",
    "tp.value_counts()"
   ]
  },
  {
   "cell_type": "code",
   "execution_count": null,
   "metadata": {
    "scrolled": true
   },
   "outputs": [],
   "source": [
    "y_train.value_counts()"
   ]
  },
  {
   "cell_type": "markdown",
   "metadata": {},
   "source": [
    "And if we try using a multiclass metric with the average specified..."
   ]
  },
  {
   "cell_type": "code",
   "execution_count": null,
   "metadata": {},
   "outputs": [],
   "source": [
    "# # trying this did nothing\n",
    "# from sklearn.preprocessing import label_binarize\n",
    "# y2 = label_binarize(y_train, classes=[0, 1])\n",
    "\n",
    "iso_2 = IsolationForest()\n",
    "\n",
    "param_dist = {\"n_estimators\":[50], \n",
    "              \"max_samples\":[300], \n",
    "              \"max_features\":[1], \n",
    "              \"contamination\":[fraud_ratio], \n",
    "              \"bootstrap\":[False, True]\n",
    "}\n",
    "\n",
    "random_search = RandomizedSearchCV(iso_2, param_distributions=param_dist, n_iter=2, scoring='f1_macro')\n",
    "start = time()\n",
    "random_search.fit(X_train, y_train)\n",
    "\n",
    "print(\"Elapsed seconds: \", time()-start)\n",
    "report(random_search.cv_results_, n_top=4)"
   ]
  },
  {
   "cell_type": "markdown",
   "metadata": {},
   "source": [
    "It doesn't like that either.  So I'm pretty much at a dead end here: the out-of-box performance is poor, and I can't get a hyperparameter sweep to run due to what sure looks like some sort of bug. "
   ]
  },
  {
   "cell_type": "markdown",
   "metadata": {},
   "source": [
    "## Everything below here is scratch -- ignore"
   ]
  },
  {
   "cell_type": "markdown",
   "metadata": {},
   "source": [
    "Stacking experiments"
   ]
  },
  {
   "cell_type": "code",
   "execution_count": null,
   "metadata": {},
   "outputs": [],
   "source": [
    "# stack 1: final boost like boosted tree\n",
    "rfc = RandomForestClassifier(n_estimators=40)\n",
    "rfc.fit(X_train, y_train)\n",
    "train_pred = rfc.predict(X_train)\n",
    "test_pred = rfc.predict(X_test)\n",
    "errors = train_pred-y_train\n",
    "\n",
    "rfc2 = RandomForestClassifier(n_estimators=40)\n",
    "rfc2.fit(X_train, errors)\n",
    "error_train_pred = rfc2.predict(X_train)\n",
    "error_test_pred = rfc2.predict(X_test)\n",
    "\n",
    "final_train_pred = train_pred - error_train_pred\n",
    "final_test_pred = test_pred - error_test_pred\n",
    "print(\"Train score: \", round(f1_score(y_train, final_train_pred), 3))\n",
    "print(\"Test score: \", round(f1_score(y_test, final_test_pred),3))\n"
   ]
  },
  {
   "cell_type": "markdown",
   "metadata": {},
   "source": [
    "TRY STACKING HERE (one boost after the RF - or more?)\n",
    "\n",
    "also JUST REALIZED that NNs are just stacked linear regressions.  What happens if you stack RFs in multiple layers???\n",
    "\n",
    "OR BETTER YET: figure out how to combine RFs into a NN-analogous structure\n",
    "A backprop equivalent is, I think, the key here.  Could you use something like gradient boost?"
   ]
  },
  {
   "cell_type": "code",
   "execution_count": null,
   "metadata": {},
   "outputs": [],
   "source": [
    "# stack 2: use outputs from trees as input\n",
    "# part 1: generate tree predictions\n",
    "train_predictions = []\n",
    "test_predictions = []\n",
    "forests = 20\n",
    "for i in range(forests):\n",
    "    rfc = RandomForestClassifier(n_estimators=5)\n",
    "    rfc.fit(X_train, y_train)\n",
    "    train_predictions.append(rfc.predict(X_train))\n",
    "    test_predictions.append(rfc.predict(X_test))"
   ]
  },
  {
   "cell_type": "code",
   "execution_count": null,
   "metadata": {},
   "outputs": [],
   "source": [
    "# experimental part 3: double-stack, like a NN\n",
    "train_predictions2 = []\n",
    "test_predictions2 = []\n",
    "forests = 20\n",
    "for i in range(forests):\n",
    "    rfc = RandomForestClassifier(n_estimators=5)\n",
    "    rfc.fit(train_predictions, y_train)\n",
    "    train_predictions2.append(rfc.predict(train_predictions))\n",
    "    test_predictions2.append(rfc.predict(test_predictions))"
   ]
  },
  {
   "cell_type": "code",
   "execution_count": null,
   "metadata": {},
   "outputs": [],
   "source": [
    "# part 2: train model on those predictions\n",
    "rfc = RandomForestClassifier(n_estimators=80)\n",
    "rfc.fit(predictions, y_train)\n",
    "train_pred = rfc.predict(train_predictions)\n",
    "test_pred = rfc.predict(test_predictions)\n",
    "\n",
    "false_pos = sum((y_test - test_pred) == -1)\n",
    "false_neg = sum((y_test - test_pred) == 1)\n",
    "print(\"Train score: \", round(f1_score(y_train, train_pred), 3))\n",
    "print(\"Test score: \", round(f1_score(y_test, test_pred),3))\n",
    "print(\"False negatives: \", false_neg)\n",
    "print('False positives: ', false_pos)"
   ]
  },
  {
   "cell_type": "markdown",
   "metadata": {},
   "source": [
    "For fun, take just the top two PCs and plot the gradient and shape as in the sklearn examples.  This might also help diagnose the problems with my anomaly detection algorithms."
   ]
  }
 ],
 "metadata": {
  "kernelspec": {
   "display_name": "Python 3",
   "language": "python",
   "name": "python3"
  },
  "language_info": {
   "codemirror_mode": {
    "name": "ipython",
    "version": 3
   },
   "file_extension": ".py",
   "mimetype": "text/x-python",
   "name": "python",
   "nbconvert_exporter": "python",
   "pygments_lexer": "ipython3",
   "version": "3.6.4"
  }
 },
 "nbformat": 4,
 "nbformat_minor": 2
}
