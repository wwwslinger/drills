{
 "cells": [
  {
   "cell_type": "code",
   "execution_count": 230,
   "metadata": {},
   "outputs": [],
   "source": [
    "import pandas as pd\n",
    "import numpy as np\n",
    "import scipy as sp\n",
    "import matplotlib.pyplot as plt\n",
    "import seaborn as sns\n",
    "import random\n",
    "random.seed(11)\n",
    "sns.set()\n",
    "%matplotlib inline"
   ]
  },
  {
   "cell_type": "markdown",
   "metadata": {},
   "source": [
    "# Introduction\n",
    "In this notebook, I'll be be using a database of credit card transactions to build an accurate predictor of whether a transaction is fraudulent.  The dataset, downloaded from Kaggle, is described in detail below.\n",
    "\n",
    "Thinkful's instructions: \"Using this credit card fraud dataset develop an algorithm to predict fraud. Prioritize correctly finding fraud rather than correctly labeling non-fraudulent transactions.\"  In light of this, my best metric will be the F1-score, since it doesn't take the number of true negatives into account (whereas an evenly balanced metric like theMatthews Coefficient does).\n",
    "\n",
    "\n",
    "# About the data\n",
    "\n",
    "From Kaggle:\n",
    "\n",
    "\"The dataset contains transactions made by credit cards in September 2013 by european cardholders. This dataset presents transactions that occurred in two days, where we have 492 frauds out of 284,807 transactions. The dataset is highly unbalanced, the positive class (frauds) account for 0.172% of all transactions.\n",
    "\n",
    "\"It contains only numerical input variables which are the result of a PCA transformation. Unfortunately, due to confidentiality issues, we cannot provide the original features and more background information about the data. Features V1, V2, ... V28 are the principal components obtained with PCA, the only features which have not been transformed with PCA are 'Time' and 'Amount'. Feature 'Time' contains the seconds elapsed between each transaction and the first transaction in the dataset. The feature 'Amount' is the transaction Amount, this feature can be used for example-dependant cost-senstive learning. Feature 'Class' is the response variable and it takes value 1 in case of fraud and 0 otherwise.\"\n",
    "\n",
    "It's particularly noteworthy that the dataset does not include an identity feature (so that pattern analysis could be personalized to each user).  The source does not specify whether this was included in the raw data (before PCA) or whether a version of PCA was used that could include a categorical variable of that nature.\n",
    "\n",
    "# Methods\n",
    "\n",
    "To begin with, I'll try a few general classifiers out of the box: logistic regression, random forest, and gradient boost.  Then I'll try a couple specific anomaly detection algorithms.  Of these models, I'll take the model that seems to be performing best and tweak it for optimization.\n",
    "\n",
    "Because the data is already a aset of Principal Components (except for Amount and Time), there's no real opportunity for feature engineering, so my experimentations here will all be algorithmic."
   ]
  },
  {
   "cell_type": "markdown",
   "metadata": {},
   "source": [
    "# Load and examine"
   ]
  },
  {
   "cell_type": "code",
   "execution_count": 14,
   "metadata": {},
   "outputs": [],
   "source": [
    "credit_df = pd.read_csv(\"practice/creditcard.csv\")"
   ]
  },
  {
   "cell_type": "code",
   "execution_count": 15,
   "metadata": {
    "scrolled": true
   },
   "outputs": [
    {
     "name": "stdout",
     "output_type": "stream",
     "text": [
      "(284807, 31)\n"
     ]
    },
    {
     "data": {
      "text/html": [
       "<div>\n",
       "<style scoped>\n",
       "    .dataframe tbody tr th:only-of-type {\n",
       "        vertical-align: middle;\n",
       "    }\n",
       "\n",
       "    .dataframe tbody tr th {\n",
       "        vertical-align: top;\n",
       "    }\n",
       "\n",
       "    .dataframe thead th {\n",
       "        text-align: right;\n",
       "    }\n",
       "</style>\n",
       "<table border=\"1\" class=\"dataframe\">\n",
       "  <thead>\n",
       "    <tr style=\"text-align: right;\">\n",
       "      <th></th>\n",
       "      <th>Time</th>\n",
       "      <th>V1</th>\n",
       "      <th>V2</th>\n",
       "      <th>V3</th>\n",
       "      <th>V4</th>\n",
       "      <th>V5</th>\n",
       "      <th>V6</th>\n",
       "      <th>V7</th>\n",
       "      <th>V8</th>\n",
       "      <th>V9</th>\n",
       "      <th>...</th>\n",
       "      <th>V21</th>\n",
       "      <th>V22</th>\n",
       "      <th>V23</th>\n",
       "      <th>V24</th>\n",
       "      <th>V25</th>\n",
       "      <th>V26</th>\n",
       "      <th>V27</th>\n",
       "      <th>V28</th>\n",
       "      <th>Amount</th>\n",
       "      <th>Class</th>\n",
       "    </tr>\n",
       "  </thead>\n",
       "  <tbody>\n",
       "    <tr>\n",
       "      <th>0</th>\n",
       "      <td>0.0</td>\n",
       "      <td>-1.359807</td>\n",
       "      <td>-0.072781</td>\n",
       "      <td>2.536347</td>\n",
       "      <td>1.378155</td>\n",
       "      <td>-0.338321</td>\n",
       "      <td>0.462388</td>\n",
       "      <td>0.239599</td>\n",
       "      <td>0.098698</td>\n",
       "      <td>0.363787</td>\n",
       "      <td>...</td>\n",
       "      <td>-0.018307</td>\n",
       "      <td>0.277838</td>\n",
       "      <td>-0.110474</td>\n",
       "      <td>0.066928</td>\n",
       "      <td>0.128539</td>\n",
       "      <td>-0.189115</td>\n",
       "      <td>0.133558</td>\n",
       "      <td>-0.021053</td>\n",
       "      <td>149.62</td>\n",
       "      <td>0</td>\n",
       "    </tr>\n",
       "    <tr>\n",
       "      <th>1</th>\n",
       "      <td>0.0</td>\n",
       "      <td>1.191857</td>\n",
       "      <td>0.266151</td>\n",
       "      <td>0.166480</td>\n",
       "      <td>0.448154</td>\n",
       "      <td>0.060018</td>\n",
       "      <td>-0.082361</td>\n",
       "      <td>-0.078803</td>\n",
       "      <td>0.085102</td>\n",
       "      <td>-0.255425</td>\n",
       "      <td>...</td>\n",
       "      <td>-0.225775</td>\n",
       "      <td>-0.638672</td>\n",
       "      <td>0.101288</td>\n",
       "      <td>-0.339846</td>\n",
       "      <td>0.167170</td>\n",
       "      <td>0.125895</td>\n",
       "      <td>-0.008983</td>\n",
       "      <td>0.014724</td>\n",
       "      <td>2.69</td>\n",
       "      <td>0</td>\n",
       "    </tr>\n",
       "    <tr>\n",
       "      <th>2</th>\n",
       "      <td>1.0</td>\n",
       "      <td>-1.358354</td>\n",
       "      <td>-1.340163</td>\n",
       "      <td>1.773209</td>\n",
       "      <td>0.379780</td>\n",
       "      <td>-0.503198</td>\n",
       "      <td>1.800499</td>\n",
       "      <td>0.791461</td>\n",
       "      <td>0.247676</td>\n",
       "      <td>-1.514654</td>\n",
       "      <td>...</td>\n",
       "      <td>0.247998</td>\n",
       "      <td>0.771679</td>\n",
       "      <td>0.909412</td>\n",
       "      <td>-0.689281</td>\n",
       "      <td>-0.327642</td>\n",
       "      <td>-0.139097</td>\n",
       "      <td>-0.055353</td>\n",
       "      <td>-0.059752</td>\n",
       "      <td>378.66</td>\n",
       "      <td>0</td>\n",
       "    </tr>\n",
       "    <tr>\n",
       "      <th>3</th>\n",
       "      <td>1.0</td>\n",
       "      <td>-0.966272</td>\n",
       "      <td>-0.185226</td>\n",
       "      <td>1.792993</td>\n",
       "      <td>-0.863291</td>\n",
       "      <td>-0.010309</td>\n",
       "      <td>1.247203</td>\n",
       "      <td>0.237609</td>\n",
       "      <td>0.377436</td>\n",
       "      <td>-1.387024</td>\n",
       "      <td>...</td>\n",
       "      <td>-0.108300</td>\n",
       "      <td>0.005274</td>\n",
       "      <td>-0.190321</td>\n",
       "      <td>-1.175575</td>\n",
       "      <td>0.647376</td>\n",
       "      <td>-0.221929</td>\n",
       "      <td>0.062723</td>\n",
       "      <td>0.061458</td>\n",
       "      <td>123.50</td>\n",
       "      <td>0</td>\n",
       "    </tr>\n",
       "    <tr>\n",
       "      <th>4</th>\n",
       "      <td>2.0</td>\n",
       "      <td>-1.158233</td>\n",
       "      <td>0.877737</td>\n",
       "      <td>1.548718</td>\n",
       "      <td>0.403034</td>\n",
       "      <td>-0.407193</td>\n",
       "      <td>0.095921</td>\n",
       "      <td>0.592941</td>\n",
       "      <td>-0.270533</td>\n",
       "      <td>0.817739</td>\n",
       "      <td>...</td>\n",
       "      <td>-0.009431</td>\n",
       "      <td>0.798278</td>\n",
       "      <td>-0.137458</td>\n",
       "      <td>0.141267</td>\n",
       "      <td>-0.206010</td>\n",
       "      <td>0.502292</td>\n",
       "      <td>0.219422</td>\n",
       "      <td>0.215153</td>\n",
       "      <td>69.99</td>\n",
       "      <td>0</td>\n",
       "    </tr>\n",
       "  </tbody>\n",
       "</table>\n",
       "<p>5 rows × 31 columns</p>\n",
       "</div>"
      ],
      "text/plain": [
       "   Time        V1        V2        V3        V4        V5        V6        V7  \\\n",
       "0   0.0 -1.359807 -0.072781  2.536347  1.378155 -0.338321  0.462388  0.239599   \n",
       "1   0.0  1.191857  0.266151  0.166480  0.448154  0.060018 -0.082361 -0.078803   \n",
       "2   1.0 -1.358354 -1.340163  1.773209  0.379780 -0.503198  1.800499  0.791461   \n",
       "3   1.0 -0.966272 -0.185226  1.792993 -0.863291 -0.010309  1.247203  0.237609   \n",
       "4   2.0 -1.158233  0.877737  1.548718  0.403034 -0.407193  0.095921  0.592941   \n",
       "\n",
       "         V8        V9  ...         V21       V22       V23       V24  \\\n",
       "0  0.098698  0.363787  ...   -0.018307  0.277838 -0.110474  0.066928   \n",
       "1  0.085102 -0.255425  ...   -0.225775 -0.638672  0.101288 -0.339846   \n",
       "2  0.247676 -1.514654  ...    0.247998  0.771679  0.909412 -0.689281   \n",
       "3  0.377436 -1.387024  ...   -0.108300  0.005274 -0.190321 -1.175575   \n",
       "4 -0.270533  0.817739  ...   -0.009431  0.798278 -0.137458  0.141267   \n",
       "\n",
       "        V25       V26       V27       V28  Amount  Class  \n",
       "0  0.128539 -0.189115  0.133558 -0.021053  149.62      0  \n",
       "1  0.167170  0.125895 -0.008983  0.014724    2.69      0  \n",
       "2 -0.327642 -0.139097 -0.055353 -0.059752  378.66      0  \n",
       "3  0.647376 -0.221929  0.062723  0.061458  123.50      0  \n",
       "4 -0.206010  0.502292  0.219422  0.215153   69.99      0  \n",
       "\n",
       "[5 rows x 31 columns]"
      ]
     },
     "execution_count": 15,
     "metadata": {},
     "output_type": "execute_result"
    }
   ],
   "source": [
    "print(credit_df.shape)\n",
    "credit_df.head()"
   ]
  },
  {
   "cell_type": "code",
   "execution_count": 16,
   "metadata": {},
   "outputs": [
    {
     "data": {
      "text/plain": [
       "0"
      ]
     },
     "execution_count": 16,
     "metadata": {},
     "output_type": "execute_result"
    }
   ],
   "source": [
    "credit_df.isnull().sum().sum()"
   ]
  },
  {
   "cell_type": "code",
   "execution_count": 17,
   "metadata": {
    "scrolled": false
   },
   "outputs": [
    {
     "name": "stdout",
     "output_type": "stream",
     "text": [
      "Mean transaction amount (Euros):  88.35\n",
      "Median transaction amount (Euros):  22.0\n"
     ]
    }
   ],
   "source": [
    "print(\"Mean transaction amount (Euros): \", round(credit_df.Amount.mean(), 2))\n",
    "print(\"Median transaction amount (Euros): \", credit_df.Amount.median())"
   ]
  },
  {
   "cell_type": "code",
   "execution_count": 231,
   "metadata": {},
   "outputs": [],
   "source": [
    "from sklearn.model_selection import train_test_split\n",
    "X = credit_df.drop('Class', axis=1)\n",
    "y = credit_df['Class']\n",
    "X_train, X_test, y_train, y_test = train_test_split(X, y, test_size=0.25)"
   ]
  },
  {
   "cell_type": "markdown",
   "metadata": {},
   "source": [
    "# Initial model trials\n",
    "\n",
    "## Model 1: logistic regression"
   ]
  },
  {
   "cell_type": "code",
   "execution_count": 62,
   "metadata": {},
   "outputs": [
    {
     "name": "stdout",
     "output_type": "stream",
     "text": [
      "Train score:  0.63\n",
      "Test score:  0.67\n",
      "False negatives:  33\n",
      "False positives:  45\n"
     ]
    }
   ],
   "source": [
    "from sklearn.linear_model import LogisticRegression\n",
    "from sklearn.metrics import confusion_matrix\n",
    "from sklearn.metrics import f1_score\n",
    "\n",
    "lreg = LogisticRegression(penalty='l2')\n",
    "lreg.fit(X_train, y_train)\n",
    "train_pred = lreg.predict(X_train)\n",
    "test_pred = lreg.predict(X_test)\n",
    "\n",
    "false_neg = sum((y_test - test_pred) == -1)\n",
    "false_pos = sum((y_test - test_pred) == 1)\n",
    "print(\"Train score: \", round(f1_score(y_train, train_pred), 3))\n",
    "print(\"Test score: \", round(f1_score(y_test, test_pred),3))\n",
    "print(\"False negatives: \", false_neg)\n",
    "print('False positives: ', false_pos)"
   ]
  },
  {
   "cell_type": "markdown",
   "metadata": {},
   "source": [
    "## Model 2: Random Forest"
   ]
  },
  {
   "cell_type": "code",
   "execution_count": 67,
   "metadata": {},
   "outputs": [
    {
     "name": "stdout",
     "output_type": "stream",
     "text": [
      "Train score:  0.98\n",
      "Test score:  0.87\n",
      "False negatives:  4\n",
      "False positives:  25\n",
      "Elapsed time (s):  46.73529767990112\n"
     ]
    }
   ],
   "source": [
    "from sklearn.ensemble import RandomForestClassifier\n",
    "from time import time\n",
    "start = time()\n",
    "\n",
    "rfc = RandomForestClassifier(n_estimators=20)\n",
    "rfc.fit(X_train, y_train)\n",
    "train_pred = rfc.predict(X_train)\n",
    "test_pred = rfc.predict(X_test)\n",
    "\n",
    "false_neg = sum((y_test - test_pred) == -1)\n",
    "false_pos = sum((y_test - test_pred) == 1)\n",
    "print(\"Train score: \", round(f1_score(y_train, train_pred), 3))\n",
    "print(\"Test score: \", round(f1_score(y_test, test_pred),3))\n",
    "print(\"False negatives: \", false_neg)\n",
    "print('False positives: ', false_pos)\n",
    "print('Elapsed time (s): ', time()-start)"
   ]
  },
  {
   "cell_type": "markdown",
   "metadata": {},
   "source": [
    "## Model 3: Gradient Boosted Tree"
   ]
  },
  {
   "cell_type": "code",
   "execution_count": 234,
   "metadata": {
    "scrolled": false
   },
   "outputs": [
    {
     "name": "stdout",
     "output_type": "stream",
     "text": [
      "Train score:  0.827\n",
      "Test score:  0.82\n",
      "False negatives:  36\n",
      "False positives:  8\n",
      "Elapsed time (s):  132.13475608825684\n"
     ]
    }
   ],
   "source": [
    "from sklearn.ensemble import GradientBoostingClassifier\n",
    "start = time()\n",
    "\n",
    "gbc = GradientBoostingClassifier()\n",
    "gbc.fit(X_train, y_train)\n",
    "train_pred = gbc.predict(X_train)\n",
    "test_pred = gbc.predict(X_test)\n",
    "\n",
    "false_pos = sum((y_test - test_pred) == -1)\n",
    "false_neg = sum((y_test - test_pred) == 1)\n",
    "print(\"Train score: \", round(f1_score(y_train, train_pred), 3))\n",
    "print(\"Test score: \", round(f1_score(y_test, test_pred),3))\n",
    "print(\"False negatives: \", false_neg)\n",
    "print('False positives: ', false_pos)\n",
    "print('Elapsed time (s): ', time()-start)"
   ]
  },
  {
   "cell_type": "markdown",
   "metadata": {},
   "source": [
    "## Model 4: Isolated Forest"
   ]
  },
  {
   "cell_type": "code",
   "execution_count": 199,
   "metadata": {
    "scrolled": true
   },
   "outputs": [
    {
     "name": "stdout",
     "output_type": "stream",
     "text": [
      "Train score:  0.292\n",
      "Test score:  0.256\n",
      "False negatives:  94\n",
      "False positives:  109\n",
      "Elapsed time (s):  55.993184089660645\n"
     ]
    }
   ],
   "source": [
    "from sklearn.ensemble import IsolationForest\n",
    "start = time()\n",
    "fraud_ratio = y_train.sum()/len(y_train)\n",
    "iso = IsolationForest(n_estimators=200, contamination=fraud_ratio, bootstrap=True)\n",
    "iso.fit(X_train, y_train)\n",
    "train_pred = iso.predict(X_train)\n",
    "test_pred = iso.predict(X_test)\n",
    "\n",
    "# convert +1/-1 output to 1/0:\n",
    "train_pred = (1-train_pred)/2\n",
    "test_pred = (1-test_pred)/2\n",
    "\n",
    "false_pos = sum((y_test - test_pred) == -1)\n",
    "false_neg = sum((y_test - test_pred) == 1)\n",
    "print(\"Train score: \", round(f1_score(y_train, train_pred), 3))\n",
    "print(\"Test score: \", round(f1_score(y_test, test_pred),3))\n",
    "print(\"False negatives: \", false_neg)\n",
    "print('False positives: ', false_pos)\n",
    "print('Elapsed time (s): ', time()-start)"
   ]
  },
  {
   "cell_type": "markdown",
   "metadata": {},
   "source": [
    "## Model 5: Local Outlier Factor"
   ]
  },
  {
   "cell_type": "code",
   "execution_count": 118,
   "metadata": {},
   "outputs": [
    {
     "name": "stdout",
     "output_type": "stream",
     "text": [
      "Score:  0.05\n"
     ]
    }
   ],
   "source": [
    "from sklearn.neighbors import LocalOutlierFactor\n",
    "start = time()\n",
    "lof = LocalOutlierFactor(contamination=fraud_ratio)\n",
    "pred = lof.fit_predict(X)\n",
    "\n",
    "# convert +1/-1 output to 1/0:\n",
    "pred = (1-pred)/2\n",
    "\n",
    "print(\"Score: \", round(f1_score(y, pred), 3))\n",
    "print('Elapsed time (s): ', time()-start)"
   ]
  },
  {
   "cell_type": "markdown",
   "metadata": {},
   "source": [
    "# Model choice conclusions\n",
    "\n",
    "Bafflingly, while the Random Forest and Gradient Boosted Trees performed pretty well straight out of the box, both of the specific anomaly detection models scored miserably low (f1-scores of 0.26 and 0.05).  Why are these performing so badly?\n",
    "\n",
    "Probably the next logical outlier detectio nmodel to try would be a One-Class SVM. However, given the dismal results of anomaly detection algorithms so far, for the purposes of this exercise I'm going to run with Random Forest and Gradient Boosted Tree and try some optimization."
   ]
  },
  {
   "cell_type": "markdown",
   "metadata": {},
   "source": [
    "# Optimizing Random Forest\n",
    "\n",
    "First, let's run a hyperparameter sweep and see what we get."
   ]
  },
  {
   "cell_type": "code",
   "execution_count": 119,
   "metadata": {},
   "outputs": [],
   "source": [
    "# report utility function from http://scikit-learn.org/stable/auto_examples/model_selection/plot_randomized_search.html\n",
    "def report(results, n_top=3):\n",
    "    for i in range(1, n_top + 1):\n",
    "        candidates = np.flatnonzero(results['rank_test_score'] == i)\n",
    "        for candidate in candidates:\n",
    "            print(\"Model with rank: {0}\".format(i))\n",
    "            print(\"Mean validation score: {0:.3f} (std: {1:.3f})\".format(\n",
    "                  results['mean_test_score'][candidate],\n",
    "                  results['std_test_score'][candidate]))\n",
    "            print(\"Parameters: {0}\".format(results['params'][candidate]))\n",
    "            print(\"\")"
   ]
  },
  {
   "cell_type": "code",
   "execution_count": 138,
   "metadata": {},
   "outputs": [
    {
     "name": "stdout",
     "output_type": "stream",
     "text": [
      "Elapsed seconds:  7492.5006330013275\n",
      "Model with rank: 1\n",
      "Mean validation score: 1.000 (std: 0.000)\n",
      "Parameters: {'random_state': 11, 'n_estimators': 40, 'min_samples_split': 10, 'max_features': 9, 'max_depth': 20, 'criterion': 'entropy', 'bootstrap': False}\n",
      "\n",
      "Model with rank: 2\n",
      "Mean validation score: 1.000 (std: 0.000)\n",
      "Parameters: {'random_state': 11, 'n_estimators': 40, 'min_samples_split': 2, 'max_features': 9, 'max_depth': 20, 'criterion': 'entropy', 'bootstrap': True}\n",
      "\n",
      "Model with rank: 2\n",
      "Mean validation score: 1.000 (std: 0.000)\n",
      "Parameters: {'random_state': 11, 'n_estimators': 40, 'min_samples_split': 2, 'max_features': 12, 'max_depth': 20, 'criterion': 'gini', 'bootstrap': False}\n",
      "\n"
     ]
    }
   ],
   "source": [
    "from sklearn.model_selection import RandomizedSearchCV\n",
    "\n",
    "rfc_2 = RandomForestClassifier()\n",
    "\n",
    "param_dist = {\"n_estimators\":[40],\n",
    "              \"random_state\":[11],\n",
    "              \"max_depth\": [4,8,20],\n",
    "              \"max_features\": [6,9,12,20],\n",
    "              \"min_samples_split\": [2,10,20],\n",
    "              \"bootstrap\": [True, False],\n",
    "              \"criterion\": [\"gini\", \"entropy\"]\n",
    "}\n",
    "\n",
    "random_search = RandomizedSearchCV(rfc_2, param_distributions=param_dist, n_iter=25)\n",
    "start = time()\n",
    "random_search.fit(X_train, y_train)\n",
    "\n",
    "print(\"Elapsed seconds: \", time()-start)\n",
    "report(random_search.cv_results_, n_top=3)"
   ]
  },
  {
   "cell_type": "markdown",
   "metadata": {},
   "source": [
    "It looks like we have several equally good scores that are all somewhat overfit.  Let's take these general parameters and look at our test score, false negatives, and false positives."
   ]
  },
  {
   "cell_type": "code",
   "execution_count": 200,
   "metadata": {
    "scrolled": true
   },
   "outputs": [
    {
     "name": "stdout",
     "output_type": "stream",
     "text": [
      "Train score:  1.0\n",
      "Test score:  0.892\n",
      "False negatives:  22\n",
      "False positives:  4\n",
      "Elapsed time (s):  148.17836117744446\n"
     ]
    }
   ],
   "source": [
    "start = time()\n",
    "\n",
    "params = {'random_state': 11, \n",
    "          'n_estimators': 40, \n",
    "          'min_samples_split': 10, \n",
    "          'max_features': 9, \n",
    "          'max_depth': 20, \n",
    "          'criterion': 'entropy', \n",
    "          'bootstrap': False}\n",
    "\n",
    "rfc_opt = RandomForestClassifier(**params)\n",
    "rfc_opt.fit(X_train, y_train)\n",
    "train_pred = rfc_opt.predict(X_train)\n",
    "test_pred = rfc_opt.predict(X_test)\n",
    "\n",
    "false_pos = sum((y_test - test_pred) == -1)\n",
    "false_neg = sum((y_test - test_pred) == 1)\n",
    "print(\"Train score: \", round(f1_score(y_train, train_pred), 3))\n",
    "print(\"Test score: \", round(f1_score(y_test, test_pred),3))\n",
    "print(\"False negatives: \", false_neg)\n",
    "print('False positives: ', false_pos)\n",
    "print('Elapsed time (s): ', time()-start)"
   ]
  },
  {
   "cell_type": "markdown",
   "metadata": {},
   "source": [
    "The good news here is that our f1-score is pretty solid at 89%.  The bad news is that we still have 22 false negatives (out of 129 actual negatives), which means we're misidentifying 17% of fraudulent transactions.  Given the cost of failing to identify fraudulent transactions, this 83% fraud detection probably isn't good enough.\n",
    "\n",
    "We may be able to improve on this by changing our algorithm.  By adjusting the class weights of the random tree, we can heavily prioritize correctly identifying positive cases (the minority case) over negative cases.  Let's try over-weighting fraud identification by increasing powers of 10 and see what happens to our false negatives and our f1-scores."
   ]
  },
  {
   "cell_type": "code",
   "execution_count": 214,
   "metadata": {
    "scrolled": true
   },
   "outputs": [
    {
     "name": "stdout",
     "output_type": "stream",
     "text": [
      "Elapsed time (s):  429.8313000202179\n"
     ]
    }
   ],
   "source": [
    "start = time()\n",
    "scores = []\n",
    "false_neg_counts = []\n",
    "false_pos_counts = []\n",
    "balance_exps = [0, 2, 4, 6, 8, 10, 12]\n",
    "for balance_exp in balance_exps:\n",
    "    params = {'random_state': 11, \n",
    "              'n_estimators': 20, \n",
    "              'min_samples_split': 10, \n",
    "              'max_features': 9, \n",
    "              'max_depth': 20, \n",
    "              'criterion': 'entropy', \n",
    "              'bootstrap': False,\n",
    "              'class_weight': {0:1, 1:10**balance_exp}\n",
    "             }\n",
    "\n",
    "    rfc = RandomForestClassifier(**params)\n",
    "    rfc.fit(X_train, y_train)\n",
    "    train_pred = rfc.predict(X_train)\n",
    "    test_pred = rfc.predict(X_test)\n",
    "\n",
    "    false_neg_counts.append( sum((y_test - test_pred) == 1) )\n",
    "    false_pos_counts.append( sum((y_test - test_pred) == -1) )\n",
    "    scores.append( round(f1_score(y_train, train_pred), 3) )\n",
    "\n",
    "print('Elapsed time (s): ', time()-start)"
   ]
  },
  {
   "cell_type": "code",
   "execution_count": 216,
   "metadata": {
    "scrolled": true
   },
   "outputs": [
    {
     "data": {
      "image/png": "[encoded data removed]",
      "text/plain": [
       "<matplotlib.figure.Figure at 0x1154dd9b0>"
      ]
     },
     "metadata": {},
     "output_type": "display_data"
    }
   ],
   "source": [
    "plt.figure(figsize=(8,6))\n",
    "plt.plot(balance_exps, false_neg_counts, label='false negatives')\n",
    "plt.plot(balance_exps, false_pos_counts, label='false positives')\n",
    "plt.plot(balance_exps, [s*10 for s in scores], label='f1-scores * 10')\n",
    "plt.title(\"class_weight exponent vs model metrics\")\n",
    "plt.xlabel('log of weight imbalance')\n",
    "plt.ylabel('performance metrics')\n",
    "plt.legend()\n",
    "plt.ylim(0,40)\n",
    "plt.show()"
   ]
  },
  {
   "cell_type": "markdown",
   "metadata": {},
   "source": [
    "It looks like the tradeoff in accuracy is way too steep here: our f1-score drops below 0.5 before we see any significant reduction in false negatives.\n",
    "\n",
    "For now, then, our best try is 83% fraud detection with an f1-score of 89%.  Let's table that for now and try optimizing our gradient boosted tree model."
   ]
  },
  {
   "cell_type": "markdown",
   "metadata": {},
   "source": [
    "# Optimizing Gradient Boosted Tree\n",
    "\n",
    "We'll start by optimizing all parameters except the computation-intensive n_estimators and learning_rate, then hold the others constant while we tweak those two."
   ]
  },
  {
   "cell_type": "code",
   "execution_count": 141,
   "metadata": {
    "scrolled": true
   },
   "outputs": [
    {
     "name": "stdout",
     "output_type": "stream",
     "text": [
      "Elapsed seconds:  859.3788621425629\n",
      "Model with rank: 1\n",
      "Mean validation score: 0.999 (std: 0.000)\n",
      "Parameters: {'subsample': 1, 'random_state': 11, 'n_estimators': 50, 'max_features': 8, 'max_depth': 6, 'loss': 'exponential', 'learning_rate': 0.1}\n",
      "\n",
      "Model with rank: 2\n",
      "Mean validation score: 0.999 (std: 0.000)\n",
      "Parameters: {'subsample': 1, 'random_state': 11, 'n_estimators': 50, 'max_features': 6, 'max_depth': 6, 'loss': 'exponential', 'learning_rate': 0.1}\n",
      "\n",
      "Model with rank: 3\n",
      "Mean validation score: 0.999 (std: 0.000)\n",
      "Parameters: {'subsample': 0.6, 'random_state': 11, 'n_estimators': 50, 'max_features': 8, 'max_depth': 8, 'loss': 'exponential', 'learning_rate': 0.1}\n",
      "\n"
     ]
    }
   ],
   "source": [
    "from sklearn.model_selection import RandomizedSearchCV\n",
    "from time import time\n",
    "\n",
    "gbc_2 = GradientBoostingClassifier()\n",
    "\n",
    "param_dist = {\n",
    "    'loss': ['deviance','exponential'],\n",
    "    'n_estimators': [50], # we'll change this next time\n",
    "    'learning_rate': [0.1], # ditto\n",
    "    'max_depth': [2,4,6,8],\n",
    "    'max_features': [2,4,6,8],\n",
    "    'subsample': [0.1, 0.3, 0.6, 1],\n",
    "    'random_state': [11]\n",
    "}\n",
    "\n",
    "random_search = RandomizedSearchCV(gbc_2, param_distributions=param_dist, n_iter=25)\n",
    "start = time()\n",
    "random_search.fit(X_train, y_train)\n",
    "\n",
    "print(\"Elapsed seconds: \", time()-start)\n",
    "report(random_search.cv_results_, n_top=3)"
   ]
  },
  {
   "cell_type": "code",
   "execution_count": 143,
   "metadata": {
    "scrolled": true
   },
   "outputs": [
    {
     "name": "stdout",
     "output_type": "stream",
     "text": [
      "Elapsed seconds:  3412.5153291225433\n",
      "Model with rank: 1\n",
      "Mean validation score: 0.999 (std: 0.000)\n",
      "Parameters: {'subsample': 1, 'random_state': 11, 'n_estimators': 100, 'max_features': 6, 'max_depth': 6, 'loss': 'exponential', 'learning_rate': 0.2}\n",
      "\n",
      "Model with rank: 1\n",
      "Mean validation score: 0.999 (std: 0.000)\n",
      "Parameters: {'subsample': 1, 'random_state': 11, 'n_estimators': 200, 'max_features': 6, 'max_depth': 6, 'loss': 'exponential', 'learning_rate': 0.2}\n",
      "\n",
      "Model with rank: 3\n",
      "Mean validation score: 0.999 (std: 0.000)\n",
      "Parameters: {'subsample': 1, 'random_state': 11, 'n_estimators': 100, 'max_features': 6, 'max_depth': 6, 'loss': 'exponential', 'learning_rate': 0.1}\n",
      "\n",
      "Model with rank: 3\n",
      "Mean validation score: 0.999 (std: 0.000)\n",
      "Parameters: {'subsample': 1, 'random_state': 11, 'n_estimators': 200, 'max_features': 6, 'max_depth': 6, 'loss': 'exponential', 'learning_rate': 0.05}\n",
      "\n"
     ]
    }
   ],
   "source": [
    "from sklearn.model_selection import RandomizedSearchCV\n",
    "from time import time\n",
    "param_dist = {\n",
    "    'loss': ['exponential'],\n",
    "    'n_estimators': [50,100,200],\n",
    "    'learning_rate': [0.01, 0.05, 0.1, 0.2],\n",
    "    'max_depth': [6],\n",
    "    'max_features': [6],\n",
    "    'subsample': [1],\n",
    "    'random_state': [11]\n",
    "}\n",
    "\n",
    "random_search = RandomizedSearchCV(gbc_2, param_distributions=param_dist, n_iter=10)\n",
    "start = time()\n",
    "random_search.fit(X_train, y_train)\n",
    "\n",
    "print(\"Elapsed seconds: \", time()-start)\n",
    "report(random_search.cv_results_, n_top=3)"
   ]
  },
  {
   "cell_type": "code",
   "execution_count": 232,
   "metadata": {
    "scrolled": true
   },
   "outputs": [
    {
     "name": "stdout",
     "output_type": "stream",
     "text": [
      "Train score:  0.983\n",
      "Test score:  0.876\n",
      "False negatives:  27\n",
      "False positives:  4\n",
      "Elapsed time (s):  90.07184290885925\n"
     ]
    }
   ],
   "source": [
    "start = time()\n",
    "params = {'random_state': 11, 'n_estimators': 100, 'max_features': 6, 'max_depth': 6, 'loss': 'exponential', 'learning_rate': 0.2}\n",
    "\n",
    "gbc_3 = GradientBoostingClassifier(**params)\n",
    "gbc_3.fit(X_train, y_train)\n",
    "train_pred = gbc_3.predict(X_train)\n",
    "test_pred = gbc_3.predict(X_test)\n",
    "\n",
    "false_pos = sum((y_test - test_pred) == -1)\n",
    "false_neg = sum((y_test - test_pred) == 1)\n",
    "print(\"Train score: \", round(f1_score(y_train, train_pred), 3))\n",
    "print(\"Test score: \", round(f1_score(y_test, test_pred),3))\n",
    "print(\"False negatives: \", false_neg)\n",
    "print('False positives: ', false_pos)\n",
    "print('Elapsed time (s): ', time()-start)"
   ]
  },
  {
   "cell_type": "markdown",
   "metadata": {},
   "source": [
    "We can see that gradient boosted tree will yield basically the same results as random forest.  Since these results have one fewer false negative, we'll use gradient boosted tree as our top performer moving forward.  But they're basically identical."
   ]
  },
  {
   "cell_type": "markdown",
   "metadata": {},
   "source": [
    "## Final boosted tree test\n",
    "\n",
    "Our best model on our test set has been our gradient boosted tree.  Let's make sure this replicates across different random splits of our data (i.e., make sure it's not overfit to our test set)."
   ]
  },
  {
   "cell_type": "code",
   "execution_count": 236,
   "metadata": {
    "scrolled": false
   },
   "outputs": [
    {
     "name": "stdout",
     "output_type": "stream",
     "text": [
      "False negatives mean:  128.5\n",
      "False negatives variance:  30.25\n",
      "False positives mean:  112.75\n",
      "Mean f1-score: 0.002\n",
      "Elapsed time (s):  85.12541890144348\n"
     ]
    }
   ],
   "source": [
    "start = time()\n",
    "\n",
    "false_neg_counts = []\n",
    "false_pos_counts = []\n",
    "scores = []\n",
    "\n",
    "for i in range(4):\n",
    "    random.seed(a=None)\n",
    "    X_train2, X_test2, y_train2, y_test2 = train_test_split(X, y, test_size=0.25)\n",
    "\n",
    "    start = time()\n",
    "    params = {'random_state': 11, 'n_estimators': 100, 'max_features': 6, 'max_depth': 6, 'loss': 'exponential', 'learning_rate': 0.2}\n",
    "\n",
    "    gbc_4 = GradientBoostingClassifier(**params)\n",
    "    gbc_4.fit(X_train, y_train)\n",
    "    train_pred = gbc_4.predict(X_train)\n",
    "    test_pred = gbc_4.predict(X_test)\n",
    "    \n",
    "    false_pos = sum((y_test2 - test_pred) == -1)\n",
    "    false_negs = sum((y_test2 - test_pred) == 1)\n",
    "    score = round(f1_score(y_test2, test_pred),3)\n",
    "    \n",
    "    false_pos_counts.append(false_pos)\n",
    "    false_neg_counts.append(false_negs)\n",
    "    scores.append(score)\n",
    "    \n",
    "print(\"False negatives mean: \", round(np.mean(false_neg_counts),3) )\n",
    "print(\"False negatives variance: \", round(np.var(false_neg_counts),3) )\n",
    "print(\"False positives mean: \", round(np.mean(false_pos_counts),3) )\n",
    "print(\"Mean f1-score:\", round(np.mean(scores), 3) )\n",
    "print('Elapsed time (s): ', time()-start)\n",
    "random.seed(11)"
   ]
  },
  {
   "cell_type": "code",
   "execution_count": 235,
   "metadata": {},
   "outputs": [
    {
     "data": {
      "text/plain": [
       "[113, 130, 123, 123]"
      ]
     },
     "execution_count": 235,
     "metadata": {},
     "output_type": "execute_result"
    }
   ],
   "source": [
    "false_neg_counts"
   ]
  },
  {
   "cell_type": "markdown",
   "metadata": {},
   "source": [
    "Why on earth are these results coming back like this?  Why is the time so short, and why are the metrics so bad?  I've read through this line by line twice and can't make heads or tails of it.  For the moment, I'll stick with the results of the previous single test."
   ]
  },
  {
   "cell_type": "markdown",
   "metadata": {},
   "source": [
    "# Conclusions\n",
    "\n",
    "In light of these results, my recommendation would probably be for the bank in this case to adopt a hybrid model.\n",
    "\n",
    "The primary model would be the gradient boosted tree above, which catches 83% of fraudulent transactions with an almost nonexistent rate of false positives.  Transactions flagged by this fraud detector should be denied.\n",
    "\n",
    "The secondary should be a model that flags nearly all of the fraudulent transactions at the cost of also incorrectly flagging many non-fraudulent transactions.  We might, for instance, use our heavily weighted random forest model, which flagged 94% of fraudulent transactions, at the cost of having 98% of its flags were false flags.  For transactions flagged only by the seondary model, the transaction should only be denied if it is above a certain amount (e.g., 2,000 USD) above which the risk of a fraudulent transaction is unacceptable, or if it is the third or more consecutive secondary-flagged transaction (which would only occur in approximately 0.1 percent of all transactions).\n",
    "\n",
    "Together, these models will catch 83% of fraudulent transactions, and halt an additional 11% of fraudulent transactions if they are large transactions."
   ]
  },
  {
   "cell_type": "markdown",
   "metadata": {},
   "source": [
    "# Questions\n",
    "\n",
    "<ol>\n",
    "    <li>Why do the specific outlier factors (Local Outlier Factor and One-class SVM) perform so badly here?</li>\n",
    "     <li>What's going on with the haywire results of the final boosted tree test above?</li>\n",
    "    <li>It strikes me that this is a case where I probably should have divided my dataset three ways into a training set, cv set, and test set, rather than a simple train_test split.  I compensated for this by testing against several new random splits at the end, which is almost (but not totally) as good.  Should I have done a three-way split here?  Should I usually do a three-way split?</li>\n",
    "    <li>Why do the weight adjustments below not behave as expected?  Are there better ways to prioritize eliminating false positives?  (I get the impression that thresholding is not ideal.  And according to this paper, weighting and subsampling perform almost identically: http://statistics.berkeley.edu/sites/default/files/tech-reports/666.pdf)</li>\n",
    "</ol>\n",
    "    "
   ]
  },
  {
   "cell_type": "markdown",
   "metadata": {},
   "source": [
    "## Everything below here is scratch -- ignore"
   ]
  },
  {
   "cell_type": "markdown",
   "metadata": {},
   "source": [
    "Stacking experiments"
   ]
  },
  {
   "cell_type": "code",
   "execution_count": 145,
   "metadata": {},
   "outputs": [
    {
     "name": "stdout",
     "output_type": "stream",
     "text": [
      "Train score:  1.0\n",
      "Test score:  0.87\n"
     ]
    }
   ],
   "source": [
    "# stack 1: final boost like boosted tree\n",
    "rfc = RandomForestClassifier(n_estimators=40)\n",
    "rfc.fit(X_train, y_train)\n",
    "train_pred = rfc.predict(X_train)\n",
    "test_pred = rfc.predict(X_test)\n",
    "errors = train_pred-y_train\n",
    "\n",
    "rfc2 = RandomForestClassifier(n_estimators=40)\n",
    "rfc2.fit(X_train, errors)\n",
    "error_train_pred = rfc2.predict(X_train)\n",
    "error_test_pred = rfc2.predict(X_test)\n",
    "\n",
    "final_train_pred = train_pred - error_train_pred\n",
    "final_test_pred = test_pred - error_test_pred\n",
    "print(\"Train score: \", round(f1_score(y_train, final_train_pred), 3))\n",
    "print(\"Test score: \", round(f1_score(y_test, final_test_pred),3))\n"
   ]
  },
  {
   "cell_type": "markdown",
   "metadata": {},
   "source": [
    "TRY STACKING HERE (one boost after the RF - or more?)\n",
    "\n",
    "also JUST REALIZED that NNs are just stacked linear regressions.  What happens if you stack RFs in multiple layers???\n",
    "\n",
    "OR BETTER YET: figure out how to combine RFs into a NN-analogous structure\n",
    "A backprop equivalent is, I think, the key here.  Could you use something like gradient boost?"
   ]
  },
  {
   "cell_type": "code",
   "execution_count": null,
   "metadata": {},
   "outputs": [],
   "source": [
    "# stack 2: use outputs from trees as input\n",
    "# part 1: generate tree predictions\n",
    "train_predictions = []\n",
    "test_predictions = []\n",
    "forests = 20\n",
    "for i in range(forests):\n",
    "    rfc = RandomForestClassifier(n_estimators=5)\n",
    "    rfc.fit(X_train, y_train)\n",
    "    train_predictions.append(rfc.predict(X_train))\n",
    "    test_predictions.append(rfc.predict(X_test))"
   ]
  },
  {
   "cell_type": "code",
   "execution_count": null,
   "metadata": {},
   "outputs": [],
   "source": [
    "# experimental part 3: double-stack, like a NN\n",
    "train_predictions2 = []\n",
    "test_predictions2 = []\n",
    "forests = 20\n",
    "for i in range(forests):\n",
    "    rfc = RandomForestClassifier(n_estimators=5)\n",
    "    rfc.fit(train_predictions, y_train)\n",
    "    train_predictions2.append(rfc.predict(train_predictions))\n",
    "    test_predictions2.append(rfc.predict(test_predictions))"
   ]
  },
  {
   "cell_type": "code",
   "execution_count": null,
   "metadata": {},
   "outputs": [],
   "source": [
    "# part 2: train model on those predictions\n",
    "rfc = RandomForestClassifier(n_estimators=80)\n",
    "rfc.fit(predictions, y_train)\n",
    "train_pred = rfc.predict(train_predictions)\n",
    "test_pred = rfc.predict(test_predictions)\n",
    "\n",
    "false_pos = sum((y_test - test_pred) == -1)\n",
    "false_neg = sum((y_test - test_pred) == 1)\n",
    "print(\"Train score: \", round(f1_score(y_train, train_pred), 3))\n",
    "print(\"Test score: \", round(f1_score(y_test, test_pred),3))\n",
    "print(\"False negatives: \", false_neg)\n",
    "print('False positives: ', false_pos)"
   ]
  },
  {
   "cell_type": "markdown",
   "metadata": {},
   "source": [
    "For fun, take just the top two PCs and plot the gradient and shape as in the sklearn examples.  This might also help diagnose the problems with my anomaly detection algorithms."
   ]
  },
  {
   "cell_type": "code",
   "execution_count": null,
   "metadata": {},
   "outputs": [],
   "source": []
  }
 ],
 "metadata": {
  "kernelspec": {
   "display_name": "Python 3",
   "language": "python",
   "name": "python3"
  },
  "language_info": {
   "codemirror_mode": {
    "name": "ipython",
    "version": 3
   },
   "file_extension": ".py",
   "mimetype": "text/x-python",
   "name": "python",
   "nbconvert_exporter": "python",
   "pygments_lexer": "ipython3",
   "version": "3.6.4"
  }
 },
 "nbformat": 4,
 "nbformat_minor": 2
}
