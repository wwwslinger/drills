{
 "cells": [
  {
   "cell_type": "markdown",
   "metadata": {},
   "source": [
    "# Instructions\n",
    "<strong>DRILL: Improve this gradient boost model</strong>\n",
    "\n",
    "While this model is already doing all right (about 0.75 accuracy), we've seen from the Type I and Type II error rates that there is definitely room for improvement. Your task is to see how low you can get the error rates to go in the test set, based on your model in the training set. Strategies you might use include:\n",
    "\n",
    "- Creating new features\n",
    "- Applying more overfitting-prevention strategies like subsampling\n",
    "- More iterations\n",
    "- Trying a different loss function\n",
    "- Changing the structure of the weak learner: Allowing more leaves in the tree, or other modifications"
   ]
  },
  {
   "cell_type": "code",
   "execution_count": 134,
   "metadata": {},
   "outputs": [],
   "source": [
    "import pandas as pd\n",
    "import numpy as np\n",
    "import scipy as sp\n",
    "import matplotlib.pyplot as plt\n",
    "import seaborn as sns\n",
    "sns.set()\n",
    "%matplotlib inline\n",
    "\n",
    "from sklearn import ensemble\n",
    "from sklearn import datasets\n",
    "from sklearn.utils import shuffle\n",
    "from sklearn.metrics import mean_squared_error"
   ]
  },
  {
   "cell_type": "markdown",
   "metadata": {},
   "source": [
    "# Load and clean"
   ]
  },
  {
   "cell_type": "code",
   "execution_count": 136,
   "metadata": {
    "scrolled": true
   },
   "outputs": [
    {
     "name": "stdout",
     "output_type": "stream",
     "text": [
      "(8594, 13)\n"
     ]
    },
    {
     "data": {
      "text/html": [
       "<div>\n",
       "<style scoped>\n",
       "    .dataframe tbody tr th:only-of-type {\n",
       "        vertical-align: middle;\n",
       "    }\n",
       "\n",
       "    .dataframe tbody tr th {\n",
       "        vertical-align: top;\n",
       "    }\n",
       "\n",
       "    .dataframe thead th {\n",
       "        text-align: right;\n",
       "    }\n",
       "</style>\n",
       "<table border=\"1\" class=\"dataframe\">\n",
       "  <thead>\n",
       "    <tr style=\"text-align: right;\">\n",
       "      <th></th>\n",
       "      <th>cntry</th>\n",
       "      <th>idno</th>\n",
       "      <th>year</th>\n",
       "      <th>tvtot</th>\n",
       "      <th>ppltrst</th>\n",
       "      <th>pplfair</th>\n",
       "      <th>pplhlp</th>\n",
       "      <th>happy</th>\n",
       "      <th>sclmeet</th>\n",
       "      <th>sclact</th>\n",
       "      <th>gndr</th>\n",
       "      <th>agea</th>\n",
       "      <th>partner</th>\n",
       "    </tr>\n",
       "  </thead>\n",
       "  <tbody>\n",
       "    <tr>\n",
       "      <th>0</th>\n",
       "      <td>CH</td>\n",
       "      <td>5.0</td>\n",
       "      <td>6</td>\n",
       "      <td>3.0</td>\n",
       "      <td>3.0</td>\n",
       "      <td>10.0</td>\n",
       "      <td>5.0</td>\n",
       "      <td>8.0</td>\n",
       "      <td>5.0</td>\n",
       "      <td>4.0</td>\n",
       "      <td>2.0</td>\n",
       "      <td>60.0</td>\n",
       "      <td>1.0</td>\n",
       "    </tr>\n",
       "    <tr>\n",
       "      <th>1</th>\n",
       "      <td>CH</td>\n",
       "      <td>25.0</td>\n",
       "      <td>6</td>\n",
       "      <td>6.0</td>\n",
       "      <td>5.0</td>\n",
       "      <td>7.0</td>\n",
       "      <td>5.0</td>\n",
       "      <td>9.0</td>\n",
       "      <td>3.0</td>\n",
       "      <td>2.0</td>\n",
       "      <td>2.0</td>\n",
       "      <td>59.0</td>\n",
       "      <td>1.0</td>\n",
       "    </tr>\n",
       "    <tr>\n",
       "      <th>2</th>\n",
       "      <td>CH</td>\n",
       "      <td>26.0</td>\n",
       "      <td>6</td>\n",
       "      <td>1.0</td>\n",
       "      <td>8.0</td>\n",
       "      <td>8.0</td>\n",
       "      <td>8.0</td>\n",
       "      <td>7.0</td>\n",
       "      <td>6.0</td>\n",
       "      <td>3.0</td>\n",
       "      <td>1.0</td>\n",
       "      <td>24.0</td>\n",
       "      <td>2.0</td>\n",
       "    </tr>\n",
       "    <tr>\n",
       "      <th>3</th>\n",
       "      <td>CH</td>\n",
       "      <td>28.0</td>\n",
       "      <td>6</td>\n",
       "      <td>4.0</td>\n",
       "      <td>6.0</td>\n",
       "      <td>6.0</td>\n",
       "      <td>7.0</td>\n",
       "      <td>10.0</td>\n",
       "      <td>6.0</td>\n",
       "      <td>2.0</td>\n",
       "      <td>2.0</td>\n",
       "      <td>64.0</td>\n",
       "      <td>1.0</td>\n",
       "    </tr>\n",
       "    <tr>\n",
       "      <th>4</th>\n",
       "      <td>CH</td>\n",
       "      <td>29.0</td>\n",
       "      <td>6</td>\n",
       "      <td>5.0</td>\n",
       "      <td>6.0</td>\n",
       "      <td>7.0</td>\n",
       "      <td>5.0</td>\n",
       "      <td>8.0</td>\n",
       "      <td>7.0</td>\n",
       "      <td>2.0</td>\n",
       "      <td>2.0</td>\n",
       "      <td>55.0</td>\n",
       "      <td>1.0</td>\n",
       "    </tr>\n",
       "  </tbody>\n",
       "</table>\n",
       "</div>"
      ],
      "text/plain": [
       "  cntry  idno  year  tvtot  ppltrst  pplfair  pplhlp  happy  sclmeet  sclact  \\\n",
       "0    CH   5.0     6    3.0      3.0     10.0     5.0    8.0      5.0     4.0   \n",
       "1    CH  25.0     6    6.0      5.0      7.0     5.0    9.0      3.0     2.0   \n",
       "2    CH  26.0     6    1.0      8.0      8.0     8.0    7.0      6.0     3.0   \n",
       "3    CH  28.0     6    4.0      6.0      6.0     7.0   10.0      6.0     2.0   \n",
       "4    CH  29.0     6    5.0      6.0      7.0     5.0    8.0      7.0     2.0   \n",
       "\n",
       "   gndr  agea  partner  \n",
       "0   2.0  60.0      1.0  \n",
       "1   2.0  59.0      1.0  \n",
       "2   1.0  24.0      2.0  \n",
       "3   2.0  64.0      1.0  \n",
       "4   2.0  55.0      1.0  "
      ]
     },
     "execution_count": 136,
     "metadata": {},
     "output_type": "execute_result"
    }
   ],
   "source": [
    "raw_df = pd.read_csv(\n",
    "    \"https://raw.githubusercontent.com/Thinkful-Ed/data-201-resources/\"\n",
    "    \"master/ESS_practice_data/ESSdata_Thinkful.csv\")\n",
    "print(raw_df.shape)\n",
    "raw_df.head()"
   ]
  },
  {
   "cell_type": "markdown",
   "metadata": {},
   "source": [
    "Let's check our nulls and our country counts:"
   ]
  },
  {
   "cell_type": "code",
   "execution_count": 269,
   "metadata": {
    "scrolled": false
   },
   "outputs": [
    {
     "data": {
      "text/plain": [
       "cntry        0\n",
       "idno         0\n",
       "year         0\n",
       "tvtot        8\n",
       "ppltrst     14\n",
       "pplfair     39\n",
       "pplhlp      25\n",
       "happy       31\n",
       "sclmeet     15\n",
       "sclact      94\n",
       "gndr        10\n",
       "agea       239\n",
       "partner     17\n",
       "dtype: int64"
      ]
     },
     "execution_count": 269,
     "metadata": {},
     "output_type": "execute_result"
    }
   ],
   "source": [
    "raw_df.isnull().sum()"
   ]
  },
  {
   "cell_type": "code",
   "execution_count": 270,
   "metadata": {},
   "outputs": [
    {
     "data": {
      "text/plain": [
       "ES    2426\n",
       "SE    1816\n",
       "CH    1546\n",
       "NO    1462\n",
       "CZ    1316\n",
       "DE      28\n",
       "Name: cntry, dtype: int64"
      ]
     },
     "execution_count": 270,
     "metadata": {},
     "output_type": "execute_result"
    }
   ],
   "source": [
    "raw_df.cntry.value_counts()"
   ]
  },
  {
   "cell_type": "code",
   "execution_count": 138,
   "metadata": {
    "scrolled": true
   },
   "outputs": [
    {
     "data": {
      "text/html": [
       "<div>\n",
       "<style scoped>\n",
       "    .dataframe tbody tr th:only-of-type {\n",
       "        vertical-align: middle;\n",
       "    }\n",
       "\n",
       "    .dataframe tbody tr th {\n",
       "        vertical-align: top;\n",
       "    }\n",
       "\n",
       "    .dataframe thead th {\n",
       "        text-align: right;\n",
       "    }\n",
       "</style>\n",
       "<table border=\"1\" class=\"dataframe\">\n",
       "  <thead>\n",
       "    <tr style=\"text-align: right;\">\n",
       "      <th></th>\n",
       "      <th>cntry</th>\n",
       "      <th>tvtot</th>\n",
       "      <th>ppltrst</th>\n",
       "      <th>pplfair</th>\n",
       "      <th>pplhlp</th>\n",
       "      <th>happy</th>\n",
       "      <th>sclmeet</th>\n",
       "      <th>sclact</th>\n",
       "      <th>gndr</th>\n",
       "      <th>agea</th>\n",
       "      <th>partner</th>\n",
       "    </tr>\n",
       "  </thead>\n",
       "  <tbody>\n",
       "    <tr>\n",
       "      <th>0</th>\n",
       "      <td>CH</td>\n",
       "      <td>3.0</td>\n",
       "      <td>3.0</td>\n",
       "      <td>10.0</td>\n",
       "      <td>5.0</td>\n",
       "      <td>8.0</td>\n",
       "      <td>5.0</td>\n",
       "      <td>4.0</td>\n",
       "      <td>1</td>\n",
       "      <td>60.0</td>\n",
       "      <td>True</td>\n",
       "    </tr>\n",
       "    <tr>\n",
       "      <th>1</th>\n",
       "      <td>CH</td>\n",
       "      <td>6.0</td>\n",
       "      <td>5.0</td>\n",
       "      <td>7.0</td>\n",
       "      <td>5.0</td>\n",
       "      <td>9.0</td>\n",
       "      <td>3.0</td>\n",
       "      <td>2.0</td>\n",
       "      <td>1</td>\n",
       "      <td>59.0</td>\n",
       "      <td>True</td>\n",
       "    </tr>\n",
       "    <tr>\n",
       "      <th>2</th>\n",
       "      <td>CH</td>\n",
       "      <td>1.0</td>\n",
       "      <td>8.0</td>\n",
       "      <td>8.0</td>\n",
       "      <td>8.0</td>\n",
       "      <td>7.0</td>\n",
       "      <td>6.0</td>\n",
       "      <td>3.0</td>\n",
       "      <td>-1</td>\n",
       "      <td>24.0</td>\n",
       "      <td>False</td>\n",
       "    </tr>\n",
       "    <tr>\n",
       "      <th>3</th>\n",
       "      <td>CH</td>\n",
       "      <td>4.0</td>\n",
       "      <td>6.0</td>\n",
       "      <td>6.0</td>\n",
       "      <td>7.0</td>\n",
       "      <td>10.0</td>\n",
       "      <td>6.0</td>\n",
       "      <td>2.0</td>\n",
       "      <td>1</td>\n",
       "      <td>64.0</td>\n",
       "      <td>True</td>\n",
       "    </tr>\n",
       "    <tr>\n",
       "      <th>4</th>\n",
       "      <td>CH</td>\n",
       "      <td>5.0</td>\n",
       "      <td>6.0</td>\n",
       "      <td>7.0</td>\n",
       "      <td>5.0</td>\n",
       "      <td>8.0</td>\n",
       "      <td>7.0</td>\n",
       "      <td>2.0</td>\n",
       "      <td>1</td>\n",
       "      <td>55.0</td>\n",
       "      <td>True</td>\n",
       "    </tr>\n",
       "  </tbody>\n",
       "</table>\n",
       "</div>"
      ],
      "text/plain": [
       "  cntry  tvtot  ppltrst  pplfair  pplhlp  happy  sclmeet  sclact  gndr  agea  \\\n",
       "0    CH    3.0      3.0     10.0     5.0    8.0      5.0     4.0     1  60.0   \n",
       "1    CH    6.0      5.0      7.0     5.0    9.0      3.0     2.0     1  59.0   \n",
       "2    CH    1.0      8.0      8.0     8.0    7.0      6.0     3.0    -1  24.0   \n",
       "3    CH    4.0      6.0      6.0     7.0   10.0      6.0     2.0     1  64.0   \n",
       "4    CH    5.0      6.0      7.0     5.0    8.0      7.0     2.0     1  55.0   \n",
       "\n",
       "   partner  \n",
       "0     True  \n",
       "1     True  \n",
       "2    False  \n",
       "3     True  \n",
       "4     True  "
      ]
     },
     "execution_count": 138,
     "metadata": {},
     "output_type": "execute_result"
    }
   ],
   "source": [
    "# Nulls: Dropping a couple hundred out of 8600 rows is no biggie.  \n",
    "# Let's drop those - and the unnecessary ID number and year columns, while we're at it.\n",
    "happiness_df = raw_df.dropna().copy()\n",
    "happiness_df.drop(['idno', 'year'], axis=1, inplace=True)\n",
    "\n",
    "# And let's convert partner to a Boolean rather than 1 or 2.\n",
    "happiness_df['partner'] = happiness_df['partner']==1.0\n",
    "\n",
    "# Because we've got just 28 people from Germany (compared to at least 1200 from every other country here) \n",
    "# let's drop Germany.\n",
    "happiness_df = happiness_df[happiness_df['cntry']!='DE']\n",
    "\n",
    "# Let's make gender a -1 / +1 binary (useful for multiplying columns for feature generation later):\n",
    "happiness_df['gndr'] = (happiness_df['gndr']*2 - 3).astype(int)\n",
    "\n",
    "# And we'll convert our countries into dummy variables later, when we do our train/test splits.\n",
    "happiness_df.head()"
   ]
  },
  {
   "cell_type": "markdown",
   "metadata": {},
   "source": [
    "# Preliminary RF and boosted RT models"
   ]
  },
  {
   "cell_type": "code",
   "execution_count": 142,
   "metadata": {},
   "outputs": [],
   "source": [
    "from sklearn.model_selection import train_test_split\n",
    "X = pd.get_dummies(happiness_df.drop('partner', axis=1), columns=['cntry'])\n",
    "y = happiness_df['partner']\n",
    "X_train, X_test, y_train, y_test = train_test_split(X, y, test_size=0.25)"
   ]
  },
  {
   "cell_type": "code",
   "execution_count": 140,
   "metadata": {
    "scrolled": true
   },
   "outputs": [],
   "source": [
    "from sklearn.metrics import confusion_matrix\n",
    "def show_conf_mat(model):\n",
    "    model.fit(X_train, y_train)\n",
    "    y_pred = model.predict(X_test)\n",
    "    plt.figure(figsize=(5,5))\n",
    "    conf_mat = np.round(confusion_matrix(y_test, y_pred)/len(y_test), 2)\n",
    "    sns.heatmap(conf_mat, square=True, annot=True, annot_kws={'size':16}, cmap='RdBu_r', center=0, fmt='g')\n",
    "    plt.title('confusion matrix (by percentage)')\n",
    "    plt.show()"
   ]
  },
  {
   "cell_type": "markdown",
   "metadata": {},
   "source": [
    "First, a basic random forest, aka random tree + bagging:"
   ]
  },
  {
   "cell_type": "code",
   "execution_count": 128,
   "metadata": {},
   "outputs": [
    {
     "name": "stdout",
     "output_type": "stream",
     "text": [
      "[0.6971935  0.68423645 0.69704433 0.69837358] \n",
      " mean:  0.6942119679904318\n"
     ]
    },
    {
     "data": {
      "image/png": "[encoded data removed]",
      "text/plain": [
       "<matplotlib.figure.Figure at 0x1103d7f98>"
      ]
     },
     "metadata": {},
     "output_type": "display_data"
    }
   ],
   "source": [
    "from sklearn.ensemble import RandomForestClassifier\n",
    "from sklearn.model_selection import cross_val_score\n",
    "from sklearn.metrics import confusion_matrix\n",
    "\n",
    "rfc = RandomForestClassifier()\n",
    "cv_score = cross_val_score(rfc, X, y, cv=4)\n",
    "print(cv_score, '\\n mean: ', np.mean(cv_score))\n",
    "\n",
    "show_conf_mat(rfc)"
   ]
  },
  {
   "cell_type": "markdown",
   "metadata": {},
   "source": [
    "Not bad.  And now for a basic RT + boosting model with Thinkful's initial settings:"
   ]
  },
  {
   "cell_type": "code",
   "execution_count": 130,
   "metadata": {
    "scrolled": true
   },
   "outputs": [
    {
     "name": "stdout",
     "output_type": "stream",
     "text": [
      "CV scores: [0.73855244 0.72413793 0.75123153 0.7353376 ] \n",
      " mean:  0.7373148750206291\n",
      "Train score:  0.8105090311986863\n",
      "Test score:  0.7438423645320197\n"
     ]
    },
    {
     "data": {
      "image/png": "[encoded data removed]",
      "text/plain": [
       "<matplotlib.figure.Figure at 0x10ff35cc0>"
      ]
     },
     "metadata": {},
     "output_type": "display_data"
    }
   ],
   "source": [
    "params = {'n_estimators': 500,\n",
    "          'max_depth': 2,\n",
    "          'loss': 'deviance',\n",
    "          'random_state': 11}\n",
    "\n",
    "gbc_1 = ensemble.GradientBoostingClassifier(**params)\n",
    "cv_score = cross_val_score(gbc_1, X, y, cv=4)\n",
    "gbc_1.fit(X_train, y_train)\n",
    "train_score = gbc_1.score(X_train, y_train)\n",
    "test_score = gbc_1.score(X_test, y_test)\n",
    "\n",
    "print(\"CV scores:\", cv_score, '\\n mean: ', np.mean(cv_score))\n",
    "print(\"Train score: \", train_score)\n",
    "print(\"Test score: \", test_score)\n",
    "\n",
    "show_conf_mat(gbc_1)"
   ]
  },
  {
   "cell_type": "markdown",
   "metadata": {},
   "source": [
    "This is better, though not by a huge margin.  If we tinker with the parameters a bit (I've omitted the tinkering for sake of space), we see that we tend to overfit if we increase the depth of the trees.  Doubling or quadrupling the number of trees/estimators also leads to overfitting (albeit not as severe) with no true accuracy improvement.  One example of an improvement in speed and accuracy by lowering the number of trees:"
   ]
  },
  {
   "cell_type": "code",
   "execution_count": 143,
   "metadata": {},
   "outputs": [
    {
     "name": "stdout",
     "output_type": "stream",
     "text": [
      "CV scores: [0.76070901 0.74729064 0.74334975 0.73977329] \n",
      " mean:  0.7477806729405164\n",
      "Train score:  0.7658456486042693\n",
      "Test score:  0.7433497536945812\n"
     ]
    }
   ],
   "source": [
    "params = {'n_estimators': 100,\n",
    "          'max_depth': 2,\n",
    "          'loss': 'deviance',\n",
    "          'random_state': 11}\n",
    "\n",
    "gbc_1 = ensemble.GradientBoostingClassifier(**params)\n",
    "cv_score = cross_val_score(gbc_1, X, y, cv=4)\n",
    "gbc_1.fit(X_train, y_train)\n",
    "train_score = gbc_1.score(X_train, y_train)\n",
    "test_score = gbc_1.score(X_test, y_test)\n",
    "\n",
    "print(\"CV scores:\", cv_score, '\\n mean: ', np.mean(cv_score))\n",
    "print(\"Train score: \", train_score)\n",
    "print(\"Test score: \", test_score)"
   ]
  },
  {
   "cell_type": "markdown",
   "metadata": {},
   "source": [
    "So for now, 0.755 is the score to beat.  Let's what a hyperparamter search can get us:"
   ]
  },
  {
   "cell_type": "code",
   "execution_count": 147,
   "metadata": {},
   "outputs": [],
   "source": [
    "# report utility function from http://scikit-learn.org/stable/auto_examples/model_selection/plot_randomized_search.html\n",
    "def report(results, n_top=3):\n",
    "    for i in range(1, n_top + 1):\n",
    "        candidates = np.flatnonzero(results['rank_test_score'] == i)\n",
    "        for candidate in candidates:\n",
    "            print(\"Model with rank: {0}\".format(i))\n",
    "            print(\"Mean validation score: {0:.3f} (std: {1:.3f})\".format(\n",
    "                  results['mean_test_score'][candidate],\n",
    "                  results['std_test_score'][candidate]))\n",
    "            print(\"Parameters: {0}\".format(results['params'][candidate]))\n",
    "            print(\"\")"
   ]
  },
  {
   "cell_type": "code",
   "execution_count": 148,
   "metadata": {},
   "outputs": [
    {
     "name": "stdout",
     "output_type": "stream",
     "text": [
      "Elapsed seconds:  38.68736410140991\n",
      "Model with rank: 1\n",
      "Mean validation score: 0.759 (std: 0.005)\n",
      "Parameters: {'subsample': 1, 'random_state': 11, 'n_estimators': 100, 'max_features': 6, 'max_depth': 2, 'loss': 'exponential', 'learning_rate': 0.1}\n",
      "\n",
      "Model with rank: 2\n",
      "Mean validation score: 0.757 (std: 0.001)\n",
      "Parameters: {'subsample': 0.6, 'random_state': 11, 'n_estimators': 100, 'max_features': 6, 'max_depth': 4, 'loss': 'deviance', 'learning_rate': 0.1}\n",
      "\n",
      "Model with rank: 3\n",
      "Mean validation score: 0.757 (std: 0.005)\n",
      "Parameters: {'subsample': 0.6, 'random_state': 11, 'n_estimators': 100, 'max_features': 6, 'max_depth': 2, 'loss': 'deviance', 'learning_rate': 0.1}\n",
      "\n",
      "Model with rank: 3\n",
      "Mean validation score: 0.757 (std: 0.000)\n",
      "Parameters: {'subsample': 1, 'random_state': 11, 'n_estimators': 100, 'max_features': 2, 'max_depth': 4, 'loss': 'exponential', 'learning_rate': 0.1}\n",
      "\n"
     ]
    }
   ],
   "source": [
    "from sklearn.model_selection import RandomizedSearchCV\n",
    "from time import time\n",
    "param_dist = {\n",
    "    'loss': ['deviance','exponential'],\n",
    "    'n_estimators': [100], # we'll change this next time\n",
    "    'learning_rate': [0.1], # ditto\n",
    "    'max_depth': [2,4,6,8],\n",
    "    'max_features': [2,4,6,8],\n",
    "    'subsample': [0.1, 0.3, 0.6, 1],\n",
    "    'random_state': [11]\n",
    "}\n",
    "\n",
    "random_search = RandomizedSearchCV(gbc_1, param_distributions=param_dist, n_iter=25)\n",
    "start = time()\n",
    "random_search.fit(X_train, y_train)\n",
    "\n",
    "print(\"Elapsed seconds: \", time()-start)\n",
    "report(random_search.cv_results_, n_top=3)"
   ]
  },
  {
   "cell_type": "markdown",
   "metadata": {},
   "source": [
    "This is an improvement, but only a very slight one: 0.755 to 0.759.  Now we'll do the hyperparamter sweep for number of trees and learning rate, restricting the other parameters to the optimum values found above."
   ]
  },
  {
   "cell_type": "code",
   "execution_count": 149,
   "metadata": {
    "scrolled": false
   },
   "outputs": [
    {
     "name": "stdout",
     "output_type": "stream",
     "text": [
      "Elapsed seconds:  39.6924090385437\n",
      "Model with rank: 1\n",
      "Mean validation score: 0.758 (std: 0.002)\n",
      "Parameters: {'subsample': 1, 'random_state': 11, 'n_estimators': 500, 'max_features': 6, 'max_depth': 4, 'loss': 'deviance', 'learning_rate': 0.01}\n",
      "\n",
      "Model with rank: 2\n",
      "Mean validation score: 0.758 (std: 0.001)\n",
      "Parameters: {'subsample': 0.6, 'random_state': 11, 'n_estimators': 500, 'max_features': 6, 'max_depth': 2, 'loss': 'deviance', 'learning_rate': 0.05}\n",
      "\n",
      "Model with rank: 3\n",
      "Mean validation score: 0.757 (std: 0.001)\n",
      "Parameters: {'subsample': 0.6, 'random_state': 11, 'n_estimators': 50, 'max_features': 6, 'max_depth': 4, 'loss': 'exponential', 'learning_rate': 0.1}\n",
      "\n"
     ]
    }
   ],
   "source": [
    "from sklearn.model_selection import RandomizedSearchCV\n",
    "from time import time\n",
    "param_dist = {\n",
    "    'loss': ['deviance','exponential'],\n",
    "    'n_estimators': [50,100,200,500],\n",
    "    'learning_rate': [0.01, 0.05, 0.1, 0.2],\n",
    "    'max_depth': [2,4],\n",
    "    'max_features': [6],\n",
    "    'subsample': [0.6, 1],\n",
    "    'random_state': [11]\n",
    "}\n",
    "\n",
    "random_search = RandomizedSearchCV(gbc_1, param_distributions=param_dist, n_iter=25)\n",
    "start = time()\n",
    "random_search.fit(X_train, y_train)\n",
    "\n",
    "print(\"Elapsed seconds: \", time()-start)\n",
    "report(random_search.cv_results_, n_top=3)"
   ]
  },
  {
   "cell_type": "markdown",
   "metadata": {},
   "source": [
    "In short, it looks like toggling the parameters makes only a small difference here. Our accuracy starts at 0.74 and maxes out around 0.76.  For now, we'll save the best parameters for later use."
   ]
  },
  {
   "cell_type": "code",
   "execution_count": 150,
   "metadata": {},
   "outputs": [],
   "source": [
    "best_params = {'subsample': 1, \n",
    "               'random_state': 11, \n",
    "               'n_estimators': 100, \n",
    "               'max_features': 6, \n",
    "               'max_depth': 2, \n",
    "               'loss': 'exponential', \n",
    "               'learning_rate': 0.1}"
   ]
  },
  {
   "cell_type": "markdown",
   "metadata": {},
   "source": [
    "Finally, a quick look at AdaBoost:"
   ]
  },
  {
   "cell_type": "code",
   "execution_count": 290,
   "metadata": {
    "scrolled": true
   },
   "outputs": [
    {
     "name": "stdout",
     "output_type": "stream",
     "text": [
      "CV scores: [0.75824717 0.73596059 0.7364532  0.74420897] \n",
      " mean:  0.7437174829804253\n",
      "Train score:  0.755008210180624\n",
      "Test score:  0.7453201970443349\n"
     ]
    },
    {
     "data": {
      "image/png": "[encoded data removed]",
      "text/plain": [
       "<matplotlib.figure.Figure at 0x111de9780>"
      ]
     },
     "metadata": {},
     "output_type": "display_data"
    }
   ],
   "source": [
    "from sklearn.ensemble import AdaBoostClassifier\n",
    "\n",
    "ada = ensemble.AdaBoostClassifier()\n",
    "cv_score = cross_val_score(ada, X, y, cv=4)\n",
    "ada.fit(X_train, y_train)\n",
    "train_score = ada.score(X_train, y_train)\n",
    "test_score = ada.score(X_test, y_test)\n",
    "\n",
    "print(\"CV scores:\", cv_score, '\\n mean: ', np.mean(cv_score))\n",
    "print(\"Train score: \", train_score)\n",
    "print(\"Test score: \", test_score)\n",
    "\n",
    "show_conf_mat(ada)"
   ]
  },
  {
   "cell_type": "markdown",
   "metadata": {},
   "source": [
    "Basically the same results as our initial Gradient Boost run - so we could probably get close to our top Gradient Boost accuracy with some tuning.  But basically, we're stuck at 0.76 accuracy no matter what we do with this data as it is. \n",
    "\n",
    "Let's try some feature engineering."
   ]
  },
  {
   "cell_type": "markdown",
   "metadata": {},
   "source": [
    "# Feature engineering\n",
    "\n",
    "As an experiment here, I'm going to generate several new dataframes of featuresets to try running our models on.  The basic strategy will be:\n",
    "- generate a bunch of relative, combinatoric, and/or polynomial features\n",
    "- shrink featureset by selecting top feature_importances, and by running PCA\n",
    "- test full datasets, top feature_importance datasets, and PCA datasets\n",
    "- pick top performing dataset\n",
    "\n",
    "The generated datasets are as follows:\n",
    "- <b>happiness_df</b>: the original features\n",
    "- <b>relative_df</b>: all of the original features scaled to the means of their respective countries\n",
    "- <b>combo_df</b>: the original features plus all combinations of original features\n",
    "- <b>combo_2_df</b>: the original features plus squared features plus all combinations\n",
    "- <b>rel_combo_df</b>: the country-mean-scaled features plus all combinations of original features\n",
    "- <b>rel_combo_2_df</b>: the country-mean-scaled features plus squared features plus all combinations\n",
    "\n",
    "The PCA datasets will have to be generated separately post-train-test-split since PCA should only be fit to the training data."
   ]
  },
  {
   "cell_type": "code",
   "execution_count": 151,
   "metadata": {},
   "outputs": [],
   "source": [
    "# a little function to quickly construct boosted trees off a dataset and print the results\n",
    "def test_data(df, has_cntry=True):\n",
    "    start = time()\n",
    "    if has_cntry:\n",
    "        X = pd.get_dummies(df, columns=['cntry'])\n",
    "    else:\n",
    "        X = df\n",
    "    y = happiness_df['partner']\n",
    "    X_train, X_test, y_train, y_test = train_test_split(X, y, test_size=0.25)\n",
    "\n",
    "    gbc = ensemble.GradientBoostingClassifier(**best_params)\n",
    "    # cv_score = cross_val_score(gbc, X, y, cv=4)\n",
    "    gbc.fit(X_train, y_train)\n",
    "    train_score = gbc.score(X_train, y_train)\n",
    "    test_score = gbc.score(X_test, y_test)\n",
    "\n",
    "    # print(\"CV scores:\", cv_score, '\\n mean: ', np.mean(cv_score))\n",
    "    print(\"Train score: \", train_score)\n",
    "    print(\"Test score: \", test_score)\n",
    "    print(\"Elapsed time (seconds): \", time()-start)"
   ]
  },
  {
   "cell_type": "code",
   "execution_count": 57,
   "metadata": {
    "scrolled": false
   },
   "outputs": [
    {
     "data": {
      "text/html": [
       "<div>\n",
       "<style scoped>\n",
       "    .dataframe tbody tr th:only-of-type {\n",
       "        vertical-align: middle;\n",
       "    }\n",
       "\n",
       "    .dataframe tbody tr th {\n",
       "        vertical-align: top;\n",
       "    }\n",
       "\n",
       "    .dataframe thead th {\n",
       "        text-align: right;\n",
       "    }\n",
       "</style>\n",
       "<table border=\"1\" class=\"dataframe\">\n",
       "  <thead>\n",
       "    <tr style=\"text-align: right;\">\n",
       "      <th></th>\n",
       "      <th>cntry</th>\n",
       "      <th>tvtot</th>\n",
       "      <th>ppltrst</th>\n",
       "      <th>pplfair</th>\n",
       "      <th>pplhlp</th>\n",
       "      <th>happy</th>\n",
       "      <th>sclmeet</th>\n",
       "      <th>sclact</th>\n",
       "      <th>gndr</th>\n",
       "      <th>agea</th>\n",
       "      <th>partner</th>\n",
       "    </tr>\n",
       "  </thead>\n",
       "  <tbody>\n",
       "    <tr>\n",
       "      <th>0</th>\n",
       "      <td>CH</td>\n",
       "      <td>3.0</td>\n",
       "      <td>3.0</td>\n",
       "      <td>10.0</td>\n",
       "      <td>5.0</td>\n",
       "      <td>8.0</td>\n",
       "      <td>5.0</td>\n",
       "      <td>4.0</td>\n",
       "      <td>1</td>\n",
       "      <td>60.0</td>\n",
       "      <td>True</td>\n",
       "    </tr>\n",
       "    <tr>\n",
       "      <th>1</th>\n",
       "      <td>CH</td>\n",
       "      <td>6.0</td>\n",
       "      <td>5.0</td>\n",
       "      <td>7.0</td>\n",
       "      <td>5.0</td>\n",
       "      <td>9.0</td>\n",
       "      <td>3.0</td>\n",
       "      <td>2.0</td>\n",
       "      <td>1</td>\n",
       "      <td>59.0</td>\n",
       "      <td>True</td>\n",
       "    </tr>\n",
       "    <tr>\n",
       "      <th>2</th>\n",
       "      <td>CH</td>\n",
       "      <td>1.0</td>\n",
       "      <td>8.0</td>\n",
       "      <td>8.0</td>\n",
       "      <td>8.0</td>\n",
       "      <td>7.0</td>\n",
       "      <td>6.0</td>\n",
       "      <td>3.0</td>\n",
       "      <td>-1</td>\n",
       "      <td>24.0</td>\n",
       "      <td>False</td>\n",
       "    </tr>\n",
       "    <tr>\n",
       "      <th>3</th>\n",
       "      <td>CH</td>\n",
       "      <td>4.0</td>\n",
       "      <td>6.0</td>\n",
       "      <td>6.0</td>\n",
       "      <td>7.0</td>\n",
       "      <td>10.0</td>\n",
       "      <td>6.0</td>\n",
       "      <td>2.0</td>\n",
       "      <td>1</td>\n",
       "      <td>64.0</td>\n",
       "      <td>True</td>\n",
       "    </tr>\n",
       "    <tr>\n",
       "      <th>4</th>\n",
       "      <td>CH</td>\n",
       "      <td>5.0</td>\n",
       "      <td>6.0</td>\n",
       "      <td>7.0</td>\n",
       "      <td>5.0</td>\n",
       "      <td>8.0</td>\n",
       "      <td>7.0</td>\n",
       "      <td>2.0</td>\n",
       "      <td>1</td>\n",
       "      <td>55.0</td>\n",
       "      <td>True</td>\n",
       "    </tr>\n",
       "  </tbody>\n",
       "</table>\n",
       "</div>"
      ],
      "text/plain": [
       "  cntry  tvtot  ppltrst  pplfair  pplhlp  happy  sclmeet  sclact  gndr  agea  \\\n",
       "0    CH    3.0      3.0     10.0     5.0    8.0      5.0     4.0     1  60.0   \n",
       "1    CH    6.0      5.0      7.0     5.0    9.0      3.0     2.0     1  59.0   \n",
       "2    CH    1.0      8.0      8.0     8.0    7.0      6.0     3.0    -1  24.0   \n",
       "3    CH    4.0      6.0      6.0     7.0   10.0      6.0     2.0     1  64.0   \n",
       "4    CH    5.0      6.0      7.0     5.0    8.0      7.0     2.0     1  55.0   \n",
       "\n",
       "   partner  \n",
       "0     True  \n",
       "1     True  \n",
       "2    False  \n",
       "3     True  \n",
       "4     True  "
      ]
     },
     "execution_count": 57,
     "metadata": {},
     "output_type": "execute_result"
    }
   ],
   "source": [
    "happiness_df.head()"
   ]
  },
  {
   "cell_type": "code",
   "execution_count": 152,
   "metadata": {
    "scrolled": true
   },
   "outputs": [],
   "source": [
    "relative_df = happiness_df.copy()\n",
    "for col_name in relative_df.columns[1:10]: # excludes country, partner\n",
    "    cntry_means = relative_df.groupby('cntry')[col_name].agg(np.mean)\n",
    "    cntry_means_col = [cntry_means[cntry] for cntry in relative_df['cntry']]\n",
    "    relative_df[col_name] = relative_df[col_name] / cntry_means_col"
   ]
  },
  {
   "cell_type": "code",
   "execution_count": 153,
   "metadata": {},
   "outputs": [],
   "source": [
    "from sklearn.preprocessing import PolynomialFeatures\n",
    "poly = PolynomialFeatures(degree=2,interaction_only=True, include_bias=False)\n",
    "combo_df = pd.DataFrame(poly.fit_transform(happiness_df.drop(['cntry', 'partner'], axis=1)))\n",
    "combo_df['cntry'] = happiness_df['cntry'].copy()"
   ]
  },
  {
   "cell_type": "code",
   "execution_count": 154,
   "metadata": {
    "scrolled": true
   },
   "outputs": [],
   "source": [
    "poly = PolynomialFeatures(degree=2,include_bias=False,interaction_only=False)\n",
    "combo_2_df = pd.DataFrame(poly.fit_transform(happiness_df.drop(['cntry', 'partner'], axis=1)))\n",
    "combo_2_df['cntry'] = happiness_df['cntry'].copy()"
   ]
  },
  {
   "cell_type": "code",
   "execution_count": 155,
   "metadata": {},
   "outputs": [],
   "source": [
    "poly = PolynomialFeatures(degree=2,interaction_only=True, include_bias=False)\n",
    "rel_combo_df = pd.DataFrame(poly.fit_transform(relative_df.drop(['cntry', 'partner'], axis=1)))\n",
    "rel_combo_df['cntry'] = happiness_df['cntry'].copy()"
   ]
  },
  {
   "cell_type": "code",
   "execution_count": 156,
   "metadata": {
    "scrolled": true
   },
   "outputs": [],
   "source": [
    "poly = PolynomialFeatures(degree=2,interaction_only=False,include_bias=False)\n",
    "rel_combo_2_df = pd.DataFrame(poly.fit_transform(relative_df.drop(['cntry', 'partner'], axis=1)))\n",
    "rel_combo_2_df['cntry'] = happiness_df['cntry'].copy()"
   ]
  },
  {
   "cell_type": "code",
   "execution_count": 157,
   "metadata": {
    "scrolled": true
   },
   "outputs": [
    {
     "name": "stdout",
     "output_type": "stream",
     "text": [
      "*********\n",
      " Unmodified data: \n",
      "Train score:  0.7582922824302135\n",
      "Test score:  0.7497536945812808\n",
      "Elapsed time (seconds):  0.2036888599395752\n",
      "*********\n",
      " Relative data: \n",
      "Train score:  0.7614121510673235\n",
      "Test score:  0.7438423645320197\n",
      "Elapsed time (seconds):  0.19133329391479492\n",
      "*********\n",
      " Feature-combined data: \n",
      "Train score:  0.7648604269293925\n",
      "Test score:  0.7591133004926108\n",
      "Elapsed time (seconds):  0.2402801513671875\n",
      "*********\n",
      " Feature-combined + squared data: \n",
      "Train score:  0.7633825944170771\n",
      "Test score:  0.7527093596059113\n",
      "Elapsed time (seconds):  0.2300570011138916\n",
      "*********\n",
      " Relative feature-combined data: \n",
      "Train score:  0.7660098522167488\n",
      "Test score:  0.7467980295566502\n",
      "Elapsed time (seconds):  0.26165103912353516\n",
      "*********\n",
      " Relative feature-combined + squared data: \n",
      "Train score:  0.7609195402298851\n",
      "Test score:  0.7605911330049261\n",
      "Elapsed time (seconds):  0.2676119804382324\n",
      "*********\n",
      " Relative feature-combined + squared data w/out country: \n",
      "Train score:  0.7666666666666667\n",
      "Test score:  0.7463054187192119\n",
      "Elapsed time (seconds):  0.262653112411499\n"
     ]
    }
   ],
   "source": [
    "print(\"*********\\n Unmodified data: \")\n",
    "test_data(happiness_df.drop('partner', axis=1))\n",
    "print(\"*********\\n Relative data: \")\n",
    "test_data(relative_df.drop('partner', axis=1))\n",
    "print(\"*********\\n Feature-combined data: \")\n",
    "test_data(combo_df)\n",
    "print(\"*********\\n Feature-combined + squared data: \")\n",
    "test_data(combo_2_df)\n",
    "print(\"*********\\n Relative feature-combined data: \")\n",
    "test_data(rel_combo_df)\n",
    "print(\"*********\\n Relative feature-combined + squared data: \")\n",
    "test_data(rel_combo_2_df)\n",
    "print(\"*********\\n Relative feature-combined + squared data w/out country: \")\n",
    "test_data(rel_combo_2_df.drop('cntry', axis=1), has_cntry=False)"
   ]
  },
  {
   "cell_type": "markdown",
   "metadata": {},
   "source": [
    "Wow - we're still thoroughly stuck at the same level as the original, unmodified data.\n",
    "\n",
    "Let's see if we can get some feature importance info here:"
   ]
  },
  {
   "cell_type": "code",
   "execution_count": 164,
   "metadata": {
    "scrolled": true
   },
   "outputs": [
    {
     "name": "stdout",
     "output_type": "stream",
     "text": [
      "Train score:  0.7676518883415435\n",
      "Test score:  0.7502463054187192\n"
     ]
    }
   ],
   "source": [
    "X = pd.get_dummies(rel_combo_2_df, columns=['cntry'])\n",
    "y = happiness_df['partner']\n",
    "X_train, X_test, y_train, y_test = train_test_split(X, y, test_size=0.25)\n",
    "\n",
    "gbc_5 = ensemble.GradientBoostingClassifier(**best_params)\n",
    "gbc_5.fit(X_train, y_train)\n",
    "train_score = gbc_5.score(X_train, y_train)\n",
    "test_score = gbc_5.score(X_test, y_test)\n",
    "\n",
    "print(\"Train score: \", train_score)\n",
    "print(\"Test score: \", test_score)"
   ]
  },
  {
   "cell_type": "code",
   "execution_count": 166,
   "metadata": {
    "scrolled": true
   },
   "outputs": [
    {
     "data": {
      "image/png": "[encoded data removed]",
      "text/plain": [
       "<matplotlib.figure.Figure at 0x10c22ac18>"
      ]
     },
     "metadata": {},
     "output_type": "display_data"
    }
   ],
   "source": [
    "labeled_fi = sorted( list(zip(X_train.columns, gbc_5.feature_importances_)), key=lambda x: -x[1])\n",
    "plt.figure(figsize=(12,5))\n",
    "x_imp = [tup[0] for tup in labeled_fi[:25]]\n",
    "y_labels = [tup[1] for tup in labeled_fi[:25]]\n",
    "plt.xticks(rotation=90)\n",
    "sns.barplot(x_imp, y_labels);"
   ]
  },
  {
   "cell_type": "code",
   "execution_count": 172,
   "metadata": {
    "scrolled": false
   },
   "outputs": [
    {
     "data": {
      "text/plain": [
       "[(53, 0.14509901706791667),\n",
       " (8, 0.11206288696780442),\n",
       " (39, 0.05992083123997044),\n",
       " (43, 0.05720184297979336),\n",
       " (52, 0.044145187926058344),\n",
       " (32, 0.04083626840627251),\n",
       " (45, 0.040413322453058106),\n",
       " (17, 0.03900616669303408),\n",
       " (4, 0.03671893172787829),\n",
       " (50, 0.03480580616982972)]"
      ]
     },
     "execution_count": 172,
     "metadata": {},
     "output_type": "execute_result"
    }
   ],
   "source": [
    "labeled_fi[:10]"
   ]
  },
  {
   "cell_type": "markdown",
   "metadata": {},
   "source": [
    "Bafflingly, this isn't graphing as sorted, even though it in fact sorted (see above).  ????  At any rate, it's of no interpretational use because the labels produced by sklearn's combination algorithm are totally uninformative. \n",
    "\n",
    "We could try taking the top 10 features and running the algorithm with only those:"
   ]
  },
  {
   "cell_type": "code",
   "execution_count": 203,
   "metadata": {},
   "outputs": [
    {
     "name": "stdout",
     "output_type": "stream",
     "text": [
      "Train score:  0.7614121510673235\n",
      "Test score:  0.7541871921182266\n"
     ]
    }
   ],
   "source": [
    "col_nums = [tup[0] for tup in labeled_fi[:10]]\n",
    "X = pd.get_dummies(rel_combo_2_df, columns=['cntry']).iloc[:, col_nums]\n",
    "y = happiness_df['partner']\n",
    "X_train, X_test, y_train, y_test = train_test_split(X, y, test_size=0.25)\n",
    "\n",
    "gbc_5 = ensemble.GradientBoostingClassifier(**best_params)\n",
    "gbc_5.fit(X_train, y_train)\n",
    "train_score = gbc_5.score(X_train, y_train)\n",
    "test_score = gbc_5.score(X_test, y_test)\n",
    "\n",
    "print(\"Train score: \", train_score)\n",
    "print(\"Test score: \", test_score)"
   ]
  },
  {
   "cell_type": "markdown",
   "metadata": {},
   "source": [
    "Not much difference here - it's less accurate, but very slightly.  Now let's try PCA - first with a regularized version of our combination squared featureset:"
   ]
  },
  {
   "cell_type": "code",
   "execution_count": 204,
   "metadata": {},
   "outputs": [],
   "source": [
    "from sklearn.decomposition import PCA\n",
    "from sklearn.preprocessing import MinMaxScaler\n",
    "scaler = MinMaxScaler()\n",
    "X = scaler.fit_transform ( pd.get_dummies(combo_2_df, columns=['cntry']) )\n",
    "X_train, X_test, y_train, y_test = train_test_split(X, happiness_df['partner'], test_size=0.25)\n",
    "pca = PCA(n_components=20)\n",
    "pca.fit(X_train)\n",
    "Xpc_train = pca.transform(X_train)\n",
    "Xpc_test = pca.transform(X_test)"
   ]
  },
  {
   "cell_type": "code",
   "execution_count": 210,
   "metadata": {
    "scrolled": true
   },
   "outputs": [
    {
     "name": "stdout",
     "output_type": "stream",
     "text": [
      "Train score:  0.7431855500821019\n",
      "Test score:  0.7216748768472906\n"
     ]
    }
   ],
   "source": [
    "gbc_pca = ensemble.GradientBoostingClassifier(**best_params)\n",
    "# cv_score = cross_val_score(gbc_pca, X, y, cv=4)\n",
    "gbc_pca.fit(Xpc_train, y_train)\n",
    "train_score = gbc_pca.score(Xpc_train, y_train)\n",
    "test_score = gbc_pca.score(Xpc_test, y_test)\n",
    "\n",
    "# print(\"CV scores:\", cv_score, '\\n mean: ', np.mean(cv_score))\n",
    "print(\"Train score: \", train_score)\n",
    "print(\"Test score: \", test_score)"
   ]
  },
  {
   "cell_type": "markdown",
   "metadata": {},
   "source": [
    "Interesting: it's a fair bit worse.  And how about PCA with the *unregularized* combination squared featureset:"
   ]
  },
  {
   "cell_type": "code",
   "execution_count": 211,
   "metadata": {},
   "outputs": [],
   "source": [
    "X_train, X_test, y_train, y_test = train_test_split(pd.get_dummies(combo_2_df, columns=['cntry']), happiness_df['partner'], test_size=0.25)\n",
    "pca = PCA(n_components=20)\n",
    "pca.fit(X_train)\n",
    "Xpc_train = pca.transform(X_train)\n",
    "Xpc_test = pca.transform(X_test)"
   ]
  },
  {
   "cell_type": "code",
   "execution_count": 212,
   "metadata": {
    "scrolled": true
   },
   "outputs": [
    {
     "name": "stdout",
     "output_type": "stream",
     "text": [
      "Train score:  0.770607553366174\n",
      "Test score:  0.7497536945812808\n"
     ]
    }
   ],
   "source": [
    "gbc_pca = ensemble.GradientBoostingClassifier(**best_params)\n",
    "# cv_score = cross_val_score(gbc_pca, X, y, cv=4)\n",
    "gbc_pca.fit(Xpc_train, y_train)\n",
    "train_score = gbc_pca.score(Xpc_train, y_train)\n",
    "test_score = gbc_pca.score(Xpc_test, y_test)\n",
    "\n",
    "# print(\"CV scores:\", cv_score, '\\n mean: ', np.mean(cv_score))\n",
    "print(\"Train score: \", train_score)\n",
    "print(\"Test score: \", test_score)"
   ]
  },
  {
   "cell_type": "markdown",
   "metadata": {},
   "source": [
    "Oddly, this score is significantly better than the PCA-version of the regularized dataset (though still worse than the original data)."
   ]
  },
  {
   "cell_type": "markdown",
   "metadata": {},
   "source": [
    "Finally, PCA with unregularized *relative* combo squared featureset:"
   ]
  },
  {
   "cell_type": "code",
   "execution_count": 216,
   "metadata": {
    "scrolled": true
   },
   "outputs": [
    {
     "name": "stdout",
     "output_type": "stream",
     "text": [
      "Train score:  0.7126436781609196\n",
      "Test score:  0.7044334975369458\n"
     ]
    }
   ],
   "source": [
    "X_train, X_test, y_train, y_test = train_test_split(pd.get_dummies(rel_combo_2_df, columns=['cntry']), happiness_df['partner'], test_size=0.25)\n",
    "pca = PCA(n_components=12)\n",
    "pca.fit(X_train)\n",
    "Xpc_train = pca.transform(X_train)\n",
    "Xpc_test = pca.transform(X_test)\n",
    "\n",
    "gbc_pca = ensemble.GradientBoostingClassifier(**best_params)\n",
    "# cv_score = cross_val_score(gbc_pca, X, y, cv=4)\n",
    "gbc_pca.fit(Xpc_train, y_train)\n",
    "train_score = gbc_pca.score(Xpc_train, y_train)\n",
    "test_score = gbc_pca.score(Xpc_test, y_test)\n",
    "\n",
    "# print(\"CV scores:\", cv_score, '\\n mean: ', np.mean(cv_score))\n",
    "print(\"Train score: \", train_score)\n",
    "print(\"Test score: \", test_score)"
   ]
  },
  {
   "cell_type": "markdown",
   "metadata": {},
   "source": [
    "Definitely not a winner."
   ]
  },
  {
   "cell_type": "markdown",
   "metadata": {},
   "source": [
    "It seems to me (for reasons explained in the conclusion below) that feature engineering may be pretty much useless for random forests and boosted trees, because they already account for variable interaction and aren't constricted to linear boundaries.  To test this, let's try running logistic regression on these datasets.  My hypothesis is that properly regularized logistic regression will produce better results with the expanded (engineered) datasets."
   ]
  },
  {
   "cell_type": "code",
   "execution_count": 222,
   "metadata": {},
   "outputs": [],
   "source": [
    "from sklearn.linear_model import LogisticRegression\n",
    "\n",
    "def test_lreg_data(df, has_cntry=True):\n",
    "    start = time()\n",
    "    if has_cntry:\n",
    "        X = pd.get_dummies(df, columns=['cntry'])\n",
    "    else:\n",
    "        X = df\n",
    "    y = happiness_df['partner']\n",
    "    X_train, X_test, y_train, y_test = train_test_split(X, y, test_size=0.25)\n",
    "\n",
    "    lreg = LogisticRegression(penalty='l1')\n",
    "    lreg.fit(X_train, y_train)\n",
    "    train_score = lreg.score(X_train, y_train)\n",
    "    test_score = lreg.score(X_test, y_test)\n",
    "\n",
    "    print(\"Train score: \", train_score)\n",
    "    print(\"Test score: \", test_score)\n",
    "    print(\"Elapsed time (seconds): \", time()-start)"
   ]
  },
  {
   "cell_type": "code",
   "execution_count": 223,
   "metadata": {},
   "outputs": [
    {
     "name": "stdout",
     "output_type": "stream",
     "text": [
      "*********\n",
      " Unmodified data: \n",
      "Train score:  0.6990147783251232\n",
      "Test score:  0.7187192118226601\n",
      "Elapsed time (seconds):  0.11037683486938477\n",
      "*********\n",
      " Relative data: \n",
      "Train score:  0.7106732348111658\n",
      "Test score:  0.6975369458128079\n",
      "Elapsed time (seconds):  0.11685824394226074\n",
      "*********\n",
      " Feature-combined data: \n",
      "Train score:  0.7236453201970443\n",
      "Test score:  0.7078817733990148\n",
      "Elapsed time (seconds):  1.8555629253387451\n",
      "*********\n",
      " Feature-combined + squared data: \n",
      "Train score:  0.7568144499178981\n",
      "Test score:  0.7482758620689656\n",
      "Elapsed time (seconds):  2.9031522274017334\n",
      "*********\n",
      " Relative feature-combined data: \n",
      "Train score:  0.7152709359605911\n",
      "Test score:  0.7182266009852217\n",
      "Elapsed time (seconds):  0.9342520236968994\n",
      "*********\n",
      " Relative feature-combined + squared data: \n",
      "Train score:  0.7403940886699507\n",
      "Test score:  0.758128078817734\n",
      "Elapsed time (seconds):  0.19919514656066895\n",
      "*********\n",
      " Relative feature-combined + squared data w/out country: \n",
      "Train score:  0.7490968801313629\n",
      "Test score:  0.7536945812807881\n",
      "Elapsed time (seconds):  1.007044792175293\n"
     ]
    }
   ],
   "source": [
    "print(\"*********\\n Unmodified data: \")\n",
    "test_lreg_data(happiness_df.drop('partner', axis=1))\n",
    "print(\"*********\\n Relative data: \")\n",
    "test_lreg_data(relative_df.drop('partner', axis=1))\n",
    "print(\"*********\\n Feature-combined data: \")\n",
    "test_lreg_data(combo_df)\n",
    "print(\"*********\\n Feature-combined + squared data: \")\n",
    "test_lreg_data(combo_2_df)\n",
    "print(\"*********\\n Relative feature-combined data: \")\n",
    "test_lreg_data(rel_combo_df)\n",
    "print(\"*********\\n Relative feature-combined + squared data: \")\n",
    "test_lreg_data(rel_combo_2_df)\n",
    "print(\"*********\\n Relative feature-combined + squared data w/out country: \")\n",
    "test_lreg_data(rel_combo_2_df.drop('cntry', axis=1), has_cntry=False)"
   ]
  },
  {
   "cell_type": "markdown",
   "metadata": {},
   "source": [
    "My hypothesis is basically true: we get a bump of about four percentage points in our accuracy by feature engineering.  It's not an enormous difference, but it's significant - whereas the data changes didn't even move us one percentage point on the boosting model."
   ]
  },
  {
   "cell_type": "markdown",
   "metadata": {},
   "source": [
    "# Conclusion:\n",
    "\n",
    "A summary of what I've tried:\n",
    "- a hyperparameter sweep of all the main parameters of Gradient Boost\n",
    "- all possible two-variable combinations of the data\n",
    "- squaring all variables in the data\n",
    "- normalizing all data columns to the individual's country's averages\n",
    "- running PCA on both regularized and unregularized versions of the maximal dataset.\n",
    "\n",
    "All of these methods produced between 0.70 and 0.76 accuracy.  My improvement on Thinkful's initial settings was 1.5, from 0.744 to 0.759.  This improvement was all based on parameter tweaking; feature engineering made no significant difference.\n",
    "\n",
    "I was expecting larger gains, and I have no idea how to use the data here to get a better accuracy than 0.76.  It seems that nearly any form of random forest or boosted forest will get you at least 0.72, but no amount of feature engineering or algorithm tweaking will get you beyond 0.76.  It's possible, I suppose, that 24% of the \"partner\" variable is just noise unrelated to any of the data here, in which case we've hit the hard ceiling.  However, that would be exceptionally mean for Thinkful to do (since that's the initial accuracy they achieved and told us to improve on), so I'm hopeful that I'm missing something here.\n",
    "\n",
    "One tentative conclusion here - which would be very useful to know, if true - is that random forests and gradient boosted trees already capture all inter-feature relationships, so adding combined features won't make any substantial difference.  They also aren't linearly constrained, so it's not totally clear that adding polynomial features will do much good either.  Which begs the question: is feature engineering theoretically irrelevant for these models?  (which would make it odd that Thinkful recommended we try it...)\n",
    "\n",
    "One question I have is why regularization actually made PCA produce less useful components.\n",
    "\n",
    "Finally, the obvious quasi-cheat here (and the only way I can think of to improve on this) is to insert some relevant data about the countries - average marriage age, for instance - and see if that helps.  But presumably much of that effect should already be captured in the algorithm's treatment of the country column."
   ]
  },
  {
   "cell_type": "markdown",
   "metadata": {},
   "source": [
    "# One other question based on an early attempt here:"
   ]
  },
  {
   "cell_type": "code",
   "execution_count": 228,
   "metadata": {
    "scrolled": false
   },
   "outputs": [
    {
     "data": {
      "text/html": [
       "<div>\n",
       "<style scoped>\n",
       "    .dataframe tbody tr th:only-of-type {\n",
       "        vertical-align: middle;\n",
       "    }\n",
       "\n",
       "    .dataframe tbody tr th {\n",
       "        vertical-align: top;\n",
       "    }\n",
       "\n",
       "    .dataframe thead th {\n",
       "        text-align: right;\n",
       "    }\n",
       "</style>\n",
       "<table border=\"1\" class=\"dataframe\">\n",
       "  <thead>\n",
       "    <tr style=\"text-align: right;\">\n",
       "      <th></th>\n",
       "      <th>cntry</th>\n",
       "      <th>tvtot</th>\n",
       "      <th>ppltrst</th>\n",
       "      <th>pplfair</th>\n",
       "      <th>pplhlp</th>\n",
       "      <th>happy</th>\n",
       "      <th>sclmeet</th>\n",
       "      <th>sclact</th>\n",
       "      <th>gndr</th>\n",
       "      <th>agea</th>\n",
       "      <th>...</th>\n",
       "      <th>relative_pplhlp</th>\n",
       "      <th>relative_happy</th>\n",
       "      <th>relative_sclmeet</th>\n",
       "      <th>relative_sclact</th>\n",
       "      <th>relative_gndr</th>\n",
       "      <th>relative_agea</th>\n",
       "      <th>tv_happ</th>\n",
       "      <th>tv_soc</th>\n",
       "      <th>age_happ</th>\n",
       "      <th>gender_sclact</th>\n",
       "    </tr>\n",
       "  </thead>\n",
       "  <tbody>\n",
       "    <tr>\n",
       "      <th>0</th>\n",
       "      <td>CH</td>\n",
       "      <td>3.0</td>\n",
       "      <td>3.0</td>\n",
       "      <td>10.0</td>\n",
       "      <td>5.0</td>\n",
       "      <td>8.0</td>\n",
       "      <td>5.0</td>\n",
       "      <td>4.0</td>\n",
       "      <td>1</td>\n",
       "      <td>60.0</td>\n",
       "      <td>...</td>\n",
       "      <td>0.879442</td>\n",
       "      <td>0.986045</td>\n",
       "      <td>0.970906</td>\n",
       "      <td>1.455712</td>\n",
       "      <td>44.69697</td>\n",
       "      <td>1.285683</td>\n",
       "      <td>0.087340</td>\n",
       "      <td>-0.065320</td>\n",
       "      <td>102.160591</td>\n",
       "      <td>4.0</td>\n",
       "    </tr>\n",
       "    <tr>\n",
       "      <th>1</th>\n",
       "      <td>CH</td>\n",
       "      <td>6.0</td>\n",
       "      <td>5.0</td>\n",
       "      <td>7.0</td>\n",
       "      <td>5.0</td>\n",
       "      <td>9.0</td>\n",
       "      <td>3.0</td>\n",
       "      <td>2.0</td>\n",
       "      <td>1</td>\n",
       "      <td>59.0</td>\n",
       "      <td>...</td>\n",
       "      <td>0.879442</td>\n",
       "      <td>1.109301</td>\n",
       "      <td>0.582543</td>\n",
       "      <td>0.727856</td>\n",
       "      <td>44.69697</td>\n",
       "      <td>1.264255</td>\n",
       "      <td>0.774680</td>\n",
       "      <td>-1.330640</td>\n",
       "      <td>105.930665</td>\n",
       "      <td>2.0</td>\n",
       "    </tr>\n",
       "    <tr>\n",
       "      <th>2</th>\n",
       "      <td>CH</td>\n",
       "      <td>1.0</td>\n",
       "      <td>8.0</td>\n",
       "      <td>8.0</td>\n",
       "      <td>8.0</td>\n",
       "      <td>7.0</td>\n",
       "      <td>6.0</td>\n",
       "      <td>3.0</td>\n",
       "      <td>-1</td>\n",
       "      <td>24.0</td>\n",
       "      <td>...</td>\n",
       "      <td>1.407107</td>\n",
       "      <td>0.862789</td>\n",
       "      <td>1.165087</td>\n",
       "      <td>1.091784</td>\n",
       "      <td>-44.69697</td>\n",
       "      <td>0.514273</td>\n",
       "      <td>-0.070887</td>\n",
       "      <td>0.078227</td>\n",
       "      <td>-162.609483</td>\n",
       "      <td>-3.0</td>\n",
       "    </tr>\n",
       "    <tr>\n",
       "      <th>3</th>\n",
       "      <td>CH</td>\n",
       "      <td>4.0</td>\n",
       "      <td>6.0</td>\n",
       "      <td>6.0</td>\n",
       "      <td>7.0</td>\n",
       "      <td>10.0</td>\n",
       "      <td>6.0</td>\n",
       "      <td>2.0</td>\n",
       "      <td>1</td>\n",
       "      <td>64.0</td>\n",
       "      <td>...</td>\n",
       "      <td>1.231219</td>\n",
       "      <td>1.232556</td>\n",
       "      <td>1.165087</td>\n",
       "      <td>0.727856</td>\n",
       "      <td>44.69697</td>\n",
       "      <td>1.371395</td>\n",
       "      <td>0.916453</td>\n",
       "      <td>0.312906</td>\n",
       "      <td>167.700739</td>\n",
       "      <td>2.0</td>\n",
       "    </tr>\n",
       "    <tr>\n",
       "      <th>4</th>\n",
       "      <td>CH</td>\n",
       "      <td>5.0</td>\n",
       "      <td>6.0</td>\n",
       "      <td>7.0</td>\n",
       "      <td>5.0</td>\n",
       "      <td>8.0</td>\n",
       "      <td>7.0</td>\n",
       "      <td>2.0</td>\n",
       "      <td>1</td>\n",
       "      <td>55.0</td>\n",
       "      <td>...</td>\n",
       "      <td>0.879442</td>\n",
       "      <td>0.986045</td>\n",
       "      <td>1.359268</td>\n",
       "      <td>0.727856</td>\n",
       "      <td>44.69697</td>\n",
       "      <td>1.178543</td>\n",
       "      <td>0.145567</td>\n",
       "      <td>0.891133</td>\n",
       "      <td>62.160591</td>\n",
       "      <td>2.0</td>\n",
       "    </tr>\n",
       "  </tbody>\n",
       "</table>\n",
       "<p>5 rows × 24 columns</p>\n",
       "</div>"
      ],
      "text/plain": [
       "  cntry  tvtot  ppltrst  pplfair  pplhlp  happy  sclmeet  sclact  gndr  agea  \\\n",
       "0    CH    3.0      3.0     10.0     5.0    8.0      5.0     4.0     1  60.0   \n",
       "1    CH    6.0      5.0      7.0     5.0    9.0      3.0     2.0     1  59.0   \n",
       "2    CH    1.0      8.0      8.0     8.0    7.0      6.0     3.0    -1  24.0   \n",
       "3    CH    4.0      6.0      6.0     7.0   10.0      6.0     2.0     1  64.0   \n",
       "4    CH    5.0      6.0      7.0     5.0    8.0      7.0     2.0     1  55.0   \n",
       "\n",
       "       ...        relative_pplhlp  relative_happy  relative_sclmeet  \\\n",
       "0      ...               0.879442        0.986045          0.970906   \n",
       "1      ...               0.879442        1.109301          0.582543   \n",
       "2      ...               1.407107        0.862789          1.165087   \n",
       "3      ...               1.231219        1.232556          1.165087   \n",
       "4      ...               0.879442        0.986045          1.359268   \n",
       "\n",
       "   relative_sclact  relative_gndr  relative_agea   tv_happ    tv_soc  \\\n",
       "0         1.455712       44.69697       1.285683  0.087340 -0.065320   \n",
       "1         0.727856       44.69697       1.264255  0.774680 -1.330640   \n",
       "2         1.091784      -44.69697       0.514273 -0.070887  0.078227   \n",
       "3         0.727856       44.69697       1.371395  0.916453  0.312906   \n",
       "4         0.727856       44.69697       1.178543  0.145567  0.891133   \n",
       "\n",
       "     age_happ  gender_sclact  \n",
       "0  102.160591            4.0  \n",
       "1  105.930665            2.0  \n",
       "2 -162.609483           -3.0  \n",
       "3  167.700739            2.0  \n",
       "4   62.160591            2.0  \n",
       "\n",
       "[5 rows x 24 columns]"
      ]
     },
     "execution_count": 228,
     "metadata": {},
     "output_type": "execute_result"
    }
   ],
   "source": [
    "# for col_name in happiness_df.columns[1:10]: # excludes country, partner\n",
    "#     cntry_means = happiness_df.groupby('cntry')[col_name].agg(np.mean)\n",
    "#     happiness_df['relative_'+col_name] = happiness_df[col_name] / cntry_means[happiness_df['cntry']]\n",
    "# FIXED THIS BELOW BY GENERATING A NEW LIST but it's odd that the indexing doesn't allow it - I don't know why.\n",
    "\n",
    "# First, every score is probably more important relative to fellow citizens than to other EU countries\n",
    "# (what makes us happy is sometimes not what we have, but what we have compared to the Joneses)\n",
    "for col_name in happiness_df.columns[1:10]: # excludes country, partner\n",
    "    cntry_means = happiness_df.groupby('cntry')[col_name].agg(np.mean)\n",
    "    cntry_means_col = [cntry_means[cntry] for cntry in happiness_df['cntry']]\n",
    "    happiness_df['relative_'+col_name] = happiness_df[col_name] / cntry_means_col\n",
    "\n",
    "# tvtot may be different based on happiness, and based on social interactions\n",
    "happy_scaled = (happiness_df['happy'] - np.mean(happiness_df.happy)) / 10\n",
    "sclmeet_scaled = (happiness_df['sclmeet'] - np.mean(happiness_df.sclmeet)) / 10\n",
    "happiness_df['tv_happ'] = happiness_df['tvtot'] * happy_scaled\n",
    "happiness_df['tv_soc'] = happiness_df['tvtot'] * sclmeet_scaled\n",
    "\n",
    "# age and happiness are likely to have a significant interaction - older singles are probably less likely\n",
    "# to be happy single than people in their 20s\n",
    "happiness_df['age_happ'] = (happiness_df['agea'] - np.mean(happiness_df.agea)) * happiness_df.happy\n",
    "\n",
    "# finally, number of social activities interacting with gender and age may predict partner\n",
    "# note: subtracting 1.5 from gndr makes it a binary -0.5 and 0.5\n",
    "happiness_df['gender_sclact'] = (happiness_df['gndr'] * happiness_df['sclact']) \n",
    "# multiply \n",
    "\n",
    "# and finally, let's try correlating gender with all other features\n",
    "happiness_df.head()"
   ]
  },
  {
   "cell_type": "markdown",
   "metadata": {},
   "source": [
    "Now let's winnow them down using feature importance testing:"
   ]
  },
  {
   "cell_type": "code",
   "execution_count": 255,
   "metadata": {},
   "outputs": [],
   "source": [
    "X = pd.get_dummies(happiness_df.drop('partner', axis=1), columns=['cntry'])\n",
    "y = happiness_df['partner']\n",
    "X_train, X_test, y_train, y_test = train_test_split(X, y, test_size=0.25)"
   ]
  },
  {
   "cell_type": "code",
   "execution_count": 256,
   "metadata": {},
   "outputs": [
    {
     "name": "stdout",
     "output_type": "stream",
     "text": [
      "Train score:  0.8853858784893268 \n",
      "Test score:  0.7527093596059113\n"
     ]
    },
    {
     "data": {
      "image/png": "[encoded data removed]",
      "text/plain": [
       "<matplotlib.figure.Figure at 0x112d73f98>"
      ]
     },
     "metadata": {},
     "output_type": "display_data"
    }
   ],
   "source": [
    "rfc_2 = RandomForestClassifier(n_estimators=100, max_depth=12)\n",
    "rfc_2.fit(X_train, y_train)\n",
    "train_score = rfc_2.score(X_train, y_train)\n",
    "test_score = rfc_2.score(X_test, y_test)\n",
    "print(\"Train score: \", train_score, \"\\nTest score: \", test_score)\n",
    "labeled_fi = sorted( list(zip(X_train.columns, rfc_2.feature_importances_)), key=lambda x: -x[1])\n",
    "plt.figure(figsize=(12,5))\n",
    "x_imp = [tup[0] for tup in labeled_fi[:25]]\n",
    "y_labels = [tup[1] for tup in labeled_fi[:25]]\n",
    "plt.xticks(rotation=90)\n",
    "sns.barplot(x_imp, y_labels);"
   ]
  },
  {
   "cell_type": "markdown",
   "metadata": {},
   "source": [
    "On an initial look, it seems we've got more overfitting but no more accuracy.  What's surprising here to me is that there's no accuracy gain even though nine of the ten most important features are engineered features.  I would think that generating new features more predictively important than the old features would entail an accuracy gain.  Why doesn't it?"
   ]
  }
 ],
 "metadata": {
  "kernelspec": {
   "display_name": "Python 3",
   "language": "python",
   "name": "python3"
  },
  "language_info": {
   "codemirror_mode": {
    "name": "ipython",
    "version": 3
   },
   "file_extension": ".py",
   "mimetype": "text/x-python",
   "name": "python",
   "nbconvert_exporter": "python",
   "pygments_lexer": "ipython3",
   "version": "3.6.4"
  }
 },
 "nbformat": 4,
 "nbformat_minor": 2
}
