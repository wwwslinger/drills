{
 "cells": [
  {
   "cell_type": "markdown",
   "metadata": {},
   "source": [
    "# Instructions\n",
    "<strong>DRILL: Improve this gradient boost model</strong>\n",
    "\n",
    "While this model is already doing all right (about 0.75 accuracy), we've seen from the Type I and Type II error rates that there is definitely room for improvement. Your task is to see how low you can get the error rates to go in the test set, based on your model in the training set. Strategies you might use include:\n",
    "\n",
    "- Creating new features\n",
    "- Applying more overfitting-prevention strategies like subsampling\n",
    "- More iterations\n",
    "- Trying a different loss function\n",
    "- Changing the structure of the weak learner: Allowing more leaves in the tree, or other modifications"
   ]
  },
  {
   "cell_type": "code",
   "execution_count": 2,
   "metadata": {},
   "outputs": [],
   "source": [
    "import pandas as pd\n",
    "import numpy as np\n",
    "import scipy as sp\n",
    "import matplotlib.pyplot as plt\n",
    "import seaborn as sns\n",
    "sns.set()\n",
    "%matplotlib inline\n",
    "\n",
    "from sklearn import ensemble\n",
    "from sklearn import datasets\n",
    "from sklearn.utils import shuffle\n",
    "from sklearn.metrics import mean_squared_error"
   ]
  },
  {
   "cell_type": "markdown",
   "metadata": {},
   "source": [
    "# Load and clean"
   ]
  },
  {
   "cell_type": "code",
   "execution_count": 3,
   "metadata": {
    "scrolled": true
   },
   "outputs": [
    {
     "name": "stdout",
     "output_type": "stream",
     "text": [
      "(8594, 13)\n"
     ]
    },
    {
     "data": {
      "text/html": [
       "<div>\n",
       "<style scoped>\n",
       "    .dataframe tbody tr th:only-of-type {\n",
       "        vertical-align: middle;\n",
       "    }\n",
       "\n",
       "    .dataframe tbody tr th {\n",
       "        vertical-align: top;\n",
       "    }\n",
       "\n",
       "    .dataframe thead th {\n",
       "        text-align: right;\n",
       "    }\n",
       "</style>\n",
       "<table border=\"1\" class=\"dataframe\">\n",
       "  <thead>\n",
       "    <tr style=\"text-align: right;\">\n",
       "      <th></th>\n",
       "      <th>cntry</th>\n",
       "      <th>idno</th>\n",
       "      <th>year</th>\n",
       "      <th>tvtot</th>\n",
       "      <th>ppltrst</th>\n",
       "      <th>pplfair</th>\n",
       "      <th>pplhlp</th>\n",
       "      <th>happy</th>\n",
       "      <th>sclmeet</th>\n",
       "      <th>sclact</th>\n",
       "      <th>gndr</th>\n",
       "      <th>agea</th>\n",
       "      <th>partner</th>\n",
       "    </tr>\n",
       "  </thead>\n",
       "  <tbody>\n",
       "    <tr>\n",
       "      <th>0</th>\n",
       "      <td>CH</td>\n",
       "      <td>5.0</td>\n",
       "      <td>6</td>\n",
       "      <td>3.0</td>\n",
       "      <td>3.0</td>\n",
       "      <td>10.0</td>\n",
       "      <td>5.0</td>\n",
       "      <td>8.0</td>\n",
       "      <td>5.0</td>\n",
       "      <td>4.0</td>\n",
       "      <td>2.0</td>\n",
       "      <td>60.0</td>\n",
       "      <td>1.0</td>\n",
       "    </tr>\n",
       "    <tr>\n",
       "      <th>1</th>\n",
       "      <td>CH</td>\n",
       "      <td>25.0</td>\n",
       "      <td>6</td>\n",
       "      <td>6.0</td>\n",
       "      <td>5.0</td>\n",
       "      <td>7.0</td>\n",
       "      <td>5.0</td>\n",
       "      <td>9.0</td>\n",
       "      <td>3.0</td>\n",
       "      <td>2.0</td>\n",
       "      <td>2.0</td>\n",
       "      <td>59.0</td>\n",
       "      <td>1.0</td>\n",
       "    </tr>\n",
       "    <tr>\n",
       "      <th>2</th>\n",
       "      <td>CH</td>\n",
       "      <td>26.0</td>\n",
       "      <td>6</td>\n",
       "      <td>1.0</td>\n",
       "      <td>8.0</td>\n",
       "      <td>8.0</td>\n",
       "      <td>8.0</td>\n",
       "      <td>7.0</td>\n",
       "      <td>6.0</td>\n",
       "      <td>3.0</td>\n",
       "      <td>1.0</td>\n",
       "      <td>24.0</td>\n",
       "      <td>2.0</td>\n",
       "    </tr>\n",
       "    <tr>\n",
       "      <th>3</th>\n",
       "      <td>CH</td>\n",
       "      <td>28.0</td>\n",
       "      <td>6</td>\n",
       "      <td>4.0</td>\n",
       "      <td>6.0</td>\n",
       "      <td>6.0</td>\n",
       "      <td>7.0</td>\n",
       "      <td>10.0</td>\n",
       "      <td>6.0</td>\n",
       "      <td>2.0</td>\n",
       "      <td>2.0</td>\n",
       "      <td>64.0</td>\n",
       "      <td>1.0</td>\n",
       "    </tr>\n",
       "    <tr>\n",
       "      <th>4</th>\n",
       "      <td>CH</td>\n",
       "      <td>29.0</td>\n",
       "      <td>6</td>\n",
       "      <td>5.0</td>\n",
       "      <td>6.0</td>\n",
       "      <td>7.0</td>\n",
       "      <td>5.0</td>\n",
       "      <td>8.0</td>\n",
       "      <td>7.0</td>\n",
       "      <td>2.0</td>\n",
       "      <td>2.0</td>\n",
       "      <td>55.0</td>\n",
       "      <td>1.0</td>\n",
       "    </tr>\n",
       "  </tbody>\n",
       "</table>\n",
       "</div>"
      ],
      "text/plain": [
       "  cntry  idno  year  tvtot  ppltrst  pplfair  pplhlp  happy  sclmeet  sclact  \\\n",
       "0    CH   5.0     6    3.0      3.0     10.0     5.0    8.0      5.0     4.0   \n",
       "1    CH  25.0     6    6.0      5.0      7.0     5.0    9.0      3.0     2.0   \n",
       "2    CH  26.0     6    1.0      8.0      8.0     8.0    7.0      6.0     3.0   \n",
       "3    CH  28.0     6    4.0      6.0      6.0     7.0   10.0      6.0     2.0   \n",
       "4    CH  29.0     6    5.0      6.0      7.0     5.0    8.0      7.0     2.0   \n",
       "\n",
       "   gndr  agea  partner  \n",
       "0   2.0  60.0      1.0  \n",
       "1   2.0  59.0      1.0  \n",
       "2   1.0  24.0      2.0  \n",
       "3   2.0  64.0      1.0  \n",
       "4   2.0  55.0      1.0  "
      ]
     },
     "execution_count": 3,
     "metadata": {},
     "output_type": "execute_result"
    }
   ],
   "source": [
    "raw_df = pd.read_csv(\n",
    "    \"https://raw.githubusercontent.com/Thinkful-Ed/data-201-resources/\"\n",
    "    \"master/ESS_practice_data/ESSdata_Thinkful.csv\")\n",
    "print(raw_df.shape)\n",
    "raw_df.head()"
   ]
  },
  {
   "cell_type": "markdown",
   "metadata": {},
   "source": [
    "Let's check our nulls and our country counts:"
   ]
  },
  {
   "cell_type": "code",
   "execution_count": 269,
   "metadata": {
    "scrolled": false
   },
   "outputs": [
    {
     "data": {
      "text/plain": [
       "cntry        0\n",
       "idno         0\n",
       "year         0\n",
       "tvtot        8\n",
       "ppltrst     14\n",
       "pplfair     39\n",
       "pplhlp      25\n",
       "happy       31\n",
       "sclmeet     15\n",
       "sclact      94\n",
       "gndr        10\n",
       "agea       239\n",
       "partner     17\n",
       "dtype: int64"
      ]
     },
     "execution_count": 269,
     "metadata": {},
     "output_type": "execute_result"
    }
   ],
   "source": [
    "raw_df.isnull().sum()"
   ]
  },
  {
   "cell_type": "code",
   "execution_count": 270,
   "metadata": {},
   "outputs": [
    {
     "data": {
      "text/plain": [
       "ES    2426\n",
       "SE    1816\n",
       "CH    1546\n",
       "NO    1462\n",
       "CZ    1316\n",
       "DE      28\n",
       "Name: cntry, dtype: int64"
      ]
     },
     "execution_count": 270,
     "metadata": {},
     "output_type": "execute_result"
    }
   ],
   "source": [
    "raw_df.cntry.value_counts()"
   ]
  },
  {
   "cell_type": "code",
   "execution_count": 4,
   "metadata": {},
   "outputs": [
    {
     "data": {
      "text/html": [
       "<div>\n",
       "<style scoped>\n",
       "    .dataframe tbody tr th:only-of-type {\n",
       "        vertical-align: middle;\n",
       "    }\n",
       "\n",
       "    .dataframe tbody tr th {\n",
       "        vertical-align: top;\n",
       "    }\n",
       "\n",
       "    .dataframe thead th {\n",
       "        text-align: right;\n",
       "    }\n",
       "</style>\n",
       "<table border=\"1\" class=\"dataframe\">\n",
       "  <thead>\n",
       "    <tr style=\"text-align: right;\">\n",
       "      <th></th>\n",
       "      <th>cntry</th>\n",
       "      <th>tvtot</th>\n",
       "      <th>ppltrst</th>\n",
       "      <th>pplfair</th>\n",
       "      <th>pplhlp</th>\n",
       "      <th>happy</th>\n",
       "      <th>sclmeet</th>\n",
       "      <th>sclact</th>\n",
       "      <th>gndr</th>\n",
       "      <th>agea</th>\n",
       "      <th>partner</th>\n",
       "    </tr>\n",
       "  </thead>\n",
       "  <tbody>\n",
       "    <tr>\n",
       "      <th>0</th>\n",
       "      <td>CH</td>\n",
       "      <td>3.0</td>\n",
       "      <td>3.0</td>\n",
       "      <td>10.0</td>\n",
       "      <td>5.0</td>\n",
       "      <td>8.0</td>\n",
       "      <td>5.0</td>\n",
       "      <td>4.0</td>\n",
       "      <td>1</td>\n",
       "      <td>60.0</td>\n",
       "      <td>True</td>\n",
       "    </tr>\n",
       "    <tr>\n",
       "      <th>1</th>\n",
       "      <td>CH</td>\n",
       "      <td>6.0</td>\n",
       "      <td>5.0</td>\n",
       "      <td>7.0</td>\n",
       "      <td>5.0</td>\n",
       "      <td>9.0</td>\n",
       "      <td>3.0</td>\n",
       "      <td>2.0</td>\n",
       "      <td>1</td>\n",
       "      <td>59.0</td>\n",
       "      <td>True</td>\n",
       "    </tr>\n",
       "    <tr>\n",
       "      <th>2</th>\n",
       "      <td>CH</td>\n",
       "      <td>1.0</td>\n",
       "      <td>8.0</td>\n",
       "      <td>8.0</td>\n",
       "      <td>8.0</td>\n",
       "      <td>7.0</td>\n",
       "      <td>6.0</td>\n",
       "      <td>3.0</td>\n",
       "      <td>-1</td>\n",
       "      <td>24.0</td>\n",
       "      <td>False</td>\n",
       "    </tr>\n",
       "    <tr>\n",
       "      <th>3</th>\n",
       "      <td>CH</td>\n",
       "      <td>4.0</td>\n",
       "      <td>6.0</td>\n",
       "      <td>6.0</td>\n",
       "      <td>7.0</td>\n",
       "      <td>10.0</td>\n",
       "      <td>6.0</td>\n",
       "      <td>2.0</td>\n",
       "      <td>1</td>\n",
       "      <td>64.0</td>\n",
       "      <td>True</td>\n",
       "    </tr>\n",
       "    <tr>\n",
       "      <th>4</th>\n",
       "      <td>CH</td>\n",
       "      <td>5.0</td>\n",
       "      <td>6.0</td>\n",
       "      <td>7.0</td>\n",
       "      <td>5.0</td>\n",
       "      <td>8.0</td>\n",
       "      <td>7.0</td>\n",
       "      <td>2.0</td>\n",
       "      <td>1</td>\n",
       "      <td>55.0</td>\n",
       "      <td>True</td>\n",
       "    </tr>\n",
       "  </tbody>\n",
       "</table>\n",
       "</div>"
      ],
      "text/plain": [
       "  cntry  tvtot  ppltrst  pplfair  pplhlp  happy  sclmeet  sclact  gndr  agea  \\\n",
       "0    CH    3.0      3.0     10.0     5.0    8.0      5.0     4.0     1  60.0   \n",
       "1    CH    6.0      5.0      7.0     5.0    9.0      3.0     2.0     1  59.0   \n",
       "2    CH    1.0      8.0      8.0     8.0    7.0      6.0     3.0    -1  24.0   \n",
       "3    CH    4.0      6.0      6.0     7.0   10.0      6.0     2.0     1  64.0   \n",
       "4    CH    5.0      6.0      7.0     5.0    8.0      7.0     2.0     1  55.0   \n",
       "\n",
       "   partner  \n",
       "0     True  \n",
       "1     True  \n",
       "2    False  \n",
       "3     True  \n",
       "4     True  "
      ]
     },
     "execution_count": 4,
     "metadata": {},
     "output_type": "execute_result"
    }
   ],
   "source": [
    "# Nulls: Dropping a couple hundred out of 8600 rows is no biggie.  \n",
    "# Let's drop those - and the unnecessary ID number and year columns, while we're at it.\n",
    "happiness_df = raw_df.dropna().copy()\n",
    "happiness_df.drop(['idno', 'year'], axis=1, inplace=True)\n",
    "\n",
    "# And let's convert partner to a Boolean rather than 1 or 2.\n",
    "happiness_df['partner'] = happiness_df['partner']==1.0\n",
    "\n",
    "# Because we've got just 28 people from Germany (compared to at least 1200 from every other country here) \n",
    "# let's drop Germany.\n",
    "happiness_df = happiness_df[happiness_df['cntry']!='DE']\n",
    "\n",
    "# Let's make gender a -1 / +1 binary (useful for multiplying columns for feature generation later):\n",
    "happiness_df['gndr'] = (happiness_df['gndr']*2 - 3).astype(int)\n",
    "\n",
    "# And we'll convert our countries into dummy variables later, when we do our train/test splits.\n",
    "happiness_df.head()"
   ]
  },
  {
   "cell_type": "markdown",
   "metadata": {},
   "source": [
    "# Preliminary RF and boosted RT models"
   ]
  },
  {
   "cell_type": "code",
   "execution_count": 5,
   "metadata": {},
   "outputs": [],
   "source": [
    "from sklearn.model_selection import train_test_split\n",
    "X = pd.get_dummies(happiness_df.drop('partner', axis=1), columns=['cntry'])\n",
    "y = happiness_df['partner']\n",
    "X_train, X_test, y_train, y_test = train_test_split(X, y, test_size=0.25)"
   ]
  },
  {
   "cell_type": "code",
   "execution_count": 6,
   "metadata": {
    "scrolled": true
   },
   "outputs": [],
   "source": [
    "from sklearn.metrics import confusion_matrix\n",
    "def show_conf_mat(model):\n",
    "    model.fit(X_train, y_train)\n",
    "    y_pred = model.predict(X_test)\n",
    "    plt.figure(figsize=(5,5))\n",
    "    conf_mat = np.round(confusion_matrix(y_test, y_pred)/len(y_test), 2)\n",
    "    sns.heatmap(conf_mat, square=True, annot=True, annot_kws={'size':16}, cmap='RdBu_r', center=0, fmt='g')\n",
    "    plt.title('confusion matrix (by percentage)')\n",
    "    plt.show()"
   ]
  },
  {
   "cell_type": "markdown",
   "metadata": {},
   "source": [
    "First, a basic random forest, aka random tree + bagging:"
   ]
  },
  {
   "cell_type": "code",
   "execution_count": 7,
   "metadata": {},
   "outputs": [
    {
     "name": "stdout",
     "output_type": "stream",
     "text": [
      "[0.73264402 0.70492611 0.69310345 0.72252341] \n",
      " mean:  0.7132992462306431\n"
     ]
    },
    {
     "data": {
      "image/png": "[encoded data removed]",
      "text/plain": [
       "<matplotlib.figure.Figure at 0x10dad5240>"
      ]
     },
     "metadata": {},
     "output_type": "display_data"
    }
   ],
   "source": [
    "from sklearn.ensemble import RandomForestClassifier\n",
    "from sklearn.model_selection import cross_val_score\n",
    "from sklearn.metrics import confusion_matrix\n",
    "\n",
    "rfc = RandomForestClassifier()\n",
    "cv_score = cross_val_score(rfc, X, y, cv=4)\n",
    "print(cv_score, '\\n mean: ', np.mean(cv_score))\n",
    "\n",
    "show_conf_mat(rfc)"
   ]
  },
  {
   "cell_type": "markdown",
   "metadata": {},
   "source": [
    "Not bad.  And now for a basic RT + boosting model:"
   ]
  },
  {
   "cell_type": "code",
   "execution_count": 8,
   "metadata": {
    "scrolled": true
   },
   "outputs": [
    {
     "name": "stdout",
     "output_type": "stream",
     "text": [
      "CV scores: [0.76415559 0.73990148 0.75123153 0.7555446 ] \n",
      " mean:  0.7527082991397627\n",
      "Train score:  0.784072249589491\n",
      "Test score:  0.7433497536945812\n"
     ]
    },
    {
     "data": {
      "image/png": "[encoded data removed]",
      "text/plain": [
       "<matplotlib.figure.Figure at 0x10c27eef0>"
      ]
     },
     "metadata": {},
     "output_type": "display_data"
    }
   ],
   "source": [
    "params = {'n_estimators': 500,\n",
    "          'max_depth': 2,\n",
    "          'loss': 'deviance'}\n",
    "# set random state!\n",
    "\n",
    "gbc_1 = ensemble.GradientBoostingClassifier(**params)\n",
    "cv_score = cross_val_score(gbc_1, X, y, cv=4)\n",
    "gbc_1.fit(X_train, y_train)\n",
    "train_score = gbc_1.score(X_train, y_train)\n",
    "test_score = gbc_1.score(X_test, y_test)\n",
    "\n",
    "print(\"CV scores:\", cv_score, '\\n mean: ', np.mean(cv_score))\n",
    "print(\"Train score: \", train_score)\n",
    "print(\"Test score: \", test_score)\n",
    "\n",
    "show_conf_mat(gbc_1)"
   ]
  },
  {
   "cell_type": "markdown",
   "metadata": {},
   "source": [
    "About the same.  If we tinker with the parameters a bit (I've omitted the tinkering for sake of space), we see that we tend to overfit if we increase the depth of the trees.  Doubling or quadrupling the number of trees/estimators also leads to overfitting (albeit not as severe) with no true accuracy improvement.  Let's what a basic hyperparamter search turns up:"
   ]
  },
  {
   "cell_type": "code",
   "execution_count": 105,
   "metadata": {},
   "outputs": [
    {
     "name": "stdout",
     "output_type": "stream",
     "text": [
      "Elapsed seconds:  398.8521947860718\n"
     ]
    }
   ],
   "source": [
    "from sklearn.model_selection import RandomizedSearchCV\n",
    "from time import time\n",
    "param_dist = {\n",
    "    'loss': ['deviance','exponential'],\n",
    "    'n_estimators': [300,500,1000],\n",
    "    'learning_rate': [0.01, 0.05, 0.1, 0.5],\n",
    "    'max_depth': [2,4,6,8],\n",
    "    'max_features': [2,4,6,8],\n",
    "    'subsample': [0.1, 0.3, 0.6, 1]\n",
    "}\n",
    "\n",
    "random_search = RandomizedSearchCV(gbc_1, param_distributions=param_dist,\n",
    "                                   n_iter=30)\n",
    "start = time()\n",
    "random_search.fit(X_train, y_train)\n",
    "print(\"Elapsed seconds: \", time()-start)"
   ]
  },
  {
   "cell_type": "code",
   "execution_count": 106,
   "metadata": {
    "scrolled": true
   },
   "outputs": [
    {
     "name": "stdout",
     "output_type": "stream",
     "text": [
      "Model with rank: 1\n",
      "Mean validation score: 0.753 (std: 0.003)\n",
      "Parameters: {'subsample': 1, 'n_estimators': 500, 'max_features': 4, 'max_depth': 4, 'loss': 'exponential', 'learning_rate': 0.01}\n",
      "\n",
      "Model with rank: 2\n",
      "Mean validation score: 0.752 (std: 0.005)\n",
      "Parameters: {'subsample': 0.1, 'n_estimators': 500, 'max_features': 8, 'max_depth': 4, 'loss': 'deviance', 'learning_rate': 0.01}\n",
      "\n",
      "Model with rank: 3\n",
      "Mean validation score: 0.749 (std: 0.003)\n",
      "Parameters: {'subsample': 0.1, 'n_estimators': 1000, 'max_features': 8, 'max_depth': 2, 'loss': 'deviance', 'learning_rate': 0.01}\n",
      "\n"
     ]
    }
   ],
   "source": [
    "# report utility function from http://scikit-learn.org/stable/auto_examples/model_selection/plot_randomized_search.html\n",
    "def report(results, n_top=3):\n",
    "    for i in range(1, n_top + 1):\n",
    "        candidates = np.flatnonzero(results['rank_test_score'] == i)\n",
    "        for candidate in candidates:\n",
    "            print(\"Model with rank: {0}\".format(i))\n",
    "            print(\"Mean validation score: {0:.3f} (std: {1:.3f})\".format(\n",
    "                  results['mean_test_score'][candidate],\n",
    "                  results['std_test_score'][candidate]))\n",
    "            print(\"Parameters: {0}\".format(results['params'][candidate]))\n",
    "            print(\"\")\n",
    "report(random_search.cv_results_, n_top=3)"
   ]
  },
  {
   "cell_type": "markdown",
   "metadata": {},
   "source": [
    "In short, it looks like toggling the parameters isn't making much difference here: we can get more or less overfitting (with little effect on accuracy), but our accuracy maxes out around 0.75.  Finally, a quick look at AdaBoost:"
   ]
  },
  {
   "cell_type": "code",
   "execution_count": 290,
   "metadata": {
    "scrolled": true
   },
   "outputs": [
    {
     "name": "stdout",
     "output_type": "stream",
     "text": [
      "CV scores: [0.75824717 0.73596059 0.7364532  0.74420897] \n",
      " mean:  0.7437174829804253\n",
      "Train score:  0.755008210180624\n",
      "Test score:  0.7453201970443349\n"
     ]
    },
    {
     "data": {
      "image/png": "[encoded data removed]",
      "text/plain": [
       "<matplotlib.figure.Figure at 0x111de9780>"
      ]
     },
     "metadata": {},
     "output_type": "display_data"
    }
   ],
   "source": [
    "from sklearn.ensemble import AdaBoostClassifier\n",
    "\n",
    "ada = ensemble.AdaBoostClassifier()\n",
    "cv_score = cross_val_score(ada, X, y, cv=4)\n",
    "ada.fit(X_train, y_train)\n",
    "train_score = ada.score(X_train, y_train)\n",
    "test_score = ada.score(X_test, y_test)\n",
    "\n",
    "print(\"CV scores:\", cv_score, '\\n mean: ', np.mean(cv_score))\n",
    "print(\"Train score: \", train_score)\n",
    "print(\"Test score: \", test_score)\n",
    "\n",
    "show_conf_mat(ada)"
   ]
  },
  {
   "cell_type": "markdown",
   "metadata": {},
   "source": [
    "Same results.  We're stuck at 0.75 accuracy no matter what we do with this data.  Let's try some feature engineering."
   ]
  },
  {
   "cell_type": "markdown",
   "metadata": {},
   "source": [
    "# Feature engineering\n",
    "\n",
    "As an experiment here, I'm going to generate several new dataframes of featuresets to try running our models on.  The basic strategy will be:\n",
    "- generate a bunch of relative, combinatoric, and/or polynomial features\n",
    "- shrink featureset by selecting top feature_importances, and by running PCA\n",
    "- test full datasets, top feature_importance datasets, and PCA datasets\n",
    "- pick top performing dataset\n",
    "\n",
    "The generated datasets are as follows:\n",
    "- <b>happiness_df</b>: the original features\n",
    "- <b>relative_df</b>: all of the original features scaled to the means of their respective countries\n",
    "- <b>combo_df</b>: the original features plus all combinations of original features\n",
    "- <b>combo_2_df</b>: the original features plus squared features plus all combinations\n",
    "- <b>rel_combo_df</b>: the country-mean-scaled features plus all combinations of original features\n",
    "- <b>rel_combo_2_df</b>: the country-mean-scaled features plus squared features plus all combinations\n",
    "\n",
    "The PCA datasets will have to be generated separately post-train-test-split since PCA should only be fit to the training data."
   ]
  },
  {
   "cell_type": "code",
   "execution_count": 64,
   "metadata": {},
   "outputs": [],
   "source": [
    "# a little function to quickly construct boosted trees off a dataset and print the results\n",
    "def test_data(df, has_cntry=True):\n",
    "    start = time()\n",
    "    if has_cntry:\n",
    "        X = pd.get_dummies(df, columns=['cntry'])\n",
    "    else:\n",
    "        X = df\n",
    "    y = happiness_df['partner']\n",
    "    X_train, X_test, y_train, y_test = train_test_split(X, y, test_size=0.25)\n",
    "\n",
    "    params = {'n_estimators': 500,\n",
    "              'max_depth': 2,\n",
    "              'loss': 'deviance',\n",
    "              'random_state': 12}\n",
    "\n",
    "    gbc = ensemble.GradientBoostingClassifier(**params)\n",
    "    # cv_score = cross_val_score(gbc, X, y, cv=4)\n",
    "    gbc.fit(X_train, y_train)\n",
    "    train_score = gbc.score(X_train, y_train)\n",
    "    test_score = gbc.score(X_test, y_test)\n",
    "\n",
    "    # print(\"CV scores:\", cv_score, '\\n mean: ', np.mean(cv_score))\n",
    "    print(\"Train score: \", train_score)\n",
    "    print(\"Test score: \", test_score)\n",
    "    print(\"Elapsed time (seconds): \", time()-start)"
   ]
  },
  {
   "cell_type": "code",
   "execution_count": 57,
   "metadata": {
    "scrolled": false
   },
   "outputs": [
    {
     "data": {
      "text/html": [
       "<div>\n",
       "<style scoped>\n",
       "    .dataframe tbody tr th:only-of-type {\n",
       "        vertical-align: middle;\n",
       "    }\n",
       "\n",
       "    .dataframe tbody tr th {\n",
       "        vertical-align: top;\n",
       "    }\n",
       "\n",
       "    .dataframe thead th {\n",
       "        text-align: right;\n",
       "    }\n",
       "</style>\n",
       "<table border=\"1\" class=\"dataframe\">\n",
       "  <thead>\n",
       "    <tr style=\"text-align: right;\">\n",
       "      <th></th>\n",
       "      <th>cntry</th>\n",
       "      <th>tvtot</th>\n",
       "      <th>ppltrst</th>\n",
       "      <th>pplfair</th>\n",
       "      <th>pplhlp</th>\n",
       "      <th>happy</th>\n",
       "      <th>sclmeet</th>\n",
       "      <th>sclact</th>\n",
       "      <th>gndr</th>\n",
       "      <th>agea</th>\n",
       "      <th>partner</th>\n",
       "    </tr>\n",
       "  </thead>\n",
       "  <tbody>\n",
       "    <tr>\n",
       "      <th>0</th>\n",
       "      <td>CH</td>\n",
       "      <td>3.0</td>\n",
       "      <td>3.0</td>\n",
       "      <td>10.0</td>\n",
       "      <td>5.0</td>\n",
       "      <td>8.0</td>\n",
       "      <td>5.0</td>\n",
       "      <td>4.0</td>\n",
       "      <td>1</td>\n",
       "      <td>60.0</td>\n",
       "      <td>True</td>\n",
       "    </tr>\n",
       "    <tr>\n",
       "      <th>1</th>\n",
       "      <td>CH</td>\n",
       "      <td>6.0</td>\n",
       "      <td>5.0</td>\n",
       "      <td>7.0</td>\n",
       "      <td>5.0</td>\n",
       "      <td>9.0</td>\n",
       "      <td>3.0</td>\n",
       "      <td>2.0</td>\n",
       "      <td>1</td>\n",
       "      <td>59.0</td>\n",
       "      <td>True</td>\n",
       "    </tr>\n",
       "    <tr>\n",
       "      <th>2</th>\n",
       "      <td>CH</td>\n",
       "      <td>1.0</td>\n",
       "      <td>8.0</td>\n",
       "      <td>8.0</td>\n",
       "      <td>8.0</td>\n",
       "      <td>7.0</td>\n",
       "      <td>6.0</td>\n",
       "      <td>3.0</td>\n",
       "      <td>-1</td>\n",
       "      <td>24.0</td>\n",
       "      <td>False</td>\n",
       "    </tr>\n",
       "    <tr>\n",
       "      <th>3</th>\n",
       "      <td>CH</td>\n",
       "      <td>4.0</td>\n",
       "      <td>6.0</td>\n",
       "      <td>6.0</td>\n",
       "      <td>7.0</td>\n",
       "      <td>10.0</td>\n",
       "      <td>6.0</td>\n",
       "      <td>2.0</td>\n",
       "      <td>1</td>\n",
       "      <td>64.0</td>\n",
       "      <td>True</td>\n",
       "    </tr>\n",
       "    <tr>\n",
       "      <th>4</th>\n",
       "      <td>CH</td>\n",
       "      <td>5.0</td>\n",
       "      <td>6.0</td>\n",
       "      <td>7.0</td>\n",
       "      <td>5.0</td>\n",
       "      <td>8.0</td>\n",
       "      <td>7.0</td>\n",
       "      <td>2.0</td>\n",
       "      <td>1</td>\n",
       "      <td>55.0</td>\n",
       "      <td>True</td>\n",
       "    </tr>\n",
       "  </tbody>\n",
       "</table>\n",
       "</div>"
      ],
      "text/plain": [
       "  cntry  tvtot  ppltrst  pplfair  pplhlp  happy  sclmeet  sclact  gndr  agea  \\\n",
       "0    CH    3.0      3.0     10.0     5.0    8.0      5.0     4.0     1  60.0   \n",
       "1    CH    6.0      5.0      7.0     5.0    9.0      3.0     2.0     1  59.0   \n",
       "2    CH    1.0      8.0      8.0     8.0    7.0      6.0     3.0    -1  24.0   \n",
       "3    CH    4.0      6.0      6.0     7.0   10.0      6.0     2.0     1  64.0   \n",
       "4    CH    5.0      6.0      7.0     5.0    8.0      7.0     2.0     1  55.0   \n",
       "\n",
       "   partner  \n",
       "0     True  \n",
       "1     True  \n",
       "2    False  \n",
       "3     True  \n",
       "4     True  "
      ]
     },
     "execution_count": 57,
     "metadata": {},
     "output_type": "execute_result"
    }
   ],
   "source": [
    "happiness_df.head()"
   ]
  },
  {
   "cell_type": "code",
   "execution_count": 104,
   "metadata": {
    "scrolled": true
   },
   "outputs": [],
   "source": [
    "relative_df = happiness_df.copy()\n",
    "for col_name in relative_df.columns[1:10]: # excludes country, partner\n",
    "    cntry_means = relative_df.groupby('cntry')[col_name].agg(np.mean)\n",
    "    cntry_means_col = [cntry_means[cntry] for cntry in relative_df['cntry']]\n",
    "    relative_df[col_name] = relative_df[col_name] / cntry_means_col"
   ]
  },
  {
   "cell_type": "code",
   "execution_count": 91,
   "metadata": {},
   "outputs": [],
   "source": [
    "from sklearn.preprocessing import PolynomialFeatures\n",
    "poly = PolynomialFeatures(degree=2,interaction_only=True, include_bias=False)\n",
    "combo_df = pd.DataFrame(poly.fit_transform(happiness_df.drop(['cntry', 'partner'], axis=1)))\n",
    "combo_df['cntry'] = happiness_df['cntry'].copy()"
   ]
  },
  {
   "cell_type": "code",
   "execution_count": 42,
   "metadata": {
    "scrolled": true
   },
   "outputs": [],
   "source": [
    "poly = PolynomialFeatures(degree=2,include_bias=False,interaction_only=False)\n",
    "combo_2_df = pd.DataFrame(poly.fit_transform(happiness_df.drop(['cntry', 'partner'], axis=1)))\n",
    "combo_2_df['cntry'] = happiness_df['cntry'].copy()"
   ]
  },
  {
   "cell_type": "code",
   "execution_count": 43,
   "metadata": {},
   "outputs": [],
   "source": [
    "poly = PolynomialFeatures(degree=2,interaction_only=True, include_bias=False)\n",
    "rel_combo_df = pd.DataFrame(poly.fit_transform(relative_df.drop(['cntry', 'partner'], axis=1)))\n",
    "rel_combo_df['cntry'] = happiness_df['cntry'].copy()"
   ]
  },
  {
   "cell_type": "code",
   "execution_count": 45,
   "metadata": {
    "scrolled": true
   },
   "outputs": [],
   "source": [
    "poly = PolynomialFeatures(degree=2,interaction_only=False,include_bias=False)\n",
    "rel_combo_2_df = pd.DataFrame(poly.fit_transform(relative_df.drop(['cntry', 'partner'], axis=1)))\n",
    "rel_combo_2_df['cntry'] = happiness_df['cntry'].copy()"
   ]
  },
  {
   "cell_type": "code",
   "execution_count": 67,
   "metadata": {
    "scrolled": true
   },
   "outputs": [
    {
     "name": "stdout",
     "output_type": "stream",
     "text": [
      "*********\n",
      " Unmodified data: \n",
      "Train score:  0.7756978653530378\n",
      "Test score:  0.7610837438423645\n",
      "Elapsed time (seconds):  1.2638530731201172\n",
      "*********\n",
      " Relative data: \n",
      "Train score:  0.7844006568144499\n",
      "Test score:  0.761576354679803\n",
      "Elapsed time (seconds):  1.5536901950836182\n",
      "*********\n",
      " Feature-combined data: \n",
      "Train score:  0.8067323481116585\n",
      "Test score:  0.7448275862068966\n",
      "Elapsed time (seconds):  3.4626801013946533\n",
      "*********\n",
      " Feature-combined + squared data: \n",
      "Train score:  0.80311986863711\n",
      "Test score:  0.7517241379310344\n",
      "Elapsed time (seconds):  3.8213019371032715\n",
      "*********\n",
      " Relative feature-combined data: \n",
      "Train score:  0.8113300492610838\n",
      "Test score:  0.7502463054187192\n",
      "Elapsed time (seconds):  3.4512901306152344\n",
      "*********\n",
      " Relative feature-combined + squared data: \n",
      "Train score:  0.8114942528735632\n",
      "Test score:  0.7507389162561576\n",
      "Elapsed time (seconds):  4.11787486076355\n",
      "*********\n",
      " Relative feature-combined + squared data w/out country: \n",
      "Train score:  0.809688013136289\n",
      "Test score:  0.7448275862068966\n",
      "Elapsed time (seconds):  4.2587220668792725\n"
     ]
    }
   ],
   "source": [
    "print(\"*********\\n Unmodified data: \")\n",
    "test_data(happiness_df.drop('partner', axis=1))\n",
    "print(\"*********\\n Relative data: \")\n",
    "test_data(relative_df.drop('partner', axis=1))\n",
    "print(\"*********\\n Feature-combined data: \")\n",
    "test_data(combo_df)\n",
    "print(\"*********\\n Feature-combined + squared data: \")\n",
    "test_data(combo_2_df)\n",
    "print(\"*********\\n Relative feature-combined data: \")\n",
    "test_data(rel_combo_df)\n",
    "print(\"*********\\n Relative feature-combined + squared data: \")\n",
    "test_data(rel_combo_2_df)\n",
    "print(\"*********\\n Relative feature-combined + squared data w/out country: \")\n",
    "test_data(rel_combo_2_df.drop('cntry', axis=1), has_cntry=False)"
   ]
  },
  {
   "cell_type": "markdown",
   "metadata": {},
   "source": [
    "Wow - we're still thoroughly stuck at the same level as the original, unmodified data.\n",
    "\n",
    "Let's see if we can get some feature importance info here:"
   ]
  },
  {
   "cell_type": "code",
   "execution_count": 94,
   "metadata": {
    "scrolled": true
   },
   "outputs": [
    {
     "name": "stdout",
     "output_type": "stream",
     "text": [
      "Train score:  0.8105090311986863\n",
      "Test score:  0.7443349753694581\n"
     ]
    }
   ],
   "source": [
    "X = pd.get_dummies(rel_combo_2_df, columns=['cntry'])\n",
    "y = happiness_df['partner']\n",
    "X_train, X_test, y_train, y_test = train_test_split(X, y, test_size=0.25)\n",
    "\n",
    "params = {'n_estimators': 500,\n",
    "          'max_depth': 2,\n",
    "          'loss': 'deviance',\n",
    "          'random_state': 12}\n",
    "\n",
    "gbc_5 = ensemble.GradientBoostingClassifier(**params)\n",
    "gbc_5.fit(X_train, y_train)\n",
    "train_score = gbc_5.score(X_train, y_train)\n",
    "test_score = gbc_5.score(X_test, y_test)\n",
    "\n",
    "print(\"Train score: \", train_score)\n",
    "print(\"Test score: \", test_score)"
   ]
  },
  {
   "cell_type": "code",
   "execution_count": 99,
   "metadata": {
    "scrolled": true
   },
   "outputs": [
    {
     "data": {
      "text/plain": [
       "[(0, 0.002658168451719321),\n",
       " (1, 0.006874700794363099),\n",
       " (2, 0.0031254554698674207),\n",
       " (3, 0.0042357428978088175),\n",
       " (4, 0.011160549478467573),\n",
       " (5, 0.005970827282780144),\n",
       " (6, 0.00562920234325264),\n",
       " (7, 0.0013822186649489758),\n",
       " (8, 0.030111927644223446),\n",
       " (9, 0.004584941330842208),\n",
       " (10, 0.02150382394617033),\n",
       " (11, 0.023075475017970283),\n",
       " (12, 0.017500587603850926),\n",
       " (13, 0.03750135889897719),\n",
       " (14, 0.021198337752778178),\n",
       " (15, 0.03778854441583712),\n",
       " (16, 0.005029720919645038),\n",
       " (17, 0.04473047929002337),\n",
       " (18, 0.005937670649154597),\n",
       " (19, 0.021255877644401934),\n",
       " (20, 0.01940512322694452),\n",
       " (21, 0.012098131727546532),\n",
       " (22, 0.016872420384019045),\n",
       " (23, 0.03260374518907697),\n",
       " (24, 0.010288347098542738),\n",
       " (25, 0.03205925844699584),\n",
       " (26, 0.0004410700398778506),\n",
       " (27, 0.019721658942404807),\n",
       " (28, 0.02199584951310931),\n",
       " (29, 0.00815585567056927),\n",
       " (30, 0.007482558116451943),\n",
       " (31, 0.005342307350872606),\n",
       " (32, 0.024481054597291975),\n",
       " (33, 0.004780388154420795),\n",
       " (34, 0.01694476692147439),\n",
       " (35, 0.013524147073795775),\n",
       " (36, 0.014568740430264215),\n",
       " (37, 0.013676728290061472),\n",
       " (38, 0.025687434664132678),\n",
       " (39, 0.013849325639106005),\n",
       " (40, 0.035265157622594974),\n",
       " (41, 0.03432860636426225),\n",
       " (42, 0.0035301496060619587),\n",
       " (43, 0.04899211896818679),\n",
       " (44, 0.006905837249792446),\n",
       " (45, 0.03193280310176039),\n",
       " (46, 0.008255373369596213),\n",
       " (47, 0.04437088266776617),\n",
       " (48, 0.008337201814068149),\n",
       " (49, 0.008121671762503),\n",
       " (50, 0.03984730607745518),\n",
       " (51, 0.0008566452869871735),\n",
       " (52, 0.044065031299843474),\n",
       " (53, 0.038456168028142106),\n",
       " ('cntry_CH', 0.0002968298828284219),\n",
       " ('cntry_CZ', 0.008256880337042248),\n",
       " ('cntry_ES', 0.0),\n",
       " ('cntry_NO', 0.010506661157081437),\n",
       " ('cntry_SE', 0.0024401534299862875)]"
      ]
     },
     "execution_count": 99,
     "metadata": {},
     "output_type": "execute_result"
    }
   ],
   "source": [
    "list(zip(X_train.columns, gbc_5.feature_importances_))"
   ]
  },
  {
   "cell_type": "code",
   "execution_count": 102,
   "metadata": {
    "scrolled": true
   },
   "outputs": [
    {
     "data": {
      "image/png": "[encoded data removed]",
      "text/plain": [
       "<matplotlib.figure.Figure at 0x10e413978>"
      ]
     },
     "metadata": {},
     "output_type": "display_data"
    }
   ],
   "source": [
    "labeled_fi = sorted( list(zip(X_train.columns, gbc_5.feature_importances_)), key=lambda x: -x[1])\n",
    "plt.figure(figsize=(12,5))\n",
    "x_imp = [tup[0] for tup in labeled_fi[:25]]\n",
    "y_labels = [tup[1] for tup in labeled_fi[:25]]\n",
    "plt.xticks(rotation=90)\n",
    "sns.barplot(x_imp, y_labels);"
   ]
  },
  {
   "cell_type": "markdown",
   "metadata": {},
   "source": [
    "Bafflingly, this isn't graphing as sorted, even though it in fact sorted (see below).  ????  At any rate, it's of no interpretational use because the labels produced by sklearn's combination algorithm are totally uninformative. We could try taking the top 10 features and hoping those produce something better than PCA (already run below, and still stuck at 0.75).  But that seems very doubtful, and I'm about out of steam here."
   ]
  },
  {
   "cell_type": "code",
   "execution_count": 103,
   "metadata": {
    "scrolled": true
   },
   "outputs": [
    {
     "data": {
      "text/plain": [
       "[(43, 0.04899211896818679),\n",
       " (17, 0.04473047929002337),\n",
       " (47, 0.04437088266776617),\n",
       " (52, 0.044065031299843474),\n",
       " (50, 0.03984730607745518),\n",
       " (53, 0.038456168028142106),\n",
       " (15, 0.03778854441583712),\n",
       " (13, 0.03750135889897719),\n",
       " (40, 0.035265157622594974),\n",
       " (41, 0.03432860636426225)]"
      ]
     },
     "execution_count": 103,
     "metadata": {},
     "output_type": "execute_result"
    }
   ],
   "source": [
    "sorted( list(zip(X_train.columns, gbc_5.feature_importances_)), key=lambda x: -x[1])[:10]"
   ]
  },
  {
   "cell_type": "markdown",
   "metadata": {},
   "source": [
    "PCA with regularized combination squared featureset:"
   ]
  },
  {
   "cell_type": "code",
   "execution_count": 85,
   "metadata": {},
   "outputs": [],
   "source": [
    "from sklearn.decomposition import PCA\n",
    "from sklearn.preprocessing import MinMaxScaler\n",
    "scaler = MinMaxScaler()\n",
    "X = scaler.fit_transform ( pd.get_dummies(combo_2_df, columns=['cntry']) )\n",
    "X_train, X_test, y_train, y_test = train_test_split(X, happiness_df['partner'], test_size=0.25)\n",
    "pca = PCA(n_components=20)\n",
    "pca.fit(X_train)\n",
    "Xpc_train = pca.transform(X_train)\n",
    "Xpc_test = pca.transform(X_test)"
   ]
  },
  {
   "cell_type": "code",
   "execution_count": 86,
   "metadata": {
    "scrolled": true
   },
   "outputs": [
    {
     "name": "stdout",
     "output_type": "stream",
     "text": [
      "Train score:  0.8057471264367816\n",
      "Test score:  0.7300492610837438\n"
     ]
    }
   ],
   "source": [
    "params = {'n_estimators': 500,\n",
    "          'max_depth': 2,\n",
    "          'loss': 'deviance'}\n",
    "\n",
    "gbc_pca = ensemble.GradientBoostingClassifier(**params)\n",
    "# cv_score = cross_val_score(gbc_pca, X, y, cv=4)\n",
    "gbc_pca.fit(Xpc_train, y_train)\n",
    "train_score = gbc_pca.score(Xpc_train, y_train)\n",
    "test_score = gbc_pca.score(Xpc_test, y_test)\n",
    "\n",
    "# print(\"CV scores:\", cv_score, '\\n mean: ', np.mean(cv_score))\n",
    "print(\"Train score: \", train_score)\n",
    "print(\"Test score: \", test_score)"
   ]
  },
  {
   "cell_type": "markdown",
   "metadata": {},
   "source": [
    "PCA with unregularized combination squared featureset:"
   ]
  },
  {
   "cell_type": "code",
   "execution_count": 87,
   "metadata": {},
   "outputs": [],
   "source": [
    "X_train, X_test, y_train, y_test = train_test_split(pd.get_dummies(combo_2_df, columns=['cntry']), happiness_df['partner'], test_size=0.25)\n",
    "pca = PCA(n_components=20)\n",
    "pca.fit(X_train)\n",
    "Xpc_train = pca.transform(X_train)\n",
    "Xpc_test = pca.transform(X_test)"
   ]
  },
  {
   "cell_type": "code",
   "execution_count": 88,
   "metadata": {
    "scrolled": true
   },
   "outputs": [
    {
     "name": "stdout",
     "output_type": "stream",
     "text": [
      "Train score:  0.8180623973727422\n",
      "Test score:  0.7502463054187192\n"
     ]
    }
   ],
   "source": [
    "params = {'n_estimators': 500,\n",
    "          'max_depth': 2,\n",
    "          'loss': 'deviance'}\n",
    "\n",
    "gbc_pca = ensemble.GradientBoostingClassifier(**params)\n",
    "# cv_score = cross_val_score(gbc_pca, X, y, cv=4)\n",
    "gbc_pca.fit(Xpc_train, y_train)\n",
    "train_score = gbc_pca.score(Xpc_train, y_train)\n",
    "test_score = gbc_pca.score(Xpc_test, y_test)\n",
    "\n",
    "# print(\"CV scores:\", cv_score, '\\n mean: ', np.mean(cv_score))\n",
    "print(\"Train score: \", train_score)\n",
    "print(\"Test score: \", test_score)"
   ]
  },
  {
   "cell_type": "markdown",
   "metadata": {},
   "source": [
    "Oddly, this score is higher."
   ]
  },
  {
   "cell_type": "markdown",
   "metadata": {},
   "source": [
    "Finally, PCA with unregularized *relative* combo squared featureset:"
   ]
  },
  {
   "cell_type": "code",
   "execution_count": 18,
   "metadata": {
    "scrolled": true
   },
   "outputs": [
    {
     "name": "stdout",
     "output_type": "stream",
     "text": [
      "Train score:  0.783743842364532\n",
      "Test score:  0.6970443349753694\n"
     ]
    }
   ],
   "source": [
    "X_train, X_test, y_train, y_test = train_test_split(rel_combo_2_df, happiness_df['partner'], test_size=0.25)\n",
    "pca = PCA(n_components=12)\n",
    "pca.fit(X_train)\n",
    "Xpc_train = pca.transform(X_train)\n",
    "Xpc_test = pca.transform(X_test)\n",
    "\n",
    "params = {'n_estimators': 500,\n",
    "          'max_depth': 2,\n",
    "          'loss': 'deviance'}\n",
    "\n",
    "gbc_pca = ensemble.GradientBoostingClassifier(**params)\n",
    "# cv_score = cross_val_score(gbc_pca, X, y, cv=4)\n",
    "gbc_pca.fit(Xpc_train, y_train)\n",
    "train_score = gbc_pca.score(Xpc_train, y_train)\n",
    "test_score = gbc_pca.score(Xpc_test, y_test)\n",
    "\n",
    "# print(\"CV scores:\", cv_score, '\\n mean: ', np.mean(cv_score))\n",
    "print(\"Train score: \", train_score)\n",
    "print(\"Test score: \", test_score)"
   ]
  },
  {
   "cell_type": "markdown",
   "metadata": {},
   "source": [
    "# Conclusion:\n",
    "\n",
    "A summary of what I've tried:\n",
    "- a hyperparameter sweep of all the main parameters of Gradient Boost\n",
    "- all possible two-variable combinations of the data\n",
    "- squaring all variables in the data\n",
    "- normalizing all data columns to the individual's country's averages\n",
    "- running PCA on both regularized and unregularized versions of the maximal dataset.\n",
    "\n",
    "All of these methods produced between 0.70 and 0.75 accuracy.  \n",
    "\n",
    "Overall, I have just no idea how to use the data here to get better accuracy than 0.75.  It seems that nearly any form of random forest or boosted forest will get you at least 0.72, but no amount of feature engineering or algorithm tweaking will get you beyond 0.75.  It's possible, I suppose, that 24% of the \"partner\" variable is just noise unrelated to any of the data here, in which case we've hit the hard ceiling.  However, that would be exceptionally mean for Thinkful to do (since that's the initial accuracy they achieved and told us to improve on), so I'm hopeful that I'm missing something here.\n",
    "\n",
    "One tentative conclusion here - which would be very useful to know, if true - is that random forests and gradient boosted trees already capture all inter-feature relationships, so adding combined features won't make any substantial difference.  They also aren't linearly constrained, so it's not totally clear that adding polynomial features will do much good either.  Which begs the question: is feature engineering theoretically irrelevant for these models?  (which would make it odd that Thinkful recommended we try it...)\n",
    "\n",
    "Finally, the obvious quasi-cheat here (and the only way I can think of to improve on this) is to insert some relevant data about the countries - average marriage age, for instance - and see if that helps.  But presumably much of that effect should already be captured in the algorithm's treatment of the country column."
   ]
  },
  {
   "cell_type": "markdown",
   "metadata": {},
   "source": [
    "# One other question based on an early attempt here:"
   ]
  },
  {
   "cell_type": "code",
   "execution_count": 228,
   "metadata": {
    "scrolled": false
   },
   "outputs": [
    {
     "data": {
      "text/html": [
       "<div>\n",
       "<style scoped>\n",
       "    .dataframe tbody tr th:only-of-type {\n",
       "        vertical-align: middle;\n",
       "    }\n",
       "\n",
       "    .dataframe tbody tr th {\n",
       "        vertical-align: top;\n",
       "    }\n",
       "\n",
       "    .dataframe thead th {\n",
       "        text-align: right;\n",
       "    }\n",
       "</style>\n",
       "<table border=\"1\" class=\"dataframe\">\n",
       "  <thead>\n",
       "    <tr style=\"text-align: right;\">\n",
       "      <th></th>\n",
       "      <th>cntry</th>\n",
       "      <th>tvtot</th>\n",
       "      <th>ppltrst</th>\n",
       "      <th>pplfair</th>\n",
       "      <th>pplhlp</th>\n",
       "      <th>happy</th>\n",
       "      <th>sclmeet</th>\n",
       "      <th>sclact</th>\n",
       "      <th>gndr</th>\n",
       "      <th>agea</th>\n",
       "      <th>...</th>\n",
       "      <th>relative_pplhlp</th>\n",
       "      <th>relative_happy</th>\n",
       "      <th>relative_sclmeet</th>\n",
       "      <th>relative_sclact</th>\n",
       "      <th>relative_gndr</th>\n",
       "      <th>relative_agea</th>\n",
       "      <th>tv_happ</th>\n",
       "      <th>tv_soc</th>\n",
       "      <th>age_happ</th>\n",
       "      <th>gender_sclact</th>\n",
       "    </tr>\n",
       "  </thead>\n",
       "  <tbody>\n",
       "    <tr>\n",
       "      <th>0</th>\n",
       "      <td>CH</td>\n",
       "      <td>3.0</td>\n",
       "      <td>3.0</td>\n",
       "      <td>10.0</td>\n",
       "      <td>5.0</td>\n",
       "      <td>8.0</td>\n",
       "      <td>5.0</td>\n",
       "      <td>4.0</td>\n",
       "      <td>1</td>\n",
       "      <td>60.0</td>\n",
       "      <td>...</td>\n",
       "      <td>0.879442</td>\n",
       "      <td>0.986045</td>\n",
       "      <td>0.970906</td>\n",
       "      <td>1.455712</td>\n",
       "      <td>44.69697</td>\n",
       "      <td>1.285683</td>\n",
       "      <td>0.087340</td>\n",
       "      <td>-0.065320</td>\n",
       "      <td>102.160591</td>\n",
       "      <td>4.0</td>\n",
       "    </tr>\n",
       "    <tr>\n",
       "      <th>1</th>\n",
       "      <td>CH</td>\n",
       "      <td>6.0</td>\n",
       "      <td>5.0</td>\n",
       "      <td>7.0</td>\n",
       "      <td>5.0</td>\n",
       "      <td>9.0</td>\n",
       "      <td>3.0</td>\n",
       "      <td>2.0</td>\n",
       "      <td>1</td>\n",
       "      <td>59.0</td>\n",
       "      <td>...</td>\n",
       "      <td>0.879442</td>\n",
       "      <td>1.109301</td>\n",
       "      <td>0.582543</td>\n",
       "      <td>0.727856</td>\n",
       "      <td>44.69697</td>\n",
       "      <td>1.264255</td>\n",
       "      <td>0.774680</td>\n",
       "      <td>-1.330640</td>\n",
       "      <td>105.930665</td>\n",
       "      <td>2.0</td>\n",
       "    </tr>\n",
       "    <tr>\n",
       "      <th>2</th>\n",
       "      <td>CH</td>\n",
       "      <td>1.0</td>\n",
       "      <td>8.0</td>\n",
       "      <td>8.0</td>\n",
       "      <td>8.0</td>\n",
       "      <td>7.0</td>\n",
       "      <td>6.0</td>\n",
       "      <td>3.0</td>\n",
       "      <td>-1</td>\n",
       "      <td>24.0</td>\n",
       "      <td>...</td>\n",
       "      <td>1.407107</td>\n",
       "      <td>0.862789</td>\n",
       "      <td>1.165087</td>\n",
       "      <td>1.091784</td>\n",
       "      <td>-44.69697</td>\n",
       "      <td>0.514273</td>\n",
       "      <td>-0.070887</td>\n",
       "      <td>0.078227</td>\n",
       "      <td>-162.609483</td>\n",
       "      <td>-3.0</td>\n",
       "    </tr>\n",
       "    <tr>\n",
       "      <th>3</th>\n",
       "      <td>CH</td>\n",
       "      <td>4.0</td>\n",
       "      <td>6.0</td>\n",
       "      <td>6.0</td>\n",
       "      <td>7.0</td>\n",
       "      <td>10.0</td>\n",
       "      <td>6.0</td>\n",
       "      <td>2.0</td>\n",
       "      <td>1</td>\n",
       "      <td>64.0</td>\n",
       "      <td>...</td>\n",
       "      <td>1.231219</td>\n",
       "      <td>1.232556</td>\n",
       "      <td>1.165087</td>\n",
       "      <td>0.727856</td>\n",
       "      <td>44.69697</td>\n",
       "      <td>1.371395</td>\n",
       "      <td>0.916453</td>\n",
       "      <td>0.312906</td>\n",
       "      <td>167.700739</td>\n",
       "      <td>2.0</td>\n",
       "    </tr>\n",
       "    <tr>\n",
       "      <th>4</th>\n",
       "      <td>CH</td>\n",
       "      <td>5.0</td>\n",
       "      <td>6.0</td>\n",
       "      <td>7.0</td>\n",
       "      <td>5.0</td>\n",
       "      <td>8.0</td>\n",
       "      <td>7.0</td>\n",
       "      <td>2.0</td>\n",
       "      <td>1</td>\n",
       "      <td>55.0</td>\n",
       "      <td>...</td>\n",
       "      <td>0.879442</td>\n",
       "      <td>0.986045</td>\n",
       "      <td>1.359268</td>\n",
       "      <td>0.727856</td>\n",
       "      <td>44.69697</td>\n",
       "      <td>1.178543</td>\n",
       "      <td>0.145567</td>\n",
       "      <td>0.891133</td>\n",
       "      <td>62.160591</td>\n",
       "      <td>2.0</td>\n",
       "    </tr>\n",
       "  </tbody>\n",
       "</table>\n",
       "<p>5 rows × 24 columns</p>\n",
       "</div>"
      ],
      "text/plain": [
       "  cntry  tvtot  ppltrst  pplfair  pplhlp  happy  sclmeet  sclact  gndr  agea  \\\n",
       "0    CH    3.0      3.0     10.0     5.0    8.0      5.0     4.0     1  60.0   \n",
       "1    CH    6.0      5.0      7.0     5.0    9.0      3.0     2.0     1  59.0   \n",
       "2    CH    1.0      8.0      8.0     8.0    7.0      6.0     3.0    -1  24.0   \n",
       "3    CH    4.0      6.0      6.0     7.0   10.0      6.0     2.0     1  64.0   \n",
       "4    CH    5.0      6.0      7.0     5.0    8.0      7.0     2.0     1  55.0   \n",
       "\n",
       "       ...        relative_pplhlp  relative_happy  relative_sclmeet  \\\n",
       "0      ...               0.879442        0.986045          0.970906   \n",
       "1      ...               0.879442        1.109301          0.582543   \n",
       "2      ...               1.407107        0.862789          1.165087   \n",
       "3      ...               1.231219        1.232556          1.165087   \n",
       "4      ...               0.879442        0.986045          1.359268   \n",
       "\n",
       "   relative_sclact  relative_gndr  relative_agea   tv_happ    tv_soc  \\\n",
       "0         1.455712       44.69697       1.285683  0.087340 -0.065320   \n",
       "1         0.727856       44.69697       1.264255  0.774680 -1.330640   \n",
       "2         1.091784      -44.69697       0.514273 -0.070887  0.078227   \n",
       "3         0.727856       44.69697       1.371395  0.916453  0.312906   \n",
       "4         0.727856       44.69697       1.178543  0.145567  0.891133   \n",
       "\n",
       "     age_happ  gender_sclact  \n",
       "0  102.160591            4.0  \n",
       "1  105.930665            2.0  \n",
       "2 -162.609483           -3.0  \n",
       "3  167.700739            2.0  \n",
       "4   62.160591            2.0  \n",
       "\n",
       "[5 rows x 24 columns]"
      ]
     },
     "execution_count": 228,
     "metadata": {},
     "output_type": "execute_result"
    }
   ],
   "source": [
    "# for col_name in happiness_df.columns[1:10]: # excludes country, partner\n",
    "#     cntry_means = happiness_df.groupby('cntry')[col_name].agg(np.mean)\n",
    "#     happiness_df['relative_'+col_name] = happiness_df[col_name] / cntry_means[happiness_df['cntry']]\n",
    "# FIXED THIS BELOW BY GENERATING A NEW LIST but it's odd that the indexing doesn't allow it - I don't know why.\n",
    "\n",
    "# First, every score is probably more important relative to fellow citizens than to other EU countries\n",
    "# (what makes us happy is sometimes not what we have, but what we have compared to the Joneses)\n",
    "for col_name in happiness_df.columns[1:10]: # excludes country, partner\n",
    "    cntry_means = happiness_df.groupby('cntry')[col_name].agg(np.mean)\n",
    "    cntry_means_col = [cntry_means[cntry] for cntry in happiness_df['cntry']]\n",
    "    happiness_df['relative_'+col_name] = happiness_df[col_name] / cntry_means_col\n",
    "\n",
    "# tvtot may be different based on happiness, and based on social interactions\n",
    "happy_scaled = (happiness_df['happy'] - np.mean(happiness_df.happy)) / 10\n",
    "sclmeet_scaled = (happiness_df['sclmeet'] - np.mean(happiness_df.sclmeet)) / 10\n",
    "happiness_df['tv_happ'] = happiness_df['tvtot'] * happy_scaled\n",
    "happiness_df['tv_soc'] = happiness_df['tvtot'] * sclmeet_scaled\n",
    "\n",
    "# age and happiness are likely to have a significant interaction - older singles are probably less likely\n",
    "# to be happy single than people in their 20s\n",
    "happiness_df['age_happ'] = (happiness_df['agea'] - np.mean(happiness_df.agea)) * happiness_df.happy\n",
    "\n",
    "# finally, number of social activities interacting with gender and age may predict partner\n",
    "# note: subtracting 1.5 from gndr makes it a binary -0.5 and 0.5\n",
    "happiness_df['gender_sclact'] = (happiness_df['gndr'] * happiness_df['sclact']) \n",
    "# multiply \n",
    "\n",
    "# and finally, let's try correlating gender with all other features\n",
    "happiness_df.head()"
   ]
  },
  {
   "cell_type": "markdown",
   "metadata": {},
   "source": [
    "Now let's winnow them down using feature importance testing:"
   ]
  },
  {
   "cell_type": "code",
   "execution_count": 255,
   "metadata": {},
   "outputs": [],
   "source": [
    "X = pd.get_dummies(happiness_df.drop('partner', axis=1), columns=['cntry'])\n",
    "y = happiness_df['partner']\n",
    "X_train, X_test, y_train, y_test = train_test_split(X, y, test_size=0.25)"
   ]
  },
  {
   "cell_type": "code",
   "execution_count": 256,
   "metadata": {},
   "outputs": [
    {
     "name": "stdout",
     "output_type": "stream",
     "text": [
      "Train score:  0.8853858784893268 \n",
      "Test score:  0.7527093596059113\n"
     ]
    },
    {
     "data": {
      "image/png": "[encoded data removed]",
      "text/plain": [
       "<matplotlib.figure.Figure at 0x112d73f98>"
      ]
     },
     "metadata": {},
     "output_type": "display_data"
    }
   ],
   "source": [
    "rfc_2 = RandomForestClassifier(n_estimators=100, max_depth=12)\n",
    "rfc_2.fit(X_train, y_train)\n",
    "train_score = rfc_2.score(X_train, y_train)\n",
    "test_score = rfc_2.score(X_test, y_test)\n",
    "print(\"Train score: \", train_score, \"\\nTest score: \", test_score)\n",
    "labeled_fi = sorted( list(zip(X_train.columns, rfc_2.feature_importances_)), key=lambda x: -x[1])\n",
    "plt.figure(figsize=(12,5))\n",
    "x_imp = [tup[0] for tup in labeled_fi[:25]]\n",
    "y_labels = [tup[1] for tup in labeled_fi[:25]]\n",
    "plt.xticks(rotation=90)\n",
    "sns.barplot(x_imp, y_labels);"
   ]
  },
  {
   "cell_type": "markdown",
   "metadata": {},
   "source": [
    "On an initial look, it seems we've got more overfitting but no more accuracy.  What's surprising here to me is that there's no accuracy gain even though nine of the ten most important features are engineered features.  I would think that generating new features more predictively important than the old features would entail an accuracy gain.  Why doesn't it?"
   ]
  }
 ],
 "metadata": {
  "kernelspec": {
   "display_name": "Python 3",
   "language": "python",
   "name": "python3"
  },
  "language_info": {
   "codemirror_mode": {
    "name": "ipython",
    "version": 3
   },
   "file_extension": ".py",
   "mimetype": "text/x-python",
   "name": "python",
   "nbconvert_exporter": "python",
   "pygments_lexer": "ipython3",
   "version": "3.6.4"
  }
 },
 "nbformat": 4,
 "nbformat_minor": 2
}
