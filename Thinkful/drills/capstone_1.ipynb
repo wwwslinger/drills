{
 "cells": [
  {
   "cell_type": "markdown",
   "metadata": {},
   "source": [
    "# Introduction\n",
    "Founded in 1997, MovieLens is a website and online community that generates movie recommendations for users via collaborative filtering.  Users begin by creating an account and rating some number of movies they have previously watched on a scale of 0.5 stars to 5 stars. MovieLens's recommendation algorithm then uses the user's ratings, as well as other users' rating patterns, to generate movie recommendations for the user. As the user rates more movies over time, the recommendations change in real time, becoming more personalized (and thus theoretically more successful) over time.\n",
    "\n",
    "MovieLens makes its datasets, consisting of some 20 million ratings covering over 27,000 movies, available to the public.  These datasets include the numerical rating and the associated user ID, movie ID, and date and time of rating.  For this study, we'll look at two datasets: a up-to-date random sample of 100K ratings, and a full dataset of 20 million ratings.  For ease of use, we'll begin with an exploratory look at the smaller 100K sample.  Later on, we'll run significance tests and use the larger dataset as necessary. "
   ]
  },
  {
   "cell_type": "markdown",
   "metadata": {},
   "source": [
    "# Loading the Data\n",
    "\n",
    "The function load_and_clean imports the specified datasets, reformats dates, and merges the ratings data with the movies data."
   ]
  },
  {
   "cell_type": "code",
   "execution_count": 1,
   "metadata": {},
   "outputs": [],
   "source": [
    "import numpy as np\n",
    "import scipy as sp\n",
    "import pandas as pd\n",
    "import seaborn as sns\n",
    "import matplotlib.pyplot as plt\n",
    "sns.set()\n",
    "%matplotlib inline"
   ]
  },
  {
   "cell_type": "code",
   "execution_count": 2,
   "metadata": {
    "scrolled": true
   },
   "outputs": [
    {
     "data": {
      "text/html": [
       "<div>\n",
       "<style scoped>\n",
       "    .dataframe tbody tr th:only-of-type {\n",
       "        vertical-align: middle;\n",
       "    }\n",
       "\n",
       "    .dataframe tbody tr th {\n",
       "        vertical-align: top;\n",
       "    }\n",
       "\n",
       "    .dataframe thead th {\n",
       "        text-align: right;\n",
       "    }\n",
       "</style>\n",
       "<table border=\"1\" class=\"dataframe\">\n",
       "  <thead>\n",
       "    <tr style=\"text-align: right;\">\n",
       "      <th></th>\n",
       "      <th>userId</th>\n",
       "      <th>movieId</th>\n",
       "      <th>rating</th>\n",
       "      <th>title</th>\n",
       "      <th>genres</th>\n",
       "      <th>datetime</th>\n",
       "      <th>date</th>\n",
       "      <th>month</th>\n",
       "      <th>weekday</th>\n",
       "    </tr>\n",
       "  </thead>\n",
       "  <tbody>\n",
       "    <tr>\n",
       "      <th>0</th>\n",
       "      <td>1</td>\n",
       "      <td>31</td>\n",
       "      <td>2.5</td>\n",
       "      <td>Dangerous Minds (1995)</td>\n",
       "      <td>Drama</td>\n",
       "      <td>2009-12-14 02:52:24</td>\n",
       "      <td>2009-12-14</td>\n",
       "      <td>12</td>\n",
       "      <td>0</td>\n",
       "    </tr>\n",
       "    <tr>\n",
       "      <th>1</th>\n",
       "      <td>7</td>\n",
       "      <td>31</td>\n",
       "      <td>3.0</td>\n",
       "      <td>Dangerous Minds (1995)</td>\n",
       "      <td>Drama</td>\n",
       "      <td>1996-12-29 14:12:30</td>\n",
       "      <td>1996-12-29</td>\n",
       "      <td>12</td>\n",
       "      <td>6</td>\n",
       "    </tr>\n",
       "    <tr>\n",
       "      <th>2</th>\n",
       "      <td>31</td>\n",
       "      <td>31</td>\n",
       "      <td>4.0</td>\n",
       "      <td>Dangerous Minds (1995)</td>\n",
       "      <td>Drama</td>\n",
       "      <td>2010-05-11 01:39:13</td>\n",
       "      <td>2010-05-11</td>\n",
       "      <td>5</td>\n",
       "      <td>1</td>\n",
       "    </tr>\n",
       "    <tr>\n",
       "      <th>3</th>\n",
       "      <td>32</td>\n",
       "      <td>31</td>\n",
       "      <td>4.0</td>\n",
       "      <td>Dangerous Minds (1995)</td>\n",
       "      <td>Drama</td>\n",
       "      <td>1996-06-15 08:47:20</td>\n",
       "      <td>1996-06-15</td>\n",
       "      <td>6</td>\n",
       "      <td>5</td>\n",
       "    </tr>\n",
       "    <tr>\n",
       "      <th>4</th>\n",
       "      <td>36</td>\n",
       "      <td>31</td>\n",
       "      <td>3.0</td>\n",
       "      <td>Dangerous Minds (1995)</td>\n",
       "      <td>Drama</td>\n",
       "      <td>1996-11-03 21:40:02</td>\n",
       "      <td>1996-11-03</td>\n",
       "      <td>11</td>\n",
       "      <td>6</td>\n",
       "    </tr>\n",
       "  </tbody>\n",
       "</table>\n",
       "</div>"
      ],
      "text/plain": [
       "   userId  movieId  rating                   title genres            datetime  \\\n",
       "0       1       31     2.5  Dangerous Minds (1995)  Drama 2009-12-14 02:52:24   \n",
       "1       7       31     3.0  Dangerous Minds (1995)  Drama 1996-12-29 14:12:30   \n",
       "2      31       31     4.0  Dangerous Minds (1995)  Drama 2010-05-11 01:39:13   \n",
       "3      32       31     4.0  Dangerous Minds (1995)  Drama 1996-06-15 08:47:20   \n",
       "4      36       31     3.0  Dangerous Minds (1995)  Drama 1996-11-03 21:40:02   \n",
       "\n",
       "         date  month  weekday  \n",
       "0  2009-12-14     12        0  \n",
       "1  1996-12-29     12        6  \n",
       "2  2010-05-11      5        1  \n",
       "3  1996-06-15      6        5  \n",
       "4  1996-11-03     11        6  "
      ]
     },
     "execution_count": 2,
     "metadata": {},
     "output_type": "execute_result"
    }
   ],
   "source": [
    "# load small data\n",
    "from load_and_clean import load_and_clean\n",
    "smallRatings_df = load_and_clean(\"ml-latest-small/movies.csv\", \"ml-latest-small/ratings.csv\")\n",
    "smallRatings_df.head()"
   ]
  },
  {
   "cell_type": "markdown",
   "metadata": {},
   "source": [
    "# Exploring the Data\n",
    "\n",
    "The rating scores in this dataset have a left-skewed distribution across the range of ten possible values.  The mean rating is 3.5, with a standard deviation of about 1, and the most common rating is a 4.  Although the site allows half-star ratings (0.5, 1.5, etc), users give whole-star ratings (1.0, 2.0, etc) much more often."
   ]
  },
  {
   "cell_type": "code",
   "execution_count": 8,
   "metadata": {
    "scrolled": true
   },
   "outputs": [
    {
     "data": {
      "image/png": "[encoded data removed]",
      "text/plain": [
       "<matplotlib.figure.Figure at 0x10a16c0b8>"
      ]
     },
     "metadata": {},
     "output_type": "display_data"
    }
   ],
   "source": [
    "plt.figure(figsize=(8,5))\n",
    "sns.countplot(\"rating\", data=smallRatings_df)\n",
    "rating_mean = smallRatings_df[\"rating\"].mean()\n",
    "rating_std = smallRatings_df[\"rating\"].std()\n",
    "plt.title(\"Rating distribution (mean = {}, std = {})\".format(round(rating_mean, 2), round(rating_std, 2)))\n",
    "plt.show()"
   ]
  },
  {
   "cell_type": "markdown",
   "metadata": {},
   "source": [
    "Examining the times at which the ratings are given, we can see that the dataset begins at the smalles"
   ]
  },
  {
   "cell_type": "markdown",
   "metadata": {},
   "source": [
    "# Question\n",
    "One difficulty in assessing the ratings in this dataset is that participants give ratings at different time intervals from their actual viewing.  Some ratings represent ratings for a movie that the user watched just an hour beforehand and remembers in great detail, while others represent ratings for movies that the user watched many years beforehand and retains only a vague impression of.  Given the effects of memory over time, shifts in taste, and intervening life experiences, these ratings may be measuring very different attributes of the viewer-movie interaction.  Interpreting them as equivalent may lead to faulty conclusions and miss valuable insights.\n",
    "\n",
    "We can roughly encapsulate these considerations in a single question: how do users' ratings of recently watched movies (say, within the past week) differ from their ratings of movies they watched long ago?"
   ]
  },
  {
   "cell_type": "markdown",
   "metadata": {},
   "source": [
    "# Hypothesis\n",
    "My hypothesis is that ratings not given recently after watching a movie will tend to regress to the average in users' minds, leading to a smaller degree of dispersion among ratings.  Concretely, my hypothesis is that the standard distribution will be lower for movies not rated recently after watching than for movies rated recently.\n",
    "\n",
    "It will also be interesting to examine the mean. My secondary hypothesis is that the mean rating will be slightly lower for movies not rated recently after watching than for movies rated recently."
   ]
  },
  {
   "cell_type": "markdown",
   "metadata": {},
   "source": [
    "# Methodology\n",
    "On the face of it, it seems difficult to answer this question based on the available data.  Because MovieLens does not ask the user how long ago or on what date they watched the movie (rating a movie is a one-click process), we don't have any direct time interval data.  However, we can make some inferences based on usage patterns.  Broadly, we can posit three typical usage patterns for rating movies:\n",
    "<ol>\n",
    "    <li><b>Profile-building visit:</b> the user rates multiple movies she has watched at some point - not necessarily recently - in order to generate initial recommendations. (Includes the initial site visit.)</li>\n",
    "    <li><b>Targeted rating visit:</b> the user logs in specifically to rate one or more movies she has recently watched</li>\n",
    "    <li><b>Hybrid rating visit:</b> the user logs in specifically to rate one or more movies she has recently watched, and then also rates one or more non-recently-watched movies while online.</li>\n",
    "</ol>\n",
    "Notably, none of these typical patterns include going online just to rate a single movie that the user watched long ago - it's hard to imagine what motive would prompt that behavior.  This is crucial, because it means that we can distinguish recent vs non-recent ratings based on how many movies the user rated that day.  Specifically, for the purposes of answering our question, we will divide the data into three groups:\n",
    "<ul>\n",
    "    <li><b>Singleton ratings:</b> ratings given on days on which that user recorded no other ratings</li>\n",
    "    <li><b>Pair ratings:</b> ratings given on days on which that user recorded exactly one other rating</li>\n",
    "    <li><b>Batch ratings:</b> ratings given on days on which that user recorded multiple other ratings</li>\n",
    "</ul>\n",
    "\n",
    "We will discard the pair ratings as ambiguous, since these could plausibly represent two recently watched movies (usage pattern 2), or one recently watched movie and one long-ago-watched movie the user saw in the recommendation section and also rated (usage pattern 3), or even two non-recently-watched movies rated on a profile-building visit to the site (usage pattern 1). We will compare the singleton ratings, which almost exclusively represent recently watched movies, against the batch ratings, which predominantly represent movies watched less recently than one week.\n",
    "\n",
    "For each of these sets – the singleton ratings and the batch ratings – we will take the mean and the standard deviation.  As they are on the same scale, we do not need to normalize.  We will compare these metrics and run either z-tests or z-tests, depending on the size of these sets, to determine whether these differences are significant, defined as a p value of less than 5%.\n",
    "\n",
    "Given the large size of the dataset (20 million ratings), it would make good pragmatic sense to begin with evaluating a smaller random subset of 100,000 ratings, which we will divide into singleton, pair, and batch ratings.  If the p values produced from these subsets are close to or greater than 5%, we will run the tests again on the entire dataset."
   ]
  },
  {
   "cell_type": "markdown",
   "metadata": {},
   "source": [
    "# Conclusions and success\n",
    "This test will be successful if it demonstrates a significant difference between the singleton and batch rating datasets – in either direction.  Even if that difference is the opposite of the hypothesized difference, the test will have produced interesting and useful information about the dataset. The lower the p-value of the difference is, the more significant the result is.  Knowing the nature of this difference will allow us to take recency of rating into account as we analyze the dataset for other purposes.\n",
    "\n",
    "On the other hand, if there are no significant differences between the two rating sets, this means that one of the premises of the experiment was misguided: either the singletons vs batch ratings do not predominantly represent recent vs non-recent ratings (respectively) as supposed, or recent vs non-recent ratings do not actually display any statistically significant differences.\n"
   ]
  },
  {
   "cell_type": "markdown",
   "metadata": {},
   "source": [
    "# Further research\n",
    "This statistical experiment will give us some basic data on how recent and non-recent ratings differ.  However, if we want further insight into the differences between these two types of ratings, we may want to design a survey instrument to distribute to a subset of MovieLens users.  Specifically, we might ask..."
   ]
  },
  {
   "cell_type": "markdown",
   "metadata": {},
   "source": [
    "# Bonus: basic execution\n"
   ]
  }
 ],
 "metadata": {
  "kernelspec": {
   "display_name": "Python 3",
   "language": "python",
   "name": "python3"
  },
  "language_info": {
   "codemirror_mode": {
    "name": "ipython",
    "version": 3
   },
   "file_extension": ".py",
   "mimetype": "text/x-python",
   "name": "python",
   "nbconvert_exporter": "python",
   "pygments_lexer": "ipython3",
   "version": "3.6.4"
  }
 },
 "nbformat": 4,
 "nbformat_minor": 2
}
