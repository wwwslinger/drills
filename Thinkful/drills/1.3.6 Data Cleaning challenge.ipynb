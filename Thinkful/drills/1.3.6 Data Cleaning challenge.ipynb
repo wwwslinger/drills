{
 "cells": [
  {
   "cell_type": "code",
   "execution_count": 1,
   "metadata": {},
   "outputs": [],
   "source": [
    "import pandas as pd\n",
    "import numpy as np\n",
    "import matplotlib.pyplot as plt\n",
    "import seaborn as sns\n",
    "%matplotlib inline"
   ]
  },
  {
   "cell_type": "code",
   "execution_count": 2,
   "metadata": {
    "scrolled": false
   },
   "outputs": [
    {
     "data": {
      "text/html": [
       "<div>\n",
       "<style scoped>\n",
       "    .dataframe tbody tr th:only-of-type {\n",
       "        vertical-align: middle;\n",
       "    }\n",
       "\n",
       "    .dataframe tbody tr th {\n",
       "        vertical-align: top;\n",
       "    }\n",
       "\n",
       "    .dataframe thead th {\n",
       "        text-align: right;\n",
       "    }\n",
       "</style>\n",
       "<table border=\"1\" class=\"dataframe\">\n",
       "  <thead>\n",
       "    <tr style=\"text-align: right;\">\n",
       "      <th></th>\n",
       "      <th>PMID/PMCID</th>\n",
       "      <th>Publisher</th>\n",
       "      <th>Journal title</th>\n",
       "      <th>Article title</th>\n",
       "      <th>Cost</th>\n",
       "    </tr>\n",
       "  </thead>\n",
       "  <tbody>\n",
       "    <tr>\n",
       "      <th>0</th>\n",
       "      <td>NaN</td>\n",
       "      <td>cup</td>\n",
       "      <td>psychological medicine</td>\n",
       "      <td>Reduced parahippocampal cortical thickness in ...</td>\n",
       "      <td>0.00</td>\n",
       "    </tr>\n",
       "    <tr>\n",
       "      <th>1</th>\n",
       "      <td>PMC3679557</td>\n",
       "      <td>acs</td>\n",
       "      <td>biomacromolecules</td>\n",
       "      <td>Structural characterization of a Model Gram-ne...</td>\n",
       "      <td>2381.04</td>\n",
       "    </tr>\n",
       "    <tr>\n",
       "      <th>2</th>\n",
       "      <td>23043264  PMC3506128</td>\n",
       "      <td>acs</td>\n",
       "      <td>j med chem</td>\n",
       "      <td>Fumaroylamino-4,5-epoxymorphinans and related ...</td>\n",
       "      <td>642.56</td>\n",
       "    </tr>\n",
       "    <tr>\n",
       "      <th>3</th>\n",
       "      <td>23438330 PMC3646402</td>\n",
       "      <td>acs</td>\n",
       "      <td>j med chem</td>\n",
       "      <td>Orvinols with mixed kappa/mu opioid receptor a...</td>\n",
       "      <td>669.64</td>\n",
       "    </tr>\n",
       "    <tr>\n",
       "      <th>4</th>\n",
       "      <td>23438216 PMC3601604</td>\n",
       "      <td>acs</td>\n",
       "      <td>j org chem</td>\n",
       "      <td>Regioselective opening of myo-inositol orthoes...</td>\n",
       "      <td>685.88</td>\n",
       "    </tr>\n",
       "  </tbody>\n",
       "</table>\n",
       "</div>"
      ],
      "text/plain": [
       "              PMID/PMCID Publisher           Journal title  \\\n",
       "0                    NaN       cup  psychological medicine   \n",
       "1             PMC3679557       acs       biomacromolecules   \n",
       "2  23043264  PMC3506128        acs              j med chem   \n",
       "3    23438330 PMC3646402       acs              j med chem   \n",
       "4   23438216 PMC3601604        acs              j org chem   \n",
       "\n",
       "                                       Article title     Cost  \n",
       "0  Reduced parahippocampal cortical thickness in ...     0.00  \n",
       "1  Structural characterization of a Model Gram-ne...  2381.04  \n",
       "2  Fumaroylamino-4,5-epoxymorphinans and related ...   642.56  \n",
       "3  Orvinols with mixed kappa/mu opioid receptor a...   669.64  \n",
       "4  Regioselective opening of myo-inositol orthoes...   685.88  "
      ]
     },
     "execution_count": 2,
     "metadata": {},
     "output_type": "execute_result"
    }
   ],
   "source": [
    "from spend_data_cleaning import clean\n",
    "# note: cleaning function viewable at \n",
    "# https://github.com/gqfiddler/drills/blob/master/Thinkful/drills/spend_data_cleaning.py\n",
    "spending_df = clean(\"WELLCOME_APCspend2013.csv\")\n",
    "spending_df.head()"
   ]
  },
  {
   "cell_type": "markdown",
   "metadata": {},
   "source": [
    "# five most common journals:"
   ]
  },
  {
   "cell_type": "code",
   "execution_count": 11,
   "metadata": {
    "scrolled": false
   },
   "outputs": [
    {
     "name": "stdout",
     "output_type": "stream",
     "text": [
      "plos one                           183\n",
      "journal of biological chemistry     52\n",
      "neuroimage                          29\n",
      "nucleic acids research              23\n",
      "plos genetics                       22\n",
      "Name: Journal title, dtype: int64\n"
     ]
    }
   ],
   "source": [
    "print(spending_df[\"Journal title\"].value_counts()[0:5])"
   ]
  },
  {
   "cell_type": "markdown",
   "metadata": {},
   "source": [
    "# stats for each of the five most common journals:"
   ]
  },
  {
   "cell_type": "code",
   "execution_count": 20,
   "metadata": {},
   "outputs": [
    {
     "name": "stdout",
     "output_type": "stream",
     "text": [
      "Stats for PLOS ONE article costs (GBP):\n",
      " mean: 1982.25\n",
      " median: 896.99\n",
      " std: 14173.07\n",
      "\n",
      "Stats for JOURNAL OF BIOLOGICAL CHEMISTRY article costs (GBP):\n",
      " mean: 1423.59\n",
      " median: 1301.1399999999999\n",
      " std: 411.95\n",
      "\n",
      "Stats for NEUROIMAGE article costs (GBP):\n",
      " mean: 2215.17\n",
      " median: 2326.43\n",
      " std: 266.65\n",
      "\n",
      "Stats for NUCLEIC ACIDS RESEARCH article costs (GBP):\n",
      " mean: 1169.22\n",
      " median: 852.0\n",
      " std: 454.33\n",
      "\n",
      "Stats for PLOS GENETICS article costs (GBP):\n",
      " mean: 1643.11\n",
      " median: 1712.73\n",
      " std: 153.37\n",
      "\n"
     ]
    }
   ],
   "source": [
    "journals = [\"plos one\",\n",
    "           \"journal of biological chemistry\",\n",
    "           \"neuroimage\",\n",
    "           \"nucleic acids research\",\n",
    "           \"plos genetics\"]\n",
    "\n",
    "for journal in journals:\n",
    "    mean = spending_df[spending_df[\"Journal title\"] == journal][\"Cost\"].mean().round(2)\n",
    "    median = spending_df[spending_df[\"Journal title\"] == journal][\"Cost\"].median()\n",
    "    std = spending_df[spending_df[\"Journal title\"] == journal][\"Cost\"].std().round(2)\n",
    "    journal = journal.upper()\n",
    "    print(\"Stats for {} article costs (GBP):\\n mean: {}\\n median: {}\\n std: {}\\n\".format(journal, mean, median, std))"
   ]
  }
 ],
 "metadata": {
  "kernelspec": {
   "display_name": "Python 3",
   "language": "python",
   "name": "python3"
  },
  "language_info": {
   "codemirror_mode": {
    "name": "ipython",
    "version": 3
   },
   "file_extension": ".py",
   "mimetype": "text/x-python",
   "name": "python",
   "nbconvert_exporter": "python",
   "pygments_lexer": "ipython3",
   "version": "3.6.4"
  }
 },
 "nbformat": 4,
 "nbformat_minor": 2
}
