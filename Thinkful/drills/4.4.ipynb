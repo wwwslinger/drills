{
 "cells": [
  {
   "cell_type": "markdown",
   "metadata": {},
   "source": [
    "# 4.4 Running Regression"
   ]
  },
  {
   "cell_type": "markdown",
   "metadata": {},
   "source": [
    "INSTRUCTIONS: <br>\n",
    "Using this data, build a regression model to predict property crimes. You can use the features you prepared in the previous assignment, new features of your own choosing, or a combination. The goal here is prediction rather than understanding mechanisms, so the focus is on creating a model that explains a lot of variance.\n",
    "\n",
    "Submit a notebook with your model and a brief writeup of your feature engineering and selection process to submit and review with your mentor."
   ]
  },
  {
   "cell_type": "markdown",
   "metadata": {},
   "source": [
    "# Load and clean:\n",
    "We've already looked at these variable distributions in 4.2, so I'll go ahead and retype, deal with missing data, and eliminate the major outliers here."
   ]
  },
  {
   "cell_type": "code",
   "execution_count": 2,
   "metadata": {},
   "outputs": [],
   "source": [
    "import pandas as pd\n",
    "import numpy as np\n",
    "import scipy as sp\n",
    "import matplotlib.pyplot as plt\n",
    "import seaborn as sns\n",
    "sns.set()\n",
    "%matplotlib inline"
   ]
  },
  {
   "cell_type": "code",
   "execution_count": 14,
   "metadata": {},
   "outputs": [
    {
     "name": "stdout",
     "output_type": "stream",
     "text": [
      "351\n"
     ]
    },
    {
     "data": {
      "text/plain": [
       "City                                        0\n",
       "Population                                  3\n",
       "Violent\\ncrime                              3\n",
       "Murder and\\nnonnegligent\\nmanslaughter      3\n",
       "Rape\\n(revised\\ndefinition)1              351\n",
       "Rape\\n(legacy\\ndefinition)2                 3\n",
       "Robbery                                     3\n",
       "Aggravated\\nassault                         3\n",
       "Property\\ncrime                             3\n",
       "Burglary                                    3\n",
       "Larceny-\\ntheft                             3\n",
       "Motor\\nvehicle\\ntheft                       3\n",
       "Arson3                                    164\n",
       "dtype: int64"
      ]
     },
     "execution_count": 14,
     "metadata": {},
     "output_type": "execute_result"
    }
   ],
   "source": [
    "crime_df = pd.read_csv(\"NYC_2013_crime.csv\")\n",
    "print(len(crime_df))\n",
    "crime_df.isnull().sum()"
   ]
  },
  {
   "cell_type": "code",
   "execution_count": 16,
   "metadata": {
    "scrolled": true
   },
   "outputs": [
    {
     "data": {
      "text/html": [
       "<div>\n",
       "<style scoped>\n",
       "    .dataframe tbody tr th:only-of-type {\n",
       "        vertical-align: middle;\n",
       "    }\n",
       "\n",
       "    .dataframe tbody tr th {\n",
       "        vertical-align: top;\n",
       "    }\n",
       "\n",
       "    .dataframe thead th {\n",
       "        text-align: right;\n",
       "    }\n",
       "</style>\n",
       "<table border=\"1\" class=\"dataframe\">\n",
       "  <thead>\n",
       "    <tr style=\"text-align: right;\">\n",
       "      <th></th>\n",
       "      <th>City</th>\n",
       "      <th>Population</th>\n",
       "      <th>violent_crime</th>\n",
       "      <th>Murder</th>\n",
       "      <th>Robbery</th>\n",
       "      <th>agg_assault</th>\n",
       "      <th>prop_crime</th>\n",
       "      <th>Burglary</th>\n",
       "      <th>Larceny</th>\n",
       "      <th>mv_theft</th>\n",
       "      <th>Arson</th>\n",
       "    </tr>\n",
       "  </thead>\n",
       "  <tbody>\n",
       "    <tr>\n",
       "      <th>0</th>\n",
       "      <td>Adams Village</td>\n",
       "      <td>1861</td>\n",
       "      <td>0</td>\n",
       "      <td>0</td>\n",
       "      <td>0</td>\n",
       "      <td>0</td>\n",
       "      <td>12</td>\n",
       "      <td>2</td>\n",
       "      <td>10</td>\n",
       "      <td>0</td>\n",
       "      <td>0</td>\n",
       "    </tr>\n",
       "    <tr>\n",
       "      <th>1</th>\n",
       "      <td>Addison Town and Village</td>\n",
       "      <td>2577</td>\n",
       "      <td>3</td>\n",
       "      <td>0</td>\n",
       "      <td>0</td>\n",
       "      <td>3</td>\n",
       "      <td>24</td>\n",
       "      <td>3</td>\n",
       "      <td>20</td>\n",
       "      <td>1</td>\n",
       "      <td>0</td>\n",
       "    </tr>\n",
       "    <tr>\n",
       "      <th>2</th>\n",
       "      <td>Akron Village</td>\n",
       "      <td>2846</td>\n",
       "      <td>3</td>\n",
       "      <td>0</td>\n",
       "      <td>0</td>\n",
       "      <td>3</td>\n",
       "      <td>16</td>\n",
       "      <td>1</td>\n",
       "      <td>15</td>\n",
       "      <td>0</td>\n",
       "      <td>0</td>\n",
       "    </tr>\n",
       "    <tr>\n",
       "      <th>3</th>\n",
       "      <td>Albany</td>\n",
       "      <td>97956</td>\n",
       "      <td>791</td>\n",
       "      <td>8</td>\n",
       "      <td>227</td>\n",
       "      <td>526</td>\n",
       "      <td>4090</td>\n",
       "      <td>705</td>\n",
       "      <td>3243</td>\n",
       "      <td>142</td>\n",
       "      <td>0</td>\n",
       "    </tr>\n",
       "    <tr>\n",
       "      <th>4</th>\n",
       "      <td>Albion Village</td>\n",
       "      <td>6388</td>\n",
       "      <td>23</td>\n",
       "      <td>0</td>\n",
       "      <td>4</td>\n",
       "      <td>16</td>\n",
       "      <td>223</td>\n",
       "      <td>53</td>\n",
       "      <td>165</td>\n",
       "      <td>5</td>\n",
       "      <td>0</td>\n",
       "    </tr>\n",
       "  </tbody>\n",
       "</table>\n",
       "</div>"
      ],
      "text/plain": [
       "                       City  Population  violent_crime  Murder  Robbery  \\\n",
       "0             Adams Village        1861              0       0        0   \n",
       "1  Addison Town and Village        2577              3       0        0   \n",
       "2             Akron Village        2846              3       0        0   \n",
       "3                    Albany       97956            791       8      227   \n",
       "4            Albion Village        6388             23       0        4   \n",
       "\n",
       "   agg_assault  prop_crime  Burglary  Larceny  mv_theft  Arson  \n",
       "0            0          12         2       10         0      0  \n",
       "1            3          24         3       20         1      0  \n",
       "2            3          16         1       15         0      0  \n",
       "3          526        4090       705     3243       142      0  \n",
       "4           16         223        53      165         5      0  "
      ]
     },
     "execution_count": 16,
     "metadata": {},
     "output_type": "execute_result"
    }
   ],
   "source": [
    "crime_df = pd.read_csv(\"NYC_2013_crime.csv\")\n",
    "\n",
    "# give columns some reasonable names\n",
    "crime_df.rename(columns={\n",
    "    \"Murder and\\nnonnegligent\\nmanslaughter\":\"Murder\",\n",
    "    \"Aggravated\\nassault\": \"agg_assault\",\n",
    "    \"Property\\ncrime\":\"prop_crime\",\n",
    "    \"Larceny-\\ntheft\":\"Larceny\",\n",
    "    \"Motor\\nvehicle\\ntheft\":\"mv_theft\",\n",
    "    \"Violent\\ncrime\": \"violent_crime\",\n",
    "    \"Arson3\": \"Arson\"}, inplace=True)\n",
    "\n",
    "# Rape is complicated, faces definition discrepancies, and miniscule and variable reporting rates.  Let's drop it.\n",
    "crime_df.drop([\"Rape\\n(revised\\ndefinition)1\", \"Rape\\n(legacy\\ndefinition)2\"], axis=1, inplace=True)\n",
    "\n",
    "# convert arson NaNs to 0s (we'll use this for one particular purpose, then drop the column)\n",
    "crime_df[\"Arson\"].fillna(0, inplace=True)\n",
    "# remove our other NaNs (there are only three of them – last three rows – so this is fine)\n",
    "crime_df.dropna(inplace=True)\n",
    "\n",
    "# City is already a string, but we need to retype all columns to integers\n",
    "for column in crime_df:\n",
    "    if column!=\"City\":\n",
    "        try:\n",
    "            crime_df[column] = crime_df[column].astype(str).str.replace(\",|\\.0\",\"\").astype(int)\n",
    "        except:\n",
    "            print(column)\n",
    "            \n",
    "# Remove our four large outlier cities\n",
    "crime_df = crime_df[crime_df[\"Population\"]<190000]\n",
    "\n",
    "crime_df.head()"
   ]
  },
  {
   "cell_type": "markdown",
   "metadata": {},
   "source": [
    "# Feature engineering"
   ]
  },
  {
   "cell_type": "markdown",
   "metadata": {},
   "source": [
    "It's important to note here that larceny, burglary, arson, and motor vehicle theft are all simply instances of property crime.  They go straight into the count.  From the FBI's website: \"In the FBI’s Uniform Crime Reporting (UCR) Program, property crime includes the offenses of burglary, larceny-theft, motor vehicle theft, and arson. The object of the theft-type offenses is the taking of money or property, but there is no force or threat of force against the victims.\"\n",
    "\n",
    "This means that in effect, given the assigned task of predicting property crime, we're actually trying to predict property crime that's not already included in those other columns, since we already have that data.  So we ought to be able to add up the four known property crime columns (burglary, larceny, mv_theft, and arson), and subtract them from the total property crime number.\n",
    "\n",
    "However, trying to do this reveals a problem:"
   ]
  },
  {
   "cell_type": "code",
   "execution_count": 25,
   "metadata": {},
   "outputs": [
    {
     "name": "stdout",
     "output_type": "stream",
     "text": [
      "52\n"
     ]
    }
   ],
   "source": [
    "crime_df[\"recorded_propcrimes\"] = (\n",
    "    crime_df[\"mv_theft\"]\n",
    "    + crime_df[\"Arson\"]\n",
    "    + crime_df[\"Burglary\"]\n",
    "    + crime_df[\"Larceny\"])\n",
    "print(len(crime_df[crime_df[\"recorded_propcrimes\"] > crime_df[\"prop_crime\"]]))"
   ]
  },
  {
   "cell_type": "markdown",
   "metadata": {},
   "source": [
    "It turns out that in 52 cases, there are actually more recorded crimes that meet the definition of property crimes than the recorded property crimes.  And there would probably be many more such cases if we weren't missing half the arson counts.  This means that there is some systematic error in the data: either the FBI's own property crimes column is not following the given definition of property crime, or that that total number is independently tallied and either it or the subcategory counts are wrong.\n",
    "\n",
    "Since half the arson data was missing, let's see what happens if we don't include that in our recorded property crimes count (even though it's included in the FBI's explicit definition)."
   ]
  },
  {
   "cell_type": "code",
   "execution_count": 30,
   "metadata": {},
   "outputs": [
    {
     "name": "stdout",
     "output_type": "stream",
     "text": [
      "1.0\n"
     ]
    }
   ],
   "source": [
    "crime_df[\"recorded_propcrimes\"] = (\n",
    "    crime_df[\"mv_theft\"]\n",
    "    + crime_df[\"Burglary\"]\n",
    "    + crime_df[\"Larceny\"])\n",
    "print(len(crime_df[crime_df[\"recorded_propcrimes\"] == crime_df[\"prop_crime\"]])/len(crime_df))"
   ]
  },
  {
   "cell_type": "markdown",
   "metadata": {},
   "source": [
    "Voila!  If you drop the arson column, the property crime count that we've been assigned to predict is exactly the sum of motor vehicle theft, burglary, and larceny <i>in every single row of the dataset</i>.\n",
    "\n",
    "So if we do a reasonable job cleaning the data and setting up the assigned problem, we see that the problem does not actually exist.  There is no regression to be run, because once we discover the error in the FBI's definition, we simply have to add the subcategory columns to \"predict\" the desired target data.\n",
    "\n",
    "I'm hoping (albeit rather doubtfully) that this was an intentional trick question on Thinkful's part.  But because the purported point of the exercise was to run the linear regression that they spent this unit explaining, I'll give an attempt at using regression to predict something that actually makes sense to predict, such as predicting violent crime from nonviolent crime and population, or population from all recorded crimes."
   ]
  },
  {
   "cell_type": "markdown",
   "metadata": {},
   "source": [
    "# Predicting violent crime "
   ]
  },
  {
   "cell_type": "code",
   "execution_count": 79,
   "metadata": {
    "scrolled": true
   },
   "outputs": [
    {
     "name": "stdout",
     "output_type": "stream",
     "text": [
      "[-6.64693461e-04  2.04092680e-01  2.78646649e-02  2.50681517e+00]\n",
      "0.845535435766062\n"
     ]
    }
   ],
   "source": [
    "# randomly select 30% of rows as CV\n",
    "import random\n",
    "from sklearn.model_selection import train_test_split\n",
    "y = crime_df[\"violent_crime\"]\n",
    "X_train, X_cv, y_train, y_cv = train_test_split(crime_df[[\"Population\",\"Burglary\",\"Larceny\",\"mv_theft\"]], y, test_size=0.3)\n",
    "X_train.head()\n",
    "\n",
    "from sklearn import linear_model\n",
    "rModel = linear_model.LinearRegression()\n",
    "rModel.fit(X_train, y_train)\n",
    "print(rModel.coef_)\n",
    "print(rModel.score(X_cv, y_cv))"
   ]
  },
  {
   "cell_type": "markdown",
   "metadata": {},
   "source": [
    "But there's some variance in this small of a dataset.  Let's run this repeatedly:"
   ]
  },
  {
   "cell_type": "code",
   "execution_count": 111,
   "metadata": {},
   "outputs": [
    {
     "name": "stdout",
     "output_type": "stream",
     "text": [
      "0.8148160576246721\n",
      "[-3.39504785e-04  3.64411182e-01 -1.80048656e-03  2.15529344e+00]\n"
     ]
    }
   ],
   "source": [
    "import random\n",
    "from sklearn.model_selection import train_test_split\n",
    "def regtest(crime_df):\n",
    "    # randomly select 30% of rows as CV\n",
    "    y = crime_df[\"violent_crime\"]\n",
    "    X_train, X_cv, y_train, y_cv = train_test_split(crime_df[[\"Population\",\"Burglary\",\"Larceny\",\"mv_theft\"]], y, test_size=0.3)\n",
    "    X_train.head()\n",
    "\n",
    "    from sklearn import linear_model\n",
    "    rModel = linear_model.LinearRegression()\n",
    "    rModel.fit(X_train, y_train)\n",
    "    return rModel.coef_, rModel.score(X_cv, y_cv)\n",
    "\n",
    "rcoefs = []\n",
    "rscores = []\n",
    "for i in range(200):\n",
    "    coef, score = regtest(crime_df)\n",
    "    rscores.append(score)\n",
    "    rcoefs.append(coef)\n",
    "print(sum(rscores)/len(rscores))\n",
    "print(sum(rcoefs)/len(rcoefs))"
   ]
  },
  {
   "cell_type": "markdown",
   "metadata": {},
   "source": [
    "So we can see it generates an average r-score of just over .8, and that it relies primarily on motor vehicle theft and secondarily on burglary to generate this prediction.  In other words, motor vehicle theft and burglary are the best predictors of violent crime in a small or midsized city in NY state."
   ]
  },
  {
   "cell_type": "markdown",
   "metadata": {},
   "source": [
    "Finally, here's some pseudcode for a proper optimization function for feature selection here:\n",
    "- Args: dataframe, target column name\n",
    "- Returns: dataframe with list of optimized features\n",
    "\n",
    "\n",
    "Execution:\n",
    "- add a sqrt transform and a squared transform of every feature (all cols except target)\n",
    "- run regression to produce coefficients\n",
    "- set a usefulness threshold (e.g., 0.2)\n",
    "- for each feature (including transforms) calculate usefulness.  A simple formula: feature coefficient times feature mean, divided by yval mean.\n",
    "- If it's below the usefulness threshold, discard the feature from the dataframe\n",
    "- return df\n",
    "\n",
    "Note: the feature elimination part of this could be accomplished by setting a reasonable regularization parameter; but it may sometimes be useful to eliminate features like this for computation-time purposes before running regularized LR on the full dataset.\n",
    "\n",
    "If you wanted to do a really good job - at more computational expense - you could do this with all 2-factor combinations as well."
   ]
  }
 ],
 "metadata": {
  "kernelspec": {
   "display_name": "Python 3",
   "language": "python",
   "name": "python3"
  },
  "language_info": {
   "codemirror_mode": {
    "name": "ipython",
    "version": 3
   },
   "file_extension": ".py",
   "mimetype": "text/x-python",
   "name": "python",
   "nbconvert_exporter": "python",
   "pygments_lexer": "ipython3",
   "version": "3.6.4"
  }
 },
 "nbformat": 4,
 "nbformat_minor": 2
}
