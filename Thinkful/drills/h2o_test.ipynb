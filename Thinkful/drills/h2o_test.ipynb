{
 "cells": [
  {
   "cell_type": "code",
   "execution_count": 78,
   "metadata": {},
   "outputs": [],
   "source": [
    "import pandas as pd\n",
    "import numpy as np\n",
    "import scipy as sp\n",
    "import matplotlib.pyplot as plt\n",
    "import seaborn as sns\n",
    "import random\n",
    "random.seed(11)\n",
    "%matplotlib inline"
   ]
  },
  {
   "cell_type": "markdown",
   "metadata": {},
   "source": [
    "## Load H2o"
   ]
  },
  {
   "cell_type": "markdown",
   "metadata": {},
   "source": [
    "NOTE: to start H2o, first use Terminal to navigate to *usr/local/lib/python3.6/site-packages/h2o/backend/bin* and enter the command *java -jar h2o.jar*"
   ]
  },
  {
   "cell_type": "code",
   "execution_count": 80,
   "metadata": {
    "scrolled": true
   },
   "outputs": [
    {
     "name": "stdout",
     "output_type": "stream",
     "text": [
      "Checking whether there is an H2O instance running at http://localhost:54321. connected.\n"
     ]
    },
    {
     "data": {
      "text/html": [
       "<div style=\"overflow:auto\"><table style=\"width:50%\"><tr><td>H2O cluster uptime:</td>\n",
       "<td>02 secs</td></tr>\n",
       "<tr><td>H2O cluster timezone:</td>\n",
       "<td>America/Los_Angeles</td></tr>\n",
       "<tr><td>H2O data parsing timezone:</td>\n",
       "<td>UTC</td></tr>\n",
       "<tr><td>H2O cluster version:</td>\n",
       "<td>3.18.0.11</td></tr>\n",
       "<tr><td>H2O cluster version age:</td>\n",
       "<td>1 month and 9 days </td></tr>\n",
       "<tr><td>H2O cluster name:</td>\n",
       "<td>garrettfiddler</td></tr>\n",
       "<tr><td>H2O cluster total nodes:</td>\n",
       "<td>1</td></tr>\n",
       "<tr><td>H2O cluster free memory:</td>\n",
       "<td>2 Gb</td></tr>\n",
       "<tr><td>H2O cluster total cores:</td>\n",
       "<td>4</td></tr>\n",
       "<tr><td>H2O cluster allowed cores:</td>\n",
       "<td>4</td></tr>\n",
       "<tr><td>H2O cluster status:</td>\n",
       "<td>accepting new members, healthy</td></tr>\n",
       "<tr><td>H2O connection url:</td>\n",
       "<td>http://localhost:54321</td></tr>\n",
       "<tr><td>H2O connection proxy:</td>\n",
       "<td>None</td></tr>\n",
       "<tr><td>H2O internal security:</td>\n",
       "<td>False</td></tr>\n",
       "<tr><td>H2O API Extensions:</td>\n",
       "<td>XGBoost, Algos, AutoML, Core V3, Core V4</td></tr>\n",
       "<tr><td>Python version:</td>\n",
       "<td>3.6.4 final</td></tr></table></div>"
      ],
      "text/plain": [
       "--------------------------  ----------------------------------------\n",
       "H2O cluster uptime:         02 secs\n",
       "H2O cluster timezone:       America/Los_Angeles\n",
       "H2O data parsing timezone:  UTC\n",
       "H2O cluster version:        3.18.0.11\n",
       "H2O cluster version age:    1 month and 9 days\n",
       "H2O cluster name:           garrettfiddler\n",
       "H2O cluster total nodes:    1\n",
       "H2O cluster free memory:    2 Gb\n",
       "H2O cluster total cores:    4\n",
       "H2O cluster allowed cores:  4\n",
       "H2O cluster status:         accepting new members, healthy\n",
       "H2O connection url:         http://localhost:54321\n",
       "H2O connection proxy:\n",
       "H2O internal security:      False\n",
       "H2O API Extensions:         XGBoost, Algos, AutoML, Core V3, Core V4\n",
       "Python version:             3.6.4 final\n",
       "--------------------------  ----------------------------------------"
      ]
     },
     "metadata": {},
     "output_type": "display_data"
    }
   ],
   "source": [
    "# Load the H2O library and start up the H2O cluster locally on your machine\n",
    "import h2o\n",
    "from h2o.estimators.glrm import H2OGeneralizedLowRankEstimator\n",
    "\n",
    "# Number of threads, nthreads = -1, means use all cores on your machine\n",
    "# max_mem_size is the maximum memory (in GB) to allocate to H2O\n",
    "h2o.init()"
   ]
  },
  {
   "cell_type": "markdown",
   "metadata": {},
   "source": [
    "## Load data"
   ]
  },
  {
   "cell_type": "code",
   "execution_count": 81,
   "metadata": {},
   "outputs": [],
   "source": [
    "khous_df = pd.read_csv('khous_train.csv')"
   ]
  },
  {
   "cell_type": "code",
   "execution_count": 82,
   "metadata": {
    "scrolled": true
   },
   "outputs": [
    {
     "data": {
      "text/plain": [
       "(1460, 81)"
      ]
     },
     "execution_count": 82,
     "metadata": {},
     "output_type": "execute_result"
    }
   ],
   "source": [
    "khous_df.shape"
   ]
  },
  {
   "cell_type": "code",
   "execution_count": 83,
   "metadata": {
    "scrolled": false
   },
   "outputs": [
    {
     "data": {
      "text/plain": [
       "object     43\n",
       "int64      35\n",
       "float64     3\n",
       "dtype: int64"
      ]
     },
     "execution_count": 83,
     "metadata": {},
     "output_type": "execute_result"
    }
   ],
   "source": [
    "khous_df.dtypes.value_counts()"
   ]
  },
  {
   "cell_type": "code",
   "execution_count": 84,
   "metadata": {
    "scrolled": true
   },
   "outputs": [
    {
     "data": {
      "text/html": [
       "<div>\n",
       "<style scoped>\n",
       "    .dataframe tbody tr th:only-of-type {\n",
       "        vertical-align: middle;\n",
       "    }\n",
       "\n",
       "    .dataframe tbody tr th {\n",
       "        vertical-align: top;\n",
       "    }\n",
       "\n",
       "    .dataframe thead th {\n",
       "        text-align: right;\n",
       "    }\n",
       "</style>\n",
       "<table border=\"1\" class=\"dataframe\">\n",
       "  <thead>\n",
       "    <tr style=\"text-align: right;\">\n",
       "      <th></th>\n",
       "      <th>Id</th>\n",
       "      <th>MSSubClass</th>\n",
       "      <th>MSZoning</th>\n",
       "      <th>LotFrontage</th>\n",
       "      <th>LotArea</th>\n",
       "      <th>Street</th>\n",
       "      <th>Alley</th>\n",
       "      <th>LotShape</th>\n",
       "      <th>LandContour</th>\n",
       "      <th>Utilities</th>\n",
       "      <th>...</th>\n",
       "      <th>PoolArea</th>\n",
       "      <th>PoolQC</th>\n",
       "      <th>Fence</th>\n",
       "      <th>MiscFeature</th>\n",
       "      <th>MiscVal</th>\n",
       "      <th>MoSold</th>\n",
       "      <th>YrSold</th>\n",
       "      <th>SaleType</th>\n",
       "      <th>SaleCondition</th>\n",
       "      <th>SalePrice</th>\n",
       "    </tr>\n",
       "  </thead>\n",
       "  <tbody>\n",
       "    <tr>\n",
       "      <th>0</th>\n",
       "      <td>1</td>\n",
       "      <td>60</td>\n",
       "      <td>RL</td>\n",
       "      <td>65.0</td>\n",
       "      <td>8450</td>\n",
       "      <td>Pave</td>\n",
       "      <td>NaN</td>\n",
       "      <td>Reg</td>\n",
       "      <td>Lvl</td>\n",
       "      <td>AllPub</td>\n",
       "      <td>...</td>\n",
       "      <td>0</td>\n",
       "      <td>NaN</td>\n",
       "      <td>NaN</td>\n",
       "      <td>NaN</td>\n",
       "      <td>0</td>\n",
       "      <td>2</td>\n",
       "      <td>2008</td>\n",
       "      <td>WD</td>\n",
       "      <td>Normal</td>\n",
       "      <td>208500</td>\n",
       "    </tr>\n",
       "    <tr>\n",
       "      <th>1</th>\n",
       "      <td>2</td>\n",
       "      <td>20</td>\n",
       "      <td>RL</td>\n",
       "      <td>80.0</td>\n",
       "      <td>9600</td>\n",
       "      <td>Pave</td>\n",
       "      <td>NaN</td>\n",
       "      <td>Reg</td>\n",
       "      <td>Lvl</td>\n",
       "      <td>AllPub</td>\n",
       "      <td>...</td>\n",
       "      <td>0</td>\n",
       "      <td>NaN</td>\n",
       "      <td>NaN</td>\n",
       "      <td>NaN</td>\n",
       "      <td>0</td>\n",
       "      <td>5</td>\n",
       "      <td>2007</td>\n",
       "      <td>WD</td>\n",
       "      <td>Normal</td>\n",
       "      <td>181500</td>\n",
       "    </tr>\n",
       "    <tr>\n",
       "      <th>2</th>\n",
       "      <td>3</td>\n",
       "      <td>60</td>\n",
       "      <td>RL</td>\n",
       "      <td>68.0</td>\n",
       "      <td>11250</td>\n",
       "      <td>Pave</td>\n",
       "      <td>NaN</td>\n",
       "      <td>IR1</td>\n",
       "      <td>Lvl</td>\n",
       "      <td>AllPub</td>\n",
       "      <td>...</td>\n",
       "      <td>0</td>\n",
       "      <td>NaN</td>\n",
       "      <td>NaN</td>\n",
       "      <td>NaN</td>\n",
       "      <td>0</td>\n",
       "      <td>9</td>\n",
       "      <td>2008</td>\n",
       "      <td>WD</td>\n",
       "      <td>Normal</td>\n",
       "      <td>223500</td>\n",
       "    </tr>\n",
       "    <tr>\n",
       "      <th>3</th>\n",
       "      <td>4</td>\n",
       "      <td>70</td>\n",
       "      <td>RL</td>\n",
       "      <td>60.0</td>\n",
       "      <td>9550</td>\n",
       "      <td>Pave</td>\n",
       "      <td>NaN</td>\n",
       "      <td>IR1</td>\n",
       "      <td>Lvl</td>\n",
       "      <td>AllPub</td>\n",
       "      <td>...</td>\n",
       "      <td>0</td>\n",
       "      <td>NaN</td>\n",
       "      <td>NaN</td>\n",
       "      <td>NaN</td>\n",
       "      <td>0</td>\n",
       "      <td>2</td>\n",
       "      <td>2006</td>\n",
       "      <td>WD</td>\n",
       "      <td>Abnorml</td>\n",
       "      <td>140000</td>\n",
       "    </tr>\n",
       "    <tr>\n",
       "      <th>4</th>\n",
       "      <td>5</td>\n",
       "      <td>60</td>\n",
       "      <td>RL</td>\n",
       "      <td>84.0</td>\n",
       "      <td>14260</td>\n",
       "      <td>Pave</td>\n",
       "      <td>NaN</td>\n",
       "      <td>IR1</td>\n",
       "      <td>Lvl</td>\n",
       "      <td>AllPub</td>\n",
       "      <td>...</td>\n",
       "      <td>0</td>\n",
       "      <td>NaN</td>\n",
       "      <td>NaN</td>\n",
       "      <td>NaN</td>\n",
       "      <td>0</td>\n",
       "      <td>12</td>\n",
       "      <td>2008</td>\n",
       "      <td>WD</td>\n",
       "      <td>Normal</td>\n",
       "      <td>250000</td>\n",
       "    </tr>\n",
       "  </tbody>\n",
       "</table>\n",
       "<p>5 rows × 81 columns</p>\n",
       "</div>"
      ],
      "text/plain": [
       "   Id  MSSubClass MSZoning  LotFrontage  LotArea Street Alley LotShape  \\\n",
       "0   1          60       RL         65.0     8450   Pave   NaN      Reg   \n",
       "1   2          20       RL         80.0     9600   Pave   NaN      Reg   \n",
       "2   3          60       RL         68.0    11250   Pave   NaN      IR1   \n",
       "3   4          70       RL         60.0     9550   Pave   NaN      IR1   \n",
       "4   5          60       RL         84.0    14260   Pave   NaN      IR1   \n",
       "\n",
       "  LandContour Utilities    ...     PoolArea PoolQC Fence MiscFeature MiscVal  \\\n",
       "0         Lvl    AllPub    ...            0    NaN   NaN         NaN       0   \n",
       "1         Lvl    AllPub    ...            0    NaN   NaN         NaN       0   \n",
       "2         Lvl    AllPub    ...            0    NaN   NaN         NaN       0   \n",
       "3         Lvl    AllPub    ...            0    NaN   NaN         NaN       0   \n",
       "4         Lvl    AllPub    ...            0    NaN   NaN         NaN       0   \n",
       "\n",
       "  MoSold YrSold  SaleType  SaleCondition  SalePrice  \n",
       "0      2   2008        WD         Normal     208500  \n",
       "1      5   2007        WD         Normal     181500  \n",
       "2      9   2008        WD         Normal     223500  \n",
       "3      2   2006        WD        Abnorml     140000  \n",
       "4     12   2008        WD         Normal     250000  \n",
       "\n",
       "[5 rows x 81 columns]"
      ]
     },
     "execution_count": 84,
     "metadata": {},
     "output_type": "execute_result"
    }
   ],
   "source": [
    "khous_df.head()"
   ]
  },
  {
   "cell_type": "code",
   "execution_count": 85,
   "metadata": {},
   "outputs": [],
   "source": [
    "khous_null_df = khous_df.mask(np.random.random(khous_df.shape) < .5)"
   ]
  },
  {
   "cell_type": "markdown",
   "metadata": {},
   "source": [
    "## Convert data to H2o"
   ]
  },
  {
   "cell_type": "code",
   "execution_count": 86,
   "metadata": {
    "scrolled": true
   },
   "outputs": [
    {
     "name": "stdout",
     "output_type": "stream",
     "text": [
      "Parse progress: |█████████████████████████████████████████████████████████| 100%\n"
     ]
    }
   ],
   "source": [
    "khous_h2 = h2o.H2OFrame(khous_df)"
   ]
  },
  {
   "cell_type": "code",
   "execution_count": 87,
   "metadata": {
    "scrolled": false
   },
   "outputs": [
    {
     "name": "stdout",
     "output_type": "stream",
     "text": [
      "Parse progress: |█████████████████████████████████████████████████████████| 100%\n"
     ]
    }
   ],
   "source": [
    "khous_null_h2 = h2o.H2OFrame(khous_null_df)"
   ]
  },
  {
   "cell_type": "markdown",
   "metadata": {},
   "source": [
    "## Build Models"
   ]
  },
  {
   "cell_type": "code",
   "execution_count": 88,
   "metadata": {},
   "outputs": [],
   "source": [
    "loss_by_type = {np.dtype('object'):\"Categorical\", \n",
    "                np.dtype('int64'):\"Quadratic\", \n",
    "                np.dtype('float64'):\"Quadratic\", \n",
    "                np.dtype('bool'):\"Hinge\"}\n",
    "col_loss_types = [loss_by_type[obj_type] for obj_type in khous_df.dtypes]"
   ]
  },
  {
   "cell_type": "code",
   "execution_count": 89,
   "metadata": {
    "scrolled": true
   },
   "outputs": [
    {
     "data": {
      "text/html": [
       "<table>\n",
       "<thead>\n",
       "<tr><th style=\"text-align: right;\">  Id</th><th style=\"text-align: right;\">  MSSubClass</th><th>MSZoning  </th><th style=\"text-align: right;\">  LotFrontage</th><th style=\"text-align: right;\">  LotArea</th><th>Street  </th><th style=\"text-align: right;\">  Alley</th><th>LotShape  </th><th>LandContour  </th><th>Utilities  </th><th>LotConfig  </th><th>LandSlope  </th><th>Neighborhood  </th><th>Condition1  </th><th>Condition2  </th><th>BldgType  </th><th>HouseStyle  </th><th style=\"text-align: right;\">  OverallQual</th><th style=\"text-align: right;\">  OverallCond</th><th style=\"text-align: right;\">  YearBuilt</th><th style=\"text-align: right;\">  YearRemodAdd</th><th>RoofStyle  </th><th>RoofMatl  </th><th>Exterior1st  </th><th>Exterior2nd  </th><th>MasVnrType  </th><th style=\"text-align: right;\">  MasVnrArea</th><th>ExterQual  </th><th>ExterCond  </th><th>Foundation  </th><th>BsmtQual  </th><th>BsmtCond  </th><th>BsmtExposure  </th><th>BsmtFinType1  </th><th style=\"text-align: right;\">  BsmtFinSF1</th><th>BsmtFinType2  </th><th style=\"text-align: right;\">  BsmtFinSF2</th><th style=\"text-align: right;\">  BsmtUnfSF</th><th style=\"text-align: right;\">  TotalBsmtSF</th><th>Heating  </th><th>HeatingQC  </th><th>CentralAir  </th><th>Electrical  </th><th style=\"text-align: right;\">  1stFlrSF</th><th style=\"text-align: right;\">  2ndFlrSF</th><th style=\"text-align: right;\">  LowQualFinSF</th><th style=\"text-align: right;\">  GrLivArea</th><th style=\"text-align: right;\">  BsmtFullBath</th><th style=\"text-align: right;\">  BsmtHalfBath</th><th style=\"text-align: right;\">  FullBath</th><th style=\"text-align: right;\">  HalfBath</th><th style=\"text-align: right;\">  BedroomAbvGr</th><th style=\"text-align: right;\">  KitchenAbvGr</th><th>KitchenQual  </th><th style=\"text-align: right;\">  TotRmsAbvGrd</th><th>Functional  </th><th style=\"text-align: right;\">  Fireplaces</th><th>FireplaceQu  </th><th>GarageType  </th><th style=\"text-align: right;\">  GarageYrBlt</th><th>GarageFinish  </th><th style=\"text-align: right;\">  GarageCars</th><th style=\"text-align: right;\">  GarageArea</th><th>GarageQual  </th><th>GarageCond  </th><th>PavedDrive  </th><th style=\"text-align: right;\">  WoodDeckSF</th><th style=\"text-align: right;\">  OpenPorchSF</th><th style=\"text-align: right;\">  EnclosedPorch</th><th style=\"text-align: right;\">  3SsnPorch</th><th style=\"text-align: right;\">  ScreenPorch</th><th style=\"text-align: right;\">  PoolArea</th><th style=\"text-align: right;\">  PoolQC</th><th>Fence  </th><th>MiscFeature  </th><th style=\"text-align: right;\">  MiscVal</th><th style=\"text-align: right;\">  MoSold</th><th style=\"text-align: right;\">  YrSold</th><th>SaleType  </th><th>SaleCondition  </th><th style=\"text-align: right;\">  SalePrice</th></tr>\n",
       "</thead>\n",
       "<tbody>\n",
       "<tr><td style=\"text-align: right;\">   1</td><td style=\"text-align: right;\">          60</td><td>RL        </td><td style=\"text-align: right;\">           65</td><td style=\"text-align: right;\">     8450</td><td>Pave    </td><td style=\"text-align: right;\">    nan</td><td>Reg       </td><td>Lvl          </td><td>AllPub     </td><td>Inside     </td><td>Gtl        </td><td>CollgCr       </td><td>Norm        </td><td>Norm        </td><td>1Fam      </td><td>2Story      </td><td style=\"text-align: right;\">            7</td><td style=\"text-align: right;\">            5</td><td style=\"text-align: right;\">       2003</td><td style=\"text-align: right;\">          2003</td><td>Gable      </td><td>CompShg   </td><td>VinylSd      </td><td>VinylSd      </td><td>BrkFace     </td><td style=\"text-align: right;\">         196</td><td>Gd         </td><td>TA         </td><td>PConc       </td><td>Gd        </td><td>TA        </td><td>No            </td><td>GLQ           </td><td style=\"text-align: right;\">         706</td><td>Unf           </td><td style=\"text-align: right;\">           0</td><td style=\"text-align: right;\">        150</td><td style=\"text-align: right;\">          856</td><td>GasA     </td><td>Ex         </td><td>Y           </td><td>SBrkr       </td><td style=\"text-align: right;\">       856</td><td style=\"text-align: right;\">       854</td><td style=\"text-align: right;\">             0</td><td style=\"text-align: right;\">       1710</td><td style=\"text-align: right;\">             1</td><td style=\"text-align: right;\">             0</td><td style=\"text-align: right;\">         2</td><td style=\"text-align: right;\">         1</td><td style=\"text-align: right;\">             3</td><td style=\"text-align: right;\">             1</td><td>Gd           </td><td style=\"text-align: right;\">             8</td><td>Typ         </td><td style=\"text-align: right;\">           0</td><td>nan          </td><td>Attchd      </td><td style=\"text-align: right;\">         2003</td><td>RFn           </td><td style=\"text-align: right;\">           2</td><td style=\"text-align: right;\">         548</td><td>TA          </td><td>TA          </td><td>Y           </td><td style=\"text-align: right;\">           0</td><td style=\"text-align: right;\">           61</td><td style=\"text-align: right;\">              0</td><td style=\"text-align: right;\">          0</td><td style=\"text-align: right;\">            0</td><td style=\"text-align: right;\">         0</td><td style=\"text-align: right;\">     nan</td><td>nan    </td><td>nan          </td><td style=\"text-align: right;\">        0</td><td style=\"text-align: right;\">       2</td><td style=\"text-align: right;\">    2008</td><td>WD        </td><td>Normal         </td><td style=\"text-align: right;\">     208500</td></tr>\n",
       "<tr><td style=\"text-align: right;\">   2</td><td style=\"text-align: right;\">          20</td><td>RL        </td><td style=\"text-align: right;\">           80</td><td style=\"text-align: right;\">     9600</td><td>Pave    </td><td style=\"text-align: right;\">    nan</td><td>Reg       </td><td>Lvl          </td><td>AllPub     </td><td>FR2        </td><td>Gtl        </td><td>Veenker       </td><td>Feedr       </td><td>Norm        </td><td>1Fam      </td><td>1Story      </td><td style=\"text-align: right;\">            6</td><td style=\"text-align: right;\">            8</td><td style=\"text-align: right;\">       1976</td><td style=\"text-align: right;\">          1976</td><td>Gable      </td><td>CompShg   </td><td>MetalSd      </td><td>MetalSd      </td><td>None        </td><td style=\"text-align: right;\">           0</td><td>TA         </td><td>TA         </td><td>CBlock      </td><td>Gd        </td><td>TA        </td><td>Gd            </td><td>ALQ           </td><td style=\"text-align: right;\">         978</td><td>Unf           </td><td style=\"text-align: right;\">           0</td><td style=\"text-align: right;\">        284</td><td style=\"text-align: right;\">         1262</td><td>GasA     </td><td>Ex         </td><td>Y           </td><td>SBrkr       </td><td style=\"text-align: right;\">      1262</td><td style=\"text-align: right;\">         0</td><td style=\"text-align: right;\">             0</td><td style=\"text-align: right;\">       1262</td><td style=\"text-align: right;\">             0</td><td style=\"text-align: right;\">             1</td><td style=\"text-align: right;\">         2</td><td style=\"text-align: right;\">         0</td><td style=\"text-align: right;\">             3</td><td style=\"text-align: right;\">             1</td><td>TA           </td><td style=\"text-align: right;\">             6</td><td>Typ         </td><td style=\"text-align: right;\">           1</td><td>TA           </td><td>Attchd      </td><td style=\"text-align: right;\">         1976</td><td>RFn           </td><td style=\"text-align: right;\">           2</td><td style=\"text-align: right;\">         460</td><td>TA          </td><td>TA          </td><td>Y           </td><td style=\"text-align: right;\">         298</td><td style=\"text-align: right;\">            0</td><td style=\"text-align: right;\">              0</td><td style=\"text-align: right;\">          0</td><td style=\"text-align: right;\">            0</td><td style=\"text-align: right;\">         0</td><td style=\"text-align: right;\">     nan</td><td>nan    </td><td>nan          </td><td style=\"text-align: right;\">        0</td><td style=\"text-align: right;\">       5</td><td style=\"text-align: right;\">    2007</td><td>WD        </td><td>Normal         </td><td style=\"text-align: right;\">     181500</td></tr>\n",
       "<tr><td style=\"text-align: right;\">   3</td><td style=\"text-align: right;\">          60</td><td>RL        </td><td style=\"text-align: right;\">           68</td><td style=\"text-align: right;\">    11250</td><td>Pave    </td><td style=\"text-align: right;\">    nan</td><td>IR1       </td><td>Lvl          </td><td>AllPub     </td><td>Inside     </td><td>Gtl        </td><td>CollgCr       </td><td>Norm        </td><td>Norm        </td><td>1Fam      </td><td>2Story      </td><td style=\"text-align: right;\">            7</td><td style=\"text-align: right;\">            5</td><td style=\"text-align: right;\">       2001</td><td style=\"text-align: right;\">          2002</td><td>Gable      </td><td>CompShg   </td><td>VinylSd      </td><td>VinylSd      </td><td>BrkFace     </td><td style=\"text-align: right;\">         162</td><td>Gd         </td><td>TA         </td><td>PConc       </td><td>Gd        </td><td>TA        </td><td>Mn            </td><td>GLQ           </td><td style=\"text-align: right;\">         486</td><td>Unf           </td><td style=\"text-align: right;\">           0</td><td style=\"text-align: right;\">        434</td><td style=\"text-align: right;\">          920</td><td>GasA     </td><td>Ex         </td><td>Y           </td><td>SBrkr       </td><td style=\"text-align: right;\">       920</td><td style=\"text-align: right;\">       866</td><td style=\"text-align: right;\">             0</td><td style=\"text-align: right;\">       1786</td><td style=\"text-align: right;\">             1</td><td style=\"text-align: right;\">             0</td><td style=\"text-align: right;\">         2</td><td style=\"text-align: right;\">         1</td><td style=\"text-align: right;\">             3</td><td style=\"text-align: right;\">             1</td><td>Gd           </td><td style=\"text-align: right;\">             6</td><td>Typ         </td><td style=\"text-align: right;\">           1</td><td>TA           </td><td>Attchd      </td><td style=\"text-align: right;\">         2001</td><td>RFn           </td><td style=\"text-align: right;\">           2</td><td style=\"text-align: right;\">         608</td><td>TA          </td><td>TA          </td><td>Y           </td><td style=\"text-align: right;\">           0</td><td style=\"text-align: right;\">           42</td><td style=\"text-align: right;\">              0</td><td style=\"text-align: right;\">          0</td><td style=\"text-align: right;\">            0</td><td style=\"text-align: right;\">         0</td><td style=\"text-align: right;\">     nan</td><td>nan    </td><td>nan          </td><td style=\"text-align: right;\">        0</td><td style=\"text-align: right;\">       9</td><td style=\"text-align: right;\">    2008</td><td>WD        </td><td>Normal         </td><td style=\"text-align: right;\">     223500</td></tr>\n",
       "<tr><td style=\"text-align: right;\">   4</td><td style=\"text-align: right;\">          70</td><td>RL        </td><td style=\"text-align: right;\">           60</td><td style=\"text-align: right;\">     9550</td><td>Pave    </td><td style=\"text-align: right;\">    nan</td><td>IR1       </td><td>Lvl          </td><td>AllPub     </td><td>Corner     </td><td>Gtl        </td><td>Crawfor       </td><td>Norm        </td><td>Norm        </td><td>1Fam      </td><td>2Story      </td><td style=\"text-align: right;\">            7</td><td style=\"text-align: right;\">            5</td><td style=\"text-align: right;\">       1915</td><td style=\"text-align: right;\">          1970</td><td>Gable      </td><td>CompShg   </td><td>Wd Sdng      </td><td>Wd Shng      </td><td>None        </td><td style=\"text-align: right;\">           0</td><td>TA         </td><td>TA         </td><td>BrkTil      </td><td>TA        </td><td>Gd        </td><td>No            </td><td>ALQ           </td><td style=\"text-align: right;\">         216</td><td>Unf           </td><td style=\"text-align: right;\">           0</td><td style=\"text-align: right;\">        540</td><td style=\"text-align: right;\">          756</td><td>GasA     </td><td>Gd         </td><td>Y           </td><td>SBrkr       </td><td style=\"text-align: right;\">       961</td><td style=\"text-align: right;\">       756</td><td style=\"text-align: right;\">             0</td><td style=\"text-align: right;\">       1717</td><td style=\"text-align: right;\">             1</td><td style=\"text-align: right;\">             0</td><td style=\"text-align: right;\">         1</td><td style=\"text-align: right;\">         0</td><td style=\"text-align: right;\">             3</td><td style=\"text-align: right;\">             1</td><td>Gd           </td><td style=\"text-align: right;\">             7</td><td>Typ         </td><td style=\"text-align: right;\">           1</td><td>Gd           </td><td>Detchd      </td><td style=\"text-align: right;\">         1998</td><td>Unf           </td><td style=\"text-align: right;\">           3</td><td style=\"text-align: right;\">         642</td><td>TA          </td><td>TA          </td><td>Y           </td><td style=\"text-align: right;\">           0</td><td style=\"text-align: right;\">           35</td><td style=\"text-align: right;\">            272</td><td style=\"text-align: right;\">          0</td><td style=\"text-align: right;\">            0</td><td style=\"text-align: right;\">         0</td><td style=\"text-align: right;\">     nan</td><td>nan    </td><td>nan          </td><td style=\"text-align: right;\">        0</td><td style=\"text-align: right;\">       2</td><td style=\"text-align: right;\">    2006</td><td>WD        </td><td>Abnorml        </td><td style=\"text-align: right;\">     140000</td></tr>\n",
       "<tr><td style=\"text-align: right;\">   5</td><td style=\"text-align: right;\">          60</td><td>RL        </td><td style=\"text-align: right;\">           84</td><td style=\"text-align: right;\">    14260</td><td>Pave    </td><td style=\"text-align: right;\">    nan</td><td>IR1       </td><td>Lvl          </td><td>AllPub     </td><td>FR2        </td><td>Gtl        </td><td>NoRidge       </td><td>Norm        </td><td>Norm        </td><td>1Fam      </td><td>2Story      </td><td style=\"text-align: right;\">            8</td><td style=\"text-align: right;\">            5</td><td style=\"text-align: right;\">       2000</td><td style=\"text-align: right;\">          2000</td><td>Gable      </td><td>CompShg   </td><td>VinylSd      </td><td>VinylSd      </td><td>BrkFace     </td><td style=\"text-align: right;\">         350</td><td>Gd         </td><td>TA         </td><td>PConc       </td><td>Gd        </td><td>TA        </td><td>Av            </td><td>GLQ           </td><td style=\"text-align: right;\">         655</td><td>Unf           </td><td style=\"text-align: right;\">           0</td><td style=\"text-align: right;\">        490</td><td style=\"text-align: right;\">         1145</td><td>GasA     </td><td>Ex         </td><td>Y           </td><td>SBrkr       </td><td style=\"text-align: right;\">      1145</td><td style=\"text-align: right;\">      1053</td><td style=\"text-align: right;\">             0</td><td style=\"text-align: right;\">       2198</td><td style=\"text-align: right;\">             1</td><td style=\"text-align: right;\">             0</td><td style=\"text-align: right;\">         2</td><td style=\"text-align: right;\">         1</td><td style=\"text-align: right;\">             4</td><td style=\"text-align: right;\">             1</td><td>Gd           </td><td style=\"text-align: right;\">             9</td><td>Typ         </td><td style=\"text-align: right;\">           1</td><td>TA           </td><td>Attchd      </td><td style=\"text-align: right;\">         2000</td><td>RFn           </td><td style=\"text-align: right;\">           3</td><td style=\"text-align: right;\">         836</td><td>TA          </td><td>TA          </td><td>Y           </td><td style=\"text-align: right;\">         192</td><td style=\"text-align: right;\">           84</td><td style=\"text-align: right;\">              0</td><td style=\"text-align: right;\">          0</td><td style=\"text-align: right;\">            0</td><td style=\"text-align: right;\">         0</td><td style=\"text-align: right;\">     nan</td><td>nan    </td><td>nan          </td><td style=\"text-align: right;\">        0</td><td style=\"text-align: right;\">      12</td><td style=\"text-align: right;\">    2008</td><td>WD        </td><td>Normal         </td><td style=\"text-align: right;\">     250000</td></tr>\n",
       "<tr><td style=\"text-align: right;\">   6</td><td style=\"text-align: right;\">          50</td><td>RL        </td><td style=\"text-align: right;\">           85</td><td style=\"text-align: right;\">    14115</td><td>Pave    </td><td style=\"text-align: right;\">    nan</td><td>IR1       </td><td>Lvl          </td><td>AllPub     </td><td>Inside     </td><td>Gtl        </td><td>Mitchel       </td><td>Norm        </td><td>Norm        </td><td>1Fam      </td><td>1.5Fin      </td><td style=\"text-align: right;\">            5</td><td style=\"text-align: right;\">            5</td><td style=\"text-align: right;\">       1993</td><td style=\"text-align: right;\">          1995</td><td>Gable      </td><td>CompShg   </td><td>VinylSd      </td><td>VinylSd      </td><td>None        </td><td style=\"text-align: right;\">           0</td><td>TA         </td><td>TA         </td><td>Wood        </td><td>Gd        </td><td>TA        </td><td>No            </td><td>GLQ           </td><td style=\"text-align: right;\">         732</td><td>Unf           </td><td style=\"text-align: right;\">           0</td><td style=\"text-align: right;\">         64</td><td style=\"text-align: right;\">          796</td><td>GasA     </td><td>Ex         </td><td>Y           </td><td>SBrkr       </td><td style=\"text-align: right;\">       796</td><td style=\"text-align: right;\">       566</td><td style=\"text-align: right;\">             0</td><td style=\"text-align: right;\">       1362</td><td style=\"text-align: right;\">             1</td><td style=\"text-align: right;\">             0</td><td style=\"text-align: right;\">         1</td><td style=\"text-align: right;\">         1</td><td style=\"text-align: right;\">             1</td><td style=\"text-align: right;\">             1</td><td>TA           </td><td style=\"text-align: right;\">             5</td><td>Typ         </td><td style=\"text-align: right;\">           0</td><td>nan          </td><td>Attchd      </td><td style=\"text-align: right;\">         1993</td><td>Unf           </td><td style=\"text-align: right;\">           2</td><td style=\"text-align: right;\">         480</td><td>TA          </td><td>TA          </td><td>Y           </td><td style=\"text-align: right;\">          40</td><td style=\"text-align: right;\">           30</td><td style=\"text-align: right;\">              0</td><td style=\"text-align: right;\">        320</td><td style=\"text-align: right;\">            0</td><td style=\"text-align: right;\">         0</td><td style=\"text-align: right;\">     nan</td><td>MnPrv  </td><td>Shed         </td><td style=\"text-align: right;\">      700</td><td style=\"text-align: right;\">      10</td><td style=\"text-align: right;\">    2009</td><td>WD        </td><td>Normal         </td><td style=\"text-align: right;\">     143000</td></tr>\n",
       "<tr><td style=\"text-align: right;\">   7</td><td style=\"text-align: right;\">          20</td><td>RL        </td><td style=\"text-align: right;\">           75</td><td style=\"text-align: right;\">    10084</td><td>Pave    </td><td style=\"text-align: right;\">    nan</td><td>Reg       </td><td>Lvl          </td><td>AllPub     </td><td>Inside     </td><td>Gtl        </td><td>Somerst       </td><td>Norm        </td><td>Norm        </td><td>1Fam      </td><td>1Story      </td><td style=\"text-align: right;\">            8</td><td style=\"text-align: right;\">            5</td><td style=\"text-align: right;\">       2004</td><td style=\"text-align: right;\">          2005</td><td>Gable      </td><td>CompShg   </td><td>VinylSd      </td><td>VinylSd      </td><td>Stone       </td><td style=\"text-align: right;\">         186</td><td>Gd         </td><td>TA         </td><td>PConc       </td><td>Ex        </td><td>TA        </td><td>Av            </td><td>GLQ           </td><td style=\"text-align: right;\">        1369</td><td>Unf           </td><td style=\"text-align: right;\">           0</td><td style=\"text-align: right;\">        317</td><td style=\"text-align: right;\">         1686</td><td>GasA     </td><td>Ex         </td><td>Y           </td><td>SBrkr       </td><td style=\"text-align: right;\">      1694</td><td style=\"text-align: right;\">         0</td><td style=\"text-align: right;\">             0</td><td style=\"text-align: right;\">       1694</td><td style=\"text-align: right;\">             1</td><td style=\"text-align: right;\">             0</td><td style=\"text-align: right;\">         2</td><td style=\"text-align: right;\">         0</td><td style=\"text-align: right;\">             3</td><td style=\"text-align: right;\">             1</td><td>Gd           </td><td style=\"text-align: right;\">             7</td><td>Typ         </td><td style=\"text-align: right;\">           1</td><td>Gd           </td><td>Attchd      </td><td style=\"text-align: right;\">         2004</td><td>RFn           </td><td style=\"text-align: right;\">           2</td><td style=\"text-align: right;\">         636</td><td>TA          </td><td>TA          </td><td>Y           </td><td style=\"text-align: right;\">         255</td><td style=\"text-align: right;\">           57</td><td style=\"text-align: right;\">              0</td><td style=\"text-align: right;\">          0</td><td style=\"text-align: right;\">            0</td><td style=\"text-align: right;\">         0</td><td style=\"text-align: right;\">     nan</td><td>nan    </td><td>nan          </td><td style=\"text-align: right;\">        0</td><td style=\"text-align: right;\">       8</td><td style=\"text-align: right;\">    2007</td><td>WD        </td><td>Normal         </td><td style=\"text-align: right;\">     307000</td></tr>\n",
       "<tr><td style=\"text-align: right;\">   8</td><td style=\"text-align: right;\">          60</td><td>RL        </td><td style=\"text-align: right;\">          nan</td><td style=\"text-align: right;\">    10382</td><td>Pave    </td><td style=\"text-align: right;\">    nan</td><td>IR1       </td><td>Lvl          </td><td>AllPub     </td><td>Corner     </td><td>Gtl        </td><td>NWAmes        </td><td>PosN        </td><td>Norm        </td><td>1Fam      </td><td>2Story      </td><td style=\"text-align: right;\">            7</td><td style=\"text-align: right;\">            6</td><td style=\"text-align: right;\">       1973</td><td style=\"text-align: right;\">          1973</td><td>Gable      </td><td>CompShg   </td><td>HdBoard      </td><td>HdBoard      </td><td>Stone       </td><td style=\"text-align: right;\">         240</td><td>TA         </td><td>TA         </td><td>CBlock      </td><td>Gd        </td><td>TA        </td><td>Mn            </td><td>ALQ           </td><td style=\"text-align: right;\">         859</td><td>BLQ           </td><td style=\"text-align: right;\">          32</td><td style=\"text-align: right;\">        216</td><td style=\"text-align: right;\">         1107</td><td>GasA     </td><td>Ex         </td><td>Y           </td><td>SBrkr       </td><td style=\"text-align: right;\">      1107</td><td style=\"text-align: right;\">       983</td><td style=\"text-align: right;\">             0</td><td style=\"text-align: right;\">       2090</td><td style=\"text-align: right;\">             1</td><td style=\"text-align: right;\">             0</td><td style=\"text-align: right;\">         2</td><td style=\"text-align: right;\">         1</td><td style=\"text-align: right;\">             3</td><td style=\"text-align: right;\">             1</td><td>TA           </td><td style=\"text-align: right;\">             7</td><td>Typ         </td><td style=\"text-align: right;\">           2</td><td>TA           </td><td>Attchd      </td><td style=\"text-align: right;\">         1973</td><td>RFn           </td><td style=\"text-align: right;\">           2</td><td style=\"text-align: right;\">         484</td><td>TA          </td><td>TA          </td><td>Y           </td><td style=\"text-align: right;\">         235</td><td style=\"text-align: right;\">          204</td><td style=\"text-align: right;\">            228</td><td style=\"text-align: right;\">          0</td><td style=\"text-align: right;\">            0</td><td style=\"text-align: right;\">         0</td><td style=\"text-align: right;\">     nan</td><td>nan    </td><td>Shed         </td><td style=\"text-align: right;\">      350</td><td style=\"text-align: right;\">      11</td><td style=\"text-align: right;\">    2009</td><td>WD        </td><td>Normal         </td><td style=\"text-align: right;\">     200000</td></tr>\n",
       "<tr><td style=\"text-align: right;\">   9</td><td style=\"text-align: right;\">          50</td><td>RM        </td><td style=\"text-align: right;\">           51</td><td style=\"text-align: right;\">     6120</td><td>Pave    </td><td style=\"text-align: right;\">    nan</td><td>Reg       </td><td>Lvl          </td><td>AllPub     </td><td>Inside     </td><td>Gtl        </td><td>OldTown       </td><td>Artery      </td><td>Norm        </td><td>1Fam      </td><td>1.5Fin      </td><td style=\"text-align: right;\">            7</td><td style=\"text-align: right;\">            5</td><td style=\"text-align: right;\">       1931</td><td style=\"text-align: right;\">          1950</td><td>Gable      </td><td>CompShg   </td><td>BrkFace      </td><td>Wd Shng      </td><td>None        </td><td style=\"text-align: right;\">           0</td><td>TA         </td><td>TA         </td><td>BrkTil      </td><td>TA        </td><td>TA        </td><td>No            </td><td>Unf           </td><td style=\"text-align: right;\">           0</td><td>Unf           </td><td style=\"text-align: right;\">           0</td><td style=\"text-align: right;\">        952</td><td style=\"text-align: right;\">          952</td><td>GasA     </td><td>Gd         </td><td>Y           </td><td>FuseF       </td><td style=\"text-align: right;\">      1022</td><td style=\"text-align: right;\">       752</td><td style=\"text-align: right;\">             0</td><td style=\"text-align: right;\">       1774</td><td style=\"text-align: right;\">             0</td><td style=\"text-align: right;\">             0</td><td style=\"text-align: right;\">         2</td><td style=\"text-align: right;\">         0</td><td style=\"text-align: right;\">             2</td><td style=\"text-align: right;\">             2</td><td>TA           </td><td style=\"text-align: right;\">             8</td><td>Min1        </td><td style=\"text-align: right;\">           2</td><td>TA           </td><td>Detchd      </td><td style=\"text-align: right;\">         1931</td><td>Unf           </td><td style=\"text-align: right;\">           2</td><td style=\"text-align: right;\">         468</td><td>Fa          </td><td>TA          </td><td>Y           </td><td style=\"text-align: right;\">          90</td><td style=\"text-align: right;\">            0</td><td style=\"text-align: right;\">            205</td><td style=\"text-align: right;\">          0</td><td style=\"text-align: right;\">            0</td><td style=\"text-align: right;\">         0</td><td style=\"text-align: right;\">     nan</td><td>nan    </td><td>nan          </td><td style=\"text-align: right;\">        0</td><td style=\"text-align: right;\">       4</td><td style=\"text-align: right;\">    2008</td><td>WD        </td><td>Abnorml        </td><td style=\"text-align: right;\">     129900</td></tr>\n",
       "<tr><td style=\"text-align: right;\">  10</td><td style=\"text-align: right;\">         190</td><td>RL        </td><td style=\"text-align: right;\">           50</td><td style=\"text-align: right;\">     7420</td><td>Pave    </td><td style=\"text-align: right;\">    nan</td><td>Reg       </td><td>Lvl          </td><td>AllPub     </td><td>Corner     </td><td>Gtl        </td><td>BrkSide       </td><td>Artery      </td><td>Artery      </td><td>2fmCon    </td><td>1.5Unf      </td><td style=\"text-align: right;\">            5</td><td style=\"text-align: right;\">            6</td><td style=\"text-align: right;\">       1939</td><td style=\"text-align: right;\">          1950</td><td>Gable      </td><td>CompShg   </td><td>MetalSd      </td><td>MetalSd      </td><td>None        </td><td style=\"text-align: right;\">           0</td><td>TA         </td><td>TA         </td><td>BrkTil      </td><td>TA        </td><td>TA        </td><td>No            </td><td>GLQ           </td><td style=\"text-align: right;\">         851</td><td>Unf           </td><td style=\"text-align: right;\">           0</td><td style=\"text-align: right;\">        140</td><td style=\"text-align: right;\">          991</td><td>GasA     </td><td>Ex         </td><td>Y           </td><td>SBrkr       </td><td style=\"text-align: right;\">      1077</td><td style=\"text-align: right;\">         0</td><td style=\"text-align: right;\">             0</td><td style=\"text-align: right;\">       1077</td><td style=\"text-align: right;\">             1</td><td style=\"text-align: right;\">             0</td><td style=\"text-align: right;\">         1</td><td style=\"text-align: right;\">         0</td><td style=\"text-align: right;\">             2</td><td style=\"text-align: right;\">             2</td><td>TA           </td><td style=\"text-align: right;\">             5</td><td>Typ         </td><td style=\"text-align: right;\">           2</td><td>TA           </td><td>Attchd      </td><td style=\"text-align: right;\">         1939</td><td>RFn           </td><td style=\"text-align: right;\">           1</td><td style=\"text-align: right;\">         205</td><td>Gd          </td><td>TA          </td><td>Y           </td><td style=\"text-align: right;\">           0</td><td style=\"text-align: right;\">            4</td><td style=\"text-align: right;\">              0</td><td style=\"text-align: right;\">          0</td><td style=\"text-align: right;\">            0</td><td style=\"text-align: right;\">         0</td><td style=\"text-align: right;\">     nan</td><td>nan    </td><td>nan          </td><td style=\"text-align: right;\">        0</td><td style=\"text-align: right;\">       1</td><td style=\"text-align: right;\">    2008</td><td>WD        </td><td>Normal         </td><td style=\"text-align: right;\">     118000</td></tr>\n",
       "</tbody>\n",
       "</table>"
      ]
     },
     "metadata": {},
     "output_type": "display_data"
    },
    {
     "data": {
      "text/plain": []
     },
     "execution_count": 89,
     "metadata": {},
     "output_type": "execute_result"
    }
   ],
   "source": [
    "khous_h2.head()"
   ]
  },
  {
   "cell_type": "code",
   "execution_count": 91,
   "metadata": {
    "scrolled": true
   },
   "outputs": [],
   "source": [
    "glrmodel_2 = H2OGeneralizedLowRankEstimator(k=10, \n",
    "                                       max_iterations=100, \n",
    "                                       loss_by_col=col_loss_types, \n",
    "                                       impute_original=True)"
   ]
  },
  {
   "cell_type": "code",
   "execution_count": 92,
   "metadata": {
    "scrolled": true
   },
   "outputs": [
    {
     "name": "stdout",
     "output_type": "stream",
     "text": [
      "glrm Model Build progress: |██████████████████████████████████████████████| 100%\n"
     ]
    }
   ],
   "source": [
    "glrmodel_2.train(training_frame=khous_h2)\n",
    "# glrmodel_2.train(y='SalePrice', training_frame=khous_h2) <-- makes no difference?"
   ]
  },
  {
   "cell_type": "code",
   "execution_count": null,
   "metadata": {},
   "outputs": [],
   "source": [
    "# trying something else copied directly from an example, but produces an error:\n",
    "# glrmodel_4.train(x=khous_h2.names, training_frame=khous_h2)"
   ]
  },
  {
   "cell_type": "markdown",
   "metadata": {},
   "source": [
    "Now let's try this on the same dataset, but with half the values nulled out:"
   ]
  },
  {
   "cell_type": "code",
   "execution_count": 111,
   "metadata": {},
   "outputs": [],
   "source": [
    "glrmodel_3 = H2OGeneralizedLowRankEstimator(k=10, \n",
    "                                       max_iterations=100, \n",
    "                                       loss_by_col=col_loss_types, \n",
    "                                       impute_original=True)"
   ]
  },
  {
   "cell_type": "code",
   "execution_count": null,
   "metadata": {},
   "outputs": [],
   "source": [
    "glrmodel_3 = H2OGeneralizedLowRankEstimator(k=10)"
   ]
  },
  {
   "cell_type": "code",
   "execution_count": 112,
   "metadata": {
    "scrolled": true
   },
   "outputs": [
    {
     "ename": "H2OResponseError",
     "evalue": "ModelBuilderErrorV3  (water.exceptions.H2OModelBuilderIllegalArgumentException):\n    timestamp = 1530645727323\n    error_url = '/3/ModelBuilders/glrm'\n    msg = 'Illegal argument(s) for GLRM model: GLRM_model_python_1530645406753_12.  Details: ERRR on field: _loss_by_col: Loss function Quadratic cannot be applied to categorical column 0\\nERRR on field: _loss_by_col: Loss function Quadratic cannot be applied to categorical column 1\\nERRR on field: _loss_by_col: Loss function Quadratic cannot be applied to categorical column 3\\nERRR on field: _loss_by_col: Loss function Quadratic cannot be applied to categorical column 19\\nERRR on field: _loss_by_col: Loss function Quadratic cannot be applied to categorical column 20\\nERRR on field: _loss_by_col: Loss function Quadratic cannot be applied to categorical column 26\\nERRR on field: _loss_by_col: Loss function Quadratic cannot be applied to categorical column 38\\nERRR on field: _loss_by_col: Loss function Quadratic cannot be applied to categorical column 45\\nERRR on field: _loss_by_col: Loss function Quadratic cannot be applied to categorical column 46\\nERRR on field: _loss_by_col: Loss function Quadratic cannot be applied to categorical column 49\\nERRR on field: _loss_by_col: Loss function Quadratic cannot be applied to categorical column 52\\nERRR on field: _loss_by_col: Loss function Quadratic cannot be applied to categorical column 59\\nERRR on field: _loss_by_col: Loss function Quadratic cannot be applied to categorical column 62\\nERRR on field: _loss_by_col: Loss function Quadratic cannot be applied to categorical column 67\\nERRR on field: _loss_by_col: Loss function Quadratic cannot be applied to categorical column 70\\nERRR on field: _loss_by_col: Loss function Quadratic cannot be applied to categorical column 75\\nERRR on field: _loss_by_col: Loss function Quadratic cannot be applied to categorical column 76\\nERRR on field: _loss_by_col: Loss function Quadratic cannot be applied to categorical column 77'\n    dev_msg = 'Illegal argument(s) for GLRM model: GLRM_model_python_1530645406753_12.  Details: ERRR on field: _loss_by_col: Loss function Quadratic cannot be applied to categorical column 0\\nERRR on field: _loss_by_col: Loss function Quadratic cannot be applied to categorical column 1\\nERRR on field: _loss_by_col: Loss function Quadratic cannot be applied to categorical column 3\\nERRR on field: _loss_by_col: Loss function Quadratic cannot be applied to categorical column 19\\nERRR on field: _loss_by_col: Loss function Quadratic cannot be applied to categorical column 20\\nERRR on field: _loss_by_col: Loss function Quadratic cannot be applied to categorical column 26\\nERRR on field: _loss_by_col: Loss function Quadratic cannot be applied to categorical column 38\\nERRR on field: _loss_by_col: Loss function Quadratic cannot be applied to categorical column 45\\nERRR on field: _loss_by_col: Loss function Quadratic cannot be applied to categorical column 46\\nERRR on field: _loss_by_col: Loss function Quadratic cannot be applied to categorical column 49\\nERRR on field: _loss_by_col: Loss function Quadratic cannot be applied to categorical column 52\\nERRR on field: _loss_by_col: Loss function Quadratic cannot be applied to categorical column 59\\nERRR on field: _loss_by_col: Loss function Quadratic cannot be applied to categorical column 62\\nERRR on field: _loss_by_col: Loss function Quadratic cannot be applied to categorical column 67\\nERRR on field: _loss_by_col: Loss function Quadratic cannot be applied to categorical column 70\\nERRR on field: _loss_by_col: Loss function Quadratic cannot be applied to categorical column 75\\nERRR on field: _loss_by_col: Loss function Quadratic cannot be applied to categorical column 76\\nERRR on field: _loss_by_col: Loss function Quadratic cannot be applied to categorical column 77'\n    http_status = 412\n    values = {'messages': [{'_log_level': 5, '_field_name': '_keep_cross_validation_predictions', '_message': 'Only for cross-validation.'}, {'_log_level': 5, '_field_name': '_keep_cross_validation_fold_assignment', '_message': 'Only for cross-validation.'}, {'_log_level': 5, '_field_name': '_fold_assignment', '_message': 'Only for cross-validation.'}, {'_log_level': 5, '_field_name': '_tweedie_power', '_message': 'Only for Tweedie Distribution.'}, {'_log_level': 5, '_field_name': '_response_column', '_message': 'Ignored for unsupervised methods.'}, {'_log_level': 5, '_field_name': '_balance_classes', '_message': 'Ignored for unsupervised methods.'}, {'_log_level': 5, '_field_name': '_class_sampling_factors', '_message': 'Ignored for unsupervised methods.'}, {'_log_level': 5, '_field_name': '_max_after_balance_size', '_message': 'Ignored for unsupervised methods.'}, {'_log_level': 5, '_field_name': '_max_confusion_matrix_size', '_message': 'Ignored for unsupervised methods.'}, {'_log_level': 1, '_field_name': '_loss_by_col', '_message': 'Loss function Quadratic cannot be applied to categorical column 0'}, {'_log_level': 1, '_field_name': '_loss_by_col', '_message': 'Loss function Quadratic cannot be applied to categorical column 1'}, {'_log_level': 1, '_field_name': '_loss_by_col', '_message': 'Loss function Quadratic cannot be applied to categorical column 3'}, {'_log_level': 1, '_field_name': '_loss_by_col', '_message': 'Loss function Quadratic cannot be applied to categorical column 19'}, {'_log_level': 1, '_field_name': '_loss_by_col', '_message': 'Loss function Quadratic cannot be applied to categorical column 20'}, {'_log_level': 1, '_field_name': '_loss_by_col', '_message': 'Loss function Quadratic cannot be applied to categorical column 26'}, {'_log_level': 1, '_field_name': '_loss_by_col', '_message': 'Loss function Quadratic cannot be applied to categorical column 38'}, {'_log_level': 1, '_field_name': '_loss_by_col', '_message': 'Loss function Quadratic cannot be applied to categorical column 45'}, {'_log_level': 1, '_field_name': '_loss_by_col', '_message': 'Loss function Quadratic cannot be applied to categorical column 46'}, {'_log_level': 1, '_field_name': '_loss_by_col', '_message': 'Loss function Quadratic cannot be applied to categorical column 49'}, {'_log_level': 1, '_field_name': '_loss_by_col', '_message': 'Loss function Quadratic cannot be applied to categorical column 52'}, {'_log_level': 1, '_field_name': '_loss_by_col', '_message': 'Loss function Quadratic cannot be applied to categorical column 59'}, {'_log_level': 1, '_field_name': '_loss_by_col', '_message': 'Loss function Quadratic cannot be applied to categorical column 62'}, {'_log_level': 1, '_field_name': '_loss_by_col', '_message': 'Loss function Quadratic cannot be applied to categorical column 67'}, {'_log_level': 1, '_field_name': '_loss_by_col', '_message': 'Loss function Quadratic cannot be applied to categorical column 70'}, {'_log_level': 1, '_field_name': '_loss_by_col', '_message': 'Loss function Quadratic cannot be applied to categorical column 75'}, {'_log_level': 1, '_field_name': '_loss_by_col', '_message': 'Loss function Quadratic cannot be applied to categorical column 76'}, {'_log_level': 1, '_field_name': '_loss_by_col', '_message': 'Loss function Quadratic cannot be applied to categorical column 77'}], 'algo': 'GLRM', 'parameters': {'_train': {'name': 'Key_Frame__upload_8d429ff92b784e9d8304bece0a49471b.hex', 'type': 'Key'}, '_valid': None, '_nfolds': 0, '_keep_cross_validation_predictions': False, '_keep_cross_validation_fold_assignment': False, '_parallelize_cross_validation': True, '_auto_rebalance': True, '_seed': -1, '_fold_assignment': 'AUTO', '_categorical_encoding': 'AUTO', '_max_categorical_levels': 10, '_distribution': 'AUTO', '_tweedie_power': 1.5, '_quantile_alpha': 0.5, '_huber_alpha': 0.9, '_ignored_columns': None, '_ignore_const_cols': True, '_weights_column': None, '_offset_column': None, '_fold_column': None, '_is_cv_model': False, '_score_each_iteration': False, '_max_runtime_secs': 0.0, '_stopping_rounds': 0, '_stopping_metric': 'AUTO', '_stopping_tolerance': 0.001, '_response_column': None, '_balance_classes': False, '_max_after_balance_size': 5.0, '_class_sampling_factors': None, '_max_confusion_matrix_size': 20, '_checkpoint': None, '_pretrained_autoencoder': None, '_custom_metric_func': None, '_transform': 'NONE', '_k': 10, '_init': 'PlusPlus', '_svd_method': 'Randomized', '_user_y': None, '_user_x': None, '_expand_user_y': True, '_loss': 'Quadratic', '_multi_loss': 'Categorical', '_period': 1, '_loss_by_col': ['Quadratic', 'Quadratic', 'Categorical', 'Quadratic', 'Quadratic', 'Categorical', 'Categorical', 'Categorical', 'Categorical', 'Categorical', 'Categorical', 'Categorical', 'Categorical', 'Categorical', 'Categorical', 'Categorical', 'Categorical', 'Quadratic', 'Quadratic', 'Quadratic', 'Quadratic', 'Categorical', 'Categorical', 'Categorical', 'Categorical', 'Categorical', 'Quadratic', 'Categorical', 'Categorical', 'Categorical', 'Categorical', 'Categorical', 'Categorical', 'Categorical', 'Quadratic', 'Categorical', 'Quadratic', 'Quadratic', 'Quadratic', 'Categorical', 'Categorical', 'Categorical', 'Categorical', 'Quadratic', 'Quadratic', 'Quadratic', 'Quadratic', 'Quadratic', 'Quadratic', 'Quadratic', 'Quadratic', 'Quadratic', 'Quadratic', 'Categorical', 'Quadratic', 'Categorical', 'Quadratic', 'Categorical', 'Categorical', 'Quadratic', 'Categorical', 'Quadratic', 'Quadratic', 'Categorical', 'Categorical', 'Categorical', 'Quadratic', 'Quadratic', 'Quadratic', 'Quadratic', 'Quadratic', 'Quadratic', 'Categorical', 'Categorical', 'Categorical', 'Quadratic', 'Quadratic', 'Quadratic', 'Categorical', 'Categorical', 'Quadratic'], '_loss_by_col_idx': None, '_regularization_x': 'None', '_regularization_y': 'None', '_gamma_x': 0.0, '_gamma_y': 0.0, '_max_iterations': 100, '_max_updates': 2000, '_init_step_size': 1.0, '_min_step_size': 0.0001, '_representation_name': None, '_recover_svd': False, '_impute_original': True, '_verbose': True}, 'error_count': 36}\n    exception_msg = 'Illegal argument(s) for GLRM model: GLRM_model_python_1530645406753_12.  Details: ERRR on field: _loss_by_col: Loss function Quadratic cannot be applied to categorical column 0\\nERRR on field: _loss_by_col: Loss function Quadratic cannot be applied to categorical column 1\\nERRR on field: _loss_by_col: Loss function Quadratic cannot be applied to categorical column 3\\nERRR on field: _loss_by_col: Loss function Quadratic cannot be applied to categorical column 19\\nERRR on field: _loss_by_col: Loss function Quadratic cannot be applied to categorical column 20\\nERRR on field: _loss_by_col: Loss function Quadratic cannot be applied to categorical column 26\\nERRR on field: _loss_by_col: Loss function Quadratic cannot be applied to categorical column 38\\nERRR on field: _loss_by_col: Loss function Quadratic cannot be applied to categorical column 45\\nERRR on field: _loss_by_col: Loss function Quadratic cannot be applied to categorical column 46\\nERRR on field: _loss_by_col: Loss function Quadratic cannot be applied to categorical column 49\\nERRR on field: _loss_by_col: Loss function Quadratic cannot be applied to categorical column 52\\nERRR on field: _loss_by_col: Loss function Quadratic cannot be applied to categorical column 59\\nERRR on field: _loss_by_col: Loss function Quadratic cannot be applied to categorical column 62\\nERRR on field: _loss_by_col: Loss function Quadratic cannot be applied to categorical column 67\\nERRR on field: _loss_by_col: Loss function Quadratic cannot be applied to categorical column 70\\nERRR on field: _loss_by_col: Loss function Quadratic cannot be applied to categorical column 75\\nERRR on field: _loss_by_col: Loss function Quadratic cannot be applied to categorical column 76\\nERRR on field: _loss_by_col: Loss function Quadratic cannot be applied to categorical column 77'\n    stacktrace =\n        water.exceptions.H2OModelBuilderIllegalArgumentException: Illegal argument(s) for GLRM model: GLRM_model_python_1530645406753_12.  Details: ERRR on field: _loss_by_col: Loss function Quadratic cannot be applied to categorical column 0\nERRR on field: _loss_by_col: Loss function Quadratic cannot be applied to categorical column 1\nERRR on field: _loss_by_col: Loss function Quadratic cannot be applied to categorical column 3\nERRR on field: _loss_by_col: Loss function Quadratic cannot be applied to categorical column 19\nERRR on field: _loss_by_col: Loss function Quadratic cannot be applied to categorical column 20\nERRR on field: _loss_by_col: Loss function Quadratic cannot be applied to categorical column 26\nERRR on field: _loss_by_col: Loss function Quadratic cannot be applied to categorical column 38\nERRR on field: _loss_by_col: Loss function Quadratic cannot be applied to categorical column 45\nERRR on field: _loss_by_col: Loss function Quadratic cannot be applied to categorical column 46\nERRR on field: _loss_by_col: Loss function Quadratic cannot be applied to categorical column 49\nERRR on field: _loss_by_col: Loss function Quadratic cannot be applied to categorical column 52\nERRR on field: _loss_by_col: Loss function Quadratic cannot be applied to categorical column 59\nERRR on field: _loss_by_col: Loss function Quadratic cannot be applied to categorical column 62\nERRR on field: _loss_by_col: Loss function Quadratic cannot be applied to categorical column 67\nERRR on field: _loss_by_col: Loss function Quadratic cannot be applied to categorical column 70\nERRR on field: _loss_by_col: Loss function Quadratic cannot be applied to categorical column 75\nERRR on field: _loss_by_col: Loss function Quadratic cannot be applied to categorical column 76\nERRR on field: _loss_by_col: Loss function Quadratic cannot be applied to categorical column 77\n        water.exceptions.H2OModelBuilderIllegalArgumentException.makeFromBuilder(H2OModelBuilderIllegalArgumentException.java:20)\n        hex.ModelBuilder.trainModel(ModelBuilder.java:239)\n        water.api.ModelBuilderHandler.handle(ModelBuilderHandler.java:64)\n        water.api.ModelBuilderHandler.handle(ModelBuilderHandler.java:17)\n        water.api.RequestServer.serve(RequestServer.java:451)\n        water.api.RequestServer.doGeneric(RequestServer.java:296)\n        water.api.RequestServer.doPost(RequestServer.java:222)\n        javax.servlet.http.HttpServlet.service(HttpServlet.java:755)\n        javax.servlet.http.HttpServlet.service(HttpServlet.java:848)\n        org.eclipse.jetty.servlet.ServletHolder.handle(ServletHolder.java:684)\n        org.eclipse.jetty.servlet.ServletHandler.doHandle(ServletHandler.java:503)\n        org.eclipse.jetty.server.handler.ContextHandler.doHandle(ContextHandler.java:1086)\n        org.eclipse.jetty.servlet.ServletHandler.doScope(ServletHandler.java:429)\n        org.eclipse.jetty.server.handler.ContextHandler.doScope(ContextHandler.java:1020)\n        org.eclipse.jetty.server.handler.ScopedHandler.handle(ScopedHandler.java:135)\n        org.eclipse.jetty.server.handler.HandlerCollection.handle(HandlerCollection.java:154)\n        org.eclipse.jetty.server.handler.HandlerWrapper.handle(HandlerWrapper.java:116)\n        water.JettyHTTPD$LoginHandler.handle(JettyHTTPD.java:197)\n        org.eclipse.jetty.server.handler.HandlerCollection.handle(HandlerCollection.java:154)\n        org.eclipse.jetty.server.handler.HandlerWrapper.handle(HandlerWrapper.java:116)\n        org.eclipse.jetty.server.Server.handle(Server.java:370)\n        org.eclipse.jetty.server.AbstractHttpConnection.handleRequest(AbstractHttpConnection.java:494)\n        org.eclipse.jetty.server.BlockingHttpConnection.handleRequest(BlockingHttpConnection.java:53)\n        org.eclipse.jetty.server.AbstractHttpConnection.content(AbstractHttpConnection.java:982)\n        org.eclipse.jetty.server.AbstractHttpConnection$RequestHandler.content(AbstractHttpConnection.java:1043)\n        org.eclipse.jetty.http.HttpParser.parseNext(HttpParser.java:865)\n        org.eclipse.jetty.http.HttpParser.parseAvailable(HttpParser.java:240)\n        org.eclipse.jetty.server.BlockingHttpConnection.handle(BlockingHttpConnection.java:72)\n        org.eclipse.jetty.server.bio.SocketConnector$ConnectorEndPoint.run(SocketConnector.java:264)\n        org.eclipse.jetty.util.thread.QueuedThreadPool.runJob(QueuedThreadPool.java:608)\n        org.eclipse.jetty.util.thread.QueuedThreadPool$3.run(QueuedThreadPool.java:543)\n        java.base/java.lang.Thread.run(Thread.java:844)\n    parameters = {'__meta': {'schema_version': 3, 'schema_name': 'GLRMParametersV3', 'schema_type': 'GLRMParameters'}, 'model_id': None, 'training_frame': {'__meta': {'schema_version': 3, 'schema_name': 'FrameKeyV3', 'schema_type': 'Key<Frame>'}, 'name': 'Key_Frame__upload_8d429ff92b784e9d8304bece0a49471b.hex', 'type': 'Key<Frame>', 'URL': '/3/Frames/Key_Frame__upload_8d429ff92b784e9d8304bece0a49471b.hex'}, 'validation_frame': None, 'nfolds': 0, 'keep_cross_validation_predictions': False, 'keep_cross_validation_fold_assignment': False, 'parallelize_cross_validation': True, 'distribution': 'AUTO', 'tweedie_power': 1.5, 'quantile_alpha': 0.5, 'huber_alpha': 0.9, 'response_column': None, 'weights_column': None, 'offset_column': None, 'fold_column': None, 'fold_assignment': 'AUTO', 'categorical_encoding': 'AUTO', 'max_categorical_levels': 10, 'ignored_columns': None, 'ignore_const_cols': True, 'score_each_iteration': False, 'checkpoint': None, 'stopping_rounds': 0, 'max_runtime_secs': 0.0, 'stopping_metric': 'AUTO', 'stopping_tolerance': 0.001, 'custom_metric_func': None, 'transform': 'NONE', 'k': 10, 'loss': 'Quadratic', 'multi_loss': 'Categorical', 'loss_by_col': ['Quadratic', 'Quadratic', 'Categorical', 'Quadratic', 'Quadratic', 'Categorical', 'Categorical', 'Categorical', 'Categorical', 'Categorical', 'Categorical', 'Categorical', 'Categorical', 'Categorical', 'Categorical', 'Categorical', 'Categorical', 'Quadratic', 'Quadratic', 'Quadratic', 'Quadratic', 'Categorical', 'Categorical', 'Categorical', 'Categorical', 'Categorical', 'Quadratic', 'Categorical', 'Categorical', 'Categorical', 'Categorical', 'Categorical', 'Categorical', 'Categorical', 'Quadratic', 'Categorical', 'Quadratic', 'Quadratic', 'Quadratic', 'Categorical', 'Categorical', 'Categorical', 'Categorical', 'Quadratic', 'Quadratic', 'Quadratic', 'Quadratic', 'Quadratic', 'Quadratic', 'Quadratic', 'Quadratic', 'Quadratic', 'Quadratic', 'Categorical', 'Quadratic', 'Categorical', 'Quadratic', 'Categorical', 'Categorical', 'Quadratic', 'Categorical', 'Quadratic', 'Quadratic', 'Categorical', 'Categorical', 'Categorical', 'Quadratic', 'Quadratic', 'Quadratic', 'Quadratic', 'Quadratic', 'Quadratic', 'Categorical', 'Categorical', 'Categorical', 'Quadratic', 'Quadratic', 'Quadratic', 'Categorical', 'Categorical', 'Quadratic'], 'loss_by_col_idx': None, 'period': 1, 'regularization_x': 'None', 'regularization_y': 'None', 'gamma_x': 0.0, 'gamma_y': 0.0, 'max_iterations': 100, 'max_updates': 2000, 'init_step_size': 1.0, 'min_step_size': 0.0001, 'seed': -1, 'init': 'PlusPlus', 'svd_method': 'Randomized', 'user_y': None, 'user_x': None, 'loading_name': None, 'expand_user_y': True, 'impute_original': True, 'recover_svd': False}\n    messages = [{'__meta': {'schema_version': 3, 'schema_name': 'ValidationMessageV3', 'schema_type': 'ValidationMessage'}, 'message_type': 'TRACE', 'field_name': 'keep_cross_validation_predictions', 'message': 'Only for cross-validation.'}, {'__meta': {'schema_version': 3, 'schema_name': 'ValidationMessageV3', 'schema_type': 'ValidationMessage'}, 'message_type': 'TRACE', 'field_name': 'keep_cross_validation_fold_assignment', 'message': 'Only for cross-validation.'}, {'__meta': {'schema_version': 3, 'schema_name': 'ValidationMessageV3', 'schema_type': 'ValidationMessage'}, 'message_type': 'TRACE', 'field_name': 'fold_assignment', 'message': 'Only for cross-validation.'}, {'__meta': {'schema_version': 3, 'schema_name': 'ValidationMessageV3', 'schema_type': 'ValidationMessage'}, 'message_type': 'TRACE', 'field_name': 'tweedie_power', 'message': 'Only for Tweedie Distribution.'}, {'__meta': {'schema_version': 3, 'schema_name': 'ValidationMessageV3', 'schema_type': 'ValidationMessage'}, 'message_type': 'TRACE', 'field_name': 'response_column', 'message': 'Ignored for unsupervised methods.'}, {'__meta': {'schema_version': 3, 'schema_name': 'ValidationMessageV3', 'schema_type': 'ValidationMessage'}, 'message_type': 'TRACE', 'field_name': 'balance_classes', 'message': 'Ignored for unsupervised methods.'}, {'__meta': {'schema_version': 3, 'schema_name': 'ValidationMessageV3', 'schema_type': 'ValidationMessage'}, 'message_type': 'TRACE', 'field_name': 'class_sampling_factors', 'message': 'Ignored for unsupervised methods.'}, {'__meta': {'schema_version': 3, 'schema_name': 'ValidationMessageV3', 'schema_type': 'ValidationMessage'}, 'message_type': 'TRACE', 'field_name': 'max_after_balance_size', 'message': 'Ignored for unsupervised methods.'}, {'__meta': {'schema_version': 3, 'schema_name': 'ValidationMessageV3', 'schema_type': 'ValidationMessage'}, 'message_type': 'TRACE', 'field_name': 'max_confusion_matrix_size', 'message': 'Ignored for unsupervised methods.'}, {'__meta': {'schema_version': 3, 'schema_name': 'ValidationMessageV3', 'schema_type': 'ValidationMessage'}, 'message_type': 'ERRR', 'field_name': 'loss_by_col', 'message': 'Loss function Quadratic cannot be applied to categorical column 0'}, {'__meta': {'schema_version': 3, 'schema_name': 'ValidationMessageV3', 'schema_type': 'ValidationMessage'}, 'message_type': 'ERRR', 'field_name': 'loss_by_col', 'message': 'Loss function Quadratic cannot be applied to categorical column 1'}, {'__meta': {'schema_version': 3, 'schema_name': 'ValidationMessageV3', 'schema_type': 'ValidationMessage'}, 'message_type': 'ERRR', 'field_name': 'loss_by_col', 'message': 'Loss function Quadratic cannot be applied to categorical column 3'}, {'__meta': {'schema_version': 3, 'schema_name': 'ValidationMessageV3', 'schema_type': 'ValidationMessage'}, 'message_type': 'ERRR', 'field_name': 'loss_by_col', 'message': 'Loss function Quadratic cannot be applied to categorical column 19'}, {'__meta': {'schema_version': 3, 'schema_name': 'ValidationMessageV3', 'schema_type': 'ValidationMessage'}, 'message_type': 'ERRR', 'field_name': 'loss_by_col', 'message': 'Loss function Quadratic cannot be applied to categorical column 20'}, {'__meta': {'schema_version': 3, 'schema_name': 'ValidationMessageV3', 'schema_type': 'ValidationMessage'}, 'message_type': 'ERRR', 'field_name': 'loss_by_col', 'message': 'Loss function Quadratic cannot be applied to categorical column 26'}, {'__meta': {'schema_version': 3, 'schema_name': 'ValidationMessageV3', 'schema_type': 'ValidationMessage'}, 'message_type': 'ERRR', 'field_name': 'loss_by_col', 'message': 'Loss function Quadratic cannot be applied to categorical column 38'}, {'__meta': {'schema_version': 3, 'schema_name': 'ValidationMessageV3', 'schema_type': 'ValidationMessage'}, 'message_type': 'ERRR', 'field_name': 'loss_by_col', 'message': 'Loss function Quadratic cannot be applied to categorical column 45'}, {'__meta': {'schema_version': 3, 'schema_name': 'ValidationMessageV3', 'schema_type': 'ValidationMessage'}, 'message_type': 'ERRR', 'field_name': 'loss_by_col', 'message': 'Loss function Quadratic cannot be applied to categorical column 46'}, {'__meta': {'schema_version': 3, 'schema_name': 'ValidationMessageV3', 'schema_type': 'ValidationMessage'}, 'message_type': 'ERRR', 'field_name': 'loss_by_col', 'message': 'Loss function Quadratic cannot be applied to categorical column 49'}, {'__meta': {'schema_version': 3, 'schema_name': 'ValidationMessageV3', 'schema_type': 'ValidationMessage'}, 'message_type': 'ERRR', 'field_name': 'loss_by_col', 'message': 'Loss function Quadratic cannot be applied to categorical column 52'}, {'__meta': {'schema_version': 3, 'schema_name': 'ValidationMessageV3', 'schema_type': 'ValidationMessage'}, 'message_type': 'ERRR', 'field_name': 'loss_by_col', 'message': 'Loss function Quadratic cannot be applied to categorical column 59'}, {'__meta': {'schema_version': 3, 'schema_name': 'ValidationMessageV3', 'schema_type': 'ValidationMessage'}, 'message_type': 'ERRR', 'field_name': 'loss_by_col', 'message': 'Loss function Quadratic cannot be applied to categorical column 62'}, {'__meta': {'schema_version': 3, 'schema_name': 'ValidationMessageV3', 'schema_type': 'ValidationMessage'}, 'message_type': 'ERRR', 'field_name': 'loss_by_col', 'message': 'Loss function Quadratic cannot be applied to categorical column 67'}, {'__meta': {'schema_version': 3, 'schema_name': 'ValidationMessageV3', 'schema_type': 'ValidationMessage'}, 'message_type': 'ERRR', 'field_name': 'loss_by_col', 'message': 'Loss function Quadratic cannot be applied to categorical column 70'}, {'__meta': {'schema_version': 3, 'schema_name': 'ValidationMessageV3', 'schema_type': 'ValidationMessage'}, 'message_type': 'ERRR', 'field_name': 'loss_by_col', 'message': 'Loss function Quadratic cannot be applied to categorical column 75'}, {'__meta': {'schema_version': 3, 'schema_name': 'ValidationMessageV3', 'schema_type': 'ValidationMessage'}, 'message_type': 'ERRR', 'field_name': 'loss_by_col', 'message': 'Loss function Quadratic cannot be applied to categorical column 76'}, {'__meta': {'schema_version': 3, 'schema_name': 'ValidationMessageV3', 'schema_type': 'ValidationMessage'}, 'message_type': 'ERRR', 'field_name': 'loss_by_col', 'message': 'Loss function Quadratic cannot be applied to categorical column 77'}]\n    error_count = 36\n",
     "output_type": "error",
     "traceback": [
      "\u001b[0;31m---------------------------------------------------------------------------\u001b[0m",
      "\u001b[0;31mH2OResponseError\u001b[0m                          Traceback (most recent call last)",
      "\u001b[0;32m<ipython-input-112-f1a937f486f3>\u001b[0m in \u001b[0;36m<module>\u001b[0;34m()\u001b[0m\n\u001b[0;32m----> 1\u001b[0;31m \u001b[0mglrmodel_3\u001b[0m\u001b[0;34m.\u001b[0m\u001b[0mtrain\u001b[0m\u001b[0;34m(\u001b[0m\u001b[0mtraining_frame\u001b[0m\u001b[0;34m=\u001b[0m\u001b[0mkhous_null_h2\u001b[0m\u001b[0;34m)\u001b[0m\u001b[0;34m\u001b[0m\u001b[0m\n\u001b[0m",
      "\u001b[0;32m/usr/local/lib/python3.6/site-packages/h2o/estimators/estimator_base.py\u001b[0m in \u001b[0;36mtrain\u001b[0;34m(self, x, y, training_frame, offset_column, fold_column, weights_column, validation_frame, max_runtime_secs, ignored_columns, model_id, verbose)\u001b[0m\n\u001b[1;32m    222\u001b[0m         \u001b[0mrest_ver\u001b[0m \u001b[0;34m=\u001b[0m \u001b[0mparms\u001b[0m\u001b[0;34m.\u001b[0m\u001b[0mpop\u001b[0m\u001b[0;34m(\u001b[0m\u001b[0;34m\"_rest_version\"\u001b[0m\u001b[0;34m)\u001b[0m \u001b[0;32mif\u001b[0m \u001b[0;34m\"_rest_version\"\u001b[0m \u001b[0;32min\u001b[0m \u001b[0mparms\u001b[0m \u001b[0;32melse\u001b[0m \u001b[0;36m3\u001b[0m\u001b[0;34m\u001b[0m\u001b[0m\n\u001b[1;32m    223\u001b[0m \u001b[0;34m\u001b[0m\u001b[0m\n\u001b[0;32m--> 224\u001b[0;31m         \u001b[0mmodel_builder_json\u001b[0m \u001b[0;34m=\u001b[0m \u001b[0mh2o\u001b[0m\u001b[0;34m.\u001b[0m\u001b[0mapi\u001b[0m\u001b[0;34m(\u001b[0m\u001b[0;34m\"POST /%d/ModelBuilders/%s\"\u001b[0m \u001b[0;34m%\u001b[0m \u001b[0;34m(\u001b[0m\u001b[0mrest_ver\u001b[0m\u001b[0;34m,\u001b[0m \u001b[0mself\u001b[0m\u001b[0;34m.\u001b[0m\u001b[0malgo\u001b[0m\u001b[0;34m)\u001b[0m\u001b[0;34m,\u001b[0m \u001b[0mdata\u001b[0m\u001b[0;34m=\u001b[0m\u001b[0mparms\u001b[0m\u001b[0;34m)\u001b[0m\u001b[0;34m\u001b[0m\u001b[0m\n\u001b[0m\u001b[1;32m    225\u001b[0m         \u001b[0mmodel\u001b[0m \u001b[0;34m=\u001b[0m \u001b[0mH2OJob\u001b[0m\u001b[0;34m(\u001b[0m\u001b[0mmodel_builder_json\u001b[0m\u001b[0;34m,\u001b[0m \u001b[0mjob_type\u001b[0m\u001b[0;34m=\u001b[0m\u001b[0;34m(\u001b[0m\u001b[0mself\u001b[0m\u001b[0;34m.\u001b[0m\u001b[0malgo\u001b[0m \u001b[0;34m+\u001b[0m \u001b[0;34m\" Model Build\"\u001b[0m\u001b[0;34m)\u001b[0m\u001b[0;34m)\u001b[0m\u001b[0;34m\u001b[0m\u001b[0m\n\u001b[1;32m    226\u001b[0m \u001b[0;34m\u001b[0m\u001b[0m\n",
      "\u001b[0;32m/usr/local/lib/python3.6/site-packages/h2o/h2o.py\u001b[0m in \u001b[0;36mapi\u001b[0;34m(endpoint, data, json, filename, save_to)\u001b[0m\n\u001b[1;32m    101\u001b[0m     \u001b[0;31m# type checks are performed in H2OConnection class\u001b[0m\u001b[0;34m\u001b[0m\u001b[0;34m\u001b[0m\u001b[0m\n\u001b[1;32m    102\u001b[0m     \u001b[0m_check_connection\u001b[0m\u001b[0;34m(\u001b[0m\u001b[0;34m)\u001b[0m\u001b[0;34m\u001b[0m\u001b[0m\n\u001b[0;32m--> 103\u001b[0;31m     \u001b[0;32mreturn\u001b[0m \u001b[0mh2oconn\u001b[0m\u001b[0;34m.\u001b[0m\u001b[0mrequest\u001b[0m\u001b[0;34m(\u001b[0m\u001b[0mendpoint\u001b[0m\u001b[0;34m,\u001b[0m \u001b[0mdata\u001b[0m\u001b[0;34m=\u001b[0m\u001b[0mdata\u001b[0m\u001b[0;34m,\u001b[0m \u001b[0mjson\u001b[0m\u001b[0;34m=\u001b[0m\u001b[0mjson\u001b[0m\u001b[0;34m,\u001b[0m \u001b[0mfilename\u001b[0m\u001b[0;34m=\u001b[0m\u001b[0mfilename\u001b[0m\u001b[0;34m,\u001b[0m \u001b[0msave_to\u001b[0m\u001b[0;34m=\u001b[0m\u001b[0msave_to\u001b[0m\u001b[0;34m)\u001b[0m\u001b[0;34m\u001b[0m\u001b[0m\n\u001b[0m\u001b[1;32m    104\u001b[0m \u001b[0;34m\u001b[0m\u001b[0m\n\u001b[1;32m    105\u001b[0m \u001b[0;34m\u001b[0m\u001b[0m\n",
      "\u001b[0;32m/usr/local/lib/python3.6/site-packages/h2o/backend/connection.py\u001b[0m in \u001b[0;36mrequest\u001b[0;34m(self, endpoint, data, json, filename, save_to)\u001b[0m\n\u001b[1;32m    400\u001b[0m                                     auth=self._auth, verify=self._verify_ssl_cert, proxies=self._proxies)\n\u001b[1;32m    401\u001b[0m             \u001b[0mself\u001b[0m\u001b[0;34m.\u001b[0m\u001b[0m_log_end_transaction\u001b[0m\u001b[0;34m(\u001b[0m\u001b[0mstart_time\u001b[0m\u001b[0;34m,\u001b[0m \u001b[0mresp\u001b[0m\u001b[0;34m)\u001b[0m\u001b[0;34m\u001b[0m\u001b[0m\n\u001b[0;32m--> 402\u001b[0;31m             \u001b[0;32mreturn\u001b[0m \u001b[0mself\u001b[0m\u001b[0;34m.\u001b[0m\u001b[0m_process_response\u001b[0m\u001b[0;34m(\u001b[0m\u001b[0mresp\u001b[0m\u001b[0;34m,\u001b[0m \u001b[0msave_to\u001b[0m\u001b[0;34m)\u001b[0m\u001b[0;34m\u001b[0m\u001b[0m\n\u001b[0m\u001b[1;32m    403\u001b[0m \u001b[0;34m\u001b[0m\u001b[0m\n\u001b[1;32m    404\u001b[0m         \u001b[0;32mexcept\u001b[0m \u001b[0;34m(\u001b[0m\u001b[0mrequests\u001b[0m\u001b[0;34m.\u001b[0m\u001b[0mexceptions\u001b[0m\u001b[0;34m.\u001b[0m\u001b[0mConnectionError\u001b[0m\u001b[0;34m,\u001b[0m \u001b[0mrequests\u001b[0m\u001b[0;34m.\u001b[0m\u001b[0mexceptions\u001b[0m\u001b[0;34m.\u001b[0m\u001b[0mHTTPError\u001b[0m\u001b[0;34m)\u001b[0m \u001b[0;32mas\u001b[0m \u001b[0me\u001b[0m\u001b[0;34m:\u001b[0m\u001b[0;34m\u001b[0m\u001b[0m\n",
      "\u001b[0;32m/usr/local/lib/python3.6/site-packages/h2o/backend/connection.py\u001b[0m in \u001b[0;36m_process_response\u001b[0;34m(response, save_to)\u001b[0m\n\u001b[1;32m    723\u001b[0m         \u001b[0;31m# Client errors (400 = \"Bad Request\", 404 = \"Not Found\", 412 = \"Precondition Failed\")\u001b[0m\u001b[0;34m\u001b[0m\u001b[0;34m\u001b[0m\u001b[0m\n\u001b[1;32m    724\u001b[0m         \u001b[0;32mif\u001b[0m \u001b[0mstatus_code\u001b[0m \u001b[0;32min\u001b[0m \u001b[0;34m{\u001b[0m\u001b[0;36m400\u001b[0m\u001b[0;34m,\u001b[0m \u001b[0;36m404\u001b[0m\u001b[0;34m,\u001b[0m \u001b[0;36m412\u001b[0m\u001b[0;34m}\u001b[0m \u001b[0;32mand\u001b[0m \u001b[0misinstance\u001b[0m\u001b[0;34m(\u001b[0m\u001b[0mdata\u001b[0m\u001b[0;34m,\u001b[0m \u001b[0;34m(\u001b[0m\u001b[0mH2OErrorV3\u001b[0m\u001b[0;34m,\u001b[0m \u001b[0mH2OModelBuilderErrorV3\u001b[0m\u001b[0;34m)\u001b[0m\u001b[0;34m)\u001b[0m\u001b[0;34m:\u001b[0m\u001b[0;34m\u001b[0m\u001b[0m\n\u001b[0;32m--> 725\u001b[0;31m             \u001b[0;32mraise\u001b[0m \u001b[0mH2OResponseError\u001b[0m\u001b[0;34m(\u001b[0m\u001b[0mdata\u001b[0m\u001b[0;34m)\u001b[0m\u001b[0;34m\u001b[0m\u001b[0m\n\u001b[0m\u001b[1;32m    726\u001b[0m \u001b[0;34m\u001b[0m\u001b[0m\n\u001b[1;32m    727\u001b[0m         \u001b[0;31m# Server errors (notably 500 = \"Server Error\")\u001b[0m\u001b[0;34m\u001b[0m\u001b[0;34m\u001b[0m\u001b[0m\n",
      "\u001b[0;31mH2OResponseError\u001b[0m: ModelBuilderErrorV3  (water.exceptions.H2OModelBuilderIllegalArgumentException):\n    timestamp = 1530645727323\n    error_url = '/3/ModelBuilders/glrm'\n    msg = 'Illegal argument(s) for GLRM model: GLRM_model_python_1530645406753_12.  Details: ERRR on field: _loss_by_col: Loss function Quadratic cannot be applied to categorical column 0\\nERRR on field: _loss_by_col: Loss function Quadratic cannot be applied to categorical column 1\\nERRR on field: _loss_by_col: Loss function Quadratic cannot be applied to categorical column 3\\nERRR on field: _loss_by_col: Loss function Quadratic cannot be applied to categorical column 19\\nERRR on field: _loss_by_col: Loss function Quadratic cannot be applied to categorical column 20\\nERRR on field: _loss_by_col: Loss function Quadratic cannot be applied to categorical column 26\\nERRR on field: _loss_by_col: Loss function Quadratic cannot be applied to categorical column 38\\nERRR on field: _loss_by_col: Loss function Quadratic cannot be applied to categorical column 45\\nERRR on field: _loss_by_col: Loss function Quadratic cannot be applied to categorical column 46\\nERRR on field: _loss_by_col: Loss function Quadratic cannot be applied to categorical column 49\\nERRR on field: _loss_by_col: Loss function Quadratic cannot be applied to categorical column 52\\nERRR on field: _loss_by_col: Loss function Quadratic cannot be applied to categorical column 59\\nERRR on field: _loss_by_col: Loss function Quadratic cannot be applied to categorical column 62\\nERRR on field: _loss_by_col: Loss function Quadratic cannot be applied to categorical column 67\\nERRR on field: _loss_by_col: Loss function Quadratic cannot be applied to categorical column 70\\nERRR on field: _loss_by_col: Loss function Quadratic cannot be applied to categorical column 75\\nERRR on field: _loss_by_col: Loss function Quadratic cannot be applied to categorical column 76\\nERRR on field: _loss_by_col: Loss function Quadratic cannot be applied to categorical column 77'\n    dev_msg = 'Illegal argument(s) for GLRM model: GLRM_model_python_1530645406753_12.  Details: ERRR on field: _loss_by_col: Loss function Quadratic cannot be applied to categorical column 0\\nERRR on field: _loss_by_col: Loss function Quadratic cannot be applied to categorical column 1\\nERRR on field: _loss_by_col: Loss function Quadratic cannot be applied to categorical column 3\\nERRR on field: _loss_by_col: Loss function Quadratic cannot be applied to categorical column 19\\nERRR on field: _loss_by_col: Loss function Quadratic cannot be applied to categorical column 20\\nERRR on field: _loss_by_col: Loss function Quadratic cannot be applied to categorical column 26\\nERRR on field: _loss_by_col: Loss function Quadratic cannot be applied to categorical column 38\\nERRR on field: _loss_by_col: Loss function Quadratic cannot be applied to categorical column 45\\nERRR on field: _loss_by_col: Loss function Quadratic cannot be applied to categorical column 46\\nERRR on field: _loss_by_col: Loss function Quadratic cannot be applied to categorical column 49\\nERRR on field: _loss_by_col: Loss function Quadratic cannot be applied to categorical column 52\\nERRR on field: _loss_by_col: Loss function Quadratic cannot be applied to categorical column 59\\nERRR on field: _loss_by_col: Loss function Quadratic cannot be applied to categorical column 62\\nERRR on field: _loss_by_col: Loss function Quadratic cannot be applied to categorical column 67\\nERRR on field: _loss_by_col: Loss function Quadratic cannot be applied to categorical column 70\\nERRR on field: _loss_by_col: Loss function Quadratic cannot be applied to categorical column 75\\nERRR on field: _loss_by_col: Loss function Quadratic cannot be applied to categorical column 76\\nERRR on field: _loss_by_col: Loss function Quadratic cannot be applied to categorical column 77'\n    http_status = 412\n    values = {'messages': [{'_log_level': 5, '_field_name': '_keep_cross_validation_predictions', '_message': 'Only for cross-validation.'}, {'_log_level': 5, '_field_name': '_keep_cross_validation_fold_assignment', '_message': 'Only for cross-validation.'}, {'_log_level': 5, '_field_name': '_fold_assignment', '_message': 'Only for cross-validation.'}, {'_log_level': 5, '_field_name': '_tweedie_power', '_message': 'Only for Tweedie Distribution.'}, {'_log_level': 5, '_field_name': '_response_column', '_message': 'Ignored for unsupervised methods.'}, {'_log_level': 5, '_field_name': '_balance_classes', '_message': 'Ignored for unsupervised methods.'}, {'_log_level': 5, '_field_name': '_class_sampling_factors', '_message': 'Ignored for unsupervised methods.'}, {'_log_level': 5, '_field_name': '_max_after_balance_size', '_message': 'Ignored for unsupervised methods.'}, {'_log_level': 5, '_field_name': '_max_confusion_matrix_size', '_message': 'Ignored for unsupervised methods.'}, {'_log_level': 1, '_field_name': '_loss_by_col', '_message': 'Loss function Quadratic cannot be applied to categorical column 0'}, {'_log_level': 1, '_field_name': '_loss_by_col', '_message': 'Loss function Quadratic cannot be applied to categorical column 1'}, {'_log_level': 1, '_field_name': '_loss_by_col', '_message': 'Loss function Quadratic cannot be applied to categorical column 3'}, {'_log_level': 1, '_field_name': '_loss_by_col', '_message': 'Loss function Quadratic cannot be applied to categorical column 19'}, {'_log_level': 1, '_field_name': '_loss_by_col', '_message': 'Loss function Quadratic cannot be applied to categorical column 20'}, {'_log_level': 1, '_field_name': '_loss_by_col', '_message': 'Loss function Quadratic cannot be applied to categorical column 26'}, {'_log_level': 1, '_field_name': '_loss_by_col', '_message': 'Loss function Quadratic cannot be applied to categorical column 38'}, {'_log_level': 1, '_field_name': '_loss_by_col', '_message': 'Loss function Quadratic cannot be applied to categorical column 45'}, {'_log_level': 1, '_field_name': '_loss_by_col', '_message': 'Loss function Quadratic cannot be applied to categorical column 46'}, {'_log_level': 1, '_field_name': '_loss_by_col', '_message': 'Loss function Quadratic cannot be applied to categorical column 49'}, {'_log_level': 1, '_field_name': '_loss_by_col', '_message': 'Loss function Quadratic cannot be applied to categorical column 52'}, {'_log_level': 1, '_field_name': '_loss_by_col', '_message': 'Loss function Quadratic cannot be applied to categorical column 59'}, {'_log_level': 1, '_field_name': '_loss_by_col', '_message': 'Loss function Quadratic cannot be applied to categorical column 62'}, {'_log_level': 1, '_field_name': '_loss_by_col', '_message': 'Loss function Quadratic cannot be applied to categorical column 67'}, {'_log_level': 1, '_field_name': '_loss_by_col', '_message': 'Loss function Quadratic cannot be applied to categorical column 70'}, {'_log_level': 1, '_field_name': '_loss_by_col', '_message': 'Loss function Quadratic cannot be applied to categorical column 75'}, {'_log_level': 1, '_field_name': '_loss_by_col', '_message': 'Loss function Quadratic cannot be applied to categorical column 76'}, {'_log_level': 1, '_field_name': '_loss_by_col', '_message': 'Loss function Quadratic cannot be applied to categorical column 77'}], 'algo': 'GLRM', 'parameters': {'_train': {'name': 'Key_Frame__upload_8d429ff92b784e9d8304bece0a49471b.hex', 'type': 'Key'}, '_valid': None, '_nfolds': 0, '_keep_cross_validation_predictions': False, '_keep_cross_validation_fold_assignment': False, '_parallelize_cross_validation': True, '_auto_rebalance': True, '_seed': -1, '_fold_assignment': 'AUTO', '_categorical_encoding': 'AUTO', '_max_categorical_levels': 10, '_distribution': 'AUTO', '_tweedie_power': 1.5, '_quantile_alpha': 0.5, '_huber_alpha': 0.9, '_ignored_columns': None, '_ignore_const_cols': True, '_weights_column': None, '_offset_column': None, '_fold_column': None, '_is_cv_model': False, '_score_each_iteration': False, '_max_runtime_secs': 0.0, '_stopping_rounds': 0, '_stopping_metric': 'AUTO', '_stopping_tolerance': 0.001, '_response_column': None, '_balance_classes': False, '_max_after_balance_size': 5.0, '_class_sampling_factors': None, '_max_confusion_matrix_size': 20, '_checkpoint': None, '_pretrained_autoencoder': None, '_custom_metric_func': None, '_transform': 'NONE', '_k': 10, '_init': 'PlusPlus', '_svd_method': 'Randomized', '_user_y': None, '_user_x': None, '_expand_user_y': True, '_loss': 'Quadratic', '_multi_loss': 'Categorical', '_period': 1, '_loss_by_col': ['Quadratic', 'Quadratic', 'Categorical', 'Quadratic', 'Quadratic', 'Categorical', 'Categorical', 'Categorical', 'Categorical', 'Categorical', 'Categorical', 'Categorical', 'Categorical', 'Categorical', 'Categorical', 'Categorical', 'Categorical', 'Quadratic', 'Quadratic', 'Quadratic', 'Quadratic', 'Categorical', 'Categorical', 'Categorical', 'Categorical', 'Categorical', 'Quadratic', 'Categorical', 'Categorical', 'Categorical', 'Categorical', 'Categorical', 'Categorical', 'Categorical', 'Quadratic', 'Categorical', 'Quadratic', 'Quadratic', 'Quadratic', 'Categorical', 'Categorical', 'Categorical', 'Categorical', 'Quadratic', 'Quadratic', 'Quadratic', 'Quadratic', 'Quadratic', 'Quadratic', 'Quadratic', 'Quadratic', 'Quadratic', 'Quadratic', 'Categorical', 'Quadratic', 'Categorical', 'Quadratic', 'Categorical', 'Categorical', 'Quadratic', 'Categorical', 'Quadratic', 'Quadratic', 'Categorical', 'Categorical', 'Categorical', 'Quadratic', 'Quadratic', 'Quadratic', 'Quadratic', 'Quadratic', 'Quadratic', 'Categorical', 'Categorical', 'Categorical', 'Quadratic', 'Quadratic', 'Quadratic', 'Categorical', 'Categorical', 'Quadratic'], '_loss_by_col_idx': None, '_regularization_x': 'None', '_regularization_y': 'None', '_gamma_x': 0.0, '_gamma_y': 0.0, '_max_iterations': 100, '_max_updates': 2000, '_init_step_size': 1.0, '_min_step_size': 0.0001, '_representation_name': None, '_recover_svd': False, '_impute_original': True, '_verbose': True}, 'error_count': 36}\n    exception_msg = 'Illegal argument(s) for GLRM model: GLRM_model_python_1530645406753_12.  Details: ERRR on field: _loss_by_col: Loss function Quadratic cannot be applied to categorical column 0\\nERRR on field: _loss_by_col: Loss function Quadratic cannot be applied to categorical column 1\\nERRR on field: _loss_by_col: Loss function Quadratic cannot be applied to categorical column 3\\nERRR on field: _loss_by_col: Loss function Quadratic cannot be applied to categorical column 19\\nERRR on field: _loss_by_col: Loss function Quadratic cannot be applied to categorical column 20\\nERRR on field: _loss_by_col: Loss function Quadratic cannot be applied to categorical column 26\\nERRR on field: _loss_by_col: Loss function Quadratic cannot be applied to categorical column 38\\nERRR on field: _loss_by_col: Loss function Quadratic cannot be applied to categorical column 45\\nERRR on field: _loss_by_col: Loss function Quadratic cannot be applied to categorical column 46\\nERRR on field: _loss_by_col: Loss function Quadratic cannot be applied to categorical column 49\\nERRR on field: _loss_by_col: Loss function Quadratic cannot be applied to categorical column 52\\nERRR on field: _loss_by_col: Loss function Quadratic cannot be applied to categorical column 59\\nERRR on field: _loss_by_col: Loss function Quadratic cannot be applied to categorical column 62\\nERRR on field: _loss_by_col: Loss function Quadratic cannot be applied to categorical column 67\\nERRR on field: _loss_by_col: Loss function Quadratic cannot be applied to categorical column 70\\nERRR on field: _loss_by_col: Loss function Quadratic cannot be applied to categorical column 75\\nERRR on field: _loss_by_col: Loss function Quadratic cannot be applied to categorical column 76\\nERRR on field: _loss_by_col: Loss function Quadratic cannot be applied to categorical column 77'\n    stacktrace =\n        water.exceptions.H2OModelBuilderIllegalArgumentException: Illegal argument(s) for GLRM model: GLRM_model_python_1530645406753_12.  Details: ERRR on field: _loss_by_col: Loss function Quadratic cannot be applied to categorical column 0\nERRR on field: _loss_by_col: Loss function Quadratic cannot be applied to categorical column 1\nERRR on field: _loss_by_col: Loss function Quadratic cannot be applied to categorical column 3\nERRR on field: _loss_by_col: Loss function Quadratic cannot be applied to categorical column 19\nERRR on field: _loss_by_col: Loss function Quadratic cannot be applied to categorical column 20\nERRR on field: _loss_by_col: Loss function Quadratic cannot be applied to categorical column 26\nERRR on field: _loss_by_col: Loss function Quadratic cannot be applied to categorical column 38\nERRR on field: _loss_by_col: Loss function Quadratic cannot be applied to categorical column 45\nERRR on field: _loss_by_col: Loss function Quadratic cannot be applied to categorical column 46\nERRR on field: _loss_by_col: Loss function Quadratic cannot be applied to categorical column 49\nERRR on field: _loss_by_col: Loss function Quadratic cannot be applied to categorical column 52\nERRR on field: _loss_by_col: Loss function Quadratic cannot be applied to categorical column 59\nERRR on field: _loss_by_col: Loss function Quadratic cannot be applied to categorical column 62\nERRR on field: _loss_by_col: Loss function Quadratic cannot be applied to categorical column 67\nERRR on field: _loss_by_col: Loss function Quadratic cannot be applied to categorical column 70\nERRR on field: _loss_by_col: Loss function Quadratic cannot be applied to categorical column 75\nERRR on field: _loss_by_col: Loss function Quadratic cannot be applied to categorical column 76\nERRR on field: _loss_by_col: Loss function Quadratic cannot be applied to categorical column 77\n        water.exceptions.H2OModelBuilderIllegalArgumentException.makeFromBuilder(H2OModelBuilderIllegalArgumentException.java:20)\n        hex.ModelBuilder.trainModel(ModelBuilder.java:239)\n        water.api.ModelBuilderHandler.handle(ModelBuilderHandler.java:64)\n        water.api.ModelBuilderHandler.handle(ModelBuilderHandler.java:17)\n        water.api.RequestServer.serve(RequestServer.java:451)\n        water.api.RequestServer.doGeneric(RequestServer.java:296)\n        water.api.RequestServer.doPost(RequestServer.java:222)\n        javax.servlet.http.HttpServlet.service(HttpServlet.java:755)\n        javax.servlet.http.HttpServlet.service(HttpServlet.java:848)\n        org.eclipse.jetty.servlet.ServletHolder.handle(ServletHolder.java:684)\n        org.eclipse.jetty.servlet.ServletHandler.doHandle(ServletHandler.java:503)\n        org.eclipse.jetty.server.handler.ContextHandler.doHandle(ContextHandler.java:1086)\n        org.eclipse.jetty.servlet.ServletHandler.doScope(ServletHandler.java:429)\n        org.eclipse.jetty.server.handler.ContextHandler.doScope(ContextHandler.java:1020)\n        org.eclipse.jetty.server.handler.ScopedHandler.handle(ScopedHandler.java:135)\n        org.eclipse.jetty.server.handler.HandlerCollection.handle(HandlerCollection.java:154)\n        org.eclipse.jetty.server.handler.HandlerWrapper.handle(HandlerWrapper.java:116)\n        water.JettyHTTPD$LoginHandler.handle(JettyHTTPD.java:197)\n        org.eclipse.jetty.server.handler.HandlerCollection.handle(HandlerCollection.java:154)\n        org.eclipse.jetty.server.handler.HandlerWrapper.handle(HandlerWrapper.java:116)\n        org.eclipse.jetty.server.Server.handle(Server.java:370)\n        org.eclipse.jetty.server.AbstractHttpConnection.handleRequest(AbstractHttpConnection.java:494)\n        org.eclipse.jetty.server.BlockingHttpConnection.handleRequest(BlockingHttpConnection.java:53)\n        org.eclipse.jetty.server.AbstractHttpConnection.content(AbstractHttpConnection.java:982)\n        org.eclipse.jetty.server.AbstractHttpConnection$RequestHandler.content(AbstractHttpConnection.java:1043)\n        org.eclipse.jetty.http.HttpParser.parseNext(HttpParser.java:865)\n        org.eclipse.jetty.http.HttpParser.parseAvailable(HttpParser.java:240)\n        org.eclipse.jetty.server.BlockingHttpConnection.handle(BlockingHttpConnection.java:72)\n        org.eclipse.jetty.server.bio.SocketConnector$ConnectorEndPoint.run(SocketConnector.java:264)\n        org.eclipse.jetty.util.thread.QueuedThreadPool.runJob(QueuedThreadPool.java:608)\n        org.eclipse.jetty.util.thread.QueuedThreadPool$3.run(QueuedThreadPool.java:543)\n        java.base/java.lang.Thread.run(Thread.java:844)\n    parameters = {'__meta': {'schema_version': 3, 'schema_name': 'GLRMParametersV3', 'schema_type': 'GLRMParameters'}, 'model_id': None, 'training_frame': {'__meta': {'schema_version': 3, 'schema_name': 'FrameKeyV3', 'schema_type': 'Key<Frame>'}, 'name': 'Key_Frame__upload_8d429ff92b784e9d8304bece0a49471b.hex', 'type': 'Key<Frame>', 'URL': '/3/Frames/Key_Frame__upload_8d429ff92b784e9d8304bece0a49471b.hex'}, 'validation_frame': None, 'nfolds': 0, 'keep_cross_validation_predictions': False, 'keep_cross_validation_fold_assignment': False, 'parallelize_cross_validation': True, 'distribution': 'AUTO', 'tweedie_power': 1.5, 'quantile_alpha': 0.5, 'huber_alpha': 0.9, 'response_column': None, 'weights_column': None, 'offset_column': None, 'fold_column': None, 'fold_assignment': 'AUTO', 'categorical_encoding': 'AUTO', 'max_categorical_levels': 10, 'ignored_columns': None, 'ignore_const_cols': True, 'score_each_iteration': False, 'checkpoint': None, 'stopping_rounds': 0, 'max_runtime_secs': 0.0, 'stopping_metric': 'AUTO', 'stopping_tolerance': 0.001, 'custom_metric_func': None, 'transform': 'NONE', 'k': 10, 'loss': 'Quadratic', 'multi_loss': 'Categorical', 'loss_by_col': ['Quadratic', 'Quadratic', 'Categorical', 'Quadratic', 'Quadratic', 'Categorical', 'Categorical', 'Categorical', 'Categorical', 'Categorical', 'Categorical', 'Categorical', 'Categorical', 'Categorical', 'Categorical', 'Categorical', 'Categorical', 'Quadratic', 'Quadratic', 'Quadratic', 'Quadratic', 'Categorical', 'Categorical', 'Categorical', 'Categorical', 'Categorical', 'Quadratic', 'Categorical', 'Categorical', 'Categorical', 'Categorical', 'Categorical', 'Categorical', 'Categorical', 'Quadratic', 'Categorical', 'Quadratic', 'Quadratic', 'Quadratic', 'Categorical', 'Categorical', 'Categorical', 'Categorical', 'Quadratic', 'Quadratic', 'Quadratic', 'Quadratic', 'Quadratic', 'Quadratic', 'Quadratic', 'Quadratic', 'Quadratic', 'Quadratic', 'Categorical', 'Quadratic', 'Categorical', 'Quadratic', 'Categorical', 'Categorical', 'Quadratic', 'Categorical', 'Quadratic', 'Quadratic', 'Categorical', 'Categorical', 'Categorical', 'Quadratic', 'Quadratic', 'Quadratic', 'Quadratic', 'Quadratic', 'Quadratic', 'Categorical', 'Categorical', 'Categorical', 'Quadratic', 'Quadratic', 'Quadratic', 'Categorical', 'Categorical', 'Quadratic'], 'loss_by_col_idx': None, 'period': 1, 'regularization_x': 'None', 'regularization_y': 'None', 'gamma_x': 0.0, 'gamma_y': 0.0, 'max_iterations': 100, 'max_updates': 2000, 'init_step_size': 1.0, 'min_step_size': 0.0001, 'seed': -1, 'init': 'PlusPlus', 'svd_method': 'Randomized', 'user_y': None, 'user_x': None, 'loading_name': None, 'expand_user_y': True, 'impute_original': True, 'recover_svd': False}\n    messages = [{'__meta': {'schema_version': 3, 'schema_name': 'ValidationMessageV3', 'schema_type': 'ValidationMessage'}, 'message_type': 'TRACE', 'field_name': 'keep_cross_validation_predictions', 'message': 'Only for cross-validation.'}, {'__meta': {'schema_version': 3, 'schema_name': 'ValidationMessageV3', 'schema_type': 'ValidationMessage'}, 'message_type': 'TRACE', 'field_name': 'keep_cross_validation_fold_assignment', 'message': 'Only for cross-validation.'}, {'__meta': {'schema_version': 3, 'schema_name': 'ValidationMessageV3', 'schema_type': 'ValidationMessage'}, 'message_type': 'TRACE', 'field_name': 'fold_assignment', 'message': 'Only for cross-validation.'}, {'__meta': {'schema_version': 3, 'schema_name': 'ValidationMessageV3', 'schema_type': 'ValidationMessage'}, 'message_type': 'TRACE', 'field_name': 'tweedie_power', 'message': 'Only for Tweedie Distribution.'}, {'__meta': {'schema_version': 3, 'schema_name': 'ValidationMessageV3', 'schema_type': 'ValidationMessage'}, 'message_type': 'TRACE', 'field_name': 'response_column', 'message': 'Ignored for unsupervised methods.'}, {'__meta': {'schema_version': 3, 'schema_name': 'ValidationMessageV3', 'schema_type': 'ValidationMessage'}, 'message_type': 'TRACE', 'field_name': 'balance_classes', 'message': 'Ignored for unsupervised methods.'}, {'__meta': {'schema_version': 3, 'schema_name': 'ValidationMessageV3', 'schema_type': 'ValidationMessage'}, 'message_type': 'TRACE', 'field_name': 'class_sampling_factors', 'message': 'Ignored for unsupervised methods.'}, {'__meta': {'schema_version': 3, 'schema_name': 'ValidationMessageV3', 'schema_type': 'ValidationMessage'}, 'message_type': 'TRACE', 'field_name': 'max_after_balance_size', 'message': 'Ignored for unsupervised methods.'}, {'__meta': {'schema_version': 3, 'schema_name': 'ValidationMessageV3', 'schema_type': 'ValidationMessage'}, 'message_type': 'TRACE', 'field_name': 'max_confusion_matrix_size', 'message': 'Ignored for unsupervised methods.'}, {'__meta': {'schema_version': 3, 'schema_name': 'ValidationMessageV3', 'schema_type': 'ValidationMessage'}, 'message_type': 'ERRR', 'field_name': 'loss_by_col', 'message': 'Loss function Quadratic cannot be applied to categorical column 0'}, {'__meta': {'schema_version': 3, 'schema_name': 'ValidationMessageV3', 'schema_type': 'ValidationMessage'}, 'message_type': 'ERRR', 'field_name': 'loss_by_col', 'message': 'Loss function Quadratic cannot be applied to categorical column 1'}, {'__meta': {'schema_version': 3, 'schema_name': 'ValidationMessageV3', 'schema_type': 'ValidationMessage'}, 'message_type': 'ERRR', 'field_name': 'loss_by_col', 'message': 'Loss function Quadratic cannot be applied to categorical column 3'}, {'__meta': {'schema_version': 3, 'schema_name': 'ValidationMessageV3', 'schema_type': 'ValidationMessage'}, 'message_type': 'ERRR', 'field_name': 'loss_by_col', 'message': 'Loss function Quadratic cannot be applied to categorical column 19'}, {'__meta': {'schema_version': 3, 'schema_name': 'ValidationMessageV3', 'schema_type': 'ValidationMessage'}, 'message_type': 'ERRR', 'field_name': 'loss_by_col', 'message': 'Loss function Quadratic cannot be applied to categorical column 20'}, {'__meta': {'schema_version': 3, 'schema_name': 'ValidationMessageV3', 'schema_type': 'ValidationMessage'}, 'message_type': 'ERRR', 'field_name': 'loss_by_col', 'message': 'Loss function Quadratic cannot be applied to categorical column 26'}, {'__meta': {'schema_version': 3, 'schema_name': 'ValidationMessageV3', 'schema_type': 'ValidationMessage'}, 'message_type': 'ERRR', 'field_name': 'loss_by_col', 'message': 'Loss function Quadratic cannot be applied to categorical column 38'}, {'__meta': {'schema_version': 3, 'schema_name': 'ValidationMessageV3', 'schema_type': 'ValidationMessage'}, 'message_type': 'ERRR', 'field_name': 'loss_by_col', 'message': 'Loss function Quadratic cannot be applied to categorical column 45'}, {'__meta': {'schema_version': 3, 'schema_name': 'ValidationMessageV3', 'schema_type': 'ValidationMessage'}, 'message_type': 'ERRR', 'field_name': 'loss_by_col', 'message': 'Loss function Quadratic cannot be applied to categorical column 46'}, {'__meta': {'schema_version': 3, 'schema_name': 'ValidationMessageV3', 'schema_type': 'ValidationMessage'}, 'message_type': 'ERRR', 'field_name': 'loss_by_col', 'message': 'Loss function Quadratic cannot be applied to categorical column 49'}, {'__meta': {'schema_version': 3, 'schema_name': 'ValidationMessageV3', 'schema_type': 'ValidationMessage'}, 'message_type': 'ERRR', 'field_name': 'loss_by_col', 'message': 'Loss function Quadratic cannot be applied to categorical column 52'}, {'__meta': {'schema_version': 3, 'schema_name': 'ValidationMessageV3', 'schema_type': 'ValidationMessage'}, 'message_type': 'ERRR', 'field_name': 'loss_by_col', 'message': 'Loss function Quadratic cannot be applied to categorical column 59'}, {'__meta': {'schema_version': 3, 'schema_name': 'ValidationMessageV3', 'schema_type': 'ValidationMessage'}, 'message_type': 'ERRR', 'field_name': 'loss_by_col', 'message': 'Loss function Quadratic cannot be applied to categorical column 62'}, {'__meta': {'schema_version': 3, 'schema_name': 'ValidationMessageV3', 'schema_type': 'ValidationMessage'}, 'message_type': 'ERRR', 'field_name': 'loss_by_col', 'message': 'Loss function Quadratic cannot be applied to categorical column 67'}, {'__meta': {'schema_version': 3, 'schema_name': 'ValidationMessageV3', 'schema_type': 'ValidationMessage'}, 'message_type': 'ERRR', 'field_name': 'loss_by_col', 'message': 'Loss function Quadratic cannot be applied to categorical column 70'}, {'__meta': {'schema_version': 3, 'schema_name': 'ValidationMessageV3', 'schema_type': 'ValidationMessage'}, 'message_type': 'ERRR', 'field_name': 'loss_by_col', 'message': 'Loss function Quadratic cannot be applied to categorical column 75'}, {'__meta': {'schema_version': 3, 'schema_name': 'ValidationMessageV3', 'schema_type': 'ValidationMessage'}, 'message_type': 'ERRR', 'field_name': 'loss_by_col', 'message': 'Loss function Quadratic cannot be applied to categorical column 76'}, {'__meta': {'schema_version': 3, 'schema_name': 'ValidationMessageV3', 'schema_type': 'ValidationMessage'}, 'message_type': 'ERRR', 'field_name': 'loss_by_col', 'message': 'Loss function Quadratic cannot be applied to categorical column 77'}]\n    error_count = 36\n"
     ]
    }
   ],
   "source": [
    "glrmodel_3.train(training_frame=khous_null_h2)"
   ]
  },
  {
   "cell_type": "markdown",
   "metadata": {},
   "source": [
    "Strange: this throws a wrong-loss-for-column-type error when used on the same exact dataset, but with nulls.  It builds successfully if I don't pass in the specific loss functions for columns dictionary."
   ]
  },
  {
   "cell_type": "markdown",
   "metadata": {},
   "source": [
    "## Test and use model"
   ]
  },
  {
   "cell_type": "code",
   "execution_count": 97,
   "metadata": {
    "scrolled": true
   },
   "outputs": [
    {
     "data": {
      "text/html": [
       "<table>\n",
       "<thead>\n",
       "<tr><th style=\"text-align: right;\">      Id</th><th style=\"text-align: right;\">  MSSubClass</th><th>MSZoning  </th><th style=\"text-align: right;\">  LotFrontage</th><th style=\"text-align: right;\">  LotArea</th><th>Street  </th><th style=\"text-align: right;\">  Alley</th><th>LotShape  </th><th>LandContour  </th><th>Utilities  </th><th>LotConfig  </th><th>LandSlope  </th><th>Neighborhood  </th><th>Condition1  </th><th>Condition2  </th><th>BldgType  </th><th>HouseStyle  </th><th style=\"text-align: right;\">  OverallQual</th><th style=\"text-align: right;\">  OverallCond</th><th style=\"text-align: right;\">  YearBuilt</th><th style=\"text-align: right;\">  YearRemodAdd</th><th>RoofStyle  </th><th>RoofMatl  </th><th>Exterior1st  </th><th>Exterior2nd  </th><th>MasVnrType  </th><th style=\"text-align: right;\">  MasVnrArea</th><th>ExterQual  </th><th>ExterCond  </th><th>Foundation  </th><th>BsmtQual  </th><th>BsmtCond  </th><th>BsmtExposure  </th><th>BsmtFinType1  </th><th style=\"text-align: right;\">  BsmtFinSF1</th><th>BsmtFinType2  </th><th style=\"text-align: right;\">  BsmtFinSF2</th><th style=\"text-align: right;\">  BsmtUnfSF</th><th style=\"text-align: right;\">  TotalBsmtSF</th><th>Heating  </th><th>HeatingQC  </th><th>CentralAir  </th><th>Electrical  </th><th style=\"text-align: right;\">  1stFlrSF</th><th style=\"text-align: right;\">  2ndFlrSF</th><th style=\"text-align: right;\">  LowQualFinSF</th><th style=\"text-align: right;\">  GrLivArea</th><th style=\"text-align: right;\">  BsmtFullBath</th><th style=\"text-align: right;\">  BsmtHalfBath</th><th style=\"text-align: right;\">  FullBath</th><th style=\"text-align: right;\">  HalfBath</th><th style=\"text-align: right;\">  BedroomAbvGr</th><th style=\"text-align: right;\">  KitchenAbvGr</th><th>KitchenQual  </th><th style=\"text-align: right;\">  TotRmsAbvGrd</th><th>Functional  </th><th style=\"text-align: right;\">  Fireplaces</th><th>FireplaceQu  </th><th>GarageType  </th><th style=\"text-align: right;\">  GarageYrBlt</th><th>GarageFinish  </th><th style=\"text-align: right;\">  GarageCars</th><th style=\"text-align: right;\">  GarageArea</th><th>GarageQual  </th><th>GarageCond  </th><th>PavedDrive  </th><th style=\"text-align: right;\">  WoodDeckSF</th><th style=\"text-align: right;\">  OpenPorchSF</th><th style=\"text-align: right;\">  EnclosedPorch</th><th style=\"text-align: right;\">   3SsnPorch</th><th style=\"text-align: right;\">  ScreenPorch</th><th style=\"text-align: right;\">     PoolArea</th><th>PoolQC  </th><th style=\"text-align: right;\">  Fence</th><th>MiscFeature  </th><th style=\"text-align: right;\">  MiscVal</th><th style=\"text-align: right;\">  MoSold</th><th style=\"text-align: right;\">  YrSold</th><th>SaleType  </th><th>SaleCondition  </th><th style=\"text-align: right;\">  SalePrice</th></tr>\n",
       "</thead>\n",
       "<tbody>\n",
       "<tr><td style=\"text-align: right;\"> 685.98 </td><td style=\"text-align: right;\">     41.2626</td><td>RL        </td><td style=\"text-align: right;\">      86.6412</td><td style=\"text-align: right;\"> 13495.3 </td><td>Pave    </td><td style=\"text-align: right;\">    nan</td><td>IR1       </td><td>Lvl          </td><td>AllPub     </td><td>Inside     </td><td>Gtl        </td><td>NridgHt       </td><td>Norm        </td><td>Norm        </td><td>1Fam      </td><td>1Story      </td><td style=\"text-align: right;\">      8.13131</td><td style=\"text-align: right;\">      5.22727</td><td style=\"text-align: right;\">    1998.48</td><td style=\"text-align: right;\">       2001.81</td><td>Gable      </td><td>CompShg   </td><td>VinylSd      </td><td>VinylSd      </td><td>BrkFace     </td><td style=\"text-align: right;\">    336.958 </td><td>Gd         </td><td>TA         </td><td>PConc       </td><td>Gd        </td><td>TA        </td><td>No            </td><td>GLQ           </td><td style=\"text-align: right;\">     783    </td><td>Unf           </td><td style=\"text-align: right;\">     26.202 </td><td style=\"text-align: right;\">    823.808</td><td style=\"text-align: right;\">     1633.01 </td><td>GasA     </td><td>Ex         </td><td>Y           </td><td>SBrkr       </td><td style=\"text-align: right;\">  1663.53 </td><td style=\"text-align: right;\">  488.232 </td><td style=\"text-align: right;\">   1.77636e-15</td><td style=\"text-align: right;\">    2151.76</td><td style=\"text-align: right;\">     0.651515 </td><td style=\"text-align: right;\">   0.010101   </td><td style=\"text-align: right;\">   2.06061</td><td style=\"text-align: right;\">  0.510101</td><td style=\"text-align: right;\">       3.05556</td><td style=\"text-align: right;\">      1       </td><td>Gd           </td><td style=\"text-align: right;\">       8.09091</td><td>Typ         </td><td style=\"text-align: right;\">    1.12626 </td><td>Gd           </td><td>Attchd      </td><td style=\"text-align: right;\">      2000.02</td><td>Fin           </td><td style=\"text-align: right;\">     2.69192</td><td style=\"text-align: right;\">     743    </td><td>TA          </td><td>TA          </td><td>Y           </td><td style=\"text-align: right;\">    180.46  </td><td style=\"text-align: right;\">      88.6616</td><td style=\"text-align: right;\">       10.1616 </td><td style=\"text-align: right;\"> 2.38384    </td><td style=\"text-align: right;\"> 16.5556     </td><td style=\"text-align: right;\">  2.80303    </td><td>nan     </td><td style=\"text-align: right;\">    nan</td><td>nan          </td><td style=\"text-align: right;\"> 10.101  </td><td style=\"text-align: right;\"> 6.66667</td><td style=\"text-align: right;\"> 2007.78</td><td>WD        </td><td>Normal         </td><td style=\"text-align: right;\">     321946</td></tr>\n",
       "<tr><td style=\"text-align: right;\"> 401.75 </td><td style=\"text-align: right;\">     70     </td><td>RL        </td><td style=\"text-align: right;\">      90.0375</td><td style=\"text-align: right;\">163514   </td><td>Pave    </td><td style=\"text-align: right;\">    nan</td><td>IR2       </td><td>Low          </td><td>AllPub     </td><td>CulDSac    </td><td>Sev        </td><td>ClearCr       </td><td>Norm        </td><td>Norm        </td><td>1Fam      </td><td>1.5Fin      </td><td style=\"text-align: right;\">      6.25   </td><td style=\"text-align: right;\">      5.75   </td><td style=\"text-align: right;\">    1964.75</td><td style=\"text-align: right;\">       1984.5 </td><td>Gable      </td><td>CompShg   </td><td>Plywood      </td><td>Plywood      </td><td>None        </td><td style=\"text-align: right;\">    205.75  </td><td>TA         </td><td>TA         </td><td>CBlock      </td><td>Gd        </td><td>TA        </td><td>Gd            </td><td>ALQ           </td><td style=\"text-align: right;\">    1100.25 </td><td>Unf           </td><td style=\"text-align: right;\">    241.75  </td><td style=\"text-align: right;\">    338.5  </td><td style=\"text-align: right;\">     1680.5  </td><td>GasA     </td><td>TA         </td><td>Y           </td><td>SBrkr       </td><td style=\"text-align: right;\">  1730.75 </td><td style=\"text-align: right;\">  216.75  </td><td style=\"text-align: right;\">   0          </td><td style=\"text-align: right;\">    1947.5 </td><td style=\"text-align: right;\">     1.25     </td><td style=\"text-align: right;\">   0.25       </td><td style=\"text-align: right;\">   2      </td><td style=\"text-align: right;\">  0       </td><td style=\"text-align: right;\">       3      </td><td style=\"text-align: right;\">      1       </td><td>Gd           </td><td style=\"text-align: right;\">       6.75   </td><td>Typ         </td><td style=\"text-align: right;\">    2       </td><td>Gd           </td><td>Attchd      </td><td style=\"text-align: right;\">      1964.75</td><td>Fin           </td><td style=\"text-align: right;\">     2      </td><td style=\"text-align: right;\">     542.5  </td><td>TA          </td><td>TA          </td><td>Y           </td><td style=\"text-align: right;\">    262.5   </td><td style=\"text-align: right;\">      36.5   </td><td style=\"text-align: right;\">        0      </td><td style=\"text-align: right;\"> 0          </td><td style=\"text-align: right;\"> -1.77636e-15</td><td style=\"text-align: right;\">  0          </td><td>nan     </td><td style=\"text-align: right;\">    nan</td><td>Shed         </td><td style=\"text-align: right;\">300      </td><td style=\"text-align: right;\"> 6.5    </td><td style=\"text-align: right;\"> 2007.75</td><td>WD        </td><td>Normal         </td><td style=\"text-align: right;\">     295738</td></tr>\n",
       "<tr><td style=\"text-align: right;\"> 808.298</td><td style=\"text-align: right;\">     63.0124</td><td>RL        </td><td style=\"text-align: right;\">      69.0475</td><td style=\"text-align: right;\"> 11014.5 </td><td>Pave    </td><td style=\"text-align: right;\">    nan</td><td>Reg       </td><td>Lvl          </td><td>AllPub     </td><td>Inside     </td><td>Gtl        </td><td>Crawfor       </td><td>Norm        </td><td>Norm        </td><td>1Fam      </td><td>2Story      </td><td style=\"text-align: right;\">      6.06832</td><td style=\"text-align: right;\">      6.27329</td><td style=\"text-align: right;\">    1946.04</td><td style=\"text-align: right;\">       1975.6 </td><td>Gable      </td><td>CompShg   </td><td>Wd Sdng      </td><td>Wd Sdng      </td><td>None        </td><td style=\"text-align: right;\">     83.3851</td><td>TA         </td><td>TA         </td><td>CBlock      </td><td>TA        </td><td>TA        </td><td>No            </td><td>Unf           </td><td style=\"text-align: right;\">     251.28 </td><td>Unf           </td><td style=\"text-align: right;\">     48.236 </td><td style=\"text-align: right;\">    590.46 </td><td style=\"text-align: right;\">      889.975</td><td>GasA     </td><td>TA         </td><td>Y           </td><td>SBrkr       </td><td style=\"text-align: right;\">  1127.55 </td><td style=\"text-align: right;\">  721.304 </td><td style=\"text-align: right;\">   1.2236     </td><td style=\"text-align: right;\">    1850.08</td><td style=\"text-align: right;\">     0.186335 </td><td style=\"text-align: right;\">  -6.93889e-17</td><td style=\"text-align: right;\">   1.65839</td><td style=\"text-align: right;\">  0.639752</td><td style=\"text-align: right;\">       3.52795</td><td style=\"text-align: right;\">      1       </td><td>TA           </td><td style=\"text-align: right;\">       7.57764</td><td>Typ         </td><td style=\"text-align: right;\">    0.993789</td><td>Gd           </td><td>Attchd      </td><td style=\"text-align: right;\">      1957.54</td><td>Unf           </td><td style=\"text-align: right;\">     1.65217</td><td style=\"text-align: right;\">     421.416</td><td>TA          </td><td>TA          </td><td>Y           </td><td style=\"text-align: right;\">     81.8634</td><td style=\"text-align: right;\">      50.9006</td><td style=\"text-align: right;\">       40.9503 </td><td style=\"text-align: right;\"> 3.56522    </td><td style=\"text-align: right;\"> 39.8634     </td><td style=\"text-align: right;\">  7.80745    </td><td>nan     </td><td style=\"text-align: right;\">    nan</td><td>nan          </td><td style=\"text-align: right;\"> 45.3416 </td><td style=\"text-align: right;\"> 6.85093</td><td style=\"text-align: right;\"> 2007.66</td><td>WD        </td><td>Normal         </td><td style=\"text-align: right;\">     177573</td></tr>\n",
       "<tr><td style=\"text-align: right;\"> 732.146</td><td style=\"text-align: right;\">     41.3605</td><td>RL        </td><td style=\"text-align: right;\">      73.2582</td><td style=\"text-align: right;\"> 11194   </td><td>Pave    </td><td style=\"text-align: right;\">    nan</td><td>Reg       </td><td>Lvl          </td><td>AllPub     </td><td>Inside     </td><td>Gtl        </td><td>NAmes         </td><td>Norm        </td><td>Norm        </td><td>1Fam      </td><td>1Story      </td><td style=\"text-align: right;\">      5.40136</td><td style=\"text-align: right;\">      5.84354</td><td style=\"text-align: right;\">    1967.43</td><td style=\"text-align: right;\">       1978.04</td><td>Gable      </td><td>CompShg   </td><td>HdBoard      </td><td>HdBoard      </td><td>None        </td><td style=\"text-align: right;\">     75.5102</td><td>TA         </td><td>TA         </td><td>CBlock      </td><td>TA        </td><td>TA        </td><td>No            </td><td>ALQ           </td><td style=\"text-align: right;\">     660.541</td><td>Unf           </td><td style=\"text-align: right;\">    117.224 </td><td style=\"text-align: right;\">    319.095</td><td style=\"text-align: right;\">     1096.86 </td><td>GasA     </td><td>TA         </td><td>Y           </td><td>SBrkr       </td><td style=\"text-align: right;\">  1178.79 </td><td style=\"text-align: right;\">   24.2993</td><td style=\"text-align: right;\">   0          </td><td style=\"text-align: right;\">    1203.09</td><td style=\"text-align: right;\">     0.789116 </td><td style=\"text-align: right;\">   6.93889e-18</td><td style=\"text-align: right;\">   1.17347</td><td style=\"text-align: right;\">  0.238095</td><td style=\"text-align: right;\">       2.65646</td><td style=\"text-align: right;\">      1.0102  </td><td>TA           </td><td style=\"text-align: right;\">       5.66327</td><td>Typ         </td><td style=\"text-align: right;\">    0.595238</td><td>nan          </td><td>Attchd      </td><td style=\"text-align: right;\">      1970.63</td><td>Unf           </td><td style=\"text-align: right;\">     1.65306</td><td style=\"text-align: right;\">     466.439</td><td>TA          </td><td>TA          </td><td>Y           </td><td style=\"text-align: right;\">    102.041 </td><td style=\"text-align: right;\">      30.483 </td><td style=\"text-align: right;\">       12.398  </td><td style=\"text-align: right;\"> 4.81973    </td><td style=\"text-align: right;\"> 23.9184     </td><td style=\"text-align: right;\">  4.16327    </td><td>nan     </td><td style=\"text-align: right;\">    nan</td><td>nan          </td><td style=\"text-align: right;\"> 85.5442 </td><td style=\"text-align: right;\"> 5.96939</td><td style=\"text-align: right;\"> 2008.05</td><td>WD        </td><td>Normal         </td><td style=\"text-align: right;\">     152158</td></tr>\n",
       "<tr><td style=\"text-align: right;\"> 721.656</td><td style=\"text-align: right;\">     50.9825</td><td>RL        </td><td style=\"text-align: right;\">      59.4228</td><td style=\"text-align: right;\">  7494.69</td><td>Pave    </td><td style=\"text-align: right;\">    nan</td><td>Reg       </td><td>Lvl          </td><td>AllPub     </td><td>Inside     </td><td>Gtl        </td><td>OldTown       </td><td>Norm        </td><td>Norm        </td><td>1Fam      </td><td>1Story      </td><td style=\"text-align: right;\">      4.82456</td><td style=\"text-align: right;\">      5.72281</td><td style=\"text-align: right;\">    1942.36</td><td style=\"text-align: right;\">       1968.73</td><td>Gable      </td><td>CompShg   </td><td>MetalSd      </td><td>MetalSd      </td><td>None        </td><td style=\"text-align: right;\">     23.7333</td><td>TA         </td><td>TA         </td><td>CBlock      </td><td>TA        </td><td>TA        </td><td>No            </td><td>Unf           </td><td style=\"text-align: right;\">     208.119</td><td>Unf           </td><td style=\"text-align: right;\">     20.0772</td><td style=\"text-align: right;\">    509.509</td><td style=\"text-align: right;\">      737.705</td><td>GasA     </td><td>TA         </td><td>Y           </td><td>SBrkr       </td><td style=\"text-align: right;\">   865.467</td><td style=\"text-align: right;\">  190.902 </td><td style=\"text-align: right;\">   2.60351    </td><td style=\"text-align: right;\">    1058.97</td><td style=\"text-align: right;\">     0.175439 </td><td style=\"text-align: right;\">  -2.08167e-17</td><td style=\"text-align: right;\">   1.05263</td><td style=\"text-align: right;\">  0.136842</td><td style=\"text-align: right;\">       2.4807 </td><td style=\"text-align: right;\">      1       </td><td>TA           </td><td style=\"text-align: right;\">       5.28772</td><td>Typ         </td><td style=\"text-align: right;\">    0.203509</td><td>nan          </td><td>Detchd      </td><td style=\"text-align: right;\">      1959.94</td><td>Unf           </td><td style=\"text-align: right;\">     1.02105</td><td style=\"text-align: right;\">     278.288</td><td>TA          </td><td>TA          </td><td>Y           </td><td style=\"text-align: right;\">     30.7754</td><td style=\"text-align: right;\">      18.2105</td><td style=\"text-align: right;\">       48.9965 </td><td style=\"text-align: right;\"> 0.631579   </td><td style=\"text-align: right;\">  4.75088    </td><td style=\"text-align: right;\"> -8.88178e-15</td><td>nan     </td><td style=\"text-align: right;\">    nan</td><td>nan          </td><td style=\"text-align: right;\"> 34.6807 </td><td style=\"text-align: right;\"> 6.14737</td><td style=\"text-align: right;\"> 2007.79</td><td>WD        </td><td>Normal         </td><td style=\"text-align: right;\">     106640</td></tr>\n",
       "<tr><td style=\"text-align: right;\"> 709.16 </td><td style=\"text-align: right;\">     52.2667</td><td>RL        </td><td style=\"text-align: right;\">      68.104 </td><td style=\"text-align: right;\"> 10570.1 </td><td>Pave    </td><td style=\"text-align: right;\">    nan</td><td>Reg       </td><td>Lvl          </td><td>AllPub     </td><td>Inside     </td><td>Gtl        </td><td>NAmes         </td><td>Norm        </td><td>Norm        </td><td>1Fam      </td><td>1Story      </td><td style=\"text-align: right;\">      5.76   </td><td style=\"text-align: right;\">      6.17333</td><td style=\"text-align: right;\">    1966.87</td><td style=\"text-align: right;\">       1983.2 </td><td>Gable      </td><td>CompShg   </td><td>VinylSd      </td><td>VinylSd      </td><td>None        </td><td style=\"text-align: right;\">    102.427 </td><td>TA         </td><td>TA         </td><td>CBlock      </td><td>TA        </td><td>TA        </td><td>No            </td><td>ALQ           </td><td style=\"text-align: right;\">     555.773</td><td>Unf           </td><td style=\"text-align: right;\">     98.2533</td><td style=\"text-align: right;\">    359.213</td><td style=\"text-align: right;\">     1013.24 </td><td>GasA     </td><td>Ex         </td><td>Y           </td><td>SBrkr       </td><td style=\"text-align: right;\">  1130.57 </td><td style=\"text-align: right;\">  236.28  </td><td style=\"text-align: right;\">  -8.88178e-16</td><td style=\"text-align: right;\">    1366.85</td><td style=\"text-align: right;\">     0.0933333</td><td style=\"text-align: right;\">   1.02667    </td><td style=\"text-align: right;\">   1.37333</td><td style=\"text-align: right;\">  0.32    </td><td style=\"text-align: right;\">       2.88   </td><td style=\"text-align: right;\">      0.986667</td><td>TA           </td><td style=\"text-align: right;\">       6.08   </td><td>Typ         </td><td style=\"text-align: right;\">    0.653333</td><td>nan          </td><td>Attchd      </td><td style=\"text-align: right;\">      1971.29</td><td>Unf           </td><td style=\"text-align: right;\">     1.65333</td><td style=\"text-align: right;\">     434.427</td><td>TA          </td><td>TA          </td><td>Y           </td><td style=\"text-align: right;\">    120.173 </td><td style=\"text-align: right;\">      39.3467</td><td style=\"text-align: right;\">       14.8    </td><td style=\"text-align: right;\"> 8.6        </td><td style=\"text-align: right;\"> 23.8667     </td><td style=\"text-align: right;\">  4.44089e-16</td><td>nan     </td><td style=\"text-align: right;\">    nan</td><td>nan          </td><td style=\"text-align: right;\"> 25.0667 </td><td style=\"text-align: right;\"> 6.70667</td><td style=\"text-align: right;\"> 2007.61</td><td>WD        </td><td>Normal         </td><td style=\"text-align: right;\">     165198</td></tr>\n",
       "<tr><td style=\"text-align: right;\"> 593.588</td><td style=\"text-align: right;\">     68.2353</td><td>RL        </td><td style=\"text-align: right;\">      79.1206</td><td style=\"text-align: right;\"> 10902.7 </td><td>Pave    </td><td style=\"text-align: right;\">    nan</td><td>Reg       </td><td>Lvl          </td><td>AllPub     </td><td>Inside     </td><td>Gtl        </td><td>SWISU         </td><td>Norm        </td><td>Norm        </td><td>1Fam      </td><td>1.5Fin      </td><td style=\"text-align: right;\">      5.82353</td><td style=\"text-align: right;\">      5.64706</td><td style=\"text-align: right;\">    1920.76</td><td style=\"text-align: right;\">       1973.71</td><td>Gable      </td><td>CompShg   </td><td>Wd Sdng      </td><td>Wd Sdng      </td><td>None        </td><td style=\"text-align: right;\">      0     </td><td>TA         </td><td>TA         </td><td>BrkTil      </td><td>TA        </td><td>TA        </td><td>No            </td><td>Unf           </td><td style=\"text-align: right;\">     197.059</td><td>Unf           </td><td style=\"text-align: right;\">     79.1176</td><td style=\"text-align: right;\">    676.647</td><td style=\"text-align: right;\">      952.824</td><td>GasA     </td><td>Ex         </td><td>Y           </td><td>SBrkr       </td><td style=\"text-align: right;\">  1151.06 </td><td style=\"text-align: right;\">  629.059 </td><td style=\"text-align: right;\"> 432.588      </td><td style=\"text-align: right;\">    2212.71</td><td style=\"text-align: right;\">     0.235294 </td><td style=\"text-align: right;\">   0.0588235  </td><td style=\"text-align: right;\">   1.58824</td><td style=\"text-align: right;\">  0.235294</td><td style=\"text-align: right;\">       3.76471</td><td style=\"text-align: right;\">      1.05882 </td><td>TA           </td><td style=\"text-align: right;\">       8.58824</td><td>Typ         </td><td style=\"text-align: right;\">    0.529412</td><td>nan          </td><td>Detchd      </td><td style=\"text-align: right;\">      1972.3 </td><td>Unf           </td><td style=\"text-align: right;\">     1.17647</td><td style=\"text-align: right;\">     359.412</td><td>TA          </td><td>TA          </td><td>Y           </td><td style=\"text-align: right;\">     76.4706</td><td style=\"text-align: right;\">      55.0588</td><td style=\"text-align: right;\">       59.2941 </td><td style=\"text-align: right;\">-4.44089e-16</td><td style=\"text-align: right;\"> 24.1176     </td><td style=\"text-align: right;\"> 30.1176     </td><td>nan     </td><td style=\"text-align: right;\">    nan</td><td>nan          </td><td style=\"text-align: right;\"> 23.5294 </td><td style=\"text-align: right;\"> 5.82353</td><td style=\"text-align: right;\"> 2007.59</td><td>WD        </td><td>Normal         </td><td style=\"text-align: right;\">     164735</td></tr>\n",
       "<tr><td style=\"text-align: right;\"> 733.713</td><td style=\"text-align: right;\">     70.7163</td><td>RL        </td><td style=\"text-align: right;\">      66.3737</td><td style=\"text-align: right;\">  8749.38</td><td>Pave    </td><td style=\"text-align: right;\">    nan</td><td>Reg       </td><td>Lvl          </td><td>AllPub     </td><td>Inside     </td><td>Gtl        </td><td>CollgCr       </td><td>Norm        </td><td>Norm        </td><td>1Fam      </td><td>2Story      </td><td style=\"text-align: right;\">      6.85124</td><td style=\"text-align: right;\">      5.07438</td><td style=\"text-align: right;\">    2000.93</td><td style=\"text-align: right;\">       2001.5 </td><td>Gable      </td><td>CompShg   </td><td>VinylSd      </td><td>VinylSd      </td><td>None        </td><td style=\"text-align: right;\">     78.0058</td><td>Gd         </td><td>TA         </td><td>PConc       </td><td>Gd        </td><td>TA        </td><td>No            </td><td>GLQ           </td><td style=\"text-align: right;\">     356.207</td><td>Unf           </td><td style=\"text-align: right;\">     11.2645</td><td style=\"text-align: right;\">    690.532</td><td style=\"text-align: right;\">     1058    </td><td>GasA     </td><td>Ex         </td><td>Y           </td><td>SBrkr       </td><td style=\"text-align: right;\">  1093.53 </td><td style=\"text-align: right;\">  477.485 </td><td style=\"text-align: right;\">   0.661157   </td><td style=\"text-align: right;\">    1571.68</td><td style=\"text-align: right;\">     0.407713 </td><td style=\"text-align: right;\">   1.45717e-16</td><td style=\"text-align: right;\">   1.93113</td><td style=\"text-align: right;\">  0.567493</td><td style=\"text-align: right;\">       2.73829</td><td style=\"text-align: right;\">      1.00275 </td><td>Gd           </td><td style=\"text-align: right;\">       6.49311</td><td>Typ         </td><td style=\"text-align: right;\">    0.539945</td><td>nan          </td><td>Attchd      </td><td style=\"text-align: right;\">      2001   </td><td>RFn           </td><td style=\"text-align: right;\">     2.07713</td><td style=\"text-align: right;\">     528.314</td><td>TA          </td><td>TA          </td><td>Y           </td><td style=\"text-align: right;\">     99.4628</td><td style=\"text-align: right;\">      62.0909</td><td style=\"text-align: right;\">        4.39945</td><td style=\"text-align: right;\"> 4.65565    </td><td style=\"text-align: right;\">  4.42975    </td><td style=\"text-align: right;\"> -1.11022e-14</td><td>nan     </td><td style=\"text-align: right;\">    nan</td><td>nan          </td><td style=\"text-align: right;\">  9.31129</td><td style=\"text-align: right;\"> 6.20386</td><td style=\"text-align: right;\"> 2007.77</td><td>WD        </td><td>Normal         </td><td style=\"text-align: right;\">     198960</td></tr>\n",
       "<tr><td style=\"text-align: right;\">1299    </td><td style=\"text-align: right;\">     60     </td><td>RL        </td><td style=\"text-align: right;\">     313     </td><td style=\"text-align: right;\"> 63887   </td><td>Pave    </td><td style=\"text-align: right;\">    nan</td><td>IR3       </td><td>Bnk          </td><td>AllPub     </td><td>Corner     </td><td>Gtl        </td><td>Edwards       </td><td>Feedr       </td><td>Norm        </td><td>1Fam      </td><td>2Story      </td><td style=\"text-align: right;\">     10      </td><td style=\"text-align: right;\">      5      </td><td style=\"text-align: right;\">    2008   </td><td style=\"text-align: right;\">       2008   </td><td>Hip        </td><td>ClyTile   </td><td>Stucco       </td><td>Stucco       </td><td>Stone       </td><td style=\"text-align: right;\">    796     </td><td>Ex         </td><td>TA         </td><td>PConc       </td><td>Ex        </td><td>TA        </td><td>Gd            </td><td>GLQ           </td><td style=\"text-align: right;\">    5644    </td><td>Unf           </td><td style=\"text-align: right;\">      0     </td><td style=\"text-align: right;\">    466    </td><td style=\"text-align: right;\">     6110    </td><td>GasA     </td><td>Ex         </td><td>Y           </td><td>SBrkr       </td><td style=\"text-align: right;\">  4692    </td><td style=\"text-align: right;\">  950     </td><td style=\"text-align: right;\">   0          </td><td style=\"text-align: right;\">    5642   </td><td style=\"text-align: right;\">     2        </td><td style=\"text-align: right;\">   0          </td><td style=\"text-align: right;\">   2      </td><td style=\"text-align: right;\">  1       </td><td style=\"text-align: right;\">       3      </td><td style=\"text-align: right;\">      1       </td><td>Ex           </td><td style=\"text-align: right;\">      12      </td><td>Typ         </td><td style=\"text-align: right;\">    3       </td><td>Gd           </td><td>Attchd      </td><td style=\"text-align: right;\">      2008   </td><td>Fin           </td><td style=\"text-align: right;\">     2      </td><td style=\"text-align: right;\">    1418    </td><td>TA          </td><td>TA          </td><td>Y           </td><td style=\"text-align: right;\">    214     </td><td style=\"text-align: right;\">     292     </td><td style=\"text-align: right;\">        0      </td><td style=\"text-align: right;\"> 0          </td><td style=\"text-align: right;\"> -1.77636e-15</td><td style=\"text-align: right;\">480          </td><td>Gd      </td><td style=\"text-align: right;\">    nan</td><td>nan          </td><td style=\"text-align: right;\">  0      </td><td style=\"text-align: right;\"> 1      </td><td style=\"text-align: right;\"> 2008   </td><td>New       </td><td>Partial        </td><td style=\"text-align: right;\">     160000</td></tr>\n",
       "<tr><td style=\"text-align: right;\"> 760.081</td><td style=\"text-align: right;\">    112.5   </td><td>RL        </td><td style=\"text-align: right;\">      69.4887</td><td style=\"text-align: right;\">  9839.87</td><td>Pave    </td><td style=\"text-align: right;\">    nan</td><td>Reg       </td><td>Lvl          </td><td>AllPub     </td><td>Inside     </td><td>Gtl        </td><td>OldTown       </td><td>Norm        </td><td>Norm        </td><td>Duplex    </td><td>1Story      </td><td style=\"text-align: right;\">      4.87097</td><td style=\"text-align: right;\">      5.1129 </td><td style=\"text-align: right;\">    1946.24</td><td style=\"text-align: right;\">       1968.69</td><td>Gable      </td><td>CompShg   </td><td>MetalSd      </td><td>MetalSd      </td><td>None        </td><td style=\"text-align: right;\">     75.1078</td><td>TA         </td><td>TA         </td><td>CBlock      </td><td>TA        </td><td>TA        </td><td>No            </td><td>Unf           </td><td style=\"text-align: right;\">     231.129</td><td>Unf           </td><td style=\"text-align: right;\">     16.9677</td><td style=\"text-align: right;\">    645.839</td><td style=\"text-align: right;\">      893.935</td><td>GasA     </td><td>TA         </td><td>Y           </td><td>SBrkr       </td><td style=\"text-align: right;\">  1296.27 </td><td style=\"text-align: right;\">  462.887 </td><td style=\"text-align: right;\">   0          </td><td style=\"text-align: right;\">    1759.16</td><td style=\"text-align: right;\">     0.225806 </td><td style=\"text-align: right;\">   0.0483871  </td><td style=\"text-align: right;\">   2      </td><td style=\"text-align: right;\">  0.177419</td><td style=\"text-align: right;\">       3.79032</td><td style=\"text-align: right;\">      2.03226 </td><td>TA           </td><td style=\"text-align: right;\">       8.45161</td><td>Typ         </td><td style=\"text-align: right;\">    0.225806</td><td>nan          </td><td>Detchd      </td><td style=\"text-align: right;\">      1966.05</td><td>Unf           </td><td style=\"text-align: right;\">     1.54839</td><td style=\"text-align: right;\">     404.613</td><td>TA          </td><td>TA          </td><td>Y           </td><td style=\"text-align: right;\">     36.0161</td><td style=\"text-align: right;\">      21.9032</td><td style=\"text-align: right;\">       34.2581 </td><td style=\"text-align: right;\">-4.44089e-16</td><td style=\"text-align: right;\">  1.59677    </td><td style=\"text-align: right;\">  4.44089e-16</td><td>nan     </td><td style=\"text-align: right;\">    nan</td><td>nan          </td><td style=\"text-align: right;\">198.387  </td><td style=\"text-align: right;\"> 6.75806</td><td style=\"text-align: right;\"> 2007.92</td><td>WD        </td><td>Normal         </td><td style=\"text-align: right;\">     127865</td></tr>\n",
       "</tbody>\n",
       "</table>"
      ]
     },
     "metadata": {},
     "output_type": "display_data"
    },
    {
     "data": {
      "text/plain": []
     },
     "execution_count": 97,
     "metadata": {},
     "output_type": "execute_result"
    }
   ],
   "source": [
    "glrmodel_2.proj_archetypes(khous_h2)"
   ]
  },
  {
   "cell_type": "code",
   "execution_count": 98,
   "metadata": {
    "scrolled": true
   },
   "outputs": [
    {
     "name": "stdout",
     "output_type": "stream",
     "text": [
      "               timestamp    duration  iterations  step_size     objective\n",
      "0    2018-07-03 12:17:37   2.458 sec         0.0   0.666667  1.002953e+13\n",
      "1    2018-07-03 12:17:37   2.831 sec         1.0   0.444444  1.002953e+13\n",
      "2    2018-07-03 12:17:37   2.974 sec         2.0   0.222222  1.002953e+13\n",
      "3    2018-07-03 12:17:38   3.119 sec         3.0   0.074074  1.002953e+13\n",
      "4    2018-07-03 12:17:38   3.243 sec         4.0   0.018519  1.002953e+13\n",
      "5    2018-07-03 12:17:38   3.367 sec         5.0   0.003704  1.002953e+13\n",
      "6    2018-07-03 12:17:38   3.501 sec         6.0   0.000617  1.002953e+13\n",
      "7    2018-07-03 12:17:38   3.626 sec         7.0   0.000088  1.002953e+13\n"
     ]
    },
    {
     "data": {
      "image/png": "[encoded data removed]",
      "text/plain": [
       "<matplotlib.figure.Figure at 0x10df9ba20>"
      ]
     },
     "metadata": {},
     "output_type": "display_data"
    }
   ],
   "source": [
    "# Plot objective function value each iteration\n",
    "model_score = glrmodel_2.score_history()\n",
    "plt.xlabel(\"Iteration\")\n",
    "plt.ylabel(\"Objective\")\n",
    "plt.title(\"Objective Function Value per Iteration\")\n",
    "print(model_score)\n",
    "plt.plot(model_score[\"iterations\"], model_score[\"objective\"])\n",
    "plt.show()"
   ]
  },
  {
   "cell_type": "code",
   "execution_count": 99,
   "metadata": {},
   "outputs": [
    {
     "name": "stdout",
     "output_type": "stream",
     "text": [
      "Model Details\n",
      "=============\n",
      "H2OGeneralizedLowRankEstimator :  Generalized Low Rank Modeling\n",
      "Model Key:  GLRM_model_python_1530645406753_1\n",
      "\n",
      "\n",
      "ModelMetricsGLRM: glrm\n",
      "** Reported on train data. **\n",
      "\n",
      "MSE: NaN\n",
      "RMSE: NaN\n",
      "Sum of Squared Error (Numeric): 10029528439220.22\n",
      "Misclassification Error (Categorical): 16314.0\n",
      "Scoring History: \n"
     ]
    },
    {
     "data": {
      "text/html": [
       "<div style=\"overflow:auto\"><table style=\"width:50%\"><tr><td><b></b></td>\n",
       "<td><b>timestamp</b></td>\n",
       "<td><b>duration</b></td>\n",
       "<td><b>iterations</b></td>\n",
       "<td><b>step_size</b></td>\n",
       "<td><b>objective</b></td></tr>\n",
       "<tr><td></td>\n",
       "<td>2018-07-03 12:17:37</td>\n",
       "<td> 2.458 sec</td>\n",
       "<td>0.0</td>\n",
       "<td>0.6666667</td>\n",
       "<td>10029528807927.8671875</td></tr>\n",
       "<tr><td></td>\n",
       "<td>2018-07-03 12:17:37</td>\n",
       "<td> 2.831 sec</td>\n",
       "<td>1.0</td>\n",
       "<td>0.4444444</td>\n",
       "<td>10029528807927.8671875</td></tr>\n",
       "<tr><td></td>\n",
       "<td>2018-07-03 12:17:37</td>\n",
       "<td> 2.974 sec</td>\n",
       "<td>2.0</td>\n",
       "<td>0.2222222</td>\n",
       "<td>10029528807927.8671875</td></tr>\n",
       "<tr><td></td>\n",
       "<td>2018-07-03 12:17:38</td>\n",
       "<td> 3.119 sec</td>\n",
       "<td>3.0</td>\n",
       "<td>0.0740741</td>\n",
       "<td>10029528807927.8671875</td></tr>\n",
       "<tr><td></td>\n",
       "<td>2018-07-03 12:17:38</td>\n",
       "<td> 3.243 sec</td>\n",
       "<td>4.0</td>\n",
       "<td>0.0185185</td>\n",
       "<td>10029528807927.8671875</td></tr>\n",
       "<tr><td></td>\n",
       "<td>2018-07-03 12:17:38</td>\n",
       "<td> 3.367 sec</td>\n",
       "<td>5.0</td>\n",
       "<td>0.0037037</td>\n",
       "<td>10029528807927.8671875</td></tr>\n",
       "<tr><td></td>\n",
       "<td>2018-07-03 12:17:38</td>\n",
       "<td> 3.501 sec</td>\n",
       "<td>6.0</td>\n",
       "<td>0.0006173</td>\n",
       "<td>10029528807927.8671875</td></tr>\n",
       "<tr><td></td>\n",
       "<td>2018-07-03 12:17:38</td>\n",
       "<td> 3.626 sec</td>\n",
       "<td>7.0</td>\n",
       "<td>0.0000882</td>\n",
       "<td>10029528807927.8671875</td></tr></table></div>"
      ],
      "text/plain": [
       "    timestamp            duration    iterations    step_size    objective\n",
       "--  -------------------  ----------  ------------  -----------  -----------\n",
       "    2018-07-03 12:17:37  2.458 sec   0             0.666667     1.00295e+13\n",
       "    2018-07-03 12:17:37  2.831 sec   1             0.444444     1.00295e+13\n",
       "    2018-07-03 12:17:37  2.974 sec   2             0.222222     1.00295e+13\n",
       "    2018-07-03 12:17:38  3.119 sec   3             0.0740741    1.00295e+13\n",
       "    2018-07-03 12:17:38  3.243 sec   4             0.0185185    1.00295e+13\n",
       "    2018-07-03 12:17:38  3.367 sec   5             0.0037037    1.00295e+13\n",
       "    2018-07-03 12:17:38  3.501 sec   6             0.000617284  1.00295e+13\n",
       "    2018-07-03 12:17:38  3.626 sec   7             8.81834e-05  1.00295e+13"
      ]
     },
     "metadata": {},
     "output_type": "display_data"
    },
    {
     "data": {
      "text/plain": [
       "<bound method ModelBase.cross_validation_holdout_predictions of >"
      ]
     },
     "execution_count": 99,
     "metadata": {},
     "output_type": "execute_result"
    }
   ],
   "source": [
    "glrmodel_2.cross_validation_holdout_predictions"
   ]
  },
  {
   "cell_type": "code",
   "execution_count": 100,
   "metadata": {
    "scrolled": true
   },
   "outputs": [
    {
     "name": "stdout",
     "output_type": "stream",
     "text": [
      "Model Details\n",
      "=============\n",
      "H2OGeneralizedLowRankEstimator :  Generalized Low Rank Modeling\n",
      "Model Key:  GLRM_model_python_1530645406753_1\n",
      "\n",
      "\n",
      "ModelMetricsGLRM: glrm\n",
      "** Reported on train data. **\n",
      "\n",
      "MSE: NaN\n",
      "RMSE: NaN\n",
      "Sum of Squared Error (Numeric): 10029528439220.22\n",
      "Misclassification Error (Categorical): 16314.0\n",
      "Scoring History: \n"
     ]
    },
    {
     "data": {
      "text/html": [
       "<div style=\"overflow:auto\"><table style=\"width:50%\"><tr><td><b></b></td>\n",
       "<td><b>timestamp</b></td>\n",
       "<td><b>duration</b></td>\n",
       "<td><b>iterations</b></td>\n",
       "<td><b>step_size</b></td>\n",
       "<td><b>objective</b></td></tr>\n",
       "<tr><td></td>\n",
       "<td>2018-07-03 12:17:37</td>\n",
       "<td> 2.458 sec</td>\n",
       "<td>0.0</td>\n",
       "<td>0.6666667</td>\n",
       "<td>10029528807927.8671875</td></tr>\n",
       "<tr><td></td>\n",
       "<td>2018-07-03 12:17:37</td>\n",
       "<td> 2.831 sec</td>\n",
       "<td>1.0</td>\n",
       "<td>0.4444444</td>\n",
       "<td>10029528807927.8671875</td></tr>\n",
       "<tr><td></td>\n",
       "<td>2018-07-03 12:17:37</td>\n",
       "<td> 2.974 sec</td>\n",
       "<td>2.0</td>\n",
       "<td>0.2222222</td>\n",
       "<td>10029528807927.8671875</td></tr>\n",
       "<tr><td></td>\n",
       "<td>2018-07-03 12:17:38</td>\n",
       "<td> 3.119 sec</td>\n",
       "<td>3.0</td>\n",
       "<td>0.0740741</td>\n",
       "<td>10029528807927.8671875</td></tr>\n",
       "<tr><td></td>\n",
       "<td>2018-07-03 12:17:38</td>\n",
       "<td> 3.243 sec</td>\n",
       "<td>4.0</td>\n",
       "<td>0.0185185</td>\n",
       "<td>10029528807927.8671875</td></tr>\n",
       "<tr><td></td>\n",
       "<td>2018-07-03 12:17:38</td>\n",
       "<td> 3.367 sec</td>\n",
       "<td>5.0</td>\n",
       "<td>0.0037037</td>\n",
       "<td>10029528807927.8671875</td></tr>\n",
       "<tr><td></td>\n",
       "<td>2018-07-03 12:17:38</td>\n",
       "<td> 3.501 sec</td>\n",
       "<td>6.0</td>\n",
       "<td>0.0006173</td>\n",
       "<td>10029528807927.8671875</td></tr>\n",
       "<tr><td></td>\n",
       "<td>2018-07-03 12:17:38</td>\n",
       "<td> 3.626 sec</td>\n",
       "<td>7.0</td>\n",
       "<td>0.0000882</td>\n",
       "<td>10029528807927.8671875</td></tr></table></div>"
      ],
      "text/plain": [
       "    timestamp            duration    iterations    step_size    objective\n",
       "--  -------------------  ----------  ------------  -----------  -----------\n",
       "    2018-07-03 12:17:37  2.458 sec   0             0.666667     1.00295e+13\n",
       "    2018-07-03 12:17:37  2.831 sec   1             0.444444     1.00295e+13\n",
       "    2018-07-03 12:17:37  2.974 sec   2             0.222222     1.00295e+13\n",
       "    2018-07-03 12:17:38  3.119 sec   3             0.0740741    1.00295e+13\n",
       "    2018-07-03 12:17:38  3.243 sec   4             0.0185185    1.00295e+13\n",
       "    2018-07-03 12:17:38  3.367 sec   5             0.0037037    1.00295e+13\n",
       "    2018-07-03 12:17:38  3.501 sec   6             0.000617284  1.00295e+13\n",
       "    2018-07-03 12:17:38  3.626 sec   7             8.81834e-05  1.00295e+13"
      ]
     },
     "metadata": {},
     "output_type": "display_data"
    },
    {
     "data": {
      "text/plain": [
       "<bound method ModelBase.weights of >"
      ]
     },
     "execution_count": 100,
     "metadata": {},
     "output_type": "execute_result"
    }
   ],
   "source": [
    "glrmodel_2.weights"
   ]
  },
  {
   "cell_type": "markdown",
   "metadata": {},
   "source": [
    "do I need to set categorical variables as asfactor()  ?\n"
   ]
  },
  {
   "cell_type": "markdown",
   "metadata": {},
   "source": [
    "Jason thought he remembered 'categorical' getting parsed differently from 'enum', hence the little loop below which changes all the dtypes to 'categorical'.  So I might want want to try a similar thing with just my enums and see what changes."
   ]
  },
  {
   "cell_type": "code",
   "execution_count": null,
   "metadata": {},
   "outputs": [],
   "source": [
    "types = {} \n",
    "for k in region_a_df.types: \n",
    "    types[k] = 'categorical' \n",
    "    types['C1'] = 'string' \n",
    "region_a_df = h2o.H2OFrame(np.array(region_answers)[:,1:], column_types=types) region_a_df.describe()\n",
    "\n",
    "glrm.train(y=y, training_frame=region_a_df)"
   ]
  },
  {
   "cell_type": "code",
   "execution_count": null,
   "metadata": {
    "scrolled": false
   },
   "outputs": [],
   "source": [
    "khous_h2.types"
   ]
  },
  {
   "cell_type": "code",
   "execution_count": null,
   "metadata": {},
   "outputs": [],
   "source": []
  }
 ],
 "metadata": {
  "kernelspec": {
   "display_name": "Python 3",
   "language": "python",
   "name": "python3"
  },
  "language_info": {
   "codemirror_mode": {
    "name": "ipython",
    "version": 3
   },
   "file_extension": ".py",
   "mimetype": "text/x-python",
   "name": "python",
   "nbconvert_exporter": "python",
   "pygments_lexer": "ipython3",
   "version": "3.6.4"
  }
 },
 "nbformat": 4,
 "nbformat_minor": 2
}
