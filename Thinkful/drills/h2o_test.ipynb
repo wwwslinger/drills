{
 "cells": [
  {
   "cell_type": "code",
   "execution_count": 78,
   "metadata": {},
   "outputs": [],
   "source": [
    "import pandas as pd\n",
    "import numpy as np\n",
    "import scipy as sp\n",
    "import matplotlib.pyplot as plt\n",
    "import seaborn as sns\n",
    "import random\n",
    "random.seed(11)\n",
    "%matplotlib inline"
   ]
  },
  {
   "cell_type": "markdown",
   "metadata": {},
   "source": [
    "## Load H2o"
   ]
  },
  {
   "cell_type": "markdown",
   "metadata": {},
   "source": [
    "NOTE: to start H2o, first use Terminal to navigate to *usr/local/lib/python3.6/site-packages/h2o/backend/bin* and enter the command *java -jar h2o.jar*"
   ]
  },
  {
   "cell_type": "code",
   "execution_count": 80,
   "metadata": {
    "scrolled": true
   },
   "outputs": [
    {
     "name": "stdout",
     "output_type": "stream",
     "text": [
      "Checking whether there is an H2O instance running at http://localhost:54321. connected.\n"
     ]
    },
    {
     "data": {
      "text/html": [
       "<div style=\"overflow:auto\"><table style=\"width:50%\"><tr><td>H2O cluster uptime:</td>\n",
       "<td>02 secs</td></tr>\n",
       "<tr><td>H2O cluster timezone:</td>\n",
       "<td>America/Los_Angeles</td></tr>\n",
       "<tr><td>H2O data parsing timezone:</td>\n",
       "<td>UTC</td></tr>\n",
       "<tr><td>H2O cluster version:</td>\n",
       "<td>3.18.0.11</td></tr>\n",
       "<tr><td>H2O cluster version age:</td>\n",
       "<td>1 month and 9 days </td></tr>\n",
       "<tr><td>H2O cluster name:</td>\n",
       "<td>garrettfiddler</td></tr>\n",
       "<tr><td>H2O cluster total nodes:</td>\n",
       "<td>1</td></tr>\n",
       "<tr><td>H2O cluster free memory:</td>\n",
       "<td>2 Gb</td></tr>\n",
       "<tr><td>H2O cluster total cores:</td>\n",
       "<td>4</td></tr>\n",
       "<tr><td>H2O cluster allowed cores:</td>\n",
       "<td>4</td></tr>\n",
       "<tr><td>H2O cluster status:</td>\n",
       "<td>accepting new members, healthy</td></tr>\n",
       "<tr><td>H2O connection url:</td>\n",
       "<td>http://localhost:54321</td></tr>\n",
       "<tr><td>H2O connection proxy:</td>\n",
       "<td>None</td></tr>\n",
       "<tr><td>H2O internal security:</td>\n",
       "<td>False</td></tr>\n",
       "<tr><td>H2O API Extensions:</td>\n",
       "<td>XGBoost, Algos, AutoML, Core V3, Core V4</td></tr>\n",
       "<tr><td>Python version:</td>\n",
       "<td>3.6.4 final</td></tr></table></div>"
      ],
      "text/plain": [
       "--------------------------  ----------------------------------------\n",
       "H2O cluster uptime:         02 secs\n",
       "H2O cluster timezone:       America/Los_Angeles\n",
       "H2O data parsing timezone:  UTC\n",
       "H2O cluster version:        3.18.0.11\n",
       "H2O cluster version age:    1 month and 9 days\n",
       "H2O cluster name:           garrettfiddler\n",
       "H2O cluster total nodes:    1\n",
       "H2O cluster free memory:    2 Gb\n",
       "H2O cluster total cores:    4\n",
       "H2O cluster allowed cores:  4\n",
       "H2O cluster status:         accepting new members, healthy\n",
       "H2O connection url:         http://localhost:54321\n",
       "H2O connection proxy:\n",
       "H2O internal security:      False\n",
       "H2O API Extensions:         XGBoost, Algos, AutoML, Core V3, Core V4\n",
       "Python version:             3.6.4 final\n",
       "--------------------------  ----------------------------------------"
      ]
     },
     "metadata": {},
     "output_type": "display_data"
    }
   ],
   "source": [
    "# Load the H2O library and start up the H2O cluster locally on your machine\n",
    "import h2o\n",
    "from h2o.estimators.glrm import H2OGeneralizedLowRankEstimator\n",
    "\n",
    "# Number of threads, nthreads = -1, means use all cores on your machine\n",
    "# max_mem_size is the maximum memory (in GB) to allocate to H2O\n",
    "h2o.init()"
   ]
  },
  {
   "cell_type": "markdown",
   "metadata": {},
   "source": [
    "## Load data"
   ]
  },
  {
   "cell_type": "code",
   "execution_count": 81,
   "metadata": {},
   "outputs": [],
   "source": [
    "khous_df = pd.read_csv('khous_train.csv')"
   ]
  },
  {
   "cell_type": "code",
   "execution_count": 82,
   "metadata": {
    "scrolled": true
   },
   "outputs": [
    {
     "data": {
      "text/plain": [
       "(1460, 81)"
      ]
     },
     "execution_count": 82,
     "metadata": {},
     "output_type": "execute_result"
    }
   ],
   "source": [
    "khous_df.shape"
   ]
  },
  {
   "cell_type": "code",
   "execution_count": 83,
   "metadata": {
    "scrolled": false
   },
   "outputs": [
    {
     "data": {
      "text/plain": [
       "object     43\n",
       "int64      35\n",
       "float64     3\n",
       "dtype: int64"
      ]
     },
     "execution_count": 83,
     "metadata": {},
     "output_type": "execute_result"
    }
   ],
   "source": [
    "khous_df.dtypes.value_counts()"
   ]
  },
  {
   "cell_type": "code",
   "execution_count": 84,
   "metadata": {
    "scrolled": false
   },
   "outputs": [
    {
     "data": {
      "text/html": [
       "<div>\n",
       "<style scoped>\n",
       "    .dataframe tbody tr th:only-of-type {\n",
       "        vertical-align: middle;\n",
       "    }\n",
       "\n",
       "    .dataframe tbody tr th {\n",
       "        vertical-align: top;\n",
       "    }\n",
       "\n",
       "    .dataframe thead th {\n",
       "        text-align: right;\n",
       "    }\n",
       "</style>\n",
       "<table border=\"1\" class=\"dataframe\">\n",
       "  <thead>\n",
       "    <tr style=\"text-align: right;\">\n",
       "      <th></th>\n",
       "      <th>Id</th>\n",
       "      <th>MSSubClass</th>\n",
       "      <th>MSZoning</th>\n",
       "      <th>LotFrontage</th>\n",
       "      <th>LotArea</th>\n",
       "      <th>Street</th>\n",
       "      <th>Alley</th>\n",
       "      <th>LotShape</th>\n",
       "      <th>LandContour</th>\n",
       "      <th>Utilities</th>\n",
       "      <th>...</th>\n",
       "      <th>PoolArea</th>\n",
       "      <th>PoolQC</th>\n",
       "      <th>Fence</th>\n",
       "      <th>MiscFeature</th>\n",
       "      <th>MiscVal</th>\n",
       "      <th>MoSold</th>\n",
       "      <th>YrSold</th>\n",
       "      <th>SaleType</th>\n",
       "      <th>SaleCondition</th>\n",
       "      <th>SalePrice</th>\n",
       "    </tr>\n",
       "  </thead>\n",
       "  <tbody>\n",
       "    <tr>\n",
       "      <th>0</th>\n",
       "      <td>1</td>\n",
       "      <td>60</td>\n",
       "      <td>RL</td>\n",
       "      <td>65.0</td>\n",
       "      <td>8450</td>\n",
       "      <td>Pave</td>\n",
       "      <td>NaN</td>\n",
       "      <td>Reg</td>\n",
       "      <td>Lvl</td>\n",
       "      <td>AllPub</td>\n",
       "      <td>...</td>\n",
       "      <td>0</td>\n",
       "      <td>NaN</td>\n",
       "      <td>NaN</td>\n",
       "      <td>NaN</td>\n",
       "      <td>0</td>\n",
       "      <td>2</td>\n",
       "      <td>2008</td>\n",
       "      <td>WD</td>\n",
       "      <td>Normal</td>\n",
       "      <td>208500</td>\n",
       "    </tr>\n",
       "    <tr>\n",
       "      <th>1</th>\n",
       "      <td>2</td>\n",
       "      <td>20</td>\n",
       "      <td>RL</td>\n",
       "      <td>80.0</td>\n",
       "      <td>9600</td>\n",
       "      <td>Pave</td>\n",
       "      <td>NaN</td>\n",
       "      <td>Reg</td>\n",
       "      <td>Lvl</td>\n",
       "      <td>AllPub</td>\n",
       "      <td>...</td>\n",
       "      <td>0</td>\n",
       "      <td>NaN</td>\n",
       "      <td>NaN</td>\n",
       "      <td>NaN</td>\n",
       "      <td>0</td>\n",
       "      <td>5</td>\n",
       "      <td>2007</td>\n",
       "      <td>WD</td>\n",
       "      <td>Normal</td>\n",
       "      <td>181500</td>\n",
       "    </tr>\n",
       "    <tr>\n",
       "      <th>2</th>\n",
       "      <td>3</td>\n",
       "      <td>60</td>\n",
       "      <td>RL</td>\n",
       "      <td>68.0</td>\n",
       "      <td>11250</td>\n",
       "      <td>Pave</td>\n",
       "      <td>NaN</td>\n",
       "      <td>IR1</td>\n",
       "      <td>Lvl</td>\n",
       "      <td>AllPub</td>\n",
       "      <td>...</td>\n",
       "      <td>0</td>\n",
       "      <td>NaN</td>\n",
       "      <td>NaN</td>\n",
       "      <td>NaN</td>\n",
       "      <td>0</td>\n",
       "      <td>9</td>\n",
       "      <td>2008</td>\n",
       "      <td>WD</td>\n",
       "      <td>Normal</td>\n",
       "      <td>223500</td>\n",
       "    </tr>\n",
       "    <tr>\n",
       "      <th>3</th>\n",
       "      <td>4</td>\n",
       "      <td>70</td>\n",
       "      <td>RL</td>\n",
       "      <td>60.0</td>\n",
       "      <td>9550</td>\n",
       "      <td>Pave</td>\n",
       "      <td>NaN</td>\n",
       "      <td>IR1</td>\n",
       "      <td>Lvl</td>\n",
       "      <td>AllPub</td>\n",
       "      <td>...</td>\n",
       "      <td>0</td>\n",
       "      <td>NaN</td>\n",
       "      <td>NaN</td>\n",
       "      <td>NaN</td>\n",
       "      <td>0</td>\n",
       "      <td>2</td>\n",
       "      <td>2006</td>\n",
       "      <td>WD</td>\n",
       "      <td>Abnorml</td>\n",
       "      <td>140000</td>\n",
       "    </tr>\n",
       "    <tr>\n",
       "      <th>4</th>\n",
       "      <td>5</td>\n",
       "      <td>60</td>\n",
       "      <td>RL</td>\n",
       "      <td>84.0</td>\n",
       "      <td>14260</td>\n",
       "      <td>Pave</td>\n",
       "      <td>NaN</td>\n",
       "      <td>IR1</td>\n",
       "      <td>Lvl</td>\n",
       "      <td>AllPub</td>\n",
       "      <td>...</td>\n",
       "      <td>0</td>\n",
       "      <td>NaN</td>\n",
       "      <td>NaN</td>\n",
       "      <td>NaN</td>\n",
       "      <td>0</td>\n",
       "      <td>12</td>\n",
       "      <td>2008</td>\n",
       "      <td>WD</td>\n",
       "      <td>Normal</td>\n",
       "      <td>250000</td>\n",
       "    </tr>\n",
       "  </tbody>\n",
       "</table>\n",
       "<p>5 rows × 81 columns</p>\n",
       "</div>"
      ],
      "text/plain": [
       "   Id  MSSubClass MSZoning  LotFrontage  LotArea Street Alley LotShape  \\\n",
       "0   1          60       RL         65.0     8450   Pave   NaN      Reg   \n",
       "1   2          20       RL         80.0     9600   Pave   NaN      Reg   \n",
       "2   3          60       RL         68.0    11250   Pave   NaN      IR1   \n",
       "3   4          70       RL         60.0     9550   Pave   NaN      IR1   \n",
       "4   5          60       RL         84.0    14260   Pave   NaN      IR1   \n",
       "\n",
       "  LandContour Utilities    ...     PoolArea PoolQC Fence MiscFeature MiscVal  \\\n",
       "0         Lvl    AllPub    ...            0    NaN   NaN         NaN       0   \n",
       "1         Lvl    AllPub    ...            0    NaN   NaN         NaN       0   \n",
       "2         Lvl    AllPub    ...            0    NaN   NaN         NaN       0   \n",
       "3         Lvl    AllPub    ...            0    NaN   NaN         NaN       0   \n",
       "4         Lvl    AllPub    ...            0    NaN   NaN         NaN       0   \n",
       "\n",
       "  MoSold YrSold  SaleType  SaleCondition  SalePrice  \n",
       "0      2   2008        WD         Normal     208500  \n",
       "1      5   2007        WD         Normal     181500  \n",
       "2      9   2008        WD         Normal     223500  \n",
       "3      2   2006        WD        Abnorml     140000  \n",
       "4     12   2008        WD         Normal     250000  \n",
       "\n",
       "[5 rows x 81 columns]"
      ]
     },
     "execution_count": 84,
     "metadata": {},
     "output_type": "execute_result"
    }
   ],
   "source": [
    "khous_df.head()"
   ]
  },
  {
   "cell_type": "code",
   "execution_count": 85,
   "metadata": {},
   "outputs": [],
   "source": [
    "khous_null_df = khous_df.mask(np.random.random(khous_df.shape) < .5)"
   ]
  },
  {
   "cell_type": "markdown",
   "metadata": {},
   "source": [
    "## Convert data to H2o"
   ]
  },
  {
   "cell_type": "code",
   "execution_count": 113,
   "metadata": {
    "scrolled": false
   },
   "outputs": [
    {
     "name": "stdout",
     "output_type": "stream",
     "text": [
      "Parse progress: |█████████████████████████████████████████████████████████| 100%\n"
     ]
    }
   ],
   "source": [
    "khous_h2 = h2o.H2OFrame(khous_df)"
   ]
  },
  {
   "cell_type": "code",
   "execution_count": 89,
   "metadata": {
    "scrolled": true
   },
   "outputs": [
    {
     "data": {
      "text/html": [
       "<table>\n",
       "<thead>\n",
       "<tr><th style=\"text-align: right;\">  Id</th><th style=\"text-align: right;\">  MSSubClass</th><th>MSZoning  </th><th style=\"text-align: right;\">  LotFrontage</th><th style=\"text-align: right;\">  LotArea</th><th>Street  </th><th style=\"text-align: right;\">  Alley</th><th>LotShape  </th><th>LandContour  </th><th>Utilities  </th><th>LotConfig  </th><th>LandSlope  </th><th>Neighborhood  </th><th>Condition1  </th><th>Condition2  </th><th>BldgType  </th><th>HouseStyle  </th><th style=\"text-align: right;\">  OverallQual</th><th style=\"text-align: right;\">  OverallCond</th><th style=\"text-align: right;\">  YearBuilt</th><th style=\"text-align: right;\">  YearRemodAdd</th><th>RoofStyle  </th><th>RoofMatl  </th><th>Exterior1st  </th><th>Exterior2nd  </th><th>MasVnrType  </th><th style=\"text-align: right;\">  MasVnrArea</th><th>ExterQual  </th><th>ExterCond  </th><th>Foundation  </th><th>BsmtQual  </th><th>BsmtCond  </th><th>BsmtExposure  </th><th>BsmtFinType1  </th><th style=\"text-align: right;\">  BsmtFinSF1</th><th>BsmtFinType2  </th><th style=\"text-align: right;\">  BsmtFinSF2</th><th style=\"text-align: right;\">  BsmtUnfSF</th><th style=\"text-align: right;\">  TotalBsmtSF</th><th>Heating  </th><th>HeatingQC  </th><th>CentralAir  </th><th>Electrical  </th><th style=\"text-align: right;\">  1stFlrSF</th><th style=\"text-align: right;\">  2ndFlrSF</th><th style=\"text-align: right;\">  LowQualFinSF</th><th style=\"text-align: right;\">  GrLivArea</th><th style=\"text-align: right;\">  BsmtFullBath</th><th style=\"text-align: right;\">  BsmtHalfBath</th><th style=\"text-align: right;\">  FullBath</th><th style=\"text-align: right;\">  HalfBath</th><th style=\"text-align: right;\">  BedroomAbvGr</th><th style=\"text-align: right;\">  KitchenAbvGr</th><th>KitchenQual  </th><th style=\"text-align: right;\">  TotRmsAbvGrd</th><th>Functional  </th><th style=\"text-align: right;\">  Fireplaces</th><th>FireplaceQu  </th><th>GarageType  </th><th style=\"text-align: right;\">  GarageYrBlt</th><th>GarageFinish  </th><th style=\"text-align: right;\">  GarageCars</th><th style=\"text-align: right;\">  GarageArea</th><th>GarageQual  </th><th>GarageCond  </th><th>PavedDrive  </th><th style=\"text-align: right;\">  WoodDeckSF</th><th style=\"text-align: right;\">  OpenPorchSF</th><th style=\"text-align: right;\">  EnclosedPorch</th><th style=\"text-align: right;\">  3SsnPorch</th><th style=\"text-align: right;\">  ScreenPorch</th><th style=\"text-align: right;\">  PoolArea</th><th style=\"text-align: right;\">  PoolQC</th><th>Fence  </th><th>MiscFeature  </th><th style=\"text-align: right;\">  MiscVal</th><th style=\"text-align: right;\">  MoSold</th><th style=\"text-align: right;\">  YrSold</th><th>SaleType  </th><th>SaleCondition  </th><th style=\"text-align: right;\">  SalePrice</th></tr>\n",
       "</thead>\n",
       "<tbody>\n",
       "<tr><td style=\"text-align: right;\">   1</td><td style=\"text-align: right;\">          60</td><td>RL        </td><td style=\"text-align: right;\">           65</td><td style=\"text-align: right;\">     8450</td><td>Pave    </td><td style=\"text-align: right;\">    nan</td><td>Reg       </td><td>Lvl          </td><td>AllPub     </td><td>Inside     </td><td>Gtl        </td><td>CollgCr       </td><td>Norm        </td><td>Norm        </td><td>1Fam      </td><td>2Story      </td><td style=\"text-align: right;\">            7</td><td style=\"text-align: right;\">            5</td><td style=\"text-align: right;\">       2003</td><td style=\"text-align: right;\">          2003</td><td>Gable      </td><td>CompShg   </td><td>VinylSd      </td><td>VinylSd      </td><td>BrkFace     </td><td style=\"text-align: right;\">         196</td><td>Gd         </td><td>TA         </td><td>PConc       </td><td>Gd        </td><td>TA        </td><td>No            </td><td>GLQ           </td><td style=\"text-align: right;\">         706</td><td>Unf           </td><td style=\"text-align: right;\">           0</td><td style=\"text-align: right;\">        150</td><td style=\"text-align: right;\">          856</td><td>GasA     </td><td>Ex         </td><td>Y           </td><td>SBrkr       </td><td style=\"text-align: right;\">       856</td><td style=\"text-align: right;\">       854</td><td style=\"text-align: right;\">             0</td><td style=\"text-align: right;\">       1710</td><td style=\"text-align: right;\">             1</td><td style=\"text-align: right;\">             0</td><td style=\"text-align: right;\">         2</td><td style=\"text-align: right;\">         1</td><td style=\"text-align: right;\">             3</td><td style=\"text-align: right;\">             1</td><td>Gd           </td><td style=\"text-align: right;\">             8</td><td>Typ         </td><td style=\"text-align: right;\">           0</td><td>nan          </td><td>Attchd      </td><td style=\"text-align: right;\">         2003</td><td>RFn           </td><td style=\"text-align: right;\">           2</td><td style=\"text-align: right;\">         548</td><td>TA          </td><td>TA          </td><td>Y           </td><td style=\"text-align: right;\">           0</td><td style=\"text-align: right;\">           61</td><td style=\"text-align: right;\">              0</td><td style=\"text-align: right;\">          0</td><td style=\"text-align: right;\">            0</td><td style=\"text-align: right;\">         0</td><td style=\"text-align: right;\">     nan</td><td>nan    </td><td>nan          </td><td style=\"text-align: right;\">        0</td><td style=\"text-align: right;\">       2</td><td style=\"text-align: right;\">    2008</td><td>WD        </td><td>Normal         </td><td style=\"text-align: right;\">     208500</td></tr>\n",
       "<tr><td style=\"text-align: right;\">   2</td><td style=\"text-align: right;\">          20</td><td>RL        </td><td style=\"text-align: right;\">           80</td><td style=\"text-align: right;\">     9600</td><td>Pave    </td><td style=\"text-align: right;\">    nan</td><td>Reg       </td><td>Lvl          </td><td>AllPub     </td><td>FR2        </td><td>Gtl        </td><td>Veenker       </td><td>Feedr       </td><td>Norm        </td><td>1Fam      </td><td>1Story      </td><td style=\"text-align: right;\">            6</td><td style=\"text-align: right;\">            8</td><td style=\"text-align: right;\">       1976</td><td style=\"text-align: right;\">          1976</td><td>Gable      </td><td>CompShg   </td><td>MetalSd      </td><td>MetalSd      </td><td>None        </td><td style=\"text-align: right;\">           0</td><td>TA         </td><td>TA         </td><td>CBlock      </td><td>Gd        </td><td>TA        </td><td>Gd            </td><td>ALQ           </td><td style=\"text-align: right;\">         978</td><td>Unf           </td><td style=\"text-align: right;\">           0</td><td style=\"text-align: right;\">        284</td><td style=\"text-align: right;\">         1262</td><td>GasA     </td><td>Ex         </td><td>Y           </td><td>SBrkr       </td><td style=\"text-align: right;\">      1262</td><td style=\"text-align: right;\">         0</td><td style=\"text-align: right;\">             0</td><td style=\"text-align: right;\">       1262</td><td style=\"text-align: right;\">             0</td><td style=\"text-align: right;\">             1</td><td style=\"text-align: right;\">         2</td><td style=\"text-align: right;\">         0</td><td style=\"text-align: right;\">             3</td><td style=\"text-align: right;\">             1</td><td>TA           </td><td style=\"text-align: right;\">             6</td><td>Typ         </td><td style=\"text-align: right;\">           1</td><td>TA           </td><td>Attchd      </td><td style=\"text-align: right;\">         1976</td><td>RFn           </td><td style=\"text-align: right;\">           2</td><td style=\"text-align: right;\">         460</td><td>TA          </td><td>TA          </td><td>Y           </td><td style=\"text-align: right;\">         298</td><td style=\"text-align: right;\">            0</td><td style=\"text-align: right;\">              0</td><td style=\"text-align: right;\">          0</td><td style=\"text-align: right;\">            0</td><td style=\"text-align: right;\">         0</td><td style=\"text-align: right;\">     nan</td><td>nan    </td><td>nan          </td><td style=\"text-align: right;\">        0</td><td style=\"text-align: right;\">       5</td><td style=\"text-align: right;\">    2007</td><td>WD        </td><td>Normal         </td><td style=\"text-align: right;\">     181500</td></tr>\n",
       "<tr><td style=\"text-align: right;\">   3</td><td style=\"text-align: right;\">          60</td><td>RL        </td><td style=\"text-align: right;\">           68</td><td style=\"text-align: right;\">    11250</td><td>Pave    </td><td style=\"text-align: right;\">    nan</td><td>IR1       </td><td>Lvl          </td><td>AllPub     </td><td>Inside     </td><td>Gtl        </td><td>CollgCr       </td><td>Norm        </td><td>Norm        </td><td>1Fam      </td><td>2Story      </td><td style=\"text-align: right;\">            7</td><td style=\"text-align: right;\">            5</td><td style=\"text-align: right;\">       2001</td><td style=\"text-align: right;\">          2002</td><td>Gable      </td><td>CompShg   </td><td>VinylSd      </td><td>VinylSd      </td><td>BrkFace     </td><td style=\"text-align: right;\">         162</td><td>Gd         </td><td>TA         </td><td>PConc       </td><td>Gd        </td><td>TA        </td><td>Mn            </td><td>GLQ           </td><td style=\"text-align: right;\">         486</td><td>Unf           </td><td style=\"text-align: right;\">           0</td><td style=\"text-align: right;\">        434</td><td style=\"text-align: right;\">          920</td><td>GasA     </td><td>Ex         </td><td>Y           </td><td>SBrkr       </td><td style=\"text-align: right;\">       920</td><td style=\"text-align: right;\">       866</td><td style=\"text-align: right;\">             0</td><td style=\"text-align: right;\">       1786</td><td style=\"text-align: right;\">             1</td><td style=\"text-align: right;\">             0</td><td style=\"text-align: right;\">         2</td><td style=\"text-align: right;\">         1</td><td style=\"text-align: right;\">             3</td><td style=\"text-align: right;\">             1</td><td>Gd           </td><td style=\"text-align: right;\">             6</td><td>Typ         </td><td style=\"text-align: right;\">           1</td><td>TA           </td><td>Attchd      </td><td style=\"text-align: right;\">         2001</td><td>RFn           </td><td style=\"text-align: right;\">           2</td><td style=\"text-align: right;\">         608</td><td>TA          </td><td>TA          </td><td>Y           </td><td style=\"text-align: right;\">           0</td><td style=\"text-align: right;\">           42</td><td style=\"text-align: right;\">              0</td><td style=\"text-align: right;\">          0</td><td style=\"text-align: right;\">            0</td><td style=\"text-align: right;\">         0</td><td style=\"text-align: right;\">     nan</td><td>nan    </td><td>nan          </td><td style=\"text-align: right;\">        0</td><td style=\"text-align: right;\">       9</td><td style=\"text-align: right;\">    2008</td><td>WD        </td><td>Normal         </td><td style=\"text-align: right;\">     223500</td></tr>\n",
       "<tr><td style=\"text-align: right;\">   4</td><td style=\"text-align: right;\">          70</td><td>RL        </td><td style=\"text-align: right;\">           60</td><td style=\"text-align: right;\">     9550</td><td>Pave    </td><td style=\"text-align: right;\">    nan</td><td>IR1       </td><td>Lvl          </td><td>AllPub     </td><td>Corner     </td><td>Gtl        </td><td>Crawfor       </td><td>Norm        </td><td>Norm        </td><td>1Fam      </td><td>2Story      </td><td style=\"text-align: right;\">            7</td><td style=\"text-align: right;\">            5</td><td style=\"text-align: right;\">       1915</td><td style=\"text-align: right;\">          1970</td><td>Gable      </td><td>CompShg   </td><td>Wd Sdng      </td><td>Wd Shng      </td><td>None        </td><td style=\"text-align: right;\">           0</td><td>TA         </td><td>TA         </td><td>BrkTil      </td><td>TA        </td><td>Gd        </td><td>No            </td><td>ALQ           </td><td style=\"text-align: right;\">         216</td><td>Unf           </td><td style=\"text-align: right;\">           0</td><td style=\"text-align: right;\">        540</td><td style=\"text-align: right;\">          756</td><td>GasA     </td><td>Gd         </td><td>Y           </td><td>SBrkr       </td><td style=\"text-align: right;\">       961</td><td style=\"text-align: right;\">       756</td><td style=\"text-align: right;\">             0</td><td style=\"text-align: right;\">       1717</td><td style=\"text-align: right;\">             1</td><td style=\"text-align: right;\">             0</td><td style=\"text-align: right;\">         1</td><td style=\"text-align: right;\">         0</td><td style=\"text-align: right;\">             3</td><td style=\"text-align: right;\">             1</td><td>Gd           </td><td style=\"text-align: right;\">             7</td><td>Typ         </td><td style=\"text-align: right;\">           1</td><td>Gd           </td><td>Detchd      </td><td style=\"text-align: right;\">         1998</td><td>Unf           </td><td style=\"text-align: right;\">           3</td><td style=\"text-align: right;\">         642</td><td>TA          </td><td>TA          </td><td>Y           </td><td style=\"text-align: right;\">           0</td><td style=\"text-align: right;\">           35</td><td style=\"text-align: right;\">            272</td><td style=\"text-align: right;\">          0</td><td style=\"text-align: right;\">            0</td><td style=\"text-align: right;\">         0</td><td style=\"text-align: right;\">     nan</td><td>nan    </td><td>nan          </td><td style=\"text-align: right;\">        0</td><td style=\"text-align: right;\">       2</td><td style=\"text-align: right;\">    2006</td><td>WD        </td><td>Abnorml        </td><td style=\"text-align: right;\">     140000</td></tr>\n",
       "<tr><td style=\"text-align: right;\">   5</td><td style=\"text-align: right;\">          60</td><td>RL        </td><td style=\"text-align: right;\">           84</td><td style=\"text-align: right;\">    14260</td><td>Pave    </td><td style=\"text-align: right;\">    nan</td><td>IR1       </td><td>Lvl          </td><td>AllPub     </td><td>FR2        </td><td>Gtl        </td><td>NoRidge       </td><td>Norm        </td><td>Norm        </td><td>1Fam      </td><td>2Story      </td><td style=\"text-align: right;\">            8</td><td style=\"text-align: right;\">            5</td><td style=\"text-align: right;\">       2000</td><td style=\"text-align: right;\">          2000</td><td>Gable      </td><td>CompShg   </td><td>VinylSd      </td><td>VinylSd      </td><td>BrkFace     </td><td style=\"text-align: right;\">         350</td><td>Gd         </td><td>TA         </td><td>PConc       </td><td>Gd        </td><td>TA        </td><td>Av            </td><td>GLQ           </td><td style=\"text-align: right;\">         655</td><td>Unf           </td><td style=\"text-align: right;\">           0</td><td style=\"text-align: right;\">        490</td><td style=\"text-align: right;\">         1145</td><td>GasA     </td><td>Ex         </td><td>Y           </td><td>SBrkr       </td><td style=\"text-align: right;\">      1145</td><td style=\"text-align: right;\">      1053</td><td style=\"text-align: right;\">             0</td><td style=\"text-align: right;\">       2198</td><td style=\"text-align: right;\">             1</td><td style=\"text-align: right;\">             0</td><td style=\"text-align: right;\">         2</td><td style=\"text-align: right;\">         1</td><td style=\"text-align: right;\">             4</td><td style=\"text-align: right;\">             1</td><td>Gd           </td><td style=\"text-align: right;\">             9</td><td>Typ         </td><td style=\"text-align: right;\">           1</td><td>TA           </td><td>Attchd      </td><td style=\"text-align: right;\">         2000</td><td>RFn           </td><td style=\"text-align: right;\">           3</td><td style=\"text-align: right;\">         836</td><td>TA          </td><td>TA          </td><td>Y           </td><td style=\"text-align: right;\">         192</td><td style=\"text-align: right;\">           84</td><td style=\"text-align: right;\">              0</td><td style=\"text-align: right;\">          0</td><td style=\"text-align: right;\">            0</td><td style=\"text-align: right;\">         0</td><td style=\"text-align: right;\">     nan</td><td>nan    </td><td>nan          </td><td style=\"text-align: right;\">        0</td><td style=\"text-align: right;\">      12</td><td style=\"text-align: right;\">    2008</td><td>WD        </td><td>Normal         </td><td style=\"text-align: right;\">     250000</td></tr>\n",
       "<tr><td style=\"text-align: right;\">   6</td><td style=\"text-align: right;\">          50</td><td>RL        </td><td style=\"text-align: right;\">           85</td><td style=\"text-align: right;\">    14115</td><td>Pave    </td><td style=\"text-align: right;\">    nan</td><td>IR1       </td><td>Lvl          </td><td>AllPub     </td><td>Inside     </td><td>Gtl        </td><td>Mitchel       </td><td>Norm        </td><td>Norm        </td><td>1Fam      </td><td>1.5Fin      </td><td style=\"text-align: right;\">            5</td><td style=\"text-align: right;\">            5</td><td style=\"text-align: right;\">       1993</td><td style=\"text-align: right;\">          1995</td><td>Gable      </td><td>CompShg   </td><td>VinylSd      </td><td>VinylSd      </td><td>None        </td><td style=\"text-align: right;\">           0</td><td>TA         </td><td>TA         </td><td>Wood        </td><td>Gd        </td><td>TA        </td><td>No            </td><td>GLQ           </td><td style=\"text-align: right;\">         732</td><td>Unf           </td><td style=\"text-align: right;\">           0</td><td style=\"text-align: right;\">         64</td><td style=\"text-align: right;\">          796</td><td>GasA     </td><td>Ex         </td><td>Y           </td><td>SBrkr       </td><td style=\"text-align: right;\">       796</td><td style=\"text-align: right;\">       566</td><td style=\"text-align: right;\">             0</td><td style=\"text-align: right;\">       1362</td><td style=\"text-align: right;\">             1</td><td style=\"text-align: right;\">             0</td><td style=\"text-align: right;\">         1</td><td style=\"text-align: right;\">         1</td><td style=\"text-align: right;\">             1</td><td style=\"text-align: right;\">             1</td><td>TA           </td><td style=\"text-align: right;\">             5</td><td>Typ         </td><td style=\"text-align: right;\">           0</td><td>nan          </td><td>Attchd      </td><td style=\"text-align: right;\">         1993</td><td>Unf           </td><td style=\"text-align: right;\">           2</td><td style=\"text-align: right;\">         480</td><td>TA          </td><td>TA          </td><td>Y           </td><td style=\"text-align: right;\">          40</td><td style=\"text-align: right;\">           30</td><td style=\"text-align: right;\">              0</td><td style=\"text-align: right;\">        320</td><td style=\"text-align: right;\">            0</td><td style=\"text-align: right;\">         0</td><td style=\"text-align: right;\">     nan</td><td>MnPrv  </td><td>Shed         </td><td style=\"text-align: right;\">      700</td><td style=\"text-align: right;\">      10</td><td style=\"text-align: right;\">    2009</td><td>WD        </td><td>Normal         </td><td style=\"text-align: right;\">     143000</td></tr>\n",
       "<tr><td style=\"text-align: right;\">   7</td><td style=\"text-align: right;\">          20</td><td>RL        </td><td style=\"text-align: right;\">           75</td><td style=\"text-align: right;\">    10084</td><td>Pave    </td><td style=\"text-align: right;\">    nan</td><td>Reg       </td><td>Lvl          </td><td>AllPub     </td><td>Inside     </td><td>Gtl        </td><td>Somerst       </td><td>Norm        </td><td>Norm        </td><td>1Fam      </td><td>1Story      </td><td style=\"text-align: right;\">            8</td><td style=\"text-align: right;\">            5</td><td style=\"text-align: right;\">       2004</td><td style=\"text-align: right;\">          2005</td><td>Gable      </td><td>CompShg   </td><td>VinylSd      </td><td>VinylSd      </td><td>Stone       </td><td style=\"text-align: right;\">         186</td><td>Gd         </td><td>TA         </td><td>PConc       </td><td>Ex        </td><td>TA        </td><td>Av            </td><td>GLQ           </td><td style=\"text-align: right;\">        1369</td><td>Unf           </td><td style=\"text-align: right;\">           0</td><td style=\"text-align: right;\">        317</td><td style=\"text-align: right;\">         1686</td><td>GasA     </td><td>Ex         </td><td>Y           </td><td>SBrkr       </td><td style=\"text-align: right;\">      1694</td><td style=\"text-align: right;\">         0</td><td style=\"text-align: right;\">             0</td><td style=\"text-align: right;\">       1694</td><td style=\"text-align: right;\">             1</td><td style=\"text-align: right;\">             0</td><td style=\"text-align: right;\">         2</td><td style=\"text-align: right;\">         0</td><td style=\"text-align: right;\">             3</td><td style=\"text-align: right;\">             1</td><td>Gd           </td><td style=\"text-align: right;\">             7</td><td>Typ         </td><td style=\"text-align: right;\">           1</td><td>Gd           </td><td>Attchd      </td><td style=\"text-align: right;\">         2004</td><td>RFn           </td><td style=\"text-align: right;\">           2</td><td style=\"text-align: right;\">         636</td><td>TA          </td><td>TA          </td><td>Y           </td><td style=\"text-align: right;\">         255</td><td style=\"text-align: right;\">           57</td><td style=\"text-align: right;\">              0</td><td style=\"text-align: right;\">          0</td><td style=\"text-align: right;\">            0</td><td style=\"text-align: right;\">         0</td><td style=\"text-align: right;\">     nan</td><td>nan    </td><td>nan          </td><td style=\"text-align: right;\">        0</td><td style=\"text-align: right;\">       8</td><td style=\"text-align: right;\">    2007</td><td>WD        </td><td>Normal         </td><td style=\"text-align: right;\">     307000</td></tr>\n",
       "<tr><td style=\"text-align: right;\">   8</td><td style=\"text-align: right;\">          60</td><td>RL        </td><td style=\"text-align: right;\">          nan</td><td style=\"text-align: right;\">    10382</td><td>Pave    </td><td style=\"text-align: right;\">    nan</td><td>IR1       </td><td>Lvl          </td><td>AllPub     </td><td>Corner     </td><td>Gtl        </td><td>NWAmes        </td><td>PosN        </td><td>Norm        </td><td>1Fam      </td><td>2Story      </td><td style=\"text-align: right;\">            7</td><td style=\"text-align: right;\">            6</td><td style=\"text-align: right;\">       1973</td><td style=\"text-align: right;\">          1973</td><td>Gable      </td><td>CompShg   </td><td>HdBoard      </td><td>HdBoard      </td><td>Stone       </td><td style=\"text-align: right;\">         240</td><td>TA         </td><td>TA         </td><td>CBlock      </td><td>Gd        </td><td>TA        </td><td>Mn            </td><td>ALQ           </td><td style=\"text-align: right;\">         859</td><td>BLQ           </td><td style=\"text-align: right;\">          32</td><td style=\"text-align: right;\">        216</td><td style=\"text-align: right;\">         1107</td><td>GasA     </td><td>Ex         </td><td>Y           </td><td>SBrkr       </td><td style=\"text-align: right;\">      1107</td><td style=\"text-align: right;\">       983</td><td style=\"text-align: right;\">             0</td><td style=\"text-align: right;\">       2090</td><td style=\"text-align: right;\">             1</td><td style=\"text-align: right;\">             0</td><td style=\"text-align: right;\">         2</td><td style=\"text-align: right;\">         1</td><td style=\"text-align: right;\">             3</td><td style=\"text-align: right;\">             1</td><td>TA           </td><td style=\"text-align: right;\">             7</td><td>Typ         </td><td style=\"text-align: right;\">           2</td><td>TA           </td><td>Attchd      </td><td style=\"text-align: right;\">         1973</td><td>RFn           </td><td style=\"text-align: right;\">           2</td><td style=\"text-align: right;\">         484</td><td>TA          </td><td>TA          </td><td>Y           </td><td style=\"text-align: right;\">         235</td><td style=\"text-align: right;\">          204</td><td style=\"text-align: right;\">            228</td><td style=\"text-align: right;\">          0</td><td style=\"text-align: right;\">            0</td><td style=\"text-align: right;\">         0</td><td style=\"text-align: right;\">     nan</td><td>nan    </td><td>Shed         </td><td style=\"text-align: right;\">      350</td><td style=\"text-align: right;\">      11</td><td style=\"text-align: right;\">    2009</td><td>WD        </td><td>Normal         </td><td style=\"text-align: right;\">     200000</td></tr>\n",
       "<tr><td style=\"text-align: right;\">   9</td><td style=\"text-align: right;\">          50</td><td>RM        </td><td style=\"text-align: right;\">           51</td><td style=\"text-align: right;\">     6120</td><td>Pave    </td><td style=\"text-align: right;\">    nan</td><td>Reg       </td><td>Lvl          </td><td>AllPub     </td><td>Inside     </td><td>Gtl        </td><td>OldTown       </td><td>Artery      </td><td>Norm        </td><td>1Fam      </td><td>1.5Fin      </td><td style=\"text-align: right;\">            7</td><td style=\"text-align: right;\">            5</td><td style=\"text-align: right;\">       1931</td><td style=\"text-align: right;\">          1950</td><td>Gable      </td><td>CompShg   </td><td>BrkFace      </td><td>Wd Shng      </td><td>None        </td><td style=\"text-align: right;\">           0</td><td>TA         </td><td>TA         </td><td>BrkTil      </td><td>TA        </td><td>TA        </td><td>No            </td><td>Unf           </td><td style=\"text-align: right;\">           0</td><td>Unf           </td><td style=\"text-align: right;\">           0</td><td style=\"text-align: right;\">        952</td><td style=\"text-align: right;\">          952</td><td>GasA     </td><td>Gd         </td><td>Y           </td><td>FuseF       </td><td style=\"text-align: right;\">      1022</td><td style=\"text-align: right;\">       752</td><td style=\"text-align: right;\">             0</td><td style=\"text-align: right;\">       1774</td><td style=\"text-align: right;\">             0</td><td style=\"text-align: right;\">             0</td><td style=\"text-align: right;\">         2</td><td style=\"text-align: right;\">         0</td><td style=\"text-align: right;\">             2</td><td style=\"text-align: right;\">             2</td><td>TA           </td><td style=\"text-align: right;\">             8</td><td>Min1        </td><td style=\"text-align: right;\">           2</td><td>TA           </td><td>Detchd      </td><td style=\"text-align: right;\">         1931</td><td>Unf           </td><td style=\"text-align: right;\">           2</td><td style=\"text-align: right;\">         468</td><td>Fa          </td><td>TA          </td><td>Y           </td><td style=\"text-align: right;\">          90</td><td style=\"text-align: right;\">            0</td><td style=\"text-align: right;\">            205</td><td style=\"text-align: right;\">          0</td><td style=\"text-align: right;\">            0</td><td style=\"text-align: right;\">         0</td><td style=\"text-align: right;\">     nan</td><td>nan    </td><td>nan          </td><td style=\"text-align: right;\">        0</td><td style=\"text-align: right;\">       4</td><td style=\"text-align: right;\">    2008</td><td>WD        </td><td>Abnorml        </td><td style=\"text-align: right;\">     129900</td></tr>\n",
       "<tr><td style=\"text-align: right;\">  10</td><td style=\"text-align: right;\">         190</td><td>RL        </td><td style=\"text-align: right;\">           50</td><td style=\"text-align: right;\">     7420</td><td>Pave    </td><td style=\"text-align: right;\">    nan</td><td>Reg       </td><td>Lvl          </td><td>AllPub     </td><td>Corner     </td><td>Gtl        </td><td>BrkSide       </td><td>Artery      </td><td>Artery      </td><td>2fmCon    </td><td>1.5Unf      </td><td style=\"text-align: right;\">            5</td><td style=\"text-align: right;\">            6</td><td style=\"text-align: right;\">       1939</td><td style=\"text-align: right;\">          1950</td><td>Gable      </td><td>CompShg   </td><td>MetalSd      </td><td>MetalSd      </td><td>None        </td><td style=\"text-align: right;\">           0</td><td>TA         </td><td>TA         </td><td>BrkTil      </td><td>TA        </td><td>TA        </td><td>No            </td><td>GLQ           </td><td style=\"text-align: right;\">         851</td><td>Unf           </td><td style=\"text-align: right;\">           0</td><td style=\"text-align: right;\">        140</td><td style=\"text-align: right;\">          991</td><td>GasA     </td><td>Ex         </td><td>Y           </td><td>SBrkr       </td><td style=\"text-align: right;\">      1077</td><td style=\"text-align: right;\">         0</td><td style=\"text-align: right;\">             0</td><td style=\"text-align: right;\">       1077</td><td style=\"text-align: right;\">             1</td><td style=\"text-align: right;\">             0</td><td style=\"text-align: right;\">         1</td><td style=\"text-align: right;\">         0</td><td style=\"text-align: right;\">             2</td><td style=\"text-align: right;\">             2</td><td>TA           </td><td style=\"text-align: right;\">             5</td><td>Typ         </td><td style=\"text-align: right;\">           2</td><td>TA           </td><td>Attchd      </td><td style=\"text-align: right;\">         1939</td><td>RFn           </td><td style=\"text-align: right;\">           1</td><td style=\"text-align: right;\">         205</td><td>Gd          </td><td>TA          </td><td>Y           </td><td style=\"text-align: right;\">           0</td><td style=\"text-align: right;\">            4</td><td style=\"text-align: right;\">              0</td><td style=\"text-align: right;\">          0</td><td style=\"text-align: right;\">            0</td><td style=\"text-align: right;\">         0</td><td style=\"text-align: right;\">     nan</td><td>nan    </td><td>nan          </td><td style=\"text-align: right;\">        0</td><td style=\"text-align: right;\">       1</td><td style=\"text-align: right;\">    2008</td><td>WD        </td><td>Normal         </td><td style=\"text-align: right;\">     118000</td></tr>\n",
       "</tbody>\n",
       "</table>"
      ]
     },
     "metadata": {},
     "output_type": "display_data"
    },
    {
     "data": {
      "text/plain": []
     },
     "execution_count": 89,
     "metadata": {},
     "output_type": "execute_result"
    }
   ],
   "source": [
    "khous_h2.head()"
   ]
  },
  {
   "cell_type": "code",
   "execution_count": 117,
   "metadata": {
    "scrolled": false
   },
   "outputs": [
    {
     "name": "stdout",
     "output_type": "stream",
     "text": [
      "Parse progress: |█████████████████████████████████████████████████████████| 100%\n"
     ]
    }
   ],
   "source": [
    "khous_null_h2 = h2o.H2OFrame(khous_null_df)"
   ]
  },
  {
   "cell_type": "code",
   "execution_count": 174,
   "metadata": {},
   "outputs": [
    {
     "data": {
      "text/html": [
       "<table>\n",
       "<thead>\n",
       "<tr><th style=\"text-align: right;\">  Id</th><th style=\"text-align: right;\">  MSSubClass</th><th>MSZoning  </th><th style=\"text-align: right;\">  LotFrontage</th><th style=\"text-align: right;\">  LotArea</th><th>Street  </th><th style=\"text-align: right;\">  Alley</th><th>LotShape  </th><th>LandContour  </th><th>Utilities  </th><th>LotConfig  </th><th>LandSlope  </th><th>Neighborhood  </th><th>Condition1  </th><th>Condition2  </th><th>BldgType  </th><th>HouseStyle  </th><th style=\"text-align: right;\">  OverallQual</th><th style=\"text-align: right;\">  OverallCond</th><th style=\"text-align: right;\">  YearBuilt</th><th style=\"text-align: right;\">  YearRemodAdd</th><th>RoofStyle  </th><th>RoofMatl  </th><th>Exterior1st  </th><th>Exterior2nd  </th><th>MasVnrType  </th><th style=\"text-align: right;\">  MasVnrArea</th><th>ExterQual  </th><th>ExterCond  </th><th>Foundation  </th><th>BsmtQual  </th><th>BsmtCond  </th><th>BsmtExposure  </th><th>BsmtFinType1  </th><th style=\"text-align: right;\">  BsmtFinSF1</th><th>BsmtFinType2  </th><th style=\"text-align: right;\">  BsmtFinSF2</th><th style=\"text-align: right;\">  BsmtUnfSF</th><th style=\"text-align: right;\">  TotalBsmtSF</th><th>Heating  </th><th>HeatingQC  </th><th>CentralAir  </th><th>Electrical  </th><th style=\"text-align: right;\">  1stFlrSF</th><th style=\"text-align: right;\">  2ndFlrSF</th><th style=\"text-align: right;\">  LowQualFinSF</th><th style=\"text-align: right;\">  GrLivArea</th><th style=\"text-align: right;\">  BsmtFullBath</th><th style=\"text-align: right;\">  BsmtHalfBath</th><th style=\"text-align: right;\">  FullBath</th><th style=\"text-align: right;\">  HalfBath</th><th style=\"text-align: right;\">  BedroomAbvGr</th><th style=\"text-align: right;\">  KitchenAbvGr</th><th>KitchenQual  </th><th style=\"text-align: right;\">  TotRmsAbvGrd</th><th>Functional  </th><th style=\"text-align: right;\">  Fireplaces</th><th>FireplaceQu  </th><th>GarageType  </th><th style=\"text-align: right;\">  GarageYrBlt</th><th>GarageFinish  </th><th style=\"text-align: right;\">  GarageCars</th><th style=\"text-align: right;\">  GarageArea</th><th>GarageQual  </th><th>GarageCond  </th><th>PavedDrive  </th><th style=\"text-align: right;\">  WoodDeckSF</th><th style=\"text-align: right;\">  OpenPorchSF</th><th style=\"text-align: right;\">  EnclosedPorch</th><th style=\"text-align: right;\">  3SsnPorch</th><th style=\"text-align: right;\">  ScreenPorch</th><th style=\"text-align: right;\">  PoolArea</th><th style=\"text-align: right;\">  PoolQC</th><th>Fence  </th><th style=\"text-align: right;\">  MiscFeature</th><th style=\"text-align: right;\">  MiscVal</th><th style=\"text-align: right;\">  MoSold</th><th style=\"text-align: right;\">  YrSold</th><th>SaleType  </th><th>SaleCondition  </th><th style=\"text-align: right;\">  SalePrice</th></tr>\n",
       "</thead>\n",
       "<tbody>\n",
       "<tr><td style=\"text-align: right;\">   1</td><td style=\"text-align: right;\">         nan</td><td>nan       </td><td style=\"text-align: right;\">           65</td><td style=\"text-align: right;\">      nan</td><td>Pave    </td><td style=\"text-align: right;\">    nan</td><td>Reg       </td><td>nan          </td><td>AllPub     </td><td>nan        </td><td>nan        </td><td>CollgCr       </td><td>nan         </td><td>Norm        </td><td>1Fam      </td><td>2Story      </td><td style=\"text-align: right;\">            7</td><td style=\"text-align: right;\">          nan</td><td style=\"text-align: right;\">       2003</td><td style=\"text-align: right;\">          2003</td><td>Gable      </td><td>nan       </td><td>VinylSd      </td><td>VinylSd      </td><td>nan         </td><td style=\"text-align: right;\">         196</td><td>nan        </td><td>nan        </td><td>PConc       </td><td>Gd        </td><td>nan       </td><td>nan           </td><td>GLQ           </td><td style=\"text-align: right;\">         706</td><td>nan           </td><td style=\"text-align: right;\">         nan</td><td style=\"text-align: right;\">        nan</td><td style=\"text-align: right;\">          nan</td><td>nan      </td><td>Ex         </td><td>Y           </td><td>SBrkr       </td><td style=\"text-align: right;\">       nan</td><td style=\"text-align: right;\">       nan</td><td style=\"text-align: right;\">           nan</td><td style=\"text-align: right;\">       1710</td><td style=\"text-align: right;\">           nan</td><td style=\"text-align: right;\">             0</td><td style=\"text-align: right;\">       nan</td><td style=\"text-align: right;\">         1</td><td style=\"text-align: right;\">             3</td><td style=\"text-align: right;\">             1</td><td>nan          </td><td style=\"text-align: right;\">           nan</td><td>Typ         </td><td style=\"text-align: right;\">         nan</td><td>nan          </td><td>nan         </td><td style=\"text-align: right;\">         2003</td><td>RFn           </td><td style=\"text-align: right;\">         nan</td><td style=\"text-align: right;\">         548</td><td>TA          </td><td>nan         </td><td>nan         </td><td style=\"text-align: right;\">           0</td><td style=\"text-align: right;\">          nan</td><td style=\"text-align: right;\">              0</td><td style=\"text-align: right;\">        nan</td><td style=\"text-align: right;\">            0</td><td style=\"text-align: right;\">       nan</td><td style=\"text-align: right;\">     nan</td><td>nan    </td><td style=\"text-align: right;\">          nan</td><td style=\"text-align: right;\">        0</td><td style=\"text-align: right;\">     nan</td><td style=\"text-align: right;\">     nan</td><td>nan       </td><td>nan            </td><td style=\"text-align: right;\">     208500</td></tr>\n",
       "<tr><td style=\"text-align: right;\">   2</td><td style=\"text-align: right;\">         nan</td><td>nan       </td><td style=\"text-align: right;\">           80</td><td style=\"text-align: right;\">     9600</td><td>nan     </td><td style=\"text-align: right;\">    nan</td><td>nan       </td><td>nan          </td><td>AllPub     </td><td>nan        </td><td>nan        </td><td>nan           </td><td>Feedr       </td><td>Norm        </td><td>1Fam      </td><td>nan         </td><td style=\"text-align: right;\">            6</td><td style=\"text-align: right;\">          nan</td><td style=\"text-align: right;\">       1976</td><td style=\"text-align: right;\">           nan</td><td>nan        </td><td>CompShg   </td><td>nan          </td><td>MetalSd      </td><td>None        </td><td style=\"text-align: right;\">         nan</td><td>TA         </td><td>nan        </td><td>nan         </td><td>nan       </td><td>nan       </td><td>Gd            </td><td>ALQ           </td><td style=\"text-align: right;\">         nan</td><td>nan           </td><td style=\"text-align: right;\">           0</td><td style=\"text-align: right;\">        284</td><td style=\"text-align: right;\">         1262</td><td>GasA     </td><td>nan        </td><td>Y           </td><td>nan         </td><td style=\"text-align: right;\">       nan</td><td style=\"text-align: right;\">         0</td><td style=\"text-align: right;\">           nan</td><td style=\"text-align: right;\">        nan</td><td style=\"text-align: right;\">             0</td><td style=\"text-align: right;\">           nan</td><td style=\"text-align: right;\">         2</td><td style=\"text-align: right;\">         0</td><td style=\"text-align: right;\">           nan</td><td style=\"text-align: right;\">           nan</td><td>nan          </td><td style=\"text-align: right;\">           nan</td><td>nan         </td><td style=\"text-align: right;\">           1</td><td>TA           </td><td>Attchd      </td><td style=\"text-align: right;\">         1976</td><td>RFn           </td><td style=\"text-align: right;\">         nan</td><td style=\"text-align: right;\">         460</td><td>nan         </td><td>nan         </td><td>Y           </td><td style=\"text-align: right;\">         nan</td><td style=\"text-align: right;\">            0</td><td style=\"text-align: right;\">            nan</td><td style=\"text-align: right;\">        nan</td><td style=\"text-align: right;\">            0</td><td style=\"text-align: right;\">         0</td><td style=\"text-align: right;\">     nan</td><td>nan    </td><td style=\"text-align: right;\">          nan</td><td style=\"text-align: right;\">        0</td><td style=\"text-align: right;\">       5</td><td style=\"text-align: right;\">    2007</td><td>nan       </td><td>Normal         </td><td style=\"text-align: right;\">     181500</td></tr>\n",
       "<tr><td style=\"text-align: right;\"> nan</td><td style=\"text-align: right;\">          60</td><td>RL        </td><td style=\"text-align: right;\">           68</td><td style=\"text-align: right;\">      nan</td><td>Pave    </td><td style=\"text-align: right;\">    nan</td><td>IR1       </td><td>Lvl          </td><td>AllPub     </td><td>nan        </td><td>nan        </td><td>CollgCr       </td><td>nan         </td><td>Norm        </td><td>nan       </td><td>2Story      </td><td style=\"text-align: right;\">            7</td><td style=\"text-align: right;\">          nan</td><td style=\"text-align: right;\">        nan</td><td style=\"text-align: right;\">           nan</td><td>Gable      </td><td>nan       </td><td>VinylSd      </td><td>VinylSd      </td><td>BrkFace     </td><td style=\"text-align: right;\">         nan</td><td>nan        </td><td>TA         </td><td>PConc       </td><td>nan       </td><td>nan       </td><td>nan           </td><td>nan           </td><td style=\"text-align: right;\">         nan</td><td>Unf           </td><td style=\"text-align: right;\">         nan</td><td style=\"text-align: right;\">        nan</td><td style=\"text-align: right;\">          920</td><td>GasA     </td><td>nan        </td><td>nan         </td><td>SBrkr       </td><td style=\"text-align: right;\">       nan</td><td style=\"text-align: right;\">       nan</td><td style=\"text-align: right;\">             0</td><td style=\"text-align: right;\">       1786</td><td style=\"text-align: right;\">             1</td><td style=\"text-align: right;\">             0</td><td style=\"text-align: right;\">       nan</td><td style=\"text-align: right;\">         1</td><td style=\"text-align: right;\">             3</td><td style=\"text-align: right;\">             1</td><td>nan          </td><td style=\"text-align: right;\">             6</td><td>nan         </td><td style=\"text-align: right;\">         nan</td><td>TA           </td><td>Attchd      </td><td style=\"text-align: right;\">          nan</td><td>nan           </td><td style=\"text-align: right;\">           2</td><td style=\"text-align: right;\">         nan</td><td>TA          </td><td>nan         </td><td>Y           </td><td style=\"text-align: right;\">         nan</td><td style=\"text-align: right;\">           42</td><td style=\"text-align: right;\">              0</td><td style=\"text-align: right;\">          0</td><td style=\"text-align: right;\">            0</td><td style=\"text-align: right;\">         0</td><td style=\"text-align: right;\">     nan</td><td>nan    </td><td style=\"text-align: right;\">          nan</td><td style=\"text-align: right;\">      nan</td><td style=\"text-align: right;\">     nan</td><td style=\"text-align: right;\">    2008</td><td>nan       </td><td>nan            </td><td style=\"text-align: right;\">        nan</td></tr>\n",
       "<tr><td style=\"text-align: right;\">   4</td><td style=\"text-align: right;\">         nan</td><td>nan       </td><td style=\"text-align: right;\">          nan</td><td style=\"text-align: right;\">      nan</td><td>Pave    </td><td style=\"text-align: right;\">    nan</td><td>nan       </td><td>Lvl          </td><td>AllPub     </td><td>Corner     </td><td>Gtl        </td><td>Crawfor       </td><td>Norm        </td><td>nan         </td><td>1Fam      </td><td>2Story      </td><td style=\"text-align: right;\">            7</td><td style=\"text-align: right;\">            5</td><td style=\"text-align: right;\">        nan</td><td style=\"text-align: right;\">          1970</td><td>Gable      </td><td>nan       </td><td>nan          </td><td>Wd Shng      </td><td>None        </td><td style=\"text-align: right;\">         nan</td><td>nan        </td><td>TA         </td><td>nan         </td><td>nan       </td><td>Gd        </td><td>nan           </td><td>ALQ           </td><td style=\"text-align: right;\">         nan</td><td>nan           </td><td style=\"text-align: right;\">         nan</td><td style=\"text-align: right;\">        nan</td><td style=\"text-align: right;\">          756</td><td>nan      </td><td>nan        </td><td>nan         </td><td>SBrkr       </td><td style=\"text-align: right;\">       nan</td><td style=\"text-align: right;\">       nan</td><td style=\"text-align: right;\">             0</td><td style=\"text-align: right;\">        nan</td><td style=\"text-align: right;\">             1</td><td style=\"text-align: right;\">             0</td><td style=\"text-align: right;\">       nan</td><td style=\"text-align: right;\">       nan</td><td style=\"text-align: right;\">           nan</td><td style=\"text-align: right;\">           nan</td><td>nan          </td><td style=\"text-align: right;\">             7</td><td>nan         </td><td style=\"text-align: right;\">         nan</td><td>nan          </td><td>Detchd      </td><td style=\"text-align: right;\">         1998</td><td>nan           </td><td style=\"text-align: right;\">           3</td><td style=\"text-align: right;\">         642</td><td>TA          </td><td>TA          </td><td>Y           </td><td style=\"text-align: right;\">         nan</td><td style=\"text-align: right;\">          nan</td><td style=\"text-align: right;\">            nan</td><td style=\"text-align: right;\">          0</td><td style=\"text-align: right;\">            0</td><td style=\"text-align: right;\">         0</td><td style=\"text-align: right;\">     nan</td><td>nan    </td><td style=\"text-align: right;\">          nan</td><td style=\"text-align: right;\">        0</td><td style=\"text-align: right;\">       2</td><td style=\"text-align: right;\">     nan</td><td>WD        </td><td>Abnorml        </td><td style=\"text-align: right;\">     140000</td></tr>\n",
       "<tr><td style=\"text-align: right;\"> nan</td><td style=\"text-align: right;\">         nan</td><td>nan       </td><td style=\"text-align: right;\">          nan</td><td style=\"text-align: right;\">      nan</td><td>Pave    </td><td style=\"text-align: right;\">    nan</td><td>nan       </td><td>Lvl          </td><td>AllPub     </td><td>nan        </td><td>nan        </td><td>NoRidge       </td><td>Norm        </td><td>Norm        </td><td>nan       </td><td>2Story      </td><td style=\"text-align: right;\">            8</td><td style=\"text-align: right;\">          nan</td><td style=\"text-align: right;\">        nan</td><td style=\"text-align: right;\">          2000</td><td>nan        </td><td>nan       </td><td>VinylSd      </td><td>VinylSd      </td><td>BrkFace     </td><td style=\"text-align: right;\">         350</td><td>Gd         </td><td>TA         </td><td>nan         </td><td>Gd        </td><td>TA        </td><td>Av            </td><td>GLQ           </td><td style=\"text-align: right;\">         655</td><td>nan           </td><td style=\"text-align: right;\">         nan</td><td style=\"text-align: right;\">        490</td><td style=\"text-align: right;\">          nan</td><td>GasA     </td><td>Ex         </td><td>Y           </td><td>nan         </td><td style=\"text-align: right;\">       nan</td><td style=\"text-align: right;\">      1053</td><td style=\"text-align: right;\">             0</td><td style=\"text-align: right;\">        nan</td><td style=\"text-align: right;\">             1</td><td style=\"text-align: right;\">           nan</td><td style=\"text-align: right;\">         2</td><td style=\"text-align: right;\">         1</td><td style=\"text-align: right;\">           nan</td><td style=\"text-align: right;\">           nan</td><td>Gd           </td><td style=\"text-align: right;\">             9</td><td>nan         </td><td style=\"text-align: right;\">         nan</td><td>nan          </td><td>Attchd      </td><td style=\"text-align: right;\">          nan</td><td>nan           </td><td style=\"text-align: right;\">           3</td><td style=\"text-align: right;\">         nan</td><td>TA          </td><td>TA          </td><td>Y           </td><td style=\"text-align: right;\">         192</td><td style=\"text-align: right;\">           84</td><td style=\"text-align: right;\">            nan</td><td style=\"text-align: right;\">          0</td><td style=\"text-align: right;\">          nan</td><td style=\"text-align: right;\">       nan</td><td style=\"text-align: right;\">     nan</td><td>nan    </td><td style=\"text-align: right;\">          nan</td><td style=\"text-align: right;\">        0</td><td style=\"text-align: right;\">      12</td><td style=\"text-align: right;\">     nan</td><td>WD        </td><td>Normal         </td><td style=\"text-align: right;\">        nan</td></tr>\n",
       "<tr><td style=\"text-align: right;\">   6</td><td style=\"text-align: right;\">          50</td><td>RL        </td><td style=\"text-align: right;\">           85</td><td style=\"text-align: right;\">      nan</td><td>Pave    </td><td style=\"text-align: right;\">    nan</td><td>nan       </td><td>Lvl          </td><td>nan        </td><td>Inside     </td><td>Gtl        </td><td>nan           </td><td>nan         </td><td>nan         </td><td>1Fam      </td><td>nan         </td><td style=\"text-align: right;\">            5</td><td style=\"text-align: right;\">            5</td><td style=\"text-align: right;\">        nan</td><td style=\"text-align: right;\">           nan</td><td>Gable      </td><td>CompShg   </td><td>nan          </td><td>VinylSd      </td><td>None        </td><td style=\"text-align: right;\">           0</td><td>nan        </td><td>nan        </td><td>nan         </td><td>Gd        </td><td>nan       </td><td>nan           </td><td>GLQ           </td><td style=\"text-align: right;\">         732</td><td>Unf           </td><td style=\"text-align: right;\">         nan</td><td style=\"text-align: right;\">         64</td><td style=\"text-align: right;\">          796</td><td>GasA     </td><td>nan        </td><td>Y           </td><td>SBrkr       </td><td style=\"text-align: right;\">       nan</td><td style=\"text-align: right;\">       566</td><td style=\"text-align: right;\">           nan</td><td style=\"text-align: right;\">       1362</td><td style=\"text-align: right;\">             1</td><td style=\"text-align: right;\">           nan</td><td style=\"text-align: right;\">       nan</td><td style=\"text-align: right;\">       nan</td><td style=\"text-align: right;\">             1</td><td style=\"text-align: right;\">           nan</td><td>TA           </td><td style=\"text-align: right;\">             5</td><td>nan         </td><td style=\"text-align: right;\">         nan</td><td>nan          </td><td>nan         </td><td style=\"text-align: right;\">         1993</td><td>Unf           </td><td style=\"text-align: right;\">           2</td><td style=\"text-align: right;\">         nan</td><td>nan         </td><td>TA          </td><td>nan         </td><td style=\"text-align: right;\">         nan</td><td style=\"text-align: right;\">           30</td><td style=\"text-align: right;\">              0</td><td style=\"text-align: right;\">        320</td><td style=\"text-align: right;\">          nan</td><td style=\"text-align: right;\">         0</td><td style=\"text-align: right;\">     nan</td><td>MnPrv  </td><td style=\"text-align: right;\">          nan</td><td style=\"text-align: right;\">      700</td><td style=\"text-align: right;\">     nan</td><td style=\"text-align: right;\">     nan</td><td>nan       </td><td>Normal         </td><td style=\"text-align: right;\">     143000</td></tr>\n",
       "<tr><td style=\"text-align: right;\"> nan</td><td style=\"text-align: right;\">         nan</td><td>nan       </td><td style=\"text-align: right;\">           75</td><td style=\"text-align: right;\">      nan</td><td>Pave    </td><td style=\"text-align: right;\">    nan</td><td>nan       </td><td>nan          </td><td>AllPub     </td><td>nan        </td><td>nan        </td><td>nan           </td><td>nan         </td><td>Norm        </td><td>1Fam      </td><td>nan         </td><td style=\"text-align: right;\">            8</td><td style=\"text-align: right;\">          nan</td><td style=\"text-align: right;\">        nan</td><td style=\"text-align: right;\">          2005</td><td>Gable      </td><td>CompShg   </td><td>VinylSd      </td><td>nan          </td><td>Stone       </td><td style=\"text-align: right;\">         186</td><td>Gd         </td><td>TA         </td><td>nan         </td><td>nan       </td><td>TA        </td><td>Av            </td><td>nan           </td><td style=\"text-align: right;\">        1369</td><td>nan           </td><td style=\"text-align: right;\">           0</td><td style=\"text-align: right;\">        317</td><td style=\"text-align: right;\">         1686</td><td>nan      </td><td>Ex         </td><td>nan         </td><td>SBrkr       </td><td style=\"text-align: right;\">       nan</td><td style=\"text-align: right;\">         0</td><td style=\"text-align: right;\">           nan</td><td style=\"text-align: right;\">        nan</td><td style=\"text-align: right;\">             1</td><td style=\"text-align: right;\">           nan</td><td style=\"text-align: right;\">         2</td><td style=\"text-align: right;\">         0</td><td style=\"text-align: right;\">           nan</td><td style=\"text-align: right;\">             1</td><td>nan          </td><td style=\"text-align: right;\">             7</td><td>Typ         </td><td style=\"text-align: right;\">         nan</td><td>Gd           </td><td>nan         </td><td style=\"text-align: right;\">          nan</td><td>RFn           </td><td style=\"text-align: right;\">           2</td><td style=\"text-align: right;\">         nan</td><td>TA          </td><td>TA          </td><td>Y           </td><td style=\"text-align: right;\">         255</td><td style=\"text-align: right;\">           57</td><td style=\"text-align: right;\">              0</td><td style=\"text-align: right;\">        nan</td><td style=\"text-align: right;\">          nan</td><td style=\"text-align: right;\">         0</td><td style=\"text-align: right;\">     nan</td><td>nan    </td><td style=\"text-align: right;\">          nan</td><td style=\"text-align: right;\">        0</td><td style=\"text-align: right;\">       8</td><td style=\"text-align: right;\">     nan</td><td>nan       </td><td>nan            </td><td style=\"text-align: right;\">        nan</td></tr>\n",
       "<tr><td style=\"text-align: right;\">   8</td><td style=\"text-align: right;\">         nan</td><td>RL        </td><td style=\"text-align: right;\">          nan</td><td style=\"text-align: right;\">    10382</td><td>nan     </td><td style=\"text-align: right;\">    nan</td><td>nan       </td><td>Lvl          </td><td>AllPub     </td><td>Corner     </td><td>Gtl        </td><td>NWAmes        </td><td>nan         </td><td>nan         </td><td>1Fam      </td><td>nan         </td><td style=\"text-align: right;\">            7</td><td style=\"text-align: right;\">          nan</td><td style=\"text-align: right;\">       1973</td><td style=\"text-align: right;\">          1973</td><td>nan        </td><td>CompShg   </td><td>HdBoard      </td><td>HdBoard      </td><td>Stone       </td><td style=\"text-align: right;\">         nan</td><td>nan        </td><td>nan        </td><td>nan         </td><td>nan       </td><td>nan       </td><td>Mn            </td><td>ALQ           </td><td style=\"text-align: right;\">         859</td><td>BLQ           </td><td style=\"text-align: right;\">          32</td><td style=\"text-align: right;\">        nan</td><td style=\"text-align: right;\">         1107</td><td>nan      </td><td>nan        </td><td>nan         </td><td>SBrkr       </td><td style=\"text-align: right;\">      1107</td><td style=\"text-align: right;\">       nan</td><td style=\"text-align: right;\">           nan</td><td style=\"text-align: right;\">       2090</td><td style=\"text-align: right;\">             1</td><td style=\"text-align: right;\">             0</td><td style=\"text-align: right;\">       nan</td><td style=\"text-align: right;\">         1</td><td style=\"text-align: right;\">             3</td><td style=\"text-align: right;\">           nan</td><td>TA           </td><td style=\"text-align: right;\">             7</td><td>nan         </td><td style=\"text-align: right;\">           2</td><td>nan          </td><td>nan         </td><td style=\"text-align: right;\">         1973</td><td>nan           </td><td style=\"text-align: right;\">           2</td><td style=\"text-align: right;\">         nan</td><td>TA          </td><td>TA          </td><td>Y           </td><td style=\"text-align: right;\">         nan</td><td style=\"text-align: right;\">          nan</td><td style=\"text-align: right;\">            nan</td><td style=\"text-align: right;\">          0</td><td style=\"text-align: right;\">          nan</td><td style=\"text-align: right;\">       nan</td><td style=\"text-align: right;\">     nan</td><td>nan    </td><td style=\"text-align: right;\">          nan</td><td style=\"text-align: right;\">      350</td><td style=\"text-align: right;\">      11</td><td style=\"text-align: right;\">     nan</td><td>WD        </td><td>nan            </td><td style=\"text-align: right;\">        nan</td></tr>\n",
       "<tr><td style=\"text-align: right;\"> nan</td><td style=\"text-align: right;\">         nan</td><td>RM        </td><td style=\"text-align: right;\">          nan</td><td style=\"text-align: right;\">      nan</td><td>nan     </td><td style=\"text-align: right;\">    nan</td><td>Reg       </td><td>nan          </td><td>nan        </td><td>nan        </td><td>nan        </td><td>nan           </td><td>Artery      </td><td>Norm        </td><td>nan       </td><td>1.5Fin      </td><td style=\"text-align: right;\">          nan</td><td style=\"text-align: right;\">            5</td><td style=\"text-align: right;\">       1931</td><td style=\"text-align: right;\">           nan</td><td>Gable      </td><td>nan       </td><td>nan          </td><td>nan          </td><td>None        </td><td style=\"text-align: right;\">           0</td><td>TA         </td><td>TA         </td><td>BrkTil      </td><td>TA        </td><td>nan       </td><td>No            </td><td>Unf           </td><td style=\"text-align: right;\">         nan</td><td>Unf           </td><td style=\"text-align: right;\">           0</td><td style=\"text-align: right;\">        952</td><td style=\"text-align: right;\">          952</td><td>nan      </td><td>nan        </td><td>nan         </td><td>FuseF       </td><td style=\"text-align: right;\">      1022</td><td style=\"text-align: right;\">       752</td><td style=\"text-align: right;\">             0</td><td style=\"text-align: right;\">        nan</td><td style=\"text-align: right;\">             0</td><td style=\"text-align: right;\">             0</td><td style=\"text-align: right;\">       nan</td><td style=\"text-align: right;\">       nan</td><td style=\"text-align: right;\">           nan</td><td style=\"text-align: right;\">             2</td><td>nan          </td><td style=\"text-align: right;\">             8</td><td>Min1        </td><td style=\"text-align: right;\">         nan</td><td>TA           </td><td>nan         </td><td style=\"text-align: right;\">         1931</td><td>nan           </td><td style=\"text-align: right;\">           2</td><td style=\"text-align: right;\">         468</td><td>Fa          </td><td>nan         </td><td>nan         </td><td style=\"text-align: right;\">          90</td><td style=\"text-align: right;\">          nan</td><td style=\"text-align: right;\">            205</td><td style=\"text-align: right;\">        nan</td><td style=\"text-align: right;\">            0</td><td style=\"text-align: right;\">       nan</td><td style=\"text-align: right;\">     nan</td><td>nan    </td><td style=\"text-align: right;\">          nan</td><td style=\"text-align: right;\">        0</td><td style=\"text-align: right;\">       4</td><td style=\"text-align: right;\">     nan</td><td>WD        </td><td>nan            </td><td style=\"text-align: right;\">        nan</td></tr>\n",
       "<tr><td style=\"text-align: right;\"> nan</td><td style=\"text-align: right;\">         nan</td><td>nan       </td><td style=\"text-align: right;\">          nan</td><td style=\"text-align: right;\">     7420</td><td>nan     </td><td style=\"text-align: right;\">    nan</td><td>nan       </td><td>nan          </td><td>nan        </td><td>nan        </td><td>Gtl        </td><td>nan           </td><td>nan         </td><td>Artery      </td><td>nan       </td><td>1.5Unf      </td><td style=\"text-align: right;\">          nan</td><td style=\"text-align: right;\">          nan</td><td style=\"text-align: right;\">        nan</td><td style=\"text-align: right;\">          1950</td><td>nan        </td><td>nan       </td><td>nan          </td><td>nan          </td><td>None        </td><td style=\"text-align: right;\">           0</td><td>nan        </td><td>TA         </td><td>BrkTil      </td><td>TA        </td><td>TA        </td><td>nan           </td><td>GLQ           </td><td style=\"text-align: right;\">         nan</td><td>nan           </td><td style=\"text-align: right;\">           0</td><td style=\"text-align: right;\">        nan</td><td style=\"text-align: right;\">          991</td><td>GasA     </td><td>Ex         </td><td>Y           </td><td>nan         </td><td style=\"text-align: right;\">       nan</td><td style=\"text-align: right;\">         0</td><td style=\"text-align: right;\">           nan</td><td style=\"text-align: right;\">       1077</td><td style=\"text-align: right;\">           nan</td><td style=\"text-align: right;\">           nan</td><td style=\"text-align: right;\">         1</td><td style=\"text-align: right;\">       nan</td><td style=\"text-align: right;\">           nan</td><td style=\"text-align: right;\">           nan</td><td>nan          </td><td style=\"text-align: right;\">             5</td><td>nan         </td><td style=\"text-align: right;\">         nan</td><td>nan          </td><td>nan         </td><td style=\"text-align: right;\">         1939</td><td>RFn           </td><td style=\"text-align: right;\">           1</td><td style=\"text-align: right;\">         205</td><td>nan         </td><td>nan         </td><td>nan         </td><td style=\"text-align: right;\">           0</td><td style=\"text-align: right;\">          nan</td><td style=\"text-align: right;\">            nan</td><td style=\"text-align: right;\">          0</td><td style=\"text-align: right;\">            0</td><td style=\"text-align: right;\">         0</td><td style=\"text-align: right;\">     nan</td><td>nan    </td><td style=\"text-align: right;\">          nan</td><td style=\"text-align: right;\">        0</td><td style=\"text-align: right;\">       1</td><td style=\"text-align: right;\">     nan</td><td>nan       </td><td>nan            </td><td style=\"text-align: right;\">     118000</td></tr>\n",
       "</tbody>\n",
       "</table>"
      ]
     },
     "metadata": {},
     "output_type": "display_data"
    },
    {
     "data": {
      "text/plain": []
     },
     "execution_count": 174,
     "metadata": {},
     "output_type": "execute_result"
    }
   ],
   "source": [
    "khous_null_h2.head()"
   ]
  },
  {
   "cell_type": "markdown",
   "metadata": {},
   "source": [
    "## Build Models\n",
    "\n",
    "First let's try with all the defaults:"
   ]
  },
  {
   "cell_type": "code",
   "execution_count": 164,
   "metadata": {
    "scrolled": true
   },
   "outputs": [
    {
     "name": "stdout",
     "output_type": "stream",
     "text": [
      "glrm Model Build progress: |██████████████████████████████████████████████| 100%\n"
     ]
    }
   ],
   "source": [
    "glrmodel_1 = H2OGeneralizedLowRankEstimator(k=10)\n",
    "glrmodel_1.train(training_frame=khous_h2)"
   ]
  },
  {
   "cell_type": "code",
   "execution_count": 175,
   "metadata": {
    "scrolled": true
   },
   "outputs": [
    {
     "data": {
      "text/html": [
       "<table>\n",
       "<thead>\n",
       "<tr><th style=\"text-align: right;\">      Id</th><th style=\"text-align: right;\">  MSSubClass</th><th>MSZoning  </th><th style=\"text-align: right;\">  LotFrontage</th><th style=\"text-align: right;\">  LotArea</th><th>Street  </th><th style=\"text-align: right;\">  Alley</th><th>LotShape  </th><th>LandContour  </th><th>Utilities  </th><th>LotConfig  </th><th>LandSlope  </th><th>Neighborhood  </th><th>Condition1  </th><th>Condition2  </th><th>BldgType  </th><th>HouseStyle  </th><th style=\"text-align: right;\">  OverallQual</th><th style=\"text-align: right;\">  OverallCond</th><th style=\"text-align: right;\">  YearBuilt</th><th style=\"text-align: right;\">  YearRemodAdd</th><th>RoofStyle  </th><th>RoofMatl  </th><th>Exterior1st  </th><th>Exterior2nd  </th><th>MasVnrType  </th><th style=\"text-align: right;\">   MasVnrArea</th><th>ExterQual  </th><th>ExterCond  </th><th>Foundation  </th><th>BsmtQual  </th><th>BsmtCond  </th><th>BsmtExposure  </th><th>BsmtFinType1  </th><th style=\"text-align: right;\">  BsmtFinSF1</th><th>BsmtFinType2  </th><th style=\"text-align: right;\">  BsmtFinSF2</th><th style=\"text-align: right;\">  BsmtUnfSF</th><th style=\"text-align: right;\">  TotalBsmtSF</th><th>Heating  </th><th>HeatingQC  </th><th>CentralAir  </th><th>Electrical  </th><th style=\"text-align: right;\">  1stFlrSF</th><th style=\"text-align: right;\">  2ndFlrSF</th><th style=\"text-align: right;\">  LowQualFinSF</th><th style=\"text-align: right;\">  GrLivArea</th><th style=\"text-align: right;\">  BsmtFullBath</th><th style=\"text-align: right;\">  BsmtHalfBath</th><th style=\"text-align: right;\">  FullBath</th><th style=\"text-align: right;\">  HalfBath</th><th style=\"text-align: right;\">  BedroomAbvGr</th><th style=\"text-align: right;\">  KitchenAbvGr</th><th>KitchenQual  </th><th style=\"text-align: right;\">  TotRmsAbvGrd</th><th>Functional  </th><th style=\"text-align: right;\">  Fireplaces</th><th>FireplaceQu  </th><th>GarageType  </th><th style=\"text-align: right;\">  GarageYrBlt</th><th>GarageFinish  </th><th style=\"text-align: right;\">  GarageCars</th><th style=\"text-align: right;\">  GarageArea</th><th>GarageQual  </th><th>GarageCond  </th><th>PavedDrive  </th><th style=\"text-align: right;\">  WoodDeckSF</th><th style=\"text-align: right;\">  OpenPorchSF</th><th style=\"text-align: right;\">  EnclosedPorch</th><th style=\"text-align: right;\">    3SsnPorch</th><th style=\"text-align: right;\">  ScreenPorch</th><th style=\"text-align: right;\">     PoolArea</th><th>PoolQC  </th><th>Fence  </th><th>MiscFeature  </th><th style=\"text-align: right;\">  MiscVal</th><th style=\"text-align: right;\">  MoSold</th><th style=\"text-align: right;\">  YrSold</th><th>SaleType  </th><th>SaleCondition  </th><th style=\"text-align: right;\">  SalePrice</th></tr>\n",
       "</thead>\n",
       "<tbody>\n",
       "<tr><td style=\"text-align: right;\"> 724.49 </td><td style=\"text-align: right;\">     39.1379</td><td>RL        </td><td style=\"text-align: right;\">      72.9108</td><td style=\"text-align: right;\"> 10659   </td><td>Pave    </td><td style=\"text-align: right;\">    nan</td><td>Reg       </td><td>Lvl          </td><td>AllPub     </td><td>Inside     </td><td>Gtl        </td><td>NAmes         </td><td>Norm        </td><td>Norm        </td><td>1Fam      </td><td>1Story      </td><td style=\"text-align: right;\">      5.31527</td><td style=\"text-align: right;\">      5.8867 </td><td style=\"text-align: right;\">    1965.62</td><td style=\"text-align: right;\">       1977.26</td><td>Gable      </td><td>CompShg   </td><td>HdBoard      </td><td>HdBoard      </td><td>None        </td><td style=\"text-align: right;\"> 69.1034     </td><td>TA         </td><td>TA         </td><td>CBlock      </td><td>TA        </td><td>TA        </td><td>No            </td><td>ALQ           </td><td style=\"text-align: right;\">     590.663</td><td>Unf           </td><td style=\"text-align: right;\">    103.054 </td><td style=\"text-align: right;\">    358.086</td><td style=\"text-align: right;\">     1051.8  </td><td>GasA     </td><td>TA         </td><td>Y           </td><td>SBrkr       </td><td style=\"text-align: right;\">  1144.77 </td><td style=\"text-align: right;\">  56.3103 </td><td style=\"text-align: right;\">   0.571429   </td><td style=\"text-align: right;\">    1201.66</td><td style=\"text-align: right;\">      0.600985</td><td style=\"text-align: right;\">   0.1133     </td><td style=\"text-align: right;\">   1.1798 </td><td style=\"text-align: right;\">  0.236453</td><td style=\"text-align: right;\">       2.72167</td><td style=\"text-align: right;\">       1.00493</td><td>TA           </td><td style=\"text-align: right;\">       5.68473</td><td>Typ         </td><td style=\"text-align: right;\">    0.529557</td><td>nan          </td><td>Attchd      </td><td style=\"text-align: right;\">      1969.89</td><td>Unf           </td><td style=\"text-align: right;\">     1.59113</td><td style=\"text-align: right;\">     444.025</td><td>TA          </td><td>TA          </td><td>Y           </td><td style=\"text-align: right;\">     87.3744</td><td style=\"text-align: right;\">      30.1552</td><td style=\"text-align: right;\">       11.6798 </td><td style=\"text-align: right;\">  0.55665    </td><td style=\"text-align: right;\"> 20.8547     </td><td style=\"text-align: right;\"> -1.19904e-14</td><td>nan     </td><td>nan    </td><td>nan          </td><td style=\"text-align: right;\"> 69.5567 </td><td style=\"text-align: right;\"> 6.05665</td><td style=\"text-align: right;\"> 2007.91</td><td>WD        </td><td>Normal         </td><td style=\"text-align: right;\">     148173</td></tr>\n",
       "<tr><td style=\"text-align: right;\"> 749.898</td><td style=\"text-align: right;\">     58.2453</td><td>RL        </td><td style=\"text-align: right;\">      59.3714</td><td style=\"text-align: right;\">  7986.98</td><td>Pave    </td><td style=\"text-align: right;\">    nan</td><td>Reg       </td><td>Lvl          </td><td>AllPub     </td><td>Inside     </td><td>Gtl        </td><td>OldTown       </td><td>Norm        </td><td>Norm        </td><td>1Fam      </td><td>1.5Fin      </td><td style=\"text-align: right;\">      5.16149</td><td style=\"text-align: right;\">      5.91615</td><td style=\"text-align: right;\">    1936.09</td><td style=\"text-align: right;\">       1969.42</td><td>Gable      </td><td>CompShg   </td><td>Wd Sdng      </td><td>Wd Sdng      </td><td>None        </td><td style=\"text-align: right;\"> 25.3696     </td><td>TA         </td><td>TA         </td><td>CBlock      </td><td>TA        </td><td>TA        </td><td>No            </td><td>Unf           </td><td style=\"text-align: right;\">     160.714</td><td>Unf           </td><td style=\"text-align: right;\">     17.9845</td><td style=\"text-align: right;\">    553.366</td><td style=\"text-align: right;\">      732.065</td><td>GasA     </td><td>TA         </td><td>Y           </td><td>SBrkr       </td><td style=\"text-align: right;\">   878.54 </td><td style=\"text-align: right;\"> 361.506  </td><td style=\"text-align: right;\">   2.6677     </td><td style=\"text-align: right;\">    1242.71</td><td style=\"text-align: right;\">      0.15528 </td><td style=\"text-align: right;\">   0.0372671  </td><td style=\"text-align: right;\">   1.15217</td><td style=\"text-align: right;\">  0.245342</td><td style=\"text-align: right;\">       2.73913</td><td style=\"text-align: right;\">       1      </td><td>TA           </td><td style=\"text-align: right;\">       5.87267</td><td>Typ         </td><td style=\"text-align: right;\">    0.375776</td><td>nan          </td><td>Detchd      </td><td style=\"text-align: right;\">      1955.42</td><td>Unf           </td><td style=\"text-align: right;\">     1.05901</td><td style=\"text-align: right;\">     279.63 </td><td>TA          </td><td>TA          </td><td>Y           </td><td style=\"text-align: right;\">     40.3851</td><td style=\"text-align: right;\">      23.4938</td><td style=\"text-align: right;\">       58.2795 </td><td style=\"text-align: right;\">  0.434783   </td><td style=\"text-align: right;\"> 11.9006     </td><td style=\"text-align: right;\"> -1.02141e-14</td><td>nan     </td><td>nan    </td><td>nan          </td><td style=\"text-align: right;\"> 27.559  </td><td style=\"text-align: right;\"> 6.37578</td><td style=\"text-align: right;\"> 2007.8 </td><td>WD        </td><td>Normal         </td><td style=\"text-align: right;\">     117872</td></tr>\n",
       "<tr><td style=\"text-align: right;\"> 673.427</td><td style=\"text-align: right;\">     60.4895</td><td>RL        </td><td style=\"text-align: right;\">      84.2479</td><td style=\"text-align: right;\"> 13821.9 </td><td>Pave    </td><td style=\"text-align: right;\">    nan</td><td>IR1       </td><td>Lvl          </td><td>AllPub     </td><td>Inside     </td><td>Gtl        </td><td>NoRidge       </td><td>Norm        </td><td>Norm        </td><td>1Fam      </td><td>2Story      </td><td style=\"text-align: right;\">      7.63636</td><td style=\"text-align: right;\">      5.51049</td><td style=\"text-align: right;\">    1988.36</td><td style=\"text-align: right;\">       1997.09</td><td>Gable      </td><td>CompShg   </td><td>VinylSd      </td><td>VinylSd      </td><td>BrkFace     </td><td style=\"text-align: right;\">303.657      </td><td>Gd         </td><td>TA         </td><td>PConc       </td><td>Gd        </td><td>TA        </td><td>No            </td><td>GLQ           </td><td style=\"text-align: right;\">     559.601</td><td>Unf           </td><td style=\"text-align: right;\">     39.1748</td><td style=\"text-align: right;\">    643.049</td><td style=\"text-align: right;\">     1241.83 </td><td>GasA     </td><td>Ex         </td><td>Y           </td><td>SBrkr       </td><td style=\"text-align: right;\">  1344.99 </td><td style=\"text-align: right;\">1060.36   </td><td style=\"text-align: right;\">  -5.32907e-15</td><td style=\"text-align: right;\">    2405.35</td><td style=\"text-align: right;\">      0.461538</td><td style=\"text-align: right;\">   0.048951   </td><td style=\"text-align: right;\">   2.1049 </td><td style=\"text-align: right;\">  0.951049</td><td style=\"text-align: right;\">       3.62937</td><td style=\"text-align: right;\">       1      </td><td>Gd           </td><td style=\"text-align: right;\">       8.87413</td><td>Typ         </td><td style=\"text-align: right;\">    1.18881 </td><td>Gd           </td><td>Attchd      </td><td style=\"text-align: right;\">      1990.85</td><td>Fin           </td><td style=\"text-align: right;\">     2.51049</td><td style=\"text-align: right;\">     684.888</td><td>TA          </td><td>TA          </td><td>Y           </td><td style=\"text-align: right;\">    176.231 </td><td style=\"text-align: right;\">      97.7972</td><td style=\"text-align: right;\">       12.6643 </td><td style=\"text-align: right;\">  1.77636e-15</td><td style=\"text-align: right;\"> 24.1119     </td><td style=\"text-align: right;\"> -2.22045e-15</td><td>nan     </td><td>nan    </td><td>nan          </td><td style=\"text-align: right;\"> 30.7692 </td><td style=\"text-align: right;\"> 7.05594</td><td style=\"text-align: right;\"> 2007.6 </td><td>WD        </td><td>Normal         </td><td style=\"text-align: right;\">     298456</td></tr>\n",
       "<tr><td style=\"text-align: right;\"> 401.75 </td><td style=\"text-align: right;\">     70     </td><td>RL        </td><td style=\"text-align: right;\">      90.0375</td><td style=\"text-align: right;\">163514   </td><td>Pave    </td><td style=\"text-align: right;\">    nan</td><td>IR2       </td><td>Low          </td><td>AllPub     </td><td>CulDSac    </td><td>Sev        </td><td>ClearCr       </td><td>Norm        </td><td>Norm        </td><td>1Fam      </td><td>1.5Fin      </td><td style=\"text-align: right;\">      6.25   </td><td style=\"text-align: right;\">      5.75   </td><td style=\"text-align: right;\">    1964.75</td><td style=\"text-align: right;\">       1984.5 </td><td>Gable      </td><td>CompShg   </td><td>Plywood      </td><td>Plywood      </td><td>None        </td><td style=\"text-align: right;\">205.75       </td><td>TA         </td><td>TA         </td><td>CBlock      </td><td>Gd        </td><td>TA        </td><td>Gd            </td><td>ALQ           </td><td style=\"text-align: right;\">    1100.25 </td><td>Unf           </td><td style=\"text-align: right;\">    241.75  </td><td style=\"text-align: right;\">    338.5  </td><td style=\"text-align: right;\">     1680.5  </td><td>GasA     </td><td>TA         </td><td>Y           </td><td>SBrkr       </td><td style=\"text-align: right;\">  1730.75 </td><td style=\"text-align: right;\"> 216.75   </td><td style=\"text-align: right;\">   0          </td><td style=\"text-align: right;\">    1947.5 </td><td style=\"text-align: right;\">      1.25    </td><td style=\"text-align: right;\">   0.25       </td><td style=\"text-align: right;\">   2      </td><td style=\"text-align: right;\">  0       </td><td style=\"text-align: right;\">       3      </td><td style=\"text-align: right;\">       1      </td><td>Gd           </td><td style=\"text-align: right;\">       6.75   </td><td>Typ         </td><td style=\"text-align: right;\">    2       </td><td>Gd           </td><td>Attchd      </td><td style=\"text-align: right;\">      1964.75</td><td>Fin           </td><td style=\"text-align: right;\">     2      </td><td style=\"text-align: right;\">     542.5  </td><td>TA          </td><td>TA          </td><td>Y           </td><td style=\"text-align: right;\">    262.5   </td><td style=\"text-align: right;\">      36.5   </td><td style=\"text-align: right;\">        0      </td><td style=\"text-align: right;\">  0          </td><td style=\"text-align: right;\"> -1.77636e-15</td><td style=\"text-align: right;\">  0          </td><td>nan     </td><td>nan    </td><td>Shed         </td><td style=\"text-align: right;\">300      </td><td style=\"text-align: right;\"> 6.5    </td><td style=\"text-align: right;\"> 2007.75</td><td>WD        </td><td>Normal         </td><td style=\"text-align: right;\">     295738</td></tr>\n",
       "<tr><td style=\"text-align: right;\"> 569.533</td><td style=\"text-align: right;\">     67.6667</td><td>RL        </td><td style=\"text-align: right;\">      74.7367</td><td style=\"text-align: right;\"> 10311.8 </td><td>Pave    </td><td style=\"text-align: right;\">    nan</td><td>Reg       </td><td>Lvl          </td><td>AllPub     </td><td>Inside     </td><td>Gtl        </td><td>SWISU         </td><td>Norm        </td><td>Norm        </td><td>1Fam      </td><td>1.5Fin      </td><td style=\"text-align: right;\">      5.53333</td><td style=\"text-align: right;\">      5.8    </td><td style=\"text-align: right;\">    1924.2 </td><td style=\"text-align: right;\">       1971.73</td><td>Gable      </td><td>CompShg   </td><td>Wd Sdng      </td><td>Wd Sdng      </td><td>None        </td><td style=\"text-align: right;\"> -1.42109e-14</td><td>TA         </td><td>TA         </td><td>BrkTil      </td><td>TA        </td><td>TA        </td><td>No            </td><td>Unf           </td><td style=\"text-align: right;\">     137    </td><td>Unf           </td><td style=\"text-align: right;\">     77.4   </td><td style=\"text-align: right;\">    729.2  </td><td style=\"text-align: right;\">      943.6  </td><td>GasA     </td><td>Ex         </td><td>Y           </td><td>SBrkr       </td><td style=\"text-align: right;\">  1151.33 </td><td style=\"text-align: right;\"> 541.267  </td><td style=\"text-align: right;\"> 450.467      </td><td style=\"text-align: right;\">    2143.07</td><td style=\"text-align: right;\">      0.2     </td><td style=\"text-align: right;\">   6.93889e-18</td><td style=\"text-align: right;\">   1.53333</td><td style=\"text-align: right;\">  0.266667</td><td style=\"text-align: right;\">       3.73333</td><td style=\"text-align: right;\">       1.06667</td><td>TA           </td><td style=\"text-align: right;\">       8.66667</td><td>Typ         </td><td style=\"text-align: right;\">    0.533333</td><td>nan          </td><td>Detchd      </td><td style=\"text-align: right;\">      1975.5 </td><td>Unf           </td><td style=\"text-align: right;\">     1.2    </td><td style=\"text-align: right;\">     354.333</td><td>TA          </td><td>TA          </td><td>Y           </td><td style=\"text-align: right;\">     86.6667</td><td style=\"text-align: right;\">      57.7333</td><td style=\"text-align: right;\">       29.0667 </td><td style=\"text-align: right;\"> -4.44089e-16</td><td style=\"text-align: right;\"> 27.3333     </td><td style=\"text-align: right;\">  4.44089e-16</td><td>nan     </td><td>nan    </td><td>nan          </td><td style=\"text-align: right;\"> 26.6667 </td><td style=\"text-align: right;\"> 5.6    </td><td style=\"text-align: right;\"> 2007.67</td><td>WD        </td><td>Normal         </td><td style=\"text-align: right;\">     162900</td></tr>\n",
       "<tr><td style=\"text-align: right;\"> 614.25 </td><td style=\"text-align: right;\">     43     </td><td>RL        </td><td style=\"text-align: right;\">      80.4125</td><td style=\"text-align: right;\"> 11825   </td><td>Pave    </td><td style=\"text-align: right;\">    nan</td><td>IR1       </td><td>Lvl          </td><td>AllPub     </td><td>Inside     </td><td>Gtl        </td><td>Crawfor       </td><td>Norm        </td><td>Norm        </td><td>1Fam      </td><td>1Story      </td><td style=\"text-align: right;\">      6.55   </td><td style=\"text-align: right;\">      5.85   </td><td style=\"text-align: right;\">    1980.95</td><td style=\"text-align: right;\">       1994.05</td><td>Gable      </td><td>CompShg   </td><td>VinylSd      </td><td>VinylSd      </td><td>BrkFace     </td><td style=\"text-align: right;\">150.4        </td><td>Gd         </td><td>TA         </td><td>PConc       </td><td>Gd        </td><td>TA        </td><td>No            </td><td>GLQ           </td><td style=\"text-align: right;\">     593.8  </td><td>Unf           </td><td style=\"text-align: right;\">      4.8   </td><td style=\"text-align: right;\">    587.25 </td><td style=\"text-align: right;\">     1185.85 </td><td>GasA     </td><td>Ex         </td><td>Y           </td><td>SBrkr       </td><td style=\"text-align: right;\">  1359.05 </td><td style=\"text-align: right;\"> 288      </td><td style=\"text-align: right;\">   0          </td><td style=\"text-align: right;\">    1647.05</td><td style=\"text-align: right;\">      0.5     </td><td style=\"text-align: right;\">   0.15       </td><td style=\"text-align: right;\">   1.7    </td><td style=\"text-align: right;\">  0.4     </td><td style=\"text-align: right;\">       2.75   </td><td style=\"text-align: right;\">       1      </td><td>Gd           </td><td style=\"text-align: right;\">       6.5    </td><td>Typ         </td><td style=\"text-align: right;\">    0.7     </td><td>Gd           </td><td>Attchd      </td><td style=\"text-align: right;\">      1986.3 </td><td>RFn           </td><td style=\"text-align: right;\">     2      </td><td style=\"text-align: right;\">     544.45 </td><td>TA          </td><td>TA          </td><td>Y           </td><td style=\"text-align: right;\">     73.9   </td><td style=\"text-align: right;\">      42.1   </td><td style=\"text-align: right;\">        3.5    </td><td style=\"text-align: right;\">229.45       </td><td style=\"text-align: right;\">  1.77636e-15</td><td style=\"text-align: right;\">  0          </td><td>nan     </td><td>nan    </td><td>nan          </td><td style=\"text-align: right;\"> 35      </td><td style=\"text-align: right;\"> 6.75   </td><td style=\"text-align: right;\"> 2008   </td><td>WD        </td><td>Normal         </td><td style=\"text-align: right;\">     217781</td></tr>\n",
       "<tr><td style=\"text-align: right;\"> 760.081</td><td style=\"text-align: right;\">    112.5   </td><td>RL        </td><td style=\"text-align: right;\">      69.4887</td><td style=\"text-align: right;\">  9839.87</td><td>Pave    </td><td style=\"text-align: right;\">    nan</td><td>Reg       </td><td>Lvl          </td><td>AllPub     </td><td>Inside     </td><td>Gtl        </td><td>OldTown       </td><td>Norm        </td><td>Norm        </td><td>Duplex    </td><td>1Story      </td><td style=\"text-align: right;\">      4.87097</td><td style=\"text-align: right;\">      5.1129 </td><td style=\"text-align: right;\">    1946.24</td><td style=\"text-align: right;\">       1968.69</td><td>Gable      </td><td>CompShg   </td><td>MetalSd      </td><td>MetalSd      </td><td>None        </td><td style=\"text-align: right;\"> 75.1078     </td><td>TA         </td><td>TA         </td><td>CBlock      </td><td>TA        </td><td>TA        </td><td>No            </td><td>Unf           </td><td style=\"text-align: right;\">     231.129</td><td>Unf           </td><td style=\"text-align: right;\">     16.9677</td><td style=\"text-align: right;\">    645.839</td><td style=\"text-align: right;\">      893.935</td><td>GasA     </td><td>TA         </td><td>Y           </td><td>SBrkr       </td><td style=\"text-align: right;\">  1296.27 </td><td style=\"text-align: right;\"> 462.887  </td><td style=\"text-align: right;\">   0          </td><td style=\"text-align: right;\">    1759.16</td><td style=\"text-align: right;\">      0.225806</td><td style=\"text-align: right;\">   0.0483871  </td><td style=\"text-align: right;\">   2      </td><td style=\"text-align: right;\">  0.177419</td><td style=\"text-align: right;\">       3.79032</td><td style=\"text-align: right;\">       2.03226</td><td>TA           </td><td style=\"text-align: right;\">       8.45161</td><td>Typ         </td><td style=\"text-align: right;\">    0.225806</td><td>nan          </td><td>Detchd      </td><td style=\"text-align: right;\">      1966.05</td><td>Unf           </td><td style=\"text-align: right;\">     1.54839</td><td style=\"text-align: right;\">     404.613</td><td>TA          </td><td>TA          </td><td>Y           </td><td style=\"text-align: right;\">     36.0161</td><td style=\"text-align: right;\">      21.9032</td><td style=\"text-align: right;\">       34.2581 </td><td style=\"text-align: right;\"> -4.44089e-16</td><td style=\"text-align: right;\">  1.59677    </td><td style=\"text-align: right;\">  4.44089e-16</td><td>nan     </td><td>nan    </td><td>nan          </td><td style=\"text-align: right;\">198.387  </td><td style=\"text-align: right;\"> 6.75806</td><td style=\"text-align: right;\"> 2007.92</td><td>WD        </td><td>Normal         </td><td style=\"text-align: right;\">     127865</td></tr>\n",
       "<tr><td style=\"text-align: right;\"> 725.224</td><td style=\"text-align: right;\">     44.5669</td><td>RL        </td><td style=\"text-align: right;\">      72.9075</td><td style=\"text-align: right;\"> 10529.7 </td><td>Pave    </td><td style=\"text-align: right;\">    nan</td><td>Reg       </td><td>Lvl          </td><td>AllPub     </td><td>Inside     </td><td>Gtl        </td><td>CollgCr       </td><td>Norm        </td><td>Norm        </td><td>1Fam      </td><td>1Story      </td><td style=\"text-align: right;\">      7.5    </td><td style=\"text-align: right;\">      5.10236</td><td style=\"text-align: right;\">    2000.41</td><td style=\"text-align: right;\">       2001.68</td><td>Gable      </td><td>CompShg   </td><td>VinylSd      </td><td>VinylSd      </td><td>BrkFace     </td><td style=\"text-align: right;\">175.693      </td><td>Gd         </td><td>TA         </td><td>PConc       </td><td>Gd        </td><td>TA        </td><td>No            </td><td>GLQ           </td><td style=\"text-align: right;\">     639.126</td><td>Unf           </td><td style=\"text-align: right;\">     31.0354</td><td style=\"text-align: right;\">    917.65 </td><td style=\"text-align: right;\">     1587.81 </td><td>GasA     </td><td>Ex         </td><td>Y           </td><td>SBrkr       </td><td style=\"text-align: right;\">  1614.24 </td><td style=\"text-align: right;\">   4.98819</td><td style=\"text-align: right;\">   6.21725e-15</td><td style=\"text-align: right;\">    1619.23</td><td style=\"text-align: right;\">      0.57874 </td><td style=\"text-align: right;\">   0.023622   </td><td style=\"text-align: right;\">   1.94488</td><td style=\"text-align: right;\">  0.102362</td><td style=\"text-align: right;\">       2.5315 </td><td style=\"text-align: right;\">       1.00394</td><td>Gd           </td><td style=\"text-align: right;\">       6.58268</td><td>Typ         </td><td style=\"text-align: right;\">    0.799213</td><td>Gd           </td><td>Attchd      </td><td style=\"text-align: right;\">      2000.54</td><td>Fin           </td><td style=\"text-align: right;\">     2.35827</td><td style=\"text-align: right;\">     636.764</td><td>TA          </td><td>TA          </td><td>Y           </td><td style=\"text-align: right;\">    143.882 </td><td style=\"text-align: right;\">      66.7795</td><td style=\"text-align: right;\">        7.62205</td><td style=\"text-align: right;\">  0.0905512  </td><td style=\"text-align: right;\"> 15.1575     </td><td style=\"text-align: right;\"> -8.43769e-15</td><td>nan     </td><td>nan    </td><td>nan          </td><td style=\"text-align: right;\">  9.44882</td><td style=\"text-align: right;\"> 6.55906</td><td style=\"text-align: right;\"> 2007.82</td><td>WD        </td><td>Normal         </td><td style=\"text-align: right;\">     248837</td></tr>\n",
       "<tr><td style=\"text-align: right;\"> 763.789</td><td style=\"text-align: right;\">     83.2159</td><td>RL        </td><td style=\"text-align: right;\">      64.4881</td><td style=\"text-align: right;\">  8755.52</td><td>Pave    </td><td style=\"text-align: right;\">    nan</td><td>Reg       </td><td>Lvl          </td><td>AllPub     </td><td>Inside     </td><td>Gtl        </td><td>Gilbert       </td><td>Norm        </td><td>Norm        </td><td>1Fam      </td><td>2Story      </td><td style=\"text-align: right;\">      6.5815 </td><td style=\"text-align: right;\">      5.19383</td><td style=\"text-align: right;\">    1997.02</td><td style=\"text-align: right;\">       1998.26</td><td>Gable      </td><td>CompShg   </td><td>VinylSd      </td><td>VinylSd      </td><td>None        </td><td style=\"text-align: right;\"> 77.2676     </td><td>Gd         </td><td>TA         </td><td>PConc       </td><td>Gd        </td><td>TA        </td><td>No            </td><td>GLQ           </td><td style=\"text-align: right;\">     310.048</td><td>Unf           </td><td style=\"text-align: right;\">     11.1894</td><td style=\"text-align: right;\">    498.573</td><td style=\"text-align: right;\">      819.811</td><td>GasA     </td><td>Ex         </td><td>Y           </td><td>SBrkr       </td><td style=\"text-align: right;\">   889.057</td><td style=\"text-align: right;\"> 725.132  </td><td style=\"text-align: right;\">   1.29075    </td><td style=\"text-align: right;\">    1615.48</td><td style=\"text-align: right;\">      0.330396</td><td style=\"text-align: right;\">   0.0220264  </td><td style=\"text-align: right;\">   1.92511</td><td style=\"text-align: right;\">  0.859031</td><td style=\"text-align: right;\">       2.87225</td><td style=\"text-align: right;\">       1      </td><td>Gd           </td><td style=\"text-align: right;\">       6.62555</td><td>Typ         </td><td style=\"text-align: right;\">    0.577093</td><td>nan          </td><td>Attchd      </td><td style=\"text-align: right;\">      1997.53</td><td>RFn           </td><td style=\"text-align: right;\">     2.02203</td><td style=\"text-align: right;\">     494.427</td><td>TA          </td><td>TA          </td><td>Y           </td><td style=\"text-align: right;\">     87.5419</td><td style=\"text-align: right;\">      59.1322</td><td style=\"text-align: right;\">        7.11894</td><td style=\"text-align: right;\">  9.32587e-15</td><td style=\"text-align: right;\">  6.35683    </td><td style=\"text-align: right;\"> -7.99361e-15</td><td>nan     </td><td>nan    </td><td>nan          </td><td style=\"text-align: right;\"> 13.1278 </td><td style=\"text-align: right;\"> 5.92511</td><td style=\"text-align: right;\"> 2007.79</td><td>WD        </td><td>Normal         </td><td style=\"text-align: right;\">     185996</td></tr>\n",
       "<tr><td style=\"text-align: right;\">1067.57 </td><td style=\"text-align: right;\">     62.1429</td><td>RL        </td><td style=\"text-align: right;\">     135.864 </td><td style=\"text-align: right;\"> 23047.3 </td><td>Pave    </td><td style=\"text-align: right;\">    nan</td><td>IR1       </td><td>Lvl          </td><td>AllPub     </td><td>Corner     </td><td>Gtl        </td><td>Edwards       </td><td>Norm        </td><td>Norm        </td><td>1Fam      </td><td>2Story      </td><td style=\"text-align: right;\">      7.57143</td><td style=\"text-align: right;\">      5.42857</td><td style=\"text-align: right;\">    1973.86</td><td style=\"text-align: right;\">       1987.71</td><td>Gable      </td><td>CompShg   </td><td>Plywood      </td><td>Plywood      </td><td>None        </td><td style=\"text-align: right;\">154.143      </td><td>Gd         </td><td>TA         </td><td>CBlock      </td><td>TA        </td><td>TA        </td><td>Av            </td><td>GLQ           </td><td style=\"text-align: right;\">    1535.86 </td><td>Unf           </td><td style=\"text-align: right;\">    147.143 </td><td style=\"text-align: right;\">    330    </td><td style=\"text-align: right;\">     2013    </td><td>GasA     </td><td>TA         </td><td>Y           </td><td>SBrkr       </td><td style=\"text-align: right;\">  1979.57 </td><td style=\"text-align: right;\"> 913.286  </td><td style=\"text-align: right;\">  56          </td><td style=\"text-align: right;\">    2948.86</td><td style=\"text-align: right;\">      1       </td><td style=\"text-align: right;\">   0.142857   </td><td style=\"text-align: right;\">   2      </td><td style=\"text-align: right;\">  0.571429</td><td style=\"text-align: right;\">       3.71429</td><td style=\"text-align: right;\">       1      </td><td>Gd           </td><td style=\"text-align: right;\">       8.71429</td><td>Typ         </td><td style=\"text-align: right;\">    1.57143 </td><td>Gd           </td><td>Attchd      </td><td style=\"text-align: right;\">      1973.86</td><td>Fin           </td><td style=\"text-align: right;\">     2      </td><td style=\"text-align: right;\">     694.857</td><td>TA          </td><td>TA          </td><td>Y           </td><td style=\"text-align: right;\">    205.571 </td><td style=\"text-align: right;\">     104.857 </td><td style=\"text-align: right;\">       78.8571 </td><td style=\"text-align: right;\"> -4.44089e-16</td><td style=\"text-align: right;\"> 62.8571     </td><td style=\"text-align: right;\">575.429      </td><td>Gd      </td><td>GdPrv  </td><td>nan          </td><td style=\"text-align: right;\">285.714  </td><td style=\"text-align: right;\"> 4.85714</td><td style=\"text-align: right;\"> 2006.71</td><td>WD        </td><td>Normal         </td><td style=\"text-align: right;\">     288139</td></tr>\n",
       "</tbody>\n",
       "</table>"
      ]
     },
     "metadata": {},
     "output_type": "display_data"
    },
    {
     "data": {
      "text/plain": []
     },
     "execution_count": 175,
     "metadata": {},
     "output_type": "execute_result"
    }
   ],
   "source": [
    "glrmodel_1.proj_archetypes(khous_h2)"
   ]
  },
  {
   "cell_type": "code",
   "execution_count": 183,
   "metadata": {
    "scrolled": true
   },
   "outputs": [
    {
     "name": "stdout",
     "output_type": "stream",
     "text": [
      "               timestamp    duration  iterations  step_size     objective\n",
      "0    2018-07-04 12:54:40   0.753 sec         0.0   0.666667  1.091993e+13\n",
      "1    2018-07-04 12:54:40   0.911 sec         1.0   0.444444  1.091993e+13\n",
      "2    2018-07-04 12:54:41   1.056 sec         2.0   0.222222  1.091993e+13\n",
      "3    2018-07-04 12:54:41   1.247 sec         3.0   0.074074  1.091993e+13\n",
      "4    2018-07-04 12:54:41   1.410 sec         4.0   0.018519  1.091993e+13\n",
      "5    2018-07-04 12:54:41   1.585 sec         5.0   0.003704  1.091993e+13\n",
      "6    2018-07-04 12:54:41   1.759 sec         6.0   0.000617  1.091993e+13\n",
      "7    2018-07-04 12:54:41   1.920 sec         7.0   0.000088  1.091993e+13\n"
     ]
    },
    {
     "data": {
      "image/png": "[encoded data removed]",
      "text/plain": [
       "<matplotlib.figure.Figure at 0x10f28b400>"
      ]
     },
     "metadata": {},
     "output_type": "display_data"
    }
   ],
   "source": [
    "# Plot objective function value each iteration\n",
    "model_score = glrmodel_1.score_history()\n",
    "plt.xlabel(\"Iteration\")\n",
    "plt.ylabel(\"Objective\")\n",
    "plt.title(\"Objective Function Value per Iteration\")\n",
    "print(model_score)\n",
    "plt.plot(model_score[\"iterations\"], model_score[\"objective\"])\n",
    "plt.show()"
   ]
  },
  {
   "cell_type": "markdown",
   "metadata": {},
   "source": [
    "Weird: looks like this has an enormous error function output and doesn't decrease that error whatsoever over the course of iterations.\n",
    "\n",
    "I'll try manually defining loss functions here and see if that helps:"
   ]
  },
  {
   "cell_type": "code",
   "execution_count": 170,
   "metadata": {},
   "outputs": [
    {
     "data": {
      "text/plain": [
       "['Quadratic', 'Quadratic', 'Categorical', 'Quadratic', 'Quadratic']"
      ]
     },
     "execution_count": 170,
     "metadata": {},
     "output_type": "execute_result"
    }
   ],
   "source": [
    "# note: khous_h2.types is a dict\n",
    "loss_by_type = {'enum':'Categorical', \n",
    "                'int':'Quadratic'}\n",
    "ordered_dtypes = [khous_h2.types[colname] for colname in khous_h2.columns]\n",
    "col_loss_types = [loss_by_type[obj_type] for obj_type in ordered_dtypes]\n",
    "col_loss_types[:5]"
   ]
  },
  {
   "cell_type": "code",
   "execution_count": 172,
   "metadata": {},
   "outputs": [
    {
     "name": "stdout",
     "output_type": "stream",
     "text": [
      "glrm Model Build progress: |██████████████████████████████████████████████| 100%\n"
     ]
    }
   ],
   "source": [
    "glrmodel_2 = H2OGeneralizedLowRankEstimator(k=10, \n",
    "                                       max_iterations=100, \n",
    "                                       loss_by_col=col_loss_types, \n",
    "                                       impute_original=True)\n",
    "glrmodel_2.train(training_frame=khous_h2)"
   ]
  },
  {
   "cell_type": "code",
   "execution_count": 184,
   "metadata": {
    "scrolled": true
   },
   "outputs": [
    {
     "name": "stdout",
     "output_type": "stream",
     "text": [
      "               timestamp    duration  iterations  step_size     objective\n",
      "0    2018-07-04 12:58:56   0.625 sec         0.0   0.666667  9.575458e+12\n",
      "1    2018-07-04 12:58:56   0.750 sec         1.0   0.444444  9.575458e+12\n",
      "2    2018-07-04 12:58:56   0.864 sec         2.0   0.222222  9.575458e+12\n",
      "3    2018-07-04 12:58:56   0.991 sec         3.0   0.074074  9.575458e+12\n",
      "4    2018-07-04 12:58:57   1.154 sec         4.0   0.018519  9.575458e+12\n",
      "5    2018-07-04 12:58:57   1.276 sec         5.0   0.003704  9.575458e+12\n",
      "6    2018-07-04 12:58:57   1.512 sec         6.0   0.000617  9.575458e+12\n",
      "7    2018-07-04 12:58:58   2.051 sec         7.0   0.000088  9.575458e+12\n"
     ]
    },
    {
     "data": {
      "image/png": "[encoded data removed]",
      "text/plain": [
       "<matplotlib.figure.Figure at 0x1097449b0>"
      ]
     },
     "metadata": {},
     "output_type": "display_data"
    }
   ],
   "source": [
    "# Plot objective function value each iteration\n",
    "model_score = glrmodel_2.score_history()\n",
    "plt.xlabel(\"Iteration\")\n",
    "plt.ylabel(\"Objective\")\n",
    "plt.title(\"Objective Function Value per Iteration\")\n",
    "print(model_score)\n",
    "plt.plot(model_score[\"iterations\"], model_score[\"objective\"])\n",
    "plt.show()"
   ]
  },
  {
   "cell_type": "markdown",
   "metadata": {},
   "source": [
    "Well that ran fine, but changed nothing."
   ]
  },
  {
   "cell_type": "code",
   "execution_count": null,
   "metadata": {},
   "outputs": [],
   "source": [
    "# trying something else copied directly from an example, but produces an error:\n",
    "# glrmodel_4.train(x=khous_h2.names, training_frame=khous_h2)"
   ]
  },
  {
   "cell_type": "markdown",
   "metadata": {},
   "source": [
    "## Test and use model"
   ]
  },
  {
   "cell_type": "code",
   "execution_count": 97,
   "metadata": {
    "scrolled": true
   },
   "outputs": [
    {
     "data": {
      "text/html": [
       "<table>\n",
       "<thead>\n",
       "<tr><th style=\"text-align: right;\">      Id</th><th style=\"text-align: right;\">  MSSubClass</th><th>MSZoning  </th><th style=\"text-align: right;\">  LotFrontage</th><th style=\"text-align: right;\">  LotArea</th><th>Street  </th><th style=\"text-align: right;\">  Alley</th><th>LotShape  </th><th>LandContour  </th><th>Utilities  </th><th>LotConfig  </th><th>LandSlope  </th><th>Neighborhood  </th><th>Condition1  </th><th>Condition2  </th><th>BldgType  </th><th>HouseStyle  </th><th style=\"text-align: right;\">  OverallQual</th><th style=\"text-align: right;\">  OverallCond</th><th style=\"text-align: right;\">  YearBuilt</th><th style=\"text-align: right;\">  YearRemodAdd</th><th>RoofStyle  </th><th>RoofMatl  </th><th>Exterior1st  </th><th>Exterior2nd  </th><th>MasVnrType  </th><th style=\"text-align: right;\">  MasVnrArea</th><th>ExterQual  </th><th>ExterCond  </th><th>Foundation  </th><th>BsmtQual  </th><th>BsmtCond  </th><th>BsmtExposure  </th><th>BsmtFinType1  </th><th style=\"text-align: right;\">  BsmtFinSF1</th><th>BsmtFinType2  </th><th style=\"text-align: right;\">  BsmtFinSF2</th><th style=\"text-align: right;\">  BsmtUnfSF</th><th style=\"text-align: right;\">  TotalBsmtSF</th><th>Heating  </th><th>HeatingQC  </th><th>CentralAir  </th><th>Electrical  </th><th style=\"text-align: right;\">  1stFlrSF</th><th style=\"text-align: right;\">  2ndFlrSF</th><th style=\"text-align: right;\">  LowQualFinSF</th><th style=\"text-align: right;\">  GrLivArea</th><th style=\"text-align: right;\">  BsmtFullBath</th><th style=\"text-align: right;\">  BsmtHalfBath</th><th style=\"text-align: right;\">  FullBath</th><th style=\"text-align: right;\">  HalfBath</th><th style=\"text-align: right;\">  BedroomAbvGr</th><th style=\"text-align: right;\">  KitchenAbvGr</th><th>KitchenQual  </th><th style=\"text-align: right;\">  TotRmsAbvGrd</th><th>Functional  </th><th style=\"text-align: right;\">  Fireplaces</th><th>FireplaceQu  </th><th>GarageType  </th><th style=\"text-align: right;\">  GarageYrBlt</th><th>GarageFinish  </th><th style=\"text-align: right;\">  GarageCars</th><th style=\"text-align: right;\">  GarageArea</th><th>GarageQual  </th><th>GarageCond  </th><th>PavedDrive  </th><th style=\"text-align: right;\">  WoodDeckSF</th><th style=\"text-align: right;\">  OpenPorchSF</th><th style=\"text-align: right;\">  EnclosedPorch</th><th style=\"text-align: right;\">   3SsnPorch</th><th style=\"text-align: right;\">  ScreenPorch</th><th style=\"text-align: right;\">     PoolArea</th><th>PoolQC  </th><th style=\"text-align: right;\">  Fence</th><th>MiscFeature  </th><th style=\"text-align: right;\">  MiscVal</th><th style=\"text-align: right;\">  MoSold</th><th style=\"text-align: right;\">  YrSold</th><th>SaleType  </th><th>SaleCondition  </th><th style=\"text-align: right;\">  SalePrice</th></tr>\n",
       "</thead>\n",
       "<tbody>\n",
       "<tr><td style=\"text-align: right;\"> 685.98 </td><td style=\"text-align: right;\">     41.2626</td><td>RL        </td><td style=\"text-align: right;\">      86.6412</td><td style=\"text-align: right;\"> 13495.3 </td><td>Pave    </td><td style=\"text-align: right;\">    nan</td><td>IR1       </td><td>Lvl          </td><td>AllPub     </td><td>Inside     </td><td>Gtl        </td><td>NridgHt       </td><td>Norm        </td><td>Norm        </td><td>1Fam      </td><td>1Story      </td><td style=\"text-align: right;\">      8.13131</td><td style=\"text-align: right;\">      5.22727</td><td style=\"text-align: right;\">    1998.48</td><td style=\"text-align: right;\">       2001.81</td><td>Gable      </td><td>CompShg   </td><td>VinylSd      </td><td>VinylSd      </td><td>BrkFace     </td><td style=\"text-align: right;\">    336.958 </td><td>Gd         </td><td>TA         </td><td>PConc       </td><td>Gd        </td><td>TA        </td><td>No            </td><td>GLQ           </td><td style=\"text-align: right;\">     783    </td><td>Unf           </td><td style=\"text-align: right;\">     26.202 </td><td style=\"text-align: right;\">    823.808</td><td style=\"text-align: right;\">     1633.01 </td><td>GasA     </td><td>Ex         </td><td>Y           </td><td>SBrkr       </td><td style=\"text-align: right;\">  1663.53 </td><td style=\"text-align: right;\">  488.232 </td><td style=\"text-align: right;\">   1.77636e-15</td><td style=\"text-align: right;\">    2151.76</td><td style=\"text-align: right;\">     0.651515 </td><td style=\"text-align: right;\">   0.010101   </td><td style=\"text-align: right;\">   2.06061</td><td style=\"text-align: right;\">  0.510101</td><td style=\"text-align: right;\">       3.05556</td><td style=\"text-align: right;\">      1       </td><td>Gd           </td><td style=\"text-align: right;\">       8.09091</td><td>Typ         </td><td style=\"text-align: right;\">    1.12626 </td><td>Gd           </td><td>Attchd      </td><td style=\"text-align: right;\">      2000.02</td><td>Fin           </td><td style=\"text-align: right;\">     2.69192</td><td style=\"text-align: right;\">     743    </td><td>TA          </td><td>TA          </td><td>Y           </td><td style=\"text-align: right;\">    180.46  </td><td style=\"text-align: right;\">      88.6616</td><td style=\"text-align: right;\">       10.1616 </td><td style=\"text-align: right;\"> 2.38384    </td><td style=\"text-align: right;\"> 16.5556     </td><td style=\"text-align: right;\">  2.80303    </td><td>nan     </td><td style=\"text-align: right;\">    nan</td><td>nan          </td><td style=\"text-align: right;\"> 10.101  </td><td style=\"text-align: right;\"> 6.66667</td><td style=\"text-align: right;\"> 2007.78</td><td>WD        </td><td>Normal         </td><td style=\"text-align: right;\">     321946</td></tr>\n",
       "<tr><td style=\"text-align: right;\"> 401.75 </td><td style=\"text-align: right;\">     70     </td><td>RL        </td><td style=\"text-align: right;\">      90.0375</td><td style=\"text-align: right;\">163514   </td><td>Pave    </td><td style=\"text-align: right;\">    nan</td><td>IR2       </td><td>Low          </td><td>AllPub     </td><td>CulDSac    </td><td>Sev        </td><td>ClearCr       </td><td>Norm        </td><td>Norm        </td><td>1Fam      </td><td>1.5Fin      </td><td style=\"text-align: right;\">      6.25   </td><td style=\"text-align: right;\">      5.75   </td><td style=\"text-align: right;\">    1964.75</td><td style=\"text-align: right;\">       1984.5 </td><td>Gable      </td><td>CompShg   </td><td>Plywood      </td><td>Plywood      </td><td>None        </td><td style=\"text-align: right;\">    205.75  </td><td>TA         </td><td>TA         </td><td>CBlock      </td><td>Gd        </td><td>TA        </td><td>Gd            </td><td>ALQ           </td><td style=\"text-align: right;\">    1100.25 </td><td>Unf           </td><td style=\"text-align: right;\">    241.75  </td><td style=\"text-align: right;\">    338.5  </td><td style=\"text-align: right;\">     1680.5  </td><td>GasA     </td><td>TA         </td><td>Y           </td><td>SBrkr       </td><td style=\"text-align: right;\">  1730.75 </td><td style=\"text-align: right;\">  216.75  </td><td style=\"text-align: right;\">   0          </td><td style=\"text-align: right;\">    1947.5 </td><td style=\"text-align: right;\">     1.25     </td><td style=\"text-align: right;\">   0.25       </td><td style=\"text-align: right;\">   2      </td><td style=\"text-align: right;\">  0       </td><td style=\"text-align: right;\">       3      </td><td style=\"text-align: right;\">      1       </td><td>Gd           </td><td style=\"text-align: right;\">       6.75   </td><td>Typ         </td><td style=\"text-align: right;\">    2       </td><td>Gd           </td><td>Attchd      </td><td style=\"text-align: right;\">      1964.75</td><td>Fin           </td><td style=\"text-align: right;\">     2      </td><td style=\"text-align: right;\">     542.5  </td><td>TA          </td><td>TA          </td><td>Y           </td><td style=\"text-align: right;\">    262.5   </td><td style=\"text-align: right;\">      36.5   </td><td style=\"text-align: right;\">        0      </td><td style=\"text-align: right;\"> 0          </td><td style=\"text-align: right;\"> -1.77636e-15</td><td style=\"text-align: right;\">  0          </td><td>nan     </td><td style=\"text-align: right;\">    nan</td><td>Shed         </td><td style=\"text-align: right;\">300      </td><td style=\"text-align: right;\"> 6.5    </td><td style=\"text-align: right;\"> 2007.75</td><td>WD        </td><td>Normal         </td><td style=\"text-align: right;\">     295738</td></tr>\n",
       "<tr><td style=\"text-align: right;\"> 808.298</td><td style=\"text-align: right;\">     63.0124</td><td>RL        </td><td style=\"text-align: right;\">      69.0475</td><td style=\"text-align: right;\"> 11014.5 </td><td>Pave    </td><td style=\"text-align: right;\">    nan</td><td>Reg       </td><td>Lvl          </td><td>AllPub     </td><td>Inside     </td><td>Gtl        </td><td>Crawfor       </td><td>Norm        </td><td>Norm        </td><td>1Fam      </td><td>2Story      </td><td style=\"text-align: right;\">      6.06832</td><td style=\"text-align: right;\">      6.27329</td><td style=\"text-align: right;\">    1946.04</td><td style=\"text-align: right;\">       1975.6 </td><td>Gable      </td><td>CompShg   </td><td>Wd Sdng      </td><td>Wd Sdng      </td><td>None        </td><td style=\"text-align: right;\">     83.3851</td><td>TA         </td><td>TA         </td><td>CBlock      </td><td>TA        </td><td>TA        </td><td>No            </td><td>Unf           </td><td style=\"text-align: right;\">     251.28 </td><td>Unf           </td><td style=\"text-align: right;\">     48.236 </td><td style=\"text-align: right;\">    590.46 </td><td style=\"text-align: right;\">      889.975</td><td>GasA     </td><td>TA         </td><td>Y           </td><td>SBrkr       </td><td style=\"text-align: right;\">  1127.55 </td><td style=\"text-align: right;\">  721.304 </td><td style=\"text-align: right;\">   1.2236     </td><td style=\"text-align: right;\">    1850.08</td><td style=\"text-align: right;\">     0.186335 </td><td style=\"text-align: right;\">  -6.93889e-17</td><td style=\"text-align: right;\">   1.65839</td><td style=\"text-align: right;\">  0.639752</td><td style=\"text-align: right;\">       3.52795</td><td style=\"text-align: right;\">      1       </td><td>TA           </td><td style=\"text-align: right;\">       7.57764</td><td>Typ         </td><td style=\"text-align: right;\">    0.993789</td><td>Gd           </td><td>Attchd      </td><td style=\"text-align: right;\">      1957.54</td><td>Unf           </td><td style=\"text-align: right;\">     1.65217</td><td style=\"text-align: right;\">     421.416</td><td>TA          </td><td>TA          </td><td>Y           </td><td style=\"text-align: right;\">     81.8634</td><td style=\"text-align: right;\">      50.9006</td><td style=\"text-align: right;\">       40.9503 </td><td style=\"text-align: right;\"> 3.56522    </td><td style=\"text-align: right;\"> 39.8634     </td><td style=\"text-align: right;\">  7.80745    </td><td>nan     </td><td style=\"text-align: right;\">    nan</td><td>nan          </td><td style=\"text-align: right;\"> 45.3416 </td><td style=\"text-align: right;\"> 6.85093</td><td style=\"text-align: right;\"> 2007.66</td><td>WD        </td><td>Normal         </td><td style=\"text-align: right;\">     177573</td></tr>\n",
       "<tr><td style=\"text-align: right;\"> 732.146</td><td style=\"text-align: right;\">     41.3605</td><td>RL        </td><td style=\"text-align: right;\">      73.2582</td><td style=\"text-align: right;\"> 11194   </td><td>Pave    </td><td style=\"text-align: right;\">    nan</td><td>Reg       </td><td>Lvl          </td><td>AllPub     </td><td>Inside     </td><td>Gtl        </td><td>NAmes         </td><td>Norm        </td><td>Norm        </td><td>1Fam      </td><td>1Story      </td><td style=\"text-align: right;\">      5.40136</td><td style=\"text-align: right;\">      5.84354</td><td style=\"text-align: right;\">    1967.43</td><td style=\"text-align: right;\">       1978.04</td><td>Gable      </td><td>CompShg   </td><td>HdBoard      </td><td>HdBoard      </td><td>None        </td><td style=\"text-align: right;\">     75.5102</td><td>TA         </td><td>TA         </td><td>CBlock      </td><td>TA        </td><td>TA        </td><td>No            </td><td>ALQ           </td><td style=\"text-align: right;\">     660.541</td><td>Unf           </td><td style=\"text-align: right;\">    117.224 </td><td style=\"text-align: right;\">    319.095</td><td style=\"text-align: right;\">     1096.86 </td><td>GasA     </td><td>TA         </td><td>Y           </td><td>SBrkr       </td><td style=\"text-align: right;\">  1178.79 </td><td style=\"text-align: right;\">   24.2993</td><td style=\"text-align: right;\">   0          </td><td style=\"text-align: right;\">    1203.09</td><td style=\"text-align: right;\">     0.789116 </td><td style=\"text-align: right;\">   6.93889e-18</td><td style=\"text-align: right;\">   1.17347</td><td style=\"text-align: right;\">  0.238095</td><td style=\"text-align: right;\">       2.65646</td><td style=\"text-align: right;\">      1.0102  </td><td>TA           </td><td style=\"text-align: right;\">       5.66327</td><td>Typ         </td><td style=\"text-align: right;\">    0.595238</td><td>nan          </td><td>Attchd      </td><td style=\"text-align: right;\">      1970.63</td><td>Unf           </td><td style=\"text-align: right;\">     1.65306</td><td style=\"text-align: right;\">     466.439</td><td>TA          </td><td>TA          </td><td>Y           </td><td style=\"text-align: right;\">    102.041 </td><td style=\"text-align: right;\">      30.483 </td><td style=\"text-align: right;\">       12.398  </td><td style=\"text-align: right;\"> 4.81973    </td><td style=\"text-align: right;\"> 23.9184     </td><td style=\"text-align: right;\">  4.16327    </td><td>nan     </td><td style=\"text-align: right;\">    nan</td><td>nan          </td><td style=\"text-align: right;\"> 85.5442 </td><td style=\"text-align: right;\"> 5.96939</td><td style=\"text-align: right;\"> 2008.05</td><td>WD        </td><td>Normal         </td><td style=\"text-align: right;\">     152158</td></tr>\n",
       "<tr><td style=\"text-align: right;\"> 721.656</td><td style=\"text-align: right;\">     50.9825</td><td>RL        </td><td style=\"text-align: right;\">      59.4228</td><td style=\"text-align: right;\">  7494.69</td><td>Pave    </td><td style=\"text-align: right;\">    nan</td><td>Reg       </td><td>Lvl          </td><td>AllPub     </td><td>Inside     </td><td>Gtl        </td><td>OldTown       </td><td>Norm        </td><td>Norm        </td><td>1Fam      </td><td>1Story      </td><td style=\"text-align: right;\">      4.82456</td><td style=\"text-align: right;\">      5.72281</td><td style=\"text-align: right;\">    1942.36</td><td style=\"text-align: right;\">       1968.73</td><td>Gable      </td><td>CompShg   </td><td>MetalSd      </td><td>MetalSd      </td><td>None        </td><td style=\"text-align: right;\">     23.7333</td><td>TA         </td><td>TA         </td><td>CBlock      </td><td>TA        </td><td>TA        </td><td>No            </td><td>Unf           </td><td style=\"text-align: right;\">     208.119</td><td>Unf           </td><td style=\"text-align: right;\">     20.0772</td><td style=\"text-align: right;\">    509.509</td><td style=\"text-align: right;\">      737.705</td><td>GasA     </td><td>TA         </td><td>Y           </td><td>SBrkr       </td><td style=\"text-align: right;\">   865.467</td><td style=\"text-align: right;\">  190.902 </td><td style=\"text-align: right;\">   2.60351    </td><td style=\"text-align: right;\">    1058.97</td><td style=\"text-align: right;\">     0.175439 </td><td style=\"text-align: right;\">  -2.08167e-17</td><td style=\"text-align: right;\">   1.05263</td><td style=\"text-align: right;\">  0.136842</td><td style=\"text-align: right;\">       2.4807 </td><td style=\"text-align: right;\">      1       </td><td>TA           </td><td style=\"text-align: right;\">       5.28772</td><td>Typ         </td><td style=\"text-align: right;\">    0.203509</td><td>nan          </td><td>Detchd      </td><td style=\"text-align: right;\">      1959.94</td><td>Unf           </td><td style=\"text-align: right;\">     1.02105</td><td style=\"text-align: right;\">     278.288</td><td>TA          </td><td>TA          </td><td>Y           </td><td style=\"text-align: right;\">     30.7754</td><td style=\"text-align: right;\">      18.2105</td><td style=\"text-align: right;\">       48.9965 </td><td style=\"text-align: right;\"> 0.631579   </td><td style=\"text-align: right;\">  4.75088    </td><td style=\"text-align: right;\"> -8.88178e-15</td><td>nan     </td><td style=\"text-align: right;\">    nan</td><td>nan          </td><td style=\"text-align: right;\"> 34.6807 </td><td style=\"text-align: right;\"> 6.14737</td><td style=\"text-align: right;\"> 2007.79</td><td>WD        </td><td>Normal         </td><td style=\"text-align: right;\">     106640</td></tr>\n",
       "<tr><td style=\"text-align: right;\"> 709.16 </td><td style=\"text-align: right;\">     52.2667</td><td>RL        </td><td style=\"text-align: right;\">      68.104 </td><td style=\"text-align: right;\"> 10570.1 </td><td>Pave    </td><td style=\"text-align: right;\">    nan</td><td>Reg       </td><td>Lvl          </td><td>AllPub     </td><td>Inside     </td><td>Gtl        </td><td>NAmes         </td><td>Norm        </td><td>Norm        </td><td>1Fam      </td><td>1Story      </td><td style=\"text-align: right;\">      5.76   </td><td style=\"text-align: right;\">      6.17333</td><td style=\"text-align: right;\">    1966.87</td><td style=\"text-align: right;\">       1983.2 </td><td>Gable      </td><td>CompShg   </td><td>VinylSd      </td><td>VinylSd      </td><td>None        </td><td style=\"text-align: right;\">    102.427 </td><td>TA         </td><td>TA         </td><td>CBlock      </td><td>TA        </td><td>TA        </td><td>No            </td><td>ALQ           </td><td style=\"text-align: right;\">     555.773</td><td>Unf           </td><td style=\"text-align: right;\">     98.2533</td><td style=\"text-align: right;\">    359.213</td><td style=\"text-align: right;\">     1013.24 </td><td>GasA     </td><td>Ex         </td><td>Y           </td><td>SBrkr       </td><td style=\"text-align: right;\">  1130.57 </td><td style=\"text-align: right;\">  236.28  </td><td style=\"text-align: right;\">  -8.88178e-16</td><td style=\"text-align: right;\">    1366.85</td><td style=\"text-align: right;\">     0.0933333</td><td style=\"text-align: right;\">   1.02667    </td><td style=\"text-align: right;\">   1.37333</td><td style=\"text-align: right;\">  0.32    </td><td style=\"text-align: right;\">       2.88   </td><td style=\"text-align: right;\">      0.986667</td><td>TA           </td><td style=\"text-align: right;\">       6.08   </td><td>Typ         </td><td style=\"text-align: right;\">    0.653333</td><td>nan          </td><td>Attchd      </td><td style=\"text-align: right;\">      1971.29</td><td>Unf           </td><td style=\"text-align: right;\">     1.65333</td><td style=\"text-align: right;\">     434.427</td><td>TA          </td><td>TA          </td><td>Y           </td><td style=\"text-align: right;\">    120.173 </td><td style=\"text-align: right;\">      39.3467</td><td style=\"text-align: right;\">       14.8    </td><td style=\"text-align: right;\"> 8.6        </td><td style=\"text-align: right;\"> 23.8667     </td><td style=\"text-align: right;\">  4.44089e-16</td><td>nan     </td><td style=\"text-align: right;\">    nan</td><td>nan          </td><td style=\"text-align: right;\"> 25.0667 </td><td style=\"text-align: right;\"> 6.70667</td><td style=\"text-align: right;\"> 2007.61</td><td>WD        </td><td>Normal         </td><td style=\"text-align: right;\">     165198</td></tr>\n",
       "<tr><td style=\"text-align: right;\"> 593.588</td><td style=\"text-align: right;\">     68.2353</td><td>RL        </td><td style=\"text-align: right;\">      79.1206</td><td style=\"text-align: right;\"> 10902.7 </td><td>Pave    </td><td style=\"text-align: right;\">    nan</td><td>Reg       </td><td>Lvl          </td><td>AllPub     </td><td>Inside     </td><td>Gtl        </td><td>SWISU         </td><td>Norm        </td><td>Norm        </td><td>1Fam      </td><td>1.5Fin      </td><td style=\"text-align: right;\">      5.82353</td><td style=\"text-align: right;\">      5.64706</td><td style=\"text-align: right;\">    1920.76</td><td style=\"text-align: right;\">       1973.71</td><td>Gable      </td><td>CompShg   </td><td>Wd Sdng      </td><td>Wd Sdng      </td><td>None        </td><td style=\"text-align: right;\">      0     </td><td>TA         </td><td>TA         </td><td>BrkTil      </td><td>TA        </td><td>TA        </td><td>No            </td><td>Unf           </td><td style=\"text-align: right;\">     197.059</td><td>Unf           </td><td style=\"text-align: right;\">     79.1176</td><td style=\"text-align: right;\">    676.647</td><td style=\"text-align: right;\">      952.824</td><td>GasA     </td><td>Ex         </td><td>Y           </td><td>SBrkr       </td><td style=\"text-align: right;\">  1151.06 </td><td style=\"text-align: right;\">  629.059 </td><td style=\"text-align: right;\"> 432.588      </td><td style=\"text-align: right;\">    2212.71</td><td style=\"text-align: right;\">     0.235294 </td><td style=\"text-align: right;\">   0.0588235  </td><td style=\"text-align: right;\">   1.58824</td><td style=\"text-align: right;\">  0.235294</td><td style=\"text-align: right;\">       3.76471</td><td style=\"text-align: right;\">      1.05882 </td><td>TA           </td><td style=\"text-align: right;\">       8.58824</td><td>Typ         </td><td style=\"text-align: right;\">    0.529412</td><td>nan          </td><td>Detchd      </td><td style=\"text-align: right;\">      1972.3 </td><td>Unf           </td><td style=\"text-align: right;\">     1.17647</td><td style=\"text-align: right;\">     359.412</td><td>TA          </td><td>TA          </td><td>Y           </td><td style=\"text-align: right;\">     76.4706</td><td style=\"text-align: right;\">      55.0588</td><td style=\"text-align: right;\">       59.2941 </td><td style=\"text-align: right;\">-4.44089e-16</td><td style=\"text-align: right;\"> 24.1176     </td><td style=\"text-align: right;\"> 30.1176     </td><td>nan     </td><td style=\"text-align: right;\">    nan</td><td>nan          </td><td style=\"text-align: right;\"> 23.5294 </td><td style=\"text-align: right;\"> 5.82353</td><td style=\"text-align: right;\"> 2007.59</td><td>WD        </td><td>Normal         </td><td style=\"text-align: right;\">     164735</td></tr>\n",
       "<tr><td style=\"text-align: right;\"> 733.713</td><td style=\"text-align: right;\">     70.7163</td><td>RL        </td><td style=\"text-align: right;\">      66.3737</td><td style=\"text-align: right;\">  8749.38</td><td>Pave    </td><td style=\"text-align: right;\">    nan</td><td>Reg       </td><td>Lvl          </td><td>AllPub     </td><td>Inside     </td><td>Gtl        </td><td>CollgCr       </td><td>Norm        </td><td>Norm        </td><td>1Fam      </td><td>2Story      </td><td style=\"text-align: right;\">      6.85124</td><td style=\"text-align: right;\">      5.07438</td><td style=\"text-align: right;\">    2000.93</td><td style=\"text-align: right;\">       2001.5 </td><td>Gable      </td><td>CompShg   </td><td>VinylSd      </td><td>VinylSd      </td><td>None        </td><td style=\"text-align: right;\">     78.0058</td><td>Gd         </td><td>TA         </td><td>PConc       </td><td>Gd        </td><td>TA        </td><td>No            </td><td>GLQ           </td><td style=\"text-align: right;\">     356.207</td><td>Unf           </td><td style=\"text-align: right;\">     11.2645</td><td style=\"text-align: right;\">    690.532</td><td style=\"text-align: right;\">     1058    </td><td>GasA     </td><td>Ex         </td><td>Y           </td><td>SBrkr       </td><td style=\"text-align: right;\">  1093.53 </td><td style=\"text-align: right;\">  477.485 </td><td style=\"text-align: right;\">   0.661157   </td><td style=\"text-align: right;\">    1571.68</td><td style=\"text-align: right;\">     0.407713 </td><td style=\"text-align: right;\">   1.45717e-16</td><td style=\"text-align: right;\">   1.93113</td><td style=\"text-align: right;\">  0.567493</td><td style=\"text-align: right;\">       2.73829</td><td style=\"text-align: right;\">      1.00275 </td><td>Gd           </td><td style=\"text-align: right;\">       6.49311</td><td>Typ         </td><td style=\"text-align: right;\">    0.539945</td><td>nan          </td><td>Attchd      </td><td style=\"text-align: right;\">      2001   </td><td>RFn           </td><td style=\"text-align: right;\">     2.07713</td><td style=\"text-align: right;\">     528.314</td><td>TA          </td><td>TA          </td><td>Y           </td><td style=\"text-align: right;\">     99.4628</td><td style=\"text-align: right;\">      62.0909</td><td style=\"text-align: right;\">        4.39945</td><td style=\"text-align: right;\"> 4.65565    </td><td style=\"text-align: right;\">  4.42975    </td><td style=\"text-align: right;\"> -1.11022e-14</td><td>nan     </td><td style=\"text-align: right;\">    nan</td><td>nan          </td><td style=\"text-align: right;\">  9.31129</td><td style=\"text-align: right;\"> 6.20386</td><td style=\"text-align: right;\"> 2007.77</td><td>WD        </td><td>Normal         </td><td style=\"text-align: right;\">     198960</td></tr>\n",
       "<tr><td style=\"text-align: right;\">1299    </td><td style=\"text-align: right;\">     60     </td><td>RL        </td><td style=\"text-align: right;\">     313     </td><td style=\"text-align: right;\"> 63887   </td><td>Pave    </td><td style=\"text-align: right;\">    nan</td><td>IR3       </td><td>Bnk          </td><td>AllPub     </td><td>Corner     </td><td>Gtl        </td><td>Edwards       </td><td>Feedr       </td><td>Norm        </td><td>1Fam      </td><td>2Story      </td><td style=\"text-align: right;\">     10      </td><td style=\"text-align: right;\">      5      </td><td style=\"text-align: right;\">    2008   </td><td style=\"text-align: right;\">       2008   </td><td>Hip        </td><td>ClyTile   </td><td>Stucco       </td><td>Stucco       </td><td>Stone       </td><td style=\"text-align: right;\">    796     </td><td>Ex         </td><td>TA         </td><td>PConc       </td><td>Ex        </td><td>TA        </td><td>Gd            </td><td>GLQ           </td><td style=\"text-align: right;\">    5644    </td><td>Unf           </td><td style=\"text-align: right;\">      0     </td><td style=\"text-align: right;\">    466    </td><td style=\"text-align: right;\">     6110    </td><td>GasA     </td><td>Ex         </td><td>Y           </td><td>SBrkr       </td><td style=\"text-align: right;\">  4692    </td><td style=\"text-align: right;\">  950     </td><td style=\"text-align: right;\">   0          </td><td style=\"text-align: right;\">    5642   </td><td style=\"text-align: right;\">     2        </td><td style=\"text-align: right;\">   0          </td><td style=\"text-align: right;\">   2      </td><td style=\"text-align: right;\">  1       </td><td style=\"text-align: right;\">       3      </td><td style=\"text-align: right;\">      1       </td><td>Ex           </td><td style=\"text-align: right;\">      12      </td><td>Typ         </td><td style=\"text-align: right;\">    3       </td><td>Gd           </td><td>Attchd      </td><td style=\"text-align: right;\">      2008   </td><td>Fin           </td><td style=\"text-align: right;\">     2      </td><td style=\"text-align: right;\">    1418    </td><td>TA          </td><td>TA          </td><td>Y           </td><td style=\"text-align: right;\">    214     </td><td style=\"text-align: right;\">     292     </td><td style=\"text-align: right;\">        0      </td><td style=\"text-align: right;\"> 0          </td><td style=\"text-align: right;\"> -1.77636e-15</td><td style=\"text-align: right;\">480          </td><td>Gd      </td><td style=\"text-align: right;\">    nan</td><td>nan          </td><td style=\"text-align: right;\">  0      </td><td style=\"text-align: right;\"> 1      </td><td style=\"text-align: right;\"> 2008   </td><td>New       </td><td>Partial        </td><td style=\"text-align: right;\">     160000</td></tr>\n",
       "<tr><td style=\"text-align: right;\"> 760.081</td><td style=\"text-align: right;\">    112.5   </td><td>RL        </td><td style=\"text-align: right;\">      69.4887</td><td style=\"text-align: right;\">  9839.87</td><td>Pave    </td><td style=\"text-align: right;\">    nan</td><td>Reg       </td><td>Lvl          </td><td>AllPub     </td><td>Inside     </td><td>Gtl        </td><td>OldTown       </td><td>Norm        </td><td>Norm        </td><td>Duplex    </td><td>1Story      </td><td style=\"text-align: right;\">      4.87097</td><td style=\"text-align: right;\">      5.1129 </td><td style=\"text-align: right;\">    1946.24</td><td style=\"text-align: right;\">       1968.69</td><td>Gable      </td><td>CompShg   </td><td>MetalSd      </td><td>MetalSd      </td><td>None        </td><td style=\"text-align: right;\">     75.1078</td><td>TA         </td><td>TA         </td><td>CBlock      </td><td>TA        </td><td>TA        </td><td>No            </td><td>Unf           </td><td style=\"text-align: right;\">     231.129</td><td>Unf           </td><td style=\"text-align: right;\">     16.9677</td><td style=\"text-align: right;\">    645.839</td><td style=\"text-align: right;\">      893.935</td><td>GasA     </td><td>TA         </td><td>Y           </td><td>SBrkr       </td><td style=\"text-align: right;\">  1296.27 </td><td style=\"text-align: right;\">  462.887 </td><td style=\"text-align: right;\">   0          </td><td style=\"text-align: right;\">    1759.16</td><td style=\"text-align: right;\">     0.225806 </td><td style=\"text-align: right;\">   0.0483871  </td><td style=\"text-align: right;\">   2      </td><td style=\"text-align: right;\">  0.177419</td><td style=\"text-align: right;\">       3.79032</td><td style=\"text-align: right;\">      2.03226 </td><td>TA           </td><td style=\"text-align: right;\">       8.45161</td><td>Typ         </td><td style=\"text-align: right;\">    0.225806</td><td>nan          </td><td>Detchd      </td><td style=\"text-align: right;\">      1966.05</td><td>Unf           </td><td style=\"text-align: right;\">     1.54839</td><td style=\"text-align: right;\">     404.613</td><td>TA          </td><td>TA          </td><td>Y           </td><td style=\"text-align: right;\">     36.0161</td><td style=\"text-align: right;\">      21.9032</td><td style=\"text-align: right;\">       34.2581 </td><td style=\"text-align: right;\">-4.44089e-16</td><td style=\"text-align: right;\">  1.59677    </td><td style=\"text-align: right;\">  4.44089e-16</td><td>nan     </td><td style=\"text-align: right;\">    nan</td><td>nan          </td><td style=\"text-align: right;\">198.387  </td><td style=\"text-align: right;\"> 6.75806</td><td style=\"text-align: right;\"> 2007.92</td><td>WD        </td><td>Normal         </td><td style=\"text-align: right;\">     127865</td></tr>\n",
       "</tbody>\n",
       "</table>"
      ]
     },
     "metadata": {},
     "output_type": "display_data"
    },
    {
     "data": {
      "text/plain": []
     },
     "execution_count": 97,
     "metadata": {},
     "output_type": "execute_result"
    }
   ],
   "source": [
    "glrmodel_2.proj_archetypes(khous_h2)"
   ]
  },
  {
   "cell_type": "code",
   "execution_count": 182,
   "metadata": {
    "scrolled": true
   },
   "outputs": [
    {
     "name": "stdout",
     "output_type": "stream",
     "text": [
      "               timestamp    duration  iterations  step_size     objective\n",
      "0    2018-07-04 12:54:40   0.753 sec         0.0   0.666667  1.091993e+13\n",
      "1    2018-07-04 12:54:40   0.911 sec         1.0   0.444444  1.091993e+13\n",
      "2    2018-07-04 12:54:41   1.056 sec         2.0   0.222222  1.091993e+13\n",
      "3    2018-07-04 12:54:41   1.247 sec         3.0   0.074074  1.091993e+13\n",
      "4    2018-07-04 12:54:41   1.410 sec         4.0   0.018519  1.091993e+13\n",
      "5    2018-07-04 12:54:41   1.585 sec         5.0   0.003704  1.091993e+13\n",
      "6    2018-07-04 12:54:41   1.759 sec         6.0   0.000617  1.091993e+13\n",
      "7    2018-07-04 12:54:41   1.920 sec         7.0   0.000088  1.091993e+13\n"
     ]
    },
    {
     "data": {
      "image/png": "[encoded data removed]",
      "text/plain": [
       "<matplotlib.figure.Figure at 0x10f1fd828>"
      ]
     },
     "metadata": {},
     "output_type": "display_data"
    }
   ],
   "source": [
    "# Plot objective function value each iteration\n",
    "model_score = glrmodel_1.score_history()\n",
    "plt.xlabel(\"Iteration\")\n",
    "plt.ylabel(\"Objective\")\n",
    "plt.title(\"Objective Function Value per Iteration\")\n",
    "print(model_score)\n",
    "plt.plot(model_score[\"iterations\"], model_score[\"objective\"])\n",
    "plt.show()"
   ]
  },
  {
   "cell_type": "code",
   "execution_count": 99,
   "metadata": {
    "scrolled": true
   },
   "outputs": [
    {
     "name": "stdout",
     "output_type": "stream",
     "text": [
      "Model Details\n",
      "=============\n",
      "H2OGeneralizedLowRankEstimator :  Generalized Low Rank Modeling\n",
      "Model Key:  GLRM_model_python_1530645406753_1\n",
      "\n",
      "\n",
      "ModelMetricsGLRM: glrm\n",
      "** Reported on train data. **\n",
      "\n",
      "MSE: NaN\n",
      "RMSE: NaN\n",
      "Sum of Squared Error (Numeric): 10029528439220.22\n",
      "Misclassification Error (Categorical): 16314.0\n",
      "Scoring History: \n"
     ]
    },
    {
     "data": {
      "text/html": [
       "<div style=\"overflow:auto\"><table style=\"width:50%\"><tr><td><b></b></td>\n",
       "<td><b>timestamp</b></td>\n",
       "<td><b>duration</b></td>\n",
       "<td><b>iterations</b></td>\n",
       "<td><b>step_size</b></td>\n",
       "<td><b>objective</b></td></tr>\n",
       "<tr><td></td>\n",
       "<td>2018-07-03 12:17:37</td>\n",
       "<td> 2.458 sec</td>\n",
       "<td>0.0</td>\n",
       "<td>0.6666667</td>\n",
       "<td>10029528807927.8671875</td></tr>\n",
       "<tr><td></td>\n",
       "<td>2018-07-03 12:17:37</td>\n",
       "<td> 2.831 sec</td>\n",
       "<td>1.0</td>\n",
       "<td>0.4444444</td>\n",
       "<td>10029528807927.8671875</td></tr>\n",
       "<tr><td></td>\n",
       "<td>2018-07-03 12:17:37</td>\n",
       "<td> 2.974 sec</td>\n",
       "<td>2.0</td>\n",
       "<td>0.2222222</td>\n",
       "<td>10029528807927.8671875</td></tr>\n",
       "<tr><td></td>\n",
       "<td>2018-07-03 12:17:38</td>\n",
       "<td> 3.119 sec</td>\n",
       "<td>3.0</td>\n",
       "<td>0.0740741</td>\n",
       "<td>10029528807927.8671875</td></tr>\n",
       "<tr><td></td>\n",
       "<td>2018-07-03 12:17:38</td>\n",
       "<td> 3.243 sec</td>\n",
       "<td>4.0</td>\n",
       "<td>0.0185185</td>\n",
       "<td>10029528807927.8671875</td></tr>\n",
       "<tr><td></td>\n",
       "<td>2018-07-03 12:17:38</td>\n",
       "<td> 3.367 sec</td>\n",
       "<td>5.0</td>\n",
       "<td>0.0037037</td>\n",
       "<td>10029528807927.8671875</td></tr>\n",
       "<tr><td></td>\n",
       "<td>2018-07-03 12:17:38</td>\n",
       "<td> 3.501 sec</td>\n",
       "<td>6.0</td>\n",
       "<td>0.0006173</td>\n",
       "<td>10029528807927.8671875</td></tr>\n",
       "<tr><td></td>\n",
       "<td>2018-07-03 12:17:38</td>\n",
       "<td> 3.626 sec</td>\n",
       "<td>7.0</td>\n",
       "<td>0.0000882</td>\n",
       "<td>10029528807927.8671875</td></tr></table></div>"
      ],
      "text/plain": [
       "    timestamp            duration    iterations    step_size    objective\n",
       "--  -------------------  ----------  ------------  -----------  -----------\n",
       "    2018-07-03 12:17:37  2.458 sec   0             0.666667     1.00295e+13\n",
       "    2018-07-03 12:17:37  2.831 sec   1             0.444444     1.00295e+13\n",
       "    2018-07-03 12:17:37  2.974 sec   2             0.222222     1.00295e+13\n",
       "    2018-07-03 12:17:38  3.119 sec   3             0.0740741    1.00295e+13\n",
       "    2018-07-03 12:17:38  3.243 sec   4             0.0185185    1.00295e+13\n",
       "    2018-07-03 12:17:38  3.367 sec   5             0.0037037    1.00295e+13\n",
       "    2018-07-03 12:17:38  3.501 sec   6             0.000617284  1.00295e+13\n",
       "    2018-07-03 12:17:38  3.626 sec   7             8.81834e-05  1.00295e+13"
      ]
     },
     "metadata": {},
     "output_type": "display_data"
    },
    {
     "data": {
      "text/plain": [
       "<bound method ModelBase.cross_validation_holdout_predictions of >"
      ]
     },
     "execution_count": 99,
     "metadata": {},
     "output_type": "execute_result"
    }
   ],
   "source": [
    "glrmodel_2.cross_validation_holdout_predictions"
   ]
  },
  {
   "cell_type": "code",
   "execution_count": 100,
   "metadata": {
    "scrolled": true
   },
   "outputs": [
    {
     "name": "stdout",
     "output_type": "stream",
     "text": [
      "Model Details\n",
      "=============\n",
      "H2OGeneralizedLowRankEstimator :  Generalized Low Rank Modeling\n",
      "Model Key:  GLRM_model_python_1530645406753_1\n",
      "\n",
      "\n",
      "ModelMetricsGLRM: glrm\n",
      "** Reported on train data. **\n",
      "\n",
      "MSE: NaN\n",
      "RMSE: NaN\n",
      "Sum of Squared Error (Numeric): 10029528439220.22\n",
      "Misclassification Error (Categorical): 16314.0\n",
      "Scoring History: \n"
     ]
    },
    {
     "data": {
      "text/html": [
       "<div style=\"overflow:auto\"><table style=\"width:50%\"><tr><td><b></b></td>\n",
       "<td><b>timestamp</b></td>\n",
       "<td><b>duration</b></td>\n",
       "<td><b>iterations</b></td>\n",
       "<td><b>step_size</b></td>\n",
       "<td><b>objective</b></td></tr>\n",
       "<tr><td></td>\n",
       "<td>2018-07-03 12:17:37</td>\n",
       "<td> 2.458 sec</td>\n",
       "<td>0.0</td>\n",
       "<td>0.6666667</td>\n",
       "<td>10029528807927.8671875</td></tr>\n",
       "<tr><td></td>\n",
       "<td>2018-07-03 12:17:37</td>\n",
       "<td> 2.831 sec</td>\n",
       "<td>1.0</td>\n",
       "<td>0.4444444</td>\n",
       "<td>10029528807927.8671875</td></tr>\n",
       "<tr><td></td>\n",
       "<td>2018-07-03 12:17:37</td>\n",
       "<td> 2.974 sec</td>\n",
       "<td>2.0</td>\n",
       "<td>0.2222222</td>\n",
       "<td>10029528807927.8671875</td></tr>\n",
       "<tr><td></td>\n",
       "<td>2018-07-03 12:17:38</td>\n",
       "<td> 3.119 sec</td>\n",
       "<td>3.0</td>\n",
       "<td>0.0740741</td>\n",
       "<td>10029528807927.8671875</td></tr>\n",
       "<tr><td></td>\n",
       "<td>2018-07-03 12:17:38</td>\n",
       "<td> 3.243 sec</td>\n",
       "<td>4.0</td>\n",
       "<td>0.0185185</td>\n",
       "<td>10029528807927.8671875</td></tr>\n",
       "<tr><td></td>\n",
       "<td>2018-07-03 12:17:38</td>\n",
       "<td> 3.367 sec</td>\n",
       "<td>5.0</td>\n",
       "<td>0.0037037</td>\n",
       "<td>10029528807927.8671875</td></tr>\n",
       "<tr><td></td>\n",
       "<td>2018-07-03 12:17:38</td>\n",
       "<td> 3.501 sec</td>\n",
       "<td>6.0</td>\n",
       "<td>0.0006173</td>\n",
       "<td>10029528807927.8671875</td></tr>\n",
       "<tr><td></td>\n",
       "<td>2018-07-03 12:17:38</td>\n",
       "<td> 3.626 sec</td>\n",
       "<td>7.0</td>\n",
       "<td>0.0000882</td>\n",
       "<td>10029528807927.8671875</td></tr></table></div>"
      ],
      "text/plain": [
       "    timestamp            duration    iterations    step_size    objective\n",
       "--  -------------------  ----------  ------------  -----------  -----------\n",
       "    2018-07-03 12:17:37  2.458 sec   0             0.666667     1.00295e+13\n",
       "    2018-07-03 12:17:37  2.831 sec   1             0.444444     1.00295e+13\n",
       "    2018-07-03 12:17:37  2.974 sec   2             0.222222     1.00295e+13\n",
       "    2018-07-03 12:17:38  3.119 sec   3             0.0740741    1.00295e+13\n",
       "    2018-07-03 12:17:38  3.243 sec   4             0.0185185    1.00295e+13\n",
       "    2018-07-03 12:17:38  3.367 sec   5             0.0037037    1.00295e+13\n",
       "    2018-07-03 12:17:38  3.501 sec   6             0.000617284  1.00295e+13\n",
       "    2018-07-03 12:17:38  3.626 sec   7             8.81834e-05  1.00295e+13"
      ]
     },
     "metadata": {},
     "output_type": "display_data"
    },
    {
     "data": {
      "text/plain": [
       "<bound method ModelBase.weights of >"
      ]
     },
     "execution_count": 100,
     "metadata": {},
     "output_type": "execute_result"
    }
   ],
   "source": [
    "glrmodel_2.weights"
   ]
  },
  {
   "cell_type": "markdown",
   "metadata": {},
   "source": [
    "do I need to set categorical variables as asfactor()  ?\n"
   ]
  },
  {
   "cell_type": "markdown",
   "metadata": {},
   "source": [
    "Jason thought he remembered 'categorical' getting parsed differently from 'enum', hence the little loop below which changes all the dtypes to 'categorical'.  So I might want want to try a similar thing with just my enums and see what changes."
   ]
  },
  {
   "cell_type": "markdown",
   "metadata": {},
   "source": [
    "## Scratch"
   ]
  },
  {
   "cell_type": "code",
   "execution_count": null,
   "metadata": {},
   "outputs": [],
   "source": [
    "types = {} \n",
    "for k in region_a_df.types: \n",
    "    types[k] = 'categorical' \n",
    "    types['C1'] = 'string' \n",
    "region_a_df = h2o.H2OFrame(np.array(region_answers)[:,1:], column_types=types) region_a_df.describe()\n",
    "\n",
    "glrm.train(y=y, training_frame=region_a_df)"
   ]
  },
  {
   "cell_type": "code",
   "execution_count": null,
   "metadata": {},
   "outputs": [],
   "source": [
    "loss_by_type = {np.dtype('object'):\"Categorical\", \n",
    "                np.dtype('int64'):\"Quadratic\", \n",
    "                np.dtype('float64'):\"Quadratic\", \n",
    "                np.dtype('bool'):\"Hinge\"}\n",
    "col_loss_types = [loss_by_type[obj_type] for obj_type in khous_df.dtypes]"
   ]
  }
 ],
 "metadata": {
  "kernelspec": {
   "display_name": "Python 3",
   "language": "python",
   "name": "python3"
  },
  "language_info": {
   "codemirror_mode": {
    "name": "ipython",
    "version": 3
   },
   "file_extension": ".py",
   "mimetype": "text/x-python",
   "name": "python",
   "nbconvert_exporter": "python",
   "pygments_lexer": "ipython3",
   "version": "3.6.4"
  }
 },
 "nbformat": 4,
 "nbformat_minor": 2
}
