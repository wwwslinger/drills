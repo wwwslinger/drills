{
 "cells": [
  {
   "cell_type": "code",
   "execution_count": 8,
   "metadata": {},
   "outputs": [],
   "source": [
    "import pandas as pd\n",
    "import numpy as np\n",
    "import scipy as sp\n",
    "import matplotlib.pyplot as plt\n",
    "import seaborn as sns\n",
    "import random\n",
    "random.seed(11)\n",
    "%matplotlib inline"
   ]
  },
  {
   "cell_type": "code",
   "execution_count": 5,
   "metadata": {
    "scrolled": true
   },
   "outputs": [
    {
     "name": "stdout",
     "output_type": "stream",
     "text": [
      "Checking whether there is an H2O instance running at http://localhost:54321. connected.\n"
     ]
    },
    {
     "data": {
      "text/html": [
       "<div style=\"overflow:auto\"><table style=\"width:50%\"><tr><td>H2O cluster uptime:</td>\n",
       "<td>1 day 23 hours 37 mins</td></tr>\n",
       "<tr><td>H2O cluster timezone:</td>\n",
       "<td>America/Los_Angeles</td></tr>\n",
       "<tr><td>H2O data parsing timezone:</td>\n",
       "<td>UTC</td></tr>\n",
       "<tr><td>H2O cluster version:</td>\n",
       "<td>3.18.0.11</td></tr>\n",
       "<tr><td>H2O cluster version age:</td>\n",
       "<td>28 days, 2 hours and 15 minutes </td></tr>\n",
       "<tr><td>H2O cluster name:</td>\n",
       "<td>garrettfiddler</td></tr>\n",
       "<tr><td>H2O cluster total nodes:</td>\n",
       "<td>1</td></tr>\n",
       "<tr><td>H2O cluster free memory:</td>\n",
       "<td>2 Gb</td></tr>\n",
       "<tr><td>H2O cluster total cores:</td>\n",
       "<td>4</td></tr>\n",
       "<tr><td>H2O cluster allowed cores:</td>\n",
       "<td>4</td></tr>\n",
       "<tr><td>H2O cluster status:</td>\n",
       "<td>locked, healthy</td></tr>\n",
       "<tr><td>H2O connection url:</td>\n",
       "<td>http://localhost:54321</td></tr>\n",
       "<tr><td>H2O connection proxy:</td>\n",
       "<td>None</td></tr>\n",
       "<tr><td>H2O internal security:</td>\n",
       "<td>False</td></tr>\n",
       "<tr><td>H2O API Extensions:</td>\n",
       "<td>XGBoost, Algos, AutoML, Core V3, Core V4</td></tr>\n",
       "<tr><td>Python version:</td>\n",
       "<td>3.6.4 final</td></tr></table></div>"
      ],
      "text/plain": [
       "--------------------------  ----------------------------------------\n",
       "H2O cluster uptime:         1 day 23 hours 37 mins\n",
       "H2O cluster timezone:       America/Los_Angeles\n",
       "H2O data parsing timezone:  UTC\n",
       "H2O cluster version:        3.18.0.11\n",
       "H2O cluster version age:    28 days, 2 hours and 15 minutes\n",
       "H2O cluster name:           garrettfiddler\n",
       "H2O cluster total nodes:    1\n",
       "H2O cluster free memory:    2 Gb\n",
       "H2O cluster total cores:    4\n",
       "H2O cluster allowed cores:  4\n",
       "H2O cluster status:         locked, healthy\n",
       "H2O connection url:         http://localhost:54321\n",
       "H2O connection proxy:\n",
       "H2O internal security:      False\n",
       "H2O API Extensions:         XGBoost, Algos, AutoML, Core V3, Core V4\n",
       "Python version:             3.6.4 final\n",
       "--------------------------  ----------------------------------------"
      ]
     },
     "metadata": {},
     "output_type": "display_data"
    }
   ],
   "source": [
    "# Load the H2O library and start up the H2O cluster locally on your machine\n",
    "import h2o\n",
    "from h2o.estimators.glrm import H2OGeneralizedLowRankEstimator\n",
    "\n",
    "\n",
    "# Number of threads, nthreads = -1, means use all cores on your machine\n",
    "# max_mem_size is the maximum memory (in GB) to allocate to H2O\n",
    "h2o.init()"
   ]
  },
  {
   "cell_type": "code",
   "execution_count": 17,
   "metadata": {},
   "outputs": [],
   "source": [
    "khous_df = pd.read_csv('khous_train.csv')"
   ]
  },
  {
   "cell_type": "code",
   "execution_count": 38,
   "metadata": {},
   "outputs": [
    {
     "data": {
      "text/plain": [
       "(1460, 81)"
      ]
     },
     "execution_count": 38,
     "metadata": {},
     "output_type": "execute_result"
    }
   ],
   "source": [
    "khous_df.shape"
   ]
  },
  {
   "cell_type": "code",
   "execution_count": 41,
   "metadata": {
    "scrolled": false
   },
   "outputs": [
    {
     "data": {
      "text/plain": [
       "object     43\n",
       "int64      35\n",
       "float64     3\n",
       "dtype: int64"
      ]
     },
     "execution_count": 41,
     "metadata": {},
     "output_type": "execute_result"
    }
   ],
   "source": [
    "khous_df.dtypes.value_counts()"
   ]
  },
  {
   "cell_type": "code",
   "execution_count": 57,
   "metadata": {},
   "outputs": [
    {
     "data": {
      "text/plain": [
       "object     43\n",
       "int64      35\n",
       "float64     3\n",
       "dtype: int64"
      ]
     },
     "execution_count": 57,
     "metadata": {},
     "output_type": "execute_result"
    }
   ],
   "source": [
    "khous_df.dtypes.value_counts()"
   ]
  },
  {
   "cell_type": "code",
   "execution_count": 60,
   "metadata": {},
   "outputs": [
    {
     "data": {
      "text/plain": [
       "numpy.dtype"
      ]
     },
     "execution_count": 60,
     "metadata": {},
     "output_type": "execute_result"
    }
   ],
   "source": [
    "type(khous_df.dtypes[80])"
   ]
  },
  {
   "cell_type": "code",
   "execution_count": 43,
   "metadata": {},
   "outputs": [
    {
     "data": {
      "text/html": [
       "<div>\n",
       "<style scoped>\n",
       "    .dataframe tbody tr th:only-of-type {\n",
       "        vertical-align: middle;\n",
       "    }\n",
       "\n",
       "    .dataframe tbody tr th {\n",
       "        vertical-align: top;\n",
       "    }\n",
       "\n",
       "    .dataframe thead th {\n",
       "        text-align: right;\n",
       "    }\n",
       "</style>\n",
       "<table border=\"1\" class=\"dataframe\">\n",
       "  <thead>\n",
       "    <tr style=\"text-align: right;\">\n",
       "      <th></th>\n",
       "      <th>Id</th>\n",
       "      <th>MSSubClass</th>\n",
       "      <th>MSZoning</th>\n",
       "      <th>LotFrontage</th>\n",
       "      <th>LotArea</th>\n",
       "      <th>Street</th>\n",
       "      <th>Alley</th>\n",
       "      <th>LotShape</th>\n",
       "      <th>LandContour</th>\n",
       "      <th>Utilities</th>\n",
       "      <th>...</th>\n",
       "      <th>PoolArea</th>\n",
       "      <th>PoolQC</th>\n",
       "      <th>Fence</th>\n",
       "      <th>MiscFeature</th>\n",
       "      <th>MiscVal</th>\n",
       "      <th>MoSold</th>\n",
       "      <th>YrSold</th>\n",
       "      <th>SaleType</th>\n",
       "      <th>SaleCondition</th>\n",
       "      <th>SalePrice</th>\n",
       "    </tr>\n",
       "  </thead>\n",
       "  <tbody>\n",
       "    <tr>\n",
       "      <th>0</th>\n",
       "      <td>1</td>\n",
       "      <td>60</td>\n",
       "      <td>RL</td>\n",
       "      <td>65.0</td>\n",
       "      <td>8450</td>\n",
       "      <td>Pave</td>\n",
       "      <td>NaN</td>\n",
       "      <td>Reg</td>\n",
       "      <td>Lvl</td>\n",
       "      <td>AllPub</td>\n",
       "      <td>...</td>\n",
       "      <td>0</td>\n",
       "      <td>NaN</td>\n",
       "      <td>NaN</td>\n",
       "      <td>NaN</td>\n",
       "      <td>0</td>\n",
       "      <td>2</td>\n",
       "      <td>2008</td>\n",
       "      <td>WD</td>\n",
       "      <td>Normal</td>\n",
       "      <td>208500</td>\n",
       "    </tr>\n",
       "    <tr>\n",
       "      <th>1</th>\n",
       "      <td>2</td>\n",
       "      <td>20</td>\n",
       "      <td>RL</td>\n",
       "      <td>80.0</td>\n",
       "      <td>9600</td>\n",
       "      <td>Pave</td>\n",
       "      <td>NaN</td>\n",
       "      <td>Reg</td>\n",
       "      <td>Lvl</td>\n",
       "      <td>AllPub</td>\n",
       "      <td>...</td>\n",
       "      <td>0</td>\n",
       "      <td>NaN</td>\n",
       "      <td>NaN</td>\n",
       "      <td>NaN</td>\n",
       "      <td>0</td>\n",
       "      <td>5</td>\n",
       "      <td>2007</td>\n",
       "      <td>WD</td>\n",
       "      <td>Normal</td>\n",
       "      <td>181500</td>\n",
       "    </tr>\n",
       "    <tr>\n",
       "      <th>2</th>\n",
       "      <td>3</td>\n",
       "      <td>60</td>\n",
       "      <td>RL</td>\n",
       "      <td>68.0</td>\n",
       "      <td>11250</td>\n",
       "      <td>Pave</td>\n",
       "      <td>NaN</td>\n",
       "      <td>IR1</td>\n",
       "      <td>Lvl</td>\n",
       "      <td>AllPub</td>\n",
       "      <td>...</td>\n",
       "      <td>0</td>\n",
       "      <td>NaN</td>\n",
       "      <td>NaN</td>\n",
       "      <td>NaN</td>\n",
       "      <td>0</td>\n",
       "      <td>9</td>\n",
       "      <td>2008</td>\n",
       "      <td>WD</td>\n",
       "      <td>Normal</td>\n",
       "      <td>223500</td>\n",
       "    </tr>\n",
       "    <tr>\n",
       "      <th>3</th>\n",
       "      <td>4</td>\n",
       "      <td>70</td>\n",
       "      <td>RL</td>\n",
       "      <td>60.0</td>\n",
       "      <td>9550</td>\n",
       "      <td>Pave</td>\n",
       "      <td>NaN</td>\n",
       "      <td>IR1</td>\n",
       "      <td>Lvl</td>\n",
       "      <td>AllPub</td>\n",
       "      <td>...</td>\n",
       "      <td>0</td>\n",
       "      <td>NaN</td>\n",
       "      <td>NaN</td>\n",
       "      <td>NaN</td>\n",
       "      <td>0</td>\n",
       "      <td>2</td>\n",
       "      <td>2006</td>\n",
       "      <td>WD</td>\n",
       "      <td>Abnorml</td>\n",
       "      <td>140000</td>\n",
       "    </tr>\n",
       "    <tr>\n",
       "      <th>4</th>\n",
       "      <td>5</td>\n",
       "      <td>60</td>\n",
       "      <td>RL</td>\n",
       "      <td>84.0</td>\n",
       "      <td>14260</td>\n",
       "      <td>Pave</td>\n",
       "      <td>NaN</td>\n",
       "      <td>IR1</td>\n",
       "      <td>Lvl</td>\n",
       "      <td>AllPub</td>\n",
       "      <td>...</td>\n",
       "      <td>0</td>\n",
       "      <td>NaN</td>\n",
       "      <td>NaN</td>\n",
       "      <td>NaN</td>\n",
       "      <td>0</td>\n",
       "      <td>12</td>\n",
       "      <td>2008</td>\n",
       "      <td>WD</td>\n",
       "      <td>Normal</td>\n",
       "      <td>250000</td>\n",
       "    </tr>\n",
       "  </tbody>\n",
       "</table>\n",
       "<p>5 rows × 81 columns</p>\n",
       "</div>"
      ],
      "text/plain": [
       "   Id  MSSubClass MSZoning  LotFrontage  LotArea Street Alley LotShape  \\\n",
       "0   1          60       RL         65.0     8450   Pave   NaN      Reg   \n",
       "1   2          20       RL         80.0     9600   Pave   NaN      Reg   \n",
       "2   3          60       RL         68.0    11250   Pave   NaN      IR1   \n",
       "3   4          70       RL         60.0     9550   Pave   NaN      IR1   \n",
       "4   5          60       RL         84.0    14260   Pave   NaN      IR1   \n",
       "\n",
       "  LandContour Utilities    ...     PoolArea PoolQC Fence MiscFeature MiscVal  \\\n",
       "0         Lvl    AllPub    ...            0    NaN   NaN         NaN       0   \n",
       "1         Lvl    AllPub    ...            0    NaN   NaN         NaN       0   \n",
       "2         Lvl    AllPub    ...            0    NaN   NaN         NaN       0   \n",
       "3         Lvl    AllPub    ...            0    NaN   NaN         NaN       0   \n",
       "4         Lvl    AllPub    ...            0    NaN   NaN         NaN       0   \n",
       "\n",
       "  MoSold YrSold  SaleType  SaleCondition  SalePrice  \n",
       "0      2   2008        WD         Normal     208500  \n",
       "1      5   2007        WD         Normal     181500  \n",
       "2      9   2008        WD         Normal     223500  \n",
       "3      2   2006        WD        Abnorml     140000  \n",
       "4     12   2008        WD         Normal     250000  \n",
       "\n",
       "[5 rows x 81 columns]"
      ]
     },
     "execution_count": 43,
     "metadata": {},
     "output_type": "execute_result"
    }
   ],
   "source": [
    "khous_df.head()"
   ]
  },
  {
   "cell_type": "code",
   "execution_count": 23,
   "metadata": {
    "scrolled": false
   },
   "outputs": [
    {
     "name": "stdout",
     "output_type": "stream",
     "text": [
      "Parse progress: |█████████████████████████████████████████████████████████| 100%\n"
     ]
    }
   ],
   "source": [
    "khous_h2 = h2o.H2OFrame(khous_df)"
   ]
  },
  {
   "cell_type": "code",
   "execution_count": 19,
   "metadata": {
    "scrolled": true
   },
   "outputs": [
    {
     "data": {
      "text/html": [
       "<div>\n",
       "<style scoped>\n",
       "    .dataframe tbody tr th:only-of-type {\n",
       "        vertical-align: middle;\n",
       "    }\n",
       "\n",
       "    .dataframe tbody tr th {\n",
       "        vertical-align: top;\n",
       "    }\n",
       "\n",
       "    .dataframe thead th {\n",
       "        text-align: right;\n",
       "    }\n",
       "</style>\n",
       "<table border=\"1\" class=\"dataframe\">\n",
       "  <thead>\n",
       "    <tr style=\"text-align: right;\">\n",
       "      <th></th>\n",
       "      <th>Id</th>\n",
       "      <th>MSSubClass</th>\n",
       "      <th>MSZoning</th>\n",
       "      <th>LotFrontage</th>\n",
       "      <th>LotArea</th>\n",
       "      <th>Street</th>\n",
       "      <th>Alley</th>\n",
       "      <th>LotShape</th>\n",
       "      <th>LandContour</th>\n",
       "      <th>Utilities</th>\n",
       "      <th>...</th>\n",
       "      <th>PoolArea</th>\n",
       "      <th>PoolQC</th>\n",
       "      <th>Fence</th>\n",
       "      <th>MiscFeature</th>\n",
       "      <th>MiscVal</th>\n",
       "      <th>MoSold</th>\n",
       "      <th>YrSold</th>\n",
       "      <th>SaleType</th>\n",
       "      <th>SaleCondition</th>\n",
       "      <th>SalePrice</th>\n",
       "    </tr>\n",
       "  </thead>\n",
       "  <tbody>\n",
       "    <tr>\n",
       "      <th>0</th>\n",
       "      <td>1</td>\n",
       "      <td>60</td>\n",
       "      <td>RL</td>\n",
       "      <td>65.0</td>\n",
       "      <td>8450</td>\n",
       "      <td>Pave</td>\n",
       "      <td>NaN</td>\n",
       "      <td>Reg</td>\n",
       "      <td>Lvl</td>\n",
       "      <td>AllPub</td>\n",
       "      <td>...</td>\n",
       "      <td>0</td>\n",
       "      <td>NaN</td>\n",
       "      <td>NaN</td>\n",
       "      <td>NaN</td>\n",
       "      <td>0</td>\n",
       "      <td>2</td>\n",
       "      <td>2008</td>\n",
       "      <td>WD</td>\n",
       "      <td>Normal</td>\n",
       "      <td>208500</td>\n",
       "    </tr>\n",
       "    <tr>\n",
       "      <th>1</th>\n",
       "      <td>2</td>\n",
       "      <td>20</td>\n",
       "      <td>RL</td>\n",
       "      <td>80.0</td>\n",
       "      <td>9600</td>\n",
       "      <td>Pave</td>\n",
       "      <td>NaN</td>\n",
       "      <td>Reg</td>\n",
       "      <td>Lvl</td>\n",
       "      <td>AllPub</td>\n",
       "      <td>...</td>\n",
       "      <td>0</td>\n",
       "      <td>NaN</td>\n",
       "      <td>NaN</td>\n",
       "      <td>NaN</td>\n",
       "      <td>0</td>\n",
       "      <td>5</td>\n",
       "      <td>2007</td>\n",
       "      <td>WD</td>\n",
       "      <td>Normal</td>\n",
       "      <td>181500</td>\n",
       "    </tr>\n",
       "    <tr>\n",
       "      <th>2</th>\n",
       "      <td>3</td>\n",
       "      <td>60</td>\n",
       "      <td>RL</td>\n",
       "      <td>68.0</td>\n",
       "      <td>11250</td>\n",
       "      <td>Pave</td>\n",
       "      <td>NaN</td>\n",
       "      <td>IR1</td>\n",
       "      <td>Lvl</td>\n",
       "      <td>AllPub</td>\n",
       "      <td>...</td>\n",
       "      <td>0</td>\n",
       "      <td>NaN</td>\n",
       "      <td>NaN</td>\n",
       "      <td>NaN</td>\n",
       "      <td>0</td>\n",
       "      <td>9</td>\n",
       "      <td>2008</td>\n",
       "      <td>WD</td>\n",
       "      <td>Normal</td>\n",
       "      <td>223500</td>\n",
       "    </tr>\n",
       "    <tr>\n",
       "      <th>3</th>\n",
       "      <td>4</td>\n",
       "      <td>70</td>\n",
       "      <td>RL</td>\n",
       "      <td>60.0</td>\n",
       "      <td>9550</td>\n",
       "      <td>Pave</td>\n",
       "      <td>NaN</td>\n",
       "      <td>IR1</td>\n",
       "      <td>Lvl</td>\n",
       "      <td>AllPub</td>\n",
       "      <td>...</td>\n",
       "      <td>0</td>\n",
       "      <td>NaN</td>\n",
       "      <td>NaN</td>\n",
       "      <td>NaN</td>\n",
       "      <td>0</td>\n",
       "      <td>2</td>\n",
       "      <td>2006</td>\n",
       "      <td>WD</td>\n",
       "      <td>Abnorml</td>\n",
       "      <td>140000</td>\n",
       "    </tr>\n",
       "    <tr>\n",
       "      <th>4</th>\n",
       "      <td>5</td>\n",
       "      <td>60</td>\n",
       "      <td>RL</td>\n",
       "      <td>84.0</td>\n",
       "      <td>14260</td>\n",
       "      <td>Pave</td>\n",
       "      <td>NaN</td>\n",
       "      <td>IR1</td>\n",
       "      <td>Lvl</td>\n",
       "      <td>AllPub</td>\n",
       "      <td>...</td>\n",
       "      <td>0</td>\n",
       "      <td>NaN</td>\n",
       "      <td>NaN</td>\n",
       "      <td>NaN</td>\n",
       "      <td>0</td>\n",
       "      <td>12</td>\n",
       "      <td>2008</td>\n",
       "      <td>WD</td>\n",
       "      <td>Normal</td>\n",
       "      <td>250000</td>\n",
       "    </tr>\n",
       "  </tbody>\n",
       "</table>\n",
       "<p>5 rows × 81 columns</p>\n",
       "</div>"
      ],
      "text/plain": [
       "   Id  MSSubClass MSZoning  LotFrontage  LotArea Street Alley LotShape  \\\n",
       "0   1          60       RL         65.0     8450   Pave   NaN      Reg   \n",
       "1   2          20       RL         80.0     9600   Pave   NaN      Reg   \n",
       "2   3          60       RL         68.0    11250   Pave   NaN      IR1   \n",
       "3   4          70       RL         60.0     9550   Pave   NaN      IR1   \n",
       "4   5          60       RL         84.0    14260   Pave   NaN      IR1   \n",
       "\n",
       "  LandContour Utilities    ...     PoolArea PoolQC Fence MiscFeature MiscVal  \\\n",
       "0         Lvl    AllPub    ...            0    NaN   NaN         NaN       0   \n",
       "1         Lvl    AllPub    ...            0    NaN   NaN         NaN       0   \n",
       "2         Lvl    AllPub    ...            0    NaN   NaN         NaN       0   \n",
       "3         Lvl    AllPub    ...            0    NaN   NaN         NaN       0   \n",
       "4         Lvl    AllPub    ...            0    NaN   NaN         NaN       0   \n",
       "\n",
       "  MoSold YrSold  SaleType  SaleCondition  SalePrice  \n",
       "0      2   2008        WD         Normal     208500  \n",
       "1      5   2007        WD         Normal     181500  \n",
       "2      9   2008        WD         Normal     223500  \n",
       "3      2   2006        WD        Abnorml     140000  \n",
       "4     12   2008        WD         Normal     250000  \n",
       "\n",
       "[5 rows x 81 columns]"
      ]
     },
     "execution_count": 19,
     "metadata": {},
     "output_type": "execute_result"
    }
   ],
   "source": [
    "khous_df.head()"
   ]
  },
  {
   "cell_type": "code",
   "execution_count": 67,
   "metadata": {},
   "outputs": [],
   "source": [
    "loss_by_type = {np.dtype('object'):\"Categorical\", \n",
    "                np.dtype('int64'):\"Quadratic\", \n",
    "                np.dtype('float64'):\"Quadratic\", \n",
    "                np.dtype('bool'):\"Hinge\"}\n",
    "col_loss_types = [loss_by_type[obj_type] for obj_type in khous_df.dtypes]"
   ]
  },
  {
   "cell_type": "code",
   "execution_count": 85,
   "metadata": {
    "scrolled": true
   },
   "outputs": [],
   "source": [
    "glrmodel_2 = H2OGeneralizedLowRankEstimator(k=10, \n",
    "                                       max_iterations=100, \n",
    "                                       loss_by_col=col_loss_types, \n",
    "                                       impute_original=True)\n"
   ]
  },
  {
   "cell_type": "code",
   "execution_count": 86,
   "metadata": {
    "scrolled": true
   },
   "outputs": [
    {
     "name": "stdout",
     "output_type": "stream",
     "text": [
      "glrm Model Build progress: |██████████████████████████████████████████████| 100%\n"
     ]
    }
   ],
   "source": [
    "glrmodel_2.train(y='SalePrice', training_frame=khous_h2)"
   ]
  },
  {
   "cell_type": "code",
   "execution_count": 88,
   "metadata": {
    "scrolled": true
   },
   "outputs": [
    {
     "data": {
      "text/html": [
       "<table>\n",
       "<thead>\n",
       "<tr><th style=\"text-align: right;\">      Id</th><th style=\"text-align: right;\">  MSSubClass</th><th>MSZoning  </th><th style=\"text-align: right;\">  LotFrontage</th><th style=\"text-align: right;\">  LotArea</th><th>Street  </th><th style=\"text-align: right;\">  Alley</th><th>LotShape  </th><th>LandContour  </th><th>Utilities  </th><th>LotConfig  </th><th>LandSlope  </th><th>Neighborhood  </th><th>Condition1  </th><th>Condition2  </th><th>BldgType  </th><th>HouseStyle  </th><th style=\"text-align: right;\">  OverallQual</th><th style=\"text-align: right;\">  OverallCond</th><th style=\"text-align: right;\">  YearBuilt</th><th style=\"text-align: right;\">  YearRemodAdd</th><th>RoofStyle  </th><th>RoofMatl  </th><th>Exterior1st  </th><th>Exterior2nd  </th><th>MasVnrType  </th><th style=\"text-align: right;\">  MasVnrArea</th><th>ExterQual  </th><th>ExterCond  </th><th>Foundation  </th><th>BsmtQual  </th><th>BsmtCond  </th><th>BsmtExposure  </th><th>BsmtFinType1  </th><th style=\"text-align: right;\">  BsmtFinSF1</th><th>BsmtFinType2  </th><th style=\"text-align: right;\">  BsmtFinSF2</th><th style=\"text-align: right;\">  BsmtUnfSF</th><th style=\"text-align: right;\">  TotalBsmtSF</th><th>Heating  </th><th>HeatingQC  </th><th>CentralAir  </th><th>Electrical  </th><th style=\"text-align: right;\">  1stFlrSF</th><th style=\"text-align: right;\">  2ndFlrSF</th><th style=\"text-align: right;\">  LowQualFinSF</th><th style=\"text-align: right;\">  GrLivArea</th><th style=\"text-align: right;\">  BsmtFullBath</th><th style=\"text-align: right;\">  BsmtHalfBath</th><th style=\"text-align: right;\">  FullBath</th><th style=\"text-align: right;\">  HalfBath</th><th style=\"text-align: right;\">  BedroomAbvGr</th><th style=\"text-align: right;\">  KitchenAbvGr</th><th>KitchenQual  </th><th style=\"text-align: right;\">  TotRmsAbvGrd</th><th>Functional  </th><th style=\"text-align: right;\">  Fireplaces</th><th>FireplaceQu  </th><th>GarageType  </th><th style=\"text-align: right;\">  GarageYrBlt</th><th>GarageFinish  </th><th style=\"text-align: right;\">  GarageCars</th><th style=\"text-align: right;\">  GarageArea</th><th>GarageQual  </th><th>GarageCond  </th><th>PavedDrive  </th><th style=\"text-align: right;\">  WoodDeckSF</th><th style=\"text-align: right;\">  OpenPorchSF</th><th style=\"text-align: right;\">  EnclosedPorch</th><th style=\"text-align: right;\">   3SsnPorch</th><th style=\"text-align: right;\">  ScreenPorch</th><th style=\"text-align: right;\">     PoolArea</th><th>PoolQC  </th><th style=\"text-align: right;\">  Fence</th><th>MiscFeature  </th><th style=\"text-align: right;\">      MiscVal</th><th style=\"text-align: right;\">  MoSold</th><th style=\"text-align: right;\">  YrSold</th><th>SaleType  </th><th>SaleCondition  </th><th style=\"text-align: right;\">  SalePrice</th></tr>\n",
       "</thead>\n",
       "<tbody>\n",
       "<tr><td style=\"text-align: right;\"> 684.644</td><td style=\"text-align: right;\">     43.2576</td><td>RL        </td><td style=\"text-align: right;\">      87.9208</td><td style=\"text-align: right;\"> 13948.1 </td><td>Pave    </td><td style=\"text-align: right;\">    nan</td><td>IR1       </td><td>Lvl          </td><td>AllPub     </td><td>Inside     </td><td>Gtl        </td><td>NridgHt       </td><td>Norm        </td><td>Norm        </td><td>1Fam      </td><td>2Story      </td><td style=\"text-align: right;\">      8.36364</td><td style=\"text-align: right;\">      5.22727</td><td style=\"text-align: right;\">    1998.84</td><td style=\"text-align: right;\">       2002.44</td><td>Hip        </td><td>CompShg   </td><td>VinylSd      </td><td>VinylSd      </td><td>BrkFace     </td><td style=\"text-align: right;\">    388.763 </td><td>Gd         </td><td>TA         </td><td>PConc       </td><td>Ex        </td><td>TA        </td><td>No            </td><td>GLQ           </td><td style=\"text-align: right;\">     931.371</td><td>Unf           </td><td style=\"text-align: right;\">     13.197 </td><td style=\"text-align: right;\">    720.811</td><td style=\"text-align: right;\">     1665.38 </td><td>GasA     </td><td>Ex         </td><td>Y           </td><td>SBrkr       </td><td style=\"text-align: right;\">  1688.18 </td><td style=\"text-align: right;\"> 638.598  </td><td style=\"text-align: right;\">  -5.32907e-15</td><td style=\"text-align: right;\">    2326.78</td><td style=\"text-align: right;\">      0.727273</td><td style=\"text-align: right;\">     0.0151515</td><td style=\"text-align: right;\">   2.09848</td><td style=\"text-align: right;\"> 0.636364 </td><td style=\"text-align: right;\">       3.13636</td><td style=\"text-align: right;\">       1      </td><td>Gd           </td><td style=\"text-align: right;\">       8.56061</td><td>Typ         </td><td style=\"text-align: right;\">    1.18182 </td><td>Gd           </td><td>Attchd      </td><td style=\"text-align: right;\">      2001.11</td><td>Fin           </td><td style=\"text-align: right;\">     2.82576</td><td style=\"text-align: right;\">     785.848</td><td>TA          </td><td>TA          </td><td>Y           </td><td style=\"text-align: right;\">    200.25  </td><td style=\"text-align: right;\">      88.3636</td><td style=\"text-align: right;\">        8.06061</td><td style=\"text-align: right;\"> 3.57576    </td><td style=\"text-align: right;\"> 20.2576     </td><td style=\"text-align: right;\">  4.20455    </td><td>nan     </td><td style=\"text-align: right;\">    nan</td><td>nan          </td><td style=\"text-align: right;\"> -4.26326e-14</td><td style=\"text-align: right;\"> 6.68939</td><td style=\"text-align: right;\"> 2007.77</td><td>WD        </td><td>Normal         </td><td style=\"text-align: right;\">     353526</td></tr>\n",
       "<tr><td style=\"text-align: right;\"> 760.081</td><td style=\"text-align: right;\">    112.5   </td><td>RL        </td><td style=\"text-align: right;\">      69.4887</td><td style=\"text-align: right;\">  9839.87</td><td>Pave    </td><td style=\"text-align: right;\">    nan</td><td>Reg       </td><td>Lvl          </td><td>AllPub     </td><td>Inside     </td><td>Gtl        </td><td>OldTown       </td><td>Norm        </td><td>Norm        </td><td>Duplex    </td><td>1Story      </td><td style=\"text-align: right;\">      4.87097</td><td style=\"text-align: right;\">      5.1129 </td><td style=\"text-align: right;\">    1946.24</td><td style=\"text-align: right;\">       1968.69</td><td>Gable      </td><td>CompShg   </td><td>MetalSd      </td><td>MetalSd      </td><td>None        </td><td style=\"text-align: right;\">     75.1078</td><td>TA         </td><td>TA         </td><td>CBlock      </td><td>TA        </td><td>TA        </td><td>No            </td><td>Unf           </td><td style=\"text-align: right;\">     231.129</td><td>Unf           </td><td style=\"text-align: right;\">     16.9677</td><td style=\"text-align: right;\">    645.839</td><td style=\"text-align: right;\">      893.935</td><td>GasA     </td><td>TA         </td><td>Y           </td><td>SBrkr       </td><td style=\"text-align: right;\">  1296.27 </td><td style=\"text-align: right;\"> 462.887  </td><td style=\"text-align: right;\">   0          </td><td style=\"text-align: right;\">    1759.16</td><td style=\"text-align: right;\">      0.225806</td><td style=\"text-align: right;\">     0.0483871</td><td style=\"text-align: right;\">   2      </td><td style=\"text-align: right;\"> 0.177419 </td><td style=\"text-align: right;\">       3.79032</td><td style=\"text-align: right;\">       2.03226</td><td>TA           </td><td style=\"text-align: right;\">       8.45161</td><td>Typ         </td><td style=\"text-align: right;\">    0.225806</td><td>nan          </td><td>Detchd      </td><td style=\"text-align: right;\">      1966.05</td><td>Unf           </td><td style=\"text-align: right;\">     1.54839</td><td style=\"text-align: right;\">     404.613</td><td>TA          </td><td>TA          </td><td>Y           </td><td style=\"text-align: right;\">     36.0161</td><td style=\"text-align: right;\">      21.9032</td><td style=\"text-align: right;\">       34.2581 </td><td style=\"text-align: right;\">-4.44089e-16</td><td style=\"text-align: right;\">  1.59677    </td><td style=\"text-align: right;\">  4.44089e-16</td><td>nan     </td><td style=\"text-align: right;\">    nan</td><td>nan          </td><td style=\"text-align: right;\">198.387      </td><td style=\"text-align: right;\"> 6.75806</td><td style=\"text-align: right;\"> 2007.92</td><td>WD        </td><td>Normal         </td><td style=\"text-align: right;\">     127865</td></tr>\n",
       "<tr><td style=\"text-align: right;\"> 753.224</td><td style=\"text-align: right;\">     46.0959</td><td>RL        </td><td style=\"text-align: right;\">      78.2945</td><td style=\"text-align: right;\"> 13214.4 </td><td>Pave    </td><td style=\"text-align: right;\">    nan</td><td>Reg       </td><td>Lvl          </td><td>AllPub     </td><td>Inside     </td><td>Gtl        </td><td>NAmes         </td><td>Norm        </td><td>Norm        </td><td>1Fam      </td><td>1Story      </td><td style=\"text-align: right;\">      5.91324</td><td style=\"text-align: right;\">      5.78995</td><td style=\"text-align: right;\">    1963.04</td><td style=\"text-align: right;\">       1976.4 </td><td>Gable      </td><td>CompShg   </td><td>Plywood      </td><td>Plywood      </td><td>None        </td><td style=\"text-align: right;\">    126.224 </td><td>TA         </td><td>TA         </td><td>CBlock      </td><td>TA        </td><td>TA        </td><td>No            </td><td>ALQ           </td><td style=\"text-align: right;\">     590.265</td><td>Unf           </td><td style=\"text-align: right;\">    135.694 </td><td style=\"text-align: right;\">    442.895</td><td style=\"text-align: right;\">     1168.85 </td><td>GasA     </td><td>TA         </td><td>Y           </td><td>SBrkr       </td><td style=\"text-align: right;\">  1354.78 </td><td style=\"text-align: right;\"> 281.982  </td><td style=\"text-align: right;\">   0.242009   </td><td style=\"text-align: right;\">    1637   </td><td style=\"text-align: right;\">      0.515982</td><td style=\"text-align: right;\">     0.127854 </td><td style=\"text-align: right;\">   1.49772</td><td style=\"text-align: right;\"> 0.47032  </td><td style=\"text-align: right;\">       3.05023</td><td style=\"text-align: right;\">       1.00457</td><td>TA           </td><td style=\"text-align: right;\">       6.6758 </td><td>Typ         </td><td style=\"text-align: right;\">    1.23744 </td><td>TA           </td><td>Attchd      </td><td style=\"text-align: right;\">      1965.66</td><td>RFn           </td><td style=\"text-align: right;\">     1.85388</td><td style=\"text-align: right;\">     491.877</td><td>TA          </td><td>TA          </td><td>Y           </td><td style=\"text-align: right;\">    108.735 </td><td style=\"text-align: right;\">      53.9817</td><td style=\"text-align: right;\">       21.0639 </td><td style=\"text-align: right;\"> 1.77169    </td><td style=\"text-align: right;\"> 58.2055     </td><td style=\"text-align: right;\"> 11.3288     </td><td>nan     </td><td style=\"text-align: right;\">    nan</td><td>nan          </td><td style=\"text-align: right;\"> 50.2283     </td><td style=\"text-align: right;\"> 6.45662</td><td style=\"text-align: right;\"> 2007.84</td><td>WD        </td><td>Normal         </td><td style=\"text-align: right;\">     183473</td></tr>\n",
       "<tr><td style=\"text-align: right;\"> 722.888</td><td style=\"text-align: right;\">     76.9502</td><td>RL        </td><td style=\"text-align: right;\">      68.216 </td><td style=\"text-align: right;\">  9771.78</td><td>Pave    </td><td style=\"text-align: right;\">    nan</td><td>Reg       </td><td>Lvl          </td><td>AllPub     </td><td>Inside     </td><td>Gtl        </td><td>Gilbert       </td><td>Norm        </td><td>Norm        </td><td>1Fam      </td><td>2Story      </td><td style=\"text-align: right;\">      6.81328</td><td style=\"text-align: right;\">      5.20332</td><td style=\"text-align: right;\">    1996.98</td><td style=\"text-align: right;\">       1998.82</td><td>Gable      </td><td>CompShg   </td><td>VinylSd      </td><td>VinylSd      </td><td>None        </td><td style=\"text-align: right;\">     88.0625</td><td>Gd         </td><td>TA         </td><td>PConc       </td><td>Gd        </td><td>TA        </td><td>No            </td><td>Unf           </td><td style=\"text-align: right;\">     300.577</td><td>Unf           </td><td style=\"text-align: right;\">     12.4772</td><td style=\"text-align: right;\">    546.896</td><td style=\"text-align: right;\">      859.95 </td><td>GasA     </td><td>Ex         </td><td>Y           </td><td>SBrkr       </td><td style=\"text-align: right;\">   919.776</td><td style=\"text-align: right;\"> 855.643  </td><td style=\"text-align: right;\">   0.995851   </td><td style=\"text-align: right;\">    1776.41</td><td style=\"text-align: right;\">      0.302905</td><td style=\"text-align: right;\">     0.0248963</td><td style=\"text-align: right;\">   2.01245</td><td style=\"text-align: right;\"> 0.950207 </td><td style=\"text-align: right;\">       3.12033</td><td style=\"text-align: right;\">       1      </td><td>Gd           </td><td style=\"text-align: right;\">       7.19087</td><td>Typ         </td><td style=\"text-align: right;\">    0.676349</td><td>TA           </td><td>Attchd      </td><td style=\"text-align: right;\">      1997.3 </td><td>Fin           </td><td style=\"text-align: right;\">     2.07884</td><td style=\"text-align: right;\">     521.506</td><td>TA          </td><td>TA          </td><td>Y           </td><td style=\"text-align: right;\">    103.535 </td><td style=\"text-align: right;\">      68.5145</td><td style=\"text-align: right;\">        6.05394</td><td style=\"text-align: right;\"> 3.51452    </td><td style=\"text-align: right;\">  3.24066    </td><td style=\"text-align: right;\"> -7.99361e-15</td><td>nan     </td><td style=\"text-align: right;\">    nan</td><td>nan          </td><td style=\"text-align: right;\"> 12.3651     </td><td style=\"text-align: right;\"> 6.06224</td><td style=\"text-align: right;\"> 2007.76</td><td>WD        </td><td>Normal         </td><td style=\"text-align: right;\">     202017</td></tr>\n",
       "<tr><td style=\"text-align: right;\"> 593.588</td><td style=\"text-align: right;\">     68.2353</td><td>RL        </td><td style=\"text-align: right;\">      79.1206</td><td style=\"text-align: right;\"> 10902.7 </td><td>Pave    </td><td style=\"text-align: right;\">    nan</td><td>Reg       </td><td>Lvl          </td><td>AllPub     </td><td>Inside     </td><td>Gtl        </td><td>SWISU         </td><td>Norm        </td><td>Norm        </td><td>1Fam      </td><td>1.5Fin      </td><td style=\"text-align: right;\">      5.82353</td><td style=\"text-align: right;\">      5.64706</td><td style=\"text-align: right;\">    1920.76</td><td style=\"text-align: right;\">       1973.71</td><td>Gable      </td><td>CompShg   </td><td>Wd Sdng      </td><td>Wd Sdng      </td><td>None        </td><td style=\"text-align: right;\">      0     </td><td>TA         </td><td>TA         </td><td>BrkTil      </td><td>TA        </td><td>TA        </td><td>No            </td><td>Unf           </td><td style=\"text-align: right;\">     197.059</td><td>Unf           </td><td style=\"text-align: right;\">     79.1176</td><td style=\"text-align: right;\">    676.647</td><td style=\"text-align: right;\">      952.824</td><td>GasA     </td><td>Ex         </td><td>Y           </td><td>SBrkr       </td><td style=\"text-align: right;\">  1151.06 </td><td style=\"text-align: right;\"> 629.059  </td><td style=\"text-align: right;\"> 432.588      </td><td style=\"text-align: right;\">    2212.71</td><td style=\"text-align: right;\">      0.235294</td><td style=\"text-align: right;\">     0.0588235</td><td style=\"text-align: right;\">   1.58824</td><td style=\"text-align: right;\"> 0.235294 </td><td style=\"text-align: right;\">       3.76471</td><td style=\"text-align: right;\">       1.05882</td><td>TA           </td><td style=\"text-align: right;\">       8.58824</td><td>Typ         </td><td style=\"text-align: right;\">    0.529412</td><td>nan          </td><td>Detchd      </td><td style=\"text-align: right;\">      1972.3 </td><td>Unf           </td><td style=\"text-align: right;\">     1.17647</td><td style=\"text-align: right;\">     359.412</td><td>TA          </td><td>TA          </td><td>Y           </td><td style=\"text-align: right;\">     76.4706</td><td style=\"text-align: right;\">      55.0588</td><td style=\"text-align: right;\">       59.2941 </td><td style=\"text-align: right;\">-4.44089e-16</td><td style=\"text-align: right;\"> 24.1176     </td><td style=\"text-align: right;\"> 30.1176     </td><td>nan     </td><td style=\"text-align: right;\">    nan</td><td>nan          </td><td style=\"text-align: right;\"> 23.5294     </td><td style=\"text-align: right;\"> 5.82353</td><td style=\"text-align: right;\"> 2007.59</td><td>WD        </td><td>Normal         </td><td style=\"text-align: right;\">     164735</td></tr>\n",
       "<tr><td style=\"text-align: right;\">1299    </td><td style=\"text-align: right;\">     60     </td><td>RL        </td><td style=\"text-align: right;\">     313     </td><td style=\"text-align: right;\"> 63887   </td><td>Pave    </td><td style=\"text-align: right;\">    nan</td><td>IR3       </td><td>Bnk          </td><td>AllPub     </td><td>Corner     </td><td>Gtl        </td><td>Edwards       </td><td>Feedr       </td><td>Norm        </td><td>1Fam      </td><td>2Story      </td><td style=\"text-align: right;\">     10      </td><td style=\"text-align: right;\">      5      </td><td style=\"text-align: right;\">    2008   </td><td style=\"text-align: right;\">       2008   </td><td>Hip        </td><td>ClyTile   </td><td>Stucco       </td><td>Stucco       </td><td>Stone       </td><td style=\"text-align: right;\">    796     </td><td>Ex         </td><td>TA         </td><td>PConc       </td><td>Ex        </td><td>TA        </td><td>Gd            </td><td>GLQ           </td><td style=\"text-align: right;\">    5644    </td><td>Unf           </td><td style=\"text-align: right;\">      0     </td><td style=\"text-align: right;\">    466    </td><td style=\"text-align: right;\">     6110    </td><td>GasA     </td><td>Ex         </td><td>Y           </td><td>SBrkr       </td><td style=\"text-align: right;\">  4692    </td><td style=\"text-align: right;\"> 950      </td><td style=\"text-align: right;\">   0          </td><td style=\"text-align: right;\">    5642   </td><td style=\"text-align: right;\">      2       </td><td style=\"text-align: right;\">     0        </td><td style=\"text-align: right;\">   2      </td><td style=\"text-align: right;\"> 1        </td><td style=\"text-align: right;\">       3      </td><td style=\"text-align: right;\">       1      </td><td>Ex           </td><td style=\"text-align: right;\">      12      </td><td>Typ         </td><td style=\"text-align: right;\">    3       </td><td>Gd           </td><td>Attchd      </td><td style=\"text-align: right;\">      2008   </td><td>Fin           </td><td style=\"text-align: right;\">     2      </td><td style=\"text-align: right;\">    1418    </td><td>TA          </td><td>TA          </td><td>Y           </td><td style=\"text-align: right;\">    214     </td><td style=\"text-align: right;\">     292     </td><td style=\"text-align: right;\">        0      </td><td style=\"text-align: right;\"> 0          </td><td style=\"text-align: right;\"> -1.77636e-15</td><td style=\"text-align: right;\">480          </td><td>Gd      </td><td style=\"text-align: right;\">    nan</td><td>nan          </td><td style=\"text-align: right;\">  0          </td><td style=\"text-align: right;\"> 1      </td><td style=\"text-align: right;\"> 2008   </td><td>New       </td><td>Partial        </td><td style=\"text-align: right;\">     160000</td></tr>\n",
       "<tr><td style=\"text-align: right;\"> 401.75 </td><td style=\"text-align: right;\">     70     </td><td>RL        </td><td style=\"text-align: right;\">      90.0375</td><td style=\"text-align: right;\">163514   </td><td>Pave    </td><td style=\"text-align: right;\">    nan</td><td>IR2       </td><td>Low          </td><td>AllPub     </td><td>CulDSac    </td><td>Sev        </td><td>ClearCr       </td><td>Norm        </td><td>Norm        </td><td>1Fam      </td><td>1.5Fin      </td><td style=\"text-align: right;\">      6.25   </td><td style=\"text-align: right;\">      5.75   </td><td style=\"text-align: right;\">    1964.75</td><td style=\"text-align: right;\">       1984.5 </td><td>Gable      </td><td>CompShg   </td><td>Plywood      </td><td>Plywood      </td><td>None        </td><td style=\"text-align: right;\">    205.75  </td><td>TA         </td><td>TA         </td><td>CBlock      </td><td>Gd        </td><td>TA        </td><td>Gd            </td><td>ALQ           </td><td style=\"text-align: right;\">    1100.25 </td><td>Unf           </td><td style=\"text-align: right;\">    241.75  </td><td style=\"text-align: right;\">    338.5  </td><td style=\"text-align: right;\">     1680.5  </td><td>GasA     </td><td>TA         </td><td>Y           </td><td>SBrkr       </td><td style=\"text-align: right;\">  1730.75 </td><td style=\"text-align: right;\"> 216.75   </td><td style=\"text-align: right;\">   0          </td><td style=\"text-align: right;\">    1947.5 </td><td style=\"text-align: right;\">      1.25    </td><td style=\"text-align: right;\">     0.25     </td><td style=\"text-align: right;\">   2      </td><td style=\"text-align: right;\"> 0        </td><td style=\"text-align: right;\">       3      </td><td style=\"text-align: right;\">       1      </td><td>Gd           </td><td style=\"text-align: right;\">       6.75   </td><td>Typ         </td><td style=\"text-align: right;\">    2       </td><td>Gd           </td><td>Attchd      </td><td style=\"text-align: right;\">      1964.75</td><td>Fin           </td><td style=\"text-align: right;\">     2      </td><td style=\"text-align: right;\">     542.5  </td><td>TA          </td><td>TA          </td><td>Y           </td><td style=\"text-align: right;\">    262.5   </td><td style=\"text-align: right;\">      36.5   </td><td style=\"text-align: right;\">        0      </td><td style=\"text-align: right;\"> 0          </td><td style=\"text-align: right;\"> -1.77636e-15</td><td style=\"text-align: right;\">  0          </td><td>nan     </td><td style=\"text-align: right;\">    nan</td><td>Shed         </td><td style=\"text-align: right;\">300          </td><td style=\"text-align: right;\"> 6.5    </td><td style=\"text-align: right;\"> 2007.75</td><td>WD        </td><td>Normal         </td><td style=\"text-align: right;\">     295738</td></tr>\n",
       "<tr><td style=\"text-align: right;\"> 743.726</td><td style=\"text-align: right;\">     50.4416</td><td>RL        </td><td style=\"text-align: right;\">      63.4887</td><td style=\"text-align: right;\">  8512.87</td><td>Pave    </td><td style=\"text-align: right;\">    nan</td><td>Reg       </td><td>Lvl          </td><td>AllPub     </td><td>Inside     </td><td>Gtl        </td><td>NAmes         </td><td>Norm        </td><td>Norm        </td><td>1Fam      </td><td>1Story      </td><td style=\"text-align: right;\">      4.92877</td><td style=\"text-align: right;\">      5.31054</td><td style=\"text-align: right;\">    1950.14</td><td style=\"text-align: right;\">       1961.57</td><td>Gable      </td><td>CompShg   </td><td>Wd Sdng      </td><td>Wd Sdng      </td><td>None        </td><td style=\"text-align: right;\">     29.6296</td><td>TA         </td><td>TA         </td><td>CBlock      </td><td>TA        </td><td>TA        </td><td>No            </td><td>Unf           </td><td style=\"text-align: right;\">     324.701</td><td>Unf           </td><td style=\"text-align: right;\">     47.2108</td><td style=\"text-align: right;\">    453.123</td><td style=\"text-align: right;\">      825.034</td><td>GasA     </td><td>TA         </td><td>Y           </td><td>SBrkr       </td><td style=\"text-align: right;\">   931.875</td><td style=\"text-align: right;\"> 175.997  </td><td style=\"text-align: right;\">   1.10541    </td><td style=\"text-align: right;\">    1108.98</td><td style=\"text-align: right;\">      0.344729</td><td style=\"text-align: right;\">     0.019943 </td><td style=\"text-align: right;\">   1.07977</td><td style=\"text-align: right;\"> 0.173789 </td><td style=\"text-align: right;\">       2.64103</td><td style=\"text-align: right;\">       1.0057 </td><td>TA           </td><td style=\"text-align: right;\">       5.46154</td><td>Typ         </td><td style=\"text-align: right;\">    0.267806</td><td>nan          </td><td>Detchd      </td><td style=\"text-align: right;\">      1961.57</td><td>Unf           </td><td style=\"text-align: right;\">     1.16809</td><td style=\"text-align: right;\">     326.858</td><td>TA          </td><td>TA          </td><td>Y           </td><td style=\"text-align: right;\">     41.3618</td><td style=\"text-align: right;\">      18.4558</td><td style=\"text-align: right;\">       38.7094 </td><td style=\"text-align: right;\"> 1.5099e-14 </td><td style=\"text-align: right;\">  5.60114    </td><td style=\"text-align: right;\"> -1.06581e-14</td><td>nan     </td><td style=\"text-align: right;\">    nan</td><td>nan          </td><td style=\"text-align: right;\"> 26.0228     </td><td style=\"text-align: right;\"> 6.19943</td><td style=\"text-align: right;\"> 2007.72</td><td>WD        </td><td>Normal         </td><td style=\"text-align: right;\">     115602</td></tr>\n",
       "<tr><td style=\"text-align: right;\"> 746.641</td><td style=\"text-align: right;\">     56.2987</td><td>RL        </td><td style=\"text-align: right;\">      66.9686</td><td style=\"text-align: right;\">  8798.65</td><td>Pave    </td><td style=\"text-align: right;\">    nan</td><td>Reg       </td><td>Lvl          </td><td>AllPub     </td><td>Inside     </td><td>Gtl        </td><td>CollgCr       </td><td>Norm        </td><td>Norm        </td><td>1Fam      </td><td>1Story      </td><td style=\"text-align: right;\">      6.99567</td><td style=\"text-align: right;\">      5.1039 </td><td style=\"text-align: right;\">    2000.99</td><td style=\"text-align: right;\">       2002.07</td><td>Gable      </td><td>CompShg   </td><td>VinylSd      </td><td>VinylSd      </td><td>BrkFace     </td><td style=\"text-align: right;\">    118.953 </td><td>Gd         </td><td>TA         </td><td>PConc       </td><td>Gd        </td><td>TA        </td><td>No            </td><td>GLQ           </td><td style=\"text-align: right;\">     487.442</td><td>Unf           </td><td style=\"text-align: right;\">     16.316 </td><td style=\"text-align: right;\">    872.368</td><td style=\"text-align: right;\">     1376.13 </td><td>GasA     </td><td>Ex         </td><td>Y           </td><td>SBrkr       </td><td style=\"text-align: right;\">  1414.15 </td><td style=\"text-align: right;\">   9.54978</td><td style=\"text-align: right;\">   4.44089e-15</td><td style=\"text-align: right;\">    1423.7 </td><td style=\"text-align: right;\">      0.52381 </td><td style=\"text-align: right;\">     0.025974 </td><td style=\"text-align: right;\">   1.83983</td><td style=\"text-align: right;\"> 0.0865801</td><td style=\"text-align: right;\">       2.41126</td><td style=\"text-align: right;\">       1.00433</td><td>Gd           </td><td style=\"text-align: right;\">       5.97403</td><td>Typ         </td><td style=\"text-align: right;\">    0.545455</td><td>nan          </td><td>Attchd      </td><td style=\"text-align: right;\">      2001.26</td><td>RFn           </td><td style=\"text-align: right;\">     2.18182</td><td style=\"text-align: right;\">     571.056</td><td>TA          </td><td>TA          </td><td>Y           </td><td style=\"text-align: right;\">    116.905 </td><td style=\"text-align: right;\">      57.1299</td><td style=\"text-align: right;\">        4.79654</td><td style=\"text-align: right;\">11.3723     </td><td style=\"text-align: right;\">  5.53247    </td><td style=\"text-align: right;\"> -7.99361e-15</td><td>nan     </td><td style=\"text-align: right;\">    nan</td><td>nan          </td><td style=\"text-align: right;\"> 13.4199     </td><td style=\"text-align: right;\"> 6.53247</td><td style=\"text-align: right;\"> 2007.81</td><td>WD        </td><td>Normal         </td><td style=\"text-align: right;\">     209056</td></tr>\n",
       "<tr><td style=\"text-align: right;\"> 709.609</td><td style=\"text-align: right;\">     47.203 </td><td>RL        </td><td style=\"text-align: right;\">      64.3567</td><td style=\"text-align: right;\">  8567.34</td><td>Pave    </td><td style=\"text-align: right;\">    nan</td><td>Reg       </td><td>Lvl          </td><td>AllPub     </td><td>Inside     </td><td>Gtl        </td><td>NAmes         </td><td>Norm        </td><td>Norm        </td><td>1Fam      </td><td>1Story      </td><td style=\"text-align: right;\">      5.35644</td><td style=\"text-align: right;\">      7.14851</td><td style=\"text-align: right;\">    1946.09</td><td style=\"text-align: right;\">       1992.5 </td><td>Gable      </td><td>CompShg   </td><td>MetalSd      </td><td>MetalSd      </td><td>None        </td><td style=\"text-align: right;\">     34.8713</td><td>TA         </td><td>TA         </td><td>CBlock      </td><td>TA        </td><td>TA        </td><td>No            </td><td>Unf           </td><td style=\"text-align: right;\">     340.455</td><td>Unf           </td><td style=\"text-align: right;\">     48.4752</td><td style=\"text-align: right;\">    447.03 </td><td style=\"text-align: right;\">      835.96 </td><td>GasA     </td><td>Ex         </td><td>Y           </td><td>SBrkr       </td><td style=\"text-align: right;\">   945.168</td><td style=\"text-align: right;\"> 243.361  </td><td style=\"text-align: right;\">   2.46535    </td><td style=\"text-align: right;\">    1191   </td><td style=\"text-align: right;\">      0.356436</td><td style=\"text-align: right;\">     0.148515 </td><td style=\"text-align: right;\">   1.13861</td><td style=\"text-align: right;\"> 0.227723 </td><td style=\"text-align: right;\">       2.73762</td><td style=\"text-align: right;\">       0.99505</td><td>TA           </td><td style=\"text-align: right;\">       5.86634</td><td>Typ         </td><td style=\"text-align: right;\">    0.252475</td><td>nan          </td><td>Detchd      </td><td style=\"text-align: right;\">      1963.11</td><td>Unf           </td><td style=\"text-align: right;\">     1.28713</td><td style=\"text-align: right;\">     356.386</td><td>TA          </td><td>TA          </td><td>Y           </td><td style=\"text-align: right;\">     79.599 </td><td style=\"text-align: right;\">      28.3119</td><td style=\"text-align: right;\">       35.099  </td><td style=\"text-align: right;\"> 3.18812    </td><td style=\"text-align: right;\"> 10.0693     </td><td style=\"text-align: right;\"> -6.66134e-15</td><td>nan     </td><td style=\"text-align: right;\">    nan</td><td>nan          </td><td style=\"text-align: right;\">115.743      </td><td style=\"text-align: right;\"> 6.14851</td><td style=\"text-align: right;\"> 2008.06</td><td>WD        </td><td>Normal         </td><td style=\"text-align: right;\">     136998</td></tr>\n",
       "</tbody>\n",
       "</table>"
      ]
     },
     "metadata": {},
     "output_type": "display_data"
    },
    {
     "data": {
      "text/plain": []
     },
     "execution_count": 88,
     "metadata": {},
     "output_type": "execute_result"
    }
   ],
   "source": [
    "glrmodel_2.proj_archetypes(khous_h2)"
   ]
  },
  {
   "cell_type": "code",
   "execution_count": 90,
   "metadata": {},
   "outputs": [
    {
     "name": "stdout",
     "output_type": "stream",
     "text": [
      "               timestamp    duration  iterations  step_size     objective\n",
      "0    2018-06-28 15:40:25   0.508 sec         0.0   0.666667  1.026142e+13\n",
      "1    2018-06-28 15:40:25   0.730 sec         1.0   0.444444  1.026142e+13\n",
      "2    2018-06-28 15:40:25   0.884 sec         2.0   0.222222  1.026142e+13\n",
      "3    2018-06-28 15:40:25   1.013 sec         3.0   0.074074  1.026142e+13\n",
      "4    2018-06-28 15:40:25   1.194 sec         4.0   0.018519  1.026142e+13\n",
      "5    2018-06-28 15:40:25   1.337 sec         5.0   0.003704  1.026142e+13\n",
      "6    2018-06-28 15:40:26   1.486 sec         6.0   0.000617  1.026142e+13\n",
      "7    2018-06-28 15:40:26   1.632 sec         7.0   0.000088  1.026142e+13\n"
     ]
    },
    {
     "data": {
      "image/png": "[encoded data removed]",
      "text/plain": [
       "<matplotlib.figure.Figure at 0x1095aca58>"
      ]
     },
     "metadata": {},
     "output_type": "display_data"
    }
   ],
   "source": [
    "# Plot objective function value each iteration\n",
    "model_score = glrmodel_2.score_history()\n",
    "plt.xlabel(\"Iteration\")\n",
    "plt.ylabel(\"Objective\")\n",
    "plt.title(\"Objective Function Value per Iteration\")\n",
    "print(model_score)\n",
    "plt.plot(model_score[\"iterations\"], model_score[\"objective\"])\n",
    "plt.show()"
   ]
  },
  {
   "cell_type": "markdown",
   "metadata": {},
   "source": [
    "### GLRM first attempt (default settings)"
   ]
  },
  {
   "cell_type": "code",
   "execution_count": null,
   "metadata": {},
   "outputs": [],
   "source": [
    "glrm = H2OGeneralizedLowRankEstimator(k=30, max_iterations=100)"
   ]
  },
  {
   "cell_type": "code",
   "execution_count": 25,
   "metadata": {
    "scrolled": true
   },
   "outputs": [
    {
     "name": "stdout",
     "output_type": "stream",
     "text": [
      "glrm Model Build progress: |██████████████████████████████████████████████| 100%\n"
     ]
    }
   ],
   "source": [
    "glrm.train(y='SalePrice', training_frame=khous_h2)"
   ]
  },
  {
   "cell_type": "code",
   "execution_count": 30,
   "metadata": {},
   "outputs": [
    {
     "data": {
      "text/html": [
       "<table>\n",
       "<thead>\n",
       "<tr><th style=\"text-align: right;\">     Id</th><th style=\"text-align: right;\">  MSSubClass</th><th>MSZoning  </th><th style=\"text-align: right;\">  LotFrontage</th><th style=\"text-align: right;\">  LotArea</th><th>Street  </th><th style=\"text-align: right;\">  Alley</th><th>LotShape  </th><th>LandContour  </th><th>Utilities  </th><th>LotConfig  </th><th>LandSlope  </th><th>Neighborhood  </th><th>Condition1  </th><th>Condition2  </th><th>BldgType  </th><th>HouseStyle  </th><th style=\"text-align: right;\">  OverallQual</th><th style=\"text-align: right;\">  OverallCond</th><th style=\"text-align: right;\">  YearBuilt</th><th style=\"text-align: right;\">  YearRemodAdd</th><th>RoofStyle  </th><th>RoofMatl  </th><th>Exterior1st  </th><th>Exterior2nd  </th><th>MasVnrType  </th><th style=\"text-align: right;\">  MasVnrArea</th><th>ExterQual  </th><th>ExterCond  </th><th>Foundation  </th><th>BsmtQual  </th><th>BsmtCond  </th><th>BsmtExposure  </th><th>BsmtFinType1  </th><th style=\"text-align: right;\">  BsmtFinSF1</th><th>BsmtFinType2  </th><th style=\"text-align: right;\">   BsmtFinSF2</th><th style=\"text-align: right;\">  BsmtUnfSF</th><th style=\"text-align: right;\">  TotalBsmtSF</th><th>Heating  </th><th>HeatingQC  </th><th>CentralAir  </th><th>Electrical  </th><th style=\"text-align: right;\">  1stFlrSF</th><th style=\"text-align: right;\">  2ndFlrSF</th><th style=\"text-align: right;\">  LowQualFinSF</th><th style=\"text-align: right;\">  GrLivArea</th><th style=\"text-align: right;\">  BsmtFullBath</th><th style=\"text-align: right;\">  BsmtHalfBath</th><th style=\"text-align: right;\">  FullBath</th><th style=\"text-align: right;\">  HalfBath</th><th style=\"text-align: right;\">  BedroomAbvGr</th><th style=\"text-align: right;\">  KitchenAbvGr</th><th>KitchenQual  </th><th style=\"text-align: right;\">  TotRmsAbvGrd</th><th>Functional  </th><th style=\"text-align: right;\">  Fireplaces</th><th>FireplaceQu  </th><th>GarageType  </th><th style=\"text-align: right;\">  GarageYrBlt</th><th>GarageFinish  </th><th style=\"text-align: right;\">  GarageCars</th><th style=\"text-align: right;\">  GarageArea</th><th>GarageQual  </th><th>GarageCond  </th><th>PavedDrive  </th><th style=\"text-align: right;\">  WoodDeckSF</th><th style=\"text-align: right;\">  OpenPorchSF</th><th style=\"text-align: right;\">  EnclosedPorch</th><th style=\"text-align: right;\">   3SsnPorch</th><th style=\"text-align: right;\">  ScreenPorch</th><th style=\"text-align: right;\">     PoolArea</th><th>PoolQC  </th><th>Fence  </th><th>MiscFeature  </th><th style=\"text-align: right;\">        MiscVal</th><th style=\"text-align: right;\">  MoSold</th><th style=\"text-align: right;\">  YrSold</th><th>SaleType  </th><th>SaleCondition  </th><th style=\"text-align: right;\">  SalePrice</th></tr>\n",
       "</thead>\n",
       "<tbody>\n",
       "<tr><td style=\"text-align: right;\">708.328</td><td style=\"text-align: right;\">     25.8621</td><td>RL        </td><td style=\"text-align: right;\">      86.1759</td><td style=\"text-align: right;\"> 12303.3 </td><td>Pave    </td><td style=\"text-align: right;\">    nan</td><td>Reg       </td><td>Lvl          </td><td>AllPub     </td><td>Inside     </td><td>Gtl        </td><td>NridgHt       </td><td>Norm        </td><td>Norm        </td><td>1Fam      </td><td>1Story      </td><td style=\"text-align: right;\">      8.34483</td><td style=\"text-align: right;\">      5.05172</td><td style=\"text-align: right;\">    2002.5 </td><td style=\"text-align: right;\">       2003.76</td><td>Hip        </td><td>CompShg   </td><td>VinylSd      </td><td>VinylSd      </td><td>Stone       </td><td style=\"text-align: right;\">    298.857 </td><td>Gd         </td><td>TA         </td><td>PConc       </td><td>Ex        </td><td>TA        </td><td>Gd            </td><td>GLQ           </td><td style=\"text-align: right;\">    1292.12 </td><td>Unf           </td><td style=\"text-align: right;\"> 41.2069     </td><td style=\"text-align: right;\">    508.534</td><td style=\"text-align: right;\">     1841.86 </td><td>GasA     </td><td>Ex         </td><td>Y           </td><td>SBrkr       </td><td style=\"text-align: right;\">  1836.07 </td><td style=\"text-align: right;\">   9.5    </td><td style=\"text-align: right;\">   8.88178e-16</td><td style=\"text-align: right;\">    1845.57</td><td style=\"text-align: right;\">      1       </td><td style=\"text-align: right;\">  -3.46945e-17</td><td style=\"text-align: right;\">   1.93103</td><td style=\"text-align: right;\">  0.206897</td><td style=\"text-align: right;\">       2.55172</td><td style=\"text-align: right;\">         1    </td><td>Gd           </td><td style=\"text-align: right;\">       7.36207</td><td>Typ         </td><td style=\"text-align: right;\">    1.13793 </td><td>Gd           </td><td>Attchd      </td><td style=\"text-align: right;\">      2002.62</td><td>Fin           </td><td style=\"text-align: right;\">     2.7069 </td><td style=\"text-align: right;\">     755.862</td><td>TA          </td><td>TA          </td><td>Y           </td><td style=\"text-align: right;\">    171.069 </td><td style=\"text-align: right;\">      80.0517</td><td style=\"text-align: right;\">   11.7586     </td><td style=\"text-align: right;\">-8.88178e-16</td><td style=\"text-align: right;\"> 16.3793     </td><td style=\"text-align: right;\">  4.44089e-16</td><td>nan     </td><td>nan    </td><td>nan          </td><td style=\"text-align: right;\">   34.4828     </td><td style=\"text-align: right;\"> 6.51724</td><td style=\"text-align: right;\"> 2008.03</td><td>WD        </td><td>Normal         </td><td style=\"text-align: right;\">     325412</td></tr>\n",
       "<tr><td style=\"text-align: right;\">738.594</td><td style=\"text-align: right;\">    157.812 </td><td>RM        </td><td style=\"text-align: right;\">      30.9109</td><td style=\"text-align: right;\">  2817.41</td><td>Pave    </td><td style=\"text-align: right;\">    nan</td><td>Reg       </td><td>Lvl          </td><td>AllPub     </td><td>Inside     </td><td>Gtl        </td><td>BrDale        </td><td>Norm        </td><td>Norm        </td><td>Twnhs     </td><td>2Story      </td><td style=\"text-align: right;\">      5.46875</td><td style=\"text-align: right;\">      5.4375 </td><td style=\"text-align: right;\">    1973.28</td><td style=\"text-align: right;\">       1975.56</td><td>Gable      </td><td>CompShg   </td><td>HdBoard      </td><td>HdBoard      </td><td>BrkFace     </td><td style=\"text-align: right;\">    161.062 </td><td>TA         </td><td>TA         </td><td>CBlock      </td><td>TA        </td><td>TA        </td><td>No            </td><td>ALQ           </td><td style=\"text-align: right;\">     269.375</td><td>Unf           </td><td style=\"text-align: right;\"> 40.3125     </td><td style=\"text-align: right;\">    317.906</td><td style=\"text-align: right;\">      627.594</td><td>GasA     </td><td>TA         </td><td>Y           </td><td>SBrkr       </td><td style=\"text-align: right;\">   651.719</td><td style=\"text-align: right;\"> 571.281  </td><td style=\"text-align: right;\">   8.88178e-16</td><td style=\"text-align: right;\">    1223   </td><td style=\"text-align: right;\">      0.15625 </td><td style=\"text-align: right;\">   0.03125    </td><td style=\"text-align: right;\">   1.28125</td><td style=\"text-align: right;\">  0.96875 </td><td style=\"text-align: right;\">       2.75   </td><td style=\"text-align: right;\">         1    </td><td>TA           </td><td style=\"text-align: right;\">       5.84375</td><td>Typ         </td><td style=\"text-align: right;\">    0.34375 </td><td>nan          </td><td>Attchd      </td><td style=\"text-align: right;\">      1974.94</td><td>Unf           </td><td style=\"text-align: right;\">     1.25   </td><td style=\"text-align: right;\">     317.969</td><td>TA          </td><td>TA          </td><td>Y           </td><td style=\"text-align: right;\">     74.2812</td><td style=\"text-align: right;\">      10.5625</td><td style=\"text-align: right;\">   -3.55271e-15</td><td style=\"text-align: right;\">-8.88178e-16</td><td style=\"text-align: right;\"> -1.77636e-15</td><td style=\"text-align: right;\">  4.44089e-16</td><td>nan     </td><td>nan    </td><td>nan          </td><td style=\"text-align: right;\">   14.0625     </td><td style=\"text-align: right;\"> 5.53125</td><td style=\"text-align: right;\"> 2008.22</td><td>WD        </td><td>Normal         </td><td style=\"text-align: right;\">     113395</td></tr>\n",
       "<tr><td style=\"text-align: right;\">873    </td><td style=\"text-align: right;\">     85     </td><td>RL        </td><td style=\"text-align: right;\">      80.125 </td><td style=\"text-align: right;\"> 10211.1 </td><td>Pave    </td><td style=\"text-align: right;\">    nan</td><td>Reg       </td><td>Bnk          </td><td>AllPub     </td><td>Inside     </td><td>Gtl        </td><td>SWISU         </td><td>Norm        </td><td>Norm        </td><td>1Fam      </td><td>2.5Fin      </td><td style=\"text-align: right;\">      5.875  </td><td style=\"text-align: right;\">      5.875  </td><td style=\"text-align: right;\">    1917.12</td><td style=\"text-align: right;\">       1979.62</td><td>Gable      </td><td>CompShg   </td><td>Wd Sdng      </td><td>MetalSd      </td><td>None        </td><td style=\"text-align: right;\">      0     </td><td>TA         </td><td>TA         </td><td>BrkTil      </td><td>TA        </td><td>TA        </td><td>No            </td><td>LwQ           </td><td style=\"text-align: right;\">     196    </td><td>Unf           </td><td style=\"text-align: right;\"> 58.625      </td><td style=\"text-align: right;\">    670.875</td><td style=\"text-align: right;\">      925.5  </td><td>GasA     </td><td>Ex         </td><td>Y           </td><td>SBrkr       </td><td style=\"text-align: right;\">  1257.38 </td><td style=\"text-align: right;\"> 977      </td><td style=\"text-align: right;\"> 406.5        </td><td style=\"text-align: right;\">    2640.88</td><td style=\"text-align: right;\">      0.25    </td><td style=\"text-align: right;\">   0          </td><td style=\"text-align: right;\">   1.875  </td><td style=\"text-align: right;\">  0.25    </td><td style=\"text-align: right;\">       4.625  </td><td style=\"text-align: right;\">         1.125</td><td>TA           </td><td style=\"text-align: right;\">      10.375  </td><td>Typ         </td><td style=\"text-align: right;\">    0.625   </td><td>nan          </td><td>nan         </td><td style=\"text-align: right;\">      1976.63</td><td>nan           </td><td style=\"text-align: right;\">     0.75   </td><td style=\"text-align: right;\">     253    </td><td>TA          </td><td>nan         </td><td>Y           </td><td style=\"text-align: right;\">    118.875 </td><td style=\"text-align: right;\">      79.625 </td><td style=\"text-align: right;\">    6.25       </td><td style=\"text-align: right;\"> 0          </td><td style=\"text-align: right;\"> -1.77636e-15</td><td style=\"text-align: right;\">  0          </td><td>nan     </td><td>nan    </td><td>nan          </td><td style=\"text-align: right;\">    0          </td><td style=\"text-align: right;\"> 6.5    </td><td style=\"text-align: right;\"> 2007.75</td><td>WD        </td><td>Normal         </td><td style=\"text-align: right;\">     164062</td></tr>\n",
       "<tr><td style=\"text-align: right;\">654.096</td><td style=\"text-align: right;\">     30.137 </td><td>RL        </td><td style=\"text-align: right;\">      82.7719</td><td style=\"text-align: right;\"> 14984.4 </td><td>Pave    </td><td style=\"text-align: right;\">    nan</td><td>IR1       </td><td>Lvl          </td><td>AllPub     </td><td>Inside     </td><td>Gtl        </td><td>NAmes         </td><td>Norm        </td><td>Norm        </td><td>1Fam      </td><td>1Story      </td><td style=\"text-align: right;\">      5.87671</td><td style=\"text-align: right;\">      5.50685</td><td style=\"text-align: right;\">    1966.97</td><td style=\"text-align: right;\">       1977.23</td><td>Gable      </td><td>CompShg   </td><td>Plywood      </td><td>Plywood      </td><td>BrkFace     </td><td style=\"text-align: right;\">    145.932 </td><td>TA         </td><td>TA         </td><td>CBlock      </td><td>TA        </td><td>TA        </td><td>No            </td><td>ALQ           </td><td style=\"text-align: right;\">     621.781</td><td>Unf           </td><td style=\"text-align: right;\">149.096      </td><td style=\"text-align: right;\">    577.37 </td><td style=\"text-align: right;\">     1348.25 </td><td>GasA     </td><td>TA         </td><td>Y           </td><td>SBrkr       </td><td style=\"text-align: right;\">  1563.51 </td><td style=\"text-align: right;\">   8.94521</td><td style=\"text-align: right;\">  -1.77636e-15</td><td style=\"text-align: right;\">    1572.45</td><td style=\"text-align: right;\">      0.630137</td><td style=\"text-align: right;\">  -4.85723e-17</td><td style=\"text-align: right;\">   1.57534</td><td style=\"text-align: right;\">  0.260274</td><td style=\"text-align: right;\">       2.87671</td><td style=\"text-align: right;\">         1    </td><td>TA           </td><td style=\"text-align: right;\">       6.45205</td><td>Typ         </td><td style=\"text-align: right;\">    1.38356 </td><td>TA           </td><td>Attchd      </td><td style=\"text-align: right;\">      1968.59</td><td>RFn           </td><td style=\"text-align: right;\">     1.86301</td><td style=\"text-align: right;\">     508.986</td><td>TA          </td><td>TA          </td><td>Y           </td><td style=\"text-align: right;\">     95.274 </td><td style=\"text-align: right;\">      40.4658</td><td style=\"text-align: right;\">   31.8082     </td><td style=\"text-align: right;\">-8.88178e-16</td><td style=\"text-align: right;\">  6.82192    </td><td style=\"text-align: right;\">  8.88178e-16</td><td>nan     </td><td>nan    </td><td>nan          </td><td style=\"text-align: right;\">    9.58904    </td><td style=\"text-align: right;\"> 6.0137 </td><td style=\"text-align: right;\"> 2008.12</td><td>WD        </td><td>Normal         </td><td style=\"text-align: right;\">     178620</td></tr>\n",
       "<tr><td style=\"text-align: right;\">739.869</td><td style=\"text-align: right;\">     61.0656</td><td>RL        </td><td style=\"text-align: right;\">      75.9492</td><td style=\"text-align: right;\"> 11595.9 </td><td>Pave    </td><td style=\"text-align: right;\">    nan</td><td>Reg       </td><td>Lvl          </td><td>AllPub     </td><td>Inside     </td><td>Gtl        </td><td>NWAmes        </td><td>Norm        </td><td>Norm        </td><td>1Fam      </td><td>2Story      </td><td style=\"text-align: right;\">      6.11475</td><td style=\"text-align: right;\">      6      </td><td style=\"text-align: right;\">    1962.69</td><td style=\"text-align: right;\">       1977.18</td><td>Gable      </td><td>CompShg   </td><td>HdBoard      </td><td>HdBoard      </td><td>BrkFace     </td><td style=\"text-align: right;\">    166.885 </td><td>TA         </td><td>TA         </td><td>CBlock      </td><td>TA        </td><td>TA        </td><td>No            </td><td>ALQ           </td><td style=\"text-align: right;\">     419.623</td><td>Unf           </td><td style=\"text-align: right;\"> 75.3934     </td><td style=\"text-align: right;\">    343.721</td><td style=\"text-align: right;\">      838.738</td><td>GasA     </td><td>TA         </td><td>Y           </td><td>SBrkr       </td><td style=\"text-align: right;\">  1111.66 </td><td style=\"text-align: right;\"> 814.361  </td><td style=\"text-align: right;\">   0.868852   </td><td style=\"text-align: right;\">    1926.89</td><td style=\"text-align: right;\">      0.213115</td><td style=\"text-align: right;\">   0.0491803  </td><td style=\"text-align: right;\">   1.72131</td><td style=\"text-align: right;\">  0.868852</td><td style=\"text-align: right;\">       3.52459</td><td style=\"text-align: right;\">         1    </td><td>TA           </td><td style=\"text-align: right;\">       7.65574</td><td>Typ         </td><td style=\"text-align: right;\">    1.04918 </td><td>TA           </td><td>Attchd      </td><td style=\"text-align: right;\">      1966.07</td><td>Unf           </td><td style=\"text-align: right;\">     1.91803</td><td style=\"text-align: right;\">     485.049</td><td>TA          </td><td>TA          </td><td>Y           </td><td style=\"text-align: right;\">    112.754 </td><td style=\"text-align: right;\">      77.2623</td><td style=\"text-align: right;\">   19.6885     </td><td style=\"text-align: right;\">-8.88178e-16</td><td style=\"text-align: right;\"> 10.9508     </td><td style=\"text-align: right;\">  4.44089e-16</td><td>nan     </td><td>nan    </td><td>nan          </td><td style=\"text-align: right;\">   20.4918     </td><td style=\"text-align: right;\"> 7.14754</td><td style=\"text-align: right;\"> 2007.36</td><td>WD        </td><td>Normal         </td><td style=\"text-align: right;\">     189560</td></tr>\n",
       "<tr><td style=\"text-align: right;\">787.937</td><td style=\"text-align: right;\">    161.875 </td><td>FV        </td><td style=\"text-align: right;\">      36.8203</td><td style=\"text-align: right;\">  3025.34</td><td>Pave    </td><td style=\"text-align: right;\">    nan</td><td>Reg       </td><td>Lvl          </td><td>AllPub     </td><td>Inside     </td><td>Gtl        </td><td>Somerst       </td><td>Norm        </td><td>Norm        </td><td>TwnhsE    </td><td>2Story      </td><td style=\"text-align: right;\">      6.6875 </td><td style=\"text-align: right;\">      5      </td><td style=\"text-align: right;\">    2002.88</td><td style=\"text-align: right;\">       2003.22</td><td>Gable      </td><td>CompShg   </td><td>MetalSd      </td><td>MetalSd      </td><td>BrkFace     </td><td style=\"text-align: right;\">    184.031 </td><td>Gd         </td><td>TA         </td><td>PConc       </td><td>Gd        </td><td>TA        </td><td>No            </td><td>GLQ           </td><td style=\"text-align: right;\">     270.719</td><td>Unf           </td><td style=\"text-align: right;\"> -7.10543e-15</td><td style=\"text-align: right;\">    442.062</td><td style=\"text-align: right;\">      712.781</td><td>GasA     </td><td>Ex         </td><td>Y           </td><td>SBrkr       </td><td style=\"text-align: right;\">   758.031</td><td style=\"text-align: right;\"> 638.094  </td><td style=\"text-align: right;\">   7.5        </td><td style=\"text-align: right;\">    1403.62</td><td style=\"text-align: right;\">      0.28125 </td><td style=\"text-align: right;\">   0          </td><td style=\"text-align: right;\">   1.9375 </td><td style=\"text-align: right;\">  0.71875 </td><td style=\"text-align: right;\">       2.375  </td><td style=\"text-align: right;\">         1    </td><td>Gd           </td><td style=\"text-align: right;\">       5.28125</td><td>Typ         </td><td style=\"text-align: right;\">    0.09375 </td><td>nan          </td><td>Detchd      </td><td style=\"text-align: right;\">      2002.88</td><td>Unf           </td><td style=\"text-align: right;\">     2      </td><td style=\"text-align: right;\">     475.625</td><td>TA          </td><td>TA          </td><td>Y           </td><td style=\"text-align: right;\">     14.8125</td><td style=\"text-align: right;\">      63.9062</td><td style=\"text-align: right;\">   -3.55271e-15</td><td style=\"text-align: right;\">-4.44089e-16</td><td style=\"text-align: right;\"> -1.77636e-15</td><td style=\"text-align: right;\">  4.44089e-16</td><td>nan     </td><td>nan    </td><td>nan          </td><td style=\"text-align: right;\">   -1.42109e-14</td><td style=\"text-align: right;\"> 5.46875</td><td style=\"text-align: right;\"> 2007.53</td><td>WD        </td><td>Normal         </td><td style=\"text-align: right;\">     158984</td></tr>\n",
       "<tr><td style=\"text-align: right;\">739.291</td><td style=\"text-align: right;\">     36.511 </td><td>RL        </td><td style=\"text-align: right;\">      70.181 </td><td style=\"text-align: right;\">  9502.98</td><td>Pave    </td><td style=\"text-align: right;\">    nan</td><td>Reg       </td><td>Lvl          </td><td>AllPub     </td><td>Inside     </td><td>Gtl        </td><td>NAmes         </td><td>Norm        </td><td>Norm        </td><td>1Fam      </td><td>1Story      </td><td style=\"text-align: right;\">      5.11538</td><td style=\"text-align: right;\">      6.15934</td><td style=\"text-align: right;\">    1963.81</td><td style=\"text-align: right;\">       1978.36</td><td>Gable      </td><td>CompShg   </td><td>HdBoard      </td><td>HdBoard      </td><td>None        </td><td style=\"text-align: right;\">     41.2912</td><td>TA         </td><td>TA         </td><td>CBlock      </td><td>TA        </td><td>TA        </td><td>No            </td><td>ALQ           </td><td style=\"text-align: right;\">     593.258</td><td>Unf           </td><td style=\"text-align: right;\">109.956      </td><td style=\"text-align: right;\">    287.736</td><td style=\"text-align: right;\">      990.951</td><td>GasA     </td><td>TA         </td><td>Y           </td><td>SBrkr       </td><td style=\"text-align: right;\">  1038.52 </td><td style=\"text-align: right;\">  16.9451 </td><td style=\"text-align: right;\">   0          </td><td style=\"text-align: right;\">    1055.46</td><td style=\"text-align: right;\">      0.758242</td><td style=\"text-align: right;\">  -7.63278e-17</td><td style=\"text-align: right;\">   1.07143</td><td style=\"text-align: right;\">  0.148352</td><td style=\"text-align: right;\">       2.69231</td><td style=\"text-align: right;\">         1    </td><td>TA           </td><td style=\"text-align: right;\">       5.42308</td><td>Typ         </td><td style=\"text-align: right;\">    0.225275</td><td>nan          </td><td>Attchd      </td><td style=\"text-align: right;\">      1970.46</td><td>Unf           </td><td style=\"text-align: right;\">     1.48352</td><td style=\"text-align: right;\">     435.401</td><td>TA          </td><td>TA          </td><td>Y           </td><td style=\"text-align: right;\">    103.709 </td><td style=\"text-align: right;\">      23.7857</td><td style=\"text-align: right;\">   14.3407     </td><td style=\"text-align: right;\"> 5.32907e-15</td><td style=\"text-align: right;\">  4.50549    </td><td style=\"text-align: right;\"> -5.32907e-15</td><td>nan     </td><td>nan    </td><td>nan          </td><td style=\"text-align: right;\">   20.8791     </td><td style=\"text-align: right;\"> 5.77473</td><td style=\"text-align: right;\"> 2008.02</td><td>WD        </td><td>Normal         </td><td style=\"text-align: right;\">     137126</td></tr>\n",
       "<tr><td style=\"text-align: right;\">998.2  </td><td style=\"text-align: right;\">     63     </td><td>RL        </td><td style=\"text-align: right;\">      95.61  </td><td style=\"text-align: right;\"> 16364.2 </td><td>Pave    </td><td style=\"text-align: right;\">    nan</td><td>Reg       </td><td>Lvl          </td><td>AllPub     </td><td>Inside     </td><td>Gtl        </td><td>NWAmes        </td><td>Norm        </td><td>Norm        </td><td>1Fam      </td><td>2Story      </td><td style=\"text-align: right;\">      6.6    </td><td style=\"text-align: right;\">      5.6    </td><td style=\"text-align: right;\">    1962.6 </td><td style=\"text-align: right;\">       1982   </td><td>Gable      </td><td>CompShg   </td><td>Plywood      </td><td>Plywood      </td><td>None        </td><td style=\"text-align: right;\">     56.6   </td><td>TA         </td><td>TA         </td><td>CBlock      </td><td>TA        </td><td>TA        </td><td>No            </td><td>ALQ           </td><td style=\"text-align: right;\">     602.2  </td><td>LwQ           </td><td style=\"text-align: right;\">206          </td><td style=\"text-align: right;\">    308.8  </td><td style=\"text-align: right;\">     1117    </td><td>GasA     </td><td>TA         </td><td>Y           </td><td>SBrkr       </td><td style=\"text-align: right;\">  1350.8  </td><td style=\"text-align: right;\"> 675.6    </td><td style=\"text-align: right;\">  78.4        </td><td style=\"text-align: right;\">    2104.8 </td><td style=\"text-align: right;\">      0.8     </td><td style=\"text-align: right;\">   0.2        </td><td style=\"text-align: right;\">   1.8    </td><td style=\"text-align: right;\">  0.4     </td><td style=\"text-align: right;\">       3.8    </td><td style=\"text-align: right;\">         1    </td><td>Gd           </td><td style=\"text-align: right;\">       7.8    </td><td>Typ         </td><td style=\"text-align: right;\">    1.2     </td><td>Ex           </td><td>Attchd      </td><td style=\"text-align: right;\">      1962.6 </td><td>RFn           </td><td style=\"text-align: right;\">     1.8    </td><td style=\"text-align: right;\">     526.6  </td><td>TA          </td><td>TA          </td><td>Y           </td><td style=\"text-align: right;\">    210.8   </td><td style=\"text-align: right;\">      72.8   </td><td style=\"text-align: right;\">  110.4        </td><td style=\"text-align: right;\"> 0          </td><td style=\"text-align: right;\"> 88          </td><td style=\"text-align: right;\">598.6        </td><td>Fa      </td><td>GdPrv  </td><td>nan          </td><td style=\"text-align: right;\">  400          </td><td style=\"text-align: right;\"> 5.2    </td><td style=\"text-align: right;\"> 2006.4 </td><td>WD        </td><td>Normal         </td><td style=\"text-align: right;\">     222394</td></tr>\n",
       "<tr><td style=\"text-align: right;\">347    </td><td style=\"text-align: right;\">     20     </td><td>RL        </td><td style=\"text-align: right;\">      70.05  </td><td style=\"text-align: right;\"> 12772   </td><td>Pave    </td><td style=\"text-align: right;\">    nan</td><td>IR1       </td><td>Lvl          </td><td>AllPub     </td><td>CulDSac    </td><td>Gtl        </td><td>NAmes         </td><td>Norm        </td><td>Norm        </td><td>1Fam      </td><td>1Story      </td><td style=\"text-align: right;\">      6      </td><td style=\"text-align: right;\">      8      </td><td style=\"text-align: right;\">    1960   </td><td style=\"text-align: right;\">       1998   </td><td>Hip        </td><td>CompShg   </td><td>MetalSd      </td><td>MetalSd      </td><td>None        </td><td style=\"text-align: right;\">      0     </td><td>TA         </td><td>Gd         </td><td>CBlock      </td><td>TA        </td><td>TA        </td><td>Mn            </td><td>BLQ           </td><td style=\"text-align: right;\">     498    </td><td>Unf           </td><td style=\"text-align: right;\">  0          </td><td style=\"text-align: right;\">    460    </td><td style=\"text-align: right;\">      958    </td><td>GasA     </td><td>TA         </td><td>Y           </td><td>SBrkr       </td><td style=\"text-align: right;\">   958    </td><td style=\"text-align: right;\">   0      </td><td style=\"text-align: right;\">   0          </td><td style=\"text-align: right;\">     958   </td><td style=\"text-align: right;\">      0       </td><td style=\"text-align: right;\">   0          </td><td style=\"text-align: right;\">   1      </td><td style=\"text-align: right;\">  0       </td><td style=\"text-align: right;\">       2      </td><td style=\"text-align: right;\">         1    </td><td>TA           </td><td style=\"text-align: right;\">       5      </td><td>Typ         </td><td style=\"text-align: right;\">    0       </td><td>nan          </td><td>Attchd      </td><td style=\"text-align: right;\">      1960   </td><td>RFn           </td><td style=\"text-align: right;\">     1      </td><td style=\"text-align: right;\">     301    </td><td>TA          </td><td>TA          </td><td>Y           </td><td style=\"text-align: right;\">      0     </td><td style=\"text-align: right;\">       0     </td><td style=\"text-align: right;\">    0          </td><td style=\"text-align: right;\"> 0          </td><td style=\"text-align: right;\"> -1.77636e-15</td><td style=\"text-align: right;\">  0          </td><td>nan     </td><td>nan    </td><td>Gar2         </td><td style=\"text-align: right;\">15500          </td><td style=\"text-align: right;\"> 4      </td><td style=\"text-align: right;\"> 2007   </td><td>WD        </td><td>Normal         </td><td style=\"text-align: right;\">     151500</td></tr>\n",
       "<tr><td style=\"text-align: right;\">703.158</td><td style=\"text-align: right;\">     53.1579</td><td>RL        </td><td style=\"text-align: right;\">      89.3711</td><td style=\"text-align: right;\"> 18906.7 </td><td>Pave    </td><td style=\"text-align: right;\">    nan</td><td>IR1       </td><td>Lvl          </td><td>AllPub     </td><td>Inside     </td><td>Gtl        </td><td>NridgHt       </td><td>Norm        </td><td>Norm        </td><td>1Fam      </td><td>2Story      </td><td style=\"text-align: right;\">      9.26316</td><td style=\"text-align: right;\">      5.05263</td><td style=\"text-align: right;\">    2004.05</td><td style=\"text-align: right;\">       2004.74</td><td>Hip        </td><td>CompShg   </td><td>VinylSd      </td><td>VinylSd      </td><td>BrkFace     </td><td style=\"text-align: right;\">    684.632 </td><td>Ex         </td><td>TA         </td><td>PConc       </td><td>Ex        </td><td>TA        </td><td>Gd            </td><td>GLQ           </td><td style=\"text-align: right;\">     980.211</td><td>Unf           </td><td style=\"text-align: right;\">  0          </td><td style=\"text-align: right;\">    993.842</td><td style=\"text-align: right;\">     1974.05 </td><td>GasA     </td><td>Ex         </td><td>Y           </td><td>SBrkr       </td><td style=\"text-align: right;\">  1977.05 </td><td style=\"text-align: right;\"> 997.053  </td><td style=\"text-align: right;\">   0          </td><td style=\"text-align: right;\">    2974.11</td><td style=\"text-align: right;\">      0.631579</td><td style=\"text-align: right;\">   0.0526316  </td><td style=\"text-align: right;\">   2.47368</td><td style=\"text-align: right;\">  0.894737</td><td style=\"text-align: right;\">       3.36842</td><td style=\"text-align: right;\">         1    </td><td>Ex           </td><td style=\"text-align: right;\">      10.1579 </td><td>Typ         </td><td style=\"text-align: right;\">    1.31579 </td><td>Gd           </td><td>BuiltIn     </td><td style=\"text-align: right;\">      2004.32</td><td>Fin           </td><td style=\"text-align: right;\">     3      </td><td style=\"text-align: right;\">     818.053</td><td>TA          </td><td>TA          </td><td>Y           </td><td style=\"text-align: right;\">    239.158 </td><td style=\"text-align: right;\">     106.526 </td><td style=\"text-align: right;\">    1.94737    </td><td style=\"text-align: right;\">-4.44089e-16</td><td style=\"text-align: right;\"> 21.1579     </td><td style=\"text-align: right;\">  4.44089e-16</td><td>nan     </td><td>nan    </td><td>nan          </td><td style=\"text-align: right;\">    0          </td><td style=\"text-align: right;\"> 5.42105</td><td style=\"text-align: right;\"> 2007.84</td><td>New       </td><td>Partial        </td><td style=\"text-align: right;\">     474694</td></tr>\n",
       "</tbody>\n",
       "</table>"
      ]
     },
     "metadata": {},
     "output_type": "display_data"
    },
    {
     "data": {
      "text/plain": []
     },
     "execution_count": 30,
     "metadata": {},
     "output_type": "execute_result"
    }
   ],
   "source": [
    "glrm.proj_archetypes(khous_h2)"
   ]
  },
  {
   "cell_type": "code",
   "execution_count": null,
   "metadata": {
    "scrolled": false
   },
   "outputs": [],
   "source": [
    "glrm.archetypes()[1]"
   ]
  },
  {
   "cell_type": "markdown",
   "metadata": {},
   "source": [
    "Jason thought he remembered 'categorical' getting parsed differently from 'enum', hence the little loop below which changes all the dtypes to 'categorical'.  So I might want want to try a similar thing with just my enums and see what changes."
   ]
  },
  {
   "cell_type": "code",
   "execution_count": null,
   "metadata": {},
   "outputs": [],
   "source": [
    "types = {} \n",
    "for k in region_a_df.types: \n",
    "    types[k] = 'categorical' \n",
    "    types['C1'] = 'string' \n",
    "region_a_df = h2o.H2OFrame(np.array(region_answers)[:,1:], column_types=types) region_a_df.describe()\n",
    "\n",
    "glrm.train(y=y, training_frame=region_a_df)"
   ]
  },
  {
   "cell_type": "code",
   "execution_count": 36,
   "metadata": {
    "scrolled": false
   },
   "outputs": [
    {
     "data": {
      "text/plain": [
       "{'1stFlrSF': 'int',\n",
       " '2ndFlrSF': 'int',\n",
       " '3SsnPorch': 'int',\n",
       " 'Alley': 'enum',\n",
       " 'BedroomAbvGr': 'int',\n",
       " 'BldgType': 'enum',\n",
       " 'BsmtCond': 'enum',\n",
       " 'BsmtExposure': 'enum',\n",
       " 'BsmtFinSF1': 'int',\n",
       " 'BsmtFinSF2': 'int',\n",
       " 'BsmtFinType1': 'enum',\n",
       " 'BsmtFinType2': 'enum',\n",
       " 'BsmtFullBath': 'int',\n",
       " 'BsmtHalfBath': 'int',\n",
       " 'BsmtQual': 'enum',\n",
       " 'BsmtUnfSF': 'int',\n",
       " 'CentralAir': 'enum',\n",
       " 'Condition1': 'enum',\n",
       " 'Condition2': 'enum',\n",
       " 'Electrical': 'enum',\n",
       " 'EnclosedPorch': 'int',\n",
       " 'ExterCond': 'enum',\n",
       " 'ExterQual': 'enum',\n",
       " 'Exterior1st': 'enum',\n",
       " 'Exterior2nd': 'enum',\n",
       " 'Fence': 'enum',\n",
       " 'FireplaceQu': 'enum',\n",
       " 'Fireplaces': 'int',\n",
       " 'Foundation': 'enum',\n",
       " 'FullBath': 'int',\n",
       " 'Functional': 'enum',\n",
       " 'GarageArea': 'int',\n",
       " 'GarageCars': 'int',\n",
       " 'GarageCond': 'enum',\n",
       " 'GarageFinish': 'enum',\n",
       " 'GarageQual': 'enum',\n",
       " 'GarageType': 'enum',\n",
       " 'GarageYrBlt': 'int',\n",
       " 'GrLivArea': 'int',\n",
       " 'HalfBath': 'int',\n",
       " 'Heating': 'enum',\n",
       " 'HeatingQC': 'enum',\n",
       " 'HouseStyle': 'enum',\n",
       " 'Id': 'int',\n",
       " 'KitchenAbvGr': 'int',\n",
       " 'KitchenQual': 'enum',\n",
       " 'LandContour': 'enum',\n",
       " 'LandSlope': 'enum',\n",
       " 'LotArea': 'int',\n",
       " 'LotConfig': 'enum',\n",
       " 'LotFrontage': 'int',\n",
       " 'LotShape': 'enum',\n",
       " 'LowQualFinSF': 'int',\n",
       " 'MSSubClass': 'int',\n",
       " 'MSZoning': 'enum',\n",
       " 'MasVnrArea': 'int',\n",
       " 'MasVnrType': 'enum',\n",
       " 'MiscFeature': 'enum',\n",
       " 'MiscVal': 'int',\n",
       " 'MoSold': 'int',\n",
       " 'Neighborhood': 'enum',\n",
       " 'OpenPorchSF': 'int',\n",
       " 'OverallCond': 'int',\n",
       " 'OverallQual': 'int',\n",
       " 'PavedDrive': 'enum',\n",
       " 'PoolArea': 'int',\n",
       " 'PoolQC': 'enum',\n",
       " 'RoofMatl': 'enum',\n",
       " 'RoofStyle': 'enum',\n",
       " 'SaleCondition': 'enum',\n",
       " 'SalePrice': 'int',\n",
       " 'SaleType': 'enum',\n",
       " 'ScreenPorch': 'int',\n",
       " 'Street': 'enum',\n",
       " 'TotRmsAbvGrd': 'int',\n",
       " 'TotalBsmtSF': 'int',\n",
       " 'Utilities': 'enum',\n",
       " 'WoodDeckSF': 'int',\n",
       " 'YearBuilt': 'int',\n",
       " 'YearRemodAdd': 'int',\n",
       " 'YrSold': 'int'}"
      ]
     },
     "execution_count": 36,
     "metadata": {},
     "output_type": "execute_result"
    }
   ],
   "source": [
    "khous_h2.types"
   ]
  }
 ],
 "metadata": {
  "kernelspec": {
   "display_name": "Python 3",
   "language": "python",
   "name": "python3"
  },
  "language_info": {
   "codemirror_mode": {
    "name": "ipython",
    "version": 3
   },
   "file_extension": ".py",
   "mimetype": "text/x-python",
   "name": "python",
   "nbconvert_exporter": "python",
   "pygments_lexer": "ipython3",
   "version": "3.6.4"
  }
 },
 "nbformat": 4,
 "nbformat_minor": 2
}
