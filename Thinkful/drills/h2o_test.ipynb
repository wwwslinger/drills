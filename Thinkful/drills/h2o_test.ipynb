{
 "cells": [
  {
   "cell_type": "code",
   "execution_count": 1,
   "metadata": {},
   "outputs": [],
   "source": [
    "import pandas as pd\n",
    "import numpy as np\n",
    "import scipy as sp\n",
    "import matplotlib.pyplot as plt\n",
    "import seaborn as sns\n",
    "import random\n",
    "random.seed(11)\n",
    "%matplotlib inline"
   ]
  },
  {
   "cell_type": "markdown",
   "metadata": {},
   "source": [
    "## Load H2o"
   ]
  },
  {
   "cell_type": "markdown",
   "metadata": {},
   "source": [
    "NOTE: to start H2o, first use Terminal to navigate to *usr/local/lib/python3.6/site-packages/h2o/backend/bin* and enter the command *java -jar h2o.jar*"
   ]
  },
  {
   "cell_type": "code",
   "execution_count": 6,
   "metadata": {
    "scrolled": true
   },
   "outputs": [
    {
     "name": "stdout",
     "output_type": "stream",
     "text": [
      "Checking whether there is an H2O instance running at http://localhost:54321. connected.\n"
     ]
    },
    {
     "data": {
      "text/html": [
       "<div style=\"overflow:auto\"><table style=\"width:50%\"><tr><td>H2O cluster uptime:</td>\n",
       "<td>06 secs</td></tr>\n",
       "<tr><td>H2O cluster timezone:</td>\n",
       "<td>America/Los_Angeles</td></tr>\n",
       "<tr><td>H2O data parsing timezone:</td>\n",
       "<td>UTC</td></tr>\n",
       "<tr><td>H2O cluster version:</td>\n",
       "<td>3.18.0.11</td></tr>\n",
       "<tr><td>H2O cluster version age:</td>\n",
       "<td>1 month and 6 days </td></tr>\n",
       "<tr><td>H2O cluster name:</td>\n",
       "<td>garrettfiddler</td></tr>\n",
       "<tr><td>H2O cluster total nodes:</td>\n",
       "<td>1</td></tr>\n",
       "<tr><td>H2O cluster free memory:</td>\n",
       "<td>2 Gb</td></tr>\n",
       "<tr><td>H2O cluster total cores:</td>\n",
       "<td>4</td></tr>\n",
       "<tr><td>H2O cluster allowed cores:</td>\n",
       "<td>4</td></tr>\n",
       "<tr><td>H2O cluster status:</td>\n",
       "<td>accepting new members, healthy</td></tr>\n",
       "<tr><td>H2O connection url:</td>\n",
       "<td>http://localhost:54321</td></tr>\n",
       "<tr><td>H2O connection proxy:</td>\n",
       "<td>None</td></tr>\n",
       "<tr><td>H2O internal security:</td>\n",
       "<td>False</td></tr>\n",
       "<tr><td>H2O API Extensions:</td>\n",
       "<td>XGBoost, Algos, AutoML, Core V3, Core V4</td></tr>\n",
       "<tr><td>Python version:</td>\n",
       "<td>3.6.4 final</td></tr></table></div>"
      ],
      "text/plain": [
       "--------------------------  ----------------------------------------\n",
       "H2O cluster uptime:         06 secs\n",
       "H2O cluster timezone:       America/Los_Angeles\n",
       "H2O data parsing timezone:  UTC\n",
       "H2O cluster version:        3.18.0.11\n",
       "H2O cluster version age:    1 month and 6 days\n",
       "H2O cluster name:           garrettfiddler\n",
       "H2O cluster total nodes:    1\n",
       "H2O cluster free memory:    2 Gb\n",
       "H2O cluster total cores:    4\n",
       "H2O cluster allowed cores:  4\n",
       "H2O cluster status:         accepting new members, healthy\n",
       "H2O connection url:         http://localhost:54321\n",
       "H2O connection proxy:\n",
       "H2O internal security:      False\n",
       "H2O API Extensions:         XGBoost, Algos, AutoML, Core V3, Core V4\n",
       "Python version:             3.6.4 final\n",
       "--------------------------  ----------------------------------------"
      ]
     },
     "metadata": {},
     "output_type": "display_data"
    }
   ],
   "source": [
    "# Load the H2O library and start up the H2O cluster locally on your machine\n",
    "import h2o\n",
    "from h2o.estimators.glrm import H2OGeneralizedLowRankEstimator\n",
    "\n",
    "# Number of threads, nthreads = -1, means use all cores on your machine\n",
    "# max_mem_size is the maximum memory (in GB) to allocate to H2O\n",
    "h2o.init()"
   ]
  },
  {
   "cell_type": "markdown",
   "metadata": {},
   "source": [
    "## Load data"
   ]
  },
  {
   "cell_type": "code",
   "execution_count": 3,
   "metadata": {},
   "outputs": [],
   "source": [
    "khous_df = pd.read_csv('khous_train.csv')"
   ]
  },
  {
   "cell_type": "code",
   "execution_count": 38,
   "metadata": {
    "scrolled": true
   },
   "outputs": [
    {
     "data": {
      "text/plain": [
       "(1460, 81)"
      ]
     },
     "execution_count": 38,
     "metadata": {},
     "output_type": "execute_result"
    }
   ],
   "source": [
    "khous_df.shape"
   ]
  },
  {
   "cell_type": "code",
   "execution_count": 41,
   "metadata": {
    "scrolled": true
   },
   "outputs": [
    {
     "data": {
      "text/plain": [
       "object     43\n",
       "int64      35\n",
       "float64     3\n",
       "dtype: int64"
      ]
     },
     "execution_count": 41,
     "metadata": {},
     "output_type": "execute_result"
    }
   ],
   "source": [
    "khous_df.dtypes.value_counts()"
   ]
  },
  {
   "cell_type": "code",
   "execution_count": 4,
   "metadata": {
    "scrolled": true
   },
   "outputs": [
    {
     "data": {
      "text/html": [
       "<div>\n",
       "<style scoped>\n",
       "    .dataframe tbody tr th:only-of-type {\n",
       "        vertical-align: middle;\n",
       "    }\n",
       "\n",
       "    .dataframe tbody tr th {\n",
       "        vertical-align: top;\n",
       "    }\n",
       "\n",
       "    .dataframe thead th {\n",
       "        text-align: right;\n",
       "    }\n",
       "</style>\n",
       "<table border=\"1\" class=\"dataframe\">\n",
       "  <thead>\n",
       "    <tr style=\"text-align: right;\">\n",
       "      <th></th>\n",
       "      <th>Id</th>\n",
       "      <th>MSSubClass</th>\n",
       "      <th>MSZoning</th>\n",
       "      <th>LotFrontage</th>\n",
       "      <th>LotArea</th>\n",
       "      <th>Street</th>\n",
       "      <th>Alley</th>\n",
       "      <th>LotShape</th>\n",
       "      <th>LandContour</th>\n",
       "      <th>Utilities</th>\n",
       "      <th>...</th>\n",
       "      <th>PoolArea</th>\n",
       "      <th>PoolQC</th>\n",
       "      <th>Fence</th>\n",
       "      <th>MiscFeature</th>\n",
       "      <th>MiscVal</th>\n",
       "      <th>MoSold</th>\n",
       "      <th>YrSold</th>\n",
       "      <th>SaleType</th>\n",
       "      <th>SaleCondition</th>\n",
       "      <th>SalePrice</th>\n",
       "    </tr>\n",
       "  </thead>\n",
       "  <tbody>\n",
       "    <tr>\n",
       "      <th>0</th>\n",
       "      <td>1</td>\n",
       "      <td>60</td>\n",
       "      <td>RL</td>\n",
       "      <td>65.0</td>\n",
       "      <td>8450</td>\n",
       "      <td>Pave</td>\n",
       "      <td>NaN</td>\n",
       "      <td>Reg</td>\n",
       "      <td>Lvl</td>\n",
       "      <td>AllPub</td>\n",
       "      <td>...</td>\n",
       "      <td>0</td>\n",
       "      <td>NaN</td>\n",
       "      <td>NaN</td>\n",
       "      <td>NaN</td>\n",
       "      <td>0</td>\n",
       "      <td>2</td>\n",
       "      <td>2008</td>\n",
       "      <td>WD</td>\n",
       "      <td>Normal</td>\n",
       "      <td>208500</td>\n",
       "    </tr>\n",
       "    <tr>\n",
       "      <th>1</th>\n",
       "      <td>2</td>\n",
       "      <td>20</td>\n",
       "      <td>RL</td>\n",
       "      <td>80.0</td>\n",
       "      <td>9600</td>\n",
       "      <td>Pave</td>\n",
       "      <td>NaN</td>\n",
       "      <td>Reg</td>\n",
       "      <td>Lvl</td>\n",
       "      <td>AllPub</td>\n",
       "      <td>...</td>\n",
       "      <td>0</td>\n",
       "      <td>NaN</td>\n",
       "      <td>NaN</td>\n",
       "      <td>NaN</td>\n",
       "      <td>0</td>\n",
       "      <td>5</td>\n",
       "      <td>2007</td>\n",
       "      <td>WD</td>\n",
       "      <td>Normal</td>\n",
       "      <td>181500</td>\n",
       "    </tr>\n",
       "    <tr>\n",
       "      <th>2</th>\n",
       "      <td>3</td>\n",
       "      <td>60</td>\n",
       "      <td>RL</td>\n",
       "      <td>68.0</td>\n",
       "      <td>11250</td>\n",
       "      <td>Pave</td>\n",
       "      <td>NaN</td>\n",
       "      <td>IR1</td>\n",
       "      <td>Lvl</td>\n",
       "      <td>AllPub</td>\n",
       "      <td>...</td>\n",
       "      <td>0</td>\n",
       "      <td>NaN</td>\n",
       "      <td>NaN</td>\n",
       "      <td>NaN</td>\n",
       "      <td>0</td>\n",
       "      <td>9</td>\n",
       "      <td>2008</td>\n",
       "      <td>WD</td>\n",
       "      <td>Normal</td>\n",
       "      <td>223500</td>\n",
       "    </tr>\n",
       "    <tr>\n",
       "      <th>3</th>\n",
       "      <td>4</td>\n",
       "      <td>70</td>\n",
       "      <td>RL</td>\n",
       "      <td>60.0</td>\n",
       "      <td>9550</td>\n",
       "      <td>Pave</td>\n",
       "      <td>NaN</td>\n",
       "      <td>IR1</td>\n",
       "      <td>Lvl</td>\n",
       "      <td>AllPub</td>\n",
       "      <td>...</td>\n",
       "      <td>0</td>\n",
       "      <td>NaN</td>\n",
       "      <td>NaN</td>\n",
       "      <td>NaN</td>\n",
       "      <td>0</td>\n",
       "      <td>2</td>\n",
       "      <td>2006</td>\n",
       "      <td>WD</td>\n",
       "      <td>Abnorml</td>\n",
       "      <td>140000</td>\n",
       "    </tr>\n",
       "    <tr>\n",
       "      <th>4</th>\n",
       "      <td>5</td>\n",
       "      <td>60</td>\n",
       "      <td>RL</td>\n",
       "      <td>84.0</td>\n",
       "      <td>14260</td>\n",
       "      <td>Pave</td>\n",
       "      <td>NaN</td>\n",
       "      <td>IR1</td>\n",
       "      <td>Lvl</td>\n",
       "      <td>AllPub</td>\n",
       "      <td>...</td>\n",
       "      <td>0</td>\n",
       "      <td>NaN</td>\n",
       "      <td>NaN</td>\n",
       "      <td>NaN</td>\n",
       "      <td>0</td>\n",
       "      <td>12</td>\n",
       "      <td>2008</td>\n",
       "      <td>WD</td>\n",
       "      <td>Normal</td>\n",
       "      <td>250000</td>\n",
       "    </tr>\n",
       "  </tbody>\n",
       "</table>\n",
       "<p>5 rows × 81 columns</p>\n",
       "</div>"
      ],
      "text/plain": [
       "   Id  MSSubClass MSZoning  LotFrontage  LotArea Street Alley LotShape  \\\n",
       "0   1          60       RL         65.0     8450   Pave   NaN      Reg   \n",
       "1   2          20       RL         80.0     9600   Pave   NaN      Reg   \n",
       "2   3          60       RL         68.0    11250   Pave   NaN      IR1   \n",
       "3   4          70       RL         60.0     9550   Pave   NaN      IR1   \n",
       "4   5          60       RL         84.0    14260   Pave   NaN      IR1   \n",
       "\n",
       "  LandContour Utilities    ...     PoolArea PoolQC Fence MiscFeature MiscVal  \\\n",
       "0         Lvl    AllPub    ...            0    NaN   NaN         NaN       0   \n",
       "1         Lvl    AllPub    ...            0    NaN   NaN         NaN       0   \n",
       "2         Lvl    AllPub    ...            0    NaN   NaN         NaN       0   \n",
       "3         Lvl    AllPub    ...            0    NaN   NaN         NaN       0   \n",
       "4         Lvl    AllPub    ...            0    NaN   NaN         NaN       0   \n",
       "\n",
       "  MoSold YrSold  SaleType  SaleCondition  SalePrice  \n",
       "0      2   2008        WD         Normal     208500  \n",
       "1      5   2007        WD         Normal     181500  \n",
       "2      9   2008        WD         Normal     223500  \n",
       "3      2   2006        WD        Abnorml     140000  \n",
       "4     12   2008        WD         Normal     250000  \n",
       "\n",
       "[5 rows x 81 columns]"
      ]
     },
     "execution_count": 4,
     "metadata": {},
     "output_type": "execute_result"
    }
   ],
   "source": [
    "khous_df.head()"
   ]
  },
  {
   "cell_type": "code",
   "execution_count": 5,
   "metadata": {},
   "outputs": [],
   "source": [
    "khous_null_df = khous_df.mask(np.random.random(khous_df.shape) < .5)"
   ]
  },
  {
   "cell_type": "markdown",
   "metadata": {},
   "source": [
    "## Convert data to H2o"
   ]
  },
  {
   "cell_type": "code",
   "execution_count": 7,
   "metadata": {
    "scrolled": false
   },
   "outputs": [
    {
     "name": "stdout",
     "output_type": "stream",
     "text": [
      "Parse progress: |█████████████████████████████████████████████████████████| 100%\n"
     ]
    }
   ],
   "source": [
    "khous_h2 = h2o.H2OFrame(khous_df)"
   ]
  },
  {
   "cell_type": "code",
   "execution_count": 8,
   "metadata": {
    "scrolled": true
   },
   "outputs": [
    {
     "name": "stdout",
     "output_type": "stream",
     "text": [
      "Parse progress: |█████████████████████████████████████████████████████████| 100%\n"
     ]
    }
   ],
   "source": [
    "khous_null_h2 = h2o.H2OFrame(khous_null_df)"
   ]
  },
  {
   "cell_type": "markdown",
   "metadata": {},
   "source": [
    "## Build Models"
   ]
  },
  {
   "cell_type": "code",
   "execution_count": 9,
   "metadata": {},
   "outputs": [],
   "source": [
    "loss_by_type = {np.dtype('object'):\"Categorical\", \n",
    "                np.dtype('int64'):\"Quadratic\", \n",
    "                np.dtype('float64'):\"Quadratic\", \n",
    "                np.dtype('bool'):\"Hinge\"}\n",
    "col_loss_types = [loss_by_type[obj_type] for obj_type in khous_df.dtypes]"
   ]
  },
  {
   "cell_type": "code",
   "execution_count": 10,
   "metadata": {
    "scrolled": true
   },
   "outputs": [],
   "source": [
    "glrmodel_2 = H2OGeneralizedLowRankEstimator(k=10, \n",
    "                                       max_iterations=100, \n",
    "                                       loss_by_col=col_loss_types, \n",
    "                                       impute_original=True)"
   ]
  },
  {
   "cell_type": "code",
   "execution_count": 12,
   "metadata": {
    "scrolled": false
   },
   "outputs": [
    {
     "name": "stdout",
     "output_type": "stream",
     "text": [
      "glrm Model Build progress: |██████████████████████████████████████████████| 100%\n"
     ]
    }
   ],
   "source": [
    "glrmodel_2.train(y='SalePrice', training_frame=khous_h2)"
   ]
  },
  {
   "cell_type": "code",
   "execution_count": 15,
   "metadata": {},
   "outputs": [],
   "source": [
    "glrmodel_3 = H2OGeneralizedLowRankEstimator(k=10, \n",
    "                                       max_iterations=100, \n",
    "                                       loss_by_col=col_loss_types, \n",
    "                                       impute_original=True)"
   ]
  },
  {
   "cell_type": "code",
   "execution_count": 16,
   "metadata": {},
   "outputs": [
    {
     "ename": "H2OResponseError",
     "evalue": "ModelBuilderErrorV3  (water.exceptions.H2OModelBuilderIllegalArgumentException):\n    timestamp = 1530381473366\n    error_url = '/3/ModelBuilders/glrm'\n    msg = 'Illegal argument(s) for GLRM model: GLRM_model_python_1530380632407_3.  Details: ERRR on field: _loss_by_col: Loss function Quadratic cannot be applied to categorical column 0\\nERRR on field: _loss_by_col: Loss function Quadratic cannot be applied to categorical column 1\\nERRR on field: _loss_by_col: Loss function Quadratic cannot be applied to categorical column 3\\nERRR on field: _loss_by_col: Loss function Quadratic cannot be applied to categorical column 19\\nERRR on field: _loss_by_col: Loss function Quadratic cannot be applied to categorical column 26\\nERRR on field: _loss_by_col: Loss function Quadratic cannot be applied to categorical column 38\\nERRR on field: _loss_by_col: Loss function Quadratic cannot be applied to categorical column 43\\nERRR on field: _loss_by_col: Loss function Quadratic cannot be applied to categorical column 45\\nERRR on field: _loss_by_col: Loss function Quadratic cannot be applied to categorical column 47\\nERRR on field: _loss_by_col: Loss function Quadratic cannot be applied to categorical column 49\\nERRR on field: _loss_by_col: Loss function Quadratic cannot be applied to categorical column 50\\nERRR on field: _loss_by_col: Loss function Quadratic cannot be applied to categorical column 54\\nERRR on field: _loss_by_col: Loss function Quadratic cannot be applied to categorical column 59\\nERRR on field: _loss_by_col: Loss function Quadratic cannot be applied to categorical column 62\\nERRR on field: _loss_by_col: Loss function Quadratic cannot be applied to categorical column 67\\nERRR on field: _loss_by_col: Loss function Quadratic cannot be applied to categorical column 68\\nERRR on field: _loss_by_col: Loss function Quadratic cannot be applied to categorical column 75'\n    dev_msg = 'Illegal argument(s) for GLRM model: GLRM_model_python_1530380632407_3.  Details: ERRR on field: _loss_by_col: Loss function Quadratic cannot be applied to categorical column 0\\nERRR on field: _loss_by_col: Loss function Quadratic cannot be applied to categorical column 1\\nERRR on field: _loss_by_col: Loss function Quadratic cannot be applied to categorical column 3\\nERRR on field: _loss_by_col: Loss function Quadratic cannot be applied to categorical column 19\\nERRR on field: _loss_by_col: Loss function Quadratic cannot be applied to categorical column 26\\nERRR on field: _loss_by_col: Loss function Quadratic cannot be applied to categorical column 38\\nERRR on field: _loss_by_col: Loss function Quadratic cannot be applied to categorical column 43\\nERRR on field: _loss_by_col: Loss function Quadratic cannot be applied to categorical column 45\\nERRR on field: _loss_by_col: Loss function Quadratic cannot be applied to categorical column 47\\nERRR on field: _loss_by_col: Loss function Quadratic cannot be applied to categorical column 49\\nERRR on field: _loss_by_col: Loss function Quadratic cannot be applied to categorical column 50\\nERRR on field: _loss_by_col: Loss function Quadratic cannot be applied to categorical column 54\\nERRR on field: _loss_by_col: Loss function Quadratic cannot be applied to categorical column 59\\nERRR on field: _loss_by_col: Loss function Quadratic cannot be applied to categorical column 62\\nERRR on field: _loss_by_col: Loss function Quadratic cannot be applied to categorical column 67\\nERRR on field: _loss_by_col: Loss function Quadratic cannot be applied to categorical column 68\\nERRR on field: _loss_by_col: Loss function Quadratic cannot be applied to categorical column 75'\n    http_status = 412\n    values = {'messages': [{'_log_level': 5, '_field_name': '_keep_cross_validation_predictions', '_message': 'Only for cross-validation.'}, {'_log_level': 5, '_field_name': '_keep_cross_validation_fold_assignment', '_message': 'Only for cross-validation.'}, {'_log_level': 5, '_field_name': '_fold_assignment', '_message': 'Only for cross-validation.'}, {'_log_level': 5, '_field_name': '_tweedie_power', '_message': 'Only for Tweedie Distribution.'}, {'_log_level': 5, '_field_name': '_response_column', '_message': 'Ignored for unsupervised methods.'}, {'_log_level': 5, '_field_name': '_balance_classes', '_message': 'Ignored for unsupervised methods.'}, {'_log_level': 5, '_field_name': '_class_sampling_factors', '_message': 'Ignored for unsupervised methods.'}, {'_log_level': 5, '_field_name': '_max_after_balance_size', '_message': 'Ignored for unsupervised methods.'}, {'_log_level': 5, '_field_name': '_max_confusion_matrix_size', '_message': 'Ignored for unsupervised methods.'}, {'_log_level': 1, '_field_name': '_loss_by_col', '_message': 'Loss function Quadratic cannot be applied to categorical column 0'}, {'_log_level': 1, '_field_name': '_loss_by_col', '_message': 'Loss function Quadratic cannot be applied to categorical column 1'}, {'_log_level': 1, '_field_name': '_loss_by_col', '_message': 'Loss function Quadratic cannot be applied to categorical column 3'}, {'_log_level': 1, '_field_name': '_loss_by_col', '_message': 'Loss function Quadratic cannot be applied to categorical column 19'}, {'_log_level': 1, '_field_name': '_loss_by_col', '_message': 'Loss function Quadratic cannot be applied to categorical column 26'}, {'_log_level': 1, '_field_name': '_loss_by_col', '_message': 'Loss function Quadratic cannot be applied to categorical column 38'}, {'_log_level': 1, '_field_name': '_loss_by_col', '_message': 'Loss function Quadratic cannot be applied to categorical column 43'}, {'_log_level': 1, '_field_name': '_loss_by_col', '_message': 'Loss function Quadratic cannot be applied to categorical column 45'}, {'_log_level': 1, '_field_name': '_loss_by_col', '_message': 'Loss function Quadratic cannot be applied to categorical column 47'}, {'_log_level': 1, '_field_name': '_loss_by_col', '_message': 'Loss function Quadratic cannot be applied to categorical column 49'}, {'_log_level': 1, '_field_name': '_loss_by_col', '_message': 'Loss function Quadratic cannot be applied to categorical column 50'}, {'_log_level': 1, '_field_name': '_loss_by_col', '_message': 'Loss function Quadratic cannot be applied to categorical column 54'}, {'_log_level': 1, '_field_name': '_loss_by_col', '_message': 'Loss function Quadratic cannot be applied to categorical column 59'}, {'_log_level': 1, '_field_name': '_loss_by_col', '_message': 'Loss function Quadratic cannot be applied to categorical column 62'}, {'_log_level': 1, '_field_name': '_loss_by_col', '_message': 'Loss function Quadratic cannot be applied to categorical column 67'}, {'_log_level': 1, '_field_name': '_loss_by_col', '_message': 'Loss function Quadratic cannot be applied to categorical column 68'}, {'_log_level': 1, '_field_name': '_loss_by_col', '_message': 'Loss function Quadratic cannot be applied to categorical column 75'}], 'algo': 'GLRM', 'parameters': {'_train': {'name': 'Key_Frame__upload_9e4bb32fff9198b7c68f8120650c4933.hex', 'type': 'Key'}, '_valid': None, '_nfolds': 0, '_keep_cross_validation_predictions': False, '_keep_cross_validation_fold_assignment': False, '_parallelize_cross_validation': True, '_auto_rebalance': True, '_seed': -1, '_fold_assignment': 'AUTO', '_categorical_encoding': 'AUTO', '_max_categorical_levels': 10, '_distribution': 'AUTO', '_tweedie_power': 1.5, '_quantile_alpha': 0.5, '_huber_alpha': 0.9, '_ignored_columns': None, '_ignore_const_cols': True, '_weights_column': None, '_offset_column': None, '_fold_column': None, '_is_cv_model': False, '_score_each_iteration': False, '_max_runtime_secs': 0.0, '_stopping_rounds': 0, '_stopping_metric': 'AUTO', '_stopping_tolerance': 0.001, '_response_column': None, '_balance_classes': False, '_max_after_balance_size': 5.0, '_class_sampling_factors': None, '_max_confusion_matrix_size': 20, '_checkpoint': None, '_pretrained_autoencoder': None, '_custom_metric_func': None, '_transform': 'NONE', '_k': 10, '_init': 'PlusPlus', '_svd_method': 'Randomized', '_user_y': None, '_user_x': None, '_expand_user_y': True, '_loss': 'Quadratic', '_multi_loss': 'Categorical', '_period': 1, '_loss_by_col': ['Quadratic', 'Quadratic', 'Categorical', 'Quadratic', 'Quadratic', 'Categorical', 'Categorical', 'Categorical', 'Categorical', 'Categorical', 'Categorical', 'Categorical', 'Categorical', 'Categorical', 'Categorical', 'Categorical', 'Categorical', 'Quadratic', 'Quadratic', 'Quadratic', 'Quadratic', 'Categorical', 'Categorical', 'Categorical', 'Categorical', 'Categorical', 'Quadratic', 'Categorical', 'Categorical', 'Categorical', 'Categorical', 'Categorical', 'Categorical', 'Categorical', 'Quadratic', 'Categorical', 'Quadratic', 'Quadratic', 'Quadratic', 'Categorical', 'Categorical', 'Categorical', 'Categorical', 'Quadratic', 'Quadratic', 'Quadratic', 'Quadratic', 'Quadratic', 'Quadratic', 'Quadratic', 'Quadratic', 'Quadratic', 'Quadratic', 'Categorical', 'Quadratic', 'Categorical', 'Quadratic', 'Categorical', 'Categorical', 'Quadratic', 'Categorical', 'Quadratic', 'Quadratic', 'Categorical', 'Categorical', 'Categorical', 'Quadratic', 'Quadratic', 'Quadratic', 'Quadratic', 'Quadratic', 'Quadratic', 'Categorical', 'Categorical', 'Categorical', 'Quadratic', 'Quadratic', 'Quadratic', 'Categorical', 'Categorical', 'Quadratic'], '_loss_by_col_idx': None, '_regularization_x': 'None', '_regularization_y': 'None', '_gamma_x': 0.0, '_gamma_y': 0.0, '_max_iterations': 100, '_max_updates': 2000, '_init_step_size': 1.0, '_min_step_size': 0.0001, '_representation_name': None, '_recover_svd': False, '_impute_original': True, '_verbose': True}, 'error_count': 34}\n    exception_msg = 'Illegal argument(s) for GLRM model: GLRM_model_python_1530380632407_3.  Details: ERRR on field: _loss_by_col: Loss function Quadratic cannot be applied to categorical column 0\\nERRR on field: _loss_by_col: Loss function Quadratic cannot be applied to categorical column 1\\nERRR on field: _loss_by_col: Loss function Quadratic cannot be applied to categorical column 3\\nERRR on field: _loss_by_col: Loss function Quadratic cannot be applied to categorical column 19\\nERRR on field: _loss_by_col: Loss function Quadratic cannot be applied to categorical column 26\\nERRR on field: _loss_by_col: Loss function Quadratic cannot be applied to categorical column 38\\nERRR on field: _loss_by_col: Loss function Quadratic cannot be applied to categorical column 43\\nERRR on field: _loss_by_col: Loss function Quadratic cannot be applied to categorical column 45\\nERRR on field: _loss_by_col: Loss function Quadratic cannot be applied to categorical column 47\\nERRR on field: _loss_by_col: Loss function Quadratic cannot be applied to categorical column 49\\nERRR on field: _loss_by_col: Loss function Quadratic cannot be applied to categorical column 50\\nERRR on field: _loss_by_col: Loss function Quadratic cannot be applied to categorical column 54\\nERRR on field: _loss_by_col: Loss function Quadratic cannot be applied to categorical column 59\\nERRR on field: _loss_by_col: Loss function Quadratic cannot be applied to categorical column 62\\nERRR on field: _loss_by_col: Loss function Quadratic cannot be applied to categorical column 67\\nERRR on field: _loss_by_col: Loss function Quadratic cannot be applied to categorical column 68\\nERRR on field: _loss_by_col: Loss function Quadratic cannot be applied to categorical column 75'\n    stacktrace =\n        water.exceptions.H2OModelBuilderIllegalArgumentException: Illegal argument(s) for GLRM model: GLRM_model_python_1530380632407_3.  Details: ERRR on field: _loss_by_col: Loss function Quadratic cannot be applied to categorical column 0\nERRR on field: _loss_by_col: Loss function Quadratic cannot be applied to categorical column 1\nERRR on field: _loss_by_col: Loss function Quadratic cannot be applied to categorical column 3\nERRR on field: _loss_by_col: Loss function Quadratic cannot be applied to categorical column 19\nERRR on field: _loss_by_col: Loss function Quadratic cannot be applied to categorical column 26\nERRR on field: _loss_by_col: Loss function Quadratic cannot be applied to categorical column 38\nERRR on field: _loss_by_col: Loss function Quadratic cannot be applied to categorical column 43\nERRR on field: _loss_by_col: Loss function Quadratic cannot be applied to categorical column 45\nERRR on field: _loss_by_col: Loss function Quadratic cannot be applied to categorical column 47\nERRR on field: _loss_by_col: Loss function Quadratic cannot be applied to categorical column 49\nERRR on field: _loss_by_col: Loss function Quadratic cannot be applied to categorical column 50\nERRR on field: _loss_by_col: Loss function Quadratic cannot be applied to categorical column 54\nERRR on field: _loss_by_col: Loss function Quadratic cannot be applied to categorical column 59\nERRR on field: _loss_by_col: Loss function Quadratic cannot be applied to categorical column 62\nERRR on field: _loss_by_col: Loss function Quadratic cannot be applied to categorical column 67\nERRR on field: _loss_by_col: Loss function Quadratic cannot be applied to categorical column 68\nERRR on field: _loss_by_col: Loss function Quadratic cannot be applied to categorical column 75\n        water.exceptions.H2OModelBuilderIllegalArgumentException.makeFromBuilder(H2OModelBuilderIllegalArgumentException.java:20)\n        hex.ModelBuilder.trainModel(ModelBuilder.java:239)\n        water.api.ModelBuilderHandler.handle(ModelBuilderHandler.java:64)\n        water.api.ModelBuilderHandler.handle(ModelBuilderHandler.java:17)\n        water.api.RequestServer.serve(RequestServer.java:451)\n        water.api.RequestServer.doGeneric(RequestServer.java:296)\n        water.api.RequestServer.doPost(RequestServer.java:222)\n        javax.servlet.http.HttpServlet.service(HttpServlet.java:755)\n        javax.servlet.http.HttpServlet.service(HttpServlet.java:848)\n        org.eclipse.jetty.servlet.ServletHolder.handle(ServletHolder.java:684)\n        org.eclipse.jetty.servlet.ServletHandler.doHandle(ServletHandler.java:503)\n        org.eclipse.jetty.server.handler.ContextHandler.doHandle(ContextHandler.java:1086)\n        org.eclipse.jetty.servlet.ServletHandler.doScope(ServletHandler.java:429)\n        org.eclipse.jetty.server.handler.ContextHandler.doScope(ContextHandler.java:1020)\n        org.eclipse.jetty.server.handler.ScopedHandler.handle(ScopedHandler.java:135)\n        org.eclipse.jetty.server.handler.HandlerCollection.handle(HandlerCollection.java:154)\n        org.eclipse.jetty.server.handler.HandlerWrapper.handle(HandlerWrapper.java:116)\n        water.JettyHTTPD$LoginHandler.handle(JettyHTTPD.java:197)\n        org.eclipse.jetty.server.handler.HandlerCollection.handle(HandlerCollection.java:154)\n        org.eclipse.jetty.server.handler.HandlerWrapper.handle(HandlerWrapper.java:116)\n        org.eclipse.jetty.server.Server.handle(Server.java:370)\n        org.eclipse.jetty.server.AbstractHttpConnection.handleRequest(AbstractHttpConnection.java:494)\n        org.eclipse.jetty.server.BlockingHttpConnection.handleRequest(BlockingHttpConnection.java:53)\n        org.eclipse.jetty.server.AbstractHttpConnection.content(AbstractHttpConnection.java:982)\n        org.eclipse.jetty.server.AbstractHttpConnection$RequestHandler.content(AbstractHttpConnection.java:1043)\n        org.eclipse.jetty.http.HttpParser.parseNext(HttpParser.java:865)\n        org.eclipse.jetty.http.HttpParser.parseAvailable(HttpParser.java:240)\n        org.eclipse.jetty.server.BlockingHttpConnection.handle(BlockingHttpConnection.java:72)\n        org.eclipse.jetty.server.bio.SocketConnector$ConnectorEndPoint.run(SocketConnector.java:264)\n        org.eclipse.jetty.util.thread.QueuedThreadPool.runJob(QueuedThreadPool.java:608)\n        org.eclipse.jetty.util.thread.QueuedThreadPool$3.run(QueuedThreadPool.java:543)\n        java.base/java.lang.Thread.run(Thread.java:844)\n    parameters = {'__meta': {'schema_version': 3, 'schema_name': 'GLRMParametersV3', 'schema_type': 'GLRMParameters'}, 'model_id': None, 'training_frame': {'__meta': {'schema_version': 3, 'schema_name': 'FrameKeyV3', 'schema_type': 'Key<Frame>'}, 'name': 'Key_Frame__upload_9e4bb32fff9198b7c68f8120650c4933.hex', 'type': 'Key<Frame>', 'URL': '/3/Frames/Key_Frame__upload_9e4bb32fff9198b7c68f8120650c4933.hex'}, 'validation_frame': None, 'nfolds': 0, 'keep_cross_validation_predictions': False, 'keep_cross_validation_fold_assignment': False, 'parallelize_cross_validation': True, 'distribution': 'AUTO', 'tweedie_power': 1.5, 'quantile_alpha': 0.5, 'huber_alpha': 0.9, 'response_column': None, 'weights_column': None, 'offset_column': None, 'fold_column': None, 'fold_assignment': 'AUTO', 'categorical_encoding': 'AUTO', 'max_categorical_levels': 10, 'ignored_columns': None, 'ignore_const_cols': True, 'score_each_iteration': False, 'checkpoint': None, 'stopping_rounds': 0, 'max_runtime_secs': 0.0, 'stopping_metric': 'AUTO', 'stopping_tolerance': 0.001, 'custom_metric_func': None, 'transform': 'NONE', 'k': 10, 'loss': 'Quadratic', 'multi_loss': 'Categorical', 'loss_by_col': ['Quadratic', 'Quadratic', 'Categorical', 'Quadratic', 'Quadratic', 'Categorical', 'Categorical', 'Categorical', 'Categorical', 'Categorical', 'Categorical', 'Categorical', 'Categorical', 'Categorical', 'Categorical', 'Categorical', 'Categorical', 'Quadratic', 'Quadratic', 'Quadratic', 'Quadratic', 'Categorical', 'Categorical', 'Categorical', 'Categorical', 'Categorical', 'Quadratic', 'Categorical', 'Categorical', 'Categorical', 'Categorical', 'Categorical', 'Categorical', 'Categorical', 'Quadratic', 'Categorical', 'Quadratic', 'Quadratic', 'Quadratic', 'Categorical', 'Categorical', 'Categorical', 'Categorical', 'Quadratic', 'Quadratic', 'Quadratic', 'Quadratic', 'Quadratic', 'Quadratic', 'Quadratic', 'Quadratic', 'Quadratic', 'Quadratic', 'Categorical', 'Quadratic', 'Categorical', 'Quadratic', 'Categorical', 'Categorical', 'Quadratic', 'Categorical', 'Quadratic', 'Quadratic', 'Categorical', 'Categorical', 'Categorical', 'Quadratic', 'Quadratic', 'Quadratic', 'Quadratic', 'Quadratic', 'Quadratic', 'Categorical', 'Categorical', 'Categorical', 'Quadratic', 'Quadratic', 'Quadratic', 'Categorical', 'Categorical', 'Quadratic'], 'loss_by_col_idx': None, 'period': 1, 'regularization_x': 'None', 'regularization_y': 'None', 'gamma_x': 0.0, 'gamma_y': 0.0, 'max_iterations': 100, 'max_updates': 2000, 'init_step_size': 1.0, 'min_step_size': 0.0001, 'seed': -1, 'init': 'PlusPlus', 'svd_method': 'Randomized', 'user_y': None, 'user_x': None, 'loading_name': None, 'expand_user_y': True, 'impute_original': True, 'recover_svd': False}\n    messages = [{'__meta': {'schema_version': 3, 'schema_name': 'ValidationMessageV3', 'schema_type': 'ValidationMessage'}, 'message_type': 'TRACE', 'field_name': 'keep_cross_validation_predictions', 'message': 'Only for cross-validation.'}, {'__meta': {'schema_version': 3, 'schema_name': 'ValidationMessageV3', 'schema_type': 'ValidationMessage'}, 'message_type': 'TRACE', 'field_name': 'keep_cross_validation_fold_assignment', 'message': 'Only for cross-validation.'}, {'__meta': {'schema_version': 3, 'schema_name': 'ValidationMessageV3', 'schema_type': 'ValidationMessage'}, 'message_type': 'TRACE', 'field_name': 'fold_assignment', 'message': 'Only for cross-validation.'}, {'__meta': {'schema_version': 3, 'schema_name': 'ValidationMessageV3', 'schema_type': 'ValidationMessage'}, 'message_type': 'TRACE', 'field_name': 'tweedie_power', 'message': 'Only for Tweedie Distribution.'}, {'__meta': {'schema_version': 3, 'schema_name': 'ValidationMessageV3', 'schema_type': 'ValidationMessage'}, 'message_type': 'TRACE', 'field_name': 'response_column', 'message': 'Ignored for unsupervised methods.'}, {'__meta': {'schema_version': 3, 'schema_name': 'ValidationMessageV3', 'schema_type': 'ValidationMessage'}, 'message_type': 'TRACE', 'field_name': 'balance_classes', 'message': 'Ignored for unsupervised methods.'}, {'__meta': {'schema_version': 3, 'schema_name': 'ValidationMessageV3', 'schema_type': 'ValidationMessage'}, 'message_type': 'TRACE', 'field_name': 'class_sampling_factors', 'message': 'Ignored for unsupervised methods.'}, {'__meta': {'schema_version': 3, 'schema_name': 'ValidationMessageV3', 'schema_type': 'ValidationMessage'}, 'message_type': 'TRACE', 'field_name': 'max_after_balance_size', 'message': 'Ignored for unsupervised methods.'}, {'__meta': {'schema_version': 3, 'schema_name': 'ValidationMessageV3', 'schema_type': 'ValidationMessage'}, 'message_type': 'TRACE', 'field_name': 'max_confusion_matrix_size', 'message': 'Ignored for unsupervised methods.'}, {'__meta': {'schema_version': 3, 'schema_name': 'ValidationMessageV3', 'schema_type': 'ValidationMessage'}, 'message_type': 'ERRR', 'field_name': 'loss_by_col', 'message': 'Loss function Quadratic cannot be applied to categorical column 0'}, {'__meta': {'schema_version': 3, 'schema_name': 'ValidationMessageV3', 'schema_type': 'ValidationMessage'}, 'message_type': 'ERRR', 'field_name': 'loss_by_col', 'message': 'Loss function Quadratic cannot be applied to categorical column 1'}, {'__meta': {'schema_version': 3, 'schema_name': 'ValidationMessageV3', 'schema_type': 'ValidationMessage'}, 'message_type': 'ERRR', 'field_name': 'loss_by_col', 'message': 'Loss function Quadratic cannot be applied to categorical column 3'}, {'__meta': {'schema_version': 3, 'schema_name': 'ValidationMessageV3', 'schema_type': 'ValidationMessage'}, 'message_type': 'ERRR', 'field_name': 'loss_by_col', 'message': 'Loss function Quadratic cannot be applied to categorical column 19'}, {'__meta': {'schema_version': 3, 'schema_name': 'ValidationMessageV3', 'schema_type': 'ValidationMessage'}, 'message_type': 'ERRR', 'field_name': 'loss_by_col', 'message': 'Loss function Quadratic cannot be applied to categorical column 26'}, {'__meta': {'schema_version': 3, 'schema_name': 'ValidationMessageV3', 'schema_type': 'ValidationMessage'}, 'message_type': 'ERRR', 'field_name': 'loss_by_col', 'message': 'Loss function Quadratic cannot be applied to categorical column 38'}, {'__meta': {'schema_version': 3, 'schema_name': 'ValidationMessageV3', 'schema_type': 'ValidationMessage'}, 'message_type': 'ERRR', 'field_name': 'loss_by_col', 'message': 'Loss function Quadratic cannot be applied to categorical column 43'}, {'__meta': {'schema_version': 3, 'schema_name': 'ValidationMessageV3', 'schema_type': 'ValidationMessage'}, 'message_type': 'ERRR', 'field_name': 'loss_by_col', 'message': 'Loss function Quadratic cannot be applied to categorical column 45'}, {'__meta': {'schema_version': 3, 'schema_name': 'ValidationMessageV3', 'schema_type': 'ValidationMessage'}, 'message_type': 'ERRR', 'field_name': 'loss_by_col', 'message': 'Loss function Quadratic cannot be applied to categorical column 47'}, {'__meta': {'schema_version': 3, 'schema_name': 'ValidationMessageV3', 'schema_type': 'ValidationMessage'}, 'message_type': 'ERRR', 'field_name': 'loss_by_col', 'message': 'Loss function Quadratic cannot be applied to categorical column 49'}, {'__meta': {'schema_version': 3, 'schema_name': 'ValidationMessageV3', 'schema_type': 'ValidationMessage'}, 'message_type': 'ERRR', 'field_name': 'loss_by_col', 'message': 'Loss function Quadratic cannot be applied to categorical column 50'}, {'__meta': {'schema_version': 3, 'schema_name': 'ValidationMessageV3', 'schema_type': 'ValidationMessage'}, 'message_type': 'ERRR', 'field_name': 'loss_by_col', 'message': 'Loss function Quadratic cannot be applied to categorical column 54'}, {'__meta': {'schema_version': 3, 'schema_name': 'ValidationMessageV3', 'schema_type': 'ValidationMessage'}, 'message_type': 'ERRR', 'field_name': 'loss_by_col', 'message': 'Loss function Quadratic cannot be applied to categorical column 59'}, {'__meta': {'schema_version': 3, 'schema_name': 'ValidationMessageV3', 'schema_type': 'ValidationMessage'}, 'message_type': 'ERRR', 'field_name': 'loss_by_col', 'message': 'Loss function Quadratic cannot be applied to categorical column 62'}, {'__meta': {'schema_version': 3, 'schema_name': 'ValidationMessageV3', 'schema_type': 'ValidationMessage'}, 'message_type': 'ERRR', 'field_name': 'loss_by_col', 'message': 'Loss function Quadratic cannot be applied to categorical column 67'}, {'__meta': {'schema_version': 3, 'schema_name': 'ValidationMessageV3', 'schema_type': 'ValidationMessage'}, 'message_type': 'ERRR', 'field_name': 'loss_by_col', 'message': 'Loss function Quadratic cannot be applied to categorical column 68'}, {'__meta': {'schema_version': 3, 'schema_name': 'ValidationMessageV3', 'schema_type': 'ValidationMessage'}, 'message_type': 'ERRR', 'field_name': 'loss_by_col', 'message': 'Loss function Quadratic cannot be applied to categorical column 75'}]\n    error_count = 34\n",
     "output_type": "error",
     "traceback": [
      "\u001b[0;31m---------------------------------------------------------------------------\u001b[0m",
      "\u001b[0;31mH2OResponseError\u001b[0m                          Traceback (most recent call last)",
      "\u001b[0;32m<ipython-input-16-cf0e04a1576f>\u001b[0m in \u001b[0;36m<module>\u001b[0;34m()\u001b[0m\n\u001b[0;32m----> 1\u001b[0;31m \u001b[0mglrmodel_2\u001b[0m\u001b[0;34m.\u001b[0m\u001b[0mtrain\u001b[0m\u001b[0;34m(\u001b[0m\u001b[0my\u001b[0m\u001b[0;34m=\u001b[0m\u001b[0;34m'SalePrice'\u001b[0m\u001b[0;34m,\u001b[0m \u001b[0mtraining_frame\u001b[0m\u001b[0;34m=\u001b[0m\u001b[0mkhous_null_h2\u001b[0m\u001b[0;34m)\u001b[0m\u001b[0;34m\u001b[0m\u001b[0m\n\u001b[0m",
      "\u001b[0;32m/usr/local/lib/python3.6/site-packages/h2o/estimators/estimator_base.py\u001b[0m in \u001b[0;36mtrain\u001b[0;34m(self, x, y, training_frame, offset_column, fold_column, weights_column, validation_frame, max_runtime_secs, ignored_columns, model_id, verbose)\u001b[0m\n\u001b[1;32m    222\u001b[0m         \u001b[0mrest_ver\u001b[0m \u001b[0;34m=\u001b[0m \u001b[0mparms\u001b[0m\u001b[0;34m.\u001b[0m\u001b[0mpop\u001b[0m\u001b[0;34m(\u001b[0m\u001b[0;34m\"_rest_version\"\u001b[0m\u001b[0;34m)\u001b[0m \u001b[0;32mif\u001b[0m \u001b[0;34m\"_rest_version\"\u001b[0m \u001b[0;32min\u001b[0m \u001b[0mparms\u001b[0m \u001b[0;32melse\u001b[0m \u001b[0;36m3\u001b[0m\u001b[0;34m\u001b[0m\u001b[0m\n\u001b[1;32m    223\u001b[0m \u001b[0;34m\u001b[0m\u001b[0m\n\u001b[0;32m--> 224\u001b[0;31m         \u001b[0mmodel_builder_json\u001b[0m \u001b[0;34m=\u001b[0m \u001b[0mh2o\u001b[0m\u001b[0;34m.\u001b[0m\u001b[0mapi\u001b[0m\u001b[0;34m(\u001b[0m\u001b[0;34m\"POST /%d/ModelBuilders/%s\"\u001b[0m \u001b[0;34m%\u001b[0m \u001b[0;34m(\u001b[0m\u001b[0mrest_ver\u001b[0m\u001b[0;34m,\u001b[0m \u001b[0mself\u001b[0m\u001b[0;34m.\u001b[0m\u001b[0malgo\u001b[0m\u001b[0;34m)\u001b[0m\u001b[0;34m,\u001b[0m \u001b[0mdata\u001b[0m\u001b[0;34m=\u001b[0m\u001b[0mparms\u001b[0m\u001b[0;34m)\u001b[0m\u001b[0;34m\u001b[0m\u001b[0m\n\u001b[0m\u001b[1;32m    225\u001b[0m         \u001b[0mmodel\u001b[0m \u001b[0;34m=\u001b[0m \u001b[0mH2OJob\u001b[0m\u001b[0;34m(\u001b[0m\u001b[0mmodel_builder_json\u001b[0m\u001b[0;34m,\u001b[0m \u001b[0mjob_type\u001b[0m\u001b[0;34m=\u001b[0m\u001b[0;34m(\u001b[0m\u001b[0mself\u001b[0m\u001b[0;34m.\u001b[0m\u001b[0malgo\u001b[0m \u001b[0;34m+\u001b[0m \u001b[0;34m\" Model Build\"\u001b[0m\u001b[0;34m)\u001b[0m\u001b[0;34m)\u001b[0m\u001b[0;34m\u001b[0m\u001b[0m\n\u001b[1;32m    226\u001b[0m \u001b[0;34m\u001b[0m\u001b[0m\n",
      "\u001b[0;32m/usr/local/lib/python3.6/site-packages/h2o/h2o.py\u001b[0m in \u001b[0;36mapi\u001b[0;34m(endpoint, data, json, filename, save_to)\u001b[0m\n\u001b[1;32m    101\u001b[0m     \u001b[0;31m# type checks are performed in H2OConnection class\u001b[0m\u001b[0;34m\u001b[0m\u001b[0;34m\u001b[0m\u001b[0m\n\u001b[1;32m    102\u001b[0m     \u001b[0m_check_connection\u001b[0m\u001b[0;34m(\u001b[0m\u001b[0;34m)\u001b[0m\u001b[0;34m\u001b[0m\u001b[0m\n\u001b[0;32m--> 103\u001b[0;31m     \u001b[0;32mreturn\u001b[0m \u001b[0mh2oconn\u001b[0m\u001b[0;34m.\u001b[0m\u001b[0mrequest\u001b[0m\u001b[0;34m(\u001b[0m\u001b[0mendpoint\u001b[0m\u001b[0;34m,\u001b[0m \u001b[0mdata\u001b[0m\u001b[0;34m=\u001b[0m\u001b[0mdata\u001b[0m\u001b[0;34m,\u001b[0m \u001b[0mjson\u001b[0m\u001b[0;34m=\u001b[0m\u001b[0mjson\u001b[0m\u001b[0;34m,\u001b[0m \u001b[0mfilename\u001b[0m\u001b[0;34m=\u001b[0m\u001b[0mfilename\u001b[0m\u001b[0;34m,\u001b[0m \u001b[0msave_to\u001b[0m\u001b[0;34m=\u001b[0m\u001b[0msave_to\u001b[0m\u001b[0;34m)\u001b[0m\u001b[0;34m\u001b[0m\u001b[0m\n\u001b[0m\u001b[1;32m    104\u001b[0m \u001b[0;34m\u001b[0m\u001b[0m\n\u001b[1;32m    105\u001b[0m \u001b[0;34m\u001b[0m\u001b[0m\n",
      "\u001b[0;32m/usr/local/lib/python3.6/site-packages/h2o/backend/connection.py\u001b[0m in \u001b[0;36mrequest\u001b[0;34m(self, endpoint, data, json, filename, save_to)\u001b[0m\n\u001b[1;32m    400\u001b[0m                                     auth=self._auth, verify=self._verify_ssl_cert, proxies=self._proxies)\n\u001b[1;32m    401\u001b[0m             \u001b[0mself\u001b[0m\u001b[0;34m.\u001b[0m\u001b[0m_log_end_transaction\u001b[0m\u001b[0;34m(\u001b[0m\u001b[0mstart_time\u001b[0m\u001b[0;34m,\u001b[0m \u001b[0mresp\u001b[0m\u001b[0;34m)\u001b[0m\u001b[0;34m\u001b[0m\u001b[0m\n\u001b[0;32m--> 402\u001b[0;31m             \u001b[0;32mreturn\u001b[0m \u001b[0mself\u001b[0m\u001b[0;34m.\u001b[0m\u001b[0m_process_response\u001b[0m\u001b[0;34m(\u001b[0m\u001b[0mresp\u001b[0m\u001b[0;34m,\u001b[0m \u001b[0msave_to\u001b[0m\u001b[0;34m)\u001b[0m\u001b[0;34m\u001b[0m\u001b[0m\n\u001b[0m\u001b[1;32m    403\u001b[0m \u001b[0;34m\u001b[0m\u001b[0m\n\u001b[1;32m    404\u001b[0m         \u001b[0;32mexcept\u001b[0m \u001b[0;34m(\u001b[0m\u001b[0mrequests\u001b[0m\u001b[0;34m.\u001b[0m\u001b[0mexceptions\u001b[0m\u001b[0;34m.\u001b[0m\u001b[0mConnectionError\u001b[0m\u001b[0;34m,\u001b[0m \u001b[0mrequests\u001b[0m\u001b[0;34m.\u001b[0m\u001b[0mexceptions\u001b[0m\u001b[0;34m.\u001b[0m\u001b[0mHTTPError\u001b[0m\u001b[0;34m)\u001b[0m \u001b[0;32mas\u001b[0m \u001b[0me\u001b[0m\u001b[0;34m:\u001b[0m\u001b[0;34m\u001b[0m\u001b[0m\n",
      "\u001b[0;32m/usr/local/lib/python3.6/site-packages/h2o/backend/connection.py\u001b[0m in \u001b[0;36m_process_response\u001b[0;34m(response, save_to)\u001b[0m\n\u001b[1;32m    723\u001b[0m         \u001b[0;31m# Client errors (400 = \"Bad Request\", 404 = \"Not Found\", 412 = \"Precondition Failed\")\u001b[0m\u001b[0;34m\u001b[0m\u001b[0;34m\u001b[0m\u001b[0m\n\u001b[1;32m    724\u001b[0m         \u001b[0;32mif\u001b[0m \u001b[0mstatus_code\u001b[0m \u001b[0;32min\u001b[0m \u001b[0;34m{\u001b[0m\u001b[0;36m400\u001b[0m\u001b[0;34m,\u001b[0m \u001b[0;36m404\u001b[0m\u001b[0;34m,\u001b[0m \u001b[0;36m412\u001b[0m\u001b[0;34m}\u001b[0m \u001b[0;32mand\u001b[0m \u001b[0misinstance\u001b[0m\u001b[0;34m(\u001b[0m\u001b[0mdata\u001b[0m\u001b[0;34m,\u001b[0m \u001b[0;34m(\u001b[0m\u001b[0mH2OErrorV3\u001b[0m\u001b[0;34m,\u001b[0m \u001b[0mH2OModelBuilderErrorV3\u001b[0m\u001b[0;34m)\u001b[0m\u001b[0;34m)\u001b[0m\u001b[0;34m:\u001b[0m\u001b[0;34m\u001b[0m\u001b[0m\n\u001b[0;32m--> 725\u001b[0;31m             \u001b[0;32mraise\u001b[0m \u001b[0mH2OResponseError\u001b[0m\u001b[0;34m(\u001b[0m\u001b[0mdata\u001b[0m\u001b[0;34m)\u001b[0m\u001b[0;34m\u001b[0m\u001b[0m\n\u001b[0m\u001b[1;32m    726\u001b[0m \u001b[0;34m\u001b[0m\u001b[0m\n\u001b[1;32m    727\u001b[0m         \u001b[0;31m# Server errors (notably 500 = \"Server Error\")\u001b[0m\u001b[0;34m\u001b[0m\u001b[0;34m\u001b[0m\u001b[0m\n",
      "\u001b[0;31mH2OResponseError\u001b[0m: ModelBuilderErrorV3  (water.exceptions.H2OModelBuilderIllegalArgumentException):\n    timestamp = 1530381473366\n    error_url = '/3/ModelBuilders/glrm'\n    msg = 'Illegal argument(s) for GLRM model: GLRM_model_python_1530380632407_3.  Details: ERRR on field: _loss_by_col: Loss function Quadratic cannot be applied to categorical column 0\\nERRR on field: _loss_by_col: Loss function Quadratic cannot be applied to categorical column 1\\nERRR on field: _loss_by_col: Loss function Quadratic cannot be applied to categorical column 3\\nERRR on field: _loss_by_col: Loss function Quadratic cannot be applied to categorical column 19\\nERRR on field: _loss_by_col: Loss function Quadratic cannot be applied to categorical column 26\\nERRR on field: _loss_by_col: Loss function Quadratic cannot be applied to categorical column 38\\nERRR on field: _loss_by_col: Loss function Quadratic cannot be applied to categorical column 43\\nERRR on field: _loss_by_col: Loss function Quadratic cannot be applied to categorical column 45\\nERRR on field: _loss_by_col: Loss function Quadratic cannot be applied to categorical column 47\\nERRR on field: _loss_by_col: Loss function Quadratic cannot be applied to categorical column 49\\nERRR on field: _loss_by_col: Loss function Quadratic cannot be applied to categorical column 50\\nERRR on field: _loss_by_col: Loss function Quadratic cannot be applied to categorical column 54\\nERRR on field: _loss_by_col: Loss function Quadratic cannot be applied to categorical column 59\\nERRR on field: _loss_by_col: Loss function Quadratic cannot be applied to categorical column 62\\nERRR on field: _loss_by_col: Loss function Quadratic cannot be applied to categorical column 67\\nERRR on field: _loss_by_col: Loss function Quadratic cannot be applied to categorical column 68\\nERRR on field: _loss_by_col: Loss function Quadratic cannot be applied to categorical column 75'\n    dev_msg = 'Illegal argument(s) for GLRM model: GLRM_model_python_1530380632407_3.  Details: ERRR on field: _loss_by_col: Loss function Quadratic cannot be applied to categorical column 0\\nERRR on field: _loss_by_col: Loss function Quadratic cannot be applied to categorical column 1\\nERRR on field: _loss_by_col: Loss function Quadratic cannot be applied to categorical column 3\\nERRR on field: _loss_by_col: Loss function Quadratic cannot be applied to categorical column 19\\nERRR on field: _loss_by_col: Loss function Quadratic cannot be applied to categorical column 26\\nERRR on field: _loss_by_col: Loss function Quadratic cannot be applied to categorical column 38\\nERRR on field: _loss_by_col: Loss function Quadratic cannot be applied to categorical column 43\\nERRR on field: _loss_by_col: Loss function Quadratic cannot be applied to categorical column 45\\nERRR on field: _loss_by_col: Loss function Quadratic cannot be applied to categorical column 47\\nERRR on field: _loss_by_col: Loss function Quadratic cannot be applied to categorical column 49\\nERRR on field: _loss_by_col: Loss function Quadratic cannot be applied to categorical column 50\\nERRR on field: _loss_by_col: Loss function Quadratic cannot be applied to categorical column 54\\nERRR on field: _loss_by_col: Loss function Quadratic cannot be applied to categorical column 59\\nERRR on field: _loss_by_col: Loss function Quadratic cannot be applied to categorical column 62\\nERRR on field: _loss_by_col: Loss function Quadratic cannot be applied to categorical column 67\\nERRR on field: _loss_by_col: Loss function Quadratic cannot be applied to categorical column 68\\nERRR on field: _loss_by_col: Loss function Quadratic cannot be applied to categorical column 75'\n    http_status = 412\n    values = {'messages': [{'_log_level': 5, '_field_name': '_keep_cross_validation_predictions', '_message': 'Only for cross-validation.'}, {'_log_level': 5, '_field_name': '_keep_cross_validation_fold_assignment', '_message': 'Only for cross-validation.'}, {'_log_level': 5, '_field_name': '_fold_assignment', '_message': 'Only for cross-validation.'}, {'_log_level': 5, '_field_name': '_tweedie_power', '_message': 'Only for Tweedie Distribution.'}, {'_log_level': 5, '_field_name': '_response_column', '_message': 'Ignored for unsupervised methods.'}, {'_log_level': 5, '_field_name': '_balance_classes', '_message': 'Ignored for unsupervised methods.'}, {'_log_level': 5, '_field_name': '_class_sampling_factors', '_message': 'Ignored for unsupervised methods.'}, {'_log_level': 5, '_field_name': '_max_after_balance_size', '_message': 'Ignored for unsupervised methods.'}, {'_log_level': 5, '_field_name': '_max_confusion_matrix_size', '_message': 'Ignored for unsupervised methods.'}, {'_log_level': 1, '_field_name': '_loss_by_col', '_message': 'Loss function Quadratic cannot be applied to categorical column 0'}, {'_log_level': 1, '_field_name': '_loss_by_col', '_message': 'Loss function Quadratic cannot be applied to categorical column 1'}, {'_log_level': 1, '_field_name': '_loss_by_col', '_message': 'Loss function Quadratic cannot be applied to categorical column 3'}, {'_log_level': 1, '_field_name': '_loss_by_col', '_message': 'Loss function Quadratic cannot be applied to categorical column 19'}, {'_log_level': 1, '_field_name': '_loss_by_col', '_message': 'Loss function Quadratic cannot be applied to categorical column 26'}, {'_log_level': 1, '_field_name': '_loss_by_col', '_message': 'Loss function Quadratic cannot be applied to categorical column 38'}, {'_log_level': 1, '_field_name': '_loss_by_col', '_message': 'Loss function Quadratic cannot be applied to categorical column 43'}, {'_log_level': 1, '_field_name': '_loss_by_col', '_message': 'Loss function Quadratic cannot be applied to categorical column 45'}, {'_log_level': 1, '_field_name': '_loss_by_col', '_message': 'Loss function Quadratic cannot be applied to categorical column 47'}, {'_log_level': 1, '_field_name': '_loss_by_col', '_message': 'Loss function Quadratic cannot be applied to categorical column 49'}, {'_log_level': 1, '_field_name': '_loss_by_col', '_message': 'Loss function Quadratic cannot be applied to categorical column 50'}, {'_log_level': 1, '_field_name': '_loss_by_col', '_message': 'Loss function Quadratic cannot be applied to categorical column 54'}, {'_log_level': 1, '_field_name': '_loss_by_col', '_message': 'Loss function Quadratic cannot be applied to categorical column 59'}, {'_log_level': 1, '_field_name': '_loss_by_col', '_message': 'Loss function Quadratic cannot be applied to categorical column 62'}, {'_log_level': 1, '_field_name': '_loss_by_col', '_message': 'Loss function Quadratic cannot be applied to categorical column 67'}, {'_log_level': 1, '_field_name': '_loss_by_col', '_message': 'Loss function Quadratic cannot be applied to categorical column 68'}, {'_log_level': 1, '_field_name': '_loss_by_col', '_message': 'Loss function Quadratic cannot be applied to categorical column 75'}], 'algo': 'GLRM', 'parameters': {'_train': {'name': 'Key_Frame__upload_9e4bb32fff9198b7c68f8120650c4933.hex', 'type': 'Key'}, '_valid': None, '_nfolds': 0, '_keep_cross_validation_predictions': False, '_keep_cross_validation_fold_assignment': False, '_parallelize_cross_validation': True, '_auto_rebalance': True, '_seed': -1, '_fold_assignment': 'AUTO', '_categorical_encoding': 'AUTO', '_max_categorical_levels': 10, '_distribution': 'AUTO', '_tweedie_power': 1.5, '_quantile_alpha': 0.5, '_huber_alpha': 0.9, '_ignored_columns': None, '_ignore_const_cols': True, '_weights_column': None, '_offset_column': None, '_fold_column': None, '_is_cv_model': False, '_score_each_iteration': False, '_max_runtime_secs': 0.0, '_stopping_rounds': 0, '_stopping_metric': 'AUTO', '_stopping_tolerance': 0.001, '_response_column': None, '_balance_classes': False, '_max_after_balance_size': 5.0, '_class_sampling_factors': None, '_max_confusion_matrix_size': 20, '_checkpoint': None, '_pretrained_autoencoder': None, '_custom_metric_func': None, '_transform': 'NONE', '_k': 10, '_init': 'PlusPlus', '_svd_method': 'Randomized', '_user_y': None, '_user_x': None, '_expand_user_y': True, '_loss': 'Quadratic', '_multi_loss': 'Categorical', '_period': 1, '_loss_by_col': ['Quadratic', 'Quadratic', 'Categorical', 'Quadratic', 'Quadratic', 'Categorical', 'Categorical', 'Categorical', 'Categorical', 'Categorical', 'Categorical', 'Categorical', 'Categorical', 'Categorical', 'Categorical', 'Categorical', 'Categorical', 'Quadratic', 'Quadratic', 'Quadratic', 'Quadratic', 'Categorical', 'Categorical', 'Categorical', 'Categorical', 'Categorical', 'Quadratic', 'Categorical', 'Categorical', 'Categorical', 'Categorical', 'Categorical', 'Categorical', 'Categorical', 'Quadratic', 'Categorical', 'Quadratic', 'Quadratic', 'Quadratic', 'Categorical', 'Categorical', 'Categorical', 'Categorical', 'Quadratic', 'Quadratic', 'Quadratic', 'Quadratic', 'Quadratic', 'Quadratic', 'Quadratic', 'Quadratic', 'Quadratic', 'Quadratic', 'Categorical', 'Quadratic', 'Categorical', 'Quadratic', 'Categorical', 'Categorical', 'Quadratic', 'Categorical', 'Quadratic', 'Quadratic', 'Categorical', 'Categorical', 'Categorical', 'Quadratic', 'Quadratic', 'Quadratic', 'Quadratic', 'Quadratic', 'Quadratic', 'Categorical', 'Categorical', 'Categorical', 'Quadratic', 'Quadratic', 'Quadratic', 'Categorical', 'Categorical', 'Quadratic'], '_loss_by_col_idx': None, '_regularization_x': 'None', '_regularization_y': 'None', '_gamma_x': 0.0, '_gamma_y': 0.0, '_max_iterations': 100, '_max_updates': 2000, '_init_step_size': 1.0, '_min_step_size': 0.0001, '_representation_name': None, '_recover_svd': False, '_impute_original': True, '_verbose': True}, 'error_count': 34}\n    exception_msg = 'Illegal argument(s) for GLRM model: GLRM_model_python_1530380632407_3.  Details: ERRR on field: _loss_by_col: Loss function Quadratic cannot be applied to categorical column 0\\nERRR on field: _loss_by_col: Loss function Quadratic cannot be applied to categorical column 1\\nERRR on field: _loss_by_col: Loss function Quadratic cannot be applied to categorical column 3\\nERRR on field: _loss_by_col: Loss function Quadratic cannot be applied to categorical column 19\\nERRR on field: _loss_by_col: Loss function Quadratic cannot be applied to categorical column 26\\nERRR on field: _loss_by_col: Loss function Quadratic cannot be applied to categorical column 38\\nERRR on field: _loss_by_col: Loss function Quadratic cannot be applied to categorical column 43\\nERRR on field: _loss_by_col: Loss function Quadratic cannot be applied to categorical column 45\\nERRR on field: _loss_by_col: Loss function Quadratic cannot be applied to categorical column 47\\nERRR on field: _loss_by_col: Loss function Quadratic cannot be applied to categorical column 49\\nERRR on field: _loss_by_col: Loss function Quadratic cannot be applied to categorical column 50\\nERRR on field: _loss_by_col: Loss function Quadratic cannot be applied to categorical column 54\\nERRR on field: _loss_by_col: Loss function Quadratic cannot be applied to categorical column 59\\nERRR on field: _loss_by_col: Loss function Quadratic cannot be applied to categorical column 62\\nERRR on field: _loss_by_col: Loss function Quadratic cannot be applied to categorical column 67\\nERRR on field: _loss_by_col: Loss function Quadratic cannot be applied to categorical column 68\\nERRR on field: _loss_by_col: Loss function Quadratic cannot be applied to categorical column 75'\n    stacktrace =\n        water.exceptions.H2OModelBuilderIllegalArgumentException: Illegal argument(s) for GLRM model: GLRM_model_python_1530380632407_3.  Details: ERRR on field: _loss_by_col: Loss function Quadratic cannot be applied to categorical column 0\nERRR on field: _loss_by_col: Loss function Quadratic cannot be applied to categorical column 1\nERRR on field: _loss_by_col: Loss function Quadratic cannot be applied to categorical column 3\nERRR on field: _loss_by_col: Loss function Quadratic cannot be applied to categorical column 19\nERRR on field: _loss_by_col: Loss function Quadratic cannot be applied to categorical column 26\nERRR on field: _loss_by_col: Loss function Quadratic cannot be applied to categorical column 38\nERRR on field: _loss_by_col: Loss function Quadratic cannot be applied to categorical column 43\nERRR on field: _loss_by_col: Loss function Quadratic cannot be applied to categorical column 45\nERRR on field: _loss_by_col: Loss function Quadratic cannot be applied to categorical column 47\nERRR on field: _loss_by_col: Loss function Quadratic cannot be applied to categorical column 49\nERRR on field: _loss_by_col: Loss function Quadratic cannot be applied to categorical column 50\nERRR on field: _loss_by_col: Loss function Quadratic cannot be applied to categorical column 54\nERRR on field: _loss_by_col: Loss function Quadratic cannot be applied to categorical column 59\nERRR on field: _loss_by_col: Loss function Quadratic cannot be applied to categorical column 62\nERRR on field: _loss_by_col: Loss function Quadratic cannot be applied to categorical column 67\nERRR on field: _loss_by_col: Loss function Quadratic cannot be applied to categorical column 68\nERRR on field: _loss_by_col: Loss function Quadratic cannot be applied to categorical column 75\n        water.exceptions.H2OModelBuilderIllegalArgumentException.makeFromBuilder(H2OModelBuilderIllegalArgumentException.java:20)\n        hex.ModelBuilder.trainModel(ModelBuilder.java:239)\n        water.api.ModelBuilderHandler.handle(ModelBuilderHandler.java:64)\n        water.api.ModelBuilderHandler.handle(ModelBuilderHandler.java:17)\n        water.api.RequestServer.serve(RequestServer.java:451)\n        water.api.RequestServer.doGeneric(RequestServer.java:296)\n        water.api.RequestServer.doPost(RequestServer.java:222)\n        javax.servlet.http.HttpServlet.service(HttpServlet.java:755)\n        javax.servlet.http.HttpServlet.service(HttpServlet.java:848)\n        org.eclipse.jetty.servlet.ServletHolder.handle(ServletHolder.java:684)\n        org.eclipse.jetty.servlet.ServletHandler.doHandle(ServletHandler.java:503)\n        org.eclipse.jetty.server.handler.ContextHandler.doHandle(ContextHandler.java:1086)\n        org.eclipse.jetty.servlet.ServletHandler.doScope(ServletHandler.java:429)\n        org.eclipse.jetty.server.handler.ContextHandler.doScope(ContextHandler.java:1020)\n        org.eclipse.jetty.server.handler.ScopedHandler.handle(ScopedHandler.java:135)\n        org.eclipse.jetty.server.handler.HandlerCollection.handle(HandlerCollection.java:154)\n        org.eclipse.jetty.server.handler.HandlerWrapper.handle(HandlerWrapper.java:116)\n        water.JettyHTTPD$LoginHandler.handle(JettyHTTPD.java:197)\n        org.eclipse.jetty.server.handler.HandlerCollection.handle(HandlerCollection.java:154)\n        org.eclipse.jetty.server.handler.HandlerWrapper.handle(HandlerWrapper.java:116)\n        org.eclipse.jetty.server.Server.handle(Server.java:370)\n        org.eclipse.jetty.server.AbstractHttpConnection.handleRequest(AbstractHttpConnection.java:494)\n        org.eclipse.jetty.server.BlockingHttpConnection.handleRequest(BlockingHttpConnection.java:53)\n        org.eclipse.jetty.server.AbstractHttpConnection.content(AbstractHttpConnection.java:982)\n        org.eclipse.jetty.server.AbstractHttpConnection$RequestHandler.content(AbstractHttpConnection.java:1043)\n        org.eclipse.jetty.http.HttpParser.parseNext(HttpParser.java:865)\n        org.eclipse.jetty.http.HttpParser.parseAvailable(HttpParser.java:240)\n        org.eclipse.jetty.server.BlockingHttpConnection.handle(BlockingHttpConnection.java:72)\n        org.eclipse.jetty.server.bio.SocketConnector$ConnectorEndPoint.run(SocketConnector.java:264)\n        org.eclipse.jetty.util.thread.QueuedThreadPool.runJob(QueuedThreadPool.java:608)\n        org.eclipse.jetty.util.thread.QueuedThreadPool$3.run(QueuedThreadPool.java:543)\n        java.base/java.lang.Thread.run(Thread.java:844)\n    parameters = {'__meta': {'schema_version': 3, 'schema_name': 'GLRMParametersV3', 'schema_type': 'GLRMParameters'}, 'model_id': None, 'training_frame': {'__meta': {'schema_version': 3, 'schema_name': 'FrameKeyV3', 'schema_type': 'Key<Frame>'}, 'name': 'Key_Frame__upload_9e4bb32fff9198b7c68f8120650c4933.hex', 'type': 'Key<Frame>', 'URL': '/3/Frames/Key_Frame__upload_9e4bb32fff9198b7c68f8120650c4933.hex'}, 'validation_frame': None, 'nfolds': 0, 'keep_cross_validation_predictions': False, 'keep_cross_validation_fold_assignment': False, 'parallelize_cross_validation': True, 'distribution': 'AUTO', 'tweedie_power': 1.5, 'quantile_alpha': 0.5, 'huber_alpha': 0.9, 'response_column': None, 'weights_column': None, 'offset_column': None, 'fold_column': None, 'fold_assignment': 'AUTO', 'categorical_encoding': 'AUTO', 'max_categorical_levels': 10, 'ignored_columns': None, 'ignore_const_cols': True, 'score_each_iteration': False, 'checkpoint': None, 'stopping_rounds': 0, 'max_runtime_secs': 0.0, 'stopping_metric': 'AUTO', 'stopping_tolerance': 0.001, 'custom_metric_func': None, 'transform': 'NONE', 'k': 10, 'loss': 'Quadratic', 'multi_loss': 'Categorical', 'loss_by_col': ['Quadratic', 'Quadratic', 'Categorical', 'Quadratic', 'Quadratic', 'Categorical', 'Categorical', 'Categorical', 'Categorical', 'Categorical', 'Categorical', 'Categorical', 'Categorical', 'Categorical', 'Categorical', 'Categorical', 'Categorical', 'Quadratic', 'Quadratic', 'Quadratic', 'Quadratic', 'Categorical', 'Categorical', 'Categorical', 'Categorical', 'Categorical', 'Quadratic', 'Categorical', 'Categorical', 'Categorical', 'Categorical', 'Categorical', 'Categorical', 'Categorical', 'Quadratic', 'Categorical', 'Quadratic', 'Quadratic', 'Quadratic', 'Categorical', 'Categorical', 'Categorical', 'Categorical', 'Quadratic', 'Quadratic', 'Quadratic', 'Quadratic', 'Quadratic', 'Quadratic', 'Quadratic', 'Quadratic', 'Quadratic', 'Quadratic', 'Categorical', 'Quadratic', 'Categorical', 'Quadratic', 'Categorical', 'Categorical', 'Quadratic', 'Categorical', 'Quadratic', 'Quadratic', 'Categorical', 'Categorical', 'Categorical', 'Quadratic', 'Quadratic', 'Quadratic', 'Quadratic', 'Quadratic', 'Quadratic', 'Categorical', 'Categorical', 'Categorical', 'Quadratic', 'Quadratic', 'Quadratic', 'Categorical', 'Categorical', 'Quadratic'], 'loss_by_col_idx': None, 'period': 1, 'regularization_x': 'None', 'regularization_y': 'None', 'gamma_x': 0.0, 'gamma_y': 0.0, 'max_iterations': 100, 'max_updates': 2000, 'init_step_size': 1.0, 'min_step_size': 0.0001, 'seed': -1, 'init': 'PlusPlus', 'svd_method': 'Randomized', 'user_y': None, 'user_x': None, 'loading_name': None, 'expand_user_y': True, 'impute_original': True, 'recover_svd': False}\n    messages = [{'__meta': {'schema_version': 3, 'schema_name': 'ValidationMessageV3', 'schema_type': 'ValidationMessage'}, 'message_type': 'TRACE', 'field_name': 'keep_cross_validation_predictions', 'message': 'Only for cross-validation.'}, {'__meta': {'schema_version': 3, 'schema_name': 'ValidationMessageV3', 'schema_type': 'ValidationMessage'}, 'message_type': 'TRACE', 'field_name': 'keep_cross_validation_fold_assignment', 'message': 'Only for cross-validation.'}, {'__meta': {'schema_version': 3, 'schema_name': 'ValidationMessageV3', 'schema_type': 'ValidationMessage'}, 'message_type': 'TRACE', 'field_name': 'fold_assignment', 'message': 'Only for cross-validation.'}, {'__meta': {'schema_version': 3, 'schema_name': 'ValidationMessageV3', 'schema_type': 'ValidationMessage'}, 'message_type': 'TRACE', 'field_name': 'tweedie_power', 'message': 'Only for Tweedie Distribution.'}, {'__meta': {'schema_version': 3, 'schema_name': 'ValidationMessageV3', 'schema_type': 'ValidationMessage'}, 'message_type': 'TRACE', 'field_name': 'response_column', 'message': 'Ignored for unsupervised methods.'}, {'__meta': {'schema_version': 3, 'schema_name': 'ValidationMessageV3', 'schema_type': 'ValidationMessage'}, 'message_type': 'TRACE', 'field_name': 'balance_classes', 'message': 'Ignored for unsupervised methods.'}, {'__meta': {'schema_version': 3, 'schema_name': 'ValidationMessageV3', 'schema_type': 'ValidationMessage'}, 'message_type': 'TRACE', 'field_name': 'class_sampling_factors', 'message': 'Ignored for unsupervised methods.'}, {'__meta': {'schema_version': 3, 'schema_name': 'ValidationMessageV3', 'schema_type': 'ValidationMessage'}, 'message_type': 'TRACE', 'field_name': 'max_after_balance_size', 'message': 'Ignored for unsupervised methods.'}, {'__meta': {'schema_version': 3, 'schema_name': 'ValidationMessageV3', 'schema_type': 'ValidationMessage'}, 'message_type': 'TRACE', 'field_name': 'max_confusion_matrix_size', 'message': 'Ignored for unsupervised methods.'}, {'__meta': {'schema_version': 3, 'schema_name': 'ValidationMessageV3', 'schema_type': 'ValidationMessage'}, 'message_type': 'ERRR', 'field_name': 'loss_by_col', 'message': 'Loss function Quadratic cannot be applied to categorical column 0'}, {'__meta': {'schema_version': 3, 'schema_name': 'ValidationMessageV3', 'schema_type': 'ValidationMessage'}, 'message_type': 'ERRR', 'field_name': 'loss_by_col', 'message': 'Loss function Quadratic cannot be applied to categorical column 1'}, {'__meta': {'schema_version': 3, 'schema_name': 'ValidationMessageV3', 'schema_type': 'ValidationMessage'}, 'message_type': 'ERRR', 'field_name': 'loss_by_col', 'message': 'Loss function Quadratic cannot be applied to categorical column 3'}, {'__meta': {'schema_version': 3, 'schema_name': 'ValidationMessageV3', 'schema_type': 'ValidationMessage'}, 'message_type': 'ERRR', 'field_name': 'loss_by_col', 'message': 'Loss function Quadratic cannot be applied to categorical column 19'}, {'__meta': {'schema_version': 3, 'schema_name': 'ValidationMessageV3', 'schema_type': 'ValidationMessage'}, 'message_type': 'ERRR', 'field_name': 'loss_by_col', 'message': 'Loss function Quadratic cannot be applied to categorical column 26'}, {'__meta': {'schema_version': 3, 'schema_name': 'ValidationMessageV3', 'schema_type': 'ValidationMessage'}, 'message_type': 'ERRR', 'field_name': 'loss_by_col', 'message': 'Loss function Quadratic cannot be applied to categorical column 38'}, {'__meta': {'schema_version': 3, 'schema_name': 'ValidationMessageV3', 'schema_type': 'ValidationMessage'}, 'message_type': 'ERRR', 'field_name': 'loss_by_col', 'message': 'Loss function Quadratic cannot be applied to categorical column 43'}, {'__meta': {'schema_version': 3, 'schema_name': 'ValidationMessageV3', 'schema_type': 'ValidationMessage'}, 'message_type': 'ERRR', 'field_name': 'loss_by_col', 'message': 'Loss function Quadratic cannot be applied to categorical column 45'}, {'__meta': {'schema_version': 3, 'schema_name': 'ValidationMessageV3', 'schema_type': 'ValidationMessage'}, 'message_type': 'ERRR', 'field_name': 'loss_by_col', 'message': 'Loss function Quadratic cannot be applied to categorical column 47'}, {'__meta': {'schema_version': 3, 'schema_name': 'ValidationMessageV3', 'schema_type': 'ValidationMessage'}, 'message_type': 'ERRR', 'field_name': 'loss_by_col', 'message': 'Loss function Quadratic cannot be applied to categorical column 49'}, {'__meta': {'schema_version': 3, 'schema_name': 'ValidationMessageV3', 'schema_type': 'ValidationMessage'}, 'message_type': 'ERRR', 'field_name': 'loss_by_col', 'message': 'Loss function Quadratic cannot be applied to categorical column 50'}, {'__meta': {'schema_version': 3, 'schema_name': 'ValidationMessageV3', 'schema_type': 'ValidationMessage'}, 'message_type': 'ERRR', 'field_name': 'loss_by_col', 'message': 'Loss function Quadratic cannot be applied to categorical column 54'}, {'__meta': {'schema_version': 3, 'schema_name': 'ValidationMessageV3', 'schema_type': 'ValidationMessage'}, 'message_type': 'ERRR', 'field_name': 'loss_by_col', 'message': 'Loss function Quadratic cannot be applied to categorical column 59'}, {'__meta': {'schema_version': 3, 'schema_name': 'ValidationMessageV3', 'schema_type': 'ValidationMessage'}, 'message_type': 'ERRR', 'field_name': 'loss_by_col', 'message': 'Loss function Quadratic cannot be applied to categorical column 62'}, {'__meta': {'schema_version': 3, 'schema_name': 'ValidationMessageV3', 'schema_type': 'ValidationMessage'}, 'message_type': 'ERRR', 'field_name': 'loss_by_col', 'message': 'Loss function Quadratic cannot be applied to categorical column 67'}, {'__meta': {'schema_version': 3, 'schema_name': 'ValidationMessageV3', 'schema_type': 'ValidationMessage'}, 'message_type': 'ERRR', 'field_name': 'loss_by_col', 'message': 'Loss function Quadratic cannot be applied to categorical column 68'}, {'__meta': {'schema_version': 3, 'schema_name': 'ValidationMessageV3', 'schema_type': 'ValidationMessage'}, 'message_type': 'ERRR', 'field_name': 'loss_by_col', 'message': 'Loss function Quadratic cannot be applied to categorical column 75'}]\n    error_count = 34\n"
     ]
    }
   ],
   "source": [
    "glrmodel_2.train(y='SalePrice', training_frame=khous_null_h2)"
   ]
  },
  {
   "cell_type": "markdown",
   "metadata": {},
   "source": [
    "## Test and use model"
   ]
  },
  {
   "cell_type": "code",
   "execution_count": 13,
   "metadata": {
    "scrolled": true
   },
   "outputs": [
    {
     "data": {
      "text/html": [
       "<table>\n",
       "<thead>\n",
       "<tr><th style=\"text-align: right;\">      Id</th><th style=\"text-align: right;\">  MSSubClass</th><th>MSZoning  </th><th style=\"text-align: right;\">  LotFrontage</th><th style=\"text-align: right;\">  LotArea</th><th>Street  </th><th style=\"text-align: right;\">  Alley</th><th>LotShape  </th><th>LandContour  </th><th>Utilities  </th><th>LotConfig  </th><th>LandSlope  </th><th>Neighborhood  </th><th>Condition1  </th><th>Condition2  </th><th>BldgType  </th><th>HouseStyle  </th><th style=\"text-align: right;\">  OverallQual</th><th style=\"text-align: right;\">  OverallCond</th><th style=\"text-align: right;\">  YearBuilt</th><th style=\"text-align: right;\">  YearRemodAdd</th><th>RoofStyle  </th><th>RoofMatl  </th><th>Exterior1st  </th><th>Exterior2nd  </th><th>MasVnrType  </th><th style=\"text-align: right;\">   MasVnrArea</th><th>ExterQual  </th><th>ExterCond  </th><th>Foundation  </th><th>BsmtQual  </th><th>BsmtCond  </th><th>BsmtExposure  </th><th>BsmtFinType1  </th><th style=\"text-align: right;\">  BsmtFinSF1</th><th>BsmtFinType2  </th><th style=\"text-align: right;\">  BsmtFinSF2</th><th style=\"text-align: right;\">  BsmtUnfSF</th><th style=\"text-align: right;\">  TotalBsmtSF</th><th>Heating  </th><th>HeatingQC  </th><th>CentralAir  </th><th>Electrical  </th><th style=\"text-align: right;\">  1stFlrSF</th><th style=\"text-align: right;\">  2ndFlrSF</th><th style=\"text-align: right;\">  LowQualFinSF</th><th style=\"text-align: right;\">  GrLivArea</th><th style=\"text-align: right;\">  BsmtFullBath</th><th style=\"text-align: right;\">  BsmtHalfBath</th><th style=\"text-align: right;\">  FullBath</th><th style=\"text-align: right;\">  HalfBath</th><th style=\"text-align: right;\">  BedroomAbvGr</th><th style=\"text-align: right;\">  KitchenAbvGr</th><th>KitchenQual  </th><th style=\"text-align: right;\">  TotRmsAbvGrd</th><th>Functional  </th><th style=\"text-align: right;\">  Fireplaces</th><th>FireplaceQu  </th><th>GarageType  </th><th style=\"text-align: right;\">  GarageYrBlt</th><th>GarageFinish  </th><th style=\"text-align: right;\">  GarageCars</th><th style=\"text-align: right;\">  GarageArea</th><th>GarageQual  </th><th>GarageCond  </th><th>PavedDrive  </th><th style=\"text-align: right;\">  WoodDeckSF</th><th style=\"text-align: right;\">  OpenPorchSF</th><th style=\"text-align: right;\">  EnclosedPorch</th><th style=\"text-align: right;\">   3SsnPorch</th><th style=\"text-align: right;\">  ScreenPorch</th><th style=\"text-align: right;\">     PoolArea</th><th>PoolQC  </th><th>Fence  </th><th>MiscFeature  </th><th style=\"text-align: right;\">    MiscVal</th><th style=\"text-align: right;\">  MoSold</th><th style=\"text-align: right;\">  YrSold</th><th>SaleType  </th><th>SaleCondition  </th><th style=\"text-align: right;\">  SalePrice</th></tr>\n",
       "</thead>\n",
       "<tbody>\n",
       "<tr><td style=\"text-align: right;\"> 678.397</td><td style=\"text-align: right;\">     43.0594</td><td>RL        </td><td style=\"text-align: right;\">      84.8009</td><td style=\"text-align: right;\"> 13354.1 </td><td>Pave    </td><td style=\"text-align: right;\">    nan</td><td>IR1       </td><td>Lvl          </td><td>AllPub     </td><td>Inside     </td><td>Gtl        </td><td>NridgHt       </td><td>Norm        </td><td>Norm        </td><td>1Fam      </td><td>1Story      </td><td style=\"text-align: right;\">      8.0274 </td><td style=\"text-align: right;\">      5.24658</td><td style=\"text-align: right;\">    1997.75</td><td style=\"text-align: right;\">       2001.33</td><td>Gable      </td><td>CompShg   </td><td>VinylSd      </td><td>VinylSd      </td><td>BrkFace     </td><td style=\"text-align: right;\">319.956      </td><td>Gd         </td><td>TA         </td><td>PConc       </td><td>Gd        </td><td>TA        </td><td>No            </td><td>GLQ           </td><td style=\"text-align: right;\">     800.046</td><td>Unf           </td><td style=\"text-align: right;\">     29.7763</td><td style=\"text-align: right;\">    776.589</td><td style=\"text-align: right;\">     1606.41 </td><td>GasA     </td><td>Ex         </td><td>Y           </td><td>SBrkr       </td><td style=\"text-align: right;\">  1649.21 </td><td style=\"text-align: right;\">  462.95  </td><td style=\"text-align: right;\">   2.66454e-15</td><td style=\"text-align: right;\">    2112.16</td><td style=\"text-align: right;\">      0.671233</td><td style=\"text-align: right;\">   0.0319635  </td><td style=\"text-align: right;\">   2.05479</td><td style=\"text-align: right;\">  0.493151</td><td style=\"text-align: right;\">       3.0274 </td><td style=\"text-align: right;\">       1.00913</td><td>Gd           </td><td style=\"text-align: right;\">       7.97717</td><td>Typ         </td><td style=\"text-align: right;\">    1.10502 </td><td>Gd           </td><td>Attchd      </td><td style=\"text-align: right;\">      1999.22</td><td>Fin           </td><td style=\"text-align: right;\">     2.63927</td><td style=\"text-align: right;\">     725.237</td><td>TA          </td><td>TA          </td><td>Y           </td><td style=\"text-align: right;\">    174.603 </td><td style=\"text-align: right;\">      86.5297</td><td style=\"text-align: right;\">       12.21   </td><td style=\"text-align: right;\"> 5.00913    </td><td style=\"text-align: right;\"> 17.9543     </td><td style=\"text-align: right;\"> -6.66134e-15</td><td>nan     </td><td>nan    </td><td>nan          </td><td style=\"text-align: right;\">   10.7306 </td><td style=\"text-align: right;\"> 6.73059</td><td style=\"text-align: right;\"> 2007.73</td><td>WD        </td><td>Normal         </td><td style=\"text-align: right;\">     312642</td></tr>\n",
       "<tr><td style=\"text-align: right;\"> 741.174</td><td style=\"text-align: right;\">     71.3536</td><td>RL        </td><td style=\"text-align: right;\">      65.8826</td><td style=\"text-align: right;\">  8759.86</td><td>Pave    </td><td style=\"text-align: right;\">    nan</td><td>Reg       </td><td>Lvl          </td><td>AllPub     </td><td>Inside     </td><td>Gtl        </td><td>CollgCr       </td><td>Norm        </td><td>Norm        </td><td>1Fam      </td><td>2Story      </td><td style=\"text-align: right;\">      6.81768</td><td style=\"text-align: right;\">      5.09392</td><td style=\"text-align: right;\">    2000.78</td><td style=\"text-align: right;\">       2001.46</td><td>Gable      </td><td>CompShg   </td><td>VinylSd      </td><td>VinylSd      </td><td>None        </td><td style=\"text-align: right;\"> 77.2793     </td><td>Gd         </td><td>TA         </td><td>PConc       </td><td>Gd        </td><td>TA        </td><td>No            </td><td>GLQ           </td><td style=\"text-align: right;\">     332.124</td><td>Unf           </td><td style=\"text-align: right;\">     10.7818</td><td style=\"text-align: right;\">    697.191</td><td style=\"text-align: right;\">     1040.1  </td><td>GasA     </td><td>Ex         </td><td>Y           </td><td>SBrkr       </td><td style=\"text-align: right;\">  1080.1  </td><td style=\"text-align: right;\">  489.276 </td><td style=\"text-align: right;\">   0.662983   </td><td style=\"text-align: right;\">    1570.04</td><td style=\"text-align: right;\">      0.378453</td><td style=\"text-align: right;\">   0.019337   </td><td style=\"text-align: right;\">   1.92818</td><td style=\"text-align: right;\">  0.585635</td><td style=\"text-align: right;\">       2.74033</td><td style=\"text-align: right;\">       1      </td><td>Gd           </td><td style=\"text-align: right;\">       6.48619</td><td>Typ         </td><td style=\"text-align: right;\">    0.541436</td><td>nan          </td><td>Attchd      </td><td style=\"text-align: right;\">      2000.85</td><td>RFn           </td><td style=\"text-align: right;\">     2.07459</td><td style=\"text-align: right;\">     525.177</td><td>TA          </td><td>TA          </td><td>Y           </td><td style=\"text-align: right;\">    102.693 </td><td style=\"text-align: right;\">      62.9116</td><td style=\"text-align: right;\">        3.76519</td><td style=\"text-align: right;\"> 4.66851    </td><td style=\"text-align: right;\">  3.91436    </td><td style=\"text-align: right;\"> -1.06581e-14</td><td>nan     </td><td>nan    </td><td>nan          </td><td style=\"text-align: right;\">    9.33702</td><td style=\"text-align: right;\"> 6.16298</td><td style=\"text-align: right;\"> 2007.79</td><td>WD        </td><td>Normal         </td><td style=\"text-align: right;\">     197155</td></tr>\n",
       "<tr><td style=\"text-align: right;\"> 789    </td><td style=\"text-align: right;\">     55     </td><td>RL        </td><td style=\"text-align: right;\">      70.05  </td><td style=\"text-align: right;\"> 15831   </td><td>Pave    </td><td style=\"text-align: right;\">    nan</td><td>IR1       </td><td>Lvl          </td><td>AllPub     </td><td>CulDSac    </td><td>Gtl        </td><td>NAmes         </td><td>Feedr       </td><td>Norm        </td><td>1Fam      </td><td>1.5Fin      </td><td style=\"text-align: right;\">      5.5    </td><td style=\"text-align: right;\">      6.5    </td><td style=\"text-align: right;\">    1968.5 </td><td style=\"text-align: right;\">       1987.5 </td><td>Hip        </td><td>CompShg   </td><td>MetalSd      </td><td>MetalSd      </td><td>None        </td><td style=\"text-align: right;\">  0.5        </td><td>TA         </td><td>Gd         </td><td>CBlock      </td><td>Gd        </td><td>TA        </td><td>Mn            </td><td>BLQ           </td><td style=\"text-align: right;\">     498    </td><td>Rec           </td><td style=\"text-align: right;\">    105.5   </td><td style=\"text-align: right;\">    556    </td><td style=\"text-align: right;\">     1159.5  </td><td>GasA     </td><td>Ex         </td><td>Y           </td><td>SBrkr       </td><td style=\"text-align: right;\">  1159.5  </td><td style=\"text-align: right;\">  629.5   </td><td style=\"text-align: right;\">   0          </td><td style=\"text-align: right;\">    1789   </td><td style=\"text-align: right;\">      0       </td><td style=\"text-align: right;\">   0          </td><td style=\"text-align: right;\">   1.5    </td><td style=\"text-align: right;\">  1       </td><td style=\"text-align: right;\">       3      </td><td style=\"text-align: right;\">       1.5    </td><td>TA           </td><td style=\"text-align: right;\">       8.5    </td><td>Typ         </td><td style=\"text-align: right;\">    0.5     </td><td>TA           </td><td>Attchd      </td><td style=\"text-align: right;\">      1968.5 </td><td>RFn           </td><td style=\"text-align: right;\">     1.5    </td><td style=\"text-align: right;\">     450.5  </td><td>TA          </td><td>TA          </td><td>N           </td><td style=\"text-align: right;\">     77.5   </td><td style=\"text-align: right;\">      12     </td><td style=\"text-align: right;\">       72.5    </td><td style=\"text-align: right;\"> 0          </td><td style=\"text-align: right;\"> -1.77636e-15</td><td style=\"text-align: right;\">  0          </td><td>nan     </td><td>nan    </td><td>Gar2         </td><td style=\"text-align: right;\">11900      </td><td style=\"text-align: right;\"> 6      </td><td style=\"text-align: right;\"> 2007   </td><td>WD        </td><td>Normal         </td><td style=\"text-align: right;\">     170750</td></tr>\n",
       "<tr><td style=\"text-align: right;\">1029    </td><td style=\"text-align: right;\">     62.5   </td><td>RL        </td><td style=\"text-align: right;\">     106.342 </td><td style=\"text-align: right;\"> 16240.7 </td><td>Pave    </td><td style=\"text-align: right;\">    nan</td><td>IR1       </td><td>Lvl          </td><td>AllPub     </td><td>Inside     </td><td>Gtl        </td><td>NWAmes        </td><td>Norm        </td><td>Norm        </td><td>1Fam      </td><td>2Story      </td><td style=\"text-align: right;\">      7.16667</td><td style=\"text-align: right;\">      5.5    </td><td style=\"text-align: right;\">    1968.17</td><td style=\"text-align: right;\">       1984.33</td><td>Gable      </td><td>CompShg   </td><td>Plywood      </td><td>Plywood      </td><td>None        </td><td style=\"text-align: right;\"> 47.1667     </td><td>Gd         </td><td>TA         </td><td>CBlock      </td><td>TA        </td><td>TA        </td><td>Av            </td><td>ALQ           </td><td style=\"text-align: right;\">     851.167</td><td>LwQ           </td><td style=\"text-align: right;\">    171.667 </td><td style=\"text-align: right;\">    307.333</td><td style=\"text-align: right;\">     1330.17 </td><td>GasA     </td><td>TA         </td><td>Y           </td><td>SBrkr       </td><td style=\"text-align: right;\">  1527.5  </td><td style=\"text-align: right;\">  907.167 </td><td style=\"text-align: right;\">  65.3333     </td><td style=\"text-align: right;\">    2500   </td><td style=\"text-align: right;\">      0.833333</td><td style=\"text-align: right;\">   0.166667   </td><td style=\"text-align: right;\">   2      </td><td style=\"text-align: right;\">  0.5     </td><td style=\"text-align: right;\">       3.83333</td><td style=\"text-align: right;\">       1      </td><td>Gd           </td><td style=\"text-align: right;\">       8.16667</td><td>Typ         </td><td style=\"text-align: right;\">    1.33333 </td><td>TA           </td><td>Attchd      </td><td style=\"text-align: right;\">      1968.17</td><td>Fin           </td><td style=\"text-align: right;\">     2      </td><td style=\"text-align: right;\">     574.333</td><td>TA          </td><td>TA          </td><td>Y           </td><td style=\"text-align: right;\">    204.167 </td><td style=\"text-align: right;\">      73.6667</td><td style=\"text-align: right;\">       92      </td><td style=\"text-align: right;\"> 0          </td><td style=\"text-align: right;\"> 73.3333     </td><td style=\"text-align: right;\">591.333      </td><td>Ex      </td><td>GdPrv  </td><td>nan          </td><td style=\"text-align: right;\">  333.333  </td><td style=\"text-align: right;\"> 5.5    </td><td style=\"text-align: right;\"> 2006.5 </td><td>WD        </td><td>Normal         </td><td style=\"text-align: right;\">     309495</td></tr>\n",
       "<tr><td style=\"text-align: right;\"> 401.75 </td><td style=\"text-align: right;\">     70     </td><td>RL        </td><td style=\"text-align: right;\">      90.0375</td><td style=\"text-align: right;\">163514   </td><td>Pave    </td><td style=\"text-align: right;\">    nan</td><td>IR2       </td><td>Low          </td><td>AllPub     </td><td>CulDSac    </td><td>Sev        </td><td>ClearCr       </td><td>Norm        </td><td>Norm        </td><td>1Fam      </td><td>1.5Fin      </td><td style=\"text-align: right;\">      6.25   </td><td style=\"text-align: right;\">      5.75   </td><td style=\"text-align: right;\">    1964.75</td><td style=\"text-align: right;\">       1984.5 </td><td>Gable      </td><td>CompShg   </td><td>Plywood      </td><td>Plywood      </td><td>None        </td><td style=\"text-align: right;\">205.75       </td><td>TA         </td><td>TA         </td><td>CBlock      </td><td>Gd        </td><td>TA        </td><td>Gd            </td><td>ALQ           </td><td style=\"text-align: right;\">    1100.25 </td><td>Unf           </td><td style=\"text-align: right;\">    241.75  </td><td style=\"text-align: right;\">    338.5  </td><td style=\"text-align: right;\">     1680.5  </td><td>GasA     </td><td>TA         </td><td>Y           </td><td>SBrkr       </td><td style=\"text-align: right;\">  1730.75 </td><td style=\"text-align: right;\">  216.75  </td><td style=\"text-align: right;\">   0          </td><td style=\"text-align: right;\">    1947.5 </td><td style=\"text-align: right;\">      1.25    </td><td style=\"text-align: right;\">   0.25       </td><td style=\"text-align: right;\">   2      </td><td style=\"text-align: right;\">  0       </td><td style=\"text-align: right;\">       3      </td><td style=\"text-align: right;\">       1      </td><td>Gd           </td><td style=\"text-align: right;\">       6.75   </td><td>Typ         </td><td style=\"text-align: right;\">    2       </td><td>Gd           </td><td>Attchd      </td><td style=\"text-align: right;\">      1964.75</td><td>Fin           </td><td style=\"text-align: right;\">     2      </td><td style=\"text-align: right;\">     542.5  </td><td>TA          </td><td>TA          </td><td>Y           </td><td style=\"text-align: right;\">    262.5   </td><td style=\"text-align: right;\">      36.5   </td><td style=\"text-align: right;\">        0      </td><td style=\"text-align: right;\"> 0          </td><td style=\"text-align: right;\"> -1.77636e-15</td><td style=\"text-align: right;\">  0          </td><td>nan     </td><td>nan    </td><td>Shed         </td><td style=\"text-align: right;\">  300      </td><td style=\"text-align: right;\"> 6.5    </td><td style=\"text-align: right;\"> 2007.75</td><td>WD        </td><td>Normal         </td><td style=\"text-align: right;\">     295738</td></tr>\n",
       "<tr><td style=\"text-align: right;\"> 811.632</td><td style=\"text-align: right;\">     78.9461</td><td>RL        </td><td style=\"text-align: right;\">      67.7328</td><td style=\"text-align: right;\"> 10127.6 </td><td>Pave    </td><td style=\"text-align: right;\">    nan</td><td>Reg       </td><td>Lvl          </td><td>AllPub     </td><td>Inside     </td><td>Gtl        </td><td>OldTown       </td><td>Norm        </td><td>Norm        </td><td>1Fam      </td><td>2Story      </td><td style=\"text-align: right;\">      5.75   </td><td style=\"text-align: right;\">      6.0049 </td><td style=\"text-align: right;\">    1940.77</td><td style=\"text-align: right;\">       1973.59</td><td>Gable      </td><td>CompShg   </td><td>Wd Sdng      </td><td>Wd Sdng      </td><td>None        </td><td style=\"text-align: right;\"> 80.2794     </td><td>TA         </td><td>TA         </td><td>CBlock      </td><td>TA        </td><td>TA        </td><td>No            </td><td>Unf           </td><td style=\"text-align: right;\">     232.319</td><td>Unf           </td><td style=\"text-align: right;\">     26.6275</td><td style=\"text-align: right;\">    608.578</td><td style=\"text-align: right;\">      867.525</td><td>GasA     </td><td>TA         </td><td>Y           </td><td>SBrkr       </td><td style=\"text-align: right;\">  1114.55 </td><td style=\"text-align: right;\">  715.279 </td><td style=\"text-align: right;\">   2.55882    </td><td style=\"text-align: right;\">    1832.39</td><td style=\"text-align: right;\">      0.147059</td><td style=\"text-align: right;\">   0.0539216  </td><td style=\"text-align: right;\">   1.71569</td><td style=\"text-align: right;\">  0.5     </td><td style=\"text-align: right;\">       3.68627</td><td style=\"text-align: right;\">       1.2549 </td><td>TA           </td><td style=\"text-align: right;\">       7.88725</td><td>Typ         </td><td style=\"text-align: right;\">    0.705882</td><td>nan          </td><td>Detchd      </td><td style=\"text-align: right;\">      1956.88</td><td>Unf           </td><td style=\"text-align: right;\">     1.58824</td><td style=\"text-align: right;\">     409.088</td><td>TA          </td><td>TA          </td><td>Y           </td><td style=\"text-align: right;\">     61.6618</td><td style=\"text-align: right;\">      39.8088</td><td style=\"text-align: right;\">       48.7206 </td><td style=\"text-align: right;\"> 1.39216    </td><td style=\"text-align: right;\"> 27.8284     </td><td style=\"text-align: right;\"> -6.21725e-15</td><td>nan     </td><td>nan    </td><td>nan          </td><td style=\"text-align: right;\">   49.2647 </td><td style=\"text-align: right;\"> 6.83333</td><td style=\"text-align: right;\"> 2007.85</td><td>WD        </td><td>Normal         </td><td style=\"text-align: right;\">     160285</td></tr>\n",
       "<tr><td style=\"text-align: right;\"> 726.133</td><td style=\"text-align: right;\">     51.2991</td><td>RL        </td><td style=\"text-align: right;\">      60.5731</td><td style=\"text-align: right;\">  7734.81</td><td>Pave    </td><td style=\"text-align: right;\">    nan</td><td>Reg       </td><td>Lvl          </td><td>AllPub     </td><td>Inside     </td><td>Gtl        </td><td>NAmes         </td><td>Norm        </td><td>Norm        </td><td>1Fam      </td><td>1Story      </td><td style=\"text-align: right;\">      4.84894</td><td style=\"text-align: right;\">      5.77039</td><td style=\"text-align: right;\">    1946.14</td><td style=\"text-align: right;\">       1969.62</td><td>Gable      </td><td>CompShg   </td><td>MetalSd      </td><td>MetalSd      </td><td>None        </td><td style=\"text-align: right;\"> 25.9819     </td><td>TA         </td><td>TA         </td><td>CBlock      </td><td>TA        </td><td>TA        </td><td>No            </td><td>Unf           </td><td style=\"text-align: right;\">     241.964</td><td>Unf           </td><td style=\"text-align: right;\">     25.287 </td><td style=\"text-align: right;\">    473.082</td><td style=\"text-align: right;\">      740.332</td><td>GasA     </td><td>TA         </td><td>Y           </td><td>SBrkr       </td><td style=\"text-align: right;\">   882.529</td><td style=\"text-align: right;\">  162.169 </td><td style=\"text-align: right;\">   1.87915    </td><td style=\"text-align: right;\">    1046.58</td><td style=\"text-align: right;\">      0.21148 </td><td style=\"text-align: right;\">   0.0574018  </td><td style=\"text-align: right;\">   1.04834</td><td style=\"text-align: right;\">  0.135952</td><td style=\"text-align: right;\">       2.46526</td><td style=\"text-align: right;\">       1.02115</td><td>TA           </td><td style=\"text-align: right;\">       5.26284</td><td>Typ         </td><td style=\"text-align: right;\">    0.21148 </td><td>nan          </td><td>Detchd      </td><td style=\"text-align: right;\">      1961.71</td><td>Unf           </td><td style=\"text-align: right;\">     1.01813</td><td style=\"text-align: right;\">     279.275</td><td>TA          </td><td>TA          </td><td>Y           </td><td style=\"text-align: right;\">     35.8943</td><td style=\"text-align: right;\">      18.7462</td><td style=\"text-align: right;\">       38.1843 </td><td style=\"text-align: right;\"> 0.543807   </td><td style=\"text-align: right;\">  5.04532    </td><td style=\"text-align: right;\"> -1.06581e-14</td><td>nan     </td><td>nan    </td><td>nan          </td><td style=\"text-align: right;\">   33.577  </td><td style=\"text-align: right;\"> 6.13897</td><td style=\"text-align: right;\"> 2007.74</td><td>WD        </td><td>Normal         </td><td style=\"text-align: right;\">     108943</td></tr>\n",
       "<tr><td style=\"text-align: right;\"> 569.533</td><td style=\"text-align: right;\">     67.6667</td><td>RL        </td><td style=\"text-align: right;\">      74.7367</td><td style=\"text-align: right;\"> 10311.8 </td><td>Pave    </td><td style=\"text-align: right;\">    nan</td><td>Reg       </td><td>Lvl          </td><td>AllPub     </td><td>Inside     </td><td>Gtl        </td><td>SWISU         </td><td>Norm        </td><td>Norm        </td><td>1Fam      </td><td>1.5Fin      </td><td style=\"text-align: right;\">      5.53333</td><td style=\"text-align: right;\">      5.8    </td><td style=\"text-align: right;\">    1924.2 </td><td style=\"text-align: right;\">       1971.73</td><td>Gable      </td><td>CompShg   </td><td>Wd Sdng      </td><td>Wd Sdng      </td><td>None        </td><td style=\"text-align: right;\"> -1.42109e-14</td><td>TA         </td><td>TA         </td><td>BrkTil      </td><td>TA        </td><td>TA        </td><td>No            </td><td>Unf           </td><td style=\"text-align: right;\">     137    </td><td>Unf           </td><td style=\"text-align: right;\">     77.4   </td><td style=\"text-align: right;\">    729.2  </td><td style=\"text-align: right;\">      943.6  </td><td>GasA     </td><td>Ex         </td><td>Y           </td><td>SBrkr       </td><td style=\"text-align: right;\">  1151.33 </td><td style=\"text-align: right;\">  541.267 </td><td style=\"text-align: right;\"> 450.467      </td><td style=\"text-align: right;\">    2143.07</td><td style=\"text-align: right;\">      0.2     </td><td style=\"text-align: right;\">   6.93889e-18</td><td style=\"text-align: right;\">   1.53333</td><td style=\"text-align: right;\">  0.266667</td><td style=\"text-align: right;\">       3.73333</td><td style=\"text-align: right;\">       1.06667</td><td>TA           </td><td style=\"text-align: right;\">       8.66667</td><td>Typ         </td><td style=\"text-align: right;\">    0.533333</td><td>nan          </td><td>Detchd      </td><td style=\"text-align: right;\">      1975.5 </td><td>Unf           </td><td style=\"text-align: right;\">     1.2    </td><td style=\"text-align: right;\">     354.333</td><td>TA          </td><td>TA          </td><td>Y           </td><td style=\"text-align: right;\">     86.6667</td><td style=\"text-align: right;\">      57.7333</td><td style=\"text-align: right;\">       29.0667 </td><td style=\"text-align: right;\">-4.44089e-16</td><td style=\"text-align: right;\"> 27.3333     </td><td style=\"text-align: right;\">  4.44089e-16</td><td>nan     </td><td>nan    </td><td>nan          </td><td style=\"text-align: right;\">   26.6667 </td><td style=\"text-align: right;\"> 5.6    </td><td style=\"text-align: right;\"> 2007.67</td><td>WD        </td><td>Normal         </td><td style=\"text-align: right;\">     162900</td></tr>\n",
       "<tr><td style=\"text-align: right;\">1299    </td><td style=\"text-align: right;\">     60     </td><td>RL        </td><td style=\"text-align: right;\">     313     </td><td style=\"text-align: right;\"> 63887   </td><td>Pave    </td><td style=\"text-align: right;\">    nan</td><td>IR3       </td><td>Bnk          </td><td>AllPub     </td><td>Corner     </td><td>Gtl        </td><td>Edwards       </td><td>Feedr       </td><td>Norm        </td><td>1Fam      </td><td>2Story      </td><td style=\"text-align: right;\">     10      </td><td style=\"text-align: right;\">      5      </td><td style=\"text-align: right;\">    2008   </td><td style=\"text-align: right;\">       2008   </td><td>Hip        </td><td>ClyTile   </td><td>Stucco       </td><td>Stucco       </td><td>Stone       </td><td style=\"text-align: right;\">796          </td><td>Ex         </td><td>TA         </td><td>PConc       </td><td>Ex        </td><td>TA        </td><td>Gd            </td><td>GLQ           </td><td style=\"text-align: right;\">    5644    </td><td>Unf           </td><td style=\"text-align: right;\">      0     </td><td style=\"text-align: right;\">    466    </td><td style=\"text-align: right;\">     6110    </td><td>GasA     </td><td>Ex         </td><td>Y           </td><td>SBrkr       </td><td style=\"text-align: right;\">  4692    </td><td style=\"text-align: right;\">  950     </td><td style=\"text-align: right;\">   0          </td><td style=\"text-align: right;\">    5642   </td><td style=\"text-align: right;\">      2       </td><td style=\"text-align: right;\">   0          </td><td style=\"text-align: right;\">   2      </td><td style=\"text-align: right;\">  1       </td><td style=\"text-align: right;\">       3      </td><td style=\"text-align: right;\">       1      </td><td>Ex           </td><td style=\"text-align: right;\">      12      </td><td>Typ         </td><td style=\"text-align: right;\">    3       </td><td>Gd           </td><td>Attchd      </td><td style=\"text-align: right;\">      2008   </td><td>Fin           </td><td style=\"text-align: right;\">     2      </td><td style=\"text-align: right;\">    1418    </td><td>TA          </td><td>TA          </td><td>Y           </td><td style=\"text-align: right;\">    214     </td><td style=\"text-align: right;\">     292     </td><td style=\"text-align: right;\">        0      </td><td style=\"text-align: right;\"> 0          </td><td style=\"text-align: right;\"> -1.77636e-15</td><td style=\"text-align: right;\">480          </td><td>Gd      </td><td>nan    </td><td>nan          </td><td style=\"text-align: right;\">    0      </td><td style=\"text-align: right;\"> 1      </td><td style=\"text-align: right;\"> 2008   </td><td>New       </td><td>Partial        </td><td style=\"text-align: right;\">     160000</td></tr>\n",
       "<tr><td style=\"text-align: right;\"> 710.544</td><td style=\"text-align: right;\">     40.7753</td><td>RL        </td><td style=\"text-align: right;\">      74.0902</td><td style=\"text-align: right;\"> 11490.5 </td><td>Pave    </td><td style=\"text-align: right;\">    nan</td><td>Reg       </td><td>Lvl          </td><td>AllPub     </td><td>Inside     </td><td>Gtl        </td><td>NAmes         </td><td>Norm        </td><td>Norm        </td><td>1Fam      </td><td>1Story      </td><td style=\"text-align: right;\">      5.47152</td><td style=\"text-align: right;\">      5.85759</td><td style=\"text-align: right;\">    1967.39</td><td style=\"text-align: right;\">       1978.24</td><td>Gable      </td><td>CompShg   </td><td>HdBoard      </td><td>HdBoard      </td><td>None        </td><td style=\"text-align: right;\"> 83.7184     </td><td>TA         </td><td>TA         </td><td>CBlock      </td><td>TA        </td><td>TA        </td><td>No            </td><td>ALQ           </td><td style=\"text-align: right;\">     653.763</td><td>Unf           </td><td style=\"text-align: right;\">    127.744 </td><td style=\"text-align: right;\">    345.763</td><td style=\"text-align: right;\">     1127.27 </td><td>GasA     </td><td>TA         </td><td>Y           </td><td>SBrkr       </td><td style=\"text-align: right;\">  1219.65 </td><td style=\"text-align: right;\">   37.5696</td><td style=\"text-align: right;\">  -4.44089e-15</td><td style=\"text-align: right;\">    1257.22</td><td style=\"text-align: right;\">      0.702532</td><td style=\"text-align: right;\">   0.120253   </td><td style=\"text-align: right;\">   1.24051</td><td style=\"text-align: right;\">  0.259494</td><td style=\"text-align: right;\">       2.72785</td><td style=\"text-align: right;\">       1.01582</td><td>TA           </td><td style=\"text-align: right;\">       5.80696</td><td>Typ         </td><td style=\"text-align: right;\">    0.68038 </td><td>nan          </td><td>Attchd      </td><td style=\"text-align: right;\">      1970.59</td><td>Unf           </td><td style=\"text-align: right;\">     1.73101</td><td style=\"text-align: right;\">     482.487</td><td>TA          </td><td>TA          </td><td>Y           </td><td style=\"text-align: right;\">    106.899 </td><td style=\"text-align: right;\">      32.6076</td><td style=\"text-align: right;\">       13.6234 </td><td style=\"text-align: right;\"> 5.46519    </td><td style=\"text-align: right;\"> 26.7184     </td><td style=\"text-align: right;\"> -1.02141e-14</td><td>nan     </td><td>nan    </td><td>nan          </td><td style=\"text-align: right;\">   29.1139 </td><td style=\"text-align: right;\"> 6.14873</td><td style=\"text-align: right;\"> 2008   </td><td>WD        </td><td>Normal         </td><td style=\"text-align: right;\">     156845</td></tr>\n",
       "</tbody>\n",
       "</table>"
      ]
     },
     "metadata": {},
     "output_type": "display_data"
    },
    {
     "data": {
      "text/plain": []
     },
     "execution_count": 13,
     "metadata": {},
     "output_type": "execute_result"
    }
   ],
   "source": [
    "glrmodel_2.proj_archetypes(khous_h2)"
   ]
  },
  {
   "cell_type": "code",
   "execution_count": 14,
   "metadata": {},
   "outputs": [
    {
     "name": "stdout",
     "output_type": "stream",
     "text": [
      "               timestamp    duration  iterations  step_size     objective\n",
      "0    2018-06-30 10:55:59   2.271 sec         0.0   0.666667  1.078468e+13\n",
      "1    2018-06-30 10:55:59   2.725 sec         1.0   0.444444  1.078468e+13\n",
      "2    2018-06-30 10:56:00   2.950 sec         2.0   0.222222  1.078468e+13\n",
      "3    2018-06-30 10:56:00   3.115 sec         3.0   0.074074  1.078468e+13\n",
      "4    2018-06-30 10:56:00   3.253 sec         4.0   0.018519  1.078468e+13\n",
      "5    2018-06-30 10:56:00   3.383 sec         5.0   0.003704  1.078468e+13\n",
      "6    2018-06-30 10:56:00   3.507 sec         6.0   0.000617  1.078468e+13\n",
      "7    2018-06-30 10:56:00   3.647 sec         7.0   0.000088  1.078468e+13\n"
     ]
    },
    {
     "data": {
      "image/png": "[encoded data removed]",
      "text/plain": [
       "<matplotlib.figure.Figure at 0x10e100438>"
      ]
     },
     "metadata": {},
     "output_type": "display_data"
    }
   ],
   "source": [
    "# Plot objective function value each iteration\n",
    "model_score = glrmodel_2.score_history()\n",
    "plt.xlabel(\"Iteration\")\n",
    "plt.ylabel(\"Objective\")\n",
    "plt.title(\"Objective Function Value per Iteration\")\n",
    "print(model_score)\n",
    "plt.plot(model_score[\"iterations\"], model_score[\"objective\"])\n",
    "plt.show()"
   ]
  },
  {
   "cell_type": "markdown",
   "metadata": {},
   "source": [
    "Jason thought he remembered 'categorical' getting parsed differently from 'enum', hence the little loop below which changes all the dtypes to 'categorical'.  So I might want want to try a similar thing with just my enums and see what changes."
   ]
  },
  {
   "cell_type": "code",
   "execution_count": null,
   "metadata": {},
   "outputs": [],
   "source": [
    "types = {} \n",
    "for k in region_a_df.types: \n",
    "    types[k] = 'categorical' \n",
    "    types['C1'] = 'string' \n",
    "region_a_df = h2o.H2OFrame(np.array(region_answers)[:,1:], column_types=types) region_a_df.describe()\n",
    "\n",
    "glrm.train(y=y, training_frame=region_a_df)"
   ]
  },
  {
   "cell_type": "code",
   "execution_count": 36,
   "metadata": {
    "scrolled": true
   },
   "outputs": [
    {
     "data": {
      "text/plain": [
       "{'1stFlrSF': 'int',\n",
       " '2ndFlrSF': 'int',\n",
       " '3SsnPorch': 'int',\n",
       " 'Alley': 'enum',\n",
       " 'BedroomAbvGr': 'int',\n",
       " 'BldgType': 'enum',\n",
       " 'BsmtCond': 'enum',\n",
       " 'BsmtExposure': 'enum',\n",
       " 'BsmtFinSF1': 'int',\n",
       " 'BsmtFinSF2': 'int',\n",
       " 'BsmtFinType1': 'enum',\n",
       " 'BsmtFinType2': 'enum',\n",
       " 'BsmtFullBath': 'int',\n",
       " 'BsmtHalfBath': 'int',\n",
       " 'BsmtQual': 'enum',\n",
       " 'BsmtUnfSF': 'int',\n",
       " 'CentralAir': 'enum',\n",
       " 'Condition1': 'enum',\n",
       " 'Condition2': 'enum',\n",
       " 'Electrical': 'enum',\n",
       " 'EnclosedPorch': 'int',\n",
       " 'ExterCond': 'enum',\n",
       " 'ExterQual': 'enum',\n",
       " 'Exterior1st': 'enum',\n",
       " 'Exterior2nd': 'enum',\n",
       " 'Fence': 'enum',\n",
       " 'FireplaceQu': 'enum',\n",
       " 'Fireplaces': 'int',\n",
       " 'Foundation': 'enum',\n",
       " 'FullBath': 'int',\n",
       " 'Functional': 'enum',\n",
       " 'GarageArea': 'int',\n",
       " 'GarageCars': 'int',\n",
       " 'GarageCond': 'enum',\n",
       " 'GarageFinish': 'enum',\n",
       " 'GarageQual': 'enum',\n",
       " 'GarageType': 'enum',\n",
       " 'GarageYrBlt': 'int',\n",
       " 'GrLivArea': 'int',\n",
       " 'HalfBath': 'int',\n",
       " 'Heating': 'enum',\n",
       " 'HeatingQC': 'enum',\n",
       " 'HouseStyle': 'enum',\n",
       " 'Id': 'int',\n",
       " 'KitchenAbvGr': 'int',\n",
       " 'KitchenQual': 'enum',\n",
       " 'LandContour': 'enum',\n",
       " 'LandSlope': 'enum',\n",
       " 'LotArea': 'int',\n",
       " 'LotConfig': 'enum',\n",
       " 'LotFrontage': 'int',\n",
       " 'LotShape': 'enum',\n",
       " 'LowQualFinSF': 'int',\n",
       " 'MSSubClass': 'int',\n",
       " 'MSZoning': 'enum',\n",
       " 'MasVnrArea': 'int',\n",
       " 'MasVnrType': 'enum',\n",
       " 'MiscFeature': 'enum',\n",
       " 'MiscVal': 'int',\n",
       " 'MoSold': 'int',\n",
       " 'Neighborhood': 'enum',\n",
       " 'OpenPorchSF': 'int',\n",
       " 'OverallCond': 'int',\n",
       " 'OverallQual': 'int',\n",
       " 'PavedDrive': 'enum',\n",
       " 'PoolArea': 'int',\n",
       " 'PoolQC': 'enum',\n",
       " 'RoofMatl': 'enum',\n",
       " 'RoofStyle': 'enum',\n",
       " 'SaleCondition': 'enum',\n",
       " 'SalePrice': 'int',\n",
       " 'SaleType': 'enum',\n",
       " 'ScreenPorch': 'int',\n",
       " 'Street': 'enum',\n",
       " 'TotRmsAbvGrd': 'int',\n",
       " 'TotalBsmtSF': 'int',\n",
       " 'Utilities': 'enum',\n",
       " 'WoodDeckSF': 'int',\n",
       " 'YearBuilt': 'int',\n",
       " 'YearRemodAdd': 'int',\n",
       " 'YrSold': 'int'}"
      ]
     },
     "execution_count": 36,
     "metadata": {},
     "output_type": "execute_result"
    }
   ],
   "source": [
    "khous_h2.types"
   ]
  }
 ],
 "metadata": {
  "kernelspec": {
   "display_name": "Python 3",
   "language": "python",
   "name": "python3"
  },
  "language_info": {
   "codemirror_mode": {
    "name": "ipython",
    "version": 3
   },
   "file_extension": ".py",
   "mimetype": "text/x-python",
   "name": "python",
   "nbconvert_exporter": "python",
   "pygments_lexer": "ipython3",
   "version": "3.6.4"
  }
 },
 "nbformat": 4,
 "nbformat_minor": 2
}
