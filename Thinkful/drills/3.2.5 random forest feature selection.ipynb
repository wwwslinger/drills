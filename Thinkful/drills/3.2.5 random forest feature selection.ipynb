{
 "cells": [
  {
   "cell_type": "markdown",
   "metadata": {},
   "source": [
    "# Instructions\n",
    "So here's your task. Get rid of as much data as possible without dropping below an average of 90% accuracy in a 10-fold cross validation.\n",
    "\n",
    "You'll want to do a few things in this process. First, dive into the data that we have and see which features are most important. This can be the raw features or the generated dummies. You may want to use PCA or correlation matrices.\n",
    "\n",
    "Can you do it without using anything related to payment amount or outstanding principal? How do you know?"
   ]
  },
  {
   "cell_type": "markdown",
   "metadata": {},
   "source": [
    "# Load and clean"
   ]
  },
  {
   "cell_type": "code",
   "execution_count": 2,
   "metadata": {},
   "outputs": [],
   "source": [
    "import pandas as pd\n",
    "import numpy as np\n",
    "import scipy as sp\n",
    "import seaborn as sns\n",
    "import matplotlib.pyplot as plt\n",
    "%matplotlib inline\n",
    "sns.set()"
   ]
  },
  {
   "cell_type": "code",
   "execution_count": 13,
   "metadata": {
    "scrolled": false
   },
   "outputs": [
    {
     "name": "stderr",
     "output_type": "stream",
     "text": [
      "/usr/local/lib/python3.6/site-packages/IPython/core/interactiveshell.py:2728: DtypeWarning: Columns (0,19,55) have mixed types. Specify dtype option on import or set low_memory=False.\n",
      "  interactivity=interactivity, compiler=compiler, result=result)\n"
     ]
    },
    {
     "data": {
      "text/html": [
       "<div>\n",
       "<style scoped>\n",
       "    .dataframe tbody tr th:only-of-type {\n",
       "        vertical-align: middle;\n",
       "    }\n",
       "\n",
       "    .dataframe tbody tr th {\n",
       "        vertical-align: top;\n",
       "    }\n",
       "\n",
       "    .dataframe thead th {\n",
       "        text-align: right;\n",
       "    }\n",
       "</style>\n",
       "<table border=\"1\" class=\"dataframe\">\n",
       "  <thead>\n",
       "    <tr style=\"text-align: right;\">\n",
       "      <th></th>\n",
       "      <th>id</th>\n",
       "      <th>member_id</th>\n",
       "      <th>loan_amnt</th>\n",
       "      <th>funded_amnt</th>\n",
       "      <th>funded_amnt_inv</th>\n",
       "      <th>term</th>\n",
       "      <th>int_rate</th>\n",
       "      <th>installment</th>\n",
       "      <th>grade</th>\n",
       "      <th>sub_grade</th>\n",
       "      <th>...</th>\n",
       "      <th>hardship_payoff_balance_amount</th>\n",
       "      <th>hardship_last_payment_amount</th>\n",
       "      <th>disbursement_method</th>\n",
       "      <th>debt_settlement_flag</th>\n",
       "      <th>debt_settlement_flag_date</th>\n",
       "      <th>settlement_status</th>\n",
       "      <th>settlement_date</th>\n",
       "      <th>settlement_amount</th>\n",
       "      <th>settlement_percentage</th>\n",
       "      <th>settlement_term</th>\n",
       "    </tr>\n",
       "  </thead>\n",
       "  <tbody>\n",
       "    <tr>\n",
       "      <th>0</th>\n",
       "      <td>NaN</td>\n",
       "      <td>NaN</td>\n",
       "      <td>8650.0</td>\n",
       "      <td>8650.0</td>\n",
       "      <td>8650.0</td>\n",
       "      <td>36 months</td>\n",
       "      <td>19.89%</td>\n",
       "      <td>320.99</td>\n",
       "      <td>E</td>\n",
       "      <td>E3</td>\n",
       "      <td>...</td>\n",
       "      <td>NaN</td>\n",
       "      <td>NaN</td>\n",
       "      <td>Cash</td>\n",
       "      <td>N</td>\n",
       "      <td>NaN</td>\n",
       "      <td>NaN</td>\n",
       "      <td>NaN</td>\n",
       "      <td>NaN</td>\n",
       "      <td>NaN</td>\n",
       "      <td>NaN</td>\n",
       "    </tr>\n",
       "    <tr>\n",
       "      <th>1</th>\n",
       "      <td>NaN</td>\n",
       "      <td>NaN</td>\n",
       "      <td>15000.0</td>\n",
       "      <td>15000.0</td>\n",
       "      <td>15000.0</td>\n",
       "      <td>36 months</td>\n",
       "      <td>9.80%</td>\n",
       "      <td>482.61</td>\n",
       "      <td>B</td>\n",
       "      <td>B3</td>\n",
       "      <td>...</td>\n",
       "      <td>NaN</td>\n",
       "      <td>NaN</td>\n",
       "      <td>Cash</td>\n",
       "      <td>N</td>\n",
       "      <td>NaN</td>\n",
       "      <td>NaN</td>\n",
       "      <td>NaN</td>\n",
       "      <td>NaN</td>\n",
       "      <td>NaN</td>\n",
       "      <td>NaN</td>\n",
       "    </tr>\n",
       "    <tr>\n",
       "      <th>2</th>\n",
       "      <td>NaN</td>\n",
       "      <td>NaN</td>\n",
       "      <td>14025.0</td>\n",
       "      <td>14025.0</td>\n",
       "      <td>14025.0</td>\n",
       "      <td>60 months</td>\n",
       "      <td>18.49%</td>\n",
       "      <td>359.90</td>\n",
       "      <td>D</td>\n",
       "      <td>D5</td>\n",
       "      <td>...</td>\n",
       "      <td>NaN</td>\n",
       "      <td>NaN</td>\n",
       "      <td>Cash</td>\n",
       "      <td>N</td>\n",
       "      <td>NaN</td>\n",
       "      <td>NaN</td>\n",
       "      <td>NaN</td>\n",
       "      <td>NaN</td>\n",
       "      <td>NaN</td>\n",
       "      <td>NaN</td>\n",
       "    </tr>\n",
       "    <tr>\n",
       "      <th>3</th>\n",
       "      <td>NaN</td>\n",
       "      <td>NaN</td>\n",
       "      <td>20000.0</td>\n",
       "      <td>20000.0</td>\n",
       "      <td>20000.0</td>\n",
       "      <td>36 months</td>\n",
       "      <td>9.80%</td>\n",
       "      <td>643.47</td>\n",
       "      <td>B</td>\n",
       "      <td>B3</td>\n",
       "      <td>...</td>\n",
       "      <td>NaN</td>\n",
       "      <td>NaN</td>\n",
       "      <td>Cash</td>\n",
       "      <td>N</td>\n",
       "      <td>NaN</td>\n",
       "      <td>NaN</td>\n",
       "      <td>NaN</td>\n",
       "      <td>NaN</td>\n",
       "      <td>NaN</td>\n",
       "      <td>NaN</td>\n",
       "    </tr>\n",
       "    <tr>\n",
       "      <th>4</th>\n",
       "      <td>NaN</td>\n",
       "      <td>NaN</td>\n",
       "      <td>15000.0</td>\n",
       "      <td>15000.0</td>\n",
       "      <td>15000.0</td>\n",
       "      <td>60 months</td>\n",
       "      <td>13.44%</td>\n",
       "      <td>344.69</td>\n",
       "      <td>C</td>\n",
       "      <td>C3</td>\n",
       "      <td>...</td>\n",
       "      <td>NaN</td>\n",
       "      <td>NaN</td>\n",
       "      <td>Cash</td>\n",
       "      <td>N</td>\n",
       "      <td>NaN</td>\n",
       "      <td>NaN</td>\n",
       "      <td>NaN</td>\n",
       "      <td>NaN</td>\n",
       "      <td>NaN</td>\n",
       "      <td>NaN</td>\n",
       "    </tr>\n",
       "  </tbody>\n",
       "</table>\n",
       "<p>5 rows × 145 columns</p>\n",
       "</div>"
      ],
      "text/plain": [
       "    id  member_id  loan_amnt  funded_amnt  funded_amnt_inv        term  \\\n",
       "0  NaN        NaN     8650.0       8650.0           8650.0   36 months   \n",
       "1  NaN        NaN    15000.0      15000.0          15000.0   36 months   \n",
       "2  NaN        NaN    14025.0      14025.0          14025.0   60 months   \n",
       "3  NaN        NaN    20000.0      20000.0          20000.0   36 months   \n",
       "4  NaN        NaN    15000.0      15000.0          15000.0   60 months   \n",
       "\n",
       "  int_rate  installment grade sub_grade       ...        \\\n",
       "0   19.89%       320.99     E        E3       ...         \n",
       "1    9.80%       482.61     B        B3       ...         \n",
       "2   18.49%       359.90     D        D5       ...         \n",
       "3    9.80%       643.47     B        B3       ...         \n",
       "4   13.44%       344.69     C        C3       ...         \n",
       "\n",
       "  hardship_payoff_balance_amount hardship_last_payment_amount  \\\n",
       "0                            NaN                          NaN   \n",
       "1                            NaN                          NaN   \n",
       "2                            NaN                          NaN   \n",
       "3                            NaN                          NaN   \n",
       "4                            NaN                          NaN   \n",
       "\n",
       "  disbursement_method  debt_settlement_flag debt_settlement_flag_date  \\\n",
       "0                Cash                     N                       NaN   \n",
       "1                Cash                     N                       NaN   \n",
       "2                Cash                     N                       NaN   \n",
       "3                Cash                     N                       NaN   \n",
       "4                Cash                     N                       NaN   \n",
       "\n",
       "  settlement_status settlement_date settlement_amount  settlement_percentage  \\\n",
       "0               NaN             NaN               NaN                    NaN   \n",
       "1               NaN             NaN               NaN                    NaN   \n",
       "2               NaN             NaN               NaN                    NaN   \n",
       "3               NaN             NaN               NaN                    NaN   \n",
       "4               NaN             NaN               NaN                    NaN   \n",
       "\n",
       "  settlement_term  \n",
       "0             NaN  \n",
       "1             NaN  \n",
       "2             NaN  \n",
       "3             NaN  \n",
       "4             NaN  \n",
       "\n",
       "[5 rows x 145 columns]"
      ]
     },
     "execution_count": 13,
     "metadata": {},
     "output_type": "execute_result"
    }
   ],
   "source": [
    "loans_df = pd.read_csv(\n",
    "    'LoanStats3d.csv',\n",
    "    skipinitialspace=True,\n",
    "    header=1\n",
    ")\n",
    "\n",
    "loans_df.head()\n",
    "# Note the warning about dtypes."
   ]
  },
  {
   "cell_type": "markdown",
   "metadata": {},
   "source": [
    "Check types:"
   ]
  },
  {
   "cell_type": "code",
   "execution_count": 14,
   "metadata": {
    "scrolled": false
   },
   "outputs": [
    {
     "data": {
      "text/plain": [
       "id                                             object\n",
       "member_id                                     float64\n",
       "loan_amnt                                     float64\n",
       "funded_amnt                                   float64\n",
       "funded_amnt_inv                               float64\n",
       "term                                           object\n",
       "int_rate                                       object\n",
       "installment                                   float64\n",
       "grade                                          object\n",
       "sub_grade                                      object\n",
       "emp_title                                      object\n",
       "emp_length                                     object\n",
       "home_ownership                                 object\n",
       "annual_inc                                    float64\n",
       "verification_status                            object\n",
       "issue_d                                        object\n",
       "loan_status                                    object\n",
       "pymnt_plan                                     object\n",
       "url                                           float64\n",
       "desc                                           object\n",
       "purpose                                        object\n",
       "title                                          object\n",
       "zip_code                                       object\n",
       "addr_state                                     object\n",
       "dti                                           float64\n",
       "delinq_2yrs                                   float64\n",
       "earliest_cr_line                               object\n",
       "inq_last_6mths                                float64\n",
       "mths_since_last_delinq                        float64\n",
       "mths_since_last_record                        float64\n",
       "                                               ...   \n",
       "sec_app_open_acc                              float64\n",
       "sec_app_revol_util                            float64\n",
       "sec_app_open_act_il                           float64\n",
       "sec_app_num_rev_accts                         float64\n",
       "sec_app_chargeoff_within_12_mths              float64\n",
       "sec_app_collections_12_mths_ex_med            float64\n",
       "sec_app_mths_since_last_major_derog           float64\n",
       "hardship_flag                                  object\n",
       "hardship_type                                  object\n",
       "hardship_reason                                object\n",
       "hardship_status                                object\n",
       "deferral_term                                 float64\n",
       "hardship_amount                               float64\n",
       "hardship_start_date                            object\n",
       "hardship_end_date                              object\n",
       "payment_plan_start_date                        object\n",
       "hardship_length                               float64\n",
       "hardship_dpd                                  float64\n",
       "hardship_loan_status                           object\n",
       "orig_projected_additional_accrued_interest    float64\n",
       "hardship_payoff_balance_amount                float64\n",
       "hardship_last_payment_amount                  float64\n",
       "disbursement_method                            object\n",
       "debt_settlement_flag                           object\n",
       "debt_settlement_flag_date                      object\n",
       "settlement_status                              object\n",
       "settlement_date                                object\n",
       "settlement_amount                             float64\n",
       "settlement_percentage                         float64\n",
       "settlement_term                               float64\n",
       "Length: 145, dtype: object"
      ]
     },
     "execution_count": 14,
     "metadata": {},
     "output_type": "execute_result"
    }
   ],
   "source": [
    "loans_df.dtypes"
   ]
  },
  {
   "cell_type": "markdown",
   "metadata": {},
   "source": [
    "And check our NaNs:"
   ]
  },
  {
   "cell_type": "code",
   "execution_count": 15,
   "metadata": {
    "scrolled": true
   },
   "outputs": [
    {
     "data": {
      "text/plain": [
       "id                                            421095\n",
       "member_id                                     421095\n",
       "loan_amnt                                          0\n",
       "funded_amnt                                        0\n",
       "funded_amnt_inv                                    0\n",
       "term                                               0\n",
       "int_rate                                           0\n",
       "installment                                        0\n",
       "grade                                              0\n",
       "sub_grade                                          0\n",
       "emp_title                                      23874\n",
       "emp_length                                     23817\n",
       "home_ownership                                     0\n",
       "annual_inc                                         0\n",
       "verification_status                                0\n",
       "issue_d                                            0\n",
       "loan_status                                        0\n",
       "pymnt_plan                                         0\n",
       "url                                           421095\n",
       "desc                                          421050\n",
       "purpose                                            0\n",
       "title                                            132\n",
       "zip_code                                           0\n",
       "addr_state                                         0\n",
       "dti                                                2\n",
       "delinq_2yrs                                        0\n",
       "earliest_cr_line                                   0\n",
       "inq_last_6mths                                     0\n",
       "mths_since_last_delinq                        203962\n",
       "mths_since_last_record                        346680\n",
       "                                               ...  \n",
       "sec_app_open_acc                              421095\n",
       "sec_app_revol_util                            421095\n",
       "sec_app_open_act_il                           421095\n",
       "sec_app_num_rev_accts                         421095\n",
       "sec_app_chargeoff_within_12_mths              421095\n",
       "sec_app_collections_12_mths_ex_med            421095\n",
       "sec_app_mths_since_last_major_derog           421095\n",
       "hardship_flag                                      0\n",
       "hardship_type                                 418959\n",
       "hardship_reason                               418959\n",
       "hardship_status                               418959\n",
       "deferral_term                                 418959\n",
       "hardship_amount                               418959\n",
       "hardship_start_date                           418959\n",
       "hardship_end_date                             418959\n",
       "payment_plan_start_date                       418959\n",
       "hardship_length                               418959\n",
       "hardship_dpd                                  418959\n",
       "hardship_loan_status                          418959\n",
       "orig_projected_additional_accrued_interest    419343\n",
       "hardship_payoff_balance_amount                418959\n",
       "hardship_last_payment_amount                  418959\n",
       "disbursement_method                                0\n",
       "debt_settlement_flag                               0\n",
       "debt_settlement_flag_date                     413458\n",
       "settlement_status                             413458\n",
       "settlement_date                               413458\n",
       "settlement_amount                             413458\n",
       "settlement_percentage                         413458\n",
       "settlement_term                               413458\n",
       "Length: 145, dtype: int64"
      ]
     },
     "execution_count": 15,
     "metadata": {},
     "output_type": "execute_result"
    }
   ],
   "source": [
    "loans_df = loans_df[:-2] # last two rows are all NaNs\n",
    "loans_df.isnull().sum()"
   ]
  },
  {
   "cell_type": "markdown",
   "metadata": {},
   "source": [
    "So, we've got a bunch of columns that have way too many nulls to keep as they are.  Since we have 145 features, we can afford to just drop these columns.  After glancing through the numbers above, it looks like 3,000 NaNs will be a good drop threshold for us."
   ]
  },
  {
   "cell_type": "code",
   "execution_count": 16,
   "metadata": {},
   "outputs": [],
   "source": [
    "for column in loans_df:\n",
    "    if loans_df[column].isnull().sum() > 3000:\n",
    "        loans_df.drop(column, axis=1, inplace=True)"
   ]
  },
  {
   "cell_type": "markdown",
   "metadata": {},
   "source": [
    "And let's look at the columns that still have significant numbers of NaNs:"
   ]
  },
  {
   "cell_type": "code",
   "execution_count": 17,
   "metadata": {
    "scrolled": false
   },
   "outputs": [
    {
     "name": "stdout",
     "output_type": "stream",
     "text": [
      "('title', 132)\n",
      "('revol_util', 162)\n",
      "('last_pymnt_d', 294)\n"
     ]
    }
   ],
   "source": [
    "for column in loans_df:\n",
    "    if loans_df[column].isnull().sum() > 30:\n",
    "        print((column, loans_df[column].isnull().sum()))"
   ]
  },
  {
   "cell_type": "code",
   "execution_count": 18,
   "metadata": {},
   "outputs": [
    {
     "data": {
      "text/plain": [
       "599"
      ]
     },
     "execution_count": 18,
     "metadata": {},
     "output_type": "execute_result"
    }
   ],
   "source": [
    "len(loans_df) - len(loans_df.dropna())"
   ]
  },
  {
   "cell_type": "markdown",
   "metadata": {},
   "source": [
    "There are only three remaining columns - but they look like they might be important, especially last payment date.  And if we drop the rows containing all remaining NaNs, we'd only lose 600 rows out of 42,000.  We can live with that.  Let's do it."
   ]
  },
  {
   "cell_type": "code",
   "execution_count": 19,
   "metadata": {},
   "outputs": [],
   "source": [
    "loans_df.dropna(inplace=True)"
   ]
  },
  {
   "cell_type": "markdown",
   "metadata": {},
   "source": [
    "# Solving the dummy-variable-proliferation problem\n",
    "The initial run of this random forest took a long time (15 minutes) because generating dummy variables from our categorical variables expands our 78 post-cleaning columns to 3205 columns.  This means that one or more of the following must be true:\n",
    "- some columns that should be quantitative must be getting read as categorical\n",
    "- there's a string column that's basically unique for each entry\n",
    "\n",
    "From taking a look at the spreadhseet manually, I can see that there's no unique-string column, so some quantitative column(s) must be getting parsed as categorical.  Manual investigation turns up the following issues:\n",
    "- PROBLEM: *int_rate* and *revol_util* have a % sign, so they're getting typed as strings and dummied as categoricals. \n",
    "- SOLUTION: convert them to floats.\n",
    "- PROBLEM: *earliest_cr_line* and *last-pymnt-d* and *last_credit_pull_d* are just month-year strings, which are going to generate hundreds of dummy columns.  \n",
    "- SOLUTION: I should split the date columns into a number for year, and a number for month.  It would also be useful to convert that year to 2015-(year of last credit line) so that it represents a ratio rather than interval variable (capturing how long it's been since their first credit line). \n",
    "- PROBLEM: *zip_code* should maybe be dropped - it's a categorical variable with more than a hundred different values.\n",
    "- SOLUTION: We'll drop the column for now.  If our accuracy scores aren't cutting it, we can consider re-adding.\n",
    "\n",
    "I'll execute the solutions below, in the order listed above."
   ]
  },
  {
   "cell_type": "code",
   "execution_count": 20,
   "metadata": {
    "scrolled": true
   },
   "outputs": [
    {
     "name": "stdout",
     "output_type": "stream",
     "text": [
      "Column count before conversions: 78\n",
      "Column count after conversions: 81\n"
     ]
    }
   ],
   "source": [
    "print(\"Column count before conversions: \" + str(len(loans_df.columns)))\n",
    "\n",
    "# convert percentage columns to floats after removing % sign\n",
    "loans_df[\"int_rate\"] = loans_df.int_rate.str[:-1].astype(float)\n",
    "loans_df[\"revol_util\"] = loans_df.revol_util.str[:-1].astype(float)\n",
    "\n",
    "# convert dates to two columns: month and elapsed years\n",
    "loans_df[\"earliest_crline_month\"] = pd.to_datetime(loans_df.earliest_cr_line).dt.month\n",
    "loans_df[\"earliest_crline_yrspast\"] = 2015 - pd.to_datetime(loans_df.earliest_cr_line).dt.year\n",
    "\n",
    "loans_df[\"last_pymnt_month\"] = pd.to_datetime(loans_df.last_pymnt_d).dt.month\n",
    "loans_df[\"last_pymnt_yrspast\"] = 2015 - pd.to_datetime(loans_df.last_pymnt_d).dt.year\n",
    "\n",
    "loans_df[\"last_crpull_month\"] = pd.to_datetime(loans_df.last_credit_pull_d).dt.month\n",
    "loans_df[\"last_crpull_yrspast\"] = 2015 - pd.to_datetime(loans_df.last_credit_pull_d).dt.year\n",
    "\n",
    "loans_df.drop([\"earliest_cr_line\", \"last_pymnt_d\", \"last_credit_pull_d\"], axis=1, inplace=True)\n",
    "\n",
    "print(\"Column count after conversions: \" + str(len(loans_df.columns)))"
   ]
  },
  {
   "cell_type": "code",
   "execution_count": 21,
   "metadata": {},
   "outputs": [],
   "source": [
    "# drop zip_code\n",
    "loans_df.drop(\"zip_code\", axis=1, inplace=True)"
   ]
  },
  {
   "cell_type": "code",
   "execution_count": null,
   "metadata": {},
   "outputs": [],
   "source": [
    "# if I need to reload data quickly:\n",
    "# loans_df = pd.read_csv(\"loans_cleaned.csv\").drop(\"zip_code\", axis=1, inplace=True)"
   ]
  },
  {
   "cell_type": "markdown",
   "metadata": {},
   "source": [
    "And let's take a look at our target variable values just to see what we're dealing with:"
   ]
  },
  {
   "cell_type": "code",
   "execution_count": 22,
   "metadata": {
    "scrolled": true
   },
   "outputs": [
    {
     "data": {
      "text/plain": [
       "Fully Paid            202362\n",
       "Current               145915\n",
       "Charged Off            64250\n",
       "Late (31-120 days)      4622\n",
       "In Grace Period         2039\n",
       "Late (16-30 days)       1219\n",
       "Default                   89\n",
       "Name: loan_status, dtype: int64"
      ]
     },
     "execution_count": 22,
     "metadata": {},
     "output_type": "execute_result"
    }
   ],
   "source": [
    "loans_df.loan_status.value_counts()"
   ]
  },
  {
   "cell_type": "markdown",
   "metadata": {},
   "source": [
    "Looks good - not terribly skewed, excpet for the small number of defaults.  If we were trying to predict defaults in particular, we'd need to account for that with some weighting (or use a different model, like anomaly detection)."
   ]
  },
  {
   "cell_type": "markdown",
   "metadata": {},
   "source": [
    "# Feature reduction\n",
    "Now that the initial dummy-column-proliferation problem is solved, let's take a look at feature importance and see how many unimportant features we can cut without losing too much accuracy.  \n",
    "\n",
    "A note on feature reduction methods: I think that PCA will be a poor choice of method here because many of the variables are categorical.  Because these work out to be 0-to-1 binary dummy variables, they'll never match the variance of the quantitative variables no matter how important they are.  And of course we can't use PLSR because our target variable is categorical rather than quantitative.  Instead, I'll pull feature importances from the RFC and try a couple possible thresholds for eliminating less significant features.\n",
    "\n",
    "First let's run the full model with only the small cuts made above:"
   ]
  },
  {
   "cell_type": "code",
   "execution_count": 24,
   "metadata": {},
   "outputs": [
    {
     "data": {
      "text/plain": [
       "array([0.98868068, 0.98906116, 0.98848989, 0.98806183, 0.98756243,\n",
       "       0.98863231, 0.98653951, 0.98259174, 0.98489857, 0.92493935])"
      ]
     },
     "execution_count": 24,
     "metadata": {},
     "output_type": "execute_result"
    }
   ],
   "source": [
    "from sklearn import ensemble\n",
    "from sklearn.model_selection import cross_val_score\n",
    "\n",
    "rfc = ensemble.RandomForestClassifier()\n",
    "X = loans_df.drop('loan_status', axis=1)\n",
    "Y = loans_df['loan_status']\n",
    "X = pd.get_dummies(X)\n",
    "X = X.dropna(axis=1)\n",
    "\n",
    "cross_val_score(rfc, X, Y, cv=10)"
   ]
  },
  {
   "cell_type": "markdown",
   "metadata": {},
   "source": [
    "Despite dropping the zip_code feature, these results are slightly better than the Thinkful version: the mean and median are slightly higher and the single lower outlier is 0.92 rather than 0.87 in the Thinkful results.  And this runs in about four minutes - a major improvement (the Thinkful version took almost twenty minutes on my machine).\n",
    "\n",
    "Now let's take a look at our feature importances:"
   ]
  },
  {
   "cell_type": "code",
   "execution_count": null,
   "metadata": {
    "scrolled": true
   },
   "outputs": [],
   "source": [
    "rfc.fit(X, Y)\n",
    "importances = rfc.feature_importances_\n",
    "labeled_importances = []\n",
    "for i in range(len(X.columns)):\n",
    "    labeled_importances.append( (importances[i], X.columns[i]) )\n",
    "labeled_importances.sort(reverse=True)\n",
    "top_5 = [tup[1] for tup in labeled_importances[:5]]\n",
    "top_10 = [tup[1] for tup in labeled_importances[:10]]\n",
    "top_20 = [tup[1] for tup in labeled_importances[:20]]\n",
    "top_30 = [tup[1] for tup in labeled_importances[:30]]\n"
   ]
  },
  {
   "cell_type": "code",
   "execution_count": 63,
   "metadata": {
    "scrolled": true
   },
   "outputs": [
    {
     "data": {
      "image/png": "[encoded data removed]",
      "text/plain": [
       "<matplotlib.figure.Figure at 0x12ff06a90>"
      ]
     },
     "metadata": {},
     "output_type": "display_data"
    }
   ],
   "source": [
    "plt.figure(figsize=(12,6))\n",
    "x_imp = [tup[1] for tup in labeled_importances[:25]]\n",
    "y_labels = [tup[0] for tup in labeled_importances[:25]]\n",
    "sns.barplot(x_imp, y_labels)\n",
    "plt.xticks(rotation=90)\n",
    "plt.tight_layout()\n",
    "plt.show()"
   ]
  },
  {
   "cell_type": "markdown",
   "metadata": {},
   "source": [
    "From looking at the ordered feature list above, we can see that the most important features in predicting loan status are:\n",
    "- the amount still unpaid (out_prncp, out_prncp_inv)\n",
    "- the amount recovered after a chargeoff was declared (loan deemed unlikely to be collected)\n",
    "- the last amount paid, and how many years ago it was paid\n",
    "- the total amount paid to date\n",
    "- the month of the last payment\n",
    "\n",
    "The highly insignificant features are mostly dummy variables from multi-category columns (such as U.S. state), which get diluted by the dummying.  The zero-significance features are anomalous entries into the title or purpose columns.\n",
    "\n",
    "Now let's set about our initial goal of reducing our dataset without losing too much accuracy.  We'll try using only the top 1 feature, top 2 features, top 3 features, etc. and see how each raise in number of top features affects our accuracy."
   ]
  },
  {
   "cell_type": "code",
   "execution_count": null,
   "metadata": {},
   "outputs": [],
   "source": [
    "top_n_features = [1,2,3,4,5,6,8,10,12,14,17,20,25,30]\n",
    "accuracies = []\n",
    "# this loop calculates \n",
    "for n in top_n_features:\n",
    "    cols = [tup[1] for tup in labeled_importances[:n]]\n",
    "    X_temp = X[cols]\n",
    "    rfc_temp = ensemble.RandomForestClassifier()\n",
    "    acc = np.mean(cross_val_score(rfc_temp, X_temp, Y, cv=3))\n",
    "    accuracies.append(round(acc, 3))"
   ]
  },
  {
   "cell_type": "code",
   "execution_count": 29,
   "metadata": {},
   "outputs": [
    {
     "name": "stdout",
     "output_type": "stream",
     "text": [
      "[0.474, 0.473, 0.464, 0.51, 0.465, 0.761, 0.872, 0.922, 0.945, 0.942, 0.941, 0.98, 0.98, 0.982]\n"
     ]
    }
   ],
   "source": [
    "print(accuracies)"
   ]
  },
  {
   "cell_type": "code",
   "execution_count": 42,
   "metadata": {},
   "outputs": [
    {
     "data": {
      "image/png": "[encoded data removed]",
      "text/plain": [
       "<matplotlib.figure.Figure at 0x163c6bf28>"
      ]
     },
     "metadata": {},
     "output_type": "display_data"
    }
   ],
   "source": [
    "# the above takes a long time to run, so I'll manually copy the values here for reruns:\n",
    "accuracies_saved = [0.474, 0.473, 0.464, 0.51, 0.465, 0.761, 0.872, 0.922, 0.945, 0.942, 0.941, 0.98, 0.98, 0.982]\n",
    "top_n_features = [1,2,3,4,5,6,8,10,12,14,17,20,25,30]\n",
    "plt.figure(figsize=(8,6))\n",
    "plt.scatter(top_n_features, accuracies_saved, s=90)\n",
    "plt.title(\"Accuracy when the top X features are used by the model\")\n",
    "plt.xlabel(\"Number of top features included\")\n",
    "plt.ylabel(\"Accuracy\")\n",
    "plt.ylim((0,1.05))\n",
    "plt.show()"
   ]
  },
  {
   "cell_type": "markdown",
   "metadata": {},
   "source": [
    "From these results we can draw several conclusions.  First, in answer to the initial prompt: we can reduce the dataset to 10 features and still get 90% accuracy.  Second, the accuracy hits 0.980 with the top 20 features and then proceeds slowly along an asymptote toward the 0.988 maximum accuracy achieved by using the full dataset.  If computational cost is a consideration, I would recommend including only the top 20, as the gains from there onward are very marginal.\n",
    "\n",
    "Lastly, the prompt asked to see what was possible without using anything to do with the payment amount or outstanding principal, which includes by far the most important feature (out_prncp is three times the importance of the next most important feature) and half of the top 10.  In fact, their cumulative imporance is well over 0.5, which is to say, over half the importance of the entire model.  Well, let's give it a try."
   ]
  },
  {
   "cell_type": "code",
   "execution_count": 38,
   "metadata": {},
   "outputs": [
    {
     "name": "stdout",
     "output_type": "stream",
     "text": [
      "0.9057136424178444\n"
     ]
    }
   ],
   "source": [
    "cols = [tup[1] for tup in labeled_importances[:30]]\n",
    "X_temp = X[cols].copy()\n",
    "X_temp.drop(['out_prncp', 'out_prncp_inv', 'last_pymnt_amnt', 'total_rec_prncp', 'total_pymnt', 'total_pymnt_inv'], axis=1, inplace=True)\n",
    "rfc_temp = ensemble.RandomForestClassifier()\n",
    "acc = np.mean(cross_val_score(rfc_temp, X_temp, Y, cv=3))\n",
    "print(acc)"
   ]
  },
  {
   "cell_type": "markdown",
   "metadata": {},
   "source": [
    "It looks like the maximum accuracy we're going to get without the payment amount and outstanding principal features will be around 0.91.  That's shockingly little reduction from 0.98 given that we removed over half of the cumulative feature importance of the last model.  Before drawing conclusions, let's also look at which features this model is placing importance on instead of the ones we removed:"
   ]
  },
  {
   "cell_type": "code",
   "execution_count": null,
   "metadata": {},
   "outputs": [],
   "source": [
    "rfc_temp.fit(X_temp, Y)\n",
    "importances_temp = rfc_temp.feature_importances_\n",
    "labeled_importances_temp = []\n",
    "for i in range(len(X_temp.columns)):\n",
    "    labeled_importances_temp.append( (importances_temp[i], X_temp.columns[i]) )\n",
    "labeled_importances_temp.sort(reverse=True)"
   ]
  },
  {
   "cell_type": "code",
   "execution_count": 67,
   "metadata": {},
   "outputs": [
    {
     "data": {
      "text/plain": [
       "[(0.2350521446224235, 'last_pymnt_amnt'),\n",
       " (0.16839304012379785, 'out_prncp_inv'),\n",
       " (0.11855717279480779, 'out_prncp'),\n",
       " (0.06957455156179387, 'last_pymnt_yrspast'),\n",
       " (0.06295084463145335, 'collection_recovery_fee'),\n",
       " (0.04407760969257311, 'total_rec_prncp'),\n",
       " (0.035419645133464225, 'last_crpull_month'),\n",
       " (0.034709318078442235, 'recoveries')]"
      ]
     },
     "execution_count": 67,
     "metadata": {},
     "output_type": "execute_result"
    }
   ],
   "source": [
    "labeled_importances[:8]"
   ]
  },
  {
   "cell_type": "code",
   "execution_count": 65,
   "metadata": {},
   "outputs": [
    {
     "data": {
      "image/png": "[encoded data removed]",
      "text/plain": [
       "<matplotlib.figure.Figure at 0x163e9d5c0>"
      ]
     },
     "metadata": {},
     "output_type": "display_data"
    }
   ],
   "source": [
    "plt.figure(figsize=(12,6))\n",
    "x_imp = [tup[1] for tup in labeled_importances_temp[:25]]\n",
    "y_labels = [tup[0] for tup in labeled_importances_temp[:25]]\n",
    "sns.barplot(x_imp, y_labels)\n",
    "plt.xticks(rotation=90)\n",
    "plt.tight_layout()\n",
    "plt.show()"
   ]
  },
  {
   "cell_type": "markdown",
   "metadata": {},
   "source": [
    "Interesting.  My overall takeaway from this is that random forest models are very robust to removing features.  Granted, this effect is partly owed to the cumulative correlation of the remaining features with the missing features.  But such correlation will be present in most large featuresets.  If we look at the new most important variables above, it looks like the model has shifted importance to time features (years since last payment, month of last payment), which will have only a limited correlation with amount features we removed.  This means that the importance shift is mostly a genuine adaptive shift the model has made, rather than directly picking out correlations with the missing features from remaining features.  \n",
    "\n",
    "Overall, the robustness and adaptation demonstrated here is a very impressive characteristic for this type of model."
   ]
  },
  {
   "cell_type": "markdown",
   "metadata": {},
   "source": [
    "# Followup question for Jason:\n",
    "\n",
    "If I were really trying to optimize performance here, what other random forest parameters should I tweak?  For instance, I could look at a linear regression learning curve and toggle the regularization parameter accordingly, or look at the variable relationships and the residuals distribution to change feature exponents.  But what could I look at here, and what changes would I make in light of what I'd see?"
   ]
  }
 ],
 "metadata": {
  "kernelspec": {
   "display_name": "Python 3",
   "language": "python",
   "name": "python3"
  },
  "language_info": {
   "codemirror_mode": {
    "name": "ipython",
    "version": 3
   },
   "file_extension": ".py",
   "mimetype": "text/x-python",
   "name": "python",
   "nbconvert_exporter": "python",
   "pygments_lexer": "ipython3",
   "version": "3.6.4"
  }
 },
 "nbformat": 4,
 "nbformat_minor": 2
}
