{
 "cells": [
  {
   "cell_type": "markdown",
   "metadata": {},
   "source": [
    "# Instructions\n",
    "So here's your task. Get rid of as much data as possible without dropping below an average of 90% accuracy in a 10-fold cross validation.\n",
    "\n",
    "You'll want to do a few things in this process. First, dive into the data that we have and see which features are most important. This can be the raw features or the generated dummies. You may want to use PCA or correlation matrices.\n",
    "\n",
    "Can you do it without using anything related to payment amount or outstanding principal? How do you know?"
   ]
  },
  {
   "cell_type": "markdown",
   "metadata": {},
   "source": [
    "# Load and clean"
   ]
  },
  {
   "cell_type": "code",
   "execution_count": 2,
   "metadata": {},
   "outputs": [],
   "source": [
    "import pandas as pd\n",
    "import numpy as np\n",
    "import scipy as sp\n",
    "import seaborn as sns\n",
    "import matplotlib.pyplot as plt\n",
    "%matplotlib inline\n",
    "sns.set()"
   ]
  },
  {
   "cell_type": "code",
   "execution_count": 13,
   "metadata": {
    "scrolled": false
   },
   "outputs": [
    {
     "name": "stderr",
     "output_type": "stream",
     "text": [
      "/usr/local/lib/python3.6/site-packages/IPython/core/interactiveshell.py:2728: DtypeWarning: Columns (0,19,55) have mixed types. Specify dtype option on import or set low_memory=False.\n",
      "  interactivity=interactivity, compiler=compiler, result=result)\n"
     ]
    },
    {
     "data": {
      "text/html": [
       "<div>\n",
       "<style scoped>\n",
       "    .dataframe tbody tr th:only-of-type {\n",
       "        vertical-align: middle;\n",
       "    }\n",
       "\n",
       "    .dataframe tbody tr th {\n",
       "        vertical-align: top;\n",
       "    }\n",
       "\n",
       "    .dataframe thead th {\n",
       "        text-align: right;\n",
       "    }\n",
       "</style>\n",
       "<table border=\"1\" class=\"dataframe\">\n",
       "  <thead>\n",
       "    <tr style=\"text-align: right;\">\n",
       "      <th></th>\n",
       "      <th>id</th>\n",
       "      <th>member_id</th>\n",
       "      <th>loan_amnt</th>\n",
       "      <th>funded_amnt</th>\n",
       "      <th>funded_amnt_inv</th>\n",
       "      <th>term</th>\n",
       "      <th>int_rate</th>\n",
       "      <th>installment</th>\n",
       "      <th>grade</th>\n",
       "      <th>sub_grade</th>\n",
       "      <th>...</th>\n",
       "      <th>hardship_payoff_balance_amount</th>\n",
       "      <th>hardship_last_payment_amount</th>\n",
       "      <th>disbursement_method</th>\n",
       "      <th>debt_settlement_flag</th>\n",
       "      <th>debt_settlement_flag_date</th>\n",
       "      <th>settlement_status</th>\n",
       "      <th>settlement_date</th>\n",
       "      <th>settlement_amount</th>\n",
       "      <th>settlement_percentage</th>\n",
       "      <th>settlement_term</th>\n",
       "    </tr>\n",
       "  </thead>\n",
       "  <tbody>\n",
       "    <tr>\n",
       "      <th>0</th>\n",
       "      <td>NaN</td>\n",
       "      <td>NaN</td>\n",
       "      <td>8650.0</td>\n",
       "      <td>8650.0</td>\n",
       "      <td>8650.0</td>\n",
       "      <td>36 months</td>\n",
       "      <td>19.89%</td>\n",
       "      <td>320.99</td>\n",
       "      <td>E</td>\n",
       "      <td>E3</td>\n",
       "      <td>...</td>\n",
       "      <td>NaN</td>\n",
       "      <td>NaN</td>\n",
       "      <td>Cash</td>\n",
       "      <td>N</td>\n",
       "      <td>NaN</td>\n",
       "      <td>NaN</td>\n",
       "      <td>NaN</td>\n",
       "      <td>NaN</td>\n",
       "      <td>NaN</td>\n",
       "      <td>NaN</td>\n",
       "    </tr>\n",
       "    <tr>\n",
       "      <th>1</th>\n",
       "      <td>NaN</td>\n",
       "      <td>NaN</td>\n",
       "      <td>15000.0</td>\n",
       "      <td>15000.0</td>\n",
       "      <td>15000.0</td>\n",
       "      <td>36 months</td>\n",
       "      <td>9.80%</td>\n",
       "      <td>482.61</td>\n",
       "      <td>B</td>\n",
       "      <td>B3</td>\n",
       "      <td>...</td>\n",
       "      <td>NaN</td>\n",
       "      <td>NaN</td>\n",
       "      <td>Cash</td>\n",
       "      <td>N</td>\n",
       "      <td>NaN</td>\n",
       "      <td>NaN</td>\n",
       "      <td>NaN</td>\n",
       "      <td>NaN</td>\n",
       "      <td>NaN</td>\n",
       "      <td>NaN</td>\n",
       "    </tr>\n",
       "    <tr>\n",
       "      <th>2</th>\n",
       "      <td>NaN</td>\n",
       "      <td>NaN</td>\n",
       "      <td>14025.0</td>\n",
       "      <td>14025.0</td>\n",
       "      <td>14025.0</td>\n",
       "      <td>60 months</td>\n",
       "      <td>18.49%</td>\n",
       "      <td>359.90</td>\n",
       "      <td>D</td>\n",
       "      <td>D5</td>\n",
       "      <td>...</td>\n",
       "      <td>NaN</td>\n",
       "      <td>NaN</td>\n",
       "      <td>Cash</td>\n",
       "      <td>N</td>\n",
       "      <td>NaN</td>\n",
       "      <td>NaN</td>\n",
       "      <td>NaN</td>\n",
       "      <td>NaN</td>\n",
       "      <td>NaN</td>\n",
       "      <td>NaN</td>\n",
       "    </tr>\n",
       "    <tr>\n",
       "      <th>3</th>\n",
       "      <td>NaN</td>\n",
       "      <td>NaN</td>\n",
       "      <td>20000.0</td>\n",
       "      <td>20000.0</td>\n",
       "      <td>20000.0</td>\n",
       "      <td>36 months</td>\n",
       "      <td>9.80%</td>\n",
       "      <td>643.47</td>\n",
       "      <td>B</td>\n",
       "      <td>B3</td>\n",
       "      <td>...</td>\n",
       "      <td>NaN</td>\n",
       "      <td>NaN</td>\n",
       "      <td>Cash</td>\n",
       "      <td>N</td>\n",
       "      <td>NaN</td>\n",
       "      <td>NaN</td>\n",
       "      <td>NaN</td>\n",
       "      <td>NaN</td>\n",
       "      <td>NaN</td>\n",
       "      <td>NaN</td>\n",
       "    </tr>\n",
       "    <tr>\n",
       "      <th>4</th>\n",
       "      <td>NaN</td>\n",
       "      <td>NaN</td>\n",
       "      <td>15000.0</td>\n",
       "      <td>15000.0</td>\n",
       "      <td>15000.0</td>\n",
       "      <td>60 months</td>\n",
       "      <td>13.44%</td>\n",
       "      <td>344.69</td>\n",
       "      <td>C</td>\n",
       "      <td>C3</td>\n",
       "      <td>...</td>\n",
       "      <td>NaN</td>\n",
       "      <td>NaN</td>\n",
       "      <td>Cash</td>\n",
       "      <td>N</td>\n",
       "      <td>NaN</td>\n",
       "      <td>NaN</td>\n",
       "      <td>NaN</td>\n",
       "      <td>NaN</td>\n",
       "      <td>NaN</td>\n",
       "      <td>NaN</td>\n",
       "    </tr>\n",
       "  </tbody>\n",
       "</table>\n",
       "<p>5 rows × 145 columns</p>\n",
       "</div>"
      ],
      "text/plain": [
       "    id  member_id  loan_amnt  funded_amnt  funded_amnt_inv        term  \\\n",
       "0  NaN        NaN     8650.0       8650.0           8650.0   36 months   \n",
       "1  NaN        NaN    15000.0      15000.0          15000.0   36 months   \n",
       "2  NaN        NaN    14025.0      14025.0          14025.0   60 months   \n",
       "3  NaN        NaN    20000.0      20000.0          20000.0   36 months   \n",
       "4  NaN        NaN    15000.0      15000.0          15000.0   60 months   \n",
       "\n",
       "  int_rate  installment grade sub_grade       ...        \\\n",
       "0   19.89%       320.99     E        E3       ...         \n",
       "1    9.80%       482.61     B        B3       ...         \n",
       "2   18.49%       359.90     D        D5       ...         \n",
       "3    9.80%       643.47     B        B3       ...         \n",
       "4   13.44%       344.69     C        C3       ...         \n",
       "\n",
       "  hardship_payoff_balance_amount hardship_last_payment_amount  \\\n",
       "0                            NaN                          NaN   \n",
       "1                            NaN                          NaN   \n",
       "2                            NaN                          NaN   \n",
       "3                            NaN                          NaN   \n",
       "4                            NaN                          NaN   \n",
       "\n",
       "  disbursement_method  debt_settlement_flag debt_settlement_flag_date  \\\n",
       "0                Cash                     N                       NaN   \n",
       "1                Cash                     N                       NaN   \n",
       "2                Cash                     N                       NaN   \n",
       "3                Cash                     N                       NaN   \n",
       "4                Cash                     N                       NaN   \n",
       "\n",
       "  settlement_status settlement_date settlement_amount  settlement_percentage  \\\n",
       "0               NaN             NaN               NaN                    NaN   \n",
       "1               NaN             NaN               NaN                    NaN   \n",
       "2               NaN             NaN               NaN                    NaN   \n",
       "3               NaN             NaN               NaN                    NaN   \n",
       "4               NaN             NaN               NaN                    NaN   \n",
       "\n",
       "  settlement_term  \n",
       "0             NaN  \n",
       "1             NaN  \n",
       "2             NaN  \n",
       "3             NaN  \n",
       "4             NaN  \n",
       "\n",
       "[5 rows x 145 columns]"
      ]
     },
     "execution_count": 13,
     "metadata": {},
     "output_type": "execute_result"
    }
   ],
   "source": [
    "loans_df = pd.read_csv(\n",
    "    'LoanStats3d.csv',\n",
    "    skipinitialspace=True,\n",
    "    header=1\n",
    ")\n",
    "\n",
    "loans_df.head()\n",
    "# Note the warning about dtypes."
   ]
  },
  {
   "cell_type": "markdown",
   "metadata": {},
   "source": [
    "Check types:"
   ]
  },
  {
   "cell_type": "code",
   "execution_count": 14,
   "metadata": {
    "scrolled": false
   },
   "outputs": [
    {
     "data": {
      "text/plain": [
       "id                                             object\n",
       "member_id                                     float64\n",
       "loan_amnt                                     float64\n",
       "funded_amnt                                   float64\n",
       "funded_amnt_inv                               float64\n",
       "term                                           object\n",
       "int_rate                                       object\n",
       "installment                                   float64\n",
       "grade                                          object\n",
       "sub_grade                                      object\n",
       "emp_title                                      object\n",
       "emp_length                                     object\n",
       "home_ownership                                 object\n",
       "annual_inc                                    float64\n",
       "verification_status                            object\n",
       "issue_d                                        object\n",
       "loan_status                                    object\n",
       "pymnt_plan                                     object\n",
       "url                                           float64\n",
       "desc                                           object\n",
       "purpose                                        object\n",
       "title                                          object\n",
       "zip_code                                       object\n",
       "addr_state                                     object\n",
       "dti                                           float64\n",
       "delinq_2yrs                                   float64\n",
       "earliest_cr_line                               object\n",
       "inq_last_6mths                                float64\n",
       "mths_since_last_delinq                        float64\n",
       "mths_since_last_record                        float64\n",
       "                                               ...   \n",
       "sec_app_open_acc                              float64\n",
       "sec_app_revol_util                            float64\n",
       "sec_app_open_act_il                           float64\n",
       "sec_app_num_rev_accts                         float64\n",
       "sec_app_chargeoff_within_12_mths              float64\n",
       "sec_app_collections_12_mths_ex_med            float64\n",
       "sec_app_mths_since_last_major_derog           float64\n",
       "hardship_flag                                  object\n",
       "hardship_type                                  object\n",
       "hardship_reason                                object\n",
       "hardship_status                                object\n",
       "deferral_term                                 float64\n",
       "hardship_amount                               float64\n",
       "hardship_start_date                            object\n",
       "hardship_end_date                              object\n",
       "payment_plan_start_date                        object\n",
       "hardship_length                               float64\n",
       "hardship_dpd                                  float64\n",
       "hardship_loan_status                           object\n",
       "orig_projected_additional_accrued_interest    float64\n",
       "hardship_payoff_balance_amount                float64\n",
       "hardship_last_payment_amount                  float64\n",
       "disbursement_method                            object\n",
       "debt_settlement_flag                           object\n",
       "debt_settlement_flag_date                      object\n",
       "settlement_status                              object\n",
       "settlement_date                                object\n",
       "settlement_amount                             float64\n",
       "settlement_percentage                         float64\n",
       "settlement_term                               float64\n",
       "Length: 145, dtype: object"
      ]
     },
     "execution_count": 14,
     "metadata": {},
     "output_type": "execute_result"
    }
   ],
   "source": [
    "loans_df.dtypes"
   ]
  },
  {
   "cell_type": "markdown",
   "metadata": {},
   "source": [
    "And check our NaNs:"
   ]
  },
  {
   "cell_type": "code",
   "execution_count": 15,
   "metadata": {
    "scrolled": true
   },
   "outputs": [
    {
     "data": {
      "text/plain": [
       "id                                            421095\n",
       "member_id                                     421095\n",
       "loan_amnt                                          0\n",
       "funded_amnt                                        0\n",
       "funded_amnt_inv                                    0\n",
       "term                                               0\n",
       "int_rate                                           0\n",
       "installment                                        0\n",
       "grade                                              0\n",
       "sub_grade                                          0\n",
       "emp_title                                      23874\n",
       "emp_length                                     23817\n",
       "home_ownership                                     0\n",
       "annual_inc                                         0\n",
       "verification_status                                0\n",
       "issue_d                                            0\n",
       "loan_status                                        0\n",
       "pymnt_plan                                         0\n",
       "url                                           421095\n",
       "desc                                          421050\n",
       "purpose                                            0\n",
       "title                                            132\n",
       "zip_code                                           0\n",
       "addr_state                                         0\n",
       "dti                                                2\n",
       "delinq_2yrs                                        0\n",
       "earliest_cr_line                                   0\n",
       "inq_last_6mths                                     0\n",
       "mths_since_last_delinq                        203962\n",
       "mths_since_last_record                        346680\n",
       "                                               ...  \n",
       "sec_app_open_acc                              421095\n",
       "sec_app_revol_util                            421095\n",
       "sec_app_open_act_il                           421095\n",
       "sec_app_num_rev_accts                         421095\n",
       "sec_app_chargeoff_within_12_mths              421095\n",
       "sec_app_collections_12_mths_ex_med            421095\n",
       "sec_app_mths_since_last_major_derog           421095\n",
       "hardship_flag                                      0\n",
       "hardship_type                                 418959\n",
       "hardship_reason                               418959\n",
       "hardship_status                               418959\n",
       "deferral_term                                 418959\n",
       "hardship_amount                               418959\n",
       "hardship_start_date                           418959\n",
       "hardship_end_date                             418959\n",
       "payment_plan_start_date                       418959\n",
       "hardship_length                               418959\n",
       "hardship_dpd                                  418959\n",
       "hardship_loan_status                          418959\n",
       "orig_projected_additional_accrued_interest    419343\n",
       "hardship_payoff_balance_amount                418959\n",
       "hardship_last_payment_amount                  418959\n",
       "disbursement_method                                0\n",
       "debt_settlement_flag                               0\n",
       "debt_settlement_flag_date                     413458\n",
       "settlement_status                             413458\n",
       "settlement_date                               413458\n",
       "settlement_amount                             413458\n",
       "settlement_percentage                         413458\n",
       "settlement_term                               413458\n",
       "Length: 145, dtype: int64"
      ]
     },
     "execution_count": 15,
     "metadata": {},
     "output_type": "execute_result"
    }
   ],
   "source": [
    "loans_df = loans_df[:-2] # last two rows are all NaNs\n",
    "loans_df.isnull().sum()"
   ]
  },
  {
   "cell_type": "markdown",
   "metadata": {},
   "source": [
    "So, we've got a bunch of columns that have way too many nulls to keep as they are.  Since we have 145 features, we can afford to just drop these columns.  After glancing through the numbers above, it looks like 3,000 NaNs will be a good drop threshold for us."
   ]
  },
  {
   "cell_type": "code",
   "execution_count": 16,
   "metadata": {},
   "outputs": [],
   "source": [
    "for column in loans_df:\n",
    "    if loans_df[column].isnull().sum() > 3000:\n",
    "        loans_df.drop(column, axis=1, inplace=True)"
   ]
  },
  {
   "cell_type": "markdown",
   "metadata": {},
   "source": [
    "And let's look at the columns that still have significant numbers of NaNs:"
   ]
  },
  {
   "cell_type": "code",
   "execution_count": 17,
   "metadata": {
    "scrolled": false
   },
   "outputs": [
    {
     "name": "stdout",
     "output_type": "stream",
     "text": [
      "('title', 132)\n",
      "('revol_util', 162)\n",
      "('last_pymnt_d', 294)\n"
     ]
    }
   ],
   "source": [
    "for column in loans_df:\n",
    "    if loans_df[column].isnull().sum() > 30:\n",
    "        print((column, loans_df[column].isnull().sum()))"
   ]
  },
  {
   "cell_type": "code",
   "execution_count": 18,
   "metadata": {},
   "outputs": [
    {
     "data": {
      "text/plain": [
       "599"
      ]
     },
     "execution_count": 18,
     "metadata": {},
     "output_type": "execute_result"
    }
   ],
   "source": [
    "len(loans_df) - len(loans_df.dropna())"
   ]
  },
  {
   "cell_type": "markdown",
   "metadata": {},
   "source": [
    "There are only three remaining columns - but they look like they might be important, especially last payment date.  And if we drop the rows containing all remaining NaNs, we'd only lose 600 rows out of 42,000.  We can live with that.  Let's do it."
   ]
  },
  {
   "cell_type": "code",
   "execution_count": 19,
   "metadata": {},
   "outputs": [],
   "source": [
    "loans_df.dropna(inplace=True)"
   ]
  },
  {
   "cell_type": "markdown",
   "metadata": {},
   "source": [
    "# Solving the dummy-variable-proliferation problem\n",
    "The initial run of this random forest took a long time (15 minutes) because generating dummy variables from our categorical variables expands our 78 post-cleaning columns to 3205 columns.  This means that one or more of the following must be true:\n",
    "- some columns that should be quantitative must be getting read as categorical\n",
    "- there's a string column that's basically unique for each entry\n",
    "\n",
    "From taking a look at the spreadhseet manually, I can see that there's no unique-string column, so some quantitative column(s) must be getting parsed as categorical.  Manual investigation turns up the following issues:\n",
    "- PROBLEM: *int_rate* and *revol_util* have a % sign, so they're getting typed as strings and dummied as categoricals. \n",
    "- SOLUTION: convert them to floats.\n",
    "- PROBLEM: *earliest_cr_line* and *last-pymnt-d* and *last_credit_pull_d* are just month-year strings, which are going to generate hundreds of dummy columns.  \n",
    "- SOLUTION: I should split the date columns into a number for year, and a number for month.  It would also be useful to convert that year to 2015-(year of last credit line) so that it represents a ratio rather than interval variable (capturing how long it's been since their first credit line). \n",
    "- PROBLEM: *zip_code* should maybe be dropped - it's a categorical variable with more than a hundred different values.\n",
    "- SOLUTION: We'll drop the column for now.  If our accuracy scores aren't cutting it, we can consider re-adding.\n",
    "\n",
    "I'll execute the solutions below, in the order listed above."
   ]
  },
  {
   "cell_type": "code",
   "execution_count": 20,
   "metadata": {
    "scrolled": true
   },
   "outputs": [
    {
     "name": "stdout",
     "output_type": "stream",
     "text": [
      "Column count before conversions: 78\n",
      "Column count after conversions: 81\n"
     ]
    }
   ],
   "source": [
    "print(\"Column count before conversions: \" + str(len(loans_df.columns)))\n",
    "\n",
    "# convert percentage columns to floats after removing % sign\n",
    "loans_df[\"int_rate\"] = loans_df.int_rate.str[:-1].astype(float)\n",
    "loans_df[\"revol_util\"] = loans_df.revol_util.str[:-1].astype(float)\n",
    "\n",
    "# convert dates to two columns: month and elapsed years\n",
    "loans_df[\"earliest_crline_month\"] = pd.to_datetime(loans_df.earliest_cr_line).dt.month\n",
    "loans_df[\"earliest_crline_yrspast\"] = 2015 - pd.to_datetime(loans_df.earliest_cr_line).dt.year\n",
    "\n",
    "loans_df[\"last_pymnt_month\"] = pd.to_datetime(loans_df.last_pymnt_d).dt.month\n",
    "loans_df[\"last_pymnt_yrspast\"] = 2015 - pd.to_datetime(loans_df.last_pymnt_d).dt.year\n",
    "\n",
    "loans_df[\"last_crpull_month\"] = pd.to_datetime(loans_df.last_credit_pull_d).dt.month\n",
    "loans_df[\"last_crpull_yrspast\"] = 2015 - pd.to_datetime(loans_df.last_credit_pull_d).dt.year\n",
    "\n",
    "loans_df.drop([\"earliest_cr_line\", \"last_pymnt_d\", \"last_credit_pull_d\"], axis=1, inplace=True)\n",
    "\n",
    "print(\"Column count after conversions: \" + str(len(loans_df.columns)))"
   ]
  },
  {
   "cell_type": "code",
   "execution_count": 21,
   "metadata": {},
   "outputs": [],
   "source": [
    "# drop zip_code\n",
    "loans_df.drop(\"zip_code\", axis=1, inplace=True)"
   ]
  },
  {
   "cell_type": "code",
   "execution_count": null,
   "metadata": {},
   "outputs": [],
   "source": [
    "# if I need to reload data quickly:\n",
    "# loans_df = pd.read_csv(\"loans_cleaned.csv\").drop(\"zip_code\", axis=1, inplace=True)"
   ]
  },
  {
   "cell_type": "markdown",
   "metadata": {},
   "source": [
    "And let's take a look at our target variable values just to see what we're dealing with:"
   ]
  },
  {
   "cell_type": "code",
   "execution_count": 22,
   "metadata": {
    "scrolled": true
   },
   "outputs": [
    {
     "data": {
      "text/plain": [
       "Fully Paid            202362\n",
       "Current               145915\n",
       "Charged Off            64250\n",
       "Late (31-120 days)      4622\n",
       "In Grace Period         2039\n",
       "Late (16-30 days)       1219\n",
       "Default                   89\n",
       "Name: loan_status, dtype: int64"
      ]
     },
     "execution_count": 22,
     "metadata": {},
     "output_type": "execute_result"
    }
   ],
   "source": [
    "loans_df.loan_status.value_counts()"
   ]
  },
  {
   "cell_type": "markdown",
   "metadata": {},
   "source": [
    "Looks good - not terribly skewed, excpet for the small number of defaults.  If we were trying to predict defaults in particular, we'd need to account for that with some weighting (or use a different model, like anomaly detection)."
   ]
  },
  {
   "cell_type": "markdown",
   "metadata": {},
   "source": [
    "# Feature reduction\n",
    "Now that the initial dummy-column-proliferation problem is solved, let's take a look at feature importance and see how many unimportant features we can cut without losing too much accuracy.  \n",
    "\n",
    "A note on feature reduction methods: I think that PCA will be a poor choice of method here because many of the variables are categorical.  Because these work out to be 0-to-1 binary dummy variables, they'll never match the variance of the quantitative variables no matter how important they are.  And of course we can't use PLSR because our target variable is categorical rather than quantitative.  Instead, I'll pull feature importances from the RFC and try a couple possible thresholds for eliminating less significant features.\n",
    "\n",
    "First let's run the full model with only the small cuts made above:"
   ]
  },
  {
   "cell_type": "code",
   "execution_count": 24,
   "metadata": {},
   "outputs": [
    {
     "data": {
      "text/plain": [
       "array([0.98868068, 0.98906116, 0.98848989, 0.98806183, 0.98756243,\n",
       "       0.98863231, 0.98653951, 0.98259174, 0.98489857, 0.92493935])"
      ]
     },
     "execution_count": 24,
     "metadata": {},
     "output_type": "execute_result"
    }
   ],
   "source": [
    "from sklearn import ensemble\n",
    "from sklearn.model_selection import cross_val_score\n",
    "\n",
    "rfc = ensemble.RandomForestClassifier()\n",
    "X = loans_df.drop('loan_status', axis=1)\n",
    "Y = loans_df['loan_status']\n",
    "X = pd.get_dummies(X)\n",
    "X = X.dropna(axis=1)\n",
    "\n",
    "cross_val_score(rfc, X, Y, cv=10)"
   ]
  },
  {
   "cell_type": "markdown",
   "metadata": {},
   "source": [
    "Despite dropping the zip_code feature, these results are slightly better than the Thinkful version: the mean and median are slightly higher and the single lower outlier is 0.92 rather than 0.87 in the Thinkful results.  And this runs in about four minutes - a major improvement (the Thinkful version took almost twenty minutes on my machine).\n",
    "\n",
    "Now let's take a look at our feature importances:"
   ]
  },
  {
   "cell_type": "code",
   "execution_count": 25,
   "metadata": {
    "scrolled": true
   },
   "outputs": [
    {
     "data": {
      "text/plain": [
       "[(0.29076455625293585, 'out_prncp'),\n",
       " (0.10193710525821258, 'out_prncp_inv'),\n",
       " (0.09024069715259152, 'recoveries'),\n",
       " (0.07434215270064146, 'last_pymnt_yrspast'),\n",
       " (0.07283023290074128, 'last_pymnt_amnt'),\n",
       " (0.05725146614759506, 'total_rec_prncp'),\n",
       " (0.04755720612233652, 'last_pymnt_month'),\n",
       " (0.0282492888243283, 'total_pymnt_inv'),\n",
       " (0.026140073413638738, 'total_pymnt'),\n",
       " (0.019952395352825305, 'last_crpull_month'),\n",
       " (0.019706822603131977, 'collection_recovery_fee'),\n",
       " (0.0188469905763629, 'total_rec_int'),\n",
       " (0.01702381536690044, 'funded_amnt'),\n",
       " (0.014235362192846934, 'funded_amnt_inv'),\n",
       " (0.012119560441447913, 'loan_amnt'),\n",
       " (0.01037101691645996, 'installment'),\n",
       " (0.00949502943841387, 'term_ 60 months'),\n",
       " (0.007605992123959777, 'last_crpull_yrspast'),\n",
       " (0.00689978922114669, 'debt_settlement_flag_Y'),\n",
       " (0.006015069950211093, 'debt_settlement_flag_N'),\n",
       " (0.004514663573898193, 'term_ 36 months'),\n",
       " (0.004382769960719823, 'int_rate'),\n",
       " (0.004302538869627818, 'total_rec_late_fee'),\n",
       " (0.0034387682673563307, 'issue_d_Jan-2015'),\n",
       " (0.001772882872549932, 'revol_bal'),\n",
       " (0.0016003247812284818, 'avg_cur_bal'),\n",
       " (0.001539502048150052, 'dti'),\n",
       " (0.0014874994745776517, 'acc_open_past_24mths'),\n",
       " (0.0014858770908849274, 'annual_inc'),\n",
       " (0.0014209283492890175, 'revol_util'),\n",
       " (0.0013418823241370971, 'total_rev_hi_lim'),\n",
       " (0.0013171670707295175, 'tot_cur_bal'),\n",
       " (0.0013091532957187897, 'total_bc_limit'),\n",
       " (0.0013073231102105972, 'mo_sin_old_rev_tl_op'),\n",
       " (0.0012086201656923117, 'tot_hi_cred_lim'),\n",
       " (0.0011776130256749922, 'total_bal_ex_mort'),\n",
       " (0.0011114427250807275, 'mo_sin_rcnt_tl'),\n",
       " (0.0011110441067531168, 'total_il_high_credit_limit'),\n",
       " (0.0010916553231764342, 'earliest_crline_yrspast'),\n",
       " (0.0010698922087842779, 'total_acc'),\n",
       " (0.0010560119361908559, 'mo_sin_rcnt_rev_tl_op'),\n",
       " (0.0010129863625248962, 'num_il_tl'),\n",
       " (0.0009908796183278714, 'issue_d_Feb-2015'),\n",
       " (0.0009900530190388016, 'num_rev_tl_bal_gt_0'),\n",
       " (0.0009765585420076584, 'num_bc_tl'),\n",
       " (0.0009687131098064532, 'num_actv_rev_tl'),\n",
       " (0.0009590186660347595, 'num_rev_accts'),\n",
       " (0.0008743239717701821, 'issue_d_Mar-2015'),\n",
       " (0.0008615630654380975, 'open_acc'),\n",
       " (0.0008432385050223007, 'num_sats'),\n",
       " (0.0008386745410763589, 'num_op_rev_tl'),\n",
       " (0.00079845685382189, 'pct_tl_nvr_dlq'),\n",
       " (0.0007760493085513067, 'num_bc_sats'),\n",
       " (0.0007558184372570928, 'earliest_crline_month'),\n",
       " (0.0007285595960983698, 'num_actv_bc_tl'),\n",
       " (0.0006355772090589063, 'num_tl_op_past_12m'),\n",
       " (0.0005887133257983887, 'issue_d_Oct-2015'),\n",
       " (0.0005522225758705108, 'mort_acc'),\n",
       " (0.0005090242361543105, 'initial_list_status_w'),\n",
       " (0.0005018808998907838, 'purpose_debt_consolidation'),\n",
       " (0.0004334675766449062, 'inq_last_6mths'),\n",
       " (0.0004064487428196941, 'tot_coll_amt'),\n",
       " (0.00040176093191563914, 'verification_status_Not Verified'),\n",
       " (0.0003899195750836042, 'home_ownership_MORTGAGE'),\n",
       " (0.00034322320821962625, 'delinq_2yrs'),\n",
       " (0.0003297738862267992, 'issue_d_Dec-2015'),\n",
       " (0.0003199254189835923, 'num_accts_ever_120_pd'),\n",
       " (0.0002621827915910991, 'pub_rec'),\n",
       " (0.00023813207309036875, 'initial_list_status_f'),\n",
       " (0.00023704562901461683, 'hardship_flag_N'),\n",
       " (0.0002340365114977149, 'issue_d_Jul-2015'),\n",
       " (0.00023096961995231892, 'issue_d_Aug-2015'),\n",
       " (0.0002308552652251651, 'title_Debt consolidation'),\n",
       " (0.00022781991323750876, 'verification_status_Verified'),\n",
       " (0.00022279053255761834, 'issue_d_Sep-2015'),\n",
       " (0.00021281497608418735, 'issue_d_Nov-2015'),\n",
       " (0.00021175143910244515, 'grade_A'),\n",
       " (0.00020675085045116572, 'hardship_flag_Y'),\n",
       " (0.00020657445706024998, 'grade_B'),\n",
       " (0.00018958537708137896, 'grade_C'),\n",
       " (0.00018735856481933984, 'verification_status_Source Verified'),\n",
       " (0.0001867387174325315, 'issue_d_Apr-2015'),\n",
       " (0.00018442221736571842, 'pub_rec_bankruptcies'),\n",
       " (0.00017662629421908707, 'issue_d_May-2015'),\n",
       " (0.00017644188286836584, 'home_ownership_RENT'),\n",
       " (0.00016813305687112242, 'title_Credit card refinancing'),\n",
       " (0.00016360344338298136, 'addr_state_CA'),\n",
       " (0.00016089322161841362, 'num_tl_90g_dpd_24m'),\n",
       " (0.00015810889402082342, 'purpose_credit_card'),\n",
       " (0.00015358571037411183, 'home_ownership_OWN'),\n",
       " (0.0001504910467528934, 'grade_E'),\n",
       " (0.00014822970042317502, 'title_Other'),\n",
       " (0.0001420871707105028, 'issue_d_Jun-2015'),\n",
       " (0.0001409555668720139, 'grade_D'),\n",
       " (0.00014012000053981814, 'addr_state_NY'),\n",
       " (0.00013500403922338714, 'addr_state_FL'),\n",
       " (0.00013317277590038667, 'addr_state_TX'),\n",
       " (0.00013183208310074395, 'tax_liens'),\n",
       " (0.00012330871467630466, 'grade_F'),\n",
       " (0.0001210603824977099, 'sub_grade_C1'),\n",
       " (0.00011890444922512567, 'pymnt_plan_y'),\n",
       " (0.00010624787961584915, 'sub_grade_C2'),\n",
       " (0.00010558329633335672, 'pymnt_plan_n'),\n",
       " (0.00010518438186241945, 'addr_state_NJ'),\n",
       " (0.0001049526822078938, 'addr_state_NC'),\n",
       " (0.00010367213635098643, 'purpose_other'),\n",
       " (0.00010206662367788051, 'sub_grade_C4'),\n",
       " (0.00010119451064662602, 'sub_grade_C3'),\n",
       " (0.00010117437843721402, 'addr_state_IL'),\n",
       " (9.969752663683583e-05, 'purpose_home_improvement'),\n",
       " (9.734843137413549e-05, 'addr_state_GA'),\n",
       " (9.697532522887053e-05, 'sub_grade_D2'),\n",
       " (9.370574066712199e-05, 'addr_state_PA'),\n",
       " (9.300709962022029e-05, 'title_Home improvement'),\n",
       " (9.111267831283486e-05, 'addr_state_CT'),\n",
       " (8.96007804883741e-05, 'addr_state_MD'),\n",
       " (8.770079296881961e-05, 'sub_grade_A2'),\n",
       " (8.68108041357438e-05, 'sub_grade_B4'),\n",
       " (8.643574111949673e-05, 'collections_12_mths_ex_med'),\n",
       " (8.383891466513876e-05, 'sub_grade_D1'),\n",
       " (8.372272247665963e-05, 'sub_grade_B5'),\n",
       " (8.282644594295845e-05, 'sub_grade_C5'),\n",
       " (8.111093025021325e-05, 'addr_state_AZ'),\n",
       " (8.038930768282027e-05, 'sub_grade_B3'),\n",
       " (8.035930970983556e-05, 'title_Major purchase'),\n",
       " (7.983641580359289e-05, 'addr_state_OH'),\n",
       " (7.590010282641001e-05, 'addr_state_CO'),\n",
       " (7.474455248252291e-05, 'addr_state_TN'),\n",
       " (7.40703794113801e-05, 'addr_state_VA'),\n",
       " (7.277971556397323e-05, 'sub_grade_E2'),\n",
       " (7.231608390508976e-05, 'sub_grade_E4'),\n",
       " (7.006814100880376e-05, 'sub_grade_E1'),\n",
       " (6.671547386942258e-05, 'sub_grade_D5'),\n",
       " (6.65452414205761e-05, 'addr_state_MI'),\n",
       " (6.56636289706795e-05, 'addr_state_KY'),\n",
       " (6.555899280576436e-05, 'sub_grade_D4'),\n",
       " (6.530836541128946e-05, 'addr_state_IN'),\n",
       " (6.508917299064993e-05, 'addr_state_AR'),\n",
       " (6.324538321641683e-05, 'sub_grade_D3'),\n",
       " (6.25697618607448e-05, 'addr_state_AL'),\n",
       " (6.24862348088336e-05, 'addr_state_SC'),\n",
       " (6.0584259313929584e-05, 'sub_grade_B2'),\n",
       " (6.025555198539254e-05, 'addr_state_LA'),\n",
       " (5.9399192840956404e-05, 'addr_state_WI'),\n",
       " (5.8142303499680825e-05, 'sub_grade_A5'),\n",
       " (5.762060612622016e-05, 'addr_state_MA'),\n",
       " (5.5286212623914534e-05, 'addr_state_NV'),\n",
       " (5.465893341677011e-05, 'sub_grade_A4'),\n",
       " (5.404842667799878e-05, 'addr_state_MN'),\n",
       " (5.369270538383797e-05, 'addr_state_MO'),\n",
       " (5.2505536717172496e-05, 'addr_state_WA'),\n",
       " (5.083104953317871e-05, 'addr_state_OK'),\n",
       " (4.870274355007653e-05, 'sub_grade_B1'),\n",
       " (4.868437934150262e-05, 'addr_state_KS'),\n",
       " (4.823858400446533e-05, 'sub_grade_E3'),\n",
       " (4.8173229213813716e-05, 'addr_state_MS'),\n",
       " (4.75170103608161e-05, 'purpose_car'),\n",
       " (4.5344263382297185e-05, 'chargeoff_within_12_mths'),\n",
       " (4.512609876835768e-05, 'sub_grade_E5'),\n",
       " (4.495515054452726e-05, 'purpose_medical'),\n",
       " (4.4455303444291796e-05, 'purpose_major_purchase'),\n",
       " (4.385934351577833e-05, 'addr_state_HI'),\n",
       " (4.2436809789083355e-05, 'addr_state_OR'),\n",
       " (4.231491320353646e-05, 'sub_grade_A3'),\n",
       " (3.9992734711603886e-05, 'addr_state_WY'),\n",
       " (3.786086031673936e-05, 'title_Business'),\n",
       " (3.7730226968291844e-05, 'acc_now_delinq'),\n",
       " (3.7472468577446446e-05, 'title_Car financing'),\n",
       " (3.7399860580122984e-05, 'addr_state_WV'),\n",
       " (3.418309129966955e-05, 'title_Medical expenses'),\n",
       " (3.267323137608758e-05, 'addr_state_NM'),\n",
       " (3.0984927650694026e-05, 'sub_grade_F2'),\n",
       " (2.974230886070704e-05, 'purpose_small_business'),\n",
       " (2.968183846021606e-05, 'sub_grade_F1'),\n",
       " (2.95267818612636e-05, 'addr_state_DE'),\n",
       " (2.946491047632396e-05, 'delinq_amnt'),\n",
       " (2.824830269042878e-05, 'sub_grade_A1'),\n",
       " (2.812619093910717e-05, 'addr_state_SD'),\n",
       " (2.7035628007380387e-05, 'title_Moving and relocation'),\n",
       " (2.66251533013846e-05, 'sub_grade_F5'),\n",
       " (2.605792178837472e-05, 'addr_state_UT'),\n",
       " (2.5390549242895467e-05, 'addr_state_RI'),\n",
       " (2.4124178754543073e-05, 'num_tl_30dpd'),\n",
       " (2.3115087148147136e-05, 'addr_state_AK'),\n",
       " (2.2538071325608336e-05, 'addr_state_MT'),\n",
       " (2.2141216509797805e-05, 'addr_state_NH'),\n",
       " (2.18448916909678e-05, 'sub_grade_F3'),\n",
       " (2.1774536776574786e-05, 'purpose_vacation'),\n",
       " (2.1623529904114182e-05, 'addr_state_NE'),\n",
       " (2.1464683226678944e-05, 'purpose_moving'),\n",
       " (2.1276823816338664e-05, 'title_Vacation'),\n",
       " (2.0724908638803017e-05, 'addr_state_ME'),\n",
       " (1.807661456917209e-05, 'grade_G'),\n",
       " (1.5878419743215723e-05, 'sub_grade_F4'),\n",
       " (1.5279044535861145e-05, 'addr_state_ND'),\n",
       " (1.5243053599108372e-05, 'purpose_house'),\n",
       " (1.4927470315346389e-05, 'addr_state_DC'),\n",
       " (1.2975164287733012e-05, 'title_Home buying'),\n",
       " (1.2493750883044692e-05, 'sub_grade_G2'),\n",
       " (1.2056940365071076e-05, 'sub_grade_G1'),\n",
       " (1.1900416044665368e-05, 'sub_grade_G5'),\n",
       " (9.842202845219398e-06, 'sub_grade_G3'),\n",
       " (6.144972548326613e-06, 'application_type_Individual'),\n",
       " (5.791511648963724e-06, 'addr_state_VT'),\n",
       " (4.672476422456719e-06, 'sub_grade_G4'),\n",
       " (4.365671449872337e-06, 'purpose_renewable_energy'),\n",
       " (3.0199405072181294e-06, 'title_Paying off higher interest cards & auto'),\n",
       " (2.51756347449886e-06, 'application_type_Joint App'),\n",
       " (1.3908841157024732e-07, 'title_Green loan'),\n",
       " (0.0, 'title_odymeds'),\n",
       " (0.0, 'title_new kitchen for momma!'),\n",
       " (0.0, 'title_new day'),\n",
       " (0.0, 'title_considerate'),\n",
       " (0.0, 'title_Trying to come back to reality!'),\n",
       " (0.0, 'title_Student Loan'),\n",
       " (0.0, 'title_Simple Loan Until Contract Is Completed'),\n",
       " (0.0, 'title_SAVE'),\n",
       " (0.0, 'title_Prescription Drug and Medical Costs'),\n",
       " (0.0, 'title_Pay off Lowes Card'),\n",
       " (0.0, 'title_New Baby and New House (CC Consolidate)'),\n",
       " (0.0, 'title_Learning and training'),\n",
       " (0.0, 'title_DebtC'),\n",
       " (0.0, 'title_Credit Card/Auto Repair'),\n",
       " (0.0, 'purpose_wedding'),\n",
       " (0.0, 'purpose_educational'),\n",
       " (0.0, 'policy_code'),\n",
       " (0.0, 'home_ownership_ANY'),\n",
       " (0.0, 'disbursement_method_Cash')]"
      ]
     },
     "execution_count": 25,
     "metadata": {},
     "output_type": "execute_result"
    }
   ],
   "source": [
    "rfc.fit(X, Y)\n",
    "importances = rfc.feature_importances_\n",
    "labeled_importances = []\n",
    "for i in range(len(X.columns)):\n",
    "    labeled_importances.append( (importances[i], X.columns[i]) )\n",
    "labeled_importances.sort(reverse=True)\n",
    "top_5 = [tup[1] for tup in labeled_importances[:5]]\n",
    "top_10 = [tup[1] for tup in labeled_importances[:10]]\n",
    "top_20 = [tup[1] for tup in labeled_importances[:20]]\n",
    "top_30 = [tup[1] for tup in labeled_importances[:30]]\n",
    "labeled_importances"
   ]
  },
  {
   "cell_type": "markdown",
   "metadata": {},
   "source": [
    "From looking at the ordered feature list above, we can see that the most important features in predicting loan status are:\n",
    "- the amount still unpaid (out_prncp, out_prncp_inv)\n",
    "- the amount recovered after a chargeoff was declared (loan deemed unlikely to be collected)\n",
    "- the last amount paid, and how many years ago it was paid\n",
    "- the total amount paid to date\n",
    "- the month of the last payment\n",
    "\n",
    "The highly insignificant features are mostly dummy variables from multi-category columns (such as U.S. state), which get diluted by the dummying.  The zero-significance features are anomalous entries into the title or purpose columns.\n",
    "\n",
    "Now let's set about our initial goal of reducing our dataset without losing too much accuracy.  We'll try using only the top 1 feature, top 2 features, top 3 features, etc. and see how each raise in number of top features affects our accuracy."
   ]
  },
  {
   "cell_type": "code",
   "execution_count": null,
   "metadata": {},
   "outputs": [],
   "source": [
    "top_n_features = [1,2,3,4,5,6,8,10,12,14,17,20,25,30]\n",
    "accuracies = []\n",
    "# this loop calculates \n",
    "for n in top_n_features:\n",
    "    cols = [tup[1] for tup in labeled_importances[:n]]\n",
    "    X_temp = X[cols]\n",
    "    rfc_temp = ensemble.RandomForestClassifier()\n",
    "    acc = np.mean(cross_val_score(rfc_temp, X_temp, Y, cv=3))\n",
    "    accuracies.append(round(acc, 3))"
   ]
  },
  {
   "cell_type": "code",
   "execution_count": 29,
   "metadata": {},
   "outputs": [
    {
     "name": "stdout",
     "output_type": "stream",
     "text": [
      "[0.474, 0.473, 0.464, 0.51, 0.465, 0.761, 0.872, 0.922, 0.945, 0.942, 0.941, 0.98, 0.98, 0.982]\n"
     ]
    }
   ],
   "source": [
    "print(accuracies)"
   ]
  },
  {
   "cell_type": "code",
   "execution_count": 42,
   "metadata": {},
   "outputs": [
    {
     "data": {
      "image/png": "[encoded data removed]",
      "text/plain": [
       "<matplotlib.figure.Figure at 0x163c6bf28>"
      ]
     },
     "metadata": {},
     "output_type": "display_data"
    }
   ],
   "source": [
    "# the above takes a long time to run, so I'll manually copy the values here for reruns:\n",
    "accuracies_saved = [0.474, 0.473, 0.464, 0.51, 0.465, 0.761, 0.872, 0.922, 0.945, 0.942, 0.941, 0.98, 0.98, 0.982]\n",
    "top_n_features = [1,2,3,4,5,6,8,10,12,14,17,20,25,30]\n",
    "plt.figure(figsize=(8,6))\n",
    "plt.scatter(top_n_features, accuracies_saved, s=90)\n",
    "plt.title(\"Accuracy when the top X features are used by the model\")\n",
    "plt.xlabel(\"Number of top features included\")\n",
    "plt.ylabel(\"Accuracy\")\n",
    "plt.ylim((0,1.05))\n",
    "plt.show()"
   ]
  },
  {
   "cell_type": "markdown",
   "metadata": {},
   "source": [
    "From these results we can draw several conclusions.  First, in answer to the initial prompt: we can reduce the dataset to 10 features and still get 90% accuracy.  Second, the accuracy hits 0.980 with the top 20 features and then proceeds slowly along an asymptote toward the 0.988 maximum accuracy achieved by using the full dataset.  If computational cost is a consideration, I would recommend including only the top 20, as the gains from there onward are very marginal.\n",
    "\n",
    "Lastly, the prompt asked to see what was possible without using anything to do with the payment amount or outstanding principal, which includes by far the most important feature (out_prncp is three times the importance of the next most important feature) and half of the top 10.  In fact, their cumulative imporance is well over 0.5, which is to say, over half the importance of the entire model.  Well, let's give it a try."
   ]
  },
  {
   "cell_type": "code",
   "execution_count": 38,
   "metadata": {},
   "outputs": [
    {
     "name": "stdout",
     "output_type": "stream",
     "text": [
      "0.9057136424178444\n"
     ]
    }
   ],
   "source": [
    "cols = [tup[1] for tup in labeled_importances[:30]]\n",
    "X_temp = X[cols].copy()\n",
    "X_temp.drop(['out_prncp', 'out_prncp_inv', 'last_pymnt_amnt', 'total_rec_prncp', 'total_pymnt', 'total_pymnt_inv'], axis=1, inplace=True)\n",
    "rfc_temp = ensemble.RandomForestClassifier()\n",
    "acc = np.mean(cross_val_score(rfc_temp, X_temp, Y, cv=3))\n",
    "print(acc)"
   ]
  },
  {
   "cell_type": "markdown",
   "metadata": {},
   "source": [
    "It looks like the maximum accuracy we're going to get without the payment amount and outstanding principal features will be around 0.91.  That's shockingly little reduction from 0.98 given that we removed over half of the cumulative feature importance of the last model.  Before drawing conclusions, let's also look at which features this model is placing importance on instead of the ones we removed:"
   ]
  },
  {
   "cell_type": "code",
   "execution_count": 39,
   "metadata": {},
   "outputs": [
    {
     "data": {
      "text/plain": [
       "[(0.234312564514988, 'last_pymnt_yrspast'),\n",
       " (0.15210153086896802, 'last_pymnt_month'),\n",
       " (0.10339042893632655, 'recoveries'),\n",
       " (0.09126657811595706, 'last_crpull_month'),\n",
       " (0.055912767173068076, 'collection_recovery_fee'),\n",
       " (0.04851746415091897, 'last_crpull_yrspast'),\n",
       " (0.04586364316729872, 'total_rec_int'),\n",
       " (0.024879472550839794, 'avg_cur_bal'),\n",
       " (0.024080196856825282, 'dti'),\n",
       " (0.023202202401468294, 'revol_bal'),\n",
       " (0.023189910397617162, 'revol_util'),\n",
       " (0.022717480797355742, 'int_rate'),\n",
       " (0.0219874511420466, 'annual_inc'),\n",
       " (0.02001539814072707, 'installment'),\n",
       " (0.014362645842426313, 'acc_open_past_24mths'),\n",
       " (0.0138220827094685, 'funded_amnt_inv'),\n",
       " (0.012767273598151893, 'loan_amnt'),\n",
       " (0.012001798508481624, 'funded_amnt'),\n",
       " (0.010997348799867471, 'debt_settlement_flag_N'),\n",
       " (0.01051382803208684, 'term_ 36 months'),\n",
       " (0.010059666278013047, 'debt_settlement_flag_Y'),\n",
       " (0.00955375567011702, 'issue_d_Jan-2015'),\n",
       " (0.009017291709368658, 'total_rec_late_fee'),\n",
       " (0.005467219637613258, 'term_ 60 months')]"
      ]
     },
     "execution_count": 39,
     "metadata": {},
     "output_type": "execute_result"
    }
   ],
   "source": [
    "rfc_temp.fit(X_temp, Y)\n",
    "importances_temp = rfc_temp.feature_importances_\n",
    "labeled_importances_temp = []\n",
    "for i in range(len(X_temp.columns)):\n",
    "    labeled_importances_temp.append( (importances_temp[i], X_temp.columns[i]) )\n",
    "labeled_importances_temp.sort(reverse=True)\n",
    "labeled_importances_temp"
   ]
  },
  {
   "cell_type": "markdown",
   "metadata": {},
   "source": [
    "Interesting.  My overall takeaway from this is that random forest models are very robust to removing features.  Granted, this effect is partly owed to the cumulative correlation of the remaining features with the missing features.  But such correlation will be present in most large featuresets.  If we look at the new most important variables above, it looks like the model has shifted importance to time features (years since last payment, month of last payment), which will have only a limited correlation with amount features we removed.  This means that the importance shift is mostly a genuine adaptive shift the model has made, rather than directly picking out correlations with the missing features from remaining features.  \n",
    "\n",
    "Overall, the robustness and adaptation demonstrated here is a very impressive characteristic for this type of model."
   ]
  },
  {
   "cell_type": "markdown",
   "metadata": {},
   "source": [
    "# Followup question for Jason:\n",
    "\n",
    "If I were really trying to optimize performance here, what other random forest parameters should I tweak?  For instance, I could look at a linear regression learning curve and toggle the regularization parameter accordingly, or look at the variable relationships and the residuals distribution to change feature exponents.  But what could I look at here, and what changes would I make in light of what I'd see?"
   ]
  }
 ],
 "metadata": {
  "kernelspec": {
   "display_name": "Python 3",
   "language": "python",
   "name": "python3"
  },
  "language_info": {
   "codemirror_mode": {
    "name": "ipython",
    "version": 3
   },
   "file_extension": ".py",
   "mimetype": "text/x-python",
   "name": "python",
   "nbconvert_exporter": "python",
   "pygments_lexer": "ipython3",
   "version": "3.6.4"
  }
 },
 "nbformat": 4,
 "nbformat_minor": 2
}
