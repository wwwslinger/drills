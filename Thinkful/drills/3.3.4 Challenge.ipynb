{
 "cells": [
  {
   "cell_type": "code",
   "execution_count": 99,
   "metadata": {},
   "outputs": [],
   "source": [
    "import pandas as pd\n",
    "import numpy as np\n",
    "import scipy as sp\n",
    "import matplotlib.pyplot as plt\n",
    "import seaborn as sns\n",
    "sns.set()\n",
    "%matplotlib inline"
   ]
  },
  {
   "cell_type": "markdown",
   "metadata": {},
   "source": [
    "# Instructions\n",
    "\n",
    "Pick a dataset of your choice with a binary outcome and the potential for at least 15 features. If you're drawing a blank, the crime rates in 2013 dataset has a lot of variables that could be made into a modelable binary outcome.\n",
    "\n",
    "Engineer your features, then create three models. Each model will be run on a training set and a test-set (or multiple test-sets, if you take a folds approach). The models should be:\n",
    "\n",
    "- Vanilla logistic regression\n",
    "- Ridge logistic regression\n",
    "- Lasso logistic regression\n",
    "\n",
    "If you're stuck on how to begin combining your two new modeling skills, here's a hint: the SKlearn LogisticRegression method has a \"penalty\" argument that takes either 'l1' or 'l2' as a value.\n",
    "\n",
    "In your report, evaluate all three models and decide on your best. Be clear about the decisions you made that led to these models (feature selection, regularization parameter selection, model evaluation criteria) and why you think that particular model is the best of the three. Also reflect on the strengths and limitations of regression as a modeling approach. Were there things you couldn't do but you wish you could have done?"
   ]
  },
  {
   "cell_type": "markdown",
   "metadata": {},
   "source": [
    "# Load and clean\n",
    "\n",
    "This dataset contains detailed stats for all basketball games in the 2017-2018 NBA season.  I'm going to work on predicting wins and losses based on all stats that have nothing to do with shooting and scoring."
   ]
  },
  {
   "cell_type": "code",
   "execution_count": 2,
   "metadata": {
    "scrolled": false
   },
   "outputs": [
    {
     "data": {
      "text/html": [
       "<div>\n",
       "<style scoped>\n",
       "    .dataframe tbody tr th:only-of-type {\n",
       "        vertical-align: middle;\n",
       "    }\n",
       "\n",
       "    .dataframe tbody tr th {\n",
       "        vertical-align: top;\n",
       "    }\n",
       "\n",
       "    .dataframe thead th {\n",
       "        text-align: right;\n",
       "    }\n",
       "</style>\n",
       "<table border=\"1\" class=\"dataframe\">\n",
       "  <thead>\n",
       "    <tr style=\"text-align: right;\">\n",
       "      <th></th>\n",
       "      <th>gmDate</th>\n",
       "      <th>gmTime</th>\n",
       "      <th>seasTyp</th>\n",
       "      <th>offLNm1</th>\n",
       "      <th>offFNm1</th>\n",
       "      <th>offLNm2</th>\n",
       "      <th>offFNm2</th>\n",
       "      <th>offLNm3</th>\n",
       "      <th>offFNm3</th>\n",
       "      <th>teamAbbr</th>\n",
       "      <th>...</th>\n",
       "      <th>opptFIC40</th>\n",
       "      <th>opptOrtg</th>\n",
       "      <th>opptDrtg</th>\n",
       "      <th>opptEDiff</th>\n",
       "      <th>opptPlay%</th>\n",
       "      <th>opptAR</th>\n",
       "      <th>opptAST/TO</th>\n",
       "      <th>opptSTL/TO</th>\n",
       "      <th>poss</th>\n",
       "      <th>pace</th>\n",
       "    </tr>\n",
       "  </thead>\n",
       "  <tbody>\n",
       "    <tr>\n",
       "      <th>0</th>\n",
       "      <td>2017-10-17</td>\n",
       "      <td>08:00</td>\n",
       "      <td>Regular</td>\n",
       "      <td>Forte</td>\n",
       "      <td>Brian</td>\n",
       "      <td>Smith</td>\n",
       "      <td>Michael</td>\n",
       "      <td>McCutchen</td>\n",
       "      <td>Monty</td>\n",
       "      <td>BOS</td>\n",
       "      <td>...</td>\n",
       "      <td>55.5208</td>\n",
       "      <td>101.7143</td>\n",
       "      <td>98.7227</td>\n",
       "      <td>2.9916</td>\n",
       "      <td>0.4176</td>\n",
       "      <td>14.6154</td>\n",
       "      <td>1.1176</td>\n",
       "      <td>17.6471</td>\n",
       "      <td>100.2809</td>\n",
       "      <td>99.8648</td>\n",
       "    </tr>\n",
       "    <tr>\n",
       "      <th>1</th>\n",
       "      <td>2017-10-17</td>\n",
       "      <td>08:00</td>\n",
       "      <td>Regular</td>\n",
       "      <td>Forte</td>\n",
       "      <td>Brian</td>\n",
       "      <td>Smith</td>\n",
       "      <td>Michael</td>\n",
       "      <td>McCutchen</td>\n",
       "      <td>Monty</td>\n",
       "      <td>CLE</td>\n",
       "      <td>...</td>\n",
       "      <td>62.5519</td>\n",
       "      <td>98.7227</td>\n",
       "      <td>101.7143</td>\n",
       "      <td>-2.9916</td>\n",
       "      <td>0.3956</td>\n",
       "      <td>17.7778</td>\n",
       "      <td>2.0000</td>\n",
       "      <td>91.6667</td>\n",
       "      <td>100.2809</td>\n",
       "      <td>100.2809</td>\n",
       "    </tr>\n",
       "    <tr>\n",
       "      <th>2</th>\n",
       "      <td>2017-10-17</td>\n",
       "      <td>10:30</td>\n",
       "      <td>Regular</td>\n",
       "      <td>Maddox</td>\n",
       "      <td>Tre</td>\n",
       "      <td>Garretson</td>\n",
       "      <td>Ron</td>\n",
       "      <td>Foster</td>\n",
       "      <td>Scott</td>\n",
       "      <td>HOU</td>\n",
       "      <td>...</td>\n",
       "      <td>86.2033</td>\n",
       "      <td>118.0353</td>\n",
       "      <td>119.0108</td>\n",
       "      <td>-0.9755</td>\n",
       "      <td>0.4725</td>\n",
       "      <td>24.2442</td>\n",
       "      <td>2.0000</td>\n",
       "      <td>29.4118</td>\n",
       "      <td>102.5117</td>\n",
       "      <td>102.9406</td>\n",
       "    </tr>\n",
       "    <tr>\n",
       "      <th>3</th>\n",
       "      <td>2017-10-17</td>\n",
       "      <td>10:30</td>\n",
       "      <td>Regular</td>\n",
       "      <td>Maddox</td>\n",
       "      <td>Tre</td>\n",
       "      <td>Garretson</td>\n",
       "      <td>Ron</td>\n",
       "      <td>Foster</td>\n",
       "      <td>Scott</td>\n",
       "      <td>GS</td>\n",
       "      <td>...</td>\n",
       "      <td>81.9038</td>\n",
       "      <td>119.0108</td>\n",
       "      <td>118.0353</td>\n",
       "      <td>0.9755</td>\n",
       "      <td>0.4700</td>\n",
       "      <td>19.1309</td>\n",
       "      <td>2.1538</td>\n",
       "      <td>69.2308</td>\n",
       "      <td>102.5117</td>\n",
       "      <td>102.0863</td>\n",
       "    </tr>\n",
       "    <tr>\n",
       "      <th>4</th>\n",
       "      <td>2017-10-18</td>\n",
       "      <td>07:00</td>\n",
       "      <td>Regular</td>\n",
       "      <td>Davis</td>\n",
       "      <td>Marc</td>\n",
       "      <td>Boland</td>\n",
       "      <td>Matt</td>\n",
       "      <td>DeRosa</td>\n",
       "      <td>Joe</td>\n",
       "      <td>CHA</td>\n",
       "      <td>...</td>\n",
       "      <td>70.7113</td>\n",
       "      <td>103.0506</td>\n",
       "      <td>90.9270</td>\n",
       "      <td>12.1236</td>\n",
       "      <td>0.4271</td>\n",
       "      <td>17.8731</td>\n",
       "      <td>2.6667</td>\n",
       "      <td>155.5556</td>\n",
       "      <td>98.9805</td>\n",
       "      <td>99.8123</td>\n",
       "    </tr>\n",
       "  </tbody>\n",
       "</table>\n",
       "<p>5 rows × 123 columns</p>\n",
       "</div>"
      ],
      "text/plain": [
       "       gmDate gmTime  seasTyp offLNm1 offFNm1    offLNm2  offFNm2    offLNm3  \\\n",
       "0  2017-10-17  08:00  Regular   Forte   Brian      Smith  Michael  McCutchen   \n",
       "1  2017-10-17  08:00  Regular   Forte   Brian      Smith  Michael  McCutchen   \n",
       "2  2017-10-17  10:30  Regular  Maddox     Tre  Garretson      Ron     Foster   \n",
       "3  2017-10-17  10:30  Regular  Maddox     Tre  Garretson      Ron     Foster   \n",
       "4  2017-10-18  07:00  Regular   Davis    Marc     Boland     Matt     DeRosa   \n",
       "\n",
       "  offFNm3 teamAbbr    ...    opptFIC40  opptOrtg  opptDrtg opptEDiff  \\\n",
       "0   Monty      BOS    ...      55.5208  101.7143   98.7227    2.9916   \n",
       "1   Monty      CLE    ...      62.5519   98.7227  101.7143   -2.9916   \n",
       "2   Scott      HOU    ...      86.2033  118.0353  119.0108   -0.9755   \n",
       "3   Scott       GS    ...      81.9038  119.0108  118.0353    0.9755   \n",
       "4     Joe      CHA    ...      70.7113  103.0506   90.9270   12.1236   \n",
       "\n",
       "   opptPlay%   opptAR  opptAST/TO  opptSTL/TO      poss      pace  \n",
       "0     0.4176  14.6154      1.1176     17.6471  100.2809   99.8648  \n",
       "1     0.3956  17.7778      2.0000     91.6667  100.2809  100.2809  \n",
       "2     0.4725  24.2442      2.0000     29.4118  102.5117  102.9406  \n",
       "3     0.4700  19.1309      2.1538     69.2308  102.5117  102.0863  \n",
       "4     0.4271  17.8731      2.6667    155.5556   98.9805   99.8123  \n",
       "\n",
       "[5 rows x 123 columns]"
      ]
     },
     "execution_count": 2,
     "metadata": {},
     "output_type": "execute_result"
    }
   ],
   "source": [
    "raw_games_df = pd.read_csv(\"2017-18_teamBoxScore.csv\")\n",
    "raw_games_df.head()"
   ]
  },
  {
   "cell_type": "markdown",
   "metadata": {},
   "source": [
    "First, lets calculate a binary W/L column and delete all the points-related columns."
   ]
  },
  {
   "cell_type": "code",
   "execution_count": 85,
   "metadata": {
    "scrolled": false
   },
   "outputs": [
    {
     "name": "stdout",
     "output_type": "stream",
     "text": [
      "2460\n"
     ]
    },
    {
     "data": {
      "text/html": [
       "<div>\n",
       "<style scoped>\n",
       "    .dataframe tbody tr th:only-of-type {\n",
       "        vertical-align: middle;\n",
       "    }\n",
       "\n",
       "    .dataframe tbody tr th {\n",
       "        vertical-align: top;\n",
       "    }\n",
       "\n",
       "    .dataframe thead th {\n",
       "        text-align: right;\n",
       "    }\n",
       "</style>\n",
       "<table border=\"1\" class=\"dataframe\">\n",
       "  <thead>\n",
       "    <tr style=\"text-align: right;\">\n",
       "      <th></th>\n",
       "      <th>teamDayOff</th>\n",
       "      <th>teamAST</th>\n",
       "      <th>teamTO</th>\n",
       "      <th>teamSTL</th>\n",
       "      <th>teamBLK</th>\n",
       "      <th>teamPF</th>\n",
       "      <th>teamORB</th>\n",
       "      <th>teamDRB</th>\n",
       "      <th>teamTRB</th>\n",
       "      <th>teamTREB%</th>\n",
       "      <th>...</th>\n",
       "      <th>opptDREB%</th>\n",
       "      <th>opptTO%</th>\n",
       "      <th>opptSTL%</th>\n",
       "      <th>opptBLK%</th>\n",
       "      <th>opptBLKR</th>\n",
       "      <th>opptAST/TO</th>\n",
       "      <th>opptSTL/TO</th>\n",
       "      <th>poss</th>\n",
       "      <th>pace</th>\n",
       "      <th>win</th>\n",
       "    </tr>\n",
       "  </thead>\n",
       "  <tbody>\n",
       "    <tr>\n",
       "      <th>0</th>\n",
       "      <td>0</td>\n",
       "      <td>24</td>\n",
       "      <td>12</td>\n",
       "      <td>11</td>\n",
       "      <td>4</td>\n",
       "      <td>24</td>\n",
       "      <td>9</td>\n",
       "      <td>37</td>\n",
       "      <td>46</td>\n",
       "      <td>47.9167</td>\n",
       "      <td>...</td>\n",
       "      <td>82.0000</td>\n",
       "      <td>15.3153</td>\n",
       "      <td>2.9916</td>\n",
       "      <td>3.9888</td>\n",
       "      <td>6.5574</td>\n",
       "      <td>1.1176</td>\n",
       "      <td>17.6471</td>\n",
       "      <td>100.2809</td>\n",
       "      <td>99.8648</td>\n",
       "      <td>False</td>\n",
       "    </tr>\n",
       "    <tr>\n",
       "      <th>1</th>\n",
       "      <td>0</td>\n",
       "      <td>19</td>\n",
       "      <td>17</td>\n",
       "      <td>3</td>\n",
       "      <td>4</td>\n",
       "      <td>25</td>\n",
       "      <td>9</td>\n",
       "      <td>41</td>\n",
       "      <td>50</td>\n",
       "      <td>52.0833</td>\n",
       "      <td>...</td>\n",
       "      <td>80.4348</td>\n",
       "      <td>10.8108</td>\n",
       "      <td>10.9692</td>\n",
       "      <td>3.9888</td>\n",
       "      <td>7.1429</td>\n",
       "      <td>2.0000</td>\n",
       "      <td>91.6667</td>\n",
       "      <td>100.2809</td>\n",
       "      <td>100.2809</td>\n",
       "      <td>True</td>\n",
       "    </tr>\n",
       "    <tr>\n",
       "      <th>2</th>\n",
       "      <td>0</td>\n",
       "      <td>28</td>\n",
       "      <td>13</td>\n",
       "      <td>9</td>\n",
       "      <td>5</td>\n",
       "      <td>16</td>\n",
       "      <td>10</td>\n",
       "      <td>33</td>\n",
       "      <td>43</td>\n",
       "      <td>51.1905</td>\n",
       "      <td>...</td>\n",
       "      <td>85.3659</td>\n",
       "      <td>16.0015</td>\n",
       "      <td>4.8775</td>\n",
       "      <td>8.7795</td>\n",
       "      <td>18.0000</td>\n",
       "      <td>2.0000</td>\n",
       "      <td>29.4118</td>\n",
       "      <td>102.5117</td>\n",
       "      <td>102.9406</td>\n",
       "      <td>True</td>\n",
       "    </tr>\n",
       "    <tr>\n",
       "      <th>3</th>\n",
       "      <td>0</td>\n",
       "      <td>34</td>\n",
       "      <td>17</td>\n",
       "      <td>5</td>\n",
       "      <td>9</td>\n",
       "      <td>25</td>\n",
       "      <td>6</td>\n",
       "      <td>35</td>\n",
       "      <td>41</td>\n",
       "      <td>48.8095</td>\n",
       "      <td>...</td>\n",
       "      <td>76.7442</td>\n",
       "      <td>10.9834</td>\n",
       "      <td>8.7795</td>\n",
       "      <td>4.8775</td>\n",
       "      <td>8.9286</td>\n",
       "      <td>2.1538</td>\n",
       "      <td>69.2308</td>\n",
       "      <td>102.5117</td>\n",
       "      <td>102.0863</td>\n",
       "      <td>False</td>\n",
       "    </tr>\n",
       "    <tr>\n",
       "      <th>4</th>\n",
       "      <td>0</td>\n",
       "      <td>16</td>\n",
       "      <td>17</td>\n",
       "      <td>4</td>\n",
       "      <td>3</td>\n",
       "      <td>15</td>\n",
       "      <td>3</td>\n",
       "      <td>44</td>\n",
       "      <td>47</td>\n",
       "      <td>50.0000</td>\n",
       "      <td>...</td>\n",
       "      <td>80.8511</td>\n",
       "      <td>8.1610</td>\n",
       "      <td>14.1442</td>\n",
       "      <td>3.0309</td>\n",
       "      <td>4.2857</td>\n",
       "      <td>2.6667</td>\n",
       "      <td>155.5556</td>\n",
       "      <td>98.9805</td>\n",
       "      <td>99.8123</td>\n",
       "      <td>False</td>\n",
       "    </tr>\n",
       "  </tbody>\n",
       "</table>\n",
       "<p>5 rows × 41 columns</p>\n",
       "</div>"
      ],
      "text/plain": [
       "   teamDayOff  teamAST  teamTO  teamSTL  teamBLK  teamPF  teamORB  teamDRB  \\\n",
       "0           0       24      12       11        4      24        9       37   \n",
       "1           0       19      17        3        4      25        9       41   \n",
       "2           0       28      13        9        5      16       10       33   \n",
       "3           0       34      17        5        9      25        6       35   \n",
       "4           0       16      17        4        3      15        3       44   \n",
       "\n",
       "   teamTRB  teamTREB%  ...    opptDREB%  opptTO%  opptSTL%  opptBLK%  \\\n",
       "0       46    47.9167  ...      82.0000  15.3153    2.9916    3.9888   \n",
       "1       50    52.0833  ...      80.4348  10.8108   10.9692    3.9888   \n",
       "2       43    51.1905  ...      85.3659  16.0015    4.8775    8.7795   \n",
       "3       41    48.8095  ...      76.7442  10.9834    8.7795    4.8775   \n",
       "4       47    50.0000  ...      80.8511   8.1610   14.1442    3.0309   \n",
       "\n",
       "   opptBLKR  opptAST/TO  opptSTL/TO      poss      pace    win  \n",
       "0    6.5574      1.1176     17.6471  100.2809   99.8648  False  \n",
       "1    7.1429      2.0000     91.6667  100.2809  100.2809   True  \n",
       "2   18.0000      2.0000     29.4118  102.5117  102.9406   True  \n",
       "3    8.9286      2.1538     69.2308  102.5117  102.0863  False  \n",
       "4    4.2857      2.6667    155.5556   98.9805   99.8123  False  \n",
       "\n",
       "[5 rows x 41 columns]"
      ]
     },
     "execution_count": 85,
     "metadata": {},
     "output_type": "execute_result"
    }
   ],
   "source": [
    "raw_games_df['win'] = raw_games_df['teamRslt'].str.contains('Win')\n",
    "raw_games_df['margin'] = raw_games_df['teamPTS'] - raw_games_df['opptPTS']\n",
    "raw_games_df['3pt_proportion'] = round(raw_games_df['team3PA']/raw_games_df['teamFGA'],2)*100\n",
    "raw_games_df['1q_points_pct'] = round(raw_games_df['teamPTS1']/raw_games_df['teamPTS'],2)*100\n",
    "raw_games_df['2q_points_pct'] = round(raw_games_df['teamPTS2']/raw_games_df['teamPTS'],2)*100\n",
    "raw_games_df['3q_points_pct'] = round(raw_games_df['teamPTS3']/raw_games_df['teamPTS'],2)*100\n",
    "raw_games_df['4q_points_pct'] = round(raw_games_df['teamPTS4']/raw_games_df['teamPTS'],2)*100\n",
    "raw_games_df['oppt1q_points_pct'] = round(raw_games_df['opptPTS1']/raw_games_df['opptPTS'],2)*100\n",
    "raw_games_df['oppt2q_points_pct'] = round(raw_games_df['opptPTS2']/raw_games_df['opptPTS'],2)*100\n",
    "raw_games_df['oppt3q_points_pct'] = round(raw_games_df['opptPTS3']/raw_games_df['opptPTS'],2)*100\n",
    "raw_games_df['oppt4q_points_pct'] = round(raw_games_df['opptPTS4']/raw_games_df['opptPTS'],2)*100\n",
    "\n",
    "# drop irrelevant columns\n",
    "irrelevant_droplist = [\n",
    "    'offLNm1',\n",
    "    'offFNm1',\n",
    "    'offLNm2',\n",
    "    'offFNm2',\n",
    "    'offLNm3',\n",
    "    'offFNm3',\n",
    "    'teamAbbr',\n",
    "    'teamMin',\n",
    "    'opptAbbr',\n",
    "    'opptLoc',\n",
    "    'opptMin',\n",
    "]\n",
    "\n",
    "# drop clumns that are just proxies for points - uninteresting for win prediction:\n",
    "points_droplist = [\n",
    "    'teamRslt',\n",
    "    'teamFGA',\n",
    "    'team3PA',\n",
    "    'teamFGM',\n",
    "    'team2PA',\n",
    "    'team3PM',\n",
    "    'teamFTM',\n",
    "    'teamPTS',\n",
    "    'teamPTS1',\n",
    "    'teamPTS2',\n",
    "    'teamPTS3',\n",
    "    'teamPTS4',\n",
    "    'teamPTS5',\n",
    "    'teamPTS6',\n",
    "    'teamPTS7',\n",
    "    'teamPTS8',\n",
    "    'opptRslt',\n",
    "    'opptFGA',\n",
    "    'oppt3PA',\n",
    "    'oppt2PA',\n",
    "    'opptFGM',\n",
    "    'oppt3PM',\n",
    "    'opptFTM',\n",
    "    'opptPTS',\n",
    "    'opptPTS1',\n",
    "    'opptPTS2',\n",
    "    'opptPTS3',\n",
    "    'opptPTS4',\n",
    "    'opptPTS5',\n",
    "    'opptPTS6',\n",
    "    'opptPTS7',\n",
    "    'opptPTS8',\n",
    "    'teamFIC',\n",
    "    'teamFIC40',\n",
    "    'teamOrtg',\n",
    "    'teamDrtg',\n",
    "    'teamEDiff',\n",
    "    'teamPlay%',\n",
    "    'teamAR',\n",
    "    'opptFIC',\n",
    "    'opptFIC40',\n",
    "    'opptOrtg',\n",
    "    'opptDrtg',\n",
    "    'opptEDiff',\n",
    "    'opptPlay%',\n",
    "    'opptAR',    \n",
    "]\n",
    "\n",
    "nonscoring_quant_cols = [\n",
    "    'teamDayOff',\n",
    "    'teamAST',\n",
    "    'teamTO',\n",
    "    'teamSTL',\n",
    "    'teamBLK',\n",
    "    'teamPF',\n",
    "    'teamORB',\n",
    "    'teamDRB',\n",
    "    'teamTRB',\n",
    "    'teamTREB%',\n",
    "    'teamASST%',\n",
    "    'teamOREB%',\n",
    "    'teamDREB%',\n",
    "    'teamTO%',\n",
    "    'teamSTL%',\n",
    "    'teamBLK%',\n",
    "    'teamBLKR',\n",
    "    'teamAST/TO',\n",
    "    'teamSTL/TO',\n",
    "    'opptDayOff',\n",
    "    'opptAST',\n",
    "    'opptTO',\n",
    "    'opptSTL',\n",
    "    'opptBLK',\n",
    "    'opptPF',\n",
    "    'opptORB',\n",
    "    'opptDRB',\n",
    "    'opptTRB',\n",
    "    'opptTREB%',\n",
    "    'opptASST%',\n",
    "    'opptOREB%',\n",
    "    'opptDREB%',\n",
    "    'opptTO%',\n",
    "    'opptSTL%',\n",
    "    'opptBLK%',\n",
    "    'opptBLKR',\n",
    "    'opptAST/TO',\n",
    "    'opptSTL/TO',\n",
    "    'poss',\n",
    "    'pace',\n",
    "    'win',\n",
    "    'margin'\n",
    "]\n",
    "\n",
    "droplist = irrelevant_droplist + points_droplist\n",
    "# games_df = raw_games_df.drop(droplist, axis=1)\n",
    "\n",
    "games_df = raw_games_df[nonscoring_quant_cols].copy()\n",
    "games_df.drop('margin', axis=1, inplace=True) # we'll revisit this later\n",
    "print(len(games_df))\n",
    "games_df.head()"
   ]
  },
  {
   "cell_type": "markdown",
   "metadata": {},
   "source": [
    "Looks like we've got a bunch of percentages getting read as strings (objects) that need to be converted to integers.  Let's take care of that:"
   ]
  },
  {
   "cell_type": "code",
   "execution_count": 86,
   "metadata": {},
   "outputs": [],
   "source": [
    "for column in games_df:\n",
    "    if column.endswith('%'):\n",
    "        games_df[column] = pd.to_numeric(games_df[column])"
   ]
  },
  {
   "cell_type": "markdown",
   "metadata": {},
   "source": [
    "And fortunately, we have no nulls in this dataset - so we're pretty much good to go here."
   ]
  },
  {
   "cell_type": "code",
   "execution_count": 87,
   "metadata": {},
   "outputs": [
    {
     "data": {
      "text/plain": [
       "0"
      ]
     },
     "execution_count": 87,
     "metadata": {},
     "output_type": "execute_result"
    }
   ],
   "source": [
    "games_df.isnull().sum().sum()"
   ]
  },
  {
   "cell_type": "markdown",
   "metadata": {},
   "source": [
    "# Testing models: plain logistic regression"
   ]
  },
  {
   "cell_type": "markdown",
   "metadata": {},
   "source": [
    "First, let's set up our data:"
   ]
  },
  {
   "cell_type": "code",
   "execution_count": 88,
   "metadata": {},
   "outputs": [],
   "source": [
    "from sklearn import model_selection\n",
    "\n",
    "# games_df.drop(more_drops, axis=1, inplace=True)\n",
    "\n",
    "# drop categorical columns\n",
    "categorical_cols = []\n",
    "for column in games_df:\n",
    "    if column != 'win' and games_df[column].dtype not in ['int64', 'float64']:\n",
    "        categorical_cols.append(column)\n",
    "games_df.drop(categorical_cols, axis=1, inplace=True)      \n",
    "\n",
    "# split into train and test datasets\n",
    "X_train, X_test, y_train, y_test = model_selection.train_test_split(games_df.drop('win', axis=1), games_df['win'])"
   ]
  },
  {
   "cell_type": "markdown",
   "metadata": {},
   "source": [
    "Now we'll try the basic logistic regression model:"
   ]
  },
  {
   "cell_type": "code",
   "execution_count": 33,
   "metadata": {
    "scrolled": false
   },
   "outputs": [
    {
     "name": "stdout",
     "output_type": "stream",
     "text": [
      "Training set accuracy: 0.9143631436314363\n",
      "Test set accuracy: 0.9073287258344261\n"
     ]
    }
   ],
   "source": [
    "from sklearn import linear_model\n",
    "\n",
    "logr_model = linear_model.LogisticRegression(C=1e9)\n",
    "logr_model.fit(X_train, y_train)\n",
    "train_acc = logr_model.score(X_train, y_train)\n",
    "test_acc = np.mean(model_selection.cross_val_score(logr_model, games_df.drop('win', axis=1), games_df['win'], cv=4))\n",
    "print(\"Training set accuracy: {}\".format(train_acc))\n",
    "print(\"Test set accuracy: {}\".format(test_acc))\n"
   ]
  },
  {
   "cell_type": "markdown",
   "metadata": {},
   "source": [
    "# Testing models: ridge logistic regression\n",
    "\n",
    "The basic logistic regression showed minimal overfitting (the test score was basically just as good as the training score), so we may not see much difference here."
   ]
  },
  {
   "cell_type": "code",
   "execution_count": 45,
   "metadata": {},
   "outputs": [
    {
     "name": "stdout",
     "output_type": "stream",
     "text": [
      "Training set accuracy: 0.9132791327913279\n",
      "Test set accuracy: 0.9093579466136469\n"
     ]
    }
   ],
   "source": [
    "logRidge_model = linear_model.LogisticRegression(C=1)\n",
    "logRidge_model.fit(X_train, y_train)\n",
    "train_acc = logRidge_model.score(X_train, y_train)\n",
    "test_acc = np.mean(model_selection.cross_val_score(logRidge_model, games_df.drop('win', axis=1), games_df['win'], cv=4))\n",
    "print(\"Training set accuracy: {}\".format(train_acc))\n",
    "print(\"Test set accuracy: {}\".format(test_acc))"
   ]
  },
  {
   "cell_type": "code",
   "execution_count": 60,
   "metadata": {},
   "outputs": [],
   "source": [
    "powers = range(-6,6)\n",
    "train_acc = []\n",
    "test_acc = []\n",
    "for power in powers:\n",
    "    lambda_ = 10**power\n",
    "    c = 1/lambda_\n",
    "    logRidge_model = linear_model.LogisticRegression(C=c)\n",
    "    logRidge_model.fit(X_train, y_train)\n",
    "    train_acc.append(logRidge_model.score(X_train, y_train))\n",
    "    test_acc.append(\n",
    "        np.mean(model_selection.cross_val_score(logRidge_model, games_df.drop('win', axis=1), games_df['win'], cv=4))\n",
    "    )"
   ]
  },
  {
   "cell_type": "code",
   "execution_count": 61,
   "metadata": {
    "scrolled": false
   },
   "outputs": [
    {
     "data": {
      "image/png": "[encoded data removed]",
      "text/plain": [
       "<matplotlib.figure.Figure at 0x10ae401d0>"
      ]
     },
     "metadata": {},
     "output_type": "display_data"
    }
   ],
   "source": [
    "plt.plot(powers, train_acc, label=\"training\")\n",
    "plt.plot(powers, test_acc, label=\"test\")\n",
    "plt.title(\"model accuracy vs log(lambda)\")\n",
    "plt.xlabel('log(lambda)')\n",
    "plt.ylabel('accuracy')\n",
    "plt.ylim(0.5,1)\n",
    "plt.legend()\n",
    "plt.show()"
   ]
  },
  {
   "cell_type": "markdown",
   "metadata": {},
   "source": [
    "As predicted, regularization doesn't make much difference (unless you way, way overregularize) because there's no overfitting here - i.e., we have plenty of data.  However, if we reduce the number of examples by an order of 10, we'll see very different results:"
   ]
  },
  {
   "cell_type": "code",
   "execution_count": 53,
   "metadata": {},
   "outputs": [],
   "source": [
    "# DROP 90% OF OUR DATA:\n",
    "mini_games_df = games_df.sample(frac=0.1)\n",
    "\n",
    "# drop categorical columns\n",
    "categorical_cols = []\n",
    "for column in mini_games_df:\n",
    "    if column != 'win' and mini_games_df[column].dtype not in ['int64', 'float64']:\n",
    "        categorical_cols.append(column)\n",
    "mini_games_df.drop(categorical_cols, axis=1, inplace=True)      \n",
    "\n",
    "# split into train and test datasets\n",
    "Xm_train, Xm_test, ym_train, ym_test = model_selection.train_test_split(mini_games_df.drop('win', axis=1), mini_games_df['win'])"
   ]
  },
  {
   "cell_type": "code",
   "execution_count": 54,
   "metadata": {},
   "outputs": [
    {
     "name": "stdout",
     "output_type": "stream",
     "text": [
      "Training set accuracy: 0.9456521739130435\n",
      "Test set accuracy: 0.8657456372289793\n"
     ]
    }
   ],
   "source": [
    "logRidge_model = linear_model.LogisticRegression(C=1)\n",
    "logRidge_model.fit(Xm_train, ym_train)\n",
    "train_acc = logRidge_model.score(Xm_train, ym_train)\n",
    "test_acc = np.mean(model_selection.cross_val_score(logRidge_model, mini_games_df.drop('win', axis=1), mini_games_df['win'], cv=4))\n",
    "print(\"Training set accuracy: {}\".format(train_acc))\n",
    "print(\"Test set accuracy: {}\".format(test_acc))"
   ]
  },
  {
   "cell_type": "code",
   "execution_count": 55,
   "metadata": {},
   "outputs": [],
   "source": [
    "powers = range(-6,6)\n",
    "min_train_acc = []\n",
    "min_test_acc = []\n",
    "for power in powers:\n",
    "    lambda_ = 10**power\n",
    "    c = 1/lambda_\n",
    "    logRidge_model = linear_model.LogisticRegression(C=c)\n",
    "    logRidge_model.fit(Xm_train, ym_train)\n",
    "    min_train_acc.append(logRidge_model.score(Xm_train, ym_train))\n",
    "    min_test_acc.append(\n",
    "        np.mean(model_selection.cross_val_score(logRidge_model, mini_games_df.drop('win', axis=1), mini_games_df['win'], cv=4))\n",
    "    )"
   ]
  },
  {
   "cell_type": "code",
   "execution_count": 56,
   "metadata": {
    "scrolled": true
   },
   "outputs": [
    {
     "data": {
      "image/png": "[encoded data removed]",
      "text/plain": [
       "<matplotlib.figure.Figure at 0x1062ffd68>"
      ]
     },
     "metadata": {},
     "output_type": "display_data"
    }
   ],
   "source": [
    "plt.plot(powers, min_train_acc, label=\"training\")\n",
    "plt.plot(powers, min_test_acc, label=\"test\")\n",
    "plt.title(\"model accuracy vs log(lambda)\")\n",
    "plt.xlabel('log(lambda)')\n",
    "plt.ylabel('accuracy')\n",
    "plt.legend()\n",
    "plt.ylim(0.5,1.02)\n",
    "plt.show()"
   ]
  },
  {
   "cell_type": "markdown",
   "metadata": {},
   "source": [
    "Voila!  Now we've got the prototypical learning curve for lambda values: \n",
    "- at low labmda values we have a high-variance model with high training scores and low test scores\n",
    "- at medium lambda values we get a balanced model with good scores for both\n",
    "- at high lambda values we get a high-bias model with low scores across the board from overzealous regularization"
   ]
  },
  {
   "cell_type": "markdown",
   "metadata": {},
   "source": [
    "# Testing models: lasso logistic regression"
   ]
  },
  {
   "cell_type": "code",
   "execution_count": 67,
   "metadata": {
    "scrolled": true
   },
   "outputs": [
    {
     "name": "stdout",
     "output_type": "stream",
     "text": [
      "Training set accuracy: 0.9121951219512195\n",
      "Test set accuracy: 0.9085462583019586\n"
     ]
    }
   ],
   "source": [
    "logRidge_model = linear_model.LogisticRegression(penalty='l1')\n",
    "logRidge_model.fit(X_train, y_train)\n",
    "train_acc = logRidge_model.score(X_train, y_train)\n",
    "test_acc = np.mean(model_selection.cross_val_score(logRidge_model, games_df.drop('win', axis=1), games_df['win'], cv=4))\n",
    "print(\"Training set accuracy: {}\".format(train_acc))\n",
    "print(\"Test set accuracy: {}\".format(test_acc))"
   ]
  },
  {
   "cell_type": "markdown",
   "metadata": {},
   "source": [
    "Basically the same scores as the others, but with longer time.  Let's see what variables it selected as significant:"
   ]
  },
  {
   "cell_type": "code",
   "execution_count": 75,
   "metadata": {
    "scrolled": true
   },
   "outputs": [
    {
     "data": {
      "text/plain": [
       "[('teamAST', 0.8283553876199359),\n",
       " ('opptAST', -0.7477060696675051),\n",
       " ('opptBLK', 0.6882331131146174),\n",
       " ('teamTREB%', 0.6682862237960023),\n",
       " ('opptAST/TO', -0.6116358181062993),\n",
       " ('opptBLKR', -0.5656470211396082),\n",
       " ('teamBLK%', -0.5083381902400722),\n",
       " ('teamBLKR', 0.48363204205453725),\n",
       " ('opptTO', 0.44355504809374463),\n",
       " ('teamTO', -0.3521594038748265),\n",
       " ('teamBLK', -0.32715242852509874),\n",
       " ('teamASST%', -0.294820101107898),\n",
       " ('opptBLK%', 0.28242869538532267),\n",
       " ('opptASST%', 0.2746109935087145),\n",
       " ('teamOREB%', -0.26921423395589106),\n",
       " ('teamDREB%', -0.26335748847716506),\n",
       " ('opptPF', 0.25074845084067093),\n",
       " ('teamPF', -0.2336357656432593),\n",
       " ('opptTO%', -0.22069989463253686),\n",
       " ('opptTREB%', -0.21802714995434108),\n",
       " ('teamDayOff', -0.11180409403533571),\n",
       " ('opptOREB%', 0.10284925434961338),\n",
       " ('opptSTL', -0.09703042863089646),\n",
       " ('teamSTL%', 0.08373882970626695),\n",
       " ('teamTO%', 0.08301736422809204),\n",
       " ('opptDREB%', 0.08169311658143655),\n",
       " ('opptORB', -0.07849276716621599),\n",
       " ('poss', -0.040068861102720794),\n",
       " ('opptDRB', 0.029005178458699703),\n",
       " ('opptDayOff', 0.02702770230427676),\n",
       " ('teamSTL/TO', 0.0018224596946817876),\n",
       " ('pace', -0.0011998408710068218),\n",
       " ('teamDRB', -0.0011218465912012196),\n",
       " ('teamSTL', 0.0),\n",
       " ('teamORB', 0.0),\n",
       " ('teamTRB', 0.0),\n",
       " ('teamAST/TO', 0.0),\n",
       " ('opptTRB', 0.0),\n",
       " ('opptSTL%', 0.0),\n",
       " ('opptSTL/TO', 0.0)]"
      ]
     },
     "execution_count": 75,
     "metadata": {},
     "output_type": "execute_result"
    }
   ],
   "source": [
    "coefs = logRidge_model.coef_[0]\n",
    "labeled_coefs = []\n",
    "for i in range(len(coefs)):\n",
    "    label = games_df.drop('win', axis=1).columns[i]\n",
    "    labeled_coefs.append((label, coefs[i]))\n",
    "labeled_coefs = sorted(labeled_coefs, key=lambda x: -abs(x[1]))\n",
    "labeled_coefs"
   ]
  },
  {
   "cell_type": "markdown",
   "metadata": {},
   "source": [
    "Because these features aren't normalized, we can't really rely on those coefficient values as a measure of importance.  We can look at the values it zeroed out, however.  It turns out it only zeroed out the stats that were redundant - e.g., opptTRB, opponent total rebounds, is redundant with the rebound percentage and total possessions.  So basically, this didn't drop any real features as significant, only redundant ones."
   ]
  },
  {
   "cell_type": "markdown",
   "metadata": {},
   "source": [
    "And then let's try the learning curves on a small subset of our data, like we did with the ridge regression:"
   ]
  },
  {
   "cell_type": "code",
   "execution_count": 66,
   "metadata": {},
   "outputs": [
    {
     "name": "stdout",
     "output_type": "stream",
     "text": [
      "Training set accuracy: 0.9293478260869565\n",
      "Test set accuracy: 0.9065170375227378\n"
     ]
    }
   ],
   "source": [
    "logRidge_model = linear_model.LogisticRegression(penalty='l1')\n",
    "logRidge_model.fit(Xm_train, ym_train)\n",
    "train_acc = logRidge_model.score(Xm_train, ym_train)\n",
    "test_acc = np.mean(model_selection.cross_val_score(logRidge_model, games_df.drop('win', axis=1), games_df['win'], cv=4))\n",
    "print(\"Training set accuracy: {}\".format(train_acc))\n",
    "print(\"Test set accuracy: {}\".format(test_acc))"
   ]
  },
  {
   "cell_type": "markdown",
   "metadata": {},
   "source": [
    "Interesting: there's very little overfitting here even with small data.  Whatever sklearn's default setting is (maybe still C=1, but the results below throw the relevance of C into deep doubt), it seems to work pretty well."
   ]
  },
  {
   "cell_type": "code",
   "execution_count": 78,
   "metadata": {},
   "outputs": [],
   "source": [
    "powers = range(-4,6)\n",
    "min_train_acc = []\n",
    "min_test_acc = []\n",
    "for power in powers:\n",
    "    lambda_ = 10**power\n",
    "    c = 1/lambda_\n",
    "    logRidge_model = linear_model.LogisticRegression(penalty='l1')\n",
    "    logRidge_model.fit(Xm_train, ym_train)\n",
    "    min_train_acc.append(logRidge_model.score(Xm_train, ym_train))\n",
    "    min_test_acc.append(\n",
    "        np.mean(model_selection.cross_val_score(logRidge_model, mini_games_df.drop('win', axis=1), mini_games_df['win'], cv=4))\n",
    "    )"
   ]
  },
  {
   "cell_type": "code",
   "execution_count": 79,
   "metadata": {
    "scrolled": true
   },
   "outputs": [
    {
     "data": {
      "image/png": "[encoded data removed]",
      "text/plain": [
       "<matplotlib.figure.Figure at 0x10426feb8>"
      ]
     },
     "metadata": {},
     "output_type": "display_data"
    }
   ],
   "source": [
    "plt.plot(powers, min_train_acc, label=\"training\")\n",
    "plt.plot(powers, min_test_acc, label=\"test\")\n",
    "plt.title(\"model accuracy vs log(lambda)\")\n",
    "plt.xlabel('log(lambda)')\n",
    "plt.ylabel('accuracy')\n",
    "plt.legend()\n",
    "plt.ylim(0.5,1.02)\n",
    "plt.show()"
   ]
  },
  {
   "cell_type": "markdown",
   "metadata": {},
   "source": [
    "What we learn here: setting lambda/C makes absolutely no difference for sklearn's lasso logistic regression.  My guess is that C is being ignored because it's using a different default for lasso / l1 regression, but I can't find anything in the documentation to confirm or deny that."
   ]
  },
  {
   "cell_type": "markdown",
   "metadata": {},
   "source": [
    "# Testing models: for fun - Random Forest classifier"
   ]
  },
  {
   "cell_type": "code",
   "execution_count": 94,
   "metadata": {},
   "outputs": [
    {
     "name": "stdout",
     "output_type": "stream",
     "text": [
      "[0.80357143 0.78733766 0.76872964 0.79478827]\n",
      "mean score: 0.7886067515546342\n",
      "\n"
     ]
    }
   ],
   "source": [
    "from sklearn import ensemble\n",
    "\n",
    "rfc = ensemble.RandomForestClassifier()\n",
    "cv_scores = model_selection.cross_val_score(rfc, games_df.drop('win', axis=1), games_df['win'], cv=4)\n",
    "\n",
    "print(cv_scores)\n",
    "print(\"mean score: \" + str(np.mean(cv_scores)) + \"\\n\")"
   ]
  },
  {
   "cell_type": "code",
   "execution_count": 103,
   "metadata": {},
   "outputs": [
    {
     "name": "stdout",
     "output_type": "stream",
     "text": [
      "Best score:\n",
      "0.8146341463414634\n",
      "Best parameters:\n",
      "{'bootstrap': True, 'criterion': 'entropy', 'max_depth': None, 'max_features': 8, 'min_samples_leaf': 8, 'min_samples_split': 5, 'n_estimators': 20}\n",
      "Elapsed time: 4.582831859588623\n"
     ]
    }
   ],
   "source": [
    "from sklearn.model_selection import GridSearchCV, RandomizedSearchCV\n",
    "from scipy.stats import randint as sp_randint\n",
    "import time\n",
    "\n",
    "rfc = ensemble.RandomForestClassifier()\n",
    "param_dist = {\"n_estimators\":[5,10,20,30],\n",
    "              \"max_depth\": [3, None],\n",
    "              \"max_features\": sp_randint(1, 11),\n",
    "              \"min_samples_split\": sp_randint(2, 11),\n",
    "              \"min_samples_leaf\": sp_randint(1, 11),\n",
    "              \"bootstrap\": [True, False],\n",
    "              \"criterion\": [\"gini\", \"entropy\"]}\n",
    "rSearch = RandomizedSearchCV(rfc, param_distributions=param_dist, n_iter=30)\n",
    "\n",
    "start_time = time.time()\n",
    "rSearch.fit(X_train, y_train)\n",
    "print(\"Best score:\")\n",
    "print(rSearch.best_score_)\n",
    "print(\"Best parameters:\")\n",
    "print(rSearch.best_params_)\n",
    "print(\"Elapsed time: \"+ str((time.time() - start_time)))\n",
    "                            "
   ]
  },
  {
   "cell_type": "markdown",
   "metadata": {},
   "source": [
    "Looks like even with the very best parameters, Random Forest can only achieve an accuracy of about 81% - way less than logistic regression.  "
   ]
  },
  {
   "cell_type": "markdown",
   "metadata": {},
   "source": [
    "# QUESTION: why is random forest so ineffective here??\n",
    "\n",
    "I'd sort of assumed that RF would be more effective than logistic regression.  Instead it disappoints pretty badly here."
   ]
  },
  {
   "cell_type": "markdown",
   "metadata": {},
   "source": [
    "# Conclusions\n",
    "\n",
    "My dataset here has enough data that it doesn't overfit even without regularization.  So it doesn't really make much difference which model I use here.  The only exception would be if I want to work on feature selection, in which case Lasso could be helpful."
   ]
  }
 ],
 "metadata": {
  "kernelspec": {
   "display_name": "Python 3",
   "language": "python",
   "name": "python3"
  },
  "language_info": {
   "codemirror_mode": {
    "name": "ipython",
    "version": 3
   },
   "file_extension": ".py",
   "mimetype": "text/x-python",
   "name": "python",
   "nbconvert_exporter": "python",
   "pygments_lexer": "ipython3",
   "version": "3.6.4"
  }
 },
 "nbformat": 4,
 "nbformat_minor": 2
}
