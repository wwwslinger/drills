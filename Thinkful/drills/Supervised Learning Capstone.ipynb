{
 "cells": [
  {
   "cell_type": "code",
   "execution_count": 2,
   "metadata": {},
   "outputs": [],
   "source": [
    "import pandas as pd\n",
    "import numpy as np\n",
    "import scipy as sp\n",
    "import matplotlib.pyplot as plt\n",
    "import seaborn as sns\n",
    "import random\n",
    "import gc\n",
    "from time import time\n",
    "random.seed(11)\n",
    "%matplotlib inline\n",
    "sns.set()"
   ]
  },
  {
   "cell_type": "markdown",
   "metadata": {},
   "source": [
    "# Introduction\n",
    "\n",
    "This project is drawn from a Kaggle competition (ends Aug 29. 2018) to predict loan outcomes.  Here's the official description:\n",
    "\n",
    "*Many people struggle to get loans due to insufficient or non-existent credit histories. And, unfortunately, this population is often taken advantage of by untrustworthy lenders.*\n",
    "\n",
    "*Home Credit strives to broaden financial inclusion for the unbanked population by providing a positive and safe borrowing experience. In order to make sure this underserved population has a positive loan experience, Home Credit makes use of a variety of alternative data--including telco and transactional information--to predict their clients' repayment abilities.*\n",
    "\n",
    "*While Home Credit is currently using various statistical and machine learning methods to make these predictions, they're challenging Kagglers to help them unlock the full potential of their data. Doing so will ensure that clients capable of repayment are not rejected and that loans are given with a principal, maturity, and repayment calendar that will empower their clients to be successful.*\n",
    "\n",
    "The dataset consists of seven tables: one main table with essential data for every loan example, and six subsidiary tables (e.g., previous application data) which may or may not have entries for any given loan listed in the main table.  The evaluation criterion is the area under the model's ROC curve.\n",
    "\n",
    "### Challenges\n",
    "The most obviously formidable challenge in this competition is the dataset, which is medium quantity, mixed type, high opacity, and high sparsity.  Here's what I mean and why these are challenges:\n",
    "- <b>Medium quantity:</b> at 300K examples and 122 features in the main table alone, the dataset is large enough to impose some computational limits (or at least inconveniences) on our models and processes\n",
    "- <b>Mixed type:</b> the features are a mix of quantitative, multi-categorical, and binary-categorical.  As most models can only handle quantitative or binary features, we face the choice of dropping features or ballooning dimensionality with dummy columns.\n",
    "- <b>High opacity:</b> the nature of the data is poorly explained (column descriptions, where extant, are single-clause and non-American English), and we have no information about how it was collected.  This makes cleaning highly problematic.\n",
    "- <b>High sparsity:</b> the subsidiary tables have entries for some example loans and not for others; and even the primary table with all our example loans is strewn with nulls and zeroes.\n",
    "\n",
    "In particular, the combination of high opacity and high sparsity means that there will be a lot of guesswork involved in handling our null values.\n",
    "\n",
    "The predictive modeling will also pose some challenges, but those challenges will be more typical and less specifically anticipable from just the data and the task.\n",
    "\n",
    "### My approach\n",
    "I'm going to begin by cleaning up the main table to produce a workable dataset.  I'll then run an array of basic models on this dataset to generate accuracy benchmarks and decide which model or models should be our main choice to optimize later.  Given the challenges described above, the best out-of-box models will probably be the newer gradient boosting models which are highly optimized and well-equipped to handle categorical variables (XGBoost, LightGBM, CatBoost).\n",
    "\n",
    "Once we've established our best model type(s), we'll move on to feature engineering.  This will include various approaches to engineering combined features, imputing missing values, incorporating the ancillary tables, and feature reduction.  For each version of our our dataset, we'll run our working model and check the results against our benchmark to see how much the changes helped or harmed our accuracy.  Using this method, we'll create an optimal version of our dataset for our model to work on.\n",
    "\n",
    "Finally, having engineered the best set of features we can, we'll run a hyperparameter sweep on our chosen model or models to achieve our highest possible accuracy score.  The pipeline of data transforms, feature engineering, and optimally-tuned model will constitute our complete predictive model."
   ]
  },
  {
   "cell_type": "markdown",
   "metadata": {},
   "source": [
    "# Load and clean"
   ]
  },
  {
   "cell_type": "code",
   "execution_count": 142,
   "metadata": {
    "scrolled": false
   },
   "outputs": [],
   "source": [
    "raw_apps_df = pd.read_csv(\"application_train.csv\")\n",
    "raw_apps_df.columns = [str.lower(column) for column in raw_apps_df.columns]"
   ]
  },
  {
   "cell_type": "markdown",
   "metadata": {},
   "source": [
    "First we'll handle a few type fixes that we'll want done even for our raw dataset:"
   ]
  },
  {
   "cell_type": "code",
   "execution_count": 143,
   "metadata": {},
   "outputs": [],
   "source": [
    "# convert Y/N to True/False booleans:\n",
    "raw_apps_df['flag_own_car'] = raw_apps_df.flag_own_car=='Y'\n",
    "raw_apps_df['flag_own_realty'] = raw_apps_df.flag_own_realty=='Y'\n",
    "# convert gender M/F flag to boolean:\n",
    "raw_apps_df['gender_female'] = raw_apps_df['code_gender']=='F'\n",
    "raw_apps_df.drop('code_gender', axis=1, inplace=True)\n",
    "# convert mistyped float/str column:\n",
    "raw_apps_df['ext_source_1'] = raw_apps_df.ext_source_1.astype(float)"
   ]
  },
  {
   "cell_type": "code",
   "execution_count": 144,
   "metadata": {
    "scrolled": true
   },
   "outputs": [
    {
     "name": "stdout",
     "output_type": "stream",
     "text": [
      "(307511, 122)\n"
     ]
    },
    {
     "data": {
      "text/html": [
       "<div>\n",
       "<style scoped>\n",
       "    .dataframe tbody tr th:only-of-type {\n",
       "        vertical-align: middle;\n",
       "    }\n",
       "\n",
       "    .dataframe tbody tr th {\n",
       "        vertical-align: top;\n",
       "    }\n",
       "\n",
       "    .dataframe thead th {\n",
       "        text-align: right;\n",
       "    }\n",
       "</style>\n",
       "<table border=\"1\" class=\"dataframe\">\n",
       "  <thead>\n",
       "    <tr style=\"text-align: right;\">\n",
       "      <th></th>\n",
       "      <th>sk_id_curr</th>\n",
       "      <th>target</th>\n",
       "      <th>name_contract_type</th>\n",
       "      <th>flag_own_car</th>\n",
       "      <th>flag_own_realty</th>\n",
       "      <th>cnt_children</th>\n",
       "      <th>amt_income_total</th>\n",
       "      <th>amt_credit</th>\n",
       "      <th>amt_annuity</th>\n",
       "      <th>amt_goods_price</th>\n",
       "      <th>...</th>\n",
       "      <th>flag_document_19</th>\n",
       "      <th>flag_document_20</th>\n",
       "      <th>flag_document_21</th>\n",
       "      <th>amt_req_credit_bureau_hour</th>\n",
       "      <th>amt_req_credit_bureau_day</th>\n",
       "      <th>amt_req_credit_bureau_week</th>\n",
       "      <th>amt_req_credit_bureau_mon</th>\n",
       "      <th>amt_req_credit_bureau_qrt</th>\n",
       "      <th>amt_req_credit_bureau_year</th>\n",
       "      <th>gender_female</th>\n",
       "    </tr>\n",
       "  </thead>\n",
       "  <tbody>\n",
       "    <tr>\n",
       "      <th>0</th>\n",
       "      <td>100002</td>\n",
       "      <td>1</td>\n",
       "      <td>Cash loans</td>\n",
       "      <td>False</td>\n",
       "      <td>True</td>\n",
       "      <td>0</td>\n",
       "      <td>202500.0</td>\n",
       "      <td>406597.5</td>\n",
       "      <td>24700.5</td>\n",
       "      <td>351000.0</td>\n",
       "      <td>...</td>\n",
       "      <td>0</td>\n",
       "      <td>0</td>\n",
       "      <td>0</td>\n",
       "      <td>0.0</td>\n",
       "      <td>0.0</td>\n",
       "      <td>0.0</td>\n",
       "      <td>0.0</td>\n",
       "      <td>0.0</td>\n",
       "      <td>1.0</td>\n",
       "      <td>False</td>\n",
       "    </tr>\n",
       "    <tr>\n",
       "      <th>1</th>\n",
       "      <td>100003</td>\n",
       "      <td>0</td>\n",
       "      <td>Cash loans</td>\n",
       "      <td>False</td>\n",
       "      <td>False</td>\n",
       "      <td>0</td>\n",
       "      <td>270000.0</td>\n",
       "      <td>1293502.5</td>\n",
       "      <td>35698.5</td>\n",
       "      <td>1129500.0</td>\n",
       "      <td>...</td>\n",
       "      <td>0</td>\n",
       "      <td>0</td>\n",
       "      <td>0</td>\n",
       "      <td>0.0</td>\n",
       "      <td>0.0</td>\n",
       "      <td>0.0</td>\n",
       "      <td>0.0</td>\n",
       "      <td>0.0</td>\n",
       "      <td>0.0</td>\n",
       "      <td>True</td>\n",
       "    </tr>\n",
       "    <tr>\n",
       "      <th>2</th>\n",
       "      <td>100004</td>\n",
       "      <td>0</td>\n",
       "      <td>Revolving loans</td>\n",
       "      <td>True</td>\n",
       "      <td>True</td>\n",
       "      <td>0</td>\n",
       "      <td>67500.0</td>\n",
       "      <td>135000.0</td>\n",
       "      <td>6750.0</td>\n",
       "      <td>135000.0</td>\n",
       "      <td>...</td>\n",
       "      <td>0</td>\n",
       "      <td>0</td>\n",
       "      <td>0</td>\n",
       "      <td>0.0</td>\n",
       "      <td>0.0</td>\n",
       "      <td>0.0</td>\n",
       "      <td>0.0</td>\n",
       "      <td>0.0</td>\n",
       "      <td>0.0</td>\n",
       "      <td>False</td>\n",
       "    </tr>\n",
       "    <tr>\n",
       "      <th>3</th>\n",
       "      <td>100006</td>\n",
       "      <td>0</td>\n",
       "      <td>Cash loans</td>\n",
       "      <td>False</td>\n",
       "      <td>True</td>\n",
       "      <td>0</td>\n",
       "      <td>135000.0</td>\n",
       "      <td>312682.5</td>\n",
       "      <td>29686.5</td>\n",
       "      <td>297000.0</td>\n",
       "      <td>...</td>\n",
       "      <td>0</td>\n",
       "      <td>0</td>\n",
       "      <td>0</td>\n",
       "      <td>NaN</td>\n",
       "      <td>NaN</td>\n",
       "      <td>NaN</td>\n",
       "      <td>NaN</td>\n",
       "      <td>NaN</td>\n",
       "      <td>NaN</td>\n",
       "      <td>True</td>\n",
       "    </tr>\n",
       "    <tr>\n",
       "      <th>4</th>\n",
       "      <td>100007</td>\n",
       "      <td>0</td>\n",
       "      <td>Cash loans</td>\n",
       "      <td>False</td>\n",
       "      <td>True</td>\n",
       "      <td>0</td>\n",
       "      <td>121500.0</td>\n",
       "      <td>513000.0</td>\n",
       "      <td>21865.5</td>\n",
       "      <td>513000.0</td>\n",
       "      <td>...</td>\n",
       "      <td>0</td>\n",
       "      <td>0</td>\n",
       "      <td>0</td>\n",
       "      <td>0.0</td>\n",
       "      <td>0.0</td>\n",
       "      <td>0.0</td>\n",
       "      <td>0.0</td>\n",
       "      <td>0.0</td>\n",
       "      <td>0.0</td>\n",
       "      <td>False</td>\n",
       "    </tr>\n",
       "  </tbody>\n",
       "</table>\n",
       "<p>5 rows × 122 columns</p>\n",
       "</div>"
      ],
      "text/plain": [
       "   sk_id_curr  target name_contract_type  flag_own_car  flag_own_realty  \\\n",
       "0      100002       1         Cash loans         False             True   \n",
       "1      100003       0         Cash loans         False            False   \n",
       "2      100004       0    Revolving loans          True             True   \n",
       "3      100006       0         Cash loans         False             True   \n",
       "4      100007       0         Cash loans         False             True   \n",
       "\n",
       "   cnt_children  amt_income_total  amt_credit  amt_annuity  amt_goods_price  \\\n",
       "0             0          202500.0    406597.5      24700.5         351000.0   \n",
       "1             0          270000.0   1293502.5      35698.5        1129500.0   \n",
       "2             0           67500.0    135000.0       6750.0         135000.0   \n",
       "3             0          135000.0    312682.5      29686.5         297000.0   \n",
       "4             0          121500.0    513000.0      21865.5         513000.0   \n",
       "\n",
       "       ...       flag_document_19 flag_document_20 flag_document_21  \\\n",
       "0      ...                      0                0                0   \n",
       "1      ...                      0                0                0   \n",
       "2      ...                      0                0                0   \n",
       "3      ...                      0                0                0   \n",
       "4      ...                      0                0                0   \n",
       "\n",
       "  amt_req_credit_bureau_hour amt_req_credit_bureau_day  \\\n",
       "0                        0.0                       0.0   \n",
       "1                        0.0                       0.0   \n",
       "2                        0.0                       0.0   \n",
       "3                        NaN                       NaN   \n",
       "4                        0.0                       0.0   \n",
       "\n",
       "   amt_req_credit_bureau_week  amt_req_credit_bureau_mon  \\\n",
       "0                         0.0                        0.0   \n",
       "1                         0.0                        0.0   \n",
       "2                         0.0                        0.0   \n",
       "3                         NaN                        NaN   \n",
       "4                         0.0                        0.0   \n",
       "\n",
       "   amt_req_credit_bureau_qrt  amt_req_credit_bureau_year  gender_female  \n",
       "0                        0.0                         1.0          False  \n",
       "1                        0.0                         0.0           True  \n",
       "2                        0.0                         0.0          False  \n",
       "3                        NaN                         NaN           True  \n",
       "4                        0.0                         0.0          False  \n",
       "\n",
       "[5 rows x 122 columns]"
      ]
     },
     "execution_count": 144,
     "metadata": {},
     "output_type": "execute_result"
    }
   ],
   "source": [
    "print(raw_apps_df.shape)\n",
    "raw_apps_df.head()"
   ]
  },
  {
   "cell_type": "markdown",
   "metadata": {},
   "source": [
    "# Preparing the data: manual null elimination and feature combination\n",
    "\n",
    "We're going to try several types of data preparation for our models.  For our initial examination and model testing, we'll want a manageably-sized and null-less dataset.  Later, when we use some feature reduction algorithms that can handle nulls directly, we'll want a version with the most basic cleaning and consolidation performed, but with most of the nulls left intact.\n",
    "\n",
    "Here we'll begin with the basic cleaning and consolidation to produce a minimally prepped version of the dataset: *apps_df*.  We'll then create another version that's further consolidated and has all the nulls filled: *apps_small_df*.  We'll use the latter table for our data exploration and initial model testing.\n",
    "\n",
    "#### A note on the housing columns: \n",
    "The columns describing client housing are numerous (46) and strewn with nulls.  They are all normalized to a 0-to-1 range, with numbers closer to zero representing lower quality or less expensive housing (e.g., small number of rooms, entrances, square feet).\n",
    "\n",
    "Since many of the nulls represent legitimate zeros (has no basement square footage, or no non-living-rooms, or no home at all), most of the nulls probably represent zeros.  The only clear exception is years_build_medi, which represents the age of the building.  Since zero represents a new building, we can fill nulls with a 0.5 for average age.  \n",
    "\n",
    "We can then combine all housing columns (other than housing age, where 0 is higher quality) into one column that represents the accumulated quality and expensiveness of the housing.  This combination will lose some data, but it's pretty arcane stuff that's unlikely to be individually significant, and cutting it will provide a drastic and extremely helpful reduction in dimensionality."
   ]
  },
  {
   "cell_type": "code",
   "execution_count": 166,
   "metadata": {},
   "outputs": [],
   "source": [
    "apps_df = raw_apps_df.copy()"
   ]
  },
  {
   "cell_type": "code",
   "execution_count": 167,
   "metadata": {},
   "outputs": [],
   "source": [
    "# we're going to rename housing age and move it to the end so that it's kept separate from our housing quality score\n",
    "apps_df['housing_age'] = apps_df.years_build_medi\n",
    "apps_df.drop('years_build_medi', axis=1, inplace=True)\n",
    "\n",
    "# the nulls for who was with the person when they applied should be 'Unaccompanied'\n",
    "apps_df['name_type_suite'].fillna(value='Unaccompanied', inplace=True)\n",
    "\n",
    "# almost all of the credit bureau call and social circle values are zero (median=0), \n",
    "# so we'll just manually impute zeroes for those:\n",
    "for colname in ['amt_req_credit_bureau_hour', \n",
    "                'amt_req_credit_bureau_day',\n",
    "                'amt_req_credit_bureau_week', \n",
    "                'amt_req_credit_bureau_mon', \n",
    "                'amt_req_credit_bureau_qrt', \n",
    "                'amt_req_credit_bureau_year',\n",
    "                'obs_30_cnt_social_circle',\n",
    "                'def_30_cnt_social_circle',\n",
    "                'obs_60_cnt_social_circle',\n",
    "                'def_60_cnt_social_circle']:\n",
    "    apps_df[colname].fillna(value=0, inplace=True)\n",
    "\n",
    "housing_cols = apps_df.columns[43:84]\n",
    "housing_categoricals = ['fondkapremont_mode', 'housetype_mode', 'wallsmaterial_mode', 'emergencystate_mode']\n",
    "apps_df['housing_null_count'] = apps_df[housing_cols].isnull().sum(axis=1)\n",
    "apps_df['other_null_count'] = apps_df.isnull().sum(axis=1)\n",
    "apps_df['housing_quality'] = apps_df[housing_cols].sum(axis=1) + apps_df['totalarea_mode']\n",
    "# NOTE: the above sum function effectively imputes 0s for nulls, which is okay \n",
    "# since no basement area generally means no basement\n",
    "apps_df.drop(housing_cols, axis=1, inplace=True)\n",
    "apps_df.drop('totalarea_mode', axis=1, inplace=True)"
   ]
  },
  {
   "cell_type": "markdown",
   "metadata": {},
   "source": [
    "That's all the cleaning and consolidation we need for our full dataset.  \n",
    "\n",
    "Now let's create the smaller null-less dataset for initial exploration and testing:"
   ]
  },
  {
   "cell_type": "code",
   "execution_count": 168,
   "metadata": {},
   "outputs": [],
   "source": [
    "apps_small_df = apps_df.copy()\n",
    "apps_small_df.housing_age.fillna(0.5, inplace=True)\n",
    "\n",
    "# we'll group all void occupation types into 'Other/unemployed' since it's not clear whether\n",
    "# the existing category 'Laborer' means 'Other'\n",
    "apps_small_df['occupation_type'].fillna(value='Unemployed/other', inplace=True)\n",
    "\n",
    "# for vehicle age, we'll say that having no car is like having a really old car\n",
    "apps_small_df['own_car_age'].fillna(value=75, inplace=True)\n",
    "\n",
    "apps_small_df[housing_categoricals] = apps_small_df[housing_categoricals].fillna(value='Unknown')\n",
    "\n",
    "# and for the external data sources we'll just impute the median of 0.5\n",
    "for colname in ['ext_source_1', 'ext_source_2', 'ext_source_3']:\n",
    "    apps_small_df[colname].fillna(value=0.5, inplace=True)\n",
    "    \n",
    "# there are just 278 amt_goods_price nulls; we'll impute the median\n",
    "apps_small_df['own_car_age'].fillna(value=450000, inplace=True)    \n",
    "\n",
    "# and we'll drop the 15 other scattered nulls in the dataset\n",
    "apps_small_df.dropna(inplace=True)\n",
    "\n",
    "# Only three of the 20 document-submitted-flag columns have more than 10% submission rates.  The rest are very low, \n",
    "# with mostly only a few submissions out of 700K applicants.  We'll combine these.\n",
    "docs_to_sum = [col for col in apps_small_df.columns[52:72] \n",
    "               if col not in ['flag_document_3', 'flag_document_6', 'flag_document_8']]\n",
    "apps_small_df['other_docs_submitted'] = apps_small_df[docs_to_sum].sum(axis=1)\n",
    "apps_small_df.drop(docs_to_sum, axis=1, inplace=True)\n",
    "\n",
    "# some more column consolidation:\n",
    "req_cols = ['amt_req_credit_bureau_hour', \n",
    "            'amt_req_credit_bureau_day',\n",
    "            'amt_req_credit_bureau_week', \n",
    "            'amt_req_credit_bureau_mon', \n",
    "            'amt_req_credit_bureau_qrt', \n",
    "            'amt_req_credit_bureau_year']\n",
    "apps_small_df['amt_req'] = apps_small_df[req_cols].sum(axis=1)\n",
    "apps_small_df.drop(req_cols, axis=1, inplace=True)\n",
    "\n",
    "soc_cols = ['obs_30_cnt_social_circle',\n",
    "            'def_30_cnt_social_circle',\n",
    "            'obs_60_cnt_social_circle',\n",
    "            'def_60_cnt_social_circle']\n",
    "apps_small_df['soc_cols'] = apps_small_df[soc_cols].sum(axis=1)\n",
    "apps_small_df.drop(soc_cols, axis=1, inplace=True)"
   ]
  },
  {
   "cell_type": "code",
   "execution_count": 169,
   "metadata": {
    "scrolled": false
   },
   "outputs": [
    {
     "name": "stdout",
     "output_type": "stream",
     "text": [
      "Small dataset feature count:  59\n",
      "Large dataset feature count:  83\n"
     ]
    }
   ],
   "source": [
    "print(\"Small dataset feature count: \", apps_small_df.shape[1])\n",
    "print(\"Large dataset feature count: \", apps_df.shape[1])"
   ]
  },
  {
   "cell_type": "markdown",
   "metadata": {},
   "source": [
    "# Examining the data\n",
    "\n",
    "### Outcome distribution\n",
    "\n",
    "First, let's take a look at our target variable distribution."
   ]
  },
  {
   "cell_type": "code",
   "execution_count": 185,
   "metadata": {
    "scrolled": true
   },
   "outputs": [
    {
     "data": {
      "text/plain": [
       "0    282416\n",
       "1     24804\n",
       "Name: target, dtype: int64"
      ]
     },
     "execution_count": 185,
     "metadata": {},
     "output_type": "execute_result"
    }
   ],
   "source": [
    "apps_df.target.value_counts()"
   ]
  },
  {
   "cell_type": "markdown",
   "metadata": {},
   "source": [
    "This is definitely an imbalanced dataset (8% positives), but it's not terribly skewed.  Since it's most important not to give loans that will default, we want to place some priority on catching all defaults, which means eliminating false negatives.  Given this priority, F1-score makes sense as a measure that emphasizes positives identification (it doesn't incorporate true negatives in its formula)."
   ]
  },
  {
   "cell_type": "markdown",
   "metadata": {},
   "source": [
    "### Core features distribution\n",
    "\n",
    "Let's take a look at the distributions of income levels, loan amounts, and loan annuities:"
   ]
  },
  {
   "cell_type": "code",
   "execution_count": 518,
   "metadata": {},
   "outputs": [
    {
     "data": {
      "image/png": "[encoded data removed]",
      "text/plain": [
       "<matplotlib.figure.Figure at 0x13aa2fdd8>"
      ]
     },
     "metadata": {},
     "output_type": "display_data"
    }
   ],
   "source": [
    "plt.figure(figsize=(16,5))\n",
    "plt.subplot(1,2,1)\n",
    "sns.distplot(apps_df.amt_income_total, kde=False)\n",
    "plt.title(\"Distribution of total income\")\n",
    "plt.subplot(1,2,2)\n",
    "sns.distplot(np.log10(apps_df.amt_income_total), kde=False)\n",
    "plt.title(\"Distribution of log of total income\")\n",
    "plt.show()"
   ]
  },
  {
   "cell_type": "code",
   "execution_count": 519,
   "metadata": {
    "scrolled": true
   },
   "outputs": [
    {
     "data": {
      "image/png": "[encoded data removed]",
      "text/plain": [
       "<matplotlib.figure.Figure at 0x13bce7438>"
      ]
     },
     "metadata": {},
     "output_type": "display_data"
    }
   ],
   "source": [
    "plt.figure(figsize=(16,5))\n",
    "plt.subplot(1,2,1)\n",
    "sns.distplot(apps_df.amt_credit, kde=False)\n",
    "plt.title(\"Distribution of loan amount\")\n",
    "plt.subplot(1,2,2)\n",
    "sns.distplot(np.log10(apps_df.amt_credit), kde=False)\n",
    "plt.title(\"Distribution of log of loan amount\")\n",
    "plt.show()"
   ]
  },
  {
   "cell_type": "code",
   "execution_count": 520,
   "metadata": {
    "scrolled": true
   },
   "outputs": [
    {
     "data": {
      "image/png": "[encoded data removed]",
      "text/plain": [
       "<matplotlib.figure.Figure at 0x13ac0e630>"
      ]
     },
     "metadata": {},
     "output_type": "display_data"
    }
   ],
   "source": [
    "plt.figure(figsize=(16,5))\n",
    "plt.subplot(1,2,1)\n",
    "sns.distplot(apps_df.amt_annuity, kde=False)\n",
    "plt.title(\"Distribution of loan annuity\")\n",
    "plt.subplot(1,2,2)\n",
    "sns.distplot(np.log10(apps_df.amt_annuity), kde=False)\n",
    "plt.title(\"Distribution of log of loan annuity\")\n",
    "plt.show()"
   ]
  },
  {
   "cell_type": "markdown",
   "metadata": {},
   "source": [
    "For all three of these statistics, a log transform is required to achieve a normal distribution.  Since many models assume normality (or at least work better with normally distributed features), we probably want to apply the log transform to the features in our dataset.  First, though, let's take a look at their scatterplot:"
   ]
  },
  {
   "cell_type": "code",
   "execution_count": 425,
   "metadata": {
    "scrolled": false
   },
   "outputs": [
    {
     "data": {
      "image/png": "[encoded data removed]",
      "text/plain": [
       "<matplotlib.figure.Figure at 0x139b80908>"
      ]
     },
     "metadata": {},
     "output_type": "display_data"
    }
   ],
   "source": [
    "from scipy.stats import pearsonr\n",
    "plt.figure(figsize=(8,6))\n",
    "x = np.log10(apps_df.amt_income_total)\n",
    "y = np.log10(apps_df.amt_credit)\n",
    "sns.regplot(x,y, scatter_kws={'s':8})\n",
    "pcc = pearsonr(x,y)[0]\n",
    "plt.title(\"Income vs. requested credit (r = {})\".format(pcc))\n",
    "plt.show()"
   ]
  },
  {
   "cell_type": "markdown",
   "metadata": {},
   "source": [
    "This tells us several things.  First, amount of income and amount of loan are strongly correlated (no surprise therE).  Second, there are a couple large outliers in our dataset where the income amount is over 10 million.  These might be worth eliminating, given that they're likely to be throw off our broader patterns.\n",
    "\n",
    "Third, we can see that our minima display pretty hard cutoffs.  The smallest loans requested are 45,000 (units unknown); given that there are 230 loan requests of this amount and none of 50,000, it probably represents a minumum amount policy.  The smallest income reported is 25,650 (units unspecified); the income amounts display a more gradual decay toward the minum, however."
   ]
  },
  {
   "cell_type": "markdown",
   "metadata": {},
   "source": [
    "Given what we've learned, let's drop our three largest outliers and replace amt_credit and amt_income_total with logs of their values."
   ]
  },
  {
   "cell_type": "code",
   "execution_count": 230,
   "metadata": {},
   "outputs": [],
   "source": [
    "apps_df = apps_df[apps_df.amt_income_total < 1e7]\n",
    "apps_df['amt_credit'] = apps_df['amt_credit'].apply(np.log10)\n",
    "apps_df['amt_income_total'] = apps_df['amt_income_total'].apply(np.log10)\n",
    "apps_small_df = apps_small_df[apps_small_df.amt_income_total < 1e7]\n",
    "apps_small_df['amt_credit'] = apps_small_df['amt_credit'].apply(np.log10)\n",
    "apps_small_df['amt_income_total'] = apps_small_df['amt_income_total'].apply(np.log10)"
   ]
  },
  {
   "cell_type": "markdown",
   "metadata": {},
   "source": [
    "Are there differences in these patterns between loans that did vs didn't result in repayment difficulties?"
   ]
  },
  {
   "cell_type": "code",
   "execution_count": 526,
   "metadata": {
    "scrolled": true
   },
   "outputs": [
    {
     "data": {
      "image/png": "[encoded data removed]",
      "text/plain": [
       "<matplotlib.figure.Figure at 0x1078b9630>"
      ]
     },
     "metadata": {},
     "output_type": "display_data"
    }
   ],
   "source": [
    "sns.lmplot(x='amt_income_total', y='amt_credit', hue='target', data=apps_df, size=6, scatter_kws={'s':8})\n",
    "plt.title(\"Credit vs income for repayed vs failed loans\")\n",
    "plt.show()"
   ]
  },
  {
   "cell_type": "markdown",
   "metadata": {},
   "source": [
    "Surprisingly, it seems that there's actually a lower correlation between income and loan amount for failed loans than for loans with no repayment problem.  This may be attributable to greater lender caution with higher loan amounts."
   ]
  },
  {
   "cell_type": "markdown",
   "metadata": {},
   "source": [
    "### Correlations & redundancies\n",
    "\n",
    "Now let's take a look at our variable correlations and see if any are too redundant to keep as separate features."
   ]
  },
  {
   "cell_type": "code",
   "execution_count": null,
   "metadata": {
    "scrolled": true
   },
   "outputs": [],
   "source": [
    "non_binary_cols = [colname for colname in apps_df.columns if not colname.startswith('flag')]\n",
    "corr = apps_small_df[non_binary_cols].corr()\n",
    "\n",
    "# throws super perplexing KeyError!!!\n",
    "# persists even with non_binary_cols = [colname.replace('\\n', '') for colname in apps_df.columns if not colname.startswith('flag')]"
   ]
  },
  {
   "cell_type": "code",
   "execution_count": 188,
   "metadata": {
    "scrolled": true
   },
   "outputs": [
    {
     "data": {
      "image/png": "[encoded data removed]",
      "text/plain": [
       "<matplotlib.figure.Figure at 0x1156d2f60>"
      ]
     },
     "metadata": {},
     "output_type": "display_data"
    }
   ],
   "source": [
    "binary_cols = ['flag_own_car', 'flag_own_realty', 'flag_mobil', 'flag_emp_phone', 'flag_work_phone', 'flag_cont_mobile', 'flag_phone', 'flag_email', 'flag_document_3', 'flag_document_6', 'flag_document_8']\n",
    "corr = apps_small_df.drop(binary_cols, axis=1).corr()\n",
    "plt.figure(figsize=(16,16))\n",
    "sns.heatmap(corr, square=True, center=0, cmap='RdBu_r');\n",
    "plt.show()"
   ]
  },
  {
   "cell_type": "markdown",
   "metadata": {},
   "source": [
    "Based on these correlations, we can remove a few features from our datasets:"
   ]
  },
  {
   "cell_type": "code",
   "execution_count": 170,
   "metadata": {},
   "outputs": [],
   "source": [
    "redundant_cols = ['housing_null_count',\n",
    "                  'amt_goods_price', \n",
    "                  'cnt_fam_members', \n",
    "                  'region_rating_client_w_city', \n",
    "                  'live_region_not_work_region', \n",
    "                  'live_city_not_work_city']\n",
    "# note: housing age is borderline-redundante with housing quality and could potentially be dropped as well\n",
    "\n",
    "apps_df.drop(redundant_cols, axis=1, inplace=True)\n",
    "apps_small_df.drop(redundant_cols, axis=1, inplace=True)"
   ]
  },
  {
   "cell_type": "code",
   "execution_count": 2,
   "metadata": {},
   "outputs": [],
   "source": [
    "# apps_df = pd.read_csv('apps_df.csv', index_col=0)\n",
    "# apps_small_df = pd.read_csv('apps_small_df.csv', index_col=0)"
   ]
  },
  {
   "cell_type": "markdown",
   "metadata": {},
   "source": [
    "### Encoding categorical variables\n",
    "\n",
    "Some of our basic models won't be able to handle categorical variables directly.  We'll generate a basic encoded dataset to use in those cases."
   ]
  },
  {
   "cell_type": "code",
   "execution_count": 172,
   "metadata": {},
   "outputs": [],
   "source": [
    "# quantitates-only, with no binaries at all:\n",
    "X_quant = apps_small_df.select_dtypes(exclude=['object', 'bool']).drop('target', axis=1)\n",
    "y = apps_df['target']"
   ]
  },
  {
   "cell_type": "code",
   "execution_count": 173,
   "metadata": {
    "scrolled": true
   },
   "outputs": [],
   "source": [
    "# define two functions for custom numerical encoding:\n",
    "def mean_encode(colname, target, dframe):\n",
    "    '''returns column with each value replaced with the mean of target column for that value '''    \n",
    "    value_means = {}\n",
    "    for value in dframe[colname].unique():\n",
    "        value_means[value] = round(dframe[dframe[colname]==value][target].mean()*100, 1)\n",
    "    return dframe[colname].apply(lambda x: value_means[x])\n",
    "\n",
    "def mean_seq_encode(colname, target, dframe):\n",
    "    '''returns column with each value replaced by the integer index of the value in a list of values\n",
    "    sorted by the mean of the target value for that column'''\n",
    "    value_means = []\n",
    "    for value in dframe[colname].unique():\n",
    "        value_means.append( (value, dframe[dframe[colname]==value][target].mean()) )\n",
    "    value_means = sorted(value_means, key=lambda x: x[1])\n",
    "    # create dictionary of {value, index-in-list-sorted-by-mean}\n",
    "    value_seq = {}\n",
    "    i = 0\n",
    "    for tup in value_means:\n",
    "        value_seq[tup[0]] = i\n",
    "        i+=1\n",
    "    return dframe[colname].apply(lambda x: value_seq[x])"
   ]
  },
  {
   "cell_type": "code",
   "execution_count": 176,
   "metadata": {},
   "outputs": [
    {
     "data": {
      "text/html": [
       "<div>\n",
       "<style scoped>\n",
       "    .dataframe tbody tr th:only-of-type {\n",
       "        vertical-align: middle;\n",
       "    }\n",
       "\n",
       "    .dataframe tbody tr th {\n",
       "        vertical-align: top;\n",
       "    }\n",
       "\n",
       "    .dataframe thead th {\n",
       "        text-align: right;\n",
       "    }\n",
       "</style>\n",
       "<table border=\"1\" class=\"dataframe\">\n",
       "  <thead>\n",
       "    <tr style=\"text-align: right;\">\n",
       "      <th></th>\n",
       "      <th>sk_id_curr</th>\n",
       "      <th>flag_own_car</th>\n",
       "      <th>flag_own_realty</th>\n",
       "      <th>cnt_children</th>\n",
       "      <th>amt_income_total</th>\n",
       "      <th>amt_credit</th>\n",
       "      <th>amt_annuity</th>\n",
       "      <th>region_population_relative</th>\n",
       "      <th>days_birth</th>\n",
       "      <th>days_employed</th>\n",
       "      <th>...</th>\n",
       "      <th>wallsmaterial_mode_Block</th>\n",
       "      <th>wallsmaterial_mode_Mixed</th>\n",
       "      <th>wallsmaterial_mode_Monolithic</th>\n",
       "      <th>wallsmaterial_mode_Others</th>\n",
       "      <th>wallsmaterial_mode_Panel</th>\n",
       "      <th>wallsmaterial_mode_Stone, brick</th>\n",
       "      <th>wallsmaterial_mode_Unknown</th>\n",
       "      <th>wallsmaterial_mode_Wooden</th>\n",
       "      <th>emergencystate_mode_No</th>\n",
       "      <th>emergencystate_mode_Yes</th>\n",
       "    </tr>\n",
       "  </thead>\n",
       "  <tbody>\n",
       "    <tr>\n",
       "      <th>0</th>\n",
       "      <td>100002</td>\n",
       "      <td>False</td>\n",
       "      <td>True</td>\n",
       "      <td>0</td>\n",
       "      <td>202500.0</td>\n",
       "      <td>406597.5</td>\n",
       "      <td>24700.5</td>\n",
       "      <td>0.018801</td>\n",
       "      <td>-9461</td>\n",
       "      <td>-637</td>\n",
       "      <td>...</td>\n",
       "      <td>0</td>\n",
       "      <td>0</td>\n",
       "      <td>0</td>\n",
       "      <td>0</td>\n",
       "      <td>0</td>\n",
       "      <td>1</td>\n",
       "      <td>0</td>\n",
       "      <td>0</td>\n",
       "      <td>1</td>\n",
       "      <td>0</td>\n",
       "    </tr>\n",
       "    <tr>\n",
       "      <th>1</th>\n",
       "      <td>100003</td>\n",
       "      <td>False</td>\n",
       "      <td>False</td>\n",
       "      <td>0</td>\n",
       "      <td>270000.0</td>\n",
       "      <td>1293502.5</td>\n",
       "      <td>35698.5</td>\n",
       "      <td>0.003541</td>\n",
       "      <td>-16765</td>\n",
       "      <td>-1188</td>\n",
       "      <td>...</td>\n",
       "      <td>1</td>\n",
       "      <td>0</td>\n",
       "      <td>0</td>\n",
       "      <td>0</td>\n",
       "      <td>0</td>\n",
       "      <td>0</td>\n",
       "      <td>0</td>\n",
       "      <td>0</td>\n",
       "      <td>1</td>\n",
       "      <td>0</td>\n",
       "    </tr>\n",
       "    <tr>\n",
       "      <th>12</th>\n",
       "      <td>100016</td>\n",
       "      <td>False</td>\n",
       "      <td>True</td>\n",
       "      <td>0</td>\n",
       "      <td>67500.0</td>\n",
       "      <td>80865.0</td>\n",
       "      <td>5881.5</td>\n",
       "      <td>0.031329</td>\n",
       "      <td>-13439</td>\n",
       "      <td>-2717</td>\n",
       "      <td>...</td>\n",
       "      <td>0</td>\n",
       "      <td>0</td>\n",
       "      <td>0</td>\n",
       "      <td>0</td>\n",
       "      <td>0</td>\n",
       "      <td>0</td>\n",
       "      <td>1</td>\n",
       "      <td>0</td>\n",
       "      <td>1</td>\n",
       "      <td>0</td>\n",
       "    </tr>\n",
       "    <tr>\n",
       "      <th>13</th>\n",
       "      <td>100017</td>\n",
       "      <td>True</td>\n",
       "      <td>False</td>\n",
       "      <td>1</td>\n",
       "      <td>225000.0</td>\n",
       "      <td>918468.0</td>\n",
       "      <td>28966.5</td>\n",
       "      <td>0.016612</td>\n",
       "      <td>-14086</td>\n",
       "      <td>-3028</td>\n",
       "      <td>...</td>\n",
       "      <td>0</td>\n",
       "      <td>0</td>\n",
       "      <td>0</td>\n",
       "      <td>0</td>\n",
       "      <td>1</td>\n",
       "      <td>0</td>\n",
       "      <td>0</td>\n",
       "      <td>0</td>\n",
       "      <td>1</td>\n",
       "      <td>0</td>\n",
       "    </tr>\n",
       "    <tr>\n",
       "      <th>14</th>\n",
       "      <td>100018</td>\n",
       "      <td>False</td>\n",
       "      <td>True</td>\n",
       "      <td>0</td>\n",
       "      <td>189000.0</td>\n",
       "      <td>773680.5</td>\n",
       "      <td>32778.0</td>\n",
       "      <td>0.010006</td>\n",
       "      <td>-14583</td>\n",
       "      <td>-203</td>\n",
       "      <td>...</td>\n",
       "      <td>0</td>\n",
       "      <td>0</td>\n",
       "      <td>0</td>\n",
       "      <td>0</td>\n",
       "      <td>1</td>\n",
       "      <td>0</td>\n",
       "      <td>0</td>\n",
       "      <td>0</td>\n",
       "      <td>1</td>\n",
       "      <td>0</td>\n",
       "    </tr>\n",
       "  </tbody>\n",
       "</table>\n",
       "<p>5 rows × 102 columns</p>\n",
       "</div>"
      ],
      "text/plain": [
       "    sk_id_curr  flag_own_car  flag_own_realty  cnt_children  amt_income_total  \\\n",
       "0       100002         False             True             0          202500.0   \n",
       "1       100003         False            False             0          270000.0   \n",
       "12      100016         False             True             0           67500.0   \n",
       "13      100017          True            False             1          225000.0   \n",
       "14      100018         False             True             0          189000.0   \n",
       "\n",
       "    amt_credit  amt_annuity  region_population_relative  days_birth  \\\n",
       "0     406597.5      24700.5                    0.018801       -9461   \n",
       "1    1293502.5      35698.5                    0.003541      -16765   \n",
       "12     80865.0       5881.5                    0.031329      -13439   \n",
       "13    918468.0      28966.5                    0.016612      -14086   \n",
       "14    773680.5      32778.0                    0.010006      -14583   \n",
       "\n",
       "    days_employed           ...             wallsmaterial_mode_Block  \\\n",
       "0            -637           ...                                    0   \n",
       "1           -1188           ...                                    1   \n",
       "12          -2717           ...                                    0   \n",
       "13          -3028           ...                                    0   \n",
       "14           -203           ...                                    0   \n",
       "\n",
       "    wallsmaterial_mode_Mixed  wallsmaterial_mode_Monolithic  \\\n",
       "0                          0                              0   \n",
       "1                          0                              0   \n",
       "12                         0                              0   \n",
       "13                         0                              0   \n",
       "14                         0                              0   \n",
       "\n",
       "    wallsmaterial_mode_Others  wallsmaterial_mode_Panel  \\\n",
       "0                           0                         0   \n",
       "1                           0                         0   \n",
       "12                          0                         0   \n",
       "13                          0                         1   \n",
       "14                          0                         1   \n",
       "\n",
       "    wallsmaterial_mode_Stone, brick  wallsmaterial_mode_Unknown  \\\n",
       "0                                 1                           0   \n",
       "1                                 0                           0   \n",
       "12                                0                           1   \n",
       "13                                0                           0   \n",
       "14                                0                           0   \n",
       "\n",
       "    wallsmaterial_mode_Wooden  emergencystate_mode_No  emergencystate_mode_Yes  \n",
       "0                           0                       1                        0  \n",
       "1                           0                       1                        0  \n",
       "12                          0                       1                        0  \n",
       "13                          0                       1                        0  \n",
       "14                          0                       1                        0  \n",
       "\n",
       "[5 rows x 102 columns]"
      ]
     },
     "execution_count": 176,
     "metadata": {},
     "output_type": "execute_result"
    }
   ],
   "source": [
    "# occupation type and organization type have lots of unique values (19 and 59, respectively). \n",
    "# We'll numerically them, with the number for a label representing the mean target value for that label:\n",
    "X_sm_encoded = apps_small_df.copy()\n",
    "X_sm_encoded['occupation_type_seq'] = mean_seq_encode('occupation_type', 'target', X_sm_encoded)\n",
    "X_sm_encoded['occupation_type'] = mean_encode('occupation_type', 'target', X_sm_encoded)\n",
    "X_sm_encoded['organization_type_seq'] = mean_seq_encode('organization_type', 'target', X_sm_encoded)\n",
    "X_sm_encoded['organization_type'] = mean_encode('organization_type', 'target', X_sm_encoded)\n",
    "\n",
    "X_sm_encoded.drop('target', axis=1, inplace=True)\n",
    "\n",
    "# we'll one-hot encode the rest of our categorical variables, which all have eight or fewer values\n",
    "X_sm_encoded = pd.get_dummies(X_sm_encoded)\n",
    "X_sm_encoded.head()"
   ]
  },
  {
   "cell_type": "markdown",
   "metadata": {},
   "source": [
    "# Model Performance Baselines\n",
    "\n",
    "Before we move on to feature engineering and feature reduction, we should figure out which models seem to work well on our basic version of this dataset.  We'll take the performances of our top two models on this dataset as our benchmarks.  (Our performance metric, as dictated by the Kaggle contest, is AUROC).  Later, for our more heavily engineered versions of the datset, the performance of these models will be our criterion for determining which modifications (added features, reduced featuresets, etc.) are most helpful.\n",
    "\n",
    "In particular, we'll try:\n",
    "- linear regression (with Stochastic Gradient Descent)\n",
    "- Naive Bayes\n",
    "- Random Forest\n",
    "- XGBoost\n",
    "- LightGBM\n",
    "- CatBoost\n",
    "- SVC with kernel approximation (pure SVC will take a lot of processing time)"
   ]
  },
  {
   "cell_type": "code",
   "execution_count": 179,
   "metadata": {},
   "outputs": [],
   "source": [
    "from sklearn.model_selection import cross_val_score, cross_validate\n",
    "from sklearn.linear_model import SGDClassifier\n",
    "from sklearn.naive_bayes import GaussianNB\n",
    "from sklearn.ensemble import GradientBoostingClassifier\n",
    "from lightgbm import LGBMClassifier\n",
    "import lightgbm as lgb\n",
    "from xgboost import XGBClassifier\n",
    "from catboost import CatBoostClassifier\n",
    "\n",
    "from sklearn.kernel_approximation import RBFSampler\n",
    "from sklearn.linear_model import SGDClassifier\n",
    "# http://scikit-learn.org/stable/modules/kernel_approximation.html"
   ]
  },
  {
   "cell_type": "code",
   "execution_count": 33,
   "metadata": {},
   "outputs": [],
   "source": [
    "def testModel(model, X_set):\n",
    "    start = time()\n",
    "    scores = cross_validate(model, X_set, y, cv=3, \n",
    "                            scoring='roc_auc', return_train_score=True)\n",
    "    print(\"Mean train AUROC:\", np.mean(scores['train_score']))\n",
    "    print(\"Mean test AUROC:\", np.mean(scores['test_score']))\n",
    "    print(\"Elapsed time:\", round((time()-start)/60), 'minutes')\n",
    "\n",
    "def testModels(model_tups, X_set):\n",
    "    ''' model_tups = [ (model, name), (model, name) ]'''\n",
    "    for tup in model_tups: \n",
    "        start = time()\n",
    "        scores = cross_validate(tup[0], X_set, y, cv=3, \n",
    "                        scoring='roc_auc', return_train_score=True)\n",
    "        print(tup[1] + ':')\n",
    "        print(\"  Mean train AUROC:\", round(np.mean(scores['train_score']), 4)\n",
    "        print(\"  Mean test AUROC:\", round(np.mean(scores['test_score']), 4)\n",
    "        print(\"  Elapsed time:\", round((time()-start)/60), 'minutes\\n')"
   ]
  },
  {
   "cell_type": "code",
   "execution_count": 371,
   "metadata": {
    "scrolled": true
   },
   "outputs": [
    {
     "name": "stdout",
     "output_type": "stream",
     "text": [
      "SGD logistic regression:\n",
      "  Mean train AUROC: 0.5769022881935183\n",
      "  Mean test AUROC: 0.5865706463745279\n",
      "  Elapsed time: 0 minutes\n",
      "\n",
      "Naive Bayes:\n",
      "  Mean train AUROC: 0.6348737154026584\n",
      "  Mean test AUROC: 0.6345716553279511\n",
      "  Elapsed time: 0 minutes\n",
      "\n",
      "Random Forest:\n",
      "  Mean train AUROC: 1.0\n",
      "  Mean test AUROC: 0.6877217902668434\n",
      "  Elapsed time: 5 minutes\n",
      "\n",
      "XGBoost:\n",
      "  Mean train AUROC: 0.7585623647793106\n",
      "  Mean test AUROC: 0.735536484967723\n",
      "  Elapsed time: 3 minutes\n",
      "\n",
      "LightGBM:\n",
      "  Mean train AUROC: 0.7950088736501995\n",
      "  Mean test AUROC: 0.7450554409436373\n",
      "  Elapsed time: 1 minutes\n",
      "\n",
      "CatBoost:\n",
      "  Mean train AUROC: 0.7638477737151842\n",
      "  Mean test AUROC: 0.7525831455016982\n",
      "  Elapsed time: 6 minutes\n",
      "\n"
     ]
    }
   ],
   "source": [
    "sgd = SGDClassifier(loss='hinge', penalty='l1', alpha=.0001, max_iter=25, random_state=11)\n",
    "gnbc = GaussianNB()\n",
    "rfc = RandomForestClassifier(n_estimators=100)\n",
    "lgbmc = LGBMClassifier()\n",
    "xgbc = XGBClassifier()\n",
    "cbc = CatBoostClassifier(iterations=300, verbose=False)\n",
    "\n",
    "model_tups = [\n",
    "    (sgd, \"SGD logistic regression\"),\n",
    "    (gnbc, \"Naive Bayes\"),\n",
    "    (rfc, \"Random Forest\"),\n",
    "    (xgbc, \"XGBoost\"),\n",
    "    (lgbmc, \"LightGBM\"),\n",
    "    (cbc, \"CatBoost\") \n",
    "]\n",
    "\n",
    "testModels(model_tups, X_sm_encoded)"
   ]
  },
  {
   "cell_type": "markdown",
   "metadata": {},
   "source": [
    "This gives us a good idea of the scores for the most basic versions of these models.  However, while all of these models could be optimized further, this test is particularly unfair to LightGBM and CatBoost, because they can both handle categorical variables directly with the right parameters – right now we're just feeding them dummies like the other algorithms.  (It's also pretty unfair to Naive Bayes since it's treating all the variables as Gaussian when half are Bernoulli, but that's scoring so low that it's not worth worrying about for now.)\n",
    "\n",
    "Let's try running those two again, but with the full categorical data instead of just the dummy versions."
   ]
  },
  {
   "cell_type": "code",
   "execution_count": null,
   "metadata": {},
   "outputs": [],
   "source": [
    "from sklearn.svm import SVC\n",
    "svc = SVC()\n",
    "testModel(svc, X_sm_encoded)\n",
    "# NOTE: ran for 12 minutes; halted"
   ]
  },
  {
   "cell_type": "code",
   "execution_count": 378,
   "metadata": {
    "scrolled": true
   },
   "outputs": [
    {
     "name": "stderr",
     "output_type": "stream",
     "text": [
      "/usr/local/lib/python3.6/site-packages/sklearn/linear_model/stochastic_gradient.py:128: FutureWarning: max_iter and tol parameters have been added in <class 'sklearn.linear_model.stochastic_gradient.SGDClassifier'> in 0.19. If both are left unset, they default to max_iter=5 and tol=None. If tol is not None, max_iter defaults to max_iter=1000. From 0.21, default max_iter will be 1000, and default tol will be 1e-3.\n",
      "  \"and default tol will be 1e-3.\" % type(self), FutureWarning)\n",
      "/usr/local/lib/python3.6/site-packages/sklearn/linear_model/stochastic_gradient.py:128: FutureWarning: max_iter and tol parameters have been added in <class 'sklearn.linear_model.stochastic_gradient.SGDClassifier'> in 0.19. If both are left unset, they default to max_iter=5 and tol=None. If tol is not None, max_iter defaults to max_iter=1000. From 0.21, default max_iter will be 1000, and default tol will be 1e-3.\n",
      "  \"and default tol will be 1e-3.\" % type(self), FutureWarning)\n",
      "/usr/local/lib/python3.6/site-packages/sklearn/linear_model/stochastic_gradient.py:128: FutureWarning: max_iter and tol parameters have been added in <class 'sklearn.linear_model.stochastic_gradient.SGDClassifier'> in 0.19. If both are left unset, they default to max_iter=5 and tol=None. If tol is not None, max_iter defaults to max_iter=1000. From 0.21, default max_iter will be 1000, and default tol will be 1e-3.\n",
      "  \"and default tol will be 1e-3.\" % type(self), FutureWarning)\n"
     ]
    },
    {
     "name": "stdout",
     "output_type": "stream",
     "text": [
      "Mean train AUROC: 0.5017993961485866\n",
      "Mean test AUROC: 0.5021941509087999\n",
      "Elapsed time: 0 minutes\n"
     ]
    }
   ],
   "source": [
    "from sklearn.kernel_approximation import RBFSampler\n",
    "from sklearn.linear_model import SGDClassifier\n",
    "# http://scikit-learn.org/stable/modules/kernel_approximation.html\n",
    "\n",
    "rbf_sampler = RBFSampler(n_components=140)\n",
    "X_rbf = rbf_sampler.fit_transform(X_sm_encoded)\n",
    "sgd = SGDClassifier(alpha=.0001, random_state=11)\n",
    "testModel(sgd, X_rbf)"
   ]
  },
  {
   "cell_type": "markdown",
   "metadata": {},
   "source": [
    "#### Testing direct categorical handling"
   ]
  },
  {
   "cell_type": "code",
   "execution_count": 192,
   "metadata": {},
   "outputs": [],
   "source": [
    "# LightGBM can process categorical cols IF they have integer values AND are explicitly declared in parameters\n",
    "from sklearn.model_selection import train_test_split\n",
    "X_num_encoded = apps_small_df.copy()\n",
    "X_cat_indices = []\n",
    "for colname in X_num_encoded:\n",
    "    if X_num_encoded.dtypes[colname]=='object':\n",
    "        X_cat_indices.append(list(X_num_encoded.columns).index(colname))\n",
    "        X_num_encoded[colname] = mean_seq_encode(colname, 'target', X_num_encoded)\n",
    "        \n",
    "y = X_num_encoded['target']\n",
    "X_num_encoded.drop('target', axis=1, inplace=True) # shifts the indices above, hence the ind-1 offset in next line\n",
    "X_cat_indices = [ind-1 for ind in X_cat_indices]\n",
    "X_num_train, X_num_test, y_train, y_test = train_test_split(X_num_encoded, y, test_size = 1/3)\n",
    "\n",
    "# create LightGBM-specific datasets with the categorical cols explicitly declared\n",
    "lgbm_train = lgb.Dataset(X_num_train, label=y_train, categorical_feature=X_cat_indices)\n",
    "lgbm_test = lgb.Dataset(X_num_test, label=y_test, categorical_feature=X_cat_indices)"
   ]
  },
  {
   "cell_type": "code",
   "execution_count": 193,
   "metadata": {
    "scrolled": true
   },
   "outputs": [
    {
     "name": "stderr",
     "output_type": "stream",
     "text": [
      "/usr/local/lib/python3.6/site-packages/lightgbm/basic.py:1036: UserWarning: Using categorical_feature in Dataset.\n",
      "  warnings.warn('Using categorical_feature in Dataset.')\n"
     ]
    },
    {
     "name": "stdout",
     "output_type": "stream",
     "text": [
      "AUROC train score: 0.8235\n",
      "AUROC test score: 0.7373\n",
      "Elapsed time: 0.1 minutes\n"
     ]
    }
   ],
   "source": [
    "from sklearn.metrics import roc_auc_score\n",
    "\n",
    "# then test LightGBM on this dataset\n",
    "start = time()\n",
    "lgbmc = lgb.train({},lgbm_train)\n",
    "y_train_pred = lgbmc.predict(X_num_train)\n",
    "y_test_pred = lgbmc.predict(X_num_test)\n",
    "train_score = round(roc_auc_score(y_train, y_train_pred), 4)\n",
    "test_score = round(roc_auc_score(y_test, y_test_pred), 4)\n",
    "etime = round((time()-start)/60, 1)\n",
    "print(\"AUROC train score:\", train_score)\n",
    "print(\"AUROC test score:\", test_score)\n",
    "print(\"Elapsed time:\", etime, \"minutes\")"
   ]
  },
  {
   "cell_type": "code",
   "execution_count": 241,
   "metadata": {},
   "outputs": [
    {
     "name": "stdout",
     "output_type": "stream",
     "text": [
      "AUROC train score: 0.5\n",
      "AUROC test score: 0.5\n",
      "Elapsed time: 2.1 minutes\n"
     ]
    }
   ],
   "source": [
    "import catboost as cb\n",
    "\n",
    "start = time()\n",
    "cbc = cb.CatBoostClassifier(eval_metric='AUC', iterations=300, verbose=False)\n",
    "cbc.fit(X_num_train, y_train, cat_features=X_cat_indices)\n",
    "y_train_pred = cbc.predict(X_num_train)\n",
    "y_test_pred = cbc.predict(X_num_test)\n",
    "train_score = round(roc_auc_score(y_train, y_train_pred), 4)\n",
    "test_score = round(roc_auc_score(y_test, y_test_pred), 4)\n",
    "etime = round((time()-start)/60, 1)\n",
    "print(\"AUROC train score:\", train_score)\n",
    "print(\"AUROC test score:\", test_score)\n",
    "print(\"Elapsed time:\", etime, \"minutes\")"
   ]
  },
  {
   "cell_type": "code",
   "execution_count": null,
   "metadata": {},
   "outputs": [],
   "source": [
    "# Trying again, but with non-num-encoded categorical data\n",
    "X = apps_small_df.drop('target', axis=1)\n",
    "y = apps_small_df['target']\n",
    "X_train, X_test, y_train, y_test = train_test_split(X, y, test_size = 1/3)\n",
    "\n",
    "start = time()\n",
    "cbc = cb.CatBoostClassifier(eval_metric='AUC', iterations=300, verbose=False)\n",
    "cbc.fit(X_num_train, y_train, cat_features=X_cat_indices)\n",
    "y_train_pred = cbc.predict(X_train)\n",
    "y_test_pred = cbc.predict(X_test)\n",
    "train_score = round(roc_auc_score(y_train, y_train_pred), 4)\n",
    "test_score = round(roc_auc_score(y_test, y_test_pred), 4)\n",
    "etime = round((time()-start)/60, 1)\n",
    "print(\"AUROC train score:\", train_score)\n",
    "print(\"AUROC test score:\", test_score)\n",
    "print(\"Elapsed time:\", etime, \"minutes\")"
   ]
  },
  {
   "cell_type": "markdown",
   "metadata": {},
   "source": [
    "So we can see that LightGBM sees a slight *reduction* in test score here (0.745-->0.737) when passed explicit categorical tags - although the train score increases significantly, so this may be a fixable overfitting issue.\n",
    "\n",
    "For reasons that are unclear, CatBoost totally falls apart when passed the categorical indices.  The syntax is identical to the syntax of numerous working examples online.\n",
    "\n",
    "For now, given the lack of drastic performance improvement for either model, we can feel free to test our datasets on LightGBM without categorical flags (which would require generating a new list of categorical flags every time).  Once we've decided on our best dataset and are doing our final model optimizations, we can try adding these back in."
   ]
  },
  {
   "cell_type": "markdown",
   "metadata": {},
   "source": [
    "# Feature engineering"
   ]
  },
  {
   "cell_type": "markdown",
   "metadata": {},
   "source": [
    "First let's take a quick look at our feature importances:"
   ]
  },
  {
   "cell_type": "code",
   "execution_count": 232,
   "metadata": {
    "scrolled": true
   },
   "outputs": [
    {
     "data": {
      "image/png": "[encoded data removed]",
      "text/plain": [
       "<matplotlib.figure.Figure at 0x12bb192b0>"
      ]
     },
     "metadata": {},
     "output_type": "display_data"
    }
   ],
   "source": [
    "def plot_importances(X_train, model):\n",
    "    labeled_fi = sorted( list(zip(X_train.columns, model.feature_importance(importance_type='gain'))), key=lambda x: -x[1])\n",
    "    plt.figure(figsize=(8,7))\n",
    "    x_imp = [tup[0] for tup in labeled_fi[:20]]\n",
    "    y_labels = [tup[1] for tup in labeled_fi[:20]]\n",
    "    sns.barplot(y_labels, x_imp)\n",
    "    plt.title(\"Feature importance by total information gain\")\n",
    "    plt.show()\n",
    "    \n",
    "importances = [round(i) for i in lgbmc.feature_importance(importance_type='gain')]\n",
    "plot_importances(X_num_train, lgbmc)"
   ]
  },
  {
   "cell_type": "markdown",
   "metadata": {},
   "source": [
    "This makes sense: the previous evaluations from other sources (ext_source_3 etc.) are highly predictive; organization type and occupation type are important; the amount of the loan and the age of the applicant are important.  No big surprises here.  \n",
    "\n",
    "Now let's try engineering some features based on understanding of the data."
   ]
  },
  {
   "cell_type": "code",
   "execution_count": 239,
   "metadata": {},
   "outputs": [],
   "source": [
    "def add_eng_cols(df):\n",
    "    df['payment_rate'] = df['amt_annuity']/df['amt_credit']\n",
    "    df['relative_annuity'] = df['amt_annuity']/(df['amt_income_total'] + 1)\n",
    "    return df\n",
    "\n",
    "# consider adding either income or net worth relative to mean for profession"
   ]
  },
  {
   "cell_type": "code",
   "execution_count": 240,
   "metadata": {},
   "outputs": [],
   "source": [
    "apps_df = add_eng_cols(apps_df)\n",
    "apps_small_df = add_eng_cols(apps_small_df)"
   ]
  },
  {
   "cell_type": "code",
   "execution_count": 235,
   "metadata": {},
   "outputs": [],
   "source": [
    "df = apps_small_df[:10000].copy()"
   ]
  },
  {
   "cell_type": "markdown",
   "metadata": {},
   "source": [
    "# Table merges\n",
    "- load all ancillary tables\n",
    "- choose and implement merging method for cases with multiple rows per person\n",
    "- create two versions of every table: (1) only >90%-null columns dropped; (2) manually de-nulled\n",
    "- create two merged Total Dataset: the with nulls (for GLRM imputation, with raw apps) and without nulls (for PCA/PLS, with numerical apps)\n",
    "\n",
    "NOTE: may need to add a bool column for isMissing for cases where the null-ness is likely significant"
   ]
  },
  {
   "cell_type": "markdown",
   "metadata": {},
   "source": [
    "The first thing we will need to do with these datasets is group them by current id so that we can perform joins etc."
   ]
  },
  {
   "cell_type": "markdown",
   "metadata": {},
   "source": [
    "## Previous Applications & associated\n",
    "\n",
    "#### Includes: previous_application, POS_CASH_balance, instalments_balance, credit_card_balance"
   ]
  },
  {
   "cell_type": "code",
   "execution_count": 44,
   "metadata": {},
   "outputs": [],
   "source": [
    "# LOAD AND CLEAN:\n",
    "previous_df = pd.read_csv(\"previous_application.csv\")\n",
    "previous_df.columns = [str.lower(column) for column in previous_df.columns]\n",
    "\n",
    "# fill accompanying person and downpayment appropriately\n",
    "previous_df['name_type_suite'].fillna(value='Unaccompanied', inplace=True)\n",
    "previous_df['amt_down_payment'].fillna(value=0, inplace=True)\n",
    "\n",
    "# convert Y/N to boolean\n",
    "previous_df['flag_last_appl_per_contract'] = previous_df['flag_last_appl_per_contract']=='Y'\n",
    "\n",
    "# drop three columns that are overwhelmingly null\n",
    "previous_df.drop(['rate_down_payment',\n",
    "                  'rate_interest_primary',\n",
    "                  'rate_interest_privileged',\n",
    "                  'name_cash_loan_purpose'], \n",
    "                 axis=1, inplace=True)"
   ]
  },
  {
   "cell_type": "markdown",
   "metadata": {},
   "source": [
    "The previous applications datasheet contains 1.7 million previous loan applications by individuals who have current applications in the main spreadsheet.  Some quick stats:\n",
    "- about 200,000 of the 300,000 applicants in our test sheet have past loans on record here\n",
    "- the typical applicant in the previous applications sheet has four previous applications (median)\n",
    "\n",
    "Let's take a quick look at two key distributions.  First, the number of applications per applicant:"
   ]
  },
  {
   "cell_type": "code",
   "execution_count": 248,
   "metadata": {
    "scrolled": true
   },
   "outputs": [
    {
     "data": {
      "image/png": "[encoded data removed]",
      "text/plain": [
       "<matplotlib.figure.Figure at 0x111590588>"
      ]
     },
     "metadata": {},
     "output_type": "display_data"
    }
   ],
   "source": [
    "plt.figure(figsize=(7,5))\n",
    "sns.distplot([val for val in previous_df.sk_id_curr.value_counts() if val <= 20], kde=False, bins=20)\n",
    "plt.title('Distribution of number of applications each applicant has submitted')\n",
    "plt.xlabel('Number of applications submitted')\n",
    "plt.show()"
   ]
  },
  {
   "cell_type": "markdown",
   "metadata": {},
   "source": [
    "We can see that this is a pretty basic Poisson distribution - and that a large majority of current applicants who applied previously applied more than once previously.\n",
    "\n",
    "And let's look at the distribution of how long ago these applications were submitted:"
   ]
  },
  {
   "cell_type": "code",
   "execution_count": 251,
   "metadata": {
    "scrolled": true
   },
   "outputs": [
    {
     "data": {
      "image/png": "[encoded data removed]",
      "text/plain": [
       "<matplotlib.figure.Figure at 0x146cb99b0>"
      ]
     },
     "metadata": {},
     "output_type": "display_data"
    }
   ],
   "source": [
    "plt.figure(figsize=(7,5))\n",
    "sns.distplot(previous_df.days_decision*-1, kde=False)\n",
    "plt.title('Distribution of how long ago previous applications were reviewed')\n",
    "plt.xlabel('Days since review')\n",
    "plt.show()"
   ]
  },
  {
   "cell_type": "markdown",
   "metadata": {},
   "source": [
    "This shows us that the typical previous application was about a year old, and that the records go back about nine years (hence the hard cutoff at the far right).\n",
    "\n",
    "The main challenge of the \"previous applications\" table is that it has multiple entries for many loan applicants.  We'll deal with this in two stages.  First, we'll create a table *prev_df* of just the most recent (\"previous\") application by each applicant, since this will be the most important information.  Then, we'll create a second table *past_df* summarizing all other past applications by grouping by applicant and using three different ways of combining the applicant's values from these applications:\n",
    "- for numerical columns, we'll just take the mean\n",
    "- for most categorical columns, we'll take the most common entry\n",
    "- for a few particularly important numerical columns, we'll one-hot encode them and then sum them\n",
    "\n",
    "First, however, we'll need to process and incorporate our ancillary-ancillary tables that contain supplementary information about previous loans."
   ]
  },
  {
   "cell_type": "markdown",
   "metadata": {},
   "source": [
    "### Supplementary tables for previous applications\n",
    "\n",
    "<b>The POS_CASH_balance table</b> will useful for getting average days late on loans.  Beyond that, the montly timestamps for lateness aren't going to be much use unless we want to assemble some sort of time series.  (We could include the timestamp for the first late payment, but since 95% of loans didn't have any late payments at all, these timestamps would be overwhelmingly null.)"
   ]
  },
  {
   "cell_type": "code",
   "execution_count": 25,
   "metadata": {},
   "outputs": [],
   "source": [
    "#load \n",
    "pcb_df = pd.read_csv(\"POS_CASH_balance.csv\")\n",
    "pcb_df.columns = [str.lower(column) for column in pcb_df.columns]\n",
    "\n",
    "# rename name_contract_status to avoid confusion with previous_df column of same name:\n",
    "# (not doing this creates an evil combinatorial-column-proliferation problem when groupby-ing the combined table)\n",
    "pcb_df.rename(columns={'name_contract_status':'pcb_name_contract_status'}, inplace=True)\n",
    "\n",
    "# compress pcb_df to one row per loan, compiling averages for days late\n",
    "pcb_df = pcb_df[['sk_id_prev', 'sk_dpd', 'sk_dpd_def', 'pcb_name_contract_status']]\n",
    "pcb_df = pcb_df[~pcb_df.pcb_name_contract_status.isin(['Canceled', 'XNA'])] # these 17 rows aren't worth 2 new dummy cols\n",
    "pcb_df = pd.get_dummies(pcb_df, 'pcb_name_contract_status')\n",
    "pcb_df = pcb_df.groupby('sk_id_prev', as_index=False).agg('mean')\n",
    "# some renaming for clarity:\n",
    "pcb_df.rename(columns={\n",
    "    'sk_dpd':'av_dpd_minor',\n",
    "    'sk_dpd_def':'av_dpd_major' \n",
    "    }, inplace=True)"
   ]
  },
  {
   "cell_type": "markdown",
   "metadata": {},
   "source": [
    "<b>The install payments table</b> will yield some useful information on past payments such as average days late, percentage left unpaid, etc."
   ]
  },
  {
   "cell_type": "code",
   "execution_count": 5,
   "metadata": {},
   "outputs": [],
   "source": [
    "# load\n",
    "install_payments_df = pd.read_csv('installments_payments.csv')\n",
    "install_payments_df.columns = [str.lower(column) for column in install_payments_df.columns]\n",
    "\n",
    "# create combination columns\n",
    "install_payments_df['pct_unpaid'] = (\n",
    "    (install_payments_df.amt_instalment - install_payments_df.amt_payment) / install_payments_df.amt_instalment )\n",
    "install_payments_df['days_late'] = install_payments_df.days_entry_payment - install_payments_df.days_instalment\n",
    "\n",
    "# drop columns we don't have use for\n",
    "install_payments_df.drop(['num_instalment_version', \n",
    "                          'amt_payment',\n",
    "                          'days_entry_payment',\n",
    "                          'sk_id_curr'], axis=1, inplace=True)\n",
    "\n",
    "# group by loan\n",
    "agg_funcs = {'num_instalment_number':'count',\n",
    "            'days_instalment':['min', 'max'],\n",
    "            'pct_unpaid':['mean', 'max'],\n",
    "            'days_late':['mean', 'max']}\n",
    "install_payments_df = install_payments_df.groupby('sk_id_prev', as_index=False).agg(agg_funcs)\n",
    "# flatten multiindex\n",
    "install_payments_df.columns = ['_'.join(col) for col in install_payments_df.columns]\n",
    "install_payments_df.rename(columns={'sk_id_prev_':'sk_id_prev'}, inplace=True)"
   ]
  },
  {
   "cell_type": "code",
   "execution_count": 68,
   "metadata": {},
   "outputs": [
    {
     "data": {
      "text/plain": [
       "(997752, 8)"
      ]
     },
     "execution_count": 68,
     "metadata": {},
     "output_type": "execute_result"
    }
   ],
   "source": [
    "install_payments_df.shape"
   ]
  },
  {
   "cell_type": "markdown",
   "metadata": {},
   "source": [
    "<b>The credit card balance table</b> includes a sk_id_prev flag like the other supplementary tables to the previous applications, but it's not totally clear how this relates to to teh sk_id_prev element of the other tables here.  The description unhelpfully states that it contains \"every previous credit in Home Credit (consumer credit and cash loans) related to loans in our sample\" without giving any further specification of *how* it's related.\n",
    "\n",
    "The best as I can figure, this is simply a list of credit card balances and payments during the periods of the different loans.  Given that we have the time distinction of being one loan vs another, we'll get more overall information if we group this with the other past application data.  However, if these features come up empty for importance later, it may be worth trying this as a totally separate table grouped by sk_id_curr rather than sk_id_prev.\n",
    "\n",
    "<b>The other big problem with this dataset is that it only contains entries for about 100K previous loans.</b>  That's only around 7% of them.  Because of this, we'll keep this table separate for now.  GLRM can typically handle this amount of nulls given a reasonably robust remainder of the table, but we'll experiment with that later (either merging it directly to the main dataset, or parsing it through the past/prev splitting below)."
   ]
  },
  {
   "cell_type": "code",
   "execution_count": 65,
   "metadata": {
    "scrolled": false
   },
   "outputs": [],
   "source": [
    "# load\n",
    "cc_bal_df = pd.read_csv('credit_card_balance.csv')\n",
    "cc_bal_df.columns = [str.lower(column) for column in cc_bal_df.columns]\n",
    "\n",
    "# generate pcdt_unpaid column\n",
    "cc_bal_df['pct_unpaid'] = (cc_bal_df.amt_balance - cc_bal_df.amt_payment_current) / (cc_bal_df.amt_balance + 1)\n",
    "\n",
    "# drop sk_id_curr (we'll groupby and later join with sk_id_prev)\n",
    "cc_bal_df.drop('sk_id_curr', axis=1, inplace=True)\n",
    "\n",
    "# these 22 rows out of 3 mil aren't worth 2 new dummy cols:\n",
    "cc_bal_df = cc_bal_df[~cc_bal_df.name_contract_status.isin(['Refused', 'Approved'])]\n",
    "cc_bal_df = pd.get_dummies(cc_bal_df, 'name_contract_status')\n",
    "\n",
    "# because this dataset is pretty opaque, we're just going to take the mean and var of every column for each user\n",
    "cc_bal_df = cc_bal_df.groupby('sk_id_prev', as_index=False).agg(['mean','var'])\n",
    "cc_bal_df.columns = ['_'.join(col) for col in cc_bal_df.columns]\n",
    "# but we don't need variance for the binary dummy columns:\n",
    "cc_bal_df.drop(['name_contract_status_Active_var',\n",
    "                'name_contract_status_Completed_var',\n",
    "                'name_contract_status_Demand_var',\n",
    "                'name_contract_status_Sent proposal_var',\n",
    "                'name_contract_status_Signed_var'], axis=1, inplace=True)\n",
    "cc_bal_df.reset_index(inplace=True) # because for some reason pandas ignores the as_index=False option above"
   ]
  },
  {
   "cell_type": "code",
   "execution_count": 22,
   "metadata": {},
   "outputs": [
    {
     "data": {
      "text/plain": [
       "(104307, 48)"
      ]
     },
     "execution_count": 22,
     "metadata": {},
     "output_type": "execute_result"
    }
   ],
   "source": [
    "cc_bal_df.shape"
   ]
  },
  {
   "cell_type": "markdown",
   "metadata": {},
   "source": [
    "Now we'll join our other two subsidiary tables (omitting cc_bal_df because of its null-sparsity) onto our main table."
   ]
  },
  {
   "cell_type": "code",
   "execution_count": 46,
   "metadata": {},
   "outputs": [],
   "source": [
    "all_previous_df = previous_df.merge(\n",
    "    pcb_df, on='sk_id_prev', how='left').merge(\n",
    "    install_payments_df, on='sk_id_prev', how='left')"
   ]
  },
  {
   "cell_type": "code",
   "execution_count": 27,
   "metadata": {
    "scrolled": true
   },
   "outputs": [
    {
     "data": {
      "text/html": [
       "<div>\n",
       "<style scoped>\n",
       "    .dataframe tbody tr th:only-of-type {\n",
       "        vertical-align: middle;\n",
       "    }\n",
       "\n",
       "    .dataframe tbody tr th {\n",
       "        vertical-align: top;\n",
       "    }\n",
       "\n",
       "    .dataframe thead th {\n",
       "        text-align: right;\n",
       "    }\n",
       "</style>\n",
       "<table border=\"1\" class=\"dataframe\">\n",
       "  <thead>\n",
       "    <tr style=\"text-align: right;\">\n",
       "      <th></th>\n",
       "      <th>sk_id_prev</th>\n",
       "      <th>sk_id_curr</th>\n",
       "      <th>name_contract_type</th>\n",
       "      <th>amt_annuity</th>\n",
       "      <th>amt_application</th>\n",
       "      <th>amt_credit</th>\n",
       "      <th>amt_down_payment</th>\n",
       "      <th>amt_goods_price</th>\n",
       "      <th>weekday_appr_process_start</th>\n",
       "      <th>hour_appr_process_start</th>\n",
       "      <th>...</th>\n",
       "      <th>name_contract_status_Demand</th>\n",
       "      <th>name_contract_status_Returned to the store</th>\n",
       "      <th>name_contract_status_Signed</th>\n",
       "      <th>num_instalment_number_count</th>\n",
       "      <th>days_instalment_min</th>\n",
       "      <th>days_instalment_max</th>\n",
       "      <th>pct_unpaid_mean</th>\n",
       "      <th>pct_unpaid_max</th>\n",
       "      <th>days_late_mean</th>\n",
       "      <th>days_late_max</th>\n",
       "    </tr>\n",
       "  </thead>\n",
       "  <tbody>\n",
       "    <tr>\n",
       "      <th>0</th>\n",
       "      <td>2030495</td>\n",
       "      <td>271877</td>\n",
       "      <td>Consumer loans</td>\n",
       "      <td>1730.430</td>\n",
       "      <td>17145.0</td>\n",
       "      <td>17145.0</td>\n",
       "      <td>0.0</td>\n",
       "      <td>17145.0</td>\n",
       "      <td>SATURDAY</td>\n",
       "      <td>15</td>\n",
       "      <td>...</td>\n",
       "      <td>0.0</td>\n",
       "      <td>0.0</td>\n",
       "      <td>0.0</td>\n",
       "      <td>1.0</td>\n",
       "      <td>-42.0</td>\n",
       "      <td>-42.0</td>\n",
       "      <td>0.0</td>\n",
       "      <td>0.0</td>\n",
       "      <td>0.000000</td>\n",
       "      <td>0.0</td>\n",
       "    </tr>\n",
       "    <tr>\n",
       "      <th>1</th>\n",
       "      <td>2802425</td>\n",
       "      <td>108129</td>\n",
       "      <td>Cash loans</td>\n",
       "      <td>25188.615</td>\n",
       "      <td>607500.0</td>\n",
       "      <td>679671.0</td>\n",
       "      <td>0.0</td>\n",
       "      <td>607500.0</td>\n",
       "      <td>THURSDAY</td>\n",
       "      <td>11</td>\n",
       "      <td>...</td>\n",
       "      <td>0.0</td>\n",
       "      <td>0.0</td>\n",
       "      <td>0.0</td>\n",
       "      <td>5.0</td>\n",
       "      <td>-134.0</td>\n",
       "      <td>-14.0</td>\n",
       "      <td>0.0</td>\n",
       "      <td>0.0</td>\n",
       "      <td>-9.200000</td>\n",
       "      <td>-7.0</td>\n",
       "    </tr>\n",
       "    <tr>\n",
       "      <th>2</th>\n",
       "      <td>2523466</td>\n",
       "      <td>122040</td>\n",
       "      <td>Cash loans</td>\n",
       "      <td>15060.735</td>\n",
       "      <td>112500.0</td>\n",
       "      <td>136444.5</td>\n",
       "      <td>0.0</td>\n",
       "      <td>112500.0</td>\n",
       "      <td>TUESDAY</td>\n",
       "      <td>11</td>\n",
       "      <td>...</td>\n",
       "      <td>0.0</td>\n",
       "      <td>0.0</td>\n",
       "      <td>0.0</td>\n",
       "      <td>9.0</td>\n",
       "      <td>-271.0</td>\n",
       "      <td>-31.0</td>\n",
       "      <td>0.0</td>\n",
       "      <td>0.0</td>\n",
       "      <td>-8.222222</td>\n",
       "      <td>1.0</td>\n",
       "    </tr>\n",
       "    <tr>\n",
       "      <th>3</th>\n",
       "      <td>2819243</td>\n",
       "      <td>176158</td>\n",
       "      <td>Cash loans</td>\n",
       "      <td>47041.335</td>\n",
       "      <td>450000.0</td>\n",
       "      <td>470790.0</td>\n",
       "      <td>0.0</td>\n",
       "      <td>450000.0</td>\n",
       "      <td>MONDAY</td>\n",
       "      <td>7</td>\n",
       "      <td>...</td>\n",
       "      <td>0.0</td>\n",
       "      <td>0.0</td>\n",
       "      <td>0.0</td>\n",
       "      <td>11.0</td>\n",
       "      <td>-482.0</td>\n",
       "      <td>-182.0</td>\n",
       "      <td>0.0</td>\n",
       "      <td>0.0</td>\n",
       "      <td>-7.090909</td>\n",
       "      <td>0.0</td>\n",
       "    </tr>\n",
       "    <tr>\n",
       "      <th>4</th>\n",
       "      <td>1784265</td>\n",
       "      <td>202054</td>\n",
       "      <td>Cash loans</td>\n",
       "      <td>31924.395</td>\n",
       "      <td>337500.0</td>\n",
       "      <td>404055.0</td>\n",
       "      <td>0.0</td>\n",
       "      <td>337500.0</td>\n",
       "      <td>THURSDAY</td>\n",
       "      <td>9</td>\n",
       "      <td>...</td>\n",
       "      <td>NaN</td>\n",
       "      <td>NaN</td>\n",
       "      <td>NaN</td>\n",
       "      <td>NaN</td>\n",
       "      <td>NaN</td>\n",
       "      <td>NaN</td>\n",
       "      <td>NaN</td>\n",
       "      <td>NaN</td>\n",
       "      <td>NaN</td>\n",
       "      <td>NaN</td>\n",
       "    </tr>\n",
       "  </tbody>\n",
       "</table>\n",
       "<p>5 rows × 49 columns</p>\n",
       "</div>"
      ],
      "text/plain": [
       "   sk_id_prev  sk_id_curr name_contract_type  amt_annuity  amt_application  \\\n",
       "0     2030495      271877     Consumer loans     1730.430          17145.0   \n",
       "1     2802425      108129         Cash loans    25188.615         607500.0   \n",
       "2     2523466      122040         Cash loans    15060.735         112500.0   \n",
       "3     2819243      176158         Cash loans    47041.335         450000.0   \n",
       "4     1784265      202054         Cash loans    31924.395         337500.0   \n",
       "\n",
       "   amt_credit  amt_down_payment  amt_goods_price weekday_appr_process_start  \\\n",
       "0     17145.0               0.0          17145.0                   SATURDAY   \n",
       "1    679671.0               0.0         607500.0                   THURSDAY   \n",
       "2    136444.5               0.0         112500.0                    TUESDAY   \n",
       "3    470790.0               0.0         450000.0                     MONDAY   \n",
       "4    404055.0               0.0         337500.0                   THURSDAY   \n",
       "\n",
       "   hour_appr_process_start      ...      name_contract_status_Demand  \\\n",
       "0                       15      ...                              0.0   \n",
       "1                       11      ...                              0.0   \n",
       "2                       11      ...                              0.0   \n",
       "3                        7      ...                              0.0   \n",
       "4                        9      ...                              NaN   \n",
       "\n",
       "   name_contract_status_Returned to the store name_contract_status_Signed  \\\n",
       "0                                         0.0                         0.0   \n",
       "1                                         0.0                         0.0   \n",
       "2                                         0.0                         0.0   \n",
       "3                                         0.0                         0.0   \n",
       "4                                         NaN                         NaN   \n",
       "\n",
       "   num_instalment_number_count days_instalment_min days_instalment_max  \\\n",
       "0                          1.0               -42.0               -42.0   \n",
       "1                          5.0              -134.0               -14.0   \n",
       "2                          9.0              -271.0               -31.0   \n",
       "3                         11.0              -482.0              -182.0   \n",
       "4                          NaN                 NaN                 NaN   \n",
       "\n",
       "  pct_unpaid_mean pct_unpaid_max days_late_mean days_late_max  \n",
       "0             0.0            0.0       0.000000           0.0  \n",
       "1             0.0            0.0      -9.200000          -7.0  \n",
       "2             0.0            0.0      -8.222222           1.0  \n",
       "3             0.0            0.0      -7.090909           0.0  \n",
       "4             NaN            NaN            NaN           NaN  \n",
       "\n",
       "[5 rows x 49 columns]"
      ]
     },
     "execution_count": 27,
     "metadata": {},
     "output_type": "execute_result"
    }
   ],
   "source": [
    "all_previous_df.head()"
   ]
  },
  {
   "cell_type": "markdown",
   "metadata": {},
   "source": [
    "Finally, we'll execute our strategy for splitting the data into one table of just the most recent loan, and one table of all the other past loans."
   ]
  },
  {
   "cell_type": "code",
   "execution_count": 50,
   "metadata": {},
   "outputs": [],
   "source": [
    "# define utility functions for splitting prev (most recent) vs past and grouping past applications by applicant\n",
    "def split_past_prev(df, time_col, past_id):\n",
    "    '''\n",
    "    time_col = column that contains days since application\n",
    "    past_id = column that contains id of the loan represented by the row\n",
    "    '''\n",
    "    start = time()\n",
    "    df = df.sort_values(by=['sk_id_curr', time_col]) # each group sorted by days_decision so most recent is last\n",
    "    prev_df = df.groupby('sk_id_curr').nth(-1) # selects last entry from each group\n",
    "    past_df = df[~df[past_id].isin(prev_df[past_id])] # selects all entries not in previous_df\n",
    "    print(\"Elapsed time (minutes):\", round((time()-start)/60, 1))\n",
    "    return (past_df, prev_df)\n",
    "\n",
    "def categorical_mode(series):\n",
    "    if series.count() == 0:\n",
    "        return float('NaN')\n",
    "    else:\n",
    "        return series.mode()[0]\n",
    "\n",
    "def group_apps(df, count_col, cats_to_encode=[]):\n",
    "    start = time()\n",
    "    \n",
    "    # eliminate spaces from column names:\n",
    "    df.columns = [col.replace(' ', '_') for col in df.columns]\n",
    "    \n",
    "    cat_cols = []\n",
    "    for col in df.columns:\n",
    "        if df.dtypes[col] == 'object' and col not in cats_to_encode:\n",
    "            cat_cols.append(col)\n",
    "    num_cols = [col for col in df.columns if col not in (cat_cols + cats_to_encode)]\n",
    "    df = pd.get_dummies(df, columns=cats_to_encode)\n",
    "    # eliminate spaces from column names:\n",
    "    df.columns = [col.replace(' ', '_') for col in df.columns]\n",
    "    dummy_cols = [col for col in df.columns if col not in (num_cols + cat_cols + cats_to_encode)]\n",
    "    \n",
    "    agg_funcs = {}\n",
    "    for col in dummy_cols:\n",
    "        agg_funcs[col] = 'sum'\n",
    "    for col in num_cols:\n",
    "        agg_funcs[col] = 'mean'\n",
    "    for col in cat_cols:\n",
    "        agg_funcs[col] = categorical_mode  # custom function defined above\n",
    "    agg_funcs[count_col] = 'count'  # we'll rename this prev_app_count below\n",
    "    \n",
    "    print(\"Performing groupby...\")\n",
    "    grouped_df = df.groupby('sk_id_curr').agg(agg_funcs)  # NOTE: takes a while\n",
    "    grouped_df.rename(columns={count_col:'prev_app_count'}, inplace=True)\n",
    "    \n",
    "    print(\"Elapsed time (minutes):\", round((time()-start)/60, 1))\n",
    "    return grouped_df"
   ]
  },
  {
   "cell_type": "code",
   "execution_count": 58,
   "metadata": {
    "scrolled": true
   },
   "outputs": [
    {
     "name": "stdout",
     "output_type": "stream",
     "text": [
      "Elapsed time (minutes): 0.1\n",
      "Performing groupby...\n",
      "Elapsed time (minutes): 20.1\n"
     ]
    }
   ],
   "source": [
    "past_df, prev_df = split_past_prev(all_previous_df, \n",
    "                                   time_col='days_decision', \n",
    "                                   past_id='sk_id_prev')\n",
    "past_df = group_apps(past_df, \n",
    "                     count_col='sk_id_prev', \n",
    "                     cats_to_encode=['name_contract_type','name_contract_status','name_payment_type'])"
   ]
  },
  {
   "cell_type": "code",
   "execution_count": 70,
   "metadata": {
    "scrolled": true
   },
   "outputs": [
    {
     "data": {
      "text/plain": [
       "(338857, 48)"
      ]
     },
     "execution_count": 70,
     "metadata": {},
     "output_type": "execute_result"
    }
   ],
   "source": [
    "prev_df.shape"
   ]
  },
  {
   "cell_type": "code",
   "execution_count": 69,
   "metadata": {
    "scrolled": true
   },
   "outputs": [
    {
     "data": {
      "text/plain": [
       "(278399, 58)"
      ]
     },
     "execution_count": 69,
     "metadata": {},
     "output_type": "execute_result"
    }
   ],
   "source": [
    "past_df.shape"
   ]
  },
  {
   "cell_type": "code",
   "execution_count": 73,
   "metadata": {},
   "outputs": [
    {
     "data": {
      "text/plain": [
       "2681"
      ]
     },
     "execution_count": 73,
     "metadata": {},
     "output_type": "execute_result"
    }
   ],
   "source": [
    "# quick garbage collection cleanup to keep our kernel manageable\n",
    "del previous_df, all_previous_df, pcb_df, install_payments_df\n",
    "gc.collect()"
   ]
  },
  {
   "cell_type": "markdown",
   "metadata": {},
   "source": [
    "## Bureau & bureau balance\n",
    "\n",
    "The Bureau dataframe is like the previous applications table, except that it contains previous applications with other financial institutions, and the information about those applications recorded in the columns is a bit different.  We'll treat it in exactly the same way we treated the previous applications table: split it into one most-recent-app table, and one aggregated all-other-past-apps table.\n",
    "\n",
    "First, however, we'll need to join the data from the <b>bureau balance</b> table.  The bureau balance table contains as distinct rows the monthly loan status for each month for each previous loan with other institutions.  This only contains the loan IDs, and not the current applicant IDs.  We'll consolidate the rows such that each row represents just one previous loan.  Then we'll join this table to the main Bureau table, since they're effectively just a couple more stats for each loan.  Specifically, these stats represent how many months each loan spent with which loan status."
   ]
  },
  {
   "cell_type": "code",
   "execution_count": 78,
   "metadata": {
    "scrolled": false
   },
   "outputs": [
    {
     "data": {
      "text/html": [
       "<div>\n",
       "<style scoped>\n",
       "    .dataframe tbody tr th:only-of-type {\n",
       "        vertical-align: middle;\n",
       "    }\n",
       "\n",
       "    .dataframe tbody tr th {\n",
       "        vertical-align: top;\n",
       "    }\n",
       "\n",
       "    .dataframe thead th {\n",
       "        text-align: right;\n",
       "    }\n",
       "</style>\n",
       "<table border=\"1\" class=\"dataframe\">\n",
       "  <thead>\n",
       "    <tr style=\"text-align: right;\">\n",
       "      <th></th>\n",
       "      <th>sk_id_bureau</th>\n",
       "      <th>status_0</th>\n",
       "      <th>status_1</th>\n",
       "      <th>status_2</th>\n",
       "      <th>status_3</th>\n",
       "      <th>status_4</th>\n",
       "      <th>status_5</th>\n",
       "      <th>status_C</th>\n",
       "      <th>status_X</th>\n",
       "      <th>total_months</th>\n",
       "    </tr>\n",
       "  </thead>\n",
       "  <tbody>\n",
       "    <tr>\n",
       "      <th>0</th>\n",
       "      <td>5001709</td>\n",
       "      <td>0</td>\n",
       "      <td>0</td>\n",
       "      <td>0</td>\n",
       "      <td>0</td>\n",
       "      <td>0</td>\n",
       "      <td>0</td>\n",
       "      <td>86</td>\n",
       "      <td>11</td>\n",
       "      <td>97</td>\n",
       "    </tr>\n",
       "    <tr>\n",
       "      <th>1</th>\n",
       "      <td>5001710</td>\n",
       "      <td>5</td>\n",
       "      <td>0</td>\n",
       "      <td>0</td>\n",
       "      <td>0</td>\n",
       "      <td>0</td>\n",
       "      <td>0</td>\n",
       "      <td>48</td>\n",
       "      <td>30</td>\n",
       "      <td>83</td>\n",
       "    </tr>\n",
       "    <tr>\n",
       "      <th>2</th>\n",
       "      <td>5001711</td>\n",
       "      <td>3</td>\n",
       "      <td>0</td>\n",
       "      <td>0</td>\n",
       "      <td>0</td>\n",
       "      <td>0</td>\n",
       "      <td>0</td>\n",
       "      <td>0</td>\n",
       "      <td>1</td>\n",
       "      <td>4</td>\n",
       "    </tr>\n",
       "    <tr>\n",
       "      <th>3</th>\n",
       "      <td>5001712</td>\n",
       "      <td>10</td>\n",
       "      <td>0</td>\n",
       "      <td>0</td>\n",
       "      <td>0</td>\n",
       "      <td>0</td>\n",
       "      <td>0</td>\n",
       "      <td>9</td>\n",
       "      <td>0</td>\n",
       "      <td>19</td>\n",
       "    </tr>\n",
       "    <tr>\n",
       "      <th>4</th>\n",
       "      <td>5001713</td>\n",
       "      <td>0</td>\n",
       "      <td>0</td>\n",
       "      <td>0</td>\n",
       "      <td>0</td>\n",
       "      <td>0</td>\n",
       "      <td>0</td>\n",
       "      <td>0</td>\n",
       "      <td>22</td>\n",
       "      <td>22</td>\n",
       "    </tr>\n",
       "  </tbody>\n",
       "</table>\n",
       "</div>"
      ],
      "text/plain": [
       "   sk_id_bureau  status_0  status_1  status_2  status_3  status_4  status_5  \\\n",
       "0       5001709         0         0         0         0         0         0   \n",
       "1       5001710         5         0         0         0         0         0   \n",
       "2       5001711         3         0         0         0         0         0   \n",
       "3       5001712        10         0         0         0         0         0   \n",
       "4       5001713         0         0         0         0         0         0   \n",
       "\n",
       "   status_C  status_X  total_months  \n",
       "0        86        11            97  \n",
       "1        48        30            83  \n",
       "2         0         1             4  \n",
       "3         9         0            19  \n",
       "4         0        22            22  "
      ]
     },
     "execution_count": 78,
     "metadata": {},
     "output_type": "execute_result"
    }
   ],
   "source": [
    "# load\n",
    "bureau_balance_df = pd.read_csv('bureau_balance.csv')\n",
    "bureau_balance_df.columns = [str.lower(column) for column in bureau_balance_df.columns]\n",
    "# drop not-so-useful column\n",
    "bureau_balance_df.drop('months_balance', axis=1, inplace=True)\n",
    "# generate dummies for the main categorical var for groupby-ing down to one entry per loan\n",
    "bureau_balance_df = pd.get_dummies(bureau_balance_df, 'status')\n",
    "# groupby and generate a total months column:\n",
    "bureau_balance_df = bureau_balance_df.groupby('sk_id_bureau', as_index=False).agg('sum')\n",
    "bureau_balance_df['total_months'] = bureau_balance_df[bureau_balance_df.columns[1:]].sum(axis=1)\n",
    "bureau_balance_df.head()"
   ]
  },
  {
   "cell_type": "code",
   "execution_count": 75,
   "metadata": {},
   "outputs": [],
   "source": [
    "bureau_balance_df = pd.read_csv('bureau_balance.csv')\n",
    "bureau_balance_df.columns = [str.lower(column) for column in bureau_balance_df.columns]\n",
    "bureau_df = pd.read_csv(\"bureau.csv\")\n",
    "bureau_df.columns = [str.lower(column) for column in bureau_df.columns]\n",
    "# there are only two columns that are over half null, and they're both around 70% and important enough to keep"
   ]
  },
  {
   "cell_type": "code",
   "execution_count": 79,
   "metadata": {
    "scrolled": true
   },
   "outputs": [
    {
     "data": {
      "text/html": [
       "<div>\n",
       "<style scoped>\n",
       "    .dataframe tbody tr th:only-of-type {\n",
       "        vertical-align: middle;\n",
       "    }\n",
       "\n",
       "    .dataframe tbody tr th {\n",
       "        vertical-align: top;\n",
       "    }\n",
       "\n",
       "    .dataframe thead th {\n",
       "        text-align: right;\n",
       "    }\n",
       "</style>\n",
       "<table border=\"1\" class=\"dataframe\">\n",
       "  <thead>\n",
       "    <tr style=\"text-align: right;\">\n",
       "      <th></th>\n",
       "      <th>sk_id_curr</th>\n",
       "      <th>sk_id_bureau</th>\n",
       "      <th>credit_active</th>\n",
       "      <th>credit_currency</th>\n",
       "      <th>days_credit</th>\n",
       "      <th>credit_day_overdue</th>\n",
       "      <th>days_credit_enddate</th>\n",
       "      <th>days_enddate_fact</th>\n",
       "      <th>amt_credit_max_overdue</th>\n",
       "      <th>cnt_credit_prolong</th>\n",
       "      <th>amt_credit_sum</th>\n",
       "      <th>amt_credit_sum_debt</th>\n",
       "      <th>amt_credit_sum_limit</th>\n",
       "      <th>amt_credit_sum_overdue</th>\n",
       "      <th>credit_type</th>\n",
       "      <th>days_credit_update</th>\n",
       "      <th>amt_annuity</th>\n",
       "    </tr>\n",
       "  </thead>\n",
       "  <tbody>\n",
       "    <tr>\n",
       "      <th>0</th>\n",
       "      <td>215354</td>\n",
       "      <td>5714462</td>\n",
       "      <td>Closed</td>\n",
       "      <td>currency 1</td>\n",
       "      <td>-497</td>\n",
       "      <td>0</td>\n",
       "      <td>-153.0</td>\n",
       "      <td>-153.0</td>\n",
       "      <td>NaN</td>\n",
       "      <td>0</td>\n",
       "      <td>91323.0</td>\n",
       "      <td>0.0</td>\n",
       "      <td>NaN</td>\n",
       "      <td>0.0</td>\n",
       "      <td>Consumer credit</td>\n",
       "      <td>-131</td>\n",
       "      <td>NaN</td>\n",
       "    </tr>\n",
       "    <tr>\n",
       "      <th>1</th>\n",
       "      <td>215354</td>\n",
       "      <td>5714463</td>\n",
       "      <td>Active</td>\n",
       "      <td>currency 1</td>\n",
       "      <td>-208</td>\n",
       "      <td>0</td>\n",
       "      <td>1075.0</td>\n",
       "      <td>NaN</td>\n",
       "      <td>NaN</td>\n",
       "      <td>0</td>\n",
       "      <td>225000.0</td>\n",
       "      <td>171342.0</td>\n",
       "      <td>NaN</td>\n",
       "      <td>0.0</td>\n",
       "      <td>Credit card</td>\n",
       "      <td>-20</td>\n",
       "      <td>NaN</td>\n",
       "    </tr>\n",
       "    <tr>\n",
       "      <th>2</th>\n",
       "      <td>215354</td>\n",
       "      <td>5714464</td>\n",
       "      <td>Active</td>\n",
       "      <td>currency 1</td>\n",
       "      <td>-203</td>\n",
       "      <td>0</td>\n",
       "      <td>528.0</td>\n",
       "      <td>NaN</td>\n",
       "      <td>NaN</td>\n",
       "      <td>0</td>\n",
       "      <td>464323.5</td>\n",
       "      <td>NaN</td>\n",
       "      <td>NaN</td>\n",
       "      <td>0.0</td>\n",
       "      <td>Consumer credit</td>\n",
       "      <td>-16</td>\n",
       "      <td>NaN</td>\n",
       "    </tr>\n",
       "    <tr>\n",
       "      <th>3</th>\n",
       "      <td>215354</td>\n",
       "      <td>5714465</td>\n",
       "      <td>Active</td>\n",
       "      <td>currency 1</td>\n",
       "      <td>-203</td>\n",
       "      <td>0</td>\n",
       "      <td>NaN</td>\n",
       "      <td>NaN</td>\n",
       "      <td>NaN</td>\n",
       "      <td>0</td>\n",
       "      <td>90000.0</td>\n",
       "      <td>NaN</td>\n",
       "      <td>NaN</td>\n",
       "      <td>0.0</td>\n",
       "      <td>Credit card</td>\n",
       "      <td>-16</td>\n",
       "      <td>NaN</td>\n",
       "    </tr>\n",
       "    <tr>\n",
       "      <th>4</th>\n",
       "      <td>215354</td>\n",
       "      <td>5714466</td>\n",
       "      <td>Active</td>\n",
       "      <td>currency 1</td>\n",
       "      <td>-629</td>\n",
       "      <td>0</td>\n",
       "      <td>1197.0</td>\n",
       "      <td>NaN</td>\n",
       "      <td>77674.5</td>\n",
       "      <td>0</td>\n",
       "      <td>2700000.0</td>\n",
       "      <td>NaN</td>\n",
       "      <td>NaN</td>\n",
       "      <td>0.0</td>\n",
       "      <td>Consumer credit</td>\n",
       "      <td>-21</td>\n",
       "      <td>NaN</td>\n",
       "    </tr>\n",
       "  </tbody>\n",
       "</table>\n",
       "</div>"
      ],
      "text/plain": [
       "   sk_id_curr  sk_id_bureau credit_active credit_currency  days_credit  \\\n",
       "0      215354       5714462        Closed      currency 1         -497   \n",
       "1      215354       5714463        Active      currency 1         -208   \n",
       "2      215354       5714464        Active      currency 1         -203   \n",
       "3      215354       5714465        Active      currency 1         -203   \n",
       "4      215354       5714466        Active      currency 1         -629   \n",
       "\n",
       "   credit_day_overdue  days_credit_enddate  days_enddate_fact  \\\n",
       "0                   0               -153.0             -153.0   \n",
       "1                   0               1075.0                NaN   \n",
       "2                   0                528.0                NaN   \n",
       "3                   0                  NaN                NaN   \n",
       "4                   0               1197.0                NaN   \n",
       "\n",
       "   amt_credit_max_overdue  cnt_credit_prolong  amt_credit_sum  \\\n",
       "0                     NaN                   0         91323.0   \n",
       "1                     NaN                   0        225000.0   \n",
       "2                     NaN                   0        464323.5   \n",
       "3                     NaN                   0         90000.0   \n",
       "4                 77674.5                   0       2700000.0   \n",
       "\n",
       "   amt_credit_sum_debt  amt_credit_sum_limit  amt_credit_sum_overdue  \\\n",
       "0                  0.0                   NaN                     0.0   \n",
       "1             171342.0                   NaN                     0.0   \n",
       "2                  NaN                   NaN                     0.0   \n",
       "3                  NaN                   NaN                     0.0   \n",
       "4                  NaN                   NaN                     0.0   \n",
       "\n",
       "       credit_type  days_credit_update  amt_annuity  \n",
       "0  Consumer credit                -131          NaN  \n",
       "1      Credit card                 -20          NaN  \n",
       "2  Consumer credit                 -16          NaN  \n",
       "3      Credit card                 -16          NaN  \n",
       "4  Consumer credit                 -21          NaN  "
      ]
     },
     "execution_count": 79,
     "metadata": {},
     "output_type": "execute_result"
    }
   ],
   "source": [
    "# load\n",
    "bureau_df = pd.read_csv(\"bureau.csv\")\n",
    "bureau_df.columns = [str.lower(column) for column in bureau_df.columns]\n",
    "# no null-dropping: only two columns are over half null, and they're both around 70% and important enough to keep\n",
    "bureau_df.head()"
   ]
  },
  {
   "cell_type": "code",
   "execution_count": 397,
   "metadata": {
    "scrolled": true
   },
   "outputs": [
    {
     "data": {
      "image/png": "[encoded data removed]",
      "text/plain": [
       "<matplotlib.figure.Figure at 0x12bb67a90>"
      ]
     },
     "metadata": {},
     "output_type": "display_data"
    }
   ],
   "source": [
    "plt.figure(figsize=(7,5))\n",
    "sns.distplot([val for val in bureau_df.sk_id_curr.value_counts() if val <= 20], kde=False, bins=20)\n",
    "plt.title('Distribution of number of applications each applicant has submitted')\n",
    "plt.xlabel('Number of applications submitted')\n",
    "plt.show()"
   ]
  },
  {
   "cell_type": "markdown",
   "metadata": {},
   "source": [
    "To confirm: the distribution of the number of previous applications an applicant has submitted is comparable to that distribution for the previous_applications table (albeit the total number of applicants represented is about 30% less, so about half of our total applicants in the main apps_df table)."
   ]
  },
  {
   "cell_type": "code",
   "execution_count": 80,
   "metadata": {
    "scrolled": true
   },
   "outputs": [],
   "source": [
    "bureau_df = pd.merge(bureau_df, bureau_balance_df, on='sk_id_bureau', how='left')"
   ]
  },
  {
   "cell_type": "code",
   "execution_count": 81,
   "metadata": {
    "scrolled": true
   },
   "outputs": [
    {
     "name": "stdout",
     "output_type": "stream",
     "text": [
      "Elapsed time (minutes): 0.1\n",
      "Performing groupby...\n",
      "Elapsed time (minutes): 4.2\n"
     ]
    }
   ],
   "source": [
    "past_bureau_df, prev_bureau_df = split_past_prev(bureau_df, 'days_credit', 'sk_id_bureau')\n",
    "past_bureau_df = group_apps(past_bureau_df, 'sk_id_bureau', cats_to_encode=['credit_active'])\n",
    "# bonus: add credit_type to special columns (has six main types, but another eight or so with few values)"
   ]
  },
  {
   "cell_type": "code",
   "execution_count": 84,
   "metadata": {},
   "outputs": [],
   "source": [
    "prev_bureau_df.to_csv('prev_bureau_df.csv')\n",
    "past_bureau_df.to_csv('past_bureau_df.csv')"
   ]
  },
  {
   "cell_type": "markdown",
   "metadata": {},
   "source": [
    "### Review of data\n",
    "To review, our operative data tables now consist of:\n",
    "- <b>apps_df:</b> our main apps data, complete with\n",
    "- <b>apps_small_df:</b> a condensed and null-less version of the main apps table\n",
    "- <b>prev_df:</b> data from each applicant's previous application, if the applicant has any on record\n",
    "- <b>past_df:</b> data from each applicant's other past applications, if the applicant has any on record\n",
    "- <b>prev_bureau_df:</b> data from each applicant's previous application with other agencies, if the applicant has any on record\n",
    "- <b>past_bureau_df:</b> data from each applicant's other past applications with other agencies, if the applicant has any on record\n",
    "- <b>cc_bal_df:</b> past credit card data for a small subset (<5%) of applicants\n"
   ]
  },
  {
   "cell_type": "markdown",
   "metadata": {},
   "source": [
    "## TOTAL DATA RELOAD:"
   ]
  },
  {
   "cell_type": "code",
   "execution_count": 85,
   "metadata": {},
   "outputs": [],
   "source": [
    "apps_df = pd.read_csv('apps_df.csv')\n",
    "apps_small_df = pd.read_csv('apps_small_df.csv')"
   ]
  },
  {
   "cell_type": "code",
   "execution_count": 88,
   "metadata": {},
   "outputs": [
    {
     "data": {
      "text/plain": [
       "(307511, 78)"
      ]
     },
     "execution_count": 88,
     "metadata": {},
     "output_type": "execute_result"
    }
   ],
   "source": [
    "apps_df.shape"
   ]
  },
  {
   "cell_type": "code",
   "execution_count": 89,
   "metadata": {},
   "outputs": [
    {
     "data": {
      "text/plain": [
       "(158940, 56)"
      ]
     },
     "execution_count": 89,
     "metadata": {},
     "output_type": "execute_result"
    }
   ],
   "source": [
    "apps_small_df.shape"
   ]
  },
  {
   "cell_type": "code",
   "execution_count": null,
   "metadata": {},
   "outputs": [],
   "source": [
    "apps_df = pd.read_csv('apps_df.csv')\n",
    "apps_small_df = pd.read_csv('apps_small_df.csv')\n",
    "prev_df = pd.read_csv('prev_df.csv')\n",
    "past_df = pd.read_csv('past_df.csv')\n",
    "prev_bureau_df = pd.read_csv('prev_bureau_df.csv')\n",
    "past_bureau_df = pd.read_csv('past_bureau_df.csv')\n",
    "cc_bal_df = pd.read_csv('cc_bal_df.csv')"
   ]
  },
  {
   "cell_type": "markdown",
   "metadata": {},
   "source": [
    "# Feature reduction & imputing methods\n",
    "\n",
    "Now that we have our data compiled, we'll work to reduce them down to a manageably-sized, null-less datase to run our predictive algorithms on.  We'll try a couple methods here:\n",
    "- <b>GLRM total:</b> running GLRM on a merged version of all the above data\n",
    "- <b>GLRM piecemeal:</b> running GLRM on each ancillary dataset above, and merging the reduced tables to the main dataset\n",
    "- <b>PCA:</b> running PCA to reduce a mean-imputed, one-hot-encoded version of the total datset\n",
    "- <b>PLS:</b> running PLS to reduce a mean-imputed, one-hot-encoded version of the total dataset"
   ]
  },
  {
   "cell_type": "markdown",
   "metadata": {},
   "source": [
    "## GLRM total"
   ]
  },
  {
   "cell_type": "code",
   "execution_count": null,
   "metadata": {},
   "outputs": [],
   "source": [
    "start = time()\n",
    "full_dataset = apps_df.merge(\n",
    "    prev_df, on=\"sk_id_curr\", how=\"left\").merge(\n",
    "    past_df, on=\"sk_id_curr\", how=\"left\").merge(\n",
    "    prev_bureau_df, on=\"sk_id_curr\", how=\"left\").merge(\n",
    "    past_bureau_df, on=\"sk_id_curr\", how=\"left\").merge(\n",
    ")\n",
    "print(round(((time()-start)/60),2), \"seconds\")"
   ]
  },
  {
   "cell_type": "markdown",
   "metadata": {},
   "source": [
    "## GLRM piecemeal"
   ]
  },
  {
   "cell_type": "markdown",
   "metadata": {},
   "source": [
    "# Scratch"
   ]
  },
  {
   "cell_type": "code",
   "execution_count": 5,
   "metadata": {},
   "outputs": [],
   "source": [
    "df2 = pd.DataFrame({ 'A' : 1.,\n",
    "                         'B' : pd.Timestamp('20130102'),\n",
    "                         'C' : pd.Series(1,index=list(range(4)),dtype='float32'),\n",
    "                         'D' : np.array([3] * 4,dtype='int32'),\n",
    "                         'E' : pd.Categorical([\"test\",\"train\",\"test\",\"train\"]),\n",
    "                         'F' : 'foo' })"
   ]
  },
  {
   "cell_type": "code",
   "execution_count": 6,
   "metadata": {
    "scrolled": false
   },
   "outputs": [
    {
     "data": {
      "text/html": [
       "<div>\n",
       "<style scoped>\n",
       "    .dataframe tbody tr th:only-of-type {\n",
       "        vertical-align: middle;\n",
       "    }\n",
       "\n",
       "    .dataframe tbody tr th {\n",
       "        vertical-align: top;\n",
       "    }\n",
       "\n",
       "    .dataframe thead th {\n",
       "        text-align: right;\n",
       "    }\n",
       "</style>\n",
       "<table border=\"1\" class=\"dataframe\">\n",
       "  <thead>\n",
       "    <tr style=\"text-align: right;\">\n",
       "      <th></th>\n",
       "      <th>A</th>\n",
       "      <th>B</th>\n",
       "      <th>C</th>\n",
       "      <th>D</th>\n",
       "      <th>E</th>\n",
       "      <th>F</th>\n",
       "    </tr>\n",
       "  </thead>\n",
       "  <tbody>\n",
       "    <tr>\n",
       "      <th>0</th>\n",
       "      <td>1.0</td>\n",
       "      <td>2013-01-02</td>\n",
       "      <td>1.0</td>\n",
       "      <td>3</td>\n",
       "      <td>test</td>\n",
       "      <td>foo</td>\n",
       "    </tr>\n",
       "    <tr>\n",
       "      <th>1</th>\n",
       "      <td>1.0</td>\n",
       "      <td>2013-01-02</td>\n",
       "      <td>1.0</td>\n",
       "      <td>3</td>\n",
       "      <td>train</td>\n",
       "      <td>foo</td>\n",
       "    </tr>\n",
       "    <tr>\n",
       "      <th>2</th>\n",
       "      <td>1.0</td>\n",
       "      <td>2013-01-02</td>\n",
       "      <td>1.0</td>\n",
       "      <td>3</td>\n",
       "      <td>test</td>\n",
       "      <td>foo</td>\n",
       "    </tr>\n",
       "    <tr>\n",
       "      <th>3</th>\n",
       "      <td>1.0</td>\n",
       "      <td>2013-01-02</td>\n",
       "      <td>1.0</td>\n",
       "      <td>3</td>\n",
       "      <td>train</td>\n",
       "      <td>foo</td>\n",
       "    </tr>\n",
       "  </tbody>\n",
       "</table>\n",
       "</div>"
      ],
      "text/plain": [
       "     A          B    C  D      E    F\n",
       "0  1.0 2013-01-02  1.0  3   test  foo\n",
       "1  1.0 2013-01-02  1.0  3  train  foo\n",
       "2  1.0 2013-01-02  1.0  3   test  foo\n",
       "3  1.0 2013-01-02  1.0  3  train  foo"
      ]
     },
     "execution_count": 6,
     "metadata": {},
     "output_type": "execute_result"
    }
   ],
   "source": [
    "df2.head()"
   ]
  },
  {
   "cell_type": "code",
   "execution_count": 17,
   "metadata": {
    "scrolled": true
   },
   "outputs": [
    {
     "name": "stderr",
     "output_type": "stream",
     "text": [
      "/usr/local/lib/python3.6/site-packages/scipy/stats/stats.py:245: RuntimeWarning: The input array could not be properly checked for nan values. nan values will be ignored.\n",
      "  \"values. nan values will be ignored.\", RuntimeWarning)\n"
     ]
    },
    {
     "data": {
      "text/html": [
       "<div>\n",
       "<style scoped>\n",
       "    .dataframe tbody tr th:only-of-type {\n",
       "        vertical-align: middle;\n",
       "    }\n",
       "\n",
       "    .dataframe tbody tr th {\n",
       "        vertical-align: top;\n",
       "    }\n",
       "\n",
       "    .dataframe thead th {\n",
       "        text-align: right;\n",
       "    }\n",
       "</style>\n",
       "<table border=\"1\" class=\"dataframe\">\n",
       "  <thead>\n",
       "    <tr style=\"text-align: right;\">\n",
       "      <th></th>\n",
       "      <th>B</th>\n",
       "      <th>C</th>\n",
       "      <th>D</th>\n",
       "      <th>E</th>\n",
       "      <th>F</th>\n",
       "    </tr>\n",
       "    <tr>\n",
       "      <th>A</th>\n",
       "      <th></th>\n",
       "      <th></th>\n",
       "      <th></th>\n",
       "      <th></th>\n",
       "      <th></th>\n",
       "    </tr>\n",
       "  </thead>\n",
       "  <tbody>\n",
       "    <tr>\n",
       "      <th>1.0</th>\n",
       "      <td>2013-01-02</td>\n",
       "      <td>1.0</td>\n",
       "      <td>3</td>\n",
       "      <td>test</td>\n",
       "      <td>foo</td>\n",
       "    </tr>\n",
       "  </tbody>\n",
       "</table>\n",
       "</div>"
      ],
      "text/plain": [
       "             B    C  D     E    F\n",
       "A                                \n",
       "1.0 2013-01-02  1.0  3  test  foo"
      ]
     },
     "execution_count": 17,
     "metadata": {},
     "output_type": "execute_result"
    }
   ],
   "source": [
    "df2.groupby('A').agg(lambda x: sp.stats.mode(x)[0][0])"
   ]
  },
  {
   "cell_type": "code",
   "execution_count": 99,
   "metadata": {},
   "outputs": [
    {
     "name": "stdout",
     "output_type": "stream",
     "text": [
      "141594\n"
     ]
    }
   ],
   "source": [
    "withheld = [num for num in previous_df.sk_id_curr.unique() if num not in raw_apps_df.sk_id_curr]\n",
    "print(len(withheld))"
   ]
  },
  {
   "cell_type": "code",
   "execution_count": 100,
   "metadata": {},
   "outputs": [
    {
     "name": "stdout",
     "output_type": "stream",
     "text": [
      "197263\n"
     ]
    }
   ],
   "source": [
    "repeats = [num for num in previous_df.sk_id_curr.unique() if num in raw_apps_df.sk_id_curr]\n",
    "print(len(repeats))"
   ]
  },
  {
   "cell_type": "code",
   "execution_count": 24,
   "metadata": {
    "scrolled": true
   },
   "outputs": [
    {
     "data": {
      "text/html": [
       "<div>\n",
       "<style scoped>\n",
       "    .dataframe tbody tr th:only-of-type {\n",
       "        vertical-align: middle;\n",
       "    }\n",
       "\n",
       "    .dataframe tbody tr th {\n",
       "        vertical-align: top;\n",
       "    }\n",
       "\n",
       "    .dataframe thead th {\n",
       "        text-align: right;\n",
       "    }\n",
       "</style>\n",
       "<table border=\"1\" class=\"dataframe\">\n",
       "  <thead>\n",
       "    <tr style=\"text-align: right;\">\n",
       "      <th></th>\n",
       "      <th>sk_id_prev</th>\n",
       "      <th>sk_id_curr</th>\n",
       "      <th>name_contract_type</th>\n",
       "      <th>amt_annuity</th>\n",
       "      <th>amt_application</th>\n",
       "      <th>amt_credit</th>\n",
       "      <th>amt_down_payment</th>\n",
       "      <th>amt_goods_price</th>\n",
       "      <th>weekday_appr_process_start</th>\n",
       "      <th>hour_appr_process_start</th>\n",
       "      <th>...</th>\n",
       "      <th>name_seller_industry</th>\n",
       "      <th>cnt_payment</th>\n",
       "      <th>name_yield_group</th>\n",
       "      <th>product_combination</th>\n",
       "      <th>days_first_drawing</th>\n",
       "      <th>days_first_due</th>\n",
       "      <th>days_last_due_1st_version</th>\n",
       "      <th>days_last_due</th>\n",
       "      <th>days_termination</th>\n",
       "      <th>nflag_insured_on_approval</th>\n",
       "    </tr>\n",
       "  </thead>\n",
       "  <tbody>\n",
       "    <tr>\n",
       "      <th>0</th>\n",
       "      <td>2030495</td>\n",
       "      <td>271877</td>\n",
       "      <td>Consumer loans</td>\n",
       "      <td>1730.430</td>\n",
       "      <td>17145.0</td>\n",
       "      <td>17145.0</td>\n",
       "      <td>0.0</td>\n",
       "      <td>17145.0</td>\n",
       "      <td>SATURDAY</td>\n",
       "      <td>15</td>\n",
       "      <td>...</td>\n",
       "      <td>Connectivity</td>\n",
       "      <td>12.0</td>\n",
       "      <td>middle</td>\n",
       "      <td>POS mobile with interest</td>\n",
       "      <td>365243.0</td>\n",
       "      <td>-42.0</td>\n",
       "      <td>300.0</td>\n",
       "      <td>-42.0</td>\n",
       "      <td>-37.0</td>\n",
       "      <td>0.0</td>\n",
       "    </tr>\n",
       "    <tr>\n",
       "      <th>1</th>\n",
       "      <td>2802425</td>\n",
       "      <td>108129</td>\n",
       "      <td>Cash loans</td>\n",
       "      <td>25188.615</td>\n",
       "      <td>607500.0</td>\n",
       "      <td>679671.0</td>\n",
       "      <td>NaN</td>\n",
       "      <td>607500.0</td>\n",
       "      <td>THURSDAY</td>\n",
       "      <td>11</td>\n",
       "      <td>...</td>\n",
       "      <td>XNA</td>\n",
       "      <td>36.0</td>\n",
       "      <td>low_action</td>\n",
       "      <td>Cash X-Sell: low</td>\n",
       "      <td>365243.0</td>\n",
       "      <td>-134.0</td>\n",
       "      <td>916.0</td>\n",
       "      <td>365243.0</td>\n",
       "      <td>365243.0</td>\n",
       "      <td>1.0</td>\n",
       "    </tr>\n",
       "    <tr>\n",
       "      <th>2</th>\n",
       "      <td>2523466</td>\n",
       "      <td>122040</td>\n",
       "      <td>Cash loans</td>\n",
       "      <td>15060.735</td>\n",
       "      <td>112500.0</td>\n",
       "      <td>136444.5</td>\n",
       "      <td>NaN</td>\n",
       "      <td>112500.0</td>\n",
       "      <td>TUESDAY</td>\n",
       "      <td>11</td>\n",
       "      <td>...</td>\n",
       "      <td>XNA</td>\n",
       "      <td>12.0</td>\n",
       "      <td>high</td>\n",
       "      <td>Cash X-Sell: high</td>\n",
       "      <td>365243.0</td>\n",
       "      <td>-271.0</td>\n",
       "      <td>59.0</td>\n",
       "      <td>365243.0</td>\n",
       "      <td>365243.0</td>\n",
       "      <td>1.0</td>\n",
       "    </tr>\n",
       "    <tr>\n",
       "      <th>3</th>\n",
       "      <td>2819243</td>\n",
       "      <td>176158</td>\n",
       "      <td>Cash loans</td>\n",
       "      <td>47041.335</td>\n",
       "      <td>450000.0</td>\n",
       "      <td>470790.0</td>\n",
       "      <td>NaN</td>\n",
       "      <td>450000.0</td>\n",
       "      <td>MONDAY</td>\n",
       "      <td>7</td>\n",
       "      <td>...</td>\n",
       "      <td>XNA</td>\n",
       "      <td>12.0</td>\n",
       "      <td>middle</td>\n",
       "      <td>Cash X-Sell: middle</td>\n",
       "      <td>365243.0</td>\n",
       "      <td>-482.0</td>\n",
       "      <td>-152.0</td>\n",
       "      <td>-182.0</td>\n",
       "      <td>-177.0</td>\n",
       "      <td>1.0</td>\n",
       "    </tr>\n",
       "    <tr>\n",
       "      <th>4</th>\n",
       "      <td>1784265</td>\n",
       "      <td>202054</td>\n",
       "      <td>Cash loans</td>\n",
       "      <td>31924.395</td>\n",
       "      <td>337500.0</td>\n",
       "      <td>404055.0</td>\n",
       "      <td>NaN</td>\n",
       "      <td>337500.0</td>\n",
       "      <td>THURSDAY</td>\n",
       "      <td>9</td>\n",
       "      <td>...</td>\n",
       "      <td>XNA</td>\n",
       "      <td>24.0</td>\n",
       "      <td>high</td>\n",
       "      <td>Cash Street: high</td>\n",
       "      <td>NaN</td>\n",
       "      <td>NaN</td>\n",
       "      <td>NaN</td>\n",
       "      <td>NaN</td>\n",
       "      <td>NaN</td>\n",
       "      <td>NaN</td>\n",
       "    </tr>\n",
       "  </tbody>\n",
       "</table>\n",
       "<p>5 rows × 37 columns</p>\n",
       "</div>"
      ],
      "text/plain": [
       "   sk_id_prev  sk_id_curr name_contract_type  amt_annuity  amt_application  \\\n",
       "0     2030495      271877     Consumer loans     1730.430          17145.0   \n",
       "1     2802425      108129         Cash loans    25188.615         607500.0   \n",
       "2     2523466      122040         Cash loans    15060.735         112500.0   \n",
       "3     2819243      176158         Cash loans    47041.335         450000.0   \n",
       "4     1784265      202054         Cash loans    31924.395         337500.0   \n",
       "\n",
       "   amt_credit  amt_down_payment  amt_goods_price weekday_appr_process_start  \\\n",
       "0     17145.0               0.0          17145.0                   SATURDAY   \n",
       "1    679671.0               NaN         607500.0                   THURSDAY   \n",
       "2    136444.5               NaN         112500.0                    TUESDAY   \n",
       "3    470790.0               NaN         450000.0                     MONDAY   \n",
       "4    404055.0               NaN         337500.0                   THURSDAY   \n",
       "\n",
       "   hour_appr_process_start            ...            name_seller_industry  \\\n",
       "0                       15            ...                    Connectivity   \n",
       "1                       11            ...                             XNA   \n",
       "2                       11            ...                             XNA   \n",
       "3                        7            ...                             XNA   \n",
       "4                        9            ...                             XNA   \n",
       "\n",
       "   cnt_payment  name_yield_group       product_combination  \\\n",
       "0         12.0            middle  POS mobile with interest   \n",
       "1         36.0        low_action          Cash X-Sell: low   \n",
       "2         12.0              high         Cash X-Sell: high   \n",
       "3         12.0            middle       Cash X-Sell: middle   \n",
       "4         24.0              high         Cash Street: high   \n",
       "\n",
       "   days_first_drawing days_first_due days_last_due_1st_version  days_last_due  \\\n",
       "0            365243.0          -42.0                     300.0          -42.0   \n",
       "1            365243.0         -134.0                     916.0       365243.0   \n",
       "2            365243.0         -271.0                      59.0       365243.0   \n",
       "3            365243.0         -482.0                    -152.0         -182.0   \n",
       "4                 NaN            NaN                       NaN            NaN   \n",
       "\n",
       "  days_termination nflag_insured_on_approval  \n",
       "0            -37.0                       0.0  \n",
       "1         365243.0                       1.0  \n",
       "2         365243.0                       1.0  \n",
       "3           -177.0                       1.0  \n",
       "4              NaN                       NaN  \n",
       "\n",
       "[5 rows x 37 columns]"
      ]
     },
     "execution_count": 24,
     "metadata": {},
     "output_type": "execute_result"
    }
   ],
   "source": [
    "previous_df.head()"
   ]
  },
  {
   "cell_type": "code",
   "execution_count": 116,
   "metadata": {
    "scrolled": false
   },
   "outputs": [
    {
     "data": {
      "text/plain": [
       "Approved        1036781\n",
       "Canceled         316319\n",
       "Refused          290678\n",
       "Unused offer      26436\n",
       "Name: name_contract_status, dtype: int64"
      ]
     },
     "execution_count": 116,
     "metadata": {},
     "output_type": "execute_result"
    }
   ],
   "source": [
    "previous_df.name_contract_status.value_counts()"
   ]
  },
  {
   "cell_type": "code",
   "execution_count": null,
   "metadata": {},
   "outputs": [],
   "source": [
    "previous_df.name_contract_status.value_counts()"
   ]
  },
  {
   "cell_type": "code",
   "execution_count": 86,
   "metadata": {},
   "outputs": [
    {
     "data": {
      "text/plain": [
       "(1670214, 37)"
      ]
     },
     "execution_count": 86,
     "metadata": {},
     "output_type": "execute_result"
    }
   ],
   "source": [
    "previous_df.shape"
   ]
  },
  {
   "cell_type": "code",
   "execution_count": 85,
   "metadata": {
    "scrolled": true
   },
   "outputs": [
    {
     "data": {
      "text/plain": [
       "SK_ID_PREV                           0\n",
       "SK_ID_CURR                           0\n",
       "NAME_CONTRACT_TYPE                   0\n",
       "AMT_ANNUITY                     372235\n",
       "AMT_APPLICATION                      0\n",
       "AMT_CREDIT                           1\n",
       "AMT_DOWN_PAYMENT                895844\n",
       "AMT_GOODS_PRICE                 385515\n",
       "WEEKDAY_APPR_PROCESS_START           0\n",
       "HOUR_APPR_PROCESS_START              0\n",
       "FLAG_LAST_APPL_PER_CONTRACT          0\n",
       "NFLAG_LAST_APPL_IN_DAY               0\n",
       "RATE_DOWN_PAYMENT               895844\n",
       "RATE_INTEREST_PRIMARY          1664263\n",
       "RATE_INTEREST_PRIVILEGED       1664263\n",
       "NAME_CASH_LOAN_PURPOSE               0\n",
       "NAME_CONTRACT_STATUS                 0\n",
       "DAYS_DECISION                        0\n",
       "NAME_PAYMENT_TYPE                    0\n",
       "CODE_REJECT_REASON                   0\n",
       "NAME_TYPE_SUITE                 820405\n",
       "NAME_CLIENT_TYPE                     0\n",
       "NAME_GOODS_CATEGORY                  0\n",
       "NAME_PORTFOLIO                       0\n",
       "NAME_PRODUCT_TYPE                    0\n",
       "CHANNEL_TYPE                         0\n",
       "SELLERPLACE_AREA                     0\n",
       "NAME_SELLER_INDUSTRY                 0\n",
       "CNT_PAYMENT                     372230\n",
       "NAME_YIELD_GROUP                     0\n",
       "PRODUCT_COMBINATION                346\n",
       "DAYS_FIRST_DRAWING              673065\n",
       "DAYS_FIRST_DUE                  673065\n",
       "DAYS_LAST_DUE_1ST_VERSION       673065\n",
       "DAYS_LAST_DUE                   673065\n",
       "DAYS_TERMINATION                673065\n",
       "NFLAG_INSURED_ON_APPROVAL       673065\n",
       "dtype: int64"
      ]
     },
     "execution_count": 85,
     "metadata": {},
     "output_type": "execute_result"
    }
   ],
   "source": [
    "previous_df.isnull().sum()"
   ]
  },
  {
   "cell_type": "code",
   "execution_count": null,
   "metadata": {},
   "outputs": [],
   "source": []
  },
  {
   "cell_type": "markdown",
   "metadata": {},
   "source": [
    "# Feature reduction and combination\n",
    "\n",
    "I'm going to use three methods here:\n",
    "\n",
    "Staged GLRM:\n",
    "- For each ancillary table (with nulls), GLRM down to a few features.  Include these in main table.  This will add maybe 30-40 features.\n",
    "- Consider GLRMing the main dataset down to 20 features.\n",
    "- Run on this dataset\n",
    "\n",
    "Brute Force GLRM:\n",
    "- GLRM the whole damn Total Dataset, nulls and everything, down to 50 features\n",
    "\n",
    "PCA (mostly just a comparison point).  Run with:\n",
    "- Manually null-less Total Dataset.\n",
    "- GLRM-imputed Total Dataset.  (Sort of cheating - may as well just use GLRM at that point? - but would give me the basic comparison point I need.)\n",
    "- PCA- / PLS-imputed nulls?  (Too much work to figure out, UNLESS sklearn can do it.)\n",
    "\n",
    "PLS (same methods as PCA)\n"
   ]
  },
  {
   "cell_type": "markdown",
   "metadata": {},
   "source": [
    "### Feature-importance-based"
   ]
  },
  {
   "cell_type": "markdown",
   "metadata": {},
   "source": [
    "### GLRM"
   ]
  },
  {
   "cell_type": "markdown",
   "metadata": {},
   "source": [
    "### GLRM + boosting\n",
    "- GLRM on individual tables, then boost into main table"
   ]
  },
  {
   "cell_type": "markdown",
   "metadata": {},
   "source": [
    "### One-hot + PCA"
   ]
  },
  {
   "cell_type": "markdown",
   "metadata": {},
   "source": [
    "### One-hot + PLS"
   ]
  },
  {
   "cell_type": "markdown",
   "metadata": {},
   "source": [
    "### NNMF"
   ]
  },
  {
   "cell_type": "markdown",
   "metadata": {},
   "source": [
    "### binary encoding?"
   ]
  },
  {
   "cell_type": "code",
   "execution_count": 270,
   "metadata": {},
   "outputs": [],
   "source": [
    "from category_encoders import binary\n",
    "\n",
    "# http://contrib.scikit-learn.org/categorical-encoding/_modules/category_encoders/binary.html"
   ]
  },
  {
   "cell_type": "markdown",
   "metadata": {},
   "source": [
    "### Testing\n",
    "To recap, here is a current list of our datasets:\n",
    "- <b>Raw data (raw_apps_df): </b> Our original dataset with only the most basic cleaning fixes\n",
    "- <b>Manually-cleaned (apps_df): </b> Our basic manually-cleaned dataset\n",
    "- <b>Manually-cleaned small (apps_small_df): </b> Our basic manually-cleaned dataset\n",
    "- <b>GLRM-basic: </b> Our basic manually-cleaned dataset\n",
    "- <b>apps_df: </b> Our basic manually-cleaned dataset\n",
    "\n",
    "Let's take these datasets for a spin with our leading models and see which produce the best results."
   ]
  },
  {
   "cell_type": "code",
   "execution_count": null,
   "metadata": {},
   "outputs": [],
   "source": [
    "FIRST RUN GLRM TO GET GLRM DATASET. THEN try running OOB models (SGD, forest, xgboost, svm?) \n",
    "on the GLRM and non-reduced datasets.\n",
    "***NOTE: XGboost can handle missing values; can use full dataset\n",
    "    cross_val_predict"
   ]
  },
  {
   "cell_type": "markdown",
   "metadata": {},
   "source": [
    "NOTES FROM OTHER NOTEBOOKS:\n",
    "    - select categoricals more efficiently by using select_dtypes('object')\n",
    "    - don't dummy encode binary columns; they don't need it\n",
    "    - deal with the four XNA CODE_GENDER values?\n",
    "    - \n",
    "    \n",
    "\n",
    "\n",
    "\n",
    "\n",
    "Nice kernel with clear code! What makes new version of kernel get LB over 0.79?\n",
    "\n",
    "Reply\n",
    "Basically the Payment Rate feature. I dont know why, but it seems to be a magic feature kkk\n",
    "\n",
    "df['PAYMENT_RATE'] = df['AMT_ANNUITY'] / df['AMT_CREDIT']\n",
    "\n",
    "Reply\n",
    "it isn't magic actually. I think the main feature is [CREDIT / ANNUITY]. The annuity is the amount need to be paid per Month and the credit is the total amount, by dividing you get the expected 'credit term', which is a quite useful information. Longer credit term could mean more risk to carry for the bank."
   ]
  },
  {
   "cell_type": "markdown",
   "metadata": {},
   "source": [
    "## Experimental"
   ]
  },
  {
   "cell_type": "code",
   "execution_count": 18,
   "metadata": {
    "scrolled": true
   },
   "outputs": [
    {
     "data": {
      "text/html": [
       "<div>\n",
       "<style scoped>\n",
       "    .dataframe tbody tr th:only-of-type {\n",
       "        vertical-align: middle;\n",
       "    }\n",
       "\n",
       "    .dataframe tbody tr th {\n",
       "        vertical-align: top;\n",
       "    }\n",
       "\n",
       "    .dataframe thead th {\n",
       "        text-align: right;\n",
       "    }\n",
       "</style>\n",
       "<table border=\"1\" class=\"dataframe\">\n",
       "  <thead>\n",
       "    <tr style=\"text-align: right;\">\n",
       "      <th></th>\n",
       "      <th>sk_id_curr</th>\n",
       "      <th>target</th>\n",
       "      <th>name_contract_type</th>\n",
       "      <th>code_gender</th>\n",
       "      <th>flag_own_car</th>\n",
       "      <th>flag_own_realty</th>\n",
       "      <th>cnt_children</th>\n",
       "      <th>amt_income_total</th>\n",
       "      <th>amt_credit</th>\n",
       "      <th>amt_annuity</th>\n",
       "      <th>...</th>\n",
       "      <th>flag_document_18</th>\n",
       "      <th>flag_document_19</th>\n",
       "      <th>flag_document_20</th>\n",
       "      <th>flag_document_21</th>\n",
       "      <th>amt_req_credit_bureau_hour</th>\n",
       "      <th>amt_req_credit_bureau_day</th>\n",
       "      <th>amt_req_credit_bureau_week</th>\n",
       "      <th>amt_req_credit_bureau_mon</th>\n",
       "      <th>amt_req_credit_bureau_qrt</th>\n",
       "      <th>amt_req_credit_bureau_year</th>\n",
       "    </tr>\n",
       "  </thead>\n",
       "  <tbody>\n",
       "    <tr>\n",
       "      <th>0</th>\n",
       "      <td>100002</td>\n",
       "      <td>1</td>\n",
       "      <td>Cash loans</td>\n",
       "      <td>M</td>\n",
       "      <td>N</td>\n",
       "      <td>Y</td>\n",
       "      <td>0</td>\n",
       "      <td>202500.0</td>\n",
       "      <td>406597.5</td>\n",
       "      <td>24700.5</td>\n",
       "      <td>...</td>\n",
       "      <td>0</td>\n",
       "      <td>0</td>\n",
       "      <td>0</td>\n",
       "      <td>0</td>\n",
       "      <td>0.0</td>\n",
       "      <td>0.0</td>\n",
       "      <td>0.0</td>\n",
       "      <td>0.0</td>\n",
       "      <td>0.0</td>\n",
       "      <td>1.0</td>\n",
       "    </tr>\n",
       "    <tr>\n",
       "      <th>1</th>\n",
       "      <td>100003</td>\n",
       "      <td>0</td>\n",
       "      <td>Cash loans</td>\n",
       "      <td>F</td>\n",
       "      <td>N</td>\n",
       "      <td>N</td>\n",
       "      <td>0</td>\n",
       "      <td>270000.0</td>\n",
       "      <td>1293502.5</td>\n",
       "      <td>35698.5</td>\n",
       "      <td>...</td>\n",
       "      <td>0</td>\n",
       "      <td>0</td>\n",
       "      <td>0</td>\n",
       "      <td>0</td>\n",
       "      <td>0.0</td>\n",
       "      <td>0.0</td>\n",
       "      <td>0.0</td>\n",
       "      <td>0.0</td>\n",
       "      <td>0.0</td>\n",
       "      <td>0.0</td>\n",
       "    </tr>\n",
       "    <tr>\n",
       "      <th>2</th>\n",
       "      <td>100004</td>\n",
       "      <td>0</td>\n",
       "      <td>Revolving loans</td>\n",
       "      <td>M</td>\n",
       "      <td>Y</td>\n",
       "      <td>Y</td>\n",
       "      <td>0</td>\n",
       "      <td>67500.0</td>\n",
       "      <td>135000.0</td>\n",
       "      <td>6750.0</td>\n",
       "      <td>...</td>\n",
       "      <td>0</td>\n",
       "      <td>0</td>\n",
       "      <td>0</td>\n",
       "      <td>0</td>\n",
       "      <td>0.0</td>\n",
       "      <td>0.0</td>\n",
       "      <td>0.0</td>\n",
       "      <td>0.0</td>\n",
       "      <td>0.0</td>\n",
       "      <td>0.0</td>\n",
       "    </tr>\n",
       "    <tr>\n",
       "      <th>3</th>\n",
       "      <td>100006</td>\n",
       "      <td>0</td>\n",
       "      <td>Cash loans</td>\n",
       "      <td>F</td>\n",
       "      <td>N</td>\n",
       "      <td>Y</td>\n",
       "      <td>0</td>\n",
       "      <td>135000.0</td>\n",
       "      <td>312682.5</td>\n",
       "      <td>29686.5</td>\n",
       "      <td>...</td>\n",
       "      <td>0</td>\n",
       "      <td>0</td>\n",
       "      <td>0</td>\n",
       "      <td>0</td>\n",
       "      <td>NaN</td>\n",
       "      <td>NaN</td>\n",
       "      <td>NaN</td>\n",
       "      <td>NaN</td>\n",
       "      <td>NaN</td>\n",
       "      <td>NaN</td>\n",
       "    </tr>\n",
       "    <tr>\n",
       "      <th>4</th>\n",
       "      <td>100007</td>\n",
       "      <td>0</td>\n",
       "      <td>Cash loans</td>\n",
       "      <td>M</td>\n",
       "      <td>N</td>\n",
       "      <td>Y</td>\n",
       "      <td>0</td>\n",
       "      <td>121500.0</td>\n",
       "      <td>513000.0</td>\n",
       "      <td>21865.5</td>\n",
       "      <td>...</td>\n",
       "      <td>0</td>\n",
       "      <td>0</td>\n",
       "      <td>0</td>\n",
       "      <td>0</td>\n",
       "      <td>0.0</td>\n",
       "      <td>0.0</td>\n",
       "      <td>0.0</td>\n",
       "      <td>0.0</td>\n",
       "      <td>0.0</td>\n",
       "      <td>0.0</td>\n",
       "    </tr>\n",
       "  </tbody>\n",
       "</table>\n",
       "<p>5 rows × 122 columns</p>\n",
       "</div>"
      ],
      "text/plain": [
       "   sk_id_curr  target name_contract_type code_gender flag_own_car  \\\n",
       "0      100002       1         Cash loans           M            N   \n",
       "1      100003       0         Cash loans           F            N   \n",
       "2      100004       0    Revolving loans           M            Y   \n",
       "3      100006       0         Cash loans           F            N   \n",
       "4      100007       0         Cash loans           M            N   \n",
       "\n",
       "  flag_own_realty  cnt_children  amt_income_total  amt_credit  amt_annuity  \\\n",
       "0               Y             0          202500.0    406597.5      24700.5   \n",
       "1               N             0          270000.0   1293502.5      35698.5   \n",
       "2               Y             0           67500.0    135000.0       6750.0   \n",
       "3               Y             0          135000.0    312682.5      29686.5   \n",
       "4               Y             0          121500.0    513000.0      21865.5   \n",
       "\n",
       "              ...              flag_document_18 flag_document_19  \\\n",
       "0             ...                             0                0   \n",
       "1             ...                             0                0   \n",
       "2             ...                             0                0   \n",
       "3             ...                             0                0   \n",
       "4             ...                             0                0   \n",
       "\n",
       "  flag_document_20 flag_document_21 amt_req_credit_bureau_hour  \\\n",
       "0                0                0                        0.0   \n",
       "1                0                0                        0.0   \n",
       "2                0                0                        0.0   \n",
       "3                0                0                        NaN   \n",
       "4                0                0                        0.0   \n",
       "\n",
       "  amt_req_credit_bureau_day  amt_req_credit_bureau_week  \\\n",
       "0                       0.0                         0.0   \n",
       "1                       0.0                         0.0   \n",
       "2                       0.0                         0.0   \n",
       "3                       NaN                         NaN   \n",
       "4                       0.0                         0.0   \n",
       "\n",
       "   amt_req_credit_bureau_mon  amt_req_credit_bureau_qrt  \\\n",
       "0                        0.0                        0.0   \n",
       "1                        0.0                        0.0   \n",
       "2                        0.0                        0.0   \n",
       "3                        NaN                        NaN   \n",
       "4                        0.0                        0.0   \n",
       "\n",
       "   amt_req_credit_bureau_year  \n",
       "0                         1.0  \n",
       "1                         0.0  \n",
       "2                         0.0  \n",
       "3                         NaN  \n",
       "4                         0.0  \n",
       "\n",
       "[5 rows x 122 columns]"
      ]
     },
     "execution_count": 18,
     "metadata": {},
     "output_type": "execute_result"
    }
   ],
   "source": [
    "apps.head()"
   ]
  },
  {
   "cell_type": "code",
   "execution_count": 2,
   "metadata": {},
   "outputs": [],
   "source": [
    "from sklearn.metrics import roc_auc_score\n",
    "from sklearn.metrics import roc_curve\n",
    "http://scikit-learn.org/stable/modules/generated/sklearn.metrics.roc_auc_score.html"
   ]
  },
  {
   "cell_type": "markdown",
   "metadata": {},
   "source": [
    "## Sources\n",
    "https://www.kaggle.com/willkoehrsen/start-here-a-gentle-introduction\n",
    "- a nice intro to the data cleaning, dummy cols, etc\n",
    "https://www.kaggle.com/jsaguiar/updated-0-792-lb-lightgbm-with-simple-features/code\n",
    " - no null filling; LightGBM handles nulls fine\n",
    " - some useful feature engineering at the start\n",
    " - useful Payment Rate feature: df['PAYMENT_RATE'] = df['AMT_ANNUITY'] / df['AMT_CREDIT']\n",
    " https://www.kaggle.com/codename007/home-credit-complete-eda-feature-importance\n",
    " - great exploration of all data features\n",
    " \n",
    " Check out https://www.kaggle.com/kailex/tidy-xgb-all-tables-0-791/code for xgboost"
   ]
  },
  {
   "cell_type": "markdown",
   "metadata": {},
   "source": [
    "## Benchmarks\n",
    "- my basic RF with downsized manually-filled dataset is 0.67, basic GB is 0.70\n",
    "- Gentle Introduction's basic RF with fully-binarized dataset is 0.68, basic LightGBM is 0.75\n",
    "- Aguiar's full-dataset optimized LightGBM is 0.79\n",
    "- SUCCESS TIERS:\n",
    "    - 0.75 is common (OOB LightGBM can get this)\n",
    "    - 0.78 is high competence\n",
    "    - 0.79 is the top kernel\n",
    "- MY GOAL:\n",
    "    - clear 0.8; place in top 100"
   ]
  },
  {
   "cell_type": "markdown",
   "metadata": {},
   "source": [
    "## Outtakes\n"
   ]
  },
  {
   "cell_type": "code",
   "execution_count": null,
   "metadata": {},
   "outputs": [],
   "source": [
    "pcb_df = pd.read_csv(\"POS_CASH_balance.csv\")\n",
    "pcb_df.columns = [str.lower(column) for column in pcb_df.columns]\n",
    "\n",
    "# compile timestamp for when client first paid a small amount late\n",
    "pcb_lateish_df = pcb_df[pcb_df['sk_dpd']>0][['sk_id_prev',\n",
    "                                            'cnt_instalment', \n",
    "                                            'cnt_instalment_future',\n",
    "                                            'name_contract_status',\n",
    "                                            'sk_dpd']]\n",
    "pcb_lateish_df = pcb_lateish_df.sort_values(by=['sk_id_prev', 'sk_dpd'])\n",
    "pcb_lateish_df = pcb_lateish_df.groupby('sk_id_prev', as_index=False).nth(1)\n",
    "pcb_lateish_df.rename(columns={\n",
    "    'cnt_instalment':'first_month_lateish',\n",
    "    'cnt_instalment_future':'remaining_months_lateish',\n",
    "    'name_contract_status':'status_when_first_lateish'\n",
    "    }, inplace=True)\n",
    "pcb_lateish_df.drop('sk_dpd', axis=1, inplace=True)\n",
    "\n",
    "# compile timestamp for when client first paid a large amount late\n",
    "pcb_late_df = pcb_df[pcb_df['sk_dpd_def']>0][['sk_id_prev', \n",
    "                                            'cnt_instalment', \n",
    "                                            'cnt_instalment_future',\n",
    "                                            'name_contract_status',\n",
    "                                            'sk_dpd_def']]\n",
    "pcb_late_df = pcb_late_df.sort_values(by=['sk_id_prev', 'sk_dpd_def'])\n",
    "pcb_late_df = pcb_late_df.groupby('sk_id_prev', as_index=False).nth(1)\n",
    "pcb_late_df.rename(columns={\n",
    "    'cnt_instalment':'first_month_late',\n",
    "    'cnt_instalment_future':'remaining_months_late',\n",
    "    'name_contract_status':'status_when_first_late'\n",
    "    }, inplace=True)\n",
    "pcb_late_df.drop('sk_dpd_def', axis=1, inplace=True)\n",
    "\n",
    "# compress pcb_df to one row per loan, compiling averages for days late\n",
    "pcb_df = pcb_df[['sk_id_prev', 'sk_dpd', 'sk_dpd_def']]\n",
    "pcb_df.groupby('sk_id_prev', as_index=False).agg('mean')\n",
    "pcb_df.rename(columns={\n",
    "    'sk_dpd':'av_dpd_minor',\n",
    "    'sk_dpd_def':'av_dpd_major',\n",
    "    }, inplace=True)\n",
    "\n",
    "# merge timestamps back on\n",
    "pcb_df = pd.merge(pcb_df, pcb_lateish_df, on='sk_id_prev', how='left')\n",
    "pcb_df = pd.merge(pcb_df, pcb_late_df, on='sk_id_prev', how='left')\n",
    "\n"
   ]
  }
 ],
 "metadata": {
  "kernelspec": {
   "display_name": "Python 3",
   "language": "python",
   "name": "python3"
  },
  "language_info": {
   "codemirror_mode": {
    "name": "ipython",
    "version": 3
   },
   "file_extension": ".py",
   "mimetype": "text/x-python",
   "name": "python",
   "nbconvert_exporter": "python",
   "pygments_lexer": "ipython3",
   "version": "3.6.4"
  }
 },
 "nbformat": 4,
 "nbformat_minor": 2
}
