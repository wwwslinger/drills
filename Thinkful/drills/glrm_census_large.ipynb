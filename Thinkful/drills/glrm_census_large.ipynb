





<!DOCTYPE html>
<html lang="en">
  <head>
    <meta charset="utf-8">
  <link rel="dns-prefetch" href="https://assets-cdn.github.com">
  <link rel="dns-prefetch" href="https://avatars0.githubusercontent.com">
  <link rel="dns-prefetch" href="https://avatars1.githubusercontent.com">
  <link rel="dns-prefetch" href="https://avatars2.githubusercontent.com">
  <link rel="dns-prefetch" href="https://avatars3.githubusercontent.com">
  <link rel="dns-prefetch" href="https://github-cloud.s3.amazonaws.com">
  <link rel="dns-prefetch" href="https://user-images.githubusercontent.com/">



  <link crossorigin="anonymous" media="all" integrity="sha512-T9mI+Xgc8yCjMH6J/gS6kaW3O3zJaDuANCq4x9/EpAreyyj61xpmrp9qxWgdCYvpBqyX3T0nOmQzfAO82cdiww==" rel="stylesheet" href="https://assets-cdn.github.com/assets/frameworks-0e1c43e90618c1e26b9b138a9d83c008.css" />
  <link crossorigin="anonymous" media="all" integrity="sha512-IRZ7RDIi0r/O4C5v+F7llFxjOZVEp59AYG9cEZgVtwXlrWuVDO54yUbaLxO0VAYSiMaTXf3IXoHXgwkz5aXsTQ==" rel="stylesheet" href="https://assets-cdn.github.com/assets/github-4f8d5d8c6735e64227c6ce64f907c974.css" />
  
  
  
  

  <meta name="viewport" content="width=device-width">
  
  <title>h2o-3/glrm_census_large.ipynb at master · h2oai/h2o-3</title>
    <meta name="description" content="GitHub is where people build software. More than 28 million people use GitHub to discover, fork, and contribute to over 85 million projects.">
    <link rel="search" type="application/opensearchdescription+xml" href="/opensearch.xml" title="GitHub">
  <link rel="fluid-icon" href="https://github.com/fluidicon.png" title="GitHub">
  <meta property="fb:app_id" content="1401488693436528">

    
    <meta property="og:image" content="https://avatars2.githubusercontent.com/u/1402695?s=400&amp;v=4" /><meta property="og:site_name" content="GitHub" /><meta property="og:type" content="object" /><meta property="og:title" content="h2oai/h2o-3" /><meta property="og:url" content="https://github.com/h2oai/h2o-3" /><meta property="og:description" content="h2o-3 - Open Source Fast Scalable Machine Learning Platform For Smarter Applications (Deep Learning, Gradient Boosting, Random Forest, Generalized Linear Modeling (Logistic Regression, Elastic Net)..." />

  <link rel="assets" href="https://assets-cdn.github.com/">
  <link rel="web-socket" href="wss://live.github.com/_sockets/VjI6Mjg3OTkyNDM1OmIwMzNmNGZhNjFjZTdjZDM4NDFjYTBkOTNkNTZjMTczMWRmMDhmOWQzYWY3NTNjYjE1NWRhYjlkNmY1MDNmZDM=--1bd3f19acdf5f373eb1f2f337d2d97f5b81f7111">
  <meta name="pjax-timeout" content="1000">
  <link rel="sudo-modal" href="/sessions/sudo_modal">
  <meta name="request-id" content="F3CE:1616:846641:C6E7E0:5B2BE8CB" data-pjax-transient>


  

  <meta name="selected-link" value="repo_source" data-pjax-transient>

    <meta name="google-site-verification" content="KT5gs8h0wvaagLKAVWq8bbeNwnZZK1r1XQysX3xurLU">
  <meta name="google-site-verification" content="ZzhVyEFwb7w3e0-uOTltm8Jsck2F5StVihD0exw2fsA">
  <meta name="google-site-verification" content="GXs5KoUUkNCoaAZn7wPN-t01Pywp9M3sEjnt_3_ZWPc">
    <meta name="google-analytics" content="UA-3769691-2">

<meta name="octolytics-host" content="collector.githubapp.com" /><meta name="octolytics-app-id" content="github" /><meta name="octolytics-event-url" content="https://collector.githubapp.com/github-external/browser_event" /><meta name="octolytics-dimension-request_id" content="F3CE:1616:846641:C6E7E0:5B2BE8CB" /><meta name="octolytics-dimension-region_edge" content="sea" /><meta name="octolytics-dimension-region_render" content="iad" /><meta name="octolytics-actor-id" content="1731695" /><meta name="octolytics-actor-login" content="gqfiddler" /><meta name="octolytics-actor-hash" content="ee9535f31a333b8ae8903c3f86291b4671d93ab5f7188dd74fa873299d9eae10" />
<meta name="analytics-location" content="/&lt;user-name&gt;/&lt;repo-name&gt;/blob/show" data-pjax-transient="true" />




<meta class="js-ga-set" name="dimension1" content="Logged In">


  

      <meta name="hostname" content="github.com">
    <meta name="user-login" content="gqfiddler">

      <meta name="expected-hostname" content="github.com">
    <meta name="js-proxy-site-detection-payload" content="MTQwZWMxMGNmZWI1OWI4ZTM5MzdjZWYyN2UyNGE3YmNkODdjZGM4N2JjMmQ3ZjBmYWRlYzJlMDBiYzA0ZDYxNHx7InJlbW90ZV9hZGRyZXNzIjoiNDcuMzYuMTY2LjE2OCIsInJlcXVlc3RfaWQiOiJGM0NFOjE2MTY6ODQ2NjQxOkM2RTdFMDo1QjJCRThDQiIsInRpbWVzdGFtcCI6MTUyOTYwNDMxNCwiaG9zdCI6ImdpdGh1Yi5jb20ifQ==">

    <meta name="enabled-features" content="UNIVERSE_BANNER,FREE_TRIALS,MARKETPLACE_INSIGHTS,MARKETPLACE_INSIGHTS_CONVERSION_PERCENTAGES">

  <meta name="html-safe-nonce" content="0575c8e0850e31d4f28e77a4ca3283a6a09a55a9">

  <meta http-equiv="x-pjax-version" content="bafe851a95580a1274bbac29c10e84df">
  

      <link href="https://github.com/h2oai/h2o-3/commits/master.atom" rel="alternate" title="Recent Commits to h2o-3:master" type="application/atom+xml">

  <meta name="description" content="h2o-3 - Open Source Fast Scalable Machine Learning Platform For Smarter Applications (Deep Learning, Gradient Boosting, Random Forest, Generalized Linear Modeling (Logistic Regression, Elastic Net), K-Means, PCA, Stacked Ensembles, Automatic Machine Learning (AutoML), ...)">
  <meta name="go-import" content="github.com/h2oai/h2o-3 git https://github.com/h2oai/h2o-3.git">

  <meta name="octolytics-dimension-user_id" content="1402695" /><meta name="octolytics-dimension-user_login" content="h2oai" /><meta name="octolytics-dimension-repository_id" content="17371412" /><meta name="octolytics-dimension-repository_nwo" content="h2oai/h2o-3" /><meta name="octolytics-dimension-repository_public" content="true" /><meta name="octolytics-dimension-repository_is_fork" content="false" /><meta name="octolytics-dimension-repository_network_root_id" content="17371412" /><meta name="octolytics-dimension-repository_network_root_nwo" content="h2oai/h2o-3" /><meta name="octolytics-dimension-repository_explore_github_marketplace_ci_cta_shown" content="false" />


    <link rel="canonical" href="https://github.com/h2oai/h2o-3/blob/master/h2o-py/demos/glrm_census_large.ipynb" data-pjax-transient>


  <meta name="browser-stats-url" content="https://api.github.com/_private/browser/stats">

  <meta name="browser-errors-url" content="https://api.github.com/_private/browser/errors">

  <link rel="mask-icon" href="https://assets-cdn.github.com/pinned-octocat.svg" color="#000000">
  <link rel="icon" type="image/x-icon" class="js-site-favicon" href="https://assets-cdn.github.com/favicon.ico">

<meta name="theme-color" content="#1e2327">


  <meta name="u2f-support" content="true">

<link rel="manifest" href="/manifest.json" crossOrigin="use-credentials">

  </head>

  <body class="logged-in env-production emoji-size-boost page-blob">
    

  <div class="position-relative js-header-wrapper ">
    <a href="#start-of-content" tabindex="1" class="p-3 bg-blue text-white show-on-focus js-skip-to-content">Skip to content</a>
    <div id="js-pjax-loader-bar" class="pjax-loader-bar"><div class="progress"></div></div>

    
    
    



        
<header class="Header  f5" role="banner">
  <div class="d-flex flex-justify-between px-3 container-lg">
    <div class="d-flex flex-justify-between ">
      <div class="">
        <a class="header-logo-invertocat" href="https://github.com/" data-hotkey="g d" aria-label="Homepage" data-ga-click="Header, go to dashboard, icon:logo">
  <svg height="32" class="octicon octicon-mark-github" viewBox="0 0 16 16" version="1.1" width="32" aria-hidden="true"><path fill-rule="evenodd" d="M8 0C3.58 0 0 3.58 0 8c0 3.54 2.29 6.53 5.47 7.59.4.07.55-.17.55-.38 0-.19-.01-.82-.01-1.49-2.01.37-2.53-.49-2.69-.94-.09-.23-.48-.94-.82-1.13-.28-.15-.68-.52-.01-.53.63-.01 1.08.58 1.23.82.72 1.21 1.87.87 2.33.66.07-.52.28-.87.51-1.07-1.78-.2-3.64-.89-3.64-3.95 0-.87.31-1.59.82-2.15-.08-.2-.36-1.02.08-2.12 0 0 .67-.21 2.2.82.64-.18 1.32-.27 2-.27.68 0 1.36.09 2 .27 1.53-1.04 2.2-.82 2.2-.82.44 1.1.16 1.92.08 2.12.51.56.82 1.27.82 2.15 0 3.07-1.87 3.75-3.65 3.95.29.25.54.73.54 1.48 0 1.07-.01 1.93-.01 2.2 0 .21.15.46.55.38A8.013 8.013 0 0 0 16 8c0-4.42-3.58-8-8-8z"/></svg>
</a>

      </div>

    </div>

    <div class="HeaderMenu d-flex flex-justify-between flex-auto">
      <div class="d-flex">
            <div class="">
              <div class="header-search scoped-search site-scoped-search js-site-search position-relative js-jump-to"
  role="search combobox"
  aria-owns="jump-to-results"
  aria-label="Search or jump to"
  aria-haspopup="listbox"
  aria-expanded="true"
>
  <div class="position-relative">
    <!-- '"` --><!-- </textarea></xmp> --></option></form><form class="js-site-search-form" data-scope-type="Repository" data-scope-id="17371412" data-scoped-search-url="/h2oai/h2o-3/search" data-unscoped-search-url="/search" action="/h2oai/h2o-3/search" accept-charset="UTF-8" method="get"><input name="utf8" type="hidden" value="&#x2713;" />
      <label class="form-control header-search-wrapper header-search-wrapper-jump-to position-relative d-flex flex-justify-between flex-items-center js-chromeless-input-container">
        <input type="text"
          class="form-control header-search-input jump-to-field js-jump-to-field js-site-search-focus js-site-search-field is-clearable"
          data-hotkey="s,/"
          name="q"
          value=""
          placeholder="Search or jump to…"
          data-unscoped-placeholder="Search or jump to…"
          data-scoped-placeholder="Search or jump to…"
          autocapitalize="off"
          aria-autocomplete="list"
          aria-controls="jump-to-results"
          data-jump-to-suggestions-path="/_graphql/GetSuggestedNavigationDestinations#csrf-token=sW/RgLJrITplwtwP/lTC109s48DGy+t0fYzVIHUMLrMWRC79ictRGs0ZhFyP+n5UDS4yS2OCoKvhwmkUG8SVRg=="
          spellcheck="false"
          autocomplete="off"
          >
          <input type="hidden" class="js-site-search-type-field" name="type" >
            <img src="https://assets-cdn.github.com/images/search-shortcut-hint.svg" alt="" class="mr-2 header-search-key-slash">

            <div class="Box position-absolute overflow-hidden d-none jump-to-suggestions js-jump-to-suggestions-container">
              <ul class="d-none js-jump-to-suggestions-template-container">
                <li class="d-flex flex-justify-start flex-items-center p-0 f5 navigation-item js-navigation-item">
                  <a tabindex="-1" class="no-underline d-flex flex-auto flex-items-center p-2 jump-to-suggestions-path js-jump-to-suggestion-path js-navigation-open" href="">
                    <div class="jump-to-octicon js-jump-to-octicon mr-2 text-center d-none"></div>
                    <img class="avatar mr-2 flex-shrink-0 js-jump-to-suggestion-avatar" alt="" aria-label="Team" src="" width="28" height="28">

                    <div class="jump-to-suggestion-name js-jump-to-suggestion-name flex-auto overflow-hidden no-wrap css-truncate css-truncate-target">
                    </div>

                    <div class="border rounded-1 flex-shrink-0 bg-gray px-1 text-gray-light ml-1 f6 d-none js-jump-to-badge-search">
                      <span class="js-jump-to-badge-search-text-default d-none" aria-label="in this repository">
                        In this repository
                      </span>
                      <span class="js-jump-to-badge-search-text-global d-none" aria-label="in all of GitHub">
                        All GitHub
                      </span>
                      <span aria-hidden="true" class="d-inline-block ml-1 v-align-middle">↵</span>
                    </div>

                    <div aria-hidden="true" class="border rounded-1 flex-shrink-0 bg-gray px-1 text-gray-light ml-1 f6 d-none d-on-nav-focus js-jump-to-badge-jump">
                      Jump to
                      <span class="d-inline-block ml-1 v-align-middle">↵</span>
                    </div>
                  </a>
                </li>
                <svg height="16" width="16" class="octicon octicon-repo flex-shrink-0 js-jump-to-repo-octicon-template" title="Repository" aria-label="Repository" viewBox="0 0 12 16" version="1.1" role="img"><path fill-rule="evenodd" d="M4 9H3V8h1v1zm0-3H3v1h1V6zm0-2H3v1h1V4zm0-2H3v1h1V2zm8-1v12c0 .55-.45 1-1 1H6v2l-1.5-1.5L3 16v-2H1c-.55 0-1-.45-1-1V1c0-.55.45-1 1-1h10c.55 0 1 .45 1 1zm-1 10H1v2h2v-1h3v1h5v-2zm0-10H2v9h9V1z"/></svg>
                <svg height="16" width="16" class="octicon octicon-project flex-shrink-0 js-jump-to-project-octicon-template" title="Project" aria-label="Project" viewBox="0 0 15 16" version="1.1" role="img"><path fill-rule="evenodd" d="M10 12h3V2h-3v10zm-4-2h3V2H6v8zm-4 4h3V2H2v12zm-1 1h13V1H1v14zM14 0H1a1 1 0 0 0-1 1v14a1 1 0 0 0 1 1h13a1 1 0 0 0 1-1V1a1 1 0 0 0-1-1z"/></svg>
                <svg height="16" width="16" class="octicon octicon-search flex-shrink-0 js-jump-to-search-octicon-template" title="Search" aria-label="Search" viewBox="0 0 16 16" version="1.1" role="img"><path fill-rule="evenodd" d="M15.7 13.3l-3.81-3.83A5.93 5.93 0 0 0 13 6c0-3.31-2.69-6-6-6S1 2.69 1 6s2.69 6 6 6c1.3 0 2.48-.41 3.47-1.11l3.83 3.81c.19.2.45.3.7.3.25 0 .52-.09.7-.3a.996.996 0 0 0 0-1.41v.01zM7 10.7c-2.59 0-4.7-2.11-4.7-4.7 0-2.59 2.11-4.7 4.7-4.7 2.59 0 4.7 2.11 4.7 4.7 0 2.59-2.11 4.7-4.7 4.7z"/></svg>
              </ul>
              <ul class="d-none js-jump-to-no-results-template-container">
                <li class="d-flex flex-justify-center flex-items-center p-3 f5 d-none">
                  <span class="text-gray">No suggested jump to results</span>
                </li>
              </ul>

              <ul id="jump-to-results" class="js-navigation-container jump-to-suggestions-results-container js-jump-to-suggestions-results-container" >
                <li class="d-flex flex-justify-center flex-items-center p-0 f5">
                  <img src="https://assets-cdn.github.com/images/spinners/octocat-spinner-128.gif" alt="Octocat Spinner Icon" class="m-2" width="28">
                </li>
              </ul>
            </div>
      </label>
</form>  </div>
</div>

            </div>

          <ul class="d-flex pl-2 flex-items-center text-bold list-style-none" role="navigation">
            <li>
              <a class="js-selected-navigation-item HeaderNavlink px-2" data-hotkey="g p" data-ga-click="Header, click, Nav menu - item:pulls context:user" aria-label="Pull requests you created" data-selected-links="/pulls /pulls/assigned /pulls/mentioned /pulls" href="/pulls">
                Pull requests
</a>            </li>
            <li>
              <a class="js-selected-navigation-item HeaderNavlink px-2" data-hotkey="g i" data-ga-click="Header, click, Nav menu - item:issues context:user" aria-label="Issues you created" data-selected-links="/issues /issues/assigned /issues/mentioned /issues" href="/issues">
                Issues
</a>            </li>
                <li>
                  <a class="js-selected-navigation-item HeaderNavlink px-2" data-ga-click="Header, click, Nav menu - item:marketplace context:user" data-octo-click="marketplace_click" data-octo-dimensions="location:nav_bar, group:" data-selected-links=" /marketplace" href="/marketplace">
                    Marketplace
</a>                </li>
            <li>
              <a class="js-selected-navigation-item HeaderNavlink px-2" data-ga-click="Header, click, Nav menu - item:explore" data-selected-links="/explore /trending /trending/developers /integrations /integrations/feature/code /integrations/feature/collaborate /integrations/feature/ship showcases showcases_search showcases_landing /explore" href="/explore">
                Explore
</a>            </li>
          </ul>
      </div>

      <div class="d-flex">
        
<ul class="user-nav d-flex flex-items-center list-style-none" id="user-links">
  <li class="dropdown">
    <span class="d-inline-block  px-2">
      
    <a aria-label="You have no unread notifications" class="notification-indicator tooltipped tooltipped-s  js-socket-channel js-notification-indicator" data-hotkey="g n" data-ga-click="Header, go to notifications, icon:read" data-channel="notification-changed:1731695" href="/notifications">
        <span class="mail-status "></span>
        <svg class="octicon octicon-bell" viewBox="0 0 14 16" version="1.1" width="14" height="16" aria-hidden="true"><path fill-rule="evenodd" d="M13.99 11.991v1H0v-1l.73-.58c.769-.769.809-2.547 1.189-4.416.77-3.767 4.077-4.996 4.077-4.996 0-.55.45-1 .999-1 .55 0 1 .45 1 1 0 0 3.387 1.229 4.156 4.996.38 1.879.42 3.657 1.19 4.417l.659.58h-.01zM6.995 15.99c1.11 0 1.999-.89 1.999-1.999H4.996c0 1.11.89 1.999 1.999 1.999z"/></svg>
</a>
    </span>
  </li>

  <li class="dropdown">
    <details class="details-overlay details-reset js-dropdown-details d-flex px-2 flex-items-center">
      <summary class="HeaderNavlink"
         aria-label="Create new…"
         data-ga-click="Header, create new, icon:add">
        <svg class="octicon octicon-plus float-left mr-1 mt-1" viewBox="0 0 12 16" version="1.1" width="12" height="16" aria-hidden="true"><path fill-rule="evenodd" d="M12 9H7v5H5V9H0V7h5V2h2v5h5v2z"/></svg>
        <span class="dropdown-caret mt-1"></span>
      </summary>

      <ul class="dropdown-menu dropdown-menu-sw">
        
<a class="dropdown-item" href="/new" data-ga-click="Header, create new repository">
  New repository
</a>

  <a class="dropdown-item" href="/new/import" data-ga-click="Header, import a repository">
    Import repository
  </a>

<a class="dropdown-item" href="https://gist.github.com/" data-ga-click="Header, create new gist">
  New gist
</a>

  <a class="dropdown-item" href="/organizations/new" data-ga-click="Header, create new organization">
    New organization
  </a>




      </ul>
    </details>
  </li>

  <li class="dropdown">

    <details class="details-overlay details-reset js-dropdown-details d-flex pl-2 flex-items-center">
      <summary class="HeaderNavlink name mt-1"
        aria-label="View profile and more"
        data-ga-click="Header, show menu, icon:avatar">
        <img alt="@gqfiddler" class="avatar float-left mr-1" src="https://avatars0.githubusercontent.com/u/1731695?s=40&amp;v=4" height="20" width="20">
        <span class="dropdown-caret"></span>
      </summary>

      <ul class="dropdown-menu dropdown-menu-sw">
        <li class="dropdown-header header-nav-current-user css-truncate">
          Signed in as <strong class="css-truncate-target">gqfiddler</strong>
        </li>

        <li class="dropdown-divider"></li>

        <li><a class="dropdown-item" href="/gqfiddler" data-ga-click="Header, go to profile, text:your profile">
          Your profile
        </a></li>
        <li><a class="dropdown-item" href="/gqfiddler?tab=stars" data-ga-click="Header, go to starred repos, text:your stars">
          Your stars
        </a></li>
          <li><a class="dropdown-item" href="https://gist.github.com/" data-ga-click="Header, your gists, text:your gists">Your gists</a></li>

        <li class="dropdown-divider"></li>

        <li><a class="dropdown-item" href="https://help.github.com" data-ga-click="Header, go to help, text:help">
          Help
        </a></li>

        <li><a class="dropdown-item" href="/settings/profile" data-ga-click="Header, go to settings, icon:settings">
          Settings
        </a></li>

        <li><!-- '"` --><!-- </textarea></xmp> --></option></form><form class="logout-form" action="/logout" accept-charset="UTF-8" method="post"><input name="utf8" type="hidden" value="&#x2713;" /><input type="hidden" name="authenticity_token" value="uIx4P1oihdtia5lGxW3OHewP6dM4Lqzkk9CKEBKeg+/7eTRFxR7dRFF+yQH0ovUK0KfSzX0NSTK8xaznMBccKw==" />
          <button type="submit" class="dropdown-item dropdown-signout" data-ga-click="Header, sign out, icon:logout">
            Sign out
          </button>
        </form></li>
      </ul>
    </details>
  </li>
</ul>



        <!-- '"` --><!-- </textarea></xmp> --></option></form><form class="sr-only right-0" action="/logout" accept-charset="UTF-8" method="post"><input name="utf8" type="hidden" value="&#x2713;" /><input type="hidden" name="authenticity_token" value="FmED8p0RCYStTssrTkns3sXUnS/xbSR227+5r0L2rbRVlE+IAi1RG55bm2x/htfJ+XymMbROwaD0qp9YYH8ycA==" />
          <button type="submit" class="dropdown-item dropdown-signout" data-ga-click="Header, sign out, icon:logout">
            Sign out
          </button>
</form>      </div>
    </div>
  </div>
</header>

      

  </div>

  <div id="start-of-content" class="show-on-focus"></div>

    <div id="js-flash-container">
</div>



  <div role="main" class="application-main ">
        <div itemscope itemtype="http://schema.org/SoftwareSourceCode" class="">
    <div id="js-repo-pjax-container" data-pjax-container >
      





  



  <div class="pagehead repohead instapaper_ignore readability-menu experiment-repo-nav  ">
    <div class="repohead-details-container clearfix container">

      <ul class="pagehead-actions">
  <li>
        <!-- '"` --><!-- </textarea></xmp> --></option></form><form data-autosubmit="true" data-remote="true" class="js-social-container" action="/notifications/subscribe" accept-charset="UTF-8" method="post"><input name="utf8" type="hidden" value="&#x2713;" /><input type="hidden" name="authenticity_token" value="HT1oZCKLiLa4cFgyyASEoj7IB1p6b4leXvR8qy6sqJlPVWpYrR7+COgvNeMGNMKW6dpz+t3QBtulZ4ciSqHtmA==" />      <input type="hidden" name="repository_id" id="repository_id" value="17371412" class="form-control" />

        <div class="select-menu js-menu-container js-select-menu">
          <a href="/h2oai/h2o-3/subscription"
            class="btn btn-sm btn-with-count select-menu-button js-menu-target"
            role="button"
            aria-haspopup="true"
            aria-expanded="false"
            aria-label="Toggle repository notifications menu"
            data-ga-click="Repository, click Watch settings, action:blob#show">
            <span class="js-select-button">
                <svg class="octicon octicon-eye" viewBox="0 0 16 16" version="1.1" width="16" height="16" aria-hidden="true"><path fill-rule="evenodd" d="M8.06 2C3 2 0 8 0 8s3 6 8.06 6C13 14 16 8 16 8s-3-6-7.94-6zM8 12c-2.2 0-4-1.78-4-4 0-2.2 1.8-4 4-4 2.22 0 4 1.8 4 4 0 2.22-1.78 4-4 4zm2-4c0 1.11-.89 2-2 2-1.11 0-2-.89-2-2 0-1.11.89-2 2-2 1.11 0 2 .89 2 2z"/></svg>
                Watch
            </span>
          </a>
          <a class="social-count js-social-count"
            href="/h2oai/h2o-3/watchers"
            aria-label="353 users are watching this repository">
            353
          </a>

        <div class="select-menu-modal-holder">
          <div class="select-menu-modal subscription-menu-modal js-menu-content">
            <div class="select-menu-header js-navigation-enable" tabindex="-1">
              <svg class="octicon octicon-x js-menu-close" role="img" aria-label="Close" viewBox="0 0 12 16" version="1.1" width="12" height="16"><path fill-rule="evenodd" d="M7.48 8l3.75 3.75-1.48 1.48L6 9.48l-3.75 3.75-1.48-1.48L4.52 8 .77 4.25l1.48-1.48L6 6.52l3.75-3.75 1.48 1.48L7.48 8z"/></svg>
              <span class="select-menu-title">Notifications</span>
            </div>

              <div class="select-menu-list js-navigation-container" role="menu">

                <div class="select-menu-item js-navigation-item selected" role="menuitem" tabindex="0">
                  <svg class="octicon octicon-check select-menu-item-icon" viewBox="0 0 12 16" version="1.1" width="12" height="16" aria-hidden="true"><path fill-rule="evenodd" d="M12 5l-8 8-4-4 1.5-1.5L4 10l6.5-6.5L12 5z"/></svg>
                  <div class="select-menu-item-text">
                    <input type="radio" name="do" id="do_included" value="included" checked="checked" />
                    <span class="select-menu-item-heading">Not watching</span>
                    <span class="description">Be notified when participating or @mentioned.</span>
                    <span class="js-select-button-text hidden-select-button-text">
                      <svg class="octicon octicon-eye" viewBox="0 0 16 16" version="1.1" width="16" height="16" aria-hidden="true"><path fill-rule="evenodd" d="M8.06 2C3 2 0 8 0 8s3 6 8.06 6C13 14 16 8 16 8s-3-6-7.94-6zM8 12c-2.2 0-4-1.78-4-4 0-2.2 1.8-4 4-4 2.22 0 4 1.8 4 4 0 2.22-1.78 4-4 4zm2-4c0 1.11-.89 2-2 2-1.11 0-2-.89-2-2 0-1.11.89-2 2-2 1.11 0 2 .89 2 2z"/></svg>
                      Watch
                    </span>
                  </div>
                </div>

                <div class="select-menu-item js-navigation-item " role="menuitem" tabindex="0">
                  <svg class="octicon octicon-check select-menu-item-icon" viewBox="0 0 12 16" version="1.1" width="12" height="16" aria-hidden="true"><path fill-rule="evenodd" d="M12 5l-8 8-4-4 1.5-1.5L4 10l6.5-6.5L12 5z"/></svg>
                  <div class="select-menu-item-text">
                    <input type="radio" name="do" id="do_subscribed" value="subscribed" />
                    <span class="select-menu-item-heading">Watching</span>
                    <span class="description">Be notified of all conversations.</span>
                    <span class="js-select-button-text hidden-select-button-text">
                      <svg class="octicon octicon-eye" viewBox="0 0 16 16" version="1.1" width="16" height="16" aria-hidden="true"><path fill-rule="evenodd" d="M8.06 2C3 2 0 8 0 8s3 6 8.06 6C13 14 16 8 16 8s-3-6-7.94-6zM8 12c-2.2 0-4-1.78-4-4 0-2.2 1.8-4 4-4 2.22 0 4 1.8 4 4 0 2.22-1.78 4-4 4zm2-4c0 1.11-.89 2-2 2-1.11 0-2-.89-2-2 0-1.11.89-2 2-2 1.11 0 2 .89 2 2z"/></svg>
                        Unwatch
                    </span>
                  </div>
                </div>

                <div class="select-menu-item js-navigation-item " role="menuitem" tabindex="0">
                  <svg class="octicon octicon-check select-menu-item-icon" viewBox="0 0 12 16" version="1.1" width="12" height="16" aria-hidden="true"><path fill-rule="evenodd" d="M12 5l-8 8-4-4 1.5-1.5L4 10l6.5-6.5L12 5z"/></svg>
                  <div class="select-menu-item-text">
                    <input type="radio" name="do" id="do_ignore" value="ignore" />
                    <span class="select-menu-item-heading">Ignoring</span>
                    <span class="description">Never be notified.</span>
                    <span class="js-select-button-text hidden-select-button-text">
                      <svg class="octicon octicon-mute" viewBox="0 0 16 16" version="1.1" width="16" height="16" aria-hidden="true"><path fill-rule="evenodd" d="M8 2.81v10.38c0 .67-.81 1-1.28.53L3 10H1c-.55 0-1-.45-1-1V7c0-.55.45-1 1-1h2l3.72-3.72C7.19 1.81 8 2.14 8 2.81zm7.53 3.22l-1.06-1.06-1.97 1.97-1.97-1.97-1.06 1.06L11.44 8 9.47 9.97l1.06 1.06 1.97-1.97 1.97 1.97 1.06-1.06L13.56 8l1.97-1.97z"/></svg>
                        Stop ignoring
                    </span>
                  </div>
                </div>

              </div>

            </div>
          </div>
        </div>
</form>
  </li>

  <li>
    
  <div class="js-toggler-container js-social-container starring-container ">
    <!-- '"` --><!-- </textarea></xmp> --></option></form><form class="starred js-social-form" action="/h2oai/h2o-3/unstar" accept-charset="UTF-8" method="post"><input name="utf8" type="hidden" value="&#x2713;" /><input type="hidden" name="authenticity_token" value="cL2dNdYV7aGlsz1wrBb/NOo3+MuecF/37aiyQAH2rjFiNjcU/u3U8jVSHAhmfYOl0DTIQjgi29WQUGl0N6pKXg==" />
      <input type="hidden" name="context" value="repository"></input>
      <button
        type="submit"
        class="btn btn-sm btn-with-count js-toggler-target"
        aria-label="Unstar this repository" title="Unstar h2oai/h2o-3"
        data-ga-click="Repository, click unstar button, action:blob#show; text:Unstar">
        <svg class="octicon octicon-star" viewBox="0 0 14 16" version="1.1" width="14" height="16" aria-hidden="true"><path fill-rule="evenodd" d="M14 6l-4.9-.64L7 1 4.9 5.36 0 6l3.6 3.26L2.67 14 7 11.67 11.33 14l-.93-4.74L14 6z"/></svg>
        Unstar
      </button>
        <a class="social-count js-social-count" href="/h2oai/h2o-3/stargazers"
           aria-label="3158 users starred this repository">
          3,158
        </a>
</form>
    <!-- '"` --><!-- </textarea></xmp> --></option></form><form class="unstarred js-social-form" action="/h2oai/h2o-3/star" accept-charset="UTF-8" method="post"><input name="utf8" type="hidden" value="&#x2713;" /><input type="hidden" name="authenticity_token" value="bSYvXKGO5SUdSHHAe5joilTQcPFRFKp9Czcom5hk37kNejqyvEFh9j4hbRDCluQXhEDqhTImQbuZ2Kh2POMEtQ==" />
      <input type="hidden" name="context" value="repository"></input>
      <button
        type="submit"
        class="btn btn-sm btn-with-count js-toggler-target"
        aria-label="Star this repository" title="Star h2oai/h2o-3"
        data-ga-click="Repository, click star button, action:blob#show; text:Star">
        <svg class="octicon octicon-star" viewBox="0 0 14 16" version="1.1" width="14" height="16" aria-hidden="true"><path fill-rule="evenodd" d="M14 6l-4.9-.64L7 1 4.9 5.36 0 6l3.6 3.26L2.67 14 7 11.67 11.33 14l-.93-4.74L14 6z"/></svg>
        Star
      </button>
        <a class="social-count js-social-count" href="/h2oai/h2o-3/stargazers"
           aria-label="3158 users starred this repository">
          3,158
        </a>
</form>  </div>

  </li>

  <li>
          <!-- '"` --><!-- </textarea></xmp> --></option></form><form class="btn-with-count" action="/h2oai/h2o-3/fork" accept-charset="UTF-8" method="post"><input name="utf8" type="hidden" value="&#x2713;" /><input type="hidden" name="authenticity_token" value="2K5//vKSIMwyyhnrkg210YWDOUoHiPCbzfzkGsGmOHK8A3mCsAh4O3Nwju6ERZH36vfxYNQighUVumjk7h5RPQ==" />
            <button
                type="submit"
                class="btn btn-sm btn-with-count"
                data-ga-click="Repository, show fork modal, action:blob#show; text:Fork"
                title="Fork your own copy of h2oai/h2o-3 to your account"
                aria-label="Fork your own copy of h2oai/h2o-3 to your account">
              <svg class="octicon octicon-repo-forked" viewBox="0 0 10 16" version="1.1" width="10" height="16" aria-hidden="true"><path fill-rule="evenodd" d="M8 1a1.993 1.993 0 0 0-1 3.72V6L5 8 3 6V4.72A1.993 1.993 0 0 0 2 1a1.993 1.993 0 0 0-1 3.72V6.5l3 3v1.78A1.993 1.993 0 0 0 5 15a1.993 1.993 0 0 0 1-3.72V9.5l3-3V4.72A1.993 1.993 0 0 0 8 1zM2 4.2C1.34 4.2.8 3.65.8 3c0-.65.55-1.2 1.2-1.2.65 0 1.2.55 1.2 1.2 0 .65-.55 1.2-1.2 1.2zm3 10c-.66 0-1.2-.55-1.2-1.2 0-.65.55-1.2 1.2-1.2.65 0 1.2.55 1.2 1.2 0 .65-.55 1.2-1.2 1.2zm3-10c-.66 0-1.2-.55-1.2-1.2 0-.65.55-1.2 1.2-1.2.65 0 1.2.55 1.2 1.2 0 .65-.55 1.2-1.2 1.2z"/></svg>
              Fork
            </button>
</form>
    <a href="/h2oai/h2o-3/network" class="social-count"
       aria-label="1229 users forked this repository">
      1,229
    </a>
  </li>
</ul>

      <h1 class="public ">
  <svg class="octicon octicon-repo" viewBox="0 0 12 16" version="1.1" width="12" height="16" aria-hidden="true"><path fill-rule="evenodd" d="M4 9H3V8h1v1zm0-3H3v1h1V6zm0-2H3v1h1V4zm0-2H3v1h1V2zm8-1v12c0 .55-.45 1-1 1H6v2l-1.5-1.5L3 16v-2H1c-.55 0-1-.45-1-1V1c0-.55.45-1 1-1h10c.55 0 1 .45 1 1zm-1 10H1v2h2v-1h3v1h5v-2zm0-10H2v9h9V1z"/></svg>
  <span class="author" itemprop="author"><a class="url fn" rel="author" href="/h2oai">h2oai</a></span><!--
--><span class="path-divider">/</span><!--
--><strong itemprop="name"><a data-pjax="#js-repo-pjax-container" href="/h2oai/h2o-3">h2o-3</a></strong>

</h1>

    </div>
    
<nav class="reponav js-repo-nav js-sidenav-container-pjax container"
     itemscope
     itemtype="http://schema.org/BreadcrumbList"
     role="navigation"
     data-pjax="#js-repo-pjax-container">

  <span itemscope itemtype="http://schema.org/ListItem" itemprop="itemListElement">
    <a class="js-selected-navigation-item selected reponav-item" itemprop="url" data-hotkey="g c" data-selected-links="repo_source repo_downloads repo_commits repo_releases repo_tags repo_branches repo_packages /h2oai/h2o-3" href="/h2oai/h2o-3">
      <svg class="octicon octicon-code" viewBox="0 0 14 16" version="1.1" width="14" height="16" aria-hidden="true"><path fill-rule="evenodd" d="M9.5 3L8 4.5 11.5 8 8 11.5 9.5 13 14 8 9.5 3zm-5 0L0 8l4.5 5L6 11.5 2.5 8 6 4.5 4.5 3z"/></svg>
      <span itemprop="name">Code</span>
      <meta itemprop="position" content="1">
</a>  </span>


  <span itemscope itemtype="http://schema.org/ListItem" itemprop="itemListElement">
    <a data-hotkey="g p" itemprop="url" class="js-selected-navigation-item reponav-item" data-selected-links="repo_pulls checks /h2oai/h2o-3/pulls" href="/h2oai/h2o-3/pulls">
      <svg class="octicon octicon-git-pull-request" viewBox="0 0 12 16" version="1.1" width="12" height="16" aria-hidden="true"><path fill-rule="evenodd" d="M11 11.28V5c-.03-.78-.34-1.47-.94-2.06C9.46 2.35 8.78 2.03 8 2H7V0L4 3l3 3V4h1c.27.02.48.11.69.31.21.2.3.42.31.69v6.28A1.993 1.993 0 0 0 10 15a1.993 1.993 0 0 0 1-3.72zm-1 2.92c-.66 0-1.2-.55-1.2-1.2 0-.65.55-1.2 1.2-1.2.65 0 1.2.55 1.2 1.2 0 .65-.55 1.2-1.2 1.2zM4 3c0-1.11-.89-2-2-2a1.993 1.993 0 0 0-1 3.72v6.56A1.993 1.993 0 0 0 2 15a1.993 1.993 0 0 0 1-3.72V4.72c.59-.34 1-.98 1-1.72zm-.8 10c0 .66-.55 1.2-1.2 1.2-.65 0-1.2-.55-1.2-1.2 0-.65.55-1.2 1.2-1.2.65 0 1.2.55 1.2 1.2zM2 4.2C1.34 4.2.8 3.65.8 3c0-.65.55-1.2 1.2-1.2.65 0 1.2.55 1.2 1.2 0 .65-.55 1.2-1.2 1.2z"/></svg>
      <span itemprop="name">Pull requests</span>
      <span class="Counter">57</span>
      <meta itemprop="position" content="3">
</a>  </span>

    <a data-hotkey="g b" class="js-selected-navigation-item reponav-item" data-selected-links="repo_projects new_repo_project repo_project /h2oai/h2o-3/projects" href="/h2oai/h2o-3/projects">
      <svg class="octicon octicon-project" viewBox="0 0 15 16" version="1.1" width="15" height="16" aria-hidden="true"><path fill-rule="evenodd" d="M10 12h3V2h-3v10zm-4-2h3V2H6v8zm-4 4h3V2H2v12zm-1 1h13V1H1v14zM14 0H1a1 1 0 0 0-1 1v14a1 1 0 0 0 1 1h13a1 1 0 0 0 1-1V1a1 1 0 0 0-1-1z"/></svg>
      Projects
      <span class="Counter" >0</span>
</a>


  <a class="js-selected-navigation-item reponav-item" data-selected-links="repo_graphs repo_contributors dependency_graph pulse /h2oai/h2o-3/pulse" href="/h2oai/h2o-3/pulse">
    <svg class="octicon octicon-graph" viewBox="0 0 16 16" version="1.1" width="16" height="16" aria-hidden="true"><path fill-rule="evenodd" d="M16 14v1H0V0h1v14h15zM5 13H3V8h2v5zm4 0H7V3h2v10zm4 0h-2V6h2v7z"/></svg>
    Insights
</a>

</nav>


  </div>

<div class="container new-discussion-timeline experiment-repo-nav  ">
  <div class="repository-content ">

    
  <a class="d-none js-permalink-shortcut" data-hotkey="y" href="/h2oai/h2o-3/blob/1cb84d2128cc8d6044c849b893d620ee315a5ec2/h2o-py/demos/glrm_census_large.ipynb">Permalink</a>

  <!-- blob contrib key: blob_contributors:v21:ad98bbcaf58621e36f8cbc8f1fdef46a -->

  

  <div class="file-navigation">
    
<div class="select-menu branch-select-menu js-menu-container js-select-menu float-left">
  <button class=" btn btn-sm select-menu-button js-menu-target css-truncate" data-hotkey="w"
    
    type="button" aria-label="Switch branches or tags" aria-expanded="false" aria-haspopup="true">
      <i>Branch:</i>
      <span class="js-select-button css-truncate-target">master</span>
  </button>

  <div class="select-menu-modal-holder js-menu-content js-navigation-container" data-pjax>

    <div class="select-menu-modal">
      <div class="select-menu-header">
        <svg class="octicon octicon-x js-menu-close" role="img" aria-label="Close" viewBox="0 0 12 16" version="1.1" width="12" height="16"><path fill-rule="evenodd" d="M7.48 8l3.75 3.75-1.48 1.48L6 9.48l-3.75 3.75-1.48-1.48L4.52 8 .77 4.25l1.48-1.48L6 6.52l3.75-3.75 1.48 1.48L7.48 8z"/></svg>
        <span class="select-menu-title">Switch branches/tags</span>
      </div>

      <div class="select-menu-filters">
        <div class="select-menu-text-filter">
          <input type="text" aria-label="Filter branches/tags" id="context-commitish-filter-field" class="form-control js-filterable-field js-navigation-enable" placeholder="Filter branches/tags">
        </div>
        <div class="select-menu-tabs">
          <ul>
            <li class="select-menu-tab">
              <a href="#" data-tab-filter="branches" data-filter-placeholder="Filter branches/tags" class="js-select-menu-tab" role="tab">Branches</a>
            </li>
            <li class="select-menu-tab">
              <a href="#" data-tab-filter="tags" data-filter-placeholder="Find a tag…" class="js-select-menu-tab" role="tab">Tags</a>
            </li>
          </ul>
        </div>
      </div>

      <div class="select-menu-list select-menu-tab-bucket js-select-menu-tab-bucket" data-tab-filter="branches" role="menu">

        <div data-filterable-for="context-commitish-filter-field" data-filterable-type="substring">


            <a class="select-menu-item js-navigation-item js-navigation-open "
               href="/h2oai/h2o-3/blob/3.10.0.7/h2o-py/demos/glrm_census_large.ipynb"
               data-name="3.10.0.7"
               data-skip-pjax="true"
               rel="nofollow">
              <svg class="octicon octicon-check select-menu-item-icon" viewBox="0 0 12 16" version="1.1" width="12" height="16" aria-hidden="true"><path fill-rule="evenodd" d="M12 5l-8 8-4-4 1.5-1.5L4 10l6.5-6.5L12 5z"/></svg>
              <span class="select-menu-item-text css-truncate-target js-select-menu-filter-text">
                3.10.0.7
              </span>
            </a>
            <a class="select-menu-item js-navigation-item js-navigation-open "
               href="/h2oai/h2o-3/blob/1018/h2o-py/demos/glrm_census_large.ipynb"
               data-name="1018"
               data-skip-pjax="true"
               rel="nofollow">
              <svg class="octicon octicon-check select-menu-item-icon" viewBox="0 0 12 16" version="1.1" width="12" height="16" aria-hidden="true"><path fill-rule="evenodd" d="M12 5l-8 8-4-4 1.5-1.5L4 10l6.5-6.5L12 5z"/></svg>
              <span class="select-menu-item-text css-truncate-target js-select-menu-filter-text">
                1018
              </span>
            </a>
            <a class="select-menu-item js-navigation-item js-navigation-open "
               href="/h2oai/h2o-3/blob/AUTOML-163/h2o-py/demos/glrm_census_large.ipynb"
               data-name="AUTOML-163"
               data-skip-pjax="true"
               rel="nofollow">
              <svg class="octicon octicon-check select-menu-item-icon" viewBox="0 0 12 16" version="1.1" width="12" height="16" aria-hidden="true"><path fill-rule="evenodd" d="M12 5l-8 8-4-4 1.5-1.5L4 10l6.5-6.5L12 5z"/></svg>
              <span class="select-menu-item-text css-truncate-target js-select-menu-filter-text">
                AUTOML-163
              </span>
            </a>
            <a class="select-menu-item js-navigation-item js-navigation-open "
               href="/h2oai/h2o-3/blob/BranchForTomas/h2o-py/demos/glrm_census_large.ipynb"
               data-name="BranchForTomas"
               data-skip-pjax="true"
               rel="nofollow">
              <svg class="octicon octicon-check select-menu-item-icon" viewBox="0 0 12 16" version="1.1" width="12" height="16" aria-hidden="true"><path fill-rule="evenodd" d="M12 5l-8 8-4-4 1.5-1.5L4 10l6.5-6.5L12 5z"/></svg>
              <span class="select-menu-item-text css-truncate-target js-select-menu-filter-text">
                BranchForTomas
              </span>
            </a>
            <a class="select-menu-item js-navigation-item js-navigation-open "
               href="/h2oai/h2o-3/blob/CONTRIBUTING/h2o-py/demos/glrm_census_large.ipynb"
               data-name="CONTRIBUTING"
               data-skip-pjax="true"
               rel="nofollow">
              <svg class="octicon octicon-check select-menu-item-icon" viewBox="0 0 12 16" version="1.1" width="12" height="16" aria-hidden="true"><path fill-rule="evenodd" d="M12 5l-8 8-4-4 1.5-1.5L4 10l6.5-6.5L12 5z"/></svg>
              <span class="select-menu-item-text css-truncate-target js-select-menu-filter-text">
                CONTRIBUTING
              </span>
            </a>
            <a class="select-menu-item js-navigation-item js-navigation-open "
               href="/h2oai/h2o-3/blob/EXP_micro_bench/h2o-py/demos/glrm_census_large.ipynb"
               data-name="EXP_micro_bench"
               data-skip-pjax="true"
               rel="nofollow">
              <svg class="octicon octicon-check select-menu-item-icon" viewBox="0 0 12 16" version="1.1" width="12" height="16" aria-hidden="true"><path fill-rule="evenodd" d="M12 5l-8 8-4-4 1.5-1.5L4 10l6.5-6.5L12 5z"/></svg>
              <span class="select-menu-item-text css-truncate-target js-select-menu-filter-text">
                EXP_micro_bench
              </span>
            </a>
            <a class="select-menu-item js-navigation-item js-navigation-open "
               href="/h2oai/h2o-3/blob/FLOW-PUBDEV-5666/sync-async-scala-cells/h2o-py/demos/glrm_census_large.ipynb"
               data-name="FLOW-PUBDEV-5666/sync-async-scala-cells"
               data-skip-pjax="true"
               rel="nofollow">
              <svg class="octicon octicon-check select-menu-item-icon" viewBox="0 0 12 16" version="1.1" width="12" height="16" aria-hidden="true"><path fill-rule="evenodd" d="M12 5l-8 8-4-4 1.5-1.5L4 10l6.5-6.5L12 5z"/></svg>
              <span class="select-menu-item-text css-truncate-target js-select-menu-filter-text">
                FLOW-PUBDEV-5666/sync-async-scala-cells
              </span>
            </a>
            <a class="select-menu-item js-navigation-item js-navigation-open "
               href="/h2oai/h2o-3/blob/HEXDEV-640/h2o-py/demos/glrm_census_large.ipynb"
               data-name="HEXDEV-640"
               data-skip-pjax="true"
               rel="nofollow">
              <svg class="octicon octicon-check select-menu-item-icon" viewBox="0 0 12 16" version="1.1" width="12" height="16" aria-hidden="true"><path fill-rule="evenodd" d="M12 5l-8 8-4-4 1.5-1.5L4 10l6.5-6.5L12 5z"/></svg>
              <span class="select-menu-item-text css-truncate-target js-select-menu-filter-text">
                HEXDEV-640
              </span>
            </a>
            <a class="select-menu-item js-navigation-item js-navigation-open "
               href="/h2oai/h2o-3/blob/JG_HEXDEV-632-2_syncRPackages-migration-R-repos/h2o-py/demos/glrm_census_large.ipynb"
               data-name="JG_HEXDEV-632-2_syncRPackages-migration-R-repos"
               data-skip-pjax="true"
               rel="nofollow">
              <svg class="octicon octicon-check select-menu-item-icon" viewBox="0 0 12 16" version="1.1" width="12" height="16" aria-hidden="true"><path fill-rule="evenodd" d="M12 5l-8 8-4-4 1.5-1.5L4 10l6.5-6.5L12 5z"/></svg>
              <span class="select-menu-item-text css-truncate-target js-select-menu-filter-text">
                JG_HEXDEV-632-2_syncRPackages-migration-R-repos
              </span>
            </a>
            <a class="select-menu-item js-navigation-item js-navigation-open "
               href="/h2oai/h2o-3/blob/JG_PUBDEV-2844_fread-fwrite/h2o-py/demos/glrm_census_large.ipynb"
               data-name="JG_PUBDEV-2844_fread-fwrite"
               data-skip-pjax="true"
               rel="nofollow">
              <svg class="octicon octicon-check select-menu-item-icon" viewBox="0 0 12 16" version="1.1" width="12" height="16" aria-hidden="true"><path fill-rule="evenodd" d="M12 5l-8 8-4-4 1.5-1.5L4 10l6.5-6.5L12 5z"/></svg>
              <span class="select-menu-item-text css-truncate-target js-select-menu-filter-text">
                JG_PUBDEV-2844_fread-fwrite
              </span>
            </a>
            <a class="select-menu-item js-navigation-item js-navigation-open "
               href="/h2oai/h2o-3/blob/JG_PUBDEV-3302_validate_R-CMD-check_output/h2o-py/demos/glrm_census_large.ipynb"
               data-name="JG_PUBDEV-3302_validate_R-CMD-check_output"
               data-skip-pjax="true"
               rel="nofollow">
              <svg class="octicon octicon-check select-menu-item-icon" viewBox="0 0 12 16" version="1.1" width="12" height="16" aria-hidden="true"><path fill-rule="evenodd" d="M12 5l-8 8-4-4 1.5-1.5L4 10l6.5-6.5L12 5z"/></svg>
              <span class="select-menu-item-text css-truncate-target js-select-menu-filter-text">
                JG_PUBDEV-3302_validate_R-CMD-check_output
              </span>
            </a>
            <a class="select-menu-item js-navigation-item js-navigation-open "
               href="/h2oai/h2o-3/blob/JG_PUBDEV-3534_custom-jar-also-from-url/h2o-py/demos/glrm_census_large.ipynb"
               data-name="JG_PUBDEV-3534_custom-jar-also-from-url"
               data-skip-pjax="true"
               rel="nofollow">
              <svg class="octicon octicon-check select-menu-item-icon" viewBox="0 0 12 16" version="1.1" width="12" height="16" aria-hidden="true"><path fill-rule="evenodd" d="M12 5l-8 8-4-4 1.5-1.5L4 10l6.5-6.5L12 5z"/></svg>
              <span class="select-menu-item-text css-truncate-target js-select-menu-filter-text">
                JG_PUBDEV-3534_custom-jar-also-from-url
              </span>
            </a>
            <a class="select-menu-item js-navigation-item js-navigation-open "
               href="/h2oai/h2o-3/blob/JG_PUBDEV-3689_render-h2o-R-pkg/h2o-py/demos/glrm_census_large.ipynb"
               data-name="JG_PUBDEV-3689_render-h2o-R-pkg"
               data-skip-pjax="true"
               rel="nofollow">
              <svg class="octicon octicon-check select-menu-item-icon" viewBox="0 0 12 16" version="1.1" width="12" height="16" aria-hidden="true"><path fill-rule="evenodd" d="M12 5l-8 8-4-4 1.5-1.5L4 10l6.5-6.5L12 5z"/></svg>
              <span class="select-menu-item-text css-truncate-target js-select-menu-filter-text">
                JG_PUBDEV-3689_render-h2o-R-pkg
              </span>
            </a>
            <a class="select-menu-item js-navigation-item js-navigation-open "
               href="/h2oai/h2o-3/blob/JG_PUBDEV-3754_r-desc-file-update-url-and-authors/h2o-py/demos/glrm_census_large.ipynb"
               data-name="JG_PUBDEV-3754_r-desc-file-update-url-and-authors"
               data-skip-pjax="true"
               rel="nofollow">
              <svg class="octicon octicon-check select-menu-item-icon" viewBox="0 0 12 16" version="1.1" width="12" height="16" aria-hidden="true"><path fill-rule="evenodd" d="M12 5l-8 8-4-4 1.5-1.5L4 10l6.5-6.5L12 5z"/></svg>
              <span class="select-menu-item-text css-truncate-target js-select-menu-filter-text">
                JG_PUBDEV-3754_r-desc-file-update-url-and-authors
              </span>
            </a>
            <a class="select-menu-item js-navigation-item js-navigation-open "
               href="/h2oai/h2o-3/blob/Lauren_PythonPandasParity/h2o-py/demos/glrm_census_large.ipynb"
               data-name="Lauren_PythonPandasParity"
               data-skip-pjax="true"
               rel="nofollow">
              <svg class="octicon octicon-check select-menu-item-icon" viewBox="0 0 12 16" version="1.1" width="12" height="16" aria-hidden="true"><path fill-rule="evenodd" d="M12 5l-8 8-4-4 1.5-1.5L4 10l6.5-6.5L12 5z"/></svg>
              <span class="select-menu-item-text css-truncate-target js-select-menu-filter-text">
                Lauren_PythonPandasParity
              </span>
            </a>
            <a class="select-menu-item js-navigation-item js-navigation-open "
               href="/h2oai/h2o-3/blob/MD_context_path_doc/h2o-py/demos/glrm_census_large.ipynb"
               data-name="MD_context_path_doc"
               data-skip-pjax="true"
               rel="nofollow">
              <svg class="octicon octicon-check select-menu-item-icon" viewBox="0 0 12 16" version="1.1" width="12" height="16" aria-hidden="true"><path fill-rule="evenodd" d="M12 5l-8 8-4-4 1.5-1.5L4 10l6.5-6.5L12 5z"/></svg>
              <span class="select-menu-item-text css-truncate-target js-select-menu-filter-text">
                MD_context_path_doc
              </span>
            </a>
            <a class="select-menu-item js-navigation-item js-navigation-open "
               href="/h2oai/h2o-3/blob/MD_dw_mojo_problem_type/h2o-py/demos/glrm_census_large.ipynb"
               data-name="MD_dw_mojo_problem_type"
               data-skip-pjax="true"
               rel="nofollow">
              <svg class="octicon octicon-check select-menu-item-icon" viewBox="0 0 12 16" version="1.1" width="12" height="16" aria-hidden="true"><path fill-rule="evenodd" d="M12 5l-8 8-4-4 1.5-1.5L4 10l6.5-6.5L12 5z"/></svg>
              <span class="select-menu-item-text css-truncate-target js-select-menu-filter-text">
                MD_dw_mojo_problem_type
              </span>
            </a>
            <a class="select-menu-item js-navigation-item js-navigation-open "
               href="/h2oai/h2o-3/blob/MD_licenses/h2o-py/demos/glrm_census_large.ipynb"
               data-name="MD_licenses"
               data-skip-pjax="true"
               rel="nofollow">
              <svg class="octicon octicon-check select-menu-item-icon" viewBox="0 0 12 16" version="1.1" width="12" height="16" aria-hidden="true"><path fill-rule="evenodd" d="M12 5l-8 8-4-4 1.5-1.5L4 10l6.5-6.5L12 5z"/></svg>
              <span class="select-menu-item-text css-truncate-target js-select-menu-filter-text">
                MD_licenses
              </span>
            </a>
            <a class="select-menu-item js-navigation-item js-navigation-open "
               href="/h2oai/h2o-3/blob/MD_tensorflow_jni_fixes/h2o-py/demos/glrm_census_large.ipynb"
               data-name="MD_tensorflow_jni_fixes"
               data-skip-pjax="true"
               rel="nofollow">
              <svg class="octicon octicon-check select-menu-item-icon" viewBox="0 0 12 16" version="1.1" width="12" height="16" aria-hidden="true"><path fill-rule="evenodd" d="M12 5l-8 8-4-4 1.5-1.5L4 10l6.5-6.5L12 5z"/></svg>
              <span class="select-menu-item-text css-truncate-target js-select-menu-filter-text">
                MD_tensorflow_jni_fixes
              </span>
            </a>
            <a class="select-menu-item js-navigation-item js-navigation-open "
               href="/h2oai/h2o-3/blob/MM_build_fix_jar_relocation/h2o-py/demos/glrm_census_large.ipynb"
               data-name="MM_build_fix_jar_relocation"
               data-skip-pjax="true"
               rel="nofollow">
              <svg class="octicon octicon-check select-menu-item-icon" viewBox="0 0 12 16" version="1.1" width="12" height="16" aria-hidden="true"><path fill-rule="evenodd" d="M12 5l-8 8-4-4 1.5-1.5L4 10l6.5-6.5L12 5z"/></svg>
              <span class="select-menu-item-text css-truncate-target js-select-menu-filter-text">
                MM_build_fix_jar_relocation
              </span>
            </a>
            <a class="select-menu-item js-navigation-item js-navigation-open "
               href="/h2oai/h2o-3/blob/MM_checkstyle/h2o-py/demos/glrm_census_large.ipynb"
               data-name="MM_checkstyle"
               data-skip-pjax="true"
               rel="nofollow">
              <svg class="octicon octicon-check select-menu-item-icon" viewBox="0 0 12 16" version="1.1" width="12" height="16" aria-hidden="true"><path fill-rule="evenodd" d="M12 5l-8 8-4-4 1.5-1.5L4 10l6.5-6.5L12 5z"/></svg>
              <span class="select-menu-item-text css-truncate-target js-select-menu-filter-text">
                MM_checkstyle
              </span>
            </a>
            <a class="select-menu-item js-navigation-item js-navigation-open "
               href="/h2oai/h2o-3/blob/MM_gs/h2o-py/demos/glrm_census_large.ipynb"
               data-name="MM_gs"
               data-skip-pjax="true"
               rel="nofollow">
              <svg class="octicon octicon-check select-menu-item-icon" viewBox="0 0 12 16" version="1.1" width="12" height="16" aria-hidden="true"><path fill-rule="evenodd" d="M12 5l-8 8-4-4 1.5-1.5L4 10l6.5-6.5L12 5z"/></svg>
              <span class="select-menu-item-text css-truncate-target js-select-menu-filter-text">
                MM_gs
              </span>
            </a>
            <a class="select-menu-item js-navigation-item js-navigation-open "
               href="/h2oai/h2o-3/blob/MM_ipv6/h2o-py/demos/glrm_census_large.ipynb"
               data-name="MM_ipv6"
               data-skip-pjax="true"
               rel="nofollow">
              <svg class="octicon octicon-check select-menu-item-icon" viewBox="0 0 12 16" version="1.1" width="12" height="16" aria-hidden="true"><path fill-rule="evenodd" d="M12 5l-8 8-4-4 1.5-1.5L4 10l6.5-6.5L12 5z"/></svg>
              <span class="select-menu-item-text css-truncate-target js-select-menu-filter-text">
                MM_ipv6
              </span>
            </a>
            <a class="select-menu-item js-navigation-item js-navigation-open "
               href="/h2oai/h2o-3/blob/MM_pojoRemake/h2o-py/demos/glrm_census_large.ipynb"
               data-name="MM_pojoRemake"
               data-skip-pjax="true"
               rel="nofollow">
              <svg class="octicon octicon-check select-menu-item-icon" viewBox="0 0 12 16" version="1.1" width="12" height="16" aria-hidden="true"><path fill-rule="evenodd" d="M12 5l-8 8-4-4 1.5-1.5L4 10l6.5-6.5L12 5z"/></svg>
              <span class="select-menu-item-text css-truncate-target js-select-menu-filter-text">
                MM_pojoRemake
              </span>
            </a>
            <a class="select-menu-item js-navigation-item js-navigation-open "
               href="/h2oai/h2o-3/blob/MM_scala_repl/h2o-py/demos/glrm_census_large.ipynb"
               data-name="MM_scala_repl"
               data-skip-pjax="true"
               rel="nofollow">
              <svg class="octicon octicon-check select-menu-item-icon" viewBox="0 0 12 16" version="1.1" width="12" height="16" aria-hidden="true"><path fill-rule="evenodd" d="M12 5l-8 8-4-4 1.5-1.5L4 10l6.5-6.5L12 5z"/></svg>
              <span class="select-menu-item-text css-truncate-target js-select-menu-filter-text">
                MM_scala_repl
              </span>
            </a>
            <a class="select-menu-item js-navigation-item js-navigation-open "
               href="/h2oai/h2o-3/blob/MM_yyy/h2o-py/demos/glrm_census_large.ipynb"
               data-name="MM_yyy"
               data-skip-pjax="true"
               rel="nofollow">
              <svg class="octicon octicon-check select-menu-item-icon" viewBox="0 0 12 16" version="1.1" width="12" height="16" aria-hidden="true"><path fill-rule="evenodd" d="M12 5l-8 8-4-4 1.5-1.5L4 10l6.5-6.5L12 5z"/></svg>
              <span class="select-menu-item-text css-truncate-target js-select-menu-filter-text">
                MM_yyy
              </span>
            </a>
            <a class="select-menu-item js-navigation-item js-navigation-open "
               href="/h2oai/h2o-3/blob/MM_4anmol/h2o-py/demos/glrm_census_large.ipynb"
               data-name="MM_4anmol"
               data-skip-pjax="true"
               rel="nofollow">
              <svg class="octicon octicon-check select-menu-item-icon" viewBox="0 0 12 16" version="1.1" width="12" height="16" aria-hidden="true"><path fill-rule="evenodd" d="M12 5l-8 8-4-4 1.5-1.5L4 10l6.5-6.5L12 5z"/></svg>
              <span class="select-menu-item-text css-truncate-target js-select-menu-filter-text">
                MM_4anmol
              </span>
            </a>
            <a class="select-menu-item js-navigation-item js-navigation-open "
               href="/h2oai/h2o-3/blob/NG/automl-test/h2o-py/demos/glrm_census_large.ipynb"
               data-name="NG/automl-test"
               data-skip-pjax="true"
               rel="nofollow">
              <svg class="octicon octicon-check select-menu-item-icon" viewBox="0 0 12 16" version="1.1" width="12" height="16" aria-hidden="true"><path fill-rule="evenodd" d="M12 5l-8 8-4-4 1.5-1.5L4 10l6.5-6.5L12 5z"/></svg>
              <span class="select-menu-item-text css-truncate-target js-select-menu-filter-text">
                NG/automl-test
              </span>
            </a>
            <a class="select-menu-item js-navigation-item js-navigation-open "
               href="/h2oai/h2o-3/blob/NG/eval-metric/h2o-py/demos/glrm_census_large.ipynb"
               data-name="NG/eval-metric"
               data-skip-pjax="true"
               rel="nofollow">
              <svg class="octicon octicon-check select-menu-item-icon" viewBox="0 0 12 16" version="1.1" width="12" height="16" aria-hidden="true"><path fill-rule="evenodd" d="M12 5l-8 8-4-4 1.5-1.5L4 10l6.5-6.5L12 5z"/></svg>
              <span class="select-menu-item-text css-truncate-target js-select-menu-filter-text">
                NG/eval-metric
              </span>
            </a>
            <a class="select-menu-item js-navigation-item js-navigation-open "
               href="/h2oai/h2o-3/blob/NG_fileglob/h2o-py/demos/glrm_census_large.ipynb"
               data-name="NG_fileglob"
               data-skip-pjax="true"
               rel="nofollow">
              <svg class="octicon octicon-check select-menu-item-icon" viewBox="0 0 12 16" version="1.1" width="12" height="16" aria-hidden="true"><path fill-rule="evenodd" d="M12 5l-8 8-4-4 1.5-1.5L4 10l6.5-6.5L12 5z"/></svg>
              <span class="select-menu-item-text css-truncate-target js-select-menu-filter-text">
                NG_fileglob
              </span>
            </a>
            <a class="select-menu-item js-navigation-item js-navigation-open "
               href="/h2oai/h2o-3/blob/NG/metalearner-grid/h2o-py/demos/glrm_census_large.ipynb"
               data-name="NG/metalearner-grid"
               data-skip-pjax="true"
               rel="nofollow">
              <svg class="octicon octicon-check select-menu-item-icon" viewBox="0 0 12 16" version="1.1" width="12" height="16" aria-hidden="true"><path fill-rule="evenodd" d="M12 5l-8 8-4-4 1.5-1.5L4 10l6.5-6.5L12 5z"/></svg>
              <span class="select-menu-item-text css-truncate-target js-select-menu-filter-text">
                NG/metalearner-grid
              </span>
            </a>
            <a class="select-menu-item js-navigation-item js-navigation-open "
               href="/h2oai/h2o-3/blob/NG_pubdev4435/h2o-py/demos/glrm_census_large.ipynb"
               data-name="NG_pubdev4435"
               data-skip-pjax="true"
               rel="nofollow">
              <svg class="octicon octicon-check select-menu-item-icon" viewBox="0 0 12 16" version="1.1" width="12" height="16" aria-hidden="true"><path fill-rule="evenodd" d="M12 5l-8 8-4-4 1.5-1.5L4 10l6.5-6.5L12 5z"/></svg>
              <span class="select-menu-item-text css-truncate-target js-select-menu-filter-text">
                NG_pubdev4435
              </span>
            </a>
            <a class="select-menu-item js-navigation-item js-navigation-open "
               href="/h2oai/h2o-3/blob/NG/se-iced/h2o-py/demos/glrm_census_large.ipynb"
               data-name="NG/se-iced"
               data-skip-pjax="true"
               rel="nofollow">
              <svg class="octicon octicon-check select-menu-item-icon" viewBox="0 0 12 16" version="1.1" width="12" height="16" aria-hidden="true"><path fill-rule="evenodd" d="M12 5l-8 8-4-4 1.5-1.5L4 10l6.5-6.5L12 5z"/></svg>
              <span class="select-menu-item-text css-truncate-target js-select-menu-filter-text">
                NG/se-iced
              </span>
            </a>
            <a class="select-menu-item js-navigation-item js-navigation-open "
               href="/h2oai/h2o-3/blob/PUBDEV-2535_hotfix/h2o-py/demos/glrm_census_large.ipynb"
               data-name="PUBDEV-2535_hotfix"
               data-skip-pjax="true"
               rel="nofollow">
              <svg class="octicon octicon-check select-menu-item-icon" viewBox="0 0 12 16" version="1.1" width="12" height="16" aria-hidden="true"><path fill-rule="evenodd" d="M12 5l-8 8-4-4 1.5-1.5L4 10l6.5-6.5L12 5z"/></svg>
              <span class="select-menu-item-text css-truncate-target js-select-menu-filter-text">
                PUBDEV-2535_hotfix
              </span>
            </a>
            <a class="select-menu-item js-navigation-item js-navigation-open "
               href="/h2oai/h2o-3/blob/PUBDEV-2535_hotfix2/h2o-py/demos/glrm_census_large.ipynb"
               data-name="PUBDEV-2535_hotfix2"
               data-skip-pjax="true"
               rel="nofollow">
              <svg class="octicon octicon-check select-menu-item-icon" viewBox="0 0 12 16" version="1.1" width="12" height="16" aria-hidden="true"><path fill-rule="evenodd" d="M12 5l-8 8-4-4 1.5-1.5L4 10l6.5-6.5L12 5z"/></svg>
              <span class="select-menu-item-text css-truncate-target js-select-menu-filter-text">
                PUBDEV-2535_hotfix2
              </span>
            </a>
            <a class="select-menu-item js-navigation-item js-navigation-open "
               href="/h2oai/h2o-3/blob/PUBDEV-2535_markc/h2o-py/demos/glrm_census_large.ipynb"
               data-name="PUBDEV-2535_markc"
               data-skip-pjax="true"
               rel="nofollow">
              <svg class="octicon octicon-check select-menu-item-icon" viewBox="0 0 12 16" version="1.1" width="12" height="16" aria-hidden="true"><path fill-rule="evenodd" d="M12 5l-8 8-4-4 1.5-1.5L4 10l6.5-6.5L12 5z"/></svg>
              <span class="select-menu-item-text css-truncate-target js-select-menu-filter-text">
                PUBDEV-2535_markc
              </span>
            </a>
            <a class="select-menu-item js-navigation-item js-navigation-open "
               href="/h2oai/h2o-3/blob/PUBDEV-2535_perf_fixes/h2o-py/demos/glrm_census_large.ipynb"
               data-name="PUBDEV-2535_perf_fixes"
               data-skip-pjax="true"
               rel="nofollow">
              <svg class="octicon octicon-check select-menu-item-icon" viewBox="0 0 12 16" version="1.1" width="12" height="16" aria-hidden="true"><path fill-rule="evenodd" d="M12 5l-8 8-4-4 1.5-1.5L4 10l6.5-6.5L12 5z"/></svg>
              <span class="select-menu-item-text css-truncate-target js-select-menu-filter-text">
                PUBDEV-2535_perf_fixes
              </span>
            </a>
            <a class="select-menu-item js-navigation-item js-navigation-open "
               href="/h2oai/h2o-3/blob/PUBDEV-2557/h2o-py/demos/glrm_census_large.ipynb"
               data-name="PUBDEV-2557"
               data-skip-pjax="true"
               rel="nofollow">
              <svg class="octicon octicon-check select-menu-item-icon" viewBox="0 0 12 16" version="1.1" width="12" height="16" aria-hidden="true"><path fill-rule="evenodd" d="M12 5l-8 8-4-4 1.5-1.5L4 10l6.5-6.5L12 5z"/></svg>
              <span class="select-menu-item-text css-truncate-target js-select-menu-filter-text">
                PUBDEV-2557
              </span>
            </a>
            <a class="select-menu-item js-navigation-item js-navigation-open "
               href="/h2oai/h2o-3/blob/PUBDEV-3271/h2o-py/demos/glrm_census_large.ipynb"
               data-name="PUBDEV-3271"
               data-skip-pjax="true"
               rel="nofollow">
              <svg class="octicon octicon-check select-menu-item-icon" viewBox="0 0 12 16" version="1.1" width="12" height="16" aria-hidden="true"><path fill-rule="evenodd" d="M12 5l-8 8-4-4 1.5-1.5L4 10l6.5-6.5L12 5z"/></svg>
              <span class="select-menu-item-text css-truncate-target js-select-menu-filter-text">
                PUBDEV-3271
              </span>
            </a>
            <a class="select-menu-item js-navigation-item js-navigation-open "
               href="/h2oai/h2o-3/blob/PUBDEV-3309/h2o-py/demos/glrm_census_large.ipynb"
               data-name="PUBDEV-3309"
               data-skip-pjax="true"
               rel="nofollow">
              <svg class="octicon octicon-check select-menu-item-icon" viewBox="0 0 12 16" version="1.1" width="12" height="16" aria-hidden="true"><path fill-rule="evenodd" d="M12 5l-8 8-4-4 1.5-1.5L4 10l6.5-6.5L12 5z"/></svg>
              <span class="select-menu-item-text css-truncate-target js-select-menu-filter-text">
                PUBDEV-3309
              </span>
            </a>
            <a class="select-menu-item js-navigation-item js-navigation-open "
               href="/h2oai/h2o-3/blob/PUBDEV-3635/h2o-py/demos/glrm_census_large.ipynb"
               data-name="PUBDEV-3635"
               data-skip-pjax="true"
               rel="nofollow">
              <svg class="octicon octicon-check select-menu-item-icon" viewBox="0 0 12 16" version="1.1" width="12" height="16" aria-hidden="true"><path fill-rule="evenodd" d="M12 5l-8 8-4-4 1.5-1.5L4 10l6.5-6.5L12 5z"/></svg>
              <span class="select-menu-item-text css-truncate-target js-select-menu-filter-text">
                PUBDEV-3635
              </span>
            </a>
            <a class="select-menu-item js-navigation-item js-navigation-open "
               href="/h2oai/h2o-3/blob/PUBDEV-3656/h2o-py/demos/glrm_census_large.ipynb"
               data-name="PUBDEV-3656"
               data-skip-pjax="true"
               rel="nofollow">
              <svg class="octicon octicon-check select-menu-item-icon" viewBox="0 0 12 16" version="1.1" width="12" height="16" aria-hidden="true"><path fill-rule="evenodd" d="M12 5l-8 8-4-4 1.5-1.5L4 10l6.5-6.5L12 5z"/></svg>
              <span class="select-menu-item-text css-truncate-target js-select-menu-filter-text">
                PUBDEV-3656
              </span>
            </a>
            <a class="select-menu-item js-navigation-item js-navigation-open "
               href="/h2oai/h2o-3/blob/PUBDEV-3658/h2o-py/demos/glrm_census_large.ipynb"
               data-name="PUBDEV-3658"
               data-skip-pjax="true"
               rel="nofollow">
              <svg class="octicon octicon-check select-menu-item-icon" viewBox="0 0 12 16" version="1.1" width="12" height="16" aria-hidden="true"><path fill-rule="evenodd" d="M12 5l-8 8-4-4 1.5-1.5L4 10l6.5-6.5L12 5z"/></svg>
              <span class="select-menu-item-text css-truncate-target js-select-menu-filter-text">
                PUBDEV-3658
              </span>
            </a>
            <a class="select-menu-item js-navigation-item js-navigation-open "
               href="/h2oai/h2o-3/blob/PUBDEV-3754_master/h2o-py/demos/glrm_census_large.ipynb"
               data-name="PUBDEV-3754_master"
               data-skip-pjax="true"
               rel="nofollow">
              <svg class="octicon octicon-check select-menu-item-icon" viewBox="0 0 12 16" version="1.1" width="12" height="16" aria-hidden="true"><path fill-rule="evenodd" d="M12 5l-8 8-4-4 1.5-1.5L4 10l6.5-6.5L12 5z"/></svg>
              <span class="select-menu-item-text css-truncate-target js-select-menu-filter-text">
                PUBDEV-3754_master
              </span>
            </a>
            <a class="select-menu-item js-navigation-item js-navigation-open "
               href="/h2oai/h2o-3/blob/PUBDEV-3754_wright/h2o-py/demos/glrm_census_large.ipynb"
               data-name="PUBDEV-3754_wright"
               data-skip-pjax="true"
               rel="nofollow">
              <svg class="octicon octicon-check select-menu-item-icon" viewBox="0 0 12 16" version="1.1" width="12" height="16" aria-hidden="true"><path fill-rule="evenodd" d="M12 5l-8 8-4-4 1.5-1.5L4 10l6.5-6.5L12 5z"/></svg>
              <span class="select-menu-item-text css-truncate-target js-select-menu-filter-text">
                PUBDEV-3754_wright
              </span>
            </a>
            <a class="select-menu-item js-navigation-item js-navigation-open "
               href="/h2oai/h2o-3/blob/PUBDEV-3840_markc/h2o-py/demos/glrm_census_large.ipynb"
               data-name="PUBDEV-3840_markc"
               data-skip-pjax="true"
               rel="nofollow">
              <svg class="octicon octicon-check select-menu-item-icon" viewBox="0 0 12 16" version="1.1" width="12" height="16" aria-hidden="true"><path fill-rule="evenodd" d="M12 5l-8 8-4-4 1.5-1.5L4 10l6.5-6.5L12 5z"/></svg>
              <span class="select-menu-item-text css-truncate-target js-select-menu-filter-text">
                PUBDEV-3840_markc
              </span>
            </a>
            <a class="select-menu-item js-navigation-item js-navigation-open "
               href="/h2oai/h2o-3/blob/PUBDEV-3866-v3/h2o-py/demos/glrm_census_large.ipynb"
               data-name="PUBDEV-3866-v3"
               data-skip-pjax="true"
               rel="nofollow">
              <svg class="octicon octicon-check select-menu-item-icon" viewBox="0 0 12 16" version="1.1" width="12" height="16" aria-hidden="true"><path fill-rule="evenodd" d="M12 5l-8 8-4-4 1.5-1.5L4 10l6.5-6.5L12 5z"/></svg>
              <span class="select-menu-item-text css-truncate-target js-select-menu-filter-text">
                PUBDEV-3866-v3
              </span>
            </a>
            <a class="select-menu-item js-navigation-item js-navigation-open "
               href="/h2oai/h2o-3/blob/PUBDEV-3866-v4/h2o-py/demos/glrm_census_large.ipynb"
               data-name="PUBDEV-3866-v4"
               data-skip-pjax="true"
               rel="nofollow">
              <svg class="octicon octicon-check select-menu-item-icon" viewBox="0 0 12 16" version="1.1" width="12" height="16" aria-hidden="true"><path fill-rule="evenodd" d="M12 5l-8 8-4-4 1.5-1.5L4 10l6.5-6.5L12 5z"/></svg>
              <span class="select-menu-item-text css-truncate-target js-select-menu-filter-text">
                PUBDEV-3866-v4
              </span>
            </a>
            <a class="select-menu-item js-navigation-item js-navigation-open "
               href="/h2oai/h2o-3/blob/PUBDEV-3880/h2o-py/demos/glrm_census_large.ipynb"
               data-name="PUBDEV-3880"
               data-skip-pjax="true"
               rel="nofollow">
              <svg class="octicon octicon-check select-menu-item-icon" viewBox="0 0 12 16" version="1.1" width="12" height="16" aria-hidden="true"><path fill-rule="evenodd" d="M12 5l-8 8-4-4 1.5-1.5L4 10l6.5-6.5L12 5z"/></svg>
              <span class="select-menu-item-text css-truncate-target js-select-menu-filter-text">
                PUBDEV-3880
              </span>
            </a>
            <a class="select-menu-item js-navigation-item js-navigation-open "
               href="/h2oai/h2o-3/blob/PUBDEV-3902/h2o-py/demos/glrm_census_large.ipynb"
               data-name="PUBDEV-3902"
               data-skip-pjax="true"
               rel="nofollow">
              <svg class="octicon octicon-check select-menu-item-icon" viewBox="0 0 12 16" version="1.1" width="12" height="16" aria-hidden="true"><path fill-rule="evenodd" d="M12 5l-8 8-4-4 1.5-1.5L4 10l6.5-6.5L12 5z"/></svg>
              <span class="select-menu-item-text css-truncate-target js-select-menu-filter-text">
                PUBDEV-3902
              </span>
            </a>
            <a class="select-menu-item js-navigation-item js-navigation-open "
               href="/h2oai/h2o-3/blob/PUBDEV-3944/h2o-py/demos/glrm_census_large.ipynb"
               data-name="PUBDEV-3944"
               data-skip-pjax="true"
               rel="nofollow">
              <svg class="octicon octicon-check select-menu-item-icon" viewBox="0 0 12 16" version="1.1" width="12" height="16" aria-hidden="true"><path fill-rule="evenodd" d="M12 5l-8 8-4-4 1.5-1.5L4 10l6.5-6.5L12 5z"/></svg>
              <span class="select-menu-item-text css-truncate-target js-select-menu-filter-text">
                PUBDEV-3944
              </span>
            </a>
            <a class="select-menu-item js-navigation-item js-navigation-open "
               href="/h2oai/h2o-3/blob/PUBDEV-4059/h2o-py/demos/glrm_census_large.ipynb"
               data-name="PUBDEV-4059"
               data-skip-pjax="true"
               rel="nofollow">
              <svg class="octicon octicon-check select-menu-item-icon" viewBox="0 0 12 16" version="1.1" width="12" height="16" aria-hidden="true"><path fill-rule="evenodd" d="M12 5l-8 8-4-4 1.5-1.5L4 10l6.5-6.5L12 5z"/></svg>
              <span class="select-menu-item-text css-truncate-target js-select-menu-filter-text">
                PUBDEV-4059
              </span>
            </a>
            <a class="select-menu-item js-navigation-item js-navigation-open "
               href="/h2oai/h2o-3/blob/PUBDEV-4066/h2o-py/demos/glrm_census_large.ipynb"
               data-name="PUBDEV-4066"
               data-skip-pjax="true"
               rel="nofollow">
              <svg class="octicon octicon-check select-menu-item-icon" viewBox="0 0 12 16" version="1.1" width="12" height="16" aria-hidden="true"><path fill-rule="evenodd" d="M12 5l-8 8-4-4 1.5-1.5L4 10l6.5-6.5L12 5z"/></svg>
              <span class="select-menu-item-text css-truncate-target js-select-menu-filter-text">
                PUBDEV-4066
              </span>
            </a>
            <a class="select-menu-item js-navigation-item js-navigation-open "
               href="/h2oai/h2o-3/blob/PUBDEV-4080/h2o-py/demos/glrm_census_large.ipynb"
               data-name="PUBDEV-4080"
               data-skip-pjax="true"
               rel="nofollow">
              <svg class="octicon octicon-check select-menu-item-icon" viewBox="0 0 12 16" version="1.1" width="12" height="16" aria-hidden="true"><path fill-rule="evenodd" d="M12 5l-8 8-4-4 1.5-1.5L4 10l6.5-6.5L12 5z"/></svg>
              <span class="select-menu-item-text css-truncate-target js-select-menu-filter-text">
                PUBDEV-4080
              </span>
            </a>
            <a class="select-menu-item js-navigation-item js-navigation-open "
               href="/h2oai/h2o-3/blob/PUBDEV-4123/h2o-py/demos/glrm_census_large.ipynb"
               data-name="PUBDEV-4123"
               data-skip-pjax="true"
               rel="nofollow">
              <svg class="octicon octicon-check select-menu-item-icon" viewBox="0 0 12 16" version="1.1" width="12" height="16" aria-hidden="true"><path fill-rule="evenodd" d="M12 5l-8 8-4-4 1.5-1.5L4 10l6.5-6.5L12 5z"/></svg>
              <span class="select-menu-item-text css-truncate-target js-select-menu-filter-text">
                PUBDEV-4123
              </span>
            </a>
            <a class="select-menu-item js-navigation-item js-navigation-open "
               href="/h2oai/h2o-3/blob/PUBDEV-4128/h2o-py/demos/glrm_census_large.ipynb"
               data-name="PUBDEV-4128"
               data-skip-pjax="true"
               rel="nofollow">
              <svg class="octicon octicon-check select-menu-item-icon" viewBox="0 0 12 16" version="1.1" width="12" height="16" aria-hidden="true"><path fill-rule="evenodd" d="M12 5l-8 8-4-4 1.5-1.5L4 10l6.5-6.5L12 5z"/></svg>
              <span class="select-menu-item-text css-truncate-target js-select-menu-filter-text">
                PUBDEV-4128
              </span>
            </a>
            <a class="select-menu-item js-navigation-item js-navigation-open "
               href="/h2oai/h2o-3/blob/PUBDEV-4164/h2o-py/demos/glrm_census_large.ipynb"
               data-name="PUBDEV-4164"
               data-skip-pjax="true"
               rel="nofollow">
              <svg class="octicon octicon-check select-menu-item-icon" viewBox="0 0 12 16" version="1.1" width="12" height="16" aria-hidden="true"><path fill-rule="evenodd" d="M12 5l-8 8-4-4 1.5-1.5L4 10l6.5-6.5L12 5z"/></svg>
              <span class="select-menu-item-text css-truncate-target js-select-menu-filter-text">
                PUBDEV-4164
              </span>
            </a>
            <a class="select-menu-item js-navigation-item js-navigation-open "
               href="/h2oai/h2o-3/blob/PUBDEV-4170/h2o-py/demos/glrm_census_large.ipynb"
               data-name="PUBDEV-4170"
               data-skip-pjax="true"
               rel="nofollow">
              <svg class="octicon octicon-check select-menu-item-icon" viewBox="0 0 12 16" version="1.1" width="12" height="16" aria-hidden="true"><path fill-rule="evenodd" d="M12 5l-8 8-4-4 1.5-1.5L4 10l6.5-6.5L12 5z"/></svg>
              <span class="select-menu-item-text css-truncate-target js-select-menu-filter-text">
                PUBDEV-4170
              </span>
            </a>
            <a class="select-menu-item js-navigation-item js-navigation-open "
               href="/h2oai/h2o-3/blob/PUBDEV-4187_markc/h2o-py/demos/glrm_census_large.ipynb"
               data-name="PUBDEV-4187_markc"
               data-skip-pjax="true"
               rel="nofollow">
              <svg class="octicon octicon-check select-menu-item-icon" viewBox="0 0 12 16" version="1.1" width="12" height="16" aria-hidden="true"><path fill-rule="evenodd" d="M12 5l-8 8-4-4 1.5-1.5L4 10l6.5-6.5L12 5z"/></svg>
              <span class="select-menu-item-text css-truncate-target js-select-menu-filter-text">
                PUBDEV-4187_markc
              </span>
            </a>
            <a class="select-menu-item js-navigation-item js-navigation-open "
               href="/h2oai/h2o-3/blob/PUBDEV-4201-cont/h2o-py/demos/glrm_census_large.ipynb"
               data-name="PUBDEV-4201-cont"
               data-skip-pjax="true"
               rel="nofollow">
              <svg class="octicon octicon-check select-menu-item-icon" viewBox="0 0 12 16" version="1.1" width="12" height="16" aria-hidden="true"><path fill-rule="evenodd" d="M12 5l-8 8-4-4 1.5-1.5L4 10l6.5-6.5L12 5z"/></svg>
              <span class="select-menu-item-text css-truncate-target js-select-menu-filter-text">
                PUBDEV-4201-cont
              </span>
            </a>
            <a class="select-menu-item js-navigation-item js-navigation-open "
               href="/h2oai/h2o-3/blob/PUBDEV-4201/h2o-py/demos/glrm_census_large.ipynb"
               data-name="PUBDEV-4201"
               data-skip-pjax="true"
               rel="nofollow">
              <svg class="octicon octicon-check select-menu-item-icon" viewBox="0 0 12 16" version="1.1" width="12" height="16" aria-hidden="true"><path fill-rule="evenodd" d="M12 5l-8 8-4-4 1.5-1.5L4 10l6.5-6.5L12 5z"/></svg>
              <span class="select-menu-item-text css-truncate-target js-select-menu-filter-text">
                PUBDEV-4201
              </span>
            </a>
            <a class="select-menu-item js-navigation-item js-navigation-open "
               href="/h2oai/h2o-3/blob/PUBDEV-4213-rel-vajda/h2o-py/demos/glrm_census_large.ipynb"
               data-name="PUBDEV-4213-rel-vajda"
               data-skip-pjax="true"
               rel="nofollow">
              <svg class="octicon octicon-check select-menu-item-icon" viewBox="0 0 12 16" version="1.1" width="12" height="16" aria-hidden="true"><path fill-rule="evenodd" d="M12 5l-8 8-4-4 1.5-1.5L4 10l6.5-6.5L12 5z"/></svg>
              <span class="select-menu-item-text css-truncate-target js-select-menu-filter-text">
                PUBDEV-4213-rel-vajda
              </span>
            </a>
            <a class="select-menu-item js-navigation-item js-navigation-open "
               href="/h2oai/h2o-3/blob/PUBDEV-4215/h2o-py/demos/glrm_census_large.ipynb"
               data-name="PUBDEV-4215"
               data-skip-pjax="true"
               rel="nofollow">
              <svg class="octicon octicon-check select-menu-item-icon" viewBox="0 0 12 16" version="1.1" width="12" height="16" aria-hidden="true"><path fill-rule="evenodd" d="M12 5l-8 8-4-4 1.5-1.5L4 10l6.5-6.5L12 5z"/></svg>
              <span class="select-menu-item-text css-truncate-target js-select-menu-filter-text">
                PUBDEV-4215
              </span>
            </a>
            <a class="select-menu-item js-navigation-item js-navigation-open "
               href="/h2oai/h2o-3/blob/PUBDEV-4217/h2o-py/demos/glrm_census_large.ipynb"
               data-name="PUBDEV-4217"
               data-skip-pjax="true"
               rel="nofollow">
              <svg class="octicon octicon-check select-menu-item-icon" viewBox="0 0 12 16" version="1.1" width="12" height="16" aria-hidden="true"><path fill-rule="evenodd" d="M12 5l-8 8-4-4 1.5-1.5L4 10l6.5-6.5L12 5z"/></svg>
              <span class="select-menu-item-text css-truncate-target js-select-menu-filter-text">
                PUBDEV-4217
              </span>
            </a>
            <a class="select-menu-item js-navigation-item js-navigation-open "
               href="/h2oai/h2o-3/blob/PUBDEV-4251_markc/h2o-py/demos/glrm_census_large.ipynb"
               data-name="PUBDEV-4251_markc"
               data-skip-pjax="true"
               rel="nofollow">
              <svg class="octicon octicon-check select-menu-item-icon" viewBox="0 0 12 16" version="1.1" width="12" height="16" aria-hidden="true"><path fill-rule="evenodd" d="M12 5l-8 8-4-4 1.5-1.5L4 10l6.5-6.5L12 5z"/></svg>
              <span class="select-menu-item-text css-truncate-target js-select-menu-filter-text">
                PUBDEV-4251_markc
              </span>
            </a>
            <a class="select-menu-item js-navigation-item js-navigation-open "
               href="/h2oai/h2o-3/blob/PUBDEV-4293_markc/h2o-py/demos/glrm_census_large.ipynb"
               data-name="PUBDEV-4293_markc"
               data-skip-pjax="true"
               rel="nofollow">
              <svg class="octicon octicon-check select-menu-item-icon" viewBox="0 0 12 16" version="1.1" width="12" height="16" aria-hidden="true"><path fill-rule="evenodd" d="M12 5l-8 8-4-4 1.5-1.5L4 10l6.5-6.5L12 5z"/></svg>
              <span class="select-menu-item-text css-truncate-target js-select-menu-filter-text">
                PUBDEV-4293_markc
              </span>
            </a>
            <a class="select-menu-item js-navigation-item js-navigation-open "
               href="/h2oai/h2o-3/blob/PUBDEV-4334/h2o-py/demos/glrm_census_large.ipynb"
               data-name="PUBDEV-4334"
               data-skip-pjax="true"
               rel="nofollow">
              <svg class="octicon octicon-check select-menu-item-icon" viewBox="0 0 12 16" version="1.1" width="12" height="16" aria-hidden="true"><path fill-rule="evenodd" d="M12 5l-8 8-4-4 1.5-1.5L4 10l6.5-6.5L12 5z"/></svg>
              <span class="select-menu-item-text css-truncate-target js-select-menu-filter-text">
                PUBDEV-4334
              </span>
            </a>
            <a class="select-menu-item js-navigation-item js-navigation-open "
               href="/h2oai/h2o-3/blob/PUBDEV-4346/h2o-py/demos/glrm_census_large.ipynb"
               data-name="PUBDEV-4346"
               data-skip-pjax="true"
               rel="nofollow">
              <svg class="octicon octicon-check select-menu-item-icon" viewBox="0 0 12 16" version="1.1" width="12" height="16" aria-hidden="true"><path fill-rule="evenodd" d="M12 5l-8 8-4-4 1.5-1.5L4 10l6.5-6.5L12 5z"/></svg>
              <span class="select-menu-item-text css-truncate-target js-select-menu-filter-text">
                PUBDEV-4346
              </span>
            </a>
            <a class="select-menu-item js-navigation-item js-navigation-open "
               href="/h2oai/h2o-3/blob/PUBDEV-4360/h2o-py/demos/glrm_census_large.ipynb"
               data-name="PUBDEV-4360"
               data-skip-pjax="true"
               rel="nofollow">
              <svg class="octicon octicon-check select-menu-item-icon" viewBox="0 0 12 16" version="1.1" width="12" height="16" aria-hidden="true"><path fill-rule="evenodd" d="M12 5l-8 8-4-4 1.5-1.5L4 10l6.5-6.5L12 5z"/></svg>
              <span class="select-menu-item-text css-truncate-target js-select-menu-filter-text">
                PUBDEV-4360
              </span>
            </a>
            <a class="select-menu-item js-navigation-item js-navigation-open "
               href="/h2oai/h2o-3/blob/PUBDEV-4361/h2o-py/demos/glrm_census_large.ipynb"
               data-name="PUBDEV-4361"
               data-skip-pjax="true"
               rel="nofollow">
              <svg class="octicon octicon-check select-menu-item-icon" viewBox="0 0 12 16" version="1.1" width="12" height="16" aria-hidden="true"><path fill-rule="evenodd" d="M12 5l-8 8-4-4 1.5-1.5L4 10l6.5-6.5L12 5z"/></svg>
              <span class="select-menu-item-text css-truncate-target js-select-menu-filter-text">
                PUBDEV-4361
              </span>
            </a>
            <a class="select-menu-item js-navigation-item js-navigation-open "
               href="/h2oai/h2o-3/blob/PUBDEV-4384/h2o-py/demos/glrm_census_large.ipynb"
               data-name="PUBDEV-4384"
               data-skip-pjax="true"
               rel="nofollow">
              <svg class="octicon octicon-check select-menu-item-icon" viewBox="0 0 12 16" version="1.1" width="12" height="16" aria-hidden="true"><path fill-rule="evenodd" d="M12 5l-8 8-4-4 1.5-1.5L4 10l6.5-6.5L12 5z"/></svg>
              <span class="select-menu-item-text css-truncate-target js-select-menu-filter-text">
                PUBDEV-4384
              </span>
            </a>
            <a class="select-menu-item js-navigation-item js-navigation-open "
               href="/h2oai/h2o-3/blob/PUBDEV-4387/h2o-py/demos/glrm_census_large.ipynb"
               data-name="PUBDEV-4387"
               data-skip-pjax="true"
               rel="nofollow">
              <svg class="octicon octicon-check select-menu-item-icon" viewBox="0 0 12 16" version="1.1" width="12" height="16" aria-hidden="true"><path fill-rule="evenodd" d="M12 5l-8 8-4-4 1.5-1.5L4 10l6.5-6.5L12 5z"/></svg>
              <span class="select-menu-item-text css-truncate-target js-select-menu-filter-text">
                PUBDEV-4387
              </span>
            </a>
            <a class="select-menu-item js-navigation-item js-navigation-open "
               href="/h2oai/h2o-3/blob/PUBDEV-4395/h2o-py/demos/glrm_census_large.ipynb"
               data-name="PUBDEV-4395"
               data-skip-pjax="true"
               rel="nofollow">
              <svg class="octicon octicon-check select-menu-item-icon" viewBox="0 0 12 16" version="1.1" width="12" height="16" aria-hidden="true"><path fill-rule="evenodd" d="M12 5l-8 8-4-4 1.5-1.5L4 10l6.5-6.5L12 5z"/></svg>
              <span class="select-menu-item-text css-truncate-target js-select-menu-filter-text">
                PUBDEV-4395
              </span>
            </a>
            <a class="select-menu-item js-navigation-item js-navigation-open "
               href="/h2oai/h2o-3/blob/PUBDEV-4397/h2o-py/demos/glrm_census_large.ipynb"
               data-name="PUBDEV-4397"
               data-skip-pjax="true"
               rel="nofollow">
              <svg class="octicon octicon-check select-menu-item-icon" viewBox="0 0 12 16" version="1.1" width="12" height="16" aria-hidden="true"><path fill-rule="evenodd" d="M12 5l-8 8-4-4 1.5-1.5L4 10l6.5-6.5L12 5z"/></svg>
              <span class="select-menu-item-text css-truncate-target js-select-menu-filter-text">
                PUBDEV-4397
              </span>
            </a>
            <a class="select-menu-item js-navigation-item js-navigation-open "
               href="/h2oai/h2o-3/blob/PUBDEV-4420/h2o-py/demos/glrm_census_large.ipynb"
               data-name="PUBDEV-4420"
               data-skip-pjax="true"
               rel="nofollow">
              <svg class="octicon octicon-check select-menu-item-icon" viewBox="0 0 12 16" version="1.1" width="12" height="16" aria-hidden="true"><path fill-rule="evenodd" d="M12 5l-8 8-4-4 1.5-1.5L4 10l6.5-6.5L12 5z"/></svg>
              <span class="select-menu-item-text css-truncate-target js-select-menu-filter-text">
                PUBDEV-4420
              </span>
            </a>
            <a class="select-menu-item js-navigation-item js-navigation-open "
               href="/h2oai/h2o-3/blob/PUBDEV-4444/h2o-py/demos/glrm_census_large.ipynb"
               data-name="PUBDEV-4444"
               data-skip-pjax="true"
               rel="nofollow">
              <svg class="octicon octicon-check select-menu-item-icon" viewBox="0 0 12 16" version="1.1" width="12" height="16" aria-hidden="true"><path fill-rule="evenodd" d="M12 5l-8 8-4-4 1.5-1.5L4 10l6.5-6.5L12 5z"/></svg>
              <span class="select-menu-item-text css-truncate-target js-select-menu-filter-text">
                PUBDEV-4444
              </span>
            </a>
            <a class="select-menu-item js-navigation-item js-navigation-open "
               href="/h2oai/h2o-3/blob/PUBDEV-4445/h2o-py/demos/glrm_census_large.ipynb"
               data-name="PUBDEV-4445"
               data-skip-pjax="true"
               rel="nofollow">
              <svg class="octicon octicon-check select-menu-item-icon" viewBox="0 0 12 16" version="1.1" width="12" height="16" aria-hidden="true"><path fill-rule="evenodd" d="M12 5l-8 8-4-4 1.5-1.5L4 10l6.5-6.5L12 5z"/></svg>
              <span class="select-menu-item-text css-truncate-target js-select-menu-filter-text">
                PUBDEV-4445
              </span>
            </a>
            <a class="select-menu-item js-navigation-item js-navigation-open "
               href="/h2oai/h2o-3/blob/PUBDEV-4448/h2o-py/demos/glrm_census_large.ipynb"
               data-name="PUBDEV-4448"
               data-skip-pjax="true"
               rel="nofollow">
              <svg class="octicon octicon-check select-menu-item-icon" viewBox="0 0 12 16" version="1.1" width="12" height="16" aria-hidden="true"><path fill-rule="evenodd" d="M12 5l-8 8-4-4 1.5-1.5L4 10l6.5-6.5L12 5z"/></svg>
              <span class="select-menu-item-text css-truncate-target js-select-menu-filter-text">
                PUBDEV-4448
              </span>
            </a>
            <a class="select-menu-item js-navigation-item js-navigation-open "
               href="/h2oai/h2o-3/blob/PUBDEV-4453/h2o-py/demos/glrm_census_large.ipynb"
               data-name="PUBDEV-4453"
               data-skip-pjax="true"
               rel="nofollow">
              <svg class="octicon octicon-check select-menu-item-icon" viewBox="0 0 12 16" version="1.1" width="12" height="16" aria-hidden="true"><path fill-rule="evenodd" d="M12 5l-8 8-4-4 1.5-1.5L4 10l6.5-6.5L12 5z"/></svg>
              <span class="select-menu-item-text css-truncate-target js-select-menu-filter-text">
                PUBDEV-4453
              </span>
            </a>
            <a class="select-menu-item js-navigation-item js-navigation-open "
               href="/h2oai/h2o-3/blob/PUBDEV-4458_debug0/h2o-py/demos/glrm_census_large.ipynb"
               data-name="PUBDEV-4458_debug0"
               data-skip-pjax="true"
               rel="nofollow">
              <svg class="octicon octicon-check select-menu-item-icon" viewBox="0 0 12 16" version="1.1" width="12" height="16" aria-hidden="true"><path fill-rule="evenodd" d="M12 5l-8 8-4-4 1.5-1.5L4 10l6.5-6.5L12 5z"/></svg>
              <span class="select-menu-item-text css-truncate-target js-select-menu-filter-text">
                PUBDEV-4458_debug0
              </span>
            </a>
            <a class="select-menu-item js-navigation-item js-navigation-open "
               href="/h2oai/h2o-3/blob/PUBDEV-4458/h2o-py/demos/glrm_census_large.ipynb"
               data-name="PUBDEV-4458"
               data-skip-pjax="true"
               rel="nofollow">
              <svg class="octicon octicon-check select-menu-item-icon" viewBox="0 0 12 16" version="1.1" width="12" height="16" aria-hidden="true"><path fill-rule="evenodd" d="M12 5l-8 8-4-4 1.5-1.5L4 10l6.5-6.5L12 5z"/></svg>
              <span class="select-menu-item-text css-truncate-target js-select-menu-filter-text">
                PUBDEV-4458
              </span>
            </a>
            <a class="select-menu-item js-navigation-item js-navigation-open "
               href="/h2oai/h2o-3/blob/PUBDEV-4468/h2o-py/demos/glrm_census_large.ipynb"
               data-name="PUBDEV-4468"
               data-skip-pjax="true"
               rel="nofollow">
              <svg class="octicon octicon-check select-menu-item-icon" viewBox="0 0 12 16" version="1.1" width="12" height="16" aria-hidden="true"><path fill-rule="evenodd" d="M12 5l-8 8-4-4 1.5-1.5L4 10l6.5-6.5L12 5z"/></svg>
              <span class="select-menu-item-text css-truncate-target js-select-menu-filter-text">
                PUBDEV-4468
              </span>
            </a>
            <a class="select-menu-item js-navigation-item js-navigation-open "
               href="/h2oai/h2o-3/blob/PUBDEV-4476/h2o-py/demos/glrm_census_large.ipynb"
               data-name="PUBDEV-4476"
               data-skip-pjax="true"
               rel="nofollow">
              <svg class="octicon octicon-check select-menu-item-icon" viewBox="0 0 12 16" version="1.1" width="12" height="16" aria-hidden="true"><path fill-rule="evenodd" d="M12 5l-8 8-4-4 1.5-1.5L4 10l6.5-6.5L12 5z"/></svg>
              <span class="select-menu-item-text css-truncate-target js-select-menu-filter-text">
                PUBDEV-4476
              </span>
            </a>
            <a class="select-menu-item js-navigation-item js-navigation-open "
               href="/h2oai/h2o-3/blob/PUBDEV-4510/h2o-py/demos/glrm_census_large.ipynb"
               data-name="PUBDEV-4510"
               data-skip-pjax="true"
               rel="nofollow">
              <svg class="octicon octicon-check select-menu-item-icon" viewBox="0 0 12 16" version="1.1" width="12" height="16" aria-hidden="true"><path fill-rule="evenodd" d="M12 5l-8 8-4-4 1.5-1.5L4 10l6.5-6.5L12 5z"/></svg>
              <span class="select-menu-item-text css-truncate-target js-select-menu-filter-text">
                PUBDEV-4510
              </span>
            </a>
            <a class="select-menu-item js-navigation-item js-navigation-open "
               href="/h2oai/h2o-3/blob/PUBDEV-4514/h2o-py/demos/glrm_census_large.ipynb"
               data-name="PUBDEV-4514"
               data-skip-pjax="true"
               rel="nofollow">
              <svg class="octicon octicon-check select-menu-item-icon" viewBox="0 0 12 16" version="1.1" width="12" height="16" aria-hidden="true"><path fill-rule="evenodd" d="M12 5l-8 8-4-4 1.5-1.5L4 10l6.5-6.5L12 5z"/></svg>
              <span class="select-menu-item-text css-truncate-target js-select-menu-filter-text">
                PUBDEV-4514
              </span>
            </a>
            <a class="select-menu-item js-navigation-item js-navigation-open "
               href="/h2oai/h2o-3/blob/PUBDEV-4523/h2o-py/demos/glrm_census_large.ipynb"
               data-name="PUBDEV-4523"
               data-skip-pjax="true"
               rel="nofollow">
              <svg class="octicon octicon-check select-menu-item-icon" viewBox="0 0 12 16" version="1.1" width="12" height="16" aria-hidden="true"><path fill-rule="evenodd" d="M12 5l-8 8-4-4 1.5-1.5L4 10l6.5-6.5L12 5z"/></svg>
              <span class="select-menu-item-text css-truncate-target js-select-menu-filter-text">
                PUBDEV-4523
              </span>
            </a>
            <a class="select-menu-item js-navigation-item js-navigation-open "
               href="/h2oai/h2o-3/blob/PUBDEV-4524/h2o-py/demos/glrm_census_large.ipynb"
               data-name="PUBDEV-4524"
               data-skip-pjax="true"
               rel="nofollow">
              <svg class="octicon octicon-check select-menu-item-icon" viewBox="0 0 12 16" version="1.1" width="12" height="16" aria-hidden="true"><path fill-rule="evenodd" d="M12 5l-8 8-4-4 1.5-1.5L4 10l6.5-6.5L12 5z"/></svg>
              <span class="select-menu-item-text css-truncate-target js-select-menu-filter-text">
                PUBDEV-4524
              </span>
            </a>
            <a class="select-menu-item js-navigation-item js-navigation-open "
               href="/h2oai/h2o-3/blob/PUBDEV-4533/h2o-py/demos/glrm_census_large.ipynb"
               data-name="PUBDEV-4533"
               data-skip-pjax="true"
               rel="nofollow">
              <svg class="octicon octicon-check select-menu-item-icon" viewBox="0 0 12 16" version="1.1" width="12" height="16" aria-hidden="true"><path fill-rule="evenodd" d="M12 5l-8 8-4-4 1.5-1.5L4 10l6.5-6.5L12 5z"/></svg>
              <span class="select-menu-item-text css-truncate-target js-select-menu-filter-text">
                PUBDEV-4533
              </span>
            </a>
            <a class="select-menu-item js-navigation-item js-navigation-open "
               href="/h2oai/h2o-3/blob/PUBDEV-4535/h2o-py/demos/glrm_census_large.ipynb"
               data-name="PUBDEV-4535"
               data-skip-pjax="true"
               rel="nofollow">
              <svg class="octicon octicon-check select-menu-item-icon" viewBox="0 0 12 16" version="1.1" width="12" height="16" aria-hidden="true"><path fill-rule="evenodd" d="M12 5l-8 8-4-4 1.5-1.5L4 10l6.5-6.5L12 5z"/></svg>
              <span class="select-menu-item-text css-truncate-target js-select-menu-filter-text">
                PUBDEV-4535
              </span>
            </a>
            <a class="select-menu-item js-navigation-item js-navigation-open "
               href="/h2oai/h2o-3/blob/PUBDEV-4549/h2o-py/demos/glrm_census_large.ipynb"
               data-name="PUBDEV-4549"
               data-skip-pjax="true"
               rel="nofollow">
              <svg class="octicon octicon-check select-menu-item-icon" viewBox="0 0 12 16" version="1.1" width="12" height="16" aria-hidden="true"><path fill-rule="evenodd" d="M12 5l-8 8-4-4 1.5-1.5L4 10l6.5-6.5L12 5z"/></svg>
              <span class="select-menu-item-text css-truncate-target js-select-menu-filter-text">
                PUBDEV-4549
              </span>
            </a>
            <a class="select-menu-item js-navigation-item js-navigation-open "
               href="/h2oai/h2o-3/blob/PUBDEV-4552/h2o-py/demos/glrm_census_large.ipynb"
               data-name="PUBDEV-4552"
               data-skip-pjax="true"
               rel="nofollow">
              <svg class="octicon octicon-check select-menu-item-icon" viewBox="0 0 12 16" version="1.1" width="12" height="16" aria-hidden="true"><path fill-rule="evenodd" d="M12 5l-8 8-4-4 1.5-1.5L4 10l6.5-6.5L12 5z"/></svg>
              <span class="select-menu-item-text css-truncate-target js-select-menu-filter-text">
                PUBDEV-4552
              </span>
            </a>
            <a class="select-menu-item js-navigation-item js-navigation-open "
               href="/h2oai/h2o-3/blob/PUBDEV-4565/h2o-py/demos/glrm_census_large.ipynb"
               data-name="PUBDEV-4565"
               data-skip-pjax="true"
               rel="nofollow">
              <svg class="octicon octicon-check select-menu-item-icon" viewBox="0 0 12 16" version="1.1" width="12" height="16" aria-hidden="true"><path fill-rule="evenodd" d="M12 5l-8 8-4-4 1.5-1.5L4 10l6.5-6.5L12 5z"/></svg>
              <span class="select-menu-item-text css-truncate-target js-select-menu-filter-text">
                PUBDEV-4565
              </span>
            </a>
            <a class="select-menu-item js-navigation-item js-navigation-open "
               href="/h2oai/h2o-3/blob/PUBDEV-4575-rel-vajda/h2o-py/demos/glrm_census_large.ipynb"
               data-name="PUBDEV-4575-rel-vajda"
               data-skip-pjax="true"
               rel="nofollow">
              <svg class="octicon octicon-check select-menu-item-icon" viewBox="0 0 12 16" version="1.1" width="12" height="16" aria-hidden="true"><path fill-rule="evenodd" d="M12 5l-8 8-4-4 1.5-1.5L4 10l6.5-6.5L12 5z"/></svg>
              <span class="select-menu-item-text css-truncate-target js-select-menu-filter-text">
                PUBDEV-4575-rel-vajda
              </span>
            </a>
            <a class="select-menu-item js-navigation-item js-navigation-open "
               href="/h2oai/h2o-3/blob/PUBDEV-4578_master/h2o-py/demos/glrm_census_large.ipynb"
               data-name="PUBDEV-4578_master"
               data-skip-pjax="true"
               rel="nofollow">
              <svg class="octicon octicon-check select-menu-item-icon" viewBox="0 0 12 16" version="1.1" width="12" height="16" aria-hidden="true"><path fill-rule="evenodd" d="M12 5l-8 8-4-4 1.5-1.5L4 10l6.5-6.5L12 5z"/></svg>
              <span class="select-menu-item-text css-truncate-target js-select-menu-filter-text">
                PUBDEV-4578_master
              </span>
            </a>
            <a class="select-menu-item js-navigation-item js-navigation-open "
               href="/h2oai/h2o-3/blob/PUBDEV-4579-rel-vadja/h2o-py/demos/glrm_census_large.ipynb"
               data-name="PUBDEV-4579-rel-vadja"
               data-skip-pjax="true"
               rel="nofollow">
              <svg class="octicon octicon-check select-menu-item-icon" viewBox="0 0 12 16" version="1.1" width="12" height="16" aria-hidden="true"><path fill-rule="evenodd" d="M12 5l-8 8-4-4 1.5-1.5L4 10l6.5-6.5L12 5z"/></svg>
              <span class="select-menu-item-text css-truncate-target js-select-menu-filter-text">
                PUBDEV-4579-rel-vadja
              </span>
            </a>
            <a class="select-menu-item js-navigation-item js-navigation-open "
               href="/h2oai/h2o-3/blob/PUBDEV-4585/h2o-py/demos/glrm_census_large.ipynb"
               data-name="PUBDEV-4585"
               data-skip-pjax="true"
               rel="nofollow">
              <svg class="octicon octicon-check select-menu-item-icon" viewBox="0 0 12 16" version="1.1" width="12" height="16" aria-hidden="true"><path fill-rule="evenodd" d="M12 5l-8 8-4-4 1.5-1.5L4 10l6.5-6.5L12 5z"/></svg>
              <span class="select-menu-item-text css-truncate-target js-select-menu-filter-text">
                PUBDEV-4585
              </span>
            </a>
            <a class="select-menu-item js-navigation-item js-navigation-open "
               href="/h2oai/h2o-3/blob/PUBDEV-4598/h2o-py/demos/glrm_census_large.ipynb"
               data-name="PUBDEV-4598"
               data-skip-pjax="true"
               rel="nofollow">
              <svg class="octicon octicon-check select-menu-item-icon" viewBox="0 0 12 16" version="1.1" width="12" height="16" aria-hidden="true"><path fill-rule="evenodd" d="M12 5l-8 8-4-4 1.5-1.5L4 10l6.5-6.5L12 5z"/></svg>
              <span class="select-menu-item-text css-truncate-target js-select-menu-filter-text">
                PUBDEV-4598
              </span>
            </a>
            <a class="select-menu-item js-navigation-item js-navigation-open "
               href="/h2oai/h2o-3/blob/PUBDEV-4599-rel-vajda/h2o-py/demos/glrm_census_large.ipynb"
               data-name="PUBDEV-4599-rel-vajda"
               data-skip-pjax="true"
               rel="nofollow">
              <svg class="octicon octicon-check select-menu-item-icon" viewBox="0 0 12 16" version="1.1" width="12" height="16" aria-hidden="true"><path fill-rule="evenodd" d="M12 5l-8 8-4-4 1.5-1.5L4 10l6.5-6.5L12 5z"/></svg>
              <span class="select-menu-item-text css-truncate-target js-select-menu-filter-text">
                PUBDEV-4599-rel-vajda
              </span>
            </a>
            <a class="select-menu-item js-navigation-item js-navigation-open "
               href="/h2oai/h2o-3/blob/PUBDEV-4620-check-h2oasmatrix/h2o-py/demos/glrm_census_large.ipynb"
               data-name="PUBDEV-4620-check-h2oasmatrix"
               data-skip-pjax="true"
               rel="nofollow">
              <svg class="octicon octicon-check select-menu-item-icon" viewBox="0 0 12 16" version="1.1" width="12" height="16" aria-hidden="true"><path fill-rule="evenodd" d="M12 5l-8 8-4-4 1.5-1.5L4 10l6.5-6.5L12 5z"/></svg>
              <span class="select-menu-item-text css-truncate-target js-select-menu-filter-text">
                PUBDEV-4620-check-h2oasmatrix
              </span>
            </a>
            <a class="select-menu-item js-navigation-item js-navigation-open "
               href="/h2oai/h2o-3/blob/PUBDEV-4631/h2o-py/demos/glrm_census_large.ipynb"
               data-name="PUBDEV-4631"
               data-skip-pjax="true"
               rel="nofollow">
              <svg class="octicon octicon-check select-menu-item-icon" viewBox="0 0 12 16" version="1.1" width="12" height="16" aria-hidden="true"><path fill-rule="evenodd" d="M12 5l-8 8-4-4 1.5-1.5L4 10l6.5-6.5L12 5z"/></svg>
              <span class="select-menu-item-text css-truncate-target js-select-menu-filter-text">
                PUBDEV-4631
              </span>
            </a>
            <a class="select-menu-item js-navigation-item js-navigation-open "
               href="/h2oai/h2o-3/blob/PUBDEV-4639-use-data-table-2/h2o-py/demos/glrm_census_large.ipynb"
               data-name="PUBDEV-4639-use-data-table-2"
               data-skip-pjax="true"
               rel="nofollow">
              <svg class="octicon octicon-check select-menu-item-icon" viewBox="0 0 12 16" version="1.1" width="12" height="16" aria-hidden="true"><path fill-rule="evenodd" d="M12 5l-8 8-4-4 1.5-1.5L4 10l6.5-6.5L12 5z"/></svg>
              <span class="select-menu-item-text css-truncate-target js-select-menu-filter-text">
                PUBDEV-4639-use-data-table-2
              </span>
            </a>
            <a class="select-menu-item js-navigation-item js-navigation-open "
               href="/h2oai/h2o-3/blob/PUBDEV-4642/h2o-py/demos/glrm_census_large.ipynb"
               data-name="PUBDEV-4642"
               data-skip-pjax="true"
               rel="nofollow">
              <svg class="octicon octicon-check select-menu-item-icon" viewBox="0 0 12 16" version="1.1" width="12" height="16" aria-hidden="true"><path fill-rule="evenodd" d="M12 5l-8 8-4-4 1.5-1.5L4 10l6.5-6.5L12 5z"/></svg>
              <span class="select-menu-item-text css-truncate-target js-select-menu-filter-text">
                PUBDEV-4642
              </span>
            </a>
            <a class="select-menu-item js-navigation-item js-navigation-open "
               href="/h2oai/h2o-3/blob/PUBDEV-4643/h2o-py/demos/glrm_census_large.ipynb"
               data-name="PUBDEV-4643"
               data-skip-pjax="true"
               rel="nofollow">
              <svg class="octicon octicon-check select-menu-item-icon" viewBox="0 0 12 16" version="1.1" width="12" height="16" aria-hidden="true"><path fill-rule="evenodd" d="M12 5l-8 8-4-4 1.5-1.5L4 10l6.5-6.5L12 5z"/></svg>
              <span class="select-menu-item-text css-truncate-target js-select-menu-filter-text">
                PUBDEV-4643
              </span>
            </a>
            <a class="select-menu-item js-navigation-item js-navigation-open "
               href="/h2oai/h2o-3/blob/PUBDEV-4656/h2o-py/demos/glrm_census_large.ipynb"
               data-name="PUBDEV-4656"
               data-skip-pjax="true"
               rel="nofollow">
              <svg class="octicon octicon-check select-menu-item-icon" viewBox="0 0 12 16" version="1.1" width="12" height="16" aria-hidden="true"><path fill-rule="evenodd" d="M12 5l-8 8-4-4 1.5-1.5L4 10l6.5-6.5L12 5z"/></svg>
              <span class="select-menu-item-text css-truncate-target js-select-menu-filter-text">
                PUBDEV-4656
              </span>
            </a>
            <a class="select-menu-item js-navigation-item js-navigation-open "
               href="/h2oai/h2o-3/blob/PUBDEV-4665-relvajda/h2o-py/demos/glrm_census_large.ipynb"
               data-name="PUBDEV-4665-relvajda"
               data-skip-pjax="true"
               rel="nofollow">
              <svg class="octicon octicon-check select-menu-item-icon" viewBox="0 0 12 16" version="1.1" width="12" height="16" aria-hidden="true"><path fill-rule="evenodd" d="M12 5l-8 8-4-4 1.5-1.5L4 10l6.5-6.5L12 5z"/></svg>
              <span class="select-menu-item-text css-truncate-target js-select-menu-filter-text">
                PUBDEV-4665-relvajda
              </span>
            </a>
            <a class="select-menu-item js-navigation-item js-navigation-open "
               href="/h2oai/h2o-3/blob/PUBDEV-4690/h2o-py/demos/glrm_census_large.ipynb"
               data-name="PUBDEV-4690"
               data-skip-pjax="true"
               rel="nofollow">
              <svg class="octicon octicon-check select-menu-item-icon" viewBox="0 0 12 16" version="1.1" width="12" height="16" aria-hidden="true"><path fill-rule="evenodd" d="M12 5l-8 8-4-4 1.5-1.5L4 10l6.5-6.5L12 5z"/></svg>
              <span class="select-menu-item-text css-truncate-target js-select-menu-filter-text">
                PUBDEV-4690
              </span>
            </a>
            <a class="select-menu-item js-navigation-item js-navigation-open "
               href="/h2oai/h2o-3/blob/PUBDEV-4705/h2o-py/demos/glrm_census_large.ipynb"
               data-name="PUBDEV-4705"
               data-skip-pjax="true"
               rel="nofollow">
              <svg class="octicon octicon-check select-menu-item-icon" viewBox="0 0 12 16" version="1.1" width="12" height="16" aria-hidden="true"><path fill-rule="evenodd" d="M12 5l-8 8-4-4 1.5-1.5L4 10l6.5-6.5L12 5z"/></svg>
              <span class="select-menu-item-text css-truncate-target js-select-menu-filter-text">
                PUBDEV-4705
              </span>
            </a>
            <a class="select-menu-item js-navigation-item js-navigation-open "
               href="/h2oai/h2o-3/blob/PUBDEV-4729-sw22-release/h2o-py/demos/glrm_census_large.ipynb"
               data-name="PUBDEV-4729-sw22-release"
               data-skip-pjax="true"
               rel="nofollow">
              <svg class="octicon octicon-check select-menu-item-icon" viewBox="0 0 12 16" version="1.1" width="12" height="16" aria-hidden="true"><path fill-rule="evenodd" d="M12 5l-8 8-4-4 1.5-1.5L4 10l6.5-6.5L12 5z"/></svg>
              <span class="select-menu-item-text css-truncate-target js-select-menu-filter-text">
                PUBDEV-4729-sw22-release
              </span>
            </a>
            <a class="select-menu-item js-navigation-item js-navigation-open "
               href="/h2oai/h2o-3/blob/PUBDEV-4729/h2o-py/demos/glrm_census_large.ipynb"
               data-name="PUBDEV-4729"
               data-skip-pjax="true"
               rel="nofollow">
              <svg class="octicon octicon-check select-menu-item-icon" viewBox="0 0 12 16" version="1.1" width="12" height="16" aria-hidden="true"><path fill-rule="evenodd" d="M12 5l-8 8-4-4 1.5-1.5L4 10l6.5-6.5L12 5z"/></svg>
              <span class="select-menu-item-text css-truncate-target js-select-menu-filter-text">
                PUBDEV-4729
              </span>
            </a>
            <a class="select-menu-item js-navigation-item js-navigation-open "
               href="/h2oai/h2o-3/blob/PUBDEV-4731/h2o-py/demos/glrm_census_large.ipynb"
               data-name="PUBDEV-4731"
               data-skip-pjax="true"
               rel="nofollow">
              <svg class="octicon octicon-check select-menu-item-icon" viewBox="0 0 12 16" version="1.1" width="12" height="16" aria-hidden="true"><path fill-rule="evenodd" d="M12 5l-8 8-4-4 1.5-1.5L4 10l6.5-6.5L12 5z"/></svg>
              <span class="select-menu-item-text css-truncate-target js-select-menu-filter-text">
                PUBDEV-4731
              </span>
            </a>
            <a class="select-menu-item js-navigation-item js-navigation-open "
               href="/h2oai/h2o-3/blob/PUBDEV-4761/h2o-py/demos/glrm_census_large.ipynb"
               data-name="PUBDEV-4761"
               data-skip-pjax="true"
               rel="nofollow">
              <svg class="octicon octicon-check select-menu-item-icon" viewBox="0 0 12 16" version="1.1" width="12" height="16" aria-hidden="true"><path fill-rule="evenodd" d="M12 5l-8 8-4-4 1.5-1.5L4 10l6.5-6.5L12 5z"/></svg>
              <span class="select-menu-item-text css-truncate-target js-select-menu-filter-text">
                PUBDEV-4761
              </span>
            </a>
            <a class="select-menu-item js-navigation-item js-navigation-open "
               href="/h2oai/h2o-3/blob/PUBDEV-4768/h2o-py/demos/glrm_census_large.ipynb"
               data-name="PUBDEV-4768"
               data-skip-pjax="true"
               rel="nofollow">
              <svg class="octicon octicon-check select-menu-item-icon" viewBox="0 0 12 16" version="1.1" width="12" height="16" aria-hidden="true"><path fill-rule="evenodd" d="M12 5l-8 8-4-4 1.5-1.5L4 10l6.5-6.5L12 5z"/></svg>
              <span class="select-menu-item-text css-truncate-target js-select-menu-filter-text">
                PUBDEV-4768
              </span>
            </a>
            <a class="select-menu-item js-navigation-item js-navigation-open "
               href="/h2oai/h2o-3/blob/PUBDEV-4772/h2o-py/demos/glrm_census_large.ipynb"
               data-name="PUBDEV-4772"
               data-skip-pjax="true"
               rel="nofollow">
              <svg class="octicon octicon-check select-menu-item-icon" viewBox="0 0 12 16" version="1.1" width="12" height="16" aria-hidden="true"><path fill-rule="evenodd" d="M12 5l-8 8-4-4 1.5-1.5L4 10l6.5-6.5L12 5z"/></svg>
              <span class="select-menu-item-text css-truncate-target js-select-menu-filter-text">
                PUBDEV-4772
              </span>
            </a>
            <a class="select-menu-item js-navigation-item js-navigation-open "
               href="/h2oai/h2o-3/blob/PUBDEV-4797/h2o-py/demos/glrm_census_large.ipynb"
               data-name="PUBDEV-4797"
               data-skip-pjax="true"
               rel="nofollow">
              <svg class="octicon octicon-check select-menu-item-icon" viewBox="0 0 12 16" version="1.1" width="12" height="16" aria-hidden="true"><path fill-rule="evenodd" d="M12 5l-8 8-4-4 1.5-1.5L4 10l6.5-6.5L12 5z"/></svg>
              <span class="select-menu-item-text css-truncate-target js-select-menu-filter-text">
                PUBDEV-4797
              </span>
            </a>
            <a class="select-menu-item js-navigation-item js-navigation-open "
               href="/h2oai/h2o-3/blob/PUBDEV-4799/h2o-py/demos/glrm_census_large.ipynb"
               data-name="PUBDEV-4799"
               data-skip-pjax="true"
               rel="nofollow">
              <svg class="octicon octicon-check select-menu-item-icon" viewBox="0 0 12 16" version="1.1" width="12" height="16" aria-hidden="true"><path fill-rule="evenodd" d="M12 5l-8 8-4-4 1.5-1.5L4 10l6.5-6.5L12 5z"/></svg>
              <span class="select-menu-item-text css-truncate-target js-select-menu-filter-text">
                PUBDEV-4799
              </span>
            </a>
            <a class="select-menu-item js-navigation-item js-navigation-open "
               href="/h2oai/h2o-3/blob/PUBDEV-4818-unittest/h2o-py/demos/glrm_census_large.ipynb"
               data-name="PUBDEV-4818-unittest"
               data-skip-pjax="true"
               rel="nofollow">
              <svg class="octicon octicon-check select-menu-item-icon" viewBox="0 0 12 16" version="1.1" width="12" height="16" aria-hidden="true"><path fill-rule="evenodd" d="M12 5l-8 8-4-4 1.5-1.5L4 10l6.5-6.5L12 5z"/></svg>
              <span class="select-menu-item-text css-truncate-target js-select-menu-filter-text">
                PUBDEV-4818-unittest
              </span>
            </a>
            <a class="select-menu-item js-navigation-item js-navigation-open "
               href="/h2oai/h2o-3/blob/PUBDEV-4820/h2o-py/demos/glrm_census_large.ipynb"
               data-name="PUBDEV-4820"
               data-skip-pjax="true"
               rel="nofollow">
              <svg class="octicon octicon-check select-menu-item-icon" viewBox="0 0 12 16" version="1.1" width="12" height="16" aria-hidden="true"><path fill-rule="evenodd" d="M12 5l-8 8-4-4 1.5-1.5L4 10l6.5-6.5L12 5z"/></svg>
              <span class="select-menu-item-text css-truncate-target js-select-menu-filter-text">
                PUBDEV-4820
              </span>
            </a>
            <a class="select-menu-item js-navigation-item js-navigation-open "
               href="/h2oai/h2o-3/blob/PUBDEV-4839/h2o-py/demos/glrm_census_large.ipynb"
               data-name="PUBDEV-4839"
               data-skip-pjax="true"
               rel="nofollow">
              <svg class="octicon octicon-check select-menu-item-icon" viewBox="0 0 12 16" version="1.1" width="12" height="16" aria-hidden="true"><path fill-rule="evenodd" d="M12 5l-8 8-4-4 1.5-1.5L4 10l6.5-6.5L12 5z"/></svg>
              <span class="select-menu-item-text css-truncate-target js-select-menu-filter-text">
                PUBDEV-4839
              </span>
            </a>
            <a class="select-menu-item js-navigation-item js-navigation-open "
               href="/h2oai/h2o-3/blob/PUBDEV-4841/h2o-py/demos/glrm_census_large.ipynb"
               data-name="PUBDEV-4841"
               data-skip-pjax="true"
               rel="nofollow">
              <svg class="octicon octicon-check select-menu-item-icon" viewBox="0 0 12 16" version="1.1" width="12" height="16" aria-hidden="true"><path fill-rule="evenodd" d="M12 5l-8 8-4-4 1.5-1.5L4 10l6.5-6.5L12 5z"/></svg>
              <span class="select-menu-item-text css-truncate-target js-select-menu-filter-text">
                PUBDEV-4841
              </span>
            </a>
            <a class="select-menu-item js-navigation-item js-navigation-open "
               href="/h2oai/h2o-3/blob/PUBDEV-4886/h2o-py/demos/glrm_census_large.ipynb"
               data-name="PUBDEV-4886"
               data-skip-pjax="true"
               rel="nofollow">
              <svg class="octicon octicon-check select-menu-item-icon" viewBox="0 0 12 16" version="1.1" width="12" height="16" aria-hidden="true"><path fill-rule="evenodd" d="M12 5l-8 8-4-4 1.5-1.5L4 10l6.5-6.5L12 5z"/></svg>
              <span class="select-menu-item-text css-truncate-target js-select-menu-filter-text">
                PUBDEV-4886
              </span>
            </a>
            <a class="select-menu-item js-navigation-item js-navigation-open "
               href="/h2oai/h2o-3/blob/PUBDEV-4896_cleanup_leakedkey/h2o-py/demos/glrm_census_large.ipynb"
               data-name="PUBDEV-4896_cleanup_leakedkey"
               data-skip-pjax="true"
               rel="nofollow">
              <svg class="octicon octicon-check select-menu-item-icon" viewBox="0 0 12 16" version="1.1" width="12" height="16" aria-hidden="true"><path fill-rule="evenodd" d="M12 5l-8 8-4-4 1.5-1.5L4 10l6.5-6.5L12 5z"/></svg>
              <span class="select-menu-item-text css-truncate-target js-select-menu-filter-text">
                PUBDEV-4896_cleanup_leakedkey
              </span>
            </a>
            <a class="select-menu-item js-navigation-item js-navigation-open "
               href="/h2oai/h2o-3/blob/PUBDEV-4896_cleanup_levelone_key/h2o-py/demos/glrm_census_large.ipynb"
               data-name="PUBDEV-4896_cleanup_levelone_key"
               data-skip-pjax="true"
               rel="nofollow">
              <svg class="octicon octicon-check select-menu-item-icon" viewBox="0 0 12 16" version="1.1" width="12" height="16" aria-hidden="true"><path fill-rule="evenodd" d="M12 5l-8 8-4-4 1.5-1.5L4 10l6.5-6.5L12 5z"/></svg>
              <span class="select-menu-item-text css-truncate-target js-select-menu-filter-text">
                PUBDEV-4896_cleanup_levelone_key
              </span>
            </a>
            <a class="select-menu-item js-navigation-item js-navigation-open "
               href="/h2oai/h2o-3/blob/PUBDEV-4896/h2o-py/demos/glrm_census_large.ipynb"
               data-name="PUBDEV-4896"
               data-skip-pjax="true"
               rel="nofollow">
              <svg class="octicon octicon-check select-menu-item-icon" viewBox="0 0 12 16" version="1.1" width="12" height="16" aria-hidden="true"><path fill-rule="evenodd" d="M12 5l-8 8-4-4 1.5-1.5L4 10l6.5-6.5L12 5z"/></svg>
              <span class="select-menu-item-text css-truncate-target js-select-menu-filter-text">
                PUBDEV-4896
              </span>
            </a>
            <a class="select-menu-item js-navigation-item js-navigation-open "
               href="/h2oai/h2o-3/blob/PUBDEV-4911/h2o-py/demos/glrm_census_large.ipynb"
               data-name="PUBDEV-4911"
               data-skip-pjax="true"
               rel="nofollow">
              <svg class="octicon octicon-check select-menu-item-icon" viewBox="0 0 12 16" version="1.1" width="12" height="16" aria-hidden="true"><path fill-rule="evenodd" d="M12 5l-8 8-4-4 1.5-1.5L4 10l6.5-6.5L12 5z"/></svg>
              <span class="select-menu-item-text css-truncate-target js-select-menu-filter-text">
                PUBDEV-4911
              </span>
            </a>
            <a class="select-menu-item js-navigation-item js-navigation-open "
               href="/h2oai/h2o-3/blob/PUBDEV-4918/h2o-py/demos/glrm_census_large.ipynb"
               data-name="PUBDEV-4918"
               data-skip-pjax="true"
               rel="nofollow">
              <svg class="octicon octicon-check select-menu-item-icon" viewBox="0 0 12 16" version="1.1" width="12" height="16" aria-hidden="true"><path fill-rule="evenodd" d="M12 5l-8 8-4-4 1.5-1.5L4 10l6.5-6.5L12 5z"/></svg>
              <span class="select-menu-item-text css-truncate-target js-select-menu-filter-text">
                PUBDEV-4918
              </span>
            </a>
            <a class="select-menu-item js-navigation-item js-navigation-open "
               href="/h2oai/h2o-3/blob/PUBDEV-4957/h2o-py/demos/glrm_census_large.ipynb"
               data-name="PUBDEV-4957"
               data-skip-pjax="true"
               rel="nofollow">
              <svg class="octicon octicon-check select-menu-item-icon" viewBox="0 0 12 16" version="1.1" width="12" height="16" aria-hidden="true"><path fill-rule="evenodd" d="M12 5l-8 8-4-4 1.5-1.5L4 10l6.5-6.5L12 5z"/></svg>
              <span class="select-menu-item-text css-truncate-target js-select-menu-filter-text">
                PUBDEV-4957
              </span>
            </a>
            <a class="select-menu-item js-navigation-item js-navigation-open "
               href="/h2oai/h2o-3/blob/PUBDEV-4978/h2o-py/demos/glrm_census_large.ipynb"
               data-name="PUBDEV-4978"
               data-skip-pjax="true"
               rel="nofollow">
              <svg class="octicon octicon-check select-menu-item-icon" viewBox="0 0 12 16" version="1.1" width="12" height="16" aria-hidden="true"><path fill-rule="evenodd" d="M12 5l-8 8-4-4 1.5-1.5L4 10l6.5-6.5L12 5z"/></svg>
              <span class="select-menu-item-text css-truncate-target js-select-menu-filter-text">
                PUBDEV-4978
              </span>
            </a>
            <a class="select-menu-item js-navigation-item js-navigation-open "
               href="/h2oai/h2o-3/blob/PUBDEV-4980+PUBDEV-5155+PUBDEV-5156/h2o-py/demos/glrm_census_large.ipynb"
               data-name="PUBDEV-4980+PUBDEV-5155+PUBDEV-5156"
               data-skip-pjax="true"
               rel="nofollow">
              <svg class="octicon octicon-check select-menu-item-icon" viewBox="0 0 12 16" version="1.1" width="12" height="16" aria-hidden="true"><path fill-rule="evenodd" d="M12 5l-8 8-4-4 1.5-1.5L4 10l6.5-6.5L12 5z"/></svg>
              <span class="select-menu-item-text css-truncate-target js-select-menu-filter-text">
                PUBDEV-4980+PUBDEV-5155+PUBDEV-5156
              </span>
            </a>
            <a class="select-menu-item js-navigation-item js-navigation-open "
               href="/h2oai/h2o-3/blob/PUBDEV-4981-relweierstrass/h2o-py/demos/glrm_census_large.ipynb"
               data-name="PUBDEV-4981-relweierstrass"
               data-skip-pjax="true"
               rel="nofollow">
              <svg class="octicon octicon-check select-menu-item-icon" viewBox="0 0 12 16" version="1.1" width="12" height="16" aria-hidden="true"><path fill-rule="evenodd" d="M12 5l-8 8-4-4 1.5-1.5L4 10l6.5-6.5L12 5z"/></svg>
              <span class="select-menu-item-text css-truncate-target js-select-menu-filter-text">
                PUBDEV-4981-relweierstrass
              </span>
            </a>
            <a class="select-menu-item js-navigation-item js-navigation-open "
               href="/h2oai/h2o-3/blob/PUBDEV-4995-api/h2o-py/demos/glrm_census_large.ipynb"
               data-name="PUBDEV-4995-api"
               data-skip-pjax="true"
               rel="nofollow">
              <svg class="octicon octicon-check select-menu-item-icon" viewBox="0 0 12 16" version="1.1" width="12" height="16" aria-hidden="true"><path fill-rule="evenodd" d="M12 5l-8 8-4-4 1.5-1.5L4 10l6.5-6.5L12 5z"/></svg>
              <span class="select-menu-item-text css-truncate-target js-select-menu-filter-text">
                PUBDEV-4995-api
              </span>
            </a>
            <a class="select-menu-item js-navigation-item js-navigation-open "
               href="/h2oai/h2o-3/blob/PUBDEV-4995/h2o-py/demos/glrm_census_large.ipynb"
               data-name="PUBDEV-4995"
               data-skip-pjax="true"
               rel="nofollow">
              <svg class="octicon octicon-check select-menu-item-icon" viewBox="0 0 12 16" version="1.1" width="12" height="16" aria-hidden="true"><path fill-rule="evenodd" d="M12 5l-8 8-4-4 1.5-1.5L4 10l6.5-6.5L12 5z"/></svg>
              <span class="select-menu-item-text css-truncate-target js-select-menu-filter-text">
                PUBDEV-4995
              </span>
            </a>
            <a class="select-menu-item js-navigation-item js-navigation-open "
               href="/h2oai/h2o-3/blob/PUBDEV-5014/h2o-py/demos/glrm_census_large.ipynb"
               data-name="PUBDEV-5014"
               data-skip-pjax="true"
               rel="nofollow">
              <svg class="octicon octicon-check select-menu-item-icon" viewBox="0 0 12 16" version="1.1" width="12" height="16" aria-hidden="true"><path fill-rule="evenodd" d="M12 5l-8 8-4-4 1.5-1.5L4 10l6.5-6.5L12 5z"/></svg>
              <span class="select-menu-item-text css-truncate-target js-select-menu-filter-text">
                PUBDEV-5014
              </span>
            </a>
            <a class="select-menu-item js-navigation-item js-navigation-open "
               href="/h2oai/h2o-3/blob/PUBDEV-5016/h2o-py/demos/glrm_census_large.ipynb"
               data-name="PUBDEV-5016"
               data-skip-pjax="true"
               rel="nofollow">
              <svg class="octicon octicon-check select-menu-item-icon" viewBox="0 0 12 16" version="1.1" width="12" height="16" aria-hidden="true"><path fill-rule="evenodd" d="M12 5l-8 8-4-4 1.5-1.5L4 10l6.5-6.5L12 5z"/></svg>
              <span class="select-menu-item-text css-truncate-target js-select-menu-filter-text">
                PUBDEV-5016
              </span>
            </a>
            <a class="select-menu-item js-navigation-item js-navigation-open "
               href="/h2oai/h2o-3/blob/PUBDEV-5049-stopping-method/h2o-py/demos/glrm_census_large.ipynb"
               data-name="PUBDEV-5049-stopping-method"
               data-skip-pjax="true"
               rel="nofollow">
              <svg class="octicon octicon-check select-menu-item-icon" viewBox="0 0 12 16" version="1.1" width="12" height="16" aria-hidden="true"><path fill-rule="evenodd" d="M12 5l-8 8-4-4 1.5-1.5L4 10l6.5-6.5L12 5z"/></svg>
              <span class="select-menu-item-text css-truncate-target js-select-menu-filter-text">
                PUBDEV-5049-stopping-method
              </span>
            </a>
            <a class="select-menu-item js-navigation-item js-navigation-open "
               href="/h2oai/h2o-3/blob/PUBDEV-5083/h2o-py/demos/glrm_census_large.ipynb"
               data-name="PUBDEV-5083"
               data-skip-pjax="true"
               rel="nofollow">
              <svg class="octicon octicon-check select-menu-item-icon" viewBox="0 0 12 16" version="1.1" width="12" height="16" aria-hidden="true"><path fill-rule="evenodd" d="M12 5l-8 8-4-4 1.5-1.5L4 10l6.5-6.5L12 5z"/></svg>
              <span class="select-menu-item-text css-truncate-target js-select-menu-filter-text">
                PUBDEV-5083
              </span>
            </a>
            <a class="select-menu-item js-navigation-item js-navigation-open "
               href="/h2oai/h2o-3/blob/PUBDEV-5115/h2o-py/demos/glrm_census_large.ipynb"
               data-name="PUBDEV-5115"
               data-skip-pjax="true"
               rel="nofollow">
              <svg class="octicon octicon-check select-menu-item-icon" viewBox="0 0 12 16" version="1.1" width="12" height="16" aria-hidden="true"><path fill-rule="evenodd" d="M12 5l-8 8-4-4 1.5-1.5L4 10l6.5-6.5L12 5z"/></svg>
              <span class="select-menu-item-text css-truncate-target js-select-menu-filter-text">
                PUBDEV-5115
              </span>
            </a>
            <a class="select-menu-item js-navigation-item js-navigation-open "
               href="/h2oai/h2o-3/blob/PUBDEV-5130/h2o-py/demos/glrm_census_large.ipynb"
               data-name="PUBDEV-5130"
               data-skip-pjax="true"
               rel="nofollow">
              <svg class="octicon octicon-check select-menu-item-icon" viewBox="0 0 12 16" version="1.1" width="12" height="16" aria-hidden="true"><path fill-rule="evenodd" d="M12 5l-8 8-4-4 1.5-1.5L4 10l6.5-6.5L12 5z"/></svg>
              <span class="select-menu-item-text css-truncate-target js-select-menu-filter-text">
                PUBDEV-5130
              </span>
            </a>
            <a class="select-menu-item js-navigation-item js-navigation-open "
               href="/h2oai/h2o-3/blob/PUBDEV-5145/h2o-py/demos/glrm_census_large.ipynb"
               data-name="PUBDEV-5145"
               data-skip-pjax="true"
               rel="nofollow">
              <svg class="octicon octicon-check select-menu-item-icon" viewBox="0 0 12 16" version="1.1" width="12" height="16" aria-hidden="true"><path fill-rule="evenodd" d="M12 5l-8 8-4-4 1.5-1.5L4 10l6.5-6.5L12 5z"/></svg>
              <span class="select-menu-item-text css-truncate-target js-select-menu-filter-text">
                PUBDEV-5145
              </span>
            </a>
            <a class="select-menu-item js-navigation-item js-navigation-open "
               href="/h2oai/h2o-3/blob/PUBDEV-5146_and_PUBDEV-4053/h2o-py/demos/glrm_census_large.ipynb"
               data-name="PUBDEV-5146_and_PUBDEV-4053"
               data-skip-pjax="true"
               rel="nofollow">
              <svg class="octicon octicon-check select-menu-item-icon" viewBox="0 0 12 16" version="1.1" width="12" height="16" aria-hidden="true"><path fill-rule="evenodd" d="M12 5l-8 8-4-4 1.5-1.5L4 10l6.5-6.5L12 5z"/></svg>
              <span class="select-menu-item-text css-truncate-target js-select-menu-filter-text">
                PUBDEV-5146_and_PUBDEV-4053
              </span>
            </a>
            <a class="select-menu-item js-navigation-item js-navigation-open "
               href="/h2oai/h2o-3/blob/PUBDEV-5151-ang/h2o-py/demos/glrm_census_large.ipynb"
               data-name="PUBDEV-5151-ang"
               data-skip-pjax="true"
               rel="nofollow">
              <svg class="octicon octicon-check select-menu-item-icon" viewBox="0 0 12 16" version="1.1" width="12" height="16" aria-hidden="true"><path fill-rule="evenodd" d="M12 5l-8 8-4-4 1.5-1.5L4 10l6.5-6.5L12 5z"/></svg>
              <span class="select-menu-item-text css-truncate-target js-select-menu-filter-text">
                PUBDEV-5151-ang
              </span>
            </a>
            <a class="select-menu-item js-navigation-item js-navigation-open "
               href="/h2oai/h2o-3/blob/PUBDEV-5159/h2o-py/demos/glrm_census_large.ipynb"
               data-name="PUBDEV-5159"
               data-skip-pjax="true"
               rel="nofollow">
              <svg class="octicon octicon-check select-menu-item-icon" viewBox="0 0 12 16" version="1.1" width="12" height="16" aria-hidden="true"><path fill-rule="evenodd" d="M12 5l-8 8-4-4 1.5-1.5L4 10l6.5-6.5L12 5z"/></svg>
              <span class="select-menu-item-text css-truncate-target js-select-menu-filter-text">
                PUBDEV-5159
              </span>
            </a>
            <a class="select-menu-item js-navigation-item js-navigation-open "
               href="/h2oai/h2o-3/blob/PUBDEV-5171_for_rel-wheeler/h2o-py/demos/glrm_census_large.ipynb"
               data-name="PUBDEV-5171_for_rel-wheeler"
               data-skip-pjax="true"
               rel="nofollow">
              <svg class="octicon octicon-check select-menu-item-icon" viewBox="0 0 12 16" version="1.1" width="12" height="16" aria-hidden="true"><path fill-rule="evenodd" d="M12 5l-8 8-4-4 1.5-1.5L4 10l6.5-6.5L12 5z"/></svg>
              <span class="select-menu-item-text css-truncate-target js-select-menu-filter-text">
                PUBDEV-5171_for_rel-wheeler
              </span>
            </a>
            <a class="select-menu-item js-navigation-item js-navigation-open "
               href="/h2oai/h2o-3/blob/PUBDEV-5171/h2o-py/demos/glrm_census_large.ipynb"
               data-name="PUBDEV-5171"
               data-skip-pjax="true"
               rel="nofollow">
              <svg class="octicon octicon-check select-menu-item-icon" viewBox="0 0 12 16" version="1.1" width="12" height="16" aria-hidden="true"><path fill-rule="evenodd" d="M12 5l-8 8-4-4 1.5-1.5L4 10l6.5-6.5L12 5z"/></svg>
              <span class="select-menu-item-text css-truncate-target js-select-menu-filter-text">
                PUBDEV-5171
              </span>
            </a>
            <a class="select-menu-item js-navigation-item js-navigation-open "
               href="/h2oai/h2o-3/blob/PUBDEV-5174/h2o-py/demos/glrm_census_large.ipynb"
               data-name="PUBDEV-5174"
               data-skip-pjax="true"
               rel="nofollow">
              <svg class="octicon octicon-check select-menu-item-icon" viewBox="0 0 12 16" version="1.1" width="12" height="16" aria-hidden="true"><path fill-rule="evenodd" d="M12 5l-8 8-4-4 1.5-1.5L4 10l6.5-6.5L12 5z"/></svg>
              <span class="select-menu-item-text css-truncate-target js-select-menu-filter-text">
                PUBDEV-5174
              </span>
            </a>
            <a class="select-menu-item js-navigation-item js-navigation-open "
               href="/h2oai/h2o-3/blob/PUBDEV-5191_remove_drf_offset_distr/h2o-py/demos/glrm_census_large.ipynb"
               data-name="PUBDEV-5191_remove_drf_offset_distr"
               data-skip-pjax="true"
               rel="nofollow">
              <svg class="octicon octicon-check select-menu-item-icon" viewBox="0 0 12 16" version="1.1" width="12" height="16" aria-hidden="true"><path fill-rule="evenodd" d="M12 5l-8 8-4-4 1.5-1.5L4 10l6.5-6.5L12 5z"/></svg>
              <span class="select-menu-item-text css-truncate-target js-select-menu-filter-text">
                PUBDEV-5191_remove_drf_offset_distr
              </span>
            </a>
            <a class="select-menu-item js-navigation-item js-navigation-open "
               href="/h2oai/h2o-3/blob/PUBDEV-5203/h2o-py/demos/glrm_census_large.ipynb"
               data-name="PUBDEV-5203"
               data-skip-pjax="true"
               rel="nofollow">
              <svg class="octicon octicon-check select-menu-item-icon" viewBox="0 0 12 16" version="1.1" width="12" height="16" aria-hidden="true"><path fill-rule="evenodd" d="M12 5l-8 8-4-4 1.5-1.5L4 10l6.5-6.5L12 5z"/></svg>
              <span class="select-menu-item-text css-truncate-target js-select-menu-filter-text">
                PUBDEV-5203
              </span>
            </a>
            <a class="select-menu-item js-navigation-item js-navigation-open "
               href="/h2oai/h2o-3/blob/PUBDEV-5216/h2o-py/demos/glrm_census_large.ipynb"
               data-name="PUBDEV-5216"
               data-skip-pjax="true"
               rel="nofollow">
              <svg class="octicon octicon-check select-menu-item-icon" viewBox="0 0 12 16" version="1.1" width="12" height="16" aria-hidden="true"><path fill-rule="evenodd" d="M12 5l-8 8-4-4 1.5-1.5L4 10l6.5-6.5L12 5z"/></svg>
              <span class="select-menu-item-text css-truncate-target js-select-menu-filter-text">
                PUBDEV-5216
              </span>
            </a>
            <a class="select-menu-item js-navigation-item js-navigation-open "
               href="/h2oai/h2o-3/blob/PUBDEV-5220/h2o-py/demos/glrm_census_large.ipynb"
               data-name="PUBDEV-5220"
               data-skip-pjax="true"
               rel="nofollow">
              <svg class="octicon octicon-check select-menu-item-icon" viewBox="0 0 12 16" version="1.1" width="12" height="16" aria-hidden="true"><path fill-rule="evenodd" d="M12 5l-8 8-4-4 1.5-1.5L4 10l6.5-6.5L12 5z"/></svg>
              <span class="select-menu-item-text css-truncate-target js-select-menu-filter-text">
                PUBDEV-5220
              </span>
            </a>
            <a class="select-menu-item js-navigation-item js-navigation-open "
               href="/h2oai/h2o-3/blob/PUBDEV-5227_master/h2o-py/demos/glrm_census_large.ipynb"
               data-name="PUBDEV-5227_master"
               data-skip-pjax="true"
               rel="nofollow">
              <svg class="octicon octicon-check select-menu-item-icon" viewBox="0 0 12 16" version="1.1" width="12" height="16" aria-hidden="true"><path fill-rule="evenodd" d="M12 5l-8 8-4-4 1.5-1.5L4 10l6.5-6.5L12 5z"/></svg>
              <span class="select-menu-item-text css-truncate-target js-select-menu-filter-text">
                PUBDEV-5227_master
              </span>
            </a>
            <a class="select-menu-item js-navigation-item js-navigation-open "
               href="/h2oai/h2o-3/blob/PUBDEV-5227_to_master/h2o-py/demos/glrm_census_large.ipynb"
               data-name="PUBDEV-5227_to_master"
               data-skip-pjax="true"
               rel="nofollow">
              <svg class="octicon octicon-check select-menu-item-icon" viewBox="0 0 12 16" version="1.1" width="12" height="16" aria-hidden="true"><path fill-rule="evenodd" d="M12 5l-8 8-4-4 1.5-1.5L4 10l6.5-6.5L12 5z"/></svg>
              <span class="select-menu-item-text css-truncate-target js-select-menu-filter-text">
                PUBDEV-5227_to_master
              </span>
            </a>
            <a class="select-menu-item js-navigation-item js-navigation-open "
               href="/h2oai/h2o-3/blob/PUBDEV-5227/h2o-py/demos/glrm_census_large.ipynb"
               data-name="PUBDEV-5227"
               data-skip-pjax="true"
               rel="nofollow">
              <svg class="octicon octicon-check select-menu-item-icon" viewBox="0 0 12 16" version="1.1" width="12" height="16" aria-hidden="true"><path fill-rule="evenodd" d="M12 5l-8 8-4-4 1.5-1.5L4 10l6.5-6.5L12 5z"/></svg>
              <span class="select-menu-item-text css-truncate-target js-select-menu-filter-text">
                PUBDEV-5227
              </span>
            </a>
            <a class="select-menu-item js-navigation-item js-navigation-open "
               href="/h2oai/h2o-3/blob/PUBDEV-5233-H2OXGBoost_native_XGBoost_compare_enums/h2o-py/demos/glrm_census_large.ipynb"
               data-name="PUBDEV-5233-H2OXGBoost_native_XGBoost_compare_enums"
               data-skip-pjax="true"
               rel="nofollow">
              <svg class="octicon octicon-check select-menu-item-icon" viewBox="0 0 12 16" version="1.1" width="12" height="16" aria-hidden="true"><path fill-rule="evenodd" d="M12 5l-8 8-4-4 1.5-1.5L4 10l6.5-6.5L12 5z"/></svg>
              <span class="select-menu-item-text css-truncate-target js-select-menu-filter-text">
                PUBDEV-5233-H2OXGBoost_native_XGBoost_compare_enums
              </span>
            </a>
            <a class="select-menu-item js-navigation-item js-navigation-open "
               href="/h2oai/h2o-3/blob/PUBDEV-5233-H2OXGBoost_native_XGBoost_compare/h2o-py/demos/glrm_census_large.ipynb"
               data-name="PUBDEV-5233-H2OXGBoost_native_XGBoost_compare"
               data-skip-pjax="true"
               rel="nofollow">
              <svg class="octicon octicon-check select-menu-item-icon" viewBox="0 0 12 16" version="1.1" width="12" height="16" aria-hidden="true"><path fill-rule="evenodd" d="M12 5l-8 8-4-4 1.5-1.5L4 10l6.5-6.5L12 5z"/></svg>
              <span class="select-menu-item-text css-truncate-target js-select-menu-filter-text">
                PUBDEV-5233-H2OXGBoost_native_XGBoost_compare
              </span>
            </a>
            <a class="select-menu-item js-navigation-item js-navigation-open "
               href="/h2oai/h2o-3/blob/PUBDEV-5233-a/h2o-py/demos/glrm_census_large.ipynb"
               data-name="PUBDEV-5233-a"
               data-skip-pjax="true"
               rel="nofollow">
              <svg class="octicon octicon-check select-menu-item-icon" viewBox="0 0 12 16" version="1.1" width="12" height="16" aria-hidden="true"><path fill-rule="evenodd" d="M12 5l-8 8-4-4 1.5-1.5L4 10l6.5-6.5L12 5z"/></svg>
              <span class="select-menu-item-text css-truncate-target js-select-menu-filter-text">
                PUBDEV-5233-a
              </span>
            </a>
            <a class="select-menu-item js-navigation-item js-navigation-open "
               href="/h2oai/h2o-3/blob/PUBDEV-5233-multinodetests-for-xgboost/h2o-py/demos/glrm_census_large.ipynb"
               data-name="PUBDEV-5233-multinodetests-for-xgboost"
               data-skip-pjax="true"
               rel="nofollow">
              <svg class="octicon octicon-check select-menu-item-icon" viewBox="0 0 12 16" version="1.1" width="12" height="16" aria-hidden="true"><path fill-rule="evenodd" d="M12 5l-8 8-4-4 1.5-1.5L4 10l6.5-6.5L12 5z"/></svg>
              <span class="select-menu-item-text css-truncate-target js-select-menu-filter-text">
                PUBDEV-5233-multinodetests-for-xgboost
              </span>
            </a>
            <a class="select-menu-item js-navigation-item js-navigation-open "
               href="/h2oai/h2o-3/blob/PUBDEV-5233-xgboost-reproducibility/h2o-py/demos/glrm_census_large.ipynb"
               data-name="PUBDEV-5233-xgboost-reproducibility"
               data-skip-pjax="true"
               rel="nofollow">
              <svg class="octicon octicon-check select-menu-item-icon" viewBox="0 0 12 16" version="1.1" width="12" height="16" aria-hidden="true"><path fill-rule="evenodd" d="M12 5l-8 8-4-4 1.5-1.5L4 10l6.5-6.5L12 5z"/></svg>
              <span class="select-menu-item-text css-truncate-target js-select-menu-filter-text">
                PUBDEV-5233-xgboost-reproducibility
              </span>
            </a>
            <a class="select-menu-item js-navigation-item js-navigation-open "
               href="/h2oai/h2o-3/blob/PUBDEV-5241/h2o-py/demos/glrm_census_large.ipynb"
               data-name="PUBDEV-5241"
               data-skip-pjax="true"
               rel="nofollow">
              <svg class="octicon octicon-check select-menu-item-icon" viewBox="0 0 12 16" version="1.1" width="12" height="16" aria-hidden="true"><path fill-rule="evenodd" d="M12 5l-8 8-4-4 1.5-1.5L4 10l6.5-6.5L12 5z"/></svg>
              <span class="select-menu-item-text css-truncate-target js-select-menu-filter-text">
                PUBDEV-5241
              </span>
            </a>
            <a class="select-menu-item js-navigation-item js-navigation-open "
               href="/h2oai/h2o-3/blob/PUBDEV-5242/h2o-py/demos/glrm_census_large.ipynb"
               data-name="PUBDEV-5242"
               data-skip-pjax="true"
               rel="nofollow">
              <svg class="octicon octicon-check select-menu-item-icon" viewBox="0 0 12 16" version="1.1" width="12" height="16" aria-hidden="true"><path fill-rule="evenodd" d="M12 5l-8 8-4-4 1.5-1.5L4 10l6.5-6.5L12 5z"/></svg>
              <span class="select-menu-item-text css-truncate-target js-select-menu-filter-text">
                PUBDEV-5242
              </span>
            </a>
            <a class="select-menu-item js-navigation-item js-navigation-open "
               href="/h2oai/h2o-3/blob/PUBDEV-5249-b/h2o-py/demos/glrm_census_large.ipynb"
               data-name="PUBDEV-5249-b"
               data-skip-pjax="true"
               rel="nofollow">
              <svg class="octicon octicon-check select-menu-item-icon" viewBox="0 0 12 16" version="1.1" width="12" height="16" aria-hidden="true"><path fill-rule="evenodd" d="M12 5l-8 8-4-4 1.5-1.5L4 10l6.5-6.5L12 5z"/></svg>
              <span class="select-menu-item-text css-truncate-target js-select-menu-filter-text">
                PUBDEV-5249-b
              </span>
            </a>
            <a class="select-menu-item js-navigation-item js-navigation-open "
               href="/h2oai/h2o-3/blob/PUBDEV-5303-multinomial-mojo-pojo/h2o-py/demos/glrm_census_large.ipynb"
               data-name="PUBDEV-5303-multinomial-mojo-pojo"
               data-skip-pjax="true"
               rel="nofollow">
              <svg class="octicon octicon-check select-menu-item-icon" viewBox="0 0 12 16" version="1.1" width="12" height="16" aria-hidden="true"><path fill-rule="evenodd" d="M12 5l-8 8-4-4 1.5-1.5L4 10l6.5-6.5L12 5z"/></svg>
              <span class="select-menu-item-text css-truncate-target js-select-menu-filter-text">
                PUBDEV-5303-multinomial-mojo-pojo
              </span>
            </a>
            <a class="select-menu-item js-navigation-item js-navigation-open "
               href="/h2oai/h2o-3/blob/PUBDEV-5331/h2o-py/demos/glrm_census_large.ipynb"
               data-name="PUBDEV-5331"
               data-skip-pjax="true"
               rel="nofollow">
              <svg class="octicon octicon-check select-menu-item-icon" viewBox="0 0 12 16" version="1.1" width="12" height="16" aria-hidden="true"><path fill-rule="evenodd" d="M12 5l-8 8-4-4 1.5-1.5L4 10l6.5-6.5L12 5z"/></svg>
              <span class="select-menu-item-text css-truncate-target js-select-menu-filter-text">
                PUBDEV-5331
              </span>
            </a>
            <a class="select-menu-item js-navigation-item js-navigation-open "
               href="/h2oai/h2o-3/blob/PUBDEV-5334-DRF-param/h2o-py/demos/glrm_census_large.ipynb"
               data-name="PUBDEV-5334-DRF-param"
               data-skip-pjax="true"
               rel="nofollow">
              <svg class="octicon octicon-check select-menu-item-icon" viewBox="0 0 12 16" version="1.1" width="12" height="16" aria-hidden="true"><path fill-rule="evenodd" d="M12 5l-8 8-4-4 1.5-1.5L4 10l6.5-6.5L12 5z"/></svg>
              <span class="select-menu-item-text css-truncate-target js-select-menu-filter-text">
                PUBDEV-5334-DRF-param
              </span>
            </a>
            <a class="select-menu-item js-navigation-item js-navigation-open "
               href="/h2oai/h2o-3/blob/PUBDEV-5376/h2o-py/demos/glrm_census_large.ipynb"
               data-name="PUBDEV-5376"
               data-skip-pjax="true"
               rel="nofollow">
              <svg class="octicon octicon-check select-menu-item-icon" viewBox="0 0 12 16" version="1.1" width="12" height="16" aria-hidden="true"><path fill-rule="evenodd" d="M12 5l-8 8-4-4 1.5-1.5L4 10l6.5-6.5L12 5z"/></svg>
              <span class="select-menu-item-text css-truncate-target js-select-menu-filter-text">
                PUBDEV-5376
              </span>
            </a>
            <a class="select-menu-item js-navigation-item js-navigation-open "
               href="/h2oai/h2o-3/blob/PUBDEV-5377/h2o-py/demos/glrm_census_large.ipynb"
               data-name="PUBDEV-5377"
               data-skip-pjax="true"
               rel="nofollow">
              <svg class="octicon octicon-check select-menu-item-icon" viewBox="0 0 12 16" version="1.1" width="12" height="16" aria-hidden="true"><path fill-rule="evenodd" d="M12 5l-8 8-4-4 1.5-1.5L4 10l6.5-6.5L12 5z"/></svg>
              <span class="select-menu-item-text css-truncate-target js-select-menu-filter-text">
                PUBDEV-5377
              </span>
            </a>
            <a class="select-menu-item js-navigation-item js-navigation-open "
               href="/h2oai/h2o-3/blob/PUBDEV-5380/h2o-py/demos/glrm_census_large.ipynb"
               data-name="PUBDEV-5380"
               data-skip-pjax="true"
               rel="nofollow">
              <svg class="octicon octicon-check select-menu-item-icon" viewBox="0 0 12 16" version="1.1" width="12" height="16" aria-hidden="true"><path fill-rule="evenodd" d="M12 5l-8 8-4-4 1.5-1.5L4 10l6.5-6.5L12 5z"/></svg>
              <span class="select-menu-item-text css-truncate-target js-select-menu-filter-text">
                PUBDEV-5380
              </span>
            </a>
            <a class="select-menu-item js-navigation-item js-navigation-open "
               href="/h2oai/h2o-3/blob/PUBDEV-5384/h2o-py/demos/glrm_census_large.ipynb"
               data-name="PUBDEV-5384"
               data-skip-pjax="true"
               rel="nofollow">
              <svg class="octicon octicon-check select-menu-item-icon" viewBox="0 0 12 16" version="1.1" width="12" height="16" aria-hidden="true"><path fill-rule="evenodd" d="M12 5l-8 8-4-4 1.5-1.5L4 10l6.5-6.5L12 5z"/></svg>
              <span class="select-menu-item-text css-truncate-target js-select-menu-filter-text">
                PUBDEV-5384
              </span>
            </a>
            <a class="select-menu-item js-navigation-item js-navigation-open "
               href="/h2oai/h2o-3/blob/PUBDEV-5399/h2o-py/demos/glrm_census_large.ipynb"
               data-name="PUBDEV-5399"
               data-skip-pjax="true"
               rel="nofollow">
              <svg class="octicon octicon-check select-menu-item-icon" viewBox="0 0 12 16" version="1.1" width="12" height="16" aria-hidden="true"><path fill-rule="evenodd" d="M12 5l-8 8-4-4 1.5-1.5L4 10l6.5-6.5L12 5z"/></svg>
              <span class="select-menu-item-text css-truncate-target js-select-menu-filter-text">
                PUBDEV-5399
              </span>
            </a>
            <a class="select-menu-item js-navigation-item js-navigation-open "
               href="/h2oai/h2o-3/blob/PUBDEV-5405-GLRM-mojo-pred-check/h2o-py/demos/glrm_census_large.ipynb"
               data-name="PUBDEV-5405-GLRM-mojo-pred-check"
               data-skip-pjax="true"
               rel="nofollow">
              <svg class="octicon octicon-check select-menu-item-icon" viewBox="0 0 12 16" version="1.1" width="12" height="16" aria-hidden="true"><path fill-rule="evenodd" d="M12 5l-8 8-4-4 1.5-1.5L4 10l6.5-6.5L12 5z"/></svg>
              <span class="select-menu-item-text css-truncate-target js-select-menu-filter-text">
                PUBDEV-5405-GLRM-mojo-pred-check
              </span>
            </a>
            <a class="select-menu-item js-navigation-item js-navigation-open "
               href="/h2oai/h2o-3/blob/PUBDEV-5409/h2o-py/demos/glrm_census_large.ipynb"
               data-name="PUBDEV-5409"
               data-skip-pjax="true"
               rel="nofollow">
              <svg class="octicon octicon-check select-menu-item-icon" viewBox="0 0 12 16" version="1.1" width="12" height="16" aria-hidden="true"><path fill-rule="evenodd" d="M12 5l-8 8-4-4 1.5-1.5L4 10l6.5-6.5L12 5z"/></svg>
              <span class="select-menu-item-text css-truncate-target js-select-menu-filter-text">
                PUBDEV-5409
              </span>
            </a>
            <a class="select-menu-item js-navigation-item js-navigation-open "
               href="/h2oai/h2o-3/blob/PUBDEV-5416-relwolpert/h2o-py/demos/glrm_census_large.ipynb"
               data-name="PUBDEV-5416-relwolpert"
               data-skip-pjax="true"
               rel="nofollow">
              <svg class="octicon octicon-check select-menu-item-icon" viewBox="0 0 12 16" version="1.1" width="12" height="16" aria-hidden="true"><path fill-rule="evenodd" d="M12 5l-8 8-4-4 1.5-1.5L4 10l6.5-6.5L12 5z"/></svg>
              <span class="select-menu-item-text css-truncate-target js-select-menu-filter-text">
                PUBDEV-5416-relwolpert
              </span>
            </a>
            <a class="select-menu-item js-navigation-item js-navigation-open "
               href="/h2oai/h2o-3/blob/PUBDEV-5434-relwolpert/h2o-py/demos/glrm_census_large.ipynb"
               data-name="PUBDEV-5434-relwolpert"
               data-skip-pjax="true"
               rel="nofollow">
              <svg class="octicon octicon-check select-menu-item-icon" viewBox="0 0 12 16" version="1.1" width="12" height="16" aria-hidden="true"><path fill-rule="evenodd" d="M12 5l-8 8-4-4 1.5-1.5L4 10l6.5-6.5L12 5z"/></svg>
              <span class="select-menu-item-text css-truncate-target js-select-menu-filter-text">
                PUBDEV-5434-relwolpert
              </span>
            </a>
            <a class="select-menu-item js-navigation-item js-navigation-open "
               href="/h2oai/h2o-3/blob/PUBDEV-5434/h2o-py/demos/glrm_census_large.ipynb"
               data-name="PUBDEV-5434"
               data-skip-pjax="true"
               rel="nofollow">
              <svg class="octicon octicon-check select-menu-item-icon" viewBox="0 0 12 16" version="1.1" width="12" height="16" aria-hidden="true"><path fill-rule="evenodd" d="M12 5l-8 8-4-4 1.5-1.5L4 10l6.5-6.5L12 5z"/></svg>
              <span class="select-menu-item-text css-truncate-target js-select-menu-filter-text">
                PUBDEV-5434
              </span>
            </a>
            <a class="select-menu-item js-navigation-item js-navigation-open "
               href="/h2oai/h2o-3/blob/PUBDEV-5454-DLParametersv3_bug/h2o-py/demos/glrm_census_large.ipynb"
               data-name="PUBDEV-5454-DLParametersv3_bug"
               data-skip-pjax="true"
               rel="nofollow">
              <svg class="octicon octicon-check select-menu-item-icon" viewBox="0 0 12 16" version="1.1" width="12" height="16" aria-hidden="true"><path fill-rule="evenodd" d="M12 5l-8 8-4-4 1.5-1.5L4 10l6.5-6.5L12 5z"/></svg>
              <span class="select-menu-item-text css-truncate-target js-select-menu-filter-text">
                PUBDEV-5454-DLParametersv3_bug
              </span>
            </a>
            <a class="select-menu-item js-navigation-item js-navigation-open "
               href="/h2oai/h2o-3/blob/PUBDEV-5513/h2o-py/demos/glrm_census_large.ipynb"
               data-name="PUBDEV-5513"
               data-skip-pjax="true"
               rel="nofollow">
              <svg class="octicon octicon-check select-menu-item-icon" viewBox="0 0 12 16" version="1.1" width="12" height="16" aria-hidden="true"><path fill-rule="evenodd" d="M12 5l-8 8-4-4 1.5-1.5L4 10l6.5-6.5L12 5z"/></svg>
              <span class="select-menu-item-text css-truncate-target js-select-menu-filter-text">
                PUBDEV-5513
              </span>
            </a>
            <a class="select-menu-item js-navigation-item js-navigation-open "
               href="/h2oai/h2o-3/blob/PUBDEV-5529-leaf-node-assign-drf-gbm-mojo-pojo/h2o-py/demos/glrm_census_large.ipynb"
               data-name="PUBDEV-5529-leaf-node-assign-drf-gbm-mojo-pojo"
               data-skip-pjax="true"
               rel="nofollow">
              <svg class="octicon octicon-check select-menu-item-icon" viewBox="0 0 12 16" version="1.1" width="12" height="16" aria-hidden="true"><path fill-rule="evenodd" d="M12 5l-8 8-4-4 1.5-1.5L4 10l6.5-6.5L12 5z"/></svg>
              <span class="select-menu-item-text css-truncate-target js-select-menu-filter-text">
                PUBDEV-5529-leaf-node-assign-drf-gbm-mojo-pojo
              </span>
            </a>
            <a class="select-menu-item js-navigation-item js-navigation-open "
               href="/h2oai/h2o-3/blob/PUBDEV-5542_master/h2o-py/demos/glrm_census_large.ipynb"
               data-name="PUBDEV-5542_master"
               data-skip-pjax="true"
               rel="nofollow">
              <svg class="octicon octicon-check select-menu-item-icon" viewBox="0 0 12 16" version="1.1" width="12" height="16" aria-hidden="true"><path fill-rule="evenodd" d="M12 5l-8 8-4-4 1.5-1.5L4 10l6.5-6.5L12 5z"/></svg>
              <span class="select-menu-item-text css-truncate-target js-select-menu-filter-text">
                PUBDEV-5542_master
              </span>
            </a>
            <a class="select-menu-item js-navigation-item js-navigation-open "
               href="/h2oai/h2o-3/blob/PUBDEV-5542_wright/h2o-py/demos/glrm_census_large.ipynb"
               data-name="PUBDEV-5542_wright"
               data-skip-pjax="true"
               rel="nofollow">
              <svg class="octicon octicon-check select-menu-item-icon" viewBox="0 0 12 16" version="1.1" width="12" height="16" aria-hidden="true"><path fill-rule="evenodd" d="M12 5l-8 8-4-4 1.5-1.5L4 10l6.5-6.5L12 5z"/></svg>
              <span class="select-menu-item-text css-truncate-target js-select-menu-filter-text">
                PUBDEV-5542_wright
              </span>
            </a>
            <a class="select-menu-item js-navigation-item js-navigation-open "
               href="/h2oai/h2o-3/blob/PUBDEV-5550/h2o-py/demos/glrm_census_large.ipynb"
               data-name="PUBDEV-5550"
               data-skip-pjax="true"
               rel="nofollow">
              <svg class="octicon octicon-check select-menu-item-icon" viewBox="0 0 12 16" version="1.1" width="12" height="16" aria-hidden="true"><path fill-rule="evenodd" d="M12 5l-8 8-4-4 1.5-1.5L4 10l6.5-6.5L12 5z"/></svg>
              <span class="select-menu-item-text css-truncate-target js-select-menu-filter-text">
                PUBDEV-5550
              </span>
            </a>
            <a class="select-menu-item js-navigation-item js-navigation-open "
               href="/h2oai/h2o-3/blob/PUBDEV-5573/h2o-py/demos/glrm_census_large.ipynb"
               data-name="PUBDEV-5573"
               data-skip-pjax="true"
               rel="nofollow">
              <svg class="octicon octicon-check select-menu-item-icon" viewBox="0 0 12 16" version="1.1" width="12" height="16" aria-hidden="true"><path fill-rule="evenodd" d="M12 5l-8 8-4-4 1.5-1.5L4 10l6.5-6.5L12 5z"/></svg>
              <span class="select-menu-item-text css-truncate-target js-select-menu-filter-text">
                PUBDEV-5573
              </span>
            </a>
            <a class="select-menu-item js-navigation-item js-navigation-open "
               href="/h2oai/h2o-3/blob/PUBDEV-5586/h2o-py/demos/glrm_census_large.ipynb"
               data-name="PUBDEV-5586"
               data-skip-pjax="true"
               rel="nofollow">
              <svg class="octicon octicon-check select-menu-item-icon" viewBox="0 0 12 16" version="1.1" width="12" height="16" aria-hidden="true"><path fill-rule="evenodd" d="M12 5l-8 8-4-4 1.5-1.5L4 10l6.5-6.5L12 5z"/></svg>
              <span class="select-menu-item-text css-truncate-target js-select-menu-filter-text">
                PUBDEV-5586
              </span>
            </a>
            <a class="select-menu-item js-navigation-item js-navigation-open "
               href="/h2oai/h2o-3/blob/PUBDEV-5605/h2o-py/demos/glrm_census_large.ipynb"
               data-name="PUBDEV-5605"
               data-skip-pjax="true"
               rel="nofollow">
              <svg class="octicon octicon-check select-menu-item-icon" viewBox="0 0 12 16" version="1.1" width="12" height="16" aria-hidden="true"><path fill-rule="evenodd" d="M12 5l-8 8-4-4 1.5-1.5L4 10l6.5-6.5L12 5z"/></svg>
              <span class="select-menu-item-text css-truncate-target js-select-menu-filter-text">
                PUBDEV-5605
              </span>
            </a>
            <a class="select-menu-item js-navigation-item js-navigation-open "
               href="/h2oai/h2o-3/blob/PUBDEV-5614/h2o-py/demos/glrm_census_large.ipynb"
               data-name="PUBDEV-5614"
               data-skip-pjax="true"
               rel="nofollow">
              <svg class="octicon octicon-check select-menu-item-icon" viewBox="0 0 12 16" version="1.1" width="12" height="16" aria-hidden="true"><path fill-rule="evenodd" d="M12 5l-8 8-4-4 1.5-1.5L4 10l6.5-6.5L12 5z"/></svg>
              <span class="select-menu-item-text css-truncate-target js-select-menu-filter-text">
                PUBDEV-5614
              </span>
            </a>
            <a class="select-menu-item js-navigation-item js-navigation-open "
               href="/h2oai/h2o-3/blob/PUBDEV-5622-relwright/h2o-py/demos/glrm_census_large.ipynb"
               data-name="PUBDEV-5622-relwright"
               data-skip-pjax="true"
               rel="nofollow">
              <svg class="octicon octicon-check select-menu-item-icon" viewBox="0 0 12 16" version="1.1" width="12" height="16" aria-hidden="true"><path fill-rule="evenodd" d="M12 5l-8 8-4-4 1.5-1.5L4 10l6.5-6.5L12 5z"/></svg>
              <span class="select-menu-item-text css-truncate-target js-select-menu-filter-text">
                PUBDEV-5622-relwright
              </span>
            </a>
            <a class="select-menu-item js-navigation-item js-navigation-open "
               href="/h2oai/h2o-3/blob/PUBDEV-5634_master/h2o-py/demos/glrm_census_large.ipynb"
               data-name="PUBDEV-5634_master"
               data-skip-pjax="true"
               rel="nofollow">
              <svg class="octicon octicon-check select-menu-item-icon" viewBox="0 0 12 16" version="1.1" width="12" height="16" aria-hidden="true"><path fill-rule="evenodd" d="M12 5l-8 8-4-4 1.5-1.5L4 10l6.5-6.5L12 5z"/></svg>
              <span class="select-menu-item-text css-truncate-target js-select-menu-filter-text">
                PUBDEV-5634_master
              </span>
            </a>
            <a class="select-menu-item js-navigation-item js-navigation-open "
               href="/h2oai/h2o-3/blob/PUBDEV-5634/h2o-py/demos/glrm_census_large.ipynb"
               data-name="PUBDEV-5634"
               data-skip-pjax="true"
               rel="nofollow">
              <svg class="octicon octicon-check select-menu-item-icon" viewBox="0 0 12 16" version="1.1" width="12" height="16" aria-hidden="true"><path fill-rule="evenodd" d="M12 5l-8 8-4-4 1.5-1.5L4 10l6.5-6.5L12 5z"/></svg>
              <span class="select-menu-item-text css-truncate-target js-select-menu-filter-text">
                PUBDEV-5634
              </span>
            </a>
            <a class="select-menu-item js-navigation-item js-navigation-open "
               href="/h2oai/h2o-3/blob/PUBDEV-5635_master/h2o-py/demos/glrm_census_large.ipynb"
               data-name="PUBDEV-5635_master"
               data-skip-pjax="true"
               rel="nofollow">
              <svg class="octicon octicon-check select-menu-item-icon" viewBox="0 0 12 16" version="1.1" width="12" height="16" aria-hidden="true"><path fill-rule="evenodd" d="M12 5l-8 8-4-4 1.5-1.5L4 10l6.5-6.5L12 5z"/></svg>
              <span class="select-menu-item-text css-truncate-target js-select-menu-filter-text">
                PUBDEV-5635_master
              </span>
            </a>
            <a class="select-menu-item js-navigation-item js-navigation-open "
               href="/h2oai/h2o-3/blob/PUBDEV-5635_wright/h2o-py/demos/glrm_census_large.ipynb"
               data-name="PUBDEV-5635_wright"
               data-skip-pjax="true"
               rel="nofollow">
              <svg class="octicon octicon-check select-menu-item-icon" viewBox="0 0 12 16" version="1.1" width="12" height="16" aria-hidden="true"><path fill-rule="evenodd" d="M12 5l-8 8-4-4 1.5-1.5L4 10l6.5-6.5L12 5z"/></svg>
              <span class="select-menu-item-text css-truncate-target js-select-menu-filter-text">
                PUBDEV-5635_wright
              </span>
            </a>
            <a class="select-menu-item js-navigation-item js-navigation-open "
               href="/h2oai/h2o-3/blob/PUBDEV-5649/h2o-py/demos/glrm_census_large.ipynb"
               data-name="PUBDEV-5649"
               data-skip-pjax="true"
               rel="nofollow">
              <svg class="octicon octicon-check select-menu-item-icon" viewBox="0 0 12 16" version="1.1" width="12" height="16" aria-hidden="true"><path fill-rule="evenodd" d="M12 5l-8 8-4-4 1.5-1.5L4 10l6.5-6.5L12 5z"/></svg>
              <span class="select-menu-item-text css-truncate-target js-select-menu-filter-text">
                PUBDEV-5649
              </span>
            </a>
            <a class="select-menu-item js-navigation-item js-navigation-open "
               href="/h2oai/h2o-3/blob/PUBDEV-5650-newchunk-mb/h2o-py/demos/glrm_census_large.ipynb"
               data-name="PUBDEV-5650-newchunk-mb"
               data-skip-pjax="true"
               rel="nofollow">
              <svg class="octicon octicon-check select-menu-item-icon" viewBox="0 0 12 16" version="1.1" width="12" height="16" aria-hidden="true"><path fill-rule="evenodd" d="M12 5l-8 8-4-4 1.5-1.5L4 10l6.5-6.5L12 5z"/></svg>
              <span class="select-menu-item-text css-truncate-target js-select-menu-filter-text">
                PUBDEV-5650-newchunk-mb
              </span>
            </a>
            <a class="select-menu-item js-navigation-item js-navigation-open "
               href="/h2oai/h2o-3/blob/PUBDEV-5650-newchunk-timing-test/h2o-py/demos/glrm_census_large.ipynb"
               data-name="PUBDEV-5650-newchunk-timing-test"
               data-skip-pjax="true"
               rel="nofollow">
              <svg class="octicon octicon-check select-menu-item-icon" viewBox="0 0 12 16" version="1.1" width="12" height="16" aria-hidden="true"><path fill-rule="evenodd" d="M12 5l-8 8-4-4 1.5-1.5L4 10l6.5-6.5L12 5z"/></svg>
              <span class="select-menu-item-text css-truncate-target js-select-menu-filter-text">
                PUBDEV-5650-newchunk-timing-test
              </span>
            </a>
            <a class="select-menu-item js-navigation-item js-navigation-open "
               href="/h2oai/h2o-3/blob/PUBDEV_5008_ordinal_glm_GD/h2o-py/demos/glrm_census_large.ipynb"
               data-name="PUBDEV_5008_ordinal_glm_GD"
               data-skip-pjax="true"
               rel="nofollow">
              <svg class="octicon octicon-check select-menu-item-icon" viewBox="0 0 12 16" version="1.1" width="12" height="16" aria-hidden="true"><path fill-rule="evenodd" d="M12 5l-8 8-4-4 1.5-1.5L4 10l6.5-6.5L12 5z"/></svg>
              <span class="select-menu-item-text css-truncate-target js-select-menu-filter-text">
                PUBDEV_5008_ordinal_glm_GD
              </span>
            </a>
            <a class="select-menu-item js-navigation-item js-navigation-open "
               href="/h2oai/h2o-3/blob/PUBDEV_5008_ordinal_glm_wendy/h2o-py/demos/glrm_census_large.ipynb"
               data-name="PUBDEV_5008_ordinal_glm_wendy"
               data-skip-pjax="true"
               rel="nofollow">
              <svg class="octicon octicon-check select-menu-item-icon" viewBox="0 0 12 16" version="1.1" width="12" height="16" aria-hidden="true"><path fill-rule="evenodd" d="M12 5l-8 8-4-4 1.5-1.5L4 10l6.5-6.5L12 5z"/></svg>
              <span class="select-menu-item-text css-truncate-target js-select-menu-filter-text">
                PUBDEV_5008_ordinal_glm_wendy
              </span>
            </a>
            <a class="select-menu-item js-navigation-item js-navigation-open "
               href="/h2oai/h2o-3/blob/PUBDEV_5008_ordinal_glm/h2o-py/demos/glrm_census_large.ipynb"
               data-name="PUBDEV_5008_ordinal_glm"
               data-skip-pjax="true"
               rel="nofollow">
              <svg class="octicon octicon-check select-menu-item-icon" viewBox="0 0 12 16" version="1.1" width="12" height="16" aria-hidden="true"><path fill-rule="evenodd" d="M12 5l-8 8-4-4 1.5-1.5L4 10l6.5-6.5L12 5z"/></svg>
              <span class="select-menu-item-text css-truncate-target js-select-menu-filter-text">
                PUBDEV_5008_ordinal_glm
              </span>
            </a>
            <a class="select-menu-item js-navigation-item js-navigation-open "
               href="/h2oai/h2o-3/blob/RiceBranch/h2o-py/demos/glrm_census_large.ipynb"
               data-name="RiceBranch"
               data-skip-pjax="true"
               rel="nofollow">
              <svg class="octicon octicon-check select-menu-item-icon" viewBox="0 0 12 16" version="1.1" width="12" height="16" aria-hidden="true"><path fill-rule="evenodd" d="M12 5l-8 8-4-4 1.5-1.5L4 10l6.5-6.5L12 5z"/></svg>
              <span class="select-menu-item-text css-truncate-target js-select-menu-filter-text">
                RiceBranch
              </span>
            </a>
            <a class="select-menu-item js-navigation-item js-navigation-open "
               href="/h2oai/h2o-3/blob/SO_deeplearning_parameter/h2o-py/demos/glrm_census_large.ipynb"
               data-name="SO_deeplearning_parameter"
               data-skip-pjax="true"
               rel="nofollow">
              <svg class="octicon octicon-check select-menu-item-icon" viewBox="0 0 12 16" version="1.1" width="12" height="16" aria-hidden="true"><path fill-rule="evenodd" d="M12 5l-8 8-4-4 1.5-1.5L4 10l6.5-6.5L12 5z"/></svg>
              <span class="select-menu-item-text css-truncate-target js-select-menu-filter-text">
                SO_deeplearning_parameter
              </span>
            </a>
            <a class="select-menu-item js-navigation-item js-navigation-open "
               href="/h2oai/h2o-3/blob/STN_public/h2o-py/demos/glrm_census_large.ipynb"
               data-name="STN_public"
               data-skip-pjax="true"
               rel="nofollow">
              <svg class="octicon octicon-check select-menu-item-icon" viewBox="0 0 12 16" version="1.1" width="12" height="16" aria-hidden="true"><path fill-rule="evenodd" d="M12 5l-8 8-4-4 1.5-1.5L4 10l6.5-6.5L12 5z"/></svg>
              <span class="select-menu-item-text css-truncate-target js-select-menu-filter-text">
                STN_public
              </span>
            </a>
            <a class="select-menu-item js-navigation-item js-navigation-open "
               href="/h2oai/h2o-3/blob/UG_Epic/h2o-py/demos/glrm_census_large.ipynb"
               data-name="UG_Epic"
               data-skip-pjax="true"
               rel="nofollow">
              <svg class="octicon octicon-check select-menu-item-icon" viewBox="0 0 12 16" version="1.1" width="12" height="16" aria-hidden="true"><path fill-rule="evenodd" d="M12 5l-8 8-4-4 1.5-1.5L4 10l6.5-6.5L12 5z"/></svg>
              <span class="select-menu-item-text css-truncate-target js-select-menu-filter-text">
                UG_Epic
              </span>
            </a>
            <a class="select-menu-item js-navigation-item js-navigation-open "
               href="/h2oai/h2o-3/blob/abal-mapr52/h2o-py/demos/glrm_census_large.ipynb"
               data-name="abal-mapr52"
               data-skip-pjax="true"
               rel="nofollow">
              <svg class="octicon octicon-check select-menu-item-icon" viewBox="0 0 12 16" version="1.1" width="12" height="16" aria-hidden="true"><path fill-rule="evenodd" d="M12 5l-8 8-4-4 1.5-1.5L4 10l6.5-6.5L12 5z"/></svg>
              <span class="select-menu-item-text css-truncate-target js-select-menu-filter-text">
                abal-mapr52
              </span>
            </a>
            <a class="select-menu-item js-navigation-item js-navigation-open "
               href="/h2oai/h2o-3/blob/aboyoun_coxph_helpers/h2o-py/demos/glrm_census_large.ipynb"
               data-name="aboyoun_coxph_helpers"
               data-skip-pjax="true"
               rel="nofollow">
              <svg class="octicon octicon-check select-menu-item-icon" viewBox="0 0 12 16" version="1.1" width="12" height="16" aria-hidden="true"><path fill-rule="evenodd" d="M12 5l-8 8-4-4 1.5-1.5L4 10l6.5-6.5L12 5z"/></svg>
              <span class="select-menu-item-text css-truncate-target js-select-menu-filter-text">
                aboyoun_coxph_helpers
              </span>
            </a>
            <a class="select-menu-item js-navigation-item js-navigation-open "
               href="/h2oai/h2o-3/blob/aboyoun_survfit/h2o-py/demos/glrm_census_large.ipynb"
               data-name="aboyoun_survfit"
               data-skip-pjax="true"
               rel="nofollow">
              <svg class="octicon octicon-check select-menu-item-icon" viewBox="0 0 12 16" version="1.1" width="12" height="16" aria-hidden="true"><path fill-rule="evenodd" d="M12 5l-8 8-4-4 1.5-1.5L4 10l6.5-6.5L12 5z"/></svg>
              <span class="select-menu-item-text css-truncate-target js-select-menu-filter-text">
                aboyoun_survfit
              </span>
            </a>
            <a class="select-menu-item js-navigation-item js-navigation-open "
               href="/h2oai/h2o-3/blob/add-hdp26/h2o-py/demos/glrm_census_large.ipynb"
               data-name="add-hdp26"
               data-skip-pjax="true"
               rel="nofollow">
              <svg class="octicon octicon-check select-menu-item-icon" viewBox="0 0 12 16" version="1.1" width="12" height="16" aria-hidden="true"><path fill-rule="evenodd" d="M12 5l-8 8-4-4 1.5-1.5L4 10l6.5-6.5L12 5z"/></svg>
              <span class="select-menu-item-text css-truncate-target js-select-menu-filter-text">
                add-hdp26
              </span>
            </a>
            <a class="select-menu-item js-navigation-item js-navigation-open "
               href="/h2oai/h2o-3/blob/add-word2vec-algo-to-flow/h2o-py/demos/glrm_census_large.ipynb"
               data-name="add-word2vec-algo-to-flow"
               data-skip-pjax="true"
               rel="nofollow">
              <svg class="octicon octicon-check select-menu-item-icon" viewBox="0 0 12 16" version="1.1" width="12" height="16" aria-hidden="true"><path fill-rule="evenodd" d="M12 5l-8 8-4-4 1.5-1.5L4 10l6.5-6.5L12 5z"/></svg>
              <span class="select-menu-item-text css-truncate-target js-select-menu-filter-text">
                add-word2vec-algo-to-flow
              </span>
            </a>
            <a class="select-menu-item js-navigation-item js-navigation-open "
               href="/h2oai/h2o-3/blob/addGLRMGBMmojo_example/h2o-py/demos/glrm_census_large.ipynb"
               data-name="addGLRMGBMmojo_example"
               data-skip-pjax="true"
               rel="nofollow">
              <svg class="octicon octicon-check select-menu-item-icon" viewBox="0 0 12 16" version="1.1" width="12" height="16" aria-hidden="true"><path fill-rule="evenodd" d="M12 5l-8 8-4-4 1.5-1.5L4 10l6.5-6.5L12 5z"/></svg>
              <span class="select-menu-item-text css-truncate-target js-select-menu-filter-text">
                addGLRMGBMmojo_example
              </span>
            </a>
            <a class="select-menu-item js-navigation-item js-navigation-open "
               href="/h2oai/h2o-3/blob/addGridR/h2o-py/demos/glrm_census_large.ipynb"
               data-name="addGridR"
               data-skip-pjax="true"
               rel="nofollow">
              <svg class="octicon octicon-check select-menu-item-icon" viewBox="0 0 12 16" version="1.1" width="12" height="16" aria-hidden="true"><path fill-rule="evenodd" d="M12 5l-8 8-4-4 1.5-1.5L4 10l6.5-6.5L12 5z"/></svg>
              <span class="select-menu-item-text css-truncate-target js-select-menu-filter-text">
                addGridR
              </span>
            </a>
            <a class="select-menu-item js-navigation-item js-navigation-open "
               href="/h2oai/h2o-3/blob/amy_jenkins/h2o-py/demos/glrm_census_large.ipynb"
               data-name="amy_jenkins"
               data-skip-pjax="true"
               rel="nofollow">
              <svg class="octicon octicon-check select-menu-item-icon" viewBox="0 0 12 16" version="1.1" width="12" height="16" aria-hidden="true"><path fill-rule="evenodd" d="M12 5l-8 8-4-4 1.5-1.5L4 10l6.5-6.5L12 5z"/></svg>
              <span class="select-menu-item-text css-truncate-target js-select-menu-filter-text">
                amy_jenkins
              </span>
            </a>
            <a class="select-menu-item js-navigation-item js-navigation-open "
               href="/h2oai/h2o-3/blob/angela-doc-site-updates/h2o-py/demos/glrm_census_large.ipynb"
               data-name="angela-doc-site-updates"
               data-skip-pjax="true"
               rel="nofollow">
              <svg class="octicon octicon-check select-menu-item-icon" viewBox="0 0 12 16" version="1.1" width="12" height="16" aria-hidden="true"><path fill-rule="evenodd" d="M12 5l-8 8-4-4 1.5-1.5L4 10l6.5-6.5L12 5z"/></svg>
              <span class="select-menu-item-text css-truncate-target js-select-menu-filter-text">
                angela-doc-site-updates
              </span>
            </a>
            <a class="select-menu-item js-navigation-item js-navigation-open "
               href="/h2oai/h2o-3/blob/angela-docs/h2o-py/demos/glrm_census_large.ipynb"
               data-name="angela-docs"
               data-skip-pjax="true"
               rel="nofollow">
              <svg class="octicon octicon-check select-menu-item-icon" viewBox="0 0 12 16" version="1.1" width="12" height="16" aria-hidden="true"><path fill-rule="evenodd" d="M12 5l-8 8-4-4 1.5-1.5L4 10l6.5-6.5L12 5z"/></svg>
              <span class="select-menu-item-text css-truncate-target js-select-menu-filter-text">
                angela-docs
              </span>
            </a>
            <a class="select-menu-item js-navigation-item js-navigation-open "
               href="/h2oai/h2o-3/blob/angela_jenkins/h2o-py/demos/glrm_census_large.ipynb"
               data-name="angela_jenkins"
               data-skip-pjax="true"
               rel="nofollow">
              <svg class="octicon octicon-check select-menu-item-icon" viewBox="0 0 12 16" version="1.1" width="12" height="16" aria-hidden="true"><path fill-rule="evenodd" d="M12 5l-8 8-4-4 1.5-1.5L4 10l6.5-6.5L12 5z"/></svg>
              <span class="select-menu-item-text css-truncate-target js-select-menu-filter-text">
                angela_jenkins
              </span>
            </a>
            <a class="select-menu-item js-navigation-item js-navigation-open "
               href="/h2oai/h2o-3/blob/anisha_jenkins/h2o-py/demos/glrm_census_large.ipynb"
               data-name="anisha_jenkins"
               data-skip-pjax="true"
               rel="nofollow">
              <svg class="octicon octicon-check select-menu-item-icon" viewBox="0 0 12 16" version="1.1" width="12" height="16" aria-hidden="true"><path fill-rule="evenodd" d="M12 5l-8 8-4-4 1.5-1.5L4 10l6.5-6.5L12 5z"/></svg>
              <span class="select-menu-item-text css-truncate-target js-select-menu-filter-text">
                anisha_jenkins
              </span>
            </a>
            <a class="select-menu-item js-navigation-item js-navigation-open "
               href="/h2oai/h2o-3/blob/anisha_visual_tree/h2o-py/demos/glrm_census_large.ipynb"
               data-name="anisha_visual_tree"
               data-skip-pjax="true"
               rel="nofollow">
              <svg class="octicon octicon-check select-menu-item-icon" viewBox="0 0 12 16" version="1.1" width="12" height="16" aria-hidden="true"><path fill-rule="evenodd" d="M12 5l-8 8-4-4 1.5-1.5L4 10l6.5-6.5L12 5z"/></svg>
              <span class="select-menu-item-text css-truncate-target js-select-menu-filter-text">
                anisha_visual_tree
              </span>
            </a>
            <a class="select-menu-item js-navigation-item js-navigation-open "
               href="/h2oai/h2o-3/blob/anmol-pr-test/h2o-py/demos/glrm_census_large.ipynb"
               data-name="anmol-pr-test"
               data-skip-pjax="true"
               rel="nofollow">
              <svg class="octicon octicon-check select-menu-item-icon" viewBox="0 0 12 16" version="1.1" width="12" height="16" aria-hidden="true"><path fill-rule="evenodd" d="M12 5l-8 8-4-4 1.5-1.5L4 10l6.5-6.5L12 5z"/></svg>
              <span class="select-menu-item-text css-truncate-target js-select-menu-filter-text">
                anmol-pr-test
              </span>
            </a>
            <a class="select-menu-item js-navigation-item js-navigation-open "
               href="/h2oai/h2o-3/blob/anqi-enum/h2o-py/demos/glrm_census_large.ipynb"
               data-name="anqi-enum"
               data-skip-pjax="true"
               rel="nofollow">
              <svg class="octicon octicon-check select-menu-item-icon" viewBox="0 0 12 16" version="1.1" width="12" height="16" aria-hidden="true"><path fill-rule="evenodd" d="M12 5l-8 8-4-4 1.5-1.5L4 10l6.5-6.5L12 5z"/></svg>
              <span class="select-menu-item-text css-truncate-target js-select-menu-filter-text">
                anqi-enum
              </span>
            </a>
            <a class="select-menu-item js-navigation-item js-navigation-open "
               href="/h2oai/h2o-3/blob/anqi-glrm/h2o-py/demos/glrm_census_large.ipynb"
               data-name="anqi-glrm"
               data-skip-pjax="true"
               rel="nofollow">
              <svg class="octicon octicon-check select-menu-item-icon" viewBox="0 0 12 16" version="1.1" width="12" height="16" aria-hidden="true"><path fill-rule="evenodd" d="M12 5l-8 8-4-4 1.5-1.5L4 10l6.5-6.5L12 5z"/></svg>
              <span class="select-menu-item-text css-truncate-target js-select-menu-filter-text">
                anqi-glrm
              </span>
            </a>
            <a class="select-menu-item js-navigation-item js-navigation-open "
               href="/h2oai/h2o-3/blob/anqi-kmeans/h2o-py/demos/glrm_census_large.ipynb"
               data-name="anqi-kmeans"
               data-skip-pjax="true"
               rel="nofollow">
              <svg class="octicon octicon-check select-menu-item-icon" viewBox="0 0 12 16" version="1.1" width="12" height="16" aria-hidden="true"><path fill-rule="evenodd" d="M12 5l-8 8-4-4 1.5-1.5L4 10l6.5-6.5L12 5z"/></svg>
              <span class="select-menu-item-text css-truncate-target js-select-menu-filter-text">
                anqi-kmeans
              </span>
            </a>
            <a class="select-menu-item js-navigation-item js-navigation-open "
               href="/h2oai/h2o-3/blob/anqi-nbayes/h2o-py/demos/glrm_census_large.ipynb"
               data-name="anqi-nbayes"
               data-skip-pjax="true"
               rel="nofollow">
              <svg class="octicon octicon-check select-menu-item-icon" viewBox="0 0 12 16" version="1.1" width="12" height="16" aria-hidden="true"><path fill-rule="evenodd" d="M12 5l-8 8-4-4 1.5-1.5L4 10l6.5-6.5L12 5z"/></svg>
              <span class="select-menu-item-text css-truncate-target js-select-menu-filter-text">
                anqi-nbayes
              </span>
            </a>
            <a class="select-menu-item js-navigation-item js-navigation-open "
               href="/h2oai/h2o-3/blob/anqi_jenkins/h2o-py/demos/glrm_census_large.ipynb"
               data-name="anqi_jenkins"
               data-skip-pjax="true"
               rel="nofollow">
              <svg class="octicon octicon-check select-menu-item-icon" viewBox="0 0 12 16" version="1.1" width="12" height="16" aria-hidden="true"><path fill-rule="evenodd" d="M12 5l-8 8-4-4 1.5-1.5L4 10l6.5-6.5L12 5z"/></svg>
              <span class="select-menu-item-text css-truncate-target js-select-menu-filter-text">
                anqi_jenkins
              </span>
            </a>
            <a class="select-menu-item js-navigation-item js-navigation-open "
               href="/h2oai/h2o-3/blob/arno-aggreator/h2o-py/demos/glrm_census_large.ipynb"
               data-name="arno-aggreator"
               data-skip-pjax="true"
               rel="nofollow">
              <svg class="octicon octicon-check select-menu-item-icon" viewBox="0 0 12 16" version="1.1" width="12" height="16" aria-hidden="true"><path fill-rule="evenodd" d="M12 5l-8 8-4-4 1.5-1.5L4 10l6.5-6.5L12 5z"/></svg>
              <span class="select-menu-item-text css-truncate-target js-select-menu-filter-text">
                arno-aggreator
              </span>
            </a>
            <a class="select-menu-item js-navigation-item js-navigation-open "
               href="/h2oai/h2o-3/blob/arno-aggregator/h2o-py/demos/glrm_census_large.ipynb"
               data-name="arno-aggregator"
               data-skip-pjax="true"
               rel="nofollow">
              <svg class="octicon octicon-check select-menu-item-icon" viewBox="0 0 12 16" version="1.1" width="12" height="16" aria-hidden="true"><path fill-rule="evenodd" d="M12 5l-8 8-4-4 1.5-1.5L4 10l6.5-6.5L12 5z"/></svg>
              <span class="select-menu-item-text css-truncate-target js-select-menu-filter-text">
                arno-aggregator
              </span>
            </a>
            <a class="select-menu-item js-navigation-item js-navigation-open "
               href="/h2oai/h2o-3/blob/arno-automl-xgboost-deepwater/h2o-py/demos/glrm_census_large.ipynb"
               data-name="arno-automl-xgboost-deepwater"
               data-skip-pjax="true"
               rel="nofollow">
              <svg class="octicon octicon-check select-menu-item-icon" viewBox="0 0 12 16" version="1.1" width="12" height="16" aria-hidden="true"><path fill-rule="evenodd" d="M12 5l-8 8-4-4 1.5-1.5L4 10l6.5-6.5L12 5z"/></svg>
              <span class="select-menu-item-text css-truncate-target js-select-menu-filter-text">
                arno-automl-xgboost-deepwater
              </span>
            </a>
            <a class="select-menu-item js-navigation-item js-navigation-open "
               href="/h2oai/h2o-3/blob/arno-catencoding/h2o-py/demos/glrm_census_large.ipynb"
               data-name="arno-catencoding"
               data-skip-pjax="true"
               rel="nofollow">
              <svg class="octicon octicon-check select-menu-item-icon" viewBox="0 0 12 16" version="1.1" width="12" height="16" aria-hidden="true"><path fill-rule="evenodd" d="M12 5l-8 8-4-4 1.5-1.5L4 10l6.5-6.5L12 5z"/></svg>
              <span class="select-menu-item-text css-truncate-target js-select-menu-filter-text">
                arno-catencoding
              </span>
            </a>
            <a class="select-menu-item js-navigation-item js-navigation-open "
               href="/h2oai/h2o-3/blob/arno-dart/h2o-py/demos/glrm_census_large.ipynb"
               data-name="arno-dart"
               data-skip-pjax="true"
               rel="nofollow">
              <svg class="octicon octicon-check select-menu-item-icon" viewBox="0 0 12 16" version="1.1" width="12" height="16" aria-hidden="true"><path fill-rule="evenodd" d="M12 5l-8 8-4-4 1.5-1.5L4 10l6.5-6.5L12 5z"/></svg>
              <span class="select-menu-item-text css-truncate-target js-select-menu-filter-text">
                arno-dart
              </span>
            </a>
            <a class="select-menu-item js-navigation-item js-navigation-open "
               href="/h2oai/h2o-3/blob/arno-fix-chunkvisitor/h2o-py/demos/glrm_census_large.ipynb"
               data-name="arno-fix-chunkvisitor"
               data-skip-pjax="true"
               rel="nofollow">
              <svg class="octicon octicon-check select-menu-item-icon" viewBox="0 0 12 16" version="1.1" width="12" height="16" aria-hidden="true"><path fill-rule="evenodd" d="M12 5l-8 8-4-4 1.5-1.5L4 10l6.5-6.5L12 5z"/></svg>
              <span class="select-menu-item-text css-truncate-target js-select-menu-filter-text">
                arno-fix-chunkvisitor
              </span>
            </a>
            <a class="select-menu-item js-navigation-item js-navigation-open "
               href="/h2oai/h2o-3/blob/arno-lstm/h2o-py/demos/glrm_census_large.ipynb"
               data-name="arno-lstm"
               data-skip-pjax="true"
               rel="nofollow">
              <svg class="octicon octicon-check select-menu-item-icon" viewBox="0 0 12 16" version="1.1" width="12" height="16" aria-hidden="true"><path fill-rule="evenodd" d="M12 5l-8 8-4-4 1.5-1.5L4 10l6.5-6.5L12 5z"/></svg>
              <span class="select-menu-item-text css-truncate-target js-select-menu-filter-text">
                arno-lstm
              </span>
            </a>
            <a class="select-menu-item js-navigation-item js-navigation-open "
               href="/h2oai/h2o-3/blob/arno-pubdev5082/h2o-py/demos/glrm_census_large.ipynb"
               data-name="arno-pubdev5082"
               data-skip-pjax="true"
               rel="nofollow">
              <svg class="octicon octicon-check select-menu-item-icon" viewBox="0 0 12 16" version="1.1" width="12" height="16" aria-hidden="true"><path fill-rule="evenodd" d="M12 5l-8 8-4-4 1.5-1.5L4 10l6.5-6.5L12 5z"/></svg>
              <span class="select-menu-item-text css-truncate-target js-select-menu-filter-text">
                arno-pubdev5082
              </span>
            </a>
            <a class="select-menu-item js-navigation-item js-navigation-open "
               href="/h2oai/h2o-3/blob/arno-tree-regularization/h2o-py/demos/glrm_census_large.ipynb"
               data-name="arno-tree-regularization"
               data-skip-pjax="true"
               rel="nofollow">
              <svg class="octicon octicon-check select-menu-item-icon" viewBox="0 0 12 16" version="1.1" width="12" height="16" aria-hidden="true"><path fill-rule="evenodd" d="M12 5l-8 8-4-4 1.5-1.5L4 10l6.5-6.5L12 5z"/></svg>
              <span class="select-menu-item-text css-truncate-target js-select-menu-filter-text">
                arno-tree-regularization
              </span>
            </a>
            <a class="select-menu-item js-navigation-item js-navigation-open "
               href="/h2oai/h2o-3/blob/arno-xgboost-params/h2o-py/demos/glrm_census_large.ipynb"
               data-name="arno-xgboost-params"
               data-skip-pjax="true"
               rel="nofollow">
              <svg class="octicon octicon-check select-menu-item-icon" viewBox="0 0 12 16" version="1.1" width="12" height="16" aria-hidden="true"><path fill-rule="evenodd" d="M12 5l-8 8-4-4 1.5-1.5L4 10l6.5-6.5L12 5z"/></svg>
              <span class="select-menu-item-text css-truncate-target js-select-menu-filter-text">
                arno-xgboost-params
              </span>
            </a>
            <a class="select-menu-item js-navigation-item js-navigation-open "
               href="/h2oai/h2o-3/blob/arno-xgboost/h2o-py/demos/glrm_census_large.ipynb"
               data-name="arno-xgboost"
               data-skip-pjax="true"
               rel="nofollow">
              <svg class="octicon octicon-check select-menu-item-icon" viewBox="0 0 12 16" version="1.1" width="12" height="16" aria-hidden="true"><path fill-rule="evenodd" d="M12 5l-8 8-4-4 1.5-1.5L4 10l6.5-6.5L12 5z"/></svg>
              <span class="select-menu-item-text css-truncate-target js-select-menu-filter-text">
                arno-xgboost
              </span>
            </a>
            <a class="select-menu-item js-navigation-item js-navigation-open "
               href="/h2oai/h2o-3/blob/arno_compress/h2o-py/demos/glrm_census_large.ipynb"
               data-name="arno_compress"
               data-skip-pjax="true"
               rel="nofollow">
              <svg class="octicon octicon-check select-menu-item-icon" viewBox="0 0 12 16" version="1.1" width="12" height="16" aria-hidden="true"><path fill-rule="evenodd" d="M12 5l-8 8-4-4 1.5-1.5L4 10l6.5-6.5L12 5z"/></svg>
              <span class="select-menu-item-text css-truncate-target js-select-menu-filter-text">
                arno_compress
              </span>
            </a>
            <a class="select-menu-item js-navigation-item js-navigation-open "
               href="/h2oai/h2o-3/blob/arno_gbm_adadelta/h2o-py/demos/glrm_census_large.ipynb"
               data-name="arno_gbm_adadelta"
               data-skip-pjax="true"
               rel="nofollow">
              <svg class="octicon octicon-check select-menu-item-icon" viewBox="0 0 12 16" version="1.1" width="12" height="16" aria-hidden="true"><path fill-rule="evenodd" d="M12 5l-8 8-4-4 1.5-1.5L4 10l6.5-6.5L12 5z"/></svg>
              <span class="select-menu-item-text css-truncate-target js-select-menu-filter-text">
                arno_gbm_adadelta
              </span>
            </a>
            <a class="select-menu-item js-navigation-item js-navigation-open "
               href="/h2oai/h2o-3/blob/arno_gbm_chunk_visitor_compressed/h2o-py/demos/glrm_census_large.ipynb"
               data-name="arno_gbm_chunk_visitor_compressed"
               data-skip-pjax="true"
               rel="nofollow">
              <svg class="octicon octicon-check select-menu-item-icon" viewBox="0 0 12 16" version="1.1" width="12" height="16" aria-hidden="true"><path fill-rule="evenodd" d="M12 5l-8 8-4-4 1.5-1.5L4 10l6.5-6.5L12 5z"/></svg>
              <span class="select-menu-item-text css-truncate-target js-select-menu-filter-text">
                arno_gbm_chunk_visitor_compressed
              </span>
            </a>
            <a class="select-menu-item js-navigation-item js-navigation-open "
               href="/h2oai/h2o-3/blob/arno_gbm_chunk_visitor/h2o-py/demos/glrm_census_large.ipynb"
               data-name="arno_gbm_chunk_visitor"
               data-skip-pjax="true"
               rel="nofollow">
              <svg class="octicon octicon-check select-menu-item-icon" viewBox="0 0 12 16" version="1.1" width="12" height="16" aria-hidden="true"><path fill-rule="evenodd" d="M12 5l-8 8-4-4 1.5-1.5L4 10l6.5-6.5L12 5z"/></svg>
              <span class="select-menu-item-text css-truncate-target js-select-menu-filter-text">
                arno_gbm_chunk_visitor
              </span>
            </a>
            <a class="select-menu-item js-navigation-item js-navigation-open "
               href="/h2oai/h2o-3/blob/arno_gbm_histo/h2o-py/demos/glrm_census_large.ipynb"
               data-name="arno_gbm_histo"
               data-skip-pjax="true"
               rel="nofollow">
              <svg class="octicon octicon-check select-menu-item-icon" viewBox="0 0 12 16" version="1.1" width="12" height="16" aria-hidden="true"><path fill-rule="evenodd" d="M12 5l-8 8-4-4 1.5-1.5L4 10l6.5-6.5L12 5z"/></svg>
              <span class="select-menu-item-text css-truncate-target js-select-menu-filter-text">
                arno_gbm_histo
              </span>
            </a>
            <a class="select-menu-item js-navigation-item js-navigation-open "
               href="/h2oai/h2o-3/blob/arno_gbm/h2o-py/demos/glrm_census_large.ipynb"
               data-name="arno_gbm"
               data-skip-pjax="true"
               rel="nofollow">
              <svg class="octicon octicon-check select-menu-item-icon" viewBox="0 0 12 16" version="1.1" width="12" height="16" aria-hidden="true"><path fill-rule="evenodd" d="M12 5l-8 8-4-4 1.5-1.5L4 10l6.5-6.5L12 5z"/></svg>
              <span class="select-menu-item-text css-truncate-target js-select-menu-filter-text">
                arno_gbm
              </span>
            </a>
            <a class="select-menu-item js-navigation-item js-navigation-open "
               href="/h2oai/h2o-3/blob/arno_huberized/h2o-py/demos/glrm_census_large.ipynb"
               data-name="arno_huberized"
               data-skip-pjax="true"
               rel="nofollow">
              <svg class="octicon octicon-check select-menu-item-icon" viewBox="0 0 12 16" version="1.1" width="12" height="16" aria-hidden="true"><path fill-rule="evenodd" d="M12 5l-8 8-4-4 1.5-1.5L4 10l6.5-6.5L12 5z"/></svg>
              <span class="select-menu-item-text css-truncate-target js-select-menu-filter-text">
                arno_huberized
              </span>
            </a>
            <a class="select-menu-item js-navigation-item js-navigation-open "
               href="/h2oai/h2o-3/blob/arno_jenkins/h2o-py/demos/glrm_census_large.ipynb"
               data-name="arno_jenkins"
               data-skip-pjax="true"
               rel="nofollow">
              <svg class="octicon octicon-check select-menu-item-icon" viewBox="0 0 12 16" version="1.1" width="12" height="16" aria-hidden="true"><path fill-rule="evenodd" d="M12 5l-8 8-4-4 1.5-1.5L4 10l6.5-6.5L12 5z"/></svg>
              <span class="select-menu-item-text css-truncate-target js-select-menu-filter-text">
                arno_jenkins
              </span>
            </a>
            <a class="select-menu-item js-navigation-item js-navigation-open "
               href="/h2oai/h2o-3/blob/as.h2o.data.frame-use-fwrite/h2o-py/demos/glrm_census_large.ipynb"
               data-name="as.h2o.data.frame-use-fwrite"
               data-skip-pjax="true"
               rel="nofollow">
              <svg class="octicon octicon-check select-menu-item-icon" viewBox="0 0 12 16" version="1.1" width="12" height="16" aria-hidden="true"><path fill-rule="evenodd" d="M12 5l-8 8-4-4 1.5-1.5L4 10l6.5-6.5L12 5z"/></svg>
              <span class="select-menu-item-text css-truncate-target js-select-menu-filter-text">
                as.h2o.data.frame-use-fwrite
              </span>
            </a>
            <a class="select-menu-item js-navigation-item js-navigation-open "
               href="/h2oai/h2o-3/blob/as.h2o.data.frame-use-fwrite2/h2o-py/demos/glrm_census_large.ipynb"
               data-name="as.h2o.data.frame-use-fwrite2"
               data-skip-pjax="true"
               rel="nofollow">
              <svg class="octicon octicon-check select-menu-item-icon" viewBox="0 0 12 16" version="1.1" width="12" height="16" aria-hidden="true"><path fill-rule="evenodd" d="M12 5l-8 8-4-4 1.5-1.5L4 10l6.5-6.5L12 5z"/></svg>
              <span class="select-menu-item-text css-truncate-target js-select-menu-filter-text">
                as.h2o.data.frame-use-fwrite2
              </span>
            </a>
            <a class="select-menu-item js-navigation-item js-navigation-open "
               href="/h2oai/h2o-3/blob/ashrith/h2o-py/demos/glrm_census_large.ipynb"
               data-name="ashrith"
               data-skip-pjax="true"
               rel="nofollow">
              <svg class="octicon octicon-check select-menu-item-icon" viewBox="0 0 12 16" version="1.1" width="12" height="16" aria-hidden="true"><path fill-rule="evenodd" d="M12 5l-8 8-4-4 1.5-1.5L4 10l6.5-6.5L12 5z"/></svg>
              <span class="select-menu-item-text css-truncate-target js-select-menu-filter-text">
                ashrith
              </span>
            </a>
            <a class="select-menu-item js-navigation-item js-navigation-open "
               href="/h2oai/h2o-3/blob/atSpencer/h2o-py/demos/glrm_census_large.ipynb"
               data-name="atSpencer"
               data-skip-pjax="true"
               rel="nofollow">
              <svg class="octicon octicon-check select-menu-item-icon" viewBox="0 0 12 16" version="1.1" width="12" height="16" aria-hidden="true"><path fill-rule="evenodd" d="M12 5l-8 8-4-4 1.5-1.5L4 10l6.5-6.5L12 5z"/></svg>
              <span class="select-menu-item-text css-truncate-target js-select-menu-filter-text">
                atSpencer
              </span>
            </a>
            <a class="select-menu-item js-navigation-item js-navigation-open "
               href="/h2oai/h2o-3/blob/auto-gen-r-bindings/h2o-py/demos/glrm_census_large.ipynb"
               data-name="auto-gen-r-bindings"
               data-skip-pjax="true"
               rel="nofollow">
              <svg class="octicon octicon-check select-menu-item-icon" viewBox="0 0 12 16" version="1.1" width="12" height="16" aria-hidden="true"><path fill-rule="evenodd" d="M12 5l-8 8-4-4 1.5-1.5L4 10l6.5-6.5L12 5z"/></svg>
              <span class="select-menu-item-text css-truncate-target js-select-menu-filter-text">
                auto-gen-r-bindings
              </span>
            </a>
            <a class="select-menu-item js-navigation-item js-navigation-open "
               href="/h2oai/h2o-3/blob/avkash_sort_extended/h2o-py/demos/glrm_census_large.ipynb"
               data-name="avkash_sort_extended"
               data-skip-pjax="true"
               rel="nofollow">
              <svg class="octicon octicon-check select-menu-item-icon" viewBox="0 0 12 16" version="1.1" width="12" height="16" aria-hidden="true"><path fill-rule="evenodd" d="M12 5l-8 8-4-4 1.5-1.5L4 10l6.5-6.5L12 5z"/></svg>
              <span class="select-menu-item-text css-truncate-target js-select-menu-filter-text">
                avkash_sort_extended
              </span>
            </a>
            <a class="select-menu-item js-navigation-item js-navigation-open "
               href="/h2oai/h2o-3/blob/backup-rel-shannon/h2o-py/demos/glrm_census_large.ipynb"
               data-name="backup-rel-shannon"
               data-skip-pjax="true"
               rel="nofollow">
              <svg class="octicon octicon-check select-menu-item-icon" viewBox="0 0 12 16" version="1.1" width="12" height="16" aria-hidden="true"><path fill-rule="evenodd" d="M12 5l-8 8-4-4 1.5-1.5L4 10l6.5-6.5L12 5z"/></svg>
              <span class="select-menu-item-text css-truncate-target js-select-menu-filter-text">
                backup-rel-shannon
              </span>
            </a>
            <a class="select-menu-item js-navigation-item js-navigation-open "
               href="/h2oai/h2o-3/blob/beforeADMMseparate/h2o-py/demos/glrm_census_large.ipynb"
               data-name="beforeADMMseparate"
               data-skip-pjax="true"
               rel="nofollow">
              <svg class="octicon octicon-check select-menu-item-icon" viewBox="0 0 12 16" version="1.1" width="12" height="16" aria-hidden="true"><path fill-rule="evenodd" d="M12 5l-8 8-4-4 1.5-1.5L4 10l6.5-6.5L12 5z"/></svg>
              <span class="select-menu-item-text css-truncate-target js-select-menu-filter-text">
                beforeADMMseparate
              </span>
            </a>
            <a class="select-menu-item js-navigation-item js-navigation-open "
               href="/h2oai/h2o-3/blob/bill_jenkins/h2o-py/demos/glrm_census_large.ipynb"
               data-name="bill_jenkins"
               data-skip-pjax="true"
               rel="nofollow">
              <svg class="octicon octicon-check select-menu-item-icon" viewBox="0 0 12 16" version="1.1" width="12" height="16" aria-hidden="true"><path fill-rule="evenodd" d="M12 5l-8 8-4-4 1.5-1.5L4 10l6.5-6.5L12 5z"/></svg>
              <span class="select-menu-item-text css-truncate-target js-select-menu-filter-text">
                bill_jenkins
              </span>
            </a>
            <a class="select-menu-item js-navigation-item js-navigation-open "
               href="/h2oai/h2o-3/blob/brandon-word2vec/h2o-py/demos/glrm_census_large.ipynb"
               data-name="brandon-word2vec"
               data-skip-pjax="true"
               rel="nofollow">
              <svg class="octicon octicon-check select-menu-item-icon" viewBox="0 0 12 16" version="1.1" width="12" height="16" aria-hidden="true"><path fill-rule="evenodd" d="M12 5l-8 8-4-4 1.5-1.5L4 10l6.5-6.5L12 5z"/></svg>
              <span class="select-menu-item-text css-truncate-target js-select-menu-filter-text">
                brandon-word2vec
              </span>
            </a>
            <a class="select-menu-item js-navigation-item js-navigation-open "
               href="/h2oai/h2o-3/blob/bug_AUTOML-165/h2o-py/demos/glrm_census_large.ipynb"
               data-name="bug_AUTOML-165"
               data-skip-pjax="true"
               rel="nofollow">
              <svg class="octicon octicon-check select-menu-item-icon" viewBox="0 0 12 16" version="1.1" width="12" height="16" aria-hidden="true"><path fill-rule="evenodd" d="M12 5l-8 8-4-4 1.5-1.5L4 10l6.5-6.5L12 5z"/></svg>
              <span class="select-menu-item-text css-truncate-target js-select-menu-filter-text">
                bug_AUTOML-165
              </span>
            </a>
            <a class="select-menu-item js-navigation-item js-navigation-open "
               href="/h2oai/h2o-3/blob/bug/PUBDEV-5301/h2o-py/demos/glrm_census_large.ipynb"
               data-name="bug/PUBDEV-5301"
               data-skip-pjax="true"
               rel="nofollow">
              <svg class="octicon octicon-check select-menu-item-icon" viewBox="0 0 12 16" version="1.1" width="12" height="16" aria-hidden="true"><path fill-rule="evenodd" d="M12 5l-8 8-4-4 1.5-1.5L4 10l6.5-6.5L12 5z"/></svg>
              <span class="select-menu-item-text css-truncate-target js-select-menu-filter-text">
                bug/PUBDEV-5301
              </span>
            </a>
            <a class="select-menu-item js-navigation-item js-navigation-open "
               href="/h2oai/h2o-3/blob/bug/xgboost-aioob/h2o-py/demos/glrm_census_large.ipynb"
               data-name="bug/xgboost-aioob"
               data-skip-pjax="true"
               rel="nofollow">
              <svg class="octicon octicon-check select-menu-item-icon" viewBox="0 0 12 16" version="1.1" width="12" height="16" aria-hidden="true"><path fill-rule="evenodd" d="M12 5l-8 8-4-4 1.5-1.5L4 10l6.5-6.5L12 5z"/></svg>
              <span class="select-menu-item-text css-truncate-target js-select-menu-filter-text">
                bug/xgboost-aioob
              </span>
            </a>
            <a class="select-menu-item js-navigation-item js-navigation-open "
               href="/h2oai/h2o-3/blob/caff/h2o-py/demos/glrm_census_large.ipynb"
               data-name="caff"
               data-skip-pjax="true"
               rel="nofollow">
              <svg class="octicon octicon-check select-menu-item-icon" viewBox="0 0 12 16" version="1.1" width="12" height="16" aria-hidden="true"><path fill-rule="evenodd" d="M12 5l-8 8-4-4 1.5-1.5L4 10l6.5-6.5L12 5z"/></svg>
              <span class="select-menu-item-text css-truncate-target js-select-menu-filter-text">
                caff
              </span>
            </a>
            <a class="select-menu-item js-navigation-item js-navigation-open "
               href="/h2oai/h2o-3/blob/caffe-new/h2o-py/demos/glrm_census_large.ipynb"
               data-name="caffe-new"
               data-skip-pjax="true"
               rel="nofollow">
              <svg class="octicon octicon-check select-menu-item-icon" viewBox="0 0 12 16" version="1.1" width="12" height="16" aria-hidden="true"><path fill-rule="evenodd" d="M12 5l-8 8-4-4 1.5-1.5L4 10l6.5-6.5L12 5z"/></svg>
              <span class="select-menu-item-text css-truncate-target js-select-menu-filter-text">
                caffe-new
              </span>
            </a>
            <a class="select-menu-item js-navigation-item js-navigation-open "
               href="/h2oai/h2o-3/blob/caffe/h2o-py/demos/glrm_census_large.ipynb"
               data-name="caffe"
               data-skip-pjax="true"
               rel="nofollow">
              <svg class="octicon octicon-check select-menu-item-icon" viewBox="0 0 12 16" version="1.1" width="12" height="16" aria-hidden="true"><path fill-rule="evenodd" d="M12 5l-8 8-4-4 1.5-1.5L4 10l6.5-6.5L12 5z"/></svg>
              <span class="select-menu-item-text css-truncate-target js-select-menu-filter-text">
                caffe
              </span>
            </a>
            <a class="select-menu-item js-navigation-item js-navigation-open "
               href="/h2oai/h2o-3/blob/caffe0/h2o-py/demos/glrm_census_large.ipynb"
               data-name="caffe0"
               data-skip-pjax="true"
               rel="nofollow">
              <svg class="octicon octicon-check select-menu-item-icon" viewBox="0 0 12 16" version="1.1" width="12" height="16" aria-hidden="true"><path fill-rule="evenodd" d="M12 5l-8 8-4-4 1.5-1.5L4 10l6.5-6.5L12 5z"/></svg>
              <span class="select-menu-item-text css-truncate-target js-select-menu-filter-text">
                caffe0
              </span>
            </a>
            <a class="select-menu-item js-navigation-item js-navigation-open "
               href="/h2oai/h2o-3/blob/cascade/h2o-py/demos/glrm_census_large.ipynb"
               data-name="cascade"
               data-skip-pjax="true"
               rel="nofollow">
              <svg class="octicon octicon-check select-menu-item-icon" viewBox="0 0 12 16" version="1.1" width="12" height="16" aria-hidden="true"><path fill-rule="evenodd" d="M12 5l-8 8-4-4 1.5-1.5L4 10l6.5-6.5L12 5z"/></svg>
              <span class="select-menu-item-text css-truncate-target js-select-menu-filter-text">
                cascade
              </span>
            </a>
            <a class="select-menu-item js-navigation-item js-navigation-open "
               href="/h2oai/h2o-3/blob/cdh513-abal5/h2o-py/demos/glrm_census_large.ipynb"
               data-name="cdh513-abal5"
               data-skip-pjax="true"
               rel="nofollow">
              <svg class="octicon octicon-check select-menu-item-icon" viewBox="0 0 12 16" version="1.1" width="12" height="16" aria-hidden="true"><path fill-rule="evenodd" d="M12 5l-8 8-4-4 1.5-1.5L4 10l6.5-6.5L12 5z"/></svg>
              <span class="select-menu-item-text css-truncate-target js-select-menu-filter-text">
                cdh513-abal5
              </span>
            </a>
            <a class="select-menu-item js-navigation-item js-navigation-open "
               href="/h2oai/h2o-3/blob/changes_for_automl/h2o-py/demos/glrm_census_large.ipynb"
               data-name="changes_for_automl"
               data-skip-pjax="true"
               rel="nofollow">
              <svg class="octicon octicon-check select-menu-item-icon" viewBox="0 0 12 16" version="1.1" width="12" height="16" aria-hidden="true"><path fill-rule="evenodd" d="M12 5l-8 8-4-4 1.5-1.5L4 10l6.5-6.5L12 5z"/></svg>
              <span class="select-menu-item-text css-truncate-target js-select-menu-filter-text">
                changes_for_automl
              </span>
            </a>
            <a class="select-menu-item js-navigation-item js-navigation-open "
               href="/h2oai/h2o-3/blob/check_drf_gbm_mojo/h2o-py/demos/glrm_census_large.ipynb"
               data-name="check_drf_gbm_mojo"
               data-skip-pjax="true"
               rel="nofollow">
              <svg class="octicon octicon-check select-menu-item-icon" viewBox="0 0 12 16" version="1.1" width="12" height="16" aria-hidden="true"><path fill-rule="evenodd" d="M12 5l-8 8-4-4 1.5-1.5L4 10l6.5-6.5L12 5z"/></svg>
              <span class="select-menu-item-text css-truncate-target js-select-menu-filter-text">
                check_drf_gbm_mojo
              </span>
            </a>
            <a class="select-menu-item js-navigation-item js-navigation-open "
               href="/h2oai/h2o-3/blob/cliffc-zerochunk-backup/h2o-py/demos/glrm_census_large.ipynb"
               data-name="cliffc-zerochunk-backup"
               data-skip-pjax="true"
               rel="nofollow">
              <svg class="octicon octicon-check select-menu-item-icon" viewBox="0 0 12 16" version="1.1" width="12" height="16" aria-hidden="true"><path fill-rule="evenodd" d="M12 5l-8 8-4-4 1.5-1.5L4 10l6.5-6.5L12 5z"/></svg>
              <span class="select-menu-item-text css-truncate-target js-select-menu-filter-text">
                cliffc-zerochunk-backup
              </span>
            </a>
            <a class="select-menu-item js-navigation-item js-navigation-open "
               href="/h2oai/h2o-3/blob/cliffc-zerochunk/h2o-py/demos/glrm_census_large.ipynb"
               data-name="cliffc-zerochunk"
               data-skip-pjax="true"
               rel="nofollow">
              <svg class="octicon octicon-check select-menu-item-icon" viewBox="0 0 12 16" version="1.1" width="12" height="16" aria-hidden="true"><path fill-rule="evenodd" d="M12 5l-8 8-4-4 1.5-1.5L4 10l6.5-6.5L12 5z"/></svg>
              <span class="select-menu-item-text css-truncate-target js-select-menu-filter-text">
                cliffc-zerochunk
              </span>
            </a>
            <a class="select-menu-item js-navigation-item js-navigation-open "
               href="/h2oai/h2o-3/blob/cliffc_kmeans/h2o-py/demos/glrm_census_large.ipynb"
               data-name="cliffc_kmeans"
               data-skip-pjax="true"
               rel="nofollow">
              <svg class="octicon octicon-check select-menu-item-icon" viewBox="0 0 12 16" version="1.1" width="12" height="16" aria-hidden="true"><path fill-rule="evenodd" d="M12 5l-8 8-4-4 1.5-1.5L4 10l6.5-6.5L12 5z"/></svg>
              <span class="select-menu-item-text css-truncate-target js-select-menu-filter-text">
                cliffc_kmeans
              </span>
            </a>
            <a class="select-menu-item js-navigation-item js-navigation-open "
               href="/h2oai/h2o-3/blob/cliffc_sparseStr/h2o-py/demos/glrm_census_large.ipynb"
               data-name="cliffc_sparseStr"
               data-skip-pjax="true"
               rel="nofollow">
              <svg class="octicon octicon-check select-menu-item-icon" viewBox="0 0 12 16" version="1.1" width="12" height="16" aria-hidden="true"><path fill-rule="evenodd" d="M12 5l-8 8-4-4 1.5-1.5L4 10l6.5-6.5L12 5z"/></svg>
              <span class="select-menu-item-text css-truncate-target js-select-menu-filter-text">
                cliffc_sparseStr
              </span>
            </a>
            <a class="select-menu-item js-navigation-item js-navigation-open "
               href="/h2oai/h2o-3/blob/conda-builds/h2o-py/demos/glrm_census_large.ipynb"
               data-name="conda-builds"
               data-skip-pjax="true"
               rel="nofollow">
              <svg class="octicon octicon-check select-menu-item-icon" viewBox="0 0 12 16" version="1.1" width="12" height="16" aria-hidden="true"><path fill-rule="evenodd" d="M12 5l-8 8-4-4 1.5-1.5L4 10l6.5-6.5L12 5z"/></svg>
              <span class="select-menu-item-text css-truncate-target js-select-menu-filter-text">
                conda-builds
              </span>
            </a>
            <a class="select-menu-item js-navigation-item js-navigation-open "
               href="/h2oai/h2o-3/blob/deeplearning-notebooks/h2o-py/demos/glrm_census_large.ipynb"
               data-name="deeplearning-notebooks"
               data-skip-pjax="true"
               rel="nofollow">
              <svg class="octicon octicon-check select-menu-item-icon" viewBox="0 0 12 16" version="1.1" width="12" height="16" aria-hidden="true"><path fill-rule="evenodd" d="M12 5l-8 8-4-4 1.5-1.5L4 10l6.5-6.5L12 5z"/></svg>
              <span class="select-menu-item-text css-truncate-target js-select-menu-filter-text">
                deeplearning-notebooks
              </span>
            </a>
            <a class="select-menu-item js-navigation-item js-navigation-open "
               href="/h2oai/h2o-3/blob/deepwater-automl/h2o-py/demos/glrm_census_large.ipynb"
               data-name="deepwater-automl"
               data-skip-pjax="true"
               rel="nofollow">
              <svg class="octicon octicon-check select-menu-item-icon" viewBox="0 0 12 16" version="1.1" width="12" height="16" aria-hidden="true"><path fill-rule="evenodd" d="M12 5l-8 8-4-4 1.5-1.5L4 10l6.5-6.5L12 5z"/></svg>
              <span class="select-menu-item-text css-truncate-target js-select-menu-filter-text">
                deepwater-automl
              </span>
            </a>
            <a class="select-menu-item js-navigation-item js-navigation-open "
               href="/h2oai/h2o-3/blob/deepwater-new/h2o-py/demos/glrm_census_large.ipynb"
               data-name="deepwater-new"
               data-skip-pjax="true"
               rel="nofollow">
              <svg class="octicon octicon-check select-menu-item-icon" viewBox="0 0 12 16" version="1.1" width="12" height="16" aria-hidden="true"><path fill-rule="evenodd" d="M12 5l-8 8-4-4 1.5-1.5L4 10l6.5-6.5L12 5z"/></svg>
              <span class="select-menu-item-text css-truncate-target js-select-menu-filter-text">
                deepwater-new
              </span>
            </a>
            <a class="select-menu-item js-navigation-item js-navigation-open "
               href="/h2oai/h2o-3/blob/dev/h2o-py/demos/glrm_census_large.ipynb"
               data-name="dev"
               data-skip-pjax="true"
               rel="nofollow">
              <svg class="octicon octicon-check select-menu-item-icon" viewBox="0 0 12 16" version="1.1" width="12" height="16" aria-hidden="true"><path fill-rule="evenodd" d="M12 5l-8 8-4-4 1.5-1.5L4 10l6.5-6.5L12 5z"/></svg>
              <span class="select-menu-item-text css-truncate-target js-select-menu-filter-text">
                dev
              </span>
            </a>
            <a class="select-menu-item js-navigation-item js-navigation-open "
               href="/h2oai/h2o-3/blob/devdoc_markc/h2o-py/demos/glrm_census_large.ipynb"
               data-name="devdoc_markc"
               data-skip-pjax="true"
               rel="nofollow">
              <svg class="octicon octicon-check select-menu-item-icon" viewBox="0 0 12 16" version="1.1" width="12" height="16" aria-hidden="true"><path fill-rule="evenodd" d="M12 5l-8 8-4-4 1.5-1.5L4 10l6.5-6.5L12 5z"/></svg>
              <span class="select-menu-item-text css-truncate-target js-select-menu-filter-text">
                devdoc_markc
              </span>
            </a>
            <a class="select-menu-item js-navigation-item js-navigation-open "
               href="/h2oai/h2o-3/blob/docs-update-changes-for-relwolpert-8/h2o-py/demos/glrm_census_large.ipynb"
               data-name="docs-update-changes-for-relwolpert-8"
               data-skip-pjax="true"
               rel="nofollow">
              <svg class="octicon octicon-check select-menu-item-icon" viewBox="0 0 12 16" version="1.1" width="12" height="16" aria-hidden="true"><path fill-rule="evenodd" d="M12 5l-8 8-4-4 1.5-1.5L4 10l6.5-6.5L12 5z"/></svg>
              <span class="select-menu-item-text css-truncate-target js-select-menu-filter-text">
                docs-update-changes-for-relwolpert-8
              </span>
            </a>
            <a class="select-menu-item js-navigation-item js-navigation-open "
               href="/h2oai/h2o-3/blob/documentation-flow-updates/h2o-py/demos/glrm_census_large.ipynb"
               data-name="documentation-flow-updates"
               data-skip-pjax="true"
               rel="nofollow">
              <svg class="octicon octicon-check select-menu-item-icon" viewBox="0 0 12 16" version="1.1" width="12" height="16" aria-hidden="true"><path fill-rule="evenodd" d="M12 5l-8 8-4-4 1.5-1.5L4 10l6.5-6.5L12 5z"/></svg>
              <span class="select-menu-item-text css-truncate-target js-select-menu-filter-text">
                documentation-flow-updates
              </span>
            </a>
            <a class="select-menu-item js-navigation-item js-navigation-open "
               href="/h2oai/h2o-3/blob/eb-gbmw/h2o-py/demos/glrm_census_large.ipynb"
               data-name="eb-gbmw"
               data-skip-pjax="true"
               rel="nofollow">
              <svg class="octicon octicon-check select-menu-item-icon" viewBox="0 0 12 16" version="1.1" width="12" height="16" aria-hidden="true"><path fill-rule="evenodd" d="M12 5l-8 8-4-4 1.5-1.5L4 10l6.5-6.5L12 5z"/></svg>
              <span class="select-menu-item-text css-truncate-target js-select-menu-filter-text">
                eb-gbmw
              </span>
            </a>
            <a class="select-menu-item js-navigation-item js-navigation-open "
               href="/h2oai/h2o-3/blob/eh1/h2o-py/demos/glrm_census_large.ipynb"
               data-name="eh1"
               data-skip-pjax="true"
               rel="nofollow">
              <svg class="octicon octicon-check select-menu-item-icon" viewBox="0 0 12 16" version="1.1" width="12" height="16" aria-hidden="true"><path fill-rule="evenodd" d="M12 5l-8 8-4-4 1.5-1.5L4 10l6.5-6.5L12 5z"/></svg>
              <span class="select-menu-item-text css-truncate-target js-select-menu-filter-text">
                eh1
              </span>
            </a>
            <a class="select-menu-item js-navigation-item js-navigation-open "
               href="/h2oai/h2o-3/blob/eh2/h2o-py/demos/glrm_census_large.ipynb"
               data-name="eh2"
               data-skip-pjax="true"
               rel="nofollow">
              <svg class="octicon octicon-check select-menu-item-icon" viewBox="0 0 12 16" version="1.1" width="12" height="16" aria-hidden="true"><path fill-rule="evenodd" d="M12 5l-8 8-4-4 1.5-1.5L4 10l6.5-6.5L12 5z"/></svg>
              <span class="select-menu-item-text css-truncate-target js-select-menu-filter-text">
                eh2
              </span>
            </a>
            <a class="select-menu-item js-navigation-item js-navigation-open "
               href="/h2oai/h2o-3/blob/eh3/h2o-py/demos/glrm_census_large.ipynb"
               data-name="eh3"
               data-skip-pjax="true"
               rel="nofollow">
              <svg class="octicon octicon-check select-menu-item-icon" viewBox="0 0 12 16" version="1.1" width="12" height="16" aria-hidden="true"><path fill-rule="evenodd" d="M12 5l-8 8-4-4 1.5-1.5L4 10l6.5-6.5L12 5z"/></svg>
              <span class="select-menu-item-text css-truncate-target js-select-menu-filter-text">
                eh3
              </span>
            </a>
            <a class="select-menu-item js-navigation-item js-navigation-open "
               href="/h2oai/h2o-3/blob/enhancement/HEXDEV-699-jks-tmp-file/h2o-py/demos/glrm_census_large.ipynb"
               data-name="enhancement/HEXDEV-699-jks-tmp-file"
               data-skip-pjax="true"
               rel="nofollow">
              <svg class="octicon octicon-check select-menu-item-icon" viewBox="0 0 12 16" version="1.1" width="12" height="16" aria-hidden="true"><path fill-rule="evenodd" d="M12 5l-8 8-4-4 1.5-1.5L4 10l6.5-6.5L12 5z"/></svg>
              <span class="select-menu-item-text css-truncate-target js-select-menu-filter-text">
                enhancement/HEXDEV-699-jks-tmp-file
              </span>
            </a>
            <a class="select-menu-item js-navigation-item js-navigation-open "
               href="/h2oai/h2o-3/blob/eric-roxygen2/h2o-py/demos/glrm_census_large.ipynb"
               data-name="eric-roxygen2"
               data-skip-pjax="true"
               rel="nofollow">
              <svg class="octicon octicon-check select-menu-item-icon" viewBox="0 0 12 16" version="1.1" width="12" height="16" aria-hidden="true"><path fill-rule="evenodd" d="M12 5l-8 8-4-4 1.5-1.5L4 10l6.5-6.5L12 5z"/></svg>
              <span class="select-menu-item-text css-truncate-target js-select-menu-filter-text">
                eric-roxygen2
              </span>
            </a>
            <a class="select-menu-item js-navigation-item js-navigation-open "
               href="/h2oai/h2o-3/blob/eric_feature/h2o-py/demos/glrm_census_large.ipynb"
               data-name="eric_feature"
               data-skip-pjax="true"
               rel="nofollow">
              <svg class="octicon octicon-check select-menu-item-icon" viewBox="0 0 12 16" version="1.1" width="12" height="16" aria-hidden="true"><path fill-rule="evenodd" d="M12 5l-8 8-4-4 1.5-1.5L4 10l6.5-6.5L12 5z"/></svg>
              <span class="select-menu-item-text css-truncate-target js-select-menu-filter-text">
                eric_feature
              </span>
            </a>
            <a class="select-menu-item js-navigation-item js-navigation-open "
               href="/h2oai/h2o-3/blob/eric_feature2/h2o-py/demos/glrm_census_large.ipynb"
               data-name="eric_feature2"
               data-skip-pjax="true"
               rel="nofollow">
              <svg class="octicon octicon-check select-menu-item-icon" viewBox="0 0 12 16" version="1.1" width="12" height="16" aria-hidden="true"><path fill-rule="evenodd" d="M12 5l-8 8-4-4 1.5-1.5L4 10l6.5-6.5L12 5z"/></svg>
              <span class="select-menu-item-text css-truncate-target js-select-menu-filter-text">
                eric_feature2
              </span>
            </a>
            <a class="select-menu-item js-navigation-item js-navigation-open "
               href="/h2oai/h2o-3/blob/eric_pam/h2o-py/demos/glrm_census_large.ipynb"
               data-name="eric_pam"
               data-skip-pjax="true"
               rel="nofollow">
              <svg class="octicon octicon-check select-menu-item-icon" viewBox="0 0 12 16" version="1.1" width="12" height="16" aria-hidden="true"><path fill-rule="evenodd" d="M12 5l-8 8-4-4 1.5-1.5L4 10l6.5-6.5L12 5z"/></svg>
              <span class="select-menu-item-text css-truncate-target js-select-menu-filter-text">
                eric_pam
              </span>
            </a>
            <a class="select-menu-item js-navigation-item js-navigation-open "
               href="/h2oai/h2o-3/blob/eric_test_perf/h2o-py/demos/glrm_census_large.ipynb"
               data-name="eric_test_perf"
               data-skip-pjax="true"
               rel="nofollow">
              <svg class="octicon octicon-check select-menu-item-icon" viewBox="0 0 12 16" version="1.1" width="12" height="16" aria-hidden="true"><path fill-rule="evenodd" d="M12 5l-8 8-4-4 1.5-1.5L4 10l6.5-6.5L12 5z"/></svg>
              <span class="select-menu-item-text css-truncate-target js-select-menu-filter-text">
                eric_test_perf
              </span>
            </a>
            <a class="select-menu-item js-navigation-item js-navigation-open "
               href="/h2oai/h2o-3/blob/eric_testbigjoin/h2o-py/demos/glrm_census_large.ipynb"
               data-name="eric_testbigjoin"
               data-skip-pjax="true"
               rel="nofollow">
              <svg class="octicon octicon-check select-menu-item-icon" viewBox="0 0 12 16" version="1.1" width="12" height="16" aria-hidden="true"><path fill-rule="evenodd" d="M12 5l-8 8-4-4 1.5-1.5L4 10l6.5-6.5L12 5z"/></svg>
              <span class="select-menu-item-text css-truncate-target js-select-menu-filter-text">
                eric_testbigjoin
              </span>
            </a>
            <a class="select-menu-item js-navigation-item js-navigation-open "
               href="/h2oai/h2o-3/blob/erin-docs/h2o-py/demos/glrm_census_large.ipynb"
               data-name="erin-docs"
               data-skip-pjax="true"
               rel="nofollow">
              <svg class="octicon octicon-check select-menu-item-icon" viewBox="0 0 12 16" version="1.1" width="12" height="16" aria-hidden="true"><path fill-rule="evenodd" d="M12 5l-8 8-4-4 1.5-1.5L4 10l6.5-6.5L12 5z"/></svg>
              <span class="select-menu-item-text css-truncate-target js-select-menu-filter-text">
                erin-docs
              </span>
            </a>
            <a class="select-menu-item js-navigation-item js-navigation-open "
               href="/h2oai/h2o-3/blob/erin-ensemble/h2o-py/demos/glrm_census_large.ipynb"
               data-name="erin-ensemble"
               data-skip-pjax="true"
               rel="nofollow">
              <svg class="octicon octicon-check select-menu-item-icon" viewBox="0 0 12 16" version="1.1" width="12" height="16" aria-hidden="true"><path fill-rule="evenodd" d="M12 5l-8 8-4-4 1.5-1.5L4 10l6.5-6.5L12 5z"/></svg>
              <span class="select-menu-item-text css-truncate-target js-select-menu-filter-text">
                erin-ensemble
              </span>
            </a>
            <a class="select-menu-item js-navigation-item js-navigation-open "
               href="/h2oai/h2o-3/blob/erin/PUBDEV-4458/h2o-py/demos/glrm_census_large.ipynb"
               data-name="erin/PUBDEV-4458"
               data-skip-pjax="true"
               rel="nofollow">
              <svg class="octicon octicon-check select-menu-item-icon" viewBox="0 0 12 16" version="1.1" width="12" height="16" aria-hidden="true"><path fill-rule="evenodd" d="M12 5l-8 8-4-4 1.5-1.5L4 10l6.5-6.5L12 5z"/></svg>
              <span class="select-menu-item-text css-truncate-target js-select-menu-filter-text">
                erin/PUBDEV-4458
              </span>
            </a>
            <a class="select-menu-item js-navigation-item js-navigation-open "
               href="/h2oai/h2o-3/blob/erin_clusterstatus/h2o-py/demos/glrm_census_large.ipynb"
               data-name="erin_clusterstatus"
               data-skip-pjax="true"
               rel="nofollow">
              <svg class="octicon octicon-check select-menu-item-icon" viewBox="0 0 12 16" version="1.1" width="12" height="16" aria-hidden="true"><path fill-rule="evenodd" d="M12 5l-8 8-4-4 1.5-1.5L4 10l6.5-6.5L12 5z"/></svg>
              <span class="select-menu-item-text css-truncate-target js-select-menu-filter-text">
                erin_clusterstatus
              </span>
            </a>
            <a class="select-menu-item js-navigation-item js-navigation-open "
               href="/h2oai/h2o-3/blob/erin_docs/h2o-py/demos/glrm_census_large.ipynb"
               data-name="erin_docs"
               data-skip-pjax="true"
               rel="nofollow">
              <svg class="octicon octicon-check select-menu-item-icon" viewBox="0 0 12 16" version="1.1" width="12" height="16" aria-hidden="true"><path fill-rule="evenodd" d="M12 5l-8 8-4-4 1.5-1.5L4 10l6.5-6.5L12 5z"/></svg>
              <span class="select-menu-item-text css-truncate-target js-select-menu-filter-text">
                erin_docs
              </span>
            </a>
            <a class="select-menu-item js-navigation-item js-navigation-open "
               href="/h2oai/h2o-3/blob/experiments/h2o-distillation/h2o-py/demos/glrm_census_large.ipynb"
               data-name="experiments/h2o-distillation"
               data-skip-pjax="true"
               rel="nofollow">
              <svg class="octicon octicon-check select-menu-item-icon" viewBox="0 0 12 16" version="1.1" width="12" height="16" aria-hidden="true"><path fill-rule="evenodd" d="M12 5l-8 8-4-4 1.5-1.5L4 10l6.5-6.5L12 5z"/></svg>
              <span class="select-menu-item-text css-truncate-target js-select-menu-filter-text">
                experiments/h2o-distillation
              </span>
            </a>
            <a class="select-menu-item js-navigation-item js-navigation-open "
               href="/h2oai/h2o-3/blob/export-extra-info/h2o-py/demos/glrm_census_large.ipynb"
               data-name="export-extra-info"
               data-skip-pjax="true"
               rel="nofollow">
              <svg class="octicon octicon-check select-menu-item-icon" viewBox="0 0 12 16" version="1.1" width="12" height="16" aria-hidden="true"><path fill-rule="evenodd" d="M12 5l-8 8-4-4 1.5-1.5L4 10l6.5-6.5L12 5z"/></svg>
              <span class="select-menu-item-text css-truncate-target js-select-menu-filter-text">
                export-extra-info
              </span>
            </a>
            <a class="select-menu-item js-navigation-item js-navigation-open "
               href="/h2oai/h2o-3/blob/features/add-backend-layer/h2o-py/demos/glrm_census_large.ipynb"
               data-name="features/add-backend-layer"
               data-skip-pjax="true"
               rel="nofollow">
              <svg class="octicon octicon-check select-menu-item-icon" viewBox="0 0 12 16" version="1.1" width="12" height="16" aria-hidden="true"><path fill-rule="evenodd" d="M12 5l-8 8-4-4 1.5-1.5L4 10l6.5-6.5L12 5z"/></svg>
              <span class="select-menu-item-text css-truncate-target js-select-menu-filter-text">
                features/add-backend-layer
              </span>
            </a>
            <a class="select-menu-item js-navigation-item js-navigation-open "
               href="/h2oai/h2o-3/blob/features/deepwater/tensorflow-integration/h2o-py/demos/glrm_census_large.ipynb"
               data-name="features/deepwater/tensorflow-integration"
               data-skip-pjax="true"
               rel="nofollow">
              <svg class="octicon octicon-check select-menu-item-icon" viewBox="0 0 12 16" version="1.1" width="12" height="16" aria-hidden="true"><path fill-rule="evenodd" d="M12 5l-8 8-4-4 1.5-1.5L4 10l6.5-6.5L12 5z"/></svg>
              <span class="select-menu-item-text css-truncate-target js-select-menu-filter-text">
                features/deepwater/tensorflow-integration
              </span>
            </a>
            <a class="select-menu-item js-navigation-item js-navigation-open "
               href="/h2oai/h2o-3/blob/features/deepwater/tensorflow/h2o-py/demos/glrm_census_large.ipynb"
               data-name="features/deepwater/tensorflow"
               data-skip-pjax="true"
               rel="nofollow">
              <svg class="octicon octicon-check select-menu-item-icon" viewBox="0 0 12 16" version="1.1" width="12" height="16" aria-hidden="true"><path fill-rule="evenodd" d="M12 5l-8 8-4-4 1.5-1.5L4 10l6.5-6.5L12 5z"/></svg>
              <span class="select-menu-item-text css-truncate-target js-select-menu-filter-text">
                features/deepwater/tensorflow
              </span>
            </a>
            <a class="select-menu-item js-navigation-item js-navigation-open "
               href="/h2oai/h2o-3/blob/features/free-code-from-rapids/h2o-py/demos/glrm_census_large.ipynb"
               data-name="features/free-code-from-rapids"
               data-skip-pjax="true"
               rel="nofollow">
              <svg class="octicon octicon-check select-menu-item-icon" viewBox="0 0 12 16" version="1.1" width="12" height="16" aria-hidden="true"><path fill-rule="evenodd" d="M12 5l-8 8-4-4 1.5-1.5L4 10l6.5-6.5L12 5z"/></svg>
              <span class="select-menu-item-text css-truncate-target js-select-menu-filter-text">
                features/free-code-from-rapids
              </span>
            </a>
            <a class="select-menu-item js-navigation-item js-navigation-open "
               href="/h2oai/h2o-3/blob/features/javacpp-tensorflow-integration/h2o-py/demos/glrm_census_large.ipynb"
               data-name="features/javacpp-tensorflow-integration"
               data-skip-pjax="true"
               rel="nofollow">
              <svg class="octicon octicon-check select-menu-item-icon" viewBox="0 0 12 16" version="1.1" width="12" height="16" aria-hidden="true"><path fill-rule="evenodd" d="M12 5l-8 8-4-4 1.5-1.5L4 10l6.5-6.5L12 5z"/></svg>
              <span class="select-menu-item-text css-truncate-target js-select-menu-filter-text">
                features/javacpp-tensorflow-integration
              </span>
            </a>
            <a class="select-menu-item js-navigation-item js-navigation-open "
               href="/h2oai/h2o-3/blob/fix-glm-sparse/h2o-py/demos/glrm_census_large.ipynb"
               data-name="fix-glm-sparse"
               data-skip-pjax="true"
               rel="nofollow">
              <svg class="octicon octicon-check select-menu-item-icon" viewBox="0 0 12 16" version="1.1" width="12" height="16" aria-hidden="true"><path fill-rule="evenodd" d="M12 5l-8 8-4-4 1.5-1.5L4 10l6.5-6.5L12 5z"/></svg>
              <span class="select-menu-item-text css-truncate-target js-select-menu-filter-text">
                fix-glm-sparse
              </span>
            </a>
            <a class="select-menu-item js-navigation-item js-navigation-open "
               href="/h2oai/h2o-3/blob/fix-mojowr-constructor/h2o-py/demos/glrm_census_large.ipynb"
               data-name="fix-mojowr-constructor"
               data-skip-pjax="true"
               rel="nofollow">
              <svg class="octicon octicon-check select-menu-item-icon" viewBox="0 0 12 16" version="1.1" width="12" height="16" aria-hidden="true"><path fill-rule="evenodd" d="M12 5l-8 8-4-4 1.5-1.5L4 10l6.5-6.5L12 5z"/></svg>
              <span class="select-menu-item-text css-truncate-target js-select-menu-filter-text">
                fix-mojowr-constructor
              </span>
            </a>
            <a class="select-menu-item js-navigation-item js-navigation-open "
               href="/h2oai/h2o-3/blob/fix-rotterdam/h2o-py/demos/glrm_census_large.ipynb"
               data-name="fix-rotterdam"
               data-skip-pjax="true"
               rel="nofollow">
              <svg class="octicon octicon-check select-menu-item-icon" viewBox="0 0 12 16" version="1.1" width="12" height="16" aria-hidden="true"><path fill-rule="evenodd" d="M12 5l-8 8-4-4 1.5-1.5L4 10l6.5-6.5L12 5z"/></svg>
              <span class="select-menu-item-text css-truncate-target js-select-menu-filter-text">
                fix-rotterdam
              </span>
            </a>
            <a class="select-menu-item js-navigation-item js-navigation-open "
               href="/h2oai/h2o-3/blob/fix-typo-glrm-mojo/h2o-py/demos/glrm_census_large.ipynb"
               data-name="fix-typo-glrm-mojo"
               data-skip-pjax="true"
               rel="nofollow">
              <svg class="octicon octicon-check select-menu-item-icon" viewBox="0 0 12 16" version="1.1" width="12" height="16" aria-hidden="true"><path fill-rule="evenodd" d="M12 5l-8 8-4-4 1.5-1.5L4 10l6.5-6.5L12 5z"/></svg>
              <span class="select-menu-item-text css-truncate-target js-select-menu-filter-text">
                fix-typo-glrm-mojo
              </span>
            </a>
            <a class="select-menu-item js-navigation-item js-navigation-open "
               href="/h2oai/h2o-3/blob/fix_glm_multinomial/h2o-py/demos/glrm_census_large.ipynb"
               data-name="fix_glm_multinomial"
               data-skip-pjax="true"
               rel="nofollow">
              <svg class="octicon octicon-check select-menu-item-icon" viewBox="0 0 12 16" version="1.1" width="12" height="16" aria-hidden="true"><path fill-rule="evenodd" d="M12 5l-8 8-4-4 1.5-1.5L4 10l6.5-6.5L12 5z"/></svg>
              <span class="select-menu-item-text css-truncate-target js-select-menu-filter-text">
                fix_glm_multinomial
              </span>
            </a>
            <a class="select-menu-item js-navigation-item js-navigation-open "
               href="/h2oai/h2o-3/blob/fix_mojo_version_stackedensemble/h2o-py/demos/glrm_census_large.ipynb"
               data-name="fix_mojo_version_stackedensemble"
               data-skip-pjax="true"
               rel="nofollow">
              <svg class="octicon octicon-check select-menu-item-icon" viewBox="0 0 12 16" version="1.1" width="12" height="16" aria-hidden="true"><path fill-rule="evenodd" d="M12 5l-8 8-4-4 1.5-1.5L4 10l6.5-6.5L12 5z"/></svg>
              <span class="select-menu-item-text css-truncate-target js-select-menu-filter-text">
                fix_mojo_version_stackedensemble
              </span>
            </a>
            <a class="select-menu-item js-navigation-item js-navigation-open "
               href="/h2oai/h2o-3/blob/fix_tree_leaf_node_names/h2o-py/demos/glrm_census_large.ipynb"
               data-name="fix_tree_leaf_node_names"
               data-skip-pjax="true"
               rel="nofollow">
              <svg class="octicon octicon-check select-menu-item-icon" viewBox="0 0 12 16" version="1.1" width="12" height="16" aria-hidden="true"><path fill-rule="evenodd" d="M12 5l-8 8-4-4 1.5-1.5L4 10l6.5-6.5L12 5z"/></svg>
              <span class="select-menu-item-text css-truncate-target js-select-menu-filter-text">
                fix_tree_leaf_node_names
              </span>
            </a>
            <a class="select-menu-item js-navigation-item js-navigation-open "
               href="/h2oai/h2o-3/blob/fonda_jenkins/h2o-py/demos/glrm_census_large.ipynb"
               data-name="fonda_jenkins"
               data-skip-pjax="true"
               rel="nofollow">
              <svg class="octicon octicon-check select-menu-item-icon" viewBox="0 0 12 16" version="1.1" width="12" height="16" aria-hidden="true"><path fill-rule="evenodd" d="M12 5l-8 8-4-4 1.5-1.5L4 10l6.5-6.5L12 5z"/></svg>
              <span class="select-menu-item-text css-truncate-target js-select-menu-filter-text">
                fonda_jenkins
              </span>
            </a>
            <a class="select-menu-item js-navigation-item js-navigation-open "
               href="/h2oai/h2o-3/blob/glm-mojo-client/h2o-py/demos/glrm_census_large.ipynb"
               data-name="glm-mojo-client"
               data-skip-pjax="true"
               rel="nofollow">
              <svg class="octicon octicon-check select-menu-item-icon" viewBox="0 0 12 16" version="1.1" width="12" height="16" aria-hidden="true"><path fill-rule="evenodd" d="M12 5l-8 8-4-4 1.5-1.5L4 10l6.5-6.5L12 5z"/></svg>
              <span class="select-menu-item-text css-truncate-target js-select-menu-filter-text">
                glm-mojo-client
              </span>
            </a>
            <a class="select-menu-item js-navigation-item js-navigation-open "
               href="/h2oai/h2o-3/blob/h2o-selenium-testing/h2o-py/demos/glrm_census_large.ipynb"
               data-name="h2o-selenium-testing"
               data-skip-pjax="true"
               rel="nofollow">
              <svg class="octicon octicon-check select-menu-item-icon" viewBox="0 0 12 16" version="1.1" width="12" height="16" aria-hidden="true"><path fill-rule="evenodd" d="M12 5l-8 8-4-4 1.5-1.5L4 10l6.5-6.5L12 5z"/></svg>
              <span class="select-menu-item-text css-truncate-target js-select-menu-filter-text">
                h2o-selenium-testing
              </span>
            </a>
            <a class="select-menu-item js-navigation-item js-navigation-open "
               href="/h2oai/h2o-3/blob/h2o-selenium/h2o-py/demos/glrm_census_large.ipynb"
               data-name="h2o-selenium"
               data-skip-pjax="true"
               rel="nofollow">
              <svg class="octicon octicon-check select-menu-item-icon" viewBox="0 0 12 16" version="1.1" width="12" height="16" aria-hidden="true"><path fill-rule="evenodd" d="M12 5l-8 8-4-4 1.5-1.5L4 10l6.5-6.5L12 5z"/></svg>
              <span class="select-menu-item-text css-truncate-target js-select-menu-filter-text">
                h2o-selenium
              </span>
            </a>
            <a class="select-menu-item js-navigation-item js-navigation-open "
               href="/h2oai/h2o-3/blob/h2o-turchin2k/h2o-py/demos/glrm_census_large.ipynb"
               data-name="h2o-turchin2k"
               data-skip-pjax="true"
               rel="nofollow">
              <svg class="octicon octicon-check select-menu-item-icon" viewBox="0 0 12 16" version="1.1" width="12" height="16" aria-hidden="true"><path fill-rule="evenodd" d="M12 5l-8 8-4-4 1.5-1.5L4 10l6.5-6.5L12 5z"/></svg>
              <span class="select-menu-item-text css-truncate-target js-select-menu-filter-text">
                h2o-turchin2k
              </span>
            </a>
            <a class="select-menu-item js-navigation-item js-navigation-open "
               href="/h2oai/h2o-3/blob/h2o-turchin3k/h2o-py/demos/glrm_census_large.ipynb"
               data-name="h2o-turchin3k"
               data-skip-pjax="true"
               rel="nofollow">
              <svg class="octicon octicon-check select-menu-item-icon" viewBox="0 0 12 16" version="1.1" width="12" height="16" aria-hidden="true"><path fill-rule="evenodd" d="M12 5l-8 8-4-4 1.5-1.5L4 10l6.5-6.5L12 5z"/></svg>
              <span class="select-menu-item-text css-truncate-target js-select-menu-filter-text">
                h2o-turchin3k
              </span>
            </a>
            <a class="select-menu-item js-navigation-item js-navigation-open "
               href="/h2oai/h2o-3/blob/h2oEnsemble_v0.1.9/h2o-py/demos/glrm_census_large.ipynb"
               data-name="h2oEnsemble_v0.1.9"
               data-skip-pjax="true"
               rel="nofollow">
              <svg class="octicon octicon-check select-menu-item-icon" viewBox="0 0 12 16" version="1.1" width="12" height="16" aria-hidden="true"><path fill-rule="evenodd" d="M12 5l-8 8-4-4 1.5-1.5L4 10l6.5-6.5L12 5z"/></svg>
              <span class="select-menu-item-text css-truncate-target js-select-menu-filter-text">
                h2oEnsemble_v0.1.9
              </span>
            </a>
            <a class="select-menu-item js-navigation-item js-navigation-open "
               href="/h2oai/h2o-3/blob/h2oEnsemble_v0.2.0/h2o-py/demos/glrm_census_large.ipynb"
               data-name="h2oEnsemble_v0.2.0"
               data-skip-pjax="true"
               rel="nofollow">
              <svg class="octicon octicon-check select-menu-item-icon" viewBox="0 0 12 16" version="1.1" width="12" height="16" aria-hidden="true"><path fill-rule="evenodd" d="M12 5l-8 8-4-4 1.5-1.5L4 10l6.5-6.5L12 5z"/></svg>
              <span class="select-menu-item-text css-truncate-target js-select-menu-filter-text">
                h2oEnsemble_v0.2.0
              </span>
            </a>
            <a class="select-menu-item js-navigation-item js-navigation-open "
               href="/h2oai/h2o-3/blob/hdp25-support/h2o-py/demos/glrm_census_large.ipynb"
               data-name="hdp25-support"
               data-skip-pjax="true"
               rel="nofollow">
              <svg class="octicon octicon-check select-menu-item-icon" viewBox="0 0 12 16" version="1.1" width="12" height="16" aria-hidden="true"><path fill-rule="evenodd" d="M12 5l-8 8-4-4 1.5-1.5L4 10l6.5-6.5L12 5z"/></svg>
              <span class="select-menu-item-text css-truncate-target js-select-menu-filter-text">
                hdp25-support
              </span>
            </a>
            <a class="select-menu-item js-navigation-item js-navigation-open "
               href="/h2oai/h2o-3/blob/hexdev_700_full_reproducibility/h2o-py/demos/glrm_census_large.ipynb"
               data-name="hexdev_700_full_reproducibility"
               data-skip-pjax="true"
               rel="nofollow">
              <svg class="octicon octicon-check select-menu-item-icon" viewBox="0 0 12 16" version="1.1" width="12" height="16" aria-hidden="true"><path fill-rule="evenodd" d="M12 5l-8 8-4-4 1.5-1.5L4 10l6.5-6.5L12 5z"/></svg>
              <span class="select-menu-item-text css-truncate-target js-select-menu-filter-text">
                hexdev_700_full_reproducibility
              </span>
            </a>
            <a class="select-menu-item js-navigation-item js-navigation-open "
               href="/h2oai/h2o-3/blob/hexdev_700_gbm_reproducibility_parms/h2o-py/demos/glrm_census_large.ipynb"
               data-name="hexdev_700_gbm_reproducibility_parms"
               data-skip-pjax="true"
               rel="nofollow">
              <svg class="octicon octicon-check select-menu-item-icon" viewBox="0 0 12 16" version="1.1" width="12" height="16" aria-hidden="true"><path fill-rule="evenodd" d="M12 5l-8 8-4-4 1.5-1.5L4 10l6.5-6.5L12 5z"/></svg>
              <span class="select-menu-item-text css-truncate-target js-select-menu-filter-text">
                hexdev_700_gbm_reproducibility_parms
              </span>
            </a>
            <a class="select-menu-item js-navigation-item js-navigation-open "
               href="/h2oai/h2o-3/blob/hexdev_700_gbm_reproducibility_speedup/h2o-py/demos/glrm_census_large.ipynb"
               data-name="hexdev_700_gbm_reproducibility_speedup"
               data-skip-pjax="true"
               rel="nofollow">
              <svg class="octicon octicon-check select-menu-item-icon" viewBox="0 0 12 16" version="1.1" width="12" height="16" aria-hidden="true"><path fill-rule="evenodd" d="M12 5l-8 8-4-4 1.5-1.5L4 10l6.5-6.5L12 5z"/></svg>
              <span class="select-menu-item-text css-truncate-target js-select-menu-filter-text">
                hexdev_700_gbm_reproducibility_speedup
              </span>
            </a>
            <a class="select-menu-item js-navigation-item js-navigation-open "
               href="/h2oai/h2o-3/blob/hexdev_700_gbm_reproducibility_speedup2/h2o-py/demos/glrm_census_large.ipynb"
               data-name="hexdev_700_gbm_reproducibility_speedup2"
               data-skip-pjax="true"
               rel="nofollow">
              <svg class="octicon octicon-check select-menu-item-icon" viewBox="0 0 12 16" version="1.1" width="12" height="16" aria-hidden="true"><path fill-rule="evenodd" d="M12 5l-8 8-4-4 1.5-1.5L4 10l6.5-6.5L12 5z"/></svg>
              <span class="select-menu-item-text css-truncate-target js-select-menu-filter-text">
                hexdev_700_gbm_reproducibility_speedup2
              </span>
            </a>
            <a class="select-menu-item js-navigation-item js-navigation-open "
               href="/h2oai/h2o-3/blob/hexdev_700_speedup3/h2o-py/demos/glrm_census_large.ipynb"
               data-name="hexdev_700_speedup3"
               data-skip-pjax="true"
               rel="nofollow">
              <svg class="octicon octicon-check select-menu-item-icon" viewBox="0 0 12 16" version="1.1" width="12" height="16" aria-hidden="true"><path fill-rule="evenodd" d="M12 5l-8 8-4-4 1.5-1.5L4 10l6.5-6.5L12 5z"/></svg>
              <span class="select-menu-item-text css-truncate-target js-select-menu-filter-text">
                hexdev_700_speedup3
              </span>
            </a>
            <a class="select-menu-item js-navigation-item js-navigation-open "
               href="/h2oai/h2o-3/blob/hexdev_700_speedup5/h2o-py/demos/glrm_census_large.ipynb"
               data-name="hexdev_700_speedup5"
               data-skip-pjax="true"
               rel="nofollow">
              <svg class="octicon octicon-check select-menu-item-icon" viewBox="0 0 12 16" version="1.1" width="12" height="16" aria-hidden="true"><path fill-rule="evenodd" d="M12 5l-8 8-4-4 1.5-1.5L4 10l6.5-6.5L12 5z"/></svg>
              <span class="select-menu-item-text css-truncate-target js-select-menu-filter-text">
                hexdev_700_speedup5
              </span>
            </a>
            <a class="select-menu-item js-navigation-item js-navigation-open "
               href="/h2oai/h2o-3/blob/hexdev_700_speedup6/h2o-py/demos/glrm_census_large.ipynb"
               data-name="hexdev_700_speedup6"
               data-skip-pjax="true"
               rel="nofollow">
              <svg class="octicon octicon-check select-menu-item-icon" viewBox="0 0 12 16" version="1.1" width="12" height="16" aria-hidden="true"><path fill-rule="evenodd" d="M12 5l-8 8-4-4 1.5-1.5L4 10l6.5-6.5L12 5z"/></svg>
              <span class="select-menu-item-text css-truncate-target js-select-menu-filter-text">
                hexdev_700_speedup6
              </span>
            </a>
            <a class="select-menu-item js-navigation-item js-navigation-open "
               href="/h2oai/h2o-3/blob/hotfix_coxph_rd/h2o-py/demos/glrm_census_large.ipynb"
               data-name="hotfix_coxph_rd"
               data-skip-pjax="true"
               rel="nofollow">
              <svg class="octicon octicon-check select-menu-item-icon" viewBox="0 0 12 16" version="1.1" width="12" height="16" aria-hidden="true"><path fill-rule="evenodd" d="M12 5l-8 8-4-4 1.5-1.5L4 10l6.5-6.5L12 5z"/></svg>
              <span class="select-menu-item-text css-truncate-target js-select-menu-filter-text">
                hotfix_coxph_rd
              </span>
            </a>
            <a class="select-menu-item js-navigation-item js-navigation-open "
               href="/h2oai/h2o-3/blob/hotfix/rel-wolpert-r-automl-print/h2o-py/demos/glrm_census_large.ipynb"
               data-name="hotfix/rel-wolpert-r-automl-print"
               data-skip-pjax="true"
               rel="nofollow">
              <svg class="octicon octicon-check select-menu-item-icon" viewBox="0 0 12 16" version="1.1" width="12" height="16" aria-hidden="true"><path fill-rule="evenodd" d="M12 5l-8 8-4-4 1.5-1.5L4 10l6.5-6.5L12 5z"/></svg>
              <span class="select-menu-item-text css-truncate-target js-select-menu-filter-text">
                hotfix/rel-wolpert-r-automl-print
              </span>
            </a>
            <a class="select-menu-item js-navigation-item js-navigation-open "
               href="/h2oai/h2o-3/blob/integrate-model-deviance-vis/h2o-py/demos/glrm_census_large.ipynb"
               data-name="integrate-model-deviance-vis"
               data-skip-pjax="true"
               rel="nofollow">
              <svg class="octicon octicon-check select-menu-item-icon" viewBox="0 0 12 16" version="1.1" width="12" height="16" aria-hidden="true"><path fill-rule="evenodd" d="M12 5l-8 8-4-4 1.5-1.5L4 10l6.5-6.5L12 5z"/></svg>
              <span class="select-menu-item-text css-truncate-target js-select-menu-filter-text">
                integrate-model-deviance-vis
              </span>
            </a>
            <a class="select-menu-item js-navigation-item js-navigation-open "
               href="/h2oai/h2o-3/blob/integrate-roomscale-scatter/h2o-py/demos/glrm_census_large.ipynb"
               data-name="integrate-roomscale-scatter"
               data-skip-pjax="true"
               rel="nofollow">
              <svg class="octicon octicon-check select-menu-item-icon" viewBox="0 0 12 16" version="1.1" width="12" height="16" aria-hidden="true"><path fill-rule="evenodd" d="M12 5l-8 8-4-4 1.5-1.5L4 10l6.5-6.5L12 5z"/></svg>
              <span class="select-menu-item-text css-truncate-target js-select-menu-filter-text">
                integrate-roomscale-scatter
              </span>
            </a>
            <a class="select-menu-item js-navigation-item js-navigation-open "
               href="/h2oai/h2o-3/blob/iot-4.2/h2o-py/demos/glrm_census_large.ipynb"
               data-name="iot-4.2"
               data-skip-pjax="true"
               rel="nofollow">
              <svg class="octicon octicon-check select-menu-item-icon" viewBox="0 0 12 16" version="1.1" width="12" height="16" aria-hidden="true"><path fill-rule="evenodd" d="M12 5l-8 8-4-4 1.5-1.5L4 10l6.5-6.5L12 5z"/></svg>
              <span class="select-menu-item-text css-truncate-target js-select-menu-filter-text">
                iot-4.2
              </span>
            </a>
            <a class="select-menu-item js-navigation-item js-navigation-open "
               href="/h2oai/h2o-3/blob/ita/308-kerberos/h2o-py/demos/glrm_census_large.ipynb"
               data-name="ita/308-kerberos"
               data-skip-pjax="true"
               rel="nofollow">
              <svg class="octicon octicon-check select-menu-item-icon" viewBox="0 0 12 16" version="1.1" width="12" height="16" aria-hidden="true"><path fill-rule="evenodd" d="M12 5l-8 8-4-4 1.5-1.5L4 10l6.5-6.5L12 5z"/></svg>
              <span class="select-menu-item-text css-truncate-target js-select-menu-filter-text">
                ita/308-kerberos
              </span>
            </a>
            <a class="select-menu-item js-navigation-item js-navigation-open "
               href="/h2oai/h2o-3/blob/jan_jenkins/h2o-py/demos/glrm_census_large.ipynb"
               data-name="jan_jenkins"
               data-skip-pjax="true"
               rel="nofollow">
              <svg class="octicon octicon-check select-menu-item-icon" viewBox="0 0 12 16" version="1.1" width="12" height="16" aria-hidden="true"><path fill-rule="evenodd" d="M12 5l-8 8-4-4 1.5-1.5L4 10l6.5-6.5L12 5z"/></svg>
              <span class="select-menu-item-text css-truncate-target js-select-menu-filter-text">
                jan_jenkins
              </span>
            </a>
            <a class="select-menu-item js-navigation-item js-navigation-open "
               href="/h2oai/h2o-3/blob/jessica-dev-docs/h2o-py/demos/glrm_census_large.ipynb"
               data-name="jessica-dev-docs"
               data-skip-pjax="true"
               rel="nofollow">
              <svg class="octicon octicon-check select-menu-item-icon" viewBox="0 0 12 16" version="1.1" width="12" height="16" aria-hidden="true"><path fill-rule="evenodd" d="M12 5l-8 8-4-4 1.5-1.5L4 10l6.5-6.5L12 5z"/></svg>
              <span class="select-menu-item-text css-truncate-target js-select-menu-filter-text">
                jessica-dev-docs
              </span>
            </a>
            <a class="select-menu-item js-navigation-item js-navigation-open "
               href="/h2oai/h2o-3/blob/jh/jira/PUBDEV-4299-new/h2o-py/demos/glrm_census_large.ipynb"
               data-name="jh/jira/PUBDEV-4299-new"
               data-skip-pjax="true"
               rel="nofollow">
              <svg class="octicon octicon-check select-menu-item-icon" viewBox="0 0 12 16" version="1.1" width="12" height="16" aria-hidden="true"><path fill-rule="evenodd" d="M12 5l-8 8-4-4 1.5-1.5L4 10l6.5-6.5L12 5z"/></svg>
              <span class="select-menu-item-text css-truncate-target js-select-menu-filter-text">
                jh/jira/PUBDEV-4299-new
              </span>
            </a>
            <a class="select-menu-item js-navigation-item js-navigation-open "
               href="/h2oai/h2o-3/blob/jh/jira/pubdev-4292/h2o-py/demos/glrm_census_large.ipynb"
               data-name="jh/jira/pubdev-4292"
               data-skip-pjax="true"
               rel="nofollow">
              <svg class="octicon octicon-check select-menu-item-icon" viewBox="0 0 12 16" version="1.1" width="12" height="16" aria-hidden="true"><path fill-rule="evenodd" d="M12 5l-8 8-4-4 1.5-1.5L4 10l6.5-6.5L12 5z"/></svg>
              <span class="select-menu-item-text css-truncate-target js-select-menu-filter-text">
                jh/jira/pubdev-4292
              </span>
            </a>
            <a class="select-menu-item js-navigation-item js-navigation-open "
               href="/h2oai/h2o-3/blob/jh/jira/pubdev-4541/h2o-py/demos/glrm_census_large.ipynb"
               data-name="jh/jira/pubdev-4541"
               data-skip-pjax="true"
               rel="nofollow">
              <svg class="octicon octicon-check select-menu-item-icon" viewBox="0 0 12 16" version="1.1" width="12" height="16" aria-hidden="true"><path fill-rule="evenodd" d="M12 5l-8 8-4-4 1.5-1.5L4 10l6.5-6.5L12 5z"/></svg>
              <span class="select-menu-item-text css-truncate-target js-select-menu-filter-text">
                jh/jira/pubdev-4541
              </span>
            </a>
            <a class="select-menu-item js-navigation-item js-navigation-open "
               href="/h2oai/h2o-3/blob/jh/jira/pubdev-4555/h2o-py/demos/glrm_census_large.ipynb"
               data-name="jh/jira/pubdev-4555"
               data-skip-pjax="true"
               rel="nofollow">
              <svg class="octicon octicon-check select-menu-item-icon" viewBox="0 0 12 16" version="1.1" width="12" height="16" aria-hidden="true"><path fill-rule="evenodd" d="M12 5l-8 8-4-4 1.5-1.5L4 10l6.5-6.5L12 5z"/></svg>
              <span class="select-menu-item-text css-truncate-target js-select-menu-filter-text">
                jh/jira/pubdev-4555
              </span>
            </a>
            <a class="select-menu-item js-navigation-item js-navigation-open "
               href="/h2oai/h2o-3/blob/jh/jira/pubdev-4763/h2o-py/demos/glrm_census_large.ipynb"
               data-name="jh/jira/pubdev-4763"
               data-skip-pjax="true"
               rel="nofollow">
              <svg class="octicon octicon-check select-menu-item-icon" viewBox="0 0 12 16" version="1.1" width="12" height="16" aria-hidden="true"><path fill-rule="evenodd" d="M12 5l-8 8-4-4 1.5-1.5L4 10l6.5-6.5L12 5z"/></svg>
              <span class="select-menu-item-text css-truncate-target js-select-menu-filter-text">
                jh/jira/pubdev-4763
              </span>
            </a>
            <a class="select-menu-item js-navigation-item js-navigation-open "
               href="/h2oai/h2o-3/blob/johny-readme-tip/h2o-py/demos/glrm_census_large.ipynb"
               data-name="johny-readme-tip"
               data-skip-pjax="true"
               rel="nofollow">
              <svg class="octicon octicon-check select-menu-item-icon" viewBox="0 0 12 16" version="1.1" width="12" height="16" aria-hidden="true"><path fill-rule="evenodd" d="M12 5l-8 8-4-4 1.5-1.5L4 10l6.5-6.5L12 5z"/></svg>
              <span class="select-menu-item-text css-truncate-target js-select-menu-filter-text">
                johny-readme-tip
              </span>
            </a>
            <a class="select-menu-item js-navigation-item js-navigation-open "
               href="/h2oai/h2o-3/blob/johny_PUBDEV-4818-unittest/h2o-py/demos/glrm_census_large.ipynb"
               data-name="johny_PUBDEV-4818-unittest"
               data-skip-pjax="true"
               rel="nofollow">
              <svg class="octicon octicon-check select-menu-item-icon" viewBox="0 0 12 16" version="1.1" width="12" height="16" aria-hidden="true"><path fill-rule="evenodd" d="M12 5l-8 8-4-4 1.5-1.5L4 10l6.5-6.5L12 5z"/></svg>
              <span class="select-menu-item-text css-truncate-target js-select-menu-filter-text">
                johny_PUBDEV-4818-unittest
              </span>
            </a>
            <a class="select-menu-item js-navigation-item js-navigation-open "
               href="/h2oai/h2o-3/blob/kevin/h2o-py/demos/glrm_census_large.ipynb"
               data-name="kevin"
               data-skip-pjax="true"
               rel="nofollow">
              <svg class="octicon octicon-check select-menu-item-icon" viewBox="0 0 12 16" version="1.1" width="12" height="16" aria-hidden="true"><path fill-rule="evenodd" d="M12 5l-8 8-4-4 1.5-1.5L4 10l6.5-6.5L12 5z"/></svg>
              <span class="select-menu-item-text css-truncate-target js-select-menu-filter-text">
                kevin
              </span>
            </a>
            <a class="select-menu-item js-navigation-item js-navigation-open "
               href="/h2oai/h2o-3/blob/klime-fix-order/h2o-py/demos/glrm_census_large.ipynb"
               data-name="klime-fix-order"
               data-skip-pjax="true"
               rel="nofollow">
              <svg class="octicon octicon-check select-menu-item-icon" viewBox="0 0 12 16" version="1.1" width="12" height="16" aria-hidden="true"><path fill-rule="evenodd" d="M12 5l-8 8-4-4 1.5-1.5L4 10l6.5-6.5L12 5z"/></svg>
              <span class="select-menu-item-text css-truncate-target js-select-menu-filter-text">
                klime-fix-order
              </span>
            </a>
            <a class="select-menu-item js-navigation-item js-navigation-open "
               href="/h2oai/h2o-3/blob/kyang_jenkins/h2o-py/demos/glrm_census_large.ipynb"
               data-name="kyang_jenkins"
               data-skip-pjax="true"
               rel="nofollow">
              <svg class="octicon octicon-check select-menu-item-icon" viewBox="0 0 12 16" version="1.1" width="12" height="16" aria-hidden="true"><path fill-rule="evenodd" d="M12 5l-8 8-4-4 1.5-1.5L4 10l6.5-6.5L12 5z"/></svg>
              <span class="select-menu-item-text css-truncate-target js-select-menu-filter-text">
                kyang_jenkins
              </span>
            </a>
            <a class="select-menu-item js-navigation-item js-navigation-open "
               href="/h2oai/h2o-3/blob/leefix/h2o-py/demos/glrm_census_large.ipynb"
               data-name="leefix"
               data-skip-pjax="true"
               rel="nofollow">
              <svg class="octicon octicon-check select-menu-item-icon" viewBox="0 0 12 16" version="1.1" width="12" height="16" aria-hidden="true"><path fill-rule="evenodd" d="M12 5l-8 8-4-4 1.5-1.5L4 10l6.5-6.5L12 5z"/></svg>
              <span class="select-menu-item-text css-truncate-target js-select-menu-filter-text">
                leefix
              </span>
            </a>
            <a class="select-menu-item js-navigation-item js-navigation-open "
               href="/h2oai/h2o-3/blob/ludi_2/h2o-py/demos/glrm_census_large.ipynb"
               data-name="ludi_2"
               data-skip-pjax="true"
               rel="nofollow">
              <svg class="octicon octicon-check select-menu-item-icon" viewBox="0 0 12 16" version="1.1" width="12" height="16" aria-hidden="true"><path fill-rule="evenodd" d="M12 5l-8 8-4-4 1.5-1.5L4 10l6.5-6.5L12 5z"/></svg>
              <span class="select-menu-item-text css-truncate-target js-select-menu-filter-text">
                ludi_2
              </span>
            </a>
            <a class="select-menu-item js-navigation-item js-navigation-open "
               href="/h2oai/h2o-3/blob/maset/h2o-py/demos/glrm_census_large.ipynb"
               data-name="maset"
               data-skip-pjax="true"
               rel="nofollow">
              <svg class="octicon octicon-check select-menu-item-icon" viewBox="0 0 12 16" version="1.1" width="12" height="16" aria-hidden="true"><path fill-rule="evenodd" d="M12 5l-8 8-4-4 1.5-1.5L4 10l6.5-6.5L12 5z"/></svg>
              <span class="select-menu-item-text css-truncate-target js-select-menu-filter-text">
                maset
              </span>
            </a>
            <a class="select-menu-item js-navigation-item js-navigation-open selected"
               href="/h2oai/h2o-3/blob/master/h2o-py/demos/glrm_census_large.ipynb"
               data-name="master"
               data-skip-pjax="true"
               rel="nofollow">
              <svg class="octicon octicon-check select-menu-item-icon" viewBox="0 0 12 16" version="1.1" width="12" height="16" aria-hidden="true"><path fill-rule="evenodd" d="M12 5l-8 8-4-4 1.5-1.5L4 10l6.5-6.5L12 5z"/></svg>
              <span class="select-menu-item-text css-truncate-target js-select-menu-filter-text">
                master
              </span>
            </a>
            <a class="select-menu-item js-navigation-item js-navigation-open "
               href="/h2oai/h2o-3/blob/mateusz-dist-xgboost/h2o-py/demos/glrm_census_large.ipynb"
               data-name="mateusz-dist-xgboost"
               data-skip-pjax="true"
               rel="nofollow">
              <svg class="octicon octicon-check select-menu-item-icon" viewBox="0 0 12 16" version="1.1" width="12" height="16" aria-hidden="true"><path fill-rule="evenodd" d="M12 5l-8 8-4-4 1.5-1.5L4 10l6.5-6.5L12 5z"/></svg>
              <span class="select-menu-item-text css-truncate-target js-select-menu-filter-text">
                mateusz-dist-xgboost
              </span>
            </a>
            <a class="select-menu-item js-navigation-item js-navigation-open "
               href="/h2oai/h2o-3/blob/mateusz-xgboost2/h2o-py/demos/glrm_census_large.ipynb"
               data-name="mateusz-xgboost2"
               data-skip-pjax="true"
               rel="nofollow">
              <svg class="octicon octicon-check select-menu-item-icon" viewBox="0 0 12 16" version="1.1" width="12" height="16" aria-hidden="true"><path fill-rule="evenodd" d="M12 5l-8 8-4-4 1.5-1.5L4 10l6.5-6.5L12 5z"/></svg>
              <span class="select-menu-item-text css-truncate-target js-select-menu-filter-text">
                mateusz-xgboost2
              </span>
            </a>
            <a class="select-menu-item js-navigation-item js-navigation-open "
               href="/h2oai/h2o-3/blob/mathemage-kmeans-daal/h2o-py/demos/glrm_census_large.ipynb"
               data-name="mathemage-kmeans-daal"
               data-skip-pjax="true"
               rel="nofollow">
              <svg class="octicon octicon-check select-menu-item-icon" viewBox="0 0 12 16" version="1.1" width="12" height="16" aria-hidden="true"><path fill-rule="evenodd" d="M12 5l-8 8-4-4 1.5-1.5L4 10l6.5-6.5L12 5z"/></svg>
              <span class="select-menu-item-text css-truncate-target js-select-menu-filter-text">
                mathemage-kmeans-daal
              </span>
            </a>
            <a class="select-menu-item js-navigation-item js-navigation-open "
               href="/h2oai/h2o-3/blob/mattd_jenkins/h2o-py/demos/glrm_census_large.ipynb"
               data-name="mattd_jenkins"
               data-skip-pjax="true"
               rel="nofollow">
              <svg class="octicon octicon-check select-menu-item-icon" viewBox="0 0 12 16" version="1.1" width="12" height="16" aria-hidden="true"><path fill-rule="evenodd" d="M12 5l-8 8-4-4 1.5-1.5L4 10l6.5-6.5L12 5z"/></svg>
              <span class="select-menu-item-text css-truncate-target js-select-menu-filter-text">
                mattd_jenkins
              </span>
            </a>
            <a class="select-menu-item js-navigation-item js-navigation-open "
               href="/h2oai/h2o-3/blob/mattd_scratch/h2o-py/demos/glrm_census_large.ipynb"
               data-name="mattd_scratch"
               data-skip-pjax="true"
               rel="nofollow">
              <svg class="octicon octicon-check select-menu-item-icon" viewBox="0 0 12 16" version="1.1" width="12" height="16" aria-hidden="true"><path fill-rule="evenodd" d="M12 5l-8 8-4-4 1.5-1.5L4 10l6.5-6.5L12 5z"/></svg>
              <span class="select-menu-item-text css-truncate-target js-select-menu-filter-text">
                mattd_scratch
              </span>
            </a>
            <a class="select-menu-item js-navigation-item js-navigation-open "
               href="/h2oai/h2o-3/blob/md_pubdev5366/h2o-py/demos/glrm_census_large.ipynb"
               data-name="md_pubdev5366"
               data-skip-pjax="true"
               rel="nofollow">
              <svg class="octicon octicon-check select-menu-item-icon" viewBox="0 0 12 16" version="1.1" width="12" height="16" aria-hidden="true"><path fill-rule="evenodd" d="M12 5l-8 8-4-4 1.5-1.5L4 10l6.5-6.5L12 5z"/></svg>
              <span class="select-menu-item-text css-truncate-target js-select-menu-filter-text">
                md_pubdev5366
              </span>
            </a>
            <a class="select-menu-item js-navigation-item js-navigation-open "
               href="/h2oai/h2o-3/blob/mean_targetencoding_fix/h2o-py/demos/glrm_census_large.ipynb"
               data-name="mean_targetencoding_fix"
               data-skip-pjax="true"
               rel="nofollow">
              <svg class="octicon octicon-check select-menu-item-icon" viewBox="0 0 12 16" version="1.1" width="12" height="16" aria-hidden="true"><path fill-rule="evenodd" d="M12 5l-8 8-4-4 1.5-1.5L4 10l6.5-6.5L12 5z"/></svg>
              <span class="select-menu-item-text css-truncate-target js-select-menu-filter-text">
                mean_targetencoding_fix
              </span>
            </a>
            <a class="select-menu-item js-navigation-item js-navigation-open "
               href="/h2oai/h2o-3/blob/megan_te_doc/h2o-py/demos/glrm_census_large.ipynb"
               data-name="megan_te_doc"
               data-skip-pjax="true"
               rel="nofollow">
              <svg class="octicon octicon-check select-menu-item-icon" viewBox="0 0 12 16" version="1.1" width="12" height="16" aria-hidden="true"><path fill-rule="evenodd" d="M12 5l-8 8-4-4 1.5-1.5L4 10l6.5-6.5L12 5z"/></svg>
              <span class="select-menu-item-text css-truncate-target js-select-menu-filter-text">
                megan_te_doc
              </span>
            </a>
            <a class="select-menu-item js-navigation-item js-navigation-open "
               href="/h2oai/h2o-3/blob/michal-fix-dl-mojo-weier/h2o-py/demos/glrm_census_large.ipynb"
               data-name="michal-fix-dl-mojo-weier"
               data-skip-pjax="true"
               rel="nofollow">
              <svg class="octicon octicon-check select-menu-item-icon" viewBox="0 0 12 16" version="1.1" width="12" height="16" aria-hidden="true"><path fill-rule="evenodd" d="M12 5l-8 8-4-4 1.5-1.5L4 10l6.5-6.5L12 5z"/></svg>
              <span class="select-menu-item-text css-truncate-target js-select-menu-filter-text">
                michal-fix-dl-mojo-weier
              </span>
            </a>
            <a class="select-menu-item js-navigation-item js-navigation-open "
               href="/h2oai/h2o-3/blob/michal-fix-grid-search-npe/h2o-py/demos/glrm_census_large.ipynb"
               data-name="michal-fix-grid-search-npe"
               data-skip-pjax="true"
               rel="nofollow">
              <svg class="octicon octicon-check select-menu-item-icon" viewBox="0 0 12 16" version="1.1" width="12" height="16" aria-hidden="true"><path fill-rule="evenodd" d="M12 5l-8 8-4-4 1.5-1.5L4 10l6.5-6.5L12 5z"/></svg>
              <span class="select-menu-item-text css-truncate-target js-select-menu-filter-text">
                michal-fix-grid-search-npe
              </span>
            </a>
            <a class="select-menu-item js-navigation-item js-navigation-open "
               href="/h2oai/h2o-3/blob/michal_coxph-init-fix/h2o-py/demos/glrm_census_large.ipynb"
               data-name="michal_coxph-init-fix"
               data-skip-pjax="true"
               rel="nofollow">
              <svg class="octicon octicon-check select-menu-item-icon" viewBox="0 0 12 16" version="1.1" width="12" height="16" aria-hidden="true"><path fill-rule="evenodd" d="M12 5l-8 8-4-4 1.5-1.5L4 10l6.5-6.5L12 5z"/></svg>
              <span class="select-menu-item-text css-truncate-target js-select-menu-filter-text">
                michal_coxph-init-fix
              </span>
            </a>
            <a class="select-menu-item js-navigation-item js-navigation-open "
               href="/h2oai/h2o-3/blob/michal_jenkins/h2o-py/demos/glrm_census_large.ipynb"
               data-name="michal_jenkins"
               data-skip-pjax="true"
               rel="nofollow">
              <svg class="octicon octicon-check select-menu-item-icon" viewBox="0 0 12 16" version="1.1" width="12" height="16" aria-hidden="true"><path fill-rule="evenodd" d="M12 5l-8 8-4-4 1.5-1.5L4 10l6.5-6.5L12 5z"/></svg>
              <span class="select-menu-item-text css-truncate-target js-select-menu-filter-text">
                michal_jenkins
              </span>
            </a>
            <a class="select-menu-item js-navigation-item js-navigation-open "
               href="/h2oai/h2o-3/blob/michalk-bueno/h2o-py/demos/glrm_census_large.ipynb"
               data-name="michalk-bueno"
               data-skip-pjax="true"
               rel="nofollow">
              <svg class="octicon octicon-check select-menu-item-icon" viewBox="0 0 12 16" version="1.1" width="12" height="16" aria-hidden="true"><path fill-rule="evenodd" d="M12 5l-8 8-4-4 1.5-1.5L4 10l6.5-6.5L12 5z"/></svg>
              <span class="select-menu-item-text css-truncate-target js-select-menu-filter-text">
                michalk-bueno
              </span>
            </a>
            <a class="select-menu-item js-navigation-item js-navigation-open "
               href="/h2oai/h2o-3/blob/michalk-fix-auth-rw/h2o-py/demos/glrm_census_large.ipynb"
               data-name="michalk-fix-auth-rw"
               data-skip-pjax="true"
               rel="nofollow">
              <svg class="octicon octicon-check select-menu-item-icon" viewBox="0 0 12 16" version="1.1" width="12" height="16" aria-hidden="true"><path fill-rule="evenodd" d="M12 5l-8 8-4-4 1.5-1.5L4 10l6.5-6.5L12 5z"/></svg>
              <span class="select-menu-item-text css-truncate-target js-select-menu-filter-text">
                michalk-fix-auth-rw
              </span>
            </a>
            <a class="select-menu-item js-navigation-item js-navigation-open "
               href="/h2oai/h2o-3/blob/michalk-fix-glm-sparse/h2o-py/demos/glrm_census_large.ipynb"
               data-name="michalk-fix-glm-sparse"
               data-skip-pjax="true"
               rel="nofollow">
              <svg class="octicon octicon-check select-menu-item-icon" viewBox="0 0 12 16" version="1.1" width="12" height="16" aria-hidden="true"><path fill-rule="evenodd" d="M12 5l-8 8-4-4 1.5-1.5L4 10l6.5-6.5L12 5z"/></svg>
              <span class="select-menu-item-text css-truncate-target js-select-menu-filter-text">
                michalk-fix-glm-sparse
              </span>
            </a>
            <a class="select-menu-item js-navigation-item js-navigation-open "
               href="/h2oai/h2o-3/blob/michalk-fix-hasFloat-NA/h2o-py/demos/glrm_census_large.ipynb"
               data-name="michalk-fix-hasFloat-NA"
               data-skip-pjax="true"
               rel="nofollow">
              <svg class="octicon octicon-check select-menu-item-icon" viewBox="0 0 12 16" version="1.1" width="12" height="16" aria-hidden="true"><path fill-rule="evenodd" d="M12 5l-8 8-4-4 1.5-1.5L4 10l6.5-6.5L12 5z"/></svg>
              <span class="select-menu-item-text css-truncate-target js-select-menu-filter-text">
                michalk-fix-hasFloat-NA
              </span>
            </a>
            <a class="select-menu-item js-navigation-item js-navigation-open "
               href="/h2oai/h2o-3/blob/michalk-fix-lending-club-demo/h2o-py/demos/glrm_census_large.ipynb"
               data-name="michalk-fix-lending-club-demo"
               data-skip-pjax="true"
               rel="nofollow">
              <svg class="octicon octicon-check select-menu-item-icon" viewBox="0 0 12 16" version="1.1" width="12" height="16" aria-hidden="true"><path fill-rule="evenodd" d="M12 5l-8 8-4-4 1.5-1.5L4 10l6.5-6.5L12 5z"/></svg>
              <span class="select-menu-item-text css-truncate-target js-select-menu-filter-text">
                michalk-fix-lending-club-demo
              </span>
            </a>
            <a class="select-menu-item js-navigation-item js-navigation-open "
               href="/h2oai/h2o-3/blob/michalk-fix-moments/h2o-py/demos/glrm_census_large.ipynb"
               data-name="michalk-fix-moments"
               data-skip-pjax="true"
               rel="nofollow">
              <svg class="octicon octicon-check select-menu-item-icon" viewBox="0 0 12 16" version="1.1" width="12" height="16" aria-hidden="true"><path fill-rule="evenodd" d="M12 5l-8 8-4-4 1.5-1.5L4 10l6.5-6.5L12 5z"/></svg>
              <span class="select-menu-item-text css-truncate-target js-select-menu-filter-text">
                michalk-fix-moments
              </span>
            </a>
            <a class="select-menu-item js-navigation-item js-navigation-open "
               href="/h2oai/h2o-3/blob/michalk-fix-r-java/h2o-py/demos/glrm_census_large.ipynb"
               data-name="michalk-fix-r-java"
               data-skip-pjax="true"
               rel="nofollow">
              <svg class="octicon octicon-check select-menu-item-icon" viewBox="0 0 12 16" version="1.1" width="12" height="16" aria-hidden="true"><path fill-rule="evenodd" d="M12 5l-8 8-4-4 1.5-1.5L4 10l6.5-6.5L12 5z"/></svg>
              <span class="select-menu-item-text css-truncate-target js-select-menu-filter-text">
                michalk-fix-r-java
              </span>
            </a>
            <a class="select-menu-item js-navigation-item js-navigation-open "
               href="/h2oai/h2o-3/blob/michalk-fix-xgb-cats/h2o-py/demos/glrm_census_large.ipynb"
               data-name="michalk-fix-xgb-cats"
               data-skip-pjax="true"
               rel="nofollow">
              <svg class="octicon octicon-check select-menu-item-icon" viewBox="0 0 12 16" version="1.1" width="12" height="16" aria-hidden="true"><path fill-rule="evenodd" d="M12 5l-8 8-4-4 1.5-1.5L4 10l6.5-6.5L12 5z"/></svg>
              <span class="select-menu-item-text css-truncate-target js-select-menu-filter-text">
                michalk-fix-xgb-cats
              </span>
            </a>
            <a class="select-menu-item js-navigation-item js-navigation-open "
               href="/h2oai/h2o-3/blob/michalk-hotfix-PUBDEV-4036/h2o-py/demos/glrm_census_large.ipynb"
               data-name="michalk-hotfix-PUBDEV-4036"
               data-skip-pjax="true"
               rel="nofollow">
              <svg class="octicon octicon-check select-menu-item-icon" viewBox="0 0 12 16" version="1.1" width="12" height="16" aria-hidden="true"><path fill-rule="evenodd" d="M12 5l-8 8-4-4 1.5-1.5L4 10l6.5-6.5L12 5z"/></svg>
              <span class="select-menu-item-text css-truncate-target js-select-menu-filter-text">
                michalk-hotfix-PUBDEV-4036
              </span>
            </a>
            <a class="select-menu-item js-navigation-item js-navigation-open "
               href="/h2oai/h2o-3/blob/michalk-j10-fix/h2o-py/demos/glrm_census_large.ipynb"
               data-name="michalk-j10-fix"
               data-skip-pjax="true"
               rel="nofollow">
              <svg class="octicon octicon-check select-menu-item-icon" viewBox="0 0 12 16" version="1.1" width="12" height="16" aria-hidden="true"><path fill-rule="evenodd" d="M12 5l-8 8-4-4 1.5-1.5L4 10l6.5-6.5L12 5z"/></svg>
              <span class="select-menu-item-text css-truncate-target js-select-menu-filter-text">
                michalk-j10-fix
              </span>
            </a>
            <a class="select-menu-item js-navigation-item js-navigation-open "
               href="/h2oai/h2o-3/blob/michalk-kill-jetty6/h2o-py/demos/glrm_census_large.ipynb"
               data-name="michalk-kill-jetty6"
               data-skip-pjax="true"
               rel="nofollow">
              <svg class="octicon octicon-check select-menu-item-icon" viewBox="0 0 12 16" version="1.1" width="12" height="16" aria-hidden="true"><path fill-rule="evenodd" d="M12 5l-8 8-4-4 1.5-1.5L4 10l6.5-6.5L12 5z"/></svg>
              <span class="select-menu-item-text css-truncate-target js-select-menu-filter-text">
                michalk-kill-jetty6
              </span>
            </a>
            <a class="select-menu-item js-navigation-item js-navigation-open "
               href="/h2oai/h2o-3/blob/michalk-w2v-mojo/h2o-py/demos/glrm_census_large.ipynb"
               data-name="michalk-w2v-mojo"
               data-skip-pjax="true"
               rel="nofollow">
              <svg class="octicon octicon-check select-menu-item-icon" viewBox="0 0 12 16" version="1.1" width="12" height="16" aria-hidden="true"><path fill-rule="evenodd" d="M12 5l-8 8-4-4 1.5-1.5L4 10l6.5-6.5L12 5z"/></svg>
              <span class="select-menu-item-text css-truncate-target js-select-menu-filter-text">
                michalk-w2v-mojo
              </span>
            </a>
            <a class="select-menu-item js-navigation-item js-navigation-open "
               href="/h2oai/h2o-3/blob/michalk-w2v-pretrained/h2o-py/demos/glrm_census_large.ipynb"
               data-name="michalk-w2v-pretrained"
               data-skip-pjax="true"
               rel="nofollow">
              <svg class="octicon octicon-check select-menu-item-icon" viewBox="0 0 12 16" version="1.1" width="12" height="16" aria-hidden="true"><path fill-rule="evenodd" d="M12 5l-8 8-4-4 1.5-1.5L4 10l6.5-6.5L12 5z"/></svg>
              <span class="select-menu-item-text css-truncate-target js-select-menu-filter-text">
                michalk-w2v-pretrained
              </span>
            </a>
            <a class="select-menu-item js-navigation-item js-navigation-open "
               href="/h2oai/h2o-3/blob/michalk-xgb_leak-hotfix/h2o-py/demos/glrm_census_large.ipynb"
               data-name="michalk-xgb_leak-hotfix"
               data-skip-pjax="true"
               rel="nofollow">
              <svg class="octicon octicon-check select-menu-item-icon" viewBox="0 0 12 16" version="1.1" width="12" height="16" aria-hidden="true"><path fill-rule="evenodd" d="M12 5l-8 8-4-4 1.5-1.5L4 10l6.5-6.5L12 5z"/></svg>
              <span class="select-menu-item-text css-truncate-target js-select-menu-filter-text">
                michalk-xgb_leak-hotfix
              </span>
            </a>
            <a class="select-menu-item js-navigation-item js-navigation-open "
               href="/h2oai/h2o-3/blob/michalk_PUBDEV-3988/h2o-py/demos/glrm_census_large.ipynb"
               data-name="michalk_PUBDEV-3988"
               data-skip-pjax="true"
               rel="nofollow">
              <svg class="octicon octicon-check select-menu-item-icon" viewBox="0 0 12 16" version="1.1" width="12" height="16" aria-hidden="true"><path fill-rule="evenodd" d="M12 5l-8 8-4-4 1.5-1.5L4 10l6.5-6.5L12 5z"/></svg>
              <span class="select-menu-item-text css-truncate-target js-select-menu-filter-text">
                michalk_PUBDEV-3988
              </span>
            </a>
            <a class="select-menu-item js-navigation-item js-navigation-open "
               href="/h2oai/h2o-3/blob/michalk_PUBDEV-4857/h2o-py/demos/glrm_census_large.ipynb"
               data-name="michalk_PUBDEV-4857"
               data-skip-pjax="true"
               rel="nofollow">
              <svg class="octicon octicon-check select-menu-item-icon" viewBox="0 0 12 16" version="1.1" width="12" height="16" aria-hidden="true"><path fill-rule="evenodd" d="M12 5l-8 8-4-4 1.5-1.5L4 10l6.5-6.5L12 5z"/></svg>
              <span class="select-menu-item-text css-truncate-target js-select-menu-filter-text">
                michalk_PUBDEV-4857
              </span>
            </a>
            <a class="select-menu-item js-navigation-item js-navigation-open "
               href="/h2oai/h2o-3/blob/michalk_aenc-reconstruction-err/h2o-py/demos/glrm_census_large.ipynb"
               data-name="michalk_aenc-reconstruction-err"
               data-skip-pjax="true"
               rel="nofollow">
              <svg class="octicon octicon-check select-menu-item-icon" viewBox="0 0 12 16" version="1.1" width="12" height="16" aria-hidden="true"><path fill-rule="evenodd" d="M12 5l-8 8-4-4 1.5-1.5L4 10l6.5-6.5L12 5z"/></svg>
              <span class="select-menu-item-text css-truncate-target js-select-menu-filter-text">
                michalk_aenc-reconstruction-err
              </span>
            </a>
            <a class="select-menu-item js-navigation-item js-navigation-open "
               href="/h2oai/h2o-3/blob/michalk_algo-rapids/h2o-py/demos/glrm_census_large.ipynb"
               data-name="michalk_algo-rapids"
               data-skip-pjax="true"
               rel="nofollow">
              <svg class="octicon octicon-check select-menu-item-icon" viewBox="0 0 12 16" version="1.1" width="12" height="16" aria-hidden="true"><path fill-rule="evenodd" d="M12 5l-8 8-4-4 1.5-1.5L4 10l6.5-6.5L12 5z"/></svg>
              <span class="select-menu-item-text css-truncate-target js-select-menu-filter-text">
                michalk_algo-rapids
              </span>
            </a>
            <a class="select-menu-item js-navigation-item js-navigation-open "
               href="/h2oai/h2o-3/blob/michalk_arff-spaces/h2o-py/demos/glrm_census_large.ipynb"
               data-name="michalk_arff-spaces"
               data-skip-pjax="true"
               rel="nofollow">
              <svg class="octicon octicon-check select-menu-item-icon" viewBox="0 0 12 16" version="1.1" width="12" height="16" aria-hidden="true"><path fill-rule="evenodd" d="M12 5l-8 8-4-4 1.5-1.5L4 10l6.5-6.5L12 5z"/></svg>
              <span class="select-menu-item-text css-truncate-target js-select-menu-filter-text">
                michalk_arff-spaces
              </span>
            </a>
            <a class="select-menu-item js-navigation-item js-navigation-open "
               href="/h2oai/h2o-3/blob/michalk_astmatch/h2o-py/demos/glrm_census_large.ipynb"
               data-name="michalk_astmatch"
               data-skip-pjax="true"
               rel="nofollow">
              <svg class="octicon octicon-check select-menu-item-icon" viewBox="0 0 12 16" version="1.1" width="12" height="16" aria-hidden="true"><path fill-rule="evenodd" d="M12 5l-8 8-4-4 1.5-1.5L4 10l6.5-6.5L12 5z"/></svg>
              <span class="select-menu-item-text css-truncate-target js-select-menu-filter-text">
                michalk_astmatch
              </span>
            </a>
            <a class="select-menu-item js-navigation-item js-navigation-open "
               href="/h2oai/h2o-3/blob/michalk_auchist/h2o-py/demos/glrm_census_large.ipynb"
               data-name="michalk_auchist"
               data-skip-pjax="true"
               rel="nofollow">
              <svg class="octicon octicon-check select-menu-item-icon" viewBox="0 0 12 16" version="1.1" width="12" height="16" aria-hidden="true"><path fill-rule="evenodd" d="M12 5l-8 8-4-4 1.5-1.5L4 10l6.5-6.5L12 5z"/></svg>
              <span class="select-menu-item-text css-truncate-target js-select-menu-filter-text">
                michalk_auchist
              </span>
            </a>
            <a class="select-menu-item js-navigation-item js-navigation-open "
               href="/h2oai/h2o-3/blob/michalk_autoenc/h2o-py/demos/glrm_census_large.ipynb"
               data-name="michalk_autoenc"
               data-skip-pjax="true"
               rel="nofollow">
              <svg class="octicon octicon-check select-menu-item-icon" viewBox="0 0 12 16" version="1.1" width="12" height="16" aria-hidden="true"><path fill-rule="evenodd" d="M12 5l-8 8-4-4 1.5-1.5L4 10l6.5-6.5L12 5z"/></svg>
              <span class="select-menu-item-text css-truncate-target js-select-menu-filter-text">
                michalk_autoenc
              </span>
            </a>
            <a class="select-menu-item js-navigation-item js-navigation-open "
               href="/h2oai/h2o-3/blob/michalk_bulkbuild/h2o-py/demos/glrm_census_large.ipynb"
               data-name="michalk_bulkbuild"
               data-skip-pjax="true"
               rel="nofollow">
              <svg class="octicon octicon-check select-menu-item-icon" viewBox="0 0 12 16" version="1.1" width="12" height="16" aria-hidden="true"><path fill-rule="evenodd" d="M12 5l-8 8-4-4 1.5-1.5L4 10l6.5-6.5L12 5z"/></svg>
              <span class="select-menu-item-text css-truncate-target js-select-menu-filter-text">
                michalk_bulkbuild
              </span>
            </a>
            <a class="select-menu-item js-navigation-item js-navigation-open "
               href="/h2oai/h2o-3/blob/michalk_caching/h2o-py/demos/glrm_census_large.ipynb"
               data-name="michalk_caching"
               data-skip-pjax="true"
               rel="nofollow">
              <svg class="octicon octicon-check select-menu-item-icon" viewBox="0 0 12 16" version="1.1" width="12" height="16" aria-hidden="true"><path fill-rule="evenodd" d="M12 5l-8 8-4-4 1.5-1.5L4 10l6.5-6.5L12 5z"/></svg>
              <span class="select-menu-item-text css-truncate-target js-select-menu-filter-text">
                michalk_caching
              </span>
            </a>
            <a class="select-menu-item js-navigation-item js-navigation-open "
               href="/h2oai/h2o-3/blob/michalk_cat-utf8-cleanup/h2o-py/demos/glrm_census_large.ipynb"
               data-name="michalk_cat-utf8-cleanup"
               data-skip-pjax="true"
               rel="nofollow">
              <svg class="octicon octicon-check select-menu-item-icon" viewBox="0 0 12 16" version="1.1" width="12" height="16" aria-hidden="true"><path fill-rule="evenodd" d="M12 5l-8 8-4-4 1.5-1.5L4 10l6.5-6.5L12 5z"/></svg>
              <span class="select-menu-item-text css-truncate-target js-select-menu-filter-text">
                michalk_cat-utf8-cleanup
              </span>
            </a>
            <a class="select-menu-item js-navigation-item js-navigation-open "
               href="/h2oai/h2o-3/blob/michalk_cdh510/h2o-py/demos/glrm_census_large.ipynb"
               data-name="michalk_cdh510"
               data-skip-pjax="true"
               rel="nofollow">
              <svg class="octicon octicon-check select-menu-item-icon" viewBox="0 0 12 16" version="1.1" width="12" height="16" aria-hidden="true"><path fill-rule="evenodd" d="M12 5l-8 8-4-4 1.5-1.5L4 10l6.5-6.5L12 5z"/></svg>
              <span class="select-menu-item-text css-truncate-target js-select-menu-filter-text">
                michalk_cdh510
              </span>
            </a>
            <a class="select-menu-item js-navigation-item js-navigation-open "
               href="/h2oai/h2o-3/blob/michalk_cleanup/h2o-py/demos/glrm_census_large.ipynb"
               data-name="michalk_cleanup"
               data-skip-pjax="true"
               rel="nofollow">
              <svg class="octicon octicon-check select-menu-item-icon" viewBox="0 0 12 16" version="1.1" width="12" height="16" aria-hidden="true"><path fill-rule="evenodd" d="M12 5l-8 8-4-4 1.5-1.5L4 10l6.5-6.5L12 5z"/></svg>
              <span class="select-menu-item-text css-truncate-target js-select-menu-filter-text">
                michalk_cleanup
              </span>
            </a>
            <a class="select-menu-item js-navigation-item js-navigation-open "
               href="/h2oai/h2o-3/blob/michalk_closing-time/h2o-py/demos/glrm_census_large.ipynb"
               data-name="michalk_closing-time"
               data-skip-pjax="true"
               rel="nofollow">
              <svg class="octicon octicon-check select-menu-item-icon" viewBox="0 0 12 16" version="1.1" width="12" height="16" aria-hidden="true"><path fill-rule="evenodd" d="M12 5l-8 8-4-4 1.5-1.5L4 10l6.5-6.5L12 5z"/></svg>
              <span class="select-menu-item-text css-truncate-target js-select-menu-filter-text">
                michalk_closing-time
              </span>
            </a>
            <a class="select-menu-item js-navigation-item js-navigation-open "
               href="/h2oai/h2o-3/blob/michalk_cm-limit/h2o-py/demos/glrm_census_large.ipynb"
               data-name="michalk_cm-limit"
               data-skip-pjax="true"
               rel="nofollow">
              <svg class="octicon octicon-check select-menu-item-icon" viewBox="0 0 12 16" version="1.1" width="12" height="16" aria-hidden="true"><path fill-rule="evenodd" d="M12 5l-8 8-4-4 1.5-1.5L4 10l6.5-6.5L12 5z"/></svg>
              <span class="select-menu-item-text css-truncate-target js-select-menu-filter-text">
                michalk_cm-limit
              </span>
            </a>
            <a class="select-menu-item js-navigation-item js-navigation-open "
               href="/h2oai/h2o-3/blob/michalk_compressed-forest/h2o-py/demos/glrm_census_large.ipynb"
               data-name="michalk_compressed-forest"
               data-skip-pjax="true"
               rel="nofollow">
              <svg class="octicon octicon-check select-menu-item-icon" viewBox="0 0 12 16" version="1.1" width="12" height="16" aria-hidden="true"><path fill-rule="evenodd" d="M12 5l-8 8-4-4 1.5-1.5L4 10l6.5-6.5L12 5z"/></svg>
              <span class="select-menu-item-text css-truncate-target js-select-menu-filter-text">
                michalk_compressed-forest
              </span>
            </a>
            <a class="select-menu-item js-navigation-item js-navigation-open "
               href="/h2oai/h2o-3/blob/michalk_coxph-boost/h2o-py/demos/glrm_census_large.ipynb"
               data-name="michalk_coxph-boost"
               data-skip-pjax="true"
               rel="nofollow">
              <svg class="octicon octicon-check select-menu-item-icon" viewBox="0 0 12 16" version="1.1" width="12" height="16" aria-hidden="true"><path fill-rule="evenodd" d="M12 5l-8 8-4-4 1.5-1.5L4 10l6.5-6.5L12 5z"/></svg>
              <span class="select-menu-item-text css-truncate-target js-select-menu-filter-text">
                michalk_coxph-boost
              </span>
            </a>
            <a class="select-menu-item js-navigation-item js-navigation-open "
               href="/h2oai/h2o-3/blob/michalk_coxph-cleanup/h2o-py/demos/glrm_census_large.ipynb"
               data-name="michalk_coxph-cleanup"
               data-skip-pjax="true"
               rel="nofollow">
              <svg class="octicon octicon-check select-menu-item-icon" viewBox="0 0 12 16" version="1.1" width="12" height="16" aria-hidden="true"><path fill-rule="evenodd" d="M12 5l-8 8-4-4 1.5-1.5L4 10l6.5-6.5L12 5z"/></svg>
              <span class="select-menu-item-text css-truncate-target js-select-menu-filter-text">
                michalk_coxph-cleanup
              </span>
            </a>
            <a class="select-menu-item js-navigation-item js-navigation-open "
               href="/h2oai/h2o-3/blob/michalk_coxph-discrete-time/h2o-py/demos/glrm_census_large.ipynb"
               data-name="michalk_coxph-discrete-time"
               data-skip-pjax="true"
               rel="nofollow">
              <svg class="octicon octicon-check select-menu-item-icon" viewBox="0 0 12 16" version="1.1" width="12" height="16" aria-hidden="true"><path fill-rule="evenodd" d="M12 5l-8 8-4-4 1.5-1.5L4 10l6.5-6.5L12 5z"/></svg>
              <span class="select-menu-item-text css-truncate-target js-select-menu-filter-text">
                michalk_coxph-discrete-time
              </span>
            </a>
            <a class="select-menu-item js-navigation-item js-navigation-open "
               href="/h2oai/h2o-3/blob/michalk_coxph-fix-event/h2o-py/demos/glrm_census_large.ipynb"
               data-name="michalk_coxph-fix-event"
               data-skip-pjax="true"
               rel="nofollow">
              <svg class="octicon octicon-check select-menu-item-icon" viewBox="0 0 12 16" version="1.1" width="12" height="16" aria-hidden="true"><path fill-rule="evenodd" d="M12 5l-8 8-4-4 1.5-1.5L4 10l6.5-6.5L12 5z"/></svg>
              <span class="select-menu-item-text css-truncate-target js-select-menu-filter-text">
                michalk_coxph-fix-event
              </span>
            </a>
            <a class="select-menu-item js-navigation-item js-navigation-open "
               href="/h2oai/h2o-3/blob/michalk_coxph-fix-iter-max/h2o-py/demos/glrm_census_large.ipynb"
               data-name="michalk_coxph-fix-iter-max"
               data-skip-pjax="true"
               rel="nofollow">
              <svg class="octicon octicon-check select-menu-item-icon" viewBox="0 0 12 16" version="1.1" width="12" height="16" aria-hidden="true"><path fill-rule="evenodd" d="M12 5l-8 8-4-4 1.5-1.5L4 10l6.5-6.5L12 5z"/></svg>
              <span class="select-menu-item-text css-truncate-target js-select-menu-filter-text">
                michalk_coxph-fix-iter-max
              </span>
            </a>
            <a class="select-menu-item js-navigation-item js-navigation-open "
               href="/h2oai/h2o-3/blob/michalk_coxph-fix-warning/h2o-py/demos/glrm_census_large.ipynb"
               data-name="michalk_coxph-fix-warning"
               data-skip-pjax="true"
               rel="nofollow">
              <svg class="octicon octicon-check select-menu-item-icon" viewBox="0 0 12 16" version="1.1" width="12" height="16" aria-hidden="true"><path fill-rule="evenodd" d="M12 5l-8 8-4-4 1.5-1.5L4 10l6.5-6.5L12 5z"/></svg>
              <span class="select-menu-item-text css-truncate-target js-select-menu-filter-text">
                michalk_coxph-fix-warning
              </span>
            </a>
            <a class="select-menu-item js-navigation-item js-navigation-open "
               href="/h2oai/h2o-3/blob/michalk_coxph-floating-time/h2o-py/demos/glrm_census_large.ipynb"
               data-name="michalk_coxph-floating-time"
               data-skip-pjax="true"
               rel="nofollow">
              <svg class="octicon octicon-check select-menu-item-icon" viewBox="0 0 12 16" version="1.1" width="12" height="16" aria-hidden="true"><path fill-rule="evenodd" d="M12 5l-8 8-4-4 1.5-1.5L4 10l6.5-6.5L12 5z"/></svg>
              <span class="select-menu-item-text css-truncate-target js-select-menu-filter-text">
                michalk_coxph-floating-time
              </span>
            </a>
            <a class="select-menu-item js-navigation-item js-navigation-open "
               href="/h2oai/h2o-3/blob/michalk_coxph-inclimit/h2o-py/demos/glrm_census_large.ipynb"
               data-name="michalk_coxph-inclimit"
               data-skip-pjax="true"
               rel="nofollow">
              <svg class="octicon octicon-check select-menu-item-icon" viewBox="0 0 12 16" version="1.1" width="12" height="16" aria-hidden="true"><path fill-rule="evenodd" d="M12 5l-8 8-4-4 1.5-1.5L4 10l6.5-6.5L12 5z"/></svg>
              <span class="select-menu-item-text css-truncate-target js-select-menu-filter-text">
                michalk_coxph-inclimit
              </span>
            </a>
            <a class="select-menu-item js-navigation-item js-navigation-open "
               href="/h2oai/h2o-3/blob/michalk_coxph-interactions/h2o-py/demos/glrm_census_large.ipynb"
               data-name="michalk_coxph-interactions"
               data-skip-pjax="true"
               rel="nofollow">
              <svg class="octicon octicon-check select-menu-item-icon" viewBox="0 0 12 16" version="1.1" width="12" height="16" aria-hidden="true"><path fill-rule="evenodd" d="M12 5l-8 8-4-4 1.5-1.5L4 10l6.5-6.5L12 5z"/></svg>
              <span class="select-menu-item-text css-truncate-target js-select-menu-filter-text">
                michalk_coxph-interactions
              </span>
            </a>
            <a class="select-menu-item js-navigation-item js-navigation-open "
               href="/h2oai/h2o-3/blob/michalk_coxph-iter/h2o-py/demos/glrm_census_large.ipynb"
               data-name="michalk_coxph-iter"
               data-skip-pjax="true"
               rel="nofollow">
              <svg class="octicon octicon-check select-menu-item-icon" viewBox="0 0 12 16" version="1.1" width="12" height="16" aria-hidden="true"><path fill-rule="evenodd" d="M12 5l-8 8-4-4 1.5-1.5L4 10l6.5-6.5L12 5z"/></svg>
              <span class="select-menu-item-text css-truncate-target js-select-menu-filter-text">
                michalk_coxph-iter
              </span>
            </a>
            <a class="select-menu-item js-navigation-item js-navigation-open "
               href="/h2oai/h2o-3/blob/michalk_coxph-junits/h2o-py/demos/glrm_census_large.ipynb"
               data-name="michalk_coxph-junits"
               data-skip-pjax="true"
               rel="nofollow">
              <svg class="octicon octicon-check select-menu-item-icon" viewBox="0 0 12 16" version="1.1" width="12" height="16" aria-hidden="true"><path fill-rule="evenodd" d="M12 5l-8 8-4-4 1.5-1.5L4 10l6.5-6.5L12 5z"/></svg>
              <span class="select-menu-item-text css-truncate-target js-select-menu-filter-text">
                michalk_coxph-junits
              </span>
            </a>
            <a class="select-menu-item js-navigation-item js-navigation-open "
               href="/h2oai/h2o-3/blob/michalk_coxph-localmr/h2o-py/demos/glrm_census_large.ipynb"
               data-name="michalk_coxph-localmr"
               data-skip-pjax="true"
               rel="nofollow">
              <svg class="octicon octicon-check select-menu-item-icon" viewBox="0 0 12 16" version="1.1" width="12" height="16" aria-hidden="true"><path fill-rule="evenodd" d="M12 5l-8 8-4-4 1.5-1.5L4 10l6.5-6.5L12 5z"/></svg>
              <span class="select-menu-item-text css-truncate-target js-select-menu-filter-text">
                michalk_coxph-localmr
              </span>
            </a>
            <a class="select-menu-item js-navigation-item js-navigation-open "
               href="/h2oai/h2o-3/blob/michalk_coxph-lp/h2o-py/demos/glrm_census_large.ipynb"
               data-name="michalk_coxph-lp"
               data-skip-pjax="true"
               rel="nofollow">
              <svg class="octicon octicon-check select-menu-item-icon" viewBox="0 0 12 16" version="1.1" width="12" height="16" aria-hidden="true"><path fill-rule="evenodd" d="M12 5l-8 8-4-4 1.5-1.5L4 10l6.5-6.5L12 5z"/></svg>
              <span class="select-menu-item-text css-truncate-target js-select-menu-filter-text">
                michalk_coxph-lp
              </span>
            </a>
            <a class="select-menu-item js-navigation-item js-navigation-open "
               href="/h2oai/h2o-3/blob/michalk_coxph-memopt/h2o-py/demos/glrm_census_large.ipynb"
               data-name="michalk_coxph-memopt"
               data-skip-pjax="true"
               rel="nofollow">
              <svg class="octicon octicon-check select-menu-item-icon" viewBox="0 0 12 16" version="1.1" width="12" height="16" aria-hidden="true"><path fill-rule="evenodd" d="M12 5l-8 8-4-4 1.5-1.5L4 10l6.5-6.5L12 5z"/></svg>
              <span class="select-menu-item-text css-truncate-target js-select-menu-filter-text">
                michalk_coxph-memopt
              </span>
            </a>
            <a class="select-menu-item js-navigation-item js-navigation-open "
               href="/h2oai/h2o-3/blob/michalk_coxph-memopt2/h2o-py/demos/glrm_census_large.ipynb"
               data-name="michalk_coxph-memopt2"
               data-skip-pjax="true"
               rel="nofollow">
              <svg class="octicon octicon-check select-menu-item-icon" viewBox="0 0 12 16" version="1.1" width="12" height="16" aria-hidden="true"><path fill-rule="evenodd" d="M12 5l-8 8-4-4 1.5-1.5L4 10l6.5-6.5L12 5z"/></svg>
              <span class="select-menu-item-text css-truncate-target js-select-menu-filter-text">
                michalk_coxph-memopt2
              </span>
            </a>
            <a class="select-menu-item js-navigation-item js-navigation-open "
               href="/h2oai/h2o-3/blob/michalk_coxph-model/h2o-py/demos/glrm_census_large.ipynb"
               data-name="michalk_coxph-model"
               data-skip-pjax="true"
               rel="nofollow">
              <svg class="octicon octicon-check select-menu-item-icon" viewBox="0 0 12 16" version="1.1" width="12" height="16" aria-hidden="true"><path fill-rule="evenodd" d="M12 5l-8 8-4-4 1.5-1.5L4 10l6.5-6.5L12 5z"/></svg>
              <span class="select-menu-item-text css-truncate-target js-select-menu-filter-text">
                michalk_coxph-model
              </span>
            </a>
            <a class="select-menu-item js-navigation-item js-navigation-open "
               href="/h2oai/h2o-3/blob/michalk_coxph-output/h2o-py/demos/glrm_census_large.ipynb"
               data-name="michalk_coxph-output"
               data-skip-pjax="true"
               rel="nofollow">
              <svg class="octicon octicon-check select-menu-item-icon" viewBox="0 0 12 16" version="1.1" width="12" height="16" aria-hidden="true"><path fill-rule="evenodd" d="M12 5l-8 8-4-4 1.5-1.5L4 10l6.5-6.5L12 5z"/></svg>
              <span class="select-menu-item-text css-truncate-target js-select-menu-filter-text">
                michalk_coxph-output
              </span>
            </a>
            <a class="select-menu-item js-navigation-item js-navigation-open "
               href="/h2oai/h2o-3/blob/michalk_coxph-params/h2o-py/demos/glrm_census_large.ipynb"
               data-name="michalk_coxph-params"
               data-skip-pjax="true"
               rel="nofollow">
              <svg class="octicon octicon-check select-menu-item-icon" viewBox="0 0 12 16" version="1.1" width="12" height="16" aria-hidden="true"><path fill-rule="evenodd" d="M12 5l-8 8-4-4 1.5-1.5L4 10l6.5-6.5L12 5z"/></svg>
              <span class="select-menu-item-text css-truncate-target js-select-menu-filter-text">
                michalk_coxph-params
              </span>
            </a>
            <a class="select-menu-item js-navigation-item js-navigation-open "
               href="/h2oai/h2o-3/blob/michalk_coxph-rapi/h2o-py/demos/glrm_census_large.ipynb"
               data-name="michalk_coxph-rapi"
               data-skip-pjax="true"
               rel="nofollow">
              <svg class="octicon octicon-check select-menu-item-icon" viewBox="0 0 12 16" version="1.1" width="12" height="16" aria-hidden="true"><path fill-rule="evenodd" d="M12 5l-8 8-4-4 1.5-1.5L4 10l6.5-6.5L12 5z"/></svg>
              <span class="select-menu-item-text css-truncate-target js-select-menu-filter-text">
                michalk_coxph-rapi
              </span>
            </a>
            <a class="select-menu-item js-navigation-item js-navigation-open "
               href="/h2oai/h2o-3/blob/michalk_coxph-rcall/h2o-py/demos/glrm_census_large.ipynb"
               data-name="michalk_coxph-rcall"
               data-skip-pjax="true"
               rel="nofollow">
              <svg class="octicon octicon-check select-menu-item-icon" viewBox="0 0 12 16" version="1.1" width="12" height="16" aria-hidden="true"><path fill-rule="evenodd" d="M12 5l-8 8-4-4 1.5-1.5L4 10l6.5-6.5L12 5z"/></svg>
              <span class="select-menu-item-text css-truncate-target js-select-menu-filter-text">
                michalk_coxph-rcall
              </span>
            </a>
            <a class="select-menu-item js-navigation-item js-navigation-open "
               href="/h2oai/h2o-3/blob/michalk_coxph-refactoring/h2o-py/demos/glrm_census_large.ipynb"
               data-name="michalk_coxph-refactoring"
               data-skip-pjax="true"
               rel="nofollow">
              <svg class="octicon octicon-check select-menu-item-icon" viewBox="0 0 12 16" version="1.1" width="12" height="16" aria-hidden="true"><path fill-rule="evenodd" d="M12 5l-8 8-4-4 1.5-1.5L4 10l6.5-6.5L12 5z"/></svg>
              <span class="select-menu-item-text css-truncate-target js-select-menu-filter-text">
                michalk_coxph-refactoring
              </span>
            </a>
            <a class="select-menu-item js-navigation-item js-navigation-open "
               href="/h2oai/h2o-3/blob/michalk_coxph-strata/h2o-py/demos/glrm_census_large.ipynb"
               data-name="michalk_coxph-strata"
               data-skip-pjax="true"
               rel="nofollow">
              <svg class="octicon octicon-check select-menu-item-icon" viewBox="0 0 12 16" version="1.1" width="12" height="16" aria-hidden="true"><path fill-rule="evenodd" d="M12 5l-8 8-4-4 1.5-1.5L4 10l6.5-6.5L12 5z"/></svg>
              <span class="select-menu-item-text css-truncate-target js-select-menu-filter-text">
                michalk_coxph-strata
              </span>
            </a>
            <a class="select-menu-item js-navigation-item js-navigation-open "
               href="/h2oai/h2o-3/blob/michalk_coxph-tdt/h2o-py/demos/glrm_census_large.ipynb"
               data-name="michalk_coxph-tdt"
               data-skip-pjax="true"
               rel="nofollow">
              <svg class="octicon octicon-check select-menu-item-icon" viewBox="0 0 12 16" version="1.1" width="12" height="16" aria-hidden="true"><path fill-rule="evenodd" d="M12 5l-8 8-4-4 1.5-1.5L4 10l6.5-6.5L12 5z"/></svg>
              <span class="select-menu-item-text css-truncate-target js-select-menu-filter-text">
                michalk_coxph-tdt
              </span>
            </a>
            <a class="select-menu-item js-navigation-item js-navigation-open "
               href="/h2oai/h2o-3/blob/michalk_coxph-timing/h2o-py/demos/glrm_census_large.ipynb"
               data-name="michalk_coxph-timing"
               data-skip-pjax="true"
               rel="nofollow">
              <svg class="octicon octicon-check select-menu-item-icon" viewBox="0 0 12 16" version="1.1" width="12" height="16" aria-hidden="true"><path fill-rule="evenodd" d="M12 5l-8 8-4-4 1.5-1.5L4 10l6.5-6.5L12 5z"/></svg>
              <span class="select-menu-item-text css-truncate-target js-select-menu-filter-text">
                michalk_coxph-timing
              </span>
            </a>
            <a class="select-menu-item js-navigation-item js-navigation-open "
               href="/h2oai/h2o-3/blob/michalk_coxph-vvt/h2o-py/demos/glrm_census_large.ipynb"
               data-name="michalk_coxph-vvt"
               data-skip-pjax="true"
               rel="nofollow">
              <svg class="octicon octicon-check select-menu-item-icon" viewBox="0 0 12 16" version="1.1" width="12" height="16" aria-hidden="true"><path fill-rule="evenodd" d="M12 5l-8 8-4-4 1.5-1.5L4 10l6.5-6.5L12 5z"/></svg>
              <span class="select-menu-item-text css-truncate-target js-select-menu-filter-text">
                michalk_coxph-vvt
              </span>
            </a>
            <a class="select-menu-item js-navigation-item js-navigation-open "
               href="/h2oai/h2o-3/blob/michalk_cph-network/h2o-py/demos/glrm_census_large.ipynb"
               data-name="michalk_cph-network"
               data-skip-pjax="true"
               rel="nofollow">
              <svg class="octicon octicon-check select-menu-item-icon" viewBox="0 0 12 16" version="1.1" width="12" height="16" aria-hidden="true"><path fill-rule="evenodd" d="M12 5l-8 8-4-4 1.5-1.5L4 10l6.5-6.5L12 5z"/></svg>
              <span class="select-menu-item-text css-truncate-target js-select-menu-filter-text">
                michalk_cph-network
              </span>
            </a>
            <a class="select-menu-item js-navigation-item js-navigation-open "
               href="/h2oai/h2o-3/blob/michalk_debug-msg-model-builder/h2o-py/demos/glrm_census_large.ipynb"
               data-name="michalk_debug-msg-model-builder"
               data-skip-pjax="true"
               rel="nofollow">
              <svg class="octicon octicon-check select-menu-item-icon" viewBox="0 0 12 16" version="1.1" width="12" height="16" aria-hidden="true"><path fill-rule="evenodd" d="M12 5l-8 8-4-4 1.5-1.5L4 10l6.5-6.5L12 5z"/></svg>
              <span class="select-menu-item-text css-truncate-target js-select-menu-filter-text">
                michalk_debug-msg-model-builder
              </span>
            </a>
            <a class="select-menu-item js-navigation-item js-navigation-open "
               href="/h2oai/h2o-3/blob/michalk_decrypt-api/h2o-py/demos/glrm_census_large.ipynb"
               data-name="michalk_decrypt-api"
               data-skip-pjax="true"
               rel="nofollow">
              <svg class="octicon octicon-check select-menu-item-icon" viewBox="0 0 12 16" version="1.1" width="12" height="16" aria-hidden="true"><path fill-rule="evenodd" d="M12 5l-8 8-4-4 1.5-1.5L4 10l6.5-6.5L12 5z"/></svg>
              <span class="select-menu-item-text css-truncate-target js-select-menu-filter-text">
                michalk_decrypt-api
              </span>
            </a>
            <a class="select-menu-item js-navigation-item js-navigation-open "
               href="/h2oai/h2o-3/blob/michalk_delete-abandoned-func/h2o-py/demos/glrm_census_large.ipynb"
               data-name="michalk_delete-abandoned-func"
               data-skip-pjax="true"
               rel="nofollow">
              <svg class="octicon octicon-check select-menu-item-icon" viewBox="0 0 12 16" version="1.1" width="12" height="16" aria-hidden="true"><path fill-rule="evenodd" d="M12 5l-8 8-4-4 1.5-1.5L4 10l6.5-6.5L12 5z"/></svg>
              <span class="select-menu-item-text css-truncate-target js-select-menu-filter-text">
                michalk_delete-abandoned-func
              </span>
            </a>
            <a class="select-menu-item js-navigation-item js-navigation-open "
               href="/h2oai/h2o-3/blob/michalk_disable-memory-check/h2o-py/demos/glrm_census_large.ipynb"
               data-name="michalk_disable-memory-check"
               data-skip-pjax="true"
               rel="nofollow">
              <svg class="octicon octicon-check select-menu-item-icon" viewBox="0 0 12 16" version="1.1" width="12" height="16" aria-hidden="true"><path fill-rule="evenodd" d="M12 5l-8 8-4-4 1.5-1.5L4 10l6.5-6.5L12 5z"/></svg>
              <span class="select-menu-item-text css-truncate-target js-select-menu-filter-text">
                michalk_disable-memory-check
              </span>
            </a>
            <a class="select-menu-item js-navigation-item js-navigation-open "
               href="/h2oai/h2o-3/blob/michalk_disable-shutdown/h2o-py/demos/glrm_census_large.ipynb"
               data-name="michalk_disable-shutdown"
               data-skip-pjax="true"
               rel="nofollow">
              <svg class="octicon octicon-check select-menu-item-icon" viewBox="0 0 12 16" version="1.1" width="12" height="16" aria-hidden="true"><path fill-rule="evenodd" d="M12 5l-8 8-4-4 1.5-1.5L4 10l6.5-6.5L12 5z"/></svg>
              <span class="select-menu-item-text css-truncate-target js-select-menu-filter-text">
                michalk_disable-shutdown
              </span>
            </a>
            <a class="select-menu-item js-navigation-item js-navigation-open "
               href="/h2oai/h2o-3/blob/michalk_dl-pojo-fix/h2o-py/demos/glrm_census_large.ipynb"
               data-name="michalk_dl-pojo-fix"
               data-skip-pjax="true"
               rel="nofollow">
              <svg class="octicon octicon-check select-menu-item-icon" viewBox="0 0 12 16" version="1.1" width="12" height="16" aria-hidden="true"><path fill-rule="evenodd" d="M12 5l-8 8-4-4 1.5-1.5L4 10l6.5-6.5L12 5z"/></svg>
              <span class="select-menu-item-text css-truncate-target js-select-menu-filter-text">
                michalk_dl-pojo-fix
              </span>
            </a>
            <a class="select-menu-item js-navigation-item js-navigation-open "
               href="/h2oai/h2o-3/blob/michalk_dl-serializable-1/h2o-py/demos/glrm_census_large.ipynb"
               data-name="michalk_dl-serializable-1"
               data-skip-pjax="true"
               rel="nofollow">
              <svg class="octicon octicon-check select-menu-item-icon" viewBox="0 0 12 16" version="1.1" width="12" height="16" aria-hidden="true"><path fill-rule="evenodd" d="M12 5l-8 8-4-4 1.5-1.5L4 10l6.5-6.5L12 5z"/></svg>
              <span class="select-menu-item-text css-truncate-target js-select-menu-filter-text">
                michalk_dl-serializable-1
              </span>
            </a>
            <a class="select-menu-item js-navigation-item js-navigation-open "
               href="/h2oai/h2o-3/blob/michalk_dl-serializable/h2o-py/demos/glrm_census_large.ipynb"
               data-name="michalk_dl-serializable"
               data-skip-pjax="true"
               rel="nofollow">
              <svg class="octicon octicon-check select-menu-item-icon" viewBox="0 0 12 16" version="1.1" width="12" height="16" aria-hidden="true"><path fill-rule="evenodd" d="M12 5l-8 8-4-4 1.5-1.5L4 10l6.5-6.5L12 5z"/></svg>
              <span class="select-menu-item-text css-truncate-target js-select-menu-filter-text">
                michalk_dl-serializable
              </span>
            </a>
            <a class="select-menu-item js-navigation-item js-navigation-open "
               href="/h2oai/h2o-3/blob/michalk_driverclient/h2o-py/demos/glrm_census_large.ipynb"
               data-name="michalk_driverclient"
               data-skip-pjax="true"
               rel="nofollow">
              <svg class="octicon octicon-check select-menu-item-icon" viewBox="0 0 12 16" version="1.1" width="12" height="16" aria-hidden="true"><path fill-rule="evenodd" d="M12 5l-8 8-4-4 1.5-1.5L4 10l6.5-6.5L12 5z"/></svg>
              <span class="select-menu-item-text css-truncate-target js-select-menu-filter-text">
                michalk_driverclient
              </span>
            </a>
            <a class="select-menu-item js-navigation-item js-navigation-open "
               href="/h2oai/h2o-3/blob/michalk_encorce-args-wol/h2o-py/demos/glrm_census_large.ipynb"
               data-name="michalk_encorce-args-wol"
               data-skip-pjax="true"
               rel="nofollow">
              <svg class="octicon octicon-check select-menu-item-icon" viewBox="0 0 12 16" version="1.1" width="12" height="16" aria-hidden="true"><path fill-rule="evenodd" d="M12 5l-8 8-4-4 1.5-1.5L4 10l6.5-6.5L12 5z"/></svg>
              <span class="select-menu-item-text css-truncate-target js-select-menu-filter-text">
                michalk_encorce-args-wol
              </span>
            </a>
            <a class="select-menu-item js-navigation-item js-navigation-open "
               href="/h2oai/h2o-3/blob/michalk_encrypt-weier/h2o-py/demos/glrm_census_large.ipynb"
               data-name="michalk_encrypt-weier"
               data-skip-pjax="true"
               rel="nofollow">
              <svg class="octicon octicon-check select-menu-item-icon" viewBox="0 0 12 16" version="1.1" width="12" height="16" aria-hidden="true"><path fill-rule="evenodd" d="M12 5l-8 8-4-4 1.5-1.5L4 10l6.5-6.5L12 5z"/></svg>
              <span class="select-menu-item-text css-truncate-target js-select-menu-filter-text">
                michalk_encrypt-weier
              </span>
            </a>
            <a class="select-menu-item js-navigation-item js-navigation-open "
               href="/h2oai/h2o-3/blob/michalk_encryption/h2o-py/demos/glrm_census_large.ipynb"
               data-name="michalk_encryption"
               data-skip-pjax="true"
               rel="nofollow">
              <svg class="octicon octicon-check select-menu-item-icon" viewBox="0 0 12 16" version="1.1" width="12" height="16" aria-hidden="true"><path fill-rule="evenodd" d="M12 5l-8 8-4-4 1.5-1.5L4 10l6.5-6.5L12 5z"/></svg>
              <span class="select-menu-item-text css-truncate-target js-select-menu-filter-text">
                michalk_encryption
              </span>
            </a>
            <a class="select-menu-item js-navigation-item js-navigation-open "
               href="/h2oai/h2o-3/blob/michalk_ext-automl/h2o-py/demos/glrm_census_large.ipynb"
               data-name="michalk_ext-automl"
               data-skip-pjax="true"
               rel="nofollow">
              <svg class="octicon octicon-check select-menu-item-icon" viewBox="0 0 12 16" version="1.1" width="12" height="16" aria-hidden="true"><path fill-rule="evenodd" d="M12 5l-8 8-4-4 1.5-1.5L4 10l6.5-6.5L12 5z"/></svg>
              <span class="select-menu-item-text css-truncate-target js-select-menu-filter-text">
                michalk_ext-automl
              </span>
            </a>
            <a class="select-menu-item js-navigation-item js-navigation-open "
               href="/h2oai/h2o-3/blob/michalk_extra-cp/h2o-py/demos/glrm_census_large.ipynb"
               data-name="michalk_extra-cp"
               data-skip-pjax="true"
               rel="nofollow">
              <svg class="octicon octicon-check select-menu-item-icon" viewBox="0 0 12 16" version="1.1" width="12" height="16" aria-hidden="true"><path fill-rule="evenodd" d="M12 5l-8 8-4-4 1.5-1.5L4 10l6.5-6.5L12 5z"/></svg>
              <span class="select-menu-item-text css-truncate-target js-select-menu-filter-text">
                michalk_extra-cp
              </span>
            </a>
            <a class="select-menu-item js-navigation-item js-navigation-open "
               href="/h2oai/h2o-3/blob/michalk_finalizePartial/h2o-py/demos/glrm_census_large.ipynb"
               data-name="michalk_finalizePartial"
               data-skip-pjax="true"
               rel="nofollow">
              <svg class="octicon octicon-check select-menu-item-icon" viewBox="0 0 12 16" version="1.1" width="12" height="16" aria-hidden="true"><path fill-rule="evenodd" d="M12 5l-8 8-4-4 1.5-1.5L4 10l6.5-6.5L12 5z"/></svg>
              <span class="select-menu-item-text css-truncate-target js-select-menu-filter-text">
                michalk_finalizePartial
              </span>
            </a>
            <a class="select-menu-item js-navigation-item js-navigation-open "
               href="/h2oai/h2o-3/blob/michalk_fix-assembly/h2o-py/demos/glrm_census_large.ipynb"
               data-name="michalk_fix-assembly"
               data-skip-pjax="true"
               rel="nofollow">
              <svg class="octicon octicon-check select-menu-item-icon" viewBox="0 0 12 16" version="1.1" width="12" height="16" aria-hidden="true"><path fill-rule="evenodd" d="M12 5l-8 8-4-4 1.5-1.5L4 10l6.5-6.5L12 5z"/></svg>
              <span class="select-menu-item-text css-truncate-target js-select-menu-filter-text">
                michalk_fix-assembly
              </span>
            </a>
            <a class="select-menu-item js-navigation-item js-navigation-open "
               href="/h2oai/h2o-3/blob/michalk_fix-auto-class/h2o-py/demos/glrm_census_large.ipynb"
               data-name="michalk_fix-auto-class"
               data-skip-pjax="true"
               rel="nofollow">
              <svg class="octicon octicon-check select-menu-item-icon" viewBox="0 0 12 16" version="1.1" width="12" height="16" aria-hidden="true"><path fill-rule="evenodd" d="M12 5l-8 8-4-4 1.5-1.5L4 10l6.5-6.5L12 5z"/></svg>
              <span class="select-menu-item-text css-truncate-target js-select-menu-filter-text">
                michalk_fix-auto-class
              </span>
            </a>
            <a class="select-menu-item js-navigation-item js-navigation-open "
               href="/h2oai/h2o-3/blob/michalk_fix-build-j7/h2o-py/demos/glrm_census_large.ipynb"
               data-name="michalk_fix-build-j7"
               data-skip-pjax="true"
               rel="nofollow">
              <svg class="octicon octicon-check select-menu-item-icon" viewBox="0 0 12 16" version="1.1" width="12" height="16" aria-hidden="true"><path fill-rule="evenodd" d="M12 5l-8 8-4-4 1.5-1.5L4 10l6.5-6.5L12 5z"/></svg>
              <span class="select-menu-item-text css-truncate-target js-select-menu-filter-text">
                michalk_fix-build-j7
              </span>
            </a>
            <a class="select-menu-item js-navigation-item js-navigation-open "
               href="/h2oai/h2o-3/blob/michalk_fix-clustering-pojo/h2o-py/demos/glrm_census_large.ipynb"
               data-name="michalk_fix-clustering-pojo"
               data-skip-pjax="true"
               rel="nofollow">
              <svg class="octicon octicon-check select-menu-item-icon" viewBox="0 0 12 16" version="1.1" width="12" height="16" aria-hidden="true"><path fill-rule="evenodd" d="M12 5l-8 8-4-4 1.5-1.5L4 10l6.5-6.5L12 5z"/></svg>
              <span class="select-menu-item-text css-truncate-target js-select-menu-filter-text">
                michalk_fix-clustering-pojo
              </span>
            </a>
            <a class="select-menu-item js-navigation-item js-navigation-open "
               href="/h2oai/h2o-3/blob/michalk_fix-comment-rollups/h2o-py/demos/glrm_census_large.ipynb"
               data-name="michalk_fix-comment-rollups"
               data-skip-pjax="true"
               rel="nofollow">
              <svg class="octicon octicon-check select-menu-item-icon" viewBox="0 0 12 16" version="1.1" width="12" height="16" aria-hidden="true"><path fill-rule="evenodd" d="M12 5l-8 8-4-4 1.5-1.5L4 10l6.5-6.5L12 5z"/></svg>
              <span class="select-menu-item-text css-truncate-target js-select-menu-filter-text">
                michalk_fix-comment-rollups
              </span>
            </a>
            <a class="select-menu-item js-navigation-item js-navigation-open "
               href="/h2oai/h2o-3/blob/michalk_fix-coxph-unit/h2o-py/demos/glrm_census_large.ipynb"
               data-name="michalk_fix-coxph-unit"
               data-skip-pjax="true"
               rel="nofollow">
              <svg class="octicon octicon-check select-menu-item-icon" viewBox="0 0 12 16" version="1.1" width="12" height="16" aria-hidden="true"><path fill-rule="evenodd" d="M12 5l-8 8-4-4 1.5-1.5L4 10l6.5-6.5L12 5z"/></svg>
              <span class="select-menu-item-text css-truncate-target js-select-menu-filter-text">
                michalk_fix-coxph-unit
              </span>
            </a>
            <a class="select-menu-item js-navigation-item js-navigation-open "
               href="/h2oai/h2o-3/blob/michalk_fix-cran/h2o-py/demos/glrm_census_large.ipynb"
               data-name="michalk_fix-cran"
               data-skip-pjax="true"
               rel="nofollow">
              <svg class="octicon octicon-check select-menu-item-icon" viewBox="0 0 12 16" version="1.1" width="12" height="16" aria-hidden="true"><path fill-rule="evenodd" d="M12 5l-8 8-4-4 1.5-1.5L4 10l6.5-6.5L12 5z"/></svg>
              <span class="select-menu-item-text css-truncate-target js-select-menu-filter-text">
                michalk_fix-cran
              </span>
            </a>
            <a class="select-menu-item js-navigation-item js-navigation-open "
               href="/h2oai/h2o-3/blob/michalk_fix-dl/h2o-py/demos/glrm_census_large.ipynb"
               data-name="michalk_fix-dl"
               data-skip-pjax="true"
               rel="nofollow">
              <svg class="octicon octicon-check select-menu-item-icon" viewBox="0 0 12 16" version="1.1" width="12" height="16" aria-hidden="true"><path fill-rule="evenodd" d="M12 5l-8 8-4-4 1.5-1.5L4 10l6.5-6.5L12 5z"/></svg>
              <span class="select-menu-item-text css-truncate-target js-select-menu-filter-text">
                michalk_fix-dl
              </span>
            </a>
            <a class="select-menu-item js-navigation-item js-navigation-open "
               href="/h2oai/h2o-3/blob/michalk_fix-form-auth-ueno-1/h2o-py/demos/glrm_census_large.ipynb"
               data-name="michalk_fix-form-auth-ueno-1"
               data-skip-pjax="true"
               rel="nofollow">
              <svg class="octicon octicon-check select-menu-item-icon" viewBox="0 0 12 16" version="1.1" width="12" height="16" aria-hidden="true"><path fill-rule="evenodd" d="M12 5l-8 8-4-4 1.5-1.5L4 10l6.5-6.5L12 5z"/></svg>
              <span class="select-menu-item-text css-truncate-target js-select-menu-filter-text">
                michalk_fix-form-auth-ueno-1
              </span>
            </a>
            <a class="select-menu-item js-navigation-item js-navigation-open "
               href="/h2oai/h2o-3/blob/michalk_fix-form-auth-ueno-2/h2o-py/demos/glrm_census_large.ipynb"
               data-name="michalk_fix-form-auth-ueno-2"
               data-skip-pjax="true"
               rel="nofollow">
              <svg class="octicon octicon-check select-menu-item-icon" viewBox="0 0 12 16" version="1.1" width="12" height="16" aria-hidden="true"><path fill-rule="evenodd" d="M12 5l-8 8-4-4 1.5-1.5L4 10l6.5-6.5L12 5z"/></svg>
              <span class="select-menu-item-text css-truncate-target js-select-menu-filter-text">
                michalk_fix-form-auth-ueno-2
              </span>
            </a>
            <a class="select-menu-item js-navigation-item js-navigation-open "
               href="/h2oai/h2o-3/blob/michalk_fix-form-auth-ueno/h2o-py/demos/glrm_census_large.ipynb"
               data-name="michalk_fix-form-auth-ueno"
               data-skip-pjax="true"
               rel="nofollow">
              <svg class="octicon octicon-check select-menu-item-icon" viewBox="0 0 12 16" version="1.1" width="12" height="16" aria-hidden="true"><path fill-rule="evenodd" d="M12 5l-8 8-4-4 1.5-1.5L4 10l6.5-6.5L12 5z"/></svg>
              <span class="select-menu-item-text css-truncate-target js-select-menu-filter-text">
                michalk_fix-form-auth-ueno
              </span>
            </a>
            <a class="select-menu-item js-navigation-item js-navigation-open "
               href="/h2oai/h2o-3/blob/michalk_fix-glm-NA-predict-master/h2o-py/demos/glrm_census_large.ipynb"
               data-name="michalk_fix-glm-NA-predict-master"
               data-skip-pjax="true"
               rel="nofollow">
              <svg class="octicon octicon-check select-menu-item-icon" viewBox="0 0 12 16" version="1.1" width="12" height="16" aria-hidden="true"><path fill-rule="evenodd" d="M12 5l-8 8-4-4 1.5-1.5L4 10l6.5-6.5L12 5z"/></svg>
              <span class="select-menu-item-text css-truncate-target js-select-menu-filter-text">
                michalk_fix-glm-NA-predict-master
              </span>
            </a>
            <a class="select-menu-item js-navigation-item js-navigation-open "
               href="/h2oai/h2o-3/blob/michalk_fix-glm-NA-predict/h2o-py/demos/glrm_census_large.ipynb"
               data-name="michalk_fix-glm-NA-predict"
               data-skip-pjax="true"
               rel="nofollow">
              <svg class="octicon octicon-check select-menu-item-icon" viewBox="0 0 12 16" version="1.1" width="12" height="16" aria-hidden="true"><path fill-rule="evenodd" d="M12 5l-8 8-4-4 1.5-1.5L4 10l6.5-6.5L12 5z"/></svg>
              <span class="select-menu-item-text css-truncate-target js-select-menu-filter-text">
                michalk_fix-glm-NA-predict
              </span>
            </a>
            <a class="select-menu-item js-navigation-item js-navigation-open "
               href="/h2oai/h2o-3/blob/michalk_fix-glm-sparse/h2o-py/demos/glrm_census_large.ipynb"
               data-name="michalk_fix-glm-sparse"
               data-skip-pjax="true"
               rel="nofollow">
              <svg class="octicon octicon-check select-menu-item-icon" viewBox="0 0 12 16" version="1.1" width="12" height="16" aria-hidden="true"><path fill-rule="evenodd" d="M12 5l-8 8-4-4 1.5-1.5L4 10l6.5-6.5L12 5z"/></svg>
              <span class="select-menu-item-text css-truncate-target js-select-menu-filter-text">
                michalk_fix-glm-sparse
              </span>
            </a>
            <a class="select-menu-item js-navigation-item js-navigation-open "
               href="/h2oai/h2o-3/blob/michalk_fix-glm-weights/h2o-py/demos/glrm_census_large.ipynb"
               data-name="michalk_fix-glm-weights"
               data-skip-pjax="true"
               rel="nofollow">
              <svg class="octicon octicon-check select-menu-item-icon" viewBox="0 0 12 16" version="1.1" width="12" height="16" aria-hidden="true"><path fill-rule="evenodd" d="M12 5l-8 8-4-4 1.5-1.5L4 10l6.5-6.5L12 5z"/></svg>
              <span class="select-menu-item-text css-truncate-target js-select-menu-filter-text">
                michalk_fix-glm-weights
              </span>
            </a>
            <a class="select-menu-item js-navigation-item js-navigation-open "
               href="/h2oai/h2o-3/blob/michalk_fix-gradle-wrapper/h2o-py/demos/glrm_census_large.ipynb"
               data-name="michalk_fix-gradle-wrapper"
               data-skip-pjax="true"
               rel="nofollow">
              <svg class="octicon octicon-check select-menu-item-icon" viewBox="0 0 12 16" version="1.1" width="12" height="16" aria-hidden="true"><path fill-rule="evenodd" d="M12 5l-8 8-4-4 1.5-1.5L4 10l6.5-6.5L12 5z"/></svg>
              <span class="select-menu-item-text css-truncate-target js-select-menu-filter-text">
                michalk_fix-gradle-wrapper
              </span>
            </a>
            <a class="select-menu-item js-navigation-item js-navigation-open "
               href="/h2oai/h2o-3/blob/michalk_fix-grep-doc/h2o-py/demos/glrm_census_large.ipynb"
               data-name="michalk_fix-grep-doc"
               data-skip-pjax="true"
               rel="nofollow">
              <svg class="octicon octicon-check select-menu-item-icon" viewBox="0 0 12 16" version="1.1" width="12" height="16" aria-hidden="true"><path fill-rule="evenodd" d="M12 5l-8 8-4-4 1.5-1.5L4 10l6.5-6.5L12 5z"/></svg>
              <span class="select-menu-item-text css-truncate-target js-select-menu-filter-text">
                michalk_fix-grep-doc
              </span>
            </a>
            <a class="select-menu-item js-navigation-item js-navigation-open "
               href="/h2oai/h2o-3/blob/michalk_fix-grid-search/h2o-py/demos/glrm_census_large.ipynb"
               data-name="michalk_fix-grid-search"
               data-skip-pjax="true"
               rel="nofollow">
              <svg class="octicon octicon-check select-menu-item-icon" viewBox="0 0 12 16" version="1.1" width="12" height="16" aria-hidden="true"><path fill-rule="evenodd" d="M12 5l-8 8-4-4 1.5-1.5L4 10l6.5-6.5L12 5z"/></svg>
              <span class="select-menu-item-text css-truncate-target js-select-menu-filter-text">
                michalk_fix-grid-search
              </span>
            </a>
            <a class="select-menu-item js-navigation-item js-navigation-open "
               href="/h2oai/h2o-3/blob/michalk_fix-grid/h2o-py/demos/glrm_census_large.ipynb"
               data-name="michalk_fix-grid"
               data-skip-pjax="true"
               rel="nofollow">
              <svg class="octicon octicon-check select-menu-item-icon" viewBox="0 0 12 16" version="1.1" width="12" height="16" aria-hidden="true"><path fill-rule="evenodd" d="M12 5l-8 8-4-4 1.5-1.5L4 10l6.5-6.5L12 5z"/></svg>
              <span class="select-menu-item-text css-truncate-target js-select-menu-filter-text">
                michalk_fix-grid
              </span>
            </a>
            <a class="select-menu-item js-navigation-item js-navigation-open "
               href="/h2oai/h2o-3/blob/michalk_fix-hadoop-build/h2o-py/demos/glrm_census_large.ipynb"
               data-name="michalk_fix-hadoop-build"
               data-skip-pjax="true"
               rel="nofollow">
              <svg class="octicon octicon-check select-menu-item-icon" viewBox="0 0 12 16" version="1.1" width="12" height="16" aria-hidden="true"><path fill-rule="evenodd" d="M12 5l-8 8-4-4 1.5-1.5L4 10l6.5-6.5L12 5z"/></svg>
              <span class="select-menu-item-text css-truncate-target js-select-menu-filter-text">
                michalk_fix-hadoop-build
              </span>
            </a>
            <a class="select-menu-item js-navigation-item js-navigation-open "
               href="/h2oai/h2o-3/blob/michalk_fix-hdp-docker/h2o-py/demos/glrm_census_large.ipynb"
               data-name="michalk_fix-hdp-docker"
               data-skip-pjax="true"
               rel="nofollow">
              <svg class="octicon octicon-check select-menu-item-icon" viewBox="0 0 12 16" version="1.1" width="12" height="16" aria-hidden="true"><path fill-rule="evenodd" d="M12 5l-8 8-4-4 1.5-1.5L4 10l6.5-6.5L12 5z"/></svg>
              <span class="select-menu-item-text css-truncate-target js-select-menu-filter-text">
                michalk_fix-hdp-docker
              </span>
            </a>
            <a class="select-menu-item js-navigation-item js-navigation-open "
               href="/h2oai/h2o-3/blob/michalk_fix-ifelse-weier/h2o-py/demos/glrm_census_large.ipynb"
               data-name="michalk_fix-ifelse-weier"
               data-skip-pjax="true"
               rel="nofollow">
              <svg class="octicon octicon-check select-menu-item-icon" viewBox="0 0 12 16" version="1.1" width="12" height="16" aria-hidden="true"><path fill-rule="evenodd" d="M12 5l-8 8-4-4 1.5-1.5L4 10l6.5-6.5L12 5z"/></svg>
              <span class="select-menu-item-text css-truncate-target js-select-menu-filter-text">
                michalk_fix-ifelse-weier
              </span>
            </a>
            <a class="select-menu-item js-navigation-item js-navigation-open "
               href="/h2oai/h2o-3/blob/michalk_fix-ifelse/h2o-py/demos/glrm_census_large.ipynb"
               data-name="michalk_fix-ifelse"
               data-skip-pjax="true"
               rel="nofollow">
              <svg class="octicon octicon-check select-menu-item-icon" viewBox="0 0 12 16" version="1.1" width="12" height="16" aria-hidden="true"><path fill-rule="evenodd" d="M12 5l-8 8-4-4 1.5-1.5L4 10l6.5-6.5L12 5z"/></svg>
              <span class="select-menu-item-text css-truncate-target js-select-menu-filter-text">
                michalk_fix-ifelse
              </span>
            </a>
            <a class="select-menu-item js-navigation-item js-navigation-open "
               href="/h2oai/h2o-3/blob/michalk_fix-kmeans-dist-m/h2o-py/demos/glrm_census_large.ipynb"
               data-name="michalk_fix-kmeans-dist-m"
               data-skip-pjax="true"
               rel="nofollow">
              <svg class="octicon octicon-check select-menu-item-icon" viewBox="0 0 12 16" version="1.1" width="12" height="16" aria-hidden="true"><path fill-rule="evenodd" d="M12 5l-8 8-4-4 1.5-1.5L4 10l6.5-6.5L12 5z"/></svg>
              <span class="select-menu-item-text css-truncate-target js-select-menu-filter-text">
                michalk_fix-kmeans-dist-m
              </span>
            </a>
            <a class="select-menu-item js-navigation-item js-navigation-open "
               href="/h2oai/h2o-3/blob/michalk_fix-kmeans-distance/h2o-py/demos/glrm_census_large.ipynb"
               data-name="michalk_fix-kmeans-distance"
               data-skip-pjax="true"
               rel="nofollow">
              <svg class="octicon octicon-check select-menu-item-icon" viewBox="0 0 12 16" version="1.1" width="12" height="16" aria-hidden="true"><path fill-rule="evenodd" d="M12 5l-8 8-4-4 1.5-1.5L4 10l6.5-6.5L12 5z"/></svg>
              <span class="select-menu-item-text css-truncate-target js-select-menu-filter-text">
                michalk_fix-kmeans-distance
              </span>
            </a>
            <a class="select-menu-item js-navigation-item js-navigation-open "
               href="/h2oai/h2o-3/blob/michalk_fix-lightgbm-gpu/h2o-py/demos/glrm_census_large.ipynb"
               data-name="michalk_fix-lightgbm-gpu"
               data-skip-pjax="true"
               rel="nofollow">
              <svg class="octicon octicon-check select-menu-item-icon" viewBox="0 0 12 16" version="1.1" width="12" height="16" aria-hidden="true"><path fill-rule="evenodd" d="M12 5l-8 8-4-4 1.5-1.5L4 10l6.5-6.5L12 5z"/></svg>
              <span class="select-menu-item-text css-truncate-target js-select-menu-filter-text">
                michalk_fix-lightgbm-gpu
              </span>
            </a>
            <a class="select-menu-item js-navigation-item js-navigation-open "
               href="/h2oai/h2o-3/blob/michalk_fix-nexus-url/h2o-py/demos/glrm_census_large.ipynb"
               data-name="michalk_fix-nexus-url"
               data-skip-pjax="true"
               rel="nofollow">
              <svg class="octicon octicon-check select-menu-item-icon" viewBox="0 0 12 16" version="1.1" width="12" height="16" aria-hidden="true"><path fill-rule="evenodd" d="M12 5l-8 8-4-4 1.5-1.5L4 10l6.5-6.5L12 5z"/></svg>
              <span class="select-menu-item-text css-truncate-target js-select-menu-filter-text">
                michalk_fix-nexus-url
              </span>
            </a>
            <a class="select-menu-item js-navigation-item js-navigation-open "
               href="/h2oai/h2o-3/blob/michalk_fix-null-chars/h2o-py/demos/glrm_census_large.ipynb"
               data-name="michalk_fix-null-chars"
               data-skip-pjax="true"
               rel="nofollow">
              <svg class="octicon octicon-check select-menu-item-icon" viewBox="0 0 12 16" version="1.1" width="12" height="16" aria-hidden="true"><path fill-rule="evenodd" d="M12 5l-8 8-4-4 1.5-1.5L4 10l6.5-6.5L12 5z"/></svg>
              <span class="select-menu-item-text css-truncate-target js-select-menu-filter-text">
                michalk_fix-null-chars
              </span>
            </a>
            <a class="select-menu-item js-navigation-item js-navigation-open "
               href="/h2oai/h2o-3/blob/michalk_fix-parquet-deps/h2o-py/demos/glrm_census_large.ipynb"
               data-name="michalk_fix-parquet-deps"
               data-skip-pjax="true"
               rel="nofollow">
              <svg class="octicon octicon-check select-menu-item-icon" viewBox="0 0 12 16" version="1.1" width="12" height="16" aria-hidden="true"><path fill-rule="evenodd" d="M12 5l-8 8-4-4 1.5-1.5L4 10l6.5-6.5L12 5z"/></svg>
              <span class="select-menu-item-text css-truncate-target js-select-menu-filter-text">
                michalk_fix-parquet-deps
              </span>
            </a>
            <a class="select-menu-item js-navigation-item js-navigation-open "
               href="/h2oai/h2o-3/blob/michalk_fix-parquet-s20/h2o-py/demos/glrm_census_large.ipynb"
               data-name="michalk_fix-parquet-s20"
               data-skip-pjax="true"
               rel="nofollow">
              <svg class="octicon octicon-check select-menu-item-icon" viewBox="0 0 12 16" version="1.1" width="12" height="16" aria-hidden="true"><path fill-rule="evenodd" d="M12 5l-8 8-4-4 1.5-1.5L4 10l6.5-6.5L12 5z"/></svg>
              <span class="select-menu-item-text css-truncate-target js-select-menu-filter-text">
                michalk_fix-parquet-s20
              </span>
            </a>
            <a class="select-menu-item js-navigation-item js-navigation-open "
               href="/h2oai/h2o-3/blob/michalk_fix-parquet-types/h2o-py/demos/glrm_census_large.ipynb"
               data-name="michalk_fix-parquet-types"
               data-skip-pjax="true"
               rel="nofollow">
              <svg class="octicon octicon-check select-menu-item-icon" viewBox="0 0 12 16" version="1.1" width="12" height="16" aria-hidden="true"><path fill-rule="evenodd" d="M12 5l-8 8-4-4 1.5-1.5L4 10l6.5-6.5L12 5z"/></svg>
              <span class="select-menu-item-text css-truncate-target js-select-menu-filter-text">
                michalk_fix-parquet-types
              </span>
            </a>
            <a class="select-menu-item js-navigation-item js-navigation-open "
               href="/h2oai/h2o-3/blob/michalk_fix-predict-strata/h2o-py/demos/glrm_census_large.ipynb"
               data-name="michalk_fix-predict-strata"
               data-skip-pjax="true"
               rel="nofollow">
              <svg class="octicon octicon-check select-menu-item-icon" viewBox="0 0 12 16" version="1.1" width="12" height="16" aria-hidden="true"><path fill-rule="evenodd" d="M12 5l-8 8-4-4 1.5-1.5L4 10l6.5-6.5L12 5z"/></svg>
              <span class="select-menu-item-text css-truncate-target js-select-menu-filter-text">
                michalk_fix-predict-strata
              </span>
            </a>
            <a class="select-menu-item js-navigation-item js-navigation-open "
               href="/h2oai/h2o-3/blob/michalk_fix-proxy-auth-master/h2o-py/demos/glrm_census_large.ipynb"
               data-name="michalk_fix-proxy-auth-master"
               data-skip-pjax="true"
               rel="nofollow">
              <svg class="octicon octicon-check select-menu-item-icon" viewBox="0 0 12 16" version="1.1" width="12" height="16" aria-hidden="true"><path fill-rule="evenodd" d="M12 5l-8 8-4-4 1.5-1.5L4 10l6.5-6.5L12 5z"/></svg>
              <span class="select-menu-item-text css-truncate-target js-select-menu-filter-text">
                michalk_fix-proxy-auth-master
              </span>
            </a>
            <a class="select-menu-item js-navigation-item js-navigation-open "
               href="/h2oai/h2o-3/blob/michalk_fix-proxy-auth-ueno/h2o-py/demos/glrm_census_large.ipynb"
               data-name="michalk_fix-proxy-auth-ueno"
               data-skip-pjax="true"
               rel="nofollow">
              <svg class="octicon octicon-check select-menu-item-icon" viewBox="0 0 12 16" version="1.1" width="12" height="16" aria-hidden="true"><path fill-rule="evenodd" d="M12 5l-8 8-4-4 1.5-1.5L4 10l6.5-6.5L12 5z"/></svg>
              <span class="select-menu-item-text css-truncate-target js-select-menu-filter-text">
                michalk_fix-proxy-auth-ueno
              </span>
            </a>
            <a class="select-menu-item js-navigation-item js-navigation-open "
               href="/h2oai/h2o-3/blob/michalk_fix-proxy-auth/h2o-py/demos/glrm_census_large.ipynb"
               data-name="michalk_fix-proxy-auth"
               data-skip-pjax="true"
               rel="nofollow">
              <svg class="octicon octicon-check select-menu-item-icon" viewBox="0 0 12 16" version="1.1" width="12" height="16" aria-hidden="true"><path fill-rule="evenodd" d="M12 5l-8 8-4-4 1.5-1.5L4 10l6.5-6.5L12 5z"/></svg>
              <span class="select-menu-item-text css-truncate-target js-select-menu-filter-text">
                michalk_fix-proxy-auth
              </span>
            </a>
            <a class="select-menu-item js-navigation-item js-navigation-open "
               href="/h2oai/h2o-3/blob/michalk_fix-proxyauth-ueno/h2o-py/demos/glrm_census_large.ipynb"
               data-name="michalk_fix-proxyauth-ueno"
               data-skip-pjax="true"
               rel="nofollow">
              <svg class="octicon octicon-check select-menu-item-icon" viewBox="0 0 12 16" version="1.1" width="12" height="16" aria-hidden="true"><path fill-rule="evenodd" d="M12 5l-8 8-4-4 1.5-1.5L4 10l6.5-6.5L12 5z"/></svg>
              <span class="select-menu-item-text css-truncate-target js-select-menu-filter-text">
                michalk_fix-proxyauth-ueno
              </span>
            </a>
            <a class="select-menu-item js-navigation-item js-navigation-open "
               href="/h2oai/h2o-3/blob/michalk_fix-r-authors/h2o-py/demos/glrm_census_large.ipynb"
               data-name="michalk_fix-r-authors"
               data-skip-pjax="true"
               rel="nofollow">
              <svg class="octicon octicon-check select-menu-item-icon" viewBox="0 0 12 16" version="1.1" width="12" height="16" aria-hidden="true"><path fill-rule="evenodd" d="M12 5l-8 8-4-4 1.5-1.5L4 10l6.5-6.5L12 5z"/></svg>
              <span class="select-menu-item-text css-truncate-target js-select-menu-filter-text">
                michalk_fix-r-authors
              </span>
            </a>
            <a class="select-menu-item js-navigation-item js-navigation-open "
               href="/h2oai/h2o-3/blob/michalk_fix-resp-name-weier/h2o-py/demos/glrm_census_large.ipynb"
               data-name="michalk_fix-resp-name-weier"
               data-skip-pjax="true"
               rel="nofollow">
              <svg class="octicon octicon-check select-menu-item-icon" viewBox="0 0 12 16" version="1.1" width="12" height="16" aria-hidden="true"><path fill-rule="evenodd" d="M12 5l-8 8-4-4 1.5-1.5L4 10l6.5-6.5L12 5z"/></svg>
              <span class="select-menu-item-text css-truncate-target js-select-menu-filter-text">
                michalk_fix-resp-name-weier
              </span>
            </a>
            <a class="select-menu-item js-navigation-item js-navigation-open "
               href="/h2oai/h2o-3/blob/michalk_fix-resp-name/h2o-py/demos/glrm_census_large.ipynb"
               data-name="michalk_fix-resp-name"
               data-skip-pjax="true"
               rel="nofollow">
              <svg class="octicon octicon-check select-menu-item-icon" viewBox="0 0 12 16" version="1.1" width="12" height="16" aria-hidden="true"><path fill-rule="evenodd" d="M12 5l-8 8-4-4 1.5-1.5L4 10l6.5-6.5L12 5z"/></svg>
              <span class="select-menu-item-text css-truncate-target js-select-menu-filter-text">
                michalk_fix-resp-name
              </span>
            </a>
            <a class="select-menu-item js-navigation-item js-navigation-open "
               href="/h2oai/h2o-3/blob/michalk_fix-runit/h2o-py/demos/glrm_census_large.ipynb"
               data-name="michalk_fix-runit"
               data-skip-pjax="true"
               rel="nofollow">
              <svg class="octicon octicon-check select-menu-item-icon" viewBox="0 0 12 16" version="1.1" width="12" height="16" aria-hidden="true"><path fill-rule="evenodd" d="M12 5l-8 8-4-4 1.5-1.5L4 10l6.5-6.5L12 5z"/></svg>
              <span class="select-menu-item-text css-truncate-target js-select-menu-filter-text">
                michalk_fix-runit
              </span>
            </a>
            <a class="select-menu-item js-navigation-item js-navigation-open "
               href="/h2oai/h2o-3/blob/michalk_fix-runit2/h2o-py/demos/glrm_census_large.ipynb"
               data-name="michalk_fix-runit2"
               data-skip-pjax="true"
               rel="nofollow">
              <svg class="octicon octicon-check select-menu-item-icon" viewBox="0 0 12 16" version="1.1" width="12" height="16" aria-hidden="true"><path fill-rule="evenodd" d="M12 5l-8 8-4-4 1.5-1.5L4 10l6.5-6.5L12 5z"/></svg>
              <span class="select-menu-item-text css-truncate-target js-select-menu-filter-text">
                michalk_fix-runit2
              </span>
            </a>
            <a class="select-menu-item js-navigation-item js-navigation-open "
               href="/h2oai/h2o-3/blob/michalk_fix-s3-master/h2o-py/demos/glrm_census_large.ipynb"
               data-name="michalk_fix-s3-master"
               data-skip-pjax="true"
               rel="nofollow">
              <svg class="octicon octicon-check select-menu-item-icon" viewBox="0 0 12 16" version="1.1" width="12" height="16" aria-hidden="true"><path fill-rule="evenodd" d="M12 5l-8 8-4-4 1.5-1.5L4 10l6.5-6.5L12 5z"/></svg>
              <span class="select-menu-item-text css-truncate-target js-select-menu-filter-text">
                michalk_fix-s3-master
              </span>
            </a>
            <a class="select-menu-item js-navigation-item js-navigation-open "
               href="/h2oai/h2o-3/blob/michalk_fix-se-glm/h2o-py/demos/glrm_census_large.ipynb"
               data-name="michalk_fix-se-glm"
               data-skip-pjax="true"
               rel="nofollow">
              <svg class="octicon octicon-check select-menu-item-icon" viewBox="0 0 12 16" version="1.1" width="12" height="16" aria-hidden="true"><path fill-rule="evenodd" d="M12 5l-8 8-4-4 1.5-1.5L4 10l6.5-6.5L12 5z"/></svg>
              <span class="select-menu-item-text css-truncate-target js-select-menu-filter-text">
                michalk_fix-se-glm
              </span>
            </a>
            <a class="select-menu-item js-navigation-item js-navigation-open "
               href="/h2oai/h2o-3/blob/michalk_fix-sparse-str-chunks/h2o-py/demos/glrm_census_large.ipynb"
               data-name="michalk_fix-sparse-str-chunks"
               data-skip-pjax="true"
               rel="nofollow">
              <svg class="octicon octicon-check select-menu-item-icon" viewBox="0 0 12 16" version="1.1" width="12" height="16" aria-hidden="true"><path fill-rule="evenodd" d="M12 5l-8 8-4-4 1.5-1.5L4 10l6.5-6.5L12 5z"/></svg>
              <span class="select-menu-item-text css-truncate-target js-select-menu-filter-text">
                michalk_fix-sparse-str-chunks
              </span>
            </a>
            <a class="select-menu-item js-navigation-item js-navigation-open "
               href="/h2oai/h2o-3/blob/michalk_fix-tree-size-vajda/h2o-py/demos/glrm_census_large.ipynb"
               data-name="michalk_fix-tree-size-vajda"
               data-skip-pjax="true"
               rel="nofollow">
              <svg class="octicon octicon-check select-menu-item-icon" viewBox="0 0 12 16" version="1.1" width="12" height="16" aria-hidden="true"><path fill-rule="evenodd" d="M12 5l-8 8-4-4 1.5-1.5L4 10l6.5-6.5L12 5z"/></svg>
              <span class="select-menu-item-text css-truncate-target js-select-menu-filter-text">
                michalk_fix-tree-size-vajda
              </span>
            </a>
            <a class="select-menu-item js-navigation-item js-navigation-open "
               href="/h2oai/h2o-3/blob/michalk_fix-tree-size/h2o-py/demos/glrm_census_large.ipynb"
               data-name="michalk_fix-tree-size"
               data-skip-pjax="true"
               rel="nofollow">
              <svg class="octicon octicon-check select-menu-item-icon" viewBox="0 0 12 16" version="1.1" width="12" height="16" aria-hidden="true"><path fill-rule="evenodd" d="M12 5l-8 8-4-4 1.5-1.5L4 10l6.5-6.5L12 5z"/></svg>
              <span class="select-menu-item-text css-truncate-target js-select-menu-filter-text">
                michalk_fix-tree-size
              </span>
            </a>
            <a class="select-menu-item js-navigation-item js-navigation-open "
               href="/h2oai/h2o-3/blob/michalk_fix-w2v-aggregate/h2o-py/demos/glrm_census_large.ipynb"
               data-name="michalk_fix-w2v-aggregate"
               data-skip-pjax="true"
               rel="nofollow">
              <svg class="octicon octicon-check select-menu-item-icon" viewBox="0 0 12 16" version="1.1" width="12" height="16" aria-hidden="true"><path fill-rule="evenodd" d="M12 5l-8 8-4-4 1.5-1.5L4 10l6.5-6.5L12 5z"/></svg>
              <span class="select-menu-item-text css-truncate-target js-select-menu-filter-text">
                michalk_fix-w2v-aggregate
              </span>
            </a>
            <a class="select-menu-item js-navigation-item js-navigation-open "
               href="/h2oai/h2o-3/blob/michalk_fix-w2v-getModel/h2o-py/demos/glrm_census_large.ipynb"
               data-name="michalk_fix-w2v-getModel"
               data-skip-pjax="true"
               rel="nofollow">
              <svg class="octicon octicon-check select-menu-item-icon" viewBox="0 0 12 16" version="1.1" width="12" height="16" aria-hidden="true"><path fill-rule="evenodd" d="M12 5l-8 8-4-4 1.5-1.5L4 10l6.5-6.5L12 5z"/></svg>
              <span class="select-menu-item-text css-truncate-target js-select-menu-filter-text">
                michalk_fix-w2v-getModel
              </span>
            </a>
            <a class="select-menu-item js-navigation-item js-navigation-open "
               href="/h2oai/h2o-3/blob/michalk_fix-weights-warn/h2o-py/demos/glrm_census_large.ipynb"
               data-name="michalk_fix-weights-warn"
               data-skip-pjax="true"
               rel="nofollow">
              <svg class="octicon octicon-check select-menu-item-icon" viewBox="0 0 12 16" version="1.1" width="12" height="16" aria-hidden="true"><path fill-rule="evenodd" d="M12 5l-8 8-4-4 1.5-1.5L4 10l6.5-6.5L12 5z"/></svg>
              <span class="select-menu-item-text css-truncate-target js-select-menu-filter-text">
                michalk_fix-weights-warn
              </span>
            </a>
            <a class="select-menu-item js-navigation-item js-navigation-open "
               href="/h2oai/h2o-3/blob/michalk_fix-xgb-fail/h2o-py/demos/glrm_census_large.ipynb"
               data-name="michalk_fix-xgb-fail"
               data-skip-pjax="true"
               rel="nofollow">
              <svg class="octicon octicon-check select-menu-item-icon" viewBox="0 0 12 16" version="1.1" width="12" height="16" aria-hidden="true"><path fill-rule="evenodd" d="M12 5l-8 8-4-4 1.5-1.5L4 10l6.5-6.5L12 5z"/></svg>
              <span class="select-menu-item-text css-truncate-target js-select-menu-filter-text">
                michalk_fix-xgb-fail
              </span>
            </a>
            <a class="select-menu-item js-navigation-item js-navigation-open "
               href="/h2oai/h2o-3/blob/michalk_fix_cph-predict/h2o-py/demos/glrm_census_large.ipynb"
               data-name="michalk_fix_cph-predict"
               data-skip-pjax="true"
               rel="nofollow">
              <svg class="octicon octicon-check select-menu-item-icon" viewBox="0 0 12 16" version="1.1" width="12" height="16" aria-hidden="true"><path fill-rule="evenodd" d="M12 5l-8 8-4-4 1.5-1.5L4 10l6.5-6.5L12 5z"/></svg>
              <span class="select-menu-item-text css-truncate-target js-select-menu-filter-text">
                michalk_fix_cph-predict
              </span>
            </a>
            <a class="select-menu-item js-navigation-item js-navigation-open "
               href="/h2oai/h2o-3/blob/michalk_flow-0.7.15/h2o-py/demos/glrm_census_large.ipynb"
               data-name="michalk_flow-0.7.15"
               data-skip-pjax="true"
               rel="nofollow">
              <svg class="octicon octicon-check select-menu-item-icon" viewBox="0 0 12 16" version="1.1" width="12" height="16" aria-hidden="true"><path fill-rule="evenodd" d="M12 5l-8 8-4-4 1.5-1.5L4 10l6.5-6.5L12 5z"/></svg>
              <span class="select-menu-item-text css-truncate-target js-select-menu-filter-text">
                michalk_flow-0.7.15
              </span>
            </a>
            <a class="select-menu-item js-navigation-item js-navigation-open "
               href="/h2oai/h2o-3/blob/michalk_flow-0.7.16/h2o-py/demos/glrm_census_large.ipynb"
               data-name="michalk_flow-0.7.16"
               data-skip-pjax="true"
               rel="nofollow">
              <svg class="octicon octicon-check select-menu-item-icon" viewBox="0 0 12 16" version="1.1" width="12" height="16" aria-hidden="true"><path fill-rule="evenodd" d="M12 5l-8 8-4-4 1.5-1.5L4 10l6.5-6.5L12 5z"/></svg>
              <span class="select-menu-item-text css-truncate-target js-select-menu-filter-text">
                michalk_flow-0.7.16
              </span>
            </a>
            <a class="select-menu-item js-navigation-item js-navigation-open "
               href="/h2oai/h2o-3/blob/michalk_flow21/h2o-py/demos/glrm_census_large.ipynb"
               data-name="michalk_flow21"
               data-skip-pjax="true"
               rel="nofollow">
              <svg class="octicon octicon-check select-menu-item-icon" viewBox="0 0 12 16" version="1.1" width="12" height="16" aria-hidden="true"><path fill-rule="evenodd" d="M12 5l-8 8-4-4 1.5-1.5L4 10l6.5-6.5L12 5z"/></svg>
              <span class="select-menu-item-text css-truncate-target js-select-menu-filter-text">
                michalk_flow21
              </span>
            </a>
            <a class="select-menu-item js-navigation-item js-navigation-open "
               href="/h2oai/h2o-3/blob/michalk_flow077/h2o-py/demos/glrm_census_large.ipynb"
               data-name="michalk_flow077"
               data-skip-pjax="true"
               rel="nofollow">
              <svg class="octicon octicon-check select-menu-item-icon" viewBox="0 0 12 16" version="1.1" width="12" height="16" aria-hidden="true"><path fill-rule="evenodd" d="M12 5l-8 8-4-4 1.5-1.5L4 10l6.5-6.5L12 5z"/></svg>
              <span class="select-menu-item-text css-truncate-target js-select-menu-filter-text">
                michalk_flow077
              </span>
            </a>
            <a class="select-menu-item js-navigation-item js-navigation-open "
               href="/h2oai/h2o-3/blob/michalk_form-auth/h2o-py/demos/glrm_census_large.ipynb"
               data-name="michalk_form-auth"
               data-skip-pjax="true"
               rel="nofollow">
              <svg class="octicon octicon-check select-menu-item-icon" viewBox="0 0 12 16" version="1.1" width="12" height="16" aria-hidden="true"><path fill-rule="evenodd" d="M12 5l-8 8-4-4 1.5-1.5L4 10l6.5-6.5L12 5z"/></svg>
              <span class="select-menu-item-text css-truncate-target js-select-menu-filter-text">
                michalk_form-auth
              </span>
            </a>
            <a class="select-menu-item js-navigation-item js-navigation-open "
               href="/h2oai/h2o-3/blob/michalk_fusions-port-rw/h2o-py/demos/glrm_census_large.ipynb"
               data-name="michalk_fusions-port-rw"
               data-skip-pjax="true"
               rel="nofollow">
              <svg class="octicon octicon-check select-menu-item-icon" viewBox="0 0 12 16" version="1.1" width="12" height="16" aria-hidden="true"><path fill-rule="evenodd" d="M12 5l-8 8-4-4 1.5-1.5L4 10l6.5-6.5L12 5z"/></svg>
              <span class="select-menu-item-text css-truncate-target js-select-menu-filter-text">
                michalk_fusions-port-rw
              </span>
            </a>
            <a class="select-menu-item js-navigation-item js-navigation-open "
               href="/h2oai/h2o-3/blob/michalk_gbm-repro/h2o-py/demos/glrm_census_large.ipynb"
               data-name="michalk_gbm-repro"
               data-skip-pjax="true"
               rel="nofollow">
              <svg class="octicon octicon-check select-menu-item-icon" viewBox="0 0 12 16" version="1.1" width="12" height="16" aria-hidden="true"><path fill-rule="evenodd" d="M12 5l-8 8-4-4 1.5-1.5L4 10l6.5-6.5L12 5z"/></svg>
              <span class="select-menu-item-text css-truncate-target js-select-menu-filter-text">
                michalk_gbm-repro
              </span>
            </a>
            <a class="select-menu-item js-navigation-item js-navigation-open "
               href="/h2oai/h2o-3/blob/michalk_gen-deps-csv/h2o-py/demos/glrm_census_large.ipynb"
               data-name="michalk_gen-deps-csv"
               data-skip-pjax="true"
               rel="nofollow">
              <svg class="octicon octicon-check select-menu-item-icon" viewBox="0 0 12 16" version="1.1" width="12" height="16" aria-hidden="true"><path fill-rule="evenodd" d="M12 5l-8 8-4-4 1.5-1.5L4 10l6.5-6.5L12 5z"/></svg>
              <span class="select-menu-item-text css-truncate-target js-select-menu-filter-text">
                michalk_gen-deps-csv
              </span>
            </a>
            <a class="select-menu-item js-navigation-item js-navigation-open "
               href="/h2oai/h2o-3/blob/michalk_genmodel-cleanup/h2o-py/demos/glrm_census_large.ipynb"
               data-name="michalk_genmodel-cleanup"
               data-skip-pjax="true"
               rel="nofollow">
              <svg class="octicon octicon-check select-menu-item-icon" viewBox="0 0 12 16" version="1.1" width="12" height="16" aria-hidden="true"><path fill-rule="evenodd" d="M12 5l-8 8-4-4 1.5-1.5L4 10l6.5-6.5L12 5z"/></svg>
              <span class="select-menu-item-text css-truncate-target js-select-menu-filter-text">
                michalk_genmodel-cleanup
              </span>
            </a>
            <a class="select-menu-item js-navigation-item js-navigation-open "
               href="/h2oai/h2o-3/blob/michalk_glm-exp-grad/h2o-py/demos/glrm_census_large.ipynb"
               data-name="michalk_glm-exp-grad"
               data-skip-pjax="true"
               rel="nofollow">
              <svg class="octicon octicon-check select-menu-item-icon" viewBox="0 0 12 16" version="1.1" width="12" height="16" aria-hidden="true"><path fill-rule="evenodd" d="M12 5l-8 8-4-4 1.5-1.5L4 10l6.5-6.5L12 5z"/></svg>
              <span class="select-menu-item-text css-truncate-target js-select-menu-filter-text">
                michalk_glm-exp-grad
              </span>
            </a>
            <a class="select-menu-item js-navigation-item js-navigation-open "
               href="/h2oai/h2o-3/blob/michalk_glmHaveMojo/h2o-py/demos/glrm_census_large.ipynb"
               data-name="michalk_glmHaveMojo"
               data-skip-pjax="true"
               rel="nofollow">
              <svg class="octicon octicon-check select-menu-item-icon" viewBox="0 0 12 16" version="1.1" width="12" height="16" aria-hidden="true"><path fill-rule="evenodd" d="M12 5l-8 8-4-4 1.5-1.5L4 10l6.5-6.5L12 5z"/></svg>
              <span class="select-menu-item-text css-truncate-target js-select-menu-filter-text">
                michalk_glmHaveMojo
              </span>
            </a>
            <a class="select-menu-item js-navigation-item js-navigation-open "
               href="/h2oai/h2o-3/blob/michalk_grep/h2o-py/demos/glrm_census_large.ipynb"
               data-name="michalk_grep"
               data-skip-pjax="true"
               rel="nofollow">
              <svg class="octicon octicon-check select-menu-item-icon" viewBox="0 0 12 16" version="1.1" width="12" height="16" aria-hidden="true"><path fill-rule="evenodd" d="M12 5l-8 8-4-4 1.5-1.5L4 10l6.5-6.5L12 5z"/></svg>
              <span class="select-menu-item-text css-truncate-target js-select-menu-filter-text">
                michalk_grep
              </span>
            </a>
            <a class="select-menu-item js-navigation-item js-navigation-open "
               href="/h2oai/h2o-3/blob/michalk_grid-fix/h2o-py/demos/glrm_census_large.ipynb"
               data-name="michalk_grid-fix"
               data-skip-pjax="true"
               rel="nofollow">
              <svg class="octicon octicon-check select-menu-item-icon" viewBox="0 0 12 16" version="1.1" width="12" height="16" aria-hidden="true"><path fill-rule="evenodd" d="M12 5l-8 8-4-4 1.5-1.5L4 10l6.5-6.5L12 5z"/></svg>
              <span class="select-menu-item-text css-truncate-target js-select-menu-filter-text">
                michalk_grid-fix
              </span>
            </a>
            <a class="select-menu-item js-navigation-item js-navigation-open "
               href="/h2oai/h2o-3/blob/michalk_h2odriver-doc/h2o-py/demos/glrm_census_large.ipynb"
               data-name="michalk_h2odriver-doc"
               data-skip-pjax="true"
               rel="nofollow">
              <svg class="octicon octicon-check select-menu-item-icon" viewBox="0 0 12 16" version="1.1" width="12" height="16" aria-hidden="true"><path fill-rule="evenodd" d="M12 5l-8 8-4-4 1.5-1.5L4 10l6.5-6.5L12 5z"/></svg>
              <span class="select-menu-item-text css-truncate-target js-select-menu-filter-text">
                michalk_h2odriver-doc
              </span>
            </a>
            <a class="select-menu-item js-navigation-item js-navigation-open "
               href="/h2oai/h2o-3/blob/michalk_h2odriver/h2o-py/demos/glrm_census_large.ipynb"
               data-name="michalk_h2odriver"
               data-skip-pjax="true"
               rel="nofollow">
              <svg class="octicon octicon-check select-menu-item-icon" viewBox="0 0 12 16" version="1.1" width="12" height="16" aria-hidden="true"><path fill-rule="evenodd" d="M12 5l-8 8-4-4 1.5-1.5L4 10l6.5-6.5L12 5z"/></svg>
              <span class="select-menu-item-text css-truncate-target js-select-menu-filter-text">
                michalk_h2odriver
              </span>
            </a>
            <a class="select-menu-item js-navigation-item js-navigation-open "
               href="/h2oai/h2o-3/blob/michalk_hdp-proxy/h2o-py/demos/glrm_census_large.ipynb"
               data-name="michalk_hdp-proxy"
               data-skip-pjax="true"
               rel="nofollow">
              <svg class="octicon octicon-check select-menu-item-icon" viewBox="0 0 12 16" version="1.1" width="12" height="16" aria-hidden="true"><path fill-rule="evenodd" d="M12 5l-8 8-4-4 1.5-1.5L4 10l6.5-6.5L12 5z"/></svg>
              <span class="select-menu-item-text css-truncate-target js-select-menu-filter-text">
                michalk_hdp-proxy
              </span>
            </a>
            <a class="select-menu-item js-navigation-item js-navigation-open "
               href="/h2oai/h2o-3/blob/michalk_hide-jetty-9/h2o-py/demos/glrm_census_large.ipynb"
               data-name="michalk_hide-jetty-9"
               data-skip-pjax="true"
               rel="nofollow">
              <svg class="octicon octicon-check select-menu-item-icon" viewBox="0 0 12 16" version="1.1" width="12" height="16" aria-hidden="true"><path fill-rule="evenodd" d="M12 5l-8 8-4-4 1.5-1.5L4 10l6.5-6.5L12 5z"/></svg>
              <span class="select-menu-item-text css-truncate-target js-select-menu-filter-text">
                michalk_hide-jetty-9
              </span>
            </a>
            <a class="select-menu-item js-navigation-item js-navigation-open "
               href="/h2oai/h2o-3/blob/michalk_hide-jetty/h2o-py/demos/glrm_census_large.ipynb"
               data-name="michalk_hide-jetty"
               data-skip-pjax="true"
               rel="nofollow">
              <svg class="octicon octicon-check select-menu-item-icon" viewBox="0 0 12 16" version="1.1" width="12" height="16" aria-hidden="true"><path fill-rule="evenodd" d="M12 5l-8 8-4-4 1.5-1.5L4 10l6.5-6.5L12 5z"/></svg>
              <span class="select-menu-item-text css-truncate-target js-select-menu-filter-text">
                michalk_hide-jetty
              </span>
            </a>
            <a class="select-menu-item js-navigation-item js-navigation-open "
               href="/h2oai/h2o-3/blob/michalk_hotfix-pca/h2o-py/demos/glrm_census_large.ipynb"
               data-name="michalk_hotfix-pca"
               data-skip-pjax="true"
               rel="nofollow">
              <svg class="octicon octicon-check select-menu-item-icon" viewBox="0 0 12 16" version="1.1" width="12" height="16" aria-hidden="true"><path fill-rule="evenodd" d="M12 5l-8 8-4-4 1.5-1.5L4 10l6.5-6.5L12 5z"/></svg>
              <span class="select-menu-item-text css-truncate-target js-select-menu-filter-text">
                michalk_hotfix-pca
              </span>
            </a>
            <a class="select-menu-item js-navigation-item js-navigation-open "
               href="/h2oai/h2o-3/blob/michalk_ignore-dot-files/h2o-py/demos/glrm_census_large.ipynb"
               data-name="michalk_ignore-dot-files"
               data-skip-pjax="true"
               rel="nofollow">
              <svg class="octicon octicon-check select-menu-item-icon" viewBox="0 0 12 16" version="1.1" width="12" height="16" aria-hidden="true"><path fill-rule="evenodd" d="M12 5l-8 8-4-4 1.5-1.5L4 10l6.5-6.5L12 5z"/></svg>
              <span class="select-menu-item-text css-truncate-target js-select-menu-filter-text">
                michalk_ignore-dot-files
              </span>
            </a>
            <a class="select-menu-item js-navigation-item js-navigation-open "
               href="/h2oai/h2o-3/blob/michalk_ignore-ser-version/h2o-py/demos/glrm_census_large.ipynb"
               data-name="michalk_ignore-ser-version"
               data-skip-pjax="true"
               rel="nofollow">
              <svg class="octicon octicon-check select-menu-item-icon" viewBox="0 0 12 16" version="1.1" width="12" height="16" aria-hidden="true"><path fill-rule="evenodd" d="M12 5l-8 8-4-4 1.5-1.5L4 10l6.5-6.5L12 5z"/></svg>
              <span class="select-menu-item-text css-truncate-target js-select-menu-filter-text">
                michalk_ignore-ser-version
              </span>
            </a>
            <a class="select-menu-item js-navigation-item js-navigation-open "
               href="/h2oai/h2o-3/blob/michalk_import-export/h2o-py/demos/glrm_census_large.ipynb"
               data-name="michalk_import-export"
               data-skip-pjax="true"
               rel="nofollow">
              <svg class="octicon octicon-check select-menu-item-icon" viewBox="0 0 12 16" version="1.1" width="12" height="16" aria-hidden="true"><path fill-rule="evenodd" d="M12 5l-8 8-4-4 1.5-1.5L4 10l6.5-6.5L12 5z"/></svg>
              <span class="select-menu-item-text css-truncate-target js-select-menu-filter-text">
                michalk_import-export
              </span>
            </a>
            <a class="select-menu-item js-navigation-item js-navigation-open "
               href="/h2oai/h2o-3/blob/michalk_interactions-test/h2o-py/demos/glrm_census_large.ipynb"
               data-name="michalk_interactions-test"
               data-skip-pjax="true"
               rel="nofollow">
              <svg class="octicon octicon-check select-menu-item-icon" viewBox="0 0 12 16" version="1.1" width="12" height="16" aria-hidden="true"><path fill-rule="evenodd" d="M12 5l-8 8-4-4 1.5-1.5L4 10l6.5-6.5L12 5z"/></svg>
              <span class="select-menu-item-text css-truncate-target js-select-menu-filter-text">
                michalk_interactions-test
              </span>
            </a>
            <a class="select-menu-item js-navigation-item js-navigation-open "
               href="/h2oai/h2o-3/blob/michalk_interactions/h2o-py/demos/glrm_census_large.ipynb"
               data-name="michalk_interactions"
               data-skip-pjax="true"
               rel="nofollow">
              <svg class="octicon octicon-check select-menu-item-icon" viewBox="0 0 12 16" version="1.1" width="12" height="16" aria-hidden="true"><path fill-rule="evenodd" d="M12 5l-8 8-4-4 1.5-1.5L4 10l6.5-6.5L12 5z"/></svg>
              <span class="select-menu-item-text css-truncate-target js-select-menu-filter-text">
                michalk_interactions
              </span>
            </a>
            <a class="select-menu-item js-navigation-item js-navigation-open "
               href="/h2oai/h2o-3/blob/michalk_j10-wolpert/h2o-py/demos/glrm_census_large.ipynb"
               data-name="michalk_j10-wolpert"
               data-skip-pjax="true"
               rel="nofollow">
              <svg class="octicon octicon-check select-menu-item-icon" viewBox="0 0 12 16" version="1.1" width="12" height="16" aria-hidden="true"><path fill-rule="evenodd" d="M12 5l-8 8-4-4 1.5-1.5L4 10l6.5-6.5L12 5z"/></svg>
              <span class="select-menu-item-text css-truncate-target js-select-menu-filter-text">
                michalk_j10-wolpert
              </span>
            </a>
            <a class="select-menu-item js-navigation-item js-navigation-open "
               href="/h2oai/h2o-3/blob/michalk_java8/h2o-py/demos/glrm_census_large.ipynb"
               data-name="michalk_java8"
               data-skip-pjax="true"
               rel="nofollow">
              <svg class="octicon octicon-check select-menu-item-icon" viewBox="0 0 12 16" version="1.1" width="12" height="16" aria-hidden="true"><path fill-rule="evenodd" d="M12 5l-8 8-4-4 1.5-1.5L4 10l6.5-6.5L12 5z"/></svg>
              <span class="select-menu-item-text css-truncate-target js-select-menu-filter-text">
                michalk_java8
              </span>
            </a>
            <a class="select-menu-item js-navigation-item js-navigation-open "
               href="/h2oai/h2o-3/blob/michalk_jenkins/h2o-py/demos/glrm_census_large.ipynb"
               data-name="michalk_jenkins"
               data-skip-pjax="true"
               rel="nofollow">
              <svg class="octicon octicon-check select-menu-item-icon" viewBox="0 0 12 16" version="1.1" width="12" height="16" aria-hidden="true"><path fill-rule="evenodd" d="M12 5l-8 8-4-4 1.5-1.5L4 10l6.5-6.5L12 5z"/></svg>
              <span class="select-menu-item-text css-truncate-target js-select-menu-filter-text">
                michalk_jenkins
              </span>
            </a>
            <a class="select-menu-item js-navigation-item js-navigation-open "
               href="/h2oai/h2o-3/blob/michalk_jetty-revert/h2o-py/demos/glrm_census_large.ipynb"
               data-name="michalk_jetty-revert"
               data-skip-pjax="true"
               rel="nofollow">
              <svg class="octicon octicon-check select-menu-item-icon" viewBox="0 0 12 16" version="1.1" width="12" height="16" aria-hidden="true"><path fill-rule="evenodd" d="M12 5l-8 8-4-4 1.5-1.5L4 10l6.5-6.5L12 5z"/></svg>
              <span class="select-menu-item-text css-truncate-target js-select-menu-filter-text">
                michalk_jetty-revert
              </span>
            </a>
            <a class="select-menu-item js-navigation-item js-navigation-open "
               href="/h2oai/h2o-3/blob/michalk_kerberos/h2o-py/demos/glrm_census_large.ipynb"
               data-name="michalk_kerberos"
               data-skip-pjax="true"
               rel="nofollow">
              <svg class="octicon octicon-check select-menu-item-icon" viewBox="0 0 12 16" version="1.1" width="12" height="16" aria-hidden="true"><path fill-rule="evenodd" d="M12 5l-8 8-4-4 1.5-1.5L4 10l6.5-6.5L12 5z"/></svg>
              <span class="select-menu-item-text css-truncate-target js-select-menu-filter-text">
                michalk_kerberos
              </span>
            </a>
            <a class="select-menu-item js-navigation-item js-navigation-open "
               href="/h2oai/h2o-3/blob/michalk_kill-ga/h2o-py/demos/glrm_census_large.ipynb"
               data-name="michalk_kill-ga"
               data-skip-pjax="true"
               rel="nofollow">
              <svg class="octicon octicon-check select-menu-item-icon" viewBox="0 0 12 16" version="1.1" width="12" height="16" aria-hidden="true"><path fill-rule="evenodd" d="M12 5l-8 8-4-4 1.5-1.5L4 10l6.5-6.5L12 5z"/></svg>
              <span class="select-menu-item-text css-truncate-target js-select-menu-filter-text">
                michalk_kill-ga
              </span>
            </a>
            <a class="select-menu-item js-navigation-item js-navigation-open "
               href="/h2oai/h2o-3/blob/michalk_klime-fix/h2o-py/demos/glrm_census_large.ipynb"
               data-name="michalk_klime-fix"
               data-skip-pjax="true"
               rel="nofollow">
              <svg class="octicon octicon-check select-menu-item-icon" viewBox="0 0 12 16" version="1.1" width="12" height="16" aria-hidden="true"><path fill-rule="evenodd" d="M12 5l-8 8-4-4 1.5-1.5L4 10l6.5-6.5L12 5z"/></svg>
              <span class="select-menu-item-text css-truncate-target js-select-menu-filter-text">
                michalk_klime-fix
              </span>
            </a>
            <a class="select-menu-item js-navigation-item js-navigation-open "
               href="/h2oai/h2o-3/blob/michalk_klime-grid/h2o-py/demos/glrm_census_large.ipynb"
               data-name="michalk_klime-grid"
               data-skip-pjax="true"
               rel="nofollow">
              <svg class="octicon octicon-check select-menu-item-icon" viewBox="0 0 12 16" version="1.1" width="12" height="16" aria-hidden="true"><path fill-rule="evenodd" d="M12 5l-8 8-4-4 1.5-1.5L4 10l6.5-6.5L12 5z"/></svg>
              <span class="select-menu-item-text css-truncate-target js-select-menu-filter-text">
                michalk_klime-grid
              </span>
            </a>
            <a class="select-menu-item js-navigation-item js-navigation-open "
               href="/h2oai/h2o-3/blob/michalk_klime-metrics/h2o-py/demos/glrm_census_large.ipynb"
               data-name="michalk_klime-metrics"
               data-skip-pjax="true"
               rel="nofollow">
              <svg class="octicon octicon-check select-menu-item-icon" viewBox="0 0 12 16" version="1.1" width="12" height="16" aria-hidden="true"><path fill-rule="evenodd" d="M12 5l-8 8-4-4 1.5-1.5L4 10l6.5-6.5L12 5z"/></svg>
              <span class="select-menu-item-text css-truncate-target js-select-menu-filter-text">
                michalk_klime-metrics
              </span>
            </a>
            <a class="select-menu-item js-navigation-item js-navigation-open "
               href="/h2oai/h2o-3/blob/michalk_klime-mojo/h2o-py/demos/glrm_census_large.ipynb"
               data-name="michalk_klime-mojo"
               data-skip-pjax="true"
               rel="nofollow">
              <svg class="octicon octicon-check select-menu-item-icon" viewBox="0 0 12 16" version="1.1" width="12" height="16" aria-hidden="true"><path fill-rule="evenodd" d="M12 5l-8 8-4-4 1.5-1.5L4 10l6.5-6.5L12 5z"/></svg>
              <span class="select-menu-item-text css-truncate-target js-select-menu-filter-text">
                michalk_klime-mojo
              </span>
            </a>
            <a class="select-menu-item js-navigation-item js-navigation-open "
               href="/h2oai/h2o-3/blob/michalk_klime/h2o-py/demos/glrm_census_large.ipynb"
               data-name="michalk_klime"
               data-skip-pjax="true"
               rel="nofollow">
              <svg class="octicon octicon-check select-menu-item-icon" viewBox="0 0 12 16" version="1.1" width="12" height="16" aria-hidden="true"><path fill-rule="evenodd" d="M12 5l-8 8-4-4 1.5-1.5L4 10l6.5-6.5L12 5z"/></svg>
              <span class="select-menu-item-text css-truncate-target js-select-menu-filter-text">
                michalk_klime
              </span>
            </a>
            <a class="select-menu-item js-navigation-item js-navigation-open "
               href="/h2oai/h2o-3/blob/michalk_kmeans-dist/h2o-py/demos/glrm_census_large.ipynb"
               data-name="michalk_kmeans-dist"
               data-skip-pjax="true"
               rel="nofollow">
              <svg class="octicon octicon-check select-menu-item-icon" viewBox="0 0 12 16" version="1.1" width="12" height="16" aria-hidden="true"><path fill-rule="evenodd" d="M12 5l-8 8-4-4 1.5-1.5L4 10l6.5-6.5L12 5z"/></svg>
              <span class="select-menu-item-text css-truncate-target js-select-menu-filter-text">
                michalk_kmeans-dist
              </span>
            </a>
            <a class="select-menu-item js-navigation-item js-navigation-open "
               href="/h2oai/h2o-3/blob/michalk_license-cleanup/h2o-py/demos/glrm_census_large.ipynb"
               data-name="michalk_license-cleanup"
               data-skip-pjax="true"
               rel="nofollow">
              <svg class="octicon octicon-check select-menu-item-icon" viewBox="0 0 12 16" version="1.1" width="12" height="16" aria-hidden="true"><path fill-rule="evenodd" d="M12 5l-8 8-4-4 1.5-1.5L4 10l6.5-6.5L12 5z"/></svg>
              <span class="select-menu-item-text css-truncate-target js-select-menu-filter-text">
                michalk_license-cleanup
              </span>
            </a>
            <a class="select-menu-item js-navigation-item js-navigation-open "
               href="/h2oai/h2o-3/blob/michalk_mem-batch/h2o-py/demos/glrm_census_large.ipynb"
               data-name="michalk_mem-batch"
               data-skip-pjax="true"
               rel="nofollow">
              <svg class="octicon octicon-check select-menu-item-icon" viewBox="0 0 12 16" version="1.1" width="12" height="16" aria-hidden="true"><path fill-rule="evenodd" d="M12 5l-8 8-4-4 1.5-1.5L4 10l6.5-6.5L12 5z"/></svg>
              <span class="select-menu-item-text css-truncate-target js-select-menu-filter-text">
                michalk_mem-batch
              </span>
            </a>
            <a class="select-menu-item js-navigation-item js-navigation-open "
               href="/h2oai/h2o-3/blob/michalk_mojo-classpath/h2o-py/demos/glrm_census_large.ipynb"
               data-name="michalk_mojo-classpath"
               data-skip-pjax="true"
               rel="nofollow">
              <svg class="octicon octicon-check select-menu-item-icon" viewBox="0 0 12 16" version="1.1" width="12" height="16" aria-hidden="true"><path fill-rule="evenodd" d="M12 5l-8 8-4-4 1.5-1.5L4 10l6.5-6.5L12 5z"/></svg>
              <span class="select-menu-item-text css-truncate-target js-select-menu-filter-text">
                michalk_mojo-classpath
              </span>
            </a>
            <a class="select-menu-item js-navigation-item js-navigation-open "
               href="/h2oai/h2o-3/blob/michalk_mojo-message/h2o-py/demos/glrm_census_large.ipynb"
               data-name="michalk_mojo-message"
               data-skip-pjax="true"
               rel="nofollow">
              <svg class="octicon octicon-check select-menu-item-icon" viewBox="0 0 12 16" version="1.1" width="12" height="16" aria-hidden="true"><path fill-rule="evenodd" d="M12 5l-8 8-4-4 1.5-1.5L4 10l6.5-6.5L12 5z"/></svg>
              <span class="select-menu-item-text css-truncate-target js-select-menu-filter-text">
                michalk_mojo-message
              </span>
            </a>
            <a class="select-menu-item js-navigation-item js-navigation-open "
               href="/h2oai/h2o-3/blob/michalk_mojo-reader-rw/h2o-py/demos/glrm_census_large.ipynb"
               data-name="michalk_mojo-reader-rw"
               data-skip-pjax="true"
               rel="nofollow">
              <svg class="octicon octicon-check select-menu-item-icon" viewBox="0 0 12 16" version="1.1" width="12" height="16" aria-hidden="true"><path fill-rule="evenodd" d="M12 5l-8 8-4-4 1.5-1.5L4 10l6.5-6.5L12 5z"/></svg>
              <span class="select-menu-item-text css-truncate-target js-select-menu-filter-text">
                michalk_mojo-reader-rw
              </span>
            </a>
            <a class="select-menu-item js-navigation-item js-navigation-open "
               href="/h2oai/h2o-3/blob/michalk_offset-tn/h2o-py/demos/glrm_census_large.ipynb"
               data-name="michalk_offset-tn"
               data-skip-pjax="true"
               rel="nofollow">
              <svg class="octicon octicon-check select-menu-item-icon" viewBox="0 0 12 16" version="1.1" width="12" height="16" aria-hidden="true"><path fill-rule="evenodd" d="M12 5l-8 8-4-4 1.5-1.5L4 10l6.5-6.5L12 5z"/></svg>
              <span class="select-menu-item-text css-truncate-target js-select-menu-filter-text">
                michalk_offset-tn
              </span>
            </a>
            <a class="select-menu-item js-navigation-item js-navigation-open "
               href="/h2oai/h2o-3/blob/michalk_one-hot/h2o-py/demos/glrm_census_large.ipynb"
               data-name="michalk_one-hot"
               data-skip-pjax="true"
               rel="nofollow">
              <svg class="octicon octicon-check select-menu-item-icon" viewBox="0 0 12 16" version="1.1" width="12" height="16" aria-hidden="true"><path fill-rule="evenodd" d="M12 5l-8 8-4-4 1.5-1.5L4 10l6.5-6.5L12 5z"/></svg>
              <span class="select-menu-item-text css-truncate-target js-select-menu-filter-text">
                michalk_one-hot
              </span>
            </a>
            <a class="select-menu-item js-navigation-item js-navigation-open "
               href="/h2oai/h2o-3/blob/michalk_oom-fix/h2o-py/demos/glrm_census_large.ipynb"
               data-name="michalk_oom-fix"
               data-skip-pjax="true"
               rel="nofollow">
              <svg class="octicon octicon-check select-menu-item-icon" viewBox="0 0 12 16" version="1.1" width="12" height="16" aria-hidden="true"><path fill-rule="evenodd" d="M12 5l-8 8-4-4 1.5-1.5L4 10l6.5-6.5L12 5z"/></svg>
              <span class="select-menu-item-text css-truncate-target js-select-menu-filter-text">
                michalk_oom-fix
              </span>
            </a>
            <a class="select-menu-item js-navigation-item js-navigation-open "
               href="/h2oai/h2o-3/blob/michalk_packed-strings/h2o-py/demos/glrm_census_large.ipynb"
               data-name="michalk_packed-strings"
               data-skip-pjax="true"
               rel="nofollow">
              <svg class="octicon octicon-check select-menu-item-icon" viewBox="0 0 12 16" version="1.1" width="12" height="16" aria-hidden="true"><path fill-rule="evenodd" d="M12 5l-8 8-4-4 1.5-1.5L4 10l6.5-6.5L12 5z"/></svg>
              <span class="select-menu-item-text css-truncate-target js-select-menu-filter-text">
                michalk_packed-strings
              </span>
            </a>
            <a class="select-menu-item js-navigation-item js-navigation-open "
               href="/h2oai/h2o-3/blob/michalk_pam-jaas/h2o-py/demos/glrm_census_large.ipynb"
               data-name="michalk_pam-jaas"
               data-skip-pjax="true"
               rel="nofollow">
              <svg class="octicon octicon-check select-menu-item-icon" viewBox="0 0 12 16" version="1.1" width="12" height="16" aria-hidden="true"><path fill-rule="evenodd" d="M12 5l-8 8-4-4 1.5-1.5L4 10l6.5-6.5L12 5z"/></svg>
              <span class="select-menu-item-text css-truncate-target js-select-menu-filter-text">
                michalk_pam-jaas
              </span>
            </a>
            <a class="select-menu-item js-navigation-item js-navigation-open "
               href="/h2oai/h2o-3/blob/michalk_parquet-2phase-rw/h2o-py/demos/glrm_census_large.ipynb"
               data-name="michalk_parquet-2phase-rw"
               data-skip-pjax="true"
               rel="nofollow">
              <svg class="octicon octicon-check select-menu-item-icon" viewBox="0 0 12 16" version="1.1" width="12" height="16" aria-hidden="true"><path fill-rule="evenodd" d="M12 5l-8 8-4-4 1.5-1.5L4 10l6.5-6.5L12 5z"/></svg>
              <span class="select-menu-item-text css-truncate-target js-select-menu-filter-text">
                michalk_parquet-2phase-rw
              </span>
            </a>
            <a class="select-menu-item js-navigation-item js-navigation-open "
               href="/h2oai/h2o-3/blob/michalk_parquet-2phase/h2o-py/demos/glrm_census_large.ipynb"
               data-name="michalk_parquet-2phase"
               data-skip-pjax="true"
               rel="nofollow">
              <svg class="octicon octicon-check select-menu-item-icon" viewBox="0 0 12 16" version="1.1" width="12" height="16" aria-hidden="true"><path fill-rule="evenodd" d="M12 5l-8 8-4-4 1.5-1.5L4 10l6.5-6.5L12 5z"/></svg>
              <span class="select-menu-item-text css-truncate-target js-select-menu-filter-text">
                michalk_parquet-2phase
              </span>
            </a>
            <a class="select-menu-item js-navigation-item js-navigation-open "
               href="/h2oai/h2o-3/blob/michalk_parser-type/h2o-py/demos/glrm_census_large.ipynb"
               data-name="michalk_parser-type"
               data-skip-pjax="true"
               rel="nofollow">
              <svg class="octicon octicon-check select-menu-item-icon" viewBox="0 0 12 16" version="1.1" width="12" height="16" aria-hidden="true"><path fill-rule="evenodd" d="M12 5l-8 8-4-4 1.5-1.5L4 10l6.5-6.5L12 5z"/></svg>
              <span class="select-menu-item-text css-truncate-target js-select-menu-filter-text">
                michalk_parser-type
              </span>
            </a>
            <a class="select-menu-item js-navigation-item js-navigation-open "
               href="/h2oai/h2o-3/blob/michalk_platt-fix/h2o-py/demos/glrm_census_large.ipynb"
               data-name="michalk_platt-fix"
               data-skip-pjax="true"
               rel="nofollow">
              <svg class="octicon octicon-check select-menu-item-icon" viewBox="0 0 12 16" version="1.1" width="12" height="16" aria-hidden="true"><path fill-rule="evenodd" d="M12 5l-8 8-4-4 1.5-1.5L4 10l6.5-6.5L12 5z"/></svg>
              <span class="select-menu-item-text css-truncate-target js-select-menu-filter-text">
                michalk_platt-fix
              </span>
            </a>
            <a class="select-menu-item js-navigation-item js-navigation-open "
               href="/h2oai/h2o-3/blob/michalk_platt-mojo/h2o-py/demos/glrm_census_large.ipynb"
               data-name="michalk_platt-mojo"
               data-skip-pjax="true"
               rel="nofollow">
              <svg class="octicon octicon-check select-menu-item-icon" viewBox="0 0 12 16" version="1.1" width="12" height="16" aria-hidden="true"><path fill-rule="evenodd" d="M12 5l-8 8-4-4 1.5-1.5L4 10l6.5-6.5L12 5z"/></svg>
              <span class="select-menu-item-text css-truncate-target js-select-menu-filter-text">
                michalk_platt-mojo
              </span>
            </a>
            <a class="select-menu-item js-navigation-item js-navigation-open "
               href="/h2oai/h2o-3/blob/michalk_platt/h2o-py/demos/glrm_census_large.ipynb"
               data-name="michalk_platt"
               data-skip-pjax="true"
               rel="nofollow">
              <svg class="octicon octicon-check select-menu-item-icon" viewBox="0 0 12 16" version="1.1" width="12" height="16" aria-hidden="true"><path fill-rule="evenodd" d="M12 5l-8 8-4-4 1.5-1.5L4 10l6.5-6.5L12 5z"/></svg>
              <span class="select-menu-item-text css-truncate-target js-select-menu-filter-text">
                michalk_platt
              </span>
            </a>
            <a class="select-menu-item js-navigation-item js-navigation-open "
               href="/h2oai/h2o-3/blob/michalk_predict-no-metrics/h2o-py/demos/glrm_census_large.ipynb"
               data-name="michalk_predict-no-metrics"
               data-skip-pjax="true"
               rel="nofollow">
              <svg class="octicon octicon-check select-menu-item-icon" viewBox="0 0 12 16" version="1.1" width="12" height="16" aria-hidden="true"><path fill-rule="evenodd" d="M12 5l-8 8-4-4 1.5-1.5L4 10l6.5-6.5L12 5z"/></svg>
              <span class="select-menu-item-text css-truncate-target js-select-menu-filter-text">
                michalk_predict-no-metrics
              </span>
            </a>
            <a class="select-menu-item js-navigation-item js-navigation-open "
               href="/h2oai/h2o-3/blob/michalk_proxy-args/h2o-py/demos/glrm_census_large.ipynb"
               data-name="michalk_proxy-args"
               data-skip-pjax="true"
               rel="nofollow">
              <svg class="octicon octicon-check select-menu-item-icon" viewBox="0 0 12 16" version="1.1" width="12" height="16" aria-hidden="true"><path fill-rule="evenodd" d="M12 5l-8 8-4-4 1.5-1.5L4 10l6.5-6.5L12 5z"/></svg>
              <span class="select-menu-item-text css-truncate-target js-select-menu-filter-text">
                michalk_proxy-args
              </span>
            </a>
            <a class="select-menu-item js-navigation-item js-navigation-open "
               href="/h2oai/h2o-3/blob/michalk_proxy-fix-weierstrass/h2o-py/demos/glrm_census_large.ipynb"
               data-name="michalk_proxy-fix-weierstrass"
               data-skip-pjax="true"
               rel="nofollow">
              <svg class="octicon octicon-check select-menu-item-icon" viewBox="0 0 12 16" version="1.1" width="12" height="16" aria-hidden="true"><path fill-rule="evenodd" d="M12 5l-8 8-4-4 1.5-1.5L4 10l6.5-6.5L12 5z"/></svg>
              <span class="select-menu-item-text css-truncate-target js-select-menu-filter-text">
                michalk_proxy-fix-weierstrass
              </span>
            </a>
            <a class="select-menu-item js-navigation-item js-navigation-open "
               href="/h2oai/h2o-3/blob/michalk_proxy-notify/h2o-py/demos/glrm_census_large.ipynb"
               data-name="michalk_proxy-notify"
               data-skip-pjax="true"
               rel="nofollow">
              <svg class="octicon octicon-check select-menu-item-icon" viewBox="0 0 12 16" version="1.1" width="12" height="16" aria-hidden="true"><path fill-rule="evenodd" d="M12 5l-8 8-4-4 1.5-1.5L4 10l6.5-6.5L12 5z"/></svg>
              <span class="select-menu-item-text css-truncate-target js-select-menu-filter-text">
                michalk_proxy-notify
              </span>
            </a>
            <a class="select-menu-item js-navigation-item js-navigation-open "
               href="/h2oai/h2o-3/blob/michalk_pubdev3590/h2o-py/demos/glrm_census_large.ipynb"
               data-name="michalk_pubdev3590"
               data-skip-pjax="true"
               rel="nofollow">
              <svg class="octicon octicon-check select-menu-item-icon" viewBox="0 0 12 16" version="1.1" width="12" height="16" aria-hidden="true"><path fill-rule="evenodd" d="M12 5l-8 8-4-4 1.5-1.5L4 10l6.5-6.5L12 5z"/></svg>
              <span class="select-menu-item-text css-truncate-target js-select-menu-filter-text">
                michalk_pubdev3590
              </span>
            </a>
            <a class="select-menu-item js-navigation-item js-navigation-open "
               href="/h2oai/h2o-3/blob/michalk_pubdev5290/h2o-py/demos/glrm_census_large.ipynb"
               data-name="michalk_pubdev5290"
               data-skip-pjax="true"
               rel="nofollow">
              <svg class="octicon octicon-check select-menu-item-icon" viewBox="0 0 12 16" version="1.1" width="12" height="16" aria-hidden="true"><path fill-rule="evenodd" d="M12 5l-8 8-4-4 1.5-1.5L4 10l6.5-6.5L12 5z"/></svg>
              <span class="select-menu-item-text css-truncate-target js-select-menu-filter-text">
                michalk_pubdev5290
              </span>
            </a>
            <a class="select-menu-item js-navigation-item js-navigation-open "
               href="/h2oai/h2o-3/blob/michalk_publish-tests/h2o-py/demos/glrm_census_large.ipynb"
               data-name="michalk_publish-tests"
               data-skip-pjax="true"
               rel="nofollow">
              <svg class="octicon octicon-check select-menu-item-icon" viewBox="0 0 12 16" version="1.1" width="12" height="16" aria-hidden="true"><path fill-rule="evenodd" d="M12 5l-8 8-4-4 1.5-1.5L4 10l6.5-6.5L12 5z"/></svg>
              <span class="select-menu-item-text css-truncate-target js-select-menu-filter-text">
                michalk_publish-tests
              </span>
            </a>
            <a class="select-menu-item js-navigation-item js-navigation-open "
               href="/h2oai/h2o-3/blob/michalk_rapids-parse/h2o-py/demos/glrm_census_large.ipynb"
               data-name="michalk_rapids-parse"
               data-skip-pjax="true"
               rel="nofollow">
              <svg class="octicon octicon-check select-menu-item-icon" viewBox="0 0 12 16" version="1.1" width="12" height="16" aria-hidden="true"><path fill-rule="evenodd" d="M12 5l-8 8-4-4 1.5-1.5L4 10l6.5-6.5L12 5z"/></svg>
              <span class="select-menu-item-text css-truncate-target js-select-menu-filter-text">
                michalk_rapids-parse
              </span>
            </a>
            <a class="select-menu-item js-navigation-item js-navigation-open "
               href="/h2oai/h2o-3/blob/michalk_rebalance-fail/h2o-py/demos/glrm_census_large.ipynb"
               data-name="michalk_rebalance-fail"
               data-skip-pjax="true"
               rel="nofollow">
              <svg class="octicon octicon-check select-menu-item-icon" viewBox="0 0 12 16" version="1.1" width="12" height="16" aria-hidden="true"><path fill-rule="evenodd" d="M12 5l-8 8-4-4 1.5-1.5L4 10l6.5-6.5L12 5z"/></svg>
              <span class="select-menu-item-text css-truncate-target js-select-menu-filter-text">
                michalk_rebalance-fail
              </span>
            </a>
            <a class="select-menu-item js-navigation-item js-navigation-open "
               href="/h2oai/h2o-3/blob/michalk_rebalance-fix/h2o-py/demos/glrm_census_large.ipynb"
               data-name="michalk_rebalance-fix"
               data-skip-pjax="true"
               rel="nofollow">
              <svg class="octicon octicon-check select-menu-item-icon" viewBox="0 0 12 16" version="1.1" width="12" height="16" aria-hidden="true"><path fill-rule="evenodd" d="M12 5l-8 8-4-4 1.5-1.5L4 10l6.5-6.5L12 5z"/></svg>
              <span class="select-menu-item-text css-truncate-target js-select-menu-filter-text">
                michalk_rebalance-fix
              </span>
            </a>
            <a class="select-menu-item js-navigation-item js-navigation-open "
               href="/h2oai/h2o-3/blob/michalk_rebalance-wolpert/h2o-py/demos/glrm_census_large.ipynb"
               data-name="michalk_rebalance-wolpert"
               data-skip-pjax="true"
               rel="nofollow">
              <svg class="octicon octicon-check select-menu-item-icon" viewBox="0 0 12 16" version="1.1" width="12" height="16" aria-hidden="true"><path fill-rule="evenodd" d="M12 5l-8 8-4-4 1.5-1.5L4 10l6.5-6.5L12 5z"/></svg>
              <span class="select-menu-item-text css-truncate-target js-select-menu-filter-text">
                michalk_rebalance-wolpert
              </span>
            </a>
            <a class="select-menu-item js-navigation-item js-navigation-open "
               href="/h2oai/h2o-3/blob/michalk_refactor-xgb-parms/h2o-py/demos/glrm_census_large.ipynb"
               data-name="michalk_refactor-xgb-parms"
               data-skip-pjax="true"
               rel="nofollow">
              <svg class="octicon octicon-check select-menu-item-icon" viewBox="0 0 12 16" version="1.1" width="12" height="16" aria-hidden="true"><path fill-rule="evenodd" d="M12 5l-8 8-4-4 1.5-1.5L4 10l6.5-6.5L12 5z"/></svg>
              <span class="select-menu-item-text css-truncate-target js-select-menu-filter-text">
                michalk_refactor-xgb-parms
              </span>
            </a>
            <a class="select-menu-item js-navigation-item js-navigation-open "
               href="/h2oai/h2o-3/blob/michalk_rel-notes-wol2/h2o-py/demos/glrm_census_large.ipynb"
               data-name="michalk_rel-notes-wol2"
               data-skip-pjax="true"
               rel="nofollow">
              <svg class="octicon octicon-check select-menu-item-icon" viewBox="0 0 12 16" version="1.1" width="12" height="16" aria-hidden="true"><path fill-rule="evenodd" d="M12 5l-8 8-4-4 1.5-1.5L4 10l6.5-6.5L12 5z"/></svg>
              <span class="select-menu-item-text css-truncate-target js-select-menu-filter-text">
                michalk_rel-notes-wol2
              </span>
            </a>
            <a class="select-menu-item js-navigation-item js-navigation-open "
               href="/h2oai/h2o-3/blob/michalk_rel-vajda-4/h2o-py/demos/glrm_census_large.ipynb"
               data-name="michalk_rel-vajda-4"
               data-skip-pjax="true"
               rel="nofollow">
              <svg class="octicon octicon-check select-menu-item-icon" viewBox="0 0 12 16" version="1.1" width="12" height="16" aria-hidden="true"><path fill-rule="evenodd" d="M12 5l-8 8-4-4 1.5-1.5L4 10l6.5-6.5L12 5z"/></svg>
              <span class="select-menu-item-text css-truncate-target js-select-menu-filter-text">
                michalk_rel-vajda-4
              </span>
            </a>
            <a class="select-menu-item js-navigation-item js-navigation-open "
               href="/h2oai/h2o-3/blob/michalk_rel-vajda-rc4/h2o-py/demos/glrm_census_large.ipynb"
               data-name="michalk_rel-vajda-rc4"
               data-skip-pjax="true"
               rel="nofollow">
              <svg class="octicon octicon-check select-menu-item-icon" viewBox="0 0 12 16" version="1.1" width="12" height="16" aria-hidden="true"><path fill-rule="evenodd" d="M12 5l-8 8-4-4 1.5-1.5L4 10l6.5-6.5L12 5z"/></svg>
              <span class="select-menu-item-text css-truncate-target js-select-menu-filter-text">
                michalk_rel-vajda-rc4
              </span>
            </a>
            <a class="select-menu-item js-navigation-item js-navigation-open "
               href="/h2oai/h2o-3/blob/michalk_remove-deepwater/h2o-py/demos/glrm_census_large.ipynb"
               data-name="michalk_remove-deepwater"
               data-skip-pjax="true"
               rel="nofollow">
              <svg class="octicon octicon-check select-menu-item-icon" viewBox="0 0 12 16" version="1.1" width="12" height="16" aria-hidden="true"><path fill-rule="evenodd" d="M12 5l-8 8-4-4 1.5-1.5L4 10l6.5-6.5L12 5z"/></svg>
              <span class="select-menu-item-text css-truncate-target js-select-menu-filter-text">
                michalk_remove-deepwater
              </span>
            </a>
            <a class="select-menu-item js-navigation-item js-navigation-open "
               href="/h2oai/h2o-3/blob/michalk_remove-ecko/h2o-py/demos/glrm_census_large.ipynb"
               data-name="michalk_remove-ecko"
               data-skip-pjax="true"
               rel="nofollow">
              <svg class="octicon octicon-check select-menu-item-icon" viewBox="0 0 12 16" version="1.1" width="12" height="16" aria-hidden="true"><path fill-rule="evenodd" d="M12 5l-8 8-4-4 1.5-1.5L4 10l6.5-6.5L12 5z"/></svg>
              <span class="select-menu-item-text css-truncate-target js-select-menu-filter-text">
                michalk_remove-ecko
              </span>
            </a>
            <a class="select-menu-item js-navigation-item js-navigation-open "
               href="/h2oai/h2o-3/blob/michalk_remove-jvmcp/h2o-py/demos/glrm_census_large.ipynb"
               data-name="michalk_remove-jvmcp"
               data-skip-pjax="true"
               rel="nofollow">
              <svg class="octicon octicon-check select-menu-item-icon" viewBox="0 0 12 16" version="1.1" width="12" height="16" aria-hidden="true"><path fill-rule="evenodd" d="M12 5l-8 8-4-4 1.5-1.5L4 10l6.5-6.5L12 5z"/></svg>
              <span class="select-menu-item-text css-truncate-target js-select-menu-filter-text">
                michalk_remove-jvmcp
              </span>
            </a>
            <a class="select-menu-item js-navigation-item js-navigation-open "
               href="/h2oai/h2o-3/blob/michalk_remove-version-check/h2o-py/demos/glrm_census_large.ipynb"
               data-name="michalk_remove-version-check"
               data-skip-pjax="true"
               rel="nofollow">
              <svg class="octicon octicon-check select-menu-item-icon" viewBox="0 0 12 16" version="1.1" width="12" height="16" aria-hidden="true"><path fill-rule="evenodd" d="M12 5l-8 8-4-4 1.5-1.5L4 10l6.5-6.5L12 5z"/></svg>
              <span class="select-menu-item-text css-truncate-target js-select-menu-filter-text">
                michalk_remove-version-check
              </span>
            </a>
            <a class="select-menu-item js-navigation-item js-navigation-open "
               href="/h2oai/h2o-3/blob/michalk_revert-am/h2o-py/demos/glrm_census_large.ipynb"
               data-name="michalk_revert-am"
               data-skip-pjax="true"
               rel="nofollow">
              <svg class="octicon octicon-check select-menu-item-icon" viewBox="0 0 12 16" version="1.1" width="12" height="16" aria-hidden="true"><path fill-rule="evenodd" d="M12 5l-8 8-4-4 1.5-1.5L4 10l6.5-6.5L12 5z"/></svg>
              <span class="select-menu-item-text css-truncate-target js-select-menu-filter-text">
                michalk_revert-am
              </span>
            </a>
            <a class="select-menu-item js-navigation-item js-navigation-open "
               href="/h2oai/h2o-3/blob/michalk_rsparkling-sw4/h2o-py/demos/glrm_census_large.ipynb"
               data-name="michalk_rsparkling-sw4"
               data-skip-pjax="true"
               rel="nofollow">
              <svg class="octicon octicon-check select-menu-item-icon" viewBox="0 0 12 16" version="1.1" width="12" height="16" aria-hidden="true"><path fill-rule="evenodd" d="M12 5l-8 8-4-4 1.5-1.5L4 10l6.5-6.5L12 5z"/></svg>
              <span class="select-menu-item-text css-truncate-target js-select-menu-filter-text">
                michalk_rsparkling-sw4
              </span>
            </a>
            <a class="select-menu-item js-navigation-item js-navigation-open "
               href="/h2oai/h2o-3/blob/michalk_setLevels/h2o-py/demos/glrm_census_large.ipynb"
               data-name="michalk_setLevels"
               data-skip-pjax="true"
               rel="nofollow">
              <svg class="octicon octicon-check select-menu-item-icon" viewBox="0 0 12 16" version="1.1" width="12" height="16" aria-hidden="true"><path fill-rule="evenodd" d="M12 5l-8 8-4-4 1.5-1.5L4 10l6.5-6.5L12 5z"/></svg>
              <span class="select-menu-item-text css-truncate-target js-select-menu-filter-text">
                michalk_setLevels
              </span>
            </a>
            <a class="select-menu-item js-navigation-item js-navigation-open "
               href="/h2oai/h2o-3/blob/michalk_smaller-jar/h2o-py/demos/glrm_census_large.ipynb"
               data-name="michalk_smaller-jar"
               data-skip-pjax="true"
               rel="nofollow">
              <svg class="octicon octicon-check select-menu-item-icon" viewBox="0 0 12 16" version="1.1" width="12" height="16" aria-hidden="true"><path fill-rule="evenodd" d="M12 5l-8 8-4-4 1.5-1.5L4 10l6.5-6.5L12 5z"/></svg>
              <span class="select-menu-item-text css-truncate-target js-select-menu-filter-text">
                michalk_smaller-jar
              </span>
            </a>
            <a class="select-menu-item js-navigation-item js-navigation-open "
               href="/h2oai/h2o-3/blob/michalk_sparsefix/h2o-py/demos/glrm_census_large.ipynb"
               data-name="michalk_sparsefix"
               data-skip-pjax="true"
               rel="nofollow">
              <svg class="octicon octicon-check select-menu-item-icon" viewBox="0 0 12 16" version="1.1" width="12" height="16" aria-hidden="true"><path fill-rule="evenodd" d="M12 5l-8 8-4-4 1.5-1.5L4 10l6.5-6.5L12 5z"/></svg>
              <span class="select-menu-item-text css-truncate-target js-select-menu-filter-text">
                michalk_sparsefix
              </span>
            </a>
            <a class="select-menu-item js-navigation-item js-navigation-open "
               href="/h2oai/h2o-3/blob/michalk_strata-inter/h2o-py/demos/glrm_census_large.ipynb"
               data-name="michalk_strata-inter"
               data-skip-pjax="true"
               rel="nofollow">
              <svg class="octicon octicon-check select-menu-item-icon" viewBox="0 0 12 16" version="1.1" width="12" height="16" aria-hidden="true"><path fill-rule="evenodd" d="M12 5l-8 8-4-4 1.5-1.5L4 10l6.5-6.5L12 5z"/></svg>
              <span class="select-menu-item-text css-truncate-target js-select-menu-filter-text">
                michalk_strata-inter
              </span>
            </a>
            <a class="select-menu-item js-navigation-item js-navigation-open "
               href="/h2oai/h2o-3/blob/michalk_strconcat/h2o-py/demos/glrm_census_large.ipynb"
               data-name="michalk_strconcat"
               data-skip-pjax="true"
               rel="nofollow">
              <svg class="octicon octicon-check select-menu-item-icon" viewBox="0 0 12 16" version="1.1" width="12" height="16" aria-hidden="true"><path fill-rule="evenodd" d="M12 5l-8 8-4-4 1.5-1.5L4 10l6.5-6.5L12 5z"/></svg>
              <span class="select-menu-item-text css-truncate-target js-select-menu-filter-text">
                michalk_strconcat
              </span>
            </a>
            <a class="select-menu-item js-navigation-item js-navigation-open "
               href="/h2oai/h2o-3/blob/michalk_strdist/h2o-py/demos/glrm_census_large.ipynb"
               data-name="michalk_strdist"
               data-skip-pjax="true"
               rel="nofollow">
              <svg class="octicon octicon-check select-menu-item-icon" viewBox="0 0 12 16" version="1.1" width="12" height="16" aria-hidden="true"><path fill-rule="evenodd" d="M12 5l-8 8-4-4 1.5-1.5L4 10l6.5-6.5L12 5z"/></svg>
              <span class="select-menu-item-text css-truncate-target js-select-menu-filter-text">
                michalk_strdist
              </span>
            </a>
            <a class="select-menu-item js-navigation-item js-navigation-open "
               href="/h2oai/h2o-3/blob/michalk_stringcrash-rel-weier/h2o-py/demos/glrm_census_large.ipynb"
               data-name="michalk_stringcrash-rel-weier"
               data-skip-pjax="true"
               rel="nofollow">
              <svg class="octicon octicon-check select-menu-item-icon" viewBox="0 0 12 16" version="1.1" width="12" height="16" aria-hidden="true"><path fill-rule="evenodd" d="M12 5l-8 8-4-4 1.5-1.5L4 10l6.5-6.5L12 5z"/></svg>
              <span class="select-menu-item-text css-truncate-target js-select-menu-filter-text">
                michalk_stringcrash-rel-weier
              </span>
            </a>
            <a class="select-menu-item js-navigation-item js-navigation-open "
               href="/h2oai/h2o-3/blob/michalk_stringcrash/h2o-py/demos/glrm_census_large.ipynb"
               data-name="michalk_stringcrash"
               data-skip-pjax="true"
               rel="nofollow">
              <svg class="octicon octicon-check select-menu-item-icon" viewBox="0 0 12 16" version="1.1" width="12" height="16" aria-hidden="true"><path fill-rule="evenodd" d="M12 5l-8 8-4-4 1.5-1.5L4 10l6.5-6.5L12 5z"/></svg>
              <span class="select-menu-item-text css-truncate-target js-select-menu-filter-text">
                michalk_stringcrash
              </span>
            </a>
            <a class="select-menu-item js-navigation-item js-navigation-open "
               href="/h2oai/h2o-3/blob/michalk_system-args/h2o-py/demos/glrm_census_large.ipynb"
               data-name="michalk_system-args"
               data-skip-pjax="true"
               rel="nofollow">
              <svg class="octicon octicon-check select-menu-item-icon" viewBox="0 0 12 16" version="1.1" width="12" height="16" aria-hidden="true"><path fill-rule="evenodd" d="M12 5l-8 8-4-4 1.5-1.5L4 10l6.5-6.5L12 5z"/></svg>
              <span class="select-menu-item-text css-truncate-target js-select-menu-filter-text">
                michalk_system-args
              </span>
            </a>
            <a class="select-menu-item js-navigation-item js-navigation-open "
               href="/h2oai/h2o-3/blob/michalk_too-many-predictors/h2o-py/demos/glrm_census_large.ipynb"
               data-name="michalk_too-many-predictors"
               data-skip-pjax="true"
               rel="nofollow">
              <svg class="octicon octicon-check select-menu-item-icon" viewBox="0 0 12 16" version="1.1" width="12" height="16" aria-hidden="true"><path fill-rule="evenodd" d="M12 5l-8 8-4-4 1.5-1.5L4 10l6.5-6.5L12 5z"/></svg>
              <span class="select-menu-item-text css-truncate-target js-select-menu-filter-text">
                michalk_too-many-predictors
              </span>
            </a>
            <a class="select-menu-item js-navigation-item js-navigation-open "
               href="/h2oai/h2o-3/blob/michalk_tree-preds/h2o-py/demos/glrm_census_large.ipynb"
               data-name="michalk_tree-preds"
               data-skip-pjax="true"
               rel="nofollow">
              <svg class="octicon octicon-check select-menu-item-icon" viewBox="0 0 12 16" version="1.1" width="12" height="16" aria-hidden="true"><path fill-rule="evenodd" d="M12 5l-8 8-4-4 1.5-1.5L4 10l6.5-6.5L12 5z"/></svg>
              <span class="select-menu-item-text css-truncate-target js-select-menu-filter-text">
                michalk_tree-preds
              </span>
            </a>
            <a class="select-menu-item js-navigation-item js-navigation-open "
               href="/h2oai/h2o-3/blob/michalk_tst-proxy/h2o-py/demos/glrm_census_large.ipynb"
               data-name="michalk_tst-proxy"
               data-skip-pjax="true"
               rel="nofollow">
              <svg class="octicon octicon-check select-menu-item-icon" viewBox="0 0 12 16" version="1.1" width="12" height="16" aria-hidden="true"><path fill-rule="evenodd" d="M12 5l-8 8-4-4 1.5-1.5L4 10l6.5-6.5L12 5z"/></svg>
              <span class="select-menu-item-text css-truncate-target js-select-menu-filter-text">
                michalk_tst-proxy
              </span>
            </a>
            <a class="select-menu-item js-navigation-item js-navigation-open "
               href="/h2oai/h2o-3/blob/michalk_upgrade-xgb074/h2o-py/demos/glrm_census_large.ipynb"
               data-name="michalk_upgrade-xgb074"
               data-skip-pjax="true"
               rel="nofollow">
              <svg class="octicon octicon-check select-menu-item-icon" viewBox="0 0 12 16" version="1.1" width="12" height="16" aria-hidden="true"><path fill-rule="evenodd" d="M12 5l-8 8-4-4 1.5-1.5L4 10l6.5-6.5L12 5z"/></svg>
              <span class="select-menu-item-text css-truncate-target js-select-menu-filter-text">
                michalk_upgrade-xgb074
              </span>
            </a>
            <a class="select-menu-item js-navigation-item js-navigation-open "
               href="/h2oai/h2o-3/blob/michalk_use-all-factor/h2o-py/demos/glrm_census_large.ipynb"
               data-name="michalk_use-all-factor"
               data-skip-pjax="true"
               rel="nofollow">
              <svg class="octicon octicon-check select-menu-item-icon" viewBox="0 0 12 16" version="1.1" width="12" height="16" aria-hidden="true"><path fill-rule="evenodd" d="M12 5l-8 8-4-4 1.5-1.5L4 10l6.5-6.5L12 5z"/></svg>
              <span class="select-menu-item-text css-truncate-target js-select-menu-filter-text">
                michalk_use-all-factor
              </span>
            </a>
            <a class="select-menu-item js-navigation-item js-navigation-open "
               href="/h2oai/h2o-3/blob/michalk_w2v-aggregate/h2o-py/demos/glrm_census_large.ipynb"
               data-name="michalk_w2v-aggregate"
               data-skip-pjax="true"
               rel="nofollow">
              <svg class="octicon octicon-check select-menu-item-icon" viewBox="0 0 12 16" version="1.1" width="12" height="16" aria-hidden="true"><path fill-rule="evenodd" d="M12 5l-8 8-4-4 1.5-1.5L4 10l6.5-6.5L12 5z"/></svg>
              <span class="select-menu-item-text css-truncate-target js-select-menu-filter-text">
                michalk_w2v-aggregate
              </span>
            </a>
            <a class="select-menu-item js-navigation-item js-navigation-open "
               href="/h2oai/h2o-3/blob/michalk_w2v-fix-params/h2o-py/demos/glrm_census_large.ipynb"
               data-name="michalk_w2v-fix-params"
               data-skip-pjax="true"
               rel="nofollow">
              <svg class="octicon octicon-check select-menu-item-icon" viewBox="0 0 12 16" version="1.1" width="12" height="16" aria-hidden="true"><path fill-rule="evenodd" d="M12 5l-8 8-4-4 1.5-1.5L4 10l6.5-6.5L12 5z"/></svg>
              <span class="select-menu-item-text css-truncate-target js-select-menu-filter-text">
                michalk_w2v-fix-params
              </span>
            </a>
            <a class="select-menu-item js-navigation-item js-navigation-open "
               href="/h2oai/h2o-3/blob/michalk_w2v-fix-writer/h2o-py/demos/glrm_census_large.ipynb"
               data-name="michalk_w2v-fix-writer"
               data-skip-pjax="true"
               rel="nofollow">
              <svg class="octicon octicon-check select-menu-item-icon" viewBox="0 0 12 16" version="1.1" width="12" height="16" aria-hidden="true"><path fill-rule="evenodd" d="M12 5l-8 8-4-4 1.5-1.5L4 10l6.5-6.5L12 5z"/></svg>
              <span class="select-menu-item-text css-truncate-target js-select-menu-filter-text">
                michalk_w2v-fix-writer
              </span>
            </a>
            <a class="select-menu-item js-navigation-item js-navigation-open "
               href="/h2oai/h2o-3/blob/michalk_w2v-fix/h2o-py/demos/glrm_census_large.ipynb"
               data-name="michalk_w2v-fix"
               data-skip-pjax="true"
               rel="nofollow">
              <svg class="octicon octicon-check select-menu-item-icon" viewBox="0 0 12 16" version="1.1" width="12" height="16" aria-hidden="true"><path fill-rule="evenodd" d="M12 5l-8 8-4-4 1.5-1.5L4 10l6.5-6.5L12 5z"/></svg>
              <span class="select-menu-item-text css-truncate-target js-select-menu-filter-text">
                michalk_w2v-fix
              </span>
            </a>
            <a class="select-menu-item js-navigation-item js-navigation-open "
               href="/h2oai/h2o-3/blob/michalk_w7/h2o-py/demos/glrm_census_large.ipynb"
               data-name="michalk_w7"
               data-skip-pjax="true"
               rel="nofollow">
              <svg class="octicon octicon-check select-menu-item-icon" viewBox="0 0 12 16" version="1.1" width="12" height="16" aria-hidden="true"><path fill-rule="evenodd" d="M12 5l-8 8-4-4 1.5-1.5L4 10l6.5-6.5L12 5z"/></svg>
              <span class="select-menu-item-text css-truncate-target js-select-menu-filter-text">
                michalk_w7
              </span>
            </a>
            <a class="select-menu-item js-navigation-item js-navigation-open "
               href="/h2oai/h2o-3/blob/michalk_w11-master/h2o-py/demos/glrm_census_large.ipynb"
               data-name="michalk_w11-master"
               data-skip-pjax="true"
               rel="nofollow">
              <svg class="octicon octicon-check select-menu-item-icon" viewBox="0 0 12 16" version="1.1" width="12" height="16" aria-hidden="true"><path fill-rule="evenodd" d="M12 5l-8 8-4-4 1.5-1.5L4 10l6.5-6.5L12 5z"/></svg>
              <span class="select-menu-item-text css-truncate-target js-select-menu-filter-text">
                michalk_w11-master
              </span>
            </a>
            <a class="select-menu-item js-navigation-item js-navigation-open "
               href="/h2oai/h2o-3/blob/michalk_w11/h2o-py/demos/glrm_census_large.ipynb"
               data-name="michalk_w11"
               data-skip-pjax="true"
               rel="nofollow">
              <svg class="octicon octicon-check select-menu-item-icon" viewBox="0 0 12 16" version="1.1" width="12" height="16" aria-hidden="true"><path fill-rule="evenodd" d="M12 5l-8 8-4-4 1.5-1.5L4 10l6.5-6.5L12 5z"/></svg>
              <span class="select-menu-item-text css-truncate-target js-select-menu-filter-text">
                michalk_w11
              </span>
            </a>
            <a class="select-menu-item js-navigation-item js-navigation-open "
               href="/h2oai/h2o-3/blob/michalk_wc_test/h2o-py/demos/glrm_census_large.ipynb"
               data-name="michalk_wc_test"
               data-skip-pjax="true"
               rel="nofollow">
              <svg class="octicon octicon-check select-menu-item-icon" viewBox="0 0 12 16" version="1.1" width="12" height="16" aria-hidden="true"><path fill-rule="evenodd" d="M12 5l-8 8-4-4 1.5-1.5L4 10l6.5-6.5L12 5z"/></svg>
              <span class="select-menu-item-text css-truncate-target js-select-menu-filter-text">
                michalk_wc_test
              </span>
            </a>
            <a class="select-menu-item js-navigation-item js-navigation-open "
               href="/h2oai/h2o-3/blob/michalk_wol-rebalance/h2o-py/demos/glrm_census_large.ipynb"
               data-name="michalk_wol-rebalance"
               data-skip-pjax="true"
               rel="nofollow">
              <svg class="octicon octicon-check select-menu-item-icon" viewBox="0 0 12 16" version="1.1" width="12" height="16" aria-hidden="true"><path fill-rule="evenodd" d="M12 5l-8 8-4-4 1.5-1.5L4 10l6.5-6.5L12 5z"/></svg>
              <span class="select-menu-item-text css-truncate-target js-select-menu-filter-text">
                michalk_wol-rebalance
              </span>
            </a>
            <a class="select-menu-item js-navigation-item js-navigation-open "
               href="/h2oai/h2o-3/blob/michalk_word2vec/h2o-py/demos/glrm_census_large.ipynb"
               data-name="michalk_word2vec"
               data-skip-pjax="true"
               rel="nofollow">
              <svg class="octicon octicon-check select-menu-item-icon" viewBox="0 0 12 16" version="1.1" width="12" height="16" aria-hidden="true"><path fill-rule="evenodd" d="M12 5l-8 8-4-4 1.5-1.5L4 10l6.5-6.5L12 5z"/></svg>
              <span class="select-menu-item-text css-truncate-target js-select-menu-filter-text">
                michalk_word2vec
              </span>
            </a>
            <a class="select-menu-item js-navigation-item js-navigation-open "
               href="/h2oai/h2o-3/blob/michalk_xgb-booster-opt/h2o-py/demos/glrm_census_large.ipynb"
               data-name="michalk_xgb-booster-opt"
               data-skip-pjax="true"
               rel="nofollow">
              <svg class="octicon octicon-check select-menu-item-icon" viewBox="0 0 12 16" version="1.1" width="12" height="16" aria-hidden="true"><path fill-rule="evenodd" d="M12 5l-8 8-4-4 1.5-1.5L4 10l6.5-6.5L12 5z"/></svg>
              <span class="select-menu-item-text css-truncate-target js-select-menu-filter-text">
                michalk_xgb-booster-opt
              </span>
            </a>
            <a class="select-menu-item js-navigation-item js-navigation-open "
               href="/h2oai/h2o-3/blob/michalk_xgb-booster-reuse/h2o-py/demos/glrm_census_large.ipynb"
               data-name="michalk_xgb-booster-reuse"
               data-skip-pjax="true"
               rel="nofollow">
              <svg class="octicon octicon-check select-menu-item-icon" viewBox="0 0 12 16" version="1.1" width="12" height="16" aria-hidden="true"><path fill-rule="evenodd" d="M12 5l-8 8-4-4 1.5-1.5L4 10l6.5-6.5L12 5z"/></svg>
              <span class="select-menu-item-text css-truncate-target js-select-menu-filter-text">
                michalk_xgb-booster-reuse
              </span>
            </a>
            <a class="select-menu-item js-navigation-item js-navigation-open "
               href="/h2oai/h2o-3/blob/michalk_xgb-booster-reuse2/h2o-py/demos/glrm_census_large.ipynb"
               data-name="michalk_xgb-booster-reuse2"
               data-skip-pjax="true"
               rel="nofollow">
              <svg class="octicon octicon-check select-menu-item-icon" viewBox="0 0 12 16" version="1.1" width="12" height="16" aria-hidden="true"><path fill-rule="evenodd" d="M12 5l-8 8-4-4 1.5-1.5L4 10l6.5-6.5L12 5z"/></svg>
              <span class="select-menu-item-text css-truncate-target js-select-menu-filter-text">
                michalk_xgb-booster-reuse2
              </span>
            </a>
            <a class="select-menu-item js-navigation-item js-navigation-open "
               href="/h2oai/h2o-3/blob/michalk_xgb-java-predict/h2o-py/demos/glrm_census_large.ipynb"
               data-name="michalk_xgb-java-predict"
               data-skip-pjax="true"
               rel="nofollow">
              <svg class="octicon octicon-check select-menu-item-icon" viewBox="0 0 12 16" version="1.1" width="12" height="16" aria-hidden="true"><path fill-rule="evenodd" d="M12 5l-8 8-4-4 1.5-1.5L4 10l6.5-6.5L12 5z"/></svg>
              <span class="select-menu-item-text css-truncate-target js-select-menu-filter-text">
                michalk_xgb-java-predict
              </span>
            </a>
            <a class="select-menu-item js-navigation-item js-navigation-open "
               href="/h2oai/h2o-3/blob/michalk_xgb-keep-alive/h2o-py/demos/glrm_census_large.ipynb"
               data-name="michalk_xgb-keep-alive"
               data-skip-pjax="true"
               rel="nofollow">
              <svg class="octicon octicon-check select-menu-item-icon" viewBox="0 0 12 16" version="1.1" width="12" height="16" aria-hidden="true"><path fill-rule="evenodd" d="M12 5l-8 8-4-4 1.5-1.5L4 10l6.5-6.5L12 5z"/></svg>
              <span class="select-menu-item-text css-truncate-target js-select-menu-filter-text">
                michalk_xgb-keep-alive
              </span>
            </a>
            <a class="select-menu-item js-navigation-item js-navigation-open "
               href="/h2oai/h2o-3/blob/michalk_xgb-mem-opt/h2o-py/demos/glrm_census_large.ipynb"
               data-name="michalk_xgb-mem-opt"
               data-skip-pjax="true"
               rel="nofollow">
              <svg class="octicon octicon-check select-menu-item-icon" viewBox="0 0 12 16" version="1.1" width="12" height="16" aria-hidden="true"><path fill-rule="evenodd" d="M12 5l-8 8-4-4 1.5-1.5L4 10l6.5-6.5L12 5z"/></svg>
              <span class="select-menu-item-text css-truncate-target js-select-menu-filter-text">
                michalk_xgb-mem-opt
              </span>
            </a>
            <a class="select-menu-item js-navigation-item js-navigation-open "
               href="/h2oai/h2o-3/blob/michalk_xgb-native-loader/h2o-py/demos/glrm_census_large.ipynb"
               data-name="michalk_xgb-native-loader"
               data-skip-pjax="true"
               rel="nofollow">
              <svg class="octicon octicon-check select-menu-item-icon" viewBox="0 0 12 16" version="1.1" width="12" height="16" aria-hidden="true"><path fill-rule="evenodd" d="M12 5l-8 8-4-4 1.5-1.5L4 10l6.5-6.5L12 5z"/></svg>
              <span class="select-menu-item-text css-truncate-target js-select-menu-filter-text">
                michalk_xgb-native-loader
              </span>
            </a>
            <a class="select-menu-item js-navigation-item js-navigation-open "
               href="/h2oai/h2o-3/blob/michalk_xgb-no-gpu-test/h2o-py/demos/glrm_census_large.ipynb"
               data-name="michalk_xgb-no-gpu-test"
               data-skip-pjax="true"
               rel="nofollow">
              <svg class="octicon octicon-check select-menu-item-icon" viewBox="0 0 12 16" version="1.1" width="12" height="16" aria-hidden="true"><path fill-rule="evenodd" d="M12 5l-8 8-4-4 1.5-1.5L4 10l6.5-6.5L12 5z"/></svg>
              <span class="select-menu-item-text css-truncate-target js-select-menu-filter-text">
                michalk_xgb-no-gpu-test
              </span>
            </a>
            <a class="select-menu-item js-navigation-item js-navigation-open "
               href="/h2oai/h2o-3/blob/michalk_xgb-nthreads/h2o-py/demos/glrm_census_large.ipynb"
               data-name="michalk_xgb-nthreads"
               data-skip-pjax="true"
               rel="nofollow">
              <svg class="octicon octicon-check select-menu-item-icon" viewBox="0 0 12 16" version="1.1" width="12" height="16" aria-hidden="true"><path fill-rule="evenodd" d="M12 5l-8 8-4-4 1.5-1.5L4 10l6.5-6.5L12 5z"/></svg>
              <span class="select-menu-item-text css-truncate-target js-select-menu-filter-text">
                michalk_xgb-nthreads
              </span>
            </a>
            <a class="select-menu-item js-navigation-item js-navigation-open "
               href="/h2oai/h2o-3/blob/michalk_xgb-upgrade-26/h2o-py/demos/glrm_census_large.ipynb"
               data-name="michalk_xgb-upgrade-26"
               data-skip-pjax="true"
               rel="nofollow">
              <svg class="octicon octicon-check select-menu-item-icon" viewBox="0 0 12 16" version="1.1" width="12" height="16" aria-hidden="true"><path fill-rule="evenodd" d="M12 5l-8 8-4-4 1.5-1.5L4 10l6.5-6.5L12 5z"/></svg>
              <span class="select-menu-item-text css-truncate-target js-select-menu-filter-text">
                michalk_xgb-upgrade-26
              </span>
            </a>
            <a class="select-menu-item js-navigation-item js-navigation-open "
               href="/h2oai/h2o-3/blob/michalk_xgb-wolpert/h2o-py/demos/glrm_census_large.ipynb"
               data-name="michalk_xgb-wolpert"
               data-skip-pjax="true"
               rel="nofollow">
              <svg class="octicon octicon-check select-menu-item-icon" viewBox="0 0 12 16" version="1.1" width="12" height="16" aria-hidden="true"><path fill-rule="evenodd" d="M12 5l-8 8-4-4 1.5-1.5L4 10l6.5-6.5L12 5z"/></svg>
              <span class="select-menu-item-text css-truncate-target js-select-menu-filter-text">
                michalk_xgb-wolpert
              </span>
            </a>
            <a class="select-menu-item js-navigation-item js-navigation-open "
               href="/h2oai/h2o-3/blob/michalk_xgb-xlarge/h2o-py/demos/glrm_census_large.ipynb"
               data-name="michalk_xgb-xlarge"
               data-skip-pjax="true"
               rel="nofollow">
              <svg class="octicon octicon-check select-menu-item-icon" viewBox="0 0 12 16" version="1.1" width="12" height="16" aria-hidden="true"><path fill-rule="evenodd" d="M12 5l-8 8-4-4 1.5-1.5L4 10l6.5-6.5L12 5z"/></svg>
              <span class="select-menu-item-text css-truncate-target js-select-menu-filter-text">
                michalk_xgb-xlarge
              </span>
            </a>
            <a class="select-menu-item js-navigation-item js-navigation-open "
               href="/h2oai/h2o-3/blob/michalk_xgboost-dump/h2o-py/demos/glrm_census_large.ipynb"
               data-name="michalk_xgboost-dump"
               data-skip-pjax="true"
               rel="nofollow">
              <svg class="octicon octicon-check select-menu-item-icon" viewBox="0 0 12 16" version="1.1" width="12" height="16" aria-hidden="true"><path fill-rule="evenodd" d="M12 5l-8 8-4-4 1.5-1.5L4 10l6.5-6.5L12 5z"/></svg>
              <span class="select-menu-item-text css-truncate-target js-select-menu-filter-text">
                michalk_xgboost-dump
              </span>
            </a>
            <a class="select-menu-item js-navigation-item js-navigation-open "
               href="/h2oai/h2o-3/blob/michalk_xgboost-hadoop-port/h2o-py/demos/glrm_census_large.ipynb"
               data-name="michalk_xgboost-hadoop-port"
               data-skip-pjax="true"
               rel="nofollow">
              <svg class="octicon octicon-check select-menu-item-icon" viewBox="0 0 12 16" version="1.1" width="12" height="16" aria-hidden="true"><path fill-rule="evenodd" d="M12 5l-8 8-4-4 1.5-1.5L4 10l6.5-6.5L12 5z"/></svg>
              <span class="select-menu-item-text css-truncate-target js-select-menu-filter-text">
                michalk_xgboost-hadoop-port
              </span>
            </a>
            <a class="select-menu-item js-navigation-item js-navigation-open "
               href="/h2oai/h2o-3/blob/michalk_xgboost-hadoop/h2o-py/demos/glrm_census_large.ipynb"
               data-name="michalk_xgboost-hadoop"
               data-skip-pjax="true"
               rel="nofollow">
              <svg class="octicon octicon-check select-menu-item-icon" viewBox="0 0 12 16" version="1.1" width="12" height="16" aria-hidden="true"><path fill-rule="evenodd" d="M12 5l-8 8-4-4 1.5-1.5L4 10l6.5-6.5L12 5z"/></svg>
              <span class="select-menu-item-text css-truncate-target js-select-menu-filter-text">
                michalk_xgboost-hadoop
              </span>
            </a>
            <a class="select-menu-item js-navigation-item js-navigation-open "
               href="/h2oai/h2o-3/blob/michalk_xgboost-predict/h2o-py/demos/glrm_census_large.ipynb"
               data-name="michalk_xgboost-predict"
               data-skip-pjax="true"
               rel="nofollow">
              <svg class="octicon octicon-check select-menu-item-icon" viewBox="0 0 12 16" version="1.1" width="12" height="16" aria-hidden="true"><path fill-rule="evenodd" d="M12 5l-8 8-4-4 1.5-1.5L4 10l6.5-6.5L12 5z"/></svg>
              <span class="select-menu-item-text css-truncate-target js-select-menu-filter-text">
                michalk_xgboost-predict
              </span>
            </a>
            <a class="select-menu-item js-navigation-item js-navigation-open "
               href="/h2oai/h2o-3/blob/michalk_xgboost-spi/h2o-py/demos/glrm_census_large.ipynb"
               data-name="michalk_xgboost-spi"
               data-skip-pjax="true"
               rel="nofollow">
              <svg class="octicon octicon-check select-menu-item-icon" viewBox="0 0 12 16" version="1.1" width="12" height="16" aria-hidden="true"><path fill-rule="evenodd" d="M12 5l-8 8-4-4 1.5-1.5L4 10l6.5-6.5L12 5z"/></svg>
              <span class="select-menu-item-text css-truncate-target js-select-menu-filter-text">
                michalk_xgboost-spi
              </span>
            </a>
            <a class="select-menu-item js-navigation-item js-navigation-open "
               href="/h2oai/h2o-3/blob/michalk_xgboost-upgrade-52/h2o-py/demos/glrm_census_large.ipynb"
               data-name="michalk_xgboost-upgrade-52"
               data-skip-pjax="true"
               rel="nofollow">
              <svg class="octicon octicon-check select-menu-item-icon" viewBox="0 0 12 16" version="1.1" width="12" height="16" aria-hidden="true"><path fill-rule="evenodd" d="M12 5l-8 8-4-4 1.5-1.5L4 10l6.5-6.5L12 5z"/></svg>
              <span class="select-menu-item-text css-truncate-target js-select-menu-filter-text">
                michalk_xgboost-upgrade-52
              </span>
            </a>
            <a class="select-menu-item js-navigation-item js-navigation-open "
               href="/h2oai/h2o-3/blob/michalk_xgboost-upgrade/h2o-py/demos/glrm_census_large.ipynb"
               data-name="michalk_xgboost-upgrade"
               data-skip-pjax="true"
               rel="nofollow">
              <svg class="octicon octicon-check select-menu-item-icon" viewBox="0 0 12 16" version="1.1" width="12" height="16" aria-hidden="true"><path fill-rule="evenodd" d="M12 5l-8 8-4-4 1.5-1.5L4 10l6.5-6.5L12 5z"/></svg>
              <span class="select-menu-item-text css-truncate-target js-select-menu-filter-text">
                michalk_xgboost-upgrade
              </span>
            </a>
            <a class="select-menu-item js-navigation-item js-navigation-open "
               href="/h2oai/h2o-3/blob/mm/PUBDEV-5357/h2o-py/demos/glrm_census_large.ipynb"
               data-name="mm/PUBDEV-5357"
               data-skip-pjax="true"
               rel="nofollow">
              <svg class="octicon octicon-check select-menu-item-icon" viewBox="0 0 12 16" version="1.1" width="12" height="16" aria-hidden="true"><path fill-rule="evenodd" d="M12 5l-8 8-4-4 1.5-1.5L4 10l6.5-6.5L12 5z"/></svg>
              <span class="select-menu-item-text css-truncate-target js-select-menu-filter-text">
                mm/PUBDEV-5357
              </span>
            </a>
            <a class="select-menu-item js-navigation-item js-navigation-open "
               href="/h2oai/h2o-3/blob/mm/exp/etl_examples/h2o-py/demos/glrm_census_large.ipynb"
               data-name="mm/exp/etl_examples"
               data-skip-pjax="true"
               rel="nofollow">
              <svg class="octicon octicon-check select-menu-item-icon" viewBox="0 0 12 16" version="1.1" width="12" height="16" aria-hidden="true"><path fill-rule="evenodd" d="M12 5l-8 8-4-4 1.5-1.5L4 10l6.5-6.5L12 5z"/></svg>
              <span class="select-menu-item-text css-truncate-target js-select-menu-filter-text">
                mm/exp/etl_examples
              </span>
            </a>
            <a class="select-menu-item js-navigation-item js-navigation-open "
               href="/h2oai/h2o-3/blob/mm/exp/under_memory_pressure/h2o-py/demos/glrm_census_large.ipynb"
               data-name="mm/exp/under_memory_pressure"
               data-skip-pjax="true"
               rel="nofollow">
              <svg class="octicon octicon-check select-menu-item-icon" viewBox="0 0 12 16" version="1.1" width="12" height="16" aria-hidden="true"><path fill-rule="evenodd" d="M12 5l-8 8-4-4 1.5-1.5L4 10l6.5-6.5L12 5z"/></svg>
              <span class="select-menu-item-text css-truncate-target js-select-menu-filter-text">
                mm/exp/under_memory_pressure
              </span>
            </a>
            <a class="select-menu-item js-navigation-item js-navigation-open "
               href="/h2oai/h2o-3/blob/mm/exp/xgboost/h2o-py/demos/glrm_census_large.ipynb"
               data-name="mm/exp/xgboost"
               data-skip-pjax="true"
               rel="nofollow">
              <svg class="octicon octicon-check select-menu-item-icon" viewBox="0 0 12 16" version="1.1" width="12" height="16" aria-hidden="true"><path fill-rule="evenodd" d="M12 5l-8 8-4-4 1.5-1.5L4 10l6.5-6.5L12 5z"/></svg>
              <span class="select-menu-item-text css-truncate-target js-select-menu-filter-text">
                mm/exp/xgboost
              </span>
            </a>
            <a class="select-menu-item js-navigation-item js-navigation-open "
               href="/h2oai/h2o-3/blob/mm/fix/pdp_api/h2o-py/demos/glrm_census_large.ipynb"
               data-name="mm/fix/pdp_api"
               data-skip-pjax="true"
               rel="nofollow">
              <svg class="octicon octicon-check select-menu-item-icon" viewBox="0 0 12 16" version="1.1" width="12" height="16" aria-hidden="true"><path fill-rule="evenodd" d="M12 5l-8 8-4-4 1.5-1.5L4 10l6.5-6.5L12 5z"/></svg>
              <span class="select-menu-item-text css-truncate-target js-select-menu-filter-text">
                mm/fix/pdp_api
              </span>
            </a>
            <a class="select-menu-item js-navigation-item js-navigation-open "
               href="/h2oai/h2o-3/blob/mm/fix/test_runner/h2o-py/demos/glrm_census_large.ipynb"
               data-name="mm/fix/test_runner"
               data-skip-pjax="true"
               rel="nofollow">
              <svg class="octicon octicon-check select-menu-item-icon" viewBox="0 0 12 16" version="1.1" width="12" height="16" aria-hidden="true"><path fill-rule="evenodd" d="M12 5l-8 8-4-4 1.5-1.5L4 10l6.5-6.5L12 5z"/></svg>
              <span class="select-menu-item-text css-truncate-target js-select-menu-filter-text">
                mm/fix/test_runner
              </span>
            </a>
            <a class="select-menu-item js-navigation-item js-navigation-open "
               href="/h2oai/h2o-3/blob/mm/fix/uuid/h2o-py/demos/glrm_census_large.ipynb"
               data-name="mm/fix/uuid"
               data-skip-pjax="true"
               rel="nofollow">
              <svg class="octicon octicon-check select-menu-item-icon" viewBox="0 0 12 16" version="1.1" width="12" height="16" aria-hidden="true"><path fill-rule="evenodd" d="M12 5l-8 8-4-4 1.5-1.5L4 10l6.5-6.5L12 5z"/></svg>
              <span class="select-menu-item-text css-truncate-target js-select-menu-filter-text">
                mm/fix/uuid
              </span>
            </a>
            <a class="select-menu-item js-navigation-item js-navigation-open "
               href="/h2oai/h2o-3/blob/mm/hotfix/automl_args/h2o-py/demos/glrm_census_large.ipynb"
               data-name="mm/hotfix/automl_args"
               data-skip-pjax="true"
               rel="nofollow">
              <svg class="octicon octicon-check select-menu-item-icon" viewBox="0 0 12 16" version="1.1" width="12" height="16" aria-hidden="true"><path fill-rule="evenodd" d="M12 5l-8 8-4-4 1.5-1.5L4 10l6.5-6.5L12 5z"/></svg>
              <span class="select-menu-item-text css-truncate-target js-select-menu-filter-text">
                mm/hotfix/automl_args
              </span>
            </a>
            <a class="select-menu-item js-navigation-item js-navigation-open "
               href="/h2oai/h2o-3/blob/mm/hotfix/r-build/h2o-py/demos/glrm_census_large.ipynb"
               data-name="mm/hotfix/r-build"
               data-skip-pjax="true"
               rel="nofollow">
              <svg class="octicon octicon-check select-menu-item-icon" viewBox="0 0 12 16" version="1.1" width="12" height="16" aria-hidden="true"><path fill-rule="evenodd" d="M12 5l-8 8-4-4 1.5-1.5L4 10l6.5-6.5L12 5z"/></svg>
              <span class="select-menu-item-text css-truncate-target js-select-menu-filter-text">
                mm/hotfix/r-build
              </span>
            </a>
            <a class="select-menu-item js-navigation-item js-navigation-open "
               href="/h2oai/h2o-3/blob/mm/jira/PUBDEV-4050/h2o-py/demos/glrm_census_large.ipynb"
               data-name="mm/jira/PUBDEV-4050"
               data-skip-pjax="true"
               rel="nofollow">
              <svg class="octicon octicon-check select-menu-item-icon" viewBox="0 0 12 16" version="1.1" width="12" height="16" aria-hidden="true"><path fill-rule="evenodd" d="M12 5l-8 8-4-4 1.5-1.5L4 10l6.5-6.5L12 5z"/></svg>
              <span class="select-menu-item-text css-truncate-target js-select-menu-filter-text">
                mm/jira/PUBDEV-4050
              </span>
            </a>
            <a class="select-menu-item js-navigation-item js-navigation-open "
               href="/h2oai/h2o-3/blob/mm/jira/pubdev-4171/h2o-py/demos/glrm_census_large.ipynb"
               data-name="mm/jira/pubdev-4171"
               data-skip-pjax="true"
               rel="nofollow">
              <svg class="octicon octicon-check select-menu-item-icon" viewBox="0 0 12 16" version="1.1" width="12" height="16" aria-hidden="true"><path fill-rule="evenodd" d="M12 5l-8 8-4-4 1.5-1.5L4 10l6.5-6.5L12 5z"/></svg>
              <span class="select-menu-item-text css-truncate-target js-select-menu-filter-text">
                mm/jira/pubdev-4171
              </span>
            </a>
            <a class="select-menu-item js-navigation-item js-navigation-open "
               href="/h2oai/h2o-3/blob/mm/jira/pubdev-4292/h2o-py/demos/glrm_census_large.ipynb"
               data-name="mm/jira/pubdev-4292"
               data-skip-pjax="true"
               rel="nofollow">
              <svg class="octicon octicon-check select-menu-item-icon" viewBox="0 0 12 16" version="1.1" width="12" height="16" aria-hidden="true"><path fill-rule="evenodd" d="M12 5l-8 8-4-4 1.5-1.5L4 10l6.5-6.5L12 5z"/></svg>
              <span class="select-menu-item-text css-truncate-target js-select-menu-filter-text">
                mm/jira/pubdev-4292
              </span>
            </a>
            <a class="select-menu-item js-navigation-item js-navigation-open "
               href="/h2oai/h2o-3/blob/mm/jira/pubdev-4331/h2o-py/demos/glrm_census_large.ipynb"
               data-name="mm/jira/pubdev-4331"
               data-skip-pjax="true"
               rel="nofollow">
              <svg class="octicon octicon-check select-menu-item-icon" viewBox="0 0 12 16" version="1.1" width="12" height="16" aria-hidden="true"><path fill-rule="evenodd" d="M12 5l-8 8-4-4 1.5-1.5L4 10l6.5-6.5L12 5z"/></svg>
              <span class="select-menu-item-text css-truncate-target js-select-menu-filter-text">
                mm/jira/pubdev-4331
              </span>
            </a>
            <a class="select-menu-item js-navigation-item js-navigation-open "
               href="/h2oai/h2o-3/blob/mm/jira/pubdev-4550/h2o-py/demos/glrm_census_large.ipynb"
               data-name="mm/jira/pubdev-4550"
               data-skip-pjax="true"
               rel="nofollow">
              <svg class="octicon octicon-check select-menu-item-icon" viewBox="0 0 12 16" version="1.1" width="12" height="16" aria-hidden="true"><path fill-rule="evenodd" d="M12 5l-8 8-4-4 1.5-1.5L4 10l6.5-6.5L12 5z"/></svg>
              <span class="select-menu-item-text css-truncate-target js-select-menu-filter-text">
                mm/jira/pubdev-4550
              </span>
            </a>
            <a class="select-menu-item js-navigation-item js-navigation-open "
               href="/h2oai/h2o-3/blob/mm/jira/pubdev-4778/h2o-py/demos/glrm_census_large.ipynb"
               data-name="mm/jira/pubdev-4778"
               data-skip-pjax="true"
               rel="nofollow">
              <svg class="octicon octicon-check select-menu-item-icon" viewBox="0 0 12 16" version="1.1" width="12" height="16" aria-hidden="true"><path fill-rule="evenodd" d="M12 5l-8 8-4-4 1.5-1.5L4 10l6.5-6.5L12 5z"/></svg>
              <span class="select-menu-item-text css-truncate-target js-select-menu-filter-text">
                mm/jira/pubdev-4778
              </span>
            </a>
            <a class="select-menu-item js-navigation-item js-navigation-open "
               href="/h2oai/h2o-3/blob/mm/jira/pubdev-5359/h2o-py/demos/glrm_census_large.ipynb"
               data-name="mm/jira/pubdev-5359"
               data-skip-pjax="true"
               rel="nofollow">
              <svg class="octicon octicon-check select-menu-item-icon" viewBox="0 0 12 16" version="1.1" width="12" height="16" aria-hidden="true"><path fill-rule="evenodd" d="M12 5l-8 8-4-4 1.5-1.5L4 10l6.5-6.5L12 5z"/></svg>
              <span class="select-menu-item-text css-truncate-target js-select-menu-filter-text">
                mm/jira/pubdev-5359
              </span>
            </a>
            <a class="select-menu-item js-navigation-item js-navigation-open "
               href="/h2oai/h2o-3/blob/mm/jira/sw-602/h2o-py/demos/glrm_census_large.ipynb"
               data-name="mm/jira/sw-602"
               data-skip-pjax="true"
               rel="nofollow">
              <svg class="octicon octicon-check select-menu-item-icon" viewBox="0 0 12 16" version="1.1" width="12" height="16" aria-hidden="true"><path fill-rule="evenodd" d="M12 5l-8 8-4-4 1.5-1.5L4 10l6.5-6.5L12 5z"/></svg>
              <span class="select-menu-item-text css-truncate-target js-select-menu-filter-text">
                mm/jira/sw-602
              </span>
            </a>
            <a class="select-menu-item js-navigation-item js-navigation-open "
               href="/h2oai/h2o-3/blob/mm/xgb_upgrade/h2o-py/demos/glrm_census_large.ipynb"
               data-name="mm/xgb_upgrade"
               data-skip-pjax="true"
               rel="nofollow">
              <svg class="octicon octicon-check select-menu-item-icon" viewBox="0 0 12 16" version="1.1" width="12" height="16" aria-hidden="true"><path fill-rule="evenodd" d="M12 5l-8 8-4-4 1.5-1.5L4 10l6.5-6.5L12 5z"/></svg>
              <span class="select-menu-item-text css-truncate-target js-select-menu-filter-text">
                mm/xgb_upgrade
              </span>
            </a>
            <a class="select-menu-item js-navigation-item js-navigation-open "
               href="/h2oai/h2o-3/blob/model_sharing_markc/h2o-py/demos/glrm_census_large.ipynb"
               data-name="model_sharing_markc"
               data-skip-pjax="true"
               rel="nofollow">
              <svg class="octicon octicon-check select-menu-item-icon" viewBox="0 0 12 16" version="1.1" width="12" height="16" aria-hidden="true"><path fill-rule="evenodd" d="M12 5l-8 8-4-4 1.5-1.5L4 10l6.5-6.5L12 5z"/></svg>
              <span class="select-menu-item-text css-truncate-target js-select-menu-filter-text">
                model_sharing_markc
              </span>
            </a>
            <a class="select-menu-item js-navigation-item js-navigation-open "
               href="/h2oai/h2o-3/blob/mr/PUBDEV/5535-notify-option-standalone/h2o-py/demos/glrm_census_large.ipynb"
               data-name="mr/PUBDEV/5535-notify-option-standalone"
               data-skip-pjax="true"
               rel="nofollow">
              <svg class="octicon octicon-check select-menu-item-icon" viewBox="0 0 12 16" version="1.1" width="12" height="16" aria-hidden="true"><path fill-rule="evenodd" d="M12 5l-8 8-4-4 1.5-1.5L4 10l6.5-6.5L12 5z"/></svg>
              <span class="select-menu-item-text css-truncate-target js-select-menu-filter-text">
                mr/PUBDEV/5535-notify-option-standalone
              </span>
            </a>
            <a class="select-menu-item js-navigation-item js-navigation-open "
               href="/h2oai/h2o-3/blob/mr/bug/PUBDEV-3847-coldata-assertion-error/h2o-py/demos/glrm_census_large.ipynb"
               data-name="mr/bug/PUBDEV-3847-coldata-assertion-error"
               data-skip-pjax="true"
               rel="nofollow">
              <svg class="octicon octicon-check select-menu-item-icon" viewBox="0 0 12 16" version="1.1" width="12" height="16" aria-hidden="true"><path fill-rule="evenodd" d="M12 5l-8 8-4-4 1.5-1.5L4 10l6.5-6.5L12 5z"/></svg>
              <span class="select-menu-item-text css-truncate-target js-select-menu-filter-text">
                mr/bug/PUBDEV-3847-coldata-assertion-error
              </span>
            </a>
            <a class="select-menu-item js-navigation-item js-navigation-open "
               href="/h2oai/h2o-3/blob/mr/build/benchmark/h2o-py/demos/glrm_census_large.ipynb"
               data-name="mr/build/benchmark"
               data-skip-pjax="true"
               rel="nofollow">
              <svg class="octicon octicon-check select-menu-item-icon" viewBox="0 0 12 16" version="1.1" width="12" height="16" aria-hidden="true"><path fill-rule="evenodd" d="M12 5l-8 8-4-4 1.5-1.5L4 10l6.5-6.5L12 5z"/></svg>
              <span class="select-menu-item-text css-truncate-target js-select-menu-filter-text">
                mr/build/benchmark
              </span>
            </a>
            <a class="select-menu-item js-navigation-item js-navigation-open "
               href="/h2oai/h2o-3/blob/mr/ita/190-buildsummary-emailer-in-lib/h2o-py/demos/glrm_census_large.ipynb"
               data-name="mr/ita/190-buildsummary-emailer-in-lib"
               data-skip-pjax="true"
               rel="nofollow">
              <svg class="octicon octicon-check select-menu-item-icon" viewBox="0 0 12 16" version="1.1" width="12" height="16" aria-hidden="true"><path fill-rule="evenodd" d="M12 5l-8 8-4-4 1.5-1.5L4 10l6.5-6.5L12 5z"/></svg>
              <span class="select-menu-item-text css-truncate-target js-select-menu-filter-text">
                mr/ita/190-buildsummary-emailer-in-lib
              </span>
            </a>
            <a class="select-menu-item js-navigation-item js-navigation-open "
               href="/h2oai/h2o-3/blob/mr/ita/210-integrate-groovy-postbuild/h2o-py/demos/glrm_census_large.ipynb"
               data-name="mr/ita/210-integrate-groovy-postbuild"
               data-skip-pjax="true"
               rel="nofollow">
              <svg class="octicon octicon-check select-menu-item-icon" viewBox="0 0 12 16" version="1.1" width="12" height="16" aria-hidden="true"><path fill-rule="evenodd" d="M12 5l-8 8-4-4 1.5-1.5L4 10l6.5-6.5L12 5z"/></svg>
              <span class="select-menu-item-text css-truncate-target js-select-menu-filter-text">
                mr/ita/210-integrate-groovy-postbuild
              </span>
            </a>
            <a class="select-menu-item js-navigation-item js-navigation-open "
               href="/h2oai/h2o-3/blob/mr/ita/223-automatic-intermittents-discovery/h2o-py/demos/glrm_census_large.ipynb"
               data-name="mr/ita/223-automatic-intermittents-discovery"
               data-skip-pjax="true"
               rel="nofollow">
              <svg class="octicon octicon-check select-menu-item-icon" viewBox="0 0 12 16" version="1.1" width="12" height="16" aria-hidden="true"><path fill-rule="evenodd" d="M12 5l-8 8-4-4 1.5-1.5L4 10l6.5-6.5L12 5z"/></svg>
              <span class="select-menu-item-text css-truncate-target js-select-menu-filter-text">
                mr/ita/223-automatic-intermittents-discovery
              </span>
            </a>
            <a class="select-menu-item js-navigation-item js-navigation-open "
               href="/h2oai/h2o-3/blob/mr/ita/257-update-twine/h2o-py/demos/glrm_census_large.ipynb"
               data-name="mr/ita/257-update-twine"
               data-skip-pjax="true"
               rel="nofollow">
              <svg class="octicon octicon-check select-menu-item-icon" viewBox="0 0 12 16" version="1.1" width="12" height="16" aria-hidden="true"><path fill-rule="evenodd" d="M12 5l-8 8-4-4 1.5-1.5L4 10l6.5-6.5L12 5z"/></svg>
              <span class="select-menu-item-text css-truncate-target js-select-menu-filter-text">
                mr/ita/257-update-twine
              </span>
            </a>
            <a class="select-menu-item js-navigation-item js-navigation-open "
               href="/h2oai/h2o-3/blob/mr/ita/266-hdp-timeout/h2o-py/demos/glrm_census_large.ipynb"
               data-name="mr/ita/266-hdp-timeout"
               data-skip-pjax="true"
               rel="nofollow">
              <svg class="octicon octicon-check select-menu-item-icon" viewBox="0 0 12 16" version="1.1" width="12" height="16" aria-hidden="true"><path fill-rule="evenodd" d="M12 5l-8 8-4-4 1.5-1.5L4 10l6.5-6.5L12 5z"/></svg>
              <span class="select-menu-item-text css-truncate-target js-select-menu-filter-text">
                mr/ita/266-hdp-timeout
              </span>
            </a>
            <a class="select-menu-item js-navigation-item js-navigation-open "
               href="/h2oai/h2o-3/blob/mr/ita/275-check-s3-conda/h2o-py/demos/glrm_census_large.ipynb"
               data-name="mr/ita/275-check-s3-conda"
               data-skip-pjax="true"
               rel="nofollow">
              <svg class="octicon octicon-check select-menu-item-icon" viewBox="0 0 12 16" version="1.1" width="12" height="16" aria-hidden="true"><path fill-rule="evenodd" d="M12 5l-8 8-4-4 1.5-1.5L4 10l6.5-6.5L12 5z"/></svg>
              <span class="select-menu-item-text css-truncate-target js-select-menu-filter-text">
                mr/ita/275-check-s3-conda
              </span>
            </a>
            <a class="select-menu-item js-navigation-item js-navigation-open "
               href="/h2oai/h2o-3/blob/mr/ita/281-rancher-jenkins/h2o-py/demos/glrm_census_large.ipynb"
               data-name="mr/ita/281-rancher-jenkins"
               data-skip-pjax="true"
               rel="nofollow">
              <svg class="octicon octicon-check select-menu-item-icon" viewBox="0 0 12 16" version="1.1" width="12" height="16" aria-hidden="true"><path fill-rule="evenodd" d="M12 5l-8 8-4-4 1.5-1.5L4 10l6.5-6.5L12 5z"/></svg>
              <span class="select-menu-item-text css-truncate-target js-select-menu-filter-text">
                mr/ita/281-rancher-jenkins
              </span>
            </a>
            <a class="select-menu-item js-navigation-item js-navigation-open "
               href="/h2oai/h2o-3/blob/mr/ita/288-windows-stages/h2o-py/demos/glrm_census_large.ipynb"
               data-name="mr/ita/288-windows-stages"
               data-skip-pjax="true"
               rel="nofollow">
              <svg class="octicon octicon-check select-menu-item-icon" viewBox="0 0 12 16" version="1.1" width="12" height="16" aria-hidden="true"><path fill-rule="evenodd" d="M12 5l-8 8-4-4 1.5-1.5L4 10l6.5-6.5L12 5z"/></svg>
              <span class="select-menu-item-text css-truncate-target js-select-menu-filter-text">
                mr/ita/288-windows-stages
              </span>
            </a>
            <a class="select-menu-item js-navigation-item js-navigation-open "
               href="/h2oai/h2o-3/blob/mr/ita/302/fix-download/h2o-py/demos/glrm_census_large.ipynb"
               data-name="mr/ita/302/fix-download"
               data-skip-pjax="true"
               rel="nofollow">
              <svg class="octicon octicon-check select-menu-item-icon" viewBox="0 0 12 16" version="1.1" width="12" height="16" aria-hidden="true"><path fill-rule="evenodd" d="M12 5l-8 8-4-4 1.5-1.5L4 10l6.5-6.5L12 5z"/></svg>
              <span class="select-menu-item-text css-truncate-target js-select-menu-filter-text">
                mr/ita/302/fix-download
              </span>
            </a>
            <a class="select-menu-item js-navigation-item js-navigation-open "
               href="/h2oai/h2o-3/blob/mr/ita/306-java-7-smoke/h2o-py/demos/glrm_census_large.ipynb"
               data-name="mr/ita/306-java-7-smoke"
               data-skip-pjax="true"
               rel="nofollow">
              <svg class="octicon octicon-check select-menu-item-icon" viewBox="0 0 12 16" version="1.1" width="12" height="16" aria-hidden="true"><path fill-rule="evenodd" d="M12 5l-8 8-4-4 1.5-1.5L4 10l6.5-6.5L12 5z"/></svg>
              <span class="select-menu-item-text css-truncate-target js-select-menu-filter-text">
                mr/ita/306-java-7-smoke
              </span>
            </a>
            <a class="select-menu-item js-navigation-item js-navigation-open "
               href="/h2oai/h2o-3/blob/nadine-coord_descent/h2o-py/demos/glrm_census_large.ipynb"
               data-name="nadine-coord_descent"
               data-skip-pjax="true"
               rel="nofollow">
              <svg class="octicon octicon-check select-menu-item-icon" viewBox="0 0 12 16" version="1.1" width="12" height="16" aria-hidden="true"><path fill-rule="evenodd" d="M12 5l-8 8-4-4 1.5-1.5L4 10l6.5-6.5L12 5z"/></svg>
              <span class="select-menu-item-text css-truncate-target js-select-menu-filter-text">
                nadine-coord_descent
              </span>
            </a>
            <a class="select-menu-item js-navigation-item js-navigation-open "
               href="/h2oai/h2o-3/blob/nadine-multinomial/h2o-py/demos/glrm_census_large.ipynb"
               data-name="nadine-multinomial"
               data-skip-pjax="true"
               rel="nofollow">
              <svg class="octicon octicon-check select-menu-item-icon" viewBox="0 0 12 16" version="1.1" width="12" height="16" aria-hidden="true"><path fill-rule="evenodd" d="M12 5l-8 8-4-4 1.5-1.5L4 10l6.5-6.5L12 5z"/></svg>
              <span class="select-menu-item-text css-truncate-target js-select-menu-filter-text">
                nadine-multinomial
              </span>
            </a>
            <a class="select-menu-item js-navigation-item js-navigation-open "
               href="/h2oai/h2o-3/blob/new-look/h2o-py/demos/glrm_census_large.ipynb"
               data-name="new-look"
               data-skip-pjax="true"
               rel="nofollow">
              <svg class="octicon octicon-check select-menu-item-icon" viewBox="0 0 12 16" version="1.1" width="12" height="16" aria-hidden="true"><path fill-rule="evenodd" d="M12 5l-8 8-4-4 1.5-1.5L4 10l6.5-6.5L12 5z"/></svg>
              <span class="select-menu-item-text css-truncate-target js-select-menu-filter-text">
                new-look
              </span>
            </a>
            <a class="select-menu-item js-navigation-item js-navigation-open "
               href="/h2oai/h2o-3/blob/next-release/h2o-py/demos/glrm_census_large.ipynb"
               data-name="next-release"
               data-skip-pjax="true"
               rel="nofollow">
              <svg class="octicon octicon-check select-menu-item-icon" viewBox="0 0 12 16" version="1.1" width="12" height="16" aria-hidden="true"><path fill-rule="evenodd" d="M12 5l-8 8-4-4 1.5-1.5L4 10l6.5-6.5L12 5z"/></svg>
              <span class="select-menu-item-text css-truncate-target js-select-menu-filter-text">
                next-release
              </span>
            </a>
            <a class="select-menu-item js-navigation-item js-navigation-open "
               href="/h2oai/h2o-3/blob/nick_h2oassign/h2o-py/demos/glrm_census_large.ipynb"
               data-name="nick_h2oassign"
               data-skip-pjax="true"
               rel="nofollow">
              <svg class="octicon octicon-check select-menu-item-icon" viewBox="0 0 12 16" version="1.1" width="12" height="16" aria-hidden="true"><path fill-rule="evenodd" d="M12 5l-8 8-4-4 1.5-1.5L4 10l6.5-6.5L12 5z"/></svg>
              <span class="select-menu-item-text css-truncate-target js-select-menu-filter-text">
                nick_h2oassign
              </span>
            </a>
            <a class="select-menu-item js-navigation-item js-navigation-open "
               href="/h2oai/h2o-3/blob/nick_scratch/h2o-py/demos/glrm_census_large.ipynb"
               data-name="nick_scratch"
               data-skip-pjax="true"
               rel="nofollow">
              <svg class="octicon octicon-check select-menu-item-icon" viewBox="0 0 12 16" version="1.1" width="12" height="16" aria-hidden="true"><path fill-rule="evenodd" d="M12 5l-8 8-4-4 1.5-1.5L4 10l6.5-6.5L12 5z"/></svg>
              <span class="select-menu-item-text css-truncate-target js-select-menu-filter-text">
                nick_scratch
              </span>
            </a>
            <a class="select-menu-item js-navigation-item js-navigation-open "
               href="/h2oai/h2o-3/blob/nikhil-datatable-nff/h2o-py/demos/glrm_census_large.ipynb"
               data-name="nikhil-datatable-nff"
               data-skip-pjax="true"
               rel="nofollow">
              <svg class="octicon octicon-check select-menu-item-icon" viewBox="0 0 12 16" version="1.1" width="12" height="16" aria-hidden="true"><path fill-rule="evenodd" d="M12 5l-8 8-4-4 1.5-1.5L4 10l6.5-6.5L12 5z"/></svg>
              <span class="select-menu-item-text css-truncate-target js-select-menu-filter-text">
                nikhil-datatable-nff
              </span>
            </a>
            <a class="select-menu-item js-navigation-item js-navigation-open "
               href="/h2oai/h2o-3/blob/nishant_buildtest_jenkins/h2o-py/demos/glrm_census_large.ipynb"
               data-name="nishant_buildtest_jenkins"
               data-skip-pjax="true"
               rel="nofollow">
              <svg class="octicon octicon-check select-menu-item-icon" viewBox="0 0 12 16" version="1.1" width="12" height="16" aria-hidden="true"><path fill-rule="evenodd" d="M12 5l-8 8-4-4 1.5-1.5L4 10l6.5-6.5L12 5z"/></svg>
              <span class="select-menu-item-text css-truncate-target js-select-menu-filter-text">
                nishant_buildtest_jenkins
              </span>
            </a>
            <a class="select-menu-item js-navigation-item js-navigation-open "
               href="/h2oai/h2o-3/blob/nishant_coverage_jenkins/h2o-py/demos/glrm_census_large.ipynb"
               data-name="nishant_coverage_jenkins"
               data-skip-pjax="true"
               rel="nofollow">
              <svg class="octicon octicon-check select-menu-item-icon" viewBox="0 0 12 16" version="1.1" width="12" height="16" aria-hidden="true"><path fill-rule="evenodd" d="M12 5l-8 8-4-4 1.5-1.5L4 10l6.5-6.5L12 5z"/></svg>
              <span class="select-menu-item-text css-truncate-target js-select-menu-filter-text">
                nishant_coverage_jenkins
              </span>
            </a>
            <a class="select-menu-item js-navigation-item js-navigation-open "
               href="/h2oai/h2o-3/blob/nishant_coverage_tool/h2o-py/demos/glrm_census_large.ipynb"
               data-name="nishant_coverage_tool"
               data-skip-pjax="true"
               rel="nofollow">
              <svg class="octicon octicon-check select-menu-item-icon" viewBox="0 0 12 16" version="1.1" width="12" height="16" aria-hidden="true"><path fill-rule="evenodd" d="M12 5l-8 8-4-4 1.5-1.5L4 10l6.5-6.5L12 5z"/></svg>
              <span class="select-menu-item-text css-truncate-target js-select-menu-filter-text">
                nishant_coverage_tool
              </span>
            </a>
            <a class="select-menu-item js-navigation-item js-navigation-open "
               href="/h2oai/h2o-3/blob/nishant_coverage/h2o-py/demos/glrm_census_large.ipynb"
               data-name="nishant_coverage"
               data-skip-pjax="true"
               rel="nofollow">
              <svg class="octicon octicon-check select-menu-item-icon" viewBox="0 0 12 16" version="1.1" width="12" height="16" aria-hidden="true"><path fill-rule="evenodd" d="M12 5l-8 8-4-4 1.5-1.5L4 10l6.5-6.5L12 5z"/></svg>
              <span class="select-menu-item-text css-truncate-target js-select-menu-filter-text">
                nishant_coverage
              </span>
            </a>
            <a class="select-menu-item js-navigation-item js-navigation-open "
               href="/h2oai/h2o-3/blob/nishant_jenkins/h2o-py/demos/glrm_census_large.ipynb"
               data-name="nishant_jenkins"
               data-skip-pjax="true"
               rel="nofollow">
              <svg class="octicon octicon-check select-menu-item-icon" viewBox="0 0 12 16" version="1.1" width="12" height="16" aria-hidden="true"><path fill-rule="evenodd" d="M12 5l-8 8-4-4 1.5-1.5L4 10l6.5-6.5L12 5z"/></svg>
              <span class="select-menu-item-text css-truncate-target js-select-menu-filter-text">
                nishant_jenkins
              </span>
            </a>
            <a class="select-menu-item js-navigation-item js-navigation-open "
               href="/h2oai/h2o-3/blob/nm-h2o-dev/h2o-py/demos/glrm_census_large.ipynb"
               data-name="nm-h2o-dev"
               data-skip-pjax="true"
               rel="nofollow">
              <svg class="octicon octicon-check select-menu-item-icon" viewBox="0 0 12 16" version="1.1" width="12" height="16" aria-hidden="true"><path fill-rule="evenodd" d="M12 5l-8 8-4-4 1.5-1.5L4 10l6.5-6.5L12 5z"/></svg>
              <span class="select-menu-item-text css-truncate-target js-select-menu-filter-text">
                nm-h2o-dev
              </span>
            </a>
            <a class="select-menu-item js-navigation-item js-navigation-open "
               href="/h2oai/h2o-3/blob/noADMMYet/h2o-py/demos/glrm_census_large.ipynb"
               data-name="noADMMYet"
               data-skip-pjax="true"
               rel="nofollow">
              <svg class="octicon octicon-check select-menu-item-icon" viewBox="0 0 12 16" version="1.1" width="12" height="16" aria-hidden="true"><path fill-rule="evenodd" d="M12 5l-8 8-4-4 1.5-1.5L4 10l6.5-6.5L12 5z"/></svg>
              <span class="select-menu-item-text css-truncate-target js-select-menu-filter-text">
                noADMMYet
              </span>
            </a>
            <a class="select-menu-item js-navigation-item js-navigation-open "
               href="/h2oai/h2o-3/blob/ob/PUBDEV/4968-add-h2oframe-rename-columns/h2o-py/demos/glrm_census_large.ipynb"
               data-name="ob/PUBDEV/4968-add-h2oframe-rename-columns"
               data-skip-pjax="true"
               rel="nofollow">
              <svg class="octicon octicon-check select-menu-item-icon" viewBox="0 0 12 16" version="1.1" width="12" height="16" aria-hidden="true"><path fill-rule="evenodd" d="M12 5l-8 8-4-4 1.5-1.5L4 10l6.5-6.5L12 5z"/></svg>
              <span class="select-menu-item-text css-truncate-target js-select-menu-filter-text">
                ob/PUBDEV/4968-add-h2oframe-rename-columns
              </span>
            </a>
            <a class="select-menu-item js-navigation-item js-navigation-open "
               href="/h2oai/h2o-3/blob/ops-benchmark-sort-before-wendy/h2o-py/demos/glrm_census_large.ipynb"
               data-name="ops-benchmark-sort-before-wendy"
               data-skip-pjax="true"
               rel="nofollow">
              <svg class="octicon octicon-check select-menu-item-icon" viewBox="0 0 12 16" version="1.1" width="12" height="16" aria-hidden="true"><path fill-rule="evenodd" d="M12 5l-8 8-4-4 1.5-1.5L4 10l6.5-6.5L12 5z"/></svg>
              <span class="select-menu-item-text css-truncate-target js-select-menu-filter-text">
                ops-benchmark-sort-before-wendy
              </span>
            </a>
            <a class="select-menu-item js-navigation-item js-navigation-open "
               href="/h2oai/h2o-3/blob/ops-benchmark-sort-both-direction/h2o-py/demos/glrm_census_large.ipynb"
               data-name="ops-benchmark-sort-both-direction"
               data-skip-pjax="true"
               rel="nofollow">
              <svg class="octicon octicon-check select-menu-item-icon" viewBox="0 0 12 16" version="1.1" width="12" height="16" aria-hidden="true"><path fill-rule="evenodd" d="M12 5l-8 8-4-4 1.5-1.5L4 10l6.5-6.5L12 5z"/></svg>
              <span class="select-menu-item-text css-truncate-target js-select-menu-filter-text">
                ops-benchmark-sort-both-direction
              </span>
            </a>
            <a class="select-menu-item js-navigation-item js-navigation-open "
               href="/h2oai/h2o-3/blob/ops-benchmark-sort-double/h2o-py/demos/glrm_census_large.ipynb"
               data-name="ops-benchmark-sort-double"
               data-skip-pjax="true"
               rel="nofollow">
              <svg class="octicon octicon-check select-menu-item-icon" viewBox="0 0 12 16" version="1.1" width="12" height="16" aria-hidden="true"><path fill-rule="evenodd" d="M12 5l-8 8-4-4 1.5-1.5L4 10l6.5-6.5L12 5z"/></svg>
              <span class="select-menu-item-text css-truncate-target js-select-menu-filter-text">
                ops-benchmark-sort-double
              </span>
            </a>
            <a class="select-menu-item js-navigation-item js-navigation-open "
               href="/h2oai/h2o-3/blob/ops-benchmark-sort-string/h2o-py/demos/glrm_census_large.ipynb"
               data-name="ops-benchmark-sort-string"
               data-skip-pjax="true"
               rel="nofollow">
              <svg class="octicon octicon-check select-menu-item-icon" viewBox="0 0 12 16" version="1.1" width="12" height="16" aria-hidden="true"><path fill-rule="evenodd" d="M12 5l-8 8-4-4 1.5-1.5L4 10l6.5-6.5L12 5z"/></svg>
              <span class="select-menu-item-text css-truncate-target js-select-menu-filter-text">
                ops-benchmark-sort-string
              </span>
            </a>
            <a class="select-menu-item js-navigation-item js-navigation-open "
               href="/h2oai/h2o-3/blob/ops-single-test-michalk_fix-assembly/h2o-py/demos/glrm_census_large.ipynb"
               data-name="ops-single-test-michalk_fix-assembly"
               data-skip-pjax="true"
               rel="nofollow">
              <svg class="octicon octicon-check select-menu-item-icon" viewBox="0 0 12 16" version="1.1" width="12" height="16" aria-hidden="true"><path fill-rule="evenodd" d="M12 5l-8 8-4-4 1.5-1.5L4 10l6.5-6.5L12 5z"/></svg>
              <span class="select-menu-item-text css-truncate-target js-select-menu-filter-text">
                ops-single-test-michalk_fix-assembly
              </span>
            </a>
            <a class="select-menu-item js-navigation-item js-navigation-open "
               href="/h2oai/h2o-3/blob/ops-single-test-mr/debug/rotterdam/h2o-py/demos/glrm_census_large.ipynb"
               data-name="ops-single-test-mr/debug/rotterdam"
               data-skip-pjax="true"
               rel="nofollow">
              <svg class="octicon octicon-check select-menu-item-icon" viewBox="0 0 12 16" version="1.1" width="12" height="16" aria-hidden="true"><path fill-rule="evenodd" d="M12 5l-8 8-4-4 1.5-1.5L4 10l6.5-6.5L12 5z"/></svg>
              <span class="select-menu-item-text css-truncate-target js-select-menu-filter-text">
                ops-single-test-mr/debug/rotterdam
              </span>
            </a>
            <a class="select-menu-item js-navigation-item js-navigation-open "
               href="/h2oai/h2o-3/blob/ops-test-michalk_s3/h2o-py/demos/glrm_census_large.ipynb"
               data-name="ops-test-michalk_s3"
               data-skip-pjax="true"
               rel="nofollow">
              <svg class="octicon octicon-check select-menu-item-icon" viewBox="0 0 12 16" version="1.1" width="12" height="16" aria-hidden="true"><path fill-rule="evenodd" d="M12 5l-8 8-4-4 1.5-1.5L4 10l6.5-6.5L12 5z"/></svg>
              <span class="select-menu-item-text css-truncate-target js-select-menu-filter-text">
                ops-test-michalk_s3
              </span>
            </a>
            <a class="select-menu-item js-navigation-item js-navigation-open "
               href="/h2oai/h2o-3/blob/ops-test-rel-wolpert-pubdev-5008-ordinal-glm/h2o-py/demos/glrm_census_large.ipynb"
               data-name="ops-test-rel-wolpert-pubdev-5008-ordinal-glm"
               data-skip-pjax="true"
               rel="nofollow">
              <svg class="octicon octicon-check select-menu-item-icon" viewBox="0 0 12 16" version="1.1" width="12" height="16" aria-hidden="true"><path fill-rule="evenodd" d="M12 5l-8 8-4-4 1.5-1.5L4 10l6.5-6.5L12 5z"/></svg>
              <span class="select-menu-item-text css-truncate-target js-select-menu-filter-text">
                ops-test-rel-wolpert-pubdev-5008-ordinal-glm
              </span>
            </a>
            <a class="select-menu-item js-navigation-item js-navigation-open "
               href="/h2oai/h2o-3/blob/ordinal_glm_wendy_GD/h2o-py/demos/glrm_census_large.ipynb"
               data-name="ordinal_glm_wendy_GD"
               data-skip-pjax="true"
               rel="nofollow">
              <svg class="octicon octicon-check select-menu-item-icon" viewBox="0 0 12 16" version="1.1" width="12" height="16" aria-hidden="true"><path fill-rule="evenodd" d="M12 5l-8 8-4-4 1.5-1.5L4 10l6.5-6.5L12 5z"/></svg>
              <span class="select-menu-item-text css-truncate-target js-select-menu-filter-text">
                ordinal_glm_wendy_GD
              </span>
            </a>
            <a class="select-menu-item js-navigation-item js-navigation-open "
               href="/h2oai/h2o-3/blob/ordinal_glm_wendy/h2o-py/demos/glrm_census_large.ipynb"
               data-name="ordinal_glm_wendy"
               data-skip-pjax="true"
               rel="nofollow">
              <svg class="octicon octicon-check select-menu-item-icon" viewBox="0 0 12 16" version="1.1" width="12" height="16" aria-hidden="true"><path fill-rule="evenodd" d="M12 5l-8 8-4-4 1.5-1.5L4 10l6.5-6.5L12 5z"/></svg>
              <span class="select-menu-item-text css-truncate-target js-select-menu-filter-text">
                ordinal_glm_wendy
              </span>
            </a>
            <a class="select-menu-item js-navigation-item js-navigation-open "
               href="/h2oai/h2o-3/blob/pasha_mrtask/h2o-py/demos/glrm_census_large.ipynb"
               data-name="pasha_mrtask"
               data-skip-pjax="true"
               rel="nofollow">
              <svg class="octicon octicon-check select-menu-item-icon" viewBox="0 0 12 16" version="1.1" width="12" height="16" aria-hidden="true"><path fill-rule="evenodd" d="M12 5l-8 8-4-4 1.5-1.5L4 10l6.5-6.5L12 5z"/></svg>
              <span class="select-menu-item-text css-truncate-target js-select-menu-filter-text">
                pasha_mrtask
              </span>
            </a>
            <a class="select-menu-item js-navigation-item js-navigation-open "
               href="/h2oai/h2o-3/blob/pavel_counting_transformations_errors_consumer/h2o-py/demos/glrm_census_large.ipynb"
               data-name="pavel_counting_transformations_errors_consumer"
               data-skip-pjax="true"
               rel="nofollow">
              <svg class="octicon octicon-check select-menu-item-icon" viewBox="0 0 12 16" version="1.1" width="12" height="16" aria-hidden="true"><path fill-rule="evenodd" d="M12 5l-8 8-4-4 1.5-1.5L4 10l6.5-6.5L12 5z"/></svg>
              <span class="select-menu-item-text css-truncate-target js-select-menu-filter-text">
                pavel_counting_transformations_errors_consumer
              </span>
            </a>
            <a class="select-menu-item js-navigation-item js-navigation-open "
               href="/h2oai/h2o-3/blob/pavel_csv_poc/h2o-py/demos/glrm_census_large.ipynb"
               data-name="pavel_csv_poc"
               data-skip-pjax="true"
               rel="nofollow">
              <svg class="octicon octicon-check select-menu-item-icon" viewBox="0 0 12 16" version="1.1" width="12" height="16" aria-hidden="true"><path fill-rule="evenodd" d="M12 5l-8 8-4-4 1.5-1.5L4 10l6.5-6.5L12 5z"/></svg>
              <span class="select-menu-item-text css-truncate-target js-select-menu-filter-text">
                pavel_csv_poc
              </span>
            </a>
            <a class="select-menu-item js-navigation-item js-navigation-open "
               href="/h2oai/h2o-3/blob/pavel_pubdev-5198/h2o-py/demos/glrm_census_large.ipynb"
               data-name="pavel_pubdev-5198"
               data-skip-pjax="true"
               rel="nofollow">
              <svg class="octicon octicon-check select-menu-item-icon" viewBox="0 0 12 16" version="1.1" width="12" height="16" aria-hidden="true"><path fill-rule="evenodd" d="M12 5l-8 8-4-4 1.5-1.5L4 10l6.5-6.5L12 5z"/></svg>
              <span class="select-menu-item-text css-truncate-target js-select-menu-filter-text">
                pavel_pubdev-5198
              </span>
            </a>
            <a class="select-menu-item js-navigation-item js-navigation-open "
               href="/h2oai/h2o-3/blob/pavel_pubdev-5330/h2o-py/demos/glrm_census_large.ipynb"
               data-name="pavel_pubdev-5330"
               data-skip-pjax="true"
               rel="nofollow">
              <svg class="octicon octicon-check select-menu-item-icon" viewBox="0 0 12 16" version="1.1" width="12" height="16" aria-hidden="true"><path fill-rule="evenodd" d="M12 5l-8 8-4-4 1.5-1.5L4 10l6.5-6.5L12 5z"/></svg>
              <span class="select-menu-item-text css-truncate-target js-select-menu-filter-text">
                pavel_pubdev-5330
              </span>
            </a>
            <a class="select-menu-item js-navigation-item js-navigation-open "
               href="/h2oai/h2o-3/blob/pavel_pubdev-5441-rel-wheeler/h2o-py/demos/glrm_census_large.ipynb"
               data-name="pavel_pubdev-5441-rel-wheeler"
               data-skip-pjax="true"
               rel="nofollow">
              <svg class="octicon octicon-check select-menu-item-icon" viewBox="0 0 12 16" version="1.1" width="12" height="16" aria-hidden="true"><path fill-rule="evenodd" d="M12 5l-8 8-4-4 1.5-1.5L4 10l6.5-6.5L12 5z"/></svg>
              <span class="select-menu-item-text css-truncate-target js-select-menu-filter-text">
                pavel_pubdev-5441-rel-wheeler
              </span>
            </a>
            <a class="select-menu-item js-navigation-item js-navigation-open "
               href="/h2oai/h2o-3/blob/pavel_pubdev-5490-xgboost_seed_no_effect_test/h2o-py/demos/glrm_census_large.ipynb"
               data-name="pavel_pubdev-5490-xgboost_seed_no_effect_test"
               data-skip-pjax="true"
               rel="nofollow">
              <svg class="octicon octicon-check select-menu-item-icon" viewBox="0 0 12 16" version="1.1" width="12" height="16" aria-hidden="true"><path fill-rule="evenodd" d="M12 5l-8 8-4-4 1.5-1.5L4 10l6.5-6.5L12 5z"/></svg>
              <span class="select-menu-item-text css-truncate-target js-select-menu-filter-text">
                pavel_pubdev-5490-xgboost_seed_no_effect_test
              </span>
            </a>
            <a class="select-menu-item js-navigation-item js-navigation-open "
               href="/h2oai/h2o-3/blob/pavel_pubdev-5551-zeros_nas_representation/h2o-py/demos/glrm_census_large.ipynb"
               data-name="pavel_pubdev-5551-zeros_nas_representation"
               data-skip-pjax="true"
               rel="nofollow">
              <svg class="octicon octicon-check select-menu-item-icon" viewBox="0 0 12 16" version="1.1" width="12" height="16" aria-hidden="true"><path fill-rule="evenodd" d="M12 5l-8 8-4-4 1.5-1.5L4 10l6.5-6.5L12 5z"/></svg>
              <span class="select-menu-item-text css-truncate-target js-select-menu-filter-text">
                pavel_pubdev-5551-zeros_nas_representation
              </span>
            </a>
            <a class="select-menu-item js-navigation-item js-navigation-open "
               href="/h2oai/h2o-3/blob/pavel_pubdev-5551_zero_vs_nas_xgboost/h2o-py/demos/glrm_census_large.ipynb"
               data-name="pavel_pubdev-5551_zero_vs_nas_xgboost"
               data-skip-pjax="true"
               rel="nofollow">
              <svg class="octicon octicon-check select-menu-item-icon" viewBox="0 0 12 16" version="1.1" width="12" height="16" aria-hidden="true"><path fill-rule="evenodd" d="M12 5l-8 8-4-4 1.5-1.5L4 10l6.5-6.5L12 5z"/></svg>
              <span class="select-menu-item-text css-truncate-target js-select-menu-filter-text">
                pavel_pubdev-5551_zero_vs_nas_xgboost
              </span>
            </a>
            <a class="select-menu-item js-navigation-item js-navigation-open "
               href="/h2oai/h2o-3/blob/pavel_pubdev-5557-xgboost-dense-memory-allocation-failure-backup/h2o-py/demos/glrm_census_large.ipynb"
               data-name="pavel_pubdev-5557-xgboost-dense-memory-allocation-failure-backup"
               data-skip-pjax="true"
               rel="nofollow">
              <svg class="octicon octicon-check select-menu-item-icon" viewBox="0 0 12 16" version="1.1" width="12" height="16" aria-hidden="true"><path fill-rule="evenodd" d="M12 5l-8 8-4-4 1.5-1.5L4 10l6.5-6.5L12 5z"/></svg>
              <span class="select-menu-item-text css-truncate-target js-select-menu-filter-text">
                pavel_pubdev-5557-xgboost-dense-memory-allocation-failure-backup
              </span>
            </a>
            <a class="select-menu-item js-navigation-item js-navigation-open "
               href="/h2oai/h2o-3/blob/pavel_pubdev-5595/h2o-py/demos/glrm_census_large.ipynb"
               data-name="pavel_pubdev-5595"
               data-skip-pjax="true"
               rel="nofollow">
              <svg class="octicon octicon-check select-menu-item-icon" viewBox="0 0 12 16" version="1.1" width="12" height="16" aria-hidden="true"><path fill-rule="evenodd" d="M12 5l-8 8-4-4 1.5-1.5L4 10l6.5-6.5L12 5z"/></svg>
              <span class="select-menu-item-text css-truncate-target js-select-menu-filter-text">
                pavel_pubdev-5595
              </span>
            </a>
            <a class="select-menu-item js-navigation-item js-navigation-open "
               href="/h2oai/h2o-3/blob/pavel_pubdev_5576_bad_scoring_history/h2o-py/demos/glrm_census_large.ipynb"
               data-name="pavel_pubdev_5576_bad_scoring_history"
               data-skip-pjax="true"
               rel="nofollow">
              <svg class="octicon octicon-check select-menu-item-icon" viewBox="0 0 12 16" version="1.1" width="12" height="16" aria-hidden="true"><path fill-rule="evenodd" d="M12 5l-8 8-4-4 1.5-1.5L4 10l6.5-6.5L12 5z"/></svg>
              <span class="select-menu-item-text css-truncate-target js-select-menu-filter-text">
                pavel_pubdev_5576_bad_scoring_history
              </span>
            </a>
            <a class="select-menu-item js-navigation-item js-navigation-open "
               href="/h2oai/h2o-3/blob/pavel_rel-wolpert-pubdev-5330/h2o-py/demos/glrm_census_large.ipynb"
               data-name="pavel_rel-wolpert-pubdev-5330"
               data-skip-pjax="true"
               rel="nofollow">
              <svg class="octicon octicon-check select-menu-item-icon" viewBox="0 0 12 16" version="1.1" width="12" height="16" aria-hidden="true"><path fill-rule="evenodd" d="M12 5l-8 8-4-4 1.5-1.5L4 10l6.5-6.5L12 5z"/></svg>
              <span class="select-menu-item-text css-truncate-target js-select-menu-filter-text">
                pavel_rel-wolpert-pubdev-5330
              </span>
            </a>
            <a class="select-menu-item js-navigation-item js-navigation-open "
               href="/h2oai/h2o-3/blob/pavel_rel-wopert-pubdev-5324/h2o-py/demos/glrm_census_large.ipynb"
               data-name="pavel_rel-wopert-pubdev-5324"
               data-skip-pjax="true"
               rel="nofollow">
              <svg class="octicon octicon-check select-menu-item-icon" viewBox="0 0 12 16" version="1.1" width="12" height="16" aria-hidden="true"><path fill-rule="evenodd" d="M12 5l-8 8-4-4 1.5-1.5L4 10l6.5-6.5L12 5z"/></svg>
              <span class="select-menu-item-text css-truncate-target js-select-menu-filter-text">
                pavel_rel-wopert-pubdev-5324
              </span>
            </a>
            <a class="select-menu-item js-navigation-item js-navigation-open "
               href="/h2oai/h2o-3/blob/pavel_xgboost_airlines_all_huge_test/h2o-py/demos/glrm_census_large.ipynb"
               data-name="pavel_xgboost_airlines_all_huge_test"
               data-skip-pjax="true"
               rel="nofollow">
              <svg class="octicon octicon-check select-menu-item-icon" viewBox="0 0 12 16" version="1.1" width="12" height="16" aria-hidden="true"><path fill-rule="evenodd" d="M12 5l-8 8-4-4 1.5-1.5L4 10l6.5-6.5L12 5z"/></svg>
              <span class="select-menu-item-text css-truncate-target js-select-menu-filter-text">
                pavel_xgboost_airlines_all_huge_test
              </span>
            </a>
            <a class="select-menu-item js-navigation-item js-navigation-open "
               href="/h2oai/h2o-3/blob/pca_hotfix/h2o-py/demos/glrm_census_large.ipynb"
               data-name="pca_hotfix"
               data-skip-pjax="true"
               rel="nofollow">
              <svg class="octicon octicon-check select-menu-item-icon" viewBox="0 0 12 16" version="1.1" width="12" height="16" aria-hidden="true"><path fill-rule="evenodd" d="M12 5l-8 8-4-4 1.5-1.5L4 10l6.5-6.5L12 5z"/></svg>
              <span class="select-menu-item-text css-truncate-target js-select-menu-filter-text">
                pca_hotfix
              </span>
            </a>
            <a class="select-menu-item js-navigation-item js-navigation-open "
               href="/h2oai/h2o-3/blob/progbar/h2o-py/demos/glrm_census_large.ipynb"
               data-name="progbar"
               data-skip-pjax="true"
               rel="nofollow">
              <svg class="octicon octicon-check select-menu-item-icon" viewBox="0 0 12 16" version="1.1" width="12" height="16" aria-hidden="true"><path fill-rule="evenodd" d="M12 5l-8 8-4-4 1.5-1.5L4 10l6.5-6.5L12 5z"/></svg>
              <span class="select-menu-item-text css-truncate-target js-select-menu-filter-text">
                progbar
              </span>
            </a>
            <a class="select-menu-item js-navigation-item js-navigation-open "
               href="/h2oai/h2o-3/blob/pscheidl-rel-wheeler-rapids-token-parsing/h2o-py/demos/glrm_census_large.ipynb"
               data-name="pscheidl-rel-wheeler-rapids-token-parsing"
               data-skip-pjax="true"
               rel="nofollow">
              <svg class="octicon octicon-check select-menu-item-icon" viewBox="0 0 12 16" version="1.1" width="12" height="16" aria-hidden="true"><path fill-rule="evenodd" d="M12 5l-8 8-4-4 1.5-1.5L4 10l6.5-6.5L12 5z"/></svg>
              <span class="select-menu-item-text css-truncate-target js-select-menu-filter-text">
                pscheidl-rel-wheeler-rapids-token-parsing
              </span>
            </a>
            <a class="select-menu-item js-navigation-item js-navigation-open "
               href="/h2oai/h2o-3/blob/pscheidl_rapids-parse/h2o-py/demos/glrm_census_large.ipynb"
               data-name="pscheidl_rapids-parse"
               data-skip-pjax="true"
               rel="nofollow">
              <svg class="octicon octicon-check select-menu-item-icon" viewBox="0 0 12 16" version="1.1" width="12" height="16" aria-hidden="true"><path fill-rule="evenodd" d="M12 5l-8 8-4-4 1.5-1.5L4 10l6.5-6.5L12 5z"/></svg>
              <span class="select-menu-item-text css-truncate-target js-select-menu-filter-text">
                pscheidl_rapids-parse
              </span>
            </a>
            <a class="select-menu-item js-navigation-item js-navigation-open "
               href="/h2oai/h2o-3/blob/pubdev-4897/h2o-py/demos/glrm_census_large.ipynb"
               data-name="pubdev-4897"
               data-skip-pjax="true"
               rel="nofollow">
              <svg class="octicon octicon-check select-menu-item-icon" viewBox="0 0 12 16" version="1.1" width="12" height="16" aria-hidden="true"><path fill-rule="evenodd" d="M12 5l-8 8-4-4 1.5-1.5L4 10l6.5-6.5L12 5z"/></svg>
              <span class="select-menu-item-text css-truncate-target js-select-menu-filter-text">
                pubdev-4897
              </span>
            </a>
            <a class="select-menu-item js-navigation-item js-navigation-open "
               href="/h2oai/h2o-3/blob/pubdev-5058-glrm-mojo-predict/h2o-py/demos/glrm_census_large.ipynb"
               data-name="pubdev-5058-glrm-mojo-predict"
               data-skip-pjax="true"
               rel="nofollow">
              <svg class="octicon octicon-check select-menu-item-icon" viewBox="0 0 12 16" version="1.1" width="12" height="16" aria-hidden="true"><path fill-rule="evenodd" d="M12 5l-8 8-4-4 1.5-1.5L4 10l6.5-6.5L12 5z"/></svg>
              <span class="select-menu-item-text css-truncate-target js-select-menu-filter-text">
                pubdev-5058-glrm-mojo-predict
              </span>
            </a>
            <a class="select-menu-item js-navigation-item js-navigation-open "
               href="/h2oai/h2o-3/blob/pubdev-5180/h2o-py/demos/glrm_census_large.ipynb"
               data-name="pubdev-5180"
               data-skip-pjax="true"
               rel="nofollow">
              <svg class="octicon octicon-check select-menu-item-icon" viewBox="0 0 12 16" version="1.1" width="12" height="16" aria-hidden="true"><path fill-rule="evenodd" d="M12 5l-8 8-4-4 1.5-1.5L4 10l6.5-6.5L12 5z"/></svg>
              <span class="select-menu-item-text css-truncate-target js-select-menu-filter-text">
                pubdev-5180
              </span>
            </a>
            <a class="select-menu-item js-navigation-item js-navigation-open "
               href="/h2oai/h2o-3/blob/pubdev-5229/h2o-py/demos/glrm_census_large.ipynb"
               data-name="pubdev-5229"
               data-skip-pjax="true"
               rel="nofollow">
              <svg class="octicon octicon-check select-menu-item-icon" viewBox="0 0 12 16" version="1.1" width="12" height="16" aria-hidden="true"><path fill-rule="evenodd" d="M12 5l-8 8-4-4 1.5-1.5L4 10l6.5-6.5L12 5z"/></svg>
              <span class="select-menu-item-text css-truncate-target js-select-menu-filter-text">
                pubdev-5229
              </span>
            </a>
            <a class="select-menu-item js-navigation-item js-navigation-open "
               href="/h2oai/h2o-3/blob/pubdev671-2/h2o-py/demos/glrm_census_large.ipynb"
               data-name="pubdev671-2"
               data-skip-pjax="true"
               rel="nofollow">
              <svg class="octicon octicon-check select-menu-item-icon" viewBox="0 0 12 16" version="1.1" width="12" height="16" aria-hidden="true"><path fill-rule="evenodd" d="M12 5l-8 8-4-4 1.5-1.5L4 10l6.5-6.5L12 5z"/></svg>
              <span class="select-menu-item-text css-truncate-target js-select-menu-filter-text">
                pubdev671-2
              </span>
            </a>
            <a class="select-menu-item js-navigation-item js-navigation-open "
               href="/h2oai/h2o-3/blob/pubdev671/h2o-py/demos/glrm_census_large.ipynb"
               data-name="pubdev671"
               data-skip-pjax="true"
               rel="nofollow">
              <svg class="octicon octicon-check select-menu-item-icon" viewBox="0 0 12 16" version="1.1" width="12" height="16" aria-hidden="true"><path fill-rule="evenodd" d="M12 5l-8 8-4-4 1.5-1.5L4 10l6.5-6.5L12 5z"/></svg>
              <span class="select-menu-item-text css-truncate-target js-select-menu-filter-text">
                pubdev671
              </span>
            </a>
            <a class="select-menu-item js-navigation-item js-navigation-open "
               href="/h2oai/h2o-3/blob/pubdev_5050_glrm_mojo_compare/h2o-py/demos/glrm_census_large.ipynb"
               data-name="pubdev_5050_glrm_mojo_compare"
               data-skip-pjax="true"
               rel="nofollow">
              <svg class="octicon octicon-check select-menu-item-icon" viewBox="0 0 12 16" version="1.1" width="12" height="16" aria-hidden="true"><path fill-rule="evenodd" d="M12 5l-8 8-4-4 1.5-1.5L4 10l6.5-6.5L12 5z"/></svg>
              <span class="select-menu-item-text css-truncate-target js-select-menu-filter-text">
                pubdev_5050_glrm_mojo_compare
              </span>
            </a>
            <a class="select-menu-item js-navigation-item js-navigation-open "
               href="/h2oai/h2o-3/blob/py-desc-updates/h2o-py/demos/glrm_census_large.ipynb"
               data-name="py-desc-updates"
               data-skip-pjax="true"
               rel="nofollow">
              <svg class="octicon octicon-check select-menu-item-icon" viewBox="0 0 12 16" version="1.1" width="12" height="16" aria-hidden="true"><path fill-rule="evenodd" d="M12 5l-8 8-4-4 1.5-1.5L4 10l6.5-6.5L12 5z"/></svg>
              <span class="select-menu-item-text css-truncate-target js-select-menu-filter-text">
                py-desc-updates
              </span>
            </a>
            <a class="select-menu-item js-navigation-item js-navigation-open "
               href="/h2oai/h2o-3/blob/py_context_path/h2o-py/demos/glrm_census_large.ipynb"
               data-name="py_context_path"
               data-skip-pjax="true"
               rel="nofollow">
              <svg class="octicon octicon-check select-menu-item-icon" viewBox="0 0 12 16" version="1.1" width="12" height="16" aria-hidden="true"><path fill-rule="evenodd" d="M12 5l-8 8-4-4 1.5-1.5L4 10l6.5-6.5L12 5z"/></svg>
              <span class="select-menu-item-text css-truncate-target js-select-menu-filter-text">
                py_context_path
              </span>
            </a>
            <a class="select-menu-item js-navigation-item js-navigation-open "
               href="/h2oai/h2o-3/blob/python_mojo_avkash/h2o-py/demos/glrm_census_large.ipynb"
               data-name="python_mojo_avkash"
               data-skip-pjax="true"
               rel="nofollow">
              <svg class="octicon octicon-check select-menu-item-icon" viewBox="0 0 12 16" version="1.1" width="12" height="16" aria-hidden="true"><path fill-rule="evenodd" d="M12 5l-8 8-4-4 1.5-1.5L4 10l6.5-6.5L12 5z"/></svg>
              <span class="select-menu-item-text css-truncate-target js-select-menu-filter-text">
                python_mojo_avkash
              </span>
            </a>
            <a class="select-menu-item js-navigation-item js-navigation-open "
               href="/h2oai/h2o-3/blob/python_4849_avkash/h2o-py/demos/glrm_census_large.ipynb"
               data-name="python_4849_avkash"
               data-skip-pjax="true"
               rel="nofollow">
              <svg class="octicon octicon-check select-menu-item-icon" viewBox="0 0 12 16" version="1.1" width="12" height="16" aria-hidden="true"><path fill-rule="evenodd" d="M12 5l-8 8-4-4 1.5-1.5L4 10l6.5-6.5L12 5z"/></svg>
              <span class="select-menu-item-text css-truncate-target js-select-menu-filter-text">
                python_4849_avkash
              </span>
            </a>
            <a class="select-menu-item js-navigation-item js-navigation-open "
               href="/h2oai/h2o-3/blob/r-lib-path/h2o-py/demos/glrm_census_large.ipynb"
               data-name="r-lib-path"
               data-skip-pjax="true"
               rel="nofollow">
              <svg class="octicon octicon-check select-menu-item-icon" viewBox="0 0 12 16" version="1.1" width="12" height="16" aria-hidden="true"><path fill-rule="evenodd" d="M12 5l-8 8-4-4 1.5-1.5L4 10l6.5-6.5L12 5z"/></svg>
              <span class="select-menu-item-text css-truncate-target js-select-menu-filter-text">
                r-lib-path
              </span>
            </a>
            <a class="select-menu-item js-navigation-item js-navigation-open "
               href="/h2oai/h2o-3/blob/readme-update-3.10.3.2/h2o-py/demos/glrm_census_large.ipynb"
               data-name="readme-update-3.10.3.2"
               data-skip-pjax="true"
               rel="nofollow">
              <svg class="octicon octicon-check select-menu-item-icon" viewBox="0 0 12 16" version="1.1" width="12" height="16" aria-hidden="true"><path fill-rule="evenodd" d="M12 5l-8 8-4-4 1.5-1.5L4 10l6.5-6.5L12 5z"/></svg>
              <span class="select-menu-item-text css-truncate-target js-select-menu-filter-text">
                readme-update-3.10.3.2
              </span>
            </a>
            <a class="select-menu-item js-navigation-item js-navigation-open "
               href="/h2oai/h2o-3/blob/rel-selberg/h2o-py/demos/glrm_census_large.ipynb"
               data-name="rel-selberg"
               data-skip-pjax="true"
               rel="nofollow">
              <svg class="octicon octicon-check select-menu-item-icon" viewBox="0 0 12 16" version="1.1" width="12" height="16" aria-hidden="true"><path fill-rule="evenodd" d="M12 5l-8 8-4-4 1.5-1.5L4 10l6.5-6.5L12 5z"/></svg>
              <span class="select-menu-item-text css-truncate-target js-select-menu-filter-text">
                rel-selberg
              </span>
            </a>
            <a class="select-menu-item js-navigation-item js-navigation-open "
               href="/h2oai/h2o-3/blob/rel-serre/h2o-py/demos/glrm_census_large.ipynb"
               data-name="rel-serre"
               data-skip-pjax="true"
               rel="nofollow">
              <svg class="octicon octicon-check select-menu-item-icon" viewBox="0 0 12 16" version="1.1" width="12" height="16" aria-hidden="true"><path fill-rule="evenodd" d="M12 5l-8 8-4-4 1.5-1.5L4 10l6.5-6.5L12 5z"/></svg>
              <span class="select-menu-item-text css-truncate-target js-select-menu-filter-text">
                rel-serre
              </span>
            </a>
            <a class="select-menu-item js-navigation-item js-navigation-open "
               href="/h2oai/h2o-3/blob/rel-severi/h2o-py/demos/glrm_census_large.ipynb"
               data-name="rel-severi"
               data-skip-pjax="true"
               rel="nofollow">
              <svg class="octicon octicon-check select-menu-item-icon" viewBox="0 0 12 16" version="1.1" width="12" height="16" aria-hidden="true"><path fill-rule="evenodd" d="M12 5l-8 8-4-4 1.5-1.5L4 10l6.5-6.5L12 5z"/></svg>
              <span class="select-menu-item-text css-truncate-target js-select-menu-filter-text">
                rel-severi
              </span>
            </a>
            <a class="select-menu-item js-navigation-item js-navigation-open "
               href="/h2oai/h2o-3/blob/rel-shackleford/h2o-py/demos/glrm_census_large.ipynb"
               data-name="rel-shackleford"
               data-skip-pjax="true"
               rel="nofollow">
              <svg class="octicon octicon-check select-menu-item-icon" viewBox="0 0 12 16" version="1.1" width="12" height="16" aria-hidden="true"><path fill-rule="evenodd" d="M12 5l-8 8-4-4 1.5-1.5L4 10l6.5-6.5L12 5z"/></svg>
              <span class="select-menu-item-text css-truncate-target js-select-menu-filter-text">
                rel-shackleford
              </span>
            </a>
            <a class="select-menu-item js-navigation-item js-navigation-open "
               href="/h2oai/h2o-3/blob/rel-shannon/h2o-py/demos/glrm_census_large.ipynb"
               data-name="rel-shannon"
               data-skip-pjax="true"
               rel="nofollow">
              <svg class="octicon octicon-check select-menu-item-icon" viewBox="0 0 12 16" version="1.1" width="12" height="16" aria-hidden="true"><path fill-rule="evenodd" d="M12 5l-8 8-4-4 1.5-1.5L4 10l6.5-6.5L12 5z"/></svg>
              <span class="select-menu-item-text css-truncate-target js-select-menu-filter-text">
                rel-shannon
              </span>
            </a>
            <a class="select-menu-item js-navigation-item js-navigation-open "
               href="/h2oai/h2o-3/blob/rel-simons/h2o-py/demos/glrm_census_large.ipynb"
               data-name="rel-simons"
               data-skip-pjax="true"
               rel="nofollow">
              <svg class="octicon octicon-check select-menu-item-icon" viewBox="0 0 12 16" version="1.1" width="12" height="16" aria-hidden="true"><path fill-rule="evenodd" d="M12 5l-8 8-4-4 1.5-1.5L4 10l6.5-6.5L12 5z"/></svg>
              <span class="select-menu-item-text css-truncate-target js-select-menu-filter-text">
                rel-simons
              </span>
            </a>
            <a class="select-menu-item js-navigation-item js-navigation-open "
               href="/h2oai/h2o-3/blob/rel-slater/h2o-py/demos/glrm_census_large.ipynb"
               data-name="rel-slater"
               data-skip-pjax="true"
               rel="nofollow">
              <svg class="octicon octicon-check select-menu-item-icon" viewBox="0 0 12 16" version="1.1" width="12" height="16" aria-hidden="true"><path fill-rule="evenodd" d="M12 5l-8 8-4-4 1.5-1.5L4 10l6.5-6.5L12 5z"/></svg>
              <span class="select-menu-item-text css-truncate-target js-select-menu-filter-text">
                rel-slater
              </span>
            </a>
            <a class="select-menu-item js-navigation-item js-navigation-open "
               href="/h2oai/h2o-3/blob/rel-slotnick/h2o-py/demos/glrm_census_large.ipynb"
               data-name="rel-slotnick"
               data-skip-pjax="true"
               rel="nofollow">
              <svg class="octicon octicon-check select-menu-item-icon" viewBox="0 0 12 16" version="1.1" width="12" height="16" aria-hidden="true"><path fill-rule="evenodd" d="M12 5l-8 8-4-4 1.5-1.5L4 10l6.5-6.5L12 5z"/></svg>
              <span class="select-menu-item-text css-truncate-target js-select-menu-filter-text">
                rel-slotnick
              </span>
            </a>
            <a class="select-menu-item js-navigation-item js-navigation-open "
               href="/h2oai/h2o-3/blob/rel-tibshirani/h2o-py/demos/glrm_census_large.ipynb"
               data-name="rel-tibshirani"
               data-skip-pjax="true"
               rel="nofollow">
              <svg class="octicon octicon-check select-menu-item-icon" viewBox="0 0 12 16" version="1.1" width="12" height="16" aria-hidden="true"><path fill-rule="evenodd" d="M12 5l-8 8-4-4 1.5-1.5L4 10l6.5-6.5L12 5z"/></svg>
              <span class="select-menu-item-text css-truncate-target js-select-menu-filter-text">
                rel-tibshirani
              </span>
            </a>
            <a class="select-menu-item js-navigation-item js-navigation-open "
               href="/h2oai/h2o-3/blob/rel-tukey/h2o-py/demos/glrm_census_large.ipynb"
               data-name="rel-tukey"
               data-skip-pjax="true"
               rel="nofollow">
              <svg class="octicon octicon-check select-menu-item-icon" viewBox="0 0 12 16" version="1.1" width="12" height="16" aria-hidden="true"><path fill-rule="evenodd" d="M12 5l-8 8-4-4 1.5-1.5L4 10l6.5-6.5L12 5z"/></svg>
              <span class="select-menu-item-text css-truncate-target js-select-menu-filter-text">
                rel-tukey
              </span>
            </a>
            <a class="select-menu-item js-navigation-item js-navigation-open "
               href="/h2oai/h2o-3/blob/rel-turan/h2o-py/demos/glrm_census_large.ipynb"
               data-name="rel-turan"
               data-skip-pjax="true"
               rel="nofollow">
              <svg class="octicon octicon-check select-menu-item-icon" viewBox="0 0 12 16" version="1.1" width="12" height="16" aria-hidden="true"><path fill-rule="evenodd" d="M12 5l-8 8-4-4 1.5-1.5L4 10l6.5-6.5L12 5z"/></svg>
              <span class="select-menu-item-text css-truncate-target js-select-menu-filter-text">
                rel-turan
              </span>
            </a>
            <a class="select-menu-item js-navigation-item js-navigation-open "
               href="/h2oai/h2o-3/blob/rel-turchin/h2o-py/demos/glrm_census_large.ipynb"
               data-name="rel-turchin"
               data-skip-pjax="true"
               rel="nofollow">
              <svg class="octicon octicon-check select-menu-item-icon" viewBox="0 0 12 16" version="1.1" width="12" height="16" aria-hidden="true"><path fill-rule="evenodd" d="M12 5l-8 8-4-4 1.5-1.5L4 10l6.5-6.5L12 5z"/></svg>
              <span class="select-menu-item-text css-truncate-target js-select-menu-filter-text">
                rel-turchin
              </span>
            </a>
            <a class="select-menu-item js-navigation-item js-navigation-open "
               href="/h2oai/h2o-3/blob/rel-turin/h2o-py/demos/glrm_census_large.ipynb"
               data-name="rel-turin"
               data-skip-pjax="true"
               rel="nofollow">
              <svg class="octicon octicon-check select-menu-item-icon" viewBox="0 0 12 16" version="1.1" width="12" height="16" aria-hidden="true"><path fill-rule="evenodd" d="M12 5l-8 8-4-4 1.5-1.5L4 10l6.5-6.5L12 5z"/></svg>
              <span class="select-menu-item-text css-truncate-target js-select-menu-filter-text">
                rel-turin
              </span>
            </a>
            <a class="select-menu-item js-navigation-item js-navigation-open "
               href="/h2oai/h2o-3/blob/rel-turing-8a/h2o-py/demos/glrm_census_large.ipynb"
               data-name="rel-turing-8a"
               data-skip-pjax="true"
               rel="nofollow">
              <svg class="octicon octicon-check select-menu-item-icon" viewBox="0 0 12 16" version="1.1" width="12" height="16" aria-hidden="true"><path fill-rule="evenodd" d="M12 5l-8 8-4-4 1.5-1.5L4 10l6.5-6.5L12 5z"/></svg>
              <span class="select-menu-item-text css-truncate-target js-select-menu-filter-text">
                rel-turing-8a
              </span>
            </a>
            <a class="select-menu-item js-navigation-item js-navigation-open "
               href="/h2oai/h2o-3/blob/rel-turing/h2o-py/demos/glrm_census_large.ipynb"
               data-name="rel-turing"
               data-skip-pjax="true"
               rel="nofollow">
              <svg class="octicon octicon-check select-menu-item-icon" viewBox="0 0 12 16" version="1.1" width="12" height="16" aria-hidden="true"><path fill-rule="evenodd" d="M12 5l-8 8-4-4 1.5-1.5L4 10l6.5-6.5L12 5z"/></svg>
              <span class="select-menu-item-text css-truncate-target js-select-menu-filter-text">
                rel-turing
              </span>
            </a>
            <a class="select-menu-item js-navigation-item js-navigation-open "
               href="/h2oai/h2o-3/blob/rel-turnbull/h2o-py/demos/glrm_census_large.ipynb"
               data-name="rel-turnbull"
               data-skip-pjax="true"
               rel="nofollow">
              <svg class="octicon octicon-check select-menu-item-icon" viewBox="0 0 12 16" version="1.1" width="12" height="16" aria-hidden="true"><path fill-rule="evenodd" d="M12 5l-8 8-4-4 1.5-1.5L4 10l6.5-6.5L12 5z"/></svg>
              <span class="select-menu-item-text css-truncate-target js-select-menu-filter-text">
                rel-turnbull
              </span>
            </a>
            <a class="select-menu-item js-navigation-item js-navigation-open "
               href="/h2oai/h2o-3/blob/rel-tutte/h2o-py/demos/glrm_census_large.ipynb"
               data-name="rel-tutte"
               data-skip-pjax="true"
               rel="nofollow">
              <svg class="octicon octicon-check select-menu-item-icon" viewBox="0 0 12 16" version="1.1" width="12" height="16" aria-hidden="true"><path fill-rule="evenodd" d="M12 5l-8 8-4-4 1.5-1.5L4 10l6.5-6.5L12 5z"/></svg>
              <span class="select-menu-item-text css-truncate-target js-select-menu-filter-text">
                rel-tutte
              </span>
            </a>
            <a class="select-menu-item js-navigation-item js-navigation-open "
               href="/h2oai/h2o-3/blob/rel-tverberg/h2o-py/demos/glrm_census_large.ipynb"
               data-name="rel-tverberg"
               data-skip-pjax="true"
               rel="nofollow">
              <svg class="octicon octicon-check select-menu-item-icon" viewBox="0 0 12 16" version="1.1" width="12" height="16" aria-hidden="true"><path fill-rule="evenodd" d="M12 5l-8 8-4-4 1.5-1.5L4 10l6.5-6.5L12 5z"/></svg>
              <span class="select-menu-item-text css-truncate-target js-select-menu-filter-text">
                rel-tverberg
              </span>
            </a>
            <a class="select-menu-item js-navigation-item js-navigation-open "
               href="/h2oai/h2o-3/blob/rel-ueno/h2o-py/demos/glrm_census_large.ipynb"
               data-name="rel-ueno"
               data-skip-pjax="true"
               rel="nofollow">
              <svg class="octicon octicon-check select-menu-item-icon" viewBox="0 0 12 16" version="1.1" width="12" height="16" aria-hidden="true"><path fill-rule="evenodd" d="M12 5l-8 8-4-4 1.5-1.5L4 10l6.5-6.5L12 5z"/></svg>
              <span class="select-menu-item-text css-truncate-target js-select-menu-filter-text">
                rel-ueno
              </span>
            </a>
            <a class="select-menu-item js-navigation-item js-navigation-open "
               href="/h2oai/h2o-3/blob/rel-vajda_michalk_autoenc/h2o-py/demos/glrm_census_large.ipynb"
               data-name="rel-vajda_michalk_autoenc"
               data-skip-pjax="true"
               rel="nofollow">
              <svg class="octicon octicon-check select-menu-item-icon" viewBox="0 0 12 16" version="1.1" width="12" height="16" aria-hidden="true"><path fill-rule="evenodd" d="M12 5l-8 8-4-4 1.5-1.5L4 10l6.5-6.5L12 5z"/></svg>
              <span class="select-menu-item-text css-truncate-target js-select-menu-filter-text">
                rel-vajda_michalk_autoenc
              </span>
            </a>
            <a class="select-menu-item js-navigation-item js-navigation-open "
               href="/h2oai/h2o-3/blob/rel-vajda_michalk_delete-abandoned-func/h2o-py/demos/glrm_census_large.ipynb"
               data-name="rel-vajda_michalk_delete-abandoned-func"
               data-skip-pjax="true"
               rel="nofollow">
              <svg class="octicon octicon-check select-menu-item-icon" viewBox="0 0 12 16" version="1.1" width="12" height="16" aria-hidden="true"><path fill-rule="evenodd" d="M12 5l-8 8-4-4 1.5-1.5L4 10l6.5-6.5L12 5z"/></svg>
              <span class="select-menu-item-text css-truncate-target js-select-menu-filter-text">
                rel-vajda_michalk_delete-abandoned-func
              </span>
            </a>
            <a class="select-menu-item js-navigation-item js-navigation-open "
               href="/h2oai/h2o-3/blob/rel-vajda/h2o-py/demos/glrm_census_large.ipynb"
               data-name="rel-vajda"
               data-skip-pjax="true"
               rel="nofollow">
              <svg class="octicon octicon-check select-menu-item-icon" viewBox="0 0 12 16" version="1.1" width="12" height="16" aria-hidden="true"><path fill-rule="evenodd" d="M12 5l-8 8-4-4 1.5-1.5L4 10l6.5-6.5L12 5z"/></svg>
              <span class="select-menu-item-text css-truncate-target js-select-menu-filter-text">
                rel-vajda
              </span>
            </a>
            <a class="select-menu-item js-navigation-item js-navigation-open "
               href="/h2oai/h2o-3/blob/rel-vap/h2o-py/demos/glrm_census_large.ipynb"
               data-name="rel-vap"
               data-skip-pjax="true"
               rel="nofollow">
              <svg class="octicon octicon-check select-menu-item-icon" viewBox="0 0 12 16" version="1.1" width="12" height="16" aria-hidden="true"><path fill-rule="evenodd" d="M12 5l-8 8-4-4 1.5-1.5L4 10l6.5-6.5L12 5z"/></svg>
              <span class="select-menu-item-text css-truncate-target js-select-menu-filter-text">
                rel-vap
              </span>
            </a>
            <a class="select-menu-item js-navigation-item js-navigation-open "
               href="/h2oai/h2o-3/blob/rel-vapnik/h2o-py/demos/glrm_census_large.ipynb"
               data-name="rel-vapnik"
               data-skip-pjax="true"
               rel="nofollow">
              <svg class="octicon octicon-check select-menu-item-icon" viewBox="0 0 12 16" version="1.1" width="12" height="16" aria-hidden="true"><path fill-rule="evenodd" d="M12 5l-8 8-4-4 1.5-1.5L4 10l6.5-6.5L12 5z"/></svg>
              <span class="select-menu-item-text css-truncate-target js-select-menu-filter-text">
                rel-vapnik
              </span>
            </a>
            <a class="select-menu-item js-navigation-item js-navigation-open "
               href="/h2oai/h2o-3/blob/rel-weier-6-changes/h2o-py/demos/glrm_census_large.ipynb"
               data-name="rel-weier-6-changes"
               data-skip-pjax="true"
               rel="nofollow">
              <svg class="octicon octicon-check select-menu-item-icon" viewBox="0 0 12 16" version="1.1" width="12" height="16" aria-hidden="true"><path fill-rule="evenodd" d="M12 5l-8 8-4-4 1.5-1.5L4 10l6.5-6.5L12 5z"/></svg>
              <span class="select-menu-item-text css-truncate-target js-select-menu-filter-text">
                rel-weier-6-changes
              </span>
            </a>
            <a class="select-menu-item js-navigation-item js-navigation-open "
               href="/h2oai/h2o-3/blob/rel-weierstrass/h2o-py/demos/glrm_census_large.ipynb"
               data-name="rel-weierstrass"
               data-skip-pjax="true"
               rel="nofollow">
              <svg class="octicon octicon-check select-menu-item-icon" viewBox="0 0 12 16" version="1.1" width="12" height="16" aria-hidden="true"><path fill-rule="evenodd" d="M12 5l-8 8-4-4 1.5-1.5L4 10l6.5-6.5L12 5z"/></svg>
              <span class="select-menu-item-text css-truncate-target js-select-menu-filter-text">
                rel-weierstrass
              </span>
            </a>
            <a class="select-menu-item js-navigation-item js-navigation-open "
               href="/h2oai/h2o-3/blob/rel-wheeler-PUBDEV-5220/h2o-py/demos/glrm_census_large.ipynb"
               data-name="rel-wheeler-PUBDEV-5220"
               data-skip-pjax="true"
               rel="nofollow">
              <svg class="octicon octicon-check select-menu-item-icon" viewBox="0 0 12 16" version="1.1" width="12" height="16" aria-hidden="true"><path fill-rule="evenodd" d="M12 5l-8 8-4-4 1.5-1.5L4 10l6.5-6.5L12 5z"/></svg>
              <span class="select-menu-item-text css-truncate-target js-select-menu-filter-text">
                rel-wheeler-PUBDEV-5220
              </span>
            </a>
            <a class="select-menu-item js-navigation-item js-navigation-open "
               href="/h2oai/h2o-3/blob/rel-wheeler-PUBDEV-5376/h2o-py/demos/glrm_census_large.ipynb"
               data-name="rel-wheeler-PUBDEV-5376"
               data-skip-pjax="true"
               rel="nofollow">
              <svg class="octicon octicon-check select-menu-item-icon" viewBox="0 0 12 16" version="1.1" width="12" height="16" aria-hidden="true"><path fill-rule="evenodd" d="M12 5l-8 8-4-4 1.5-1.5L4 10l6.5-6.5L12 5z"/></svg>
              <span class="select-menu-item-text css-truncate-target js-select-menu-filter-text">
                rel-wheeler-PUBDEV-5376
              </span>
            </a>
            <a class="select-menu-item js-navigation-item js-navigation-open "
               href="/h2oai/h2o-3/blob/rel-wheeler-PUBDEV-5380/h2o-py/demos/glrm_census_large.ipynb"
               data-name="rel-wheeler-PUBDEV-5380"
               data-skip-pjax="true"
               rel="nofollow">
              <svg class="octicon octicon-check select-menu-item-icon" viewBox="0 0 12 16" version="1.1" width="12" height="16" aria-hidden="true"><path fill-rule="evenodd" d="M12 5l-8 8-4-4 1.5-1.5L4 10l6.5-6.5L12 5z"/></svg>
              <span class="select-menu-item-text css-truncate-target js-select-menu-filter-text">
                rel-wheeler-PUBDEV-5380
              </span>
            </a>
            <a class="select-menu-item js-navigation-item js-navigation-open "
               href="/h2oai/h2o-3/blob/rel-wheeler-PUBDEV-5384/h2o-py/demos/glrm_census_large.ipynb"
               data-name="rel-wheeler-PUBDEV-5384"
               data-skip-pjax="true"
               rel="nofollow">
              <svg class="octicon octicon-check select-menu-item-icon" viewBox="0 0 12 16" version="1.1" width="12" height="16" aria-hidden="true"><path fill-rule="evenodd" d="M12 5l-8 8-4-4 1.5-1.5L4 10l6.5-6.5L12 5z"/></svg>
              <span class="select-menu-item-text css-truncate-target js-select-menu-filter-text">
                rel-wheeler-PUBDEV-5384
              </span>
            </a>
            <a class="select-menu-item js-navigation-item js-navigation-open "
               href="/h2oai/h2o-3/blob/rel-wheeler-PUBDEV-5409/h2o-py/demos/glrm_census_large.ipynb"
               data-name="rel-wheeler-PUBDEV-5409"
               data-skip-pjax="true"
               rel="nofollow">
              <svg class="octicon octicon-check select-menu-item-icon" viewBox="0 0 12 16" version="1.1" width="12" height="16" aria-hidden="true"><path fill-rule="evenodd" d="M12 5l-8 8-4-4 1.5-1.5L4 10l6.5-6.5L12 5z"/></svg>
              <span class="select-menu-item-text css-truncate-target js-select-menu-filter-text">
                rel-wheeler-PUBDEV-5409
              </span>
            </a>
            <a class="select-menu-item js-navigation-item js-navigation-open "
               href="/h2oai/h2o-3/blob/rel-wheeler-pubdev-5129/h2o-py/demos/glrm_census_large.ipynb"
               data-name="rel-wheeler-pubdev-5129"
               data-skip-pjax="true"
               rel="nofollow">
              <svg class="octicon octicon-check select-menu-item-icon" viewBox="0 0 12 16" version="1.1" width="12" height="16" aria-hidden="true"><path fill-rule="evenodd" d="M12 5l-8 8-4-4 1.5-1.5L4 10l6.5-6.5L12 5z"/></svg>
              <span class="select-menu-item-text css-truncate-target js-select-menu-filter-text">
                rel-wheeler-pubdev-5129
              </span>
            </a>
            <a class="select-menu-item js-navigation-item js-navigation-open "
               href="/h2oai/h2o-3/blob/rel-wheeler-pubdev-5135/h2o-py/demos/glrm_census_large.ipynb"
               data-name="rel-wheeler-pubdev-5135"
               data-skip-pjax="true"
               rel="nofollow">
              <svg class="octicon octicon-check select-menu-item-icon" viewBox="0 0 12 16" version="1.1" width="12" height="16" aria-hidden="true"><path fill-rule="evenodd" d="M12 5l-8 8-4-4 1.5-1.5L4 10l6.5-6.5L12 5z"/></svg>
              <span class="select-menu-item-text css-truncate-target js-select-menu-filter-text">
                rel-wheeler-pubdev-5135
              </span>
            </a>
            <a class="select-menu-item js-navigation-item js-navigation-open "
               href="/h2oai/h2o-3/blob/rel-wheeler/h2o-py/demos/glrm_census_large.ipynb"
               data-name="rel-wheeler"
               data-skip-pjax="true"
               rel="nofollow">
              <svg class="octicon octicon-check select-menu-item-icon" viewBox="0 0 12 16" version="1.1" width="12" height="16" aria-hidden="true"><path fill-rule="evenodd" d="M12 5l-8 8-4-4 1.5-1.5L4 10l6.5-6.5L12 5z"/></svg>
              <span class="select-menu-item-text css-truncate-target js-select-menu-filter-text">
                rel-wheeler
              </span>
            </a>
            <a class="select-menu-item js-navigation-item js-navigation-open "
               href="/h2oai/h2o-3/blob/rel-wolpert-cran/h2o-py/demos/glrm_census_large.ipynb"
               data-name="rel-wolpert-cran"
               data-skip-pjax="true"
               rel="nofollow">
              <svg class="octicon octicon-check select-menu-item-icon" viewBox="0 0 12 16" version="1.1" width="12" height="16" aria-hidden="true"><path fill-rule="evenodd" d="M12 5l-8 8-4-4 1.5-1.5L4 10l6.5-6.5L12 5z"/></svg>
              <span class="select-menu-item-text css-truncate-target js-select-menu-filter-text">
                rel-wolpert-cran
              </span>
            </a>
            <a class="select-menu-item js-navigation-item js-navigation-open "
               href="/h2oai/h2o-3/blob/rel-wolpert-ordinal-mojo-fix/h2o-py/demos/glrm_census_large.ipynb"
               data-name="rel-wolpert-ordinal-mojo-fix"
               data-skip-pjax="true"
               rel="nofollow">
              <svg class="octicon octicon-check select-menu-item-icon" viewBox="0 0 12 16" version="1.1" width="12" height="16" aria-hidden="true"><path fill-rule="evenodd" d="M12 5l-8 8-4-4 1.5-1.5L4 10l6.5-6.5L12 5z"/></svg>
              <span class="select-menu-item-text css-truncate-target js-select-menu-filter-text">
                rel-wolpert-ordinal-mojo-fix
              </span>
            </a>
            <a class="select-menu-item js-navigation-item js-navigation-open "
               href="/h2oai/h2o-3/blob/rel-wolpert-pubdev-5008-ordinal-glm/h2o-py/demos/glrm_census_large.ipynb"
               data-name="rel-wolpert-pubdev-5008-ordinal-glm"
               data-skip-pjax="true"
               rel="nofollow">
              <svg class="octicon octicon-check select-menu-item-icon" viewBox="0 0 12 16" version="1.1" width="12" height="16" aria-hidden="true"><path fill-rule="evenodd" d="M12 5l-8 8-4-4 1.5-1.5L4 10l6.5-6.5L12 5z"/></svg>
              <span class="select-menu-item-text css-truncate-target js-select-menu-filter-text">
                rel-wolpert-pubdev-5008-ordinal-glm
              </span>
            </a>
            <a class="select-menu-item js-navigation-item js-navigation-open "
               href="/h2oai/h2o-3/blob/rel-wolpert-pubdev-5334/h2o-py/demos/glrm_census_large.ipynb"
               data-name="rel-wolpert-pubdev-5334"
               data-skip-pjax="true"
               rel="nofollow">
              <svg class="octicon octicon-check select-menu-item-icon" viewBox="0 0 12 16" version="1.1" width="12" height="16" aria-hidden="true"><path fill-rule="evenodd" d="M12 5l-8 8-4-4 1.5-1.5L4 10l6.5-6.5L12 5z"/></svg>
              <span class="select-menu-item-text css-truncate-target js-select-menu-filter-text">
                rel-wolpert-pubdev-5334
              </span>
            </a>
            <a class="select-menu-item js-navigation-item js-navigation-open "
               href="/h2oai/h2o-3/blob/rel-wolpert/h2o-py/demos/glrm_census_large.ipynb"
               data-name="rel-wolpert"
               data-skip-pjax="true"
               rel="nofollow">
              <svg class="octicon octicon-check select-menu-item-icon" viewBox="0 0 12 16" version="1.1" width="12" height="16" aria-hidden="true"><path fill-rule="evenodd" d="M12 5l-8 8-4-4 1.5-1.5L4 10l6.5-6.5L12 5z"/></svg>
              <span class="select-menu-item-text css-truncate-target js-select-menu-filter-text">
                rel-wolpert
              </span>
            </a>
            <a class="select-menu-item js-navigation-item js-navigation-open "
               href="/h2oai/h2o-3/blob/rel-wright/h2o-py/demos/glrm_census_large.ipynb"
               data-name="rel-wright"
               data-skip-pjax="true"
               rel="nofollow">
              <svg class="octicon octicon-check select-menu-item-icon" viewBox="0 0 12 16" version="1.1" width="12" height="16" aria-hidden="true"><path fill-rule="evenodd" d="M12 5l-8 8-4-4 1.5-1.5L4 10l6.5-6.5L12 5z"/></svg>
              <span class="select-menu-item-text css-truncate-target js-select-menu-filter-text">
                rel-wright
              </span>
            </a>
            <a class="select-menu-item js-navigation-item js-navigation-open "
               href="/h2oai/h2o-3/blob/release-update-bindings-zip/h2o-py/demos/glrm_census_large.ipynb"
               data-name="release-update-bindings-zip"
               data-skip-pjax="true"
               rel="nofollow">
              <svg class="octicon octicon-check select-menu-item-icon" viewBox="0 0 12 16" version="1.1" width="12" height="16" aria-hidden="true"><path fill-rule="evenodd" d="M12 5l-8 8-4-4 1.5-1.5L4 10l6.5-6.5L12 5z"/></svg>
              <span class="select-menu-item-text css-truncate-target js-select-menu-filter-text">
                release-update-bindings-zip
              </span>
            </a>
            <a class="select-menu-item js-navigation-item js-navigation-open "
               href="/h2oai/h2o-3/blob/release_0.1.2/h2o-py/demos/glrm_census_large.ipynb"
               data-name="release_0.1.2"
               data-skip-pjax="true"
               rel="nofollow">
              <svg class="octicon octicon-check select-menu-item-icon" viewBox="0 0 12 16" version="1.1" width="12" height="16" aria-hidden="true"><path fill-rule="evenodd" d="M12 5l-8 8-4-4 1.5-1.5L4 10l6.5-6.5L12 5z"/></svg>
              <span class="select-menu-item-text css-truncate-target js-select-menu-filter-text">
                release_0.1.2
              </span>
            </a>
            <a class="select-menu-item js-navigation-item js-navigation-open "
               href="/h2oai/h2o-3/blob/release_0.1.3/h2o-py/demos/glrm_census_large.ipynb"
               data-name="release_0.1.3"
               data-skip-pjax="true"
               rel="nofollow">
              <svg class="octicon octicon-check select-menu-item-icon" viewBox="0 0 12 16" version="1.1" width="12" height="16" aria-hidden="true"><path fill-rule="evenodd" d="M12 5l-8 8-4-4 1.5-1.5L4 10l6.5-6.5L12 5z"/></svg>
              <span class="select-menu-item-text css-truncate-target js-select-menu-filter-text">
                release_0.1.3
              </span>
            </a>
            <a class="select-menu-item js-navigation-item js-navigation-open "
               href="/h2oai/h2o-3/blob/release_0.1.6/h2o-py/demos/glrm_census_large.ipynb"
               data-name="release_0.1.6"
               data-skip-pjax="true"
               rel="nofollow">
              <svg class="octicon octicon-check select-menu-item-icon" viewBox="0 0 12 16" version="1.1" width="12" height="16" aria-hidden="true"><path fill-rule="evenodd" d="M12 5l-8 8-4-4 1.5-1.5L4 10l6.5-6.5L12 5z"/></svg>
              <span class="select-menu-item-text css-truncate-target js-select-menu-filter-text">
                release_0.1.6
              </span>
            </a>
            <a class="select-menu-item js-navigation-item js-navigation-open "
               href="/h2oai/h2o-3/blob/remove_r2_early_stop/h2o-py/demos/glrm_census_large.ipynb"
               data-name="remove_r2_early_stop"
               data-skip-pjax="true"
               rel="nofollow">
              <svg class="octicon octicon-check select-menu-item-icon" viewBox="0 0 12 16" version="1.1" width="12" height="16" aria-hidden="true"><path fill-rule="evenodd" d="M12 5l-8 8-4-4 1.5-1.5L4 10l6.5-6.5L12 5z"/></svg>
              <span class="select-menu-item-text css-truncate-target js-select-menu-filter-text">
                remove_r2_early_stop
              </span>
            </a>
            <a class="select-menu-item js-navigation-item js-navigation-open "
               href="/h2oai/h2o-3/blob/rename_cc_file/h2o-py/demos/glrm_census_large.ipynb"
               data-name="rename_cc_file"
               data-skip-pjax="true"
               rel="nofollow">
              <svg class="octicon octicon-check select-menu-item-icon" viewBox="0 0 12 16" version="1.1" width="12" height="16" aria-hidden="true"><path fill-rule="evenodd" d="M12 5l-8 8-4-4 1.5-1.5L4 10l6.5-6.5L12 5z"/></svg>
              <span class="select-menu-item-text css-truncate-target js-select-menu-filter-text">
                rename_cc_file
              </span>
            </a>
            <a class="select-menu-item js-navigation-item js-navigation-open "
               href="/h2oai/h2o-3/blob/rest_api_cors_enabled/h2o-py/demos/glrm_census_large.ipynb"
               data-name="rest_api_cors_enabled"
               data-skip-pjax="true"
               rel="nofollow">
              <svg class="octicon octicon-check select-menu-item-icon" viewBox="0 0 12 16" version="1.1" width="12" height="16" aria-hidden="true"><path fill-rule="evenodd" d="M12 5l-8 8-4-4 1.5-1.5L4 10l6.5-6.5L12 5z"/></svg>
              <span class="select-menu-item-text css-truncate-target js-select-menu-filter-text">
                rest_api_cors_enabled
              </span>
            </a>
            <a class="select-menu-item js-navigation-item js-navigation-open "
               href="/h2oai/h2o-3/blob/revert-148-patrick_jenkins/h2o-py/demos/glrm_census_large.ipynb"
               data-name="revert-148-patrick_jenkins"
               data-skip-pjax="true"
               rel="nofollow">
              <svg class="octicon octicon-check select-menu-item-icon" viewBox="0 0 12 16" version="1.1" width="12" height="16" aria-hidden="true"><path fill-rule="evenodd" d="M12 5l-8 8-4-4 1.5-1.5L4 10l6.5-6.5L12 5z"/></svg>
              <span class="select-menu-item-text css-truncate-target js-select-menu-filter-text">
                revert-148-patrick_jenkins
              </span>
            </a>
            <a class="select-menu-item js-navigation-item js-navigation-open "
               href="/h2oai/h2o-3/blob/revert-150-revert-148-patrick_jenkins/h2o-py/demos/glrm_census_large.ipynb"
               data-name="revert-150-revert-148-patrick_jenkins"
               data-skip-pjax="true"
               rel="nofollow">
              <svg class="octicon octicon-check select-menu-item-icon" viewBox="0 0 12 16" version="1.1" width="12" height="16" aria-hidden="true"><path fill-rule="evenodd" d="M12 5l-8 8-4-4 1.5-1.5L4 10l6.5-6.5L12 5z"/></svg>
              <span class="select-menu-item-text css-truncate-target js-select-menu-filter-text">
                revert-150-revert-148-patrick_jenkins
              </span>
            </a>
            <a class="select-menu-item js-navigation-item js-navigation-open "
               href="/h2oai/h2o-3/blob/revert-514-hotfix/rest_api_registration_failure/h2o-py/demos/glrm_census_large.ipynb"
               data-name="revert-514-hotfix/rest_api_registration_failure"
               data-skip-pjax="true"
               rel="nofollow">
              <svg class="octicon octicon-check select-menu-item-icon" viewBox="0 0 12 16" version="1.1" width="12" height="16" aria-hidden="true"><path fill-rule="evenodd" d="M12 5l-8 8-4-4 1.5-1.5L4 10l6.5-6.5L12 5z"/></svg>
              <span class="select-menu-item-text css-truncate-target js-select-menu-filter-text">
                revert-514-hotfix/rest_api_registration_failure
              </span>
            </a>
            <a class="select-menu-item js-navigation-item js-navigation-open "
               href="/h2oai/h2o-3/blob/revert-637-nishant_jenkins/h2o-py/demos/glrm_census_large.ipynb"
               data-name="revert-637-nishant_jenkins"
               data-skip-pjax="true"
               rel="nofollow">
              <svg class="octicon octicon-check select-menu-item-icon" viewBox="0 0 12 16" version="1.1" width="12" height="16" aria-hidden="true"><path fill-rule="evenodd" d="M12 5l-8 8-4-4 1.5-1.5L4 10l6.5-6.5L12 5z"/></svg>
              <span class="select-menu-item-text css-truncate-target js-select-menu-filter-text">
                revert-637-nishant_jenkins
              </span>
            </a>
            <a class="select-menu-item js-navigation-item js-navigation-open "
               href="/h2oai/h2o-3/blob/revert-1351-rel-vajda-pubdev-4630-ash2o-slow/h2o-py/demos/glrm_census_large.ipynb"
               data-name="revert-1351-rel-vajda-pubdev-4630-ash2o-slow"
               data-skip-pjax="true"
               rel="nofollow">
              <svg class="octicon octicon-check select-menu-item-icon" viewBox="0 0 12 16" version="1.1" width="12" height="16" aria-hidden="true"><path fill-rule="evenodd" d="M12 5l-8 8-4-4 1.5-1.5L4 10l6.5-6.5L12 5z"/></svg>
              <span class="select-menu-item-text css-truncate-target js-select-menu-filter-text">
                revert-1351-rel-vajda-pubdev-4630-ash2o-slow
              </span>
            </a>
            <a class="select-menu-item js-navigation-item js-navigation-open "
               href="/h2oai/h2o-3/blob/revert-test-1/h2o-py/demos/glrm_census_large.ipynb"
               data-name="revert-test-1"
               data-skip-pjax="true"
               rel="nofollow">
              <svg class="octicon octicon-check select-menu-item-icon" viewBox="0 0 12 16" version="1.1" width="12" height="16" aria-hidden="true"><path fill-rule="evenodd" d="M12 5l-8 8-4-4 1.5-1.5L4 10l6.5-6.5L12 5z"/></svg>
              <span class="select-menu-item-text css-truncate-target js-select-menu-filter-text">
                revert-test-1
              </span>
            </a>
            <a class="select-menu-item js-navigation-item js-navigation-open "
               href="/h2oai/h2o-3/blob/revert-to-flow-0-5-2/h2o-py/demos/glrm_census_large.ipynb"
               data-name="revert-to-flow-0-5-2"
               data-skip-pjax="true"
               rel="nofollow">
              <svg class="octicon octicon-check select-menu-item-icon" viewBox="0 0 12 16" version="1.1" width="12" height="16" aria-hidden="true"><path fill-rule="evenodd" d="M12 5l-8 8-4-4 1.5-1.5L4 10l6.5-6.5L12 5z"/></svg>
              <span class="select-menu-item-text css-truncate-target js-select-menu-filter-text">
                revert-to-flow-0-5-2
              </span>
            </a>
            <a class="select-menu-item js-navigation-item js-navigation-open "
               href="/h2oai/h2o-3/blob/rpeck_exclude_algos/h2o-py/demos/glrm_census_large.ipynb"
               data-name="rpeck_exclude_algos"
               data-skip-pjax="true"
               rel="nofollow">
              <svg class="octicon octicon-check select-menu-item-icon" viewBox="0 0 12 16" version="1.1" width="12" height="16" aria-hidden="true"><path fill-rule="evenodd" d="M12 5l-8 8-4-4 1.5-1.5L4 10l6.5-6.5L12 5z"/></svg>
              <span class="select-menu-item-text css-truncate-target js-select-menu-filter-text">
                rpeck_exclude_algos
              </span>
            </a>
            <a class="select-menu-item js-navigation-item js-navigation-open "
               href="/h2oai/h2o-3/blob/rpeck_jenkins/h2o-py/demos/glrm_census_large.ipynb"
               data-name="rpeck_jenkins"
               data-skip-pjax="true"
               rel="nofollow">
              <svg class="octicon octicon-check select-menu-item-icon" viewBox="0 0 12 16" version="1.1" width="12" height="16" aria-hidden="true"><path fill-rule="evenodd" d="M12 5l-8 8-4-4 1.5-1.5L4 10l6.5-6.5L12 5z"/></svg>
              <span class="select-menu-item-text css-truncate-target js-select-menu-filter-text">
                rpeck_jenkins
              </span>
            </a>
            <a class="select-menu-item js-navigation-item js-navigation-open "
               href="/h2oai/h2o-3/blob/rpredict/h2o-py/demos/glrm_census_large.ipynb"
               data-name="rpredict"
               data-skip-pjax="true"
               rel="nofollow">
              <svg class="octicon octicon-check select-menu-item-icon" viewBox="0 0 12 16" version="1.1" width="12" height="16" aria-hidden="true"><path fill-rule="evenodd" d="M12 5l-8 8-4-4 1.5-1.5L4 10l6.5-6.5L12 5z"/></svg>
              <span class="select-menu-item-text css-truncate-target js-select-menu-filter-text">
                rpredict
              </span>
            </a>
            <a class="select-menu-item js-navigation-item js-navigation-open "
               href="/h2oai/h2o-3/blob/seb_JSON/h2o-py/demos/glrm_census_large.ipynb"
               data-name="seb_JSON"
               data-skip-pjax="true"
               rel="nofollow">
              <svg class="octicon octicon-check select-menu-item-icon" viewBox="0 0 12 16" version="1.1" width="12" height="16" aria-hidden="true"><path fill-rule="evenodd" d="M12 5l-8 8-4-4 1.5-1.5L4 10l6.5-6.5L12 5z"/></svg>
              <span class="select-menu-item-text css-truncate-target js-select-menu-filter-text">
                seb_JSON
              </span>
            </a>
            <a class="select-menu-item js-navigation-item js-navigation-open "
               href="/h2oai/h2o-3/blob/seb_goBindings/h2o-py/demos/glrm_census_large.ipynb"
               data-name="seb_goBindings"
               data-skip-pjax="true"
               rel="nofollow">
              <svg class="octicon octicon-check select-menu-item-icon" viewBox="0 0 12 16" version="1.1" width="12" height="16" aria-hidden="true"><path fill-rule="evenodd" d="M12 5l-8 8-4-4 1.5-1.5L4 10l6.5-6.5L12 5z"/></svg>
              <span class="select-menu-item-text css-truncate-target js-select-menu-filter-text">
                seb_goBindings
              </span>
            </a>
            <a class="select-menu-item js-navigation-item js-navigation-open "
               href="/h2oai/h2o-3/blob/seb_pubdev-5560/h2o-py/demos/glrm_census_large.ipynb"
               data-name="seb_pubdev-5560"
               data-skip-pjax="true"
               rel="nofollow">
              <svg class="octicon octicon-check select-menu-item-icon" viewBox="0 0 12 16" version="1.1" width="12" height="16" aria-hidden="true"><path fill-rule="evenodd" d="M12 5l-8 8-4-4 1.5-1.5L4 10l6.5-6.5L12 5z"/></svg>
              <span class="select-menu-item-text css-truncate-target js-select-menu-filter-text">
                seb_pubdev-5560
              </span>
            </a>
            <a class="select-menu-item js-navigation-item js-navigation-open "
               href="/h2oai/h2o-3/blob/sha256-abal/h2o-py/demos/glrm_census_large.ipynb"
               data-name="sha256-abal"
               data-skip-pjax="true"
               rel="nofollow">
              <svg class="octicon octicon-check select-menu-item-icon" viewBox="0 0 12 16" version="1.1" width="12" height="16" aria-hidden="true"><path fill-rule="evenodd" d="M12 5l-8 8-4-4 1.5-1.5L4 10l6.5-6.5L12 5z"/></svg>
              <span class="select-menu-item-text css-truncate-target js-select-menu-filter-text">
                sha256-abal
              </span>
            </a>
            <a class="select-menu-item js-navigation-item js-navigation-open "
               href="/h2oai/h2o-3/blob/sha256-anmol/h2o-py/demos/glrm_census_large.ipynb"
               data-name="sha256-anmol"
               data-skip-pjax="true"
               rel="nofollow">
              <svg class="octicon octicon-check select-menu-item-icon" viewBox="0 0 12 16" version="1.1" width="12" height="16" aria-hidden="true"><path fill-rule="evenodd" d="M12 5l-8 8-4-4 1.5-1.5L4 10l6.5-6.5L12 5z"/></svg>
              <span class="select-menu-item-text css-truncate-target js-select-menu-filter-text">
                sha256-anmol
              </span>
            </a>
            <a class="select-menu-item js-navigation-item js-navigation-open "
               href="/h2oai/h2o-3/blob/sp-kmeans/h2o-py/demos/glrm_census_large.ipynb"
               data-name="sp-kmeans"
               data-skip-pjax="true"
               rel="nofollow">
              <svg class="octicon octicon-check select-menu-item-icon" viewBox="0 0 12 16" version="1.1" width="12" height="16" aria-hidden="true"><path fill-rule="evenodd" d="M12 5l-8 8-4-4 1.5-1.5L4 10l6.5-6.5L12 5z"/></svg>
              <span class="select-menu-item-text css-truncate-target js-select-menu-filter-text">
                sp-kmeans
              </span>
            </a>
            <a class="select-menu-item js-navigation-item js-navigation-open "
               href="/h2oai/h2o-3/blob/sp-shan/h2o-py/demos/glrm_census_large.ipynb"
               data-name="sp-shan"
               data-skip-pjax="true"
               rel="nofollow">
              <svg class="octicon octicon-check select-menu-item-icon" viewBox="0 0 12 16" version="1.1" width="12" height="16" aria-hidden="true"><path fill-rule="evenodd" d="M12 5l-8 8-4-4 1.5-1.5L4 10l6.5-6.5L12 5z"/></svg>
              <span class="select-menu-item-text css-truncate-target js-select-menu-filter-text">
                sp-shan
              </span>
            </a>
            <a class="select-menu-item js-navigation-item js-navigation-open "
               href="/h2oai/h2o-3/blob/sp-shanFix/h2o-py/demos/glrm_census_large.ipynb"
               data-name="sp-shanFix"
               data-skip-pjax="true"
               rel="nofollow">
              <svg class="octicon octicon-check select-menu-item-icon" viewBox="0 0 12 16" version="1.1" width="12" height="16" aria-hidden="true"><path fill-rule="evenodd" d="M12 5l-8 8-4-4 1.5-1.5L4 10l6.5-6.5L12 5z"/></svg>
              <span class="select-menu-item-text css-truncate-target js-select-menu-filter-text">
                sp-shanFix
              </span>
            </a>
            <a class="select-menu-item js-navigation-item js-navigation-open "
               href="/h2oai/h2o-3/blob/sp/jira/pubdev-5534/h2o-py/demos/glrm_census_large.ipynb"
               data-name="sp/jira/pubdev-5534"
               data-skip-pjax="true"
               rel="nofollow">
              <svg class="octicon octicon-check select-menu-item-icon" viewBox="0 0 12 16" version="1.1" width="12" height="16" aria-hidden="true"><path fill-rule="evenodd" d="M12 5l-8 8-4-4 1.5-1.5L4 10l6.5-6.5L12 5z"/></svg>
              <span class="select-menu-item-text css-truncate-target js-select-menu-filter-text">
                sp/jira/pubdev-5534
              </span>
            </a>
            <a class="select-menu-item js-navigation-item js-navigation-open "
               href="/h2oai/h2o-3/blob/sp/telementry/h2o-py/demos/glrm_census_large.ipynb"
               data-name="sp/telementry"
               data-skip-pjax="true"
               rel="nofollow">
              <svg class="octicon octicon-check select-menu-item-icon" viewBox="0 0 12 16" version="1.1" width="12" height="16" aria-hidden="true"><path fill-rule="evenodd" d="M12 5l-8 8-4-4 1.5-1.5L4 10l6.5-6.5L12 5z"/></svg>
              <span class="select-menu-item-text css-truncate-target js-select-menu-filter-text">
                sp/telementry
              </span>
            </a>
            <a class="select-menu-item js-navigation-item js-navigation-open "
               href="/h2oai/h2o-3/blob/spencer-original/h2o-py/demos/glrm_census_large.ipynb"
               data-name="spencer-original"
               data-skip-pjax="true"
               rel="nofollow">
              <svg class="octicon octicon-check select-menu-item-icon" viewBox="0 0 12 16" version="1.1" width="12" height="16" aria-hidden="true"><path fill-rule="evenodd" d="M12 5l-8 8-4-4 1.5-1.5L4 10l6.5-6.5L12 5z"/></svg>
              <span class="select-menu-item-text css-truncate-target js-select-menu-filter-text">
                spencer-original
              </span>
            </a>
            <a class="select-menu-item js-navigation-item js-navigation-open "
               href="/h2oai/h2o-3/blob/spencer_2309_2310/h2o-py/demos/glrm_census_large.ipynb"
               data-name="spencer_2309_2310"
               data-skip-pjax="true"
               rel="nofollow">
              <svg class="octicon octicon-check select-menu-item-icon" viewBox="0 0 12 16" version="1.1" width="12" height="16" aria-hidden="true"><path fill-rule="evenodd" d="M12 5l-8 8-4-4 1.5-1.5L4 10l6.5-6.5L12 5z"/></svg>
              <span class="select-menu-item-text css-truncate-target js-select-menu-filter-text">
                spencer_2309_2310
              </span>
            </a>
            <a class="select-menu-item js-navigation-item js-navigation-open "
               href="/h2oai/h2o-3/blob/spennihana_2309_2310_original/h2o-py/demos/glrm_census_large.ipynb"
               data-name="spennihana_2309_2310_original"
               data-skip-pjax="true"
               rel="nofollow">
              <svg class="octicon octicon-check select-menu-item-icon" viewBox="0 0 12 16" version="1.1" width="12" height="16" aria-hidden="true"><path fill-rule="evenodd" d="M12 5l-8 8-4-4 1.5-1.5L4 10l6.5-6.5L12 5z"/></svg>
              <span class="select-menu-item-text css-truncate-target js-select-menu-filter-text">
                spennihana_2309_2310_original
              </span>
            </a>
            <a class="select-menu-item js-navigation-item js-navigation-open "
               href="/h2oai/h2o-3/blob/spennihana_2309_2310/h2o-py/demos/glrm_census_large.ipynb"
               data-name="spennihana_2309_2310"
               data-skip-pjax="true"
               rel="nofollow">
              <svg class="octicon octicon-check select-menu-item-icon" viewBox="0 0 12 16" version="1.1" width="12" height="16" aria-hidden="true"><path fill-rule="evenodd" d="M12 5l-8 8-4-4 1.5-1.5L4 10l6.5-6.5L12 5z"/></svg>
              <span class="select-menu-item-text css-truncate-target js-select-menu-filter-text">
                spennihana_2309_2310
              </span>
            </a>
            <a class="select-menu-item js-navigation-item js-navigation-open "
               href="/h2oai/h2o-3/blob/spy-expr/h2o-py/demos/glrm_census_large.ipynb"
               data-name="spy-expr"
               data-skip-pjax="true"
               rel="nofollow">
              <svg class="octicon octicon-check select-menu-item-icon" viewBox="0 0 12 16" version="1.1" width="12" height="16" aria-hidden="true"><path fill-rule="evenodd" d="M12 5l-8 8-4-4 1.5-1.5L4 10l6.5-6.5L12 5z"/></svg>
              <span class="select-menu-item-text css-truncate-target js-select-menu-filter-text">
                spy-expr
              </span>
            </a>
            <a class="select-menu-item js-navigation-item js-navigation-open "
               href="/h2oai/h2o-3/blob/static-page-experiments/h2o-py/demos/glrm_census_large.ipynb"
               data-name="static-page-experiments"
               data-skip-pjax="true"
               rel="nofollow">
              <svg class="octicon octicon-check select-menu-item-icon" viewBox="0 0 12 16" version="1.1" width="12" height="16" aria-hidden="true"><path fill-rule="evenodd" d="M12 5l-8 8-4-4 1.5-1.5L4 10l6.5-6.5L12 5z"/></svg>
              <span class="select-menu-item-text css-truncate-target js-select-menu-filter-text">
                static-page-experiments
              </span>
            </a>
            <a class="select-menu-item js-navigation-item js-navigation-open "
               href="/h2oai/h2o-3/blob/surekha_lstm_examples/h2o-py/demos/glrm_census_large.ipynb"
               data-name="surekha_lstm_examples"
               data-skip-pjax="true"
               rel="nofollow">
              <svg class="octicon octicon-check select-menu-item-icon" viewBox="0 0 12 16" version="1.1" width="12" height="16" aria-hidden="true"><path fill-rule="evenodd" d="M12 5l-8 8-4-4 1.5-1.5L4 10l6.5-6.5L12 5z"/></svg>
              <span class="select-menu-item-text css-truncate-target js-select-menu-filter-text">
                surekha_lstm_examples
              </span>
            </a>
            <a class="select-menu-item js-navigation-item js-navigation-open "
               href="/h2oai/h2o-3/blob/test-render-url/h2o-py/demos/glrm_census_large.ipynb"
               data-name="test-render-url"
               data-skip-pjax="true"
               rel="nofollow">
              <svg class="octicon octicon-check select-menu-item-icon" viewBox="0 0 12 16" version="1.1" width="12" height="16" aria-hidden="true"><path fill-rule="evenodd" d="M12 5l-8 8-4-4 1.5-1.5L4 10l6.5-6.5L12 5z"/></svg>
              <span class="select-menu-item-text css-truncate-target js-select-menu-filter-text">
                test-render-url
              </span>
            </a>
            <a class="select-menu-item js-navigation-item js-navigation-open "
               href="/h2oai/h2o-3/blob/testng_merge/h2o-py/demos/glrm_census_large.ipynb"
               data-name="testng_merge"
               data-skip-pjax="true"
               rel="nofollow">
              <svg class="octicon octicon-check select-menu-item-icon" viewBox="0 0 12 16" version="1.1" width="12" height="16" aria-hidden="true"><path fill-rule="evenodd" d="M12 5l-8 8-4-4 1.5-1.5L4 10l6.5-6.5L12 5z"/></svg>
              <span class="select-menu-item-text css-truncate-target js-select-menu-filter-text">
                testng_merge
              </span>
            </a>
            <a class="select-menu-item js-navigation-item js-navigation-open "
               href="/h2oai/h2o-3/blob/testng/h2o-py/demos/glrm_census_large.ipynb"
               data-name="testng"
               data-skip-pjax="true"
               rel="nofollow">
              <svg class="octicon octicon-check select-menu-item-icon" viewBox="0 0 12 16" version="1.1" width="12" height="16" aria-hidden="true"><path fill-rule="evenodd" d="M12 5l-8 8-4-4 1.5-1.5L4 10l6.5-6.5L12 5z"/></svg>
              <span class="select-menu-item-text css-truncate-target js-select-menu-filter-text">
                testng
              </span>
            </a>
            <a class="select-menu-item js-navigation-item js-navigation-open "
               href="/h2oai/h2o-3/blob/textcl/h2o-py/demos/glrm_census_large.ipynb"
               data-name="textcl"
               data-skip-pjax="true"
               rel="nofollow">
              <svg class="octicon octicon-check select-menu-item-icon" viewBox="0 0 12 16" version="1.1" width="12" height="16" aria-hidden="true"><path fill-rule="evenodd" d="M12 5l-8 8-4-4 1.5-1.5L4 10l6.5-6.5L12 5z"/></svg>
              <span class="select-menu-item-text css-truncate-target js-select-menu-filter-text">
                textcl
              </span>
            </a>
            <a class="select-menu-item js-navigation-item js-navigation-open "
               href="/h2oai/h2o-3/blob/tomas-gbm_drf_experimental/h2o-py/demos/glrm_census_large.ipynb"
               data-name="tomas-gbm_drf_experimental"
               data-skip-pjax="true"
               rel="nofollow">
              <svg class="octicon octicon-check select-menu-item-icon" viewBox="0 0 12 16" version="1.1" width="12" height="16" aria-hidden="true"><path fill-rule="evenodd" d="M12 5l-8 8-4-4 1.5-1.5L4 10l6.5-6.5L12 5z"/></svg>
              <span class="select-menu-item-text css-truncate-target js-select-menu-filter-text">
                tomas-gbm_drf_experimental
              </span>
            </a>
            <a class="select-menu-item js-navigation-item js-navigation-open "
               href="/h2oai/h2o-3/blob/tomas/COD_NAIVE_UPDATE/h2o-py/demos/glrm_census_large.ipynb"
               data-name="tomas/COD_NAIVE_UPDATE"
               data-skip-pjax="true"
               rel="nofollow">
              <svg class="octicon octicon-check select-menu-item-icon" viewBox="0 0 12 16" version="1.1" width="12" height="16" aria-hidden="true"><path fill-rule="evenodd" d="M12 5l-8 8-4-4 1.5-1.5L4 10l6.5-6.5L12 5z"/></svg>
              <span class="select-menu-item-text css-truncate-target js-select-menu-filter-text">
                tomas/COD_NAIVE_UPDATE
              </span>
            </a>
            <a class="select-menu-item js-navigation-item js-navigation-open "
               href="/h2oai/h2o-3/blob/tomas_COD_update/h2o-py/demos/glrm_census_large.ipynb"
               data-name="tomas_COD_update"
               data-skip-pjax="true"
               rel="nofollow">
              <svg class="octicon octicon-check select-menu-item-icon" viewBox="0 0 12 16" version="1.1" width="12" height="16" aria-hidden="true"><path fill-rule="evenodd" d="M12 5l-8 8-4-4 1.5-1.5L4 10l6.5-6.5L12 5z"/></svg>
              <span class="select-menu-item-text css-truncate-target js-select-menu-filter-text">
                tomas_COD_update
              </span>
            </a>
            <a class="select-menu-item js-navigation-item js-navigation-open "
               href="/h2oai/h2o-3/blob/tomas_GLM_COD_update/h2o-py/demos/glrm_census_large.ipynb"
               data-name="tomas_GLM_COD_update"
               data-skip-pjax="true"
               rel="nofollow">
              <svg class="octicon octicon-check select-menu-item-icon" viewBox="0 0 12 16" version="1.1" width="12" height="16" aria-hidden="true"><path fill-rule="evenodd" d="M12 5l-8 8-4-4 1.5-1.5L4 10l6.5-6.5L12 5z"/></svg>
              <span class="select-menu-item-text css-truncate-target js-select-menu-filter-text">
                tomas_GLM_COD_update
              </span>
            </a>
            <a class="select-menu-item js-navigation-item js-navigation-open "
               href="/h2oai/h2o-3/blob/tomas/PUBDEV-4611/h2o-py/demos/glrm_census_large.ipynb"
               data-name="tomas/PUBDEV-4611"
               data-skip-pjax="true"
               rel="nofollow">
              <svg class="octicon octicon-check select-menu-item-icon" viewBox="0 0 12 16" version="1.1" width="12" height="16" aria-hidden="true"><path fill-rule="evenodd" d="M12 5l-8 8-4-4 1.5-1.5L4 10l6.5-6.5L12 5z"/></svg>
              <span class="select-menu-item-text css-truncate-target js-select-menu-filter-text">
                tomas/PUBDEV-4611
              </span>
            </a>
            <a class="select-menu-item js-navigation-item js-navigation-open "
               href="/h2oai/h2o-3/blob/tomas/PUBDEV_4416/h2o-py/demos/glrm_census_large.ipynb"
               data-name="tomas/PUBDEV_4416"
               data-skip-pjax="true"
               rel="nofollow">
              <svg class="octicon octicon-check select-menu-item-icon" viewBox="0 0 12 16" version="1.1" width="12" height="16" aria-hidden="true"><path fill-rule="evenodd" d="M12 5l-8 8-4-4 1.5-1.5L4 10l6.5-6.5L12 5z"/></svg>
              <span class="select-menu-item-text css-truncate-target js-select-menu-filter-text">
                tomas/PUBDEV_4416
              </span>
            </a>
            <a class="select-menu-item js-navigation-item js-navigation-open "
               href="/h2oai/h2o-3/blob/tomas/PUBDEV_4594/h2o-py/demos/glrm_census_large.ipynb"
               data-name="tomas/PUBDEV_4594"
               data-skip-pjax="true"
               rel="nofollow">
              <svg class="octicon octicon-check select-menu-item-icon" viewBox="0 0 12 16" version="1.1" width="12" height="16" aria-hidden="true"><path fill-rule="evenodd" d="M12 5l-8 8-4-4 1.5-1.5L4 10l6.5-6.5L12 5z"/></svg>
              <span class="select-menu-item-text css-truncate-target js-select-menu-filter-text">
                tomas/PUBDEV_4594
              </span>
            </a>
            <a class="select-menu-item js-navigation-item js-navigation-open "
               href="/h2oai/h2o-3/blob/tomas/PUBDEV_4597/h2o-py/demos/glrm_census_large.ipynb"
               data-name="tomas/PUBDEV_4597"
               data-skip-pjax="true"
               rel="nofollow">
              <svg class="octicon octicon-check select-menu-item-icon" viewBox="0 0 12 16" version="1.1" width="12" height="16" aria-hidden="true"><path fill-rule="evenodd" d="M12 5l-8 8-4-4 1.5-1.5L4 10l6.5-6.5L12 5z"/></svg>
              <span class="select-menu-item-text css-truncate-target js-select-menu-filter-text">
                tomas/PUBDEV_4597
              </span>
            </a>
            <a class="select-menu-item js-navigation-item js-navigation-open "
               href="/h2oai/h2o-3/blob/tomas/PUBDEV_4724/h2o-py/demos/glrm_census_large.ipynb"
               data-name="tomas/PUBDEV_4724"
               data-skip-pjax="true"
               rel="nofollow">
              <svg class="octicon octicon-check select-menu-item-icon" viewBox="0 0 12 16" version="1.1" width="12" height="16" aria-hidden="true"><path fill-rule="evenodd" d="M12 5l-8 8-4-4 1.5-1.5L4 10l6.5-6.5L12 5z"/></svg>
              <span class="select-menu-item-text css-truncate-target js-select-menu-filter-text">
                tomas/PUBDEV_4724
              </span>
            </a>
            <a class="select-menu-item js-navigation-item js-navigation-open "
               href="/h2oai/h2o-3/blob/tomas/PUBDEV_4868/h2o-py/demos/glrm_census_large.ipynb"
               data-name="tomas/PUBDEV_4868"
               data-skip-pjax="true"
               rel="nofollow">
              <svg class="octicon octicon-check select-menu-item-icon" viewBox="0 0 12 16" version="1.1" width="12" height="16" aria-hidden="true"><path fill-rule="evenodd" d="M12 5l-8 8-4-4 1.5-1.5L4 10l6.5-6.5L12 5z"/></svg>
              <span class="select-menu-item-text css-truncate-target js-select-menu-filter-text">
                tomas/PUBDEV_4868
              </span>
            </a>
            <a class="select-menu-item js-navigation-item js-navigation-open "
               href="/h2oai/h2o-3/blob/tomas_backup/h2o-py/demos/glrm_census_large.ipynb"
               data-name="tomas_backup"
               data-skip-pjax="true"
               rel="nofollow">
              <svg class="octicon octicon-check select-menu-item-icon" viewBox="0 0 12 16" version="1.1" width="12" height="16" aria-hidden="true"><path fill-rule="evenodd" d="M12 5l-8 8-4-4 1.5-1.5L4 10l6.5-6.5L12 5z"/></svg>
              <span class="select-menu-item-text css-truncate-target js-select-menu-filter-text">
                tomas_backup
              </span>
            </a>
            <a class="select-menu-item js-navigation-item js-navigation-open "
               href="/h2oai/h2o-3/blob/tomas_chunk_cleanup/h2o-py/demos/glrm_census_large.ipynb"
               data-name="tomas_chunk_cleanup"
               data-skip-pjax="true"
               rel="nofollow">
              <svg class="octicon octicon-check select-menu-item-icon" viewBox="0 0 12 16" version="1.1" width="12" height="16" aria-hidden="true"><path fill-rule="evenodd" d="M12 5l-8 8-4-4 1.5-1.5L4 10l6.5-6.5L12 5z"/></svg>
              <span class="select-menu-item-text css-truncate-target js-select-menu-filter-text">
                tomas_chunk_cleanup
              </span>
            </a>
            <a class="select-menu-item js-navigation-item js-navigation-open "
               href="/h2oai/h2o-3/blob/tomas_chunk_fix/h2o-py/demos/glrm_census_large.ipynb"
               data-name="tomas_chunk_fix"
               data-skip-pjax="true"
               rel="nofollow">
              <svg class="octicon octicon-check select-menu-item-icon" viewBox="0 0 12 16" version="1.1" width="12" height="16" aria-hidden="true"><path fill-rule="evenodd" d="M12 5l-8 8-4-4 1.5-1.5L4 10l6.5-6.5L12 5z"/></svg>
              <span class="select-menu-item-text css-truncate-target js-select-menu-filter-text">
                tomas_chunk_fix
              </span>
            </a>
            <a class="select-menu-item js-navigation-item js-navigation-open "
               href="/h2oai/h2o-3/blob/tomas_chunk_visitor/h2o-py/demos/glrm_census_large.ipynb"
               data-name="tomas_chunk_visitor"
               data-skip-pjax="true"
               rel="nofollow">
              <svg class="octicon octicon-check select-menu-item-icon" viewBox="0 0 12 16" version="1.1" width="12" height="16" aria-hidden="true"><path fill-rule="evenodd" d="M12 5l-8 8-4-4 1.5-1.5L4 10l6.5-6.5L12 5z"/></svg>
              <span class="select-menu-item-text css-truncate-target js-select-menu-filter-text">
                tomas_chunk_visitor
              </span>
            </a>
            <a class="select-menu-item js-navigation-item js-navigation-open "
               href="/h2oai/h2o-3/blob/tomas_cxschunk/h2o-py/demos/glrm_census_large.ipynb"
               data-name="tomas_cxschunk"
               data-skip-pjax="true"
               rel="nofollow">
              <svg class="octicon octicon-check select-menu-item-icon" viewBox="0 0 12 16" version="1.1" width="12" height="16" aria-hidden="true"><path fill-rule="evenodd" d="M12 5l-8 8-4-4 1.5-1.5L4 10l6.5-6.5L12 5z"/></svg>
              <span class="select-menu-item-text css-truncate-target js-select-menu-filter-text">
                tomas_cxschunk
              </span>
            </a>
            <a class="select-menu-item js-navigation-item js-navigation-open "
               href="/h2oai/h2o-3/blob/tomas_gbm_drf_experimental_2/h2o-py/demos/glrm_census_large.ipynb"
               data-name="tomas_gbm_drf_experimental_2"
               data-skip-pjax="true"
               rel="nofollow">
              <svg class="octicon octicon-check select-menu-item-icon" viewBox="0 0 12 16" version="1.1" width="12" height="16" aria-hidden="true"><path fill-rule="evenodd" d="M12 5l-8 8-4-4 1.5-1.5L4 10l6.5-6.5L12 5z"/></svg>
              <span class="select-menu-item-text css-truncate-target js-select-menu-filter-text">
                tomas_gbm_drf_experimental_2
              </span>
            </a>
            <a class="select-menu-item js-navigation-item js-navigation-open "
               href="/h2oai/h2o-3/blob/tomas_gbm_experimental/h2o-py/demos/glrm_census_large.ipynb"
               data-name="tomas_gbm_experimental"
               data-skip-pjax="true"
               rel="nofollow">
              <svg class="octicon octicon-check select-menu-item-icon" viewBox="0 0 12 16" version="1.1" width="12" height="16" aria-hidden="true"><path fill-rule="evenodd" d="M12 5l-8 8-4-4 1.5-1.5L4 10l6.5-6.5L12 5z"/></svg>
              <span class="select-menu-item-text css-truncate-target js-select-menu-filter-text">
                tomas_gbm_experimental
              </span>
            </a>
            <a class="select-menu-item js-navigation-item js-navigation-open "
               href="/h2oai/h2o-3/blob/tomas_gbm_updates/h2o-py/demos/glrm_census_large.ipynb"
               data-name="tomas_gbm_updates"
               data-skip-pjax="true"
               rel="nofollow">
              <svg class="octicon octicon-check select-menu-item-icon" viewBox="0 0 12 16" version="1.1" width="12" height="16" aria-hidden="true"><path fill-rule="evenodd" d="M12 5l-8 8-4-4 1.5-1.5L4 10l6.5-6.5L12 5z"/></svg>
              <span class="select-menu-item-text css-truncate-target js-select-menu-filter-text">
                tomas_gbm_updates
              </span>
            </a>
            <a class="select-menu-item js-navigation-item js-navigation-open "
               href="/h2oai/h2o-3/blob/tomas_glm_pvalues_hotfix/h2o-py/demos/glrm_census_large.ipynb"
               data-name="tomas_glm_pvalues_hotfix"
               data-skip-pjax="true"
               rel="nofollow">
              <svg class="octicon octicon-check select-menu-item-icon" viewBox="0 0 12 16" version="1.1" width="12" height="16" aria-hidden="true"><path fill-rule="evenodd" d="M12 5l-8 8-4-4 1.5-1.5L4 10l6.5-6.5L12 5z"/></svg>
              <span class="select-menu-item-text css-truncate-target js-select-menu-filter-text">
                tomas_glm_pvalues_hotfix
              </span>
            </a>
            <a class="select-menu-item js-navigation-item js-navigation-open "
               href="/h2oai/h2o-3/blob/tomas_glm_updates/h2o-py/demos/glrm_census_large.ipynb"
               data-name="tomas_glm_updates"
               data-skip-pjax="true"
               rel="nofollow">
              <svg class="octicon octicon-check select-menu-item-icon" viewBox="0 0 12 16" version="1.1" width="12" height="16" aria-hidden="true"><path fill-rule="evenodd" d="M12 5l-8 8-4-4 1.5-1.5L4 10l6.5-6.5L12 5z"/></svg>
              <span class="select-menu-item-text css-truncate-target js-select-menu-filter-text">
                tomas_glm_updates
              </span>
            </a>
            <a class="select-menu-item js-navigation-item js-navigation-open "
               href="/h2oai/h2o-3/blob/tomas_gridsearch_fix/h2o-py/demos/glrm_census_large.ipynb"
               data-name="tomas_gridsearch_fix"
               data-skip-pjax="true"
               rel="nofollow">
              <svg class="octicon octicon-check select-menu-item-icon" viewBox="0 0 12 16" version="1.1" width="12" height="16" aria-hidden="true"><path fill-rule="evenodd" d="M12 5l-8 8-4-4 1.5-1.5L4 10l6.5-6.5L12 5z"/></svg>
              <span class="select-menu-item-text css-truncate-target js-select-menu-filter-text">
                tomas_gridsearch_fix
              </span>
            </a>
            <a class="select-menu-item js-navigation-item js-navigation-open "
               href="/h2oai/h2o-3/blob/tomas/hexdev_694/h2o-py/demos/glrm_census_large.ipynb"
               data-name="tomas/hexdev_694"
               data-skip-pjax="true"
               rel="nofollow">
              <svg class="octicon octicon-check select-menu-item-icon" viewBox="0 0 12 16" version="1.1" width="12" height="16" aria-hidden="true"><path fill-rule="evenodd" d="M12 5l-8 8-4-4 1.5-1.5L4 10l6.5-6.5L12 5z"/></svg>
              <span class="select-menu-item-text css-truncate-target js-select-menu-filter-text">
                tomas/hexdev_694
              </span>
            </a>
            <a class="select-menu-item js-navigation-item js-navigation-open "
               href="/h2oai/h2o-3/blob/tomas/incremental_gram_2/h2o-py/demos/glrm_census_large.ipynb"
               data-name="tomas/incremental_gram_2"
               data-skip-pjax="true"
               rel="nofollow">
              <svg class="octicon octicon-check select-menu-item-icon" viewBox="0 0 12 16" version="1.1" width="12" height="16" aria-hidden="true"><path fill-rule="evenodd" d="M12 5l-8 8-4-4 1.5-1.5L4 10l6.5-6.5L12 5z"/></svg>
              <span class="select-menu-item-text css-truncate-target js-select-menu-filter-text">
                tomas/incremental_gram_2
              </span>
            </a>
            <a class="select-menu-item js-navigation-item js-navigation-open "
               href="/h2oai/h2o-3/blob/tomas_jenkins/h2o-py/demos/glrm_census_large.ipynb"
               data-name="tomas_jenkins"
               data-skip-pjax="true"
               rel="nofollow">
              <svg class="octicon octicon-check select-menu-item-icon" viewBox="0 0 12 16" version="1.1" width="12" height="16" aria-hidden="true"><path fill-rule="evenodd" d="M12 5l-8 8-4-4 1.5-1.5L4 10l6.5-6.5L12 5z"/></svg>
              <span class="select-menu-item-text css-truncate-target js-select-menu-filter-text">
                tomas_jenkins
              </span>
            </a>
            <a class="select-menu-item js-navigation-item js-navigation-open "
               href="/h2oai/h2o-3/blob/tomas_noallocation_msg/h2o-py/demos/glrm_census_large.ipynb"
               data-name="tomas_noallocation_msg"
               data-skip-pjax="true"
               rel="nofollow">
              <svg class="octicon octicon-check select-menu-item-icon" viewBox="0 0 12 16" version="1.1" width="12" height="16" aria-hidden="true"><path fill-rule="evenodd" d="M12 5l-8 8-4-4 1.5-1.5L4 10l6.5-6.5L12 5z"/></svg>
              <span class="select-menu-item-text css-truncate-target js-select-menu-filter-text">
                tomas_noallocation_msg
              </span>
            </a>
            <a class="select-menu-item js-navigation-item js-navigation-open "
               href="/h2oai/h2o-3/blob/tomas_orc_update/h2o-py/demos/glrm_census_large.ipynb"
               data-name="tomas_orc_update"
               data-skip-pjax="true"
               rel="nofollow">
              <svg class="octicon octicon-check select-menu-item-icon" viewBox="0 0 12 16" version="1.1" width="12" height="16" aria-hidden="true"><path fill-rule="evenodd" d="M12 5l-8 8-4-4 1.5-1.5L4 10l6.5-6.5L12 5z"/></svg>
              <span class="select-menu-item-text css-truncate-target js-select-menu-filter-text">
                tomas_orc_update
              </span>
            </a>
            <a class="select-menu-item js-navigation-item js-navigation-open "
               href="/h2oai/h2o-3/blob/tomas_parse_dbg/h2o-py/demos/glrm_census_large.ipynb"
               data-name="tomas_parse_dbg"
               data-skip-pjax="true"
               rel="nofollow">
              <svg class="octicon octicon-check select-menu-item-icon" viewBox="0 0 12 16" version="1.1" width="12" height="16" aria-hidden="true"><path fill-rule="evenodd" d="M12 5l-8 8-4-4 1.5-1.5L4 10l6.5-6.5L12 5z"/></svg>
              <span class="select-menu-item-text css-truncate-target js-select-menu-filter-text">
                tomas_parse_dbg
              </span>
            </a>
            <a class="select-menu-item js-navigation-item js-navigation-open "
               href="/h2oai/h2o-3/blob/tomas_pubdev_PUBDEV_4315/h2o-py/demos/glrm_census_large.ipynb"
               data-name="tomas_pubdev_PUBDEV_4315"
               data-skip-pjax="true"
               rel="nofollow">
              <svg class="octicon octicon-check select-menu-item-icon" viewBox="0 0 12 16" version="1.1" width="12" height="16" aria-hidden="true"><path fill-rule="evenodd" d="M12 5l-8 8-4-4 1.5-1.5L4 10l6.5-6.5L12 5z"/></svg>
              <span class="select-menu-item-text css-truncate-target js-select-menu-filter-text">
                tomas_pubdev_PUBDEV_4315
              </span>
            </a>
            <a class="select-menu-item js-navigation-item js-navigation-open "
               href="/h2oai/h2o-3/blob/tomas_pubdev_PUBDEV_4319/h2o-py/demos/glrm_census_large.ipynb"
               data-name="tomas_pubdev_PUBDEV_4319"
               data-skip-pjax="true"
               rel="nofollow">
              <svg class="octicon octicon-check select-menu-item-icon" viewBox="0 0 12 16" version="1.1" width="12" height="16" aria-hidden="true"><path fill-rule="evenodd" d="M12 5l-8 8-4-4 1.5-1.5L4 10l6.5-6.5L12 5z"/></svg>
              <span class="select-menu-item-text css-truncate-target js-select-menu-filter-text">
                tomas_pubdev_PUBDEV_4319
              </span>
            </a>
            <a class="select-menu-item js-navigation-item js-navigation-open "
               href="/h2oai/h2o-3/blob/tomas_pubdev_PUBDEV_4330/h2o-py/demos/glrm_census_large.ipynb"
               data-name="tomas_pubdev_PUBDEV_4330"
               data-skip-pjax="true"
               rel="nofollow">
              <svg class="octicon octicon-check select-menu-item-icon" viewBox="0 0 12 16" version="1.1" width="12" height="16" aria-hidden="true"><path fill-rule="evenodd" d="M12 5l-8 8-4-4 1.5-1.5L4 10l6.5-6.5L12 5z"/></svg>
              <span class="select-menu-item-text css-truncate-target js-select-menu-filter-text">
                tomas_pubdev_PUBDEV_4330
              </span>
            </a>
            <a class="select-menu-item js-navigation-item js-navigation-open "
               href="/h2oai/h2o-3/blob/tomas_pubdev_PUBDEV_4352/h2o-py/demos/glrm_census_large.ipynb"
               data-name="tomas_pubdev_PUBDEV_4352"
               data-skip-pjax="true"
               rel="nofollow">
              <svg class="octicon octicon-check select-menu-item-icon" viewBox="0 0 12 16" version="1.1" width="12" height="16" aria-hidden="true"><path fill-rule="evenodd" d="M12 5l-8 8-4-4 1.5-1.5L4 10l6.5-6.5L12 5z"/></svg>
              <span class="select-menu-item-text css-truncate-target js-select-menu-filter-text">
                tomas_pubdev_PUBDEV_4352
              </span>
            </a>
            <a class="select-menu-item js-navigation-item js-navigation-open "
               href="/h2oai/h2o-3/blob/tomas_pubdev_PUBDEV_4363/h2o-py/demos/glrm_census_large.ipynb"
               data-name="tomas_pubdev_PUBDEV_4363"
               data-skip-pjax="true"
               rel="nofollow">
              <svg class="octicon octicon-check select-menu-item-icon" viewBox="0 0 12 16" version="1.1" width="12" height="16" aria-hidden="true"><path fill-rule="evenodd" d="M12 5l-8 8-4-4 1.5-1.5L4 10l6.5-6.5L12 5z"/></svg>
              <span class="select-menu-item-text css-truncate-target js-select-menu-filter-text">
                tomas_pubdev_PUBDEV_4363
              </span>
            </a>
            <a class="select-menu-item js-navigation-item js-navigation-open "
               href="/h2oai/h2o-3/blob/tomas_pubdev_3246/h2o-py/demos/glrm_census_large.ipynb"
               data-name="tomas_pubdev_3246"
               data-skip-pjax="true"
               rel="nofollow">
              <svg class="octicon octicon-check select-menu-item-icon" viewBox="0 0 12 16" version="1.1" width="12" height="16" aria-hidden="true"><path fill-rule="evenodd" d="M12 5l-8 8-4-4 1.5-1.5L4 10l6.5-6.5L12 5z"/></svg>
              <span class="select-menu-item-text css-truncate-target js-select-menu-filter-text">
                tomas_pubdev_3246
              </span>
            </a>
            <a class="select-menu-item js-navigation-item js-navigation-open "
               href="/h2oai/h2o-3/blob/tomas_pubdev_3455/h2o-py/demos/glrm_census_large.ipynb"
               data-name="tomas_pubdev_3455"
               data-skip-pjax="true"
               rel="nofollow">
              <svg class="octicon octicon-check select-menu-item-icon" viewBox="0 0 12 16" version="1.1" width="12" height="16" aria-hidden="true"><path fill-rule="evenodd" d="M12 5l-8 8-4-4 1.5-1.5L4 10l6.5-6.5L12 5z"/></svg>
              <span class="select-menu-item-text css-truncate-target js-select-menu-filter-text">
                tomas_pubdev_3455
              </span>
            </a>
            <a class="select-menu-item js-navigation-item js-navigation-open "
               href="/h2oai/h2o-3/blob/tomas_pubdev_3482/h2o-py/demos/glrm_census_large.ipynb"
               data-name="tomas_pubdev_3482"
               data-skip-pjax="true"
               rel="nofollow">
              <svg class="octicon octicon-check select-menu-item-icon" viewBox="0 0 12 16" version="1.1" width="12" height="16" aria-hidden="true"><path fill-rule="evenodd" d="M12 5l-8 8-4-4 1.5-1.5L4 10l6.5-6.5L12 5z"/></svg>
              <span class="select-menu-item-text css-truncate-target js-select-menu-filter-text">
                tomas_pubdev_3482
              </span>
            </a>
            <a class="select-menu-item js-navigation-item js-navigation-open "
               href="/h2oai/h2o-3/blob/tomas_pubdev_3835/h2o-py/demos/glrm_census_large.ipynb"
               data-name="tomas_pubdev_3835"
               data-skip-pjax="true"
               rel="nofollow">
              <svg class="octicon octicon-check select-menu-item-icon" viewBox="0 0 12 16" version="1.1" width="12" height="16" aria-hidden="true"><path fill-rule="evenodd" d="M12 5l-8 8-4-4 1.5-1.5L4 10l6.5-6.5L12 5z"/></svg>
              <span class="select-menu-item-text css-truncate-target js-select-menu-filter-text">
                tomas_pubdev_3835
              </span>
            </a>
            <a class="select-menu-item js-navigation-item js-navigation-open "
               href="/h2oai/h2o-3/blob/tomas_pubdev_3966/h2o-py/demos/glrm_census_large.ipynb"
               data-name="tomas_pubdev_3966"
               data-skip-pjax="true"
               rel="nofollow">
              <svg class="octicon octicon-check select-menu-item-icon" viewBox="0 0 12 16" version="1.1" width="12" height="16" aria-hidden="true"><path fill-rule="evenodd" d="M12 5l-8 8-4-4 1.5-1.5L4 10l6.5-6.5L12 5z"/></svg>
              <span class="select-menu-item-text css-truncate-target js-select-menu-filter-text">
                tomas_pubdev_3966
              </span>
            </a>
            <a class="select-menu-item js-navigation-item js-navigation-open "
               href="/h2oai/h2o-3/blob/tomas_pubdev_4038/h2o-py/demos/glrm_census_large.ipynb"
               data-name="tomas_pubdev_4038"
               data-skip-pjax="true"
               rel="nofollow">
              <svg class="octicon octicon-check select-menu-item-icon" viewBox="0 0 12 16" version="1.1" width="12" height="16" aria-hidden="true"><path fill-rule="evenodd" d="M12 5l-8 8-4-4 1.5-1.5L4 10l6.5-6.5L12 5z"/></svg>
              <span class="select-menu-item-text css-truncate-target js-select-menu-filter-text">
                tomas_pubdev_4038
              </span>
            </a>
            <a class="select-menu-item js-navigation-item js-navigation-open "
               href="/h2oai/h2o-3/blob/tomas_pubdev_4261_hotfix/h2o-py/demos/glrm_census_large.ipynb"
               data-name="tomas_pubdev_4261_hotfix"
               data-skip-pjax="true"
               rel="nofollow">
              <svg class="octicon octicon-check select-menu-item-icon" viewBox="0 0 12 16" version="1.1" width="12" height="16" aria-hidden="true"><path fill-rule="evenodd" d="M12 5l-8 8-4-4 1.5-1.5L4 10l6.5-6.5L12 5z"/></svg>
              <span class="select-menu-item-text css-truncate-target js-select-menu-filter-text">
                tomas_pubdev_4261_hotfix
              </span>
            </a>
            <a class="select-menu-item js-navigation-item js-navigation-open "
               href="/h2oai/h2o-3/blob/tomas_pubdev_4306/h2o-py/demos/glrm_census_large.ipynb"
               data-name="tomas_pubdev_4306"
               data-skip-pjax="true"
               rel="nofollow">
              <svg class="octicon octicon-check select-menu-item-icon" viewBox="0 0 12 16" version="1.1" width="12" height="16" aria-hidden="true"><path fill-rule="evenodd" d="M12 5l-8 8-4-4 1.5-1.5L4 10l6.5-6.5L12 5z"/></svg>
              <span class="select-menu-item-text css-truncate-target js-select-menu-filter-text">
                tomas_pubdev_4306
              </span>
            </a>
            <a class="select-menu-item js-navigation-item js-navigation-open "
               href="/h2oai/h2o-3/blob/tomas_pubdev_4339/h2o-py/demos/glrm_census_large.ipynb"
               data-name="tomas_pubdev_4339"
               data-skip-pjax="true"
               rel="nofollow">
              <svg class="octicon octicon-check select-menu-item-icon" viewBox="0 0 12 16" version="1.1" width="12" height="16" aria-hidden="true"><path fill-rule="evenodd" d="M12 5l-8 8-4-4 1.5-1.5L4 10l6.5-6.5L12 5z"/></svg>
              <span class="select-menu-item-text css-truncate-target js-select-menu-filter-text">
                tomas_pubdev_4339
              </span>
            </a>
            <a class="select-menu-item js-navigation-item js-navigation-open "
               href="/h2oai/h2o-3/blob/tomas/pubdev_4416/h2o-py/demos/glrm_census_large.ipynb"
               data-name="tomas/pubdev_4416"
               data-skip-pjax="true"
               rel="nofollow">
              <svg class="octicon octicon-check select-menu-item-icon" viewBox="0 0 12 16" version="1.1" width="12" height="16" aria-hidden="true"><path fill-rule="evenodd" d="M12 5l-8 8-4-4 1.5-1.5L4 10l6.5-6.5L12 5z"/></svg>
              <span class="select-menu-item-text css-truncate-target js-select-menu-filter-text">
                tomas/pubdev_4416
              </span>
            </a>
            <a class="select-menu-item js-navigation-item js-navigation-open "
               href="/h2oai/h2o-3/blob/tomas/pubdev_4484/h2o-py/demos/glrm_census_large.ipynb"
               data-name="tomas/pubdev_4484"
               data-skip-pjax="true"
               rel="nofollow">
              <svg class="octicon octicon-check select-menu-item-icon" viewBox="0 0 12 16" version="1.1" width="12" height="16" aria-hidden="true"><path fill-rule="evenodd" d="M12 5l-8 8-4-4 1.5-1.5L4 10l6.5-6.5L12 5z"/></svg>
              <span class="select-menu-item-text css-truncate-target js-select-menu-filter-text">
                tomas/pubdev_4484
              </span>
            </a>
            <a class="select-menu-item js-navigation-item js-navigation-open "
               href="/h2oai/h2o-3/blob/tomas/pubdev_4611_take2/h2o-py/demos/glrm_census_large.ipynb"
               data-name="tomas/pubdev_4611_take2"
               data-skip-pjax="true"
               rel="nofollow">
              <svg class="octicon octicon-check select-menu-item-icon" viewBox="0 0 12 16" version="1.1" width="12" height="16" aria-hidden="true"><path fill-rule="evenodd" d="M12 5l-8 8-4-4 1.5-1.5L4 10l6.5-6.5L12 5z"/></svg>
              <span class="select-menu-item-text css-truncate-target js-select-menu-filter-text">
                tomas/pubdev_4611_take2
              </span>
            </a>
            <a class="select-menu-item js-navigation-item js-navigation-open "
               href="/h2oai/h2o-3/blob/tomas/pubdev_4808/h2o-py/demos/glrm_census_large.ipynb"
               data-name="tomas/pubdev_4808"
               data-skip-pjax="true"
               rel="nofollow">
              <svg class="octicon octicon-check select-menu-item-icon" viewBox="0 0 12 16" version="1.1" width="12" height="16" aria-hidden="true"><path fill-rule="evenodd" d="M12 5l-8 8-4-4 1.5-1.5L4 10l6.5-6.5L12 5z"/></svg>
              <span class="select-menu-item-text css-truncate-target js-select-menu-filter-text">
                tomas/pubdev_4808
              </span>
            </a>
            <a class="select-menu-item js-navigation-item js-navigation-open "
               href="/h2oai/h2o-3/blob/tomas_sparse_vgs/h2o-py/demos/glrm_census_large.ipynb"
               data-name="tomas_sparse_vgs"
               data-skip-pjax="true"
               rel="nofollow">
              <svg class="octicon octicon-check select-menu-item-icon" viewBox="0 0 12 16" version="1.1" width="12" height="16" aria-hidden="true"><path fill-rule="evenodd" d="M12 5l-8 8-4-4 1.5-1.5L4 10l6.5-6.5L12 5z"/></svg>
              <span class="select-menu-item-text css-truncate-target js-select-menu-filter-text">
                tomas_sparse_vgs
              </span>
            </a>
            <a class="select-menu-item js-navigation-item js-navigation-open "
               href="/h2oai/h2o-3/blob/tomas_sparse_wip/h2o-py/demos/glrm_census_large.ipynb"
               data-name="tomas_sparse_wip"
               data-skip-pjax="true"
               rel="nofollow">
              <svg class="octicon octicon-check select-menu-item-icon" viewBox="0 0 12 16" version="1.1" width="12" height="16" aria-hidden="true"><path fill-rule="evenodd" d="M12 5l-8 8-4-4 1.5-1.5L4 10l6.5-6.5L12 5z"/></svg>
              <span class="select-menu-item-text css-truncate-target js-select-menu-filter-text">
                tomas_sparse_wip
              </span>
            </a>
            <a class="select-menu-item js-navigation-item js-navigation-open "
               href="/h2oai/h2o-3/blob/tomas_sparse/h2o-py/demos/glrm_census_large.ipynb"
               data-name="tomas_sparse"
               data-skip-pjax="true"
               rel="nofollow">
              <svg class="octicon octicon-check select-menu-item-icon" viewBox="0 0 12 16" version="1.1" width="12" height="16" aria-hidden="true"><path fill-rule="evenodd" d="M12 5l-8 8-4-4 1.5-1.5L4 10l6.5-6.5L12 5z"/></svg>
              <span class="select-menu-item-text css-truncate-target js-select-menu-filter-text">
                tomas_sparse
              </span>
            </a>
            <a class="select-menu-item js-navigation-item js-navigation-open "
               href="/h2oai/h2o-3/blob/tomas_sparse2/h2o-py/demos/glrm_census_large.ipynb"
               data-name="tomas_sparse2"
               data-skip-pjax="true"
               rel="nofollow">
              <svg class="octicon octicon-check select-menu-item-icon" viewBox="0 0 12 16" version="1.1" width="12" height="16" aria-hidden="true"><path fill-rule="evenodd" d="M12 5l-8 8-4-4 1.5-1.5L4 10l6.5-6.5L12 5z"/></svg>
              <span class="select-menu-item-text css-truncate-target js-select-menu-filter-text">
                tomas_sparse2
              </span>
            </a>
            <a class="select-menu-item js-navigation-item js-navigation-open "
               href="/h2oai/h2o-3/blob/tomas_sparse_3/h2o-py/demos/glrm_census_large.ipynb"
               data-name="tomas_sparse_3"
               data-skip-pjax="true"
               rel="nofollow">
              <svg class="octicon octicon-check select-menu-item-icon" viewBox="0 0 12 16" version="1.1" width="12" height="16" aria-hidden="true"><path fill-rule="evenodd" d="M12 5l-8 8-4-4 1.5-1.5L4 10l6.5-6.5L12 5z"/></svg>
              <span class="select-menu-item-text css-truncate-target js-select-menu-filter-text">
                tomas_sparse_3
              </span>
            </a>
            <a class="select-menu-item js-navigation-item js-navigation-open "
               href="/h2oai/h2o-3/blob/tomasGlmRewriteOneSolverMultinomial/h2o-py/demos/glrm_census_large.ipynb"
               data-name="tomasGlmRewriteOneSolverMultinomial"
               data-skip-pjax="true"
               rel="nofollow">
              <svg class="octicon octicon-check select-menu-item-icon" viewBox="0 0 12 16" version="1.1" width="12" height="16" aria-hidden="true"><path fill-rule="evenodd" d="M12 5l-8 8-4-4 1.5-1.5L4 10l6.5-6.5L12 5z"/></svg>
              <span class="select-menu-item-text css-truncate-target js-select-menu-filter-text">
                tomasGlmRewriteOneSolverMultinomial
              </span>
            </a>
            <a class="select-menu-item js-navigation-item js-navigation-open "
               href="/h2oai/h2o-3/blob/tomk-easy-offset/h2o-py/demos/glrm_census_large.ipynb"
               data-name="tomk-easy-offset"
               data-skip-pjax="true"
               rel="nofollow">
              <svg class="octicon octicon-check select-menu-item-icon" viewBox="0 0 12 16" version="1.1" width="12" height="16" aria-hidden="true"><path fill-rule="evenodd" d="M12 5l-8 8-4-4 1.5-1.5L4 10l6.5-6.5L12 5z"/></svg>
              <span class="select-menu-item-text css-truncate-target js-select-menu-filter-text">
                tomk-easy-offset
              </span>
            </a>
            <a class="select-menu-item js-navigation-item js-navigation-open "
               href="/h2oai/h2o-3/blob/tomk-ga-filter/h2o-py/demos/glrm_census_large.ipynb"
               data-name="tomk-ga-filter"
               data-skip-pjax="true"
               rel="nofollow">
              <svg class="octicon octicon-check select-menu-item-icon" viewBox="0 0 12 16" version="1.1" width="12" height="16" aria-hidden="true"><path fill-rule="evenodd" d="M12 5l-8 8-4-4 1.5-1.5L4 10l6.5-6.5L12 5z"/></svg>
              <span class="select-menu-item-text css-truncate-target js-select-menu-filter-text">
                tomk-ga-filter
              </span>
            </a>
            <a class="select-menu-item js-navigation-item js-navigation-open "
               href="/h2oai/h2o-3/blob/tomk-genmodel-enhancements/h2o-py/demos/glrm_census_large.ipynb"
               data-name="tomk-genmodel-enhancements"
               data-skip-pjax="true"
               rel="nofollow">
              <svg class="octicon octicon-check select-menu-item-icon" viewBox="0 0 12 16" version="1.1" width="12" height="16" aria-hidden="true"><path fill-rule="evenodd" d="M12 5l-8 8-4-4 1.5-1.5L4 10l6.5-6.5L12 5z"/></svg>
              <span class="select-menu-item-text css-truncate-target js-select-menu-filter-text">
                tomk-genmodel-enhancements
              </span>
            </a>
            <a class="select-menu-item js-navigation-item js-navigation-open "
               href="/h2oai/h2o-3/blob/tomk-unknown-levels/h2o-py/demos/glrm_census_large.ipynb"
               data-name="tomk-unknown-levels"
               data-skip-pjax="true"
               rel="nofollow">
              <svg class="octicon octicon-check select-menu-item-icon" viewBox="0 0 12 16" version="1.1" width="12" height="16" aria-hidden="true"><path fill-rule="evenodd" d="M12 5l-8 8-4-4 1.5-1.5L4 10l6.5-6.5L12 5z"/></svg>
              <span class="select-menu-item-text css-truncate-target js-select-menu-filter-text">
                tomk-unknown-levels
              </span>
            </a>
            <a class="select-menu-item js-navigation-item js-navigation-open "
               href="/h2oai/h2o-3/blob/tomk_jenkins/h2o-py/demos/glrm_census_large.ipynb"
               data-name="tomk_jenkins"
               data-skip-pjax="true"
               rel="nofollow">
              <svg class="octicon octicon-check select-menu-item-icon" viewBox="0 0 12 16" version="1.1" width="12" height="16" aria-hidden="true"><path fill-rule="evenodd" d="M12 5l-8 8-4-4 1.5-1.5L4 10l6.5-6.5L12 5z"/></svg>
              <span class="select-menu-item-text css-truncate-target js-select-menu-filter-text">
                tomk_jenkins
              </span>
            </a>
            <a class="select-menu-item js-navigation-item js-navigation-open "
               href="/h2oai/h2o-3/blob/training_material/h2o-py/demos/glrm_census_large.ipynb"
               data-name="training_material"
               data-skip-pjax="true"
               rel="nofollow">
              <svg class="octicon octicon-check select-menu-item-icon" viewBox="0 0 12 16" version="1.1" width="12" height="16" aria-hidden="true"><path fill-rule="evenodd" d="M12 5l-8 8-4-4 1.5-1.5L4 10l6.5-6.5L12 5z"/></svg>
              <span class="select-menu-item-text css-truncate-target js-select-menu-filter-text">
                training_material
              </span>
            </a>
            <a class="select-menu-item js-navigation-item js-navigation-open "
               href="/h2oai/h2o-3/blob/twoSolverMultinomial/h2o-py/demos/glrm_census_large.ipynb"
               data-name="twoSolverMultinomial"
               data-skip-pjax="true"
               rel="nofollow">
              <svg class="octicon octicon-check select-menu-item-icon" viewBox="0 0 12 16" version="1.1" width="12" height="16" aria-hidden="true"><path fill-rule="evenodd" d="M12 5l-8 8-4-4 1.5-1.5L4 10l6.5-6.5L12 5z"/></svg>
              <span class="select-menu-item-text css-truncate-target js-select-menu-filter-text">
                twoSolverMultinomial
              </span>
            </a>
            <a class="select-menu-item js-navigation-item js-navigation-open "
               href="/h2oai/h2o-3/blob/update-flow-pubdev-4063/h2o-py/demos/glrm_census_large.ipynb"
               data-name="update-flow-pubdev-4063"
               data-skip-pjax="true"
               rel="nofollow">
              <svg class="octicon octicon-check select-menu-item-icon" viewBox="0 0 12 16" version="1.1" width="12" height="16" aria-hidden="true"><path fill-rule="evenodd" d="M12 5l-8 8-4-4 1.5-1.5L4 10l6.5-6.5L12 5z"/></svg>
              <span class="select-menu-item-text css-truncate-target js-select-menu-filter-text">
                update-flow-pubdev-4063
              </span>
            </a>
            <a class="select-menu-item js-navigation-item js-navigation-open "
               href="/h2oai/h2o-3/blob/update-flow/h2o-py/demos/glrm_census_large.ipynb"
               data-name="update-flow"
               data-skip-pjax="true"
               rel="nofollow">
              <svg class="octicon octicon-check select-menu-item-icon" viewBox="0 0 12 16" version="1.1" width="12" height="16" aria-hidden="true"><path fill-rule="evenodd" d="M12 5l-8 8-4-4 1.5-1.5L4 10l6.5-6.5L12 5z"/></svg>
              <span class="select-menu-item-text css-truncate-target js-select-menu-filter-text">
                update-flow
              </span>
            </a>
            <a class="select-menu-item js-navigation-item js-navigation-open "
               href="/h2oai/h2o-3/blob/upstream/michalk_parquet-imp/h2o-py/demos/glrm_census_large.ipynb"
               data-name="upstream/michalk_parquet-imp"
               data-skip-pjax="true"
               rel="nofollow">
              <svg class="octicon octicon-check select-menu-item-icon" viewBox="0 0 12 16" version="1.1" width="12" height="16" aria-hidden="true"><path fill-rule="evenodd" d="M12 5l-8 8-4-4 1.5-1.5L4 10l6.5-6.5L12 5z"/></svg>
              <span class="select-menu-item-text css-truncate-target js-select-menu-filter-text">
                upstream/michalk_parquet-imp
              </span>
            </a>
            <a class="select-menu-item js-navigation-item js-navigation-open "
               href="/h2oai/h2o-3/blob/url-fix/h2o-py/demos/glrm_census_large.ipynb"
               data-name="url-fix"
               data-skip-pjax="true"
               rel="nofollow">
              <svg class="octicon octicon-check select-menu-item-icon" viewBox="0 0 12 16" version="1.1" width="12" height="16" aria-hidden="true"><path fill-rule="evenodd" d="M12 5l-8 8-4-4 1.5-1.5L4 10l6.5-6.5L12 5z"/></svg>
              <span class="select-menu-item-text css-truncate-target js-select-menu-filter-text">
                url-fix
              </span>
            </a>
            <a class="select-menu-item js-navigation-item js-navigation-open "
               href="/h2oai/h2o-3/blob/userapi_markc_v2/h2o-py/demos/glrm_census_large.ipynb"
               data-name="userapi_markc_v2"
               data-skip-pjax="true"
               rel="nofollow">
              <svg class="octicon octicon-check select-menu-item-icon" viewBox="0 0 12 16" version="1.1" width="12" height="16" aria-hidden="true"><path fill-rule="evenodd" d="M12 5l-8 8-4-4 1.5-1.5L4 10l6.5-6.5L12 5z"/></svg>
              <span class="select-menu-item-text css-truncate-target js-select-menu-filter-text">
                userapi_markc_v2
              </span>
            </a>
            <a class="select-menu-item js-navigation-item js-navigation-open "
               href="/h2oai/h2o-3/blob/userapi_markc/h2o-py/demos/glrm_census_large.ipynb"
               data-name="userapi_markc"
               data-skip-pjax="true"
               rel="nofollow">
              <svg class="octicon octicon-check select-menu-item-icon" viewBox="0 0 12 16" version="1.1" width="12" height="16" aria-hidden="true"><path fill-rule="evenodd" d="M12 5l-8 8-4-4 1.5-1.5L4 10l6.5-6.5L12 5z"/></svg>
              <span class="select-menu-item-text css-truncate-target js-select-menu-filter-text">
                userapi_markc
              </span>
            </a>
            <a class="select-menu-item js-navigation-item js-navigation-open "
               href="/h2oai/h2o-3/blob/vis-data-passing/h2o-py/demos/glrm_census_large.ipynb"
               data-name="vis-data-passing"
               data-skip-pjax="true"
               rel="nofollow">
              <svg class="octicon octicon-check select-menu-item-icon" viewBox="0 0 12 16" version="1.1" width="12" height="16" aria-hidden="true"><path fill-rule="evenodd" d="M12 5l-8 8-4-4 1.5-1.5L4 10l6.5-6.5L12 5z"/></svg>
              <span class="select-menu-item-text css-truncate-target js-select-menu-filter-text">
                vis-data-passing
              </span>
            </a>
            <a class="select-menu-item js-navigation-item js-navigation-open "
               href="/h2oai/h2o-3/blob/vlad_CStrChunk_small_fix/h2o-py/demos/glrm_census_large.ipynb"
               data-name="vlad_CStrChunk_small_fix"
               data-skip-pjax="true"
               rel="nofollow">
              <svg class="octicon octicon-check select-menu-item-icon" viewBox="0 0 12 16" version="1.1" width="12" height="16" aria-hidden="true"><path fill-rule="evenodd" d="M12 5l-8 8-4-4 1.5-1.5L4 10l6.5-6.5L12 5z"/></svg>
              <span class="select-menu-item-text css-truncate-target js-select-menu-filter-text">
                vlad_CStrChunk_small_fix
              </span>
            </a>
            <a class="select-menu-item js-navigation-item js-navigation-open "
               href="/h2oai/h2o-3/blob/vlad_NonBlockingHashMap/h2o-py/demos/glrm_census_large.ipynb"
               data-name="vlad_NonBlockingHashMap"
               data-skip-pjax="true"
               rel="nofollow">
              <svg class="octicon octicon-check select-menu-item-icon" viewBox="0 0 12 16" version="1.1" width="12" height="16" aria-hidden="true"><path fill-rule="evenodd" d="M12 5l-8 8-4-4 1.5-1.5L4 10l6.5-6.5L12 5z"/></svg>
              <span class="select-menu-item-text css-truncate-target js-select-menu-filter-text">
                vlad_NonBlockingHashMap
              </span>
            </a>
            <a class="select-menu-item js-navigation-item js-navigation-open "
               href="/h2oai/h2o-3/blob/vlad/PUBDEV-3281/h2o-py/demos/glrm_census_large.ipynb"
               data-name="vlad/PUBDEV-3281"
               data-skip-pjax="true"
               rel="nofollow">
              <svg class="octicon octicon-check select-menu-item-icon" viewBox="0 0 12 16" version="1.1" width="12" height="16" aria-hidden="true"><path fill-rule="evenodd" d="M12 5l-8 8-4-4 1.5-1.5L4 10l6.5-6.5L12 5z"/></svg>
              <span class="select-menu-item-text css-truncate-target js-select-menu-filter-text">
                vlad/PUBDEV-3281
              </span>
            </a>
            <a class="select-menu-item js-navigation-item js-navigation-open "
               href="/h2oai/h2o-3/blob/vlad/PUBDEV-3955-3/h2o-py/demos/glrm_census_large.ipynb"
               data-name="vlad/PUBDEV-3955-3"
               data-skip-pjax="true"
               rel="nofollow">
              <svg class="octicon octicon-check select-menu-item-icon" viewBox="0 0 12 16" version="1.1" width="12" height="16" aria-hidden="true"><path fill-rule="evenodd" d="M12 5l-8 8-4-4 1.5-1.5L4 10l6.5-6.5L12 5z"/></svg>
              <span class="select-menu-item-text css-truncate-target js-select-menu-filter-text">
                vlad/PUBDEV-3955-3
              </span>
            </a>
            <a class="select-menu-item js-navigation-item js-navigation-open "
               href="/h2oai/h2o-3/blob/vlad/PUBDEV-4026/h2o-py/demos/glrm_census_large.ipynb"
               data-name="vlad/PUBDEV-4026"
               data-skip-pjax="true"
               rel="nofollow">
              <svg class="octicon octicon-check select-menu-item-icon" viewBox="0 0 12 16" version="1.1" width="12" height="16" aria-hidden="true"><path fill-rule="evenodd" d="M12 5l-8 8-4-4 1.5-1.5L4 10l6.5-6.5L12 5z"/></svg>
              <span class="select-menu-item-text css-truncate-target js-select-menu-filter-text">
                vlad/PUBDEV-4026
              </span>
            </a>
            <a class="select-menu-item js-navigation-item js-navigation-open "
               href="/h2oai/h2o-3/blob/vlad/PUBDEV-4094/h2o-py/demos/glrm_census_large.ipynb"
               data-name="vlad/PUBDEV-4094"
               data-skip-pjax="true"
               rel="nofollow">
              <svg class="octicon octicon-check select-menu-item-icon" viewBox="0 0 12 16" version="1.1" width="12" height="16" aria-hidden="true"><path fill-rule="evenodd" d="M12 5l-8 8-4-4 1.5-1.5L4 10l6.5-6.5L12 5z"/></svg>
              <span class="select-menu-item-text css-truncate-target js-select-menu-filter-text">
                vlad/PUBDEV-4094
              </span>
            </a>
            <a class="select-menu-item js-navigation-item js-navigation-open "
               href="/h2oai/h2o-3/blob/vlad/PUBDEV-4159_2/h2o-py/demos/glrm_census_large.ipynb"
               data-name="vlad/PUBDEV-4159_2"
               data-skip-pjax="true"
               rel="nofollow">
              <svg class="octicon octicon-check select-menu-item-icon" viewBox="0 0 12 16" version="1.1" width="12" height="16" aria-hidden="true"><path fill-rule="evenodd" d="M12 5l-8 8-4-4 1.5-1.5L4 10l6.5-6.5L12 5z"/></svg>
              <span class="select-menu-item-text css-truncate-target js-select-menu-filter-text">
                vlad/PUBDEV-4159_2
              </span>
            </a>
            <a class="select-menu-item js-navigation-item js-navigation-open "
               href="/h2oai/h2o-3/blob/vlad_Result_and_Props/h2o-py/demos/glrm_census_large.ipynb"
               data-name="vlad_Result_and_Props"
               data-skip-pjax="true"
               rel="nofollow">
              <svg class="octicon octicon-check select-menu-item-icon" viewBox="0 0 12 16" version="1.1" width="12" height="16" aria-hidden="true"><path fill-rule="evenodd" d="M12 5l-8 8-4-4 1.5-1.5L4 10l6.5-6.5L12 5z"/></svg>
              <span class="select-menu-item-text css-truncate-target js-select-menu-filter-text">
                vlad_Result_and_Props
              </span>
            </a>
            <a class="select-menu-item js-navigation-item js-navigation-open "
               href="/h2oai/h2o-3/blob/vlad_banning_String.getBytes/h2o-py/demos/glrm_census_large.ipynb"
               data-name="vlad_banning_String.getBytes"
               data-skip-pjax="true"
               rel="nofollow">
              <svg class="octicon octicon-check select-menu-item-icon" viewBox="0 0 12 16" version="1.1" width="12" height="16" aria-hidden="true"><path fill-rule="evenodd" d="M12 5l-8 8-4-4 1.5-1.5L4 10l6.5-6.5L12 5z"/></svg>
              <span class="select-menu-item-text css-truncate-target js-select-menu-filter-text">
                vlad_banning_String.getBytes
              </span>
            </a>
            <a class="select-menu-item js-navigation-item js-navigation-open "
               href="/h2oai/h2o-3/blob/vlad_hamspam/h2o-py/demos/glrm_census_large.ipynb"
               data-name="vlad_hamspam"
               data-skip-pjax="true"
               rel="nofollow">
              <svg class="octicon octicon-check select-menu-item-icon" viewBox="0 0 12 16" version="1.1" width="12" height="16" aria-hidden="true"><path fill-rule="evenodd" d="M12 5l-8 8-4-4 1.5-1.5L4 10l6.5-6.5L12 5z"/></svg>
              <span class="select-menu-item-text css-truncate-target js-select-menu-filter-text">
                vlad_hamspam
              </span>
            </a>
            <a class="select-menu-item js-navigation-item js-navigation-open "
               href="/h2oai/h2o-3/blob/vlad_userapi_step3/h2o-py/demos/glrm_census_large.ipynb"
               data-name="vlad_userapi_step3"
               data-skip-pjax="true"
               rel="nofollow">
              <svg class="octicon octicon-check select-menu-item-icon" viewBox="0 0 12 16" version="1.1" width="12" height="16" aria-hidden="true"><path fill-rule="evenodd" d="M12 5l-8 8-4-4 1.5-1.5L4 10l6.5-6.5L12 5z"/></svg>
              <span class="select-menu-item-text css-truncate-target js-select-menu-filter-text">
                vlad_userapi_step3
              </span>
            </a>
            <a class="select-menu-item js-navigation-item js-navigation-open "
               href="/h2oai/h2o-3/blob/vlad_userapi_take4/h2o-py/demos/glrm_census_large.ipynb"
               data-name="vlad_userapi_take4"
               data-skip-pjax="true"
               rel="nofollow">
              <svg class="octicon octicon-check select-menu-item-icon" viewBox="0 0 12 16" version="1.1" width="12" height="16" aria-hidden="true"><path fill-rule="evenodd" d="M12 5l-8 8-4-4 1.5-1.5L4 10l6.5-6.5L12 5z"/></svg>
              <span class="select-menu-item-text css-truncate-target js-select-menu-filter-text">
                vlad_userapi_take4
              </span>
            </a>
            <a class="select-menu-item js-navigation-item js-navigation-open "
               href="/h2oai/h2o-3/blob/wendy_jenkins/h2o-py/demos/glrm_census_large.ipynb"
               data-name="wendy_jenkins"
               data-skip-pjax="true"
               rel="nofollow">
              <svg class="octicon octicon-check select-menu-item-icon" viewBox="0 0 12 16" version="1.1" width="12" height="16" aria-hidden="true"><path fill-rule="evenodd" d="M12 5l-8 8-4-4 1.5-1.5L4 10l6.5-6.5L12 5z"/></svg>
              <span class="select-menu-item-text css-truncate-target js-select-menu-filter-text">
                wendy_jenkins
              </span>
            </a>
            <a class="select-menu-item js-navigation-item js-navigation-open "
               href="/h2oai/h2o-3/blob/xgboost_fixes/h2o-py/demos/glrm_census_large.ipynb"
               data-name="xgboost_fixes"
               data-skip-pjax="true"
               rel="nofollow">
              <svg class="octicon octicon-check select-menu-item-icon" viewBox="0 0 12 16" version="1.1" width="12" height="16" aria-hidden="true"><path fill-rule="evenodd" d="M12 5l-8 8-4-4 1.5-1.5L4 10l6.5-6.5L12 5z"/></svg>
              <span class="select-menu-item-text css-truncate-target js-select-menu-filter-text">
                xgboost_fixes
              </span>
            </a>
        </div>

          <div class="select-menu-no-results">Nothing to show</div>
      </div>

      <div class="select-menu-list select-menu-tab-bucket js-select-menu-tab-bucket" data-tab-filter="tags">
        <div data-filterable-for="context-commitish-filter-field" data-filterable-type="substring">


            <a class="select-menu-item js-navigation-item js-navigation-open "
              href="/h2oai/h2o-3/tree/last_OK/h2o-py/demos/glrm_census_large.ipynb"
              data-name="last_OK"
              data-skip-pjax="true"
              rel="nofollow">
              <svg class="octicon octicon-check select-menu-item-icon" viewBox="0 0 12 16" version="1.1" width="12" height="16" aria-hidden="true"><path fill-rule="evenodd" d="M12 5l-8 8-4-4 1.5-1.5L4 10l6.5-6.5L12 5z"/></svg>
              <span class="select-menu-item-text css-truncate-target" title="last_OK">
                last_OK
              </span>
            </a>
            <a class="select-menu-item js-navigation-item js-navigation-open "
              href="/h2oai/h2o-3/tree/jenkins-tomk-hadoop-1/h2o-py/demos/glrm_census_large.ipynb"
              data-name="jenkins-tomk-hadoop-1"
              data-skip-pjax="true"
              rel="nofollow">
              <svg class="octicon octicon-check select-menu-item-icon" viewBox="0 0 12 16" version="1.1" width="12" height="16" aria-hidden="true"><path fill-rule="evenodd" d="M12 5l-8 8-4-4 1.5-1.5L4 10l6.5-6.5L12 5z"/></svg>
              <span class="select-menu-item-text css-truncate-target" title="jenkins-tomk-hadoop-1">
                jenkins-tomk-hadoop-1
              </span>
            </a>
            <a class="select-menu-item js-navigation-item js-navigation-open "
              href="/h2oai/h2o-3/tree/jenkins-tomas_jenkins-7/h2o-py/demos/glrm_census_large.ipynb"
              data-name="jenkins-tomas_jenkins-7"
              data-skip-pjax="true"
              rel="nofollow">
              <svg class="octicon octicon-check select-menu-item-icon" viewBox="0 0 12 16" version="1.1" width="12" height="16" aria-hidden="true"><path fill-rule="evenodd" d="M12 5l-8 8-4-4 1.5-1.5L4 10l6.5-6.5L12 5z"/></svg>
              <span class="select-menu-item-text css-truncate-target" title="jenkins-tomas_jenkins-7">
                jenkins-tomas_jenkins-7
              </span>
            </a>
            <a class="select-menu-item js-navigation-item js-navigation-open "
              href="/h2oai/h2o-3/tree/jenkins-tomas_jenkins-6/h2o-py/demos/glrm_census_large.ipynb"
              data-name="jenkins-tomas_jenkins-6"
              data-skip-pjax="true"
              rel="nofollow">
              <svg class="octicon octicon-check select-menu-item-icon" viewBox="0 0 12 16" version="1.1" width="12" height="16" aria-hidden="true"><path fill-rule="evenodd" d="M12 5l-8 8-4-4 1.5-1.5L4 10l6.5-6.5L12 5z"/></svg>
              <span class="select-menu-item-text css-truncate-target" title="jenkins-tomas_jenkins-6">
                jenkins-tomas_jenkins-6
              </span>
            </a>
            <a class="select-menu-item js-navigation-item js-navigation-open "
              href="/h2oai/h2o-3/tree/jenkins-tomas_jenkins-5/h2o-py/demos/glrm_census_large.ipynb"
              data-name="jenkins-tomas_jenkins-5"
              data-skip-pjax="true"
              rel="nofollow">
              <svg class="octicon octicon-check select-menu-item-icon" viewBox="0 0 12 16" version="1.1" width="12" height="16" aria-hidden="true"><path fill-rule="evenodd" d="M12 5l-8 8-4-4 1.5-1.5L4 10l6.5-6.5L12 5z"/></svg>
              <span class="select-menu-item-text css-truncate-target" title="jenkins-tomas_jenkins-5">
                jenkins-tomas_jenkins-5
              </span>
            </a>
            <a class="select-menu-item js-navigation-item js-navigation-open "
              href="/h2oai/h2o-3/tree/jenkins-tomas_jenkins-4/h2o-py/demos/glrm_census_large.ipynb"
              data-name="jenkins-tomas_jenkins-4"
              data-skip-pjax="true"
              rel="nofollow">
              <svg class="octicon octicon-check select-menu-item-icon" viewBox="0 0 12 16" version="1.1" width="12" height="16" aria-hidden="true"><path fill-rule="evenodd" d="M12 5l-8 8-4-4 1.5-1.5L4 10l6.5-6.5L12 5z"/></svg>
              <span class="select-menu-item-text css-truncate-target" title="jenkins-tomas_jenkins-4">
                jenkins-tomas_jenkins-4
              </span>
            </a>
            <a class="select-menu-item js-navigation-item js-navigation-open "
              href="/h2oai/h2o-3/tree/jenkins-tomas_jenkins-3/h2o-py/demos/glrm_census_large.ipynb"
              data-name="jenkins-tomas_jenkins-3"
              data-skip-pjax="true"
              rel="nofollow">
              <svg class="octicon octicon-check select-menu-item-icon" viewBox="0 0 12 16" version="1.1" width="12" height="16" aria-hidden="true"><path fill-rule="evenodd" d="M12 5l-8 8-4-4 1.5-1.5L4 10l6.5-6.5L12 5z"/></svg>
              <span class="select-menu-item-text css-truncate-target" title="jenkins-tomas_jenkins-3">
                jenkins-tomas_jenkins-3
              </span>
            </a>
            <a class="select-menu-item js-navigation-item js-navigation-open "
              href="/h2oai/h2o-3/tree/jenkins-tomas_jenkins-2/h2o-py/demos/glrm_census_large.ipynb"
              data-name="jenkins-tomas_jenkins-2"
              data-skip-pjax="true"
              rel="nofollow">
              <svg class="octicon octicon-check select-menu-item-icon" viewBox="0 0 12 16" version="1.1" width="12" height="16" aria-hidden="true"><path fill-rule="evenodd" d="M12 5l-8 8-4-4 1.5-1.5L4 10l6.5-6.5L12 5z"/></svg>
              <span class="select-menu-item-text css-truncate-target" title="jenkins-tomas_jenkins-2">
                jenkins-tomas_jenkins-2
              </span>
            </a>
            <a class="select-menu-item js-navigation-item js-navigation-open "
              href="/h2oai/h2o-3/tree/jenkins-tomas_jenkins-1/h2o-py/demos/glrm_census_large.ipynb"
              data-name="jenkins-tomas_jenkins-1"
              data-skip-pjax="true"
              rel="nofollow">
              <svg class="octicon octicon-check select-menu-item-icon" viewBox="0 0 12 16" version="1.1" width="12" height="16" aria-hidden="true"><path fill-rule="evenodd" d="M12 5l-8 8-4-4 1.5-1.5L4 10l6.5-6.5L12 5z"/></svg>
              <span class="select-menu-item-text css-truncate-target" title="jenkins-tomas_jenkins-1">
                jenkins-tomas_jenkins-1
              </span>
            </a>
            <a class="select-menu-item js-navigation-item js-navigation-open "
              href="/h2oai/h2o-3/tree/jenkins-sample-docs-3/h2o-py/demos/glrm_census_large.ipynb"
              data-name="jenkins-sample-docs-3"
              data-skip-pjax="true"
              rel="nofollow">
              <svg class="octicon octicon-check select-menu-item-icon" viewBox="0 0 12 16" version="1.1" width="12" height="16" aria-hidden="true"><path fill-rule="evenodd" d="M12 5l-8 8-4-4 1.5-1.5L4 10l6.5-6.5L12 5z"/></svg>
              <span class="select-menu-item-text css-truncate-target" title="jenkins-sample-docs-3">
                jenkins-sample-docs-3
              </span>
            </a>
            <a class="select-menu-item js-navigation-item js-navigation-open "
              href="/h2oai/h2o-3/tree/jenkins-sample-docs-2/h2o-py/demos/glrm_census_large.ipynb"
              data-name="jenkins-sample-docs-2"
              data-skip-pjax="true"
              rel="nofollow">
              <svg class="octicon octicon-check select-menu-item-icon" viewBox="0 0 12 16" version="1.1" width="12" height="16" aria-hidden="true"><path fill-rule="evenodd" d="M12 5l-8 8-4-4 1.5-1.5L4 10l6.5-6.5L12 5z"/></svg>
              <span class="select-menu-item-text css-truncate-target" title="jenkins-sample-docs-2">
                jenkins-sample-docs-2
              </span>
            </a>
            <a class="select-menu-item js-navigation-item js-navigation-open "
              href="/h2oai/h2o-3/tree/jenkins-sample-docs-1/h2o-py/demos/glrm_census_large.ipynb"
              data-name="jenkins-sample-docs-1"
              data-skip-pjax="true"
              rel="nofollow">
              <svg class="octicon octicon-check select-menu-item-icon" viewBox="0 0 12 16" version="1.1" width="12" height="16" aria-hidden="true"><path fill-rule="evenodd" d="M12 5l-8 8-4-4 1.5-1.5L4 10l6.5-6.5L12 5z"/></svg>
              <span class="select-menu-item-text css-truncate-target" title="jenkins-sample-docs-1">
                jenkins-sample-docs-1
              </span>
            </a>
            <a class="select-menu-item js-navigation-item js-navigation-open "
              href="/h2oai/h2o-3/tree/jenkins-rel-wright-2/h2o-py/demos/glrm_census_large.ipynb"
              data-name="jenkins-rel-wright-2"
              data-skip-pjax="true"
              rel="nofollow">
              <svg class="octicon octicon-check select-menu-item-icon" viewBox="0 0 12 16" version="1.1" width="12" height="16" aria-hidden="true"><path fill-rule="evenodd" d="M12 5l-8 8-4-4 1.5-1.5L4 10l6.5-6.5L12 5z"/></svg>
              <span class="select-menu-item-text css-truncate-target" title="jenkins-rel-wright-2">
                jenkins-rel-wright-2
              </span>
            </a>
            <a class="select-menu-item js-navigation-item js-navigation-open "
              href="/h2oai/h2o-3/tree/jenkins-rel-wright-1/h2o-py/demos/glrm_census_large.ipynb"
              data-name="jenkins-rel-wright-1"
              data-skip-pjax="true"
              rel="nofollow">
              <svg class="octicon octicon-check select-menu-item-icon" viewBox="0 0 12 16" version="1.1" width="12" height="16" aria-hidden="true"><path fill-rule="evenodd" d="M12 5l-8 8-4-4 1.5-1.5L4 10l6.5-6.5L12 5z"/></svg>
              <span class="select-menu-item-text css-truncate-target" title="jenkins-rel-wright-1">
                jenkins-rel-wright-1
              </span>
            </a>
            <a class="select-menu-item js-navigation-item js-navigation-open "
              href="/h2oai/h2o-3/tree/jenkins-rel-wolpert-11/h2o-py/demos/glrm_census_large.ipynb"
              data-name="jenkins-rel-wolpert-11"
              data-skip-pjax="true"
              rel="nofollow">
              <svg class="octicon octicon-check select-menu-item-icon" viewBox="0 0 12 16" version="1.1" width="12" height="16" aria-hidden="true"><path fill-rule="evenodd" d="M12 5l-8 8-4-4 1.5-1.5L4 10l6.5-6.5L12 5z"/></svg>
              <span class="select-menu-item-text css-truncate-target" title="jenkins-rel-wolpert-11">
                jenkins-rel-wolpert-11
              </span>
            </a>
            <a class="select-menu-item js-navigation-item js-navigation-open "
              href="/h2oai/h2o-3/tree/jenkins-rel-wolpert-10/h2o-py/demos/glrm_census_large.ipynb"
              data-name="jenkins-rel-wolpert-10"
              data-skip-pjax="true"
              rel="nofollow">
              <svg class="octicon octicon-check select-menu-item-icon" viewBox="0 0 12 16" version="1.1" width="12" height="16" aria-hidden="true"><path fill-rule="evenodd" d="M12 5l-8 8-4-4 1.5-1.5L4 10l6.5-6.5L12 5z"/></svg>
              <span class="select-menu-item-text css-truncate-target" title="jenkins-rel-wolpert-10">
                jenkins-rel-wolpert-10
              </span>
            </a>
            <a class="select-menu-item js-navigation-item js-navigation-open "
              href="/h2oai/h2o-3/tree/jenkins-rel-wolpert-9/h2o-py/demos/glrm_census_large.ipynb"
              data-name="jenkins-rel-wolpert-9"
              data-skip-pjax="true"
              rel="nofollow">
              <svg class="octicon octicon-check select-menu-item-icon" viewBox="0 0 12 16" version="1.1" width="12" height="16" aria-hidden="true"><path fill-rule="evenodd" d="M12 5l-8 8-4-4 1.5-1.5L4 10l6.5-6.5L12 5z"/></svg>
              <span class="select-menu-item-text css-truncate-target" title="jenkins-rel-wolpert-9">
                jenkins-rel-wolpert-9
              </span>
            </a>
            <a class="select-menu-item js-navigation-item js-navigation-open "
              href="/h2oai/h2o-3/tree/jenkins-rel-wolpert-8/h2o-py/demos/glrm_census_large.ipynb"
              data-name="jenkins-rel-wolpert-8"
              data-skip-pjax="true"
              rel="nofollow">
              <svg class="octicon octicon-check select-menu-item-icon" viewBox="0 0 12 16" version="1.1" width="12" height="16" aria-hidden="true"><path fill-rule="evenodd" d="M12 5l-8 8-4-4 1.5-1.5L4 10l6.5-6.5L12 5z"/></svg>
              <span class="select-menu-item-text css-truncate-target" title="jenkins-rel-wolpert-8">
                jenkins-rel-wolpert-8
              </span>
            </a>
            <a class="select-menu-item js-navigation-item js-navigation-open "
              href="/h2oai/h2o-3/tree/jenkins-rel-wolpert-7/h2o-py/demos/glrm_census_large.ipynb"
              data-name="jenkins-rel-wolpert-7"
              data-skip-pjax="true"
              rel="nofollow">
              <svg class="octicon octicon-check select-menu-item-icon" viewBox="0 0 12 16" version="1.1" width="12" height="16" aria-hidden="true"><path fill-rule="evenodd" d="M12 5l-8 8-4-4 1.5-1.5L4 10l6.5-6.5L12 5z"/></svg>
              <span class="select-menu-item-text css-truncate-target" title="jenkins-rel-wolpert-7">
                jenkins-rel-wolpert-7
              </span>
            </a>
            <a class="select-menu-item js-navigation-item js-navigation-open "
              href="/h2oai/h2o-3/tree/jenkins-rel-wolpert-6/h2o-py/demos/glrm_census_large.ipynb"
              data-name="jenkins-rel-wolpert-6"
              data-skip-pjax="true"
              rel="nofollow">
              <svg class="octicon octicon-check select-menu-item-icon" viewBox="0 0 12 16" version="1.1" width="12" height="16" aria-hidden="true"><path fill-rule="evenodd" d="M12 5l-8 8-4-4 1.5-1.5L4 10l6.5-6.5L12 5z"/></svg>
              <span class="select-menu-item-text css-truncate-target" title="jenkins-rel-wolpert-6">
                jenkins-rel-wolpert-6
              </span>
            </a>
            <a class="select-menu-item js-navigation-item js-navigation-open "
              href="/h2oai/h2o-3/tree/jenkins-rel-wolpert-5/h2o-py/demos/glrm_census_large.ipynb"
              data-name="jenkins-rel-wolpert-5"
              data-skip-pjax="true"
              rel="nofollow">
              <svg class="octicon octicon-check select-menu-item-icon" viewBox="0 0 12 16" version="1.1" width="12" height="16" aria-hidden="true"><path fill-rule="evenodd" d="M12 5l-8 8-4-4 1.5-1.5L4 10l6.5-6.5L12 5z"/></svg>
              <span class="select-menu-item-text css-truncate-target" title="jenkins-rel-wolpert-5">
                jenkins-rel-wolpert-5
              </span>
            </a>
            <a class="select-menu-item js-navigation-item js-navigation-open "
              href="/h2oai/h2o-3/tree/jenkins-rel-wolpert-4/h2o-py/demos/glrm_census_large.ipynb"
              data-name="jenkins-rel-wolpert-4"
              data-skip-pjax="true"
              rel="nofollow">
              <svg class="octicon octicon-check select-menu-item-icon" viewBox="0 0 12 16" version="1.1" width="12" height="16" aria-hidden="true"><path fill-rule="evenodd" d="M12 5l-8 8-4-4 1.5-1.5L4 10l6.5-6.5L12 5z"/></svg>
              <span class="select-menu-item-text css-truncate-target" title="jenkins-rel-wolpert-4">
                jenkins-rel-wolpert-4
              </span>
            </a>
            <a class="select-menu-item js-navigation-item js-navigation-open "
              href="/h2oai/h2o-3/tree/jenkins-rel-wolpert-3/h2o-py/demos/glrm_census_large.ipynb"
              data-name="jenkins-rel-wolpert-3"
              data-skip-pjax="true"
              rel="nofollow">
              <svg class="octicon octicon-check select-menu-item-icon" viewBox="0 0 12 16" version="1.1" width="12" height="16" aria-hidden="true"><path fill-rule="evenodd" d="M12 5l-8 8-4-4 1.5-1.5L4 10l6.5-6.5L12 5z"/></svg>
              <span class="select-menu-item-text css-truncate-target" title="jenkins-rel-wolpert-3">
                jenkins-rel-wolpert-3
              </span>
            </a>
            <a class="select-menu-item js-navigation-item js-navigation-open "
              href="/h2oai/h2o-3/tree/jenkins-rel-wolpert-2/h2o-py/demos/glrm_census_large.ipynb"
              data-name="jenkins-rel-wolpert-2"
              data-skip-pjax="true"
              rel="nofollow">
              <svg class="octicon octicon-check select-menu-item-icon" viewBox="0 0 12 16" version="1.1" width="12" height="16" aria-hidden="true"><path fill-rule="evenodd" d="M12 5l-8 8-4-4 1.5-1.5L4 10l6.5-6.5L12 5z"/></svg>
              <span class="select-menu-item-text css-truncate-target" title="jenkins-rel-wolpert-2">
                jenkins-rel-wolpert-2
              </span>
            </a>
            <a class="select-menu-item js-navigation-item js-navigation-open "
              href="/h2oai/h2o-3/tree/jenkins-rel-wolpert-1/h2o-py/demos/glrm_census_large.ipynb"
              data-name="jenkins-rel-wolpert-1"
              data-skip-pjax="true"
              rel="nofollow">
              <svg class="octicon octicon-check select-menu-item-icon" viewBox="0 0 12 16" version="1.1" width="12" height="16" aria-hidden="true"><path fill-rule="evenodd" d="M12 5l-8 8-4-4 1.5-1.5L4 10l6.5-6.5L12 5z"/></svg>
              <span class="select-menu-item-text css-truncate-target" title="jenkins-rel-wolpert-1">
                jenkins-rel-wolpert-1
              </span>
            </a>
            <a class="select-menu-item js-navigation-item js-navigation-open "
              href="/h2oai/h2o-3/tree/jenkins-rel-wheeler-12/h2o-py/demos/glrm_census_large.ipynb"
              data-name="jenkins-rel-wheeler-12"
              data-skip-pjax="true"
              rel="nofollow">
              <svg class="octicon octicon-check select-menu-item-icon" viewBox="0 0 12 16" version="1.1" width="12" height="16" aria-hidden="true"><path fill-rule="evenodd" d="M12 5l-8 8-4-4 1.5-1.5L4 10l6.5-6.5L12 5z"/></svg>
              <span class="select-menu-item-text css-truncate-target" title="jenkins-rel-wheeler-12">
                jenkins-rel-wheeler-12
              </span>
            </a>
            <a class="select-menu-item js-navigation-item js-navigation-open "
              href="/h2oai/h2o-3/tree/jenkins-rel-wheeler-11/h2o-py/demos/glrm_census_large.ipynb"
              data-name="jenkins-rel-wheeler-11"
              data-skip-pjax="true"
              rel="nofollow">
              <svg class="octicon octicon-check select-menu-item-icon" viewBox="0 0 12 16" version="1.1" width="12" height="16" aria-hidden="true"><path fill-rule="evenodd" d="M12 5l-8 8-4-4 1.5-1.5L4 10l6.5-6.5L12 5z"/></svg>
              <span class="select-menu-item-text css-truncate-target" title="jenkins-rel-wheeler-11">
                jenkins-rel-wheeler-11
              </span>
            </a>
            <a class="select-menu-item js-navigation-item js-navigation-open "
              href="/h2oai/h2o-3/tree/jenkins-rel-wheeler-10/h2o-py/demos/glrm_census_large.ipynb"
              data-name="jenkins-rel-wheeler-10"
              data-skip-pjax="true"
              rel="nofollow">
              <svg class="octicon octicon-check select-menu-item-icon" viewBox="0 0 12 16" version="1.1" width="12" height="16" aria-hidden="true"><path fill-rule="evenodd" d="M12 5l-8 8-4-4 1.5-1.5L4 10l6.5-6.5L12 5z"/></svg>
              <span class="select-menu-item-text css-truncate-target" title="jenkins-rel-wheeler-10">
                jenkins-rel-wheeler-10
              </span>
            </a>
            <a class="select-menu-item js-navigation-item js-navigation-open "
              href="/h2oai/h2o-3/tree/jenkins-rel-wheeler-9/h2o-py/demos/glrm_census_large.ipynb"
              data-name="jenkins-rel-wheeler-9"
              data-skip-pjax="true"
              rel="nofollow">
              <svg class="octicon octicon-check select-menu-item-icon" viewBox="0 0 12 16" version="1.1" width="12" height="16" aria-hidden="true"><path fill-rule="evenodd" d="M12 5l-8 8-4-4 1.5-1.5L4 10l6.5-6.5L12 5z"/></svg>
              <span class="select-menu-item-text css-truncate-target" title="jenkins-rel-wheeler-9">
                jenkins-rel-wheeler-9
              </span>
            </a>
            <a class="select-menu-item js-navigation-item js-navigation-open "
              href="/h2oai/h2o-3/tree/jenkins-rel-wheeler-8/h2o-py/demos/glrm_census_large.ipynb"
              data-name="jenkins-rel-wheeler-8"
              data-skip-pjax="true"
              rel="nofollow">
              <svg class="octicon octicon-check select-menu-item-icon" viewBox="0 0 12 16" version="1.1" width="12" height="16" aria-hidden="true"><path fill-rule="evenodd" d="M12 5l-8 8-4-4 1.5-1.5L4 10l6.5-6.5L12 5z"/></svg>
              <span class="select-menu-item-text css-truncate-target" title="jenkins-rel-wheeler-8">
                jenkins-rel-wheeler-8
              </span>
            </a>
            <a class="select-menu-item js-navigation-item js-navigation-open "
              href="/h2oai/h2o-3/tree/jenkins-rel-wheeler-7/h2o-py/demos/glrm_census_large.ipynb"
              data-name="jenkins-rel-wheeler-7"
              data-skip-pjax="true"
              rel="nofollow">
              <svg class="octicon octicon-check select-menu-item-icon" viewBox="0 0 12 16" version="1.1" width="12" height="16" aria-hidden="true"><path fill-rule="evenodd" d="M12 5l-8 8-4-4 1.5-1.5L4 10l6.5-6.5L12 5z"/></svg>
              <span class="select-menu-item-text css-truncate-target" title="jenkins-rel-wheeler-7">
                jenkins-rel-wheeler-7
              </span>
            </a>
            <a class="select-menu-item js-navigation-item js-navigation-open "
              href="/h2oai/h2o-3/tree/jenkins-rel-wheeler-6/h2o-py/demos/glrm_census_large.ipynb"
              data-name="jenkins-rel-wheeler-6"
              data-skip-pjax="true"
              rel="nofollow">
              <svg class="octicon octicon-check select-menu-item-icon" viewBox="0 0 12 16" version="1.1" width="12" height="16" aria-hidden="true"><path fill-rule="evenodd" d="M12 5l-8 8-4-4 1.5-1.5L4 10l6.5-6.5L12 5z"/></svg>
              <span class="select-menu-item-text css-truncate-target" title="jenkins-rel-wheeler-6">
                jenkins-rel-wheeler-6
              </span>
            </a>
            <a class="select-menu-item js-navigation-item js-navigation-open "
              href="/h2oai/h2o-3/tree/jenkins-rel-wheeler-5/h2o-py/demos/glrm_census_large.ipynb"
              data-name="jenkins-rel-wheeler-5"
              data-skip-pjax="true"
              rel="nofollow">
              <svg class="octicon octicon-check select-menu-item-icon" viewBox="0 0 12 16" version="1.1" width="12" height="16" aria-hidden="true"><path fill-rule="evenodd" d="M12 5l-8 8-4-4 1.5-1.5L4 10l6.5-6.5L12 5z"/></svg>
              <span class="select-menu-item-text css-truncate-target" title="jenkins-rel-wheeler-5">
                jenkins-rel-wheeler-5
              </span>
            </a>
            <a class="select-menu-item js-navigation-item js-navigation-open "
              href="/h2oai/h2o-3/tree/jenkins-rel-wheeler-4/h2o-py/demos/glrm_census_large.ipynb"
              data-name="jenkins-rel-wheeler-4"
              data-skip-pjax="true"
              rel="nofollow">
              <svg class="octicon octicon-check select-menu-item-icon" viewBox="0 0 12 16" version="1.1" width="12" height="16" aria-hidden="true"><path fill-rule="evenodd" d="M12 5l-8 8-4-4 1.5-1.5L4 10l6.5-6.5L12 5z"/></svg>
              <span class="select-menu-item-text css-truncate-target" title="jenkins-rel-wheeler-4">
                jenkins-rel-wheeler-4
              </span>
            </a>
            <a class="select-menu-item js-navigation-item js-navigation-open "
              href="/h2oai/h2o-3/tree/jenkins-rel-wheeler-3/h2o-py/demos/glrm_census_large.ipynb"
              data-name="jenkins-rel-wheeler-3"
              data-skip-pjax="true"
              rel="nofollow">
              <svg class="octicon octicon-check select-menu-item-icon" viewBox="0 0 12 16" version="1.1" width="12" height="16" aria-hidden="true"><path fill-rule="evenodd" d="M12 5l-8 8-4-4 1.5-1.5L4 10l6.5-6.5L12 5z"/></svg>
              <span class="select-menu-item-text css-truncate-target" title="jenkins-rel-wheeler-3">
                jenkins-rel-wheeler-3
              </span>
            </a>
            <a class="select-menu-item js-navigation-item js-navigation-open "
              href="/h2oai/h2o-3/tree/jenkins-rel-wheeler-2/h2o-py/demos/glrm_census_large.ipynb"
              data-name="jenkins-rel-wheeler-2"
              data-skip-pjax="true"
              rel="nofollow">
              <svg class="octicon octicon-check select-menu-item-icon" viewBox="0 0 12 16" version="1.1" width="12" height="16" aria-hidden="true"><path fill-rule="evenodd" d="M12 5l-8 8-4-4 1.5-1.5L4 10l6.5-6.5L12 5z"/></svg>
              <span class="select-menu-item-text css-truncate-target" title="jenkins-rel-wheeler-2">
                jenkins-rel-wheeler-2
              </span>
            </a>
            <a class="select-menu-item js-navigation-item js-navigation-open "
              href="/h2oai/h2o-3/tree/jenkins-rel-wheeler-1/h2o-py/demos/glrm_census_large.ipynb"
              data-name="jenkins-rel-wheeler-1"
              data-skip-pjax="true"
              rel="nofollow">
              <svg class="octicon octicon-check select-menu-item-icon" viewBox="0 0 12 16" version="1.1" width="12" height="16" aria-hidden="true"><path fill-rule="evenodd" d="M12 5l-8 8-4-4 1.5-1.5L4 10l6.5-6.5L12 5z"/></svg>
              <span class="select-menu-item-text css-truncate-target" title="jenkins-rel-wheeler-1">
                jenkins-rel-wheeler-1
              </span>
            </a>
            <a class="select-menu-item js-navigation-item js-navigation-open "
              href="/h2oai/h2o-3/tree/jenkins-rel-weierstrass-7/h2o-py/demos/glrm_census_large.ipynb"
              data-name="jenkins-rel-weierstrass-7"
              data-skip-pjax="true"
              rel="nofollow">
              <svg class="octicon octicon-check select-menu-item-icon" viewBox="0 0 12 16" version="1.1" width="12" height="16" aria-hidden="true"><path fill-rule="evenodd" d="M12 5l-8 8-4-4 1.5-1.5L4 10l6.5-6.5L12 5z"/></svg>
              <span class="select-menu-item-text css-truncate-target" title="jenkins-rel-weierstrass-7">
                jenkins-rel-weierstrass-7
              </span>
            </a>
            <a class="select-menu-item js-navigation-item js-navigation-open "
              href="/h2oai/h2o-3/tree/jenkins-rel-weierstrass-6/h2o-py/demos/glrm_census_large.ipynb"
              data-name="jenkins-rel-weierstrass-6"
              data-skip-pjax="true"
              rel="nofollow">
              <svg class="octicon octicon-check select-menu-item-icon" viewBox="0 0 12 16" version="1.1" width="12" height="16" aria-hidden="true"><path fill-rule="evenodd" d="M12 5l-8 8-4-4 1.5-1.5L4 10l6.5-6.5L12 5z"/></svg>
              <span class="select-menu-item-text css-truncate-target" title="jenkins-rel-weierstrass-6">
                jenkins-rel-weierstrass-6
              </span>
            </a>
            <a class="select-menu-item js-navigation-item js-navigation-open "
              href="/h2oai/h2o-3/tree/jenkins-rel-weierstrass-5/h2o-py/demos/glrm_census_large.ipynb"
              data-name="jenkins-rel-weierstrass-5"
              data-skip-pjax="true"
              rel="nofollow">
              <svg class="octicon octicon-check select-menu-item-icon" viewBox="0 0 12 16" version="1.1" width="12" height="16" aria-hidden="true"><path fill-rule="evenodd" d="M12 5l-8 8-4-4 1.5-1.5L4 10l6.5-6.5L12 5z"/></svg>
              <span class="select-menu-item-text css-truncate-target" title="jenkins-rel-weierstrass-5">
                jenkins-rel-weierstrass-5
              </span>
            </a>
            <a class="select-menu-item js-navigation-item js-navigation-open "
              href="/h2oai/h2o-3/tree/jenkins-rel-weierstrass-4/h2o-py/demos/glrm_census_large.ipynb"
              data-name="jenkins-rel-weierstrass-4"
              data-skip-pjax="true"
              rel="nofollow">
              <svg class="octicon octicon-check select-menu-item-icon" viewBox="0 0 12 16" version="1.1" width="12" height="16" aria-hidden="true"><path fill-rule="evenodd" d="M12 5l-8 8-4-4 1.5-1.5L4 10l6.5-6.5L12 5z"/></svg>
              <span class="select-menu-item-text css-truncate-target" title="jenkins-rel-weierstrass-4">
                jenkins-rel-weierstrass-4
              </span>
            </a>
            <a class="select-menu-item js-navigation-item js-navigation-open "
              href="/h2oai/h2o-3/tree/jenkins-rel-weierstrass-3/h2o-py/demos/glrm_census_large.ipynb"
              data-name="jenkins-rel-weierstrass-3"
              data-skip-pjax="true"
              rel="nofollow">
              <svg class="octicon octicon-check select-menu-item-icon" viewBox="0 0 12 16" version="1.1" width="12" height="16" aria-hidden="true"><path fill-rule="evenodd" d="M12 5l-8 8-4-4 1.5-1.5L4 10l6.5-6.5L12 5z"/></svg>
              <span class="select-menu-item-text css-truncate-target" title="jenkins-rel-weierstrass-3">
                jenkins-rel-weierstrass-3
              </span>
            </a>
            <a class="select-menu-item js-navigation-item js-navigation-open "
              href="/h2oai/h2o-3/tree/jenkins-rel-weierstrass-2/h2o-py/demos/glrm_census_large.ipynb"
              data-name="jenkins-rel-weierstrass-2"
              data-skip-pjax="true"
              rel="nofollow">
              <svg class="octicon octicon-check select-menu-item-icon" viewBox="0 0 12 16" version="1.1" width="12" height="16" aria-hidden="true"><path fill-rule="evenodd" d="M12 5l-8 8-4-4 1.5-1.5L4 10l6.5-6.5L12 5z"/></svg>
              <span class="select-menu-item-text css-truncate-target" title="jenkins-rel-weierstrass-2">
                jenkins-rel-weierstrass-2
              </span>
            </a>
            <a class="select-menu-item js-navigation-item js-navigation-open "
              href="/h2oai/h2o-3/tree/jenkins-rel-weierstrass-1/h2o-py/demos/glrm_census_large.ipynb"
              data-name="jenkins-rel-weierstrass-1"
              data-skip-pjax="true"
              rel="nofollow">
              <svg class="octicon octicon-check select-menu-item-icon" viewBox="0 0 12 16" version="1.1" width="12" height="16" aria-hidden="true"><path fill-rule="evenodd" d="M12 5l-8 8-4-4 1.5-1.5L4 10l6.5-6.5L12 5z"/></svg>
              <span class="select-menu-item-text css-truncate-target" title="jenkins-rel-weierstrass-1">
                jenkins-rel-weierstrass-1
              </span>
            </a>
            <a class="select-menu-item js-navigation-item js-navigation-open "
              href="/h2oai/h2o-3/tree/jenkins-rel-vapnik-1/h2o-py/demos/glrm_census_large.ipynb"
              data-name="jenkins-rel-vapnik-1"
              data-skip-pjax="true"
              rel="nofollow">
              <svg class="octicon octicon-check select-menu-item-icon" viewBox="0 0 12 16" version="1.1" width="12" height="16" aria-hidden="true"><path fill-rule="evenodd" d="M12 5l-8 8-4-4 1.5-1.5L4 10l6.5-6.5L12 5z"/></svg>
              <span class="select-menu-item-text css-truncate-target" title="jenkins-rel-vapnik-1">
                jenkins-rel-vapnik-1
              </span>
            </a>
            <a class="select-menu-item js-navigation-item js-navigation-open "
              href="/h2oai/h2o-3/tree/jenkins-rel-vajda-4/h2o-py/demos/glrm_census_large.ipynb"
              data-name="jenkins-rel-vajda-4"
              data-skip-pjax="true"
              rel="nofollow">
              <svg class="octicon octicon-check select-menu-item-icon" viewBox="0 0 12 16" version="1.1" width="12" height="16" aria-hidden="true"><path fill-rule="evenodd" d="M12 5l-8 8-4-4 1.5-1.5L4 10l6.5-6.5L12 5z"/></svg>
              <span class="select-menu-item-text css-truncate-target" title="jenkins-rel-vajda-4">
                jenkins-rel-vajda-4
              </span>
            </a>
            <a class="select-menu-item js-navigation-item js-navigation-open "
              href="/h2oai/h2o-3/tree/jenkins-rel-vajda-3/h2o-py/demos/glrm_census_large.ipynb"
              data-name="jenkins-rel-vajda-3"
              data-skip-pjax="true"
              rel="nofollow">
              <svg class="octicon octicon-check select-menu-item-icon" viewBox="0 0 12 16" version="1.1" width="12" height="16" aria-hidden="true"><path fill-rule="evenodd" d="M12 5l-8 8-4-4 1.5-1.5L4 10l6.5-6.5L12 5z"/></svg>
              <span class="select-menu-item-text css-truncate-target" title="jenkins-rel-vajda-3">
                jenkins-rel-vajda-3
              </span>
            </a>
            <a class="select-menu-item js-navigation-item js-navigation-open "
              href="/h2oai/h2o-3/tree/jenkins-rel-vajda-2/h2o-py/demos/glrm_census_large.ipynb"
              data-name="jenkins-rel-vajda-2"
              data-skip-pjax="true"
              rel="nofollow">
              <svg class="octicon octicon-check select-menu-item-icon" viewBox="0 0 12 16" version="1.1" width="12" height="16" aria-hidden="true"><path fill-rule="evenodd" d="M12 5l-8 8-4-4 1.5-1.5L4 10l6.5-6.5L12 5z"/></svg>
              <span class="select-menu-item-text css-truncate-target" title="jenkins-rel-vajda-2">
                jenkins-rel-vajda-2
              </span>
            </a>
            <a class="select-menu-item js-navigation-item js-navigation-open "
              href="/h2oai/h2o-3/tree/jenkins-rel-vajda-1/h2o-py/demos/glrm_census_large.ipynb"
              data-name="jenkins-rel-vajda-1"
              data-skip-pjax="true"
              rel="nofollow">
              <svg class="octicon octicon-check select-menu-item-icon" viewBox="0 0 12 16" version="1.1" width="12" height="16" aria-hidden="true"><path fill-rule="evenodd" d="M12 5l-8 8-4-4 1.5-1.5L4 10l6.5-6.5L12 5z"/></svg>
              <span class="select-menu-item-text css-truncate-target" title="jenkins-rel-vajda-1">
                jenkins-rel-vajda-1
              </span>
            </a>
            <a class="select-menu-item js-navigation-item js-navigation-open "
              href="/h2oai/h2o-3/tree/jenkins-rel-ueno-12/h2o-py/demos/glrm_census_large.ipynb"
              data-name="jenkins-rel-ueno-12"
              data-skip-pjax="true"
              rel="nofollow">
              <svg class="octicon octicon-check select-menu-item-icon" viewBox="0 0 12 16" version="1.1" width="12" height="16" aria-hidden="true"><path fill-rule="evenodd" d="M12 5l-8 8-4-4 1.5-1.5L4 10l6.5-6.5L12 5z"/></svg>
              <span class="select-menu-item-text css-truncate-target" title="jenkins-rel-ueno-12">
                jenkins-rel-ueno-12
              </span>
            </a>
            <a class="select-menu-item js-navigation-item js-navigation-open "
              href="/h2oai/h2o-3/tree/jenkins-rel-ueno-11/h2o-py/demos/glrm_census_large.ipynb"
              data-name="jenkins-rel-ueno-11"
              data-skip-pjax="true"
              rel="nofollow">
              <svg class="octicon octicon-check select-menu-item-icon" viewBox="0 0 12 16" version="1.1" width="12" height="16" aria-hidden="true"><path fill-rule="evenodd" d="M12 5l-8 8-4-4 1.5-1.5L4 10l6.5-6.5L12 5z"/></svg>
              <span class="select-menu-item-text css-truncate-target" title="jenkins-rel-ueno-11">
                jenkins-rel-ueno-11
              </span>
            </a>
            <a class="select-menu-item js-navigation-item js-navigation-open "
              href="/h2oai/h2o-3/tree/jenkins-rel-ueno-10/h2o-py/demos/glrm_census_large.ipynb"
              data-name="jenkins-rel-ueno-10"
              data-skip-pjax="true"
              rel="nofollow">
              <svg class="octicon octicon-check select-menu-item-icon" viewBox="0 0 12 16" version="1.1" width="12" height="16" aria-hidden="true"><path fill-rule="evenodd" d="M12 5l-8 8-4-4 1.5-1.5L4 10l6.5-6.5L12 5z"/></svg>
              <span class="select-menu-item-text css-truncate-target" title="jenkins-rel-ueno-10">
                jenkins-rel-ueno-10
              </span>
            </a>
            <a class="select-menu-item js-navigation-item js-navigation-open "
              href="/h2oai/h2o-3/tree/jenkins-rel-ueno-9/h2o-py/demos/glrm_census_large.ipynb"
              data-name="jenkins-rel-ueno-9"
              data-skip-pjax="true"
              rel="nofollow">
              <svg class="octicon octicon-check select-menu-item-icon" viewBox="0 0 12 16" version="1.1" width="12" height="16" aria-hidden="true"><path fill-rule="evenodd" d="M12 5l-8 8-4-4 1.5-1.5L4 10l6.5-6.5L12 5z"/></svg>
              <span class="select-menu-item-text css-truncate-target" title="jenkins-rel-ueno-9">
                jenkins-rel-ueno-9
              </span>
            </a>
            <a class="select-menu-item js-navigation-item js-navigation-open "
              href="/h2oai/h2o-3/tree/jenkins-rel-ueno-8/h2o-py/demos/glrm_census_large.ipynb"
              data-name="jenkins-rel-ueno-8"
              data-skip-pjax="true"
              rel="nofollow">
              <svg class="octicon octicon-check select-menu-item-icon" viewBox="0 0 12 16" version="1.1" width="12" height="16" aria-hidden="true"><path fill-rule="evenodd" d="M12 5l-8 8-4-4 1.5-1.5L4 10l6.5-6.5L12 5z"/></svg>
              <span class="select-menu-item-text css-truncate-target" title="jenkins-rel-ueno-8">
                jenkins-rel-ueno-8
              </span>
            </a>
            <a class="select-menu-item js-navigation-item js-navigation-open "
              href="/h2oai/h2o-3/tree/jenkins-rel-ueno-7/h2o-py/demos/glrm_census_large.ipynb"
              data-name="jenkins-rel-ueno-7"
              data-skip-pjax="true"
              rel="nofollow">
              <svg class="octicon octicon-check select-menu-item-icon" viewBox="0 0 12 16" version="1.1" width="12" height="16" aria-hidden="true"><path fill-rule="evenodd" d="M12 5l-8 8-4-4 1.5-1.5L4 10l6.5-6.5L12 5z"/></svg>
              <span class="select-menu-item-text css-truncate-target" title="jenkins-rel-ueno-7">
                jenkins-rel-ueno-7
              </span>
            </a>
            <a class="select-menu-item js-navigation-item js-navigation-open "
              href="/h2oai/h2o-3/tree/jenkins-rel-ueno-6/h2o-py/demos/glrm_census_large.ipynb"
              data-name="jenkins-rel-ueno-6"
              data-skip-pjax="true"
              rel="nofollow">
              <svg class="octicon octicon-check select-menu-item-icon" viewBox="0 0 12 16" version="1.1" width="12" height="16" aria-hidden="true"><path fill-rule="evenodd" d="M12 5l-8 8-4-4 1.5-1.5L4 10l6.5-6.5L12 5z"/></svg>
              <span class="select-menu-item-text css-truncate-target" title="jenkins-rel-ueno-6">
                jenkins-rel-ueno-6
              </span>
            </a>
            <a class="select-menu-item js-navigation-item js-navigation-open "
              href="/h2oai/h2o-3/tree/jenkins-rel-ueno-5/h2o-py/demos/glrm_census_large.ipynb"
              data-name="jenkins-rel-ueno-5"
              data-skip-pjax="true"
              rel="nofollow">
              <svg class="octicon octicon-check select-menu-item-icon" viewBox="0 0 12 16" version="1.1" width="12" height="16" aria-hidden="true"><path fill-rule="evenodd" d="M12 5l-8 8-4-4 1.5-1.5L4 10l6.5-6.5L12 5z"/></svg>
              <span class="select-menu-item-text css-truncate-target" title="jenkins-rel-ueno-5">
                jenkins-rel-ueno-5
              </span>
            </a>
            <a class="select-menu-item js-navigation-item js-navigation-open "
              href="/h2oai/h2o-3/tree/jenkins-rel-ueno-4/h2o-py/demos/glrm_census_large.ipynb"
              data-name="jenkins-rel-ueno-4"
              data-skip-pjax="true"
              rel="nofollow">
              <svg class="octicon octicon-check select-menu-item-icon" viewBox="0 0 12 16" version="1.1" width="12" height="16" aria-hidden="true"><path fill-rule="evenodd" d="M12 5l-8 8-4-4 1.5-1.5L4 10l6.5-6.5L12 5z"/></svg>
              <span class="select-menu-item-text css-truncate-target" title="jenkins-rel-ueno-4">
                jenkins-rel-ueno-4
              </span>
            </a>
            <a class="select-menu-item js-navigation-item js-navigation-open "
              href="/h2oai/h2o-3/tree/jenkins-rel-ueno-3/h2o-py/demos/glrm_census_large.ipynb"
              data-name="jenkins-rel-ueno-3"
              data-skip-pjax="true"
              rel="nofollow">
              <svg class="octicon octicon-check select-menu-item-icon" viewBox="0 0 12 16" version="1.1" width="12" height="16" aria-hidden="true"><path fill-rule="evenodd" d="M12 5l-8 8-4-4 1.5-1.5L4 10l6.5-6.5L12 5z"/></svg>
              <span class="select-menu-item-text css-truncate-target" title="jenkins-rel-ueno-3">
                jenkins-rel-ueno-3
              </span>
            </a>
            <a class="select-menu-item js-navigation-item js-navigation-open "
              href="/h2oai/h2o-3/tree/jenkins-rel-ueno-2/h2o-py/demos/glrm_census_large.ipynb"
              data-name="jenkins-rel-ueno-2"
              data-skip-pjax="true"
              rel="nofollow">
              <svg class="octicon octicon-check select-menu-item-icon" viewBox="0 0 12 16" version="1.1" width="12" height="16" aria-hidden="true"><path fill-rule="evenodd" d="M12 5l-8 8-4-4 1.5-1.5L4 10l6.5-6.5L12 5z"/></svg>
              <span class="select-menu-item-text css-truncate-target" title="jenkins-rel-ueno-2">
                jenkins-rel-ueno-2
              </span>
            </a>
            <a class="select-menu-item js-navigation-item js-navigation-open "
              href="/h2oai/h2o-3/tree/jenkins-rel-ueno-1/h2o-py/demos/glrm_census_large.ipynb"
              data-name="jenkins-rel-ueno-1"
              data-skip-pjax="true"
              rel="nofollow">
              <svg class="octicon octicon-check select-menu-item-icon" viewBox="0 0 12 16" version="1.1" width="12" height="16" aria-hidden="true"><path fill-rule="evenodd" d="M12 5l-8 8-4-4 1.5-1.5L4 10l6.5-6.5L12 5z"/></svg>
              <span class="select-menu-item-text css-truncate-target" title="jenkins-rel-ueno-1">
                jenkins-rel-ueno-1
              </span>
            </a>
            <a class="select-menu-item js-navigation-item js-navigation-open "
              href="/h2oai/h2o-3/tree/jenkins-rel-tverberg-6/h2o-py/demos/glrm_census_large.ipynb"
              data-name="jenkins-rel-tverberg-6"
              data-skip-pjax="true"
              rel="nofollow">
              <svg class="octicon octicon-check select-menu-item-icon" viewBox="0 0 12 16" version="1.1" width="12" height="16" aria-hidden="true"><path fill-rule="evenodd" d="M12 5l-8 8-4-4 1.5-1.5L4 10l6.5-6.5L12 5z"/></svg>
              <span class="select-menu-item-text css-truncate-target" title="jenkins-rel-tverberg-6">
                jenkins-rel-tverberg-6
              </span>
            </a>
            <a class="select-menu-item js-navigation-item js-navigation-open "
              href="/h2oai/h2o-3/tree/jenkins-rel-tverberg-5/h2o-py/demos/glrm_census_large.ipynb"
              data-name="jenkins-rel-tverberg-5"
              data-skip-pjax="true"
              rel="nofollow">
              <svg class="octicon octicon-check select-menu-item-icon" viewBox="0 0 12 16" version="1.1" width="12" height="16" aria-hidden="true"><path fill-rule="evenodd" d="M12 5l-8 8-4-4 1.5-1.5L4 10l6.5-6.5L12 5z"/></svg>
              <span class="select-menu-item-text css-truncate-target" title="jenkins-rel-tverberg-5">
                jenkins-rel-tverberg-5
              </span>
            </a>
            <a class="select-menu-item js-navigation-item js-navigation-open "
              href="/h2oai/h2o-3/tree/jenkins-rel-tverberg-4/h2o-py/demos/glrm_census_large.ipynb"
              data-name="jenkins-rel-tverberg-4"
              data-skip-pjax="true"
              rel="nofollow">
              <svg class="octicon octicon-check select-menu-item-icon" viewBox="0 0 12 16" version="1.1" width="12" height="16" aria-hidden="true"><path fill-rule="evenodd" d="M12 5l-8 8-4-4 1.5-1.5L4 10l6.5-6.5L12 5z"/></svg>
              <span class="select-menu-item-text css-truncate-target" title="jenkins-rel-tverberg-4">
                jenkins-rel-tverberg-4
              </span>
            </a>
            <a class="select-menu-item js-navigation-item js-navigation-open "
              href="/h2oai/h2o-3/tree/jenkins-rel-tverberg-3/h2o-py/demos/glrm_census_large.ipynb"
              data-name="jenkins-rel-tverberg-3"
              data-skip-pjax="true"
              rel="nofollow">
              <svg class="octicon octicon-check select-menu-item-icon" viewBox="0 0 12 16" version="1.1" width="12" height="16" aria-hidden="true"><path fill-rule="evenodd" d="M12 5l-8 8-4-4 1.5-1.5L4 10l6.5-6.5L12 5z"/></svg>
              <span class="select-menu-item-text css-truncate-target" title="jenkins-rel-tverberg-3">
                jenkins-rel-tverberg-3
              </span>
            </a>
            <a class="select-menu-item js-navigation-item js-navigation-open "
              href="/h2oai/h2o-3/tree/jenkins-rel-tverberg-2/h2o-py/demos/glrm_census_large.ipynb"
              data-name="jenkins-rel-tverberg-2"
              data-skip-pjax="true"
              rel="nofollow">
              <svg class="octicon octicon-check select-menu-item-icon" viewBox="0 0 12 16" version="1.1" width="12" height="16" aria-hidden="true"><path fill-rule="evenodd" d="M12 5l-8 8-4-4 1.5-1.5L4 10l6.5-6.5L12 5z"/></svg>
              <span class="select-menu-item-text css-truncate-target" title="jenkins-rel-tverberg-2">
                jenkins-rel-tverberg-2
              </span>
            </a>
            <a class="select-menu-item js-navigation-item js-navigation-open "
              href="/h2oai/h2o-3/tree/jenkins-rel-tverberg-1/h2o-py/demos/glrm_census_large.ipynb"
              data-name="jenkins-rel-tverberg-1"
              data-skip-pjax="true"
              rel="nofollow">
              <svg class="octicon octicon-check select-menu-item-icon" viewBox="0 0 12 16" version="1.1" width="12" height="16" aria-hidden="true"><path fill-rule="evenodd" d="M12 5l-8 8-4-4 1.5-1.5L4 10l6.5-6.5L12 5z"/></svg>
              <span class="select-menu-item-text css-truncate-target" title="jenkins-rel-tverberg-1">
                jenkins-rel-tverberg-1
              </span>
            </a>
            <a class="select-menu-item js-navigation-item js-navigation-open "
              href="/h2oai/h2o-3/tree/jenkins-rel-tutte-2/h2o-py/demos/glrm_census_large.ipynb"
              data-name="jenkins-rel-tutte-2"
              data-skip-pjax="true"
              rel="nofollow">
              <svg class="octicon octicon-check select-menu-item-icon" viewBox="0 0 12 16" version="1.1" width="12" height="16" aria-hidden="true"><path fill-rule="evenodd" d="M12 5l-8 8-4-4 1.5-1.5L4 10l6.5-6.5L12 5z"/></svg>
              <span class="select-menu-item-text css-truncate-target" title="jenkins-rel-tutte-2">
                jenkins-rel-tutte-2
              </span>
            </a>
            <a class="select-menu-item js-navigation-item js-navigation-open "
              href="/h2oai/h2o-3/tree/jenkins-rel-tutte-1/h2o-py/demos/glrm_census_large.ipynb"
              data-name="jenkins-rel-tutte-1"
              data-skip-pjax="true"
              rel="nofollow">
              <svg class="octicon octicon-check select-menu-item-icon" viewBox="0 0 12 16" version="1.1" width="12" height="16" aria-hidden="true"><path fill-rule="evenodd" d="M12 5l-8 8-4-4 1.5-1.5L4 10l6.5-6.5L12 5z"/></svg>
              <span class="select-menu-item-text css-truncate-target" title="jenkins-rel-tutte-1">
                jenkins-rel-tutte-1
              </span>
            </a>
            <a class="select-menu-item js-navigation-item js-navigation-open "
              href="/h2oai/h2o-3/tree/jenkins-rel-turnbull-2/h2o-py/demos/glrm_census_large.ipynb"
              data-name="jenkins-rel-turnbull-2"
              data-skip-pjax="true"
              rel="nofollow">
              <svg class="octicon octicon-check select-menu-item-icon" viewBox="0 0 12 16" version="1.1" width="12" height="16" aria-hidden="true"><path fill-rule="evenodd" d="M12 5l-8 8-4-4 1.5-1.5L4 10l6.5-6.5L12 5z"/></svg>
              <span class="select-menu-item-text css-truncate-target" title="jenkins-rel-turnbull-2">
                jenkins-rel-turnbull-2
              </span>
            </a>
            <a class="select-menu-item js-navigation-item js-navigation-open "
              href="/h2oai/h2o-3/tree/jenkins-rel-turnbull-1/h2o-py/demos/glrm_census_large.ipynb"
              data-name="jenkins-rel-turnbull-1"
              data-skip-pjax="true"
              rel="nofollow">
              <svg class="octicon octicon-check select-menu-item-icon" viewBox="0 0 12 16" version="1.1" width="12" height="16" aria-hidden="true"><path fill-rule="evenodd" d="M12 5l-8 8-4-4 1.5-1.5L4 10l6.5-6.5L12 5z"/></svg>
              <span class="select-menu-item-text css-truncate-target" title="jenkins-rel-turnbull-1">
                jenkins-rel-turnbull-1
              </span>
            </a>
            <a class="select-menu-item js-navigation-item js-navigation-open "
              href="/h2oai/h2o-3/tree/jenkins-rel-turing-10/h2o-py/demos/glrm_census_large.ipynb"
              data-name="jenkins-rel-turing-10"
              data-skip-pjax="true"
              rel="nofollow">
              <svg class="octicon octicon-check select-menu-item-icon" viewBox="0 0 12 16" version="1.1" width="12" height="16" aria-hidden="true"><path fill-rule="evenodd" d="M12 5l-8 8-4-4 1.5-1.5L4 10l6.5-6.5L12 5z"/></svg>
              <span class="select-menu-item-text css-truncate-target" title="jenkins-rel-turing-10">
                jenkins-rel-turing-10
              </span>
            </a>
            <a class="select-menu-item js-navigation-item js-navigation-open "
              href="/h2oai/h2o-3/tree/jenkins-rel-turing-9/h2o-py/demos/glrm_census_large.ipynb"
              data-name="jenkins-rel-turing-9"
              data-skip-pjax="true"
              rel="nofollow">
              <svg class="octicon octicon-check select-menu-item-icon" viewBox="0 0 12 16" version="1.1" width="12" height="16" aria-hidden="true"><path fill-rule="evenodd" d="M12 5l-8 8-4-4 1.5-1.5L4 10l6.5-6.5L12 5z"/></svg>
              <span class="select-menu-item-text css-truncate-target" title="jenkins-rel-turing-9">
                jenkins-rel-turing-9
              </span>
            </a>
            <a class="select-menu-item js-navigation-item js-navigation-open "
              href="/h2oai/h2o-3/tree/jenkins-rel-turing-8/h2o-py/demos/glrm_census_large.ipynb"
              data-name="jenkins-rel-turing-8"
              data-skip-pjax="true"
              rel="nofollow">
              <svg class="octicon octicon-check select-menu-item-icon" viewBox="0 0 12 16" version="1.1" width="12" height="16" aria-hidden="true"><path fill-rule="evenodd" d="M12 5l-8 8-4-4 1.5-1.5L4 10l6.5-6.5L12 5z"/></svg>
              <span class="select-menu-item-text css-truncate-target" title="jenkins-rel-turing-8">
                jenkins-rel-turing-8
              </span>
            </a>
            <a class="select-menu-item js-navigation-item js-navigation-open "
              href="/h2oai/h2o-3/tree/jenkins-rel-turing-7/h2o-py/demos/glrm_census_large.ipynb"
              data-name="jenkins-rel-turing-7"
              data-skip-pjax="true"
              rel="nofollow">
              <svg class="octicon octicon-check select-menu-item-icon" viewBox="0 0 12 16" version="1.1" width="12" height="16" aria-hidden="true"><path fill-rule="evenodd" d="M12 5l-8 8-4-4 1.5-1.5L4 10l6.5-6.5L12 5z"/></svg>
              <span class="select-menu-item-text css-truncate-target" title="jenkins-rel-turing-7">
                jenkins-rel-turing-7
              </span>
            </a>
            <a class="select-menu-item js-navigation-item js-navigation-open "
              href="/h2oai/h2o-3/tree/jenkins-rel-turing-6/h2o-py/demos/glrm_census_large.ipynb"
              data-name="jenkins-rel-turing-6"
              data-skip-pjax="true"
              rel="nofollow">
              <svg class="octicon octicon-check select-menu-item-icon" viewBox="0 0 12 16" version="1.1" width="12" height="16" aria-hidden="true"><path fill-rule="evenodd" d="M12 5l-8 8-4-4 1.5-1.5L4 10l6.5-6.5L12 5z"/></svg>
              <span class="select-menu-item-text css-truncate-target" title="jenkins-rel-turing-6">
                jenkins-rel-turing-6
              </span>
            </a>
            <a class="select-menu-item js-navigation-item js-navigation-open "
              href="/h2oai/h2o-3/tree/jenkins-rel-turing-5/h2o-py/demos/glrm_census_large.ipynb"
              data-name="jenkins-rel-turing-5"
              data-skip-pjax="true"
              rel="nofollow">
              <svg class="octicon octicon-check select-menu-item-icon" viewBox="0 0 12 16" version="1.1" width="12" height="16" aria-hidden="true"><path fill-rule="evenodd" d="M12 5l-8 8-4-4 1.5-1.5L4 10l6.5-6.5L12 5z"/></svg>
              <span class="select-menu-item-text css-truncate-target" title="jenkins-rel-turing-5">
                jenkins-rel-turing-5
              </span>
            </a>
            <a class="select-menu-item js-navigation-item js-navigation-open "
              href="/h2oai/h2o-3/tree/jenkins-rel-turing-4/h2o-py/demos/glrm_census_large.ipynb"
              data-name="jenkins-rel-turing-4"
              data-skip-pjax="true"
              rel="nofollow">
              <svg class="octicon octicon-check select-menu-item-icon" viewBox="0 0 12 16" version="1.1" width="12" height="16" aria-hidden="true"><path fill-rule="evenodd" d="M12 5l-8 8-4-4 1.5-1.5L4 10l6.5-6.5L12 5z"/></svg>
              <span class="select-menu-item-text css-truncate-target" title="jenkins-rel-turing-4">
                jenkins-rel-turing-4
              </span>
            </a>
            <a class="select-menu-item js-navigation-item js-navigation-open "
              href="/h2oai/h2o-3/tree/jenkins-rel-turing-3/h2o-py/demos/glrm_census_large.ipynb"
              data-name="jenkins-rel-turing-3"
              data-skip-pjax="true"
              rel="nofollow">
              <svg class="octicon octicon-check select-menu-item-icon" viewBox="0 0 12 16" version="1.1" width="12" height="16" aria-hidden="true"><path fill-rule="evenodd" d="M12 5l-8 8-4-4 1.5-1.5L4 10l6.5-6.5L12 5z"/></svg>
              <span class="select-menu-item-text css-truncate-target" title="jenkins-rel-turing-3">
                jenkins-rel-turing-3
              </span>
            </a>
            <a class="select-menu-item js-navigation-item js-navigation-open "
              href="/h2oai/h2o-3/tree/jenkins-rel-turing-2/h2o-py/demos/glrm_census_large.ipynb"
              data-name="jenkins-rel-turing-2"
              data-skip-pjax="true"
              rel="nofollow">
              <svg class="octicon octicon-check select-menu-item-icon" viewBox="0 0 12 16" version="1.1" width="12" height="16" aria-hidden="true"><path fill-rule="evenodd" d="M12 5l-8 8-4-4 1.5-1.5L4 10l6.5-6.5L12 5z"/></svg>
              <span class="select-menu-item-text css-truncate-target" title="jenkins-rel-turing-2">
                jenkins-rel-turing-2
              </span>
            </a>
            <a class="select-menu-item js-navigation-item js-navigation-open "
              href="/h2oai/h2o-3/tree/jenkins-rel-turing-1/h2o-py/demos/glrm_census_large.ipynb"
              data-name="jenkins-rel-turing-1"
              data-skip-pjax="true"
              rel="nofollow">
              <svg class="octicon octicon-check select-menu-item-icon" viewBox="0 0 12 16" version="1.1" width="12" height="16" aria-hidden="true"><path fill-rule="evenodd" d="M12 5l-8 8-4-4 1.5-1.5L4 10l6.5-6.5L12 5z"/></svg>
              <span class="select-menu-item-text css-truncate-target" title="jenkins-rel-turing-1">
                jenkins-rel-turing-1
              </span>
            </a>
            <a class="select-menu-item js-navigation-item js-navigation-open "
              href="/h2oai/h2o-3/tree/jenkins-rel-turin-4/h2o-py/demos/glrm_census_large.ipynb"
              data-name="jenkins-rel-turin-4"
              data-skip-pjax="true"
              rel="nofollow">
              <svg class="octicon octicon-check select-menu-item-icon" viewBox="0 0 12 16" version="1.1" width="12" height="16" aria-hidden="true"><path fill-rule="evenodd" d="M12 5l-8 8-4-4 1.5-1.5L4 10l6.5-6.5L12 5z"/></svg>
              <span class="select-menu-item-text css-truncate-target" title="jenkins-rel-turin-4">
                jenkins-rel-turin-4
              </span>
            </a>
            <a class="select-menu-item js-navigation-item js-navigation-open "
              href="/h2oai/h2o-3/tree/jenkins-rel-turin-3/h2o-py/demos/glrm_census_large.ipynb"
              data-name="jenkins-rel-turin-3"
              data-skip-pjax="true"
              rel="nofollow">
              <svg class="octicon octicon-check select-menu-item-icon" viewBox="0 0 12 16" version="1.1" width="12" height="16" aria-hidden="true"><path fill-rule="evenodd" d="M12 5l-8 8-4-4 1.5-1.5L4 10l6.5-6.5L12 5z"/></svg>
              <span class="select-menu-item-text css-truncate-target" title="jenkins-rel-turin-3">
                jenkins-rel-turin-3
              </span>
            </a>
            <a class="select-menu-item js-navigation-item js-navigation-open "
              href="/h2oai/h2o-3/tree/jenkins-rel-turin-2/h2o-py/demos/glrm_census_large.ipynb"
              data-name="jenkins-rel-turin-2"
              data-skip-pjax="true"
              rel="nofollow">
              <svg class="octicon octicon-check select-menu-item-icon" viewBox="0 0 12 16" version="1.1" width="12" height="16" aria-hidden="true"><path fill-rule="evenodd" d="M12 5l-8 8-4-4 1.5-1.5L4 10l6.5-6.5L12 5z"/></svg>
              <span class="select-menu-item-text css-truncate-target" title="jenkins-rel-turin-2">
                jenkins-rel-turin-2
              </span>
            </a>
            <a class="select-menu-item js-navigation-item js-navigation-open "
              href="/h2oai/h2o-3/tree/jenkins-rel-turin-1/h2o-py/demos/glrm_census_large.ipynb"
              data-name="jenkins-rel-turin-1"
              data-skip-pjax="true"
              rel="nofollow">
              <svg class="octicon octicon-check select-menu-item-icon" viewBox="0 0 12 16" version="1.1" width="12" height="16" aria-hidden="true"><path fill-rule="evenodd" d="M12 5l-8 8-4-4 1.5-1.5L4 10l6.5-6.5L12 5z"/></svg>
              <span class="select-menu-item-text css-truncate-target" title="jenkins-rel-turin-1">
                jenkins-rel-turin-1
              </span>
            </a>
            <a class="select-menu-item js-navigation-item js-navigation-open "
              href="/h2oai/h2o-3/tree/jenkins-rel-turchin-11/h2o-py/demos/glrm_census_large.ipynb"
              data-name="jenkins-rel-turchin-11"
              data-skip-pjax="true"
              rel="nofollow">
              <svg class="octicon octicon-check select-menu-item-icon" viewBox="0 0 12 16" version="1.1" width="12" height="16" aria-hidden="true"><path fill-rule="evenodd" d="M12 5l-8 8-4-4 1.5-1.5L4 10l6.5-6.5L12 5z"/></svg>
              <span class="select-menu-item-text css-truncate-target" title="jenkins-rel-turchin-11">
                jenkins-rel-turchin-11
              </span>
            </a>
            <a class="select-menu-item js-navigation-item js-navigation-open "
              href="/h2oai/h2o-3/tree/jenkins-rel-turchin-10/h2o-py/demos/glrm_census_large.ipynb"
              data-name="jenkins-rel-turchin-10"
              data-skip-pjax="true"
              rel="nofollow">
              <svg class="octicon octicon-check select-menu-item-icon" viewBox="0 0 12 16" version="1.1" width="12" height="16" aria-hidden="true"><path fill-rule="evenodd" d="M12 5l-8 8-4-4 1.5-1.5L4 10l6.5-6.5L12 5z"/></svg>
              <span class="select-menu-item-text css-truncate-target" title="jenkins-rel-turchin-10">
                jenkins-rel-turchin-10
              </span>
            </a>
            <a class="select-menu-item js-navigation-item js-navigation-open "
              href="/h2oai/h2o-3/tree/jenkins-rel-turchin-9/h2o-py/demos/glrm_census_large.ipynb"
              data-name="jenkins-rel-turchin-9"
              data-skip-pjax="true"
              rel="nofollow">
              <svg class="octicon octicon-check select-menu-item-icon" viewBox="0 0 12 16" version="1.1" width="12" height="16" aria-hidden="true"><path fill-rule="evenodd" d="M12 5l-8 8-4-4 1.5-1.5L4 10l6.5-6.5L12 5z"/></svg>
              <span class="select-menu-item-text css-truncate-target" title="jenkins-rel-turchin-9">
                jenkins-rel-turchin-9
              </span>
            </a>
            <a class="select-menu-item js-navigation-item js-navigation-open "
              href="/h2oai/h2o-3/tree/jenkins-rel-turchin-8/h2o-py/demos/glrm_census_large.ipynb"
              data-name="jenkins-rel-turchin-8"
              data-skip-pjax="true"
              rel="nofollow">
              <svg class="octicon octicon-check select-menu-item-icon" viewBox="0 0 12 16" version="1.1" width="12" height="16" aria-hidden="true"><path fill-rule="evenodd" d="M12 5l-8 8-4-4 1.5-1.5L4 10l6.5-6.5L12 5z"/></svg>
              <span class="select-menu-item-text css-truncate-target" title="jenkins-rel-turchin-8">
                jenkins-rel-turchin-8
              </span>
            </a>
            <a class="select-menu-item js-navigation-item js-navigation-open "
              href="/h2oai/h2o-3/tree/jenkins-rel-turchin-7/h2o-py/demos/glrm_census_large.ipynb"
              data-name="jenkins-rel-turchin-7"
              data-skip-pjax="true"
              rel="nofollow">
              <svg class="octicon octicon-check select-menu-item-icon" viewBox="0 0 12 16" version="1.1" width="12" height="16" aria-hidden="true"><path fill-rule="evenodd" d="M12 5l-8 8-4-4 1.5-1.5L4 10l6.5-6.5L12 5z"/></svg>
              <span class="select-menu-item-text css-truncate-target" title="jenkins-rel-turchin-7">
                jenkins-rel-turchin-7
              </span>
            </a>
            <a class="select-menu-item js-navigation-item js-navigation-open "
              href="/h2oai/h2o-3/tree/jenkins-rel-turchin-6/h2o-py/demos/glrm_census_large.ipynb"
              data-name="jenkins-rel-turchin-6"
              data-skip-pjax="true"
              rel="nofollow">
              <svg class="octicon octicon-check select-menu-item-icon" viewBox="0 0 12 16" version="1.1" width="12" height="16" aria-hidden="true"><path fill-rule="evenodd" d="M12 5l-8 8-4-4 1.5-1.5L4 10l6.5-6.5L12 5z"/></svg>
              <span class="select-menu-item-text css-truncate-target" title="jenkins-rel-turchin-6">
                jenkins-rel-turchin-6
              </span>
            </a>
            <a class="select-menu-item js-navigation-item js-navigation-open "
              href="/h2oai/h2o-3/tree/jenkins-rel-turchin-5/h2o-py/demos/glrm_census_large.ipynb"
              data-name="jenkins-rel-turchin-5"
              data-skip-pjax="true"
              rel="nofollow">
              <svg class="octicon octicon-check select-menu-item-icon" viewBox="0 0 12 16" version="1.1" width="12" height="16" aria-hidden="true"><path fill-rule="evenodd" d="M12 5l-8 8-4-4 1.5-1.5L4 10l6.5-6.5L12 5z"/></svg>
              <span class="select-menu-item-text css-truncate-target" title="jenkins-rel-turchin-5">
                jenkins-rel-turchin-5
              </span>
            </a>
            <a class="select-menu-item js-navigation-item js-navigation-open "
              href="/h2oai/h2o-3/tree/jenkins-rel-turchin-4/h2o-py/demos/glrm_census_large.ipynb"
              data-name="jenkins-rel-turchin-4"
              data-skip-pjax="true"
              rel="nofollow">
              <svg class="octicon octicon-check select-menu-item-icon" viewBox="0 0 12 16" version="1.1" width="12" height="16" aria-hidden="true"><path fill-rule="evenodd" d="M12 5l-8 8-4-4 1.5-1.5L4 10l6.5-6.5L12 5z"/></svg>
              <span class="select-menu-item-text css-truncate-target" title="jenkins-rel-turchin-4">
                jenkins-rel-turchin-4
              </span>
            </a>
            <a class="select-menu-item js-navigation-item js-navigation-open "
              href="/h2oai/h2o-3/tree/jenkins-rel-turchin-3/h2o-py/demos/glrm_census_large.ipynb"
              data-name="jenkins-rel-turchin-3"
              data-skip-pjax="true"
              rel="nofollow">
              <svg class="octicon octicon-check select-menu-item-icon" viewBox="0 0 12 16" version="1.1" width="12" height="16" aria-hidden="true"><path fill-rule="evenodd" d="M12 5l-8 8-4-4 1.5-1.5L4 10l6.5-6.5L12 5z"/></svg>
              <span class="select-menu-item-text css-truncate-target" title="jenkins-rel-turchin-3">
                jenkins-rel-turchin-3
              </span>
            </a>
            <a class="select-menu-item js-navigation-item js-navigation-open "
              href="/h2oai/h2o-3/tree/jenkins-rel-turchin-2/h2o-py/demos/glrm_census_large.ipynb"
              data-name="jenkins-rel-turchin-2"
              data-skip-pjax="true"
              rel="nofollow">
              <svg class="octicon octicon-check select-menu-item-icon" viewBox="0 0 12 16" version="1.1" width="12" height="16" aria-hidden="true"><path fill-rule="evenodd" d="M12 5l-8 8-4-4 1.5-1.5L4 10l6.5-6.5L12 5z"/></svg>
              <span class="select-menu-item-text css-truncate-target" title="jenkins-rel-turchin-2">
                jenkins-rel-turchin-2
              </span>
            </a>
            <a class="select-menu-item js-navigation-item js-navigation-open "
              href="/h2oai/h2o-3/tree/jenkins-rel-turchin-1/h2o-py/demos/glrm_census_large.ipynb"
              data-name="jenkins-rel-turchin-1"
              data-skip-pjax="true"
              rel="nofollow">
              <svg class="octicon octicon-check select-menu-item-icon" viewBox="0 0 12 16" version="1.1" width="12" height="16" aria-hidden="true"><path fill-rule="evenodd" d="M12 5l-8 8-4-4 1.5-1.5L4 10l6.5-6.5L12 5z"/></svg>
              <span class="select-menu-item-text css-truncate-target" title="jenkins-rel-turchin-1">
                jenkins-rel-turchin-1
              </span>
            </a>
            <a class="select-menu-item js-navigation-item js-navigation-open "
              href="/h2oai/h2o-3/tree/jenkins-rel-turan-4/h2o-py/demos/glrm_census_large.ipynb"
              data-name="jenkins-rel-turan-4"
              data-skip-pjax="true"
              rel="nofollow">
              <svg class="octicon octicon-check select-menu-item-icon" viewBox="0 0 12 16" version="1.1" width="12" height="16" aria-hidden="true"><path fill-rule="evenodd" d="M12 5l-8 8-4-4 1.5-1.5L4 10l6.5-6.5L12 5z"/></svg>
              <span class="select-menu-item-text css-truncate-target" title="jenkins-rel-turan-4">
                jenkins-rel-turan-4
              </span>
            </a>
            <a class="select-menu-item js-navigation-item js-navigation-open "
              href="/h2oai/h2o-3/tree/jenkins-rel-turan-3/h2o-py/demos/glrm_census_large.ipynb"
              data-name="jenkins-rel-turan-3"
              data-skip-pjax="true"
              rel="nofollow">
              <svg class="octicon octicon-check select-menu-item-icon" viewBox="0 0 12 16" version="1.1" width="12" height="16" aria-hidden="true"><path fill-rule="evenodd" d="M12 5l-8 8-4-4 1.5-1.5L4 10l6.5-6.5L12 5z"/></svg>
              <span class="select-menu-item-text css-truncate-target" title="jenkins-rel-turan-3">
                jenkins-rel-turan-3
              </span>
            </a>
            <a class="select-menu-item js-navigation-item js-navigation-open "
              href="/h2oai/h2o-3/tree/jenkins-rel-turan-2/h2o-py/demos/glrm_census_large.ipynb"
              data-name="jenkins-rel-turan-2"
              data-skip-pjax="true"
              rel="nofollow">
              <svg class="octicon octicon-check select-menu-item-icon" viewBox="0 0 12 16" version="1.1" width="12" height="16" aria-hidden="true"><path fill-rule="evenodd" d="M12 5l-8 8-4-4 1.5-1.5L4 10l6.5-6.5L12 5z"/></svg>
              <span class="select-menu-item-text css-truncate-target" title="jenkins-rel-turan-2">
                jenkins-rel-turan-2
              </span>
            </a>
            <a class="select-menu-item js-navigation-item js-navigation-open "
              href="/h2oai/h2o-3/tree/jenkins-rel-turan-1/h2o-py/demos/glrm_census_large.ipynb"
              data-name="jenkins-rel-turan-1"
              data-skip-pjax="true"
              rel="nofollow">
              <svg class="octicon octicon-check select-menu-item-icon" viewBox="0 0 12 16" version="1.1" width="12" height="16" aria-hidden="true"><path fill-rule="evenodd" d="M12 5l-8 8-4-4 1.5-1.5L4 10l6.5-6.5L12 5z"/></svg>
              <span class="select-menu-item-text css-truncate-target" title="jenkins-rel-turan-1">
                jenkins-rel-turan-1
              </span>
            </a>
        </div>

        <div class="select-menu-no-results">Nothing to show</div>
      </div>

    </div>
  </div>
</div>

    <div class="BtnGroup float-right">
      <a href="/h2oai/h2o-3/find/master"
            class="js-pjax-capture-input btn btn-sm BtnGroup-item"
            data-pjax
            data-hotkey="t">
        Find file
      </a>
      <clipboard-copy for="blob-path" class="btn btn-sm BtnGroup-item">
        Copy path
      </clipboard-copy>
    </div>
    <div id="blob-path" class="breadcrumb">
      <span class="repo-root js-repo-root"><span class="js-path-segment"><a data-pjax="true" href="/h2oai/h2o-3"><span>h2o-3</span></a></span></span><span class="separator">/</span><span class="js-path-segment"><a data-pjax="true" href="/h2oai/h2o-3/tree/master/h2o-py"><span>h2o-py</span></a></span><span class="separator">/</span><span class="js-path-segment"><a data-pjax="true" href="/h2oai/h2o-3/tree/master/h2o-py/demos"><span>demos</span></a></span><span class="separator">/</span><strong class="final-path">glrm_census_large.ipynb</strong>
    </div>
  </div>


  
  <div class="commit-tease">
      <span class="float-right">
        <a class="commit-tease-sha" href="/h2oai/h2o-3/commit/97a7084e3e11a40f33f4a8f55190729daad07449" data-pjax>
          97a7084
        </a>
        <relative-time datetime="2017-08-10T17:32:25Z">Aug 10, 2017</relative-time>
      </span>
      <div>
        <a rel="contributor" data-skip-pjax="true" data-hovercard-user-id="7231712" data-octo-click="hovercard-link-click" data-octo-dimensions="link_type:self" href="/wendycwong"><img class="avatar" src="https://avatars0.githubusercontent.com/u/7231712?s=40&amp;v=4" width="20" height="20" alt="@wendycwong" /></a>
        <a class="user-mention" rel="contributor" data-hovercard-user-id="7231712" data-octo-click="hovercard-link-click" data-octo-dimensions="link_type:self" href="/wendycwong">wendycwong</a>
          <a data-pjax="true" title="PUBDEV-4702-maxruntime-tests: completed pyunit and runit tests to set… (#1442)

* PUBDEV-4702-maxruntime-tests: completed pyunit and runit tests to set max_runtime_secs for every algo.
PUBDEV-4702: max_runtime_secs.  Added backend code to stop if max_runtime_secs is reached for algo word2vec, pca.
PUBDEV-4702: max_runtime_secs.  Changed iteration to iterations as is more commonly used in scoring_history.

* user guide updates for PUBDEV-4702

- Added max_runtime_secs to list of parameters in Word2vec.
- In the Parameters Appendix entry for max_runtime_secs, added Word2vec
as a supported algorithm." class="message" href="/h2oai/h2o-3/commit/97a7084e3e11a40f33f4a8f55190729daad07449">PUBDEV-4702-maxruntime-tests: completed pyunit and runit tests to set… (</a>
      </div>

    <div class="commit-tease-contributors">
      <button type="button" class="btn-link muted-link contributors-toggle" data-facebox="#blob_contributors_box">
        <strong>6</strong>
         contributors
      </button>
          <a class="avatar-link" data-hovercard-user-id="13318733" data-octo-click="hovercard-link-click" data-octo-dimensions="link_type:self" href="/h2oai/h2o-3/commits/master/h2o-py/demos/glrm_census_large.ipynb?author=ludi317">
      <img class="avatar" src="https://avatars3.githubusercontent.com/u/13318733?s=40&amp;v=4" width="20" height="20" alt="@ludi317" /> 
</a>    <a class="avatar-link" data-hovercard-user-id="1597500" data-octo-click="hovercard-link-click" data-octo-dimensions="link_type:self" href="/h2oai/h2o-3/commits/master/h2o-py/demos/glrm_census_large.ipynb?author=spennihana">
      <img class="avatar" src="https://avatars2.githubusercontent.com/u/1597500?s=40&amp;v=4" width="20" height="20" alt="@spennihana" /> 
</a>    <a class="avatar-link" data-hovercard-user-id="8986885" data-octo-click="hovercard-link-click" data-octo-dimensions="link_type:self" href="/h2oai/h2o-3/commits/master/h2o-py/demos/glrm_census_large.ipynb?author=ericeckstrand">
      <img class="avatar" src="https://avatars0.githubusercontent.com/u/8986885?s=40&amp;v=4" width="20" height="20" alt="@ericeckstrand" /> 
</a>    <a class="avatar-link" data-hovercard-user-id="7231712" data-octo-click="hovercard-link-click" data-octo-dimensions="link_type:self" href="/h2oai/h2o-3/commits/master/h2o-py/demos/glrm_census_large.ipynb?author=wendycwong">
      <img class="avatar" src="https://avatars0.githubusercontent.com/u/7231712?s=40&amp;v=4" width="20" height="20" alt="@wendycwong" /> 
</a>    <a class="avatar-link" data-hovercard-user-id="14104486" data-octo-click="hovercard-link-click" data-octo-dimensions="link_type:self" href="/h2oai/h2o-3/commits/master/h2o-py/demos/glrm_census_large.ipynb?author=kyanga2">
      <img class="avatar" src="https://avatars2.githubusercontent.com/u/14104486?s=40&amp;v=4" width="20" height="20" alt="@kyanga2" /> 
</a>    <a class="avatar-link" data-hovercard-user-id="4751130" data-octo-click="hovercard-link-click" data-octo-dimensions="link_type:self" href="/h2oai/h2o-3/commits/master/h2o-py/demos/glrm_census_large.ipynb?author=anqif">
      <img class="avatar" src="https://avatars3.githubusercontent.com/u/4751130?s=40&amp;v=4" width="20" height="20" alt="@anqif" /> 
</a>

    </div>

    <div id="blob_contributors_box" style="display:none">
      <h2 class="facebox-header" data-facebox-id="facebox-header">Users who have contributed to this file</h2>
      <ul class="facebox-user-list" data-facebox-id="facebox-description">
          <li class="facebox-user-list-item">
            <a class="d-inline-block" data-hovercard-user-id="13318733" data-octo-click="hovercard-link-click" data-octo-dimensions="link_type:self" href="/ludi317"><img src="https://avatars2.githubusercontent.com/u/13318733?s=48&amp;v=4" width="24" height="24" alt="@ludi317" /></a>
            <a data-hovercard-user-id="13318733" data-octo-click="hovercard-link-click" data-octo-dimensions="link_type:self" href="/ludi317">ludi317</a>
          </li>
          <li class="facebox-user-list-item">
            <a class="d-inline-block" data-hovercard-user-id="1597500" data-octo-click="hovercard-link-click" data-octo-dimensions="link_type:self" href="/spennihana"><img src="https://avatars3.githubusercontent.com/u/1597500?s=48&amp;v=4" width="24" height="24" alt="@spennihana" /></a>
            <a data-hovercard-user-id="1597500" data-octo-click="hovercard-link-click" data-octo-dimensions="link_type:self" href="/spennihana">spennihana</a>
          </li>
          <li class="facebox-user-list-item">
            <a class="d-inline-block" data-hovercard-user-id="8986885" data-octo-click="hovercard-link-click" data-octo-dimensions="link_type:self" href="/ericeckstrand"><img src="https://avatars1.githubusercontent.com/u/8986885?s=48&amp;v=4" width="24" height="24" alt="@ericeckstrand" /></a>
            <a data-hovercard-user-id="8986885" data-octo-click="hovercard-link-click" data-octo-dimensions="link_type:self" href="/ericeckstrand">ericeckstrand</a>
          </li>
          <li class="facebox-user-list-item">
            <a class="d-inline-block" data-hovercard-user-id="7231712" data-octo-click="hovercard-link-click" data-octo-dimensions="link_type:self" href="/wendycwong"><img src="https://avatars1.githubusercontent.com/u/7231712?s=48&amp;v=4" width="24" height="24" alt="@wendycwong" /></a>
            <a data-hovercard-user-id="7231712" data-octo-click="hovercard-link-click" data-octo-dimensions="link_type:self" href="/wendycwong">wendycwong</a>
          </li>
          <li class="facebox-user-list-item">
            <a class="d-inline-block" data-hovercard-user-id="14104486" data-octo-click="hovercard-link-click" data-octo-dimensions="link_type:self" href="/kyanga2"><img src="https://avatars3.githubusercontent.com/u/14104486?s=48&amp;v=4" width="24" height="24" alt="@kyanga2" /></a>
            <a data-hovercard-user-id="14104486" data-octo-click="hovercard-link-click" data-octo-dimensions="link_type:self" href="/kyanga2">kyanga2</a>
          </li>
          <li class="facebox-user-list-item">
            <a class="d-inline-block" data-hovercard-user-id="4751130" data-octo-click="hovercard-link-click" data-octo-dimensions="link_type:self" href="/anqif"><img src="https://avatars2.githubusercontent.com/u/4751130?s=48&amp;v=4" width="24" height="24" alt="@anqif" /></a>
            <a data-hovercard-user-id="4751130" data-octo-click="hovercard-link-click" data-octo-dimensions="link_type:self" href="/anqif">anqif</a>
          </li>
      </ul>
    </div>
  </div>



  <div class="file">
    <div class="file-header">
  <div class="file-actions">
      <div class="BtnGroup">
        <a class="btn btn-sm BtnGroup-item tooltipped tooltipped tooltipped-n source "
          href="/h2oai/h2o-3/blob/master/h2o-py/demos/glrm_census_large.ipynb?short_path=82dea85" aria-label="Display the source blob">
          <svg class="octicon octicon-code" viewBox="0 0 14 16" version="1.1" width="14" height="16" aria-hidden="true"><path fill-rule="evenodd" d="M9.5 3L8 4.5 11.5 8 8 11.5 9.5 13 14 8 9.5 3zm-5 0L0 8l4.5 5L6 11.5 2.5 8 6 4.5 4.5 3z"/></svg>
        </a>
        <a class="btn btn-sm BtnGroup-item tooltipped tooltipped-n rendered selected"
          href="/h2oai/h2o-3/blob/master/h2o-py/demos/glrm_census_large.ipynb" aria-label="Display the rendered blob">
          <svg class="octicon octicon-file" viewBox="0 0 12 16" version="1.1" width="12" height="16" aria-hidden="true"><path fill-rule="evenodd" d="M6 5H2V4h4v1zM2 8h7V7H2v1zm0 2h7V9H2v1zm0 2h7v-1H2v1zm10-7.5V14c0 .55-.45 1-1 1H1c-.55 0-1-.45-1-1V2c0-.55.45-1 1-1h7.5L12 4.5zM11 5L8 2H1v12h10V5z"/></svg>
        </a>
      </div>

    <div class="BtnGroup">
      <a id="raw-url" class="btn btn-sm BtnGroup-item" href="/h2oai/h2o-3/raw/master/h2o-py/demos/glrm_census_large.ipynb">Raw</a>
        <a class="btn btn-sm js-update-url-with-hash BtnGroup-item" data-hotkey="b" href="/h2oai/h2o-3/blame/master/h2o-py/demos/glrm_census_large.ipynb">Blame</a>
      <a rel="nofollow" class="btn btn-sm BtnGroup-item" href="/h2oai/h2o-3/commits/master/h2o-py/demos/glrm_census_large.ipynb">History</a>
    </div>

        <a class="btn-octicon tooltipped tooltipped-nw"
           href="https://desktop.github.com"
           aria-label="Open this file in GitHub Desktop"
           data-ga-click="Repository, open with desktop, type:mac">
            <svg class="octicon octicon-device-desktop" viewBox="0 0 16 16" version="1.1" width="16" height="16" aria-hidden="true"><path fill-rule="evenodd" d="M15 2H1c-.55 0-1 .45-1 1v9c0 .55.45 1 1 1h5.34c-.25.61-.86 1.39-2.34 2h8c-1.48-.61-2.09-1.39-2.34-2H15c.55 0 1-.45 1-1V3c0-.55-.45-1-1-1zm0 9H1V3h14v8z"/></svg>
        </a>

          <!-- '"` --><!-- </textarea></xmp> --></option></form><form class="inline-form js-update-url-with-hash" action="/h2oai/h2o-3/edit/master/h2o-py/demos/glrm_census_large.ipynb" accept-charset="UTF-8" method="post"><input name="utf8" type="hidden" value="&#x2713;" /><input type="hidden" name="authenticity_token" value="p9AXUrMNewhVXzcVUEbGYaxmPi+J+8hCe+OTtyKcAGgVLC2sJewIY0hPW0bVUgwtn66scv8sNXzITqkeS42+lA==" />
            <button class="btn-octicon tooltipped tooltipped-nw" type="submit"
              aria-label="Fork this project and edit the file" data-hotkey="e" data-disable-with>
              <svg class="octicon octicon-pencil" viewBox="0 0 14 16" version="1.1" width="14" height="16" aria-hidden="true"><path fill-rule="evenodd" d="M0 12v3h3l8-8-3-3-8 8zm3 2H1v-2h1v1h1v1zm10.3-9.3L12 6 9 3l1.3-1.3a.996.996 0 0 1 1.41 0l1.59 1.59c.39.39.39 1.02 0 1.41z"/></svg>
            </button>
</form>
        <!-- '"` --><!-- </textarea></xmp> --></option></form><form class="inline-form" action="/h2oai/h2o-3/delete/master/h2o-py/demos/glrm_census_large.ipynb" accept-charset="UTF-8" method="post"><input name="utf8" type="hidden" value="&#x2713;" /><input type="hidden" name="authenticity_token" value="Q+nfVzBHaefXUuIpvxqMAVytZ1ez2GzZZ/Oc99yax2kKvlwOPuFEXX8hj0j84ma9kiOKlYPxmzEPOM9KZAV6sA==" />
          <button class="btn-octicon btn-octicon-danger tooltipped tooltipped-nw" type="submit"
            aria-label="Fork this project and delete the file" data-disable-with>
            <svg class="octicon octicon-trashcan" viewBox="0 0 12 16" version="1.1" width="12" height="16" aria-hidden="true"><path fill-rule="evenodd" d="M11 2H9c0-.55-.45-1-1-1H5c-.55 0-1 .45-1 1H2c-.55 0-1 .45-1 1v1c0 .55.45 1 1 1v9c0 .55.45 1 1 1h7c.55 0 1-.45 1-1V5c.55 0 1-.45 1-1V3c0-.55-.45-1-1-1zm-1 12H3V5h1v8h1V5h1v8h1V5h1v8h1V5h1v9zm1-10H2V3h9v1z"/></svg>
          </button>
</form>  </div>

  <div class="file-info">
      262 lines (261 sloc)
      <span class="file-info-divider"></span>
    8.62 KB
  </div>
</div>

    

  <div itemprop="text" class="blob-wrapper data type-jupyter-notebook">
      
  <div class="render-wrapper">
    <div class="render-container is-render-pending js-render-target "
      data-identity="9d598be0-ba6d-4d76-bd37-c6e709f12066"
      data-host="https://render.githubusercontent.com"
      data-type="ipynb">
      <img class="octospinner" alt="" src="https://assets-cdn.github.com/images/spinners/octocat-spinner-128.gif" width="64" height="64" />
      <div class="render-viewer-error">Sorry, something went wrong. <a href="https://github.com/h2oai/h2o-3/blob/master/h2o-py/demos/glrm_census_large.ipynb">Reload?</a></div>
      <div class="render-viewer-fatal">Sorry, we cannot display this file.</div>
      <div class="render-viewer-invalid">Sorry, this file is invalid so it cannot be displayed.</div>
      <iframe class="render-viewer" src="https://render.githubusercontent.com/view/ipynb?commit=1cb84d2128cc8d6044c849b893d620ee315a5ec2&amp;enc_url=68747470733a2f2f7261772e67697468756275736572636f6e74656e742e636f6d2f68326f61692f68326f2d332f316362383464323132386363386436303434633834396238393364363230656533313561356563322f68326f2d70792f64656d6f732f676c726d5f63656e7375735f6c617267652e6970796e62&amp;nwo=h2oai%2Fh2o-3&amp;path=h2o-py%2Fdemos%2Fglrm_census_large.ipynb&amp;repository_id=17371412&amp;repository_type=Repository#9d598be0-ba6d-4d76-bd37-c6e709f12066" sandbox="allow-scripts allow-same-origin allow-top-navigation ">Viewer requires iframe.</iframe>
    </div>
  </div>

  </div>

  </div>

  <button type="button" data-facebox="#jump-to-line" data-facebox-class="linejump" data-hotkey="l" class="d-none">Jump to Line</button>
  <div id="jump-to-line" style="display:none">
    <!-- '"` --><!-- </textarea></xmp> --></option></form><form class="js-jump-to-line-form" action="" accept-charset="UTF-8" method="get"><input name="utf8" type="hidden" value="&#x2713;" />
      <input class="form-control linejump-input js-jump-to-line-field" type="text" placeholder="Jump to line&hellip;" aria-label="Jump to line" autofocus>
      <button type="submit" class="btn">Go</button>
</form>  </div>


  </div>
  <div class="modal-backdrop js-touch-events"></div>
</div>

    </div>
  </div>

  </div>

      
<div class="footer container-lg px-3" role="contentinfo">
  <div class="position-relative d-flex flex-justify-between pt-6 pb-2 mt-6 f6 text-gray border-top border-gray-light ">
    <ul class="list-style-none d-flex flex-wrap ">
      <li class="mr-3">&copy; 2018 <span title="0.47339s from unicorn-8c9cfc958-n5k82">GitHub</span>, Inc.</li>
        <li class="mr-3"><a data-ga-click="Footer, go to terms, text:terms" href="https://github.com/site/terms">Terms</a></li>
        <li class="mr-3"><a data-ga-click="Footer, go to privacy, text:privacy" href="https://github.com/site/privacy">Privacy</a></li>
        <li class="mr-3"><a href="https://help.github.com/articles/github-security/" data-ga-click="Footer, go to security, text:security">Security</a></li>
        <li class="mr-3"><a href="https://status.github.com/" data-ga-click="Footer, go to status, text:status">Status</a></li>
        <li><a data-ga-click="Footer, go to help, text:help" href="https://help.github.com">Help</a></li>
    </ul>

    <a aria-label="Homepage" title="GitHub" class="footer-octicon" href="https://github.com">
      <svg height="24" class="octicon octicon-mark-github" viewBox="0 0 16 16" version="1.1" width="24" aria-hidden="true"><path fill-rule="evenodd" d="M8 0C3.58 0 0 3.58 0 8c0 3.54 2.29 6.53 5.47 7.59.4.07.55-.17.55-.38 0-.19-.01-.82-.01-1.49-2.01.37-2.53-.49-2.69-.94-.09-.23-.48-.94-.82-1.13-.28-.15-.68-.52-.01-.53.63-.01 1.08.58 1.23.82.72 1.21 1.87.87 2.33.66.07-.52.28-.87.51-1.07-1.78-.2-3.64-.89-3.64-3.95 0-.87.31-1.59.82-2.15-.08-.2-.36-1.02.08-2.12 0 0 .67-.21 2.2.82.64-.18 1.32-.27 2-.27.68 0 1.36.09 2 .27 1.53-1.04 2.2-.82 2.2-.82.44 1.1.16 1.92.08 2.12.51.56.82 1.27.82 2.15 0 3.07-1.87 3.75-3.65 3.95.29.25.54.73.54 1.48 0 1.07-.01 1.93-.01 2.2 0 .21.15.46.55.38A8.013 8.013 0 0 0 16 8c0-4.42-3.58-8-8-8z"/></svg>
</a>
   <ul class="list-style-none d-flex flex-wrap ">
        <li class="mr-3"><a data-ga-click="Footer, go to contact, text:contact" href="https://github.com/contact">Contact GitHub</a></li>
      <li class="mr-3"><a href="https://developer.github.com" data-ga-click="Footer, go to api, text:api">API</a></li>
      <li class="mr-3"><a href="https://training.github.com" data-ga-click="Footer, go to training, text:training">Training</a></li>
      <li class="mr-3"><a href="https://shop.github.com" data-ga-click="Footer, go to shop, text:shop">Shop</a></li>
        <li class="mr-3"><a href="https://blog.github.com" data-ga-click="Footer, go to blog, text:blog">Blog</a></li>
        <li><a data-ga-click="Footer, go to about, text:about" href="https://github.com/about">About</a></li>

    </ul>
  </div>
  <div class="d-flex flex-justify-center pb-6">
    <span class="f6 text-gray-light"></span>
  </div>
</div>



  <div id="ajax-error-message" class="ajax-error-message flash flash-error">
    <svg class="octicon octicon-alert" viewBox="0 0 16 16" version="1.1" width="16" height="16" aria-hidden="true"><path fill-rule="evenodd" d="M8.893 1.5c-.183-.31-.52-.5-.887-.5s-.703.19-.886.5L.138 13.499a.98.98 0 0 0 0 1.001c.193.31.53.501.886.501h13.964c.367 0 .704-.19.877-.5a1.03 1.03 0 0 0 .01-1.002L8.893 1.5zm.133 11.497H6.987v-2.003h2.039v2.003zm0-3.004H6.987V5.987h2.039v4.006z"/></svg>
    <button type="button" class="flash-close js-ajax-error-dismiss" aria-label="Dismiss error">
      <svg class="octicon octicon-x" viewBox="0 0 12 16" version="1.1" width="12" height="16" aria-hidden="true"><path fill-rule="evenodd" d="M7.48 8l3.75 3.75-1.48 1.48L6 9.48l-3.75 3.75-1.48-1.48L4.52 8 .77 4.25l1.48-1.48L6 6.52l3.75-3.75 1.48 1.48L7.48 8z"/></svg>
    </button>
    You can’t perform that action at this time.
  </div>


    
    <script crossorigin="anonymous" integrity="sha512-QeroE21vjE9am3l9XZkG77Y7E+hMvsynA4aaKhTSKFny8+KuTg/mihlOC8BoTcEW0l2W+fRQ2U5L+n10scIWEw==" type="application/javascript" src="https://assets-cdn.github.com/assets/frameworks-601602eea5c9ad30556dde9683640f56.js"></script>
    
    <script crossorigin="anonymous" async="async" integrity="sha512-ORJFv+MbAalu7ppD7KnNV1XdRA059ouG2bozJ6tTdAzC9xB5vIbsiCA666gJmdwwWTzMobRHzxUKn1ywp1Onrg==" type="application/javascript" src="https://assets-cdn.github.com/assets/github-7980aa5e478c118f7f44e1202dc4e18d.js"></script>
    
    
    
  <div class="js-stale-session-flash stale-session-flash flash flash-warn flash-banner d-none">
    <svg class="octicon octicon-alert" viewBox="0 0 16 16" version="1.1" width="16" height="16" aria-hidden="true"><path fill-rule="evenodd" d="M8.893 1.5c-.183-.31-.52-.5-.887-.5s-.703.19-.886.5L.138 13.499a.98.98 0 0 0 0 1.001c.193.31.53.501.886.501h13.964c.367 0 .704-.19.877-.5a1.03 1.03 0 0 0 .01-1.002L8.893 1.5zm.133 11.497H6.987v-2.003h2.039v2.003zm0-3.004H6.987V5.987h2.039v4.006z"/></svg>
    <span class="signed-in-tab-flash">You signed in with another tab or window. <a href="">Reload</a> to refresh your session.</span>
    <span class="signed-out-tab-flash">You signed out in another tab or window. <a href="">Reload</a> to refresh your session.</span>
  </div>
  <div class="facebox" id="facebox" style="display:none;">
  <div class="facebox-popup">
    <div class="facebox-content" role="dialog" aria-labelledby="facebox-header" aria-describedby="facebox-description">
    </div>
    <button type="button" class="facebox-close js-facebox-close" aria-label="Close modal">
      <svg class="octicon octicon-x" viewBox="0 0 12 16" version="1.1" width="12" height="16" aria-hidden="true"><path fill-rule="evenodd" d="M7.48 8l3.75 3.75-1.48 1.48L6 9.48l-3.75 3.75-1.48-1.48L4.52 8 .77 4.25l1.48-1.48L6 6.52l3.75-3.75 1.48 1.48L7.48 8z"/></svg>
    </button>
  </div>
</div>

  <div class="Popover js-hovercard-content position-absolute" style="display: none; outline: none;" tabindex="0">
  <div class="Popover-message Popover-message--bottom-left Popover-message--large Box box-shadow-large" style="width:360px;">
  </div>
</div>

<div id="hovercard-aria-description" class="sr-only">
  Press h to open a hovercard with more details.
</div>


  </body>
</html>

