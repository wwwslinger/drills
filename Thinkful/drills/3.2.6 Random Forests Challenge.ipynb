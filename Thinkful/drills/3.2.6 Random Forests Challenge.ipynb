{
 "cells": [
  {
   "cell_type": "markdown",
   "metadata": {},
   "source": [
    "# Instructions\n",
    "\n",
    "Now that you've learned about random forests and decision trees let's do an exercise in accuracy. You know that random forests are basically a collection of decision trees. But how do the accuracies of the two models compare?\n",
    "\n",
    "So here's what you should do. Pick a dataset. It could be one you've worked with before or it could be a new one. Then build the best decision tree you can.\n",
    "\n",
    "Now try to match that with the simplest random forest you can. For our purposes measure simplicity with runtime. Compare that to the runtime of the decision tree. This is imperfect but just go with it.\n",
    "\n",
    "Hopefully out of this you'll see the power of random forests, but also their potential costs. Remember, in the real world you won't necessarily be dealing with thousands of rows. It could be millions, billions, or even more."
   ]
  },
  {
   "cell_type": "markdown",
   "metadata": {},
   "source": [
    "# Load and clean\n",
    "\n",
    "Note: this is the housing prace dataset that I've worked with once before.  The target variable (house price) is numeric rather than categorical, so I'll be using a decision tree and then a random forest to run regression on it."
   ]
  },
  {
   "cell_type": "code",
   "execution_count": 1,
   "metadata": {},
   "outputs": [],
   "source": [
    "import pandas as pd\n",
    "import numpy as np\n",
    "import scipy as sp\n",
    "import matplotlib.pyplot as plt\n",
    "import seaborn as sns\n",
    "sns.set()\n",
    "%matplotlib inline"
   ]
  },
  {
   "cell_type": "code",
   "execution_count": 7,
   "metadata": {
    "scrolled": false
   },
   "outputs": [
    {
     "data": {
      "text/html": [
       "<div>\n",
       "<style scoped>\n",
       "    .dataframe tbody tr th:only-of-type {\n",
       "        vertical-align: middle;\n",
       "    }\n",
       "\n",
       "    .dataframe tbody tr th {\n",
       "        vertical-align: top;\n",
       "    }\n",
       "\n",
       "    .dataframe thead th {\n",
       "        text-align: right;\n",
       "    }\n",
       "</style>\n",
       "<table border=\"1\" class=\"dataframe\">\n",
       "  <thead>\n",
       "    <tr style=\"text-align: right;\">\n",
       "      <th></th>\n",
       "      <th>Id</th>\n",
       "      <th>MSSubClass</th>\n",
       "      <th>MSZoning</th>\n",
       "      <th>LotFrontage</th>\n",
       "      <th>LotArea</th>\n",
       "      <th>Street</th>\n",
       "      <th>Alley</th>\n",
       "      <th>LotShape</th>\n",
       "      <th>LandContour</th>\n",
       "      <th>Utilities</th>\n",
       "      <th>...</th>\n",
       "      <th>PoolArea</th>\n",
       "      <th>PoolQC</th>\n",
       "      <th>Fence</th>\n",
       "      <th>MiscFeature</th>\n",
       "      <th>MiscVal</th>\n",
       "      <th>MoSold</th>\n",
       "      <th>YrSold</th>\n",
       "      <th>SaleType</th>\n",
       "      <th>SaleCondition</th>\n",
       "      <th>SalePrice</th>\n",
       "    </tr>\n",
       "  </thead>\n",
       "  <tbody>\n",
       "    <tr>\n",
       "      <th>0</th>\n",
       "      <td>1</td>\n",
       "      <td>60</td>\n",
       "      <td>RL</td>\n",
       "      <td>65.0</td>\n",
       "      <td>8450</td>\n",
       "      <td>Pave</td>\n",
       "      <td>NaN</td>\n",
       "      <td>Reg</td>\n",
       "      <td>Lvl</td>\n",
       "      <td>AllPub</td>\n",
       "      <td>...</td>\n",
       "      <td>0</td>\n",
       "      <td>NaN</td>\n",
       "      <td>NaN</td>\n",
       "      <td>NaN</td>\n",
       "      <td>0</td>\n",
       "      <td>2</td>\n",
       "      <td>2008</td>\n",
       "      <td>WD</td>\n",
       "      <td>Normal</td>\n",
       "      <td>208500</td>\n",
       "    </tr>\n",
       "    <tr>\n",
       "      <th>1</th>\n",
       "      <td>2</td>\n",
       "      <td>20</td>\n",
       "      <td>RL</td>\n",
       "      <td>80.0</td>\n",
       "      <td>9600</td>\n",
       "      <td>Pave</td>\n",
       "      <td>NaN</td>\n",
       "      <td>Reg</td>\n",
       "      <td>Lvl</td>\n",
       "      <td>AllPub</td>\n",
       "      <td>...</td>\n",
       "      <td>0</td>\n",
       "      <td>NaN</td>\n",
       "      <td>NaN</td>\n",
       "      <td>NaN</td>\n",
       "      <td>0</td>\n",
       "      <td>5</td>\n",
       "      <td>2007</td>\n",
       "      <td>WD</td>\n",
       "      <td>Normal</td>\n",
       "      <td>181500</td>\n",
       "    </tr>\n",
       "    <tr>\n",
       "      <th>2</th>\n",
       "      <td>3</td>\n",
       "      <td>60</td>\n",
       "      <td>RL</td>\n",
       "      <td>68.0</td>\n",
       "      <td>11250</td>\n",
       "      <td>Pave</td>\n",
       "      <td>NaN</td>\n",
       "      <td>IR1</td>\n",
       "      <td>Lvl</td>\n",
       "      <td>AllPub</td>\n",
       "      <td>...</td>\n",
       "      <td>0</td>\n",
       "      <td>NaN</td>\n",
       "      <td>NaN</td>\n",
       "      <td>NaN</td>\n",
       "      <td>0</td>\n",
       "      <td>9</td>\n",
       "      <td>2008</td>\n",
       "      <td>WD</td>\n",
       "      <td>Normal</td>\n",
       "      <td>223500</td>\n",
       "    </tr>\n",
       "    <tr>\n",
       "      <th>3</th>\n",
       "      <td>4</td>\n",
       "      <td>70</td>\n",
       "      <td>RL</td>\n",
       "      <td>60.0</td>\n",
       "      <td>9550</td>\n",
       "      <td>Pave</td>\n",
       "      <td>NaN</td>\n",
       "      <td>IR1</td>\n",
       "      <td>Lvl</td>\n",
       "      <td>AllPub</td>\n",
       "      <td>...</td>\n",
       "      <td>0</td>\n",
       "      <td>NaN</td>\n",
       "      <td>NaN</td>\n",
       "      <td>NaN</td>\n",
       "      <td>0</td>\n",
       "      <td>2</td>\n",
       "      <td>2006</td>\n",
       "      <td>WD</td>\n",
       "      <td>Abnorml</td>\n",
       "      <td>140000</td>\n",
       "    </tr>\n",
       "    <tr>\n",
       "      <th>4</th>\n",
       "      <td>5</td>\n",
       "      <td>60</td>\n",
       "      <td>RL</td>\n",
       "      <td>84.0</td>\n",
       "      <td>14260</td>\n",
       "      <td>Pave</td>\n",
       "      <td>NaN</td>\n",
       "      <td>IR1</td>\n",
       "      <td>Lvl</td>\n",
       "      <td>AllPub</td>\n",
       "      <td>...</td>\n",
       "      <td>0</td>\n",
       "      <td>NaN</td>\n",
       "      <td>NaN</td>\n",
       "      <td>NaN</td>\n",
       "      <td>0</td>\n",
       "      <td>12</td>\n",
       "      <td>2008</td>\n",
       "      <td>WD</td>\n",
       "      <td>Normal</td>\n",
       "      <td>250000</td>\n",
       "    </tr>\n",
       "  </tbody>\n",
       "</table>\n",
       "<p>5 rows × 81 columns</p>\n",
       "</div>"
      ],
      "text/plain": [
       "   Id  MSSubClass MSZoning  LotFrontage  LotArea Street Alley LotShape  \\\n",
       "0   1          60       RL         65.0     8450   Pave   NaN      Reg   \n",
       "1   2          20       RL         80.0     9600   Pave   NaN      Reg   \n",
       "2   3          60       RL         68.0    11250   Pave   NaN      IR1   \n",
       "3   4          70       RL         60.0     9550   Pave   NaN      IR1   \n",
       "4   5          60       RL         84.0    14260   Pave   NaN      IR1   \n",
       "\n",
       "  LandContour Utilities    ...     PoolArea PoolQC Fence MiscFeature MiscVal  \\\n",
       "0         Lvl    AllPub    ...            0    NaN   NaN         NaN       0   \n",
       "1         Lvl    AllPub    ...            0    NaN   NaN         NaN       0   \n",
       "2         Lvl    AllPub    ...            0    NaN   NaN         NaN       0   \n",
       "3         Lvl    AllPub    ...            0    NaN   NaN         NaN       0   \n",
       "4         Lvl    AllPub    ...            0    NaN   NaN         NaN       0   \n",
       "\n",
       "  MoSold YrSold  SaleType  SaleCondition  SalePrice  \n",
       "0      2   2008        WD         Normal     208500  \n",
       "1      5   2007        WD         Normal     181500  \n",
       "2      9   2008        WD         Normal     223500  \n",
       "3      2   2006        WD        Abnorml     140000  \n",
       "4     12   2008        WD         Normal     250000  \n",
       "\n",
       "[5 rows x 81 columns]"
      ]
     },
     "execution_count": 7,
     "metadata": {},
     "output_type": "execute_result"
    }
   ],
   "source": [
    "housing_df = pd.read_csv(\"khous_train.csv\")\n",
    "housing_df.head()"
   ]
  },
  {
   "cell_type": "markdown",
   "metadata": {},
   "source": [
    "First, let's drop categorical columns that either totally uniform or too heavily skewed to be of much use."
   ]
  },
  {
   "cell_type": "code",
   "execution_count": 8,
   "metadata": {},
   "outputs": [],
   "source": [
    "# Note: I used the code below to print out the value counts for the columns \n",
    "# and see which ones were too skewed to be very useful\n",
    "# for column in housing_df:\n",
    "#     dtype = housing_df[column].dtype\n",
    "#     valcounts = housing_df[column].value_counts()\n",
    "#     if dtype == object: \n",
    "#         print(column)\n",
    "#         print(housing_df[column].value_counts())\n",
    "#         print(\"********************************\")\n",
    "\n",
    "# based on those results, we can drop some nearly one-value-only columns:\n",
    "drop_feats = [\"Street\",\"Alley\",\"Utilities\",\"Condition2\",\"RoofMatl\",\"Heating\",\"PoolQC\",\"MiscFeature\"]\n",
    "housing_df.drop(drop_feats, axis=1, inplace=True)\n",
    "\n",
    "# and we might later consider dropping Neighborhood, since it will generate almost 20 dummy columns"
   ]
  },
  {
   "cell_type": "markdown",
   "metadata": {},
   "source": [
    "Then we'll drop columns that have more than 100 NaNs:"
   ]
  },
  {
   "cell_type": "code",
   "execution_count": 9,
   "metadata": {
    "scrolled": true
   },
   "outputs": [
    {
     "name": "stdout",
     "output_type": "stream",
     "text": [
      "3\n"
     ]
    }
   ],
   "source": [
    "count = 0\n",
    "for column in housing_df:\n",
    "    if housing_df[column].isnull().sum() > 100:\n",
    "        housing_df.drop(column, axis=1, inplace=True)\n",
    "        count += 1\n",
    "print(count)"
   ]
  },
  {
   "cell_type": "code",
   "execution_count": 5,
   "metadata": {
    "scrolled": true
   },
   "outputs": [
    {
     "data": {
      "text/plain": [
       "122"
      ]
     },
     "execution_count": 5,
     "metadata": {},
     "output_type": "execute_result"
    }
   ],
   "source": [
    "len(housing_df) - len(housing_df.dropna())"
   ]
  },
  {
   "cell_type": "markdown",
   "metadata": {},
   "source": [
    "We lost three columns because they had more than 100 NaNs.  We'll lose 122 rows when we drop all remaining NaNs; we can probably afford this.  The NaNs are mostly in the garage area; they may represent houses without garages.  If that's the case, thsi might hurt our predictions on houses that don't have garages.  If I were really trying to optimize performance here, I'd take a closer look at that and check accuracy with dropping the rows vs. dropping the columns.  For now, though, we'll just drop the rows."
   ]
  },
  {
   "cell_type": "code",
   "execution_count": 10,
   "metadata": {},
   "outputs": [],
   "source": [
    "housing_df.dropna(inplace=True)"
   ]
  },
  {
   "cell_type": "markdown",
   "metadata": {},
   "source": [
    "# Running the decision tree"
   ]
  },
  {
   "cell_type": "markdown",
   "metadata": {},
   "source": [
    "First, we'll set up our datasets for input:"
   ]
  },
  {
   "cell_type": "code",
   "execution_count": 12,
   "metadata": {},
   "outputs": [],
   "source": [
    "from sklearn.model_selection import train_test_split\n",
    "\n",
    "all_X = pd.get_dummies(housing_df.drop(\"SalePrice\", axis=1))\n",
    "all_Y = housing_df['SalePrice']\n",
    "\n",
    "train, test = train_test_split(housing_df, test_size=0.25)\n",
    "X_train = pd.get_dummies(train.drop(\"SalePrice\", axis=1))\n",
    "y_train = train[\"SalePrice\"]\n",
    "X_test = pd.get_dummies(test.drop(\"SalePrice\", axis=1))\n",
    "y_test = test['SalePrice']"
   ]
  },
  {
   "cell_type": "markdown",
   "metadata": {},
   "source": [
    "Then let's try running our tree for various tree depths with max_features set to 10."
   ]
  },
  {
   "cell_type": "code",
   "execution_count": 17,
   "metadata": {
    "scrolled": true
   },
   "outputs": [
    {
     "name": "stdout",
     "output_type": "stream",
     "text": [
      "[0.24796857118211957, 0.31475056791453326, 0.42787893416853573, 0.5108155395337118, 0.5870438625840761, 0.5524398946155811, 0.5724432176163362, 0.34269793635467694, 0.5118288042331827, 0.5336547458543197, 0.4489952493196156, 0.5720206540252406, 0.5805558307843675, 0.5061779772610141]\n"
     ]
    },
    {
     "data": {
      "image/png": "[encoded data removed]",
      "text/plain": [
       "<matplotlib.figure.Figure at 0x11258f278>"
      ]
     },
     "metadata": {},
     "output_type": "display_data"
    }
   ],
   "source": [
    "from sklearn import tree\n",
    "from sklearn.model_selection import cross_val_score\n",
    "\n",
    "tree_depths = [1,2,3,5,10,20,40,60,80,100,125,150,175,200]\n",
    "scores = []\n",
    "for tree_depth in tree_depths:\n",
    "    decision_tree = tree.DecisionTreeRegressor(\n",
    "        max_features=10,\n",
    "        max_depth=tree_depth)\n",
    "    scores.append(np.mean(cross_val_score(decision_tree, all_X, all_Y, cv=8)))\n",
    "print(scores)\n",
    "\n",
    "plt.scatter(tree_depths, scores)\n",
    "plt.xlabel(\"depth of tree\")\n",
    "plt.ylabel(\"R-squared of regression tree\")\n",
    "plt.ylim((0,0.8))\n",
    "plt.show()"
   ]
  },
  {
   "cell_type": "markdown",
   "metadata": {},
   "source": [
    "As we can see above, if we run the tree with only 10 features (max_features) checked at each split, we max out our accuracy around R-squared = 0.6.  Deeper trees cease to improve our model beyond about 10 levels of tree depth, but show no signs of overfitting with further levels.  Let's try searching all available features at each split:"
   ]
  },
  {
   "cell_type": "code",
   "execution_count": 19,
   "metadata": {
    "scrolled": false
   },
   "outputs": [
    {
     "name": "stdout",
     "output_type": "stream",
     "text": [
      "[0.44884889466169586, 0.5702398293111944, 0.661098127433653, 0.7310808348726826, 0.7333164197995279, 0.6706175221583398, 0.6733277434528051, 0.6982400032921667, 0.6636132331361067, 0.6733146051732679, 0.6746400028389974, 0.6838625587168286, 0.6744688894475512, 0.6733728521541087]\n"
     ]
    },
    {
     "data": {
      "image/png": "[encoded data removed]",
      "text/plain": [
       "<matplotlib.figure.Figure at 0x110fea128>"
      ]
     },
     "metadata": {},
     "output_type": "display_data"
    },
    {
     "name": "stdout",
     "output_type": "stream",
     "text": [
      "--- 4.098346948623657 seconds ---\n"
     ]
    }
   ],
   "source": [
    "from sklearn import tree\n",
    "from sklearn.model_selection import cross_val_score\n",
    "import time\n",
    "\n",
    "start_time = time.time()\n",
    "\n",
    "tree_depths = [1,2,3,5,10,20,40,60,80,100,125,150,175,200]\n",
    "scores = []\n",
    "for tree_depth in tree_depths:\n",
    "    decision_tree = tree.DecisionTreeRegressor(\n",
    "        max_features='auto',\n",
    "        max_depth=tree_depth)\n",
    "    scores.append(np.mean(cross_val_score(decision_tree, all_X, all_Y, cv=8)))\n",
    "print(scores)\n",
    "\n",
    "plt.scatter(tree_depths, scores)\n",
    "plt.xlabel(\"depth of tree\")\n",
    "plt.ylabel(\"R-squared of regression tree\")\n",
    "plt.ylim((0,0.8))\n",
    "plt.show()\n",
    "\n",
    "print(\"--- %s seconds ---\" % (time.time() - start_time))"
   ]
  },
  {
   "cell_type": "markdown",
   "metadata": {},
   "source": [
    "In this case we again max out the usefulness of our tree depth very quickly, around 10 levels.  Our accuracy peaks at about R-squared = 0.7.  On the upside, even considering all the features and running over all the max_depths input above, this only takes about 4 seconds to run."
   ]
  },
  {
   "cell_type": "markdown",
   "metadata": {},
   "source": [
    "# Running the random forest\n",
    "\n",
    "Now let's try running a random forest on this dataset instead:"
   ]
  },
  {
   "cell_type": "code",
   "execution_count": 20,
   "metadata": {},
   "outputs": [
    {
     "name": "stdout",
     "output_type": "stream",
     "text": [
      "[0.80359326 0.8347399  0.84382925 0.86428521 0.87925601 0.8608384\n",
      " 0.84524809 0.6368617 ]\n",
      "mean score: 0.8210814769685792\n",
      "\n",
      "--- 2.03299617767334 seconds ---\n"
     ]
    }
   ],
   "source": [
    "from sklearn import ensemble\n",
    "\n",
    "start_time = time.time()\n",
    "\n",
    "rfc = ensemble.RandomForestRegressor()\n",
    "cv_scores = cross_val_score(rfc, all_X, all_Y, cv=8)\n",
    "\n",
    "print(cv_scores)\n",
    "print(\"mean score: \" + str(np.mean(cv_scores)) + \"\\n\")\n",
    "print(\"--- %s seconds ---\" % (time.time() - start_time))"
   ]
  },
  {
   "cell_type": "markdown",
   "metadata": {},
   "source": [
    "Interesting: the accuracy improves, AND it runs very fast.  Reasons for the speed:\n",
    "- I'm only doing this once, whereas I ran the random tree a dozen times - so the random forest is still several times slower\n",
    "- the dataset is small\n",
    "- the sklearn package is well optimized\n",
    "\n",
    "Now let's see if we can make this model more accurate with a bit of feature elimination (which will help only if we're overfitting), selecting only the *n* most important features:"
   ]
  },
  {
   "cell_type": "code",
   "execution_count": 21,
   "metadata": {},
   "outputs": [
    {
     "data": {
      "text/plain": [
       "[(0.5694714577283732, 'OverallQual'),\n",
       " (0.08351445188381675, 'GrLivArea'),\n",
       " (0.05928354534662143, '2ndFlrSF'),\n",
       " (0.04462966934235636, 'FullBath'),\n",
       " (0.023525970017313307, 'BsmtFinSF1'),\n",
       " (0.02148000757446814, 'TotalBsmtSF'),\n",
       " (0.01910648038977833, '1stFlrSF'),\n",
       " (0.017857515555026147, 'LotArea'),\n",
       " (0.010816182505493134, 'TotRmsAbvGrd'),\n",
       " (0.010397719025679234, 'GarageCars'),\n",
       " (0.00925236243458494, 'GarageArea'),\n",
       " (0.00895196510295616, 'YearBuilt'),\n",
       " (0.007497194303035469, 'YearRemodAdd'),\n",
       " (0.006436971033613001, 'OverallCond'),\n",
       " (0.005981886261529915, 'MoSold'),\n",
       " (0.005884104510034223, 'BsmtUnfSF'),\n",
       " (0.005829754805456345, 'WoodDeckSF'),\n",
       " (0.005770573533423864, 'BsmtQual_Ex'),\n",
       " (0.005738066478794714, 'Fireplaces'),\n",
       " (0.0050051846952703805, 'MasVnrArea'),\n",
       " (0.004768201517968445, 'OpenPorchSF'),\n",
       " (0.004467468729282305, 'GarageType_Detchd'),\n",
       " (0.004371852905231334, 'Id'),\n",
       " (0.004317532289349439, 'GarageYrBlt'),\n",
       " (0.004106315764739251, 'PoolArea'),\n",
       " (0.0032501929438319608, 'MSZoning_RM'),\n",
       " (0.0021905037242950414, 'GarageFinish_Unf'),\n",
       " (0.0017251431941818249, 'Neighborhood_NoRidge'),\n",
       " (0.0016074734999922988, 'KitchenQual_Gd'),\n",
       " (0.001452583602307168, 'MSSubClass'),\n",
       " (0.0014366485222884042, 'CentralAir_Y'),\n",
       " (0.0012742422966552573, 'LotShape_Reg'),\n",
       " (0.0012735104129358613, 'Condition1_PosN'),\n",
       " (0.0012560740426121053, 'MasVnrType_Stone'),\n",
       " (0.0012210577384460359, 'BsmtExposure_Gd'),\n",
       " (0.0011320891778441138, 'EnclosedPorch'),\n",
       " (0.0011190659151543128, 'Exterior2nd_VinylSd'),\n",
       " (0.0010702321100667588, 'BsmtQual_Gd'),\n",
       " (0.001026234596504114, 'YrSold'),\n",
       " (0.0009846193285483601, 'BsmtFinSF2'),\n",
       " (0.0009845159161783051, 'BsmtFullBath'),\n",
       " (0.0009302491758146864, 'SaleCondition_Normal'),\n",
       " (0.0009301488207821387, 'LandContour_Lvl'),\n",
       " (0.0008273986260126579, 'BsmtFinType1_GLQ'),\n",
       " (0.0007972796701249875, 'KitchenQual_Ex'),\n",
       " (0.0007390652142401389, 'KitchenAbvGr'),\n",
       " (0.0007301247613839509, 'ExterQual_Gd'),\n",
       " (0.0007275325755754342, 'BedroomAbvGr'),\n",
       " (0.0006832164182252274, 'ExterQual_TA'),\n",
       " (0.0006396465971486439, 'ScreenPorch'),\n",
       " (0.0006186211887139949, 'LotShape_IR2'),\n",
       " (0.0006090640407123534, 'Neighborhood_Timber'),\n",
       " (0.000598926922211452, 'BsmtExposure_No'),\n",
       " (0.0005861187408664869, 'Neighborhood_NAmes'),\n",
       " (0.000582029178280675, 'Functional_Typ'),\n",
       " (0.0005467606033893559, 'LotShape_IR1'),\n",
       " (0.0005204261325622431, 'GarageFinish_RFn'),\n",
       " (0.0004855947731733569, 'MasVnrType_BrkFace'),\n",
       " (0.0004681894568872657, 'HeatingQC_TA'),\n",
       " (0.0004468575394355557, 'CentralAir_N'),\n",
       " (0.0004315796929597828, 'LandContour_Low'),\n",
       " (0.00042795142755360546, 'KitchenQual_TA'),\n",
       " (0.00041750116545772426, 'Neighborhood_CollgCr'),\n",
       " (0.00040763676150861947, 'MSZoning_RL'),\n",
       " (0.00037916364675694207, 'Exterior1st_Stucco'),\n",
       " (0.0003699795801731989, 'Neighborhood_Crawfor'),\n",
       " (0.00036929740027664634, 'MSZoning_C (all)'),\n",
       " (0.0003430897451230321, 'BsmtQual_TA'),\n",
       " (0.0003423873210155189, 'BsmtExposure_Mn'),\n",
       " (0.00033005169056387696, 'LotConfig_CulDSac'),\n",
       " (0.0003196677025943612, 'ExterCond_TA'),\n",
       " (0.0003109594535174543, 'Neighborhood_Somerst'),\n",
       " (0.00030857974793226345, 'HouseStyle_2Story'),\n",
       " (0.0002911285849358408, 'HalfBath'),\n",
       " (0.0002826747572837269, 'HeatingQC_Gd'),\n",
       " (0.00027964224259090014, 'GarageType_Attchd'),\n",
       " (0.0002739363832225257, 'BsmtFinType1_Unf'),\n",
       " (0.0002731270529781393, 'LotConfig_Inside'),\n",
       " (0.00026831817178903154, 'GarageFinish_Fin'),\n",
       " (0.0002663495576564803, 'Foundation_CBlock'),\n",
       " (0.0002652391614476023, 'LandSlope_Mod'),\n",
       " (0.0002532338368248551, 'SaleType_New'),\n",
       " (0.00025096802902083886, 'Neighborhood_NridgHt'),\n",
       " (0.0002451400803723814, 'RoofStyle_Gable'),\n",
       " (0.00023534282555352093, 'Neighborhood_Edwards'),\n",
       " (0.00022893171045829808, 'MasVnrType_None'),\n",
       " (0.00022417914598097034, 'SaleCondition_Abnorml'),\n",
       " (0.00021995353765450642, 'HeatingQC_Ex'),\n",
       " (0.00021330979987679524, 'Exterior1st_BrkFace'),\n",
       " (0.00021253132537419386, 'BsmtExposure_Av'),\n",
       " (0.0002017081618041595, 'LotConfig_Corner'),\n",
       " (0.0001976829228103166, 'RoofStyle_Flat'),\n",
       " (0.0001866394857380687, 'LotConfig_FR2'),\n",
       " (0.0001846577989605088, 'Exterior1st_Wd Sdng'),\n",
       " (0.00018215936589732775, 'BsmtFinType2_LwQ'),\n",
       " (0.00017658187842818022, 'Exterior1st_VinylSd'),\n",
       " (0.00017131231372174275, 'Exterior1st_HdBoard'),\n",
       " (0.00017117943329622974, 'LandContour_HLS'),\n",
       " (0.00016623490033937792, 'Neighborhood_IDOTRR'),\n",
       " (0.00016597107146519737, 'LowQualFinSF'),\n",
       " (0.00016376076916640748, 'Condition1_Norm'),\n",
       " (0.00015674982594392905, 'BldgType_Twnhs'),\n",
       " (0.00015346972337887166, 'Neighborhood_BrkSide'),\n",
       " (0.00015109235768844676, 'RoofStyle_Hip'),\n",
       " (0.00014868369317875928, 'Neighborhood_OldTown'),\n",
       " (0.00014592133871400007, 'Exterior2nd_Wd Sdng'),\n",
       " (0.0001446260395086583, 'Functional_Maj2'),\n",
       " (0.00013851683060033023, 'Neighborhood_Sawyer'),\n",
       " (0.0001341927745988848, 'Neighborhood_ClearCr'),\n",
       " (0.00012186934504149389, 'LandSlope_Gtl'),\n",
       " (0.0001217997554406628, 'Neighborhood_Gilbert'),\n",
       " (0.0001205701273504243, 'GarageQual_Fa'),\n",
       " (0.00011881374355626407, '3SsnPorch'),\n",
       " (0.00011385968933060245, 'HouseStyle_1Story'),\n",
       " (0.00011265890884120881, 'SaleType_WD'),\n",
       " (0.00010964290596789178, 'HeatingQC_Fa'),\n",
       " (0.00010531951145214199, 'SaleCondition_Partial'),\n",
       " (0.00010094846938038095, 'BsmtFinType1_BLQ'),\n",
       " (9.813548950175111e-05, 'PavedDrive_N'),\n",
       " (9.278685162014702e-05, 'BsmtFinType1_LwQ'),\n",
       " (9.214813409658628e-05, 'BsmtFinType1_Rec'),\n",
       " (8.630135171950798e-05, 'Condition1_RRAe'),\n",
       " (8.569235594121279e-05, 'ExterCond_Gd'),\n",
       " (8.111824177179763e-05, 'Foundation_PConc'),\n",
       " (8.106585460915026e-05, 'ExterCond_Fa'),\n",
       " (7.390746510784488e-05, 'BsmtFinType1_ALQ'),\n",
       " (7.280073519784329e-05, 'Functional_Mod'),\n",
       " (7.21116042861336e-05, 'SaleCondition_Alloca'),\n",
       " (7.125530244250991e-05, 'MasVnrType_BrkCmn'),\n",
       " (6.710100728966328e-05, 'LotConfig_FR3'),\n",
       " (6.709575610189672e-05, 'Exterior1st_CemntBd'),\n",
       " (6.457309590933595e-05, 'Exterior1st_Plywood'),\n",
       " (6.23439523316387e-05, 'HouseStyle_1.5Fin'),\n",
       " (5.9686644256431675e-05, 'Exterior2nd_Plywood'),\n",
       " (5.9109561321343e-05, 'Exterior1st_MetalSd'),\n",
       " (5.3349946279027975e-05, 'BldgType_TwnhsE'),\n",
       " (5.3331059440412426e-05, 'BsmtFinType2_GLQ'),\n",
       " (5.234820355474177e-05, 'PavedDrive_P'),\n",
       " (5.2316275787216345e-05, 'PavedDrive_Y'),\n",
       " (5.205753444451529e-05, 'Functional_Min2'),\n",
       " (5.1516472182865635e-05, 'Foundation_BrkTil'),\n",
       " (5.0058228306913414e-05, 'SaleType_COD'),\n",
       " (4.824932819402922e-05, 'GarageType_CarPort'),\n",
       " (4.7956298970916084e-05, 'Exterior2nd_MetalSd'),\n",
       " (4.572784529681389e-05, 'Exterior2nd_Other'),\n",
       " (4.521597177446871e-05, 'BsmtFinType2_ALQ'),\n",
       " (4.4555325901115024e-05, 'Exterior2nd_BrkFace'),\n",
       " (4.408362481980568e-05, 'BldgType_1Fam'),\n",
       " (4.301963103932029e-05, 'BsmtFinType2_BLQ'),\n",
       " (4.189572898660256e-05, 'GarageType_BuiltIn'),\n",
       " (4.1196004248857664e-05, 'MSZoning_RH'),\n",
       " (3.79633668019699e-05, 'MiscVal'),\n",
       " (3.6127105877513315e-05, 'Neighborhood_SWISU'),\n",
       " (3.599714892848091e-05, 'Neighborhood_StoneBr'),\n",
       " (3.577269800413666e-05, 'Neighborhood_Mitchel'),\n",
       " (3.5685255130678846e-05, 'Electrical_FuseF'),\n",
       " (3.28164950060067e-05, 'HouseStyle_2.5Fin'),\n",
       " (3.208997026716648e-05, 'Condition1_Artery'),\n",
       " (2.9828443303515634e-05, 'BsmtCond_Gd'),\n",
       " (2.889079486019303e-05, 'BsmtFinType2_Unf'),\n",
       " (2.8627449375267204e-05, 'Neighborhood_NWAmes'),\n",
       " (2.738501178360548e-05, 'MSZoning_FV'),\n",
       " (2.5319732945148333e-05, 'SaleCondition_Family'),\n",
       " (2.4449513026571897e-05, 'Condition1_Feedr'),\n",
       " (2.3595689294747664e-05, 'BsmtCond_TA'),\n",
       " (2.340633773246949e-05, 'Neighborhood_Veenker'),\n",
       " (1.9785159708393094e-05, 'GarageType_Basment'),\n",
       " (1.9583299758876113e-05, 'Electrical_SBrkr'),\n",
       " (1.9252774748111058e-05, 'Exterior2nd_HdBoard'),\n",
       " (1.910992537037415e-05, 'Exterior2nd_Wd Shng'),\n",
       " (1.7177147928213876e-05, 'BsmtHalfBath'),\n",
       " (1.6940570940256163e-05, 'HouseStyle_2.5Unf'),\n",
       " (1.627210138079888e-05, 'Neighborhood_NPkVill'),\n",
       " (1.5839869662922248e-05, 'Exterior2nd_CmentBd'),\n",
       " (1.553763252681311e-05, 'GarageCond_TA'),\n",
       " (1.5219893293008131e-05, 'Electrical_FuseA'),\n",
       " (1.4967103691824967e-05, 'SaleType_ConLI'),\n",
       " (1.3346773225080556e-05, 'ExterQual_Ex'),\n",
       " (1.275621914988322e-05, 'LandContour_Bnk'),\n",
       " (1.1908344016697267e-05, 'HouseStyle_SFoyer'),\n",
       " (1.1697134137421575e-05, 'KitchenQual_Fa'),\n",
       " (1.1662181963955002e-05, 'Neighborhood_SawyerW'),\n",
       " (1.147093707386043e-05, 'GarageCond_Po'),\n",
       " (1.104626322040844e-05, 'Condition1_RRAn'),\n",
       " (9.994188066849169e-06, 'HouseStyle_SLvl'),\n",
       " (8.63737736621936e-06, 'Exterior2nd_Brk Cmn'),\n",
       " (8.595817832201913e-06, 'BsmtFinType2_Rec'),\n",
       " (7.0894267584596265e-06, 'Exterior2nd_Stucco'),\n",
       " (5.117766231082423e-06, 'Exterior1st_WdShing'),\n",
       " (5.060649548056339e-06, 'BldgType_2fmCon'),\n",
       " (3.3737903855364285e-06, 'GarageQual_TA'),\n",
       " (3.076536032712848e-06, 'GarageCond_Fa'),\n",
       " (2.838019614639724e-06, 'Exterior2nd_AsbShng'),\n",
       " (2.7611337724631473e-06, 'SaleType_ConLD'),\n",
       " (2.356230647319304e-06, 'Functional_Min1'),\n",
       " (2.0378166999853643e-06, 'HouseStyle_1.5Unf'),\n",
       " (1.982347197554544e-06, 'BldgType_Duplex'),\n",
       " (1.7027689194135732e-06, 'BsmtCond_Fa'),\n",
       " (1.3540285552006329e-06, 'BsmtQual_Fa'),\n",
       " (1.1269664173170711e-06, 'RoofStyle_Mansard'),\n",
       " (1.087524023815628e-06, 'Neighborhood_Blmngtn'),\n",
       " (7.107650447563676e-07, 'Neighborhood_BrDale'),\n",
       " (4.976848325627586e-07, 'Condition1_PosA'),\n",
       " (4.521982283224033e-07, 'GarageQual_Gd'),\n",
       " (3.7026331894317717e-07, 'Exterior2nd_AsphShn'),\n",
       " (2.815896869130206e-07, 'GarageCond_Gd'),\n",
       " (2.653961412541173e-07, 'LotShape_IR3'),\n",
       " (2.636217096692222e-07, 'SaleType_Oth'),\n",
       " (1.918149292146819e-07, 'Exterior2nd_CBlock'),\n",
       " (1.625093330817313e-07, 'Exterior1st_AsbShng'),\n",
       " (1.5655694601617566e-07, 'Foundation_Stone'),\n",
       " (1.5454550779250216e-07, 'GarageType_2Types'),\n",
       " (1.5160983600101692e-07, 'SaleType_Con'),\n",
       " (1.1295671865497796e-07, 'GarageQual_Ex'),\n",
       " (3.750257031885087e-08, 'LandSlope_Sev'),\n",
       " (1.3387462951701091e-08, 'HeatingQC_Po'),\n",
       " (1.1116553030786837e-10, 'RoofStyle_Gambrel'),\n",
       " (0.0, 'SaleType_ConLw'),\n",
       " (0.0, 'SaleType_CWD'),\n",
       " (0.0, 'SaleCondition_AdjLand'),\n",
       " (0.0, 'RoofStyle_Shed'),\n",
       " (0.0, 'Neighborhood_MeadowV'),\n",
       " (0.0, 'Neighborhood_Blueste'),\n",
       " (0.0, 'GarageQual_Po'),\n",
       " (0.0, 'GarageCond_Ex'),\n",
       " (0.0, 'Functional_Sev'),\n",
       " (0.0, 'Functional_Maj1'),\n",
       " (0.0, 'Foundation_Wood'),\n",
       " (0.0, 'Exterior2nd_Stone'),\n",
       " (0.0, 'Exterior2nd_ImStucc'),\n",
       " (0.0, 'Exterior1st_Stone'),\n",
       " (0.0, 'Exterior1st_ImStucc'),\n",
       " (0.0, 'Exterior1st_CBlock'),\n",
       " (0.0, 'Exterior1st_BrkComm'),\n",
       " (0.0, 'ExterQual_Fa'),\n",
       " (0.0, 'ExterCond_Ex'),\n",
       " (0.0, 'Electrical_Mix'),\n",
       " (0.0, 'Electrical_FuseP'),\n",
       " (0.0, 'Condition1_RRNn'),\n",
       " (0.0, 'Condition1_RRNe'),\n",
       " (0.0, 'BsmtCond_Po')]"
      ]
     },
     "execution_count": 21,
     "metadata": {},
     "output_type": "execute_result"
    }
   ],
   "source": [
    "rfc.fit(all_X, all_Y)\n",
    "importances = rfc.feature_importances_\n",
    "labeled_importances = []\n",
    "for i in range(len(all_X.columns)):\n",
    "    labeled_importances.append( (importances[i], all_X.columns[i]) )\n",
    "labeled_importances.sort(reverse=True)\n",
    "top_10 = [tup[1] for tup in labeled_importances[:10]]\n",
    "top_20 = [tup[1] for tup in labeled_importances[:20]]\n",
    "top_30 = [tup[1] for tup in labeled_importances[:30]]\n",
    "top_50 = [tup[1] for tup in labeled_importances[:50]]\n",
    "labeled_importances"
   ]
  },
  {
   "cell_type": "code",
   "execution_count": 25,
   "metadata": {
    "scrolled": true
   },
   "outputs": [
    {
     "data": {
      "image/png": "[encoded data removed]",
      "text/plain": [
       "<matplotlib.figure.Figure at 0x10e4754a8>"
      ]
     },
     "metadata": {},
     "output_type": "display_data"
    }
   ],
   "source": [
    "top_n_features = [3,4,5,6,8,10,12,14,17,20,25,30]\n",
    "accuracies = []\n",
    "# this loop calculates \n",
    "for n in top_n_features:\n",
    "    cols = [tup[1] for tup in labeled_importances[:n]]\n",
    "    X_temp = all_X[cols]\n",
    "    rfc_temp = ensemble.RandomForestRegressor()\n",
    "    acc = np.mean(cross_val_score(rfc_temp, X_temp, all_Y, cv=3))\n",
    "    accuracies.append(round(acc, 3))\n",
    "plt.figure(figsize=(8,6))\n",
    "plt.scatter(top_n_features, accuracies, s=90)\n",
    "plt.title(\"Accuracy per top N features\")\n",
    "plt.xlabel(\"Number of top features included\")\n",
    "plt.ylabel(\"Accuracy (R-squared)\")\n",
    "plt.ylim((0,1.05))\n",
    "plt.show()"
   ]
  },
  {
   "cell_type": "markdown",
   "metadata": {},
   "source": [
    "Interesting: it looks like we hit our peak accuracy by about the top 10 features; from then on, we don't really get better or worse.  And indeed, if we run our scores for just the top 10 features:"
   ]
  },
  {
   "cell_type": "code",
   "execution_count": 26,
   "metadata": {},
   "outputs": [
    {
     "name": "stdout",
     "output_type": "stream",
     "text": [
      "[0.83508167 0.85391615 0.74844684 0.86728324 0.86254284 0.86591873\n",
      " 0.87447456 0.80890456]\n",
      "mean score: 0.8395710739326472\n",
      "\n",
      "--- 0.4075620174407959 seconds ---\n"
     ]
    }
   ],
   "source": [
    "start_time = time.time()\n",
    "\n",
    "rfc = ensemble.RandomForestRegressor()\n",
    "cv_scores = cross_val_score(rfc, all_X[top_10], all_Y, cv=8)\n",
    "\n",
    "print(cv_scores)\n",
    "print(\"mean score: \" + str(np.mean(cv_scores)) + \"\\n\")\n",
    "print(\"--- %s seconds ---\" % (time.time() - start_time))"
   ]
  },
  {
   "cell_type": "markdown",
   "metadata": {},
   "source": [
    "We get essentially the same score as we get using all the features, but in less than a third of the time.  So as in the last project, it seems that the accuracy gains after a fairly small number of most-important-features are very marginal, and the time gains from cutting the extra features are significant.\n",
    "\n",
    "MY QUESTION: I can understand why the random forest wouldn't overfit because of the many random trees that will wash out the noise.  But why doesn't the tree overfit?\n"
   ]
  }
 ],
 "metadata": {
  "kernelspec": {
   "display_name": "Python 3",
   "language": "python",
   "name": "python3"
  },
  "language_info": {
   "codemirror_mode": {
    "name": "ipython",
    "version": 3
   },
   "file_extension": ".py",
   "mimetype": "text/x-python",
   "name": "python",
   "nbconvert_exporter": "python",
   "pygments_lexer": "ipython3",
   "version": "3.6.4"
  }
 },
 "nbformat": 4,
 "nbformat_minor": 2
}
